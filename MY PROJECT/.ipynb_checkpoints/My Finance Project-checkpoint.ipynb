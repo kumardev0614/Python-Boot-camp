{
 "cells": [
  {
   "cell_type": "markdown",
   "metadata": {},
   "source": [
    "#                                            Stock Market Analysis using Data Science"
   ]
  },
  {
   "cell_type": "markdown",
   "metadata": {},
   "source": [
    "# Finance Data Project \n",
    "\n",
    "In this data project we will focus on exploratory data analysis of stock prices. Keep in mind, this project is just meant to practice your visualization and pandas skills, it is not meant to be a robust financial analysis or be taken as financial advice.\n",
    "\n",
    "We'll focus on bank stocks and see how they progressed throughout the [financial crisis](https://en.wikipedia.org/wiki/Financial_crisis_of_2007%E2%80%9308) all the way to early 2020."
   ]
  },
  {
   "cell_type": "markdown",
   "metadata": {},
   "source": [
    "## Get the Data\n",
    "\n",
    "In this section we will learn how to use pandas to directly read data from Google finance using pandas!\n",
    "\n",
    "First we need to start with the proper imports, which we've already laid out for here.\n",
    "\n",
    "\n",
    "### The Imports\n"
   ]
  },
  {
   "cell_type": "code",
   "execution_count": 1,
   "metadata": {},
   "outputs": [
    {
     "name": "stderr",
     "output_type": "stream",
     "text": [
      "C:\\Users\\BabaJi\\anaconda3\\lib\\site-packages\\pandas_datareader\\compat\\__init__.py:7: FutureWarning: pandas.util.testing is deprecated. Use the functions in the public API at pandas.testing instead.\n",
      "  from pandas.util.testing import assert_frame_equal\n"
     ]
    },
    {
     "data": {
      "text/html": [
       "        <script type=\"text/javascript\">\n",
       "        window.PlotlyConfig = {MathJaxConfig: 'local'};\n",
       "        if (window.MathJax) {MathJax.Hub.Config({SVG: {font: \"STIX-Web\"}});}\n",
       "        if (typeof require !== 'undefined') {\n",
       "        require.undef(\"plotly\");\n",
       "        requirejs.config({\n",
       "            paths: {\n",
       "                'plotly': ['https://cdn.plot.ly/plotly-latest.min']\n",
       "            }\n",
       "        });\n",
       "        require(['plotly'], function(Plotly) {\n",
       "            window._Plotly = Plotly;\n",
       "        });\n",
       "        }\n",
       "        </script>\n",
       "        "
      ]
     },
     "metadata": {},
     "output_type": "display_data"
    },
    {
     "data": {
      "text/html": [
       "        <script type=\"text/javascript\">\n",
       "        window.PlotlyConfig = {MathJaxConfig: 'local'};\n",
       "        if (window.MathJax) {MathJax.Hub.Config({SVG: {font: \"STIX-Web\"}});}\n",
       "        if (typeof require !== 'undefined') {\n",
       "        require.undef(\"plotly\");\n",
       "        requirejs.config({\n",
       "            paths: {\n",
       "                'plotly': ['https://cdn.plot.ly/plotly-latest.min']\n",
       "            }\n",
       "        });\n",
       "        require(['plotly'], function(Plotly) {\n",
       "            window._Plotly = Plotly;\n",
       "        });\n",
       "        }\n",
       "        </script>\n",
       "        "
      ]
     },
     "metadata": {},
     "output_type": "display_data"
    }
   ],
   "source": [
    "import pandas_datareader.data as web\n",
    "import pandas as pd\n",
    "import numpy as np\n",
    "import seaborn as sns\n",
    "\n",
    "import matplotlib.pyplot as plt\n",
    "%matplotlib inline\n",
    "\n",
    "# Optional Plotly Method Import\n",
    "from plotly.offline import download_plotlyjs, init_notebook_mode, plot, iplot\n",
    "import cufflinks as cf\n",
    "init_notebook_mode(connected=True)\n",
    "cf.go_offline()"
   ]
  },
  {
   "cell_type": "markdown",
   "metadata": {},
   "source": [
    "## Data\n",
    "\n",
    "We need to get data using pandas datareader. We will get stock information for the following banks:\n",
    "*  Bank of America\n",
    "* CitiGroup\n",
    "* Goldman Sachs\n",
    "* JPMorgan Chase\n",
    "* Morgan Stanley\n",
    "* Wells Fargo\n",
    "\n",
    "** We will be Using [this documentation page](https://pandas-datareader.readthedocs.io/en/latest/remote_data.html) for hints and instructions (it should just be a matter of replacing certain values. Use google finance as a source, for example:**\n",
    "    \n",
    "    # Bank of America\n",
    "    BAC = data.DataReader(\"BAC\", 'google', start, end)"
   ]
  },
  {
   "cell_type": "markdown",
   "metadata": {},
   "source": [
    "# Load Data From Servers."
   ]
  },
  {
   "cell_type": "code",
   "execution_count": 2,
   "metadata": {},
   "outputs": [],
   "source": [
    "BAC = web.DataReader('BAC', 'stooq')   #Bank of America\n",
    "C = web.DataReader('C', 'stooq')       # CitiGroup\n",
    "GS = web.DataReader('GS', 'stooq')     # Goldman Sachs\n",
    "JPM = web.DataReader('JPM', 'stooq')   #JPMorgan Chase\n",
    "MS = web.DataReader('MS', 'stooq')     # Morgan Stanley\n",
    "WFC = web.DataReader('WFC', 'stooq')   # Wells Fargo"
   ]
  },
  {
   "cell_type": "markdown",
   "metadata": {},
   "source": [
    "# Check For Updates in date"
   ]
  },
  {
   "cell_type": "code",
   "execution_count": 3,
   "metadata": {},
   "outputs": [
    {
     "data": {
      "text/html": [
       "<div>\n",
       "<style scoped>\n",
       "    .dataframe tbody tr th:only-of-type {\n",
       "        vertical-align: middle;\n",
       "    }\n",
       "\n",
       "    .dataframe tbody tr th {\n",
       "        vertical-align: top;\n",
       "    }\n",
       "\n",
       "    .dataframe thead th {\n",
       "        text-align: right;\n",
       "    }\n",
       "</style>\n",
       "<table border=\"1\" class=\"dataframe\">\n",
       "  <thead>\n",
       "    <tr style=\"text-align: right;\">\n",
       "      <th></th>\n",
       "      <th>Open</th>\n",
       "      <th>High</th>\n",
       "      <th>Low</th>\n",
       "      <th>Close</th>\n",
       "      <th>Volume</th>\n",
       "    </tr>\n",
       "    <tr>\n",
       "      <th>Date</th>\n",
       "      <th></th>\n",
       "      <th></th>\n",
       "      <th></th>\n",
       "      <th></th>\n",
       "      <th></th>\n",
       "    </tr>\n",
       "  </thead>\n",
       "  <tbody>\n",
       "    <tr>\n",
       "      <th>2020-05-26</th>\n",
       "      <td>23.750</td>\n",
       "      <td>24.6000</td>\n",
       "      <td>23.670</td>\n",
       "      <td>24.280</td>\n",
       "      <td>119485461</td>\n",
       "    </tr>\n",
       "    <tr>\n",
       "      <th>2020-05-22</th>\n",
       "      <td>22.930</td>\n",
       "      <td>22.9502</td>\n",
       "      <td>22.460</td>\n",
       "      <td>22.660</td>\n",
       "      <td>48107033</td>\n",
       "    </tr>\n",
       "    <tr>\n",
       "      <th>2020-05-21</th>\n",
       "      <td>22.810</td>\n",
       "      <td>23.2700</td>\n",
       "      <td>22.780</td>\n",
       "      <td>22.900</td>\n",
       "      <td>57725994</td>\n",
       "    </tr>\n",
       "    <tr>\n",
       "      <th>2020-05-20</th>\n",
       "      <td>22.680</td>\n",
       "      <td>23.0000</td>\n",
       "      <td>22.640</td>\n",
       "      <td>22.910</td>\n",
       "      <td>59789478</td>\n",
       "    </tr>\n",
       "    <tr>\n",
       "      <th>2020-05-19</th>\n",
       "      <td>22.660</td>\n",
       "      <td>23.0000</td>\n",
       "      <td>22.185</td>\n",
       "      <td>22.210</td>\n",
       "      <td>62178965</td>\n",
       "    </tr>\n",
       "    <tr>\n",
       "      <th>...</th>\n",
       "      <td>...</td>\n",
       "      <td>...</td>\n",
       "      <td>...</td>\n",
       "      <td>...</td>\n",
       "      <td>...</td>\n",
       "    </tr>\n",
       "    <tr>\n",
       "      <th>2015-06-04</th>\n",
       "      <td>15.508</td>\n",
       "      <td>15.6060</td>\n",
       "      <td>15.369</td>\n",
       "      <td>15.422</td>\n",
       "      <td>66393420</td>\n",
       "    </tr>\n",
       "    <tr>\n",
       "      <th>2015-06-03</th>\n",
       "      <td>15.432</td>\n",
       "      <td>15.6440</td>\n",
       "      <td>15.385</td>\n",
       "      <td>15.562</td>\n",
       "      <td>97497648</td>\n",
       "    </tr>\n",
       "    <tr>\n",
       "      <th>2015-06-02</th>\n",
       "      <td>15.139</td>\n",
       "      <td>15.3590</td>\n",
       "      <td>15.121</td>\n",
       "      <td>15.323</td>\n",
       "      <td>71473683</td>\n",
       "    </tr>\n",
       "    <tr>\n",
       "      <th>2015-06-01</th>\n",
       "      <td>15.194</td>\n",
       "      <td>15.2480</td>\n",
       "      <td>15.093</td>\n",
       "      <td>15.169</td>\n",
       "      <td>68683602</td>\n",
       "    </tr>\n",
       "    <tr>\n",
       "      <th>2015-05-29</th>\n",
       "      <td>15.268</td>\n",
       "      <td>15.2770</td>\n",
       "      <td>15.093</td>\n",
       "      <td>15.121</td>\n",
       "      <td>81041164</td>\n",
       "    </tr>\n",
       "  </tbody>\n",
       "</table>\n",
       "<p>1257 rows × 5 columns</p>\n",
       "</div>"
      ],
      "text/plain": [
       "              Open     High     Low   Close     Volume\n",
       "Date                                                  \n",
       "2020-05-26  23.750  24.6000  23.670  24.280  119485461\n",
       "2020-05-22  22.930  22.9502  22.460  22.660   48107033\n",
       "2020-05-21  22.810  23.2700  22.780  22.900   57725994\n",
       "2020-05-20  22.680  23.0000  22.640  22.910   59789478\n",
       "2020-05-19  22.660  23.0000  22.185  22.210   62178965\n",
       "...            ...      ...     ...     ...        ...\n",
       "2015-06-04  15.508  15.6060  15.369  15.422   66393420\n",
       "2015-06-03  15.432  15.6440  15.385  15.562   97497648\n",
       "2015-06-02  15.139  15.3590  15.121  15.323   71473683\n",
       "2015-06-01  15.194  15.2480  15.093  15.169   68683602\n",
       "2015-05-29  15.268  15.2770  15.093  15.121   81041164\n",
       "\n",
       "[1257 rows x 5 columns]"
      ]
     },
     "execution_count": 3,
     "metadata": {},
     "output_type": "execute_result"
    }
   ],
   "source": [
    "BAC"
   ]
  },
  {
   "cell_type": "markdown",
   "metadata": {},
   "source": [
    "# tickers, To Concatinate The Data"
   ]
  },
  {
   "cell_type": "code",
   "execution_count": 4,
   "metadata": {},
   "outputs": [],
   "source": [
    "tickers = ['BAC', 'C', 'GS', 'JPM', 'MS', 'WFC']"
   ]
  },
  {
   "cell_type": "markdown",
   "metadata": {},
   "source": [
    "** Use pd.concat to concatenate the bank dataframes together to a single data frame called bank_stocks. Set the keys argument equal to the tickers list. Also pay attention to what axis you concatenate on.**"
   ]
  },
  {
   "cell_type": "code",
   "execution_count": 6,
   "metadata": {},
   "outputs": [
    {
     "data": {
      "text/html": [
       "<div>\n",
       "<style scoped>\n",
       "    .dataframe tbody tr th:only-of-type {\n",
       "        vertical-align: middle;\n",
       "    }\n",
       "\n",
       "    .dataframe tbody tr th {\n",
       "        vertical-align: top;\n",
       "    }\n",
       "\n",
       "    .dataframe thead tr th {\n",
       "        text-align: left;\n",
       "    }\n",
       "\n",
       "    .dataframe thead tr:last-of-type th {\n",
       "        text-align: right;\n",
       "    }\n",
       "</style>\n",
       "<table border=\"1\" class=\"dataframe\">\n",
       "  <thead>\n",
       "    <tr>\n",
       "      <th></th>\n",
       "      <th colspan=\"5\" halign=\"left\">BAC</th>\n",
       "      <th colspan=\"5\" halign=\"left\">C</th>\n",
       "      <th>...</th>\n",
       "      <th colspan=\"5\" halign=\"left\">MS</th>\n",
       "      <th colspan=\"5\" halign=\"left\">WFC</th>\n",
       "    </tr>\n",
       "    <tr>\n",
       "      <th></th>\n",
       "      <th>Open</th>\n",
       "      <th>High</th>\n",
       "      <th>Low</th>\n",
       "      <th>Close</th>\n",
       "      <th>Volume</th>\n",
       "      <th>Open</th>\n",
       "      <th>High</th>\n",
       "      <th>Low</th>\n",
       "      <th>Close</th>\n",
       "      <th>Volume</th>\n",
       "      <th>...</th>\n",
       "      <th>Open</th>\n",
       "      <th>High</th>\n",
       "      <th>Low</th>\n",
       "      <th>Close</th>\n",
       "      <th>Volume</th>\n",
       "      <th>Open</th>\n",
       "      <th>High</th>\n",
       "      <th>Low</th>\n",
       "      <th>Close</th>\n",
       "      <th>Volume</th>\n",
       "    </tr>\n",
       "    <tr>\n",
       "      <th>Date</th>\n",
       "      <th></th>\n",
       "      <th></th>\n",
       "      <th></th>\n",
       "      <th></th>\n",
       "      <th></th>\n",
       "      <th></th>\n",
       "      <th></th>\n",
       "      <th></th>\n",
       "      <th></th>\n",
       "      <th></th>\n",
       "      <th></th>\n",
       "      <th></th>\n",
       "      <th></th>\n",
       "      <th></th>\n",
       "      <th></th>\n",
       "      <th></th>\n",
       "      <th></th>\n",
       "      <th></th>\n",
       "      <th></th>\n",
       "      <th></th>\n",
       "      <th></th>\n",
       "    </tr>\n",
       "  </thead>\n",
       "  <tbody>\n",
       "    <tr>\n",
       "      <th>2020-05-26</th>\n",
       "      <td>23.750</td>\n",
       "      <td>24.6000</td>\n",
       "      <td>23.670</td>\n",
       "      <td>24.280</td>\n",
       "      <td>119485461</td>\n",
       "      <td>46.200</td>\n",
       "      <td>48.900</td>\n",
       "      <td>45.980</td>\n",
       "      <td>48.170</td>\n",
       "      <td>34429307</td>\n",
       "      <td>...</td>\n",
       "      <td>41.865</td>\n",
       "      <td>43.7850</td>\n",
       "      <td>41.5500</td>\n",
       "      <td>43.690</td>\n",
       "      <td>19709852</td>\n",
       "      <td>25.050</td>\n",
       "      <td>26.510</td>\n",
       "      <td>25.0400</td>\n",
       "      <td>26.260</td>\n",
       "      <td>57720312</td>\n",
       "    </tr>\n",
       "    <tr>\n",
       "      <th>2020-05-22</th>\n",
       "      <td>22.930</td>\n",
       "      <td>22.9502</td>\n",
       "      <td>22.460</td>\n",
       "      <td>22.660</td>\n",
       "      <td>48107033</td>\n",
       "      <td>44.770</td>\n",
       "      <td>45.045</td>\n",
       "      <td>43.690</td>\n",
       "      <td>44.100</td>\n",
       "      <td>22631719</td>\n",
       "      <td>...</td>\n",
       "      <td>40.230</td>\n",
       "      <td>40.5400</td>\n",
       "      <td>39.8000</td>\n",
       "      <td>40.130</td>\n",
       "      <td>6468870</td>\n",
       "      <td>24.440</td>\n",
       "      <td>24.490</td>\n",
       "      <td>23.9200</td>\n",
       "      <td>24.170</td>\n",
       "      <td>30415297</td>\n",
       "    </tr>\n",
       "    <tr>\n",
       "      <th>2020-05-21</th>\n",
       "      <td>22.810</td>\n",
       "      <td>23.2700</td>\n",
       "      <td>22.780</td>\n",
       "      <td>22.900</td>\n",
       "      <td>57725994</td>\n",
       "      <td>45.170</td>\n",
       "      <td>45.790</td>\n",
       "      <td>44.782</td>\n",
       "      <td>45.000</td>\n",
       "      <td>21698324</td>\n",
       "      <td>...</td>\n",
       "      <td>40.770</td>\n",
       "      <td>40.9300</td>\n",
       "      <td>39.8400</td>\n",
       "      <td>40.300</td>\n",
       "      <td>9654223</td>\n",
       "      <td>24.390</td>\n",
       "      <td>24.850</td>\n",
       "      <td>24.3201</td>\n",
       "      <td>24.460</td>\n",
       "      <td>28376528</td>\n",
       "    </tr>\n",
       "    <tr>\n",
       "      <th>2020-05-20</th>\n",
       "      <td>22.680</td>\n",
       "      <td>23.0000</td>\n",
       "      <td>22.640</td>\n",
       "      <td>22.910</td>\n",
       "      <td>59789478</td>\n",
       "      <td>45.570</td>\n",
       "      <td>46.280</td>\n",
       "      <td>45.220</td>\n",
       "      <td>45.470</td>\n",
       "      <td>23841345</td>\n",
       "      <td>...</td>\n",
       "      <td>40.070</td>\n",
       "      <td>41.2500</td>\n",
       "      <td>40.0386</td>\n",
       "      <td>41.060</td>\n",
       "      <td>12031995</td>\n",
       "      <td>24.490</td>\n",
       "      <td>24.740</td>\n",
       "      <td>24.3600</td>\n",
       "      <td>24.520</td>\n",
       "      <td>45297081</td>\n",
       "    </tr>\n",
       "    <tr>\n",
       "      <th>2020-05-19</th>\n",
       "      <td>22.660</td>\n",
       "      <td>23.0000</td>\n",
       "      <td>22.185</td>\n",
       "      <td>22.210</td>\n",
       "      <td>62178965</td>\n",
       "      <td>45.270</td>\n",
       "      <td>45.790</td>\n",
       "      <td>44.210</td>\n",
       "      <td>44.430</td>\n",
       "      <td>27271584</td>\n",
       "      <td>...</td>\n",
       "      <td>40.100</td>\n",
       "      <td>40.5476</td>\n",
       "      <td>39.2900</td>\n",
       "      <td>39.330</td>\n",
       "      <td>8895495</td>\n",
       "      <td>25.000</td>\n",
       "      <td>25.150</td>\n",
       "      <td>23.9200</td>\n",
       "      <td>23.950</td>\n",
       "      <td>48234338</td>\n",
       "    </tr>\n",
       "    <tr>\n",
       "      <th>...</th>\n",
       "      <td>...</td>\n",
       "      <td>...</td>\n",
       "      <td>...</td>\n",
       "      <td>...</td>\n",
       "      <td>...</td>\n",
       "      <td>...</td>\n",
       "      <td>...</td>\n",
       "      <td>...</td>\n",
       "      <td>...</td>\n",
       "      <td>...</td>\n",
       "      <td>...</td>\n",
       "      <td>...</td>\n",
       "      <td>...</td>\n",
       "      <td>...</td>\n",
       "      <td>...</td>\n",
       "      <td>...</td>\n",
       "      <td>...</td>\n",
       "      <td>...</td>\n",
       "      <td>...</td>\n",
       "      <td>...</td>\n",
       "      <td>...</td>\n",
       "    </tr>\n",
       "    <tr>\n",
       "      <th>2015-06-04</th>\n",
       "      <td>15.508</td>\n",
       "      <td>15.6060</td>\n",
       "      <td>15.369</td>\n",
       "      <td>15.422</td>\n",
       "      <td>66393420</td>\n",
       "      <td>50.549</td>\n",
       "      <td>51.051</td>\n",
       "      <td>50.287</td>\n",
       "      <td>50.441</td>\n",
       "      <td>20312656</td>\n",
       "      <td>...</td>\n",
       "      <td>34.336</td>\n",
       "      <td>34.8520</td>\n",
       "      <td>34.3010</td>\n",
       "      <td>34.398</td>\n",
       "      <td>8677774</td>\n",
       "      <td>47.605</td>\n",
       "      <td>47.906</td>\n",
       "      <td>47.1000</td>\n",
       "      <td>47.275</td>\n",
       "      <td>20931863</td>\n",
       "    </tr>\n",
       "    <tr>\n",
       "      <th>2015-06-03</th>\n",
       "      <td>15.432</td>\n",
       "      <td>15.6440</td>\n",
       "      <td>15.385</td>\n",
       "      <td>15.562</td>\n",
       "      <td>97497648</td>\n",
       "      <td>50.220</td>\n",
       "      <td>51.070</td>\n",
       "      <td>50.149</td>\n",
       "      <td>50.715</td>\n",
       "      <td>23299398</td>\n",
       "      <td>...</td>\n",
       "      <td>34.480</td>\n",
       "      <td>34.8790</td>\n",
       "      <td>34.3190</td>\n",
       "      <td>34.673</td>\n",
       "      <td>8789496</td>\n",
       "      <td>47.565</td>\n",
       "      <td>48.169</td>\n",
       "      <td>47.4550</td>\n",
       "      <td>47.922</td>\n",
       "      <td>19234589</td>\n",
       "    </tr>\n",
       "    <tr>\n",
       "      <th>2015-06-02</th>\n",
       "      <td>15.139</td>\n",
       "      <td>15.3590</td>\n",
       "      <td>15.121</td>\n",
       "      <td>15.323</td>\n",
       "      <td>71473683</td>\n",
       "      <td>49.583</td>\n",
       "      <td>50.159</td>\n",
       "      <td>49.346</td>\n",
       "      <td>49.887</td>\n",
       "      <td>19487638</td>\n",
       "      <td>...</td>\n",
       "      <td>34.159</td>\n",
       "      <td>34.4340</td>\n",
       "      <td>34.0200</td>\n",
       "      <td>34.238</td>\n",
       "      <td>6951314</td>\n",
       "      <td>47.109</td>\n",
       "      <td>47.537</td>\n",
       "      <td>46.9410</td>\n",
       "      <td>47.310</td>\n",
       "      <td>15605900</td>\n",
       "    </tr>\n",
       "    <tr>\n",
       "      <th>2015-06-01</th>\n",
       "      <td>15.194</td>\n",
       "      <td>15.2480</td>\n",
       "      <td>15.093</td>\n",
       "      <td>15.169</td>\n",
       "      <td>68683602</td>\n",
       "      <td>49.849</td>\n",
       "      <td>50.184</td>\n",
       "      <td>49.629</td>\n",
       "      <td>49.638</td>\n",
       "      <td>19916343</td>\n",
       "      <td>...</td>\n",
       "      <td>34.151</td>\n",
       "      <td>34.4150</td>\n",
       "      <td>33.9170</td>\n",
       "      <td>34.291</td>\n",
       "      <td>9934888</td>\n",
       "      <td>47.362</td>\n",
       "      <td>47.573</td>\n",
       "      <td>46.9900</td>\n",
       "      <td>47.192</td>\n",
       "      <td>18698483</td>\n",
       "    </tr>\n",
       "    <tr>\n",
       "      <th>2015-05-29</th>\n",
       "      <td>15.268</td>\n",
       "      <td>15.2770</td>\n",
       "      <td>15.093</td>\n",
       "      <td>15.121</td>\n",
       "      <td>81041164</td>\n",
       "      <td>49.646</td>\n",
       "      <td>49.675</td>\n",
       "      <td>49.111</td>\n",
       "      <td>49.301</td>\n",
       "      <td>15183047</td>\n",
       "      <td>...</td>\n",
       "      <td>34.372</td>\n",
       "      <td>34.4070</td>\n",
       "      <td>33.9260</td>\n",
       "      <td>33.953</td>\n",
       "      <td>8841470</td>\n",
       "      <td>47.334</td>\n",
       "      <td>47.375</td>\n",
       "      <td>46.8880</td>\n",
       "      <td>47.125</td>\n",
       "      <td>20533464</td>\n",
       "    </tr>\n",
       "  </tbody>\n",
       "</table>\n",
       "<p>1257 rows × 30 columns</p>\n",
       "</div>"
      ],
      "text/plain": [
       "               BAC                                           C          \\\n",
       "              Open     High     Low   Close     Volume    Open    High   \n",
       "Date                                                                     \n",
       "2020-05-26  23.750  24.6000  23.670  24.280  119485461  46.200  48.900   \n",
       "2020-05-22  22.930  22.9502  22.460  22.660   48107033  44.770  45.045   \n",
       "2020-05-21  22.810  23.2700  22.780  22.900   57725994  45.170  45.790   \n",
       "2020-05-20  22.680  23.0000  22.640  22.910   59789478  45.570  46.280   \n",
       "2020-05-19  22.660  23.0000  22.185  22.210   62178965  45.270  45.790   \n",
       "...            ...      ...     ...     ...        ...     ...     ...   \n",
       "2015-06-04  15.508  15.6060  15.369  15.422   66393420  50.549  51.051   \n",
       "2015-06-03  15.432  15.6440  15.385  15.562   97497648  50.220  51.070   \n",
       "2015-06-02  15.139  15.3590  15.121  15.323   71473683  49.583  50.159   \n",
       "2015-06-01  15.194  15.2480  15.093  15.169   68683602  49.849  50.184   \n",
       "2015-05-29  15.268  15.2770  15.093  15.121   81041164  49.646  49.675   \n",
       "\n",
       "                                      ...      MS                            \\\n",
       "               Low   Close    Volume  ...    Open     High      Low   Close   \n",
       "Date                                  ...                                     \n",
       "2020-05-26  45.980  48.170  34429307  ...  41.865  43.7850  41.5500  43.690   \n",
       "2020-05-22  43.690  44.100  22631719  ...  40.230  40.5400  39.8000  40.130   \n",
       "2020-05-21  44.782  45.000  21698324  ...  40.770  40.9300  39.8400  40.300   \n",
       "2020-05-20  45.220  45.470  23841345  ...  40.070  41.2500  40.0386  41.060   \n",
       "2020-05-19  44.210  44.430  27271584  ...  40.100  40.5476  39.2900  39.330   \n",
       "...            ...     ...       ...  ...     ...      ...      ...     ...   \n",
       "2015-06-04  50.287  50.441  20312656  ...  34.336  34.8520  34.3010  34.398   \n",
       "2015-06-03  50.149  50.715  23299398  ...  34.480  34.8790  34.3190  34.673   \n",
       "2015-06-02  49.346  49.887  19487638  ...  34.159  34.4340  34.0200  34.238   \n",
       "2015-06-01  49.629  49.638  19916343  ...  34.151  34.4150  33.9170  34.291   \n",
       "2015-05-29  49.111  49.301  15183047  ...  34.372  34.4070  33.9260  33.953   \n",
       "\n",
       "                         WFC                                     \n",
       "              Volume    Open    High      Low   Close    Volume  \n",
       "Date                                                             \n",
       "2020-05-26  19709852  25.050  26.510  25.0400  26.260  57720312  \n",
       "2020-05-22   6468870  24.440  24.490  23.9200  24.170  30415297  \n",
       "2020-05-21   9654223  24.390  24.850  24.3201  24.460  28376528  \n",
       "2020-05-20  12031995  24.490  24.740  24.3600  24.520  45297081  \n",
       "2020-05-19   8895495  25.000  25.150  23.9200  23.950  48234338  \n",
       "...              ...     ...     ...      ...     ...       ...  \n",
       "2015-06-04   8677774  47.605  47.906  47.1000  47.275  20931863  \n",
       "2015-06-03   8789496  47.565  48.169  47.4550  47.922  19234589  \n",
       "2015-06-02   6951314  47.109  47.537  46.9410  47.310  15605900  \n",
       "2015-06-01   9934888  47.362  47.573  46.9900  47.192  18698483  \n",
       "2015-05-29   8841470  47.334  47.375  46.8880  47.125  20533464  \n",
       "\n",
       "[1257 rows x 30 columns]"
      ]
     },
     "execution_count": 6,
     "metadata": {},
     "output_type": "execute_result"
    }
   ],
   "source": [
    "bank_stocks = pd.concat([BAC, C, GS, JPM, MS, WFC], keys=tickers, axis=1)\n",
    "bank_stocks"
   ]
  },
  {
   "cell_type": "markdown",
   "metadata": {},
   "source": [
    "# Save Data in File"
   ]
  },
  {
   "cell_type": "code",
   "execution_count": 7,
   "metadata": {},
   "outputs": [],
   "source": [
    "bank_stocks.to_csv('my_bank_stocks.csv')"
   ]
  },
  {
   "cell_type": "markdown",
   "metadata": {},
   "source": [
    "** Set the column name levels (this is filled out for you):**"
   ]
  },
  {
   "cell_type": "markdown",
   "metadata": {},
   "source": [
    "# Add Column Names"
   ]
  },
  {
   "cell_type": "code",
   "execution_count": 7,
   "metadata": {},
   "outputs": [],
   "source": [
    "bank_stocks.columns.names = ['Bank Ticker','Stock Info']"
   ]
  },
  {
   "cell_type": "markdown",
   "metadata": {},
   "source": [
    "** Check the head of the bank_stocks dataframe.**"
   ]
  },
  {
   "cell_type": "markdown",
   "metadata": {},
   "source": [
    "# Check Head() "
   ]
  },
  {
   "cell_type": "code",
   "execution_count": 9,
   "metadata": {},
   "outputs": [
    {
     "data": {
      "text/html": [
       "<div>\n",
       "<style scoped>\n",
       "    .dataframe tbody tr th:only-of-type {\n",
       "        vertical-align: middle;\n",
       "    }\n",
       "\n",
       "    .dataframe tbody tr th {\n",
       "        vertical-align: top;\n",
       "    }\n",
       "\n",
       "    .dataframe thead tr th {\n",
       "        text-align: left;\n",
       "    }\n",
       "\n",
       "    .dataframe thead tr:last-of-type th {\n",
       "        text-align: right;\n",
       "    }\n",
       "</style>\n",
       "<table border=\"1\" class=\"dataframe\">\n",
       "  <thead>\n",
       "    <tr>\n",
       "      <th>Bank Ticker</th>\n",
       "      <th colspan=\"5\" halign=\"left\">BAC</th>\n",
       "      <th colspan=\"5\" halign=\"left\">C</th>\n",
       "      <th>...</th>\n",
       "      <th colspan=\"5\" halign=\"left\">MS</th>\n",
       "      <th colspan=\"5\" halign=\"left\">WFC</th>\n",
       "    </tr>\n",
       "    <tr>\n",
       "      <th>Stock Info</th>\n",
       "      <th>Open</th>\n",
       "      <th>High</th>\n",
       "      <th>Low</th>\n",
       "      <th>Close</th>\n",
       "      <th>Volume</th>\n",
       "      <th>Open</th>\n",
       "      <th>High</th>\n",
       "      <th>Low</th>\n",
       "      <th>Close</th>\n",
       "      <th>Volume</th>\n",
       "      <th>...</th>\n",
       "      <th>Open</th>\n",
       "      <th>High</th>\n",
       "      <th>Low</th>\n",
       "      <th>Close</th>\n",
       "      <th>Volume</th>\n",
       "      <th>Open</th>\n",
       "      <th>High</th>\n",
       "      <th>Low</th>\n",
       "      <th>Close</th>\n",
       "      <th>Volume</th>\n",
       "    </tr>\n",
       "    <tr>\n",
       "      <th>Date</th>\n",
       "      <th></th>\n",
       "      <th></th>\n",
       "      <th></th>\n",
       "      <th></th>\n",
       "      <th></th>\n",
       "      <th></th>\n",
       "      <th></th>\n",
       "      <th></th>\n",
       "      <th></th>\n",
       "      <th></th>\n",
       "      <th></th>\n",
       "      <th></th>\n",
       "      <th></th>\n",
       "      <th></th>\n",
       "      <th></th>\n",
       "      <th></th>\n",
       "      <th></th>\n",
       "      <th></th>\n",
       "      <th></th>\n",
       "      <th></th>\n",
       "      <th></th>\n",
       "    </tr>\n",
       "  </thead>\n",
       "  <tbody>\n",
       "    <tr>\n",
       "      <th>2020-05-26</th>\n",
       "      <td>23.75</td>\n",
       "      <td>24.6000</td>\n",
       "      <td>23.670</td>\n",
       "      <td>24.28</td>\n",
       "      <td>119485461</td>\n",
       "      <td>46.20</td>\n",
       "      <td>48.900</td>\n",
       "      <td>45.980</td>\n",
       "      <td>48.17</td>\n",
       "      <td>34429307</td>\n",
       "      <td>...</td>\n",
       "      <td>41.865</td>\n",
       "      <td>43.7850</td>\n",
       "      <td>41.5500</td>\n",
       "      <td>43.69</td>\n",
       "      <td>19709852</td>\n",
       "      <td>25.05</td>\n",
       "      <td>26.51</td>\n",
       "      <td>25.0400</td>\n",
       "      <td>26.26</td>\n",
       "      <td>57720312</td>\n",
       "    </tr>\n",
       "    <tr>\n",
       "      <th>2020-05-22</th>\n",
       "      <td>22.93</td>\n",
       "      <td>22.9502</td>\n",
       "      <td>22.460</td>\n",
       "      <td>22.66</td>\n",
       "      <td>48107033</td>\n",
       "      <td>44.77</td>\n",
       "      <td>45.045</td>\n",
       "      <td>43.690</td>\n",
       "      <td>44.10</td>\n",
       "      <td>22631719</td>\n",
       "      <td>...</td>\n",
       "      <td>40.230</td>\n",
       "      <td>40.5400</td>\n",
       "      <td>39.8000</td>\n",
       "      <td>40.13</td>\n",
       "      <td>6468870</td>\n",
       "      <td>24.44</td>\n",
       "      <td>24.49</td>\n",
       "      <td>23.9200</td>\n",
       "      <td>24.17</td>\n",
       "      <td>30415297</td>\n",
       "    </tr>\n",
       "    <tr>\n",
       "      <th>2020-05-21</th>\n",
       "      <td>22.81</td>\n",
       "      <td>23.2700</td>\n",
       "      <td>22.780</td>\n",
       "      <td>22.90</td>\n",
       "      <td>57725994</td>\n",
       "      <td>45.17</td>\n",
       "      <td>45.790</td>\n",
       "      <td>44.782</td>\n",
       "      <td>45.00</td>\n",
       "      <td>21698324</td>\n",
       "      <td>...</td>\n",
       "      <td>40.770</td>\n",
       "      <td>40.9300</td>\n",
       "      <td>39.8400</td>\n",
       "      <td>40.30</td>\n",
       "      <td>9654223</td>\n",
       "      <td>24.39</td>\n",
       "      <td>24.85</td>\n",
       "      <td>24.3201</td>\n",
       "      <td>24.46</td>\n",
       "      <td>28376528</td>\n",
       "    </tr>\n",
       "    <tr>\n",
       "      <th>2020-05-20</th>\n",
       "      <td>22.68</td>\n",
       "      <td>23.0000</td>\n",
       "      <td>22.640</td>\n",
       "      <td>22.91</td>\n",
       "      <td>59789478</td>\n",
       "      <td>45.57</td>\n",
       "      <td>46.280</td>\n",
       "      <td>45.220</td>\n",
       "      <td>45.47</td>\n",
       "      <td>23841345</td>\n",
       "      <td>...</td>\n",
       "      <td>40.070</td>\n",
       "      <td>41.2500</td>\n",
       "      <td>40.0386</td>\n",
       "      <td>41.06</td>\n",
       "      <td>12031995</td>\n",
       "      <td>24.49</td>\n",
       "      <td>24.74</td>\n",
       "      <td>24.3600</td>\n",
       "      <td>24.52</td>\n",
       "      <td>45297081</td>\n",
       "    </tr>\n",
       "    <tr>\n",
       "      <th>2020-05-19</th>\n",
       "      <td>22.66</td>\n",
       "      <td>23.0000</td>\n",
       "      <td>22.185</td>\n",
       "      <td>22.21</td>\n",
       "      <td>62178965</td>\n",
       "      <td>45.27</td>\n",
       "      <td>45.790</td>\n",
       "      <td>44.210</td>\n",
       "      <td>44.43</td>\n",
       "      <td>27271584</td>\n",
       "      <td>...</td>\n",
       "      <td>40.100</td>\n",
       "      <td>40.5476</td>\n",
       "      <td>39.2900</td>\n",
       "      <td>39.33</td>\n",
       "      <td>8895495</td>\n",
       "      <td>25.00</td>\n",
       "      <td>25.15</td>\n",
       "      <td>23.9200</td>\n",
       "      <td>23.95</td>\n",
       "      <td>48234338</td>\n",
       "    </tr>\n",
       "  </tbody>\n",
       "</table>\n",
       "<p>5 rows × 30 columns</p>\n",
       "</div>"
      ],
      "text/plain": [
       "Bank Ticker    BAC                                         C                  \\\n",
       "Stock Info    Open     High     Low  Close     Volume   Open    High     Low   \n",
       "Date                                                                           \n",
       "2020-05-26   23.75  24.6000  23.670  24.28  119485461  46.20  48.900  45.980   \n",
       "2020-05-22   22.93  22.9502  22.460  22.66   48107033  44.77  45.045  43.690   \n",
       "2020-05-21   22.81  23.2700  22.780  22.90   57725994  45.17  45.790  44.782   \n",
       "2020-05-20   22.68  23.0000  22.640  22.91   59789478  45.57  46.280  45.220   \n",
       "2020-05-19   22.66  23.0000  22.185  22.21   62178965  45.27  45.790  44.210   \n",
       "\n",
       "Bank Ticker                   ...      MS                                     \\\n",
       "Stock Info   Close    Volume  ...    Open     High      Low  Close    Volume   \n",
       "Date                          ...                                              \n",
       "2020-05-26   48.17  34429307  ...  41.865  43.7850  41.5500  43.69  19709852   \n",
       "2020-05-22   44.10  22631719  ...  40.230  40.5400  39.8000  40.13   6468870   \n",
       "2020-05-21   45.00  21698324  ...  40.770  40.9300  39.8400  40.30   9654223   \n",
       "2020-05-20   45.47  23841345  ...  40.070  41.2500  40.0386  41.06  12031995   \n",
       "2020-05-19   44.43  27271584  ...  40.100  40.5476  39.2900  39.33   8895495   \n",
       "\n",
       "Bank Ticker    WFC                                   \n",
       "Stock Info    Open   High      Low  Close    Volume  \n",
       "Date                                                 \n",
       "2020-05-26   25.05  26.51  25.0400  26.26  57720312  \n",
       "2020-05-22   24.44  24.49  23.9200  24.17  30415297  \n",
       "2020-05-21   24.39  24.85  24.3201  24.46  28376528  \n",
       "2020-05-20   24.49  24.74  24.3600  24.52  45297081  \n",
       "2020-05-19   25.00  25.15  23.9200  23.95  48234338  \n",
       "\n",
       "[5 rows x 30 columns]"
      ]
     },
     "execution_count": 9,
     "metadata": {},
     "output_type": "execute_result"
    }
   ],
   "source": [
    "bank_stocks.head()"
   ]
  },
  {
   "cell_type": "markdown",
   "metadata": {},
   "source": [
    "# EDA\n",
    "#### Exploratory data analysis\n",
    "Let's explore the data a bit! Before continuing.\n",
    "In statistics, exploratory data analysis (EDA) is an approach to analyzing data sets to summarize their main characteristics, often with visual methods. A statistical model can be used or not, but primarily EDA is for seeing what the data can tell us beyond the formal modeling or hypothesis testing task.\n",
    "\n",
    "** What is the max Close price for each bank's stock throughout the time period?**"
   ]
  },
  {
   "cell_type": "code",
   "execution_count": 10,
   "metadata": {},
   "outputs": [
    {
     "data": {
      "text/plain": [
       "Bank Ticker\n",
       "BAC     35.414\n",
       "C       80.515\n",
       "GS     263.350\n",
       "JPM    138.750\n",
       "MS      56.637\n",
       "WFC     59.723\n",
       "dtype: float64"
      ]
     },
     "execution_count": 10,
     "metadata": {},
     "output_type": "execute_result"
    }
   ],
   "source": [
    "bank_stocks.xs(key='Close', axis=1, level='Stock Info').max()"
   ]
  },
  {
   "cell_type": "markdown",
   "metadata": {},
   "source": [
    "# Returns of Stocks"
   ]
  },
  {
   "cell_type": "markdown",
   "metadata": {},
   "source": [
    "** Create a new empty DataFrame called returns. This dataframe will contain the returns for each bank's stock. returns are typically defined by:**\n",
    "\n",
    "$$r_t = \\frac{p_t - p_{t-1}}{p_{t-1}} = \\frac{p_t}{p_{t-1}} - 1$$"
   ]
  },
  {
   "cell_type": "code",
   "execution_count": 11,
   "metadata": {},
   "outputs": [],
   "source": [
    "returns = pd.DataFrame()"
   ]
  },
  {
   "cell_type": "markdown",
   "metadata": {},
   "source": [
    "** We can use pandas pct_change() method on the Close column to create a column representing this return value. Create a for loop that goes and for each Bank Stock Ticker creates this returns column and set's it as a column in the returns DataFrame.**"
   ]
  },
  {
   "cell_type": "code",
   "execution_count": 12,
   "metadata": {},
   "outputs": [],
   "source": [
    "for tick in tickers:\n",
    "    returns[tick + ' Return'] = bank_stocks[tick].xs(key='Close', axis=1,).pct_change()"
   ]
  },
  {
   "cell_type": "code",
   "execution_count": 13,
   "metadata": {},
   "outputs": [
    {
     "data": {
      "text/html": [
       "<div>\n",
       "<style scoped>\n",
       "    .dataframe tbody tr th:only-of-type {\n",
       "        vertical-align: middle;\n",
       "    }\n",
       "\n",
       "    .dataframe tbody tr th {\n",
       "        vertical-align: top;\n",
       "    }\n",
       "\n",
       "    .dataframe thead th {\n",
       "        text-align: right;\n",
       "    }\n",
       "</style>\n",
       "<table border=\"1\" class=\"dataframe\">\n",
       "  <thead>\n",
       "    <tr style=\"text-align: right;\">\n",
       "      <th></th>\n",
       "      <th>BAC Return</th>\n",
       "      <th>C Return</th>\n",
       "      <th>GS Return</th>\n",
       "      <th>JPM Return</th>\n",
       "      <th>MS Return</th>\n",
       "      <th>WFC Return</th>\n",
       "    </tr>\n",
       "    <tr>\n",
       "      <th>Date</th>\n",
       "      <th></th>\n",
       "      <th></th>\n",
       "      <th></th>\n",
       "      <th></th>\n",
       "      <th></th>\n",
       "      <th></th>\n",
       "    </tr>\n",
       "  </thead>\n",
       "  <tbody>\n",
       "    <tr>\n",
       "      <th>2020-05-26</th>\n",
       "      <td>NaN</td>\n",
       "      <td>NaN</td>\n",
       "      <td>NaN</td>\n",
       "      <td>NaN</td>\n",
       "      <td>NaN</td>\n",
       "      <td>NaN</td>\n",
       "    </tr>\n",
       "    <tr>\n",
       "      <th>2020-05-22</th>\n",
       "      <td>-0.066722</td>\n",
       "      <td>-0.084492</td>\n",
       "      <td>-0.082271</td>\n",
       "      <td>-0.066270</td>\n",
       "      <td>-0.081483</td>\n",
       "      <td>-0.079589</td>\n",
       "    </tr>\n",
       "    <tr>\n",
       "      <th>2020-05-21</th>\n",
       "      <td>0.010591</td>\n",
       "      <td>0.020408</td>\n",
       "      <td>0.000945</td>\n",
       "      <td>0.007824</td>\n",
       "      <td>0.004236</td>\n",
       "      <td>0.011998</td>\n",
       "    </tr>\n",
       "    <tr>\n",
       "      <th>2020-05-20</th>\n",
       "      <td>0.000437</td>\n",
       "      <td>0.010444</td>\n",
       "      <td>0.007440</td>\n",
       "      <td>0.012865</td>\n",
       "      <td>0.018859</td>\n",
       "      <td>0.002453</td>\n",
       "    </tr>\n",
       "    <tr>\n",
       "      <th>2020-05-19</th>\n",
       "      <td>-0.030554</td>\n",
       "      <td>-0.022872</td>\n",
       "      <td>-0.019896</td>\n",
       "      <td>-0.029125</td>\n",
       "      <td>-0.042133</td>\n",
       "      <td>-0.023246</td>\n",
       "    </tr>\n",
       "    <tr>\n",
       "      <th>...</th>\n",
       "      <td>...</td>\n",
       "      <td>...</td>\n",
       "      <td>...</td>\n",
       "      <td>...</td>\n",
       "      <td>...</td>\n",
       "      <td>...</td>\n",
       "    </tr>\n",
       "    <tr>\n",
       "      <th>2015-06-04</th>\n",
       "      <td>-0.023862</td>\n",
       "      <td>-0.016169</td>\n",
       "      <td>-0.007325</td>\n",
       "      <td>-0.016185</td>\n",
       "      <td>-0.015005</td>\n",
       "      <td>-0.008328</td>\n",
       "    </tr>\n",
       "    <tr>\n",
       "      <th>2015-06-03</th>\n",
       "      <td>0.009078</td>\n",
       "      <td>0.005432</td>\n",
       "      <td>-0.002890</td>\n",
       "      <td>0.005576</td>\n",
       "      <td>0.007995</td>\n",
       "      <td>0.013686</td>\n",
       "    </tr>\n",
       "    <tr>\n",
       "      <th>2015-06-02</th>\n",
       "      <td>-0.015358</td>\n",
       "      <td>-0.016327</td>\n",
       "      <td>-0.009004</td>\n",
       "      <td>-0.010163</td>\n",
       "      <td>-0.012546</td>\n",
       "      <td>-0.012771</td>\n",
       "    </tr>\n",
       "    <tr>\n",
       "      <th>2015-06-01</th>\n",
       "      <td>-0.010050</td>\n",
       "      <td>-0.004991</td>\n",
       "      <td>0.006789</td>\n",
       "      <td>0.000902</td>\n",
       "      <td>0.001548</td>\n",
       "      <td>-0.002494</td>\n",
       "    </tr>\n",
       "    <tr>\n",
       "      <th>2015-05-29</th>\n",
       "      <td>-0.003164</td>\n",
       "      <td>-0.006789</td>\n",
       "      <td>-0.007884</td>\n",
       "      <td>-0.004557</td>\n",
       "      <td>-0.009857</td>\n",
       "      <td>-0.001420</td>\n",
       "    </tr>\n",
       "  </tbody>\n",
       "</table>\n",
       "<p>1257 rows × 6 columns</p>\n",
       "</div>"
      ],
      "text/plain": [
       "            BAC Return  C Return  GS Return  JPM Return  MS Return  WFC Return\n",
       "Date                                                                          \n",
       "2020-05-26         NaN       NaN        NaN         NaN        NaN         NaN\n",
       "2020-05-22   -0.066722 -0.084492  -0.082271   -0.066270  -0.081483   -0.079589\n",
       "2020-05-21    0.010591  0.020408   0.000945    0.007824   0.004236    0.011998\n",
       "2020-05-20    0.000437  0.010444   0.007440    0.012865   0.018859    0.002453\n",
       "2020-05-19   -0.030554 -0.022872  -0.019896   -0.029125  -0.042133   -0.023246\n",
       "...                ...       ...        ...         ...        ...         ...\n",
       "2015-06-04   -0.023862 -0.016169  -0.007325   -0.016185  -0.015005   -0.008328\n",
       "2015-06-03    0.009078  0.005432  -0.002890    0.005576   0.007995    0.013686\n",
       "2015-06-02   -0.015358 -0.016327  -0.009004   -0.010163  -0.012546   -0.012771\n",
       "2015-06-01   -0.010050 -0.004991   0.006789    0.000902   0.001548   -0.002494\n",
       "2015-05-29   -0.003164 -0.006789  -0.007884   -0.004557  -0.009857   -0.001420\n",
       "\n",
       "[1257 rows x 6 columns]"
      ]
     },
     "execution_count": 13,
     "metadata": {},
     "output_type": "execute_result"
    }
   ],
   "source": [
    "returns"
   ]
  },
  {
   "cell_type": "markdown",
   "metadata": {},
   "source": [
    "# Comparision of Returns of Stocks."
   ]
  },
  {
   "cell_type": "markdown",
   "metadata": {},
   "source": [
    "** Create a pairplot using seaborn of the returns dataframe. What stock stands out to you? Can you figure out why?**"
   ]
  },
  {
   "cell_type": "markdown",
   "metadata": {},
   "source": [
    "### Line Plot Comparision"
   ]
  },
  {
   "cell_type": "code",
   "execution_count": 14,
   "metadata": {},
   "outputs": [
    {
     "data": {
      "application/vnd.plotly.v1+json": {
       "config": {
        "linkText": "Export to plot.ly",
        "plotlyServerURL": "https://plot.ly",
        "showLink": true
       },
       "data": [
        {
         "line": {
          "color": "rgba(255, 153, 51, 1.0)",
          "dash": "solid",
          "shape": "linear",
          "width": 1.3
         },
         "mode": "lines",
         "name": "BAC Return",
         "text": "",
         "type": "scatter",
         "x": [
          "2020-05-22",
          "2020-05-21",
          "2020-05-20",
          "2020-05-19",
          "2020-05-18",
          "2020-05-15",
          "2020-05-14",
          "2020-05-13",
          "2020-05-12",
          "2020-05-11",
          "2020-05-08",
          "2020-05-07",
          "2020-05-06",
          "2020-05-05",
          "2020-05-04",
          "2020-05-01",
          "2020-04-30",
          "2020-04-29",
          "2020-04-28",
          "2020-04-27",
          "2020-04-24",
          "2020-04-23",
          "2020-04-22",
          "2020-04-21",
          "2020-04-20",
          "2020-04-17",
          "2020-04-16",
          "2020-04-15",
          "2020-04-14",
          "2020-04-13",
          "2020-04-09",
          "2020-04-08",
          "2020-04-07",
          "2020-04-06",
          "2020-04-03",
          "2020-04-02",
          "2020-04-01",
          "2020-03-31",
          "2020-03-30",
          "2020-03-27",
          "2020-03-26",
          "2020-03-25",
          "2020-03-24",
          "2020-03-23",
          "2020-03-20",
          "2020-03-19",
          "2020-03-18",
          "2020-03-17",
          "2020-03-16",
          "2020-03-13",
          "2020-03-12",
          "2020-03-11",
          "2020-03-10",
          "2020-03-09",
          "2020-03-06",
          "2020-03-05",
          "2020-03-04",
          "2020-03-03",
          "2020-03-02",
          "2020-02-28",
          "2020-02-27",
          "2020-02-26",
          "2020-02-25",
          "2020-02-24",
          "2020-02-21",
          "2020-02-20",
          "2020-02-19",
          "2020-02-18",
          "2020-02-14",
          "2020-02-13",
          "2020-02-12",
          "2020-02-11",
          "2020-02-10",
          "2020-02-07",
          "2020-02-06",
          "2020-02-05",
          "2020-02-04",
          "2020-02-03",
          "2020-01-31",
          "2020-01-30",
          "2020-01-29",
          "2020-01-28",
          "2020-01-27",
          "2020-01-24",
          "2020-01-23",
          "2020-01-22",
          "2020-01-21",
          "2020-01-17",
          "2020-01-16",
          "2020-01-15",
          "2020-01-14",
          "2020-01-13",
          "2020-01-10",
          "2020-01-09",
          "2020-01-08",
          "2020-01-07",
          "2020-01-06",
          "2020-01-03",
          "2020-01-02"
         ],
         "y": [
          -0.06672158154859975,
          0.010591350397175514,
          0.0004366812227074579,
          -0.030554343081623747,
          0.03241782980639352,
          -0.0649803750545137,
          0.012593283582089443,
          -0.038691847075080554,
          0.04791566842357442,
          0.0324645633287608,
          0.0438441098317095,
          -0.030971574034790006,
          -0.021453590192644367,
          0.013870246085011084,
          0.011915269196822509,
          0.0065416484954208265,
          0.04202772963604873,
          0.0303534303534303,
          -0.035916061339790195,
          -0.017580577647551388,
          -0.054963783553472534,
          -0.013976555455365136,
          -0.0032007315957933713,
          -0.007339449541284404,
          0.03974121996303137,
          0.03466666666666662,
          -0.07989690721649478,
          0.035947712418300526,
          0.06940063091482651,
          0.008006742520016985,
          0.03929765886287617,
          -0.056717618664521297,
          -0.05586353944562894,
          -0.03387533875338755,
          -0.06358111266947164,
          0.026959560659011395,
          -0.038891589693728745,
          0.07384926656550328,
          0.03815355628827133,
          -0.019963702359346525,
          0.051851851851851816,
          -0.07130281690140838,
          -0.0033175355450236754,
          -0.14027579648121746,
          0.08794247787610643,
          0.07778342653787473,
          -0.019339622641509457,
          0.05723905723905731,
          -0.07006369426751591,
          0.18199608610567508,
          -0.15107615894039728,
          0.10531448074110195,
          0.04146449051610057,
          -0.0711562897077509,
          0.1723666210670316,
          0.04161804745235309,
          0.05339805825242716,
          -0.02254519673874511,
          0.0583883368390512,
          -0.02963952850877183,
          0.0221053003284013,
          0.05151148730350674,
          0.014686555394927137,
          0.05307126898293535,
          0.049812434659614935,
          0.014263956417315926,
          -0.003725201420774482,
          -0.012956521739130311,
          0.016914809267905673,
          0.0017326518236160382,
          0.0002882758223066162,
          -0.0042940718752702,
          -0.0023154848046309517,
          -0.002291847983754036,
          0.001715565118781237,
          0.0011611030478955175,
          -0.03140040591475801,
          -0.0193372646451343,
          -0.004242849729861553,
          0.01980258721108452,
          -0.014037513526511947,
          0.006951007591232017,
          -0.011716975990796241,
          0.020985233747932153,
          0.01731328952500988,
          0.007019820670127297,
          -0.0028996543846288025,
          0.013130452662808878,
          0.0002899391127861861,
          -0.0014492753623187582,
          0.01875181422351213,
          -0.007351265101435911,
          -0.009127963717779353,
          0.008342989571263004,
          -0.0017237416685818019,
          -0.009986186255324325,
          0.006627714310630584,
          0.0014438765196802539,
          0.021194382767669273
         ]
        },
        {
         "line": {
          "color": "rgba(55, 128, 191, 1.0)",
          "dash": "solid",
          "shape": "linear",
          "width": 1.3
         },
         "mode": "lines",
         "name": "C Return",
         "text": "",
         "type": "scatter",
         "x": [
          "2020-05-22",
          "2020-05-21",
          "2020-05-20",
          "2020-05-19",
          "2020-05-18",
          "2020-05-15",
          "2020-05-14",
          "2020-05-13",
          "2020-05-12",
          "2020-05-11",
          "2020-05-08",
          "2020-05-07",
          "2020-05-06",
          "2020-05-05",
          "2020-05-04",
          "2020-05-01",
          "2020-04-30",
          "2020-04-29",
          "2020-04-28",
          "2020-04-27",
          "2020-04-24",
          "2020-04-23",
          "2020-04-22",
          "2020-04-21",
          "2020-04-20",
          "2020-04-17",
          "2020-04-16",
          "2020-04-15",
          "2020-04-14",
          "2020-04-13",
          "2020-04-09",
          "2020-04-08",
          "2020-04-07",
          "2020-04-06",
          "2020-04-03",
          "2020-04-02",
          "2020-04-01",
          "2020-03-31",
          "2020-03-30",
          "2020-03-27",
          "2020-03-26",
          "2020-03-25",
          "2020-03-24",
          "2020-03-23",
          "2020-03-20",
          "2020-03-19",
          "2020-03-18",
          "2020-03-17",
          "2020-03-16",
          "2020-03-13",
          "2020-03-12",
          "2020-03-11",
          "2020-03-10",
          "2020-03-09",
          "2020-03-06",
          "2020-03-05",
          "2020-03-04",
          "2020-03-03",
          "2020-03-02",
          "2020-02-28",
          "2020-02-27",
          "2020-02-26",
          "2020-02-25",
          "2020-02-24",
          "2020-02-21",
          "2020-02-20",
          "2020-02-19",
          "2020-02-18",
          "2020-02-14",
          "2020-02-13",
          "2020-02-12",
          "2020-02-11",
          "2020-02-10",
          "2020-02-07",
          "2020-02-06",
          "2020-02-05",
          "2020-02-04",
          "2020-02-03",
          "2020-01-31",
          "2020-01-30",
          "2020-01-29",
          "2020-01-28",
          "2020-01-27",
          "2020-01-24",
          "2020-01-23",
          "2020-01-22",
          "2020-01-21",
          "2020-01-17",
          "2020-01-16",
          "2020-01-15",
          "2020-01-14",
          "2020-01-13",
          "2020-01-10",
          "2020-01-09",
          "2020-01-08",
          "2020-01-07",
          "2020-01-06",
          "2020-01-03",
          "2020-01-02"
         ],
         "y": [
          -0.08449242266971146,
          0.020408163265306145,
          0.010444444444444478,
          -0.02287222344402906,
          0.0279090704478957,
          -0.08211079483249395,
          0.0033396946564885344,
          -0.03471231573941991,
          0.0431034482758621,
          0.040613931523022506,
          0.051055139550714834,
          -0.03626943005181349,
          -0.03785842293906805,
          0.02328288707799775,
          0.02662116040955609,
          0.00886524822695045,
          0.055579964850615005,
          0.03500520291363163,
          -0.06068527306362104,
          -0.013764610181101866,
          -0.07432007119446082,
          -0.014842779093488523,
          -0.005188746608273176,
          -0.01586276198679304,
          0.058711983079279495,
          0.0327225130890052,
          -0.10848731461098882,
          0.05776425400309271,
          0.05972647960386723,
          0.0277462563691786,
          0.015631088980298857,
          -0.06644355388813095,
          -0.06799862998059147,
          -0.003160447852610382,
          -0.08828155721588693,
          0.046420099202070464,
          -0.018342006285743784,
          0.09373851886841966,
          0.04652334564998295,
          -0.006350734805236402,
          0.05069220119981521,
          -0.09040999626677204,
          -0.028657653307580855,
          -0.1296199637113813,
          0.07544691301616302,
          0.04152947424322906,
          -0.08099632877829921,
          0.1048630954032237,
          0.023350993044919166,
          0.2391491032215325,
          -0.15242357041026444,
          0.1740643834976403,
          0.09429532204469049,
          -0.0757509637064514,
          0.19291756836513874,
          0.036067682564812964,
          0.06142654760199284,
          -0.03471701508653002,
          0.03904174499355251,
          -0.06109449760765551,
          0.015590661528171568,
          0.057877158044940646,
          0.01833570496857595,
          0.044642727180099095,
          0.05390982053282789,
          0.023282256038711147,
          -0.002170598723481132,
          -0.0060209763045449005,
          0.015606070474825762,
          0.002655105627028087,
          0.0041831904822822175,
          -0.0030319630049555624,
          -0.0077051840682860195,
          0.0026784794478209584,
          0.003557484845371661,
          -0.0015228881125147753,
          -0.02979928738048232,
          -0.017913523653513286,
          -0.009577487523708572,
          0.03372312539895961,
          -0.012271389531217092,
          0.009936417568969569,
          -0.006848864010536637,
          0.02227968967575089,
          0.017590971006032463,
          0.003760788363228462,
          -0.0024893314366998265,
          0.015278838808250317,
          -0.0014923501379481285,
          0.002964042149683932,
          0.00823972851471999,
          -0.015363596845308303,
          -0.01736925754938312,
          0.010474833442446041,
          -0.008994245207515461,
          -0.0075632298837313705,
          0.008770456864593879,
          0.003137084176291438,
          0.019210395312918793
         ]
        },
        {
         "line": {
          "color": "rgba(50, 171, 96, 1.0)",
          "dash": "solid",
          "shape": "linear",
          "width": 1.3
         },
         "mode": "lines",
         "name": "GS Return",
         "text": "",
         "type": "scatter",
         "x": [
          "2020-05-22",
          "2020-05-21",
          "2020-05-20",
          "2020-05-19",
          "2020-05-18",
          "2020-05-15",
          "2020-05-14",
          "2020-05-13",
          "2020-05-12",
          "2020-05-11",
          "2020-05-08",
          "2020-05-07",
          "2020-05-06",
          "2020-05-05",
          "2020-05-04",
          "2020-05-01",
          "2020-04-30",
          "2020-04-29",
          "2020-04-28",
          "2020-04-27",
          "2020-04-24",
          "2020-04-23",
          "2020-04-22",
          "2020-04-21",
          "2020-04-20",
          "2020-04-17",
          "2020-04-16",
          "2020-04-15",
          "2020-04-14",
          "2020-04-13",
          "2020-04-09",
          "2020-04-08",
          "2020-04-07",
          "2020-04-06",
          "2020-04-03",
          "2020-04-02",
          "2020-04-01",
          "2020-03-31",
          "2020-03-30",
          "2020-03-27",
          "2020-03-26",
          "2020-03-25",
          "2020-03-24",
          "2020-03-23",
          "2020-03-20",
          "2020-03-19",
          "2020-03-18",
          "2020-03-17",
          "2020-03-16",
          "2020-03-13",
          "2020-03-12",
          "2020-03-11",
          "2020-03-10",
          "2020-03-09",
          "2020-03-06",
          "2020-03-05",
          "2020-03-04",
          "2020-03-03",
          "2020-03-02",
          "2020-02-28",
          "2020-02-27",
          "2020-02-26",
          "2020-02-25",
          "2020-02-24",
          "2020-02-21",
          "2020-02-20",
          "2020-02-19",
          "2020-02-18",
          "2020-02-14",
          "2020-02-13",
          "2020-02-12",
          "2020-02-11",
          "2020-02-10",
          "2020-02-07",
          "2020-02-06",
          "2020-02-05",
          "2020-02-04",
          "2020-02-03",
          "2020-01-31",
          "2020-01-30",
          "2020-01-29",
          "2020-01-28",
          "2020-01-27",
          "2020-01-24",
          "2020-01-23",
          "2020-01-22",
          "2020-01-21",
          "2020-01-17",
          "2020-01-16",
          "2020-01-15",
          "2020-01-14",
          "2020-01-13",
          "2020-01-10",
          "2020-01-09",
          "2020-01-08",
          "2020-01-07",
          "2020-01-06",
          "2020-01-03",
          "2020-01-02"
         ],
         "y": [
          -0.0822707334489442,
          0.0009448118712831466,
          0.007440310938367611,
          -0.019896384479717755,
          0.022774559973007813,
          -0.055036287662194816,
          0.015011345784604613,
          -0.015190599025508567,
          0.031490104772991856,
          0.033575983296653567,
          0.012175147412098575,
          -0.016559684988402767,
          -0.029618253620008805,
          0.007800135654533191,
          -0.012731351654514889,
          0.006078509344997984,
          0.03568605307735728,
          0.036037509540944423,
          -0.015892227543019555,
          -0.018555157478209683,
          -0.03563255966001955,
          -0.011016949152542255,
          0.005312767780633942,
          -0.012330946698488443,
          0.03791496461653532,
          0.017128603104212825,
          -0.03515177938852265,
          0.008359692724807966,
          -0.0016244678467399742,
          0.005330191325815026,
          0.028351378502064817,
          -0.03961793118419621,
          -0.06182188065099459,
          -0.046922057583423826,
          -0.07141502875560879,
          0.020417886068195834,
          -0.030947775628626828,
          0.06400991121205868,
          0.032537680315673834,
          -0.008019045232427024,
          0.047050650498926316,
          -0.06429820857711566,
          -0.009862695803519617,
          -0.12128906249999993,
          0.025487145291546165,
          0.08005201936276296,
          -0.06334871897785799,
          0.13319525782031127,
          -0.02527257830717833,
          0.14554506659769806,
          -0.14951741265451257,
          0.14076187947969188,
          0.07248821920995985,
          -0.06259831841605634,
          0.11596551125513566,
          0.03080114078299201,
          0.05005281955832808,
          -0.025438344351825237,
          0.029690802733126853,
          -0.04153339380340859,
          0.018279623449718452,
          0.049060849148894636,
          0.008486035342938347,
          0.031855379351796165,
          0.02706335693162476,
          0.009161504231742335,
          0.019756181912502058,
          -0.01738098266140997,
          0.016609862375426054,
          0.005347139704634296,
          0.0012663571127056183,
          -0.009190556492411406,
          0.0038294613224405527,
          0.002670396744659298,
          0.016064257028112428,
          0.010276679841897174,
          -0.009677950745408115,
          -0.012101301617665428,
          -0.005261828590671813,
          0.02682916507976807,
          -0.01644343704924789,
          0.010265649878488325,
          -0.018331881713740672,
          0.015885757742194473,
          0.015138282387190838,
          0.0059814003031668506,
          -0.005457137039299509,
          0.0152737398140943,
          0.0010486408001935121,
          -0.0180499597099113,
          0.0018463810930575697,
          -0.0018429782528566196,
          -0.012637452814705408,
          0.002036236702127603,
          -0.019947746029112978,
          -0.009563303994583605,
          -0.006536785439630877,
          -0.010149228056594906,
          0.011860798540209494
         ]
        },
        {
         "line": {
          "color": "rgba(128, 0, 128, 1.0)",
          "dash": "solid",
          "shape": "linear",
          "width": 1.3
         },
         "mode": "lines",
         "name": "JPM Return",
         "text": "",
         "type": "scatter",
         "x": [
          "2020-05-22",
          "2020-05-21",
          "2020-05-20",
          "2020-05-19",
          "2020-05-18",
          "2020-05-15",
          "2020-05-14",
          "2020-05-13",
          "2020-05-12",
          "2020-05-11",
          "2020-05-08",
          "2020-05-07",
          "2020-05-06",
          "2020-05-05",
          "2020-05-04",
          "2020-05-01",
          "2020-04-30",
          "2020-04-29",
          "2020-04-28",
          "2020-04-27",
          "2020-04-24",
          "2020-04-23",
          "2020-04-22",
          "2020-04-21",
          "2020-04-20",
          "2020-04-17",
          "2020-04-16",
          "2020-04-15",
          "2020-04-14",
          "2020-04-13",
          "2020-04-09",
          "2020-04-08",
          "2020-04-07",
          "2020-04-06",
          "2020-04-03",
          "2020-04-02",
          "2020-04-01",
          "2020-03-31",
          "2020-03-30",
          "2020-03-27",
          "2020-03-26",
          "2020-03-25",
          "2020-03-24",
          "2020-03-23",
          "2020-03-20",
          "2020-03-19",
          "2020-03-18",
          "2020-03-17",
          "2020-03-16",
          "2020-03-13",
          "2020-03-12",
          "2020-03-11",
          "2020-03-10",
          "2020-03-09",
          "2020-03-06",
          "2020-03-05",
          "2020-03-04",
          "2020-03-03",
          "2020-03-02",
          "2020-02-28",
          "2020-02-27",
          "2020-02-26",
          "2020-02-25",
          "2020-02-24",
          "2020-02-21",
          "2020-02-20",
          "2020-02-19",
          "2020-02-18",
          "2020-02-14",
          "2020-02-13",
          "2020-02-12",
          "2020-02-11",
          "2020-02-10",
          "2020-02-07",
          "2020-02-06",
          "2020-02-05",
          "2020-02-04",
          "2020-02-03",
          "2020-01-31",
          "2020-01-30",
          "2020-01-29",
          "2020-01-28",
          "2020-01-27",
          "2020-01-24",
          "2020-01-23",
          "2020-01-22",
          "2020-01-21",
          "2020-01-17",
          "2020-01-16",
          "2020-01-15",
          "2020-01-14",
          "2020-01-13",
          "2020-01-10",
          "2020-01-09",
          "2020-01-08",
          "2020-01-07",
          "2020-01-06",
          "2020-01-03",
          "2020-01-02"
         ],
         "y": [
          -0.06627008975161752,
          0.007823851570358809,
          0.012864589109459867,
          -0.02912515055293985,
          0.020074433291981553,
          -0.05030403537866224,
          0.018859138533178,
          -0.03987659963436918,
          0.035701535166012155,
          0.03378145467080307,
          0.030343447815938784,
          -0.016073354908306414,
          -0.010305887512334189,
          0.01916472803810798,
          0.0015217391304347405,
          0.012046885174734179,
          0.02691689008042908,
          0.021929824561403466,
          -0.026262006948702177,
          -0.0070311680134327315,
          -0.041323187486789426,
          -0.01455186859221691,
          -0.0005593466830741134,
          -0.003246026415939185,
          0.029870859067939293,
          0.037836659033911424,
          -0.08247530993906294,
          0.039619832818046596,
          0.05187796012776724,
          0.028167539267015762,
          0.046542417761482824,
          -0.08232775398987935,
          -0.038812301166489926,
          -0.013018534863195153,
          -0.060473954840151944,
          0.030458060678167698,
          -0.03600046184043404,
          0.06721602069659371,
          0.03853923505117618,
          -0.02534094101882467,
          0.07670218309624932,
          -0.06512135597409152,
          -0.035974313503034594,
          -0.10630591515179222,
          0.056560594244218,
          0.02156314662213643,
          -0.016535778164717962,
          0.11766052007178396,
          -0.05759946549420236,
          0.1759728304993653,
          -0.1526254375729289,
          0.08983980537960168,
          0.049350868141471826,
          -0.07205498695564916,
          0.15669503346705738,
          0.05450126203608496,
          0.05159574468085104,
          -0.024110605294216825,
          0.0389599170697994,
          -0.04448324602976628,
          0.045248868778280604,
          0.043456543456543484,
          -0.0030317536301260883,
          0.04673495518565951,
          0.027599388379204726,
          0.012424670783423908,
          0,
          -0.01344797178130519,
          0.013407821229050265,
          0.0030135979419330106,
          0.0008793785724754422,
          0,
          -0.0019036462146728717,
          -0.004107981220657253,
          0.0031673541543901784,
          -0.00014685366032751723,
          -0.01667033854740385,
          -0.014189693801344383,
          -0.007575757575757569,
          0.026641221374045898,
          -0.012194215183285118,
          0.0015054572826498358,
          -0.017888012025554456,
          0.008494681258131243,
          0.025497040522082237,
          0.0009619653692469754,
          0.0011828195460930058,
          0.009968249280070784,
          -0.006872349758736629,
          -0.0039016489988221714,
          0.015224299756115611,
          -0.011501783504404228,
          -0.008248030046395183,
          0.010098759931684853,
          -0.0036756597809306513,
          -0.0077473622076293935,
          0.01732599643069621,
          0.000804034792778241,
          0.013365468886941345
         ]
        },
        {
         "line": {
          "color": "rgba(219, 64, 82, 1.0)",
          "dash": "solid",
          "shape": "linear",
          "width": 1.3
         },
         "mode": "lines",
         "name": "MS Return",
         "text": "",
         "type": "scatter",
         "x": [
          "2020-05-22",
          "2020-05-21",
          "2020-05-20",
          "2020-05-19",
          "2020-05-18",
          "2020-05-15",
          "2020-05-14",
          "2020-05-13",
          "2020-05-12",
          "2020-05-11",
          "2020-05-08",
          "2020-05-07",
          "2020-05-06",
          "2020-05-05",
          "2020-05-04",
          "2020-05-01",
          "2020-04-30",
          "2020-04-29",
          "2020-04-28",
          "2020-04-27",
          "2020-04-24",
          "2020-04-23",
          "2020-04-22",
          "2020-04-21",
          "2020-04-20",
          "2020-04-17",
          "2020-04-16",
          "2020-04-15",
          "2020-04-14",
          "2020-04-13",
          "2020-04-09",
          "2020-04-08",
          "2020-04-07",
          "2020-04-06",
          "2020-04-03",
          "2020-04-02",
          "2020-04-01",
          "2020-03-31",
          "2020-03-30",
          "2020-03-27",
          "2020-03-26",
          "2020-03-25",
          "2020-03-24",
          "2020-03-23",
          "2020-03-20",
          "2020-03-19",
          "2020-03-18",
          "2020-03-17",
          "2020-03-16",
          "2020-03-13",
          "2020-03-12",
          "2020-03-11",
          "2020-03-10",
          "2020-03-09",
          "2020-03-06",
          "2020-03-05",
          "2020-03-04",
          "2020-03-03",
          "2020-03-02",
          "2020-02-28",
          "2020-02-27",
          "2020-02-26",
          "2020-02-25",
          "2020-02-24",
          "2020-02-21",
          "2020-02-20",
          "2020-02-19",
          "2020-02-18",
          "2020-02-14",
          "2020-02-13",
          "2020-02-12",
          "2020-02-11",
          "2020-02-10",
          "2020-02-07",
          "2020-02-06",
          "2020-02-05",
          "2020-02-04",
          "2020-02-03",
          "2020-01-31",
          "2020-01-30",
          "2020-01-29",
          "2020-01-28",
          "2020-01-27",
          "2020-01-24",
          "2020-01-23",
          "2020-01-22",
          "2020-01-21",
          "2020-01-17",
          "2020-01-16",
          "2020-01-15",
          "2020-01-14",
          "2020-01-13",
          "2020-01-10",
          "2020-01-09",
          "2020-01-08",
          "2020-01-07",
          "2020-01-06",
          "2020-01-03",
          "2020-01-02"
         ],
         "y": [
          -0.08148317692835882,
          0.0042362322452029755,
          0.0188585607940448,
          -0.04213346322454958,
          0.024154589371980784,
          -0.07423038728897724,
          0.013944757307589262,
          -0.02168738428987038,
          0.03865909705325765,
          0.03669963560645484,
          0.0062766758724579486,
          -0.03168662674650691,
          -0.038907498067508484,
          0.01823056300268089,
          0.0028962611901002244,
          0.0081386190601207,
          0.026822916666666696,
          0.034491503931016965,
          -0.024760970826182893,
          -0.020437405731523417,
          -0.03408011907511477,
          -0.013177820877281587,
          0.009073042026761291,
          -0.022732123799359627,
          0.038140220596265095,
          0.019040105193951495,
          -0.018684353144597377,
          0.0010519395134780396,
          0.03801392355181932,
          -0.007010528447054076,
          0.03789983433159172,
          -0.041623692353027875,
          -0.061726497040510364,
          0.001884319187284822,
          -0.0853708398070161,
          0.0014602890776336253,
          -0.06725389834543505,
          0.07526161306789181,
          0.024715900661662182,
          -0.023830206161686407,
          0.05001038175184647,
          -0.04816520240684763,
          -0.02267466017688613,
          -0.16286061342241132,
          0.06689157325788075,
          0.04212709530447789,
          -0.005481239804241422,
          0.09884522012991259,
          -0.06332288401253905,
          0.18483457640084144,
          -0.16506604255777046,
          0.17756226439411038,
          0.07133085257743232,
          -0.05061933341846503,
          0.1157291582600275,
          0.017938517179023394,
          0.06219948364480454,
          -0.018552792953506425,
          0.04684979437893344,
          -0.03120998372219208,
          0.00844590810314294,
          0.040298573777047375,
          0.01672076535406175,
          0.034361807145407486,
          0.055150567547261886,
          0.025364201451032464,
          0.04763424109907821,
          -0.014027481681864518,
          0.005759866269350988,
          0.0016078622658211028,
          0.004473143104505528,
          -0.0071107918836416095,
          -0.007722356856078361,
          -0.005777607669455231,
          -0.0003666361136571705,
          -0.00036677058499912096,
          -0.017629792698587443,
          -0.026293674951913037,
          -0.006463243896358106,
          0.029862558875762613,
          -0.00910948248392729,
          0.006336895866830616,
          -0.01684210526315799,
          0.027091618231875447,
          0.01798179482883766,
          0.005942911478047819,
          0.0010543154220896689,
          0.028454694025785265,
          -0.018609742747673796,
          -0.062015364409981344,
          -0.0015152677612400023,
          -0.00149835756958705,
          -0.01079282017737937,
          -0.0028783694426075535,
          -0.009420713867759,
          -0.012601650028550626,
          0.001954254491794094,
          0.0035227385809533107,
          0.01642140335567821
         ]
        },
        {
         "line": {
          "color": "rgba(0, 128, 128, 1.0)",
          "dash": "solid",
          "shape": "linear",
          "width": 1.3
         },
         "mode": "lines",
         "name": "WFC Return",
         "text": "",
         "type": "scatter",
         "x": [
          "2020-05-22",
          "2020-05-21",
          "2020-05-20",
          "2020-05-19",
          "2020-05-18",
          "2020-05-15",
          "2020-05-14",
          "2020-05-13",
          "2020-05-12",
          "2020-05-11",
          "2020-05-08",
          "2020-05-07",
          "2020-05-06",
          "2020-05-05",
          "2020-05-04",
          "2020-05-01",
          "2020-04-30",
          "2020-04-29",
          "2020-04-28",
          "2020-04-27",
          "2020-04-24",
          "2020-04-23",
          "2020-04-22",
          "2020-04-21",
          "2020-04-20",
          "2020-04-17",
          "2020-04-16",
          "2020-04-15",
          "2020-04-14",
          "2020-04-13",
          "2020-04-09",
          "2020-04-08",
          "2020-04-07",
          "2020-04-06",
          "2020-04-03",
          "2020-04-02",
          "2020-04-01",
          "2020-03-31",
          "2020-03-30",
          "2020-03-27",
          "2020-03-26",
          "2020-03-25",
          "2020-03-24",
          "2020-03-23",
          "2020-03-20",
          "2020-03-19",
          "2020-03-18",
          "2020-03-17",
          "2020-03-16",
          "2020-03-13",
          "2020-03-12",
          "2020-03-11",
          "2020-03-10",
          "2020-03-09",
          "2020-03-06",
          "2020-03-05",
          "2020-03-04",
          "2020-03-03",
          "2020-03-02",
          "2020-02-28",
          "2020-02-27",
          "2020-02-26",
          "2020-02-25",
          "2020-02-24",
          "2020-02-21",
          "2020-02-20",
          "2020-02-19",
          "2020-02-18",
          "2020-02-14",
          "2020-02-13",
          "2020-02-12",
          "2020-02-11",
          "2020-02-10",
          "2020-02-07",
          "2020-02-06",
          "2020-02-05",
          "2020-02-04",
          "2020-02-03",
          "2020-01-31",
          "2020-01-30",
          "2020-01-29",
          "2020-01-28",
          "2020-01-27",
          "2020-01-24",
          "2020-01-23",
          "2020-01-22",
          "2020-01-21",
          "2020-01-17",
          "2020-01-16",
          "2020-01-15",
          "2020-01-14",
          "2020-01-13",
          "2020-01-10",
          "2020-01-09",
          "2020-01-08",
          "2020-01-07",
          "2020-01-06",
          "2020-01-03",
          "2020-01-02"
         ],
         "y": [
          -0.07958872810357953,
          0.011998345055854287,
          0.002452984464431651,
          -0.023246329526916854,
          0.060960334029227514,
          -0.0806768988587171,
          0.02996575342465757,
          -0.06359102244389014,
          0.06702174877940514,
          0.03078202995008339,
          0.02623083131557702,
          -0.007864726700747116,
          -0.005152596115735153,
          0.02772908366533855,
          0.03911459140952078,
          0.008804327550830049,
          0.0528826596649532,
          0.032735063749077975,
          -0.03768322960242154,
          -0.01593921187488956,
          -0.05243499497198678,
          -0.01447847180109163,
          0.010153065148834628,
          0.0015228812914032108,
          0.031285638257432025,
          0.025286593682037672,
          -0.052489663850440405,
          0.057636122177954885,
          0.061168113654301415,
          0.04141451705601962,
          0.05632385404492912,
          -0.08795599127201215,
          -0.04987026990598786,
          -0.004858672908465422,
          -0.08382038488952237,
          0.037731445464446844,
          -0.023877352125346696,
          0.08014285165700241,
          0.04251990898748592,
          0.012037921156731635,
          0.020487246015432836,
          -0.062473171537064554,
          -0.001725777480364843,
          -0.12690516511430994,
          0.04950094961005358,
          0.06757277067611267,
          -0.00602301006239403,
          0.053701015965166965,
          -0.10564738292011022,
          0.16567842291698764,
          -0.11947151114781163,
          0.18861129867206827,
          0.08505333585810759,
          -0.07411070067769987,
          0.14192818772971427,
          0.04880195868064163,
          0.06428852459016388,
          -0.02102227917981081,
          0.04267049316516891,
          -0.03334299097010962,
          0.03963833454054999,
          0.039328272150682464,
          0.022190887866669673,
          0.028154044458515104,
          0.028240883297409036,
          -0.007550802139037471,
          -0.005280513826324884,
          -0.0021234182700642368,
          0.026186650453815075,
          -0.002073635209479452,
          -0.0068699376616767616,
          0.004184636406336706,
          -0.004571161287579284,
          0.001452401802687131,
          0.0029432465288885545,
          -0.0037639553429027472,
          -0.02172984972677594,
          -0.002945668775910959,
          -0.003851624904256501,
          0.02067268613106621,
          -0.013344812742143719,
          0.00211605584642216,
          -0.00570346343905781,
          0.009983579638752182,
          0.013656760096247611,
          0.007035777677979471,
          0.007836058611169872,
          0.004909500832297464,
          0.0014258156504234343,
          -0.018886097152428727,
          0.02029536045072322,
          0.056976719864460845,
          0.007500049472621839,
          0.0043604651162789665,
          0.001701411976376077,
          -0.003026102575115708,
          0.008361727959895093,
          0.0060202357602003875,
          0.006196552323224358
         ]
        }
       ],
       "layout": {
        "legend": {
         "bgcolor": "#F5F6F9",
         "font": {
          "color": "#4D5663"
         }
        },
        "paper_bgcolor": "#F5F6F9",
        "plot_bgcolor": "#F5F6F9",
        "template": {
         "data": {
          "bar": [
           {
            "error_x": {
             "color": "#2a3f5f"
            },
            "error_y": {
             "color": "#2a3f5f"
            },
            "marker": {
             "line": {
              "color": "#E5ECF6",
              "width": 0.5
             }
            },
            "type": "bar"
           }
          ],
          "barpolar": [
           {
            "marker": {
             "line": {
              "color": "#E5ECF6",
              "width": 0.5
             }
            },
            "type": "barpolar"
           }
          ],
          "carpet": [
           {
            "aaxis": {
             "endlinecolor": "#2a3f5f",
             "gridcolor": "white",
             "linecolor": "white",
             "minorgridcolor": "white",
             "startlinecolor": "#2a3f5f"
            },
            "baxis": {
             "endlinecolor": "#2a3f5f",
             "gridcolor": "white",
             "linecolor": "white",
             "minorgridcolor": "white",
             "startlinecolor": "#2a3f5f"
            },
            "type": "carpet"
           }
          ],
          "choropleth": [
           {
            "colorbar": {
             "outlinewidth": 0,
             "ticks": ""
            },
            "type": "choropleth"
           }
          ],
          "contour": [
           {
            "colorbar": {
             "outlinewidth": 0,
             "ticks": ""
            },
            "colorscale": [
             [
              0,
              "#0d0887"
             ],
             [
              0.1111111111111111,
              "#46039f"
             ],
             [
              0.2222222222222222,
              "#7201a8"
             ],
             [
              0.3333333333333333,
              "#9c179e"
             ],
             [
              0.4444444444444444,
              "#bd3786"
             ],
             [
              0.5555555555555556,
              "#d8576b"
             ],
             [
              0.6666666666666666,
              "#ed7953"
             ],
             [
              0.7777777777777778,
              "#fb9f3a"
             ],
             [
              0.8888888888888888,
              "#fdca26"
             ],
             [
              1,
              "#f0f921"
             ]
            ],
            "type": "contour"
           }
          ],
          "contourcarpet": [
           {
            "colorbar": {
             "outlinewidth": 0,
             "ticks": ""
            },
            "type": "contourcarpet"
           }
          ],
          "heatmap": [
           {
            "colorbar": {
             "outlinewidth": 0,
             "ticks": ""
            },
            "colorscale": [
             [
              0,
              "#0d0887"
             ],
             [
              0.1111111111111111,
              "#46039f"
             ],
             [
              0.2222222222222222,
              "#7201a8"
             ],
             [
              0.3333333333333333,
              "#9c179e"
             ],
             [
              0.4444444444444444,
              "#bd3786"
             ],
             [
              0.5555555555555556,
              "#d8576b"
             ],
             [
              0.6666666666666666,
              "#ed7953"
             ],
             [
              0.7777777777777778,
              "#fb9f3a"
             ],
             [
              0.8888888888888888,
              "#fdca26"
             ],
             [
              1,
              "#f0f921"
             ]
            ],
            "type": "heatmap"
           }
          ],
          "heatmapgl": [
           {
            "colorbar": {
             "outlinewidth": 0,
             "ticks": ""
            },
            "colorscale": [
             [
              0,
              "#0d0887"
             ],
             [
              0.1111111111111111,
              "#46039f"
             ],
             [
              0.2222222222222222,
              "#7201a8"
             ],
             [
              0.3333333333333333,
              "#9c179e"
             ],
             [
              0.4444444444444444,
              "#bd3786"
             ],
             [
              0.5555555555555556,
              "#d8576b"
             ],
             [
              0.6666666666666666,
              "#ed7953"
             ],
             [
              0.7777777777777778,
              "#fb9f3a"
             ],
             [
              0.8888888888888888,
              "#fdca26"
             ],
             [
              1,
              "#f0f921"
             ]
            ],
            "type": "heatmapgl"
           }
          ],
          "histogram": [
           {
            "marker": {
             "colorbar": {
              "outlinewidth": 0,
              "ticks": ""
             }
            },
            "type": "histogram"
           }
          ],
          "histogram2d": [
           {
            "colorbar": {
             "outlinewidth": 0,
             "ticks": ""
            },
            "colorscale": [
             [
              0,
              "#0d0887"
             ],
             [
              0.1111111111111111,
              "#46039f"
             ],
             [
              0.2222222222222222,
              "#7201a8"
             ],
             [
              0.3333333333333333,
              "#9c179e"
             ],
             [
              0.4444444444444444,
              "#bd3786"
             ],
             [
              0.5555555555555556,
              "#d8576b"
             ],
             [
              0.6666666666666666,
              "#ed7953"
             ],
             [
              0.7777777777777778,
              "#fb9f3a"
             ],
             [
              0.8888888888888888,
              "#fdca26"
             ],
             [
              1,
              "#f0f921"
             ]
            ],
            "type": "histogram2d"
           }
          ],
          "histogram2dcontour": [
           {
            "colorbar": {
             "outlinewidth": 0,
             "ticks": ""
            },
            "colorscale": [
             [
              0,
              "#0d0887"
             ],
             [
              0.1111111111111111,
              "#46039f"
             ],
             [
              0.2222222222222222,
              "#7201a8"
             ],
             [
              0.3333333333333333,
              "#9c179e"
             ],
             [
              0.4444444444444444,
              "#bd3786"
             ],
             [
              0.5555555555555556,
              "#d8576b"
             ],
             [
              0.6666666666666666,
              "#ed7953"
             ],
             [
              0.7777777777777778,
              "#fb9f3a"
             ],
             [
              0.8888888888888888,
              "#fdca26"
             ],
             [
              1,
              "#f0f921"
             ]
            ],
            "type": "histogram2dcontour"
           }
          ],
          "mesh3d": [
           {
            "colorbar": {
             "outlinewidth": 0,
             "ticks": ""
            },
            "type": "mesh3d"
           }
          ],
          "parcoords": [
           {
            "line": {
             "colorbar": {
              "outlinewidth": 0,
              "ticks": ""
             }
            },
            "type": "parcoords"
           }
          ],
          "pie": [
           {
            "automargin": true,
            "type": "pie"
           }
          ],
          "scatter": [
           {
            "marker": {
             "colorbar": {
              "outlinewidth": 0,
              "ticks": ""
             }
            },
            "type": "scatter"
           }
          ],
          "scatter3d": [
           {
            "line": {
             "colorbar": {
              "outlinewidth": 0,
              "ticks": ""
             }
            },
            "marker": {
             "colorbar": {
              "outlinewidth": 0,
              "ticks": ""
             }
            },
            "type": "scatter3d"
           }
          ],
          "scattercarpet": [
           {
            "marker": {
             "colorbar": {
              "outlinewidth": 0,
              "ticks": ""
             }
            },
            "type": "scattercarpet"
           }
          ],
          "scattergeo": [
           {
            "marker": {
             "colorbar": {
              "outlinewidth": 0,
              "ticks": ""
             }
            },
            "type": "scattergeo"
           }
          ],
          "scattergl": [
           {
            "marker": {
             "colorbar": {
              "outlinewidth": 0,
              "ticks": ""
             }
            },
            "type": "scattergl"
           }
          ],
          "scattermapbox": [
           {
            "marker": {
             "colorbar": {
              "outlinewidth": 0,
              "ticks": ""
             }
            },
            "type": "scattermapbox"
           }
          ],
          "scatterpolar": [
           {
            "marker": {
             "colorbar": {
              "outlinewidth": 0,
              "ticks": ""
             }
            },
            "type": "scatterpolar"
           }
          ],
          "scatterpolargl": [
           {
            "marker": {
             "colorbar": {
              "outlinewidth": 0,
              "ticks": ""
             }
            },
            "type": "scatterpolargl"
           }
          ],
          "scatterternary": [
           {
            "marker": {
             "colorbar": {
              "outlinewidth": 0,
              "ticks": ""
             }
            },
            "type": "scatterternary"
           }
          ],
          "surface": [
           {
            "colorbar": {
             "outlinewidth": 0,
             "ticks": ""
            },
            "colorscale": [
             [
              0,
              "#0d0887"
             ],
             [
              0.1111111111111111,
              "#46039f"
             ],
             [
              0.2222222222222222,
              "#7201a8"
             ],
             [
              0.3333333333333333,
              "#9c179e"
             ],
             [
              0.4444444444444444,
              "#bd3786"
             ],
             [
              0.5555555555555556,
              "#d8576b"
             ],
             [
              0.6666666666666666,
              "#ed7953"
             ],
             [
              0.7777777777777778,
              "#fb9f3a"
             ],
             [
              0.8888888888888888,
              "#fdca26"
             ],
             [
              1,
              "#f0f921"
             ]
            ],
            "type": "surface"
           }
          ],
          "table": [
           {
            "cells": {
             "fill": {
              "color": "#EBF0F8"
             },
             "line": {
              "color": "white"
             }
            },
            "header": {
             "fill": {
              "color": "#C8D4E3"
             },
             "line": {
              "color": "white"
             }
            },
            "type": "table"
           }
          ]
         },
         "layout": {
          "annotationdefaults": {
           "arrowcolor": "#2a3f5f",
           "arrowhead": 0,
           "arrowwidth": 1
          },
          "coloraxis": {
           "colorbar": {
            "outlinewidth": 0,
            "ticks": ""
           }
          },
          "colorscale": {
           "diverging": [
            [
             0,
             "#8e0152"
            ],
            [
             0.1,
             "#c51b7d"
            ],
            [
             0.2,
             "#de77ae"
            ],
            [
             0.3,
             "#f1b6da"
            ],
            [
             0.4,
             "#fde0ef"
            ],
            [
             0.5,
             "#f7f7f7"
            ],
            [
             0.6,
             "#e6f5d0"
            ],
            [
             0.7,
             "#b8e186"
            ],
            [
             0.8,
             "#7fbc41"
            ],
            [
             0.9,
             "#4d9221"
            ],
            [
             1,
             "#276419"
            ]
           ],
           "sequential": [
            [
             0,
             "#0d0887"
            ],
            [
             0.1111111111111111,
             "#46039f"
            ],
            [
             0.2222222222222222,
             "#7201a8"
            ],
            [
             0.3333333333333333,
             "#9c179e"
            ],
            [
             0.4444444444444444,
             "#bd3786"
            ],
            [
             0.5555555555555556,
             "#d8576b"
            ],
            [
             0.6666666666666666,
             "#ed7953"
            ],
            [
             0.7777777777777778,
             "#fb9f3a"
            ],
            [
             0.8888888888888888,
             "#fdca26"
            ],
            [
             1,
             "#f0f921"
            ]
           ],
           "sequentialminus": [
            [
             0,
             "#0d0887"
            ],
            [
             0.1111111111111111,
             "#46039f"
            ],
            [
             0.2222222222222222,
             "#7201a8"
            ],
            [
             0.3333333333333333,
             "#9c179e"
            ],
            [
             0.4444444444444444,
             "#bd3786"
            ],
            [
             0.5555555555555556,
             "#d8576b"
            ],
            [
             0.6666666666666666,
             "#ed7953"
            ],
            [
             0.7777777777777778,
             "#fb9f3a"
            ],
            [
             0.8888888888888888,
             "#fdca26"
            ],
            [
             1,
             "#f0f921"
            ]
           ]
          },
          "colorway": [
           "#636efa",
           "#EF553B",
           "#00cc96",
           "#ab63fa",
           "#FFA15A",
           "#19d3f3",
           "#FF6692",
           "#B6E880",
           "#FF97FF",
           "#FECB52"
          ],
          "font": {
           "color": "#2a3f5f"
          },
          "geo": {
           "bgcolor": "white",
           "lakecolor": "white",
           "landcolor": "#E5ECF6",
           "showlakes": true,
           "showland": true,
           "subunitcolor": "white"
          },
          "hoverlabel": {
           "align": "left"
          },
          "hovermode": "closest",
          "mapbox": {
           "style": "light"
          },
          "paper_bgcolor": "white",
          "plot_bgcolor": "#E5ECF6",
          "polar": {
           "angularaxis": {
            "gridcolor": "white",
            "linecolor": "white",
            "ticks": ""
           },
           "bgcolor": "#E5ECF6",
           "radialaxis": {
            "gridcolor": "white",
            "linecolor": "white",
            "ticks": ""
           }
          },
          "scene": {
           "xaxis": {
            "backgroundcolor": "#E5ECF6",
            "gridcolor": "white",
            "gridwidth": 2,
            "linecolor": "white",
            "showbackground": true,
            "ticks": "",
            "zerolinecolor": "white"
           },
           "yaxis": {
            "backgroundcolor": "#E5ECF6",
            "gridcolor": "white",
            "gridwidth": 2,
            "linecolor": "white",
            "showbackground": true,
            "ticks": "",
            "zerolinecolor": "white"
           },
           "zaxis": {
            "backgroundcolor": "#E5ECF6",
            "gridcolor": "white",
            "gridwidth": 2,
            "linecolor": "white",
            "showbackground": true,
            "ticks": "",
            "zerolinecolor": "white"
           }
          },
          "shapedefaults": {
           "line": {
            "color": "#2a3f5f"
           }
          },
          "ternary": {
           "aaxis": {
            "gridcolor": "white",
            "linecolor": "white",
            "ticks": ""
           },
           "baxis": {
            "gridcolor": "white",
            "linecolor": "white",
            "ticks": ""
           },
           "bgcolor": "#E5ECF6",
           "caxis": {
            "gridcolor": "white",
            "linecolor": "white",
            "ticks": ""
           }
          },
          "title": {
           "x": 0.05
          },
          "xaxis": {
           "automargin": true,
           "gridcolor": "white",
           "linecolor": "white",
           "ticks": "",
           "title": {
            "standoff": 15
           },
           "zerolinecolor": "white",
           "zerolinewidth": 2
          },
          "yaxis": {
           "automargin": true,
           "gridcolor": "white",
           "linecolor": "white",
           "ticks": "",
           "title": {
            "standoff": 15
           },
           "zerolinecolor": "white",
           "zerolinewidth": 2
          }
         }
        },
        "title": {
         "font": {
          "color": "#4D5663"
         }
        },
        "xaxis": {
         "gridcolor": "#E1E5ED",
         "showgrid": true,
         "tickfont": {
          "color": "#4D5663"
         },
         "title": {
          "font": {
           "color": "#4D5663"
          },
          "text": ""
         },
         "zerolinecolor": "#E1E5ED"
        },
        "yaxis": {
         "gridcolor": "#E1E5ED",
         "showgrid": true,
         "tickfont": {
          "color": "#4D5663"
         },
         "title": {
          "font": {
           "color": "#4D5663"
          },
          "text": ""
         },
         "zerolinecolor": "#E1E5ED"
        }
       }
      },
      "text/html": [
       "<div>\n",
       "        \n",
       "        \n",
       "            <div id=\"f95f55bf-c47e-4c95-9853-989b0e25f0d2\" class=\"plotly-graph-div\" style=\"height:525px; width:100%;\"></div>\n",
       "            <script type=\"text/javascript\">\n",
       "                require([\"plotly\"], function(Plotly) {\n",
       "                    window.PLOTLYENV=window.PLOTLYENV || {};\n",
       "                    window.PLOTLYENV.BASE_URL='https://plot.ly';\n",
       "                    \n",
       "                if (document.getElementById(\"f95f55bf-c47e-4c95-9853-989b0e25f0d2\")) {\n",
       "                    Plotly.newPlot(\n",
       "                        'f95f55bf-c47e-4c95-9853-989b0e25f0d2',\n",
       "                        [{\"line\": {\"color\": \"rgba(255, 153, 51, 1.0)\", \"dash\": \"solid\", \"shape\": \"linear\", \"width\": 1.3}, \"mode\": \"lines\", \"name\": \"BAC Return\", \"text\": \"\", \"type\": \"scatter\", \"x\": [\"2020-05-22\", \"2020-05-21\", \"2020-05-20\", \"2020-05-19\", \"2020-05-18\", \"2020-05-15\", \"2020-05-14\", \"2020-05-13\", \"2020-05-12\", \"2020-05-11\", \"2020-05-08\", \"2020-05-07\", \"2020-05-06\", \"2020-05-05\", \"2020-05-04\", \"2020-05-01\", \"2020-04-30\", \"2020-04-29\", \"2020-04-28\", \"2020-04-27\", \"2020-04-24\", \"2020-04-23\", \"2020-04-22\", \"2020-04-21\", \"2020-04-20\", \"2020-04-17\", \"2020-04-16\", \"2020-04-15\", \"2020-04-14\", \"2020-04-13\", \"2020-04-09\", \"2020-04-08\", \"2020-04-07\", \"2020-04-06\", \"2020-04-03\", \"2020-04-02\", \"2020-04-01\", \"2020-03-31\", \"2020-03-30\", \"2020-03-27\", \"2020-03-26\", \"2020-03-25\", \"2020-03-24\", \"2020-03-23\", \"2020-03-20\", \"2020-03-19\", \"2020-03-18\", \"2020-03-17\", \"2020-03-16\", \"2020-03-13\", \"2020-03-12\", \"2020-03-11\", \"2020-03-10\", \"2020-03-09\", \"2020-03-06\", \"2020-03-05\", \"2020-03-04\", \"2020-03-03\", \"2020-03-02\", \"2020-02-28\", \"2020-02-27\", \"2020-02-26\", \"2020-02-25\", \"2020-02-24\", \"2020-02-21\", \"2020-02-20\", \"2020-02-19\", \"2020-02-18\", \"2020-02-14\", \"2020-02-13\", \"2020-02-12\", \"2020-02-11\", \"2020-02-10\", \"2020-02-07\", \"2020-02-06\", \"2020-02-05\", \"2020-02-04\", \"2020-02-03\", \"2020-01-31\", \"2020-01-30\", \"2020-01-29\", \"2020-01-28\", \"2020-01-27\", \"2020-01-24\", \"2020-01-23\", \"2020-01-22\", \"2020-01-21\", \"2020-01-17\", \"2020-01-16\", \"2020-01-15\", \"2020-01-14\", \"2020-01-13\", \"2020-01-10\", \"2020-01-09\", \"2020-01-08\", \"2020-01-07\", \"2020-01-06\", \"2020-01-03\", \"2020-01-02\"], \"y\": [-0.06672158154859975, 0.010591350397175514, 0.0004366812227074579, -0.030554343081623747, 0.03241782980639352, -0.0649803750545137, 0.012593283582089443, -0.038691847075080554, 0.04791566842357442, 0.0324645633287608, 0.0438441098317095, -0.030971574034790006, -0.021453590192644367, 0.013870246085011084, 0.011915269196822509, 0.0065416484954208265, 0.04202772963604873, 0.0303534303534303, -0.035916061339790195, -0.017580577647551388, -0.054963783553472534, -0.013976555455365136, -0.0032007315957933713, -0.007339449541284404, 0.03974121996303137, 0.03466666666666662, -0.07989690721649478, 0.035947712418300526, 0.06940063091482651, 0.008006742520016985, 0.03929765886287617, -0.056717618664521297, -0.05586353944562894, -0.03387533875338755, -0.06358111266947164, 0.026959560659011395, -0.038891589693728745, 0.07384926656550328, 0.03815355628827133, -0.019963702359346525, 0.051851851851851816, -0.07130281690140838, -0.0033175355450236754, -0.14027579648121746, 0.08794247787610643, 0.07778342653787473, -0.019339622641509457, 0.05723905723905731, -0.07006369426751591, 0.18199608610567508, -0.15107615894039728, 0.10531448074110195, 0.04146449051610057, -0.0711562897077509, 0.1723666210670316, 0.04161804745235309, 0.05339805825242716, -0.02254519673874511, 0.0583883368390512, -0.02963952850877183, 0.0221053003284013, 0.05151148730350674, 0.014686555394927137, 0.05307126898293535, 0.049812434659614935, 0.014263956417315926, -0.003725201420774482, -0.012956521739130311, 0.016914809267905673, 0.0017326518236160382, 0.0002882758223066162, -0.0042940718752702, -0.0023154848046309517, -0.002291847983754036, 0.001715565118781237, 0.0011611030478955175, -0.03140040591475801, -0.0193372646451343, -0.004242849729861553, 0.01980258721108452, -0.014037513526511947, 0.006951007591232017, -0.011716975990796241, 0.020985233747932153, 0.01731328952500988, 0.007019820670127297, -0.0028996543846288025, 0.013130452662808878, 0.0002899391127861861, -0.0014492753623187582, 0.01875181422351213, -0.007351265101435911, -0.009127963717779353, 0.008342989571263004, -0.0017237416685818019, -0.009986186255324325, 0.006627714310630584, 0.0014438765196802539, 0.021194382767669273]}, {\"line\": {\"color\": \"rgba(55, 128, 191, 1.0)\", \"dash\": \"solid\", \"shape\": \"linear\", \"width\": 1.3}, \"mode\": \"lines\", \"name\": \"C Return\", \"text\": \"\", \"type\": \"scatter\", \"x\": [\"2020-05-22\", \"2020-05-21\", \"2020-05-20\", \"2020-05-19\", \"2020-05-18\", \"2020-05-15\", \"2020-05-14\", \"2020-05-13\", \"2020-05-12\", \"2020-05-11\", \"2020-05-08\", \"2020-05-07\", \"2020-05-06\", \"2020-05-05\", \"2020-05-04\", \"2020-05-01\", \"2020-04-30\", \"2020-04-29\", \"2020-04-28\", \"2020-04-27\", \"2020-04-24\", \"2020-04-23\", \"2020-04-22\", \"2020-04-21\", \"2020-04-20\", \"2020-04-17\", \"2020-04-16\", \"2020-04-15\", \"2020-04-14\", \"2020-04-13\", \"2020-04-09\", \"2020-04-08\", \"2020-04-07\", \"2020-04-06\", \"2020-04-03\", \"2020-04-02\", \"2020-04-01\", \"2020-03-31\", \"2020-03-30\", \"2020-03-27\", \"2020-03-26\", \"2020-03-25\", \"2020-03-24\", \"2020-03-23\", \"2020-03-20\", \"2020-03-19\", \"2020-03-18\", \"2020-03-17\", \"2020-03-16\", \"2020-03-13\", \"2020-03-12\", \"2020-03-11\", \"2020-03-10\", \"2020-03-09\", \"2020-03-06\", \"2020-03-05\", \"2020-03-04\", \"2020-03-03\", \"2020-03-02\", \"2020-02-28\", \"2020-02-27\", \"2020-02-26\", \"2020-02-25\", \"2020-02-24\", \"2020-02-21\", \"2020-02-20\", \"2020-02-19\", \"2020-02-18\", \"2020-02-14\", \"2020-02-13\", \"2020-02-12\", \"2020-02-11\", \"2020-02-10\", \"2020-02-07\", \"2020-02-06\", \"2020-02-05\", \"2020-02-04\", \"2020-02-03\", \"2020-01-31\", \"2020-01-30\", \"2020-01-29\", \"2020-01-28\", \"2020-01-27\", \"2020-01-24\", \"2020-01-23\", \"2020-01-22\", \"2020-01-21\", \"2020-01-17\", \"2020-01-16\", \"2020-01-15\", \"2020-01-14\", \"2020-01-13\", \"2020-01-10\", \"2020-01-09\", \"2020-01-08\", \"2020-01-07\", \"2020-01-06\", \"2020-01-03\", \"2020-01-02\"], \"y\": [-0.08449242266971146, 0.020408163265306145, 0.010444444444444478, -0.02287222344402906, 0.0279090704478957, -0.08211079483249395, 0.0033396946564885344, -0.03471231573941991, 0.0431034482758621, 0.040613931523022506, 0.051055139550714834, -0.03626943005181349, -0.03785842293906805, 0.02328288707799775, 0.02662116040955609, 0.00886524822695045, 0.055579964850615005, 0.03500520291363163, -0.06068527306362104, -0.013764610181101866, -0.07432007119446082, -0.014842779093488523, -0.005188746608273176, -0.01586276198679304, 0.058711983079279495, 0.0327225130890052, -0.10848731461098882, 0.05776425400309271, 0.05972647960386723, 0.0277462563691786, 0.015631088980298857, -0.06644355388813095, -0.06799862998059147, -0.003160447852610382, -0.08828155721588693, 0.046420099202070464, -0.018342006285743784, 0.09373851886841966, 0.04652334564998295, -0.006350734805236402, 0.05069220119981521, -0.09040999626677204, -0.028657653307580855, -0.1296199637113813, 0.07544691301616302, 0.04152947424322906, -0.08099632877829921, 0.1048630954032237, 0.023350993044919166, 0.2391491032215325, -0.15242357041026444, 0.1740643834976403, 0.09429532204469049, -0.0757509637064514, 0.19291756836513874, 0.036067682564812964, 0.06142654760199284, -0.03471701508653002, 0.03904174499355251, -0.06109449760765551, 0.015590661528171568, 0.057877158044940646, 0.01833570496857595, 0.044642727180099095, 0.05390982053282789, 0.023282256038711147, -0.002170598723481132, -0.0060209763045449005, 0.015606070474825762, 0.002655105627028087, 0.0041831904822822175, -0.0030319630049555624, -0.0077051840682860195, 0.0026784794478209584, 0.003557484845371661, -0.0015228881125147753, -0.02979928738048232, -0.017913523653513286, -0.009577487523708572, 0.03372312539895961, -0.012271389531217092, 0.009936417568969569, -0.006848864010536637, 0.02227968967575089, 0.017590971006032463, 0.003760788363228462, -0.0024893314366998265, 0.015278838808250317, -0.0014923501379481285, 0.002964042149683932, 0.00823972851471999, -0.015363596845308303, -0.01736925754938312, 0.010474833442446041, -0.008994245207515461, -0.0075632298837313705, 0.008770456864593879, 0.003137084176291438, 0.019210395312918793]}, {\"line\": {\"color\": \"rgba(50, 171, 96, 1.0)\", \"dash\": \"solid\", \"shape\": \"linear\", \"width\": 1.3}, \"mode\": \"lines\", \"name\": \"GS Return\", \"text\": \"\", \"type\": \"scatter\", \"x\": [\"2020-05-22\", \"2020-05-21\", \"2020-05-20\", \"2020-05-19\", \"2020-05-18\", \"2020-05-15\", \"2020-05-14\", \"2020-05-13\", \"2020-05-12\", \"2020-05-11\", \"2020-05-08\", \"2020-05-07\", \"2020-05-06\", \"2020-05-05\", \"2020-05-04\", \"2020-05-01\", \"2020-04-30\", \"2020-04-29\", \"2020-04-28\", \"2020-04-27\", \"2020-04-24\", \"2020-04-23\", \"2020-04-22\", \"2020-04-21\", \"2020-04-20\", \"2020-04-17\", \"2020-04-16\", \"2020-04-15\", \"2020-04-14\", \"2020-04-13\", \"2020-04-09\", \"2020-04-08\", \"2020-04-07\", \"2020-04-06\", \"2020-04-03\", \"2020-04-02\", \"2020-04-01\", \"2020-03-31\", \"2020-03-30\", \"2020-03-27\", \"2020-03-26\", \"2020-03-25\", \"2020-03-24\", \"2020-03-23\", \"2020-03-20\", \"2020-03-19\", \"2020-03-18\", \"2020-03-17\", \"2020-03-16\", \"2020-03-13\", \"2020-03-12\", \"2020-03-11\", \"2020-03-10\", \"2020-03-09\", \"2020-03-06\", \"2020-03-05\", \"2020-03-04\", \"2020-03-03\", \"2020-03-02\", \"2020-02-28\", \"2020-02-27\", \"2020-02-26\", \"2020-02-25\", \"2020-02-24\", \"2020-02-21\", \"2020-02-20\", \"2020-02-19\", \"2020-02-18\", \"2020-02-14\", \"2020-02-13\", \"2020-02-12\", \"2020-02-11\", \"2020-02-10\", \"2020-02-07\", \"2020-02-06\", \"2020-02-05\", \"2020-02-04\", \"2020-02-03\", \"2020-01-31\", \"2020-01-30\", \"2020-01-29\", \"2020-01-28\", \"2020-01-27\", \"2020-01-24\", \"2020-01-23\", \"2020-01-22\", \"2020-01-21\", \"2020-01-17\", \"2020-01-16\", \"2020-01-15\", \"2020-01-14\", \"2020-01-13\", \"2020-01-10\", \"2020-01-09\", \"2020-01-08\", \"2020-01-07\", \"2020-01-06\", \"2020-01-03\", \"2020-01-02\"], \"y\": [-0.0822707334489442, 0.0009448118712831466, 0.007440310938367611, -0.019896384479717755, 0.022774559973007813, -0.055036287662194816, 0.015011345784604613, -0.015190599025508567, 0.031490104772991856, 0.033575983296653567, 0.012175147412098575, -0.016559684988402767, -0.029618253620008805, 0.007800135654533191, -0.012731351654514889, 0.006078509344997984, 0.03568605307735728, 0.036037509540944423, -0.015892227543019555, -0.018555157478209683, -0.03563255966001955, -0.011016949152542255, 0.005312767780633942, -0.012330946698488443, 0.03791496461653532, 0.017128603104212825, -0.03515177938852265, 0.008359692724807966, -0.0016244678467399742, 0.005330191325815026, 0.028351378502064817, -0.03961793118419621, -0.06182188065099459, -0.046922057583423826, -0.07141502875560879, 0.020417886068195834, -0.030947775628626828, 0.06400991121205868, 0.032537680315673834, -0.008019045232427024, 0.047050650498926316, -0.06429820857711566, -0.009862695803519617, -0.12128906249999993, 0.025487145291546165, 0.08005201936276296, -0.06334871897785799, 0.13319525782031127, -0.02527257830717833, 0.14554506659769806, -0.14951741265451257, 0.14076187947969188, 0.07248821920995985, -0.06259831841605634, 0.11596551125513566, 0.03080114078299201, 0.05005281955832808, -0.025438344351825237, 0.029690802733126853, -0.04153339380340859, 0.018279623449718452, 0.049060849148894636, 0.008486035342938347, 0.031855379351796165, 0.02706335693162476, 0.009161504231742335, 0.019756181912502058, -0.01738098266140997, 0.016609862375426054, 0.005347139704634296, 0.0012663571127056183, -0.009190556492411406, 0.0038294613224405527, 0.002670396744659298, 0.016064257028112428, 0.010276679841897174, -0.009677950745408115, -0.012101301617665428, -0.005261828590671813, 0.02682916507976807, -0.01644343704924789, 0.010265649878488325, -0.018331881713740672, 0.015885757742194473, 0.015138282387190838, 0.0059814003031668506, -0.005457137039299509, 0.0152737398140943, 0.0010486408001935121, -0.0180499597099113, 0.0018463810930575697, -0.0018429782528566196, -0.012637452814705408, 0.002036236702127603, -0.019947746029112978, -0.009563303994583605, -0.006536785439630877, -0.010149228056594906, 0.011860798540209494]}, {\"line\": {\"color\": \"rgba(128, 0, 128, 1.0)\", \"dash\": \"solid\", \"shape\": \"linear\", \"width\": 1.3}, \"mode\": \"lines\", \"name\": \"JPM Return\", \"text\": \"\", \"type\": \"scatter\", \"x\": [\"2020-05-22\", \"2020-05-21\", \"2020-05-20\", \"2020-05-19\", \"2020-05-18\", \"2020-05-15\", \"2020-05-14\", \"2020-05-13\", \"2020-05-12\", \"2020-05-11\", \"2020-05-08\", \"2020-05-07\", \"2020-05-06\", \"2020-05-05\", \"2020-05-04\", \"2020-05-01\", \"2020-04-30\", \"2020-04-29\", \"2020-04-28\", \"2020-04-27\", \"2020-04-24\", \"2020-04-23\", \"2020-04-22\", \"2020-04-21\", \"2020-04-20\", \"2020-04-17\", \"2020-04-16\", \"2020-04-15\", \"2020-04-14\", \"2020-04-13\", \"2020-04-09\", \"2020-04-08\", \"2020-04-07\", \"2020-04-06\", \"2020-04-03\", \"2020-04-02\", \"2020-04-01\", \"2020-03-31\", \"2020-03-30\", \"2020-03-27\", \"2020-03-26\", \"2020-03-25\", \"2020-03-24\", \"2020-03-23\", \"2020-03-20\", \"2020-03-19\", \"2020-03-18\", \"2020-03-17\", \"2020-03-16\", \"2020-03-13\", \"2020-03-12\", \"2020-03-11\", \"2020-03-10\", \"2020-03-09\", \"2020-03-06\", \"2020-03-05\", \"2020-03-04\", \"2020-03-03\", \"2020-03-02\", \"2020-02-28\", \"2020-02-27\", \"2020-02-26\", \"2020-02-25\", \"2020-02-24\", \"2020-02-21\", \"2020-02-20\", \"2020-02-19\", \"2020-02-18\", \"2020-02-14\", \"2020-02-13\", \"2020-02-12\", \"2020-02-11\", \"2020-02-10\", \"2020-02-07\", \"2020-02-06\", \"2020-02-05\", \"2020-02-04\", \"2020-02-03\", \"2020-01-31\", \"2020-01-30\", \"2020-01-29\", \"2020-01-28\", \"2020-01-27\", \"2020-01-24\", \"2020-01-23\", \"2020-01-22\", \"2020-01-21\", \"2020-01-17\", \"2020-01-16\", \"2020-01-15\", \"2020-01-14\", \"2020-01-13\", \"2020-01-10\", \"2020-01-09\", \"2020-01-08\", \"2020-01-07\", \"2020-01-06\", \"2020-01-03\", \"2020-01-02\"], \"y\": [-0.06627008975161752, 0.007823851570358809, 0.012864589109459867, -0.02912515055293985, 0.020074433291981553, -0.05030403537866224, 0.018859138533178, -0.03987659963436918, 0.035701535166012155, 0.03378145467080307, 0.030343447815938784, -0.016073354908306414, -0.010305887512334189, 0.01916472803810798, 0.0015217391304347405, 0.012046885174734179, 0.02691689008042908, 0.021929824561403466, -0.026262006948702177, -0.0070311680134327315, -0.041323187486789426, -0.01455186859221691, -0.0005593466830741134, -0.003246026415939185, 0.029870859067939293, 0.037836659033911424, -0.08247530993906294, 0.039619832818046596, 0.05187796012776724, 0.028167539267015762, 0.046542417761482824, -0.08232775398987935, -0.038812301166489926, -0.013018534863195153, -0.060473954840151944, 0.030458060678167698, -0.03600046184043404, 0.06721602069659371, 0.03853923505117618, -0.02534094101882467, 0.07670218309624932, -0.06512135597409152, -0.035974313503034594, -0.10630591515179222, 0.056560594244218, 0.02156314662213643, -0.016535778164717962, 0.11766052007178396, -0.05759946549420236, 0.1759728304993653, -0.1526254375729289, 0.08983980537960168, 0.049350868141471826, -0.07205498695564916, 0.15669503346705738, 0.05450126203608496, 0.05159574468085104, -0.024110605294216825, 0.0389599170697994, -0.04448324602976628, 0.045248868778280604, 0.043456543456543484, -0.0030317536301260883, 0.04673495518565951, 0.027599388379204726, 0.012424670783423908, 0.0, -0.01344797178130519, 0.013407821229050265, 0.0030135979419330106, 0.0008793785724754422, 0.0, -0.0019036462146728717, -0.004107981220657253, 0.0031673541543901784, -0.00014685366032751723, -0.01667033854740385, -0.014189693801344383, -0.007575757575757569, 0.026641221374045898, -0.012194215183285118, 0.0015054572826498358, -0.017888012025554456, 0.008494681258131243, 0.025497040522082237, 0.0009619653692469754, 0.0011828195460930058, 0.009968249280070784, -0.006872349758736629, -0.0039016489988221714, 0.015224299756115611, -0.011501783504404228, -0.008248030046395183, 0.010098759931684853, -0.0036756597809306513, -0.0077473622076293935, 0.01732599643069621, 0.000804034792778241, 0.013365468886941345]}, {\"line\": {\"color\": \"rgba(219, 64, 82, 1.0)\", \"dash\": \"solid\", \"shape\": \"linear\", \"width\": 1.3}, \"mode\": \"lines\", \"name\": \"MS Return\", \"text\": \"\", \"type\": \"scatter\", \"x\": [\"2020-05-22\", \"2020-05-21\", \"2020-05-20\", \"2020-05-19\", \"2020-05-18\", \"2020-05-15\", \"2020-05-14\", \"2020-05-13\", \"2020-05-12\", \"2020-05-11\", \"2020-05-08\", \"2020-05-07\", \"2020-05-06\", \"2020-05-05\", \"2020-05-04\", \"2020-05-01\", \"2020-04-30\", \"2020-04-29\", \"2020-04-28\", \"2020-04-27\", \"2020-04-24\", \"2020-04-23\", \"2020-04-22\", \"2020-04-21\", \"2020-04-20\", \"2020-04-17\", \"2020-04-16\", \"2020-04-15\", \"2020-04-14\", \"2020-04-13\", \"2020-04-09\", \"2020-04-08\", \"2020-04-07\", \"2020-04-06\", \"2020-04-03\", \"2020-04-02\", \"2020-04-01\", \"2020-03-31\", \"2020-03-30\", \"2020-03-27\", \"2020-03-26\", \"2020-03-25\", \"2020-03-24\", \"2020-03-23\", \"2020-03-20\", \"2020-03-19\", \"2020-03-18\", \"2020-03-17\", \"2020-03-16\", \"2020-03-13\", \"2020-03-12\", \"2020-03-11\", \"2020-03-10\", \"2020-03-09\", \"2020-03-06\", \"2020-03-05\", \"2020-03-04\", \"2020-03-03\", \"2020-03-02\", \"2020-02-28\", \"2020-02-27\", \"2020-02-26\", \"2020-02-25\", \"2020-02-24\", \"2020-02-21\", \"2020-02-20\", \"2020-02-19\", \"2020-02-18\", \"2020-02-14\", \"2020-02-13\", \"2020-02-12\", \"2020-02-11\", \"2020-02-10\", \"2020-02-07\", \"2020-02-06\", \"2020-02-05\", \"2020-02-04\", \"2020-02-03\", \"2020-01-31\", \"2020-01-30\", \"2020-01-29\", \"2020-01-28\", \"2020-01-27\", \"2020-01-24\", \"2020-01-23\", \"2020-01-22\", \"2020-01-21\", \"2020-01-17\", \"2020-01-16\", \"2020-01-15\", \"2020-01-14\", \"2020-01-13\", \"2020-01-10\", \"2020-01-09\", \"2020-01-08\", \"2020-01-07\", \"2020-01-06\", \"2020-01-03\", \"2020-01-02\"], \"y\": [-0.08148317692835882, 0.0042362322452029755, 0.0188585607940448, -0.04213346322454958, 0.024154589371980784, -0.07423038728897724, 0.013944757307589262, -0.02168738428987038, 0.03865909705325765, 0.03669963560645484, 0.0062766758724579486, -0.03168662674650691, -0.038907498067508484, 0.01823056300268089, 0.0028962611901002244, 0.0081386190601207, 0.026822916666666696, 0.034491503931016965, -0.024760970826182893, -0.020437405731523417, -0.03408011907511477, -0.013177820877281587, 0.009073042026761291, -0.022732123799359627, 0.038140220596265095, 0.019040105193951495, -0.018684353144597377, 0.0010519395134780396, 0.03801392355181932, -0.007010528447054076, 0.03789983433159172, -0.041623692353027875, -0.061726497040510364, 0.001884319187284822, -0.0853708398070161, 0.0014602890776336253, -0.06725389834543505, 0.07526161306789181, 0.024715900661662182, -0.023830206161686407, 0.05001038175184647, -0.04816520240684763, -0.02267466017688613, -0.16286061342241132, 0.06689157325788075, 0.04212709530447789, -0.005481239804241422, 0.09884522012991259, -0.06332288401253905, 0.18483457640084144, -0.16506604255777046, 0.17756226439411038, 0.07133085257743232, -0.05061933341846503, 0.1157291582600275, 0.017938517179023394, 0.06219948364480454, -0.018552792953506425, 0.04684979437893344, -0.03120998372219208, 0.00844590810314294, 0.040298573777047375, 0.01672076535406175, 0.034361807145407486, 0.055150567547261886, 0.025364201451032464, 0.04763424109907821, -0.014027481681864518, 0.005759866269350988, 0.0016078622658211028, 0.004473143104505528, -0.0071107918836416095, -0.007722356856078361, -0.005777607669455231, -0.0003666361136571705, -0.00036677058499912096, -0.017629792698587443, -0.026293674951913037, -0.006463243896358106, 0.029862558875762613, -0.00910948248392729, 0.006336895866830616, -0.01684210526315799, 0.027091618231875447, 0.01798179482883766, 0.005942911478047819, 0.0010543154220896689, 0.028454694025785265, -0.018609742747673796, -0.062015364409981344, -0.0015152677612400023, -0.00149835756958705, -0.01079282017737937, -0.0028783694426075535, -0.009420713867759, -0.012601650028550626, 0.001954254491794094, 0.0035227385809533107, 0.01642140335567821]}, {\"line\": {\"color\": \"rgba(0, 128, 128, 1.0)\", \"dash\": \"solid\", \"shape\": \"linear\", \"width\": 1.3}, \"mode\": \"lines\", \"name\": \"WFC Return\", \"text\": \"\", \"type\": \"scatter\", \"x\": [\"2020-05-22\", \"2020-05-21\", \"2020-05-20\", \"2020-05-19\", \"2020-05-18\", \"2020-05-15\", \"2020-05-14\", \"2020-05-13\", \"2020-05-12\", \"2020-05-11\", \"2020-05-08\", \"2020-05-07\", \"2020-05-06\", \"2020-05-05\", \"2020-05-04\", \"2020-05-01\", \"2020-04-30\", \"2020-04-29\", \"2020-04-28\", \"2020-04-27\", \"2020-04-24\", \"2020-04-23\", \"2020-04-22\", \"2020-04-21\", \"2020-04-20\", \"2020-04-17\", \"2020-04-16\", \"2020-04-15\", \"2020-04-14\", \"2020-04-13\", \"2020-04-09\", \"2020-04-08\", \"2020-04-07\", \"2020-04-06\", \"2020-04-03\", \"2020-04-02\", \"2020-04-01\", \"2020-03-31\", \"2020-03-30\", \"2020-03-27\", \"2020-03-26\", \"2020-03-25\", \"2020-03-24\", \"2020-03-23\", \"2020-03-20\", \"2020-03-19\", \"2020-03-18\", \"2020-03-17\", \"2020-03-16\", \"2020-03-13\", \"2020-03-12\", \"2020-03-11\", \"2020-03-10\", \"2020-03-09\", \"2020-03-06\", \"2020-03-05\", \"2020-03-04\", \"2020-03-03\", \"2020-03-02\", \"2020-02-28\", \"2020-02-27\", \"2020-02-26\", \"2020-02-25\", \"2020-02-24\", \"2020-02-21\", \"2020-02-20\", \"2020-02-19\", \"2020-02-18\", \"2020-02-14\", \"2020-02-13\", \"2020-02-12\", \"2020-02-11\", \"2020-02-10\", \"2020-02-07\", \"2020-02-06\", \"2020-02-05\", \"2020-02-04\", \"2020-02-03\", \"2020-01-31\", \"2020-01-30\", \"2020-01-29\", \"2020-01-28\", \"2020-01-27\", \"2020-01-24\", \"2020-01-23\", \"2020-01-22\", \"2020-01-21\", \"2020-01-17\", \"2020-01-16\", \"2020-01-15\", \"2020-01-14\", \"2020-01-13\", \"2020-01-10\", \"2020-01-09\", \"2020-01-08\", \"2020-01-07\", \"2020-01-06\", \"2020-01-03\", \"2020-01-02\"], \"y\": [-0.07958872810357953, 0.011998345055854287, 0.002452984464431651, -0.023246329526916854, 0.060960334029227514, -0.0806768988587171, 0.02996575342465757, -0.06359102244389014, 0.06702174877940514, 0.03078202995008339, 0.02623083131557702, -0.007864726700747116, -0.005152596115735153, 0.02772908366533855, 0.03911459140952078, 0.008804327550830049, 0.0528826596649532, 0.032735063749077975, -0.03768322960242154, -0.01593921187488956, -0.05243499497198678, -0.01447847180109163, 0.010153065148834628, 0.0015228812914032108, 0.031285638257432025, 0.025286593682037672, -0.052489663850440405, 0.057636122177954885, 0.061168113654301415, 0.04141451705601962, 0.05632385404492912, -0.08795599127201215, -0.04987026990598786, -0.004858672908465422, -0.08382038488952237, 0.037731445464446844, -0.023877352125346696, 0.08014285165700241, 0.04251990898748592, 0.012037921156731635, 0.020487246015432836, -0.062473171537064554, -0.001725777480364843, -0.12690516511430994, 0.04950094961005358, 0.06757277067611267, -0.00602301006239403, 0.053701015965166965, -0.10564738292011022, 0.16567842291698764, -0.11947151114781163, 0.18861129867206827, 0.08505333585810759, -0.07411070067769987, 0.14192818772971427, 0.04880195868064163, 0.06428852459016388, -0.02102227917981081, 0.04267049316516891, -0.03334299097010962, 0.03963833454054999, 0.039328272150682464, 0.022190887866669673, 0.028154044458515104, 0.028240883297409036, -0.007550802139037471, -0.005280513826324884, -0.0021234182700642368, 0.026186650453815075, -0.002073635209479452, -0.0068699376616767616, 0.004184636406336706, -0.004571161287579284, 0.001452401802687131, 0.0029432465288885545, -0.0037639553429027472, -0.02172984972677594, -0.002945668775910959, -0.003851624904256501, 0.02067268613106621, -0.013344812742143719, 0.00211605584642216, -0.00570346343905781, 0.009983579638752182, 0.013656760096247611, 0.007035777677979471, 0.007836058611169872, 0.004909500832297464, 0.0014258156504234343, -0.018886097152428727, 0.02029536045072322, 0.056976719864460845, 0.007500049472621839, 0.0043604651162789665, 0.001701411976376077, -0.003026102575115708, 0.008361727959895093, 0.0060202357602003875, 0.006196552323224358]}],\n",
       "                        {\"legend\": {\"bgcolor\": \"#F5F6F9\", \"font\": {\"color\": \"#4D5663\"}}, \"paper_bgcolor\": \"#F5F6F9\", \"plot_bgcolor\": \"#F5F6F9\", \"template\": {\"data\": {\"bar\": [{\"error_x\": {\"color\": \"#2a3f5f\"}, \"error_y\": {\"color\": \"#2a3f5f\"}, \"marker\": {\"line\": {\"color\": \"#E5ECF6\", \"width\": 0.5}}, \"type\": \"bar\"}], \"barpolar\": [{\"marker\": {\"line\": {\"color\": \"#E5ECF6\", \"width\": 0.5}}, \"type\": \"barpolar\"}], \"carpet\": [{\"aaxis\": {\"endlinecolor\": \"#2a3f5f\", \"gridcolor\": \"white\", \"linecolor\": \"white\", \"minorgridcolor\": \"white\", \"startlinecolor\": \"#2a3f5f\"}, \"baxis\": {\"endlinecolor\": \"#2a3f5f\", \"gridcolor\": \"white\", \"linecolor\": \"white\", \"minorgridcolor\": \"white\", \"startlinecolor\": \"#2a3f5f\"}, \"type\": \"carpet\"}], \"choropleth\": [{\"colorbar\": {\"outlinewidth\": 0, \"ticks\": \"\"}, \"type\": \"choropleth\"}], \"contour\": [{\"colorbar\": {\"outlinewidth\": 0, \"ticks\": \"\"}, \"colorscale\": [[0.0, \"#0d0887\"], [0.1111111111111111, \"#46039f\"], [0.2222222222222222, \"#7201a8\"], [0.3333333333333333, \"#9c179e\"], [0.4444444444444444, \"#bd3786\"], [0.5555555555555556, \"#d8576b\"], [0.6666666666666666, \"#ed7953\"], [0.7777777777777778, \"#fb9f3a\"], [0.8888888888888888, \"#fdca26\"], [1.0, \"#f0f921\"]], \"type\": \"contour\"}], \"contourcarpet\": [{\"colorbar\": {\"outlinewidth\": 0, \"ticks\": \"\"}, \"type\": \"contourcarpet\"}], \"heatmap\": [{\"colorbar\": {\"outlinewidth\": 0, \"ticks\": \"\"}, \"colorscale\": [[0.0, \"#0d0887\"], [0.1111111111111111, \"#46039f\"], [0.2222222222222222, \"#7201a8\"], [0.3333333333333333, \"#9c179e\"], [0.4444444444444444, \"#bd3786\"], [0.5555555555555556, \"#d8576b\"], [0.6666666666666666, \"#ed7953\"], [0.7777777777777778, \"#fb9f3a\"], [0.8888888888888888, \"#fdca26\"], [1.0, \"#f0f921\"]], \"type\": \"heatmap\"}], \"heatmapgl\": [{\"colorbar\": {\"outlinewidth\": 0, \"ticks\": \"\"}, \"colorscale\": [[0.0, \"#0d0887\"], [0.1111111111111111, \"#46039f\"], [0.2222222222222222, \"#7201a8\"], [0.3333333333333333, \"#9c179e\"], [0.4444444444444444, \"#bd3786\"], [0.5555555555555556, \"#d8576b\"], [0.6666666666666666, \"#ed7953\"], [0.7777777777777778, \"#fb9f3a\"], [0.8888888888888888, \"#fdca26\"], [1.0, \"#f0f921\"]], \"type\": \"heatmapgl\"}], \"histogram\": [{\"marker\": {\"colorbar\": {\"outlinewidth\": 0, \"ticks\": \"\"}}, \"type\": \"histogram\"}], \"histogram2d\": [{\"colorbar\": {\"outlinewidth\": 0, \"ticks\": \"\"}, \"colorscale\": [[0.0, \"#0d0887\"], [0.1111111111111111, \"#46039f\"], [0.2222222222222222, \"#7201a8\"], [0.3333333333333333, \"#9c179e\"], [0.4444444444444444, \"#bd3786\"], [0.5555555555555556, \"#d8576b\"], [0.6666666666666666, \"#ed7953\"], [0.7777777777777778, \"#fb9f3a\"], [0.8888888888888888, \"#fdca26\"], [1.0, \"#f0f921\"]], \"type\": \"histogram2d\"}], \"histogram2dcontour\": [{\"colorbar\": {\"outlinewidth\": 0, \"ticks\": \"\"}, \"colorscale\": [[0.0, \"#0d0887\"], [0.1111111111111111, \"#46039f\"], [0.2222222222222222, \"#7201a8\"], [0.3333333333333333, \"#9c179e\"], [0.4444444444444444, \"#bd3786\"], [0.5555555555555556, \"#d8576b\"], [0.6666666666666666, \"#ed7953\"], [0.7777777777777778, \"#fb9f3a\"], [0.8888888888888888, \"#fdca26\"], [1.0, \"#f0f921\"]], \"type\": \"histogram2dcontour\"}], \"mesh3d\": [{\"colorbar\": {\"outlinewidth\": 0, \"ticks\": \"\"}, \"type\": \"mesh3d\"}], \"parcoords\": [{\"line\": {\"colorbar\": {\"outlinewidth\": 0, \"ticks\": \"\"}}, \"type\": \"parcoords\"}], \"pie\": [{\"automargin\": true, \"type\": \"pie\"}], \"scatter\": [{\"marker\": {\"colorbar\": {\"outlinewidth\": 0, \"ticks\": \"\"}}, \"type\": \"scatter\"}], \"scatter3d\": [{\"line\": {\"colorbar\": {\"outlinewidth\": 0, \"ticks\": \"\"}}, \"marker\": {\"colorbar\": {\"outlinewidth\": 0, \"ticks\": \"\"}}, \"type\": \"scatter3d\"}], \"scattercarpet\": [{\"marker\": {\"colorbar\": {\"outlinewidth\": 0, \"ticks\": \"\"}}, \"type\": \"scattercarpet\"}], \"scattergeo\": [{\"marker\": {\"colorbar\": {\"outlinewidth\": 0, \"ticks\": \"\"}}, \"type\": \"scattergeo\"}], \"scattergl\": [{\"marker\": {\"colorbar\": {\"outlinewidth\": 0, \"ticks\": \"\"}}, \"type\": \"scattergl\"}], \"scattermapbox\": [{\"marker\": {\"colorbar\": {\"outlinewidth\": 0, \"ticks\": \"\"}}, \"type\": \"scattermapbox\"}], \"scatterpolar\": [{\"marker\": {\"colorbar\": {\"outlinewidth\": 0, \"ticks\": \"\"}}, \"type\": \"scatterpolar\"}], \"scatterpolargl\": [{\"marker\": {\"colorbar\": {\"outlinewidth\": 0, \"ticks\": \"\"}}, \"type\": \"scatterpolargl\"}], \"scatterternary\": [{\"marker\": {\"colorbar\": {\"outlinewidth\": 0, \"ticks\": \"\"}}, \"type\": \"scatterternary\"}], \"surface\": [{\"colorbar\": {\"outlinewidth\": 0, \"ticks\": \"\"}, \"colorscale\": [[0.0, \"#0d0887\"], [0.1111111111111111, \"#46039f\"], [0.2222222222222222, \"#7201a8\"], [0.3333333333333333, \"#9c179e\"], [0.4444444444444444, \"#bd3786\"], [0.5555555555555556, \"#d8576b\"], [0.6666666666666666, \"#ed7953\"], [0.7777777777777778, \"#fb9f3a\"], [0.8888888888888888, \"#fdca26\"], [1.0, \"#f0f921\"]], \"type\": \"surface\"}], \"table\": [{\"cells\": {\"fill\": {\"color\": \"#EBF0F8\"}, \"line\": {\"color\": \"white\"}}, \"header\": {\"fill\": {\"color\": \"#C8D4E3\"}, \"line\": {\"color\": \"white\"}}, \"type\": \"table\"}]}, \"layout\": {\"annotationdefaults\": {\"arrowcolor\": \"#2a3f5f\", \"arrowhead\": 0, \"arrowwidth\": 1}, \"coloraxis\": {\"colorbar\": {\"outlinewidth\": 0, \"ticks\": \"\"}}, \"colorscale\": {\"diverging\": [[0, \"#8e0152\"], [0.1, \"#c51b7d\"], [0.2, \"#de77ae\"], [0.3, \"#f1b6da\"], [0.4, \"#fde0ef\"], [0.5, \"#f7f7f7\"], [0.6, \"#e6f5d0\"], [0.7, \"#b8e186\"], [0.8, \"#7fbc41\"], [0.9, \"#4d9221\"], [1, \"#276419\"]], \"sequential\": [[0.0, \"#0d0887\"], [0.1111111111111111, \"#46039f\"], [0.2222222222222222, \"#7201a8\"], [0.3333333333333333, \"#9c179e\"], [0.4444444444444444, \"#bd3786\"], [0.5555555555555556, \"#d8576b\"], [0.6666666666666666, \"#ed7953\"], [0.7777777777777778, \"#fb9f3a\"], [0.8888888888888888, \"#fdca26\"], [1.0, \"#f0f921\"]], \"sequentialminus\": [[0.0, \"#0d0887\"], [0.1111111111111111, \"#46039f\"], [0.2222222222222222, \"#7201a8\"], [0.3333333333333333, \"#9c179e\"], [0.4444444444444444, \"#bd3786\"], [0.5555555555555556, \"#d8576b\"], [0.6666666666666666, \"#ed7953\"], [0.7777777777777778, \"#fb9f3a\"], [0.8888888888888888, \"#fdca26\"], [1.0, \"#f0f921\"]]}, \"colorway\": [\"#636efa\", \"#EF553B\", \"#00cc96\", \"#ab63fa\", \"#FFA15A\", \"#19d3f3\", \"#FF6692\", \"#B6E880\", \"#FF97FF\", \"#FECB52\"], \"font\": {\"color\": \"#2a3f5f\"}, \"geo\": {\"bgcolor\": \"white\", \"lakecolor\": \"white\", \"landcolor\": \"#E5ECF6\", \"showlakes\": true, \"showland\": true, \"subunitcolor\": \"white\"}, \"hoverlabel\": {\"align\": \"left\"}, \"hovermode\": \"closest\", \"mapbox\": {\"style\": \"light\"}, \"paper_bgcolor\": \"white\", \"plot_bgcolor\": \"#E5ECF6\", \"polar\": {\"angularaxis\": {\"gridcolor\": \"white\", \"linecolor\": \"white\", \"ticks\": \"\"}, \"bgcolor\": \"#E5ECF6\", \"radialaxis\": {\"gridcolor\": \"white\", \"linecolor\": \"white\", \"ticks\": \"\"}}, \"scene\": {\"xaxis\": {\"backgroundcolor\": \"#E5ECF6\", \"gridcolor\": \"white\", \"gridwidth\": 2, \"linecolor\": \"white\", \"showbackground\": true, \"ticks\": \"\", \"zerolinecolor\": \"white\"}, \"yaxis\": {\"backgroundcolor\": \"#E5ECF6\", \"gridcolor\": \"white\", \"gridwidth\": 2, \"linecolor\": \"white\", \"showbackground\": true, \"ticks\": \"\", \"zerolinecolor\": \"white\"}, \"zaxis\": {\"backgroundcolor\": \"#E5ECF6\", \"gridcolor\": \"white\", \"gridwidth\": 2, \"linecolor\": \"white\", \"showbackground\": true, \"ticks\": \"\", \"zerolinecolor\": \"white\"}}, \"shapedefaults\": {\"line\": {\"color\": \"#2a3f5f\"}}, \"ternary\": {\"aaxis\": {\"gridcolor\": \"white\", \"linecolor\": \"white\", \"ticks\": \"\"}, \"baxis\": {\"gridcolor\": \"white\", \"linecolor\": \"white\", \"ticks\": \"\"}, \"bgcolor\": \"#E5ECF6\", \"caxis\": {\"gridcolor\": \"white\", \"linecolor\": \"white\", \"ticks\": \"\"}}, \"title\": {\"x\": 0.05}, \"xaxis\": {\"automargin\": true, \"gridcolor\": \"white\", \"linecolor\": \"white\", \"ticks\": \"\", \"title\": {\"standoff\": 15}, \"zerolinecolor\": \"white\", \"zerolinewidth\": 2}, \"yaxis\": {\"automargin\": true, \"gridcolor\": \"white\", \"linecolor\": \"white\", \"ticks\": \"\", \"title\": {\"standoff\": 15}, \"zerolinecolor\": \"white\", \"zerolinewidth\": 2}}}, \"title\": {\"font\": {\"color\": \"#4D5663\"}}, \"xaxis\": {\"gridcolor\": \"#E1E5ED\", \"showgrid\": true, \"tickfont\": {\"color\": \"#4D5663\"}, \"title\": {\"font\": {\"color\": \"#4D5663\"}, \"text\": \"\"}, \"zerolinecolor\": \"#E1E5ED\"}, \"yaxis\": {\"gridcolor\": \"#E1E5ED\", \"showgrid\": true, \"tickfont\": {\"color\": \"#4D5663\"}, \"title\": {\"font\": {\"color\": \"#4D5663\"}, \"text\": \"\"}, \"zerolinecolor\": \"#E1E5ED\"}},\n",
       "                        {\"showLink\": true, \"linkText\": \"Export to plot.ly\", \"plotlyServerURL\": \"https://plot.ly\", \"responsive\": true}\n",
       "                    ).then(function(){\n",
       "                            \n",
       "var gd = document.getElementById('f95f55bf-c47e-4c95-9853-989b0e25f0d2');\n",
       "var x = new MutationObserver(function (mutations, observer) {{\n",
       "        var display = window.getComputedStyle(gd).display;\n",
       "        if (!display || display === 'none') {{\n",
       "            console.log([gd, 'removed!']);\n",
       "            Plotly.purge(gd);\n",
       "            observer.disconnect();\n",
       "        }}\n",
       "}});\n",
       "\n",
       "// Listen for the removal of the full notebook cells\n",
       "var notebookContainer = gd.closest('#notebook-container');\n",
       "if (notebookContainer) {{\n",
       "    x.observe(notebookContainer, {childList: true});\n",
       "}}\n",
       "\n",
       "// Listen for the clearing of the current output cell\n",
       "var outputEl = gd.closest('.output');\n",
       "if (outputEl) {{\n",
       "    x.observe(outputEl, {childList: true});\n",
       "}}\n",
       "\n",
       "                        })\n",
       "                };\n",
       "                });\n",
       "            </script>\n",
       "        </div>"
      ]
     },
     "metadata": {},
     "output_type": "display_data"
    }
   ],
   "source": [
    "returns.loc['2020-05-22':'2020-01-01'].iplot()"
   ]
  },
  {
   "cell_type": "markdown",
   "metadata": {},
   "source": [
    "### Bar plot"
   ]
  },
  {
   "cell_type": "code",
   "execution_count": 15,
   "metadata": {},
   "outputs": [
    {
     "data": {
      "application/vnd.plotly.v1+json": {
       "config": {
        "linkText": "Export to plot.ly",
        "plotlyServerURL": "https://plot.ly",
        "showLink": true
       },
       "data": [
        {
         "marker": {
          "color": "rgba(255, 153, 51, 0.6)",
          "line": {
           "color": "rgba(255, 153, 51, 1.0)",
           "width": 1
          }
         },
         "name": "None",
         "orientation": "v",
         "text": "",
         "type": "bar",
         "x": [
          "BAC Return",
          "C Return",
          "GS Return",
          "JPM Return",
          "MS Return",
          "WFC Return"
         ],
         "y": [
          0.49676113300110225,
          0.6698946954446668,
          0.26937883146606467,
          0.47626943825088475,
          0.2828976631457292,
          0.8115914073366677
         ]
        }
       ],
       "layout": {
        "legend": {
         "bgcolor": "#F5F6F9",
         "font": {
          "color": "#4D5663"
         }
        },
        "paper_bgcolor": "#F5F6F9",
        "plot_bgcolor": "#F5F6F9",
        "template": {
         "data": {
          "bar": [
           {
            "error_x": {
             "color": "#2a3f5f"
            },
            "error_y": {
             "color": "#2a3f5f"
            },
            "marker": {
             "line": {
              "color": "#E5ECF6",
              "width": 0.5
             }
            },
            "type": "bar"
           }
          ],
          "barpolar": [
           {
            "marker": {
             "line": {
              "color": "#E5ECF6",
              "width": 0.5
             }
            },
            "type": "barpolar"
           }
          ],
          "carpet": [
           {
            "aaxis": {
             "endlinecolor": "#2a3f5f",
             "gridcolor": "white",
             "linecolor": "white",
             "minorgridcolor": "white",
             "startlinecolor": "#2a3f5f"
            },
            "baxis": {
             "endlinecolor": "#2a3f5f",
             "gridcolor": "white",
             "linecolor": "white",
             "minorgridcolor": "white",
             "startlinecolor": "#2a3f5f"
            },
            "type": "carpet"
           }
          ],
          "choropleth": [
           {
            "colorbar": {
             "outlinewidth": 0,
             "ticks": ""
            },
            "type": "choropleth"
           }
          ],
          "contour": [
           {
            "colorbar": {
             "outlinewidth": 0,
             "ticks": ""
            },
            "colorscale": [
             [
              0,
              "#0d0887"
             ],
             [
              0.1111111111111111,
              "#46039f"
             ],
             [
              0.2222222222222222,
              "#7201a8"
             ],
             [
              0.3333333333333333,
              "#9c179e"
             ],
             [
              0.4444444444444444,
              "#bd3786"
             ],
             [
              0.5555555555555556,
              "#d8576b"
             ],
             [
              0.6666666666666666,
              "#ed7953"
             ],
             [
              0.7777777777777778,
              "#fb9f3a"
             ],
             [
              0.8888888888888888,
              "#fdca26"
             ],
             [
              1,
              "#f0f921"
             ]
            ],
            "type": "contour"
           }
          ],
          "contourcarpet": [
           {
            "colorbar": {
             "outlinewidth": 0,
             "ticks": ""
            },
            "type": "contourcarpet"
           }
          ],
          "heatmap": [
           {
            "colorbar": {
             "outlinewidth": 0,
             "ticks": ""
            },
            "colorscale": [
             [
              0,
              "#0d0887"
             ],
             [
              0.1111111111111111,
              "#46039f"
             ],
             [
              0.2222222222222222,
              "#7201a8"
             ],
             [
              0.3333333333333333,
              "#9c179e"
             ],
             [
              0.4444444444444444,
              "#bd3786"
             ],
             [
              0.5555555555555556,
              "#d8576b"
             ],
             [
              0.6666666666666666,
              "#ed7953"
             ],
             [
              0.7777777777777778,
              "#fb9f3a"
             ],
             [
              0.8888888888888888,
              "#fdca26"
             ],
             [
              1,
              "#f0f921"
             ]
            ],
            "type": "heatmap"
           }
          ],
          "heatmapgl": [
           {
            "colorbar": {
             "outlinewidth": 0,
             "ticks": ""
            },
            "colorscale": [
             [
              0,
              "#0d0887"
             ],
             [
              0.1111111111111111,
              "#46039f"
             ],
             [
              0.2222222222222222,
              "#7201a8"
             ],
             [
              0.3333333333333333,
              "#9c179e"
             ],
             [
              0.4444444444444444,
              "#bd3786"
             ],
             [
              0.5555555555555556,
              "#d8576b"
             ],
             [
              0.6666666666666666,
              "#ed7953"
             ],
             [
              0.7777777777777778,
              "#fb9f3a"
             ],
             [
              0.8888888888888888,
              "#fdca26"
             ],
             [
              1,
              "#f0f921"
             ]
            ],
            "type": "heatmapgl"
           }
          ],
          "histogram": [
           {
            "marker": {
             "colorbar": {
              "outlinewidth": 0,
              "ticks": ""
             }
            },
            "type": "histogram"
           }
          ],
          "histogram2d": [
           {
            "colorbar": {
             "outlinewidth": 0,
             "ticks": ""
            },
            "colorscale": [
             [
              0,
              "#0d0887"
             ],
             [
              0.1111111111111111,
              "#46039f"
             ],
             [
              0.2222222222222222,
              "#7201a8"
             ],
             [
              0.3333333333333333,
              "#9c179e"
             ],
             [
              0.4444444444444444,
              "#bd3786"
             ],
             [
              0.5555555555555556,
              "#d8576b"
             ],
             [
              0.6666666666666666,
              "#ed7953"
             ],
             [
              0.7777777777777778,
              "#fb9f3a"
             ],
             [
              0.8888888888888888,
              "#fdca26"
             ],
             [
              1,
              "#f0f921"
             ]
            ],
            "type": "histogram2d"
           }
          ],
          "histogram2dcontour": [
           {
            "colorbar": {
             "outlinewidth": 0,
             "ticks": ""
            },
            "colorscale": [
             [
              0,
              "#0d0887"
             ],
             [
              0.1111111111111111,
              "#46039f"
             ],
             [
              0.2222222222222222,
              "#7201a8"
             ],
             [
              0.3333333333333333,
              "#9c179e"
             ],
             [
              0.4444444444444444,
              "#bd3786"
             ],
             [
              0.5555555555555556,
              "#d8576b"
             ],
             [
              0.6666666666666666,
              "#ed7953"
             ],
             [
              0.7777777777777778,
              "#fb9f3a"
             ],
             [
              0.8888888888888888,
              "#fdca26"
             ],
             [
              1,
              "#f0f921"
             ]
            ],
            "type": "histogram2dcontour"
           }
          ],
          "mesh3d": [
           {
            "colorbar": {
             "outlinewidth": 0,
             "ticks": ""
            },
            "type": "mesh3d"
           }
          ],
          "parcoords": [
           {
            "line": {
             "colorbar": {
              "outlinewidth": 0,
              "ticks": ""
             }
            },
            "type": "parcoords"
           }
          ],
          "pie": [
           {
            "automargin": true,
            "type": "pie"
           }
          ],
          "scatter": [
           {
            "marker": {
             "colorbar": {
              "outlinewidth": 0,
              "ticks": ""
             }
            },
            "type": "scatter"
           }
          ],
          "scatter3d": [
           {
            "line": {
             "colorbar": {
              "outlinewidth": 0,
              "ticks": ""
             }
            },
            "marker": {
             "colorbar": {
              "outlinewidth": 0,
              "ticks": ""
             }
            },
            "type": "scatter3d"
           }
          ],
          "scattercarpet": [
           {
            "marker": {
             "colorbar": {
              "outlinewidth": 0,
              "ticks": ""
             }
            },
            "type": "scattercarpet"
           }
          ],
          "scattergeo": [
           {
            "marker": {
             "colorbar": {
              "outlinewidth": 0,
              "ticks": ""
             }
            },
            "type": "scattergeo"
           }
          ],
          "scattergl": [
           {
            "marker": {
             "colorbar": {
              "outlinewidth": 0,
              "ticks": ""
             }
            },
            "type": "scattergl"
           }
          ],
          "scattermapbox": [
           {
            "marker": {
             "colorbar": {
              "outlinewidth": 0,
              "ticks": ""
             }
            },
            "type": "scattermapbox"
           }
          ],
          "scatterpolar": [
           {
            "marker": {
             "colorbar": {
              "outlinewidth": 0,
              "ticks": ""
             }
            },
            "type": "scatterpolar"
           }
          ],
          "scatterpolargl": [
           {
            "marker": {
             "colorbar": {
              "outlinewidth": 0,
              "ticks": ""
             }
            },
            "type": "scatterpolargl"
           }
          ],
          "scatterternary": [
           {
            "marker": {
             "colorbar": {
              "outlinewidth": 0,
              "ticks": ""
             }
            },
            "type": "scatterternary"
           }
          ],
          "surface": [
           {
            "colorbar": {
             "outlinewidth": 0,
             "ticks": ""
            },
            "colorscale": [
             [
              0,
              "#0d0887"
             ],
             [
              0.1111111111111111,
              "#46039f"
             ],
             [
              0.2222222222222222,
              "#7201a8"
             ],
             [
              0.3333333333333333,
              "#9c179e"
             ],
             [
              0.4444444444444444,
              "#bd3786"
             ],
             [
              0.5555555555555556,
              "#d8576b"
             ],
             [
              0.6666666666666666,
              "#ed7953"
             ],
             [
              0.7777777777777778,
              "#fb9f3a"
             ],
             [
              0.8888888888888888,
              "#fdca26"
             ],
             [
              1,
              "#f0f921"
             ]
            ],
            "type": "surface"
           }
          ],
          "table": [
           {
            "cells": {
             "fill": {
              "color": "#EBF0F8"
             },
             "line": {
              "color": "white"
             }
            },
            "header": {
             "fill": {
              "color": "#C8D4E3"
             },
             "line": {
              "color": "white"
             }
            },
            "type": "table"
           }
          ]
         },
         "layout": {
          "annotationdefaults": {
           "arrowcolor": "#2a3f5f",
           "arrowhead": 0,
           "arrowwidth": 1
          },
          "coloraxis": {
           "colorbar": {
            "outlinewidth": 0,
            "ticks": ""
           }
          },
          "colorscale": {
           "diverging": [
            [
             0,
             "#8e0152"
            ],
            [
             0.1,
             "#c51b7d"
            ],
            [
             0.2,
             "#de77ae"
            ],
            [
             0.3,
             "#f1b6da"
            ],
            [
             0.4,
             "#fde0ef"
            ],
            [
             0.5,
             "#f7f7f7"
            ],
            [
             0.6,
             "#e6f5d0"
            ],
            [
             0.7,
             "#b8e186"
            ],
            [
             0.8,
             "#7fbc41"
            ],
            [
             0.9,
             "#4d9221"
            ],
            [
             1,
             "#276419"
            ]
           ],
           "sequential": [
            [
             0,
             "#0d0887"
            ],
            [
             0.1111111111111111,
             "#46039f"
            ],
            [
             0.2222222222222222,
             "#7201a8"
            ],
            [
             0.3333333333333333,
             "#9c179e"
            ],
            [
             0.4444444444444444,
             "#bd3786"
            ],
            [
             0.5555555555555556,
             "#d8576b"
            ],
            [
             0.6666666666666666,
             "#ed7953"
            ],
            [
             0.7777777777777778,
             "#fb9f3a"
            ],
            [
             0.8888888888888888,
             "#fdca26"
            ],
            [
             1,
             "#f0f921"
            ]
           ],
           "sequentialminus": [
            [
             0,
             "#0d0887"
            ],
            [
             0.1111111111111111,
             "#46039f"
            ],
            [
             0.2222222222222222,
             "#7201a8"
            ],
            [
             0.3333333333333333,
             "#9c179e"
            ],
            [
             0.4444444444444444,
             "#bd3786"
            ],
            [
             0.5555555555555556,
             "#d8576b"
            ],
            [
             0.6666666666666666,
             "#ed7953"
            ],
            [
             0.7777777777777778,
             "#fb9f3a"
            ],
            [
             0.8888888888888888,
             "#fdca26"
            ],
            [
             1,
             "#f0f921"
            ]
           ]
          },
          "colorway": [
           "#636efa",
           "#EF553B",
           "#00cc96",
           "#ab63fa",
           "#FFA15A",
           "#19d3f3",
           "#FF6692",
           "#B6E880",
           "#FF97FF",
           "#FECB52"
          ],
          "font": {
           "color": "#2a3f5f"
          },
          "geo": {
           "bgcolor": "white",
           "lakecolor": "white",
           "landcolor": "#E5ECF6",
           "showlakes": true,
           "showland": true,
           "subunitcolor": "white"
          },
          "hoverlabel": {
           "align": "left"
          },
          "hovermode": "closest",
          "mapbox": {
           "style": "light"
          },
          "paper_bgcolor": "white",
          "plot_bgcolor": "#E5ECF6",
          "polar": {
           "angularaxis": {
            "gridcolor": "white",
            "linecolor": "white",
            "ticks": ""
           },
           "bgcolor": "#E5ECF6",
           "radialaxis": {
            "gridcolor": "white",
            "linecolor": "white",
            "ticks": ""
           }
          },
          "scene": {
           "xaxis": {
            "backgroundcolor": "#E5ECF6",
            "gridcolor": "white",
            "gridwidth": 2,
            "linecolor": "white",
            "showbackground": true,
            "ticks": "",
            "zerolinecolor": "white"
           },
           "yaxis": {
            "backgroundcolor": "#E5ECF6",
            "gridcolor": "white",
            "gridwidth": 2,
            "linecolor": "white",
            "showbackground": true,
            "ticks": "",
            "zerolinecolor": "white"
           },
           "zaxis": {
            "backgroundcolor": "#E5ECF6",
            "gridcolor": "white",
            "gridwidth": 2,
            "linecolor": "white",
            "showbackground": true,
            "ticks": "",
            "zerolinecolor": "white"
           }
          },
          "shapedefaults": {
           "line": {
            "color": "#2a3f5f"
           }
          },
          "ternary": {
           "aaxis": {
            "gridcolor": "white",
            "linecolor": "white",
            "ticks": ""
           },
           "baxis": {
            "gridcolor": "white",
            "linecolor": "white",
            "ticks": ""
           },
           "bgcolor": "#E5ECF6",
           "caxis": {
            "gridcolor": "white",
            "linecolor": "white",
            "ticks": ""
           }
          },
          "title": {
           "x": 0.05
          },
          "xaxis": {
           "automargin": true,
           "gridcolor": "white",
           "linecolor": "white",
           "ticks": "",
           "title": {
            "standoff": 15
           },
           "zerolinecolor": "white",
           "zerolinewidth": 2
          },
          "yaxis": {
           "automargin": true,
           "gridcolor": "white",
           "linecolor": "white",
           "ticks": "",
           "title": {
            "standoff": 15
           },
           "zerolinecolor": "white",
           "zerolinewidth": 2
          }
         }
        },
        "title": {
         "font": {
          "color": "#4D5663"
         }
        },
        "xaxis": {
         "gridcolor": "#E1E5ED",
         "showgrid": true,
         "tickfont": {
          "color": "#4D5663"
         },
         "title": {
          "font": {
           "color": "#4D5663"
          },
          "text": ""
         },
         "zerolinecolor": "#E1E5ED"
        },
        "yaxis": {
         "gridcolor": "#E1E5ED",
         "showgrid": true,
         "tickfont": {
          "color": "#4D5663"
         },
         "title": {
          "font": {
           "color": "#4D5663"
          },
          "text": ""
         },
         "zerolinecolor": "#E1E5ED"
        }
       }
      },
      "text/html": [
       "<div>\n",
       "        \n",
       "        \n",
       "            <div id=\"b8f25f09-9d87-44b9-b175-7853d154fdcc\" class=\"plotly-graph-div\" style=\"height:525px; width:100%;\"></div>\n",
       "            <script type=\"text/javascript\">\n",
       "                require([\"plotly\"], function(Plotly) {\n",
       "                    window.PLOTLYENV=window.PLOTLYENV || {};\n",
       "                    window.PLOTLYENV.BASE_URL='https://plot.ly';\n",
       "                    \n",
       "                if (document.getElementById(\"b8f25f09-9d87-44b9-b175-7853d154fdcc\")) {\n",
       "                    Plotly.newPlot(\n",
       "                        'b8f25f09-9d87-44b9-b175-7853d154fdcc',\n",
       "                        [{\"marker\": {\"color\": \"rgba(255, 153, 51, 0.6)\", \"line\": {\"color\": \"rgba(255, 153, 51, 1.0)\", \"width\": 1}}, \"name\": \"None\", \"orientation\": \"v\", \"text\": \"\", \"type\": \"bar\", \"x\": [\"BAC Return\", \"C Return\", \"GS Return\", \"JPM Return\", \"MS Return\", \"WFC Return\"], \"y\": [0.49676113300110225, 0.6698946954446668, 0.26937883146606467, 0.47626943825088475, 0.2828976631457292, 0.8115914073366677]}],\n",
       "                        {\"legend\": {\"bgcolor\": \"#F5F6F9\", \"font\": {\"color\": \"#4D5663\"}}, \"paper_bgcolor\": \"#F5F6F9\", \"plot_bgcolor\": \"#F5F6F9\", \"template\": {\"data\": {\"bar\": [{\"error_x\": {\"color\": \"#2a3f5f\"}, \"error_y\": {\"color\": \"#2a3f5f\"}, \"marker\": {\"line\": {\"color\": \"#E5ECF6\", \"width\": 0.5}}, \"type\": \"bar\"}], \"barpolar\": [{\"marker\": {\"line\": {\"color\": \"#E5ECF6\", \"width\": 0.5}}, \"type\": \"barpolar\"}], \"carpet\": [{\"aaxis\": {\"endlinecolor\": \"#2a3f5f\", \"gridcolor\": \"white\", \"linecolor\": \"white\", \"minorgridcolor\": \"white\", \"startlinecolor\": \"#2a3f5f\"}, \"baxis\": {\"endlinecolor\": \"#2a3f5f\", \"gridcolor\": \"white\", \"linecolor\": \"white\", \"minorgridcolor\": \"white\", \"startlinecolor\": \"#2a3f5f\"}, \"type\": \"carpet\"}], \"choropleth\": [{\"colorbar\": {\"outlinewidth\": 0, \"ticks\": \"\"}, \"type\": \"choropleth\"}], \"contour\": [{\"colorbar\": {\"outlinewidth\": 0, \"ticks\": \"\"}, \"colorscale\": [[0.0, \"#0d0887\"], [0.1111111111111111, \"#46039f\"], [0.2222222222222222, \"#7201a8\"], [0.3333333333333333, \"#9c179e\"], [0.4444444444444444, \"#bd3786\"], [0.5555555555555556, \"#d8576b\"], [0.6666666666666666, \"#ed7953\"], [0.7777777777777778, \"#fb9f3a\"], [0.8888888888888888, \"#fdca26\"], [1.0, \"#f0f921\"]], \"type\": \"contour\"}], \"contourcarpet\": [{\"colorbar\": {\"outlinewidth\": 0, \"ticks\": \"\"}, \"type\": \"contourcarpet\"}], \"heatmap\": [{\"colorbar\": {\"outlinewidth\": 0, \"ticks\": \"\"}, \"colorscale\": [[0.0, \"#0d0887\"], [0.1111111111111111, \"#46039f\"], [0.2222222222222222, \"#7201a8\"], [0.3333333333333333, \"#9c179e\"], [0.4444444444444444, \"#bd3786\"], [0.5555555555555556, \"#d8576b\"], [0.6666666666666666, \"#ed7953\"], [0.7777777777777778, \"#fb9f3a\"], [0.8888888888888888, \"#fdca26\"], [1.0, \"#f0f921\"]], \"type\": \"heatmap\"}], \"heatmapgl\": [{\"colorbar\": {\"outlinewidth\": 0, \"ticks\": \"\"}, \"colorscale\": [[0.0, \"#0d0887\"], [0.1111111111111111, \"#46039f\"], [0.2222222222222222, \"#7201a8\"], [0.3333333333333333, \"#9c179e\"], [0.4444444444444444, \"#bd3786\"], [0.5555555555555556, \"#d8576b\"], [0.6666666666666666, \"#ed7953\"], [0.7777777777777778, \"#fb9f3a\"], [0.8888888888888888, \"#fdca26\"], [1.0, \"#f0f921\"]], \"type\": \"heatmapgl\"}], \"histogram\": [{\"marker\": {\"colorbar\": {\"outlinewidth\": 0, \"ticks\": \"\"}}, \"type\": \"histogram\"}], \"histogram2d\": [{\"colorbar\": {\"outlinewidth\": 0, \"ticks\": \"\"}, \"colorscale\": [[0.0, \"#0d0887\"], [0.1111111111111111, \"#46039f\"], [0.2222222222222222, \"#7201a8\"], [0.3333333333333333, \"#9c179e\"], [0.4444444444444444, \"#bd3786\"], [0.5555555555555556, \"#d8576b\"], [0.6666666666666666, \"#ed7953\"], [0.7777777777777778, \"#fb9f3a\"], [0.8888888888888888, \"#fdca26\"], [1.0, \"#f0f921\"]], \"type\": \"histogram2d\"}], \"histogram2dcontour\": [{\"colorbar\": {\"outlinewidth\": 0, \"ticks\": \"\"}, \"colorscale\": [[0.0, \"#0d0887\"], [0.1111111111111111, \"#46039f\"], [0.2222222222222222, \"#7201a8\"], [0.3333333333333333, \"#9c179e\"], [0.4444444444444444, \"#bd3786\"], [0.5555555555555556, \"#d8576b\"], [0.6666666666666666, \"#ed7953\"], [0.7777777777777778, \"#fb9f3a\"], [0.8888888888888888, \"#fdca26\"], [1.0, \"#f0f921\"]], \"type\": \"histogram2dcontour\"}], \"mesh3d\": [{\"colorbar\": {\"outlinewidth\": 0, \"ticks\": \"\"}, \"type\": \"mesh3d\"}], \"parcoords\": [{\"line\": {\"colorbar\": {\"outlinewidth\": 0, \"ticks\": \"\"}}, \"type\": \"parcoords\"}], \"pie\": [{\"automargin\": true, \"type\": \"pie\"}], \"scatter\": [{\"marker\": {\"colorbar\": {\"outlinewidth\": 0, \"ticks\": \"\"}}, \"type\": \"scatter\"}], \"scatter3d\": [{\"line\": {\"colorbar\": {\"outlinewidth\": 0, \"ticks\": \"\"}}, \"marker\": {\"colorbar\": {\"outlinewidth\": 0, \"ticks\": \"\"}}, \"type\": \"scatter3d\"}], \"scattercarpet\": [{\"marker\": {\"colorbar\": {\"outlinewidth\": 0, \"ticks\": \"\"}}, \"type\": \"scattercarpet\"}], \"scattergeo\": [{\"marker\": {\"colorbar\": {\"outlinewidth\": 0, \"ticks\": \"\"}}, \"type\": \"scattergeo\"}], \"scattergl\": [{\"marker\": {\"colorbar\": {\"outlinewidth\": 0, \"ticks\": \"\"}}, \"type\": \"scattergl\"}], \"scattermapbox\": [{\"marker\": {\"colorbar\": {\"outlinewidth\": 0, \"ticks\": \"\"}}, \"type\": \"scattermapbox\"}], \"scatterpolar\": [{\"marker\": {\"colorbar\": {\"outlinewidth\": 0, \"ticks\": \"\"}}, \"type\": \"scatterpolar\"}], \"scatterpolargl\": [{\"marker\": {\"colorbar\": {\"outlinewidth\": 0, \"ticks\": \"\"}}, \"type\": \"scatterpolargl\"}], \"scatterternary\": [{\"marker\": {\"colorbar\": {\"outlinewidth\": 0, \"ticks\": \"\"}}, \"type\": \"scatterternary\"}], \"surface\": [{\"colorbar\": {\"outlinewidth\": 0, \"ticks\": \"\"}, \"colorscale\": [[0.0, \"#0d0887\"], [0.1111111111111111, \"#46039f\"], [0.2222222222222222, \"#7201a8\"], [0.3333333333333333, \"#9c179e\"], [0.4444444444444444, \"#bd3786\"], [0.5555555555555556, \"#d8576b\"], [0.6666666666666666, \"#ed7953\"], [0.7777777777777778, \"#fb9f3a\"], [0.8888888888888888, \"#fdca26\"], [1.0, \"#f0f921\"]], \"type\": \"surface\"}], \"table\": [{\"cells\": {\"fill\": {\"color\": \"#EBF0F8\"}, \"line\": {\"color\": \"white\"}}, \"header\": {\"fill\": {\"color\": \"#C8D4E3\"}, \"line\": {\"color\": \"white\"}}, \"type\": \"table\"}]}, \"layout\": {\"annotationdefaults\": {\"arrowcolor\": \"#2a3f5f\", \"arrowhead\": 0, \"arrowwidth\": 1}, \"coloraxis\": {\"colorbar\": {\"outlinewidth\": 0, \"ticks\": \"\"}}, \"colorscale\": {\"diverging\": [[0, \"#8e0152\"], [0.1, \"#c51b7d\"], [0.2, \"#de77ae\"], [0.3, \"#f1b6da\"], [0.4, \"#fde0ef\"], [0.5, \"#f7f7f7\"], [0.6, \"#e6f5d0\"], [0.7, \"#b8e186\"], [0.8, \"#7fbc41\"], [0.9, \"#4d9221\"], [1, \"#276419\"]], \"sequential\": [[0.0, \"#0d0887\"], [0.1111111111111111, \"#46039f\"], [0.2222222222222222, \"#7201a8\"], [0.3333333333333333, \"#9c179e\"], [0.4444444444444444, \"#bd3786\"], [0.5555555555555556, \"#d8576b\"], [0.6666666666666666, \"#ed7953\"], [0.7777777777777778, \"#fb9f3a\"], [0.8888888888888888, \"#fdca26\"], [1.0, \"#f0f921\"]], \"sequentialminus\": [[0.0, \"#0d0887\"], [0.1111111111111111, \"#46039f\"], [0.2222222222222222, \"#7201a8\"], [0.3333333333333333, \"#9c179e\"], [0.4444444444444444, \"#bd3786\"], [0.5555555555555556, \"#d8576b\"], [0.6666666666666666, \"#ed7953\"], [0.7777777777777778, \"#fb9f3a\"], [0.8888888888888888, \"#fdca26\"], [1.0, \"#f0f921\"]]}, \"colorway\": [\"#636efa\", \"#EF553B\", \"#00cc96\", \"#ab63fa\", \"#FFA15A\", \"#19d3f3\", \"#FF6692\", \"#B6E880\", \"#FF97FF\", \"#FECB52\"], \"font\": {\"color\": \"#2a3f5f\"}, \"geo\": {\"bgcolor\": \"white\", \"lakecolor\": \"white\", \"landcolor\": \"#E5ECF6\", \"showlakes\": true, \"showland\": true, \"subunitcolor\": \"white\"}, \"hoverlabel\": {\"align\": \"left\"}, \"hovermode\": \"closest\", \"mapbox\": {\"style\": \"light\"}, \"paper_bgcolor\": \"white\", \"plot_bgcolor\": \"#E5ECF6\", \"polar\": {\"angularaxis\": {\"gridcolor\": \"white\", \"linecolor\": \"white\", \"ticks\": \"\"}, \"bgcolor\": \"#E5ECF6\", \"radialaxis\": {\"gridcolor\": \"white\", \"linecolor\": \"white\", \"ticks\": \"\"}}, \"scene\": {\"xaxis\": {\"backgroundcolor\": \"#E5ECF6\", \"gridcolor\": \"white\", \"gridwidth\": 2, \"linecolor\": \"white\", \"showbackground\": true, \"ticks\": \"\", \"zerolinecolor\": \"white\"}, \"yaxis\": {\"backgroundcolor\": \"#E5ECF6\", \"gridcolor\": \"white\", \"gridwidth\": 2, \"linecolor\": \"white\", \"showbackground\": true, \"ticks\": \"\", \"zerolinecolor\": \"white\"}, \"zaxis\": {\"backgroundcolor\": \"#E5ECF6\", \"gridcolor\": \"white\", \"gridwidth\": 2, \"linecolor\": \"white\", \"showbackground\": true, \"ticks\": \"\", \"zerolinecolor\": \"white\"}}, \"shapedefaults\": {\"line\": {\"color\": \"#2a3f5f\"}}, \"ternary\": {\"aaxis\": {\"gridcolor\": \"white\", \"linecolor\": \"white\", \"ticks\": \"\"}, \"baxis\": {\"gridcolor\": \"white\", \"linecolor\": \"white\", \"ticks\": \"\"}, \"bgcolor\": \"#E5ECF6\", \"caxis\": {\"gridcolor\": \"white\", \"linecolor\": \"white\", \"ticks\": \"\"}}, \"title\": {\"x\": 0.05}, \"xaxis\": {\"automargin\": true, \"gridcolor\": \"white\", \"linecolor\": \"white\", \"ticks\": \"\", \"title\": {\"standoff\": 15}, \"zerolinecolor\": \"white\", \"zerolinewidth\": 2}, \"yaxis\": {\"automargin\": true, \"gridcolor\": \"white\", \"linecolor\": \"white\", \"ticks\": \"\", \"title\": {\"standoff\": 15}, \"zerolinecolor\": \"white\", \"zerolinewidth\": 2}}}, \"title\": {\"font\": {\"color\": \"#4D5663\"}}, \"xaxis\": {\"gridcolor\": \"#E1E5ED\", \"showgrid\": true, \"tickfont\": {\"color\": \"#4D5663\"}, \"title\": {\"font\": {\"color\": \"#4D5663\"}, \"text\": \"\"}, \"zerolinecolor\": \"#E1E5ED\"}, \"yaxis\": {\"gridcolor\": \"#E1E5ED\", \"showgrid\": true, \"tickfont\": {\"color\": \"#4D5663\"}, \"title\": {\"font\": {\"color\": \"#4D5663\"}, \"text\": \"\"}, \"zerolinecolor\": \"#E1E5ED\"}},\n",
       "                        {\"showLink\": true, \"linkText\": \"Export to plot.ly\", \"plotlyServerURL\": \"https://plot.ly\", \"responsive\": true}\n",
       "                    ).then(function(){\n",
       "                            \n",
       "var gd = document.getElementById('b8f25f09-9d87-44b9-b175-7853d154fdcc');\n",
       "var x = new MutationObserver(function (mutations, observer) {{\n",
       "        var display = window.getComputedStyle(gd).display;\n",
       "        if (!display || display === 'none') {{\n",
       "            console.log([gd, 'removed!']);\n",
       "            Plotly.purge(gd);\n",
       "            observer.disconnect();\n",
       "        }}\n",
       "}});\n",
       "\n",
       "// Listen for the removal of the full notebook cells\n",
       "var notebookContainer = gd.closest('#notebook-container');\n",
       "if (notebookContainer) {{\n",
       "    x.observe(notebookContainer, {childList: true});\n",
       "}}\n",
       "\n",
       "// Listen for the clearing of the current output cell\n",
       "var outputEl = gd.closest('.output');\n",
       "if (outputEl) {{\n",
       "    x.observe(outputEl, {childList: true});\n",
       "}}\n",
       "\n",
       "                        })\n",
       "                };\n",
       "                });\n",
       "            </script>\n",
       "        </div>"
      ]
     },
     "metadata": {},
     "output_type": "display_data"
    }
   ],
   "source": [
    "returns.loc['2020-05-22':'2020-01-01'].sum().iplot(kind='bar')"
   ]
  },
  {
   "cell_type": "markdown",
   "metadata": {},
   "source": [
    "### Histogram plot"
   ]
  },
  {
   "cell_type": "code",
   "execution_count": 16,
   "metadata": {},
   "outputs": [
    {
     "data": {
      "application/vnd.plotly.v1+json": {
       "config": {
        "linkText": "Export to plot.ly",
        "plotlyServerURL": "https://plot.ly",
        "showLink": true
       },
       "data": [
        {
         "histfunc": "count",
         "histnorm": "",
         "marker": {
          "color": "rgba(255, 153, 51, 1.0)",
          "line": {
           "color": "#4D5663",
           "width": 1.3
          }
         },
         "name": "BAC Return",
         "opacity": 0.8,
         "orientation": "v",
         "type": "histogram",
         "x": [
          -0.06672158154859975,
          0.010591350397175514,
          0.0004366812227074579,
          -0.030554343081623747,
          0.03241782980639352,
          -0.0649803750545137,
          0.012593283582089443,
          -0.038691847075080554,
          0.04791566842357442,
          0.0324645633287608,
          0.0438441098317095,
          -0.030971574034790006,
          -0.021453590192644367,
          0.013870246085011084,
          0.011915269196822509,
          0.0065416484954208265,
          0.04202772963604873,
          0.0303534303534303,
          -0.035916061339790195,
          -0.017580577647551388,
          -0.054963783553472534,
          -0.013976555455365136,
          -0.0032007315957933713,
          -0.007339449541284404,
          0.03974121996303137,
          0.03466666666666662,
          -0.07989690721649478,
          0.035947712418300526,
          0.06940063091482651,
          0.008006742520016985,
          0.03929765886287617,
          -0.056717618664521297,
          -0.05586353944562894,
          -0.03387533875338755,
          -0.06358111266947164,
          0.026959560659011395,
          -0.038891589693728745,
          0.07384926656550328,
          0.03815355628827133,
          -0.019963702359346525,
          0.051851851851851816,
          -0.07130281690140838,
          -0.0033175355450236754,
          -0.14027579648121746,
          0.08794247787610643,
          0.07778342653787473,
          -0.019339622641509457,
          0.05723905723905731,
          -0.07006369426751591,
          0.18199608610567508,
          -0.15107615894039728,
          0.10531448074110195,
          0.04146449051610057,
          -0.0711562897077509,
          0.1723666210670316,
          0.04161804745235309,
          0.05339805825242716,
          -0.02254519673874511,
          0.0583883368390512,
          -0.02963952850877183,
          0.0221053003284013,
          0.05151148730350674,
          0.014686555394927137,
          0.05307126898293535,
          0.049812434659614935,
          0.014263956417315926,
          -0.003725201420774482,
          -0.012956521739130311,
          0.016914809267905673,
          0.0017326518236160382,
          0.0002882758223066162,
          -0.0042940718752702,
          -0.0023154848046309517,
          -0.002291847983754036,
          0.001715565118781237,
          0.0011611030478955175,
          -0.03140040591475801,
          -0.0193372646451343,
          -0.004242849729861553,
          0.01980258721108452,
          -0.014037513526511947,
          0.006951007591232017,
          -0.011716975990796241,
          0.020985233747932153,
          0.01731328952500988,
          0.007019820670127297,
          -0.0028996543846288025,
          0.013130452662808878,
          0.0002899391127861861,
          -0.0014492753623187582,
          0.01875181422351213,
          -0.007351265101435911,
          -0.009127963717779353,
          0.008342989571263004,
          -0.0017237416685818019,
          -0.009986186255324325,
          0.006627714310630584,
          0.0014438765196802539,
          0.021194382767669273
         ]
        },
        {
         "histfunc": "count",
         "histnorm": "",
         "marker": {
          "color": "rgba(55, 128, 191, 1.0)",
          "line": {
           "color": "#4D5663",
           "width": 1.3
          }
         },
         "name": "C Return",
         "opacity": 0.8,
         "orientation": "v",
         "type": "histogram",
         "x": [
          -0.08449242266971146,
          0.020408163265306145,
          0.010444444444444478,
          -0.02287222344402906,
          0.0279090704478957,
          -0.08211079483249395,
          0.0033396946564885344,
          -0.03471231573941991,
          0.0431034482758621,
          0.040613931523022506,
          0.051055139550714834,
          -0.03626943005181349,
          -0.03785842293906805,
          0.02328288707799775,
          0.02662116040955609,
          0.00886524822695045,
          0.055579964850615005,
          0.03500520291363163,
          -0.06068527306362104,
          -0.013764610181101866,
          -0.07432007119446082,
          -0.014842779093488523,
          -0.005188746608273176,
          -0.01586276198679304,
          0.058711983079279495,
          0.0327225130890052,
          -0.10848731461098882,
          0.05776425400309271,
          0.05972647960386723,
          0.0277462563691786,
          0.015631088980298857,
          -0.06644355388813095,
          -0.06799862998059147,
          -0.003160447852610382,
          -0.08828155721588693,
          0.046420099202070464,
          -0.018342006285743784,
          0.09373851886841966,
          0.04652334564998295,
          -0.006350734805236402,
          0.05069220119981521,
          -0.09040999626677204,
          -0.028657653307580855,
          -0.1296199637113813,
          0.07544691301616302,
          0.04152947424322906,
          -0.08099632877829921,
          0.1048630954032237,
          0.023350993044919166,
          0.2391491032215325,
          -0.15242357041026444,
          0.1740643834976403,
          0.09429532204469049,
          -0.0757509637064514,
          0.19291756836513874,
          0.036067682564812964,
          0.06142654760199284,
          -0.03471701508653002,
          0.03904174499355251,
          -0.06109449760765551,
          0.015590661528171568,
          0.057877158044940646,
          0.01833570496857595,
          0.044642727180099095,
          0.05390982053282789,
          0.023282256038711147,
          -0.002170598723481132,
          -0.0060209763045449005,
          0.015606070474825762,
          0.002655105627028087,
          0.0041831904822822175,
          -0.0030319630049555624,
          -0.0077051840682860195,
          0.0026784794478209584,
          0.003557484845371661,
          -0.0015228881125147753,
          -0.02979928738048232,
          -0.017913523653513286,
          -0.009577487523708572,
          0.03372312539895961,
          -0.012271389531217092,
          0.009936417568969569,
          -0.006848864010536637,
          0.02227968967575089,
          0.017590971006032463,
          0.003760788363228462,
          -0.0024893314366998265,
          0.015278838808250317,
          -0.0014923501379481285,
          0.002964042149683932,
          0.00823972851471999,
          -0.015363596845308303,
          -0.01736925754938312,
          0.010474833442446041,
          -0.008994245207515461,
          -0.0075632298837313705,
          0.008770456864593879,
          0.003137084176291438,
          0.019210395312918793
         ]
        },
        {
         "histfunc": "count",
         "histnorm": "",
         "marker": {
          "color": "rgba(50, 171, 96, 1.0)",
          "line": {
           "color": "#4D5663",
           "width": 1.3
          }
         },
         "name": "GS Return",
         "opacity": 0.8,
         "orientation": "v",
         "type": "histogram",
         "x": [
          -0.0822707334489442,
          0.0009448118712831466,
          0.007440310938367611,
          -0.019896384479717755,
          0.022774559973007813,
          -0.055036287662194816,
          0.015011345784604613,
          -0.015190599025508567,
          0.031490104772991856,
          0.033575983296653567,
          0.012175147412098575,
          -0.016559684988402767,
          -0.029618253620008805,
          0.007800135654533191,
          -0.012731351654514889,
          0.006078509344997984,
          0.03568605307735728,
          0.036037509540944423,
          -0.015892227543019555,
          -0.018555157478209683,
          -0.03563255966001955,
          -0.011016949152542255,
          0.005312767780633942,
          -0.012330946698488443,
          0.03791496461653532,
          0.017128603104212825,
          -0.03515177938852265,
          0.008359692724807966,
          -0.0016244678467399742,
          0.005330191325815026,
          0.028351378502064817,
          -0.03961793118419621,
          -0.06182188065099459,
          -0.046922057583423826,
          -0.07141502875560879,
          0.020417886068195834,
          -0.030947775628626828,
          0.06400991121205868,
          0.032537680315673834,
          -0.008019045232427024,
          0.047050650498926316,
          -0.06429820857711566,
          -0.009862695803519617,
          -0.12128906249999993,
          0.025487145291546165,
          0.08005201936276296,
          -0.06334871897785799,
          0.13319525782031127,
          -0.02527257830717833,
          0.14554506659769806,
          -0.14951741265451257,
          0.14076187947969188,
          0.07248821920995985,
          -0.06259831841605634,
          0.11596551125513566,
          0.03080114078299201,
          0.05005281955832808,
          -0.025438344351825237,
          0.029690802733126853,
          -0.04153339380340859,
          0.018279623449718452,
          0.049060849148894636,
          0.008486035342938347,
          0.031855379351796165,
          0.02706335693162476,
          0.009161504231742335,
          0.019756181912502058,
          -0.01738098266140997,
          0.016609862375426054,
          0.005347139704634296,
          0.0012663571127056183,
          -0.009190556492411406,
          0.0038294613224405527,
          0.002670396744659298,
          0.016064257028112428,
          0.010276679841897174,
          -0.009677950745408115,
          -0.012101301617665428,
          -0.005261828590671813,
          0.02682916507976807,
          -0.01644343704924789,
          0.010265649878488325,
          -0.018331881713740672,
          0.015885757742194473,
          0.015138282387190838,
          0.0059814003031668506,
          -0.005457137039299509,
          0.0152737398140943,
          0.0010486408001935121,
          -0.0180499597099113,
          0.0018463810930575697,
          -0.0018429782528566196,
          -0.012637452814705408,
          0.002036236702127603,
          -0.019947746029112978,
          -0.009563303994583605,
          -0.006536785439630877,
          -0.010149228056594906,
          0.011860798540209494
         ]
        },
        {
         "histfunc": "count",
         "histnorm": "",
         "marker": {
          "color": "rgba(128, 0, 128, 1.0)",
          "line": {
           "color": "#4D5663",
           "width": 1.3
          }
         },
         "name": "JPM Return",
         "opacity": 0.8,
         "orientation": "v",
         "type": "histogram",
         "x": [
          -0.06627008975161752,
          0.007823851570358809,
          0.012864589109459867,
          -0.02912515055293985,
          0.020074433291981553,
          -0.05030403537866224,
          0.018859138533178,
          -0.03987659963436918,
          0.035701535166012155,
          0.03378145467080307,
          0.030343447815938784,
          -0.016073354908306414,
          -0.010305887512334189,
          0.01916472803810798,
          0.0015217391304347405,
          0.012046885174734179,
          0.02691689008042908,
          0.021929824561403466,
          -0.026262006948702177,
          -0.0070311680134327315,
          -0.041323187486789426,
          -0.01455186859221691,
          -0.0005593466830741134,
          -0.003246026415939185,
          0.029870859067939293,
          0.037836659033911424,
          -0.08247530993906294,
          0.039619832818046596,
          0.05187796012776724,
          0.028167539267015762,
          0.046542417761482824,
          -0.08232775398987935,
          -0.038812301166489926,
          -0.013018534863195153,
          -0.060473954840151944,
          0.030458060678167698,
          -0.03600046184043404,
          0.06721602069659371,
          0.03853923505117618,
          -0.02534094101882467,
          0.07670218309624932,
          -0.06512135597409152,
          -0.035974313503034594,
          -0.10630591515179222,
          0.056560594244218,
          0.02156314662213643,
          -0.016535778164717962,
          0.11766052007178396,
          -0.05759946549420236,
          0.1759728304993653,
          -0.1526254375729289,
          0.08983980537960168,
          0.049350868141471826,
          -0.07205498695564916,
          0.15669503346705738,
          0.05450126203608496,
          0.05159574468085104,
          -0.024110605294216825,
          0.0389599170697994,
          -0.04448324602976628,
          0.045248868778280604,
          0.043456543456543484,
          -0.0030317536301260883,
          0.04673495518565951,
          0.027599388379204726,
          0.012424670783423908,
          0,
          -0.01344797178130519,
          0.013407821229050265,
          0.0030135979419330106,
          0.0008793785724754422,
          0,
          -0.0019036462146728717,
          -0.004107981220657253,
          0.0031673541543901784,
          -0.00014685366032751723,
          -0.01667033854740385,
          -0.014189693801344383,
          -0.007575757575757569,
          0.026641221374045898,
          -0.012194215183285118,
          0.0015054572826498358,
          -0.017888012025554456,
          0.008494681258131243,
          0.025497040522082237,
          0.0009619653692469754,
          0.0011828195460930058,
          0.009968249280070784,
          -0.006872349758736629,
          -0.0039016489988221714,
          0.015224299756115611,
          -0.011501783504404228,
          -0.008248030046395183,
          0.010098759931684853,
          -0.0036756597809306513,
          -0.0077473622076293935,
          0.01732599643069621,
          0.000804034792778241,
          0.013365468886941345
         ]
        },
        {
         "histfunc": "count",
         "histnorm": "",
         "marker": {
          "color": "rgba(219, 64, 82, 1.0)",
          "line": {
           "color": "#4D5663",
           "width": 1.3
          }
         },
         "name": "MS Return",
         "opacity": 0.8,
         "orientation": "v",
         "type": "histogram",
         "x": [
          -0.08148317692835882,
          0.0042362322452029755,
          0.0188585607940448,
          -0.04213346322454958,
          0.024154589371980784,
          -0.07423038728897724,
          0.013944757307589262,
          -0.02168738428987038,
          0.03865909705325765,
          0.03669963560645484,
          0.0062766758724579486,
          -0.03168662674650691,
          -0.038907498067508484,
          0.01823056300268089,
          0.0028962611901002244,
          0.0081386190601207,
          0.026822916666666696,
          0.034491503931016965,
          -0.024760970826182893,
          -0.020437405731523417,
          -0.03408011907511477,
          -0.013177820877281587,
          0.009073042026761291,
          -0.022732123799359627,
          0.038140220596265095,
          0.019040105193951495,
          -0.018684353144597377,
          0.0010519395134780396,
          0.03801392355181932,
          -0.007010528447054076,
          0.03789983433159172,
          -0.041623692353027875,
          -0.061726497040510364,
          0.001884319187284822,
          -0.0853708398070161,
          0.0014602890776336253,
          -0.06725389834543505,
          0.07526161306789181,
          0.024715900661662182,
          -0.023830206161686407,
          0.05001038175184647,
          -0.04816520240684763,
          -0.02267466017688613,
          -0.16286061342241132,
          0.06689157325788075,
          0.04212709530447789,
          -0.005481239804241422,
          0.09884522012991259,
          -0.06332288401253905,
          0.18483457640084144,
          -0.16506604255777046,
          0.17756226439411038,
          0.07133085257743232,
          -0.05061933341846503,
          0.1157291582600275,
          0.017938517179023394,
          0.06219948364480454,
          -0.018552792953506425,
          0.04684979437893344,
          -0.03120998372219208,
          0.00844590810314294,
          0.040298573777047375,
          0.01672076535406175,
          0.034361807145407486,
          0.055150567547261886,
          0.025364201451032464,
          0.04763424109907821,
          -0.014027481681864518,
          0.005759866269350988,
          0.0016078622658211028,
          0.004473143104505528,
          -0.0071107918836416095,
          -0.007722356856078361,
          -0.005777607669455231,
          -0.0003666361136571705,
          -0.00036677058499912096,
          -0.017629792698587443,
          -0.026293674951913037,
          -0.006463243896358106,
          0.029862558875762613,
          -0.00910948248392729,
          0.006336895866830616,
          -0.01684210526315799,
          0.027091618231875447,
          0.01798179482883766,
          0.005942911478047819,
          0.0010543154220896689,
          0.028454694025785265,
          -0.018609742747673796,
          -0.062015364409981344,
          -0.0015152677612400023,
          -0.00149835756958705,
          -0.01079282017737937,
          -0.0028783694426075535,
          -0.009420713867759,
          -0.012601650028550626,
          0.001954254491794094,
          0.0035227385809533107,
          0.01642140335567821
         ]
        },
        {
         "histfunc": "count",
         "histnorm": "",
         "marker": {
          "color": "rgba(0, 128, 128, 1.0)",
          "line": {
           "color": "#4D5663",
           "width": 1.3
          }
         },
         "name": "WFC Return",
         "opacity": 0.8,
         "orientation": "v",
         "type": "histogram",
         "x": [
          -0.07958872810357953,
          0.011998345055854287,
          0.002452984464431651,
          -0.023246329526916854,
          0.060960334029227514,
          -0.0806768988587171,
          0.02996575342465757,
          -0.06359102244389014,
          0.06702174877940514,
          0.03078202995008339,
          0.02623083131557702,
          -0.007864726700747116,
          -0.005152596115735153,
          0.02772908366533855,
          0.03911459140952078,
          0.008804327550830049,
          0.0528826596649532,
          0.032735063749077975,
          -0.03768322960242154,
          -0.01593921187488956,
          -0.05243499497198678,
          -0.01447847180109163,
          0.010153065148834628,
          0.0015228812914032108,
          0.031285638257432025,
          0.025286593682037672,
          -0.052489663850440405,
          0.057636122177954885,
          0.061168113654301415,
          0.04141451705601962,
          0.05632385404492912,
          -0.08795599127201215,
          -0.04987026990598786,
          -0.004858672908465422,
          -0.08382038488952237,
          0.037731445464446844,
          -0.023877352125346696,
          0.08014285165700241,
          0.04251990898748592,
          0.012037921156731635,
          0.020487246015432836,
          -0.062473171537064554,
          -0.001725777480364843,
          -0.12690516511430994,
          0.04950094961005358,
          0.06757277067611267,
          -0.00602301006239403,
          0.053701015965166965,
          -0.10564738292011022,
          0.16567842291698764,
          -0.11947151114781163,
          0.18861129867206827,
          0.08505333585810759,
          -0.07411070067769987,
          0.14192818772971427,
          0.04880195868064163,
          0.06428852459016388,
          -0.02102227917981081,
          0.04267049316516891,
          -0.03334299097010962,
          0.03963833454054999,
          0.039328272150682464,
          0.022190887866669673,
          0.028154044458515104,
          0.028240883297409036,
          -0.007550802139037471,
          -0.005280513826324884,
          -0.0021234182700642368,
          0.026186650453815075,
          -0.002073635209479452,
          -0.0068699376616767616,
          0.004184636406336706,
          -0.004571161287579284,
          0.001452401802687131,
          0.0029432465288885545,
          -0.0037639553429027472,
          -0.02172984972677594,
          -0.002945668775910959,
          -0.003851624904256501,
          0.02067268613106621,
          -0.013344812742143719,
          0.00211605584642216,
          -0.00570346343905781,
          0.009983579638752182,
          0.013656760096247611,
          0.007035777677979471,
          0.007836058611169872,
          0.004909500832297464,
          0.0014258156504234343,
          -0.018886097152428727,
          0.02029536045072322,
          0.056976719864460845,
          0.007500049472621839,
          0.0043604651162789665,
          0.001701411976376077,
          -0.003026102575115708,
          0.008361727959895093,
          0.0060202357602003875,
          0.006196552323224358
         ]
        }
       ],
       "layout": {
        "barmode": "overlay",
        "legend": {
         "bgcolor": "#F5F6F9",
         "font": {
          "color": "#4D5663"
         }
        },
        "paper_bgcolor": "#F5F6F9",
        "plot_bgcolor": "#F5F6F9",
        "template": {
         "data": {
          "bar": [
           {
            "error_x": {
             "color": "#2a3f5f"
            },
            "error_y": {
             "color": "#2a3f5f"
            },
            "marker": {
             "line": {
              "color": "#E5ECF6",
              "width": 0.5
             }
            },
            "type": "bar"
           }
          ],
          "barpolar": [
           {
            "marker": {
             "line": {
              "color": "#E5ECF6",
              "width": 0.5
             }
            },
            "type": "barpolar"
           }
          ],
          "carpet": [
           {
            "aaxis": {
             "endlinecolor": "#2a3f5f",
             "gridcolor": "white",
             "linecolor": "white",
             "minorgridcolor": "white",
             "startlinecolor": "#2a3f5f"
            },
            "baxis": {
             "endlinecolor": "#2a3f5f",
             "gridcolor": "white",
             "linecolor": "white",
             "minorgridcolor": "white",
             "startlinecolor": "#2a3f5f"
            },
            "type": "carpet"
           }
          ],
          "choropleth": [
           {
            "colorbar": {
             "outlinewidth": 0,
             "ticks": ""
            },
            "type": "choropleth"
           }
          ],
          "contour": [
           {
            "colorbar": {
             "outlinewidth": 0,
             "ticks": ""
            },
            "colorscale": [
             [
              0,
              "#0d0887"
             ],
             [
              0.1111111111111111,
              "#46039f"
             ],
             [
              0.2222222222222222,
              "#7201a8"
             ],
             [
              0.3333333333333333,
              "#9c179e"
             ],
             [
              0.4444444444444444,
              "#bd3786"
             ],
             [
              0.5555555555555556,
              "#d8576b"
             ],
             [
              0.6666666666666666,
              "#ed7953"
             ],
             [
              0.7777777777777778,
              "#fb9f3a"
             ],
             [
              0.8888888888888888,
              "#fdca26"
             ],
             [
              1,
              "#f0f921"
             ]
            ],
            "type": "contour"
           }
          ],
          "contourcarpet": [
           {
            "colorbar": {
             "outlinewidth": 0,
             "ticks": ""
            },
            "type": "contourcarpet"
           }
          ],
          "heatmap": [
           {
            "colorbar": {
             "outlinewidth": 0,
             "ticks": ""
            },
            "colorscale": [
             [
              0,
              "#0d0887"
             ],
             [
              0.1111111111111111,
              "#46039f"
             ],
             [
              0.2222222222222222,
              "#7201a8"
             ],
             [
              0.3333333333333333,
              "#9c179e"
             ],
             [
              0.4444444444444444,
              "#bd3786"
             ],
             [
              0.5555555555555556,
              "#d8576b"
             ],
             [
              0.6666666666666666,
              "#ed7953"
             ],
             [
              0.7777777777777778,
              "#fb9f3a"
             ],
             [
              0.8888888888888888,
              "#fdca26"
             ],
             [
              1,
              "#f0f921"
             ]
            ],
            "type": "heatmap"
           }
          ],
          "heatmapgl": [
           {
            "colorbar": {
             "outlinewidth": 0,
             "ticks": ""
            },
            "colorscale": [
             [
              0,
              "#0d0887"
             ],
             [
              0.1111111111111111,
              "#46039f"
             ],
             [
              0.2222222222222222,
              "#7201a8"
             ],
             [
              0.3333333333333333,
              "#9c179e"
             ],
             [
              0.4444444444444444,
              "#bd3786"
             ],
             [
              0.5555555555555556,
              "#d8576b"
             ],
             [
              0.6666666666666666,
              "#ed7953"
             ],
             [
              0.7777777777777778,
              "#fb9f3a"
             ],
             [
              0.8888888888888888,
              "#fdca26"
             ],
             [
              1,
              "#f0f921"
             ]
            ],
            "type": "heatmapgl"
           }
          ],
          "histogram": [
           {
            "marker": {
             "colorbar": {
              "outlinewidth": 0,
              "ticks": ""
             }
            },
            "type": "histogram"
           }
          ],
          "histogram2d": [
           {
            "colorbar": {
             "outlinewidth": 0,
             "ticks": ""
            },
            "colorscale": [
             [
              0,
              "#0d0887"
             ],
             [
              0.1111111111111111,
              "#46039f"
             ],
             [
              0.2222222222222222,
              "#7201a8"
             ],
             [
              0.3333333333333333,
              "#9c179e"
             ],
             [
              0.4444444444444444,
              "#bd3786"
             ],
             [
              0.5555555555555556,
              "#d8576b"
             ],
             [
              0.6666666666666666,
              "#ed7953"
             ],
             [
              0.7777777777777778,
              "#fb9f3a"
             ],
             [
              0.8888888888888888,
              "#fdca26"
             ],
             [
              1,
              "#f0f921"
             ]
            ],
            "type": "histogram2d"
           }
          ],
          "histogram2dcontour": [
           {
            "colorbar": {
             "outlinewidth": 0,
             "ticks": ""
            },
            "colorscale": [
             [
              0,
              "#0d0887"
             ],
             [
              0.1111111111111111,
              "#46039f"
             ],
             [
              0.2222222222222222,
              "#7201a8"
             ],
             [
              0.3333333333333333,
              "#9c179e"
             ],
             [
              0.4444444444444444,
              "#bd3786"
             ],
             [
              0.5555555555555556,
              "#d8576b"
             ],
             [
              0.6666666666666666,
              "#ed7953"
             ],
             [
              0.7777777777777778,
              "#fb9f3a"
             ],
             [
              0.8888888888888888,
              "#fdca26"
             ],
             [
              1,
              "#f0f921"
             ]
            ],
            "type": "histogram2dcontour"
           }
          ],
          "mesh3d": [
           {
            "colorbar": {
             "outlinewidth": 0,
             "ticks": ""
            },
            "type": "mesh3d"
           }
          ],
          "parcoords": [
           {
            "line": {
             "colorbar": {
              "outlinewidth": 0,
              "ticks": ""
             }
            },
            "type": "parcoords"
           }
          ],
          "pie": [
           {
            "automargin": true,
            "type": "pie"
           }
          ],
          "scatter": [
           {
            "marker": {
             "colorbar": {
              "outlinewidth": 0,
              "ticks": ""
             }
            },
            "type": "scatter"
           }
          ],
          "scatter3d": [
           {
            "line": {
             "colorbar": {
              "outlinewidth": 0,
              "ticks": ""
             }
            },
            "marker": {
             "colorbar": {
              "outlinewidth": 0,
              "ticks": ""
             }
            },
            "type": "scatter3d"
           }
          ],
          "scattercarpet": [
           {
            "marker": {
             "colorbar": {
              "outlinewidth": 0,
              "ticks": ""
             }
            },
            "type": "scattercarpet"
           }
          ],
          "scattergeo": [
           {
            "marker": {
             "colorbar": {
              "outlinewidth": 0,
              "ticks": ""
             }
            },
            "type": "scattergeo"
           }
          ],
          "scattergl": [
           {
            "marker": {
             "colorbar": {
              "outlinewidth": 0,
              "ticks": ""
             }
            },
            "type": "scattergl"
           }
          ],
          "scattermapbox": [
           {
            "marker": {
             "colorbar": {
              "outlinewidth": 0,
              "ticks": ""
             }
            },
            "type": "scattermapbox"
           }
          ],
          "scatterpolar": [
           {
            "marker": {
             "colorbar": {
              "outlinewidth": 0,
              "ticks": ""
             }
            },
            "type": "scatterpolar"
           }
          ],
          "scatterpolargl": [
           {
            "marker": {
             "colorbar": {
              "outlinewidth": 0,
              "ticks": ""
             }
            },
            "type": "scatterpolargl"
           }
          ],
          "scatterternary": [
           {
            "marker": {
             "colorbar": {
              "outlinewidth": 0,
              "ticks": ""
             }
            },
            "type": "scatterternary"
           }
          ],
          "surface": [
           {
            "colorbar": {
             "outlinewidth": 0,
             "ticks": ""
            },
            "colorscale": [
             [
              0,
              "#0d0887"
             ],
             [
              0.1111111111111111,
              "#46039f"
             ],
             [
              0.2222222222222222,
              "#7201a8"
             ],
             [
              0.3333333333333333,
              "#9c179e"
             ],
             [
              0.4444444444444444,
              "#bd3786"
             ],
             [
              0.5555555555555556,
              "#d8576b"
             ],
             [
              0.6666666666666666,
              "#ed7953"
             ],
             [
              0.7777777777777778,
              "#fb9f3a"
             ],
             [
              0.8888888888888888,
              "#fdca26"
             ],
             [
              1,
              "#f0f921"
             ]
            ],
            "type": "surface"
           }
          ],
          "table": [
           {
            "cells": {
             "fill": {
              "color": "#EBF0F8"
             },
             "line": {
              "color": "white"
             }
            },
            "header": {
             "fill": {
              "color": "#C8D4E3"
             },
             "line": {
              "color": "white"
             }
            },
            "type": "table"
           }
          ]
         },
         "layout": {
          "annotationdefaults": {
           "arrowcolor": "#2a3f5f",
           "arrowhead": 0,
           "arrowwidth": 1
          },
          "coloraxis": {
           "colorbar": {
            "outlinewidth": 0,
            "ticks": ""
           }
          },
          "colorscale": {
           "diverging": [
            [
             0,
             "#8e0152"
            ],
            [
             0.1,
             "#c51b7d"
            ],
            [
             0.2,
             "#de77ae"
            ],
            [
             0.3,
             "#f1b6da"
            ],
            [
             0.4,
             "#fde0ef"
            ],
            [
             0.5,
             "#f7f7f7"
            ],
            [
             0.6,
             "#e6f5d0"
            ],
            [
             0.7,
             "#b8e186"
            ],
            [
             0.8,
             "#7fbc41"
            ],
            [
             0.9,
             "#4d9221"
            ],
            [
             1,
             "#276419"
            ]
           ],
           "sequential": [
            [
             0,
             "#0d0887"
            ],
            [
             0.1111111111111111,
             "#46039f"
            ],
            [
             0.2222222222222222,
             "#7201a8"
            ],
            [
             0.3333333333333333,
             "#9c179e"
            ],
            [
             0.4444444444444444,
             "#bd3786"
            ],
            [
             0.5555555555555556,
             "#d8576b"
            ],
            [
             0.6666666666666666,
             "#ed7953"
            ],
            [
             0.7777777777777778,
             "#fb9f3a"
            ],
            [
             0.8888888888888888,
             "#fdca26"
            ],
            [
             1,
             "#f0f921"
            ]
           ],
           "sequentialminus": [
            [
             0,
             "#0d0887"
            ],
            [
             0.1111111111111111,
             "#46039f"
            ],
            [
             0.2222222222222222,
             "#7201a8"
            ],
            [
             0.3333333333333333,
             "#9c179e"
            ],
            [
             0.4444444444444444,
             "#bd3786"
            ],
            [
             0.5555555555555556,
             "#d8576b"
            ],
            [
             0.6666666666666666,
             "#ed7953"
            ],
            [
             0.7777777777777778,
             "#fb9f3a"
            ],
            [
             0.8888888888888888,
             "#fdca26"
            ],
            [
             1,
             "#f0f921"
            ]
           ]
          },
          "colorway": [
           "#636efa",
           "#EF553B",
           "#00cc96",
           "#ab63fa",
           "#FFA15A",
           "#19d3f3",
           "#FF6692",
           "#B6E880",
           "#FF97FF",
           "#FECB52"
          ],
          "font": {
           "color": "#2a3f5f"
          },
          "geo": {
           "bgcolor": "white",
           "lakecolor": "white",
           "landcolor": "#E5ECF6",
           "showlakes": true,
           "showland": true,
           "subunitcolor": "white"
          },
          "hoverlabel": {
           "align": "left"
          },
          "hovermode": "closest",
          "mapbox": {
           "style": "light"
          },
          "paper_bgcolor": "white",
          "plot_bgcolor": "#E5ECF6",
          "polar": {
           "angularaxis": {
            "gridcolor": "white",
            "linecolor": "white",
            "ticks": ""
           },
           "bgcolor": "#E5ECF6",
           "radialaxis": {
            "gridcolor": "white",
            "linecolor": "white",
            "ticks": ""
           }
          },
          "scene": {
           "xaxis": {
            "backgroundcolor": "#E5ECF6",
            "gridcolor": "white",
            "gridwidth": 2,
            "linecolor": "white",
            "showbackground": true,
            "ticks": "",
            "zerolinecolor": "white"
           },
           "yaxis": {
            "backgroundcolor": "#E5ECF6",
            "gridcolor": "white",
            "gridwidth": 2,
            "linecolor": "white",
            "showbackground": true,
            "ticks": "",
            "zerolinecolor": "white"
           },
           "zaxis": {
            "backgroundcolor": "#E5ECF6",
            "gridcolor": "white",
            "gridwidth": 2,
            "linecolor": "white",
            "showbackground": true,
            "ticks": "",
            "zerolinecolor": "white"
           }
          },
          "shapedefaults": {
           "line": {
            "color": "#2a3f5f"
           }
          },
          "ternary": {
           "aaxis": {
            "gridcolor": "white",
            "linecolor": "white",
            "ticks": ""
           },
           "baxis": {
            "gridcolor": "white",
            "linecolor": "white",
            "ticks": ""
           },
           "bgcolor": "#E5ECF6",
           "caxis": {
            "gridcolor": "white",
            "linecolor": "white",
            "ticks": ""
           }
          },
          "title": {
           "x": 0.05
          },
          "xaxis": {
           "automargin": true,
           "gridcolor": "white",
           "linecolor": "white",
           "ticks": "",
           "title": {
            "standoff": 15
           },
           "zerolinecolor": "white",
           "zerolinewidth": 2
          },
          "yaxis": {
           "automargin": true,
           "gridcolor": "white",
           "linecolor": "white",
           "ticks": "",
           "title": {
            "standoff": 15
           },
           "zerolinecolor": "white",
           "zerolinewidth": 2
          }
         }
        },
        "title": {
         "font": {
          "color": "#4D5663"
         }
        },
        "xaxis": {
         "gridcolor": "#E1E5ED",
         "showgrid": true,
         "tickfont": {
          "color": "#4D5663"
         },
         "title": {
          "font": {
           "color": "#4D5663"
          },
          "text": ""
         },
         "zerolinecolor": "#E1E5ED"
        },
        "yaxis": {
         "gridcolor": "#E1E5ED",
         "showgrid": true,
         "tickfont": {
          "color": "#4D5663"
         },
         "title": {
          "font": {
           "color": "#4D5663"
          },
          "text": ""
         },
         "zerolinecolor": "#E1E5ED"
        }
       }
      },
      "text/html": [
       "<div>\n",
       "        \n",
       "        \n",
       "            <div id=\"63b75da9-9415-4ffe-9434-a4d5365a317c\" class=\"plotly-graph-div\" style=\"height:525px; width:100%;\"></div>\n",
       "            <script type=\"text/javascript\">\n",
       "                require([\"plotly\"], function(Plotly) {\n",
       "                    window.PLOTLYENV=window.PLOTLYENV || {};\n",
       "                    window.PLOTLYENV.BASE_URL='https://plot.ly';\n",
       "                    \n",
       "                if (document.getElementById(\"63b75da9-9415-4ffe-9434-a4d5365a317c\")) {\n",
       "                    Plotly.newPlot(\n",
       "                        '63b75da9-9415-4ffe-9434-a4d5365a317c',\n",
       "                        [{\"histfunc\": \"count\", \"histnorm\": \"\", \"marker\": {\"color\": \"rgba(255, 153, 51, 1.0)\", \"line\": {\"color\": \"#4D5663\", \"width\": 1.3}}, \"name\": \"BAC Return\", \"opacity\": 0.8, \"orientation\": \"v\", \"type\": \"histogram\", \"x\": [-0.06672158154859975, 0.010591350397175514, 0.0004366812227074579, -0.030554343081623747, 0.03241782980639352, -0.0649803750545137, 0.012593283582089443, -0.038691847075080554, 0.04791566842357442, 0.0324645633287608, 0.0438441098317095, -0.030971574034790006, -0.021453590192644367, 0.013870246085011084, 0.011915269196822509, 0.0065416484954208265, 0.04202772963604873, 0.0303534303534303, -0.035916061339790195, -0.017580577647551388, -0.054963783553472534, -0.013976555455365136, -0.0032007315957933713, -0.007339449541284404, 0.03974121996303137, 0.03466666666666662, -0.07989690721649478, 0.035947712418300526, 0.06940063091482651, 0.008006742520016985, 0.03929765886287617, -0.056717618664521297, -0.05586353944562894, -0.03387533875338755, -0.06358111266947164, 0.026959560659011395, -0.038891589693728745, 0.07384926656550328, 0.03815355628827133, -0.019963702359346525, 0.051851851851851816, -0.07130281690140838, -0.0033175355450236754, -0.14027579648121746, 0.08794247787610643, 0.07778342653787473, -0.019339622641509457, 0.05723905723905731, -0.07006369426751591, 0.18199608610567508, -0.15107615894039728, 0.10531448074110195, 0.04146449051610057, -0.0711562897077509, 0.1723666210670316, 0.04161804745235309, 0.05339805825242716, -0.02254519673874511, 0.0583883368390512, -0.02963952850877183, 0.0221053003284013, 0.05151148730350674, 0.014686555394927137, 0.05307126898293535, 0.049812434659614935, 0.014263956417315926, -0.003725201420774482, -0.012956521739130311, 0.016914809267905673, 0.0017326518236160382, 0.0002882758223066162, -0.0042940718752702, -0.0023154848046309517, -0.002291847983754036, 0.001715565118781237, 0.0011611030478955175, -0.03140040591475801, -0.0193372646451343, -0.004242849729861553, 0.01980258721108452, -0.014037513526511947, 0.006951007591232017, -0.011716975990796241, 0.020985233747932153, 0.01731328952500988, 0.007019820670127297, -0.0028996543846288025, 0.013130452662808878, 0.0002899391127861861, -0.0014492753623187582, 0.01875181422351213, -0.007351265101435911, -0.009127963717779353, 0.008342989571263004, -0.0017237416685818019, -0.009986186255324325, 0.006627714310630584, 0.0014438765196802539, 0.021194382767669273]}, {\"histfunc\": \"count\", \"histnorm\": \"\", \"marker\": {\"color\": \"rgba(55, 128, 191, 1.0)\", \"line\": {\"color\": \"#4D5663\", \"width\": 1.3}}, \"name\": \"C Return\", \"opacity\": 0.8, \"orientation\": \"v\", \"type\": \"histogram\", \"x\": [-0.08449242266971146, 0.020408163265306145, 0.010444444444444478, -0.02287222344402906, 0.0279090704478957, -0.08211079483249395, 0.0033396946564885344, -0.03471231573941991, 0.0431034482758621, 0.040613931523022506, 0.051055139550714834, -0.03626943005181349, -0.03785842293906805, 0.02328288707799775, 0.02662116040955609, 0.00886524822695045, 0.055579964850615005, 0.03500520291363163, -0.06068527306362104, -0.013764610181101866, -0.07432007119446082, -0.014842779093488523, -0.005188746608273176, -0.01586276198679304, 0.058711983079279495, 0.0327225130890052, -0.10848731461098882, 0.05776425400309271, 0.05972647960386723, 0.0277462563691786, 0.015631088980298857, -0.06644355388813095, -0.06799862998059147, -0.003160447852610382, -0.08828155721588693, 0.046420099202070464, -0.018342006285743784, 0.09373851886841966, 0.04652334564998295, -0.006350734805236402, 0.05069220119981521, -0.09040999626677204, -0.028657653307580855, -0.1296199637113813, 0.07544691301616302, 0.04152947424322906, -0.08099632877829921, 0.1048630954032237, 0.023350993044919166, 0.2391491032215325, -0.15242357041026444, 0.1740643834976403, 0.09429532204469049, -0.0757509637064514, 0.19291756836513874, 0.036067682564812964, 0.06142654760199284, -0.03471701508653002, 0.03904174499355251, -0.06109449760765551, 0.015590661528171568, 0.057877158044940646, 0.01833570496857595, 0.044642727180099095, 0.05390982053282789, 0.023282256038711147, -0.002170598723481132, -0.0060209763045449005, 0.015606070474825762, 0.002655105627028087, 0.0041831904822822175, -0.0030319630049555624, -0.0077051840682860195, 0.0026784794478209584, 0.003557484845371661, -0.0015228881125147753, -0.02979928738048232, -0.017913523653513286, -0.009577487523708572, 0.03372312539895961, -0.012271389531217092, 0.009936417568969569, -0.006848864010536637, 0.02227968967575089, 0.017590971006032463, 0.003760788363228462, -0.0024893314366998265, 0.015278838808250317, -0.0014923501379481285, 0.002964042149683932, 0.00823972851471999, -0.015363596845308303, -0.01736925754938312, 0.010474833442446041, -0.008994245207515461, -0.0075632298837313705, 0.008770456864593879, 0.003137084176291438, 0.019210395312918793]}, {\"histfunc\": \"count\", \"histnorm\": \"\", \"marker\": {\"color\": \"rgba(50, 171, 96, 1.0)\", \"line\": {\"color\": \"#4D5663\", \"width\": 1.3}}, \"name\": \"GS Return\", \"opacity\": 0.8, \"orientation\": \"v\", \"type\": \"histogram\", \"x\": [-0.0822707334489442, 0.0009448118712831466, 0.007440310938367611, -0.019896384479717755, 0.022774559973007813, -0.055036287662194816, 0.015011345784604613, -0.015190599025508567, 0.031490104772991856, 0.033575983296653567, 0.012175147412098575, -0.016559684988402767, -0.029618253620008805, 0.007800135654533191, -0.012731351654514889, 0.006078509344997984, 0.03568605307735728, 0.036037509540944423, -0.015892227543019555, -0.018555157478209683, -0.03563255966001955, -0.011016949152542255, 0.005312767780633942, -0.012330946698488443, 0.03791496461653532, 0.017128603104212825, -0.03515177938852265, 0.008359692724807966, -0.0016244678467399742, 0.005330191325815026, 0.028351378502064817, -0.03961793118419621, -0.06182188065099459, -0.046922057583423826, -0.07141502875560879, 0.020417886068195834, -0.030947775628626828, 0.06400991121205868, 0.032537680315673834, -0.008019045232427024, 0.047050650498926316, -0.06429820857711566, -0.009862695803519617, -0.12128906249999993, 0.025487145291546165, 0.08005201936276296, -0.06334871897785799, 0.13319525782031127, -0.02527257830717833, 0.14554506659769806, -0.14951741265451257, 0.14076187947969188, 0.07248821920995985, -0.06259831841605634, 0.11596551125513566, 0.03080114078299201, 0.05005281955832808, -0.025438344351825237, 0.029690802733126853, -0.04153339380340859, 0.018279623449718452, 0.049060849148894636, 0.008486035342938347, 0.031855379351796165, 0.02706335693162476, 0.009161504231742335, 0.019756181912502058, -0.01738098266140997, 0.016609862375426054, 0.005347139704634296, 0.0012663571127056183, -0.009190556492411406, 0.0038294613224405527, 0.002670396744659298, 0.016064257028112428, 0.010276679841897174, -0.009677950745408115, -0.012101301617665428, -0.005261828590671813, 0.02682916507976807, -0.01644343704924789, 0.010265649878488325, -0.018331881713740672, 0.015885757742194473, 0.015138282387190838, 0.0059814003031668506, -0.005457137039299509, 0.0152737398140943, 0.0010486408001935121, -0.0180499597099113, 0.0018463810930575697, -0.0018429782528566196, -0.012637452814705408, 0.002036236702127603, -0.019947746029112978, -0.009563303994583605, -0.006536785439630877, -0.010149228056594906, 0.011860798540209494]}, {\"histfunc\": \"count\", \"histnorm\": \"\", \"marker\": {\"color\": \"rgba(128, 0, 128, 1.0)\", \"line\": {\"color\": \"#4D5663\", \"width\": 1.3}}, \"name\": \"JPM Return\", \"opacity\": 0.8, \"orientation\": \"v\", \"type\": \"histogram\", \"x\": [-0.06627008975161752, 0.007823851570358809, 0.012864589109459867, -0.02912515055293985, 0.020074433291981553, -0.05030403537866224, 0.018859138533178, -0.03987659963436918, 0.035701535166012155, 0.03378145467080307, 0.030343447815938784, -0.016073354908306414, -0.010305887512334189, 0.01916472803810798, 0.0015217391304347405, 0.012046885174734179, 0.02691689008042908, 0.021929824561403466, -0.026262006948702177, -0.0070311680134327315, -0.041323187486789426, -0.01455186859221691, -0.0005593466830741134, -0.003246026415939185, 0.029870859067939293, 0.037836659033911424, -0.08247530993906294, 0.039619832818046596, 0.05187796012776724, 0.028167539267015762, 0.046542417761482824, -0.08232775398987935, -0.038812301166489926, -0.013018534863195153, -0.060473954840151944, 0.030458060678167698, -0.03600046184043404, 0.06721602069659371, 0.03853923505117618, -0.02534094101882467, 0.07670218309624932, -0.06512135597409152, -0.035974313503034594, -0.10630591515179222, 0.056560594244218, 0.02156314662213643, -0.016535778164717962, 0.11766052007178396, -0.05759946549420236, 0.1759728304993653, -0.1526254375729289, 0.08983980537960168, 0.049350868141471826, -0.07205498695564916, 0.15669503346705738, 0.05450126203608496, 0.05159574468085104, -0.024110605294216825, 0.0389599170697994, -0.04448324602976628, 0.045248868778280604, 0.043456543456543484, -0.0030317536301260883, 0.04673495518565951, 0.027599388379204726, 0.012424670783423908, 0.0, -0.01344797178130519, 0.013407821229050265, 0.0030135979419330106, 0.0008793785724754422, 0.0, -0.0019036462146728717, -0.004107981220657253, 0.0031673541543901784, -0.00014685366032751723, -0.01667033854740385, -0.014189693801344383, -0.007575757575757569, 0.026641221374045898, -0.012194215183285118, 0.0015054572826498358, -0.017888012025554456, 0.008494681258131243, 0.025497040522082237, 0.0009619653692469754, 0.0011828195460930058, 0.009968249280070784, -0.006872349758736629, -0.0039016489988221714, 0.015224299756115611, -0.011501783504404228, -0.008248030046395183, 0.010098759931684853, -0.0036756597809306513, -0.0077473622076293935, 0.01732599643069621, 0.000804034792778241, 0.013365468886941345]}, {\"histfunc\": \"count\", \"histnorm\": \"\", \"marker\": {\"color\": \"rgba(219, 64, 82, 1.0)\", \"line\": {\"color\": \"#4D5663\", \"width\": 1.3}}, \"name\": \"MS Return\", \"opacity\": 0.8, \"orientation\": \"v\", \"type\": \"histogram\", \"x\": [-0.08148317692835882, 0.0042362322452029755, 0.0188585607940448, -0.04213346322454958, 0.024154589371980784, -0.07423038728897724, 0.013944757307589262, -0.02168738428987038, 0.03865909705325765, 0.03669963560645484, 0.0062766758724579486, -0.03168662674650691, -0.038907498067508484, 0.01823056300268089, 0.0028962611901002244, 0.0081386190601207, 0.026822916666666696, 0.034491503931016965, -0.024760970826182893, -0.020437405731523417, -0.03408011907511477, -0.013177820877281587, 0.009073042026761291, -0.022732123799359627, 0.038140220596265095, 0.019040105193951495, -0.018684353144597377, 0.0010519395134780396, 0.03801392355181932, -0.007010528447054076, 0.03789983433159172, -0.041623692353027875, -0.061726497040510364, 0.001884319187284822, -0.0853708398070161, 0.0014602890776336253, -0.06725389834543505, 0.07526161306789181, 0.024715900661662182, -0.023830206161686407, 0.05001038175184647, -0.04816520240684763, -0.02267466017688613, -0.16286061342241132, 0.06689157325788075, 0.04212709530447789, -0.005481239804241422, 0.09884522012991259, -0.06332288401253905, 0.18483457640084144, -0.16506604255777046, 0.17756226439411038, 0.07133085257743232, -0.05061933341846503, 0.1157291582600275, 0.017938517179023394, 0.06219948364480454, -0.018552792953506425, 0.04684979437893344, -0.03120998372219208, 0.00844590810314294, 0.040298573777047375, 0.01672076535406175, 0.034361807145407486, 0.055150567547261886, 0.025364201451032464, 0.04763424109907821, -0.014027481681864518, 0.005759866269350988, 0.0016078622658211028, 0.004473143104505528, -0.0071107918836416095, -0.007722356856078361, -0.005777607669455231, -0.0003666361136571705, -0.00036677058499912096, -0.017629792698587443, -0.026293674951913037, -0.006463243896358106, 0.029862558875762613, -0.00910948248392729, 0.006336895866830616, -0.01684210526315799, 0.027091618231875447, 0.01798179482883766, 0.005942911478047819, 0.0010543154220896689, 0.028454694025785265, -0.018609742747673796, -0.062015364409981344, -0.0015152677612400023, -0.00149835756958705, -0.01079282017737937, -0.0028783694426075535, -0.009420713867759, -0.012601650028550626, 0.001954254491794094, 0.0035227385809533107, 0.01642140335567821]}, {\"histfunc\": \"count\", \"histnorm\": \"\", \"marker\": {\"color\": \"rgba(0, 128, 128, 1.0)\", \"line\": {\"color\": \"#4D5663\", \"width\": 1.3}}, \"name\": \"WFC Return\", \"opacity\": 0.8, \"orientation\": \"v\", \"type\": \"histogram\", \"x\": [-0.07958872810357953, 0.011998345055854287, 0.002452984464431651, -0.023246329526916854, 0.060960334029227514, -0.0806768988587171, 0.02996575342465757, -0.06359102244389014, 0.06702174877940514, 0.03078202995008339, 0.02623083131557702, -0.007864726700747116, -0.005152596115735153, 0.02772908366533855, 0.03911459140952078, 0.008804327550830049, 0.0528826596649532, 0.032735063749077975, -0.03768322960242154, -0.01593921187488956, -0.05243499497198678, -0.01447847180109163, 0.010153065148834628, 0.0015228812914032108, 0.031285638257432025, 0.025286593682037672, -0.052489663850440405, 0.057636122177954885, 0.061168113654301415, 0.04141451705601962, 0.05632385404492912, -0.08795599127201215, -0.04987026990598786, -0.004858672908465422, -0.08382038488952237, 0.037731445464446844, -0.023877352125346696, 0.08014285165700241, 0.04251990898748592, 0.012037921156731635, 0.020487246015432836, -0.062473171537064554, -0.001725777480364843, -0.12690516511430994, 0.04950094961005358, 0.06757277067611267, -0.00602301006239403, 0.053701015965166965, -0.10564738292011022, 0.16567842291698764, -0.11947151114781163, 0.18861129867206827, 0.08505333585810759, -0.07411070067769987, 0.14192818772971427, 0.04880195868064163, 0.06428852459016388, -0.02102227917981081, 0.04267049316516891, -0.03334299097010962, 0.03963833454054999, 0.039328272150682464, 0.022190887866669673, 0.028154044458515104, 0.028240883297409036, -0.007550802139037471, -0.005280513826324884, -0.0021234182700642368, 0.026186650453815075, -0.002073635209479452, -0.0068699376616767616, 0.004184636406336706, -0.004571161287579284, 0.001452401802687131, 0.0029432465288885545, -0.0037639553429027472, -0.02172984972677594, -0.002945668775910959, -0.003851624904256501, 0.02067268613106621, -0.013344812742143719, 0.00211605584642216, -0.00570346343905781, 0.009983579638752182, 0.013656760096247611, 0.007035777677979471, 0.007836058611169872, 0.004909500832297464, 0.0014258156504234343, -0.018886097152428727, 0.02029536045072322, 0.056976719864460845, 0.007500049472621839, 0.0043604651162789665, 0.001701411976376077, -0.003026102575115708, 0.008361727959895093, 0.0060202357602003875, 0.006196552323224358]}],\n",
       "                        {\"barmode\": \"overlay\", \"legend\": {\"bgcolor\": \"#F5F6F9\", \"font\": {\"color\": \"#4D5663\"}}, \"paper_bgcolor\": \"#F5F6F9\", \"plot_bgcolor\": \"#F5F6F9\", \"template\": {\"data\": {\"bar\": [{\"error_x\": {\"color\": \"#2a3f5f\"}, \"error_y\": {\"color\": \"#2a3f5f\"}, \"marker\": {\"line\": {\"color\": \"#E5ECF6\", \"width\": 0.5}}, \"type\": \"bar\"}], \"barpolar\": [{\"marker\": {\"line\": {\"color\": \"#E5ECF6\", \"width\": 0.5}}, \"type\": \"barpolar\"}], \"carpet\": [{\"aaxis\": {\"endlinecolor\": \"#2a3f5f\", \"gridcolor\": \"white\", \"linecolor\": \"white\", \"minorgridcolor\": \"white\", \"startlinecolor\": \"#2a3f5f\"}, \"baxis\": {\"endlinecolor\": \"#2a3f5f\", \"gridcolor\": \"white\", \"linecolor\": \"white\", \"minorgridcolor\": \"white\", \"startlinecolor\": \"#2a3f5f\"}, \"type\": \"carpet\"}], \"choropleth\": [{\"colorbar\": {\"outlinewidth\": 0, \"ticks\": \"\"}, \"type\": \"choropleth\"}], \"contour\": [{\"colorbar\": {\"outlinewidth\": 0, \"ticks\": \"\"}, \"colorscale\": [[0.0, \"#0d0887\"], [0.1111111111111111, \"#46039f\"], [0.2222222222222222, \"#7201a8\"], [0.3333333333333333, \"#9c179e\"], [0.4444444444444444, \"#bd3786\"], [0.5555555555555556, \"#d8576b\"], [0.6666666666666666, \"#ed7953\"], [0.7777777777777778, \"#fb9f3a\"], [0.8888888888888888, \"#fdca26\"], [1.0, \"#f0f921\"]], \"type\": \"contour\"}], \"contourcarpet\": [{\"colorbar\": {\"outlinewidth\": 0, \"ticks\": \"\"}, \"type\": \"contourcarpet\"}], \"heatmap\": [{\"colorbar\": {\"outlinewidth\": 0, \"ticks\": \"\"}, \"colorscale\": [[0.0, \"#0d0887\"], [0.1111111111111111, \"#46039f\"], [0.2222222222222222, \"#7201a8\"], [0.3333333333333333, \"#9c179e\"], [0.4444444444444444, \"#bd3786\"], [0.5555555555555556, \"#d8576b\"], [0.6666666666666666, \"#ed7953\"], [0.7777777777777778, \"#fb9f3a\"], [0.8888888888888888, \"#fdca26\"], [1.0, \"#f0f921\"]], \"type\": \"heatmap\"}], \"heatmapgl\": [{\"colorbar\": {\"outlinewidth\": 0, \"ticks\": \"\"}, \"colorscale\": [[0.0, \"#0d0887\"], [0.1111111111111111, \"#46039f\"], [0.2222222222222222, \"#7201a8\"], [0.3333333333333333, \"#9c179e\"], [0.4444444444444444, \"#bd3786\"], [0.5555555555555556, \"#d8576b\"], [0.6666666666666666, \"#ed7953\"], [0.7777777777777778, \"#fb9f3a\"], [0.8888888888888888, \"#fdca26\"], [1.0, \"#f0f921\"]], \"type\": \"heatmapgl\"}], \"histogram\": [{\"marker\": {\"colorbar\": {\"outlinewidth\": 0, \"ticks\": \"\"}}, \"type\": \"histogram\"}], \"histogram2d\": [{\"colorbar\": {\"outlinewidth\": 0, \"ticks\": \"\"}, \"colorscale\": [[0.0, \"#0d0887\"], [0.1111111111111111, \"#46039f\"], [0.2222222222222222, \"#7201a8\"], [0.3333333333333333, \"#9c179e\"], [0.4444444444444444, \"#bd3786\"], [0.5555555555555556, \"#d8576b\"], [0.6666666666666666, \"#ed7953\"], [0.7777777777777778, \"#fb9f3a\"], [0.8888888888888888, \"#fdca26\"], [1.0, \"#f0f921\"]], \"type\": \"histogram2d\"}], \"histogram2dcontour\": [{\"colorbar\": {\"outlinewidth\": 0, \"ticks\": \"\"}, \"colorscale\": [[0.0, \"#0d0887\"], [0.1111111111111111, \"#46039f\"], [0.2222222222222222, \"#7201a8\"], [0.3333333333333333, \"#9c179e\"], [0.4444444444444444, \"#bd3786\"], [0.5555555555555556, \"#d8576b\"], [0.6666666666666666, \"#ed7953\"], [0.7777777777777778, \"#fb9f3a\"], [0.8888888888888888, \"#fdca26\"], [1.0, \"#f0f921\"]], \"type\": \"histogram2dcontour\"}], \"mesh3d\": [{\"colorbar\": {\"outlinewidth\": 0, \"ticks\": \"\"}, \"type\": \"mesh3d\"}], \"parcoords\": [{\"line\": {\"colorbar\": {\"outlinewidth\": 0, \"ticks\": \"\"}}, \"type\": \"parcoords\"}], \"pie\": [{\"automargin\": true, \"type\": \"pie\"}], \"scatter\": [{\"marker\": {\"colorbar\": {\"outlinewidth\": 0, \"ticks\": \"\"}}, \"type\": \"scatter\"}], \"scatter3d\": [{\"line\": {\"colorbar\": {\"outlinewidth\": 0, \"ticks\": \"\"}}, \"marker\": {\"colorbar\": {\"outlinewidth\": 0, \"ticks\": \"\"}}, \"type\": \"scatter3d\"}], \"scattercarpet\": [{\"marker\": {\"colorbar\": {\"outlinewidth\": 0, \"ticks\": \"\"}}, \"type\": \"scattercarpet\"}], \"scattergeo\": [{\"marker\": {\"colorbar\": {\"outlinewidth\": 0, \"ticks\": \"\"}}, \"type\": \"scattergeo\"}], \"scattergl\": [{\"marker\": {\"colorbar\": {\"outlinewidth\": 0, \"ticks\": \"\"}}, \"type\": \"scattergl\"}], \"scattermapbox\": [{\"marker\": {\"colorbar\": {\"outlinewidth\": 0, \"ticks\": \"\"}}, \"type\": \"scattermapbox\"}], \"scatterpolar\": [{\"marker\": {\"colorbar\": {\"outlinewidth\": 0, \"ticks\": \"\"}}, \"type\": \"scatterpolar\"}], \"scatterpolargl\": [{\"marker\": {\"colorbar\": {\"outlinewidth\": 0, \"ticks\": \"\"}}, \"type\": \"scatterpolargl\"}], \"scatterternary\": [{\"marker\": {\"colorbar\": {\"outlinewidth\": 0, \"ticks\": \"\"}}, \"type\": \"scatterternary\"}], \"surface\": [{\"colorbar\": {\"outlinewidth\": 0, \"ticks\": \"\"}, \"colorscale\": [[0.0, \"#0d0887\"], [0.1111111111111111, \"#46039f\"], [0.2222222222222222, \"#7201a8\"], [0.3333333333333333, \"#9c179e\"], [0.4444444444444444, \"#bd3786\"], [0.5555555555555556, \"#d8576b\"], [0.6666666666666666, \"#ed7953\"], [0.7777777777777778, \"#fb9f3a\"], [0.8888888888888888, \"#fdca26\"], [1.0, \"#f0f921\"]], \"type\": \"surface\"}], \"table\": [{\"cells\": {\"fill\": {\"color\": \"#EBF0F8\"}, \"line\": {\"color\": \"white\"}}, \"header\": {\"fill\": {\"color\": \"#C8D4E3\"}, \"line\": {\"color\": \"white\"}}, \"type\": \"table\"}]}, \"layout\": {\"annotationdefaults\": {\"arrowcolor\": \"#2a3f5f\", \"arrowhead\": 0, \"arrowwidth\": 1}, \"coloraxis\": {\"colorbar\": {\"outlinewidth\": 0, \"ticks\": \"\"}}, \"colorscale\": {\"diverging\": [[0, \"#8e0152\"], [0.1, \"#c51b7d\"], [0.2, \"#de77ae\"], [0.3, \"#f1b6da\"], [0.4, \"#fde0ef\"], [0.5, \"#f7f7f7\"], [0.6, \"#e6f5d0\"], [0.7, \"#b8e186\"], [0.8, \"#7fbc41\"], [0.9, \"#4d9221\"], [1, \"#276419\"]], \"sequential\": [[0.0, \"#0d0887\"], [0.1111111111111111, \"#46039f\"], [0.2222222222222222, \"#7201a8\"], [0.3333333333333333, \"#9c179e\"], [0.4444444444444444, \"#bd3786\"], [0.5555555555555556, \"#d8576b\"], [0.6666666666666666, \"#ed7953\"], [0.7777777777777778, \"#fb9f3a\"], [0.8888888888888888, \"#fdca26\"], [1.0, \"#f0f921\"]], \"sequentialminus\": [[0.0, \"#0d0887\"], [0.1111111111111111, \"#46039f\"], [0.2222222222222222, \"#7201a8\"], [0.3333333333333333, \"#9c179e\"], [0.4444444444444444, \"#bd3786\"], [0.5555555555555556, \"#d8576b\"], [0.6666666666666666, \"#ed7953\"], [0.7777777777777778, \"#fb9f3a\"], [0.8888888888888888, \"#fdca26\"], [1.0, \"#f0f921\"]]}, \"colorway\": [\"#636efa\", \"#EF553B\", \"#00cc96\", \"#ab63fa\", \"#FFA15A\", \"#19d3f3\", \"#FF6692\", \"#B6E880\", \"#FF97FF\", \"#FECB52\"], \"font\": {\"color\": \"#2a3f5f\"}, \"geo\": {\"bgcolor\": \"white\", \"lakecolor\": \"white\", \"landcolor\": \"#E5ECF6\", \"showlakes\": true, \"showland\": true, \"subunitcolor\": \"white\"}, \"hoverlabel\": {\"align\": \"left\"}, \"hovermode\": \"closest\", \"mapbox\": {\"style\": \"light\"}, \"paper_bgcolor\": \"white\", \"plot_bgcolor\": \"#E5ECF6\", \"polar\": {\"angularaxis\": {\"gridcolor\": \"white\", \"linecolor\": \"white\", \"ticks\": \"\"}, \"bgcolor\": \"#E5ECF6\", \"radialaxis\": {\"gridcolor\": \"white\", \"linecolor\": \"white\", \"ticks\": \"\"}}, \"scene\": {\"xaxis\": {\"backgroundcolor\": \"#E5ECF6\", \"gridcolor\": \"white\", \"gridwidth\": 2, \"linecolor\": \"white\", \"showbackground\": true, \"ticks\": \"\", \"zerolinecolor\": \"white\"}, \"yaxis\": {\"backgroundcolor\": \"#E5ECF6\", \"gridcolor\": \"white\", \"gridwidth\": 2, \"linecolor\": \"white\", \"showbackground\": true, \"ticks\": \"\", \"zerolinecolor\": \"white\"}, \"zaxis\": {\"backgroundcolor\": \"#E5ECF6\", \"gridcolor\": \"white\", \"gridwidth\": 2, \"linecolor\": \"white\", \"showbackground\": true, \"ticks\": \"\", \"zerolinecolor\": \"white\"}}, \"shapedefaults\": {\"line\": {\"color\": \"#2a3f5f\"}}, \"ternary\": {\"aaxis\": {\"gridcolor\": \"white\", \"linecolor\": \"white\", \"ticks\": \"\"}, \"baxis\": {\"gridcolor\": \"white\", \"linecolor\": \"white\", \"ticks\": \"\"}, \"bgcolor\": \"#E5ECF6\", \"caxis\": {\"gridcolor\": \"white\", \"linecolor\": \"white\", \"ticks\": \"\"}}, \"title\": {\"x\": 0.05}, \"xaxis\": {\"automargin\": true, \"gridcolor\": \"white\", \"linecolor\": \"white\", \"ticks\": \"\", \"title\": {\"standoff\": 15}, \"zerolinecolor\": \"white\", \"zerolinewidth\": 2}, \"yaxis\": {\"automargin\": true, \"gridcolor\": \"white\", \"linecolor\": \"white\", \"ticks\": \"\", \"title\": {\"standoff\": 15}, \"zerolinecolor\": \"white\", \"zerolinewidth\": 2}}}, \"title\": {\"font\": {\"color\": \"#4D5663\"}}, \"xaxis\": {\"gridcolor\": \"#E1E5ED\", \"showgrid\": true, \"tickfont\": {\"color\": \"#4D5663\"}, \"title\": {\"font\": {\"color\": \"#4D5663\"}, \"text\": \"\"}, \"zerolinecolor\": \"#E1E5ED\"}, \"yaxis\": {\"gridcolor\": \"#E1E5ED\", \"showgrid\": true, \"tickfont\": {\"color\": \"#4D5663\"}, \"title\": {\"font\": {\"color\": \"#4D5663\"}, \"text\": \"\"}, \"zerolinecolor\": \"#E1E5ED\"}},\n",
       "                        {\"showLink\": true, \"linkText\": \"Export to plot.ly\", \"plotlyServerURL\": \"https://plot.ly\", \"responsive\": true}\n",
       "                    ).then(function(){\n",
       "                            \n",
       "var gd = document.getElementById('63b75da9-9415-4ffe-9434-a4d5365a317c');\n",
       "var x = new MutationObserver(function (mutations, observer) {{\n",
       "        var display = window.getComputedStyle(gd).display;\n",
       "        if (!display || display === 'none') {{\n",
       "            console.log([gd, 'removed!']);\n",
       "            Plotly.purge(gd);\n",
       "            observer.disconnect();\n",
       "        }}\n",
       "}});\n",
       "\n",
       "// Listen for the removal of the full notebook cells\n",
       "var notebookContainer = gd.closest('#notebook-container');\n",
       "if (notebookContainer) {{\n",
       "    x.observe(notebookContainer, {childList: true});\n",
       "}}\n",
       "\n",
       "// Listen for the clearing of the current output cell\n",
       "var outputEl = gd.closest('.output');\n",
       "if (outputEl) {{\n",
       "    x.observe(outputEl, {childList: true});\n",
       "}}\n",
       "\n",
       "                        })\n",
       "                };\n",
       "                });\n",
       "            </script>\n",
       "        </div>"
      ]
     },
     "metadata": {},
     "output_type": "display_data"
    }
   ],
   "source": [
    "returns.loc['2020-05-22':'2020-01-01'].iplot(kind='hist')"
   ]
  },
  {
   "cell_type": "markdown",
   "metadata": {},
   "source": [
    "# PAIRPLOT, Take a lot of time"
   ]
  },
  {
   "cell_type": "code",
   "execution_count": 17,
   "metadata": {},
   "outputs": [
    {
     "data": {
      "text/plain": [
       "<seaborn.axisgrid.PairGrid at 0x259a7a22ac8>"
      ]
     },
     "execution_count": 17,
     "metadata": {},
     "output_type": "execute_result"
    },
    {
     "data": {
      "image/png": "[encoded data removed]",
      "text/plain": [
       "<Figure size 1080x1080 with 42 Axes>"
      ]
     },
     "metadata": {
      "needs_background": "light"
     },
     "output_type": "display_data"
    }
   ],
   "source": [
    "sns.pairplot(returns)"
   ]
  },
  {
   "cell_type": "markdown",
   "metadata": {},
   "source": [
    "** Using this returns DataFrame, figure out on what dates each bank stock had the best and worst single day returns. You should notice that All of the banks share the same day for the worst drop, did anything significant happen that day?**"
   ]
  },
  {
   "cell_type": "markdown",
   "metadata": {},
   "source": [
    "# Corona Crisis"
   ]
  },
  {
   "cell_type": "markdown",
   "metadata": {},
   "source": [
    "### Dates of Minimum Closing Price"
   ]
  },
  {
   "cell_type": "code",
   "execution_count": 18,
   "metadata": {},
   "outputs": [
    {
     "data": {
      "text/plain": [
       "BAC Return   2020-03-12\n",
       "C Return     2020-03-12\n",
       "GS Return    2020-03-12\n",
       "JPM Return   2020-03-12\n",
       "MS Return    2020-03-12\n",
       "WFC Return   2020-03-23\n",
       "dtype: datetime64[ns]"
      ]
     },
     "execution_count": 18,
     "metadata": {},
     "output_type": "execute_result"
    }
   ],
   "source": [
    "returns.idxmin()"
   ]
  },
  {
   "cell_type": "markdown",
   "metadata": {},
   "source": [
    "** You should have noticed that Each group's largest drop and biggest gain were very close to one another, did anythign significant happen in that time frame? **"
   ]
  },
  {
   "cell_type": "markdown",
   "metadata": {},
   "source": [
    "### Dates of Maximun Closing Price"
   ]
  },
  {
   "cell_type": "code",
   "execution_count": 19,
   "metadata": {},
   "outputs": [
    {
     "data": {
      "text/plain": [
       "BAC Return   2020-03-13\n",
       "C Return     2020-03-13\n",
       "GS Return    2020-03-13\n",
       "JPM Return   2020-03-13\n",
       "MS Return    2020-03-13\n",
       "WFC Return   2020-03-11\n",
       "dtype: datetime64[ns]"
      ]
     },
     "execution_count": 19,
     "metadata": {},
     "output_type": "execute_result"
    }
   ],
   "source": [
    "returns.idxmax()"
   ]
  },
  {
   "cell_type": "markdown",
   "metadata": {},
   "source": [
    "** Take a look at the standard deviation of the returns, which stock would you classify as the riskiest over the entire time period? Which would you classify as the riskiest for the year 2019 - 2020?**"
   ]
  },
  {
   "cell_type": "markdown",
   "metadata": {},
   "source": [
    "# Riskiest Stock All Time"
   ]
  },
  {
   "cell_type": "code",
   "execution_count": 20,
   "metadata": {},
   "outputs": [
    {
     "data": {
      "text/plain": [
       "BAC Return    0.020952\n",
       "C Return      0.022427\n",
       "GS Return     0.019255\n",
       "JPM Return    0.018255\n",
       "MS Return     0.021445\n",
       "WFC Return    0.019297\n",
       "dtype: float64"
      ]
     },
     "execution_count": 20,
     "metadata": {},
     "output_type": "execute_result"
    }
   ],
   "source": [
    "returns.std()"
   ]
  },
  {
   "cell_type": "markdown",
   "metadata": {},
   "source": [
    "# Riskiest From 2019 - 2020"
   ]
  },
  {
   "cell_type": "code",
   "execution_count": 21,
   "metadata": {},
   "outputs": [
    {
     "data": {
      "text/plain": [
       "BAC Return    0.029025\n",
       "C Return      0.033725\n",
       "GS Return     0.026749\n",
       "JPM Return    0.026719\n",
       "MS Return     0.029392\n",
       "WFC Return    0.029013\n",
       "dtype: float64"
      ]
     },
     "execution_count": 21,
     "metadata": {},
     "output_type": "execute_result"
    }
   ],
   "source": [
    "returns.loc['2020-05-22':'2019-01-01'].std()     # 1 January 2019  to 22 may 2020"
   ]
  },
  {
   "cell_type": "markdown",
   "metadata": {},
   "source": [
    "### WFC Distplot"
   ]
  },
  {
   "cell_type": "markdown",
   "metadata": {},
   "source": [
    "** Create a distplot using seaborn of the 2019 - 2020 returns for Wells Fargo **"
   ]
  },
  {
   "cell_type": "code",
   "execution_count": 44,
   "metadata": {},
   "outputs": [],
   "source": [
    "# WFC19_20 = returns['WFC Return'].loc['2020-05-22':'2019-01-01']\n",
    "# sns.distplot(WFC19_20, bins=100, color='green')"
   ]
  },
  {
   "cell_type": "markdown",
   "metadata": {},
   "source": [
    "____\n",
    "# More Visualization\n",
    "\n",
    "A lot of this project will focus on visualizations. Feel free to use any of your preferred visualization libraries to try to recreate the described plots below, seaborn, matplotlib, plotly and cufflinks, or just pandas.\n"
   ]
  },
  {
   "cell_type": "markdown",
   "metadata": {},
   "source": [
    "** Create a line plot showing Close price for each bank for the entire index of time. (Hint: Try using a for loop, or use [.xs](http://pandas.pydata.org/pandas-docs/stable/generated/pandas.DataFrame.xs.html) to get a cross section of the data.)**"
   ]
  },
  {
   "cell_type": "markdown",
   "metadata": {},
   "source": [
    "### Line Chart of Stock Market Crisis"
   ]
  },
  {
   "cell_type": "code",
   "execution_count": 22,
   "metadata": {},
   "outputs": [
    {
     "data": {
      "application/vnd.plotly.v1+json": {
       "config": {
        "linkText": "Export to plot.ly",
        "plotlyServerURL": "https://plot.ly",
        "showLink": true
       },
       "data": [
        {
         "line": {
          "color": "rgba(255, 153, 51, 1.0)",
          "dash": "solid",
          "shape": "linear",
          "width": 1.3
         },
         "mode": "lines",
         "name": "BAC",
         "text": "",
         "type": "scatter",
         "x": [
          "2020-05-22",
          "2020-05-21",
          "2020-05-20",
          "2020-05-19",
          "2020-05-18",
          "2020-05-15",
          "2020-05-14",
          "2020-05-13",
          "2020-05-12",
          "2020-05-11",
          "2020-05-08",
          "2020-05-07",
          "2020-05-06",
          "2020-05-05",
          "2020-05-04",
          "2020-05-01",
          "2020-04-30",
          "2020-04-29",
          "2020-04-28",
          "2020-04-27",
          "2020-04-24",
          "2020-04-23",
          "2020-04-22",
          "2020-04-21",
          "2020-04-20",
          "2020-04-17",
          "2020-04-16",
          "2020-04-15",
          "2020-04-14",
          "2020-04-13",
          "2020-04-09",
          "2020-04-08",
          "2020-04-07",
          "2020-04-06",
          "2020-04-03",
          "2020-04-02",
          "2020-04-01",
          "2020-03-31",
          "2020-03-30",
          "2020-03-27",
          "2020-03-26",
          "2020-03-25",
          "2020-03-24",
          "2020-03-23",
          "2020-03-20",
          "2020-03-19",
          "2020-03-18",
          "2020-03-17",
          "2020-03-16",
          "2020-03-13",
          "2020-03-12",
          "2020-03-11",
          "2020-03-10",
          "2020-03-09",
          "2020-03-06",
          "2020-03-05",
          "2020-03-04",
          "2020-03-03",
          "2020-03-02",
          "2020-02-28",
          "2020-02-27",
          "2020-02-26",
          "2020-02-25",
          "2020-02-24",
          "2020-02-21",
          "2020-02-20",
          "2020-02-19",
          "2020-02-18",
          "2020-02-14",
          "2020-02-13",
          "2020-02-12",
          "2020-02-11",
          "2020-02-10",
          "2020-02-07",
          "2020-02-06",
          "2020-02-05",
          "2020-02-04",
          "2020-02-03",
          "2020-01-31",
          "2020-01-30",
          "2020-01-29",
          "2020-01-28",
          "2020-01-27",
          "2020-01-24",
          "2020-01-23",
          "2020-01-22",
          "2020-01-21",
          "2020-01-17",
          "2020-01-16",
          "2020-01-15",
          "2020-01-14",
          "2020-01-13",
          "2020-01-10",
          "2020-01-09",
          "2020-01-08",
          "2020-01-07",
          "2020-01-06",
          "2020-01-03",
          "2020-01-02",
          "2019-12-31",
          "2019-12-30",
          "2019-12-27",
          "2019-12-26",
          "2019-12-24",
          "2019-12-23",
          "2019-12-20",
          "2019-12-19",
          "2019-12-18",
          "2019-12-17",
          "2019-12-16",
          "2019-12-13",
          "2019-12-12",
          "2019-12-11",
          "2019-12-10",
          "2019-12-09",
          "2019-12-06",
          "2019-12-05",
          "2019-12-04",
          "2019-12-03",
          "2019-12-02",
          "2019-11-29",
          "2019-11-27",
          "2019-11-26",
          "2019-11-25",
          "2019-11-22",
          "2019-11-21",
          "2019-11-20",
          "2019-11-19",
          "2019-11-18",
          "2019-11-15",
          "2019-11-14",
          "2019-11-13",
          "2019-11-12",
          "2019-11-11",
          "2019-11-08",
          "2019-11-07",
          "2019-11-06",
          "2019-11-05",
          "2019-11-04",
          "2019-11-01",
          "2019-10-31",
          "2019-10-30",
          "2019-10-29",
          "2019-10-28",
          "2019-10-25",
          "2019-10-24",
          "2019-10-23",
          "2019-10-22",
          "2019-10-21",
          "2019-10-18",
          "2019-10-17",
          "2019-10-16",
          "2019-10-15",
          "2019-10-14",
          "2019-10-11",
          "2019-10-10",
          "2019-10-09",
          "2019-10-08",
          "2019-10-07",
          "2019-10-04",
          "2019-10-03",
          "2019-10-02",
          "2019-10-01",
          "2019-09-30",
          "2019-09-27",
          "2019-09-26",
          "2019-09-25",
          "2019-09-24",
          "2019-09-23",
          "2019-09-20",
          "2019-09-19",
          "2019-09-18",
          "2019-09-17",
          "2019-09-16",
          "2019-09-13",
          "2019-09-12",
          "2019-09-11",
          "2019-09-10",
          "2019-09-09",
          "2019-09-06",
          "2019-09-05",
          "2019-09-04",
          "2019-09-03",
          "2019-08-30",
          "2019-08-29",
          "2019-08-28",
          "2019-08-27",
          "2019-08-26",
          "2019-08-23",
          "2019-08-22",
          "2019-08-21",
          "2019-08-20",
          "2019-08-19",
          "2019-08-16",
          "2019-08-15",
          "2019-08-14",
          "2019-08-13",
          "2019-08-12",
          "2019-08-09",
          "2019-08-08",
          "2019-08-07",
          "2019-08-06",
          "2019-08-05",
          "2019-08-02",
          "2019-08-01",
          "2019-07-31",
          "2019-07-30",
          "2019-07-29",
          "2019-07-26",
          "2019-07-25",
          "2019-07-24",
          "2019-07-23",
          "2019-07-22",
          "2019-07-19",
          "2019-07-18",
          "2019-07-17",
          "2019-07-16",
          "2019-07-15",
          "2019-07-12",
          "2019-07-11",
          "2019-07-10",
          "2019-07-09",
          "2019-07-08",
          "2019-07-05",
          "2019-07-03",
          "2019-07-02",
          "2019-07-01",
          "2019-06-28",
          "2019-06-27",
          "2019-06-26",
          "2019-06-25",
          "2019-06-24",
          "2019-06-21",
          "2019-06-20",
          "2019-06-19",
          "2019-06-18",
          "2019-06-17",
          "2019-06-14",
          "2019-06-13",
          "2019-06-12",
          "2019-06-11",
          "2019-06-10",
          "2019-06-07",
          "2019-06-06",
          "2019-06-05",
          "2019-06-04",
          "2019-06-03",
          "2019-05-31",
          "2019-05-30",
          "2019-05-29",
          "2019-05-28",
          "2019-05-24",
          "2019-05-23",
          "2019-05-22",
          "2019-05-21",
          "2019-05-20",
          "2019-05-17",
          "2019-05-16",
          "2019-05-15",
          "2019-05-14",
          "2019-05-13",
          "2019-05-10",
          "2019-05-09",
          "2019-05-08",
          "2019-05-07",
          "2019-05-06",
          "2019-05-03",
          "2019-05-02",
          "2019-05-01",
          "2019-04-30",
          "2019-04-29",
          "2019-04-26",
          "2019-04-25",
          "2019-04-24",
          "2019-04-23",
          "2019-04-22",
          "2019-04-18",
          "2019-04-17",
          "2019-04-16",
          "2019-04-15",
          "2019-04-12",
          "2019-04-11",
          "2019-04-10",
          "2019-04-09",
          "2019-04-08",
          "2019-04-05",
          "2019-04-04",
          "2019-04-03",
          "2019-04-02",
          "2019-04-01",
          "2019-03-29",
          "2019-03-28",
          "2019-03-27",
          "2019-03-26",
          "2019-03-25",
          "2019-03-22",
          "2019-03-21",
          "2019-03-20",
          "2019-03-19",
          "2019-03-18",
          "2019-03-15",
          "2019-03-14",
          "2019-03-13",
          "2019-03-12",
          "2019-03-11",
          "2019-03-08",
          "2019-03-07",
          "2019-03-06",
          "2019-03-05",
          "2019-03-04",
          "2019-03-01",
          "2019-02-28",
          "2019-02-27",
          "2019-02-26",
          "2019-02-25",
          "2019-02-22",
          "2019-02-21",
          "2019-02-20",
          "2019-02-19",
          "2019-02-15",
          "2019-02-14",
          "2019-02-13",
          "2019-02-12",
          "2019-02-11",
          "2019-02-08",
          "2019-02-07",
          "2019-02-06",
          "2019-02-05",
          "2019-02-04",
          "2019-02-01",
          "2019-01-31",
          "2019-01-30",
          "2019-01-29",
          "2019-01-28",
          "2019-01-25",
          "2019-01-24",
          "2019-01-23",
          "2019-01-22",
          "2019-01-18",
          "2019-01-17",
          "2019-01-16",
          "2019-01-15",
          "2019-01-14",
          "2019-01-11",
          "2019-01-10",
          "2019-01-09",
          "2019-01-08",
          "2019-01-07",
          "2019-01-04",
          "2019-01-03",
          "2019-01-02"
         ],
         "y": [
          22.66,
          22.9,
          22.91,
          22.21,
          22.93,
          21.44,
          21.71,
          20.87,
          21.87,
          22.58,
          23.57,
          22.84,
          22.35,
          22.66,
          22.93,
          23.08,
          24.05,
          24.78,
          23.89,
          23.47,
          22.18,
          21.87,
          21.8,
          21.64,
          22.5,
          23.28,
          21.42,
          22.19,
          23.73,
          23.92,
          24.86,
          23.45,
          22.14,
          21.39,
          20.03,
          20.57,
          19.77,
          21.23,
          22.04,
          21.6,
          22.72,
          21.1,
          21.03,
          18.08,
          19.67,
          21.2,
          20.79,
          21.98,
          20.44,
          24.16,
          20.51,
          22.67,
          23.61,
          21.93,
          25.71,
          26.78,
          28.21,
          27.574,
          29.184,
          28.319000000000003,
          28.945,
          30.436,
          30.883000000000003,
          32.522,
          34.141999999999996,
          34.629,
          34.5,
          34.053000000000004,
          34.629,
          34.689,
          34.699,
          34.55,
          34.47,
          34.391,
          34.45,
          34.49,
          33.407,
          32.760999999999996,
          32.622,
          33.268,
          32.801,
          33.029,
          32.641999999999996,
          33.327,
          33.904,
          34.141999999999996,
          34.043,
          34.49,
          34.5,
          34.45,
          35.096,
          34.838,
          34.52,
          34.808,
          34.748000000000005,
          34.400999999999996,
          34.629,
          34.679,
          35.414,
          34.997,
          34.927,
          35.126,
          35.295,
          34.997,
          34.946999999999996,
          34.738,
          34.728,
          34.887,
          34.818000000000005,
          34.48,
          34.222,
          34.46,
          33.427,
          33.317,
          33.298,
          33.457,
          32.88,
          32.760999999999996,
          32.455,
          33.037,
          32.929,
          33.028,
          32.959,
          33.077,
          32.791,
          32.455,
          32.306,
          32.553000000000004,
          32.573,
          32.543,
          32.316,
          32.405,
          32.701,
          32.791,
          32.869,
          32.84,
          32.405,
          32.435,
          32.02,
          31.426,
          30.903000000000002,
          31.249000000000002,
          31.694000000000003,
          31.465999999999998,
          31.348000000000003,
          30.991999999999997,
          31.051,
          30.834,
          30.656,
          29.994,
          29.905,
          29.816,
          29.381999999999998,
          28.798000000000002,
          28.570999999999998,
          28.116999999999997,
          27.563000000000002,
          27.305999999999997,
          27.976999999999997,
          28.037,
          27.484,
          27.513,
          28.107,
          28.828000000000003,
          29.006,
          28.788,
          28.906999999999996,
          28.601,
          29.174,
          29.241999999999997,
          29.47,
          29.648000000000003,
          29.588,
          29.776,
          29.816,
          29.322,
          29.114,
          29.006,
          28.294,
          27.404,
          27.79,
          26.99,
          26.558000000000003,
          27.01,
          26.833000000000002,
          26.361,
          25.988000000000003,
          26.293000000000003,
          25.988000000000003,
          26.695,
          26.44,
          26.234,
          26.773000000000003,
          26.538,
          25.772,
          25.938000000000002,
          27.214000000000002,
          27.136999999999997,
          27.814,
          27.863000000000003,
          27.381999999999998,
          27.903000000000002,
          27.569000000000003,
          28.846,
          28.953000000000003,
          30.122,
          30.326999999999998,
          29.964000000000002,
          30.21,
          29.787,
          30.112,
          29.699,
          29.031,
          28.864,
          28.943,
          28.659000000000002,
          28.462,
          28.688000000000002,
          28.914,
          28.826,
          28.491,
          28.816,
          28.668000000000003,
          28.726999999999997,
          28.521,
          28.619,
          28.884,
          28.471999999999998,
          27.695999999999998,
          27.401,
          27.254,
          27.471,
          27.608,
          27.756,
          27.805,
          28.1,
          27.421,
          27.529,
          27.430999999999997,
          27.441,
          27.726,
          27.559,
          27.029,
          27.372,
          27.254,
          27.264,
          26.054000000000002,
          25.975,
          26.522,
          27.098000000000003,
          27.244,
          27.518,
          27.108,
          27.82,
          28.016,
          27.733,
          27.733,
          27.919,
          27.625999999999998,
          27.948,
          27.586,
          28.885,
          29.013,
          29.1,
          29.217,
          29.755,
          29.989,
          29.783,
          29.549,
          29.862,
          30.048000000000002,
          29.636999999999997,
          29.374000000000002,
          29.315,
          29.364,
          29.344,
          29.325,
          29.325,
          29.178,
          29.14,
          29.462,
          28.388,
          28.388,
          28.212,
          28.484,
          28.398000000000003,
          28.465,
          28.162,
          28.191999999999997,
          27.87,
          26.941999999999997,
          26.688000000000002,
          26.396,
          26.570999999999998,
          26.21,
          26.375999999999998,
          27.518,
          27.967,
          28.954,
          29.12,
          28.612,
          28.768,
          28.601999999999997,
          28.261,
          28.261,
          27.976,
          27.88,
          28.162,
          28.398000000000003,
          28.348000000000003,
          28.621,
          28.398000000000003,
          28.69,
          28.456,
          28.436999999999998,
          28.254,
          28.456,
          28.574,
          28.301,
          28.281999999999996,
          27.581999999999997,
          27.884,
          27.874000000000002,
          27.601999999999997,
          27.486,
          27.436999999999998,
          27.913,
          27.962,
          28.059,
          27.573,
          27.660999999999998,
          28.244,
          28.555,
          28.787,
          28.739,
          28.254,
          28.098000000000003,
          28.263,
          28.465999999999998,
          28.165,
          27.641,
          25.794,
          25.62,
          25.29,
          24.997,
          25.026,
          24.785,
          24.833000000000002,
          24.851,
          23.862,
          24.25
         ]
        },
        {
         "line": {
          "color": "rgba(55, 128, 191, 1.0)",
          "dash": "solid",
          "shape": "linear",
          "width": 1.3
         },
         "mode": "lines",
         "name": "C",
         "text": "",
         "type": "scatter",
         "x": [
          "2020-05-22",
          "2020-05-21",
          "2020-05-20",
          "2020-05-19",
          "2020-05-18",
          "2020-05-15",
          "2020-05-14",
          "2020-05-13",
          "2020-05-12",
          "2020-05-11",
          "2020-05-08",
          "2020-05-07",
          "2020-05-06",
          "2020-05-05",
          "2020-05-04",
          "2020-05-01",
          "2020-04-30",
          "2020-04-29",
          "2020-04-28",
          "2020-04-27",
          "2020-04-24",
          "2020-04-23",
          "2020-04-22",
          "2020-04-21",
          "2020-04-20",
          "2020-04-17",
          "2020-04-16",
          "2020-04-15",
          "2020-04-14",
          "2020-04-13",
          "2020-04-09",
          "2020-04-08",
          "2020-04-07",
          "2020-04-06",
          "2020-04-03",
          "2020-04-02",
          "2020-04-01",
          "2020-03-31",
          "2020-03-30",
          "2020-03-27",
          "2020-03-26",
          "2020-03-25",
          "2020-03-24",
          "2020-03-23",
          "2020-03-20",
          "2020-03-19",
          "2020-03-18",
          "2020-03-17",
          "2020-03-16",
          "2020-03-13",
          "2020-03-12",
          "2020-03-11",
          "2020-03-10",
          "2020-03-09",
          "2020-03-06",
          "2020-03-05",
          "2020-03-04",
          "2020-03-03",
          "2020-03-02",
          "2020-02-28",
          "2020-02-27",
          "2020-02-26",
          "2020-02-25",
          "2020-02-24",
          "2020-02-21",
          "2020-02-20",
          "2020-02-19",
          "2020-02-18",
          "2020-02-14",
          "2020-02-13",
          "2020-02-12",
          "2020-02-11",
          "2020-02-10",
          "2020-02-07",
          "2020-02-06",
          "2020-02-05",
          "2020-02-04",
          "2020-02-03",
          "2020-01-31",
          "2020-01-30",
          "2020-01-29",
          "2020-01-28",
          "2020-01-27",
          "2020-01-24",
          "2020-01-23",
          "2020-01-22",
          "2020-01-21",
          "2020-01-17",
          "2020-01-16",
          "2020-01-15",
          "2020-01-14",
          "2020-01-13",
          "2020-01-10",
          "2020-01-09",
          "2020-01-08",
          "2020-01-07",
          "2020-01-06",
          "2020-01-03",
          "2020-01-02",
          "2019-12-31",
          "2019-12-30",
          "2019-12-27",
          "2019-12-26",
          "2019-12-24",
          "2019-12-23",
          "2019-12-20",
          "2019-12-19",
          "2019-12-18",
          "2019-12-17",
          "2019-12-16",
          "2019-12-13",
          "2019-12-12",
          "2019-12-11",
          "2019-12-10",
          "2019-12-09",
          "2019-12-06",
          "2019-12-05",
          "2019-12-04",
          "2019-12-03",
          "2019-12-02",
          "2019-11-29",
          "2019-11-27",
          "2019-11-26",
          "2019-11-25",
          "2019-11-22",
          "2019-11-21",
          "2019-11-20",
          "2019-11-19",
          "2019-11-18",
          "2019-11-15",
          "2019-11-14",
          "2019-11-13",
          "2019-11-12",
          "2019-11-11",
          "2019-11-08",
          "2019-11-07",
          "2019-11-06",
          "2019-11-05",
          "2019-11-04",
          "2019-11-01",
          "2019-10-31",
          "2019-10-30",
          "2019-10-29",
          "2019-10-28",
          "2019-10-25",
          "2019-10-24",
          "2019-10-23",
          "2019-10-22",
          "2019-10-21",
          "2019-10-18",
          "2019-10-17",
          "2019-10-16",
          "2019-10-15",
          "2019-10-14",
          "2019-10-11",
          "2019-10-10",
          "2019-10-09",
          "2019-10-08",
          "2019-10-07",
          "2019-10-04",
          "2019-10-03",
          "2019-10-02",
          "2019-10-01",
          "2019-09-30",
          "2019-09-27",
          "2019-09-26",
          "2019-09-25",
          "2019-09-24",
          "2019-09-23",
          "2019-09-20",
          "2019-09-19",
          "2019-09-18",
          "2019-09-17",
          "2019-09-16",
          "2019-09-13",
          "2019-09-12",
          "2019-09-11",
          "2019-09-10",
          "2019-09-09",
          "2019-09-06",
          "2019-09-05",
          "2019-09-04",
          "2019-09-03",
          "2019-08-30",
          "2019-08-29",
          "2019-08-28",
          "2019-08-27",
          "2019-08-26",
          "2019-08-23",
          "2019-08-22",
          "2019-08-21",
          "2019-08-20",
          "2019-08-19",
          "2019-08-16",
          "2019-08-15",
          "2019-08-14",
          "2019-08-13",
          "2019-08-12",
          "2019-08-09",
          "2019-08-08",
          "2019-08-07",
          "2019-08-06",
          "2019-08-05",
          "2019-08-02",
          "2019-08-01",
          "2019-07-31",
          "2019-07-30",
          "2019-07-29",
          "2019-07-26",
          "2019-07-25",
          "2019-07-24",
          "2019-07-23",
          "2019-07-22",
          "2019-07-19",
          "2019-07-18",
          "2019-07-17",
          "2019-07-16",
          "2019-07-15",
          "2019-07-12",
          "2019-07-11",
          "2019-07-10",
          "2019-07-09",
          "2019-07-08",
          "2019-07-05",
          "2019-07-03",
          "2019-07-02",
          "2019-07-01",
          "2019-06-28",
          "2019-06-27",
          "2019-06-26",
          "2019-06-25",
          "2019-06-24",
          "2019-06-21",
          "2019-06-20",
          "2019-06-19",
          "2019-06-18",
          "2019-06-17",
          "2019-06-14",
          "2019-06-13",
          "2019-06-12",
          "2019-06-11",
          "2019-06-10",
          "2019-06-07",
          "2019-06-06",
          "2019-06-05",
          "2019-06-04",
          "2019-06-03",
          "2019-05-31",
          "2019-05-30",
          "2019-05-29",
          "2019-05-28",
          "2019-05-24",
          "2019-05-23",
          "2019-05-22",
          "2019-05-21",
          "2019-05-20",
          "2019-05-17",
          "2019-05-16",
          "2019-05-15",
          "2019-05-14",
          "2019-05-13",
          "2019-05-10",
          "2019-05-09",
          "2019-05-08",
          "2019-05-07",
          "2019-05-06",
          "2019-05-03",
          "2019-05-02",
          "2019-05-01",
          "2019-04-30",
          "2019-04-29",
          "2019-04-26",
          "2019-04-25",
          "2019-04-24",
          "2019-04-23",
          "2019-04-22",
          "2019-04-18",
          "2019-04-17",
          "2019-04-16",
          "2019-04-15",
          "2019-04-12",
          "2019-04-11",
          "2019-04-10",
          "2019-04-09",
          "2019-04-08",
          "2019-04-05",
          "2019-04-04",
          "2019-04-03",
          "2019-04-02",
          "2019-04-01",
          "2019-03-29",
          "2019-03-28",
          "2019-03-27",
          "2019-03-26",
          "2019-03-25",
          "2019-03-22",
          "2019-03-21",
          "2019-03-20",
          "2019-03-19",
          "2019-03-18",
          "2019-03-15",
          "2019-03-14",
          "2019-03-13",
          "2019-03-12",
          "2019-03-11",
          "2019-03-08",
          "2019-03-07",
          "2019-03-06",
          "2019-03-05",
          "2019-03-04",
          "2019-03-01",
          "2019-02-28",
          "2019-02-27",
          "2019-02-26",
          "2019-02-25",
          "2019-02-22",
          "2019-02-21",
          "2019-02-20",
          "2019-02-19",
          "2019-02-15",
          "2019-02-14",
          "2019-02-13",
          "2019-02-12",
          "2019-02-11",
          "2019-02-08",
          "2019-02-07",
          "2019-02-06",
          "2019-02-05",
          "2019-02-04",
          "2019-02-01",
          "2019-01-31",
          "2019-01-30",
          "2019-01-29",
          "2019-01-28",
          "2019-01-25",
          "2019-01-24",
          "2019-01-23",
          "2019-01-22",
          "2019-01-18",
          "2019-01-17",
          "2019-01-16",
          "2019-01-15",
          "2019-01-14",
          "2019-01-11",
          "2019-01-10",
          "2019-01-09",
          "2019-01-08",
          "2019-01-07",
          "2019-01-04",
          "2019-01-03",
          "2019-01-02"
         ],
         "y": [
          44.1,
          45,
          45.47,
          44.43,
          45.67,
          41.92,
          42.06,
          40.6,
          42.35,
          44.07,
          46.32,
          44.64,
          42.95,
          43.95,
          45.12,
          45.52,
          48.05,
          49.732,
          46.714,
          46.071000000000005,
          42.647,
          42.013999999999996,
          41.79600000000001,
          41.133,
          43.548,
          44.973,
          40.094,
          42.41,
          44.943000000000005,
          46.19,
          46.912,
          43.795,
          40.817,
          40.688,
          37.096,
          38.818000000000005,
          38.106,
          41.678000000000004,
          43.617,
          43.34,
          45.537,
          41.42,
          40.233000000000004,
          35.018,
          37.66,
          39.224000000000004,
          36.047,
          39.827,
          40.757,
          50.504,
          42.806000000000004,
          50.257,
          54.996,
          50.83,
          60.636,
          62.823,
          66.682,
          64.367,
          66.88,
          62.794,
          63.773,
          67.464,
          68.70100000000001,
          71.768,
          75.637,
          77.398,
          77.23,
          76.765,
          77.96300000000001,
          78.17,
          78.497,
          78.259,
          77.656,
          77.86399999999999,
          78.141,
          78.02199999999999,
          75.697,
          74.34100000000001,
          73.62899999999999,
          76.112,
          75.178,
          75.925,
          75.405,
          77.085,
          78.441,
          78.736,
          78.54,
          79.74,
          79.62100000000001,
          79.857,
          80.515,
          79.278,
          77.90100000000001,
          78.717,
          78.009,
          77.419,
          78.098,
          78.343,
          79.848,
          78.53,
          78.156,
          78.314,
          78.471,
          77.252,
          77.419,
          77.17399999999999,
          76.869,
          76.594,
          76.417,
          75.601,
          75.09,
          75.73899999999999,
          74.264,
          74.49,
          74.048,
          74.52,
          73.439,
          72.967,
          72.082,
          73.252,
          73.84100000000001,
          74.431,
          74.176,
          74.392,
          73.596,
          72.642,
          72.652,
          73.546,
          73.134,
          73.134,
          72.584,
          72.652,
          73.793,
          74.313,
          74.825,
          74.52,
          73.154,
          73.556,
          73.87100000000001,
          72.584,
          70.13600000000001,
          71.219,
          71.336,
          71.825,
          71.414,
          70.565,
          70.711,
          70.332,
          70.086,
          68.067,
          67.93,
          67.832,
          69.51100000000001,
          68.554,
          68.418,
          66.973,
          65.811,
          64.807,
          66.514,
          66.544,
          65.1,
          64.671,
          66.514,
          67.422,
          67.793,
          67.452,
          67.715,
          66.271,
          67.881,
          67.686,
          68.057,
          68.40899999999999,
          67.813,
          68.154,
          68.70100000000001,
          67.637,
          67.24600000000001,
          67.324,
          67.139,
          64.388,
          64.748,
          62.738,
          61.898,
          62.805,
          62.36600000000001,
          60.863,
          60.18,
          61.215,
          60.463,
          62.376000000000005,
          61.732,
          61.898,
          62.766999999999996,
          61.956,
          59.849,
          59.93600000000001,
          63.273999999999994,
          62.718,
          64.465,
          65.139,
          63.577,
          64.661,
          63.61600000000001,
          65.988,
          66.212,
          68.934,
          69.468,
          69.516,
          69.904,
          69.157,
          70.726,
          69.73899999999999,
          68.885,
          68.702,
          69.544,
          68.605,
          69.09,
          69.468,
          69.524,
          69.37100000000001,
          68.905,
          69.322,
          68.905,
          69.167,
          68.634,
          68.237,
          68.528,
          67.839,
          66.018,
          65.117,
          64.459,
          65.301,
          65.844,
          65.97,
          65.476,
          65.854,
          64.459,
          65.369,
          64.98100000000001,
          64.719,
          65.757,
          65.02,
          63.636,
          64.392,
          63.723,
          63.818999999999996,
          60.652,
          60.206,
          61.62,
          61.717,
          61.795,
          62.376000000000005,
          61.901,
          62.638000000000005,
          64.014,
          62.927,
          63.035,
          63.917,
          62.841,
          63.218,
          62.36600000000001,
          65.77600000000001,
          65.515,
          66.086,
          66.028,
          68.208,
          68.459,
          67.723,
          67.33800000000001,
          68.051,
          68.368,
          66.905,
          66.154,
          66.251,
          66.607,
          66.5,
          67.058,
          67.71300000000001,
          66.71300000000001,
          64.854,
          64.893,
          63.44,
          63.06399999999999,
          62.757,
          63.593999999999994,
          63.093,
          63.353,
          62.622,
          62.006,
          61.948,
          59.888999999999996,
          59.657,
          58.455,
          58.926,
          58.07,
          58.695,
          61.515,
          61.89,
          63.17100000000001,
          63.458999999999996,
          62.748000000000005,
          61.708,
          61.265,
          60.455,
          59.974,
          59.735,
          59.581,
          60.167,
          60.571999999999996,
          61.361000000000004,
          62.053999999999995,
          61.582,
          61.986999999999995,
          61.717,
          62.111999999999995,
          61.736000000000004,
          61.91,
          62.218999999999994,
          61.967,
          61.861000000000004,
          60.08,
          60.678000000000004,
          60.321000000000005,
          59.302,
          59.68600000000001,
          60.455,
          61.495,
          61.418,
          61.66,
          61.284,
          61.611000000000004,
          61.382,
          60.418,
          61.027,
          61.191,
          59.938,
          59.38399999999999,
          59.117,
          60.33,
          59.708999999999996,
          59.442,
          58.667,
          56.326,
          54.185,
          53.946000000000005,
          53.888000000000005,
          53.01,
          53.153,
          52.693999999999996,
          50.236999999999995,
          51.163999999999994
         ]
        },
        {
         "line": {
          "color": "rgba(50, 171, 96, 1.0)",
          "dash": "solid",
          "shape": "linear",
          "width": 1.3
         },
         "mode": "lines",
         "name": "GS",
         "text": "",
         "type": "scatter",
         "x": [
          "2020-05-22",
          "2020-05-21",
          "2020-05-20",
          "2020-05-19",
          "2020-05-18",
          "2020-05-15",
          "2020-05-14",
          "2020-05-13",
          "2020-05-12",
          "2020-05-11",
          "2020-05-08",
          "2020-05-07",
          "2020-05-06",
          "2020-05-05",
          "2020-05-04",
          "2020-05-01",
          "2020-04-30",
          "2020-04-29",
          "2020-04-28",
          "2020-04-27",
          "2020-04-24",
          "2020-04-23",
          "2020-04-22",
          "2020-04-21",
          "2020-04-20",
          "2020-04-17",
          "2020-04-16",
          "2020-04-15",
          "2020-04-14",
          "2020-04-13",
          "2020-04-09",
          "2020-04-08",
          "2020-04-07",
          "2020-04-06",
          "2020-04-03",
          "2020-04-02",
          "2020-04-01",
          "2020-03-31",
          "2020-03-30",
          "2020-03-27",
          "2020-03-26",
          "2020-03-25",
          "2020-03-24",
          "2020-03-23",
          "2020-03-20",
          "2020-03-19",
          "2020-03-18",
          "2020-03-17",
          "2020-03-16",
          "2020-03-13",
          "2020-03-12",
          "2020-03-11",
          "2020-03-10",
          "2020-03-09",
          "2020-03-06",
          "2020-03-05",
          "2020-03-04",
          "2020-03-03",
          "2020-03-02",
          "2020-02-28",
          "2020-02-27",
          "2020-02-26",
          "2020-02-25",
          "2020-02-24",
          "2020-02-21",
          "2020-02-20",
          "2020-02-19",
          "2020-02-18",
          "2020-02-14",
          "2020-02-13",
          "2020-02-12",
          "2020-02-11",
          "2020-02-10",
          "2020-02-07",
          "2020-02-06",
          "2020-02-05",
          "2020-02-04",
          "2020-02-03",
          "2020-01-31",
          "2020-01-30",
          "2020-01-29",
          "2020-01-28",
          "2020-01-27",
          "2020-01-24",
          "2020-01-23",
          "2020-01-22",
          "2020-01-21",
          "2020-01-17",
          "2020-01-16",
          "2020-01-15",
          "2020-01-14",
          "2020-01-13",
          "2020-01-10",
          "2020-01-09",
          "2020-01-08",
          "2020-01-07",
          "2020-01-06",
          "2020-01-03",
          "2020-01-02",
          "2019-12-31",
          "2019-12-30",
          "2019-12-27",
          "2019-12-26",
          "2019-12-24",
          "2019-12-23",
          "2019-12-20",
          "2019-12-19",
          "2019-12-18",
          "2019-12-17",
          "2019-12-16",
          "2019-12-13",
          "2019-12-12",
          "2019-12-11",
          "2019-12-10",
          "2019-12-09",
          "2019-12-06",
          "2019-12-05",
          "2019-12-04",
          "2019-12-03",
          "2019-12-02",
          "2019-11-29",
          "2019-11-27",
          "2019-11-26",
          "2019-11-25",
          "2019-11-22",
          "2019-11-21",
          "2019-11-20",
          "2019-11-19",
          "2019-11-18",
          "2019-11-15",
          "2019-11-14",
          "2019-11-13",
          "2019-11-12",
          "2019-11-11",
          "2019-11-08",
          "2019-11-07",
          "2019-11-06",
          "2019-11-05",
          "2019-11-04",
          "2019-11-01",
          "2019-10-31",
          "2019-10-30",
          "2019-10-29",
          "2019-10-28",
          "2019-10-25",
          "2019-10-24",
          "2019-10-23",
          "2019-10-22",
          "2019-10-21",
          "2019-10-18",
          "2019-10-17",
          "2019-10-16",
          "2019-10-15",
          "2019-10-14",
          "2019-10-11",
          "2019-10-10",
          "2019-10-09",
          "2019-10-08",
          "2019-10-07",
          "2019-10-04",
          "2019-10-03",
          "2019-10-02",
          "2019-10-01",
          "2019-09-30",
          "2019-09-27",
          "2019-09-26",
          "2019-09-25",
          "2019-09-24",
          "2019-09-23",
          "2019-09-20",
          "2019-09-19",
          "2019-09-18",
          "2019-09-17",
          "2019-09-16",
          "2019-09-13",
          "2019-09-12",
          "2019-09-11",
          "2019-09-10",
          "2019-09-09",
          "2019-09-06",
          "2019-09-05",
          "2019-09-04",
          "2019-09-03",
          "2019-08-30",
          "2019-08-29",
          "2019-08-28",
          "2019-08-27",
          "2019-08-26",
          "2019-08-23",
          "2019-08-22",
          "2019-08-21",
          "2019-08-20",
          "2019-08-19",
          "2019-08-16",
          "2019-08-15",
          "2019-08-14",
          "2019-08-13",
          "2019-08-12",
          "2019-08-09",
          "2019-08-08",
          "2019-08-07",
          "2019-08-06",
          "2019-08-05",
          "2019-08-02",
          "2019-08-01",
          "2019-07-31",
          "2019-07-30",
          "2019-07-29",
          "2019-07-26",
          "2019-07-25",
          "2019-07-24",
          "2019-07-23",
          "2019-07-22",
          "2019-07-19",
          "2019-07-18",
          "2019-07-17",
          "2019-07-16",
          "2019-07-15",
          "2019-07-12",
          "2019-07-11",
          "2019-07-10",
          "2019-07-09",
          "2019-07-08",
          "2019-07-05",
          "2019-07-03",
          "2019-07-02",
          "2019-07-01",
          "2019-06-28",
          "2019-06-27",
          "2019-06-26",
          "2019-06-25",
          "2019-06-24",
          "2019-06-21",
          "2019-06-20",
          "2019-06-19",
          "2019-06-18",
          "2019-06-17",
          "2019-06-14",
          "2019-06-13",
          "2019-06-12",
          "2019-06-11",
          "2019-06-10",
          "2019-06-07",
          "2019-06-06",
          "2019-06-05",
          "2019-06-04",
          "2019-06-03",
          "2019-05-31",
          "2019-05-30",
          "2019-05-29",
          "2019-05-28",
          "2019-05-24",
          "2019-05-23",
          "2019-05-22",
          "2019-05-21",
          "2019-05-20",
          "2019-05-17",
          "2019-05-16",
          "2019-05-15",
          "2019-05-14",
          "2019-05-13",
          "2019-05-10",
          "2019-05-09",
          "2019-05-08",
          "2019-05-07",
          "2019-05-06",
          "2019-05-03",
          "2019-05-02",
          "2019-05-01",
          "2019-04-30",
          "2019-04-29",
          "2019-04-26",
          "2019-04-25",
          "2019-04-24",
          "2019-04-23",
          "2019-04-22",
          "2019-04-18",
          "2019-04-17",
          "2019-04-16",
          "2019-04-15",
          "2019-04-12",
          "2019-04-11",
          "2019-04-10",
          "2019-04-09",
          "2019-04-08",
          "2019-04-05",
          "2019-04-04",
          "2019-04-03",
          "2019-04-02",
          "2019-04-01",
          "2019-03-29",
          "2019-03-28",
          "2019-03-27",
          "2019-03-26",
          "2019-03-25",
          "2019-03-22",
          "2019-03-21",
          "2019-03-20",
          "2019-03-19",
          "2019-03-18",
          "2019-03-15",
          "2019-03-14",
          "2019-03-13",
          "2019-03-12",
          "2019-03-11",
          "2019-03-08",
          "2019-03-07",
          "2019-03-06",
          "2019-03-05",
          "2019-03-04",
          "2019-03-01",
          "2019-02-28",
          "2019-02-27",
          "2019-02-26",
          "2019-02-25",
          "2019-02-22",
          "2019-02-21",
          "2019-02-20",
          "2019-02-19",
          "2019-02-15",
          "2019-02-14",
          "2019-02-13",
          "2019-02-12",
          "2019-02-11",
          "2019-02-08",
          "2019-02-07",
          "2019-02-06",
          "2019-02-05",
          "2019-02-04",
          "2019-02-01",
          "2019-01-31",
          "2019-01-30",
          "2019-01-29",
          "2019-01-28",
          "2019-01-25",
          "2019-01-24",
          "2019-01-23",
          "2019-01-22",
          "2019-01-18",
          "2019-01-17",
          "2019-01-16",
          "2019-01-15",
          "2019-01-14",
          "2019-01-11",
          "2019-01-10",
          "2019-01-09",
          "2019-01-08",
          "2019-01-07",
          "2019-01-04",
          "2019-01-03",
          "2019-01-02"
         ],
         "y": [
          179.93,
          180.1,
          181.44,
          177.83,
          181.88,
          171.87,
          174.45,
          171.8,
          177.21,
          183.16,
          185.39,
          182.32,
          176.92,
          178.3,
          176.03,
          177.1,
          183.42,
          190.03,
          187.01,
          183.54,
          177,
          175.05,
          175.98,
          173.81,
          180.4,
          183.49,
          177.04,
          178.52,
          178.23,
          179.18,
          184.26,
          176.96,
          166.02,
          158.23,
          146.93,
          149.93,
          145.29,
          154.59,
          159.62,
          158.34,
          165.79,
          155.13,
          153.6,
          134.97,
          138.41,
          149.49,
          140.02,
          158.67,
          154.66,
          177.17,
          150.68,
          171.89,
          184.35,
          172.81,
          192.85,
          198.79,
          208.74,
          203.43,
          209.47,
          200.77,
          204.44,
          214.47,
          216.29,
          223.18,
          229.22,
          231.32,
          235.89,
          231.79,
          235.64,
          236.9,
          237.2,
          235.02,
          235.92,
          236.55,
          240.35,
          242.82,
          240.47,
          237.56,
          236.31,
          242.65,
          238.66,
          241.11,
          236.69,
          240.45,
          244.09,
          245.55,
          244.21,
          247.94,
          248.2,
          243.72,
          244.17,
          243.72,
          240.64,
          241.13,
          236.32,
          234.06,
          232.53,
          230.17,
          232.9,
          228.53,
          228.4,
          229.26,
          229.8,
          228.51,
          227.7,
          227.54,
          228.54,
          229.05,
          229.75,
          226.65,
          223.63,
          224.68,
          219.85,
          220.53,
          220.46,
          223.25,
          215.82,
          214.63,
          210.95,
          216.32,
          220,
          220.35,
          219.86,
          220.15,
          217.71,
          215.69,
          215.37,
          217.48,
          217.17,
          217.69,
          216.87,
          216.76,
          217.84,
          216.48,
          220.31,
          220.69,
          215.88,
          216.09,
          217.31,
          214.86,
          210.89,
          213.3,
          215.1,
          215.21,
          211.74,
          208.59,
          208.86,
          207.15,
          206.82,
          204.11,
          204.05,
          205.01,
          204.05,
          203.43,
          202.29,
          197.54,
          194.56,
          195.07,
          198.07,
          198.46,
          194.94,
          195.94,
          200.33,
          204.82,
          206.54,
          205.79,
          207.58,
          205.33,
          210.97,
          211.25,
          212.72,
          214.55,
          213.4,
          214.69,
          217.34,
          216.19,
          214.27,
          213.12,
          209.51,
          204.8,
          204.64,
          199.38,
          196.65,
          201.54,
          201.07,
          196.85,
          194.54,
          196.09,
          192.71,
          198.81,
          197.1,
          196.42,
          198.6,
          195.87,
          192.69,
          192.08,
          200.47,
          197.93,
          203.22,
          203.32,
          202.07,
          202.34,
          198.09,
          205.63,
          207.83,
          216.21,
          217.46,
          216.4,
          218.18,
          216.06,
          218.08,
          215.52,
          210.19,
          209.72,
          210.69,
          209.5,
          211.69,
          207.81,
          210.14,
          207.58,
          202.3,
          204.06,
          202.08,
          204.19,
          202.36,
          202.31,
          203.18,
          200.95,
          195.77,
          193.5,
          192.57,
          193.97,
          192.45,
          192.21,
          192.16,
          191.5,
          187.43,
          188.24,
          188.04,
          186.83,
          191.27,
          190.66,
          186.43,
          186.43,
          185.08,
          186.5,
          179.93,
          179.23,
          184.03,
          184.7,
          185.23,
          188.71,
          187.71,
          191.18,
          194.69,
          192.87,
          193.03,
          194.72,
          192.04,
          191.92,
          190.64,
          197.56,
          197.15,
          196.49,
          198.13,
          201.85,
          202.91,
          200.43,
          200.18,
          201.35,
          202.32,
          198.57,
          196.93,
          196.08,
          199.6,
          200.06,
          201.34,
          203.29,
          197.35,
          195.46,
          203.23,
          198.32,
          198.47,
          196.16,
          198.04,
          197.88,
          197.73,
          196.4,
          193.1,
          192.37,
          187.73,
          186.93,
          185.81,
          186.45,
          184.31,
          184.76,
          190.26,
          190,
          196.65,
          197.97,
          193.85,
          193.07,
          192.87,
          192.26,
          191.61,
          190.9,
          188.49,
          190.42,
          191.64,
          191.62,
          193.8,
          192.33,
          193.7,
          193.7,
          193.45,
          190.87,
          191.23,
          193.4,
          193.47,
          193.3,
          187.5,
          189.6,
          189.41,
          186.32,
          186.65,
          188.02,
          191.47,
          192.84,
          192.55,
          191.39,
          192.84,
          197.19,
          195.25,
          194.5,
          195.48,
          192.63,
          191.75,
          192.51,
          197.24,
          193.88,
          191.93,
          175.22,
          174.04,
          172.31,
          171.39,
          171.86,
          170.79,
          171.41,
          170.48,
          165.07,
          167.54
         ]
        },
        {
         "line": {
          "color": "rgba(128, 0, 128, 1.0)",
          "dash": "solid",
          "shape": "linear",
          "width": 1.3
         },
         "mode": "lines",
         "name": "JPM",
         "text": "",
         "type": "scatter",
         "x": [
          "2020-05-22",
          "2020-05-21",
          "2020-05-20",
          "2020-05-19",
          "2020-05-18",
          "2020-05-15",
          "2020-05-14",
          "2020-05-13",
          "2020-05-12",
          "2020-05-11",
          "2020-05-08",
          "2020-05-07",
          "2020-05-06",
          "2020-05-05",
          "2020-05-04",
          "2020-05-01",
          "2020-04-30",
          "2020-04-29",
          "2020-04-28",
          "2020-04-27",
          "2020-04-24",
          "2020-04-23",
          "2020-04-22",
          "2020-04-21",
          "2020-04-20",
          "2020-04-17",
          "2020-04-16",
          "2020-04-15",
          "2020-04-14",
          "2020-04-13",
          "2020-04-09",
          "2020-04-08",
          "2020-04-07",
          "2020-04-06",
          "2020-04-03",
          "2020-04-02",
          "2020-04-01",
          "2020-03-31",
          "2020-03-30",
          "2020-03-27",
          "2020-03-26",
          "2020-03-25",
          "2020-03-24",
          "2020-03-23",
          "2020-03-20",
          "2020-03-19",
          "2020-03-18",
          "2020-03-17",
          "2020-03-16",
          "2020-03-13",
          "2020-03-12",
          "2020-03-11",
          "2020-03-10",
          "2020-03-09",
          "2020-03-06",
          "2020-03-05",
          "2020-03-04",
          "2020-03-03",
          "2020-03-02",
          "2020-02-28",
          "2020-02-27",
          "2020-02-26",
          "2020-02-25",
          "2020-02-24",
          "2020-02-21",
          "2020-02-20",
          "2020-02-19",
          "2020-02-18",
          "2020-02-14",
          "2020-02-13",
          "2020-02-12",
          "2020-02-11",
          "2020-02-10",
          "2020-02-07",
          "2020-02-06",
          "2020-02-05",
          "2020-02-04",
          "2020-02-03",
          "2020-01-31",
          "2020-01-30",
          "2020-01-29",
          "2020-01-28",
          "2020-01-27",
          "2020-01-24",
          "2020-01-23",
          "2020-01-22",
          "2020-01-21",
          "2020-01-17",
          "2020-01-16",
          "2020-01-15",
          "2020-01-14",
          "2020-01-13",
          "2020-01-10",
          "2020-01-09",
          "2020-01-08",
          "2020-01-07",
          "2020-01-06",
          "2020-01-03",
          "2020-01-02",
          "2019-12-31",
          "2019-12-30",
          "2019-12-27",
          "2019-12-26",
          "2019-12-24",
          "2019-12-23",
          "2019-12-20",
          "2019-12-19",
          "2019-12-18",
          "2019-12-17",
          "2019-12-16",
          "2019-12-13",
          "2019-12-12",
          "2019-12-11",
          "2019-12-10",
          "2019-12-09",
          "2019-12-06",
          "2019-12-05",
          "2019-12-04",
          "2019-12-03",
          "2019-12-02",
          "2019-11-29",
          "2019-11-27",
          "2019-11-26",
          "2019-11-25",
          "2019-11-22",
          "2019-11-21",
          "2019-11-20",
          "2019-11-19",
          "2019-11-18",
          "2019-11-15",
          "2019-11-14",
          "2019-11-13",
          "2019-11-12",
          "2019-11-11",
          "2019-11-08",
          "2019-11-07",
          "2019-11-06",
          "2019-11-05",
          "2019-11-04",
          "2019-11-01",
          "2019-10-31",
          "2019-10-30",
          "2019-10-29",
          "2019-10-28",
          "2019-10-25",
          "2019-10-24",
          "2019-10-23",
          "2019-10-22",
          "2019-10-21",
          "2019-10-18",
          "2019-10-17",
          "2019-10-16",
          "2019-10-15",
          "2019-10-14",
          "2019-10-11",
          "2019-10-10",
          "2019-10-09",
          "2019-10-08",
          "2019-10-07",
          "2019-10-04",
          "2019-10-03",
          "2019-10-02",
          "2019-10-01",
          "2019-09-30",
          "2019-09-27",
          "2019-09-26",
          "2019-09-25",
          "2019-09-24",
          "2019-09-23",
          "2019-09-20",
          "2019-09-19",
          "2019-09-18",
          "2019-09-17",
          "2019-09-16",
          "2019-09-13",
          "2019-09-12",
          "2019-09-11",
          "2019-09-10",
          "2019-09-09",
          "2019-09-06",
          "2019-09-05",
          "2019-09-04",
          "2019-09-03",
          "2019-08-30",
          "2019-08-29",
          "2019-08-28",
          "2019-08-27",
          "2019-08-26",
          "2019-08-23",
          "2019-08-22",
          "2019-08-21",
          "2019-08-20",
          "2019-08-19",
          "2019-08-16",
          "2019-08-15",
          "2019-08-14",
          "2019-08-13",
          "2019-08-12",
          "2019-08-09",
          "2019-08-08",
          "2019-08-07",
          "2019-08-06",
          "2019-08-05",
          "2019-08-02",
          "2019-08-01",
          "2019-07-31",
          "2019-07-30",
          "2019-07-29",
          "2019-07-26",
          "2019-07-25",
          "2019-07-24",
          "2019-07-23",
          "2019-07-22",
          "2019-07-19",
          "2019-07-18",
          "2019-07-17",
          "2019-07-16",
          "2019-07-15",
          "2019-07-12",
          "2019-07-11",
          "2019-07-10",
          "2019-07-09",
          "2019-07-08",
          "2019-07-05",
          "2019-07-03",
          "2019-07-02",
          "2019-07-01",
          "2019-06-28",
          "2019-06-27",
          "2019-06-26",
          "2019-06-25",
          "2019-06-24",
          "2019-06-21",
          "2019-06-20",
          "2019-06-19",
          "2019-06-18",
          "2019-06-17",
          "2019-06-14",
          "2019-06-13",
          "2019-06-12",
          "2019-06-11",
          "2019-06-10",
          "2019-06-07",
          "2019-06-06",
          "2019-06-05",
          "2019-06-04",
          "2019-06-03",
          "2019-05-31",
          "2019-05-30",
          "2019-05-29",
          "2019-05-28",
          "2019-05-24",
          "2019-05-23",
          "2019-05-22",
          "2019-05-21",
          "2019-05-20",
          "2019-05-17",
          "2019-05-16",
          "2019-05-15",
          "2019-05-14",
          "2019-05-13",
          "2019-05-10",
          "2019-05-09",
          "2019-05-08",
          "2019-05-07",
          "2019-05-06",
          "2019-05-03",
          "2019-05-02",
          "2019-05-01",
          "2019-04-30",
          "2019-04-29",
          "2019-04-26",
          "2019-04-25",
          "2019-04-24",
          "2019-04-23",
          "2019-04-22",
          "2019-04-18",
          "2019-04-17",
          "2019-04-16",
          "2019-04-15",
          "2019-04-12",
          "2019-04-11",
          "2019-04-10",
          "2019-04-09",
          "2019-04-08",
          "2019-04-05",
          "2019-04-04",
          "2019-04-03",
          "2019-04-02",
          "2019-04-01",
          "2019-03-29",
          "2019-03-28",
          "2019-03-27",
          "2019-03-26",
          "2019-03-25",
          "2019-03-22",
          "2019-03-21",
          "2019-03-20",
          "2019-03-19",
          "2019-03-18",
          "2019-03-15",
          "2019-03-14",
          "2019-03-13",
          "2019-03-12",
          "2019-03-11",
          "2019-03-08",
          "2019-03-07",
          "2019-03-06",
          "2019-03-05",
          "2019-03-04",
          "2019-03-01",
          "2019-02-28",
          "2019-02-27",
          "2019-02-26",
          "2019-02-25",
          "2019-02-22",
          "2019-02-21",
          "2019-02-20",
          "2019-02-19",
          "2019-02-15",
          "2019-02-14",
          "2019-02-13",
          "2019-02-12",
          "2019-02-11",
          "2019-02-08",
          "2019-02-07",
          "2019-02-06",
          "2019-02-05",
          "2019-02-04",
          "2019-02-01",
          "2019-01-31",
          "2019-01-30",
          "2019-01-29",
          "2019-01-28",
          "2019-01-25",
          "2019-01-24",
          "2019-01-23",
          "2019-01-22",
          "2019-01-18",
          "2019-01-17",
          "2019-01-16",
          "2019-01-15",
          "2019-01-14",
          "2019-01-11",
          "2019-01-10",
          "2019-01-09",
          "2019-01-08",
          "2019-01-07",
          "2019-01-04",
          "2019-01-03",
          "2019-01-02"
         ],
         "y": [
          89.47,
          90.17,
          91.33,
          88.67,
          90.45,
          85.9,
          87.52,
          84.03,
          87.03,
          89.97,
          92.7,
          91.21,
          90.27,
          92,
          92.14,
          93.25,
          95.76,
          97.86,
          95.29,
          94.62,
          90.71,
          89.39,
          89.34,
          89.05,
          91.71,
          95.18,
          87.33,
          90.79,
          95.5,
          98.19,
          102.76,
          94.3,
          90.64,
          89.46,
          84.05,
          86.61,
          83.492,
          89.104,
          92.538,
          90.193,
          97.111,
          90.787,
          87.521,
          78.217,
          82.641,
          84.42299999999999,
          83.027,
          92.796,
          87.45100000000001,
          102.84,
          87.14399999999999,
          94.973,
          99.66,
          92.479,
          106.97,
          112.8,
          118.62,
          115.76,
          120.27,
          114.92,
          120.12,
          125.34,
          124.96,
          130.8,
          134.41,
          136.08,
          136.08,
          134.25,
          136.05,
          136.46,
          136.58,
          136.58,
          136.32,
          135.76,
          136.19,
          136.17,
          133.9,
          132,
          131,
          134.49,
          132.85,
          133.05,
          130.67,
          131.78,
          135.14,
          135.27,
          135.43,
          136.78,
          135.84,
          135.31,
          137.37,
          135.79,
          134.67,
          136.03,
          135.53,
          134.48,
          136.81,
          136.92,
          138.75,
          137.09,
          136.33,
          136.83,
          136.73,
          135.29,
          134.92,
          134.96,
          135.07,
          135.75,
          135.89,
          135.06,
          134.54,
          135.73,
          131.95,
          132.27,
          132.18,
          132.8,
          130.85,
          130.15,
          127.62,
          129.29,
          129.57,
          129.87,
          129.48,
          129.31,
          128.62,
          127.77,
          127.48,
          128.42,
          128.46,
          127.38,
          126.47,
          126.35,
          127.02,
          127.76,
          128.22,
          127.84,
          127.16,
          126.96,
          126.68,
          125.67,
          122.84,
          123.65,
          124.33,
          124.41,
          123.94,
          122.95,
          123.04,
          122.71,
          121.5,
          118.56,
          118.35,
          117.7,
          117.96,
          114.52,
          114.21,
          112.31,
          110.76,
          109.97,
          112.47,
          112.72,
          110.32,
          110.48,
          112.73,
          114.82,
          114.85,
          114.17,
          115.11,
          114.47,
          115.98,
          116,
          116.46,
          116.84,
          115.68,
          116.25,
          117.29,
          115.02,
          114.33,
          114.02,
          112.58,
          109.87,
          109.63,
          107.19,
          105.91,
          107.18,
          106.55,
          104.19,
          103.16,
          104.26,
          103.44,
          106.07,
          104.98,
          104.69,
          106.04,
          105.09,
          102.62,
          102.25,
          106.67,
          105.12,
          107.07,
          107.18,
          105.39,
          107.73,
          106.9,
          110.18,
          110.19,
          113.17,
          112.77,
          113.03,
          113.38,
          112.89,
          113.98,
          113.52,
          111.48,
          110.77,
          111.87,
          111.2,
          112.31,
          111.12,
          112.48,
          111.31,
          110.25,
          110.58,
          110.12,
          110.72,
          110.07,
          110.23,
          110.13,
          108.3,
          105.43,
          105.09,
          104.39,
          105.27,
          106.02,
          106.75,
          106.47,
          107.25,
          105.8,
          106.38,
          106.12,
          105.85,
          107.22,
          106.89,
          105.74,
          106.92,
          106.69,
          106.31,
          103.13,
          102.64,
          103.72,
          104.84,
          105.13,
          106.28,
          105.25,
          107.35,
          108.24,
          107.87,
          107.3,
          107.83,
          106.46,
          106.87,
          106.03,
          108.99,
          109,
          109.09,
          109.67,
          111.49,
          112.48,
          111.8,
          111.56,
          112.41,
          112.48,
          110.9,
          110.06,
          110,
          110.19,
          110.05,
          109.91,
          110.73,
          107.62,
          106.5,
          107.73,
          102.9,
          102.05,
          101.58,
          102.36,
          102.02,
          102.27,
          101.28,
          101.08,
          100.6,
          97.315,
          96.824,
          95.73299999999999,
          96.061,
          95.109,
          95.906,
          98.89200000000001,
          100.49,
          102.66,
          103.05,
          102.45,
          101.28,
          100.36,
          100.02,
          100.32,
          99.031,
          98.991,
          99.71,
          100.08,
          100.16,
          100.4,
          100.33,
          101.1,
          101.23,
          102,
          100.95,
          101.39,
          101.6,
          101.12,
          101.47,
          98.46799999999999,
          99.11,
          98.635,
          96.979,
          97.441,
          98.429,
          99.73,
          99.78,
          100.22,
          99.87,
          99.49600000000001,
          100.38,
          100.14,
          99.87,
          99.397,
          98.774,
          98.714,
          98.962,
          100.56,
          98.94200000000001,
          98.536,
          97.75399999999999,
          97.039,
          96.051,
          96.515,
          96.525,
          96.68799999999999,
          96.863,
          96.805,
          93.36,
          94.706
         ]
        },
        {
         "line": {
          "color": "rgba(219, 64, 82, 1.0)",
          "dash": "solid",
          "shape": "linear",
          "width": 1.3
         },
         "mode": "lines",
         "name": "MS",
         "text": "",
         "type": "scatter",
         "x": [
          "2020-05-22",
          "2020-05-21",
          "2020-05-20",
          "2020-05-19",
          "2020-05-18",
          "2020-05-15",
          "2020-05-14",
          "2020-05-13",
          "2020-05-12",
          "2020-05-11",
          "2020-05-08",
          "2020-05-07",
          "2020-05-06",
          "2020-05-05",
          "2020-05-04",
          "2020-05-01",
          "2020-04-30",
          "2020-04-29",
          "2020-04-28",
          "2020-04-27",
          "2020-04-24",
          "2020-04-23",
          "2020-04-22",
          "2020-04-21",
          "2020-04-20",
          "2020-04-17",
          "2020-04-16",
          "2020-04-15",
          "2020-04-14",
          "2020-04-13",
          "2020-04-09",
          "2020-04-08",
          "2020-04-07",
          "2020-04-06",
          "2020-04-03",
          "2020-04-02",
          "2020-04-01",
          "2020-03-31",
          "2020-03-30",
          "2020-03-27",
          "2020-03-26",
          "2020-03-25",
          "2020-03-24",
          "2020-03-23",
          "2020-03-20",
          "2020-03-19",
          "2020-03-18",
          "2020-03-17",
          "2020-03-16",
          "2020-03-13",
          "2020-03-12",
          "2020-03-11",
          "2020-03-10",
          "2020-03-09",
          "2020-03-06",
          "2020-03-05",
          "2020-03-04",
          "2020-03-03",
          "2020-03-02",
          "2020-02-28",
          "2020-02-27",
          "2020-02-26",
          "2020-02-25",
          "2020-02-24",
          "2020-02-21",
          "2020-02-20",
          "2020-02-19",
          "2020-02-18",
          "2020-02-14",
          "2020-02-13",
          "2020-02-12",
          "2020-02-11",
          "2020-02-10",
          "2020-02-07",
          "2020-02-06",
          "2020-02-05",
          "2020-02-04",
          "2020-02-03",
          "2020-01-31",
          "2020-01-30",
          "2020-01-29",
          "2020-01-28",
          "2020-01-27",
          "2020-01-24",
          "2020-01-23",
          "2020-01-22",
          "2020-01-21",
          "2020-01-17",
          "2020-01-16",
          "2020-01-15",
          "2020-01-14",
          "2020-01-13",
          "2020-01-10",
          "2020-01-09",
          "2020-01-08",
          "2020-01-07",
          "2020-01-06",
          "2020-01-03",
          "2020-01-02",
          "2019-12-31",
          "2019-12-30",
          "2019-12-27",
          "2019-12-26",
          "2019-12-24",
          "2019-12-23",
          "2019-12-20",
          "2019-12-19",
          "2019-12-18",
          "2019-12-17",
          "2019-12-16",
          "2019-12-13",
          "2019-12-12",
          "2019-12-11",
          "2019-12-10",
          "2019-12-09",
          "2019-12-06",
          "2019-12-05",
          "2019-12-04",
          "2019-12-03",
          "2019-12-02",
          "2019-11-29",
          "2019-11-27",
          "2019-11-26",
          "2019-11-25",
          "2019-11-22",
          "2019-11-21",
          "2019-11-20",
          "2019-11-19",
          "2019-11-18",
          "2019-11-15",
          "2019-11-14",
          "2019-11-13",
          "2019-11-12",
          "2019-11-11",
          "2019-11-08",
          "2019-11-07",
          "2019-11-06",
          "2019-11-05",
          "2019-11-04",
          "2019-11-01",
          "2019-10-31",
          "2019-10-30",
          "2019-10-29",
          "2019-10-28",
          "2019-10-25",
          "2019-10-24",
          "2019-10-23",
          "2019-10-22",
          "2019-10-21",
          "2019-10-18",
          "2019-10-17",
          "2019-10-16",
          "2019-10-15",
          "2019-10-14",
          "2019-10-11",
          "2019-10-10",
          "2019-10-09",
          "2019-10-08",
          "2019-10-07",
          "2019-10-04",
          "2019-10-03",
          "2019-10-02",
          "2019-10-01",
          "2019-09-30",
          "2019-09-27",
          "2019-09-26",
          "2019-09-25",
          "2019-09-24",
          "2019-09-23",
          "2019-09-20",
          "2019-09-19",
          "2019-09-18",
          "2019-09-17",
          "2019-09-16",
          "2019-09-13",
          "2019-09-12",
          "2019-09-11",
          "2019-09-10",
          "2019-09-09",
          "2019-09-06",
          "2019-09-05",
          "2019-09-04",
          "2019-09-03",
          "2019-08-30",
          "2019-08-29",
          "2019-08-28",
          "2019-08-27",
          "2019-08-26",
          "2019-08-23",
          "2019-08-22",
          "2019-08-21",
          "2019-08-20",
          "2019-08-19",
          "2019-08-16",
          "2019-08-15",
          "2019-08-14",
          "2019-08-13",
          "2019-08-12",
          "2019-08-09",
          "2019-08-08",
          "2019-08-07",
          "2019-08-06",
          "2019-08-05",
          "2019-08-02",
          "2019-08-01",
          "2019-07-31",
          "2019-07-30",
          "2019-07-29",
          "2019-07-26",
          "2019-07-25",
          "2019-07-24",
          "2019-07-23",
          "2019-07-22",
          "2019-07-19",
          "2019-07-18",
          "2019-07-17",
          "2019-07-16",
          "2019-07-15",
          "2019-07-12",
          "2019-07-11",
          "2019-07-10",
          "2019-07-09",
          "2019-07-08",
          "2019-07-05",
          "2019-07-03",
          "2019-07-02",
          "2019-07-01",
          "2019-06-28",
          "2019-06-27",
          "2019-06-26",
          "2019-06-25",
          "2019-06-24",
          "2019-06-21",
          "2019-06-20",
          "2019-06-19",
          "2019-06-18",
          "2019-06-17",
          "2019-06-14",
          "2019-06-13",
          "2019-06-12",
          "2019-06-11",
          "2019-06-10",
          "2019-06-07",
          "2019-06-06",
          "2019-06-05",
          "2019-06-04",
          "2019-06-03",
          "2019-05-31",
          "2019-05-30",
          "2019-05-29",
          "2019-05-28",
          "2019-05-24",
          "2019-05-23",
          "2019-05-22",
          "2019-05-21",
          "2019-05-20",
          "2019-05-17",
          "2019-05-16",
          "2019-05-15",
          "2019-05-14",
          "2019-05-13",
          "2019-05-10",
          "2019-05-09",
          "2019-05-08",
          "2019-05-07",
          "2019-05-06",
          "2019-05-03",
          "2019-05-02",
          "2019-05-01",
          "2019-04-30",
          "2019-04-29",
          "2019-04-26",
          "2019-04-25",
          "2019-04-24",
          "2019-04-23",
          "2019-04-22",
          "2019-04-18",
          "2019-04-17",
          "2019-04-16",
          "2019-04-15",
          "2019-04-12",
          "2019-04-11",
          "2019-04-10",
          "2019-04-09",
          "2019-04-08",
          "2019-04-05",
          "2019-04-04",
          "2019-04-03",
          "2019-04-02",
          "2019-04-01",
          "2019-03-29",
          "2019-03-28",
          "2019-03-27",
          "2019-03-26",
          "2019-03-25",
          "2019-03-22",
          "2019-03-21",
          "2019-03-20",
          "2019-03-19",
          "2019-03-18",
          "2019-03-15",
          "2019-03-14",
          "2019-03-13",
          "2019-03-12",
          "2019-03-11",
          "2019-03-08",
          "2019-03-07",
          "2019-03-06",
          "2019-03-05",
          "2019-03-04",
          "2019-03-01",
          "2019-02-28",
          "2019-02-27",
          "2019-02-26",
          "2019-02-25",
          "2019-02-22",
          "2019-02-21",
          "2019-02-20",
          "2019-02-19",
          "2019-02-15",
          "2019-02-14",
          "2019-02-13",
          "2019-02-12",
          "2019-02-11",
          "2019-02-08",
          "2019-02-07",
          "2019-02-06",
          "2019-02-05",
          "2019-02-04",
          "2019-02-01",
          "2019-01-31",
          "2019-01-30",
          "2019-01-29",
          "2019-01-28",
          "2019-01-25",
          "2019-01-24",
          "2019-01-23",
          "2019-01-22",
          "2019-01-18",
          "2019-01-17",
          "2019-01-16",
          "2019-01-15",
          "2019-01-14",
          "2019-01-11",
          "2019-01-10",
          "2019-01-09",
          "2019-01-08",
          "2019-01-07",
          "2019-01-04",
          "2019-01-03",
          "2019-01-02"
         ],
         "y": [
          40.13,
          40.3,
          41.06,
          39.33,
          40.28,
          37.29,
          37.81,
          36.99,
          38.42,
          39.83,
          40.08,
          38.81,
          37.3,
          37.98,
          38.09,
          38.4,
          39.43,
          40.79,
          39.78,
          38.967,
          37.639,
          37.143,
          37.48,
          36.628,
          38.025,
          38.749,
          38.025,
          38.065,
          39.512,
          39.235,
          40.722,
          39.027,
          36.618,
          36.687,
          33.555,
          33.604,
          31.344,
          33.703,
          34.536,
          33.713,
          35.399,
          33.694,
          32.93,
          27.566999999999997,
          29.410999999999998,
          30.65,
          30.482,
          33.495,
          31.374000000000002,
          37.173,
          31.037,
          36.548,
          39.155,
          37.173,
          41.475,
          42.218999999999994,
          44.845,
          44.013000000000005,
          46.075,
          44.637,
          45.013999999999996,
          46.828,
          47.611000000000004,
          49.247,
          51.963,
          53.281000000000006,
          55.818999999999996,
          55.036,
          55.353,
          55.442,
          55.69,
          55.294,
          54.867,
          54.55,
          54.53,
          54.51,
          53.549,
          52.141000000000005,
          51.803999999999995,
          53.351000000000006,
          52.865,
          53.2,
          52.303999999999995,
          53.721000000000004,
          54.687,
          55.012,
          55.07,
          56.637,
          55.583,
          52.136,
          52.056999999999995,
          51.979,
          51.418,
          51.27,
          50.787,
          50.147,
          50.245,
          50.422,
          51.25,
          50.343999999999994,
          50.18600000000001,
          50.31399999999999,
          50.333999999999996,
          49.92,
          49.95,
          49.92,
          50.086999999999996,
          49.891000000000005,
          50.126999999999995,
          49.95,
          49.477,
          49.92,
          48.7,
          48.916000000000004,
          48.847,
          49.043,
          48.325,
          48.099,
          47.379,
          48.335,
          48.728,
          49.023999999999994,
          48.66,
          49.201,
          48.501999999999995,
          48.099,
          48.355,
          48.581,
          48.285,
          48.247,
          47.872,
          47.655,
          48.265,
          48.345,
          48.403999999999996,
          47.92100000000001,
          47.821999999999996,
          48.01,
          48.089,
          46.611000000000004,
          45.351000000000006,
          45.556999999999995,
          45.773999999999994,
          45.784,
          45.324,
          44.728,
          44.875,
          44.357,
          43.966,
          42.676,
          42.46,
          41.825,
          41.571000000000005,
          41.298,
          40.985,
          40.124,
          39.528,
          38.922,
          39.763000000000005,
          39.86,
          39.343,
          39.323,
          40.446999999999996,
          41.708,
          41.875,
          41.658,
          42.068999999999996,
          41.581,
          42.577,
          42.685,
          43.027,
          43.36,
          43.214,
          43.74100000000001,
          44.141999999999996,
          43.321000000000005,
          42.95,
          42.597,
          42.138000000000005,
          41.229,
          41.513000000000005,
          40.594,
          40.066,
          40.555,
          40.359,
          39.47,
          38.894,
          39.255,
          38.443000000000005,
          39.361999999999995,
          39.04,
          39.001,
          39.46,
          39.04,
          38.219,
          38.443000000000005,
          39.773,
          39.45,
          40.564,
          40.34,
          39.646,
          40.291,
          39.577,
          41.17,
          41.961999999999996,
          43.556000000000004,
          43.663000000000004,
          43.869,
          44.363,
          43.519,
          44.131,
          43.742,
          43.16,
          43.053999999999995,
          43.093,
          42.451,
          43.093,
          43.093,
          43.519,
          42.849,
          42.006,
          42.461000000000006,
          42.18,
          42.879,
          42.667,
          42.511,
          42.626999999999995,
          42.49100000000001,
          42.18,
          41.695,
          41.376000000000005,
          41.773,
          42.268,
          42.152,
          41.841,
          42.036,
          41.23,
          41.531000000000006,
          41.656000000000006,
          41.336000000000006,
          42.355,
          41.986999999999995,
          41.415,
          41.522,
          41.153,
          41.201,
          39.503,
          39.465,
          40.57,
          40.92,
          40.9,
          41.666000000000004,
          41.425,
          42.18,
          43.053999999999995,
          42.55,
          42.559,
          42.946999999999996,
          42.577,
          42.684,
          42.849,
          44.943999999999996,
          45.053000000000004,
          45.129,
          45.303999999999995,
          46.273999999999994,
          46.613,
          46.37,
          46.138000000000005,
          46.797,
          47.001000000000005,
          46.157,
          45.578,
          45.666000000000004,
          45.636,
          45.578,
          45.83,
          46.513999999999996,
          45.317,
          44.412,
          45.001000000000005,
          43.178999999999995,
          42.841,
          42.66,
          43.353,
          43.275,
          43.303999999999995,
          42.775,
          42.118,
          41.95399999999999,
          40.673,
          40.412,
          39.873000000000005,
          40.365,
          39.758,
          40.211,
          41.568999999999996,
          41.472,
          42.36,
          42.437,
          41.763999999999996,
          41.146,
          40.874,
          40.51,
          40.336,
          39.863,
          39.68,
          40.113,
          40.385,
          40.48,
          40.963,
          40.461,
          41.019,
          40.874,
          40.664,
          40.278,
          40.441,
          40.884,
          40.634,
          40.471,
          39.247,
          39.699,
          39.661,
          38.755,
          39.333,
          39.978,
          40.848,
          40.914,
          40.923,
          40.306,
          40.769,
          41.242,
          40.664,
          40.817,
          41.133,
          40.242,
          40.338,
          40.586999999999996,
          41.81100000000001,
          40.702,
          42.576,
          41.036,
          40.654,
          39.946,
          39.869,
          39.946,
          39.668,
          39.919000000000004,
          39.524,
          37.975,
          38.664
         ]
        },
        {
         "line": {
          "color": "rgba(0, 128, 128, 1.0)",
          "dash": "solid",
          "shape": "linear",
          "width": 1.3
         },
         "mode": "lines",
         "name": "WFC",
         "text": "",
         "type": "scatter",
         "x": [
          "2020-05-22",
          "2020-05-21",
          "2020-05-20",
          "2020-05-19",
          "2020-05-18",
          "2020-05-15",
          "2020-05-14",
          "2020-05-13",
          "2020-05-12",
          "2020-05-11",
          "2020-05-08",
          "2020-05-07",
          "2020-05-06",
          "2020-05-05",
          "2020-05-04",
          "2020-05-01",
          "2020-04-30",
          "2020-04-29",
          "2020-04-28",
          "2020-04-27",
          "2020-04-24",
          "2020-04-23",
          "2020-04-22",
          "2020-04-21",
          "2020-04-20",
          "2020-04-17",
          "2020-04-16",
          "2020-04-15",
          "2020-04-14",
          "2020-04-13",
          "2020-04-09",
          "2020-04-08",
          "2020-04-07",
          "2020-04-06",
          "2020-04-03",
          "2020-04-02",
          "2020-04-01",
          "2020-03-31",
          "2020-03-30",
          "2020-03-27",
          "2020-03-26",
          "2020-03-25",
          "2020-03-24",
          "2020-03-23",
          "2020-03-20",
          "2020-03-19",
          "2020-03-18",
          "2020-03-17",
          "2020-03-16",
          "2020-03-13",
          "2020-03-12",
          "2020-03-11",
          "2020-03-10",
          "2020-03-09",
          "2020-03-06",
          "2020-03-05",
          "2020-03-04",
          "2020-03-03",
          "2020-03-02",
          "2020-02-28",
          "2020-02-27",
          "2020-02-26",
          "2020-02-25",
          "2020-02-24",
          "2020-02-21",
          "2020-02-20",
          "2020-02-19",
          "2020-02-18",
          "2020-02-14",
          "2020-02-13",
          "2020-02-12",
          "2020-02-11",
          "2020-02-10",
          "2020-02-07",
          "2020-02-06",
          "2020-02-05",
          "2020-02-04",
          "2020-02-03",
          "2020-01-31",
          "2020-01-30",
          "2020-01-29",
          "2020-01-28",
          "2020-01-27",
          "2020-01-24",
          "2020-01-23",
          "2020-01-22",
          "2020-01-21",
          "2020-01-17",
          "2020-01-16",
          "2020-01-15",
          "2020-01-14",
          "2020-01-13",
          "2020-01-10",
          "2020-01-09",
          "2020-01-08",
          "2020-01-07",
          "2020-01-06",
          "2020-01-03",
          "2020-01-02",
          "2019-12-31",
          "2019-12-30",
          "2019-12-27",
          "2019-12-26",
          "2019-12-24",
          "2019-12-23",
          "2019-12-20",
          "2019-12-19",
          "2019-12-18",
          "2019-12-17",
          "2019-12-16",
          "2019-12-13",
          "2019-12-12",
          "2019-12-11",
          "2019-12-10",
          "2019-12-09",
          "2019-12-06",
          "2019-12-05",
          "2019-12-04",
          "2019-12-03",
          "2019-12-02",
          "2019-11-29",
          "2019-11-27",
          "2019-11-26",
          "2019-11-25",
          "2019-11-22",
          "2019-11-21",
          "2019-11-20",
          "2019-11-19",
          "2019-11-18",
          "2019-11-15",
          "2019-11-14",
          "2019-11-13",
          "2019-11-12",
          "2019-11-11",
          "2019-11-08",
          "2019-11-07",
          "2019-11-06",
          "2019-11-05",
          "2019-11-04",
          "2019-11-01",
          "2019-10-31",
          "2019-10-30",
          "2019-10-29",
          "2019-10-28",
          "2019-10-25",
          "2019-10-24",
          "2019-10-23",
          "2019-10-22",
          "2019-10-21",
          "2019-10-18",
          "2019-10-17",
          "2019-10-16",
          "2019-10-15",
          "2019-10-14",
          "2019-10-11",
          "2019-10-10",
          "2019-10-09",
          "2019-10-08",
          "2019-10-07",
          "2019-10-04",
          "2019-10-03",
          "2019-10-02",
          "2019-10-01",
          "2019-09-30",
          "2019-09-27",
          "2019-09-26",
          "2019-09-25",
          "2019-09-24",
          "2019-09-23",
          "2019-09-20",
          "2019-09-19",
          "2019-09-18",
          "2019-09-17",
          "2019-09-16",
          "2019-09-13",
          "2019-09-12",
          "2019-09-11",
          "2019-09-10",
          "2019-09-09",
          "2019-09-06",
          "2019-09-05",
          "2019-09-04",
          "2019-09-03",
          "2019-08-30",
          "2019-08-29",
          "2019-08-28",
          "2019-08-27",
          "2019-08-26",
          "2019-08-23",
          "2019-08-22",
          "2019-08-21",
          "2019-08-20",
          "2019-08-19",
          "2019-08-16",
          "2019-08-15",
          "2019-08-14",
          "2019-08-13",
          "2019-08-12",
          "2019-08-09",
          "2019-08-08",
          "2019-08-07",
          "2019-08-06",
          "2019-08-05",
          "2019-08-02",
          "2019-08-01",
          "2019-07-31",
          "2019-07-30",
          "2019-07-29",
          "2019-07-26",
          "2019-07-25",
          "2019-07-24",
          "2019-07-23",
          "2019-07-22",
          "2019-07-19",
          "2019-07-18",
          "2019-07-17",
          "2019-07-16",
          "2019-07-15",
          "2019-07-12",
          "2019-07-11",
          "2019-07-10",
          "2019-07-09",
          "2019-07-08",
          "2019-07-05",
          "2019-07-03",
          "2019-07-02",
          "2019-07-01",
          "2019-06-28",
          "2019-06-27",
          "2019-06-26",
          "2019-06-25",
          "2019-06-24",
          "2019-06-21",
          "2019-06-20",
          "2019-06-19",
          "2019-06-18",
          "2019-06-17",
          "2019-06-14",
          "2019-06-13",
          "2019-06-12",
          "2019-06-11",
          "2019-06-10",
          "2019-06-07",
          "2019-06-06",
          "2019-06-05",
          "2019-06-04",
          "2019-06-03",
          "2019-05-31",
          "2019-05-30",
          "2019-05-29",
          "2019-05-28",
          "2019-05-24",
          "2019-05-23",
          "2019-05-22",
          "2019-05-21",
          "2019-05-20",
          "2019-05-17",
          "2019-05-16",
          "2019-05-15",
          "2019-05-14",
          "2019-05-13",
          "2019-05-10",
          "2019-05-09",
          "2019-05-08",
          "2019-05-07",
          "2019-05-06",
          "2019-05-03",
          "2019-05-02",
          "2019-05-01",
          "2019-04-30",
          "2019-04-29",
          "2019-04-26",
          "2019-04-25",
          "2019-04-24",
          "2019-04-23",
          "2019-04-22",
          "2019-04-18",
          "2019-04-17",
          "2019-04-16",
          "2019-04-15",
          "2019-04-12",
          "2019-04-11",
          "2019-04-10",
          "2019-04-09",
          "2019-04-08",
          "2019-04-05",
          "2019-04-04",
          "2019-04-03",
          "2019-04-02",
          "2019-04-01",
          "2019-03-29",
          "2019-03-28",
          "2019-03-27",
          "2019-03-26",
          "2019-03-25",
          "2019-03-22",
          "2019-03-21",
          "2019-03-20",
          "2019-03-19",
          "2019-03-18",
          "2019-03-15",
          "2019-03-14",
          "2019-03-13",
          "2019-03-12",
          "2019-03-11",
          "2019-03-08",
          "2019-03-07",
          "2019-03-06",
          "2019-03-05",
          "2019-03-04",
          "2019-03-01",
          "2019-02-28",
          "2019-02-27",
          "2019-02-26",
          "2019-02-25",
          "2019-02-22",
          "2019-02-21",
          "2019-02-20",
          "2019-02-19",
          "2019-02-15",
          "2019-02-14",
          "2019-02-13",
          "2019-02-12",
          "2019-02-11",
          "2019-02-08",
          "2019-02-07",
          "2019-02-06",
          "2019-02-05",
          "2019-02-04",
          "2019-02-01",
          "2019-01-31",
          "2019-01-30",
          "2019-01-29",
          "2019-01-28",
          "2019-01-25",
          "2019-01-24",
          "2019-01-23",
          "2019-01-22",
          "2019-01-18",
          "2019-01-17",
          "2019-01-16",
          "2019-01-15",
          "2019-01-14",
          "2019-01-11",
          "2019-01-10",
          "2019-01-09",
          "2019-01-08",
          "2019-01-07",
          "2019-01-04",
          "2019-01-03",
          "2019-01-02"
         ],
         "y": [
          24.17,
          24.46,
          24.52,
          23.95,
          25.41,
          23.36,
          24.06,
          22.53,
          24.04,
          24.78,
          25.43,
          25.23,
          25.1,
          25.796,
          26.805,
          27.041,
          28.471,
          29.403000000000002,
          28.295,
          27.844,
          26.384,
          26.002,
          26.266,
          26.305999999999997,
          27.129,
          27.815,
          26.355,
          27.874000000000002,
          29.579,
          30.804000000000002,
          32.539,
          29.677,
          28.197,
          28.06,
          25.708000000000002,
          26.678,
          26.041,
          28.128,
          29.324,
          29.677,
          30.285,
          28.393,
          28.344,
          24.747,
          25.971999999999998,
          27.726999999999997,
          27.56,
          29.04,
          25.971999999999998,
          30.275,
          26.658,
          31.686,
          34.381,
          31.833000000000002,
          36.351,
          38.125,
          40.576,
          39.723,
          41.418,
          40.037,
          41.623999999999995,
          43.261,
          44.221000000000004,
          45.466,
          46.75,
          46.397,
          46.152,
          46.053999999999995,
          47.26,
          47.162,
          46.838,
          47.034,
          46.818999999999996,
          46.887,
          47.025,
          46.848,
          45.83,
          45.695,
          45.519,
          46.46,
          45.84,
          45.937,
          45.675,
          46.131,
          46.761,
          47.09,
          47.458999999999996,
          47.692,
          47.76,
          46.858000000000004,
          47.809,
          50.533,
          50.912,
          51.13399999999999,
          51.221000000000004,
          51.066,
          51.493,
          51.803000000000004,
          52.123999999999995,
          52.172,
          51.978,
          52.288999999999994,
          52.511,
          52.192,
          52.181999999999995,
          51.716,
          52.007,
          52.04600000000001,
          52.695,
          52.58,
          52.162,
          52.715,
          51.56100000000001,
          52.065,
          52.288999999999994,
          52.725,
          51.619,
          51.629,
          50.989,
          51.997,
          52.812,
          52.695,
          52.181999999999995,
          52.57,
          52.637,
          51.94,
          51.92,
          52.395,
          52.36600000000001,
          52.172,
          51.871,
          51.677,
          52.58,
          52.413999999999994,
          52.463,
          52.36600000000001,
          51.677,
          51.198,
          50.64,
          50.121,
          49.593,
          49.978,
          50.111000000000004,
          49.611999999999995,
          49.536,
          49.085,
          48.92,
          48.623000000000005,
          48.468999999999994,
          47.998000000000005,
          47.653,
          47.633,
          48.133,
          47.326,
          47.269,
          46.73,
          46.251000000000005,
          45.934,
          46.88399999999999,
          47.269,
          46.567,
          46.558,
          47.123999999999995,
          48.451,
          48.708999999999996,
          46.942,
          47.317,
          46.73,
          47.028,
          46.711000000000006,
          46.98,
          46.998999999999995,
          46.836000000000006,
          47.048,
          46.989,
          46.73,
          46.923,
          46.403999999999996,
          46.5,
          45.29,
          45.742,
          44.665,
          44.271,
          44.733000000000004,
          44.368,
          43.677,
          42.985,
          43.206,
          42.668,
          43.821000000000005,
          43.224,
          42.917,
          43.465,
          42.638999999999996,
          41.668,
          42.235,
          44.146,
          43.637,
          44.473,
          44.568999999999996,
          43.513000000000005,
          44.577,
          43.826,
          45.06,
          44.7,
          45.982,
          46.115,
          45.858999999999995,
          46.828,
          45.678999999999995,
          46.021,
          44.833999999999996,
          44.148999999999994,
          43.723,
          43.522,
          42.943000000000005,
          43.028999999999996,
          44.368,
          44.985,
          44.776,
          44.785,
          45.431999999999995,
          45.147,
          45.373999999999995,
          45.269,
          44.861000000000004,
          45.299,
          44.946999999999996,
          43.968999999999994,
          43.503,
          43.826,
          43.95,
          44.538000000000004,
          43.56,
          43.361000000000004,
          43.788000000000004,
          43,
          43.303999999999995,
          43.019,
          42.658,
          43.94,
          43.95,
          43.341,
          43.618,
          43.56,
          43.388999999999996,
          42.288000000000004,
          42.145,
          42.791000000000004,
          43.2,
          43.303999999999995,
          43.855,
          43.276,
          43.788000000000004,
          44.007,
          43.17100000000001,
          43.408,
          43.598,
          43.541000000000004,
          44.158,
          44.007,
          44.785,
          44.397,
          44.217,
          44.375,
          45.56,
          45.768,
          45.43899999999999,
          45.372,
          45.543,
          45.411,
          45.119,
          44.695,
          44.666000000000004,
          44.545,
          44.461000000000006,
          44.761,
          44.733999999999995,
          44.828,
          43.998999999999995,
          43.735,
          44.912,
          44.958999999999996,
          45.288000000000004,
          45.983999999999995,
          45.89,
          46.256,
          45.965,
          45.352,
          45.919,
          45.456,
          46.181999999999995,
          45.881,
          46.107,
          45.233000000000004,
          45.446999999999996,
          46.906000000000006,
          47.413999999999994,
          48.364,
          48.666000000000004,
          47.659,
          47.368,
          46.964,
          46.71,
          46.812,
          46.85,
          46.736000000000004,
          46.869,
          46.934,
          47.141000000000005,
          47.067,
          46.934,
          46.943999999999996,
          46.652,
          46.718,
          46.11600000000001,
          46.623999999999995,
          46.86,
          46.455,
          46.303999999999995,
          45.646,
          46.11600000000001,
          46.144,
          44.828,
          44.828,
          45.233000000000004,
          46.303999999999995,
          46.351000000000006,
          46.153999999999996,
          46.013000000000005,
          46.013000000000005,
          46.7,
          46.475,
          46.446999999999996,
          46.736000000000004,
          46.597,
          46.727,
          46.483999999999995,
          46.625,
          45.897,
          45.626999999999995,
          44.443000000000005,
          45.143,
          44.63,
          44.516999999999996,
          44.565,
          44.321999999999996,
          44.415,
          44.70399999999999,
          43.418,
          43.763000000000005
         ]
        }
       ],
       "layout": {
        "legend": {
         "bgcolor": "#F5F6F9",
         "font": {
          "color": "#4D5663"
         }
        },
        "paper_bgcolor": "#F5F6F9",
        "plot_bgcolor": "#F5F6F9",
        "template": {
         "data": {
          "bar": [
           {
            "error_x": {
             "color": "#2a3f5f"
            },
            "error_y": {
             "color": "#2a3f5f"
            },
            "marker": {
             "line": {
              "color": "#E5ECF6",
              "width": 0.5
             }
            },
            "type": "bar"
           }
          ],
          "barpolar": [
           {
            "marker": {
             "line": {
              "color": "#E5ECF6",
              "width": 0.5
             }
            },
            "type": "barpolar"
           }
          ],
          "carpet": [
           {
            "aaxis": {
             "endlinecolor": "#2a3f5f",
             "gridcolor": "white",
             "linecolor": "white",
             "minorgridcolor": "white",
             "startlinecolor": "#2a3f5f"
            },
            "baxis": {
             "endlinecolor": "#2a3f5f",
             "gridcolor": "white",
             "linecolor": "white",
             "minorgridcolor": "white",
             "startlinecolor": "#2a3f5f"
            },
            "type": "carpet"
           }
          ],
          "choropleth": [
           {
            "colorbar": {
             "outlinewidth": 0,
             "ticks": ""
            },
            "type": "choropleth"
           }
          ],
          "contour": [
           {
            "colorbar": {
             "outlinewidth": 0,
             "ticks": ""
            },
            "colorscale": [
             [
              0,
              "#0d0887"
             ],
             [
              0.1111111111111111,
              "#46039f"
             ],
             [
              0.2222222222222222,
              "#7201a8"
             ],
             [
              0.3333333333333333,
              "#9c179e"
             ],
             [
              0.4444444444444444,
              "#bd3786"
             ],
             [
              0.5555555555555556,
              "#d8576b"
             ],
             [
              0.6666666666666666,
              "#ed7953"
             ],
             [
              0.7777777777777778,
              "#fb9f3a"
             ],
             [
              0.8888888888888888,
              "#fdca26"
             ],
             [
              1,
              "#f0f921"
             ]
            ],
            "type": "contour"
           }
          ],
          "contourcarpet": [
           {
            "colorbar": {
             "outlinewidth": 0,
             "ticks": ""
            },
            "type": "contourcarpet"
           }
          ],
          "heatmap": [
           {
            "colorbar": {
             "outlinewidth": 0,
             "ticks": ""
            },
            "colorscale": [
             [
              0,
              "#0d0887"
             ],
             [
              0.1111111111111111,
              "#46039f"
             ],
             [
              0.2222222222222222,
              "#7201a8"
             ],
             [
              0.3333333333333333,
              "#9c179e"
             ],
             [
              0.4444444444444444,
              "#bd3786"
             ],
             [
              0.5555555555555556,
              "#d8576b"
             ],
             [
              0.6666666666666666,
              "#ed7953"
             ],
             [
              0.7777777777777778,
              "#fb9f3a"
             ],
             [
              0.8888888888888888,
              "#fdca26"
             ],
             [
              1,
              "#f0f921"
             ]
            ],
            "type": "heatmap"
           }
          ],
          "heatmapgl": [
           {
            "colorbar": {
             "outlinewidth": 0,
             "ticks": ""
            },
            "colorscale": [
             [
              0,
              "#0d0887"
             ],
             [
              0.1111111111111111,
              "#46039f"
             ],
             [
              0.2222222222222222,
              "#7201a8"
             ],
             [
              0.3333333333333333,
              "#9c179e"
             ],
             [
              0.4444444444444444,
              "#bd3786"
             ],
             [
              0.5555555555555556,
              "#d8576b"
             ],
             [
              0.6666666666666666,
              "#ed7953"
             ],
             [
              0.7777777777777778,
              "#fb9f3a"
             ],
             [
              0.8888888888888888,
              "#fdca26"
             ],
             [
              1,
              "#f0f921"
             ]
            ],
            "type": "heatmapgl"
           }
          ],
          "histogram": [
           {
            "marker": {
             "colorbar": {
              "outlinewidth": 0,
              "ticks": ""
             }
            },
            "type": "histogram"
           }
          ],
          "histogram2d": [
           {
            "colorbar": {
             "outlinewidth": 0,
             "ticks": ""
            },
            "colorscale": [
             [
              0,
              "#0d0887"
             ],
             [
              0.1111111111111111,
              "#46039f"
             ],
             [
              0.2222222222222222,
              "#7201a8"
             ],
             [
              0.3333333333333333,
              "#9c179e"
             ],
             [
              0.4444444444444444,
              "#bd3786"
             ],
             [
              0.5555555555555556,
              "#d8576b"
             ],
             [
              0.6666666666666666,
              "#ed7953"
             ],
             [
              0.7777777777777778,
              "#fb9f3a"
             ],
             [
              0.8888888888888888,
              "#fdca26"
             ],
             [
              1,
              "#f0f921"
             ]
            ],
            "type": "histogram2d"
           }
          ],
          "histogram2dcontour": [
           {
            "colorbar": {
             "outlinewidth": 0,
             "ticks": ""
            },
            "colorscale": [
             [
              0,
              "#0d0887"
             ],
             [
              0.1111111111111111,
              "#46039f"
             ],
             [
              0.2222222222222222,
              "#7201a8"
             ],
             [
              0.3333333333333333,
              "#9c179e"
             ],
             [
              0.4444444444444444,
              "#bd3786"
             ],
             [
              0.5555555555555556,
              "#d8576b"
             ],
             [
              0.6666666666666666,
              "#ed7953"
             ],
             [
              0.7777777777777778,
              "#fb9f3a"
             ],
             [
              0.8888888888888888,
              "#fdca26"
             ],
             [
              1,
              "#f0f921"
             ]
            ],
            "type": "histogram2dcontour"
           }
          ],
          "mesh3d": [
           {
            "colorbar": {
             "outlinewidth": 0,
             "ticks": ""
            },
            "type": "mesh3d"
           }
          ],
          "parcoords": [
           {
            "line": {
             "colorbar": {
              "outlinewidth": 0,
              "ticks": ""
             }
            },
            "type": "parcoords"
           }
          ],
          "pie": [
           {
            "automargin": true,
            "type": "pie"
           }
          ],
          "scatter": [
           {
            "marker": {
             "colorbar": {
              "outlinewidth": 0,
              "ticks": ""
             }
            },
            "type": "scatter"
           }
          ],
          "scatter3d": [
           {
            "line": {
             "colorbar": {
              "outlinewidth": 0,
              "ticks": ""
             }
            },
            "marker": {
             "colorbar": {
              "outlinewidth": 0,
              "ticks": ""
             }
            },
            "type": "scatter3d"
           }
          ],
          "scattercarpet": [
           {
            "marker": {
             "colorbar": {
              "outlinewidth": 0,
              "ticks": ""
             }
            },
            "type": "scattercarpet"
           }
          ],
          "scattergeo": [
           {
            "marker": {
             "colorbar": {
              "outlinewidth": 0,
              "ticks": ""
             }
            },
            "type": "scattergeo"
           }
          ],
          "scattergl": [
           {
            "marker": {
             "colorbar": {
              "outlinewidth": 0,
              "ticks": ""
             }
            },
            "type": "scattergl"
           }
          ],
          "scattermapbox": [
           {
            "marker": {
             "colorbar": {
              "outlinewidth": 0,
              "ticks": ""
             }
            },
            "type": "scattermapbox"
           }
          ],
          "scatterpolar": [
           {
            "marker": {
             "colorbar": {
              "outlinewidth": 0,
              "ticks": ""
             }
            },
            "type": "scatterpolar"
           }
          ],
          "scatterpolargl": [
           {
            "marker": {
             "colorbar": {
              "outlinewidth": 0,
              "ticks": ""
             }
            },
            "type": "scatterpolargl"
           }
          ],
          "scatterternary": [
           {
            "marker": {
             "colorbar": {
              "outlinewidth": 0,
              "ticks": ""
             }
            },
            "type": "scatterternary"
           }
          ],
          "surface": [
           {
            "colorbar": {
             "outlinewidth": 0,
             "ticks": ""
            },
            "colorscale": [
             [
              0,
              "#0d0887"
             ],
             [
              0.1111111111111111,
              "#46039f"
             ],
             [
              0.2222222222222222,
              "#7201a8"
             ],
             [
              0.3333333333333333,
              "#9c179e"
             ],
             [
              0.4444444444444444,
              "#bd3786"
             ],
             [
              0.5555555555555556,
              "#d8576b"
             ],
             [
              0.6666666666666666,
              "#ed7953"
             ],
             [
              0.7777777777777778,
              "#fb9f3a"
             ],
             [
              0.8888888888888888,
              "#fdca26"
             ],
             [
              1,
              "#f0f921"
             ]
            ],
            "type": "surface"
           }
          ],
          "table": [
           {
            "cells": {
             "fill": {
              "color": "#EBF0F8"
             },
             "line": {
              "color": "white"
             }
            },
            "header": {
             "fill": {
              "color": "#C8D4E3"
             },
             "line": {
              "color": "white"
             }
            },
            "type": "table"
           }
          ]
         },
         "layout": {
          "annotationdefaults": {
           "arrowcolor": "#2a3f5f",
           "arrowhead": 0,
           "arrowwidth": 1
          },
          "coloraxis": {
           "colorbar": {
            "outlinewidth": 0,
            "ticks": ""
           }
          },
          "colorscale": {
           "diverging": [
            [
             0,
             "#8e0152"
            ],
            [
             0.1,
             "#c51b7d"
            ],
            [
             0.2,
             "#de77ae"
            ],
            [
             0.3,
             "#f1b6da"
            ],
            [
             0.4,
             "#fde0ef"
            ],
            [
             0.5,
             "#f7f7f7"
            ],
            [
             0.6,
             "#e6f5d0"
            ],
            [
             0.7,
             "#b8e186"
            ],
            [
             0.8,
             "#7fbc41"
            ],
            [
             0.9,
             "#4d9221"
            ],
            [
             1,
             "#276419"
            ]
           ],
           "sequential": [
            [
             0,
             "#0d0887"
            ],
            [
             0.1111111111111111,
             "#46039f"
            ],
            [
             0.2222222222222222,
             "#7201a8"
            ],
            [
             0.3333333333333333,
             "#9c179e"
            ],
            [
             0.4444444444444444,
             "#bd3786"
            ],
            [
             0.5555555555555556,
             "#d8576b"
            ],
            [
             0.6666666666666666,
             "#ed7953"
            ],
            [
             0.7777777777777778,
             "#fb9f3a"
            ],
            [
             0.8888888888888888,
             "#fdca26"
            ],
            [
             1,
             "#f0f921"
            ]
           ],
           "sequentialminus": [
            [
             0,
             "#0d0887"
            ],
            [
             0.1111111111111111,
             "#46039f"
            ],
            [
             0.2222222222222222,
             "#7201a8"
            ],
            [
             0.3333333333333333,
             "#9c179e"
            ],
            [
             0.4444444444444444,
             "#bd3786"
            ],
            [
             0.5555555555555556,
             "#d8576b"
            ],
            [
             0.6666666666666666,
             "#ed7953"
            ],
            [
             0.7777777777777778,
             "#fb9f3a"
            ],
            [
             0.8888888888888888,
             "#fdca26"
            ],
            [
             1,
             "#f0f921"
            ]
           ]
          },
          "colorway": [
           "#636efa",
           "#EF553B",
           "#00cc96",
           "#ab63fa",
           "#FFA15A",
           "#19d3f3",
           "#FF6692",
           "#B6E880",
           "#FF97FF",
           "#FECB52"
          ],
          "font": {
           "color": "#2a3f5f"
          },
          "geo": {
           "bgcolor": "white",
           "lakecolor": "white",
           "landcolor": "#E5ECF6",
           "showlakes": true,
           "showland": true,
           "subunitcolor": "white"
          },
          "hoverlabel": {
           "align": "left"
          },
          "hovermode": "closest",
          "mapbox": {
           "style": "light"
          },
          "paper_bgcolor": "white",
          "plot_bgcolor": "#E5ECF6",
          "polar": {
           "angularaxis": {
            "gridcolor": "white",
            "linecolor": "white",
            "ticks": ""
           },
           "bgcolor": "#E5ECF6",
           "radialaxis": {
            "gridcolor": "white",
            "linecolor": "white",
            "ticks": ""
           }
          },
          "scene": {
           "xaxis": {
            "backgroundcolor": "#E5ECF6",
            "gridcolor": "white",
            "gridwidth": 2,
            "linecolor": "white",
            "showbackground": true,
            "ticks": "",
            "zerolinecolor": "white"
           },
           "yaxis": {
            "backgroundcolor": "#E5ECF6",
            "gridcolor": "white",
            "gridwidth": 2,
            "linecolor": "white",
            "showbackground": true,
            "ticks": "",
            "zerolinecolor": "white"
           },
           "zaxis": {
            "backgroundcolor": "#E5ECF6",
            "gridcolor": "white",
            "gridwidth": 2,
            "linecolor": "white",
            "showbackground": true,
            "ticks": "",
            "zerolinecolor": "white"
           }
          },
          "shapedefaults": {
           "line": {
            "color": "#2a3f5f"
           }
          },
          "ternary": {
           "aaxis": {
            "gridcolor": "white",
            "linecolor": "white",
            "ticks": ""
           },
           "baxis": {
            "gridcolor": "white",
            "linecolor": "white",
            "ticks": ""
           },
           "bgcolor": "#E5ECF6",
           "caxis": {
            "gridcolor": "white",
            "linecolor": "white",
            "ticks": ""
           }
          },
          "title": {
           "x": 0.05
          },
          "xaxis": {
           "automargin": true,
           "gridcolor": "white",
           "linecolor": "white",
           "ticks": "",
           "title": {
            "standoff": 15
           },
           "zerolinecolor": "white",
           "zerolinewidth": 2
          },
          "yaxis": {
           "automargin": true,
           "gridcolor": "white",
           "linecolor": "white",
           "ticks": "",
           "title": {
            "standoff": 15
           },
           "zerolinecolor": "white",
           "zerolinewidth": 2
          }
         }
        },
        "title": {
         "font": {
          "color": "#4D5663"
         }
        },
        "xaxis": {
         "gridcolor": "#E1E5ED",
         "showgrid": true,
         "tickfont": {
          "color": "#4D5663"
         },
         "title": {
          "font": {
           "color": "#4D5663"
          },
          "text": ""
         },
         "zerolinecolor": "#E1E5ED"
        },
        "yaxis": {
         "gridcolor": "#E1E5ED",
         "showgrid": true,
         "tickfont": {
          "color": "#4D5663"
         },
         "title": {
          "font": {
           "color": "#4D5663"
          },
          "text": ""
         },
         "zerolinecolor": "#E1E5ED"
        }
       }
      },
      "text/html": [
       "<div>\n",
       "        \n",
       "        \n",
       "            <div id=\"8e9b0c62-02b9-49f4-a042-b464bc4c408a\" class=\"plotly-graph-div\" style=\"height:525px; width:100%;\"></div>\n",
       "            <script type=\"text/javascript\">\n",
       "                require([\"plotly\"], function(Plotly) {\n",
       "                    window.PLOTLYENV=window.PLOTLYENV || {};\n",
       "                    window.PLOTLYENV.BASE_URL='https://plot.ly';\n",
       "                    \n",
       "                if (document.getElementById(\"8e9b0c62-02b9-49f4-a042-b464bc4c408a\")) {\n",
       "                    Plotly.newPlot(\n",
       "                        '8e9b0c62-02b9-49f4-a042-b464bc4c408a',\n",
       "                        [{\"line\": {\"color\": \"rgba(255, 153, 51, 1.0)\", \"dash\": \"solid\", \"shape\": \"linear\", \"width\": 1.3}, \"mode\": \"lines\", \"name\": \"BAC\", \"text\": \"\", \"type\": \"scatter\", \"x\": [\"2020-05-22\", \"2020-05-21\", \"2020-05-20\", \"2020-05-19\", \"2020-05-18\", \"2020-05-15\", \"2020-05-14\", \"2020-05-13\", \"2020-05-12\", \"2020-05-11\", \"2020-05-08\", \"2020-05-07\", \"2020-05-06\", \"2020-05-05\", \"2020-05-04\", \"2020-05-01\", \"2020-04-30\", \"2020-04-29\", \"2020-04-28\", \"2020-04-27\", \"2020-04-24\", \"2020-04-23\", \"2020-04-22\", \"2020-04-21\", \"2020-04-20\", \"2020-04-17\", \"2020-04-16\", \"2020-04-15\", \"2020-04-14\", \"2020-04-13\", \"2020-04-09\", \"2020-04-08\", \"2020-04-07\", \"2020-04-06\", \"2020-04-03\", \"2020-04-02\", \"2020-04-01\", \"2020-03-31\", \"2020-03-30\", \"2020-03-27\", \"2020-03-26\", \"2020-03-25\", \"2020-03-24\", \"2020-03-23\", \"2020-03-20\", \"2020-03-19\", \"2020-03-18\", \"2020-03-17\", \"2020-03-16\", \"2020-03-13\", \"2020-03-12\", \"2020-03-11\", \"2020-03-10\", \"2020-03-09\", \"2020-03-06\", \"2020-03-05\", \"2020-03-04\", \"2020-03-03\", \"2020-03-02\", \"2020-02-28\", \"2020-02-27\", \"2020-02-26\", \"2020-02-25\", \"2020-02-24\", \"2020-02-21\", \"2020-02-20\", \"2020-02-19\", \"2020-02-18\", \"2020-02-14\", \"2020-02-13\", \"2020-02-12\", \"2020-02-11\", \"2020-02-10\", \"2020-02-07\", \"2020-02-06\", \"2020-02-05\", \"2020-02-04\", \"2020-02-03\", \"2020-01-31\", \"2020-01-30\", \"2020-01-29\", \"2020-01-28\", \"2020-01-27\", \"2020-01-24\", \"2020-01-23\", \"2020-01-22\", \"2020-01-21\", \"2020-01-17\", \"2020-01-16\", \"2020-01-15\", \"2020-01-14\", \"2020-01-13\", \"2020-01-10\", \"2020-01-09\", \"2020-01-08\", \"2020-01-07\", \"2020-01-06\", \"2020-01-03\", \"2020-01-02\", \"2019-12-31\", \"2019-12-30\", \"2019-12-27\", \"2019-12-26\", \"2019-12-24\", \"2019-12-23\", \"2019-12-20\", \"2019-12-19\", \"2019-12-18\", \"2019-12-17\", \"2019-12-16\", \"2019-12-13\", \"2019-12-12\", \"2019-12-11\", \"2019-12-10\", \"2019-12-09\", \"2019-12-06\", \"2019-12-05\", \"2019-12-04\", \"2019-12-03\", \"2019-12-02\", \"2019-11-29\", \"2019-11-27\", \"2019-11-26\", \"2019-11-25\", \"2019-11-22\", \"2019-11-21\", \"2019-11-20\", \"2019-11-19\", \"2019-11-18\", \"2019-11-15\", \"2019-11-14\", \"2019-11-13\", \"2019-11-12\", \"2019-11-11\", \"2019-11-08\", \"2019-11-07\", \"2019-11-06\", \"2019-11-05\", \"2019-11-04\", \"2019-11-01\", \"2019-10-31\", \"2019-10-30\", \"2019-10-29\", \"2019-10-28\", \"2019-10-25\", \"2019-10-24\", \"2019-10-23\", \"2019-10-22\", \"2019-10-21\", \"2019-10-18\", \"2019-10-17\", \"2019-10-16\", \"2019-10-15\", \"2019-10-14\", \"2019-10-11\", \"2019-10-10\", \"2019-10-09\", \"2019-10-08\", \"2019-10-07\", \"2019-10-04\", \"2019-10-03\", \"2019-10-02\", \"2019-10-01\", \"2019-09-30\", \"2019-09-27\", \"2019-09-26\", \"2019-09-25\", \"2019-09-24\", \"2019-09-23\", \"2019-09-20\", \"2019-09-19\", \"2019-09-18\", \"2019-09-17\", \"2019-09-16\", \"2019-09-13\", \"2019-09-12\", \"2019-09-11\", \"2019-09-10\", \"2019-09-09\", \"2019-09-06\", \"2019-09-05\", \"2019-09-04\", \"2019-09-03\", \"2019-08-30\", \"2019-08-29\", \"2019-08-28\", \"2019-08-27\", \"2019-08-26\", \"2019-08-23\", \"2019-08-22\", \"2019-08-21\", \"2019-08-20\", \"2019-08-19\", \"2019-08-16\", \"2019-08-15\", \"2019-08-14\", \"2019-08-13\", \"2019-08-12\", \"2019-08-09\", \"2019-08-08\", \"2019-08-07\", \"2019-08-06\", \"2019-08-05\", \"2019-08-02\", \"2019-08-01\", \"2019-07-31\", \"2019-07-30\", \"2019-07-29\", \"2019-07-26\", \"2019-07-25\", \"2019-07-24\", \"2019-07-23\", \"2019-07-22\", \"2019-07-19\", \"2019-07-18\", \"2019-07-17\", \"2019-07-16\", \"2019-07-15\", \"2019-07-12\", \"2019-07-11\", \"2019-07-10\", \"2019-07-09\", \"2019-07-08\", \"2019-07-05\", \"2019-07-03\", \"2019-07-02\", \"2019-07-01\", \"2019-06-28\", \"2019-06-27\", \"2019-06-26\", \"2019-06-25\", \"2019-06-24\", \"2019-06-21\", \"2019-06-20\", \"2019-06-19\", \"2019-06-18\", \"2019-06-17\", \"2019-06-14\", \"2019-06-13\", \"2019-06-12\", \"2019-06-11\", \"2019-06-10\", \"2019-06-07\", \"2019-06-06\", \"2019-06-05\", \"2019-06-04\", \"2019-06-03\", \"2019-05-31\", \"2019-05-30\", \"2019-05-29\", \"2019-05-28\", \"2019-05-24\", \"2019-05-23\", \"2019-05-22\", \"2019-05-21\", \"2019-05-20\", \"2019-05-17\", \"2019-05-16\", \"2019-05-15\", \"2019-05-14\", \"2019-05-13\", \"2019-05-10\", \"2019-05-09\", \"2019-05-08\", \"2019-05-07\", \"2019-05-06\", \"2019-05-03\", \"2019-05-02\", \"2019-05-01\", \"2019-04-30\", \"2019-04-29\", \"2019-04-26\", \"2019-04-25\", \"2019-04-24\", \"2019-04-23\", \"2019-04-22\", \"2019-04-18\", \"2019-04-17\", \"2019-04-16\", \"2019-04-15\", \"2019-04-12\", \"2019-04-11\", \"2019-04-10\", \"2019-04-09\", \"2019-04-08\", \"2019-04-05\", \"2019-04-04\", \"2019-04-03\", \"2019-04-02\", \"2019-04-01\", \"2019-03-29\", \"2019-03-28\", \"2019-03-27\", \"2019-03-26\", \"2019-03-25\", \"2019-03-22\", \"2019-03-21\", \"2019-03-20\", \"2019-03-19\", \"2019-03-18\", \"2019-03-15\", \"2019-03-14\", \"2019-03-13\", \"2019-03-12\", \"2019-03-11\", \"2019-03-08\", \"2019-03-07\", \"2019-03-06\", \"2019-03-05\", \"2019-03-04\", \"2019-03-01\", \"2019-02-28\", \"2019-02-27\", \"2019-02-26\", \"2019-02-25\", \"2019-02-22\", \"2019-02-21\", \"2019-02-20\", \"2019-02-19\", \"2019-02-15\", \"2019-02-14\", \"2019-02-13\", \"2019-02-12\", \"2019-02-11\", \"2019-02-08\", \"2019-02-07\", \"2019-02-06\", \"2019-02-05\", \"2019-02-04\", \"2019-02-01\", \"2019-01-31\", \"2019-01-30\", \"2019-01-29\", \"2019-01-28\", \"2019-01-25\", \"2019-01-24\", \"2019-01-23\", \"2019-01-22\", \"2019-01-18\", \"2019-01-17\", \"2019-01-16\", \"2019-01-15\", \"2019-01-14\", \"2019-01-11\", \"2019-01-10\", \"2019-01-09\", \"2019-01-08\", \"2019-01-07\", \"2019-01-04\", \"2019-01-03\", \"2019-01-02\"], \"y\": [22.66, 22.9, 22.91, 22.21, 22.93, 21.44, 21.71, 20.87, 21.87, 22.58, 23.57, 22.84, 22.35, 22.66, 22.93, 23.08, 24.05, 24.78, 23.89, 23.47, 22.18, 21.87, 21.8, 21.64, 22.5, 23.28, 21.42, 22.19, 23.73, 23.92, 24.86, 23.45, 22.14, 21.39, 20.03, 20.57, 19.77, 21.23, 22.04, 21.6, 22.72, 21.1, 21.03, 18.08, 19.67, 21.2, 20.79, 21.98, 20.44, 24.16, 20.51, 22.67, 23.61, 21.93, 25.71, 26.78, 28.21, 27.574, 29.184, 28.319000000000003, 28.945, 30.436, 30.883000000000003, 32.522, 34.141999999999996, 34.629, 34.5, 34.053000000000004, 34.629, 34.689, 34.699, 34.55, 34.47, 34.391, 34.45, 34.49, 33.407, 32.760999999999996, 32.622, 33.268, 32.801, 33.029, 32.641999999999996, 33.327, 33.904, 34.141999999999996, 34.043, 34.49, 34.5, 34.45, 35.096, 34.838, 34.52, 34.808, 34.748000000000005, 34.400999999999996, 34.629, 34.679, 35.414, 34.997, 34.927, 35.126, 35.295, 34.997, 34.946999999999996, 34.738, 34.728, 34.887, 34.818000000000005, 34.48, 34.222, 34.46, 33.427, 33.317, 33.298, 33.457, 32.88, 32.760999999999996, 32.455, 33.037, 32.929, 33.028, 32.959, 33.077, 32.791, 32.455, 32.306, 32.553000000000004, 32.573, 32.543, 32.316, 32.405, 32.701, 32.791, 32.869, 32.84, 32.405, 32.435, 32.02, 31.426, 30.903000000000002, 31.249000000000002, 31.694000000000003, 31.465999999999998, 31.348000000000003, 30.991999999999997, 31.051, 30.834, 30.656, 29.994, 29.905, 29.816, 29.381999999999998, 28.798000000000002, 28.570999999999998, 28.116999999999997, 27.563000000000002, 27.305999999999997, 27.976999999999997, 28.037, 27.484, 27.513, 28.107, 28.828000000000003, 29.006, 28.788, 28.906999999999996, 28.601, 29.174, 29.241999999999997, 29.47, 29.648000000000003, 29.588, 29.776, 29.816, 29.322, 29.114, 29.006, 28.294, 27.404, 27.79, 26.99, 26.558000000000003, 27.01, 26.833000000000002, 26.361, 25.988000000000003, 26.293000000000003, 25.988000000000003, 26.695, 26.44, 26.234, 26.773000000000003, 26.538, 25.772, 25.938000000000002, 27.214000000000002, 27.136999999999997, 27.814, 27.863000000000003, 27.381999999999998, 27.903000000000002, 27.569000000000003, 28.846, 28.953000000000003, 30.122, 30.326999999999998, 29.964000000000002, 30.21, 29.787, 30.112, 29.699, 29.031, 28.864, 28.943, 28.659000000000002, 28.462, 28.688000000000002, 28.914, 28.826, 28.491, 28.816, 28.668000000000003, 28.726999999999997, 28.521, 28.619, 28.884, 28.471999999999998, 27.695999999999998, 27.401, 27.254, 27.471, 27.608, 27.756, 27.805, 28.1, 27.421, 27.529, 27.430999999999997, 27.441, 27.726, 27.559, 27.029, 27.372, 27.254, 27.264, 26.054000000000002, 25.975, 26.522, 27.098000000000003, 27.244, 27.518, 27.108, 27.82, 28.016, 27.733, 27.733, 27.919, 27.625999999999998, 27.948, 27.586, 28.885, 29.013, 29.1, 29.217, 29.755, 29.989, 29.783, 29.549, 29.862, 30.048000000000002, 29.636999999999997, 29.374000000000002, 29.315, 29.364, 29.344, 29.325, 29.325, 29.178, 29.14, 29.462, 28.388, 28.388, 28.212, 28.484, 28.398000000000003, 28.465, 28.162, 28.191999999999997, 27.87, 26.941999999999997, 26.688000000000002, 26.396, 26.570999999999998, 26.21, 26.375999999999998, 27.518, 27.967, 28.954, 29.12, 28.612, 28.768, 28.601999999999997, 28.261, 28.261, 27.976, 27.88, 28.162, 28.398000000000003, 28.348000000000003, 28.621, 28.398000000000003, 28.69, 28.456, 28.436999999999998, 28.254, 28.456, 28.574, 28.301, 28.281999999999996, 27.581999999999997, 27.884, 27.874000000000002, 27.601999999999997, 27.486, 27.436999999999998, 27.913, 27.962, 28.059, 27.573, 27.660999999999998, 28.244, 28.555, 28.787, 28.739, 28.254, 28.098000000000003, 28.263, 28.465999999999998, 28.165, 27.641, 25.794, 25.62, 25.29, 24.997, 25.026, 24.785, 24.833000000000002, 24.851, 23.862, 24.25]}, {\"line\": {\"color\": \"rgba(55, 128, 191, 1.0)\", \"dash\": \"solid\", \"shape\": \"linear\", \"width\": 1.3}, \"mode\": \"lines\", \"name\": \"C\", \"text\": \"\", \"type\": \"scatter\", \"x\": [\"2020-05-22\", \"2020-05-21\", \"2020-05-20\", \"2020-05-19\", \"2020-05-18\", \"2020-05-15\", \"2020-05-14\", \"2020-05-13\", \"2020-05-12\", \"2020-05-11\", \"2020-05-08\", \"2020-05-07\", \"2020-05-06\", \"2020-05-05\", \"2020-05-04\", \"2020-05-01\", \"2020-04-30\", \"2020-04-29\", \"2020-04-28\", \"2020-04-27\", \"2020-04-24\", \"2020-04-23\", \"2020-04-22\", \"2020-04-21\", \"2020-04-20\", \"2020-04-17\", \"2020-04-16\", \"2020-04-15\", \"2020-04-14\", \"2020-04-13\", \"2020-04-09\", \"2020-04-08\", \"2020-04-07\", \"2020-04-06\", \"2020-04-03\", \"2020-04-02\", \"2020-04-01\", \"2020-03-31\", \"2020-03-30\", \"2020-03-27\", \"2020-03-26\", \"2020-03-25\", \"2020-03-24\", \"2020-03-23\", \"2020-03-20\", \"2020-03-19\", \"2020-03-18\", \"2020-03-17\", \"2020-03-16\", \"2020-03-13\", \"2020-03-12\", \"2020-03-11\", \"2020-03-10\", \"2020-03-09\", \"2020-03-06\", \"2020-03-05\", \"2020-03-04\", \"2020-03-03\", \"2020-03-02\", \"2020-02-28\", \"2020-02-27\", \"2020-02-26\", \"2020-02-25\", \"2020-02-24\", \"2020-02-21\", \"2020-02-20\", \"2020-02-19\", \"2020-02-18\", \"2020-02-14\", \"2020-02-13\", \"2020-02-12\", \"2020-02-11\", \"2020-02-10\", \"2020-02-07\", \"2020-02-06\", \"2020-02-05\", \"2020-02-04\", \"2020-02-03\", \"2020-01-31\", \"2020-01-30\", \"2020-01-29\", \"2020-01-28\", \"2020-01-27\", \"2020-01-24\", \"2020-01-23\", \"2020-01-22\", \"2020-01-21\", \"2020-01-17\", \"2020-01-16\", \"2020-01-15\", \"2020-01-14\", \"2020-01-13\", \"2020-01-10\", \"2020-01-09\", \"2020-01-08\", \"2020-01-07\", \"2020-01-06\", \"2020-01-03\", \"2020-01-02\", \"2019-12-31\", \"2019-12-30\", \"2019-12-27\", \"2019-12-26\", \"2019-12-24\", \"2019-12-23\", \"2019-12-20\", \"2019-12-19\", \"2019-12-18\", \"2019-12-17\", \"2019-12-16\", \"2019-12-13\", \"2019-12-12\", \"2019-12-11\", \"2019-12-10\", \"2019-12-09\", \"2019-12-06\", \"2019-12-05\", \"2019-12-04\", \"2019-12-03\", \"2019-12-02\", \"2019-11-29\", \"2019-11-27\", \"2019-11-26\", \"2019-11-25\", \"2019-11-22\", \"2019-11-21\", \"2019-11-20\", \"2019-11-19\", \"2019-11-18\", \"2019-11-15\", \"2019-11-14\", \"2019-11-13\", \"2019-11-12\", \"2019-11-11\", \"2019-11-08\", \"2019-11-07\", \"2019-11-06\", \"2019-11-05\", \"2019-11-04\", \"2019-11-01\", \"2019-10-31\", \"2019-10-30\", \"2019-10-29\", \"2019-10-28\", \"2019-10-25\", \"2019-10-24\", \"2019-10-23\", \"2019-10-22\", \"2019-10-21\", \"2019-10-18\", \"2019-10-17\", \"2019-10-16\", \"2019-10-15\", \"2019-10-14\", \"2019-10-11\", \"2019-10-10\", \"2019-10-09\", \"2019-10-08\", \"2019-10-07\", \"2019-10-04\", \"2019-10-03\", \"2019-10-02\", \"2019-10-01\", \"2019-09-30\", \"2019-09-27\", \"2019-09-26\", \"2019-09-25\", \"2019-09-24\", \"2019-09-23\", \"2019-09-20\", \"2019-09-19\", \"2019-09-18\", \"2019-09-17\", \"2019-09-16\", \"2019-09-13\", \"2019-09-12\", \"2019-09-11\", \"2019-09-10\", \"2019-09-09\", \"2019-09-06\", \"2019-09-05\", \"2019-09-04\", \"2019-09-03\", \"2019-08-30\", \"2019-08-29\", \"2019-08-28\", \"2019-08-27\", \"2019-08-26\", \"2019-08-23\", \"2019-08-22\", \"2019-08-21\", \"2019-08-20\", \"2019-08-19\", \"2019-08-16\", \"2019-08-15\", \"2019-08-14\", \"2019-08-13\", \"2019-08-12\", \"2019-08-09\", \"2019-08-08\", \"2019-08-07\", \"2019-08-06\", \"2019-08-05\", \"2019-08-02\", \"2019-08-01\", \"2019-07-31\", \"2019-07-30\", \"2019-07-29\", \"2019-07-26\", \"2019-07-25\", \"2019-07-24\", \"2019-07-23\", \"2019-07-22\", \"2019-07-19\", \"2019-07-18\", \"2019-07-17\", \"2019-07-16\", \"2019-07-15\", \"2019-07-12\", \"2019-07-11\", \"2019-07-10\", \"2019-07-09\", \"2019-07-08\", \"2019-07-05\", \"2019-07-03\", \"2019-07-02\", \"2019-07-01\", \"2019-06-28\", \"2019-06-27\", \"2019-06-26\", \"2019-06-25\", \"2019-06-24\", \"2019-06-21\", \"2019-06-20\", \"2019-06-19\", \"2019-06-18\", \"2019-06-17\", \"2019-06-14\", \"2019-06-13\", \"2019-06-12\", \"2019-06-11\", \"2019-06-10\", \"2019-06-07\", \"2019-06-06\", \"2019-06-05\", \"2019-06-04\", \"2019-06-03\", \"2019-05-31\", \"2019-05-30\", \"2019-05-29\", \"2019-05-28\", \"2019-05-24\", \"2019-05-23\", \"2019-05-22\", \"2019-05-21\", \"2019-05-20\", \"2019-05-17\", \"2019-05-16\", \"2019-05-15\", \"2019-05-14\", \"2019-05-13\", \"2019-05-10\", \"2019-05-09\", \"2019-05-08\", \"2019-05-07\", \"2019-05-06\", \"2019-05-03\", \"2019-05-02\", \"2019-05-01\", \"2019-04-30\", \"2019-04-29\", \"2019-04-26\", \"2019-04-25\", \"2019-04-24\", \"2019-04-23\", \"2019-04-22\", \"2019-04-18\", \"2019-04-17\", \"2019-04-16\", \"2019-04-15\", \"2019-04-12\", \"2019-04-11\", \"2019-04-10\", \"2019-04-09\", \"2019-04-08\", \"2019-04-05\", \"2019-04-04\", \"2019-04-03\", \"2019-04-02\", \"2019-04-01\", \"2019-03-29\", \"2019-03-28\", \"2019-03-27\", \"2019-03-26\", \"2019-03-25\", \"2019-03-22\", \"2019-03-21\", \"2019-03-20\", \"2019-03-19\", \"2019-03-18\", \"2019-03-15\", \"2019-03-14\", \"2019-03-13\", \"2019-03-12\", \"2019-03-11\", \"2019-03-08\", \"2019-03-07\", \"2019-03-06\", \"2019-03-05\", \"2019-03-04\", \"2019-03-01\", \"2019-02-28\", \"2019-02-27\", \"2019-02-26\", \"2019-02-25\", \"2019-02-22\", \"2019-02-21\", \"2019-02-20\", \"2019-02-19\", \"2019-02-15\", \"2019-02-14\", \"2019-02-13\", \"2019-02-12\", \"2019-02-11\", \"2019-02-08\", \"2019-02-07\", \"2019-02-06\", \"2019-02-05\", \"2019-02-04\", \"2019-02-01\", \"2019-01-31\", \"2019-01-30\", \"2019-01-29\", \"2019-01-28\", \"2019-01-25\", \"2019-01-24\", \"2019-01-23\", \"2019-01-22\", \"2019-01-18\", \"2019-01-17\", \"2019-01-16\", \"2019-01-15\", \"2019-01-14\", \"2019-01-11\", \"2019-01-10\", \"2019-01-09\", \"2019-01-08\", \"2019-01-07\", \"2019-01-04\", \"2019-01-03\", \"2019-01-02\"], \"y\": [44.1, 45.0, 45.47, 44.43, 45.67, 41.92, 42.06, 40.6, 42.35, 44.07, 46.32, 44.64, 42.95, 43.95, 45.12, 45.52, 48.05, 49.732, 46.714, 46.071000000000005, 42.647, 42.013999999999996, 41.79600000000001, 41.133, 43.548, 44.973, 40.094, 42.41, 44.943000000000005, 46.19, 46.912, 43.795, 40.817, 40.688, 37.096, 38.818000000000005, 38.106, 41.678000000000004, 43.617, 43.34, 45.537, 41.42, 40.233000000000004, 35.018, 37.66, 39.224000000000004, 36.047, 39.827, 40.757, 50.504, 42.806000000000004, 50.257, 54.996, 50.83, 60.636, 62.823, 66.682, 64.367, 66.88, 62.794, 63.773, 67.464, 68.70100000000001, 71.768, 75.637, 77.398, 77.23, 76.765, 77.96300000000001, 78.17, 78.497, 78.259, 77.656, 77.86399999999999, 78.141, 78.02199999999999, 75.697, 74.34100000000001, 73.62899999999999, 76.112, 75.178, 75.925, 75.405, 77.085, 78.441, 78.736, 78.54, 79.74, 79.62100000000001, 79.857, 80.515, 79.278, 77.90100000000001, 78.717, 78.009, 77.419, 78.098, 78.343, 79.848, 78.53, 78.156, 78.314, 78.471, 77.252, 77.419, 77.17399999999999, 76.869, 76.594, 76.417, 75.601, 75.09, 75.73899999999999, 74.264, 74.49, 74.048, 74.52, 73.439, 72.967, 72.082, 73.252, 73.84100000000001, 74.431, 74.176, 74.392, 73.596, 72.642, 72.652, 73.546, 73.134, 73.134, 72.584, 72.652, 73.793, 74.313, 74.825, 74.52, 73.154, 73.556, 73.87100000000001, 72.584, 70.13600000000001, 71.219, 71.336, 71.825, 71.414, 70.565, 70.711, 70.332, 70.086, 68.067, 67.93, 67.832, 69.51100000000001, 68.554, 68.418, 66.973, 65.811, 64.807, 66.514, 66.544, 65.1, 64.671, 66.514, 67.422, 67.793, 67.452, 67.715, 66.271, 67.881, 67.686, 68.057, 68.40899999999999, 67.813, 68.154, 68.70100000000001, 67.637, 67.24600000000001, 67.324, 67.139, 64.388, 64.748, 62.738, 61.898, 62.805, 62.36600000000001, 60.863, 60.18, 61.215, 60.463, 62.376000000000005, 61.732, 61.898, 62.766999999999996, 61.956, 59.849, 59.93600000000001, 63.273999999999994, 62.718, 64.465, 65.139, 63.577, 64.661, 63.61600000000001, 65.988, 66.212, 68.934, 69.468, 69.516, 69.904, 69.157, 70.726, 69.73899999999999, 68.885, 68.702, 69.544, 68.605, 69.09, 69.468, 69.524, 69.37100000000001, 68.905, 69.322, 68.905, 69.167, 68.634, 68.237, 68.528, 67.839, 66.018, 65.117, 64.459, 65.301, 65.844, 65.97, 65.476, 65.854, 64.459, 65.369, 64.98100000000001, 64.719, 65.757, 65.02, 63.636, 64.392, 63.723, 63.818999999999996, 60.652, 60.206, 61.62, 61.717, 61.795, 62.376000000000005, 61.901, 62.638000000000005, 64.014, 62.927, 63.035, 63.917, 62.841, 63.218, 62.36600000000001, 65.77600000000001, 65.515, 66.086, 66.028, 68.208, 68.459, 67.723, 67.33800000000001, 68.051, 68.368, 66.905, 66.154, 66.251, 66.607, 66.5, 67.058, 67.71300000000001, 66.71300000000001, 64.854, 64.893, 63.44, 63.06399999999999, 62.757, 63.593999999999994, 63.093, 63.353, 62.622, 62.006, 61.948, 59.888999999999996, 59.657, 58.455, 58.926, 58.07, 58.695, 61.515, 61.89, 63.17100000000001, 63.458999999999996, 62.748000000000005, 61.708, 61.265, 60.455, 59.974, 59.735, 59.581, 60.167, 60.571999999999996, 61.361000000000004, 62.053999999999995, 61.582, 61.986999999999995, 61.717, 62.111999999999995, 61.736000000000004, 61.91, 62.218999999999994, 61.967, 61.861000000000004, 60.08, 60.678000000000004, 60.321000000000005, 59.302, 59.68600000000001, 60.455, 61.495, 61.418, 61.66, 61.284, 61.611000000000004, 61.382, 60.418, 61.027, 61.191, 59.938, 59.38399999999999, 59.117, 60.33, 59.708999999999996, 59.442, 58.667, 56.326, 54.185, 53.946000000000005, 53.888000000000005, 53.01, 53.153, 52.693999999999996, 50.236999999999995, 51.163999999999994]}, {\"line\": {\"color\": \"rgba(50, 171, 96, 1.0)\", \"dash\": \"solid\", \"shape\": \"linear\", \"width\": 1.3}, \"mode\": \"lines\", \"name\": \"GS\", \"text\": \"\", \"type\": \"scatter\", \"x\": [\"2020-05-22\", \"2020-05-21\", \"2020-05-20\", \"2020-05-19\", \"2020-05-18\", \"2020-05-15\", \"2020-05-14\", \"2020-05-13\", \"2020-05-12\", \"2020-05-11\", \"2020-05-08\", \"2020-05-07\", \"2020-05-06\", \"2020-05-05\", \"2020-05-04\", \"2020-05-01\", \"2020-04-30\", \"2020-04-29\", \"2020-04-28\", \"2020-04-27\", \"2020-04-24\", \"2020-04-23\", \"2020-04-22\", \"2020-04-21\", \"2020-04-20\", \"2020-04-17\", \"2020-04-16\", \"2020-04-15\", \"2020-04-14\", \"2020-04-13\", \"2020-04-09\", \"2020-04-08\", \"2020-04-07\", \"2020-04-06\", \"2020-04-03\", \"2020-04-02\", \"2020-04-01\", \"2020-03-31\", \"2020-03-30\", \"2020-03-27\", \"2020-03-26\", \"2020-03-25\", \"2020-03-24\", \"2020-03-23\", \"2020-03-20\", \"2020-03-19\", \"2020-03-18\", \"2020-03-17\", \"2020-03-16\", \"2020-03-13\", \"2020-03-12\", \"2020-03-11\", \"2020-03-10\", \"2020-03-09\", \"2020-03-06\", \"2020-03-05\", \"2020-03-04\", \"2020-03-03\", \"2020-03-02\", \"2020-02-28\", \"2020-02-27\", \"2020-02-26\", \"2020-02-25\", \"2020-02-24\", \"2020-02-21\", \"2020-02-20\", \"2020-02-19\", \"2020-02-18\", \"2020-02-14\", \"2020-02-13\", \"2020-02-12\", \"2020-02-11\", \"2020-02-10\", \"2020-02-07\", \"2020-02-06\", \"2020-02-05\", \"2020-02-04\", \"2020-02-03\", \"2020-01-31\", \"2020-01-30\", \"2020-01-29\", \"2020-01-28\", \"2020-01-27\", \"2020-01-24\", \"2020-01-23\", \"2020-01-22\", \"2020-01-21\", \"2020-01-17\", \"2020-01-16\", \"2020-01-15\", \"2020-01-14\", \"2020-01-13\", \"2020-01-10\", \"2020-01-09\", \"2020-01-08\", \"2020-01-07\", \"2020-01-06\", \"2020-01-03\", \"2020-01-02\", \"2019-12-31\", \"2019-12-30\", \"2019-12-27\", \"2019-12-26\", \"2019-12-24\", \"2019-12-23\", \"2019-12-20\", \"2019-12-19\", \"2019-12-18\", \"2019-12-17\", \"2019-12-16\", \"2019-12-13\", \"2019-12-12\", \"2019-12-11\", \"2019-12-10\", \"2019-12-09\", \"2019-12-06\", \"2019-12-05\", \"2019-12-04\", \"2019-12-03\", \"2019-12-02\", \"2019-11-29\", \"2019-11-27\", \"2019-11-26\", \"2019-11-25\", \"2019-11-22\", \"2019-11-21\", \"2019-11-20\", \"2019-11-19\", \"2019-11-18\", \"2019-11-15\", \"2019-11-14\", \"2019-11-13\", \"2019-11-12\", \"2019-11-11\", \"2019-11-08\", \"2019-11-07\", \"2019-11-06\", \"2019-11-05\", \"2019-11-04\", \"2019-11-01\", \"2019-10-31\", \"2019-10-30\", \"2019-10-29\", \"2019-10-28\", \"2019-10-25\", \"2019-10-24\", \"2019-10-23\", \"2019-10-22\", \"2019-10-21\", \"2019-10-18\", \"2019-10-17\", \"2019-10-16\", \"2019-10-15\", \"2019-10-14\", \"2019-10-11\", \"2019-10-10\", \"2019-10-09\", \"2019-10-08\", \"2019-10-07\", \"2019-10-04\", \"2019-10-03\", \"2019-10-02\", \"2019-10-01\", \"2019-09-30\", \"2019-09-27\", \"2019-09-26\", \"2019-09-25\", \"2019-09-24\", \"2019-09-23\", \"2019-09-20\", \"2019-09-19\", \"2019-09-18\", \"2019-09-17\", \"2019-09-16\", \"2019-09-13\", \"2019-09-12\", \"2019-09-11\", \"2019-09-10\", \"2019-09-09\", \"2019-09-06\", \"2019-09-05\", \"2019-09-04\", \"2019-09-03\", \"2019-08-30\", \"2019-08-29\", \"2019-08-28\", \"2019-08-27\", \"2019-08-26\", \"2019-08-23\", \"2019-08-22\", \"2019-08-21\", \"2019-08-20\", \"2019-08-19\", \"2019-08-16\", \"2019-08-15\", \"2019-08-14\", \"2019-08-13\", \"2019-08-12\", \"2019-08-09\", \"2019-08-08\", \"2019-08-07\", \"2019-08-06\", \"2019-08-05\", \"2019-08-02\", \"2019-08-01\", \"2019-07-31\", \"2019-07-30\", \"2019-07-29\", \"2019-07-26\", \"2019-07-25\", \"2019-07-24\", \"2019-07-23\", \"2019-07-22\", \"2019-07-19\", \"2019-07-18\", \"2019-07-17\", \"2019-07-16\", \"2019-07-15\", \"2019-07-12\", \"2019-07-11\", \"2019-07-10\", \"2019-07-09\", \"2019-07-08\", \"2019-07-05\", \"2019-07-03\", \"2019-07-02\", \"2019-07-01\", \"2019-06-28\", \"2019-06-27\", \"2019-06-26\", \"2019-06-25\", \"2019-06-24\", \"2019-06-21\", \"2019-06-20\", \"2019-06-19\", \"2019-06-18\", \"2019-06-17\", \"2019-06-14\", \"2019-06-13\", \"2019-06-12\", \"2019-06-11\", \"2019-06-10\", \"2019-06-07\", \"2019-06-06\", \"2019-06-05\", \"2019-06-04\", \"2019-06-03\", \"2019-05-31\", \"2019-05-30\", \"2019-05-29\", \"2019-05-28\", \"2019-05-24\", \"2019-05-23\", \"2019-05-22\", \"2019-05-21\", \"2019-05-20\", \"2019-05-17\", \"2019-05-16\", \"2019-05-15\", \"2019-05-14\", \"2019-05-13\", \"2019-05-10\", \"2019-05-09\", \"2019-05-08\", \"2019-05-07\", \"2019-05-06\", \"2019-05-03\", \"2019-05-02\", \"2019-05-01\", \"2019-04-30\", \"2019-04-29\", \"2019-04-26\", \"2019-04-25\", \"2019-04-24\", \"2019-04-23\", \"2019-04-22\", \"2019-04-18\", \"2019-04-17\", \"2019-04-16\", \"2019-04-15\", \"2019-04-12\", \"2019-04-11\", \"2019-04-10\", \"2019-04-09\", \"2019-04-08\", \"2019-04-05\", \"2019-04-04\", \"2019-04-03\", \"2019-04-02\", \"2019-04-01\", \"2019-03-29\", \"2019-03-28\", \"2019-03-27\", \"2019-03-26\", \"2019-03-25\", \"2019-03-22\", \"2019-03-21\", \"2019-03-20\", \"2019-03-19\", \"2019-03-18\", \"2019-03-15\", \"2019-03-14\", \"2019-03-13\", \"2019-03-12\", \"2019-03-11\", \"2019-03-08\", \"2019-03-07\", \"2019-03-06\", \"2019-03-05\", \"2019-03-04\", \"2019-03-01\", \"2019-02-28\", \"2019-02-27\", \"2019-02-26\", \"2019-02-25\", \"2019-02-22\", \"2019-02-21\", \"2019-02-20\", \"2019-02-19\", \"2019-02-15\", \"2019-02-14\", \"2019-02-13\", \"2019-02-12\", \"2019-02-11\", \"2019-02-08\", \"2019-02-07\", \"2019-02-06\", \"2019-02-05\", \"2019-02-04\", \"2019-02-01\", \"2019-01-31\", \"2019-01-30\", \"2019-01-29\", \"2019-01-28\", \"2019-01-25\", \"2019-01-24\", \"2019-01-23\", \"2019-01-22\", \"2019-01-18\", \"2019-01-17\", \"2019-01-16\", \"2019-01-15\", \"2019-01-14\", \"2019-01-11\", \"2019-01-10\", \"2019-01-09\", \"2019-01-08\", \"2019-01-07\", \"2019-01-04\", \"2019-01-03\", \"2019-01-02\"], \"y\": [179.93, 180.1, 181.44, 177.83, 181.88, 171.87, 174.45, 171.8, 177.21, 183.16, 185.39, 182.32, 176.92, 178.3, 176.03, 177.1, 183.42, 190.03, 187.01, 183.54, 177.0, 175.05, 175.98, 173.81, 180.4, 183.49, 177.04, 178.52, 178.23, 179.18, 184.26, 176.96, 166.02, 158.23, 146.93, 149.93, 145.29, 154.59, 159.62, 158.34, 165.79, 155.13, 153.6, 134.97, 138.41, 149.49, 140.02, 158.67, 154.66, 177.17, 150.68, 171.89, 184.35, 172.81, 192.85, 198.79, 208.74, 203.43, 209.47, 200.77, 204.44, 214.47, 216.29, 223.18, 229.22, 231.32, 235.89, 231.79, 235.64, 236.9, 237.2, 235.02, 235.92, 236.55, 240.35, 242.82, 240.47, 237.56, 236.31, 242.65, 238.66, 241.11, 236.69, 240.45, 244.09, 245.55, 244.21, 247.94, 248.2, 243.72, 244.17, 243.72, 240.64, 241.13, 236.32, 234.06, 232.53, 230.17, 232.9, 228.53, 228.4, 229.26, 229.8, 228.51, 227.7, 227.54, 228.54, 229.05, 229.75, 226.65, 223.63, 224.68, 219.85, 220.53, 220.46, 223.25, 215.82, 214.63, 210.95, 216.32, 220.0, 220.35, 219.86, 220.15, 217.71, 215.69, 215.37, 217.48, 217.17, 217.69, 216.87, 216.76, 217.84, 216.48, 220.31, 220.69, 215.88, 216.09, 217.31, 214.86, 210.89, 213.3, 215.1, 215.21, 211.74, 208.59, 208.86, 207.15, 206.82, 204.11, 204.05, 205.01, 204.05, 203.43, 202.29, 197.54, 194.56, 195.07, 198.07, 198.46, 194.94, 195.94, 200.33, 204.82, 206.54, 205.79, 207.58, 205.33, 210.97, 211.25, 212.72, 214.55, 213.4, 214.69, 217.34, 216.19, 214.27, 213.12, 209.51, 204.8, 204.64, 199.38, 196.65, 201.54, 201.07, 196.85, 194.54, 196.09, 192.71, 198.81, 197.1, 196.42, 198.6, 195.87, 192.69, 192.08, 200.47, 197.93, 203.22, 203.32, 202.07, 202.34, 198.09, 205.63, 207.83, 216.21, 217.46, 216.4, 218.18, 216.06, 218.08, 215.52, 210.19, 209.72, 210.69, 209.5, 211.69, 207.81, 210.14, 207.58, 202.3, 204.06, 202.08, 204.19, 202.36, 202.31, 203.18, 200.95, 195.77, 193.5, 192.57, 193.97, 192.45, 192.21, 192.16, 191.5, 187.43, 188.24, 188.04, 186.83, 191.27, 190.66, 186.43, 186.43, 185.08, 186.5, 179.93, 179.23, 184.03, 184.7, 185.23, 188.71, 187.71, 191.18, 194.69, 192.87, 193.03, 194.72, 192.04, 191.92, 190.64, 197.56, 197.15, 196.49, 198.13, 201.85, 202.91, 200.43, 200.18, 201.35, 202.32, 198.57, 196.93, 196.08, 199.6, 200.06, 201.34, 203.29, 197.35, 195.46, 203.23, 198.32, 198.47, 196.16, 198.04, 197.88, 197.73, 196.4, 193.1, 192.37, 187.73, 186.93, 185.81, 186.45, 184.31, 184.76, 190.26, 190.0, 196.65, 197.97, 193.85, 193.07, 192.87, 192.26, 191.61, 190.9, 188.49, 190.42, 191.64, 191.62, 193.8, 192.33, 193.7, 193.7, 193.45, 190.87, 191.23, 193.4, 193.47, 193.3, 187.5, 189.6, 189.41, 186.32, 186.65, 188.02, 191.47, 192.84, 192.55, 191.39, 192.84, 197.19, 195.25, 194.5, 195.48, 192.63, 191.75, 192.51, 197.24, 193.88, 191.93, 175.22, 174.04, 172.31, 171.39, 171.86, 170.79, 171.41, 170.48, 165.07, 167.54]}, {\"line\": {\"color\": \"rgba(128, 0, 128, 1.0)\", \"dash\": \"solid\", \"shape\": \"linear\", \"width\": 1.3}, \"mode\": \"lines\", \"name\": \"JPM\", \"text\": \"\", \"type\": \"scatter\", \"x\": [\"2020-05-22\", \"2020-05-21\", \"2020-05-20\", \"2020-05-19\", \"2020-05-18\", \"2020-05-15\", \"2020-05-14\", \"2020-05-13\", \"2020-05-12\", \"2020-05-11\", \"2020-05-08\", \"2020-05-07\", \"2020-05-06\", \"2020-05-05\", \"2020-05-04\", \"2020-05-01\", \"2020-04-30\", \"2020-04-29\", \"2020-04-28\", \"2020-04-27\", \"2020-04-24\", \"2020-04-23\", \"2020-04-22\", \"2020-04-21\", \"2020-04-20\", \"2020-04-17\", \"2020-04-16\", \"2020-04-15\", \"2020-04-14\", \"2020-04-13\", \"2020-04-09\", \"2020-04-08\", \"2020-04-07\", \"2020-04-06\", \"2020-04-03\", \"2020-04-02\", \"2020-04-01\", \"2020-03-31\", \"2020-03-30\", \"2020-03-27\", \"2020-03-26\", \"2020-03-25\", \"2020-03-24\", \"2020-03-23\", \"2020-03-20\", \"2020-03-19\", \"2020-03-18\", \"2020-03-17\", \"2020-03-16\", \"2020-03-13\", \"2020-03-12\", \"2020-03-11\", \"2020-03-10\", \"2020-03-09\", \"2020-03-06\", \"2020-03-05\", \"2020-03-04\", \"2020-03-03\", \"2020-03-02\", \"2020-02-28\", \"2020-02-27\", \"2020-02-26\", \"2020-02-25\", \"2020-02-24\", \"2020-02-21\", \"2020-02-20\", \"2020-02-19\", \"2020-02-18\", \"2020-02-14\", \"2020-02-13\", \"2020-02-12\", \"2020-02-11\", \"2020-02-10\", \"2020-02-07\", \"2020-02-06\", \"2020-02-05\", \"2020-02-04\", \"2020-02-03\", \"2020-01-31\", \"2020-01-30\", \"2020-01-29\", \"2020-01-28\", \"2020-01-27\", \"2020-01-24\", \"2020-01-23\", \"2020-01-22\", \"2020-01-21\", \"2020-01-17\", \"2020-01-16\", \"2020-01-15\", \"2020-01-14\", \"2020-01-13\", \"2020-01-10\", \"2020-01-09\", \"2020-01-08\", \"2020-01-07\", \"2020-01-06\", \"2020-01-03\", \"2020-01-02\", \"2019-12-31\", \"2019-12-30\", \"2019-12-27\", \"2019-12-26\", \"2019-12-24\", \"2019-12-23\", \"2019-12-20\", \"2019-12-19\", \"2019-12-18\", \"2019-12-17\", \"2019-12-16\", \"2019-12-13\", \"2019-12-12\", \"2019-12-11\", \"2019-12-10\", \"2019-12-09\", \"2019-12-06\", \"2019-12-05\", \"2019-12-04\", \"2019-12-03\", \"2019-12-02\", \"2019-11-29\", \"2019-11-27\", \"2019-11-26\", \"2019-11-25\", \"2019-11-22\", \"2019-11-21\", \"2019-11-20\", \"2019-11-19\", \"2019-11-18\", \"2019-11-15\", \"2019-11-14\", \"2019-11-13\", \"2019-11-12\", \"2019-11-11\", \"2019-11-08\", \"2019-11-07\", \"2019-11-06\", \"2019-11-05\", \"2019-11-04\", \"2019-11-01\", \"2019-10-31\", \"2019-10-30\", \"2019-10-29\", \"2019-10-28\", \"2019-10-25\", \"2019-10-24\", \"2019-10-23\", \"2019-10-22\", \"2019-10-21\", \"2019-10-18\", \"2019-10-17\", \"2019-10-16\", \"2019-10-15\", \"2019-10-14\", \"2019-10-11\", \"2019-10-10\", \"2019-10-09\", \"2019-10-08\", \"2019-10-07\", \"2019-10-04\", \"2019-10-03\", \"2019-10-02\", \"2019-10-01\", \"2019-09-30\", \"2019-09-27\", \"2019-09-26\", \"2019-09-25\", \"2019-09-24\", \"2019-09-23\", \"2019-09-20\", \"2019-09-19\", \"2019-09-18\", \"2019-09-17\", \"2019-09-16\", \"2019-09-13\", \"2019-09-12\", \"2019-09-11\", \"2019-09-10\", \"2019-09-09\", \"2019-09-06\", \"2019-09-05\", \"2019-09-04\", \"2019-09-03\", \"2019-08-30\", \"2019-08-29\", \"2019-08-28\", \"2019-08-27\", \"2019-08-26\", \"2019-08-23\", \"2019-08-22\", \"2019-08-21\", \"2019-08-20\", \"2019-08-19\", \"2019-08-16\", \"2019-08-15\", \"2019-08-14\", \"2019-08-13\", \"2019-08-12\", \"2019-08-09\", \"2019-08-08\", \"2019-08-07\", \"2019-08-06\", \"2019-08-05\", \"2019-08-02\", \"2019-08-01\", \"2019-07-31\", \"2019-07-30\", \"2019-07-29\", \"2019-07-26\", \"2019-07-25\", \"2019-07-24\", \"2019-07-23\", \"2019-07-22\", \"2019-07-19\", \"2019-07-18\", \"2019-07-17\", \"2019-07-16\", \"2019-07-15\", \"2019-07-12\", \"2019-07-11\", \"2019-07-10\", \"2019-07-09\", \"2019-07-08\", \"2019-07-05\", \"2019-07-03\", \"2019-07-02\", \"2019-07-01\", \"2019-06-28\", \"2019-06-27\", \"2019-06-26\", \"2019-06-25\", \"2019-06-24\", \"2019-06-21\", \"2019-06-20\", \"2019-06-19\", \"2019-06-18\", \"2019-06-17\", \"2019-06-14\", \"2019-06-13\", \"2019-06-12\", \"2019-06-11\", \"2019-06-10\", \"2019-06-07\", \"2019-06-06\", \"2019-06-05\", \"2019-06-04\", \"2019-06-03\", \"2019-05-31\", \"2019-05-30\", \"2019-05-29\", \"2019-05-28\", \"2019-05-24\", \"2019-05-23\", \"2019-05-22\", \"2019-05-21\", \"2019-05-20\", \"2019-05-17\", \"2019-05-16\", \"2019-05-15\", \"2019-05-14\", \"2019-05-13\", \"2019-05-10\", \"2019-05-09\", \"2019-05-08\", \"2019-05-07\", \"2019-05-06\", \"2019-05-03\", \"2019-05-02\", \"2019-05-01\", \"2019-04-30\", \"2019-04-29\", \"2019-04-26\", \"2019-04-25\", \"2019-04-24\", \"2019-04-23\", \"2019-04-22\", \"2019-04-18\", \"2019-04-17\", \"2019-04-16\", \"2019-04-15\", \"2019-04-12\", \"2019-04-11\", \"2019-04-10\", \"2019-04-09\", \"2019-04-08\", \"2019-04-05\", \"2019-04-04\", \"2019-04-03\", \"2019-04-02\", \"2019-04-01\", \"2019-03-29\", \"2019-03-28\", \"2019-03-27\", \"2019-03-26\", \"2019-03-25\", \"2019-03-22\", \"2019-03-21\", \"2019-03-20\", \"2019-03-19\", \"2019-03-18\", \"2019-03-15\", \"2019-03-14\", \"2019-03-13\", \"2019-03-12\", \"2019-03-11\", \"2019-03-08\", \"2019-03-07\", \"2019-03-06\", \"2019-03-05\", \"2019-03-04\", \"2019-03-01\", \"2019-02-28\", \"2019-02-27\", \"2019-02-26\", \"2019-02-25\", \"2019-02-22\", \"2019-02-21\", \"2019-02-20\", \"2019-02-19\", \"2019-02-15\", \"2019-02-14\", \"2019-02-13\", \"2019-02-12\", \"2019-02-11\", \"2019-02-08\", \"2019-02-07\", \"2019-02-06\", \"2019-02-05\", \"2019-02-04\", \"2019-02-01\", \"2019-01-31\", \"2019-01-30\", \"2019-01-29\", \"2019-01-28\", \"2019-01-25\", \"2019-01-24\", \"2019-01-23\", \"2019-01-22\", \"2019-01-18\", \"2019-01-17\", \"2019-01-16\", \"2019-01-15\", \"2019-01-14\", \"2019-01-11\", \"2019-01-10\", \"2019-01-09\", \"2019-01-08\", \"2019-01-07\", \"2019-01-04\", \"2019-01-03\", \"2019-01-02\"], \"y\": [89.47, 90.17, 91.33, 88.67, 90.45, 85.9, 87.52, 84.03, 87.03, 89.97, 92.7, 91.21, 90.27, 92.0, 92.14, 93.25, 95.76, 97.86, 95.29, 94.62, 90.71, 89.39, 89.34, 89.05, 91.71, 95.18, 87.33, 90.79, 95.5, 98.19, 102.76, 94.3, 90.64, 89.46, 84.05, 86.61, 83.492, 89.104, 92.538, 90.193, 97.111, 90.787, 87.521, 78.217, 82.641, 84.42299999999999, 83.027, 92.796, 87.45100000000001, 102.84, 87.14399999999999, 94.973, 99.66, 92.479, 106.97, 112.8, 118.62, 115.76, 120.27, 114.92, 120.12, 125.34, 124.96, 130.8, 134.41, 136.08, 136.08, 134.25, 136.05, 136.46, 136.58, 136.58, 136.32, 135.76, 136.19, 136.17, 133.9, 132.0, 131.0, 134.49, 132.85, 133.05, 130.67, 131.78, 135.14, 135.27, 135.43, 136.78, 135.84, 135.31, 137.37, 135.79, 134.67, 136.03, 135.53, 134.48, 136.81, 136.92, 138.75, 137.09, 136.33, 136.83, 136.73, 135.29, 134.92, 134.96, 135.07, 135.75, 135.89, 135.06, 134.54, 135.73, 131.95, 132.27, 132.18, 132.8, 130.85, 130.15, 127.62, 129.29, 129.57, 129.87, 129.48, 129.31, 128.62, 127.77, 127.48, 128.42, 128.46, 127.38, 126.47, 126.35, 127.02, 127.76, 128.22, 127.84, 127.16, 126.96, 126.68, 125.67, 122.84, 123.65, 124.33, 124.41, 123.94, 122.95, 123.04, 122.71, 121.5, 118.56, 118.35, 117.7, 117.96, 114.52, 114.21, 112.31, 110.76, 109.97, 112.47, 112.72, 110.32, 110.48, 112.73, 114.82, 114.85, 114.17, 115.11, 114.47, 115.98, 116.0, 116.46, 116.84, 115.68, 116.25, 117.29, 115.02, 114.33, 114.02, 112.58, 109.87, 109.63, 107.19, 105.91, 107.18, 106.55, 104.19, 103.16, 104.26, 103.44, 106.07, 104.98, 104.69, 106.04, 105.09, 102.62, 102.25, 106.67, 105.12, 107.07, 107.18, 105.39, 107.73, 106.9, 110.18, 110.19, 113.17, 112.77, 113.03, 113.38, 112.89, 113.98, 113.52, 111.48, 110.77, 111.87, 111.2, 112.31, 111.12, 112.48, 111.31, 110.25, 110.58, 110.12, 110.72, 110.07, 110.23, 110.13, 108.3, 105.43, 105.09, 104.39, 105.27, 106.02, 106.75, 106.47, 107.25, 105.8, 106.38, 106.12, 105.85, 107.22, 106.89, 105.74, 106.92, 106.69, 106.31, 103.13, 102.64, 103.72, 104.84, 105.13, 106.28, 105.25, 107.35, 108.24, 107.87, 107.3, 107.83, 106.46, 106.87, 106.03, 108.99, 109.0, 109.09, 109.67, 111.49, 112.48, 111.8, 111.56, 112.41, 112.48, 110.9, 110.06, 110.0, 110.19, 110.05, 109.91, 110.73, 107.62, 106.5, 107.73, 102.9, 102.05, 101.58, 102.36, 102.02, 102.27, 101.28, 101.08, 100.6, 97.315, 96.824, 95.73299999999999, 96.061, 95.109, 95.906, 98.89200000000001, 100.49, 102.66, 103.05, 102.45, 101.28, 100.36, 100.02, 100.32, 99.031, 98.991, 99.71, 100.08, 100.16, 100.4, 100.33, 101.1, 101.23, 102.0, 100.95, 101.39, 101.6, 101.12, 101.47, 98.46799999999999, 99.11, 98.635, 96.979, 97.441, 98.429, 99.73, 99.78, 100.22, 99.87, 99.49600000000001, 100.38, 100.14, 99.87, 99.397, 98.774, 98.714, 98.962, 100.56, 98.94200000000001, 98.536, 97.75399999999999, 97.039, 96.051, 96.515, 96.525, 96.68799999999999, 96.863, 96.805, 93.36, 94.706]}, {\"line\": {\"color\": \"rgba(219, 64, 82, 1.0)\", \"dash\": \"solid\", \"shape\": \"linear\", \"width\": 1.3}, \"mode\": \"lines\", \"name\": \"MS\", \"text\": \"\", \"type\": \"scatter\", \"x\": [\"2020-05-22\", \"2020-05-21\", \"2020-05-20\", \"2020-05-19\", \"2020-05-18\", \"2020-05-15\", \"2020-05-14\", \"2020-05-13\", \"2020-05-12\", \"2020-05-11\", \"2020-05-08\", \"2020-05-07\", \"2020-05-06\", \"2020-05-05\", \"2020-05-04\", \"2020-05-01\", \"2020-04-30\", \"2020-04-29\", \"2020-04-28\", \"2020-04-27\", \"2020-04-24\", \"2020-04-23\", \"2020-04-22\", \"2020-04-21\", \"2020-04-20\", \"2020-04-17\", \"2020-04-16\", \"2020-04-15\", \"2020-04-14\", \"2020-04-13\", \"2020-04-09\", \"2020-04-08\", \"2020-04-07\", \"2020-04-06\", \"2020-04-03\", \"2020-04-02\", \"2020-04-01\", \"2020-03-31\", \"2020-03-30\", \"2020-03-27\", \"2020-03-26\", \"2020-03-25\", \"2020-03-24\", \"2020-03-23\", \"2020-03-20\", \"2020-03-19\", \"2020-03-18\", \"2020-03-17\", \"2020-03-16\", \"2020-03-13\", \"2020-03-12\", \"2020-03-11\", \"2020-03-10\", \"2020-03-09\", \"2020-03-06\", \"2020-03-05\", \"2020-03-04\", \"2020-03-03\", \"2020-03-02\", \"2020-02-28\", \"2020-02-27\", \"2020-02-26\", \"2020-02-25\", \"2020-02-24\", \"2020-02-21\", \"2020-02-20\", \"2020-02-19\", \"2020-02-18\", \"2020-02-14\", \"2020-02-13\", \"2020-02-12\", \"2020-02-11\", \"2020-02-10\", \"2020-02-07\", \"2020-02-06\", \"2020-02-05\", \"2020-02-04\", \"2020-02-03\", \"2020-01-31\", \"2020-01-30\", \"2020-01-29\", \"2020-01-28\", \"2020-01-27\", \"2020-01-24\", \"2020-01-23\", \"2020-01-22\", \"2020-01-21\", \"2020-01-17\", \"2020-01-16\", \"2020-01-15\", \"2020-01-14\", \"2020-01-13\", \"2020-01-10\", \"2020-01-09\", \"2020-01-08\", \"2020-01-07\", \"2020-01-06\", \"2020-01-03\", \"2020-01-02\", \"2019-12-31\", \"2019-12-30\", \"2019-12-27\", \"2019-12-26\", \"2019-12-24\", \"2019-12-23\", \"2019-12-20\", \"2019-12-19\", \"2019-12-18\", \"2019-12-17\", \"2019-12-16\", \"2019-12-13\", \"2019-12-12\", \"2019-12-11\", \"2019-12-10\", \"2019-12-09\", \"2019-12-06\", \"2019-12-05\", \"2019-12-04\", \"2019-12-03\", \"2019-12-02\", \"2019-11-29\", \"2019-11-27\", \"2019-11-26\", \"2019-11-25\", \"2019-11-22\", \"2019-11-21\", \"2019-11-20\", \"2019-11-19\", \"2019-11-18\", \"2019-11-15\", \"2019-11-14\", \"2019-11-13\", \"2019-11-12\", \"2019-11-11\", \"2019-11-08\", \"2019-11-07\", \"2019-11-06\", \"2019-11-05\", \"2019-11-04\", \"2019-11-01\", \"2019-10-31\", \"2019-10-30\", \"2019-10-29\", \"2019-10-28\", \"2019-10-25\", \"2019-10-24\", \"2019-10-23\", \"2019-10-22\", \"2019-10-21\", \"2019-10-18\", \"2019-10-17\", \"2019-10-16\", \"2019-10-15\", \"2019-10-14\", \"2019-10-11\", \"2019-10-10\", \"2019-10-09\", \"2019-10-08\", \"2019-10-07\", \"2019-10-04\", \"2019-10-03\", \"2019-10-02\", \"2019-10-01\", \"2019-09-30\", \"2019-09-27\", \"2019-09-26\", \"2019-09-25\", \"2019-09-24\", \"2019-09-23\", \"2019-09-20\", \"2019-09-19\", \"2019-09-18\", \"2019-09-17\", \"2019-09-16\", \"2019-09-13\", \"2019-09-12\", \"2019-09-11\", \"2019-09-10\", \"2019-09-09\", \"2019-09-06\", \"2019-09-05\", \"2019-09-04\", \"2019-09-03\", \"2019-08-30\", \"2019-08-29\", \"2019-08-28\", \"2019-08-27\", \"2019-08-26\", \"2019-08-23\", \"2019-08-22\", \"2019-08-21\", \"2019-08-20\", \"2019-08-19\", \"2019-08-16\", \"2019-08-15\", \"2019-08-14\", \"2019-08-13\", \"2019-08-12\", \"2019-08-09\", \"2019-08-08\", \"2019-08-07\", \"2019-08-06\", \"2019-08-05\", \"2019-08-02\", \"2019-08-01\", \"2019-07-31\", \"2019-07-30\", \"2019-07-29\", \"2019-07-26\", \"2019-07-25\", \"2019-07-24\", \"2019-07-23\", \"2019-07-22\", \"2019-07-19\", \"2019-07-18\", \"2019-07-17\", \"2019-07-16\", \"2019-07-15\", \"2019-07-12\", \"2019-07-11\", \"2019-07-10\", \"2019-07-09\", \"2019-07-08\", \"2019-07-05\", \"2019-07-03\", \"2019-07-02\", \"2019-07-01\", \"2019-06-28\", \"2019-06-27\", \"2019-06-26\", \"2019-06-25\", \"2019-06-24\", \"2019-06-21\", \"2019-06-20\", \"2019-06-19\", \"2019-06-18\", \"2019-06-17\", \"2019-06-14\", \"2019-06-13\", \"2019-06-12\", \"2019-06-11\", \"2019-06-10\", \"2019-06-07\", \"2019-06-06\", \"2019-06-05\", \"2019-06-04\", \"2019-06-03\", \"2019-05-31\", \"2019-05-30\", \"2019-05-29\", \"2019-05-28\", \"2019-05-24\", \"2019-05-23\", \"2019-05-22\", \"2019-05-21\", \"2019-05-20\", \"2019-05-17\", \"2019-05-16\", \"2019-05-15\", \"2019-05-14\", \"2019-05-13\", \"2019-05-10\", \"2019-05-09\", \"2019-05-08\", \"2019-05-07\", \"2019-05-06\", \"2019-05-03\", \"2019-05-02\", \"2019-05-01\", \"2019-04-30\", \"2019-04-29\", \"2019-04-26\", \"2019-04-25\", \"2019-04-24\", \"2019-04-23\", \"2019-04-22\", \"2019-04-18\", \"2019-04-17\", \"2019-04-16\", \"2019-04-15\", \"2019-04-12\", \"2019-04-11\", \"2019-04-10\", \"2019-04-09\", \"2019-04-08\", \"2019-04-05\", \"2019-04-04\", \"2019-04-03\", \"2019-04-02\", \"2019-04-01\", \"2019-03-29\", \"2019-03-28\", \"2019-03-27\", \"2019-03-26\", \"2019-03-25\", \"2019-03-22\", \"2019-03-21\", \"2019-03-20\", \"2019-03-19\", \"2019-03-18\", \"2019-03-15\", \"2019-03-14\", \"2019-03-13\", \"2019-03-12\", \"2019-03-11\", \"2019-03-08\", \"2019-03-07\", \"2019-03-06\", \"2019-03-05\", \"2019-03-04\", \"2019-03-01\", \"2019-02-28\", \"2019-02-27\", \"2019-02-26\", \"2019-02-25\", \"2019-02-22\", \"2019-02-21\", \"2019-02-20\", \"2019-02-19\", \"2019-02-15\", \"2019-02-14\", \"2019-02-13\", \"2019-02-12\", \"2019-02-11\", \"2019-02-08\", \"2019-02-07\", \"2019-02-06\", \"2019-02-05\", \"2019-02-04\", \"2019-02-01\", \"2019-01-31\", \"2019-01-30\", \"2019-01-29\", \"2019-01-28\", \"2019-01-25\", \"2019-01-24\", \"2019-01-23\", \"2019-01-22\", \"2019-01-18\", \"2019-01-17\", \"2019-01-16\", \"2019-01-15\", \"2019-01-14\", \"2019-01-11\", \"2019-01-10\", \"2019-01-09\", \"2019-01-08\", \"2019-01-07\", \"2019-01-04\", \"2019-01-03\", \"2019-01-02\"], \"y\": [40.13, 40.3, 41.06, 39.33, 40.28, 37.29, 37.81, 36.99, 38.42, 39.83, 40.08, 38.81, 37.3, 37.98, 38.09, 38.4, 39.43, 40.79, 39.78, 38.967, 37.639, 37.143, 37.48, 36.628, 38.025, 38.749, 38.025, 38.065, 39.512, 39.235, 40.722, 39.027, 36.618, 36.687, 33.555, 33.604, 31.344, 33.703, 34.536, 33.713, 35.399, 33.694, 32.93, 27.566999999999997, 29.410999999999998, 30.65, 30.482, 33.495, 31.374000000000002, 37.173, 31.037, 36.548, 39.155, 37.173, 41.475, 42.218999999999994, 44.845, 44.013000000000005, 46.075, 44.637, 45.013999999999996, 46.828, 47.611000000000004, 49.247, 51.963, 53.281000000000006, 55.818999999999996, 55.036, 55.353, 55.442, 55.69, 55.294, 54.867, 54.55, 54.53, 54.51, 53.549, 52.141000000000005, 51.803999999999995, 53.351000000000006, 52.865, 53.2, 52.303999999999995, 53.721000000000004, 54.687, 55.012, 55.07, 56.637, 55.583, 52.136, 52.056999999999995, 51.979, 51.418, 51.27, 50.787, 50.147, 50.245, 50.422, 51.25, 50.343999999999994, 50.18600000000001, 50.31399999999999, 50.333999999999996, 49.92, 49.95, 49.92, 50.086999999999996, 49.891000000000005, 50.126999999999995, 49.95, 49.477, 49.92, 48.7, 48.916000000000004, 48.847, 49.043, 48.325, 48.099, 47.379, 48.335, 48.728, 49.023999999999994, 48.66, 49.201, 48.501999999999995, 48.099, 48.355, 48.581, 48.285, 48.247, 47.872, 47.655, 48.265, 48.345, 48.403999999999996, 47.92100000000001, 47.821999999999996, 48.01, 48.089, 46.611000000000004, 45.351000000000006, 45.556999999999995, 45.773999999999994, 45.784, 45.324, 44.728, 44.875, 44.357, 43.966, 42.676, 42.46, 41.825, 41.571000000000005, 41.298, 40.985, 40.124, 39.528, 38.922, 39.763000000000005, 39.86, 39.343, 39.323, 40.446999999999996, 41.708, 41.875, 41.658, 42.068999999999996, 41.581, 42.577, 42.685, 43.027, 43.36, 43.214, 43.74100000000001, 44.141999999999996, 43.321000000000005, 42.95, 42.597, 42.138000000000005, 41.229, 41.513000000000005, 40.594, 40.066, 40.555, 40.359, 39.47, 38.894, 39.255, 38.443000000000005, 39.361999999999995, 39.04, 39.001, 39.46, 39.04, 38.219, 38.443000000000005, 39.773, 39.45, 40.564, 40.34, 39.646, 40.291, 39.577, 41.17, 41.961999999999996, 43.556000000000004, 43.663000000000004, 43.869, 44.363, 43.519, 44.131, 43.742, 43.16, 43.053999999999995, 43.093, 42.451, 43.093, 43.093, 43.519, 42.849, 42.006, 42.461000000000006, 42.18, 42.879, 42.667, 42.511, 42.626999999999995, 42.49100000000001, 42.18, 41.695, 41.376000000000005, 41.773, 42.268, 42.152, 41.841, 42.036, 41.23, 41.531000000000006, 41.656000000000006, 41.336000000000006, 42.355, 41.986999999999995, 41.415, 41.522, 41.153, 41.201, 39.503, 39.465, 40.57, 40.92, 40.9, 41.666000000000004, 41.425, 42.18, 43.053999999999995, 42.55, 42.559, 42.946999999999996, 42.577, 42.684, 42.849, 44.943999999999996, 45.053000000000004, 45.129, 45.303999999999995, 46.273999999999994, 46.613, 46.37, 46.138000000000005, 46.797, 47.001000000000005, 46.157, 45.578, 45.666000000000004, 45.636, 45.578, 45.83, 46.513999999999996, 45.317, 44.412, 45.001000000000005, 43.178999999999995, 42.841, 42.66, 43.353, 43.275, 43.303999999999995, 42.775, 42.118, 41.95399999999999, 40.673, 40.412, 39.873000000000005, 40.365, 39.758, 40.211, 41.568999999999996, 41.472, 42.36, 42.437, 41.763999999999996, 41.146, 40.874, 40.51, 40.336, 39.863, 39.68, 40.113, 40.385, 40.48, 40.963, 40.461, 41.019, 40.874, 40.664, 40.278, 40.441, 40.884, 40.634, 40.471, 39.247, 39.699, 39.661, 38.755, 39.333, 39.978, 40.848, 40.914, 40.923, 40.306, 40.769, 41.242, 40.664, 40.817, 41.133, 40.242, 40.338, 40.586999999999996, 41.81100000000001, 40.702, 42.576, 41.036, 40.654, 39.946, 39.869, 39.946, 39.668, 39.919000000000004, 39.524, 37.975, 38.664]}, {\"line\": {\"color\": \"rgba(0, 128, 128, 1.0)\", \"dash\": \"solid\", \"shape\": \"linear\", \"width\": 1.3}, \"mode\": \"lines\", \"name\": \"WFC\", \"text\": \"\", \"type\": \"scatter\", \"x\": [\"2020-05-22\", \"2020-05-21\", \"2020-05-20\", \"2020-05-19\", \"2020-05-18\", \"2020-05-15\", \"2020-05-14\", \"2020-05-13\", \"2020-05-12\", \"2020-05-11\", \"2020-05-08\", \"2020-05-07\", \"2020-05-06\", \"2020-05-05\", \"2020-05-04\", \"2020-05-01\", \"2020-04-30\", \"2020-04-29\", \"2020-04-28\", \"2020-04-27\", \"2020-04-24\", \"2020-04-23\", \"2020-04-22\", \"2020-04-21\", \"2020-04-20\", \"2020-04-17\", \"2020-04-16\", \"2020-04-15\", \"2020-04-14\", \"2020-04-13\", \"2020-04-09\", \"2020-04-08\", \"2020-04-07\", \"2020-04-06\", \"2020-04-03\", \"2020-04-02\", \"2020-04-01\", \"2020-03-31\", \"2020-03-30\", \"2020-03-27\", \"2020-03-26\", \"2020-03-25\", \"2020-03-24\", \"2020-03-23\", \"2020-03-20\", \"2020-03-19\", \"2020-03-18\", \"2020-03-17\", \"2020-03-16\", \"2020-03-13\", \"2020-03-12\", \"2020-03-11\", \"2020-03-10\", \"2020-03-09\", \"2020-03-06\", \"2020-03-05\", \"2020-03-04\", \"2020-03-03\", \"2020-03-02\", \"2020-02-28\", \"2020-02-27\", \"2020-02-26\", \"2020-02-25\", \"2020-02-24\", \"2020-02-21\", \"2020-02-20\", \"2020-02-19\", \"2020-02-18\", \"2020-02-14\", \"2020-02-13\", \"2020-02-12\", \"2020-02-11\", \"2020-02-10\", \"2020-02-07\", \"2020-02-06\", \"2020-02-05\", \"2020-02-04\", \"2020-02-03\", \"2020-01-31\", \"2020-01-30\", \"2020-01-29\", \"2020-01-28\", \"2020-01-27\", \"2020-01-24\", \"2020-01-23\", \"2020-01-22\", \"2020-01-21\", \"2020-01-17\", \"2020-01-16\", \"2020-01-15\", \"2020-01-14\", \"2020-01-13\", \"2020-01-10\", \"2020-01-09\", \"2020-01-08\", \"2020-01-07\", \"2020-01-06\", \"2020-01-03\", \"2020-01-02\", \"2019-12-31\", \"2019-12-30\", \"2019-12-27\", \"2019-12-26\", \"2019-12-24\", \"2019-12-23\", \"2019-12-20\", \"2019-12-19\", \"2019-12-18\", \"2019-12-17\", \"2019-12-16\", \"2019-12-13\", \"2019-12-12\", \"2019-12-11\", \"2019-12-10\", \"2019-12-09\", \"2019-12-06\", \"2019-12-05\", \"2019-12-04\", \"2019-12-03\", \"2019-12-02\", \"2019-11-29\", \"2019-11-27\", \"2019-11-26\", \"2019-11-25\", \"2019-11-22\", \"2019-11-21\", \"2019-11-20\", \"2019-11-19\", \"2019-11-18\", \"2019-11-15\", \"2019-11-14\", \"2019-11-13\", \"2019-11-12\", \"2019-11-11\", \"2019-11-08\", \"2019-11-07\", \"2019-11-06\", \"2019-11-05\", \"2019-11-04\", \"2019-11-01\", \"2019-10-31\", \"2019-10-30\", \"2019-10-29\", \"2019-10-28\", \"2019-10-25\", \"2019-10-24\", \"2019-10-23\", \"2019-10-22\", \"2019-10-21\", \"2019-10-18\", \"2019-10-17\", \"2019-10-16\", \"2019-10-15\", \"2019-10-14\", \"2019-10-11\", \"2019-10-10\", \"2019-10-09\", \"2019-10-08\", \"2019-10-07\", \"2019-10-04\", \"2019-10-03\", \"2019-10-02\", \"2019-10-01\", \"2019-09-30\", \"2019-09-27\", \"2019-09-26\", \"2019-09-25\", \"2019-09-24\", \"2019-09-23\", \"2019-09-20\", \"2019-09-19\", \"2019-09-18\", \"2019-09-17\", \"2019-09-16\", \"2019-09-13\", \"2019-09-12\", \"2019-09-11\", \"2019-09-10\", \"2019-09-09\", \"2019-09-06\", \"2019-09-05\", \"2019-09-04\", \"2019-09-03\", \"2019-08-30\", \"2019-08-29\", \"2019-08-28\", \"2019-08-27\", \"2019-08-26\", \"2019-08-23\", \"2019-08-22\", \"2019-08-21\", \"2019-08-20\", \"2019-08-19\", \"2019-08-16\", \"2019-08-15\", \"2019-08-14\", \"2019-08-13\", \"2019-08-12\", \"2019-08-09\", \"2019-08-08\", \"2019-08-07\", \"2019-08-06\", \"2019-08-05\", \"2019-08-02\", \"2019-08-01\", \"2019-07-31\", \"2019-07-30\", \"2019-07-29\", \"2019-07-26\", \"2019-07-25\", \"2019-07-24\", \"2019-07-23\", \"2019-07-22\", \"2019-07-19\", \"2019-07-18\", \"2019-07-17\", \"2019-07-16\", \"2019-07-15\", \"2019-07-12\", \"2019-07-11\", \"2019-07-10\", \"2019-07-09\", \"2019-07-08\", \"2019-07-05\", \"2019-07-03\", \"2019-07-02\", \"2019-07-01\", \"2019-06-28\", \"2019-06-27\", \"2019-06-26\", \"2019-06-25\", \"2019-06-24\", \"2019-06-21\", \"2019-06-20\", \"2019-06-19\", \"2019-06-18\", \"2019-06-17\", \"2019-06-14\", \"2019-06-13\", \"2019-06-12\", \"2019-06-11\", \"2019-06-10\", \"2019-06-07\", \"2019-06-06\", \"2019-06-05\", \"2019-06-04\", \"2019-06-03\", \"2019-05-31\", \"2019-05-30\", \"2019-05-29\", \"2019-05-28\", \"2019-05-24\", \"2019-05-23\", \"2019-05-22\", \"2019-05-21\", \"2019-05-20\", \"2019-05-17\", \"2019-05-16\", \"2019-05-15\", \"2019-05-14\", \"2019-05-13\", \"2019-05-10\", \"2019-05-09\", \"2019-05-08\", \"2019-05-07\", \"2019-05-06\", \"2019-05-03\", \"2019-05-02\", \"2019-05-01\", \"2019-04-30\", \"2019-04-29\", \"2019-04-26\", \"2019-04-25\", \"2019-04-24\", \"2019-04-23\", \"2019-04-22\", \"2019-04-18\", \"2019-04-17\", \"2019-04-16\", \"2019-04-15\", \"2019-04-12\", \"2019-04-11\", \"2019-04-10\", \"2019-04-09\", \"2019-04-08\", \"2019-04-05\", \"2019-04-04\", \"2019-04-03\", \"2019-04-02\", \"2019-04-01\", \"2019-03-29\", \"2019-03-28\", \"2019-03-27\", \"2019-03-26\", \"2019-03-25\", \"2019-03-22\", \"2019-03-21\", \"2019-03-20\", \"2019-03-19\", \"2019-03-18\", \"2019-03-15\", \"2019-03-14\", \"2019-03-13\", \"2019-03-12\", \"2019-03-11\", \"2019-03-08\", \"2019-03-07\", \"2019-03-06\", \"2019-03-05\", \"2019-03-04\", \"2019-03-01\", \"2019-02-28\", \"2019-02-27\", \"2019-02-26\", \"2019-02-25\", \"2019-02-22\", \"2019-02-21\", \"2019-02-20\", \"2019-02-19\", \"2019-02-15\", \"2019-02-14\", \"2019-02-13\", \"2019-02-12\", \"2019-02-11\", \"2019-02-08\", \"2019-02-07\", \"2019-02-06\", \"2019-02-05\", \"2019-02-04\", \"2019-02-01\", \"2019-01-31\", \"2019-01-30\", \"2019-01-29\", \"2019-01-28\", \"2019-01-25\", \"2019-01-24\", \"2019-01-23\", \"2019-01-22\", \"2019-01-18\", \"2019-01-17\", \"2019-01-16\", \"2019-01-15\", \"2019-01-14\", \"2019-01-11\", \"2019-01-10\", \"2019-01-09\", \"2019-01-08\", \"2019-01-07\", \"2019-01-04\", \"2019-01-03\", \"2019-01-02\"], \"y\": [24.17, 24.46, 24.52, 23.95, 25.41, 23.36, 24.06, 22.53, 24.04, 24.78, 25.43, 25.23, 25.1, 25.796, 26.805, 27.041, 28.471, 29.403000000000002, 28.295, 27.844, 26.384, 26.002, 26.266, 26.305999999999997, 27.129, 27.815, 26.355, 27.874000000000002, 29.579, 30.804000000000002, 32.539, 29.677, 28.197, 28.06, 25.708000000000002, 26.678, 26.041, 28.128, 29.324, 29.677, 30.285, 28.393, 28.344, 24.747, 25.971999999999998, 27.726999999999997, 27.56, 29.04, 25.971999999999998, 30.275, 26.658, 31.686, 34.381, 31.833000000000002, 36.351, 38.125, 40.576, 39.723, 41.418, 40.037, 41.623999999999995, 43.261, 44.221000000000004, 45.466, 46.75, 46.397, 46.152, 46.053999999999995, 47.26, 47.162, 46.838, 47.034, 46.818999999999996, 46.887, 47.025, 46.848, 45.83, 45.695, 45.519, 46.46, 45.84, 45.937, 45.675, 46.131, 46.761, 47.09, 47.458999999999996, 47.692, 47.76, 46.858000000000004, 47.809, 50.533, 50.912, 51.13399999999999, 51.221000000000004, 51.066, 51.493, 51.803000000000004, 52.123999999999995, 52.172, 51.978, 52.288999999999994, 52.511, 52.192, 52.181999999999995, 51.716, 52.007, 52.04600000000001, 52.695, 52.58, 52.162, 52.715, 51.56100000000001, 52.065, 52.288999999999994, 52.725, 51.619, 51.629, 50.989, 51.997, 52.812, 52.695, 52.181999999999995, 52.57, 52.637, 51.94, 51.92, 52.395, 52.36600000000001, 52.172, 51.871, 51.677, 52.58, 52.413999999999994, 52.463, 52.36600000000001, 51.677, 51.198, 50.64, 50.121, 49.593, 49.978, 50.111000000000004, 49.611999999999995, 49.536, 49.085, 48.92, 48.623000000000005, 48.468999999999994, 47.998000000000005, 47.653, 47.633, 48.133, 47.326, 47.269, 46.73, 46.251000000000005, 45.934, 46.88399999999999, 47.269, 46.567, 46.558, 47.123999999999995, 48.451, 48.708999999999996, 46.942, 47.317, 46.73, 47.028, 46.711000000000006, 46.98, 46.998999999999995, 46.836000000000006, 47.048, 46.989, 46.73, 46.923, 46.403999999999996, 46.5, 45.29, 45.742, 44.665, 44.271, 44.733000000000004, 44.368, 43.677, 42.985, 43.206, 42.668, 43.821000000000005, 43.224, 42.917, 43.465, 42.638999999999996, 41.668, 42.235, 44.146, 43.637, 44.473, 44.568999999999996, 43.513000000000005, 44.577, 43.826, 45.06, 44.7, 45.982, 46.115, 45.858999999999995, 46.828, 45.678999999999995, 46.021, 44.833999999999996, 44.148999999999994, 43.723, 43.522, 42.943000000000005, 43.028999999999996, 44.368, 44.985, 44.776, 44.785, 45.431999999999995, 45.147, 45.373999999999995, 45.269, 44.861000000000004, 45.299, 44.946999999999996, 43.968999999999994, 43.503, 43.826, 43.95, 44.538000000000004, 43.56, 43.361000000000004, 43.788000000000004, 43.0, 43.303999999999995, 43.019, 42.658, 43.94, 43.95, 43.341, 43.618, 43.56, 43.388999999999996, 42.288000000000004, 42.145, 42.791000000000004, 43.2, 43.303999999999995, 43.855, 43.276, 43.788000000000004, 44.007, 43.17100000000001, 43.408, 43.598, 43.541000000000004, 44.158, 44.007, 44.785, 44.397, 44.217, 44.375, 45.56, 45.768, 45.43899999999999, 45.372, 45.543, 45.411, 45.119, 44.695, 44.666000000000004, 44.545, 44.461000000000006, 44.761, 44.733999999999995, 44.828, 43.998999999999995, 43.735, 44.912, 44.958999999999996, 45.288000000000004, 45.983999999999995, 45.89, 46.256, 45.965, 45.352, 45.919, 45.456, 46.181999999999995, 45.881, 46.107, 45.233000000000004, 45.446999999999996, 46.906000000000006, 47.413999999999994, 48.364, 48.666000000000004, 47.659, 47.368, 46.964, 46.71, 46.812, 46.85, 46.736000000000004, 46.869, 46.934, 47.141000000000005, 47.067, 46.934, 46.943999999999996, 46.652, 46.718, 46.11600000000001, 46.623999999999995, 46.86, 46.455, 46.303999999999995, 45.646, 46.11600000000001, 46.144, 44.828, 44.828, 45.233000000000004, 46.303999999999995, 46.351000000000006, 46.153999999999996, 46.013000000000005, 46.013000000000005, 46.7, 46.475, 46.446999999999996, 46.736000000000004, 46.597, 46.727, 46.483999999999995, 46.625, 45.897, 45.626999999999995, 44.443000000000005, 45.143, 44.63, 44.516999999999996, 44.565, 44.321999999999996, 44.415, 44.70399999999999, 43.418, 43.763000000000005]}],\n",
       "                        {\"legend\": {\"bgcolor\": \"#F5F6F9\", \"font\": {\"color\": \"#4D5663\"}}, \"paper_bgcolor\": \"#F5F6F9\", \"plot_bgcolor\": \"#F5F6F9\", \"template\": {\"data\": {\"bar\": [{\"error_x\": {\"color\": \"#2a3f5f\"}, \"error_y\": {\"color\": \"#2a3f5f\"}, \"marker\": {\"line\": {\"color\": \"#E5ECF6\", \"width\": 0.5}}, \"type\": \"bar\"}], \"barpolar\": [{\"marker\": {\"line\": {\"color\": \"#E5ECF6\", \"width\": 0.5}}, \"type\": \"barpolar\"}], \"carpet\": [{\"aaxis\": {\"endlinecolor\": \"#2a3f5f\", \"gridcolor\": \"white\", \"linecolor\": \"white\", \"minorgridcolor\": \"white\", \"startlinecolor\": \"#2a3f5f\"}, \"baxis\": {\"endlinecolor\": \"#2a3f5f\", \"gridcolor\": \"white\", \"linecolor\": \"white\", \"minorgridcolor\": \"white\", \"startlinecolor\": \"#2a3f5f\"}, \"type\": \"carpet\"}], \"choropleth\": [{\"colorbar\": {\"outlinewidth\": 0, \"ticks\": \"\"}, \"type\": \"choropleth\"}], \"contour\": [{\"colorbar\": {\"outlinewidth\": 0, \"ticks\": \"\"}, \"colorscale\": [[0.0, \"#0d0887\"], [0.1111111111111111, \"#46039f\"], [0.2222222222222222, \"#7201a8\"], [0.3333333333333333, \"#9c179e\"], [0.4444444444444444, \"#bd3786\"], [0.5555555555555556, \"#d8576b\"], [0.6666666666666666, \"#ed7953\"], [0.7777777777777778, \"#fb9f3a\"], [0.8888888888888888, \"#fdca26\"], [1.0, \"#f0f921\"]], \"type\": \"contour\"}], \"contourcarpet\": [{\"colorbar\": {\"outlinewidth\": 0, \"ticks\": \"\"}, \"type\": \"contourcarpet\"}], \"heatmap\": [{\"colorbar\": {\"outlinewidth\": 0, \"ticks\": \"\"}, \"colorscale\": [[0.0, \"#0d0887\"], [0.1111111111111111, \"#46039f\"], [0.2222222222222222, \"#7201a8\"], [0.3333333333333333, \"#9c179e\"], [0.4444444444444444, \"#bd3786\"], [0.5555555555555556, \"#d8576b\"], [0.6666666666666666, \"#ed7953\"], [0.7777777777777778, \"#fb9f3a\"], [0.8888888888888888, \"#fdca26\"], [1.0, \"#f0f921\"]], \"type\": \"heatmap\"}], \"heatmapgl\": [{\"colorbar\": {\"outlinewidth\": 0, \"ticks\": \"\"}, \"colorscale\": [[0.0, \"#0d0887\"], [0.1111111111111111, \"#46039f\"], [0.2222222222222222, \"#7201a8\"], [0.3333333333333333, \"#9c179e\"], [0.4444444444444444, \"#bd3786\"], [0.5555555555555556, \"#d8576b\"], [0.6666666666666666, \"#ed7953\"], [0.7777777777777778, \"#fb9f3a\"], [0.8888888888888888, \"#fdca26\"], [1.0, \"#f0f921\"]], \"type\": \"heatmapgl\"}], \"histogram\": [{\"marker\": {\"colorbar\": {\"outlinewidth\": 0, \"ticks\": \"\"}}, \"type\": \"histogram\"}], \"histogram2d\": [{\"colorbar\": {\"outlinewidth\": 0, \"ticks\": \"\"}, \"colorscale\": [[0.0, \"#0d0887\"], [0.1111111111111111, \"#46039f\"], [0.2222222222222222, \"#7201a8\"], [0.3333333333333333, \"#9c179e\"], [0.4444444444444444, \"#bd3786\"], [0.5555555555555556, \"#d8576b\"], [0.6666666666666666, \"#ed7953\"], [0.7777777777777778, \"#fb9f3a\"], [0.8888888888888888, \"#fdca26\"], [1.0, \"#f0f921\"]], \"type\": \"histogram2d\"}], \"histogram2dcontour\": [{\"colorbar\": {\"outlinewidth\": 0, \"ticks\": \"\"}, \"colorscale\": [[0.0, \"#0d0887\"], [0.1111111111111111, \"#46039f\"], [0.2222222222222222, \"#7201a8\"], [0.3333333333333333, \"#9c179e\"], [0.4444444444444444, \"#bd3786\"], [0.5555555555555556, \"#d8576b\"], [0.6666666666666666, \"#ed7953\"], [0.7777777777777778, \"#fb9f3a\"], [0.8888888888888888, \"#fdca26\"], [1.0, \"#f0f921\"]], \"type\": \"histogram2dcontour\"}], \"mesh3d\": [{\"colorbar\": {\"outlinewidth\": 0, \"ticks\": \"\"}, \"type\": \"mesh3d\"}], \"parcoords\": [{\"line\": {\"colorbar\": {\"outlinewidth\": 0, \"ticks\": \"\"}}, \"type\": \"parcoords\"}], \"pie\": [{\"automargin\": true, \"type\": \"pie\"}], \"scatter\": [{\"marker\": {\"colorbar\": {\"outlinewidth\": 0, \"ticks\": \"\"}}, \"type\": \"scatter\"}], \"scatter3d\": [{\"line\": {\"colorbar\": {\"outlinewidth\": 0, \"ticks\": \"\"}}, \"marker\": {\"colorbar\": {\"outlinewidth\": 0, \"ticks\": \"\"}}, \"type\": \"scatter3d\"}], \"scattercarpet\": [{\"marker\": {\"colorbar\": {\"outlinewidth\": 0, \"ticks\": \"\"}}, \"type\": \"scattercarpet\"}], \"scattergeo\": [{\"marker\": {\"colorbar\": {\"outlinewidth\": 0, \"ticks\": \"\"}}, \"type\": \"scattergeo\"}], \"scattergl\": [{\"marker\": {\"colorbar\": {\"outlinewidth\": 0, \"ticks\": \"\"}}, \"type\": \"scattergl\"}], \"scattermapbox\": [{\"marker\": {\"colorbar\": {\"outlinewidth\": 0, \"ticks\": \"\"}}, \"type\": \"scattermapbox\"}], \"scatterpolar\": [{\"marker\": {\"colorbar\": {\"outlinewidth\": 0, \"ticks\": \"\"}}, \"type\": \"scatterpolar\"}], \"scatterpolargl\": [{\"marker\": {\"colorbar\": {\"outlinewidth\": 0, \"ticks\": \"\"}}, \"type\": \"scatterpolargl\"}], \"scatterternary\": [{\"marker\": {\"colorbar\": {\"outlinewidth\": 0, \"ticks\": \"\"}}, \"type\": \"scatterternary\"}], \"surface\": [{\"colorbar\": {\"outlinewidth\": 0, \"ticks\": \"\"}, \"colorscale\": [[0.0, \"#0d0887\"], [0.1111111111111111, \"#46039f\"], [0.2222222222222222, \"#7201a8\"], [0.3333333333333333, \"#9c179e\"], [0.4444444444444444, \"#bd3786\"], [0.5555555555555556, \"#d8576b\"], [0.6666666666666666, \"#ed7953\"], [0.7777777777777778, \"#fb9f3a\"], [0.8888888888888888, \"#fdca26\"], [1.0, \"#f0f921\"]], \"type\": \"surface\"}], \"table\": [{\"cells\": {\"fill\": {\"color\": \"#EBF0F8\"}, \"line\": {\"color\": \"white\"}}, \"header\": {\"fill\": {\"color\": \"#C8D4E3\"}, \"line\": {\"color\": \"white\"}}, \"type\": \"table\"}]}, \"layout\": {\"annotationdefaults\": {\"arrowcolor\": \"#2a3f5f\", \"arrowhead\": 0, \"arrowwidth\": 1}, \"coloraxis\": {\"colorbar\": {\"outlinewidth\": 0, \"ticks\": \"\"}}, \"colorscale\": {\"diverging\": [[0, \"#8e0152\"], [0.1, \"#c51b7d\"], [0.2, \"#de77ae\"], [0.3, \"#f1b6da\"], [0.4, \"#fde0ef\"], [0.5, \"#f7f7f7\"], [0.6, \"#e6f5d0\"], [0.7, \"#b8e186\"], [0.8, \"#7fbc41\"], [0.9, \"#4d9221\"], [1, \"#276419\"]], \"sequential\": [[0.0, \"#0d0887\"], [0.1111111111111111, \"#46039f\"], [0.2222222222222222, \"#7201a8\"], [0.3333333333333333, \"#9c179e\"], [0.4444444444444444, \"#bd3786\"], [0.5555555555555556, \"#d8576b\"], [0.6666666666666666, \"#ed7953\"], [0.7777777777777778, \"#fb9f3a\"], [0.8888888888888888, \"#fdca26\"], [1.0, \"#f0f921\"]], \"sequentialminus\": [[0.0, \"#0d0887\"], [0.1111111111111111, \"#46039f\"], [0.2222222222222222, \"#7201a8\"], [0.3333333333333333, \"#9c179e\"], [0.4444444444444444, \"#bd3786\"], [0.5555555555555556, \"#d8576b\"], [0.6666666666666666, \"#ed7953\"], [0.7777777777777778, \"#fb9f3a\"], [0.8888888888888888, \"#fdca26\"], [1.0, \"#f0f921\"]]}, \"colorway\": [\"#636efa\", \"#EF553B\", \"#00cc96\", \"#ab63fa\", \"#FFA15A\", \"#19d3f3\", \"#FF6692\", \"#B6E880\", \"#FF97FF\", \"#FECB52\"], \"font\": {\"color\": \"#2a3f5f\"}, \"geo\": {\"bgcolor\": \"white\", \"lakecolor\": \"white\", \"landcolor\": \"#E5ECF6\", \"showlakes\": true, \"showland\": true, \"subunitcolor\": \"white\"}, \"hoverlabel\": {\"align\": \"left\"}, \"hovermode\": \"closest\", \"mapbox\": {\"style\": \"light\"}, \"paper_bgcolor\": \"white\", \"plot_bgcolor\": \"#E5ECF6\", \"polar\": {\"angularaxis\": {\"gridcolor\": \"white\", \"linecolor\": \"white\", \"ticks\": \"\"}, \"bgcolor\": \"#E5ECF6\", \"radialaxis\": {\"gridcolor\": \"white\", \"linecolor\": \"white\", \"ticks\": \"\"}}, \"scene\": {\"xaxis\": {\"backgroundcolor\": \"#E5ECF6\", \"gridcolor\": \"white\", \"gridwidth\": 2, \"linecolor\": \"white\", \"showbackground\": true, \"ticks\": \"\", \"zerolinecolor\": \"white\"}, \"yaxis\": {\"backgroundcolor\": \"#E5ECF6\", \"gridcolor\": \"white\", \"gridwidth\": 2, \"linecolor\": \"white\", \"showbackground\": true, \"ticks\": \"\", \"zerolinecolor\": \"white\"}, \"zaxis\": {\"backgroundcolor\": \"#E5ECF6\", \"gridcolor\": \"white\", \"gridwidth\": 2, \"linecolor\": \"white\", \"showbackground\": true, \"ticks\": \"\", \"zerolinecolor\": \"white\"}}, \"shapedefaults\": {\"line\": {\"color\": \"#2a3f5f\"}}, \"ternary\": {\"aaxis\": {\"gridcolor\": \"white\", \"linecolor\": \"white\", \"ticks\": \"\"}, \"baxis\": {\"gridcolor\": \"white\", \"linecolor\": \"white\", \"ticks\": \"\"}, \"bgcolor\": \"#E5ECF6\", \"caxis\": {\"gridcolor\": \"white\", \"linecolor\": \"white\", \"ticks\": \"\"}}, \"title\": {\"x\": 0.05}, \"xaxis\": {\"automargin\": true, \"gridcolor\": \"white\", \"linecolor\": \"white\", \"ticks\": \"\", \"title\": {\"standoff\": 15}, \"zerolinecolor\": \"white\", \"zerolinewidth\": 2}, \"yaxis\": {\"automargin\": true, \"gridcolor\": \"white\", \"linecolor\": \"white\", \"ticks\": \"\", \"title\": {\"standoff\": 15}, \"zerolinecolor\": \"white\", \"zerolinewidth\": 2}}}, \"title\": {\"font\": {\"color\": \"#4D5663\"}}, \"xaxis\": {\"gridcolor\": \"#E1E5ED\", \"showgrid\": true, \"tickfont\": {\"color\": \"#4D5663\"}, \"title\": {\"font\": {\"color\": \"#4D5663\"}, \"text\": \"\"}, \"zerolinecolor\": \"#E1E5ED\"}, \"yaxis\": {\"gridcolor\": \"#E1E5ED\", \"showgrid\": true, \"tickfont\": {\"color\": \"#4D5663\"}, \"title\": {\"font\": {\"color\": \"#4D5663\"}, \"text\": \"\"}, \"zerolinecolor\": \"#E1E5ED\"}},\n",
       "                        {\"showLink\": true, \"linkText\": \"Export to plot.ly\", \"plotlyServerURL\": \"https://plot.ly\", \"responsive\": true}\n",
       "                    ).then(function(){\n",
       "                            \n",
       "var gd = document.getElementById('8e9b0c62-02b9-49f4-a042-b464bc4c408a');\n",
       "var x = new MutationObserver(function (mutations, observer) {{\n",
       "        var display = window.getComputedStyle(gd).display;\n",
       "        if (!display || display === 'none') {{\n",
       "            console.log([gd, 'removed!']);\n",
       "            Plotly.purge(gd);\n",
       "            observer.disconnect();\n",
       "        }}\n",
       "}});\n",
       "\n",
       "// Listen for the removal of the full notebook cells\n",
       "var notebookContainer = gd.closest('#notebook-container');\n",
       "if (notebookContainer) {{\n",
       "    x.observe(notebookContainer, {childList: true});\n",
       "}}\n",
       "\n",
       "// Listen for the clearing of the current output cell\n",
       "var outputEl = gd.closest('.output');\n",
       "if (outputEl) {{\n",
       "    x.observe(outputEl, {childList: true});\n",
       "}}\n",
       "\n",
       "                        })\n",
       "                };\n",
       "                });\n",
       "            </script>\n",
       "        </div>"
      ]
     },
     "metadata": {},
     "output_type": "display_data"
    }
   ],
   "source": [
    "d_2019_2020 = bank_stocks.xs(key='Close', axis=1, level='Stock Info').loc['2020-05-22':'2019-01-01' ]\n",
    "d_2019_2020.iplot()"
   ]
  },
  {
   "cell_type": "markdown",
   "metadata": {},
   "source": [
    "### Who has lost the Race"
   ]
  },
  {
   "cell_type": "code",
   "execution_count": 23,
   "metadata": {},
   "outputs": [
    {
     "data": {
      "application/vnd.plotly.v1+json": {
       "config": {
        "linkText": "Export to plot.ly",
        "plotlyServerURL": "https://plot.ly",
        "showLink": true
       },
       "data": [
        {
         "histfunc": "count",
         "histnorm": "",
         "marker": {
          "color": "rgba(255, 153, 51, 1.0)",
          "line": {
           "color": "#4D5663",
           "width": 1.3
          }
         },
         "name": "BAC",
         "opacity": 0.8,
         "orientation": "v",
         "type": "histogram",
         "x": [
          22.66,
          22.9,
          22.91,
          22.21,
          22.93,
          21.44,
          21.71,
          20.87,
          21.87,
          22.58,
          23.57,
          22.84,
          22.35,
          22.66,
          22.93,
          23.08,
          24.05,
          24.78,
          23.89,
          23.47,
          22.18,
          21.87,
          21.8,
          21.64,
          22.5,
          23.28,
          21.42,
          22.19,
          23.73,
          23.92,
          24.86,
          23.45,
          22.14,
          21.39,
          20.03,
          20.57,
          19.77,
          21.23,
          22.04,
          21.6,
          22.72,
          21.1,
          21.03,
          18.08,
          19.67,
          21.2,
          20.79,
          21.98,
          20.44,
          24.16,
          20.51,
          22.67,
          23.61,
          21.93,
          25.71,
          26.78,
          28.21,
          27.574,
          29.184,
          28.319000000000003,
          28.945,
          30.436,
          30.883000000000003,
          32.522,
          34.141999999999996,
          34.629,
          34.5,
          34.053000000000004,
          34.629,
          34.689,
          34.699,
          34.55,
          34.47,
          34.391,
          34.45,
          34.49,
          33.407,
          32.760999999999996,
          32.622,
          33.268,
          32.801,
          33.029,
          32.641999999999996,
          33.327,
          33.904,
          34.141999999999996,
          34.043,
          34.49,
          34.5,
          34.45,
          35.096,
          34.838,
          34.52,
          34.808,
          34.748000000000005,
          34.400999999999996,
          34.629,
          34.679,
          35.414,
          34.997,
          34.927,
          35.126,
          35.295,
          34.997,
          34.946999999999996,
          34.738,
          34.728,
          34.887,
          34.818000000000005,
          34.48,
          34.222,
          34.46,
          33.427,
          33.317,
          33.298,
          33.457,
          32.88,
          32.760999999999996,
          32.455,
          33.037,
          32.929,
          33.028,
          32.959,
          33.077,
          32.791,
          32.455,
          32.306,
          32.553000000000004,
          32.573,
          32.543,
          32.316,
          32.405,
          32.701,
          32.791,
          32.869,
          32.84,
          32.405,
          32.435,
          32.02,
          31.426,
          30.903000000000002,
          31.249000000000002,
          31.694000000000003,
          31.465999999999998,
          31.348000000000003,
          30.991999999999997,
          31.051,
          30.834,
          30.656,
          29.994,
          29.905,
          29.816,
          29.381999999999998,
          28.798000000000002,
          28.570999999999998,
          28.116999999999997,
          27.563000000000002,
          27.305999999999997,
          27.976999999999997,
          28.037,
          27.484,
          27.513,
          28.107,
          28.828000000000003,
          29.006,
          28.788,
          28.906999999999996,
          28.601,
          29.174,
          29.241999999999997,
          29.47,
          29.648000000000003,
          29.588,
          29.776,
          29.816,
          29.322,
          29.114,
          29.006,
          28.294,
          27.404,
          27.79,
          26.99,
          26.558000000000003,
          27.01,
          26.833000000000002,
          26.361,
          25.988000000000003,
          26.293000000000003,
          25.988000000000003,
          26.695,
          26.44,
          26.234,
          26.773000000000003,
          26.538,
          25.772,
          25.938000000000002,
          27.214000000000002,
          27.136999999999997,
          27.814,
          27.863000000000003,
          27.381999999999998,
          27.903000000000002,
          27.569000000000003,
          28.846,
          28.953000000000003,
          30.122,
          30.326999999999998,
          29.964000000000002,
          30.21,
          29.787,
          30.112,
          29.699,
          29.031,
          28.864,
          28.943,
          28.659000000000002,
          28.462,
          28.688000000000002,
          28.914,
          28.826,
          28.491,
          28.816,
          28.668000000000003,
          28.726999999999997,
          28.521,
          28.619,
          28.884,
          28.471999999999998,
          27.695999999999998,
          27.401,
          27.254,
          27.471,
          27.608,
          27.756,
          27.805,
          28.1,
          27.421,
          27.529,
          27.430999999999997,
          27.441,
          27.726,
          27.559,
          27.029,
          27.372,
          27.254,
          27.264,
          26.054000000000002,
          25.975,
          26.522,
          27.098000000000003,
          27.244,
          27.518,
          27.108,
          27.82,
          28.016,
          27.733,
          27.733,
          27.919,
          27.625999999999998,
          27.948,
          27.586,
          28.885,
          29.013,
          29.1,
          29.217,
          29.755,
          29.989,
          29.783,
          29.549,
          29.862,
          30.048000000000002,
          29.636999999999997,
          29.374000000000002,
          29.315,
          29.364,
          29.344,
          29.325,
          29.325,
          29.178,
          29.14,
          29.462,
          28.388,
          28.388,
          28.212,
          28.484,
          28.398000000000003,
          28.465,
          28.162,
          28.191999999999997,
          27.87,
          26.941999999999997,
          26.688000000000002,
          26.396,
          26.570999999999998,
          26.21,
          26.375999999999998,
          27.518,
          27.967,
          28.954,
          29.12,
          28.612,
          28.768,
          28.601999999999997,
          28.261,
          28.261,
          27.976,
          27.88,
          28.162,
          28.398000000000003,
          28.348000000000003,
          28.621,
          28.398000000000003,
          28.69,
          28.456,
          28.436999999999998,
          28.254,
          28.456,
          28.574,
          28.301,
          28.281999999999996,
          27.581999999999997,
          27.884,
          27.874000000000002,
          27.601999999999997,
          27.486,
          27.436999999999998,
          27.913,
          27.962,
          28.059,
          27.573,
          27.660999999999998,
          28.244,
          28.555,
          28.787,
          28.739,
          28.254,
          28.098000000000003,
          28.263,
          28.465999999999998,
          28.165,
          27.641,
          25.794,
          25.62,
          25.29,
          24.997,
          25.026,
          24.785,
          24.833000000000002,
          24.851,
          23.862,
          24.25
         ]
        },
        {
         "histfunc": "count",
         "histnorm": "",
         "marker": {
          "color": "rgba(55, 128, 191, 1.0)",
          "line": {
           "color": "#4D5663",
           "width": 1.3
          }
         },
         "name": "C",
         "opacity": 0.8,
         "orientation": "v",
         "type": "histogram",
         "x": [
          44.1,
          45,
          45.47,
          44.43,
          45.67,
          41.92,
          42.06,
          40.6,
          42.35,
          44.07,
          46.32,
          44.64,
          42.95,
          43.95,
          45.12,
          45.52,
          48.05,
          49.732,
          46.714,
          46.071000000000005,
          42.647,
          42.013999999999996,
          41.79600000000001,
          41.133,
          43.548,
          44.973,
          40.094,
          42.41,
          44.943000000000005,
          46.19,
          46.912,
          43.795,
          40.817,
          40.688,
          37.096,
          38.818000000000005,
          38.106,
          41.678000000000004,
          43.617,
          43.34,
          45.537,
          41.42,
          40.233000000000004,
          35.018,
          37.66,
          39.224000000000004,
          36.047,
          39.827,
          40.757,
          50.504,
          42.806000000000004,
          50.257,
          54.996,
          50.83,
          60.636,
          62.823,
          66.682,
          64.367,
          66.88,
          62.794,
          63.773,
          67.464,
          68.70100000000001,
          71.768,
          75.637,
          77.398,
          77.23,
          76.765,
          77.96300000000001,
          78.17,
          78.497,
          78.259,
          77.656,
          77.86399999999999,
          78.141,
          78.02199999999999,
          75.697,
          74.34100000000001,
          73.62899999999999,
          76.112,
          75.178,
          75.925,
          75.405,
          77.085,
          78.441,
          78.736,
          78.54,
          79.74,
          79.62100000000001,
          79.857,
          80.515,
          79.278,
          77.90100000000001,
          78.717,
          78.009,
          77.419,
          78.098,
          78.343,
          79.848,
          78.53,
          78.156,
          78.314,
          78.471,
          77.252,
          77.419,
          77.17399999999999,
          76.869,
          76.594,
          76.417,
          75.601,
          75.09,
          75.73899999999999,
          74.264,
          74.49,
          74.048,
          74.52,
          73.439,
          72.967,
          72.082,
          73.252,
          73.84100000000001,
          74.431,
          74.176,
          74.392,
          73.596,
          72.642,
          72.652,
          73.546,
          73.134,
          73.134,
          72.584,
          72.652,
          73.793,
          74.313,
          74.825,
          74.52,
          73.154,
          73.556,
          73.87100000000001,
          72.584,
          70.13600000000001,
          71.219,
          71.336,
          71.825,
          71.414,
          70.565,
          70.711,
          70.332,
          70.086,
          68.067,
          67.93,
          67.832,
          69.51100000000001,
          68.554,
          68.418,
          66.973,
          65.811,
          64.807,
          66.514,
          66.544,
          65.1,
          64.671,
          66.514,
          67.422,
          67.793,
          67.452,
          67.715,
          66.271,
          67.881,
          67.686,
          68.057,
          68.40899999999999,
          67.813,
          68.154,
          68.70100000000001,
          67.637,
          67.24600000000001,
          67.324,
          67.139,
          64.388,
          64.748,
          62.738,
          61.898,
          62.805,
          62.36600000000001,
          60.863,
          60.18,
          61.215,
          60.463,
          62.376000000000005,
          61.732,
          61.898,
          62.766999999999996,
          61.956,
          59.849,
          59.93600000000001,
          63.273999999999994,
          62.718,
          64.465,
          65.139,
          63.577,
          64.661,
          63.61600000000001,
          65.988,
          66.212,
          68.934,
          69.468,
          69.516,
          69.904,
          69.157,
          70.726,
          69.73899999999999,
          68.885,
          68.702,
          69.544,
          68.605,
          69.09,
          69.468,
          69.524,
          69.37100000000001,
          68.905,
          69.322,
          68.905,
          69.167,
          68.634,
          68.237,
          68.528,
          67.839,
          66.018,
          65.117,
          64.459,
          65.301,
          65.844,
          65.97,
          65.476,
          65.854,
          64.459,
          65.369,
          64.98100000000001,
          64.719,
          65.757,
          65.02,
          63.636,
          64.392,
          63.723,
          63.818999999999996,
          60.652,
          60.206,
          61.62,
          61.717,
          61.795,
          62.376000000000005,
          61.901,
          62.638000000000005,
          64.014,
          62.927,
          63.035,
          63.917,
          62.841,
          63.218,
          62.36600000000001,
          65.77600000000001,
          65.515,
          66.086,
          66.028,
          68.208,
          68.459,
          67.723,
          67.33800000000001,
          68.051,
          68.368,
          66.905,
          66.154,
          66.251,
          66.607,
          66.5,
          67.058,
          67.71300000000001,
          66.71300000000001,
          64.854,
          64.893,
          63.44,
          63.06399999999999,
          62.757,
          63.593999999999994,
          63.093,
          63.353,
          62.622,
          62.006,
          61.948,
          59.888999999999996,
          59.657,
          58.455,
          58.926,
          58.07,
          58.695,
          61.515,
          61.89,
          63.17100000000001,
          63.458999999999996,
          62.748000000000005,
          61.708,
          61.265,
          60.455,
          59.974,
          59.735,
          59.581,
          60.167,
          60.571999999999996,
          61.361000000000004,
          62.053999999999995,
          61.582,
          61.986999999999995,
          61.717,
          62.111999999999995,
          61.736000000000004,
          61.91,
          62.218999999999994,
          61.967,
          61.861000000000004,
          60.08,
          60.678000000000004,
          60.321000000000005,
          59.302,
          59.68600000000001,
          60.455,
          61.495,
          61.418,
          61.66,
          61.284,
          61.611000000000004,
          61.382,
          60.418,
          61.027,
          61.191,
          59.938,
          59.38399999999999,
          59.117,
          60.33,
          59.708999999999996,
          59.442,
          58.667,
          56.326,
          54.185,
          53.946000000000005,
          53.888000000000005,
          53.01,
          53.153,
          52.693999999999996,
          50.236999999999995,
          51.163999999999994
         ]
        },
        {
         "histfunc": "count",
         "histnorm": "",
         "marker": {
          "color": "rgba(50, 171, 96, 1.0)",
          "line": {
           "color": "#4D5663",
           "width": 1.3
          }
         },
         "name": "GS",
         "opacity": 0.8,
         "orientation": "v",
         "type": "histogram",
         "x": [
          179.93,
          180.1,
          181.44,
          177.83,
          181.88,
          171.87,
          174.45,
          171.8,
          177.21,
          183.16,
          185.39,
          182.32,
          176.92,
          178.3,
          176.03,
          177.1,
          183.42,
          190.03,
          187.01,
          183.54,
          177,
          175.05,
          175.98,
          173.81,
          180.4,
          183.49,
          177.04,
          178.52,
          178.23,
          179.18,
          184.26,
          176.96,
          166.02,
          158.23,
          146.93,
          149.93,
          145.29,
          154.59,
          159.62,
          158.34,
          165.79,
          155.13,
          153.6,
          134.97,
          138.41,
          149.49,
          140.02,
          158.67,
          154.66,
          177.17,
          150.68,
          171.89,
          184.35,
          172.81,
          192.85,
          198.79,
          208.74,
          203.43,
          209.47,
          200.77,
          204.44,
          214.47,
          216.29,
          223.18,
          229.22,
          231.32,
          235.89,
          231.79,
          235.64,
          236.9,
          237.2,
          235.02,
          235.92,
          236.55,
          240.35,
          242.82,
          240.47,
          237.56,
          236.31,
          242.65,
          238.66,
          241.11,
          236.69,
          240.45,
          244.09,
          245.55,
          244.21,
          247.94,
          248.2,
          243.72,
          244.17,
          243.72,
          240.64,
          241.13,
          236.32,
          234.06,
          232.53,
          230.17,
          232.9,
          228.53,
          228.4,
          229.26,
          229.8,
          228.51,
          227.7,
          227.54,
          228.54,
          229.05,
          229.75,
          226.65,
          223.63,
          224.68,
          219.85,
          220.53,
          220.46,
          223.25,
          215.82,
          214.63,
          210.95,
          216.32,
          220,
          220.35,
          219.86,
          220.15,
          217.71,
          215.69,
          215.37,
          217.48,
          217.17,
          217.69,
          216.87,
          216.76,
          217.84,
          216.48,
          220.31,
          220.69,
          215.88,
          216.09,
          217.31,
          214.86,
          210.89,
          213.3,
          215.1,
          215.21,
          211.74,
          208.59,
          208.86,
          207.15,
          206.82,
          204.11,
          204.05,
          205.01,
          204.05,
          203.43,
          202.29,
          197.54,
          194.56,
          195.07,
          198.07,
          198.46,
          194.94,
          195.94,
          200.33,
          204.82,
          206.54,
          205.79,
          207.58,
          205.33,
          210.97,
          211.25,
          212.72,
          214.55,
          213.4,
          214.69,
          217.34,
          216.19,
          214.27,
          213.12,
          209.51,
          204.8,
          204.64,
          199.38,
          196.65,
          201.54,
          201.07,
          196.85,
          194.54,
          196.09,
          192.71,
          198.81,
          197.1,
          196.42,
          198.6,
          195.87,
          192.69,
          192.08,
          200.47,
          197.93,
          203.22,
          203.32,
          202.07,
          202.34,
          198.09,
          205.63,
          207.83,
          216.21,
          217.46,
          216.4,
          218.18,
          216.06,
          218.08,
          215.52,
          210.19,
          209.72,
          210.69,
          209.5,
          211.69,
          207.81,
          210.14,
          207.58,
          202.3,
          204.06,
          202.08,
          204.19,
          202.36,
          202.31,
          203.18,
          200.95,
          195.77,
          193.5,
          192.57,
          193.97,
          192.45,
          192.21,
          192.16,
          191.5,
          187.43,
          188.24,
          188.04,
          186.83,
          191.27,
          190.66,
          186.43,
          186.43,
          185.08,
          186.5,
          179.93,
          179.23,
          184.03,
          184.7,
          185.23,
          188.71,
          187.71,
          191.18,
          194.69,
          192.87,
          193.03,
          194.72,
          192.04,
          191.92,
          190.64,
          197.56,
          197.15,
          196.49,
          198.13,
          201.85,
          202.91,
          200.43,
          200.18,
          201.35,
          202.32,
          198.57,
          196.93,
          196.08,
          199.6,
          200.06,
          201.34,
          203.29,
          197.35,
          195.46,
          203.23,
          198.32,
          198.47,
          196.16,
          198.04,
          197.88,
          197.73,
          196.4,
          193.1,
          192.37,
          187.73,
          186.93,
          185.81,
          186.45,
          184.31,
          184.76,
          190.26,
          190,
          196.65,
          197.97,
          193.85,
          193.07,
          192.87,
          192.26,
          191.61,
          190.9,
          188.49,
          190.42,
          191.64,
          191.62,
          193.8,
          192.33,
          193.7,
          193.7,
          193.45,
          190.87,
          191.23,
          193.4,
          193.47,
          193.3,
          187.5,
          189.6,
          189.41,
          186.32,
          186.65,
          188.02,
          191.47,
          192.84,
          192.55,
          191.39,
          192.84,
          197.19,
          195.25,
          194.5,
          195.48,
          192.63,
          191.75,
          192.51,
          197.24,
          193.88,
          191.93,
          175.22,
          174.04,
          172.31,
          171.39,
          171.86,
          170.79,
          171.41,
          170.48,
          165.07,
          167.54
         ]
        },
        {
         "histfunc": "count",
         "histnorm": "",
         "marker": {
          "color": "rgba(128, 0, 128, 1.0)",
          "line": {
           "color": "#4D5663",
           "width": 1.3
          }
         },
         "name": "JPM",
         "opacity": 0.8,
         "orientation": "v",
         "type": "histogram",
         "x": [
          89.47,
          90.17,
          91.33,
          88.67,
          90.45,
          85.9,
          87.52,
          84.03,
          87.03,
          89.97,
          92.7,
          91.21,
          90.27,
          92,
          92.14,
          93.25,
          95.76,
          97.86,
          95.29,
          94.62,
          90.71,
          89.39,
          89.34,
          89.05,
          91.71,
          95.18,
          87.33,
          90.79,
          95.5,
          98.19,
          102.76,
          94.3,
          90.64,
          89.46,
          84.05,
          86.61,
          83.492,
          89.104,
          92.538,
          90.193,
          97.111,
          90.787,
          87.521,
          78.217,
          82.641,
          84.42299999999999,
          83.027,
          92.796,
          87.45100000000001,
          102.84,
          87.14399999999999,
          94.973,
          99.66,
          92.479,
          106.97,
          112.8,
          118.62,
          115.76,
          120.27,
          114.92,
          120.12,
          125.34,
          124.96,
          130.8,
          134.41,
          136.08,
          136.08,
          134.25,
          136.05,
          136.46,
          136.58,
          136.58,
          136.32,
          135.76,
          136.19,
          136.17,
          133.9,
          132,
          131,
          134.49,
          132.85,
          133.05,
          130.67,
          131.78,
          135.14,
          135.27,
          135.43,
          136.78,
          135.84,
          135.31,
          137.37,
          135.79,
          134.67,
          136.03,
          135.53,
          134.48,
          136.81,
          136.92,
          138.75,
          137.09,
          136.33,
          136.83,
          136.73,
          135.29,
          134.92,
          134.96,
          135.07,
          135.75,
          135.89,
          135.06,
          134.54,
          135.73,
          131.95,
          132.27,
          132.18,
          132.8,
          130.85,
          130.15,
          127.62,
          129.29,
          129.57,
          129.87,
          129.48,
          129.31,
          128.62,
          127.77,
          127.48,
          128.42,
          128.46,
          127.38,
          126.47,
          126.35,
          127.02,
          127.76,
          128.22,
          127.84,
          127.16,
          126.96,
          126.68,
          125.67,
          122.84,
          123.65,
          124.33,
          124.41,
          123.94,
          122.95,
          123.04,
          122.71,
          121.5,
          118.56,
          118.35,
          117.7,
          117.96,
          114.52,
          114.21,
          112.31,
          110.76,
          109.97,
          112.47,
          112.72,
          110.32,
          110.48,
          112.73,
          114.82,
          114.85,
          114.17,
          115.11,
          114.47,
          115.98,
          116,
          116.46,
          116.84,
          115.68,
          116.25,
          117.29,
          115.02,
          114.33,
          114.02,
          112.58,
          109.87,
          109.63,
          107.19,
          105.91,
          107.18,
          106.55,
          104.19,
          103.16,
          104.26,
          103.44,
          106.07,
          104.98,
          104.69,
          106.04,
          105.09,
          102.62,
          102.25,
          106.67,
          105.12,
          107.07,
          107.18,
          105.39,
          107.73,
          106.9,
          110.18,
          110.19,
          113.17,
          112.77,
          113.03,
          113.38,
          112.89,
          113.98,
          113.52,
          111.48,
          110.77,
          111.87,
          111.2,
          112.31,
          111.12,
          112.48,
          111.31,
          110.25,
          110.58,
          110.12,
          110.72,
          110.07,
          110.23,
          110.13,
          108.3,
          105.43,
          105.09,
          104.39,
          105.27,
          106.02,
          106.75,
          106.47,
          107.25,
          105.8,
          106.38,
          106.12,
          105.85,
          107.22,
          106.89,
          105.74,
          106.92,
          106.69,
          106.31,
          103.13,
          102.64,
          103.72,
          104.84,
          105.13,
          106.28,
          105.25,
          107.35,
          108.24,
          107.87,
          107.3,
          107.83,
          106.46,
          106.87,
          106.03,
          108.99,
          109,
          109.09,
          109.67,
          111.49,
          112.48,
          111.8,
          111.56,
          112.41,
          112.48,
          110.9,
          110.06,
          110,
          110.19,
          110.05,
          109.91,
          110.73,
          107.62,
          106.5,
          107.73,
          102.9,
          102.05,
          101.58,
          102.36,
          102.02,
          102.27,
          101.28,
          101.08,
          100.6,
          97.315,
          96.824,
          95.73299999999999,
          96.061,
          95.109,
          95.906,
          98.89200000000001,
          100.49,
          102.66,
          103.05,
          102.45,
          101.28,
          100.36,
          100.02,
          100.32,
          99.031,
          98.991,
          99.71,
          100.08,
          100.16,
          100.4,
          100.33,
          101.1,
          101.23,
          102,
          100.95,
          101.39,
          101.6,
          101.12,
          101.47,
          98.46799999999999,
          99.11,
          98.635,
          96.979,
          97.441,
          98.429,
          99.73,
          99.78,
          100.22,
          99.87,
          99.49600000000001,
          100.38,
          100.14,
          99.87,
          99.397,
          98.774,
          98.714,
          98.962,
          100.56,
          98.94200000000001,
          98.536,
          97.75399999999999,
          97.039,
          96.051,
          96.515,
          96.525,
          96.68799999999999,
          96.863,
          96.805,
          93.36,
          94.706
         ]
        },
        {
         "histfunc": "count",
         "histnorm": "",
         "marker": {
          "color": "rgba(219, 64, 82, 1.0)",
          "line": {
           "color": "#4D5663",
           "width": 1.3
          }
         },
         "name": "MS",
         "opacity": 0.8,
         "orientation": "v",
         "type": "histogram",
         "x": [
          40.13,
          40.3,
          41.06,
          39.33,
          40.28,
          37.29,
          37.81,
          36.99,
          38.42,
          39.83,
          40.08,
          38.81,
          37.3,
          37.98,
          38.09,
          38.4,
          39.43,
          40.79,
          39.78,
          38.967,
          37.639,
          37.143,
          37.48,
          36.628,
          38.025,
          38.749,
          38.025,
          38.065,
          39.512,
          39.235,
          40.722,
          39.027,
          36.618,
          36.687,
          33.555,
          33.604,
          31.344,
          33.703,
          34.536,
          33.713,
          35.399,
          33.694,
          32.93,
          27.566999999999997,
          29.410999999999998,
          30.65,
          30.482,
          33.495,
          31.374000000000002,
          37.173,
          31.037,
          36.548,
          39.155,
          37.173,
          41.475,
          42.218999999999994,
          44.845,
          44.013000000000005,
          46.075,
          44.637,
          45.013999999999996,
          46.828,
          47.611000000000004,
          49.247,
          51.963,
          53.281000000000006,
          55.818999999999996,
          55.036,
          55.353,
          55.442,
          55.69,
          55.294,
          54.867,
          54.55,
          54.53,
          54.51,
          53.549,
          52.141000000000005,
          51.803999999999995,
          53.351000000000006,
          52.865,
          53.2,
          52.303999999999995,
          53.721000000000004,
          54.687,
          55.012,
          55.07,
          56.637,
          55.583,
          52.136,
          52.056999999999995,
          51.979,
          51.418,
          51.27,
          50.787,
          50.147,
          50.245,
          50.422,
          51.25,
          50.343999999999994,
          50.18600000000001,
          50.31399999999999,
          50.333999999999996,
          49.92,
          49.95,
          49.92,
          50.086999999999996,
          49.891000000000005,
          50.126999999999995,
          49.95,
          49.477,
          49.92,
          48.7,
          48.916000000000004,
          48.847,
          49.043,
          48.325,
          48.099,
          47.379,
          48.335,
          48.728,
          49.023999999999994,
          48.66,
          49.201,
          48.501999999999995,
          48.099,
          48.355,
          48.581,
          48.285,
          48.247,
          47.872,
          47.655,
          48.265,
          48.345,
          48.403999999999996,
          47.92100000000001,
          47.821999999999996,
          48.01,
          48.089,
          46.611000000000004,
          45.351000000000006,
          45.556999999999995,
          45.773999999999994,
          45.784,
          45.324,
          44.728,
          44.875,
          44.357,
          43.966,
          42.676,
          42.46,
          41.825,
          41.571000000000005,
          41.298,
          40.985,
          40.124,
          39.528,
          38.922,
          39.763000000000005,
          39.86,
          39.343,
          39.323,
          40.446999999999996,
          41.708,
          41.875,
          41.658,
          42.068999999999996,
          41.581,
          42.577,
          42.685,
          43.027,
          43.36,
          43.214,
          43.74100000000001,
          44.141999999999996,
          43.321000000000005,
          42.95,
          42.597,
          42.138000000000005,
          41.229,
          41.513000000000005,
          40.594,
          40.066,
          40.555,
          40.359,
          39.47,
          38.894,
          39.255,
          38.443000000000005,
          39.361999999999995,
          39.04,
          39.001,
          39.46,
          39.04,
          38.219,
          38.443000000000005,
          39.773,
          39.45,
          40.564,
          40.34,
          39.646,
          40.291,
          39.577,
          41.17,
          41.961999999999996,
          43.556000000000004,
          43.663000000000004,
          43.869,
          44.363,
          43.519,
          44.131,
          43.742,
          43.16,
          43.053999999999995,
          43.093,
          42.451,
          43.093,
          43.093,
          43.519,
          42.849,
          42.006,
          42.461000000000006,
          42.18,
          42.879,
          42.667,
          42.511,
          42.626999999999995,
          42.49100000000001,
          42.18,
          41.695,
          41.376000000000005,
          41.773,
          42.268,
          42.152,
          41.841,
          42.036,
          41.23,
          41.531000000000006,
          41.656000000000006,
          41.336000000000006,
          42.355,
          41.986999999999995,
          41.415,
          41.522,
          41.153,
          41.201,
          39.503,
          39.465,
          40.57,
          40.92,
          40.9,
          41.666000000000004,
          41.425,
          42.18,
          43.053999999999995,
          42.55,
          42.559,
          42.946999999999996,
          42.577,
          42.684,
          42.849,
          44.943999999999996,
          45.053000000000004,
          45.129,
          45.303999999999995,
          46.273999999999994,
          46.613,
          46.37,
          46.138000000000005,
          46.797,
          47.001000000000005,
          46.157,
          45.578,
          45.666000000000004,
          45.636,
          45.578,
          45.83,
          46.513999999999996,
          45.317,
          44.412,
          45.001000000000005,
          43.178999999999995,
          42.841,
          42.66,
          43.353,
          43.275,
          43.303999999999995,
          42.775,
          42.118,
          41.95399999999999,
          40.673,
          40.412,
          39.873000000000005,
          40.365,
          39.758,
          40.211,
          41.568999999999996,
          41.472,
          42.36,
          42.437,
          41.763999999999996,
          41.146,
          40.874,
          40.51,
          40.336,
          39.863,
          39.68,
          40.113,
          40.385,
          40.48,
          40.963,
          40.461,
          41.019,
          40.874,
          40.664,
          40.278,
          40.441,
          40.884,
          40.634,
          40.471,
          39.247,
          39.699,
          39.661,
          38.755,
          39.333,
          39.978,
          40.848,
          40.914,
          40.923,
          40.306,
          40.769,
          41.242,
          40.664,
          40.817,
          41.133,
          40.242,
          40.338,
          40.586999999999996,
          41.81100000000001,
          40.702,
          42.576,
          41.036,
          40.654,
          39.946,
          39.869,
          39.946,
          39.668,
          39.919000000000004,
          39.524,
          37.975,
          38.664
         ]
        },
        {
         "histfunc": "count",
         "histnorm": "",
         "marker": {
          "color": "rgba(0, 128, 128, 1.0)",
          "line": {
           "color": "#4D5663",
           "width": 1.3
          }
         },
         "name": "WFC",
         "opacity": 0.8,
         "orientation": "v",
         "type": "histogram",
         "x": [
          24.17,
          24.46,
          24.52,
          23.95,
          25.41,
          23.36,
          24.06,
          22.53,
          24.04,
          24.78,
          25.43,
          25.23,
          25.1,
          25.796,
          26.805,
          27.041,
          28.471,
          29.403000000000002,
          28.295,
          27.844,
          26.384,
          26.002,
          26.266,
          26.305999999999997,
          27.129,
          27.815,
          26.355,
          27.874000000000002,
          29.579,
          30.804000000000002,
          32.539,
          29.677,
          28.197,
          28.06,
          25.708000000000002,
          26.678,
          26.041,
          28.128,
          29.324,
          29.677,
          30.285,
          28.393,
          28.344,
          24.747,
          25.971999999999998,
          27.726999999999997,
          27.56,
          29.04,
          25.971999999999998,
          30.275,
          26.658,
          31.686,
          34.381,
          31.833000000000002,
          36.351,
          38.125,
          40.576,
          39.723,
          41.418,
          40.037,
          41.623999999999995,
          43.261,
          44.221000000000004,
          45.466,
          46.75,
          46.397,
          46.152,
          46.053999999999995,
          47.26,
          47.162,
          46.838,
          47.034,
          46.818999999999996,
          46.887,
          47.025,
          46.848,
          45.83,
          45.695,
          45.519,
          46.46,
          45.84,
          45.937,
          45.675,
          46.131,
          46.761,
          47.09,
          47.458999999999996,
          47.692,
          47.76,
          46.858000000000004,
          47.809,
          50.533,
          50.912,
          51.13399999999999,
          51.221000000000004,
          51.066,
          51.493,
          51.803000000000004,
          52.123999999999995,
          52.172,
          51.978,
          52.288999999999994,
          52.511,
          52.192,
          52.181999999999995,
          51.716,
          52.007,
          52.04600000000001,
          52.695,
          52.58,
          52.162,
          52.715,
          51.56100000000001,
          52.065,
          52.288999999999994,
          52.725,
          51.619,
          51.629,
          50.989,
          51.997,
          52.812,
          52.695,
          52.181999999999995,
          52.57,
          52.637,
          51.94,
          51.92,
          52.395,
          52.36600000000001,
          52.172,
          51.871,
          51.677,
          52.58,
          52.413999999999994,
          52.463,
          52.36600000000001,
          51.677,
          51.198,
          50.64,
          50.121,
          49.593,
          49.978,
          50.111000000000004,
          49.611999999999995,
          49.536,
          49.085,
          48.92,
          48.623000000000005,
          48.468999999999994,
          47.998000000000005,
          47.653,
          47.633,
          48.133,
          47.326,
          47.269,
          46.73,
          46.251000000000005,
          45.934,
          46.88399999999999,
          47.269,
          46.567,
          46.558,
          47.123999999999995,
          48.451,
          48.708999999999996,
          46.942,
          47.317,
          46.73,
          47.028,
          46.711000000000006,
          46.98,
          46.998999999999995,
          46.836000000000006,
          47.048,
          46.989,
          46.73,
          46.923,
          46.403999999999996,
          46.5,
          45.29,
          45.742,
          44.665,
          44.271,
          44.733000000000004,
          44.368,
          43.677,
          42.985,
          43.206,
          42.668,
          43.821000000000005,
          43.224,
          42.917,
          43.465,
          42.638999999999996,
          41.668,
          42.235,
          44.146,
          43.637,
          44.473,
          44.568999999999996,
          43.513000000000005,
          44.577,
          43.826,
          45.06,
          44.7,
          45.982,
          46.115,
          45.858999999999995,
          46.828,
          45.678999999999995,
          46.021,
          44.833999999999996,
          44.148999999999994,
          43.723,
          43.522,
          42.943000000000005,
          43.028999999999996,
          44.368,
          44.985,
          44.776,
          44.785,
          45.431999999999995,
          45.147,
          45.373999999999995,
          45.269,
          44.861000000000004,
          45.299,
          44.946999999999996,
          43.968999999999994,
          43.503,
          43.826,
          43.95,
          44.538000000000004,
          43.56,
          43.361000000000004,
          43.788000000000004,
          43,
          43.303999999999995,
          43.019,
          42.658,
          43.94,
          43.95,
          43.341,
          43.618,
          43.56,
          43.388999999999996,
          42.288000000000004,
          42.145,
          42.791000000000004,
          43.2,
          43.303999999999995,
          43.855,
          43.276,
          43.788000000000004,
          44.007,
          43.17100000000001,
          43.408,
          43.598,
          43.541000000000004,
          44.158,
          44.007,
          44.785,
          44.397,
          44.217,
          44.375,
          45.56,
          45.768,
          45.43899999999999,
          45.372,
          45.543,
          45.411,
          45.119,
          44.695,
          44.666000000000004,
          44.545,
          44.461000000000006,
          44.761,
          44.733999999999995,
          44.828,
          43.998999999999995,
          43.735,
          44.912,
          44.958999999999996,
          45.288000000000004,
          45.983999999999995,
          45.89,
          46.256,
          45.965,
          45.352,
          45.919,
          45.456,
          46.181999999999995,
          45.881,
          46.107,
          45.233000000000004,
          45.446999999999996,
          46.906000000000006,
          47.413999999999994,
          48.364,
          48.666000000000004,
          47.659,
          47.368,
          46.964,
          46.71,
          46.812,
          46.85,
          46.736000000000004,
          46.869,
          46.934,
          47.141000000000005,
          47.067,
          46.934,
          46.943999999999996,
          46.652,
          46.718,
          46.11600000000001,
          46.623999999999995,
          46.86,
          46.455,
          46.303999999999995,
          45.646,
          46.11600000000001,
          46.144,
          44.828,
          44.828,
          45.233000000000004,
          46.303999999999995,
          46.351000000000006,
          46.153999999999996,
          46.013000000000005,
          46.013000000000005,
          46.7,
          46.475,
          46.446999999999996,
          46.736000000000004,
          46.597,
          46.727,
          46.483999999999995,
          46.625,
          45.897,
          45.626999999999995,
          44.443000000000005,
          45.143,
          44.63,
          44.516999999999996,
          44.565,
          44.321999999999996,
          44.415,
          44.70399999999999,
          43.418,
          43.763000000000005
         ]
        }
       ],
       "layout": {
        "barmode": "overlay",
        "legend": {
         "bgcolor": "#F5F6F9",
         "font": {
          "color": "#4D5663"
         }
        },
        "paper_bgcolor": "#F5F6F9",
        "plot_bgcolor": "#F5F6F9",
        "template": {
         "data": {
          "bar": [
           {
            "error_x": {
             "color": "#2a3f5f"
            },
            "error_y": {
             "color": "#2a3f5f"
            },
            "marker": {
             "line": {
              "color": "#E5ECF6",
              "width": 0.5
             }
            },
            "type": "bar"
           }
          ],
          "barpolar": [
           {
            "marker": {
             "line": {
              "color": "#E5ECF6",
              "width": 0.5
             }
            },
            "type": "barpolar"
           }
          ],
          "carpet": [
           {
            "aaxis": {
             "endlinecolor": "#2a3f5f",
             "gridcolor": "white",
             "linecolor": "white",
             "minorgridcolor": "white",
             "startlinecolor": "#2a3f5f"
            },
            "baxis": {
             "endlinecolor": "#2a3f5f",
             "gridcolor": "white",
             "linecolor": "white",
             "minorgridcolor": "white",
             "startlinecolor": "#2a3f5f"
            },
            "type": "carpet"
           }
          ],
          "choropleth": [
           {
            "colorbar": {
             "outlinewidth": 0,
             "ticks": ""
            },
            "type": "choropleth"
           }
          ],
          "contour": [
           {
            "colorbar": {
             "outlinewidth": 0,
             "ticks": ""
            },
            "colorscale": [
             [
              0,
              "#0d0887"
             ],
             [
              0.1111111111111111,
              "#46039f"
             ],
             [
              0.2222222222222222,
              "#7201a8"
             ],
             [
              0.3333333333333333,
              "#9c179e"
             ],
             [
              0.4444444444444444,
              "#bd3786"
             ],
             [
              0.5555555555555556,
              "#d8576b"
             ],
             [
              0.6666666666666666,
              "#ed7953"
             ],
             [
              0.7777777777777778,
              "#fb9f3a"
             ],
             [
              0.8888888888888888,
              "#fdca26"
             ],
             [
              1,
              "#f0f921"
             ]
            ],
            "type": "contour"
           }
          ],
          "contourcarpet": [
           {
            "colorbar": {
             "outlinewidth": 0,
             "ticks": ""
            },
            "type": "contourcarpet"
           }
          ],
          "heatmap": [
           {
            "colorbar": {
             "outlinewidth": 0,
             "ticks": ""
            },
            "colorscale": [
             [
              0,
              "#0d0887"
             ],
             [
              0.1111111111111111,
              "#46039f"
             ],
             [
              0.2222222222222222,
              "#7201a8"
             ],
             [
              0.3333333333333333,
              "#9c179e"
             ],
             [
              0.4444444444444444,
              "#bd3786"
             ],
             [
              0.5555555555555556,
              "#d8576b"
             ],
             [
              0.6666666666666666,
              "#ed7953"
             ],
             [
              0.7777777777777778,
              "#fb9f3a"
             ],
             [
              0.8888888888888888,
              "#fdca26"
             ],
             [
              1,
              "#f0f921"
             ]
            ],
            "type": "heatmap"
           }
          ],
          "heatmapgl": [
           {
            "colorbar": {
             "outlinewidth": 0,
             "ticks": ""
            },
            "colorscale": [
             [
              0,
              "#0d0887"
             ],
             [
              0.1111111111111111,
              "#46039f"
             ],
             [
              0.2222222222222222,
              "#7201a8"
             ],
             [
              0.3333333333333333,
              "#9c179e"
             ],
             [
              0.4444444444444444,
              "#bd3786"
             ],
             [
              0.5555555555555556,
              "#d8576b"
             ],
             [
              0.6666666666666666,
              "#ed7953"
             ],
             [
              0.7777777777777778,
              "#fb9f3a"
             ],
             [
              0.8888888888888888,
              "#fdca26"
             ],
             [
              1,
              "#f0f921"
             ]
            ],
            "type": "heatmapgl"
           }
          ],
          "histogram": [
           {
            "marker": {
             "colorbar": {
              "outlinewidth": 0,
              "ticks": ""
             }
            },
            "type": "histogram"
           }
          ],
          "histogram2d": [
           {
            "colorbar": {
             "outlinewidth": 0,
             "ticks": ""
            },
            "colorscale": [
             [
              0,
              "#0d0887"
             ],
             [
              0.1111111111111111,
              "#46039f"
             ],
             [
              0.2222222222222222,
              "#7201a8"
             ],
             [
              0.3333333333333333,
              "#9c179e"
             ],
             [
              0.4444444444444444,
              "#bd3786"
             ],
             [
              0.5555555555555556,
              "#d8576b"
             ],
             [
              0.6666666666666666,
              "#ed7953"
             ],
             [
              0.7777777777777778,
              "#fb9f3a"
             ],
             [
              0.8888888888888888,
              "#fdca26"
             ],
             [
              1,
              "#f0f921"
             ]
            ],
            "type": "histogram2d"
           }
          ],
          "histogram2dcontour": [
           {
            "colorbar": {
             "outlinewidth": 0,
             "ticks": ""
            },
            "colorscale": [
             [
              0,
              "#0d0887"
             ],
             [
              0.1111111111111111,
              "#46039f"
             ],
             [
              0.2222222222222222,
              "#7201a8"
             ],
             [
              0.3333333333333333,
              "#9c179e"
             ],
             [
              0.4444444444444444,
              "#bd3786"
             ],
             [
              0.5555555555555556,
              "#d8576b"
             ],
             [
              0.6666666666666666,
              "#ed7953"
             ],
             [
              0.7777777777777778,
              "#fb9f3a"
             ],
             [
              0.8888888888888888,
              "#fdca26"
             ],
             [
              1,
              "#f0f921"
             ]
            ],
            "type": "histogram2dcontour"
           }
          ],
          "mesh3d": [
           {
            "colorbar": {
             "outlinewidth": 0,
             "ticks": ""
            },
            "type": "mesh3d"
           }
          ],
          "parcoords": [
           {
            "line": {
             "colorbar": {
              "outlinewidth": 0,
              "ticks": ""
             }
            },
            "type": "parcoords"
           }
          ],
          "pie": [
           {
            "automargin": true,
            "type": "pie"
           }
          ],
          "scatter": [
           {
            "marker": {
             "colorbar": {
              "outlinewidth": 0,
              "ticks": ""
             }
            },
            "type": "scatter"
           }
          ],
          "scatter3d": [
           {
            "line": {
             "colorbar": {
              "outlinewidth": 0,
              "ticks": ""
             }
            },
            "marker": {
             "colorbar": {
              "outlinewidth": 0,
              "ticks": ""
             }
            },
            "type": "scatter3d"
           }
          ],
          "scattercarpet": [
           {
            "marker": {
             "colorbar": {
              "outlinewidth": 0,
              "ticks": ""
             }
            },
            "type": "scattercarpet"
           }
          ],
          "scattergeo": [
           {
            "marker": {
             "colorbar": {
              "outlinewidth": 0,
              "ticks": ""
             }
            },
            "type": "scattergeo"
           }
          ],
          "scattergl": [
           {
            "marker": {
             "colorbar": {
              "outlinewidth": 0,
              "ticks": ""
             }
            },
            "type": "scattergl"
           }
          ],
          "scattermapbox": [
           {
            "marker": {
             "colorbar": {
              "outlinewidth": 0,
              "ticks": ""
             }
            },
            "type": "scattermapbox"
           }
          ],
          "scatterpolar": [
           {
            "marker": {
             "colorbar": {
              "outlinewidth": 0,
              "ticks": ""
             }
            },
            "type": "scatterpolar"
           }
          ],
          "scatterpolargl": [
           {
            "marker": {
             "colorbar": {
              "outlinewidth": 0,
              "ticks": ""
             }
            },
            "type": "scatterpolargl"
           }
          ],
          "scatterternary": [
           {
            "marker": {
             "colorbar": {
              "outlinewidth": 0,
              "ticks": ""
             }
            },
            "type": "scatterternary"
           }
          ],
          "surface": [
           {
            "colorbar": {
             "outlinewidth": 0,
             "ticks": ""
            },
            "colorscale": [
             [
              0,
              "#0d0887"
             ],
             [
              0.1111111111111111,
              "#46039f"
             ],
             [
              0.2222222222222222,
              "#7201a8"
             ],
             [
              0.3333333333333333,
              "#9c179e"
             ],
             [
              0.4444444444444444,
              "#bd3786"
             ],
             [
              0.5555555555555556,
              "#d8576b"
             ],
             [
              0.6666666666666666,
              "#ed7953"
             ],
             [
              0.7777777777777778,
              "#fb9f3a"
             ],
             [
              0.8888888888888888,
              "#fdca26"
             ],
             [
              1,
              "#f0f921"
             ]
            ],
            "type": "surface"
           }
          ],
          "table": [
           {
            "cells": {
             "fill": {
              "color": "#EBF0F8"
             },
             "line": {
              "color": "white"
             }
            },
            "header": {
             "fill": {
              "color": "#C8D4E3"
             },
             "line": {
              "color": "white"
             }
            },
            "type": "table"
           }
          ]
         },
         "layout": {
          "annotationdefaults": {
           "arrowcolor": "#2a3f5f",
           "arrowhead": 0,
           "arrowwidth": 1
          },
          "coloraxis": {
           "colorbar": {
            "outlinewidth": 0,
            "ticks": ""
           }
          },
          "colorscale": {
           "diverging": [
            [
             0,
             "#8e0152"
            ],
            [
             0.1,
             "#c51b7d"
            ],
            [
             0.2,
             "#de77ae"
            ],
            [
             0.3,
             "#f1b6da"
            ],
            [
             0.4,
             "#fde0ef"
            ],
            [
             0.5,
             "#f7f7f7"
            ],
            [
             0.6,
             "#e6f5d0"
            ],
            [
             0.7,
             "#b8e186"
            ],
            [
             0.8,
             "#7fbc41"
            ],
            [
             0.9,
             "#4d9221"
            ],
            [
             1,
             "#276419"
            ]
           ],
           "sequential": [
            [
             0,
             "#0d0887"
            ],
            [
             0.1111111111111111,
             "#46039f"
            ],
            [
             0.2222222222222222,
             "#7201a8"
            ],
            [
             0.3333333333333333,
             "#9c179e"
            ],
            [
             0.4444444444444444,
             "#bd3786"
            ],
            [
             0.5555555555555556,
             "#d8576b"
            ],
            [
             0.6666666666666666,
             "#ed7953"
            ],
            [
             0.7777777777777778,
             "#fb9f3a"
            ],
            [
             0.8888888888888888,
             "#fdca26"
            ],
            [
             1,
             "#f0f921"
            ]
           ],
           "sequentialminus": [
            [
             0,
             "#0d0887"
            ],
            [
             0.1111111111111111,
             "#46039f"
            ],
            [
             0.2222222222222222,
             "#7201a8"
            ],
            [
             0.3333333333333333,
             "#9c179e"
            ],
            [
             0.4444444444444444,
             "#bd3786"
            ],
            [
             0.5555555555555556,
             "#d8576b"
            ],
            [
             0.6666666666666666,
             "#ed7953"
            ],
            [
             0.7777777777777778,
             "#fb9f3a"
            ],
            [
             0.8888888888888888,
             "#fdca26"
            ],
            [
             1,
             "#f0f921"
            ]
           ]
          },
          "colorway": [
           "#636efa",
           "#EF553B",
           "#00cc96",
           "#ab63fa",
           "#FFA15A",
           "#19d3f3",
           "#FF6692",
           "#B6E880",
           "#FF97FF",
           "#FECB52"
          ],
          "font": {
           "color": "#2a3f5f"
          },
          "geo": {
           "bgcolor": "white",
           "lakecolor": "white",
           "landcolor": "#E5ECF6",
           "showlakes": true,
           "showland": true,
           "subunitcolor": "white"
          },
          "hoverlabel": {
           "align": "left"
          },
          "hovermode": "closest",
          "mapbox": {
           "style": "light"
          },
          "paper_bgcolor": "white",
          "plot_bgcolor": "#E5ECF6",
          "polar": {
           "angularaxis": {
            "gridcolor": "white",
            "linecolor": "white",
            "ticks": ""
           },
           "bgcolor": "#E5ECF6",
           "radialaxis": {
            "gridcolor": "white",
            "linecolor": "white",
            "ticks": ""
           }
          },
          "scene": {
           "xaxis": {
            "backgroundcolor": "#E5ECF6",
            "gridcolor": "white",
            "gridwidth": 2,
            "linecolor": "white",
            "showbackground": true,
            "ticks": "",
            "zerolinecolor": "white"
           },
           "yaxis": {
            "backgroundcolor": "#E5ECF6",
            "gridcolor": "white",
            "gridwidth": 2,
            "linecolor": "white",
            "showbackground": true,
            "ticks": "",
            "zerolinecolor": "white"
           },
           "zaxis": {
            "backgroundcolor": "#E5ECF6",
            "gridcolor": "white",
            "gridwidth": 2,
            "linecolor": "white",
            "showbackground": true,
            "ticks": "",
            "zerolinecolor": "white"
           }
          },
          "shapedefaults": {
           "line": {
            "color": "#2a3f5f"
           }
          },
          "ternary": {
           "aaxis": {
            "gridcolor": "white",
            "linecolor": "white",
            "ticks": ""
           },
           "baxis": {
            "gridcolor": "white",
            "linecolor": "white",
            "ticks": ""
           },
           "bgcolor": "#E5ECF6",
           "caxis": {
            "gridcolor": "white",
            "linecolor": "white",
            "ticks": ""
           }
          },
          "title": {
           "x": 0.05
          },
          "xaxis": {
           "automargin": true,
           "gridcolor": "white",
           "linecolor": "white",
           "ticks": "",
           "title": {
            "standoff": 15
           },
           "zerolinecolor": "white",
           "zerolinewidth": 2
          },
          "yaxis": {
           "automargin": true,
           "gridcolor": "white",
           "linecolor": "white",
           "ticks": "",
           "title": {
            "standoff": 15
           },
           "zerolinecolor": "white",
           "zerolinewidth": 2
          }
         }
        },
        "title": {
         "font": {
          "color": "#4D5663"
         }
        },
        "xaxis": {
         "gridcolor": "#E1E5ED",
         "showgrid": true,
         "tickfont": {
          "color": "#4D5663"
         },
         "title": {
          "font": {
           "color": "#4D5663"
          },
          "text": ""
         },
         "zerolinecolor": "#E1E5ED"
        },
        "yaxis": {
         "gridcolor": "#E1E5ED",
         "showgrid": true,
         "tickfont": {
          "color": "#4D5663"
         },
         "title": {
          "font": {
           "color": "#4D5663"
          },
          "text": ""
         },
         "zerolinecolor": "#E1E5ED"
        }
       }
      },
      "text/html": [
       "<div>\n",
       "        \n",
       "        \n",
       "            <div id=\"bc560e0c-cea4-445f-b711-d4e9d0805445\" class=\"plotly-graph-div\" style=\"height:525px; width:100%;\"></div>\n",
       "            <script type=\"text/javascript\">\n",
       "                require([\"plotly\"], function(Plotly) {\n",
       "                    window.PLOTLYENV=window.PLOTLYENV || {};\n",
       "                    window.PLOTLYENV.BASE_URL='https://plot.ly';\n",
       "                    \n",
       "                if (document.getElementById(\"bc560e0c-cea4-445f-b711-d4e9d0805445\")) {\n",
       "                    Plotly.newPlot(\n",
       "                        'bc560e0c-cea4-445f-b711-d4e9d0805445',\n",
       "                        [{\"histfunc\": \"count\", \"histnorm\": \"\", \"marker\": {\"color\": \"rgba(255, 153, 51, 1.0)\", \"line\": {\"color\": \"#4D5663\", \"width\": 1.3}}, \"name\": \"BAC\", \"opacity\": 0.8, \"orientation\": \"v\", \"type\": \"histogram\", \"x\": [22.66, 22.9, 22.91, 22.21, 22.93, 21.44, 21.71, 20.87, 21.87, 22.58, 23.57, 22.84, 22.35, 22.66, 22.93, 23.08, 24.05, 24.78, 23.89, 23.47, 22.18, 21.87, 21.8, 21.64, 22.5, 23.28, 21.42, 22.19, 23.73, 23.92, 24.86, 23.45, 22.14, 21.39, 20.03, 20.57, 19.77, 21.23, 22.04, 21.6, 22.72, 21.1, 21.03, 18.08, 19.67, 21.2, 20.79, 21.98, 20.44, 24.16, 20.51, 22.67, 23.61, 21.93, 25.71, 26.78, 28.21, 27.574, 29.184, 28.319000000000003, 28.945, 30.436, 30.883000000000003, 32.522, 34.141999999999996, 34.629, 34.5, 34.053000000000004, 34.629, 34.689, 34.699, 34.55, 34.47, 34.391, 34.45, 34.49, 33.407, 32.760999999999996, 32.622, 33.268, 32.801, 33.029, 32.641999999999996, 33.327, 33.904, 34.141999999999996, 34.043, 34.49, 34.5, 34.45, 35.096, 34.838, 34.52, 34.808, 34.748000000000005, 34.400999999999996, 34.629, 34.679, 35.414, 34.997, 34.927, 35.126, 35.295, 34.997, 34.946999999999996, 34.738, 34.728, 34.887, 34.818000000000005, 34.48, 34.222, 34.46, 33.427, 33.317, 33.298, 33.457, 32.88, 32.760999999999996, 32.455, 33.037, 32.929, 33.028, 32.959, 33.077, 32.791, 32.455, 32.306, 32.553000000000004, 32.573, 32.543, 32.316, 32.405, 32.701, 32.791, 32.869, 32.84, 32.405, 32.435, 32.02, 31.426, 30.903000000000002, 31.249000000000002, 31.694000000000003, 31.465999999999998, 31.348000000000003, 30.991999999999997, 31.051, 30.834, 30.656, 29.994, 29.905, 29.816, 29.381999999999998, 28.798000000000002, 28.570999999999998, 28.116999999999997, 27.563000000000002, 27.305999999999997, 27.976999999999997, 28.037, 27.484, 27.513, 28.107, 28.828000000000003, 29.006, 28.788, 28.906999999999996, 28.601, 29.174, 29.241999999999997, 29.47, 29.648000000000003, 29.588, 29.776, 29.816, 29.322, 29.114, 29.006, 28.294, 27.404, 27.79, 26.99, 26.558000000000003, 27.01, 26.833000000000002, 26.361, 25.988000000000003, 26.293000000000003, 25.988000000000003, 26.695, 26.44, 26.234, 26.773000000000003, 26.538, 25.772, 25.938000000000002, 27.214000000000002, 27.136999999999997, 27.814, 27.863000000000003, 27.381999999999998, 27.903000000000002, 27.569000000000003, 28.846, 28.953000000000003, 30.122, 30.326999999999998, 29.964000000000002, 30.21, 29.787, 30.112, 29.699, 29.031, 28.864, 28.943, 28.659000000000002, 28.462, 28.688000000000002, 28.914, 28.826, 28.491, 28.816, 28.668000000000003, 28.726999999999997, 28.521, 28.619, 28.884, 28.471999999999998, 27.695999999999998, 27.401, 27.254, 27.471, 27.608, 27.756, 27.805, 28.1, 27.421, 27.529, 27.430999999999997, 27.441, 27.726, 27.559, 27.029, 27.372, 27.254, 27.264, 26.054000000000002, 25.975, 26.522, 27.098000000000003, 27.244, 27.518, 27.108, 27.82, 28.016, 27.733, 27.733, 27.919, 27.625999999999998, 27.948, 27.586, 28.885, 29.013, 29.1, 29.217, 29.755, 29.989, 29.783, 29.549, 29.862, 30.048000000000002, 29.636999999999997, 29.374000000000002, 29.315, 29.364, 29.344, 29.325, 29.325, 29.178, 29.14, 29.462, 28.388, 28.388, 28.212, 28.484, 28.398000000000003, 28.465, 28.162, 28.191999999999997, 27.87, 26.941999999999997, 26.688000000000002, 26.396, 26.570999999999998, 26.21, 26.375999999999998, 27.518, 27.967, 28.954, 29.12, 28.612, 28.768, 28.601999999999997, 28.261, 28.261, 27.976, 27.88, 28.162, 28.398000000000003, 28.348000000000003, 28.621, 28.398000000000003, 28.69, 28.456, 28.436999999999998, 28.254, 28.456, 28.574, 28.301, 28.281999999999996, 27.581999999999997, 27.884, 27.874000000000002, 27.601999999999997, 27.486, 27.436999999999998, 27.913, 27.962, 28.059, 27.573, 27.660999999999998, 28.244, 28.555, 28.787, 28.739, 28.254, 28.098000000000003, 28.263, 28.465999999999998, 28.165, 27.641, 25.794, 25.62, 25.29, 24.997, 25.026, 24.785, 24.833000000000002, 24.851, 23.862, 24.25]}, {\"histfunc\": \"count\", \"histnorm\": \"\", \"marker\": {\"color\": \"rgba(55, 128, 191, 1.0)\", \"line\": {\"color\": \"#4D5663\", \"width\": 1.3}}, \"name\": \"C\", \"opacity\": 0.8, \"orientation\": \"v\", \"type\": \"histogram\", \"x\": [44.1, 45.0, 45.47, 44.43, 45.67, 41.92, 42.06, 40.6, 42.35, 44.07, 46.32, 44.64, 42.95, 43.95, 45.12, 45.52, 48.05, 49.732, 46.714, 46.071000000000005, 42.647, 42.013999999999996, 41.79600000000001, 41.133, 43.548, 44.973, 40.094, 42.41, 44.943000000000005, 46.19, 46.912, 43.795, 40.817, 40.688, 37.096, 38.818000000000005, 38.106, 41.678000000000004, 43.617, 43.34, 45.537, 41.42, 40.233000000000004, 35.018, 37.66, 39.224000000000004, 36.047, 39.827, 40.757, 50.504, 42.806000000000004, 50.257, 54.996, 50.83, 60.636, 62.823, 66.682, 64.367, 66.88, 62.794, 63.773, 67.464, 68.70100000000001, 71.768, 75.637, 77.398, 77.23, 76.765, 77.96300000000001, 78.17, 78.497, 78.259, 77.656, 77.86399999999999, 78.141, 78.02199999999999, 75.697, 74.34100000000001, 73.62899999999999, 76.112, 75.178, 75.925, 75.405, 77.085, 78.441, 78.736, 78.54, 79.74, 79.62100000000001, 79.857, 80.515, 79.278, 77.90100000000001, 78.717, 78.009, 77.419, 78.098, 78.343, 79.848, 78.53, 78.156, 78.314, 78.471, 77.252, 77.419, 77.17399999999999, 76.869, 76.594, 76.417, 75.601, 75.09, 75.73899999999999, 74.264, 74.49, 74.048, 74.52, 73.439, 72.967, 72.082, 73.252, 73.84100000000001, 74.431, 74.176, 74.392, 73.596, 72.642, 72.652, 73.546, 73.134, 73.134, 72.584, 72.652, 73.793, 74.313, 74.825, 74.52, 73.154, 73.556, 73.87100000000001, 72.584, 70.13600000000001, 71.219, 71.336, 71.825, 71.414, 70.565, 70.711, 70.332, 70.086, 68.067, 67.93, 67.832, 69.51100000000001, 68.554, 68.418, 66.973, 65.811, 64.807, 66.514, 66.544, 65.1, 64.671, 66.514, 67.422, 67.793, 67.452, 67.715, 66.271, 67.881, 67.686, 68.057, 68.40899999999999, 67.813, 68.154, 68.70100000000001, 67.637, 67.24600000000001, 67.324, 67.139, 64.388, 64.748, 62.738, 61.898, 62.805, 62.36600000000001, 60.863, 60.18, 61.215, 60.463, 62.376000000000005, 61.732, 61.898, 62.766999999999996, 61.956, 59.849, 59.93600000000001, 63.273999999999994, 62.718, 64.465, 65.139, 63.577, 64.661, 63.61600000000001, 65.988, 66.212, 68.934, 69.468, 69.516, 69.904, 69.157, 70.726, 69.73899999999999, 68.885, 68.702, 69.544, 68.605, 69.09, 69.468, 69.524, 69.37100000000001, 68.905, 69.322, 68.905, 69.167, 68.634, 68.237, 68.528, 67.839, 66.018, 65.117, 64.459, 65.301, 65.844, 65.97, 65.476, 65.854, 64.459, 65.369, 64.98100000000001, 64.719, 65.757, 65.02, 63.636, 64.392, 63.723, 63.818999999999996, 60.652, 60.206, 61.62, 61.717, 61.795, 62.376000000000005, 61.901, 62.638000000000005, 64.014, 62.927, 63.035, 63.917, 62.841, 63.218, 62.36600000000001, 65.77600000000001, 65.515, 66.086, 66.028, 68.208, 68.459, 67.723, 67.33800000000001, 68.051, 68.368, 66.905, 66.154, 66.251, 66.607, 66.5, 67.058, 67.71300000000001, 66.71300000000001, 64.854, 64.893, 63.44, 63.06399999999999, 62.757, 63.593999999999994, 63.093, 63.353, 62.622, 62.006, 61.948, 59.888999999999996, 59.657, 58.455, 58.926, 58.07, 58.695, 61.515, 61.89, 63.17100000000001, 63.458999999999996, 62.748000000000005, 61.708, 61.265, 60.455, 59.974, 59.735, 59.581, 60.167, 60.571999999999996, 61.361000000000004, 62.053999999999995, 61.582, 61.986999999999995, 61.717, 62.111999999999995, 61.736000000000004, 61.91, 62.218999999999994, 61.967, 61.861000000000004, 60.08, 60.678000000000004, 60.321000000000005, 59.302, 59.68600000000001, 60.455, 61.495, 61.418, 61.66, 61.284, 61.611000000000004, 61.382, 60.418, 61.027, 61.191, 59.938, 59.38399999999999, 59.117, 60.33, 59.708999999999996, 59.442, 58.667, 56.326, 54.185, 53.946000000000005, 53.888000000000005, 53.01, 53.153, 52.693999999999996, 50.236999999999995, 51.163999999999994]}, {\"histfunc\": \"count\", \"histnorm\": \"\", \"marker\": {\"color\": \"rgba(50, 171, 96, 1.0)\", \"line\": {\"color\": \"#4D5663\", \"width\": 1.3}}, \"name\": \"GS\", \"opacity\": 0.8, \"orientation\": \"v\", \"type\": \"histogram\", \"x\": [179.93, 180.1, 181.44, 177.83, 181.88, 171.87, 174.45, 171.8, 177.21, 183.16, 185.39, 182.32, 176.92, 178.3, 176.03, 177.1, 183.42, 190.03, 187.01, 183.54, 177.0, 175.05, 175.98, 173.81, 180.4, 183.49, 177.04, 178.52, 178.23, 179.18, 184.26, 176.96, 166.02, 158.23, 146.93, 149.93, 145.29, 154.59, 159.62, 158.34, 165.79, 155.13, 153.6, 134.97, 138.41, 149.49, 140.02, 158.67, 154.66, 177.17, 150.68, 171.89, 184.35, 172.81, 192.85, 198.79, 208.74, 203.43, 209.47, 200.77, 204.44, 214.47, 216.29, 223.18, 229.22, 231.32, 235.89, 231.79, 235.64, 236.9, 237.2, 235.02, 235.92, 236.55, 240.35, 242.82, 240.47, 237.56, 236.31, 242.65, 238.66, 241.11, 236.69, 240.45, 244.09, 245.55, 244.21, 247.94, 248.2, 243.72, 244.17, 243.72, 240.64, 241.13, 236.32, 234.06, 232.53, 230.17, 232.9, 228.53, 228.4, 229.26, 229.8, 228.51, 227.7, 227.54, 228.54, 229.05, 229.75, 226.65, 223.63, 224.68, 219.85, 220.53, 220.46, 223.25, 215.82, 214.63, 210.95, 216.32, 220.0, 220.35, 219.86, 220.15, 217.71, 215.69, 215.37, 217.48, 217.17, 217.69, 216.87, 216.76, 217.84, 216.48, 220.31, 220.69, 215.88, 216.09, 217.31, 214.86, 210.89, 213.3, 215.1, 215.21, 211.74, 208.59, 208.86, 207.15, 206.82, 204.11, 204.05, 205.01, 204.05, 203.43, 202.29, 197.54, 194.56, 195.07, 198.07, 198.46, 194.94, 195.94, 200.33, 204.82, 206.54, 205.79, 207.58, 205.33, 210.97, 211.25, 212.72, 214.55, 213.4, 214.69, 217.34, 216.19, 214.27, 213.12, 209.51, 204.8, 204.64, 199.38, 196.65, 201.54, 201.07, 196.85, 194.54, 196.09, 192.71, 198.81, 197.1, 196.42, 198.6, 195.87, 192.69, 192.08, 200.47, 197.93, 203.22, 203.32, 202.07, 202.34, 198.09, 205.63, 207.83, 216.21, 217.46, 216.4, 218.18, 216.06, 218.08, 215.52, 210.19, 209.72, 210.69, 209.5, 211.69, 207.81, 210.14, 207.58, 202.3, 204.06, 202.08, 204.19, 202.36, 202.31, 203.18, 200.95, 195.77, 193.5, 192.57, 193.97, 192.45, 192.21, 192.16, 191.5, 187.43, 188.24, 188.04, 186.83, 191.27, 190.66, 186.43, 186.43, 185.08, 186.5, 179.93, 179.23, 184.03, 184.7, 185.23, 188.71, 187.71, 191.18, 194.69, 192.87, 193.03, 194.72, 192.04, 191.92, 190.64, 197.56, 197.15, 196.49, 198.13, 201.85, 202.91, 200.43, 200.18, 201.35, 202.32, 198.57, 196.93, 196.08, 199.6, 200.06, 201.34, 203.29, 197.35, 195.46, 203.23, 198.32, 198.47, 196.16, 198.04, 197.88, 197.73, 196.4, 193.1, 192.37, 187.73, 186.93, 185.81, 186.45, 184.31, 184.76, 190.26, 190.0, 196.65, 197.97, 193.85, 193.07, 192.87, 192.26, 191.61, 190.9, 188.49, 190.42, 191.64, 191.62, 193.8, 192.33, 193.7, 193.7, 193.45, 190.87, 191.23, 193.4, 193.47, 193.3, 187.5, 189.6, 189.41, 186.32, 186.65, 188.02, 191.47, 192.84, 192.55, 191.39, 192.84, 197.19, 195.25, 194.5, 195.48, 192.63, 191.75, 192.51, 197.24, 193.88, 191.93, 175.22, 174.04, 172.31, 171.39, 171.86, 170.79, 171.41, 170.48, 165.07, 167.54]}, {\"histfunc\": \"count\", \"histnorm\": \"\", \"marker\": {\"color\": \"rgba(128, 0, 128, 1.0)\", \"line\": {\"color\": \"#4D5663\", \"width\": 1.3}}, \"name\": \"JPM\", \"opacity\": 0.8, \"orientation\": \"v\", \"type\": \"histogram\", \"x\": [89.47, 90.17, 91.33, 88.67, 90.45, 85.9, 87.52, 84.03, 87.03, 89.97, 92.7, 91.21, 90.27, 92.0, 92.14, 93.25, 95.76, 97.86, 95.29, 94.62, 90.71, 89.39, 89.34, 89.05, 91.71, 95.18, 87.33, 90.79, 95.5, 98.19, 102.76, 94.3, 90.64, 89.46, 84.05, 86.61, 83.492, 89.104, 92.538, 90.193, 97.111, 90.787, 87.521, 78.217, 82.641, 84.42299999999999, 83.027, 92.796, 87.45100000000001, 102.84, 87.14399999999999, 94.973, 99.66, 92.479, 106.97, 112.8, 118.62, 115.76, 120.27, 114.92, 120.12, 125.34, 124.96, 130.8, 134.41, 136.08, 136.08, 134.25, 136.05, 136.46, 136.58, 136.58, 136.32, 135.76, 136.19, 136.17, 133.9, 132.0, 131.0, 134.49, 132.85, 133.05, 130.67, 131.78, 135.14, 135.27, 135.43, 136.78, 135.84, 135.31, 137.37, 135.79, 134.67, 136.03, 135.53, 134.48, 136.81, 136.92, 138.75, 137.09, 136.33, 136.83, 136.73, 135.29, 134.92, 134.96, 135.07, 135.75, 135.89, 135.06, 134.54, 135.73, 131.95, 132.27, 132.18, 132.8, 130.85, 130.15, 127.62, 129.29, 129.57, 129.87, 129.48, 129.31, 128.62, 127.77, 127.48, 128.42, 128.46, 127.38, 126.47, 126.35, 127.02, 127.76, 128.22, 127.84, 127.16, 126.96, 126.68, 125.67, 122.84, 123.65, 124.33, 124.41, 123.94, 122.95, 123.04, 122.71, 121.5, 118.56, 118.35, 117.7, 117.96, 114.52, 114.21, 112.31, 110.76, 109.97, 112.47, 112.72, 110.32, 110.48, 112.73, 114.82, 114.85, 114.17, 115.11, 114.47, 115.98, 116.0, 116.46, 116.84, 115.68, 116.25, 117.29, 115.02, 114.33, 114.02, 112.58, 109.87, 109.63, 107.19, 105.91, 107.18, 106.55, 104.19, 103.16, 104.26, 103.44, 106.07, 104.98, 104.69, 106.04, 105.09, 102.62, 102.25, 106.67, 105.12, 107.07, 107.18, 105.39, 107.73, 106.9, 110.18, 110.19, 113.17, 112.77, 113.03, 113.38, 112.89, 113.98, 113.52, 111.48, 110.77, 111.87, 111.2, 112.31, 111.12, 112.48, 111.31, 110.25, 110.58, 110.12, 110.72, 110.07, 110.23, 110.13, 108.3, 105.43, 105.09, 104.39, 105.27, 106.02, 106.75, 106.47, 107.25, 105.8, 106.38, 106.12, 105.85, 107.22, 106.89, 105.74, 106.92, 106.69, 106.31, 103.13, 102.64, 103.72, 104.84, 105.13, 106.28, 105.25, 107.35, 108.24, 107.87, 107.3, 107.83, 106.46, 106.87, 106.03, 108.99, 109.0, 109.09, 109.67, 111.49, 112.48, 111.8, 111.56, 112.41, 112.48, 110.9, 110.06, 110.0, 110.19, 110.05, 109.91, 110.73, 107.62, 106.5, 107.73, 102.9, 102.05, 101.58, 102.36, 102.02, 102.27, 101.28, 101.08, 100.6, 97.315, 96.824, 95.73299999999999, 96.061, 95.109, 95.906, 98.89200000000001, 100.49, 102.66, 103.05, 102.45, 101.28, 100.36, 100.02, 100.32, 99.031, 98.991, 99.71, 100.08, 100.16, 100.4, 100.33, 101.1, 101.23, 102.0, 100.95, 101.39, 101.6, 101.12, 101.47, 98.46799999999999, 99.11, 98.635, 96.979, 97.441, 98.429, 99.73, 99.78, 100.22, 99.87, 99.49600000000001, 100.38, 100.14, 99.87, 99.397, 98.774, 98.714, 98.962, 100.56, 98.94200000000001, 98.536, 97.75399999999999, 97.039, 96.051, 96.515, 96.525, 96.68799999999999, 96.863, 96.805, 93.36, 94.706]}, {\"histfunc\": \"count\", \"histnorm\": \"\", \"marker\": {\"color\": \"rgba(219, 64, 82, 1.0)\", \"line\": {\"color\": \"#4D5663\", \"width\": 1.3}}, \"name\": \"MS\", \"opacity\": 0.8, \"orientation\": \"v\", \"type\": \"histogram\", \"x\": [40.13, 40.3, 41.06, 39.33, 40.28, 37.29, 37.81, 36.99, 38.42, 39.83, 40.08, 38.81, 37.3, 37.98, 38.09, 38.4, 39.43, 40.79, 39.78, 38.967, 37.639, 37.143, 37.48, 36.628, 38.025, 38.749, 38.025, 38.065, 39.512, 39.235, 40.722, 39.027, 36.618, 36.687, 33.555, 33.604, 31.344, 33.703, 34.536, 33.713, 35.399, 33.694, 32.93, 27.566999999999997, 29.410999999999998, 30.65, 30.482, 33.495, 31.374000000000002, 37.173, 31.037, 36.548, 39.155, 37.173, 41.475, 42.218999999999994, 44.845, 44.013000000000005, 46.075, 44.637, 45.013999999999996, 46.828, 47.611000000000004, 49.247, 51.963, 53.281000000000006, 55.818999999999996, 55.036, 55.353, 55.442, 55.69, 55.294, 54.867, 54.55, 54.53, 54.51, 53.549, 52.141000000000005, 51.803999999999995, 53.351000000000006, 52.865, 53.2, 52.303999999999995, 53.721000000000004, 54.687, 55.012, 55.07, 56.637, 55.583, 52.136, 52.056999999999995, 51.979, 51.418, 51.27, 50.787, 50.147, 50.245, 50.422, 51.25, 50.343999999999994, 50.18600000000001, 50.31399999999999, 50.333999999999996, 49.92, 49.95, 49.92, 50.086999999999996, 49.891000000000005, 50.126999999999995, 49.95, 49.477, 49.92, 48.7, 48.916000000000004, 48.847, 49.043, 48.325, 48.099, 47.379, 48.335, 48.728, 49.023999999999994, 48.66, 49.201, 48.501999999999995, 48.099, 48.355, 48.581, 48.285, 48.247, 47.872, 47.655, 48.265, 48.345, 48.403999999999996, 47.92100000000001, 47.821999999999996, 48.01, 48.089, 46.611000000000004, 45.351000000000006, 45.556999999999995, 45.773999999999994, 45.784, 45.324, 44.728, 44.875, 44.357, 43.966, 42.676, 42.46, 41.825, 41.571000000000005, 41.298, 40.985, 40.124, 39.528, 38.922, 39.763000000000005, 39.86, 39.343, 39.323, 40.446999999999996, 41.708, 41.875, 41.658, 42.068999999999996, 41.581, 42.577, 42.685, 43.027, 43.36, 43.214, 43.74100000000001, 44.141999999999996, 43.321000000000005, 42.95, 42.597, 42.138000000000005, 41.229, 41.513000000000005, 40.594, 40.066, 40.555, 40.359, 39.47, 38.894, 39.255, 38.443000000000005, 39.361999999999995, 39.04, 39.001, 39.46, 39.04, 38.219, 38.443000000000005, 39.773, 39.45, 40.564, 40.34, 39.646, 40.291, 39.577, 41.17, 41.961999999999996, 43.556000000000004, 43.663000000000004, 43.869, 44.363, 43.519, 44.131, 43.742, 43.16, 43.053999999999995, 43.093, 42.451, 43.093, 43.093, 43.519, 42.849, 42.006, 42.461000000000006, 42.18, 42.879, 42.667, 42.511, 42.626999999999995, 42.49100000000001, 42.18, 41.695, 41.376000000000005, 41.773, 42.268, 42.152, 41.841, 42.036, 41.23, 41.531000000000006, 41.656000000000006, 41.336000000000006, 42.355, 41.986999999999995, 41.415, 41.522, 41.153, 41.201, 39.503, 39.465, 40.57, 40.92, 40.9, 41.666000000000004, 41.425, 42.18, 43.053999999999995, 42.55, 42.559, 42.946999999999996, 42.577, 42.684, 42.849, 44.943999999999996, 45.053000000000004, 45.129, 45.303999999999995, 46.273999999999994, 46.613, 46.37, 46.138000000000005, 46.797, 47.001000000000005, 46.157, 45.578, 45.666000000000004, 45.636, 45.578, 45.83, 46.513999999999996, 45.317, 44.412, 45.001000000000005, 43.178999999999995, 42.841, 42.66, 43.353, 43.275, 43.303999999999995, 42.775, 42.118, 41.95399999999999, 40.673, 40.412, 39.873000000000005, 40.365, 39.758, 40.211, 41.568999999999996, 41.472, 42.36, 42.437, 41.763999999999996, 41.146, 40.874, 40.51, 40.336, 39.863, 39.68, 40.113, 40.385, 40.48, 40.963, 40.461, 41.019, 40.874, 40.664, 40.278, 40.441, 40.884, 40.634, 40.471, 39.247, 39.699, 39.661, 38.755, 39.333, 39.978, 40.848, 40.914, 40.923, 40.306, 40.769, 41.242, 40.664, 40.817, 41.133, 40.242, 40.338, 40.586999999999996, 41.81100000000001, 40.702, 42.576, 41.036, 40.654, 39.946, 39.869, 39.946, 39.668, 39.919000000000004, 39.524, 37.975, 38.664]}, {\"histfunc\": \"count\", \"histnorm\": \"\", \"marker\": {\"color\": \"rgba(0, 128, 128, 1.0)\", \"line\": {\"color\": \"#4D5663\", \"width\": 1.3}}, \"name\": \"WFC\", \"opacity\": 0.8, \"orientation\": \"v\", \"type\": \"histogram\", \"x\": [24.17, 24.46, 24.52, 23.95, 25.41, 23.36, 24.06, 22.53, 24.04, 24.78, 25.43, 25.23, 25.1, 25.796, 26.805, 27.041, 28.471, 29.403000000000002, 28.295, 27.844, 26.384, 26.002, 26.266, 26.305999999999997, 27.129, 27.815, 26.355, 27.874000000000002, 29.579, 30.804000000000002, 32.539, 29.677, 28.197, 28.06, 25.708000000000002, 26.678, 26.041, 28.128, 29.324, 29.677, 30.285, 28.393, 28.344, 24.747, 25.971999999999998, 27.726999999999997, 27.56, 29.04, 25.971999999999998, 30.275, 26.658, 31.686, 34.381, 31.833000000000002, 36.351, 38.125, 40.576, 39.723, 41.418, 40.037, 41.623999999999995, 43.261, 44.221000000000004, 45.466, 46.75, 46.397, 46.152, 46.053999999999995, 47.26, 47.162, 46.838, 47.034, 46.818999999999996, 46.887, 47.025, 46.848, 45.83, 45.695, 45.519, 46.46, 45.84, 45.937, 45.675, 46.131, 46.761, 47.09, 47.458999999999996, 47.692, 47.76, 46.858000000000004, 47.809, 50.533, 50.912, 51.13399999999999, 51.221000000000004, 51.066, 51.493, 51.803000000000004, 52.123999999999995, 52.172, 51.978, 52.288999999999994, 52.511, 52.192, 52.181999999999995, 51.716, 52.007, 52.04600000000001, 52.695, 52.58, 52.162, 52.715, 51.56100000000001, 52.065, 52.288999999999994, 52.725, 51.619, 51.629, 50.989, 51.997, 52.812, 52.695, 52.181999999999995, 52.57, 52.637, 51.94, 51.92, 52.395, 52.36600000000001, 52.172, 51.871, 51.677, 52.58, 52.413999999999994, 52.463, 52.36600000000001, 51.677, 51.198, 50.64, 50.121, 49.593, 49.978, 50.111000000000004, 49.611999999999995, 49.536, 49.085, 48.92, 48.623000000000005, 48.468999999999994, 47.998000000000005, 47.653, 47.633, 48.133, 47.326, 47.269, 46.73, 46.251000000000005, 45.934, 46.88399999999999, 47.269, 46.567, 46.558, 47.123999999999995, 48.451, 48.708999999999996, 46.942, 47.317, 46.73, 47.028, 46.711000000000006, 46.98, 46.998999999999995, 46.836000000000006, 47.048, 46.989, 46.73, 46.923, 46.403999999999996, 46.5, 45.29, 45.742, 44.665, 44.271, 44.733000000000004, 44.368, 43.677, 42.985, 43.206, 42.668, 43.821000000000005, 43.224, 42.917, 43.465, 42.638999999999996, 41.668, 42.235, 44.146, 43.637, 44.473, 44.568999999999996, 43.513000000000005, 44.577, 43.826, 45.06, 44.7, 45.982, 46.115, 45.858999999999995, 46.828, 45.678999999999995, 46.021, 44.833999999999996, 44.148999999999994, 43.723, 43.522, 42.943000000000005, 43.028999999999996, 44.368, 44.985, 44.776, 44.785, 45.431999999999995, 45.147, 45.373999999999995, 45.269, 44.861000000000004, 45.299, 44.946999999999996, 43.968999999999994, 43.503, 43.826, 43.95, 44.538000000000004, 43.56, 43.361000000000004, 43.788000000000004, 43.0, 43.303999999999995, 43.019, 42.658, 43.94, 43.95, 43.341, 43.618, 43.56, 43.388999999999996, 42.288000000000004, 42.145, 42.791000000000004, 43.2, 43.303999999999995, 43.855, 43.276, 43.788000000000004, 44.007, 43.17100000000001, 43.408, 43.598, 43.541000000000004, 44.158, 44.007, 44.785, 44.397, 44.217, 44.375, 45.56, 45.768, 45.43899999999999, 45.372, 45.543, 45.411, 45.119, 44.695, 44.666000000000004, 44.545, 44.461000000000006, 44.761, 44.733999999999995, 44.828, 43.998999999999995, 43.735, 44.912, 44.958999999999996, 45.288000000000004, 45.983999999999995, 45.89, 46.256, 45.965, 45.352, 45.919, 45.456, 46.181999999999995, 45.881, 46.107, 45.233000000000004, 45.446999999999996, 46.906000000000006, 47.413999999999994, 48.364, 48.666000000000004, 47.659, 47.368, 46.964, 46.71, 46.812, 46.85, 46.736000000000004, 46.869, 46.934, 47.141000000000005, 47.067, 46.934, 46.943999999999996, 46.652, 46.718, 46.11600000000001, 46.623999999999995, 46.86, 46.455, 46.303999999999995, 45.646, 46.11600000000001, 46.144, 44.828, 44.828, 45.233000000000004, 46.303999999999995, 46.351000000000006, 46.153999999999996, 46.013000000000005, 46.013000000000005, 46.7, 46.475, 46.446999999999996, 46.736000000000004, 46.597, 46.727, 46.483999999999995, 46.625, 45.897, 45.626999999999995, 44.443000000000005, 45.143, 44.63, 44.516999999999996, 44.565, 44.321999999999996, 44.415, 44.70399999999999, 43.418, 43.763000000000005]}],\n",
       "                        {\"barmode\": \"overlay\", \"legend\": {\"bgcolor\": \"#F5F6F9\", \"font\": {\"color\": \"#4D5663\"}}, \"paper_bgcolor\": \"#F5F6F9\", \"plot_bgcolor\": \"#F5F6F9\", \"template\": {\"data\": {\"bar\": [{\"error_x\": {\"color\": \"#2a3f5f\"}, \"error_y\": {\"color\": \"#2a3f5f\"}, \"marker\": {\"line\": {\"color\": \"#E5ECF6\", \"width\": 0.5}}, \"type\": \"bar\"}], \"barpolar\": [{\"marker\": {\"line\": {\"color\": \"#E5ECF6\", \"width\": 0.5}}, \"type\": \"barpolar\"}], \"carpet\": [{\"aaxis\": {\"endlinecolor\": \"#2a3f5f\", \"gridcolor\": \"white\", \"linecolor\": \"white\", \"minorgridcolor\": \"white\", \"startlinecolor\": \"#2a3f5f\"}, \"baxis\": {\"endlinecolor\": \"#2a3f5f\", \"gridcolor\": \"white\", \"linecolor\": \"white\", \"minorgridcolor\": \"white\", \"startlinecolor\": \"#2a3f5f\"}, \"type\": \"carpet\"}], \"choropleth\": [{\"colorbar\": {\"outlinewidth\": 0, \"ticks\": \"\"}, \"type\": \"choropleth\"}], \"contour\": [{\"colorbar\": {\"outlinewidth\": 0, \"ticks\": \"\"}, \"colorscale\": [[0.0, \"#0d0887\"], [0.1111111111111111, \"#46039f\"], [0.2222222222222222, \"#7201a8\"], [0.3333333333333333, \"#9c179e\"], [0.4444444444444444, \"#bd3786\"], [0.5555555555555556, \"#d8576b\"], [0.6666666666666666, \"#ed7953\"], [0.7777777777777778, \"#fb9f3a\"], [0.8888888888888888, \"#fdca26\"], [1.0, \"#f0f921\"]], \"type\": \"contour\"}], \"contourcarpet\": [{\"colorbar\": {\"outlinewidth\": 0, \"ticks\": \"\"}, \"type\": \"contourcarpet\"}], \"heatmap\": [{\"colorbar\": {\"outlinewidth\": 0, \"ticks\": \"\"}, \"colorscale\": [[0.0, \"#0d0887\"], [0.1111111111111111, \"#46039f\"], [0.2222222222222222, \"#7201a8\"], [0.3333333333333333, \"#9c179e\"], [0.4444444444444444, \"#bd3786\"], [0.5555555555555556, \"#d8576b\"], [0.6666666666666666, \"#ed7953\"], [0.7777777777777778, \"#fb9f3a\"], [0.8888888888888888, \"#fdca26\"], [1.0, \"#f0f921\"]], \"type\": \"heatmap\"}], \"heatmapgl\": [{\"colorbar\": {\"outlinewidth\": 0, \"ticks\": \"\"}, \"colorscale\": [[0.0, \"#0d0887\"], [0.1111111111111111, \"#46039f\"], [0.2222222222222222, \"#7201a8\"], [0.3333333333333333, \"#9c179e\"], [0.4444444444444444, \"#bd3786\"], [0.5555555555555556, \"#d8576b\"], [0.6666666666666666, \"#ed7953\"], [0.7777777777777778, \"#fb9f3a\"], [0.8888888888888888, \"#fdca26\"], [1.0, \"#f0f921\"]], \"type\": \"heatmapgl\"}], \"histogram\": [{\"marker\": {\"colorbar\": {\"outlinewidth\": 0, \"ticks\": \"\"}}, \"type\": \"histogram\"}], \"histogram2d\": [{\"colorbar\": {\"outlinewidth\": 0, \"ticks\": \"\"}, \"colorscale\": [[0.0, \"#0d0887\"], [0.1111111111111111, \"#46039f\"], [0.2222222222222222, \"#7201a8\"], [0.3333333333333333, \"#9c179e\"], [0.4444444444444444, \"#bd3786\"], [0.5555555555555556, \"#d8576b\"], [0.6666666666666666, \"#ed7953\"], [0.7777777777777778, \"#fb9f3a\"], [0.8888888888888888, \"#fdca26\"], [1.0, \"#f0f921\"]], \"type\": \"histogram2d\"}], \"histogram2dcontour\": [{\"colorbar\": {\"outlinewidth\": 0, \"ticks\": \"\"}, \"colorscale\": [[0.0, \"#0d0887\"], [0.1111111111111111, \"#46039f\"], [0.2222222222222222, \"#7201a8\"], [0.3333333333333333, \"#9c179e\"], [0.4444444444444444, \"#bd3786\"], [0.5555555555555556, \"#d8576b\"], [0.6666666666666666, \"#ed7953\"], [0.7777777777777778, \"#fb9f3a\"], [0.8888888888888888, \"#fdca26\"], [1.0, \"#f0f921\"]], \"type\": \"histogram2dcontour\"}], \"mesh3d\": [{\"colorbar\": {\"outlinewidth\": 0, \"ticks\": \"\"}, \"type\": \"mesh3d\"}], \"parcoords\": [{\"line\": {\"colorbar\": {\"outlinewidth\": 0, \"ticks\": \"\"}}, \"type\": \"parcoords\"}], \"pie\": [{\"automargin\": true, \"type\": \"pie\"}], \"scatter\": [{\"marker\": {\"colorbar\": {\"outlinewidth\": 0, \"ticks\": \"\"}}, \"type\": \"scatter\"}], \"scatter3d\": [{\"line\": {\"colorbar\": {\"outlinewidth\": 0, \"ticks\": \"\"}}, \"marker\": {\"colorbar\": {\"outlinewidth\": 0, \"ticks\": \"\"}}, \"type\": \"scatter3d\"}], \"scattercarpet\": [{\"marker\": {\"colorbar\": {\"outlinewidth\": 0, \"ticks\": \"\"}}, \"type\": \"scattercarpet\"}], \"scattergeo\": [{\"marker\": {\"colorbar\": {\"outlinewidth\": 0, \"ticks\": \"\"}}, \"type\": \"scattergeo\"}], \"scattergl\": [{\"marker\": {\"colorbar\": {\"outlinewidth\": 0, \"ticks\": \"\"}}, \"type\": \"scattergl\"}], \"scattermapbox\": [{\"marker\": {\"colorbar\": {\"outlinewidth\": 0, \"ticks\": \"\"}}, \"type\": \"scattermapbox\"}], \"scatterpolar\": [{\"marker\": {\"colorbar\": {\"outlinewidth\": 0, \"ticks\": \"\"}}, \"type\": \"scatterpolar\"}], \"scatterpolargl\": [{\"marker\": {\"colorbar\": {\"outlinewidth\": 0, \"ticks\": \"\"}}, \"type\": \"scatterpolargl\"}], \"scatterternary\": [{\"marker\": {\"colorbar\": {\"outlinewidth\": 0, \"ticks\": \"\"}}, \"type\": \"scatterternary\"}], \"surface\": [{\"colorbar\": {\"outlinewidth\": 0, \"ticks\": \"\"}, \"colorscale\": [[0.0, \"#0d0887\"], [0.1111111111111111, \"#46039f\"], [0.2222222222222222, \"#7201a8\"], [0.3333333333333333, \"#9c179e\"], [0.4444444444444444, \"#bd3786\"], [0.5555555555555556, \"#d8576b\"], [0.6666666666666666, \"#ed7953\"], [0.7777777777777778, \"#fb9f3a\"], [0.8888888888888888, \"#fdca26\"], [1.0, \"#f0f921\"]], \"type\": \"surface\"}], \"table\": [{\"cells\": {\"fill\": {\"color\": \"#EBF0F8\"}, \"line\": {\"color\": \"white\"}}, \"header\": {\"fill\": {\"color\": \"#C8D4E3\"}, \"line\": {\"color\": \"white\"}}, \"type\": \"table\"}]}, \"layout\": {\"annotationdefaults\": {\"arrowcolor\": \"#2a3f5f\", \"arrowhead\": 0, \"arrowwidth\": 1}, \"coloraxis\": {\"colorbar\": {\"outlinewidth\": 0, \"ticks\": \"\"}}, \"colorscale\": {\"diverging\": [[0, \"#8e0152\"], [0.1, \"#c51b7d\"], [0.2, \"#de77ae\"], [0.3, \"#f1b6da\"], [0.4, \"#fde0ef\"], [0.5, \"#f7f7f7\"], [0.6, \"#e6f5d0\"], [0.7, \"#b8e186\"], [0.8, \"#7fbc41\"], [0.9, \"#4d9221\"], [1, \"#276419\"]], \"sequential\": [[0.0, \"#0d0887\"], [0.1111111111111111, \"#46039f\"], [0.2222222222222222, \"#7201a8\"], [0.3333333333333333, \"#9c179e\"], [0.4444444444444444, \"#bd3786\"], [0.5555555555555556, \"#d8576b\"], [0.6666666666666666, \"#ed7953\"], [0.7777777777777778, \"#fb9f3a\"], [0.8888888888888888, \"#fdca26\"], [1.0, \"#f0f921\"]], \"sequentialminus\": [[0.0, \"#0d0887\"], [0.1111111111111111, \"#46039f\"], [0.2222222222222222, \"#7201a8\"], [0.3333333333333333, \"#9c179e\"], [0.4444444444444444, \"#bd3786\"], [0.5555555555555556, \"#d8576b\"], [0.6666666666666666, \"#ed7953\"], [0.7777777777777778, \"#fb9f3a\"], [0.8888888888888888, \"#fdca26\"], [1.0, \"#f0f921\"]]}, \"colorway\": [\"#636efa\", \"#EF553B\", \"#00cc96\", \"#ab63fa\", \"#FFA15A\", \"#19d3f3\", \"#FF6692\", \"#B6E880\", \"#FF97FF\", \"#FECB52\"], \"font\": {\"color\": \"#2a3f5f\"}, \"geo\": {\"bgcolor\": \"white\", \"lakecolor\": \"white\", \"landcolor\": \"#E5ECF6\", \"showlakes\": true, \"showland\": true, \"subunitcolor\": \"white\"}, \"hoverlabel\": {\"align\": \"left\"}, \"hovermode\": \"closest\", \"mapbox\": {\"style\": \"light\"}, \"paper_bgcolor\": \"white\", \"plot_bgcolor\": \"#E5ECF6\", \"polar\": {\"angularaxis\": {\"gridcolor\": \"white\", \"linecolor\": \"white\", \"ticks\": \"\"}, \"bgcolor\": \"#E5ECF6\", \"radialaxis\": {\"gridcolor\": \"white\", \"linecolor\": \"white\", \"ticks\": \"\"}}, \"scene\": {\"xaxis\": {\"backgroundcolor\": \"#E5ECF6\", \"gridcolor\": \"white\", \"gridwidth\": 2, \"linecolor\": \"white\", \"showbackground\": true, \"ticks\": \"\", \"zerolinecolor\": \"white\"}, \"yaxis\": {\"backgroundcolor\": \"#E5ECF6\", \"gridcolor\": \"white\", \"gridwidth\": 2, \"linecolor\": \"white\", \"showbackground\": true, \"ticks\": \"\", \"zerolinecolor\": \"white\"}, \"zaxis\": {\"backgroundcolor\": \"#E5ECF6\", \"gridcolor\": \"white\", \"gridwidth\": 2, \"linecolor\": \"white\", \"showbackground\": true, \"ticks\": \"\", \"zerolinecolor\": \"white\"}}, \"shapedefaults\": {\"line\": {\"color\": \"#2a3f5f\"}}, \"ternary\": {\"aaxis\": {\"gridcolor\": \"white\", \"linecolor\": \"white\", \"ticks\": \"\"}, \"baxis\": {\"gridcolor\": \"white\", \"linecolor\": \"white\", \"ticks\": \"\"}, \"bgcolor\": \"#E5ECF6\", \"caxis\": {\"gridcolor\": \"white\", \"linecolor\": \"white\", \"ticks\": \"\"}}, \"title\": {\"x\": 0.05}, \"xaxis\": {\"automargin\": true, \"gridcolor\": \"white\", \"linecolor\": \"white\", \"ticks\": \"\", \"title\": {\"standoff\": 15}, \"zerolinecolor\": \"white\", \"zerolinewidth\": 2}, \"yaxis\": {\"automargin\": true, \"gridcolor\": \"white\", \"linecolor\": \"white\", \"ticks\": \"\", \"title\": {\"standoff\": 15}, \"zerolinecolor\": \"white\", \"zerolinewidth\": 2}}}, \"title\": {\"font\": {\"color\": \"#4D5663\"}}, \"xaxis\": {\"gridcolor\": \"#E1E5ED\", \"showgrid\": true, \"tickfont\": {\"color\": \"#4D5663\"}, \"title\": {\"font\": {\"color\": \"#4D5663\"}, \"text\": \"\"}, \"zerolinecolor\": \"#E1E5ED\"}, \"yaxis\": {\"gridcolor\": \"#E1E5ED\", \"showgrid\": true, \"tickfont\": {\"color\": \"#4D5663\"}, \"title\": {\"font\": {\"color\": \"#4D5663\"}, \"text\": \"\"}, \"zerolinecolor\": \"#E1E5ED\"}},\n",
       "                        {\"showLink\": true, \"linkText\": \"Export to plot.ly\", \"plotlyServerURL\": \"https://plot.ly\", \"responsive\": true}\n",
       "                    ).then(function(){\n",
       "                            \n",
       "var gd = document.getElementById('bc560e0c-cea4-445f-b711-d4e9d0805445');\n",
       "var x = new MutationObserver(function (mutations, observer) {{\n",
       "        var display = window.getComputedStyle(gd).display;\n",
       "        if (!display || display === 'none') {{\n",
       "            console.log([gd, 'removed!']);\n",
       "            Plotly.purge(gd);\n",
       "            observer.disconnect();\n",
       "        }}\n",
       "}});\n",
       "\n",
       "// Listen for the removal of the full notebook cells\n",
       "var notebookContainer = gd.closest('#notebook-container');\n",
       "if (notebookContainer) {{\n",
       "    x.observe(notebookContainer, {childList: true});\n",
       "}}\n",
       "\n",
       "// Listen for the clearing of the current output cell\n",
       "var outputEl = gd.closest('.output');\n",
       "if (outputEl) {{\n",
       "    x.observe(outputEl, {childList: true});\n",
       "}}\n",
       "\n",
       "                        })\n",
       "                };\n",
       "                });\n",
       "            </script>\n",
       "        </div>"
      ]
     },
     "metadata": {},
     "output_type": "display_data"
    }
   ],
   "source": [
    "d_2019_2020.iplot(kind='hist')"
   ]
  },
  {
   "cell_type": "markdown",
   "metadata": {},
   "source": [
    "** Create a heatmap of the correlation between the stocks Close Price.**"
   ]
  },
  {
   "cell_type": "markdown",
   "metadata": {},
   "source": [
    "### HeatMap Both Types"
   ]
  },
  {
   "cell_type": "code",
   "execution_count": 24,
   "metadata": {},
   "outputs": [],
   "source": [
    "march_close_data = bank_stocks.xs(key='Close', axis=1, level='Stock Info').loc['2020-03-31':'2020-03-01' ]"
   ]
  },
  {
   "cell_type": "code",
   "execution_count": 25,
   "metadata": {},
   "outputs": [
    {
     "data": {
      "image/png": "[encoded data removed]",
      "text/plain": [
       "<Figure size 864x504 with 2 Axes>"
      ]
     },
     "metadata": {
      "needs_background": "light"
     },
     "output_type": "display_data"
    }
   ],
   "source": [
    "plt.figure(figsize=(12,7))\n",
    "sns.heatmap(march_close_data)\n",
    "plt.tight_layout()\n",
    "\n",
    "# Only March"
   ]
  },
  {
   "cell_type": "code",
   "execution_count": 27,
   "metadata": {},
   "outputs": [
    {
     "data": {
      "application/vnd.plotly.v1+json": {
       "config": {
        "linkText": "Export to plot.ly",
        "plotlyServerURL": "https://plot.ly",
        "showLink": true
       },
       "data": [
        {
         "colorscale": [
          [
           0,
           "rgb(165,0,38)"
          ],
          [
           0.1,
           "rgb(215,48,39)"
          ],
          [
           0.2,
           "rgb(244,109,67)"
          ],
          [
           0.3,
           "rgb(253,174,97)"
          ],
          [
           0.4,
           "rgb(254,224,144)"
          ],
          [
           0.5,
           "rgb(255,255,191)"
          ],
          [
           0.6,
           "rgb(224,243,248)"
          ],
          [
           0.7,
           "rgb(171,217,233)"
          ],
          [
           0.8,
           "rgb(116,173,209)"
          ],
          [
           0.9,
           "rgb(69,117,180)"
          ],
          [
           1,
           "rgb(49,54,149)"
          ]
         ],
         "type": "heatmap",
         "x": [
          "2020-04-30",
          "2020-04-29",
          "2020-04-28",
          "2020-04-27",
          "2020-04-24",
          "2020-04-23",
          "2020-04-22",
          "2020-04-21",
          "2020-04-20",
          "2020-04-17",
          "2020-04-16",
          "2020-04-15",
          "2020-04-14",
          "2020-04-13",
          "2020-04-09",
          "2020-04-08",
          "2020-04-07",
          "2020-04-06",
          "2020-04-03",
          "2020-04-02",
          "2020-04-01",
          "2020-03-31",
          "2020-03-30",
          "2020-03-27",
          "2020-03-26",
          "2020-03-25",
          "2020-03-24",
          "2020-03-23",
          "2020-03-20",
          "2020-03-19",
          "2020-03-18",
          "2020-03-17",
          "2020-03-16",
          "2020-03-13",
          "2020-03-12",
          "2020-03-11",
          "2020-03-10",
          "2020-03-09",
          "2020-03-06",
          "2020-03-05",
          "2020-03-04",
          "2020-03-03",
          "2020-03-02",
          "2020-02-28",
          "2020-02-27",
          "2020-02-26",
          "2020-02-25",
          "2020-02-24",
          "2020-02-21",
          "2020-02-20",
          "2020-02-19",
          "2020-02-18",
          "2020-02-14",
          "2020-02-13",
          "2020-02-12",
          "2020-02-11",
          "2020-02-10",
          "2020-02-07",
          "2020-02-06",
          "2020-02-05",
          "2020-02-04",
          "2020-02-03"
         ],
         "y": [
          "BAC",
          "C",
          "GS",
          "JPM",
          "MS",
          "WFC"
         ],
         "z": [
          [
           24.05,
           24.78,
           23.89,
           23.47,
           22.18,
           21.87,
           21.8,
           21.64,
           22.5,
           23.28,
           21.42,
           22.19,
           23.73,
           23.92,
           24.86,
           23.45,
           22.14,
           21.39,
           20.03,
           20.57,
           19.77,
           21.23,
           22.04,
           21.6,
           22.72,
           21.1,
           21.03,
           18.08,
           19.67,
           21.2,
           20.79,
           21.98,
           20.44,
           24.16,
           20.51,
           22.67,
           23.61,
           21.93,
           25.71,
           26.78,
           28.21,
           27.574,
           29.184,
           28.319000000000003,
           28.945,
           30.436,
           30.883000000000003,
           32.522,
           34.141999999999996,
           34.629,
           34.5,
           34.053000000000004,
           34.629,
           34.689,
           34.699,
           34.55,
           34.47,
           34.391,
           34.45,
           34.49,
           33.407,
           32.760999999999996
          ],
          [
           48.05,
           49.732,
           46.714,
           46.071000000000005,
           42.647,
           42.013999999999996,
           41.79600000000001,
           41.133,
           43.548,
           44.973,
           40.094,
           42.41,
           44.943000000000005,
           46.19,
           46.912,
           43.795,
           40.817,
           40.688,
           37.096,
           38.818000000000005,
           38.106,
           41.678000000000004,
           43.617,
           43.34,
           45.537,
           41.42,
           40.233000000000004,
           35.018,
           37.66,
           39.224000000000004,
           36.047,
           39.827,
           40.757,
           50.504,
           42.806000000000004,
           50.257,
           54.996,
           50.83,
           60.636,
           62.823,
           66.682,
           64.367,
           66.88,
           62.794,
           63.773,
           67.464,
           68.70100000000001,
           71.768,
           75.637,
           77.398,
           77.23,
           76.765,
           77.96300000000001,
           78.17,
           78.497,
           78.259,
           77.656,
           77.86399999999999,
           78.141,
           78.02199999999999,
           75.697,
           74.34100000000001
          ],
          [
           183.42,
           190.03,
           187.01,
           183.54,
           177,
           175.05,
           175.98,
           173.81,
           180.4,
           183.49,
           177.04,
           178.52,
           178.23,
           179.18,
           184.26,
           176.96,
           166.02,
           158.23,
           146.93,
           149.93,
           145.29,
           154.59,
           159.62,
           158.34,
           165.79,
           155.13,
           153.6,
           134.97,
           138.41,
           149.49,
           140.02,
           158.67,
           154.66,
           177.17,
           150.68,
           171.89,
           184.35,
           172.81,
           192.85,
           198.79,
           208.74,
           203.43,
           209.47,
           200.77,
           204.44,
           214.47,
           216.29,
           223.18,
           229.22,
           231.32,
           235.89,
           231.79,
           235.64,
           236.9,
           237.2,
           235.02,
           235.92,
           236.55,
           240.35,
           242.82,
           240.47,
           237.56
          ],
          [
           95.76,
           97.86,
           95.29,
           94.62,
           90.71,
           89.39,
           89.34,
           89.05,
           91.71,
           95.18,
           87.33,
           90.79,
           95.5,
           98.19,
           102.76,
           94.3,
           90.64,
           89.46,
           84.05,
           86.61,
           83.492,
           89.104,
           92.538,
           90.193,
           97.111,
           90.787,
           87.521,
           78.217,
           82.641,
           84.42299999999999,
           83.027,
           92.796,
           87.45100000000001,
           102.84,
           87.14399999999999,
           94.973,
           99.66,
           92.479,
           106.97,
           112.8,
           118.62,
           115.76,
           120.27,
           114.92,
           120.12,
           125.34,
           124.96,
           130.8,
           134.41,
           136.08,
           136.08,
           134.25,
           136.05,
           136.46,
           136.58,
           136.58,
           136.32,
           135.76,
           136.19,
           136.17,
           133.9,
           132
          ],
          [
           39.43,
           40.79,
           39.78,
           38.967,
           37.639,
           37.143,
           37.48,
           36.628,
           38.025,
           38.749,
           38.025,
           38.065,
           39.512,
           39.235,
           40.722,
           39.027,
           36.618,
           36.687,
           33.555,
           33.604,
           31.344,
           33.703,
           34.536,
           33.713,
           35.399,
           33.694,
           32.93,
           27.566999999999997,
           29.410999999999998,
           30.65,
           30.482,
           33.495,
           31.374000000000002,
           37.173,
           31.037,
           36.548,
           39.155,
           37.173,
           41.475,
           42.218999999999994,
           44.845,
           44.013000000000005,
           46.075,
           44.637,
           45.013999999999996,
           46.828,
           47.611000000000004,
           49.247,
           51.963,
           53.281000000000006,
           55.818999999999996,
           55.036,
           55.353,
           55.442,
           55.69,
           55.294,
           54.867,
           54.55,
           54.53,
           54.51,
           53.549,
           52.141000000000005
          ],
          [
           28.471,
           29.403000000000002,
           28.295,
           27.844,
           26.384,
           26.002,
           26.266,
           26.305999999999997,
           27.129,
           27.815,
           26.355,
           27.874000000000002,
           29.579,
           30.804000000000002,
           32.539,
           29.677,
           28.197,
           28.06,
           25.708000000000002,
           26.678,
           26.041,
           28.128,
           29.324,
           29.677,
           30.285,
           28.393,
           28.344,
           24.747,
           25.971999999999998,
           27.726999999999997,
           27.56,
           29.04,
           25.971999999999998,
           30.275,
           26.658,
           31.686,
           34.381,
           31.833000000000002,
           36.351,
           38.125,
           40.576,
           39.723,
           41.418,
           40.037,
           41.623999999999995,
           43.261,
           44.221000000000004,
           45.466,
           46.75,
           46.397,
           46.152,
           46.053999999999995,
           47.26,
           47.162,
           46.838,
           47.034,
           46.818999999999996,
           46.887,
           47.025,
           46.848,
           45.83,
           45.695
          ]
         ],
         "zmax": 242.82,
         "zmin": 18.08
        }
       ],
       "layout": {
        "legend": {
         "bgcolor": "#F5F6F9",
         "font": {
          "color": "#4D5663"
         }
        },
        "paper_bgcolor": "#F5F6F9",
        "plot_bgcolor": "#F5F6F9",
        "template": {
         "data": {
          "bar": [
           {
            "error_x": {
             "color": "#2a3f5f"
            },
            "error_y": {
             "color": "#2a3f5f"
            },
            "marker": {
             "line": {
              "color": "#E5ECF6",
              "width": 0.5
             }
            },
            "type": "bar"
           }
          ],
          "barpolar": [
           {
            "marker": {
             "line": {
              "color": "#E5ECF6",
              "width": 0.5
             }
            },
            "type": "barpolar"
           }
          ],
          "carpet": [
           {
            "aaxis": {
             "endlinecolor": "#2a3f5f",
             "gridcolor": "white",
             "linecolor": "white",
             "minorgridcolor": "white",
             "startlinecolor": "#2a3f5f"
            },
            "baxis": {
             "endlinecolor": "#2a3f5f",
             "gridcolor": "white",
             "linecolor": "white",
             "minorgridcolor": "white",
             "startlinecolor": "#2a3f5f"
            },
            "type": "carpet"
           }
          ],
          "choropleth": [
           {
            "colorbar": {
             "outlinewidth": 0,
             "ticks": ""
            },
            "type": "choropleth"
           }
          ],
          "contour": [
           {
            "colorbar": {
             "outlinewidth": 0,
             "ticks": ""
            },
            "colorscale": [
             [
              0,
              "#0d0887"
             ],
             [
              0.1111111111111111,
              "#46039f"
             ],
             [
              0.2222222222222222,
              "#7201a8"
             ],
             [
              0.3333333333333333,
              "#9c179e"
             ],
             [
              0.4444444444444444,
              "#bd3786"
             ],
             [
              0.5555555555555556,
              "#d8576b"
             ],
             [
              0.6666666666666666,
              "#ed7953"
             ],
             [
              0.7777777777777778,
              "#fb9f3a"
             ],
             [
              0.8888888888888888,
              "#fdca26"
             ],
             [
              1,
              "#f0f921"
             ]
            ],
            "type": "contour"
           }
          ],
          "contourcarpet": [
           {
            "colorbar": {
             "outlinewidth": 0,
             "ticks": ""
            },
            "type": "contourcarpet"
           }
          ],
          "heatmap": [
           {
            "colorbar": {
             "outlinewidth": 0,
             "ticks": ""
            },
            "colorscale": [
             [
              0,
              "#0d0887"
             ],
             [
              0.1111111111111111,
              "#46039f"
             ],
             [
              0.2222222222222222,
              "#7201a8"
             ],
             [
              0.3333333333333333,
              "#9c179e"
             ],
             [
              0.4444444444444444,
              "#bd3786"
             ],
             [
              0.5555555555555556,
              "#d8576b"
             ],
             [
              0.6666666666666666,
              "#ed7953"
             ],
             [
              0.7777777777777778,
              "#fb9f3a"
             ],
             [
              0.8888888888888888,
              "#fdca26"
             ],
             [
              1,
              "#f0f921"
             ]
            ],
            "type": "heatmap"
           }
          ],
          "heatmapgl": [
           {
            "colorbar": {
             "outlinewidth": 0,
             "ticks": ""
            },
            "colorscale": [
             [
              0,
              "#0d0887"
             ],
             [
              0.1111111111111111,
              "#46039f"
             ],
             [
              0.2222222222222222,
              "#7201a8"
             ],
             [
              0.3333333333333333,
              "#9c179e"
             ],
             [
              0.4444444444444444,
              "#bd3786"
             ],
             [
              0.5555555555555556,
              "#d8576b"
             ],
             [
              0.6666666666666666,
              "#ed7953"
             ],
             [
              0.7777777777777778,
              "#fb9f3a"
             ],
             [
              0.8888888888888888,
              "#fdca26"
             ],
             [
              1,
              "#f0f921"
             ]
            ],
            "type": "heatmapgl"
           }
          ],
          "histogram": [
           {
            "marker": {
             "colorbar": {
              "outlinewidth": 0,
              "ticks": ""
             }
            },
            "type": "histogram"
           }
          ],
          "histogram2d": [
           {
            "colorbar": {
             "outlinewidth": 0,
             "ticks": ""
            },
            "colorscale": [
             [
              0,
              "#0d0887"
             ],
             [
              0.1111111111111111,
              "#46039f"
             ],
             [
              0.2222222222222222,
              "#7201a8"
             ],
             [
              0.3333333333333333,
              "#9c179e"
             ],
             [
              0.4444444444444444,
              "#bd3786"
             ],
             [
              0.5555555555555556,
              "#d8576b"
             ],
             [
              0.6666666666666666,
              "#ed7953"
             ],
             [
              0.7777777777777778,
              "#fb9f3a"
             ],
             [
              0.8888888888888888,
              "#fdca26"
             ],
             [
              1,
              "#f0f921"
             ]
            ],
            "type": "histogram2d"
           }
          ],
          "histogram2dcontour": [
           {
            "colorbar": {
             "outlinewidth": 0,
             "ticks": ""
            },
            "colorscale": [
             [
              0,
              "#0d0887"
             ],
             [
              0.1111111111111111,
              "#46039f"
             ],
             [
              0.2222222222222222,
              "#7201a8"
             ],
             [
              0.3333333333333333,
              "#9c179e"
             ],
             [
              0.4444444444444444,
              "#bd3786"
             ],
             [
              0.5555555555555556,
              "#d8576b"
             ],
             [
              0.6666666666666666,
              "#ed7953"
             ],
             [
              0.7777777777777778,
              "#fb9f3a"
             ],
             [
              0.8888888888888888,
              "#fdca26"
             ],
             [
              1,
              "#f0f921"
             ]
            ],
            "type": "histogram2dcontour"
           }
          ],
          "mesh3d": [
           {
            "colorbar": {
             "outlinewidth": 0,
             "ticks": ""
            },
            "type": "mesh3d"
           }
          ],
          "parcoords": [
           {
            "line": {
             "colorbar": {
              "outlinewidth": 0,
              "ticks": ""
             }
            },
            "type": "parcoords"
           }
          ],
          "pie": [
           {
            "automargin": true,
            "type": "pie"
           }
          ],
          "scatter": [
           {
            "marker": {
             "colorbar": {
              "outlinewidth": 0,
              "ticks": ""
             }
            },
            "type": "scatter"
           }
          ],
          "scatter3d": [
           {
            "line": {
             "colorbar": {
              "outlinewidth": 0,
              "ticks": ""
             }
            },
            "marker": {
             "colorbar": {
              "outlinewidth": 0,
              "ticks": ""
             }
            },
            "type": "scatter3d"
           }
          ],
          "scattercarpet": [
           {
            "marker": {
             "colorbar": {
              "outlinewidth": 0,
              "ticks": ""
             }
            },
            "type": "scattercarpet"
           }
          ],
          "scattergeo": [
           {
            "marker": {
             "colorbar": {
              "outlinewidth": 0,
              "ticks": ""
             }
            },
            "type": "scattergeo"
           }
          ],
          "scattergl": [
           {
            "marker": {
             "colorbar": {
              "outlinewidth": 0,
              "ticks": ""
             }
            },
            "type": "scattergl"
           }
          ],
          "scattermapbox": [
           {
            "marker": {
             "colorbar": {
              "outlinewidth": 0,
              "ticks": ""
             }
            },
            "type": "scattermapbox"
           }
          ],
          "scatterpolar": [
           {
            "marker": {
             "colorbar": {
              "outlinewidth": 0,
              "ticks": ""
             }
            },
            "type": "scatterpolar"
           }
          ],
          "scatterpolargl": [
           {
            "marker": {
             "colorbar": {
              "outlinewidth": 0,
              "ticks": ""
             }
            },
            "type": "scatterpolargl"
           }
          ],
          "scatterternary": [
           {
            "marker": {
             "colorbar": {
              "outlinewidth": 0,
              "ticks": ""
             }
            },
            "type": "scatterternary"
           }
          ],
          "surface": [
           {
            "colorbar": {
             "outlinewidth": 0,
             "ticks": ""
            },
            "colorscale": [
             [
              0,
              "#0d0887"
             ],
             [
              0.1111111111111111,
              "#46039f"
             ],
             [
              0.2222222222222222,
              "#7201a8"
             ],
             [
              0.3333333333333333,
              "#9c179e"
             ],
             [
              0.4444444444444444,
              "#bd3786"
             ],
             [
              0.5555555555555556,
              "#d8576b"
             ],
             [
              0.6666666666666666,
              "#ed7953"
             ],
             [
              0.7777777777777778,
              "#fb9f3a"
             ],
             [
              0.8888888888888888,
              "#fdca26"
             ],
             [
              1,
              "#f0f921"
             ]
            ],
            "type": "surface"
           }
          ],
          "table": [
           {
            "cells": {
             "fill": {
              "color": "#EBF0F8"
             },
             "line": {
              "color": "white"
             }
            },
            "header": {
             "fill": {
              "color": "#C8D4E3"
             },
             "line": {
              "color": "white"
             }
            },
            "type": "table"
           }
          ]
         },
         "layout": {
          "annotationdefaults": {
           "arrowcolor": "#2a3f5f",
           "arrowhead": 0,
           "arrowwidth": 1
          },
          "coloraxis": {
           "colorbar": {
            "outlinewidth": 0,
            "ticks": ""
           }
          },
          "colorscale": {
           "diverging": [
            [
             0,
             "#8e0152"
            ],
            [
             0.1,
             "#c51b7d"
            ],
            [
             0.2,
             "#de77ae"
            ],
            [
             0.3,
             "#f1b6da"
            ],
            [
             0.4,
             "#fde0ef"
            ],
            [
             0.5,
             "#f7f7f7"
            ],
            [
             0.6,
             "#e6f5d0"
            ],
            [
             0.7,
             "#b8e186"
            ],
            [
             0.8,
             "#7fbc41"
            ],
            [
             0.9,
             "#4d9221"
            ],
            [
             1,
             "#276419"
            ]
           ],
           "sequential": [
            [
             0,
             "#0d0887"
            ],
            [
             0.1111111111111111,
             "#46039f"
            ],
            [
             0.2222222222222222,
             "#7201a8"
            ],
            [
             0.3333333333333333,
             "#9c179e"
            ],
            [
             0.4444444444444444,
             "#bd3786"
            ],
            [
             0.5555555555555556,
             "#d8576b"
            ],
            [
             0.6666666666666666,
             "#ed7953"
            ],
            [
             0.7777777777777778,
             "#fb9f3a"
            ],
            [
             0.8888888888888888,
             "#fdca26"
            ],
            [
             1,
             "#f0f921"
            ]
           ],
           "sequentialminus": [
            [
             0,
             "#0d0887"
            ],
            [
             0.1111111111111111,
             "#46039f"
            ],
            [
             0.2222222222222222,
             "#7201a8"
            ],
            [
             0.3333333333333333,
             "#9c179e"
            ],
            [
             0.4444444444444444,
             "#bd3786"
            ],
            [
             0.5555555555555556,
             "#d8576b"
            ],
            [
             0.6666666666666666,
             "#ed7953"
            ],
            [
             0.7777777777777778,
             "#fb9f3a"
            ],
            [
             0.8888888888888888,
             "#fdca26"
            ],
            [
             1,
             "#f0f921"
            ]
           ]
          },
          "colorway": [
           "#636efa",
           "#EF553B",
           "#00cc96",
           "#ab63fa",
           "#FFA15A",
           "#19d3f3",
           "#FF6692",
           "#B6E880",
           "#FF97FF",
           "#FECB52"
          ],
          "font": {
           "color": "#2a3f5f"
          },
          "geo": {
           "bgcolor": "white",
           "lakecolor": "white",
           "landcolor": "#E5ECF6",
           "showlakes": true,
           "showland": true,
           "subunitcolor": "white"
          },
          "hoverlabel": {
           "align": "left"
          },
          "hovermode": "closest",
          "mapbox": {
           "style": "light"
          },
          "paper_bgcolor": "white",
          "plot_bgcolor": "#E5ECF6",
          "polar": {
           "angularaxis": {
            "gridcolor": "white",
            "linecolor": "white",
            "ticks": ""
           },
           "bgcolor": "#E5ECF6",
           "radialaxis": {
            "gridcolor": "white",
            "linecolor": "white",
            "ticks": ""
           }
          },
          "scene": {
           "xaxis": {
            "backgroundcolor": "#E5ECF6",
            "gridcolor": "white",
            "gridwidth": 2,
            "linecolor": "white",
            "showbackground": true,
            "ticks": "",
            "zerolinecolor": "white"
           },
           "yaxis": {
            "backgroundcolor": "#E5ECF6",
            "gridcolor": "white",
            "gridwidth": 2,
            "linecolor": "white",
            "showbackground": true,
            "ticks": "",
            "zerolinecolor": "white"
           },
           "zaxis": {
            "backgroundcolor": "#E5ECF6",
            "gridcolor": "white",
            "gridwidth": 2,
            "linecolor": "white",
            "showbackground": true,
            "ticks": "",
            "zerolinecolor": "white"
           }
          },
          "shapedefaults": {
           "line": {
            "color": "#2a3f5f"
           }
          },
          "ternary": {
           "aaxis": {
            "gridcolor": "white",
            "linecolor": "white",
            "ticks": ""
           },
           "baxis": {
            "gridcolor": "white",
            "linecolor": "white",
            "ticks": ""
           },
           "bgcolor": "#E5ECF6",
           "caxis": {
            "gridcolor": "white",
            "linecolor": "white",
            "ticks": ""
           }
          },
          "title": {
           "x": 0.05
          },
          "xaxis": {
           "automargin": true,
           "gridcolor": "white",
           "linecolor": "white",
           "ticks": "",
           "title": {
            "standoff": 15
           },
           "zerolinecolor": "white",
           "zerolinewidth": 2
          },
          "yaxis": {
           "automargin": true,
           "gridcolor": "white",
           "linecolor": "white",
           "ticks": "",
           "title": {
            "standoff": 15
           },
           "zerolinecolor": "white",
           "zerolinewidth": 2
          }
         }
        },
        "title": {
         "font": {
          "color": "#4D5663"
         }
        },
        "xaxis": {
         "gridcolor": "#E1E5ED",
         "showgrid": true,
         "tickfont": {
          "color": "#4D5663"
         },
         "title": {
          "font": {
           "color": "#4D5663"
          },
          "text": ""
         },
         "zerolinecolor": "#E1E5ED"
        },
        "yaxis": {
         "gridcolor": "#E1E5ED",
         "showgrid": true,
         "tickfont": {
          "color": "#4D5663"
         },
         "title": {
          "font": {
           "color": "#4D5663"
          },
          "text": ""
         },
         "zerolinecolor": "#E1E5ED"
        }
       }
      },
      "text/html": [
       "<div>\n",
       "        \n",
       "        \n",
       "            <div id=\"55a9f153-e55e-46e6-88fc-ff4faebe7595\" class=\"plotly-graph-div\" style=\"height:525px; width:100%;\"></div>\n",
       "            <script type=\"text/javascript\">\n",
       "                require([\"plotly\"], function(Plotly) {\n",
       "                    window.PLOTLYENV=window.PLOTLYENV || {};\n",
       "                    window.PLOTLYENV.BASE_URL='https://plot.ly';\n",
       "                    \n",
       "                if (document.getElementById(\"55a9f153-e55e-46e6-88fc-ff4faebe7595\")) {\n",
       "                    Plotly.newPlot(\n",
       "                        '55a9f153-e55e-46e6-88fc-ff4faebe7595',\n",
       "                        [{\"colorscale\": [[0.0, \"rgb(165,0,38)\"], [0.1, \"rgb(215,48,39)\"], [0.2, \"rgb(244,109,67)\"], [0.3, \"rgb(253,174,97)\"], [0.4, \"rgb(254,224,144)\"], [0.5, \"rgb(255,255,191)\"], [0.6, \"rgb(224,243,248)\"], [0.7, \"rgb(171,217,233)\"], [0.8, \"rgb(116,173,209)\"], [0.9, \"rgb(69,117,180)\"], [1.0, \"rgb(49,54,149)\"]], \"type\": \"heatmap\", \"x\": [\"2020-04-30\", \"2020-04-29\", \"2020-04-28\", \"2020-04-27\", \"2020-04-24\", \"2020-04-23\", \"2020-04-22\", \"2020-04-21\", \"2020-04-20\", \"2020-04-17\", \"2020-04-16\", \"2020-04-15\", \"2020-04-14\", \"2020-04-13\", \"2020-04-09\", \"2020-04-08\", \"2020-04-07\", \"2020-04-06\", \"2020-04-03\", \"2020-04-02\", \"2020-04-01\", \"2020-03-31\", \"2020-03-30\", \"2020-03-27\", \"2020-03-26\", \"2020-03-25\", \"2020-03-24\", \"2020-03-23\", \"2020-03-20\", \"2020-03-19\", \"2020-03-18\", \"2020-03-17\", \"2020-03-16\", \"2020-03-13\", \"2020-03-12\", \"2020-03-11\", \"2020-03-10\", \"2020-03-09\", \"2020-03-06\", \"2020-03-05\", \"2020-03-04\", \"2020-03-03\", \"2020-03-02\", \"2020-02-28\", \"2020-02-27\", \"2020-02-26\", \"2020-02-25\", \"2020-02-24\", \"2020-02-21\", \"2020-02-20\", \"2020-02-19\", \"2020-02-18\", \"2020-02-14\", \"2020-02-13\", \"2020-02-12\", \"2020-02-11\", \"2020-02-10\", \"2020-02-07\", \"2020-02-06\", \"2020-02-05\", \"2020-02-04\", \"2020-02-03\"], \"y\": [\"BAC\", \"C\", \"GS\", \"JPM\", \"MS\", \"WFC\"], \"z\": [[24.05, 24.78, 23.89, 23.47, 22.18, 21.87, 21.8, 21.64, 22.5, 23.28, 21.42, 22.19, 23.73, 23.92, 24.86, 23.45, 22.14, 21.39, 20.03, 20.57, 19.77, 21.23, 22.04, 21.6, 22.72, 21.1, 21.03, 18.08, 19.67, 21.2, 20.79, 21.98, 20.44, 24.16, 20.51, 22.67, 23.61, 21.93, 25.71, 26.78, 28.21, 27.574, 29.184, 28.319000000000003, 28.945, 30.436, 30.883000000000003, 32.522, 34.141999999999996, 34.629, 34.5, 34.053000000000004, 34.629, 34.689, 34.699, 34.55, 34.47, 34.391, 34.45, 34.49, 33.407, 32.760999999999996], [48.05, 49.732, 46.714, 46.071000000000005, 42.647, 42.013999999999996, 41.79600000000001, 41.133, 43.548, 44.973, 40.094, 42.41, 44.943000000000005, 46.19, 46.912, 43.795, 40.817, 40.688, 37.096, 38.818000000000005, 38.106, 41.678000000000004, 43.617, 43.34, 45.537, 41.42, 40.233000000000004, 35.018, 37.66, 39.224000000000004, 36.047, 39.827, 40.757, 50.504, 42.806000000000004, 50.257, 54.996, 50.83, 60.636, 62.823, 66.682, 64.367, 66.88, 62.794, 63.773, 67.464, 68.70100000000001, 71.768, 75.637, 77.398, 77.23, 76.765, 77.96300000000001, 78.17, 78.497, 78.259, 77.656, 77.86399999999999, 78.141, 78.02199999999999, 75.697, 74.34100000000001], [183.42, 190.03, 187.01, 183.54, 177.0, 175.05, 175.98, 173.81, 180.4, 183.49, 177.04, 178.52, 178.23, 179.18, 184.26, 176.96, 166.02, 158.23, 146.93, 149.93, 145.29, 154.59, 159.62, 158.34, 165.79, 155.13, 153.6, 134.97, 138.41, 149.49, 140.02, 158.67, 154.66, 177.17, 150.68, 171.89, 184.35, 172.81, 192.85, 198.79, 208.74, 203.43, 209.47, 200.77, 204.44, 214.47, 216.29, 223.18, 229.22, 231.32, 235.89, 231.79, 235.64, 236.9, 237.2, 235.02, 235.92, 236.55, 240.35, 242.82, 240.47, 237.56], [95.76, 97.86, 95.29, 94.62, 90.71, 89.39, 89.34, 89.05, 91.71, 95.18, 87.33, 90.79, 95.5, 98.19, 102.76, 94.3, 90.64, 89.46, 84.05, 86.61, 83.492, 89.104, 92.538, 90.193, 97.111, 90.787, 87.521, 78.217, 82.641, 84.42299999999999, 83.027, 92.796, 87.45100000000001, 102.84, 87.14399999999999, 94.973, 99.66, 92.479, 106.97, 112.8, 118.62, 115.76, 120.27, 114.92, 120.12, 125.34, 124.96, 130.8, 134.41, 136.08, 136.08, 134.25, 136.05, 136.46, 136.58, 136.58, 136.32, 135.76, 136.19, 136.17, 133.9, 132.0], [39.43, 40.79, 39.78, 38.967, 37.639, 37.143, 37.48, 36.628, 38.025, 38.749, 38.025, 38.065, 39.512, 39.235, 40.722, 39.027, 36.618, 36.687, 33.555, 33.604, 31.344, 33.703, 34.536, 33.713, 35.399, 33.694, 32.93, 27.566999999999997, 29.410999999999998, 30.65, 30.482, 33.495, 31.374000000000002, 37.173, 31.037, 36.548, 39.155, 37.173, 41.475, 42.218999999999994, 44.845, 44.013000000000005, 46.075, 44.637, 45.013999999999996, 46.828, 47.611000000000004, 49.247, 51.963, 53.281000000000006, 55.818999999999996, 55.036, 55.353, 55.442, 55.69, 55.294, 54.867, 54.55, 54.53, 54.51, 53.549, 52.141000000000005], [28.471, 29.403000000000002, 28.295, 27.844, 26.384, 26.002, 26.266, 26.305999999999997, 27.129, 27.815, 26.355, 27.874000000000002, 29.579, 30.804000000000002, 32.539, 29.677, 28.197, 28.06, 25.708000000000002, 26.678, 26.041, 28.128, 29.324, 29.677, 30.285, 28.393, 28.344, 24.747, 25.971999999999998, 27.726999999999997, 27.56, 29.04, 25.971999999999998, 30.275, 26.658, 31.686, 34.381, 31.833000000000002, 36.351, 38.125, 40.576, 39.723, 41.418, 40.037, 41.623999999999995, 43.261, 44.221000000000004, 45.466, 46.75, 46.397, 46.152, 46.053999999999995, 47.26, 47.162, 46.838, 47.034, 46.818999999999996, 46.887, 47.025, 46.848, 45.83, 45.695]], \"zmax\": 242.82, \"zmin\": 18.08}],\n",
       "                        {\"legend\": {\"bgcolor\": \"#F5F6F9\", \"font\": {\"color\": \"#4D5663\"}}, \"paper_bgcolor\": \"#F5F6F9\", \"plot_bgcolor\": \"#F5F6F9\", \"template\": {\"data\": {\"bar\": [{\"error_x\": {\"color\": \"#2a3f5f\"}, \"error_y\": {\"color\": \"#2a3f5f\"}, \"marker\": {\"line\": {\"color\": \"#E5ECF6\", \"width\": 0.5}}, \"type\": \"bar\"}], \"barpolar\": [{\"marker\": {\"line\": {\"color\": \"#E5ECF6\", \"width\": 0.5}}, \"type\": \"barpolar\"}], \"carpet\": [{\"aaxis\": {\"endlinecolor\": \"#2a3f5f\", \"gridcolor\": \"white\", \"linecolor\": \"white\", \"minorgridcolor\": \"white\", \"startlinecolor\": \"#2a3f5f\"}, \"baxis\": {\"endlinecolor\": \"#2a3f5f\", \"gridcolor\": \"white\", \"linecolor\": \"white\", \"minorgridcolor\": \"white\", \"startlinecolor\": \"#2a3f5f\"}, \"type\": \"carpet\"}], \"choropleth\": [{\"colorbar\": {\"outlinewidth\": 0, \"ticks\": \"\"}, \"type\": \"choropleth\"}], \"contour\": [{\"colorbar\": {\"outlinewidth\": 0, \"ticks\": \"\"}, \"colorscale\": [[0.0, \"#0d0887\"], [0.1111111111111111, \"#46039f\"], [0.2222222222222222, \"#7201a8\"], [0.3333333333333333, \"#9c179e\"], [0.4444444444444444, \"#bd3786\"], [0.5555555555555556, \"#d8576b\"], [0.6666666666666666, \"#ed7953\"], [0.7777777777777778, \"#fb9f3a\"], [0.8888888888888888, \"#fdca26\"], [1.0, \"#f0f921\"]], \"type\": \"contour\"}], \"contourcarpet\": [{\"colorbar\": {\"outlinewidth\": 0, \"ticks\": \"\"}, \"type\": \"contourcarpet\"}], \"heatmap\": [{\"colorbar\": {\"outlinewidth\": 0, \"ticks\": \"\"}, \"colorscale\": [[0.0, \"#0d0887\"], [0.1111111111111111, \"#46039f\"], [0.2222222222222222, \"#7201a8\"], [0.3333333333333333, \"#9c179e\"], [0.4444444444444444, \"#bd3786\"], [0.5555555555555556, \"#d8576b\"], [0.6666666666666666, \"#ed7953\"], [0.7777777777777778, \"#fb9f3a\"], [0.8888888888888888, \"#fdca26\"], [1.0, \"#f0f921\"]], \"type\": \"heatmap\"}], \"heatmapgl\": [{\"colorbar\": {\"outlinewidth\": 0, \"ticks\": \"\"}, \"colorscale\": [[0.0, \"#0d0887\"], [0.1111111111111111, \"#46039f\"], [0.2222222222222222, \"#7201a8\"], [0.3333333333333333, \"#9c179e\"], [0.4444444444444444, \"#bd3786\"], [0.5555555555555556, \"#d8576b\"], [0.6666666666666666, \"#ed7953\"], [0.7777777777777778, \"#fb9f3a\"], [0.8888888888888888, \"#fdca26\"], [1.0, \"#f0f921\"]], \"type\": \"heatmapgl\"}], \"histogram\": [{\"marker\": {\"colorbar\": {\"outlinewidth\": 0, \"ticks\": \"\"}}, \"type\": \"histogram\"}], \"histogram2d\": [{\"colorbar\": {\"outlinewidth\": 0, \"ticks\": \"\"}, \"colorscale\": [[0.0, \"#0d0887\"], [0.1111111111111111, \"#46039f\"], [0.2222222222222222, \"#7201a8\"], [0.3333333333333333, \"#9c179e\"], [0.4444444444444444, \"#bd3786\"], [0.5555555555555556, \"#d8576b\"], [0.6666666666666666, \"#ed7953\"], [0.7777777777777778, \"#fb9f3a\"], [0.8888888888888888, \"#fdca26\"], [1.0, \"#f0f921\"]], \"type\": \"histogram2d\"}], \"histogram2dcontour\": [{\"colorbar\": {\"outlinewidth\": 0, \"ticks\": \"\"}, \"colorscale\": [[0.0, \"#0d0887\"], [0.1111111111111111, \"#46039f\"], [0.2222222222222222, \"#7201a8\"], [0.3333333333333333, \"#9c179e\"], [0.4444444444444444, \"#bd3786\"], [0.5555555555555556, \"#d8576b\"], [0.6666666666666666, \"#ed7953\"], [0.7777777777777778, \"#fb9f3a\"], [0.8888888888888888, \"#fdca26\"], [1.0, \"#f0f921\"]], \"type\": \"histogram2dcontour\"}], \"mesh3d\": [{\"colorbar\": {\"outlinewidth\": 0, \"ticks\": \"\"}, \"type\": \"mesh3d\"}], \"parcoords\": [{\"line\": {\"colorbar\": {\"outlinewidth\": 0, \"ticks\": \"\"}}, \"type\": \"parcoords\"}], \"pie\": [{\"automargin\": true, \"type\": \"pie\"}], \"scatter\": [{\"marker\": {\"colorbar\": {\"outlinewidth\": 0, \"ticks\": \"\"}}, \"type\": \"scatter\"}], \"scatter3d\": [{\"line\": {\"colorbar\": {\"outlinewidth\": 0, \"ticks\": \"\"}}, \"marker\": {\"colorbar\": {\"outlinewidth\": 0, \"ticks\": \"\"}}, \"type\": \"scatter3d\"}], \"scattercarpet\": [{\"marker\": {\"colorbar\": {\"outlinewidth\": 0, \"ticks\": \"\"}}, \"type\": \"scattercarpet\"}], \"scattergeo\": [{\"marker\": {\"colorbar\": {\"outlinewidth\": 0, \"ticks\": \"\"}}, \"type\": \"scattergeo\"}], \"scattergl\": [{\"marker\": {\"colorbar\": {\"outlinewidth\": 0, \"ticks\": \"\"}}, \"type\": \"scattergl\"}], \"scattermapbox\": [{\"marker\": {\"colorbar\": {\"outlinewidth\": 0, \"ticks\": \"\"}}, \"type\": \"scattermapbox\"}], \"scatterpolar\": [{\"marker\": {\"colorbar\": {\"outlinewidth\": 0, \"ticks\": \"\"}}, \"type\": \"scatterpolar\"}], \"scatterpolargl\": [{\"marker\": {\"colorbar\": {\"outlinewidth\": 0, \"ticks\": \"\"}}, \"type\": \"scatterpolargl\"}], \"scatterternary\": [{\"marker\": {\"colorbar\": {\"outlinewidth\": 0, \"ticks\": \"\"}}, \"type\": \"scatterternary\"}], \"surface\": [{\"colorbar\": {\"outlinewidth\": 0, \"ticks\": \"\"}, \"colorscale\": [[0.0, \"#0d0887\"], [0.1111111111111111, \"#46039f\"], [0.2222222222222222, \"#7201a8\"], [0.3333333333333333, \"#9c179e\"], [0.4444444444444444, \"#bd3786\"], [0.5555555555555556, \"#d8576b\"], [0.6666666666666666, \"#ed7953\"], [0.7777777777777778, \"#fb9f3a\"], [0.8888888888888888, \"#fdca26\"], [1.0, \"#f0f921\"]], \"type\": \"surface\"}], \"table\": [{\"cells\": {\"fill\": {\"color\": \"#EBF0F8\"}, \"line\": {\"color\": \"white\"}}, \"header\": {\"fill\": {\"color\": \"#C8D4E3\"}, \"line\": {\"color\": \"white\"}}, \"type\": \"table\"}]}, \"layout\": {\"annotationdefaults\": {\"arrowcolor\": \"#2a3f5f\", \"arrowhead\": 0, \"arrowwidth\": 1}, \"coloraxis\": {\"colorbar\": {\"outlinewidth\": 0, \"ticks\": \"\"}}, \"colorscale\": {\"diverging\": [[0, \"#8e0152\"], [0.1, \"#c51b7d\"], [0.2, \"#de77ae\"], [0.3, \"#f1b6da\"], [0.4, \"#fde0ef\"], [0.5, \"#f7f7f7\"], [0.6, \"#e6f5d0\"], [0.7, \"#b8e186\"], [0.8, \"#7fbc41\"], [0.9, \"#4d9221\"], [1, \"#276419\"]], \"sequential\": [[0.0, \"#0d0887\"], [0.1111111111111111, \"#46039f\"], [0.2222222222222222, \"#7201a8\"], [0.3333333333333333, \"#9c179e\"], [0.4444444444444444, \"#bd3786\"], [0.5555555555555556, \"#d8576b\"], [0.6666666666666666, \"#ed7953\"], [0.7777777777777778, \"#fb9f3a\"], [0.8888888888888888, \"#fdca26\"], [1.0, \"#f0f921\"]], \"sequentialminus\": [[0.0, \"#0d0887\"], [0.1111111111111111, \"#46039f\"], [0.2222222222222222, \"#7201a8\"], [0.3333333333333333, \"#9c179e\"], [0.4444444444444444, \"#bd3786\"], [0.5555555555555556, \"#d8576b\"], [0.6666666666666666, \"#ed7953\"], [0.7777777777777778, \"#fb9f3a\"], [0.8888888888888888, \"#fdca26\"], [1.0, \"#f0f921\"]]}, \"colorway\": [\"#636efa\", \"#EF553B\", \"#00cc96\", \"#ab63fa\", \"#FFA15A\", \"#19d3f3\", \"#FF6692\", \"#B6E880\", \"#FF97FF\", \"#FECB52\"], \"font\": {\"color\": \"#2a3f5f\"}, \"geo\": {\"bgcolor\": \"white\", \"lakecolor\": \"white\", \"landcolor\": \"#E5ECF6\", \"showlakes\": true, \"showland\": true, \"subunitcolor\": \"white\"}, \"hoverlabel\": {\"align\": \"left\"}, \"hovermode\": \"closest\", \"mapbox\": {\"style\": \"light\"}, \"paper_bgcolor\": \"white\", \"plot_bgcolor\": \"#E5ECF6\", \"polar\": {\"angularaxis\": {\"gridcolor\": \"white\", \"linecolor\": \"white\", \"ticks\": \"\"}, \"bgcolor\": \"#E5ECF6\", \"radialaxis\": {\"gridcolor\": \"white\", \"linecolor\": \"white\", \"ticks\": \"\"}}, \"scene\": {\"xaxis\": {\"backgroundcolor\": \"#E5ECF6\", \"gridcolor\": \"white\", \"gridwidth\": 2, \"linecolor\": \"white\", \"showbackground\": true, \"ticks\": \"\", \"zerolinecolor\": \"white\"}, \"yaxis\": {\"backgroundcolor\": \"#E5ECF6\", \"gridcolor\": \"white\", \"gridwidth\": 2, \"linecolor\": \"white\", \"showbackground\": true, \"ticks\": \"\", \"zerolinecolor\": \"white\"}, \"zaxis\": {\"backgroundcolor\": \"#E5ECF6\", \"gridcolor\": \"white\", \"gridwidth\": 2, \"linecolor\": \"white\", \"showbackground\": true, \"ticks\": \"\", \"zerolinecolor\": \"white\"}}, \"shapedefaults\": {\"line\": {\"color\": \"#2a3f5f\"}}, \"ternary\": {\"aaxis\": {\"gridcolor\": \"white\", \"linecolor\": \"white\", \"ticks\": \"\"}, \"baxis\": {\"gridcolor\": \"white\", \"linecolor\": \"white\", \"ticks\": \"\"}, \"bgcolor\": \"#E5ECF6\", \"caxis\": {\"gridcolor\": \"white\", \"linecolor\": \"white\", \"ticks\": \"\"}}, \"title\": {\"x\": 0.05}, \"xaxis\": {\"automargin\": true, \"gridcolor\": \"white\", \"linecolor\": \"white\", \"ticks\": \"\", \"title\": {\"standoff\": 15}, \"zerolinecolor\": \"white\", \"zerolinewidth\": 2}, \"yaxis\": {\"automargin\": true, \"gridcolor\": \"white\", \"linecolor\": \"white\", \"ticks\": \"\", \"title\": {\"standoff\": 15}, \"zerolinecolor\": \"white\", \"zerolinewidth\": 2}}}, \"title\": {\"font\": {\"color\": \"#4D5663\"}}, \"xaxis\": {\"gridcolor\": \"#E1E5ED\", \"showgrid\": true, \"tickfont\": {\"color\": \"#4D5663\"}, \"title\": {\"font\": {\"color\": \"#4D5663\"}, \"text\": \"\"}, \"zerolinecolor\": \"#E1E5ED\"}, \"yaxis\": {\"gridcolor\": \"#E1E5ED\", \"showgrid\": true, \"tickfont\": {\"color\": \"#4D5663\"}, \"title\": {\"font\": {\"color\": \"#4D5663\"}, \"text\": \"\"}, \"zerolinecolor\": \"#E1E5ED\"}},\n",
       "                        {\"showLink\": true, \"linkText\": \"Export to plot.ly\", \"plotlyServerURL\": \"https://plot.ly\", \"responsive\": true}\n",
       "                    ).then(function(){\n",
       "                            \n",
       "var gd = document.getElementById('55a9f153-e55e-46e6-88fc-ff4faebe7595');\n",
       "var x = new MutationObserver(function (mutations, observer) {{\n",
       "        var display = window.getComputedStyle(gd).display;\n",
       "        if (!display || display === 'none') {{\n",
       "            console.log([gd, 'removed!']);\n",
       "            Plotly.purge(gd);\n",
       "            observer.disconnect();\n",
       "        }}\n",
       "}});\n",
       "\n",
       "// Listen for the removal of the full notebook cells\n",
       "var notebookContainer = gd.closest('#notebook-container');\n",
       "if (notebookContainer) {{\n",
       "    x.observe(notebookContainer, {childList: true});\n",
       "}}\n",
       "\n",
       "// Listen for the clearing of the current output cell\n",
       "var outputEl = gd.closest('.output');\n",
       "if (outputEl) {{\n",
       "    x.observe(outputEl, {childList: true});\n",
       "}}\n",
       "\n",
       "                        })\n",
       "                };\n",
       "                });\n",
       "            </script>\n",
       "        </div>"
      ]
     },
     "metadata": {},
     "output_type": "display_data"
    }
   ],
   "source": [
    "close_2020 = bank_stocks.xs(key='Close', axis=1, level='Stock Info').loc['2020-04-30':'2020-02-01' ]\n",
    "close_2020.iplot(kind='heatmap', colorscale='rdylbu')"
   ]
  },
  {
   "cell_type": "markdown",
   "metadata": {},
   "source": [
    "** Optional: Use seaborn's clustermap to cluster the correlations together:**"
   ]
  },
  {
   "cell_type": "markdown",
   "metadata": {},
   "source": [
    "### Clustermap"
   ]
  },
  {
   "cell_type": "code",
   "execution_count": 26,
   "metadata": {},
   "outputs": [
    {
     "data": {
      "text/plain": [
       "<seaborn.matrix.ClusterGrid at 0x259aa5b0388>"
      ]
     },
     "execution_count": 26,
     "metadata": {},
     "output_type": "execute_result"
    },
    {
     "data": {
      "image/png": "[encoded data removed]",
      "text/plain": [
       "<Figure size 720x720 with 4 Axes>"
      ]
     },
     "metadata": {
      "needs_background": "light"
     },
     "output_type": "display_data"
    }
   ],
   "source": [
    "sns.clustermap(march_close_data)"
   ]
  },
  {
   "cell_type": "code",
   "execution_count": null,
   "metadata": {},
   "outputs": [],
   "source": []
  },
  {
   "cell_type": "markdown",
   "metadata": {},
   "source": [
    "# Great Job!\n",
    "\n",
    "Definitely a lot of more specific finance topics here, so don't worry if you didn't understand them all! The only thing you should be concerned with understanding are the basic pandas and visualization oeprations."
   ]
  }
 ],
 "metadata": {
  "kernelspec": {
   "display_name": "Python 3",
   "language": "python",
   "name": "python3"
  },
  "language_info": {
   "codemirror_mode": {
    "name": "ipython",
    "version": 3
   },
   "file_extension": ".py",
   "mimetype": "text/x-python",
   "name": "python",
   "nbconvert_exporter": "python",
   "pygments_lexer": "ipython3",
   "version": "3.7.6"
  }
 },
 "nbformat": 4,
 "nbformat_minor": 1
}
