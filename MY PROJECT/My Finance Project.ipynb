{
 "cells": [
  {
   "cell_type": "markdown",
   "metadata": {},
   "source": [
    "#                                            Stock Market Analysis using Data Science"
   ]
  },
  {
   "cell_type": "markdown",
   "metadata": {},
   "source": [
    "# Finance Data Project \n",
    "\n",
    "In this data project we will focus on exploratory data analysis of stock prices. Keep in mind, this project is just meant to practice your visualization and pandas skills, it is not meant to be a robust financial analysis or be taken as financial advice.\n",
    "\n",
    "We'll focus on bank stocks and see how they progressed throughout the [financial crisis](https://en.wikipedia.org/wiki/Financial_crisis_of_2007%E2%80%9308) all the way to early 2020."
   ]
  },
  {
   "cell_type": "markdown",
   "metadata": {},
   "source": [
    "## Get the Data\n",
    "\n",
    "In this section we will learn how to use pandas to directly read data from Google finance using pandas!\n",
    "\n",
    "First we need to start with the proper imports, which we've already laid out for here.\n",
    "\n",
    "\n",
    "### The Imports\n"
   ]
  },
  {
   "cell_type": "code",
   "execution_count": 17,
   "metadata": {},
   "outputs": [
    {
     "data": {
      "text/html": [
       "        <script type=\"text/javascript\">\n",
       "        window.PlotlyConfig = {MathJaxConfig: 'local'};\n",
       "        if (window.MathJax) {MathJax.Hub.Config({SVG: {font: \"STIX-Web\"}});}\n",
       "        if (typeof require !== 'undefined') {\n",
       "        require.undef(\"plotly\");\n",
       "        requirejs.config({\n",
       "            paths: {\n",
       "                'plotly': ['https://cdn.plot.ly/plotly-latest.min']\n",
       "            }\n",
       "        });\n",
       "        require(['plotly'], function(Plotly) {\n",
       "            window._Plotly = Plotly;\n",
       "        });\n",
       "        }\n",
       "        </script>\n",
       "        "
      ]
     },
     "metadata": {},
     "output_type": "display_data"
    },
    {
     "data": {
      "text/html": [
       "        <script type=\"text/javascript\">\n",
       "        window.PlotlyConfig = {MathJaxConfig: 'local'};\n",
       "        if (window.MathJax) {MathJax.Hub.Config({SVG: {font: \"STIX-Web\"}});}\n",
       "        if (typeof require !== 'undefined') {\n",
       "        require.undef(\"plotly\");\n",
       "        requirejs.config({\n",
       "            paths: {\n",
       "                'plotly': ['https://cdn.plot.ly/plotly-latest.min']\n",
       "            }\n",
       "        });\n",
       "        require(['plotly'], function(Plotly) {\n",
       "            window._Plotly = Plotly;\n",
       "        });\n",
       "        }\n",
       "        </script>\n",
       "        "
      ]
     },
     "metadata": {},
     "output_type": "display_data"
    }
   ],
   "source": [
    "import pandas_datareader.data as web\n",
    "import pandas as pd\n",
    "import numpy as np\n",
    "import seaborn as sns\n",
    "\n",
    "import matplotlib.pyplot as plt\n",
    "%matplotlib inline\n",
    "\n",
    "# Optional Plotly Method Import\n",
    "from plotly.offline import download_plotlyjs, init_notebook_mode, plot, iplot\n",
    "import cufflinks as cf\n",
    "init_notebook_mode(connected=True)\n",
    "cf.go_offline()"
   ]
  },
  {
   "cell_type": "markdown",
   "metadata": {},
   "source": [
    "## Data\n",
    "\n",
    "We need to get data using pandas datareader. We will get stock information for the following banks:\n",
    "*  Bank of America\n",
    "* CitiGroup\n",
    "* Goldman Sachs\n",
    "* JPMorgan Chase\n",
    "* Morgan Stanley\n",
    "* Wells Fargo\n",
    "\n",
    "** We will be Using [this documentation page](https://pandas-datareader.readthedocs.io/en/latest/remote_data.html) for hints and instructions (it should just be a matter of replacing certain values. Use google finance as a source, for example:**\n",
    "    \n",
    "    # Bank of America\n",
    "    BAC = data.DataReader(\"BAC\", 'google', start, end)"
   ]
  },
  {
   "cell_type": "markdown",
   "metadata": {},
   "source": [
    "# Load Data From Servers."
   ]
  },
  {
   "cell_type": "code",
   "execution_count": 18,
   "metadata": {},
   "outputs": [],
   "source": [
    "BAC = web.DataReader('BAC', 'stooq')   #Bank of America\n",
    "C = web.DataReader('C', 'stooq')       # CitiGroup\n",
    "GS = web.DataReader('GS', 'stooq')     # Goldman Sachs\n",
    "JPM = web.DataReader('JPM', 'stooq')   #JPMorgan Chase\n",
    "MS = web.DataReader('MS', 'stooq')     # Morgan Stanley\n",
    "WFC = web.DataReader('WFC', 'stooq')   # Wells Fargo"
   ]
  },
  {
   "cell_type": "markdown",
   "metadata": {},
   "source": [
    "# Check For Updates in date"
   ]
  },
  {
   "cell_type": "code",
   "execution_count": 19,
   "metadata": {},
   "outputs": [
    {
     "data": {
      "text/html": [
       "<div>\n",
       "<style scoped>\n",
       "    .dataframe tbody tr th:only-of-type {\n",
       "        vertical-align: middle;\n",
       "    }\n",
       "\n",
       "    .dataframe tbody tr th {\n",
       "        vertical-align: top;\n",
       "    }\n",
       "\n",
       "    .dataframe thead th {\n",
       "        text-align: right;\n",
       "    }\n",
       "</style>\n",
       "<table border=\"1\" class=\"dataframe\">\n",
       "  <thead>\n",
       "    <tr style=\"text-align: right;\">\n",
       "      <th></th>\n",
       "      <th>Open</th>\n",
       "      <th>High</th>\n",
       "      <th>Low</th>\n",
       "      <th>Close</th>\n",
       "      <th>Volume</th>\n",
       "    </tr>\n",
       "    <tr>\n",
       "      <th>Date</th>\n",
       "      <th></th>\n",
       "      <th></th>\n",
       "      <th></th>\n",
       "      <th></th>\n",
       "      <th></th>\n",
       "    </tr>\n",
       "  </thead>\n",
       "  <tbody>\n",
       "    <tr>\n",
       "      <th>2020-06-22</th>\n",
       "      <td>24.890</td>\n",
       "      <td>25.025</td>\n",
       "      <td>24.610</td>\n",
       "      <td>24.620</td>\n",
       "      <td>55484307</td>\n",
       "    </tr>\n",
       "    <tr>\n",
       "      <th>2020-06-19</th>\n",
       "      <td>25.440</td>\n",
       "      <td>25.490</td>\n",
       "      <td>24.490</td>\n",
       "      <td>25.250</td>\n",
       "      <td>127563637</td>\n",
       "    </tr>\n",
       "    <tr>\n",
       "      <th>2020-06-18</th>\n",
       "      <td>24.700</td>\n",
       "      <td>25.490</td>\n",
       "      <td>24.580</td>\n",
       "      <td>25.040</td>\n",
       "      <td>53419011</td>\n",
       "    </tr>\n",
       "    <tr>\n",
       "      <th>2020-06-17</th>\n",
       "      <td>25.900</td>\n",
       "      <td>25.900</td>\n",
       "      <td>24.920</td>\n",
       "      <td>25.000</td>\n",
       "      <td>58349482</td>\n",
       "    </tr>\n",
       "    <tr>\n",
       "      <th>2020-06-16</th>\n",
       "      <td>26.180</td>\n",
       "      <td>26.240</td>\n",
       "      <td>24.860</td>\n",
       "      <td>25.800</td>\n",
       "      <td>96796548</td>\n",
       "    </tr>\n",
       "    <tr>\n",
       "      <th>...</th>\n",
       "      <td>...</td>\n",
       "      <td>...</td>\n",
       "      <td>...</td>\n",
       "      <td>...</td>\n",
       "      <td>...</td>\n",
       "    </tr>\n",
       "    <tr>\n",
       "      <th>2015-07-01</th>\n",
       "      <td>15.747</td>\n",
       "      <td>15.800</td>\n",
       "      <td>15.599</td>\n",
       "      <td>15.717</td>\n",
       "      <td>68271790</td>\n",
       "    </tr>\n",
       "    <tr>\n",
       "      <th>2015-06-30</th>\n",
       "      <td>15.589</td>\n",
       "      <td>15.635</td>\n",
       "      <td>15.383</td>\n",
       "      <td>15.536</td>\n",
       "      <td>97547603</td>\n",
       "    </tr>\n",
       "    <tr>\n",
       "      <th>2015-06-29</th>\n",
       "      <td>15.635</td>\n",
       "      <td>15.747</td>\n",
       "      <td>15.391</td>\n",
       "      <td>15.417</td>\n",
       "      <td>108025838</td>\n",
       "    </tr>\n",
       "    <tr>\n",
       "      <th>2015-06-26</th>\n",
       "      <td>15.956</td>\n",
       "      <td>15.991</td>\n",
       "      <td>15.837</td>\n",
       "      <td>15.890</td>\n",
       "      <td>69108135</td>\n",
       "    </tr>\n",
       "    <tr>\n",
       "      <th>2015-06-25</th>\n",
       "      <td>16.038</td>\n",
       "      <td>16.085</td>\n",
       "      <td>15.837</td>\n",
       "      <td>15.855</td>\n",
       "      <td>65483394</td>\n",
       "    </tr>\n",
       "  </tbody>\n",
       "</table>\n",
       "<p>1257 rows × 5 columns</p>\n",
       "</div>"
      ],
      "text/plain": [
       "              Open    High     Low   Close     Volume\n",
       "Date                                                 \n",
       "2020-06-22  24.890  25.025  24.610  24.620   55484307\n",
       "2020-06-19  25.440  25.490  24.490  25.250  127563637\n",
       "2020-06-18  24.700  25.490  24.580  25.040   53419011\n",
       "2020-06-17  25.900  25.900  24.920  25.000   58349482\n",
       "2020-06-16  26.180  26.240  24.860  25.800   96796548\n",
       "...            ...     ...     ...     ...        ...\n",
       "2015-07-01  15.747  15.800  15.599  15.717   68271790\n",
       "2015-06-30  15.589  15.635  15.383  15.536   97547603\n",
       "2015-06-29  15.635  15.747  15.391  15.417  108025838\n",
       "2015-06-26  15.956  15.991  15.837  15.890   69108135\n",
       "2015-06-25  16.038  16.085  15.837  15.855   65483394\n",
       "\n",
       "[1257 rows x 5 columns]"
      ]
     },
     "execution_count": 19,
     "metadata": {},
     "output_type": "execute_result"
    }
   ],
   "source": [
    "BAC"
   ]
  },
  {
   "cell_type": "markdown",
   "metadata": {},
   "source": [
    "# tickers, To Concatinate The Data"
   ]
  },
  {
   "cell_type": "code",
   "execution_count": 20,
   "metadata": {},
   "outputs": [],
   "source": [
    "tickers = ['BAC', 'C', 'GS', 'JPM', 'MS', 'WFC']"
   ]
  },
  {
   "cell_type": "markdown",
   "metadata": {},
   "source": [
    "** Use pd.concat to concatenate the bank dataframes together to a single data frame called bank_stocks. Set the keys argument equal to the tickers list. Also pay attention to what axis you concatenate on.**"
   ]
  },
  {
   "cell_type": "code",
   "execution_count": 21,
   "metadata": {},
   "outputs": [
    {
     "data": {
      "text/html": [
       "<div>\n",
       "<style scoped>\n",
       "    .dataframe tbody tr th:only-of-type {\n",
       "        vertical-align: middle;\n",
       "    }\n",
       "\n",
       "    .dataframe tbody tr th {\n",
       "        vertical-align: top;\n",
       "    }\n",
       "\n",
       "    .dataframe thead tr th {\n",
       "        text-align: left;\n",
       "    }\n",
       "\n",
       "    .dataframe thead tr:last-of-type th {\n",
       "        text-align: right;\n",
       "    }\n",
       "</style>\n",
       "<table border=\"1\" class=\"dataframe\">\n",
       "  <thead>\n",
       "    <tr>\n",
       "      <th></th>\n",
       "      <th colspan=\"5\" halign=\"left\">BAC</th>\n",
       "      <th colspan=\"5\" halign=\"left\">C</th>\n",
       "      <th>...</th>\n",
       "      <th colspan=\"5\" halign=\"left\">MS</th>\n",
       "      <th colspan=\"5\" halign=\"left\">WFC</th>\n",
       "    </tr>\n",
       "    <tr>\n",
       "      <th></th>\n",
       "      <th>Open</th>\n",
       "      <th>High</th>\n",
       "      <th>Low</th>\n",
       "      <th>Close</th>\n",
       "      <th>Volume</th>\n",
       "      <th>Open</th>\n",
       "      <th>High</th>\n",
       "      <th>Low</th>\n",
       "      <th>Close</th>\n",
       "      <th>Volume</th>\n",
       "      <th>...</th>\n",
       "      <th>Open</th>\n",
       "      <th>High</th>\n",
       "      <th>Low</th>\n",
       "      <th>Close</th>\n",
       "      <th>Volume</th>\n",
       "      <th>Open</th>\n",
       "      <th>High</th>\n",
       "      <th>Low</th>\n",
       "      <th>Close</th>\n",
       "      <th>Volume</th>\n",
       "    </tr>\n",
       "    <tr>\n",
       "      <th>Date</th>\n",
       "      <th></th>\n",
       "      <th></th>\n",
       "      <th></th>\n",
       "      <th></th>\n",
       "      <th></th>\n",
       "      <th></th>\n",
       "      <th></th>\n",
       "      <th></th>\n",
       "      <th></th>\n",
       "      <th></th>\n",
       "      <th></th>\n",
       "      <th></th>\n",
       "      <th></th>\n",
       "      <th></th>\n",
       "      <th></th>\n",
       "      <th></th>\n",
       "      <th></th>\n",
       "      <th></th>\n",
       "      <th></th>\n",
       "      <th></th>\n",
       "      <th></th>\n",
       "    </tr>\n",
       "  </thead>\n",
       "  <tbody>\n",
       "    <tr>\n",
       "      <th>2020-06-22</th>\n",
       "      <td>24.890</td>\n",
       "      <td>25.025</td>\n",
       "      <td>24.610</td>\n",
       "      <td>24.620</td>\n",
       "      <td>55484307</td>\n",
       "      <td>51.850</td>\n",
       "      <td>52.570</td>\n",
       "      <td>51.520</td>\n",
       "      <td>52.060</td>\n",
       "      <td>22642122</td>\n",
       "      <td>...</td>\n",
       "      <td>46.800</td>\n",
       "      <td>47.610</td>\n",
       "      <td>46.550</td>\n",
       "      <td>47.380</td>\n",
       "      <td>11657353</td>\n",
       "      <td>27.270</td>\n",
       "      <td>27.625</td>\n",
       "      <td>26.890</td>\n",
       "      <td>27.350</td>\n",
       "      <td>32808327</td>\n",
       "    </tr>\n",
       "    <tr>\n",
       "      <th>2020-06-19</th>\n",
       "      <td>25.440</td>\n",
       "      <td>25.490</td>\n",
       "      <td>24.490</td>\n",
       "      <td>25.250</td>\n",
       "      <td>127563637</td>\n",
       "      <td>54.060</td>\n",
       "      <td>54.090</td>\n",
       "      <td>51.560</td>\n",
       "      <td>52.920</td>\n",
       "      <td>50379310</td>\n",
       "      <td>...</td>\n",
       "      <td>48.460</td>\n",
       "      <td>48.680</td>\n",
       "      <td>46.710</td>\n",
       "      <td>46.930</td>\n",
       "      <td>20962699</td>\n",
       "      <td>28.000</td>\n",
       "      <td>28.050</td>\n",
       "      <td>27.010</td>\n",
       "      <td>27.600</td>\n",
       "      <td>71891222</td>\n",
       "    </tr>\n",
       "    <tr>\n",
       "      <th>2020-06-18</th>\n",
       "      <td>24.700</td>\n",
       "      <td>25.490</td>\n",
       "      <td>24.580</td>\n",
       "      <td>25.040</td>\n",
       "      <td>53419011</td>\n",
       "      <td>52.670</td>\n",
       "      <td>53.650</td>\n",
       "      <td>52.030</td>\n",
       "      <td>53.040</td>\n",
       "      <td>22280593</td>\n",
       "      <td>...</td>\n",
       "      <td>47.120</td>\n",
       "      <td>48.375</td>\n",
       "      <td>46.970</td>\n",
       "      <td>47.580</td>\n",
       "      <td>9825246</td>\n",
       "      <td>27.100</td>\n",
       "      <td>27.925</td>\n",
       "      <td>26.930</td>\n",
       "      <td>27.550</td>\n",
       "      <td>33670192</td>\n",
       "    </tr>\n",
       "    <tr>\n",
       "      <th>2020-06-17</th>\n",
       "      <td>25.900</td>\n",
       "      <td>25.900</td>\n",
       "      <td>24.920</td>\n",
       "      <td>25.000</td>\n",
       "      <td>58349482</td>\n",
       "      <td>54.700</td>\n",
       "      <td>54.800</td>\n",
       "      <td>52.880</td>\n",
       "      <td>53.000</td>\n",
       "      <td>23727272</td>\n",
       "      <td>...</td>\n",
       "      <td>48.700</td>\n",
       "      <td>48.780</td>\n",
       "      <td>47.655</td>\n",
       "      <td>47.760</td>\n",
       "      <td>8674443</td>\n",
       "      <td>28.500</td>\n",
       "      <td>28.550</td>\n",
       "      <td>27.350</td>\n",
       "      <td>27.450</td>\n",
       "      <td>38660809</td>\n",
       "    </tr>\n",
       "    <tr>\n",
       "      <th>2020-06-16</th>\n",
       "      <td>26.180</td>\n",
       "      <td>26.240</td>\n",
       "      <td>24.860</td>\n",
       "      <td>25.800</td>\n",
       "      <td>96796548</td>\n",
       "      <td>56.300</td>\n",
       "      <td>56.400</td>\n",
       "      <td>52.320</td>\n",
       "      <td>54.450</td>\n",
       "      <td>37638702</td>\n",
       "      <td>...</td>\n",
       "      <td>49.440</td>\n",
       "      <td>49.600</td>\n",
       "      <td>46.910</td>\n",
       "      <td>48.560</td>\n",
       "      <td>13554814</td>\n",
       "      <td>29.430</td>\n",
       "      <td>29.650</td>\n",
       "      <td>27.770</td>\n",
       "      <td>28.520</td>\n",
       "      <td>52985585</td>\n",
       "    </tr>\n",
       "    <tr>\n",
       "      <th>...</th>\n",
       "      <td>...</td>\n",
       "      <td>...</td>\n",
       "      <td>...</td>\n",
       "      <td>...</td>\n",
       "      <td>...</td>\n",
       "      <td>...</td>\n",
       "      <td>...</td>\n",
       "      <td>...</td>\n",
       "      <td>...</td>\n",
       "      <td>...</td>\n",
       "      <td>...</td>\n",
       "      <td>...</td>\n",
       "      <td>...</td>\n",
       "      <td>...</td>\n",
       "      <td>...</td>\n",
       "      <td>...</td>\n",
       "      <td>...</td>\n",
       "      <td>...</td>\n",
       "      <td>...</td>\n",
       "      <td>...</td>\n",
       "      <td>...</td>\n",
       "    </tr>\n",
       "    <tr>\n",
       "      <th>2015-07-01</th>\n",
       "      <td>15.747</td>\n",
       "      <td>15.800</td>\n",
       "      <td>15.599</td>\n",
       "      <td>15.717</td>\n",
       "      <td>68271790</td>\n",
       "      <td>51.060</td>\n",
       "      <td>51.060</td>\n",
       "      <td>50.348</td>\n",
       "      <td>50.760</td>\n",
       "      <td>19312798</td>\n",
       "      <td>...</td>\n",
       "      <td>35.073</td>\n",
       "      <td>35.137</td>\n",
       "      <td>34.825</td>\n",
       "      <td>34.986</td>\n",
       "      <td>11868955</td>\n",
       "      <td>48.078</td>\n",
       "      <td>48.169</td>\n",
       "      <td>47.672</td>\n",
       "      <td>47.922</td>\n",
       "      <td>14446157</td>\n",
       "    </tr>\n",
       "    <tr>\n",
       "      <th>2015-06-30</th>\n",
       "      <td>15.589</td>\n",
       "      <td>15.635</td>\n",
       "      <td>15.383</td>\n",
       "      <td>15.536</td>\n",
       "      <td>97547603</td>\n",
       "      <td>50.613</td>\n",
       "      <td>50.760</td>\n",
       "      <td>49.965</td>\n",
       "      <td>50.358</td>\n",
       "      <td>19456873</td>\n",
       "      <td>...</td>\n",
       "      <td>34.514</td>\n",
       "      <td>34.745</td>\n",
       "      <td>34.273</td>\n",
       "      <td>34.480</td>\n",
       "      <td>12490497</td>\n",
       "      <td>47.614</td>\n",
       "      <td>47.900</td>\n",
       "      <td>47.150</td>\n",
       "      <td>47.362</td>\n",
       "      <td>20599037</td>\n",
       "    </tr>\n",
       "    <tr>\n",
       "      <th>2015-06-29</th>\n",
       "      <td>15.635</td>\n",
       "      <td>15.747</td>\n",
       "      <td>15.391</td>\n",
       "      <td>15.417</td>\n",
       "      <td>108025838</td>\n",
       "      <td>50.176</td>\n",
       "      <td>50.705</td>\n",
       "      <td>50.003</td>\n",
       "      <td>50.031</td>\n",
       "      <td>24418274</td>\n",
       "      <td>...</td>\n",
       "      <td>34.505</td>\n",
       "      <td>34.844</td>\n",
       "      <td>34.044</td>\n",
       "      <td>34.052</td>\n",
       "      <td>12172041</td>\n",
       "      <td>47.833</td>\n",
       "      <td>48.161</td>\n",
       "      <td>47.167</td>\n",
       "      <td>47.208</td>\n",
       "      <td>22906186</td>\n",
       "    </tr>\n",
       "    <tr>\n",
       "      <th>2015-06-26</th>\n",
       "      <td>15.956</td>\n",
       "      <td>15.991</td>\n",
       "      <td>15.837</td>\n",
       "      <td>15.890</td>\n",
       "      <td>69108135</td>\n",
       "      <td>51.481</td>\n",
       "      <td>51.643</td>\n",
       "      <td>51.141</td>\n",
       "      <td>51.363</td>\n",
       "      <td>13325820</td>\n",
       "      <td>...</td>\n",
       "      <td>35.083</td>\n",
       "      <td>35.305</td>\n",
       "      <td>34.986</td>\n",
       "      <td>35.111</td>\n",
       "      <td>9366640</td>\n",
       "      <td>48.286</td>\n",
       "      <td>48.489</td>\n",
       "      <td>48.144</td>\n",
       "      <td>48.369</td>\n",
       "      <td>20158579</td>\n",
       "    </tr>\n",
       "    <tr>\n",
       "      <th>2015-06-25</th>\n",
       "      <td>16.038</td>\n",
       "      <td>16.085</td>\n",
       "      <td>15.837</td>\n",
       "      <td>15.855</td>\n",
       "      <td>65483394</td>\n",
       "      <td>51.956</td>\n",
       "      <td>52.017</td>\n",
       "      <td>51.215</td>\n",
       "      <td>51.224</td>\n",
       "      <td>13356424</td>\n",
       "      <td>...</td>\n",
       "      <td>35.395</td>\n",
       "      <td>35.440</td>\n",
       "      <td>34.790</td>\n",
       "      <td>34.861</td>\n",
       "      <td>10057412</td>\n",
       "      <td>48.614</td>\n",
       "      <td>48.667</td>\n",
       "      <td>48.109</td>\n",
       "      <td>48.144</td>\n",
       "      <td>16688495</td>\n",
       "    </tr>\n",
       "  </tbody>\n",
       "</table>\n",
       "<p>1257 rows × 30 columns</p>\n",
       "</div>"
      ],
      "text/plain": [
       "               BAC                                          C                  \\\n",
       "              Open    High     Low   Close     Volume    Open    High     Low   \n",
       "Date                                                                            \n",
       "2020-06-22  24.890  25.025  24.610  24.620   55484307  51.850  52.570  51.520   \n",
       "2020-06-19  25.440  25.490  24.490  25.250  127563637  54.060  54.090  51.560   \n",
       "2020-06-18  24.700  25.490  24.580  25.040   53419011  52.670  53.650  52.030   \n",
       "2020-06-17  25.900  25.900  24.920  25.000   58349482  54.700  54.800  52.880   \n",
       "2020-06-16  26.180  26.240  24.860  25.800   96796548  56.300  56.400  52.320   \n",
       "...            ...     ...     ...     ...        ...     ...     ...     ...   \n",
       "2015-07-01  15.747  15.800  15.599  15.717   68271790  51.060  51.060  50.348   \n",
       "2015-06-30  15.589  15.635  15.383  15.536   97547603  50.613  50.760  49.965   \n",
       "2015-06-29  15.635  15.747  15.391  15.417  108025838  50.176  50.705  50.003   \n",
       "2015-06-26  15.956  15.991  15.837  15.890   69108135  51.481  51.643  51.141   \n",
       "2015-06-25  16.038  16.085  15.837  15.855   65483394  51.956  52.017  51.215   \n",
       "\n",
       "                              ...      MS                                    \\\n",
       "             Close    Volume  ...    Open    High     Low   Close    Volume   \n",
       "Date                          ...                                             \n",
       "2020-06-22  52.060  22642122  ...  46.800  47.610  46.550  47.380  11657353   \n",
       "2020-06-19  52.920  50379310  ...  48.460  48.680  46.710  46.930  20962699   \n",
       "2020-06-18  53.040  22280593  ...  47.120  48.375  46.970  47.580   9825246   \n",
       "2020-06-17  53.000  23727272  ...  48.700  48.780  47.655  47.760   8674443   \n",
       "2020-06-16  54.450  37638702  ...  49.440  49.600  46.910  48.560  13554814   \n",
       "...            ...       ...  ...     ...     ...     ...     ...       ...   \n",
       "2015-07-01  50.760  19312798  ...  35.073  35.137  34.825  34.986  11868955   \n",
       "2015-06-30  50.358  19456873  ...  34.514  34.745  34.273  34.480  12490497   \n",
       "2015-06-29  50.031  24418274  ...  34.505  34.844  34.044  34.052  12172041   \n",
       "2015-06-26  51.363  13325820  ...  35.083  35.305  34.986  35.111   9366640   \n",
       "2015-06-25  51.224  13356424  ...  35.395  35.440  34.790  34.861  10057412   \n",
       "\n",
       "               WFC                                    \n",
       "              Open    High     Low   Close    Volume  \n",
       "Date                                                  \n",
       "2020-06-22  27.270  27.625  26.890  27.350  32808327  \n",
       "2020-06-19  28.000  28.050  27.010  27.600  71891222  \n",
       "2020-06-18  27.100  27.925  26.930  27.550  33670192  \n",
       "2020-06-17  28.500  28.550  27.350  27.450  38660809  \n",
       "2020-06-16  29.430  29.650  27.770  28.520  52985585  \n",
       "...            ...     ...     ...     ...       ...  \n",
       "2015-07-01  48.078  48.169  47.672  47.922  14446157  \n",
       "2015-06-30  47.614  47.900  47.150  47.362  20599037  \n",
       "2015-06-29  47.833  48.161  47.167  47.208  22906186  \n",
       "2015-06-26  48.286  48.489  48.144  48.369  20158579  \n",
       "2015-06-25  48.614  48.667  48.109  48.144  16688495  \n",
       "\n",
       "[1257 rows x 30 columns]"
      ]
     },
     "execution_count": 21,
     "metadata": {},
     "output_type": "execute_result"
    }
   ],
   "source": [
    "bank_stocks = pd.concat([BAC, C, GS, JPM, MS, WFC], keys=tickers, axis=1)\n",
    "bank_stocks"
   ]
  },
  {
   "cell_type": "markdown",
   "metadata": {},
   "source": [
    "# Save Data in File"
   ]
  },
  {
   "cell_type": "code",
   "execution_count": 22,
   "metadata": {},
   "outputs": [],
   "source": [
    "bank_stocks.to_csv('my_bank_stocks.csv')"
   ]
  },
  {
   "cell_type": "markdown",
   "metadata": {},
   "source": [
    "** Set the column name levels (this is filled out for you):**"
   ]
  },
  {
   "cell_type": "markdown",
   "metadata": {},
   "source": [
    "# Add Column Names"
   ]
  },
  {
   "cell_type": "code",
   "execution_count": 23,
   "metadata": {},
   "outputs": [],
   "source": [
    "bank_stocks.columns.names = ['Bank Ticker','Stock Info']"
   ]
  },
  {
   "cell_type": "markdown",
   "metadata": {},
   "source": [
    "** Check the head of the bank_stocks dataframe.**"
   ]
  },
  {
   "cell_type": "markdown",
   "metadata": {},
   "source": [
    "# Check Head() "
   ]
  },
  {
   "cell_type": "code",
   "execution_count": 24,
   "metadata": {},
   "outputs": [
    {
     "data": {
      "text/html": [
       "<div>\n",
       "<style scoped>\n",
       "    .dataframe tbody tr th:only-of-type {\n",
       "        vertical-align: middle;\n",
       "    }\n",
       "\n",
       "    .dataframe tbody tr th {\n",
       "        vertical-align: top;\n",
       "    }\n",
       "\n",
       "    .dataframe thead tr th {\n",
       "        text-align: left;\n",
       "    }\n",
       "\n",
       "    .dataframe thead tr:last-of-type th {\n",
       "        text-align: right;\n",
       "    }\n",
       "</style>\n",
       "<table border=\"1\" class=\"dataframe\">\n",
       "  <thead>\n",
       "    <tr>\n",
       "      <th>Bank Ticker</th>\n",
       "      <th colspan=\"5\" halign=\"left\">BAC</th>\n",
       "      <th colspan=\"5\" halign=\"left\">C</th>\n",
       "      <th>...</th>\n",
       "      <th colspan=\"5\" halign=\"left\">MS</th>\n",
       "      <th colspan=\"5\" halign=\"left\">WFC</th>\n",
       "    </tr>\n",
       "    <tr>\n",
       "      <th>Stock Info</th>\n",
       "      <th>Open</th>\n",
       "      <th>High</th>\n",
       "      <th>Low</th>\n",
       "      <th>Close</th>\n",
       "      <th>Volume</th>\n",
       "      <th>Open</th>\n",
       "      <th>High</th>\n",
       "      <th>Low</th>\n",
       "      <th>Close</th>\n",
       "      <th>Volume</th>\n",
       "      <th>...</th>\n",
       "      <th>Open</th>\n",
       "      <th>High</th>\n",
       "      <th>Low</th>\n",
       "      <th>Close</th>\n",
       "      <th>Volume</th>\n",
       "      <th>Open</th>\n",
       "      <th>High</th>\n",
       "      <th>Low</th>\n",
       "      <th>Close</th>\n",
       "      <th>Volume</th>\n",
       "    </tr>\n",
       "    <tr>\n",
       "      <th>Date</th>\n",
       "      <th></th>\n",
       "      <th></th>\n",
       "      <th></th>\n",
       "      <th></th>\n",
       "      <th></th>\n",
       "      <th></th>\n",
       "      <th></th>\n",
       "      <th></th>\n",
       "      <th></th>\n",
       "      <th></th>\n",
       "      <th></th>\n",
       "      <th></th>\n",
       "      <th></th>\n",
       "      <th></th>\n",
       "      <th></th>\n",
       "      <th></th>\n",
       "      <th></th>\n",
       "      <th></th>\n",
       "      <th></th>\n",
       "      <th></th>\n",
       "      <th></th>\n",
       "    </tr>\n",
       "  </thead>\n",
       "  <tbody>\n",
       "    <tr>\n",
       "      <th>2020-06-22</th>\n",
       "      <td>24.89</td>\n",
       "      <td>25.025</td>\n",
       "      <td>24.61</td>\n",
       "      <td>24.62</td>\n",
       "      <td>55484307</td>\n",
       "      <td>51.85</td>\n",
       "      <td>52.57</td>\n",
       "      <td>51.52</td>\n",
       "      <td>52.06</td>\n",
       "      <td>22642122</td>\n",
       "      <td>...</td>\n",
       "      <td>46.80</td>\n",
       "      <td>47.610</td>\n",
       "      <td>46.550</td>\n",
       "      <td>47.38</td>\n",
       "      <td>11657353</td>\n",
       "      <td>27.27</td>\n",
       "      <td>27.625</td>\n",
       "      <td>26.89</td>\n",
       "      <td>27.35</td>\n",
       "      <td>32808327</td>\n",
       "    </tr>\n",
       "    <tr>\n",
       "      <th>2020-06-19</th>\n",
       "      <td>25.44</td>\n",
       "      <td>25.490</td>\n",
       "      <td>24.49</td>\n",
       "      <td>25.25</td>\n",
       "      <td>127563637</td>\n",
       "      <td>54.06</td>\n",
       "      <td>54.09</td>\n",
       "      <td>51.56</td>\n",
       "      <td>52.92</td>\n",
       "      <td>50379310</td>\n",
       "      <td>...</td>\n",
       "      <td>48.46</td>\n",
       "      <td>48.680</td>\n",
       "      <td>46.710</td>\n",
       "      <td>46.93</td>\n",
       "      <td>20962699</td>\n",
       "      <td>28.00</td>\n",
       "      <td>28.050</td>\n",
       "      <td>27.01</td>\n",
       "      <td>27.60</td>\n",
       "      <td>71891222</td>\n",
       "    </tr>\n",
       "    <tr>\n",
       "      <th>2020-06-18</th>\n",
       "      <td>24.70</td>\n",
       "      <td>25.490</td>\n",
       "      <td>24.58</td>\n",
       "      <td>25.04</td>\n",
       "      <td>53419011</td>\n",
       "      <td>52.67</td>\n",
       "      <td>53.65</td>\n",
       "      <td>52.03</td>\n",
       "      <td>53.04</td>\n",
       "      <td>22280593</td>\n",
       "      <td>...</td>\n",
       "      <td>47.12</td>\n",
       "      <td>48.375</td>\n",
       "      <td>46.970</td>\n",
       "      <td>47.58</td>\n",
       "      <td>9825246</td>\n",
       "      <td>27.10</td>\n",
       "      <td>27.925</td>\n",
       "      <td>26.93</td>\n",
       "      <td>27.55</td>\n",
       "      <td>33670192</td>\n",
       "    </tr>\n",
       "    <tr>\n",
       "      <th>2020-06-17</th>\n",
       "      <td>25.90</td>\n",
       "      <td>25.900</td>\n",
       "      <td>24.92</td>\n",
       "      <td>25.00</td>\n",
       "      <td>58349482</td>\n",
       "      <td>54.70</td>\n",
       "      <td>54.80</td>\n",
       "      <td>52.88</td>\n",
       "      <td>53.00</td>\n",
       "      <td>23727272</td>\n",
       "      <td>...</td>\n",
       "      <td>48.70</td>\n",
       "      <td>48.780</td>\n",
       "      <td>47.655</td>\n",
       "      <td>47.76</td>\n",
       "      <td>8674443</td>\n",
       "      <td>28.50</td>\n",
       "      <td>28.550</td>\n",
       "      <td>27.35</td>\n",
       "      <td>27.45</td>\n",
       "      <td>38660809</td>\n",
       "    </tr>\n",
       "    <tr>\n",
       "      <th>2020-06-16</th>\n",
       "      <td>26.18</td>\n",
       "      <td>26.240</td>\n",
       "      <td>24.86</td>\n",
       "      <td>25.80</td>\n",
       "      <td>96796548</td>\n",
       "      <td>56.30</td>\n",
       "      <td>56.40</td>\n",
       "      <td>52.32</td>\n",
       "      <td>54.45</td>\n",
       "      <td>37638702</td>\n",
       "      <td>...</td>\n",
       "      <td>49.44</td>\n",
       "      <td>49.600</td>\n",
       "      <td>46.910</td>\n",
       "      <td>48.56</td>\n",
       "      <td>13554814</td>\n",
       "      <td>29.43</td>\n",
       "      <td>29.650</td>\n",
       "      <td>27.77</td>\n",
       "      <td>28.52</td>\n",
       "      <td>52985585</td>\n",
       "    </tr>\n",
       "  </tbody>\n",
       "</table>\n",
       "<p>5 rows × 30 columns</p>\n",
       "</div>"
      ],
      "text/plain": [
       "Bank Ticker    BAC                                       C                \\\n",
       "Stock Info    Open    High    Low  Close     Volume   Open   High    Low   \n",
       "Date                                                                       \n",
       "2020-06-22   24.89  25.025  24.61  24.62   55484307  51.85  52.57  51.52   \n",
       "2020-06-19   25.44  25.490  24.49  25.25  127563637  54.06  54.09  51.56   \n",
       "2020-06-18   24.70  25.490  24.58  25.04   53419011  52.67  53.65  52.03   \n",
       "2020-06-17   25.90  25.900  24.92  25.00   58349482  54.70  54.80  52.88   \n",
       "2020-06-16   26.18  26.240  24.86  25.80   96796548  56.30  56.40  52.32   \n",
       "\n",
       "Bank Ticker                   ...     MS                                   \\\n",
       "Stock Info   Close    Volume  ...   Open    High     Low  Close    Volume   \n",
       "Date                          ...                                           \n",
       "2020-06-22   52.06  22642122  ...  46.80  47.610  46.550  47.38  11657353   \n",
       "2020-06-19   52.92  50379310  ...  48.46  48.680  46.710  46.93  20962699   \n",
       "2020-06-18   53.04  22280593  ...  47.12  48.375  46.970  47.58   9825246   \n",
       "2020-06-17   53.00  23727272  ...  48.70  48.780  47.655  47.76   8674443   \n",
       "2020-06-16   54.45  37638702  ...  49.44  49.600  46.910  48.56  13554814   \n",
       "\n",
       "Bank Ticker    WFC                                  \n",
       "Stock Info    Open    High    Low  Close    Volume  \n",
       "Date                                                \n",
       "2020-06-22   27.27  27.625  26.89  27.35  32808327  \n",
       "2020-06-19   28.00  28.050  27.01  27.60  71891222  \n",
       "2020-06-18   27.10  27.925  26.93  27.55  33670192  \n",
       "2020-06-17   28.50  28.550  27.35  27.45  38660809  \n",
       "2020-06-16   29.43  29.650  27.77  28.52  52985585  \n",
       "\n",
       "[5 rows x 30 columns]"
      ]
     },
     "execution_count": 24,
     "metadata": {},
     "output_type": "execute_result"
    }
   ],
   "source": [
    "bank_stocks.head()"
   ]
  },
  {
   "cell_type": "markdown",
   "metadata": {},
   "source": [
    "# EDA\n",
    "#### Exploratory data analysis\n",
    "Let's explore the data a bit! Before continuing.\n",
    "In statistics, exploratory data analysis (EDA) is an approach to analyzing data sets to summarize their main characteristics, often with visual methods. A statistical model can be used or not, but primarily EDA is for seeing what the data can tell us beyond the formal modeling or hypothesis testing task.\n",
    "\n",
    "### What is the max Close price for each bank's stock throughout the time period?"
   ]
  },
  {
   "cell_type": "code",
   "execution_count": 25,
   "metadata": {},
   "outputs": [
    {
     "data": {
      "text/plain": [
       "Bank Ticker\n",
       "BAC     35.169\n",
       "C       80.515\n",
       "GS     261.710\n",
       "JPM    138.750\n",
       "MS      56.637\n",
       "WFC     59.723\n",
       "dtype: float64"
      ]
     },
     "execution_count": 25,
     "metadata": {},
     "output_type": "execute_result"
    }
   ],
   "source": [
    "bank_stocks.xs(key='Close', axis=1, level='Stock Info').max()"
   ]
  },
  {
   "cell_type": "markdown",
   "metadata": {},
   "source": [
    "# Returns of Stocks"
   ]
  },
  {
   "cell_type": "markdown",
   "metadata": {},
   "source": [
    "** Create a new empty DataFrame called returns. This dataframe will contain the returns for each bank's stock. returns are typically defined by:**\n",
    "\n",
    "$$r_t = \\frac{p_t - p_{t-1}}{p_{t-1}} = \\frac{p_t}{p_{t-1}} - 1$$"
   ]
  },
  {
   "cell_type": "code",
   "execution_count": 26,
   "metadata": {},
   "outputs": [],
   "source": [
    "returns = pd.DataFrame()"
   ]
  },
  {
   "cell_type": "markdown",
   "metadata": {},
   "source": [
    "** We can use pandas pct_change() method on the Close column to create a column representing this return value. Create a for loop that goes and for each Bank Stock Ticker creates this returns column and set's it as a column in the returns DataFrame.**"
   ]
  },
  {
   "cell_type": "code",
   "execution_count": 27,
   "metadata": {},
   "outputs": [],
   "source": [
    "for tick in tickers:\n",
    "    returns[tick + ' Return'] = bank_stocks[tick].xs(key='Close', axis=1,).pct_change()"
   ]
  },
  {
   "cell_type": "code",
   "execution_count": 28,
   "metadata": {},
   "outputs": [
    {
     "data": {
      "text/html": [
       "<div>\n",
       "<style scoped>\n",
       "    .dataframe tbody tr th:only-of-type {\n",
       "        vertical-align: middle;\n",
       "    }\n",
       "\n",
       "    .dataframe tbody tr th {\n",
       "        vertical-align: top;\n",
       "    }\n",
       "\n",
       "    .dataframe thead th {\n",
       "        text-align: right;\n",
       "    }\n",
       "</style>\n",
       "<table border=\"1\" class=\"dataframe\">\n",
       "  <thead>\n",
       "    <tr style=\"text-align: right;\">\n",
       "      <th></th>\n",
       "      <th>BAC Return</th>\n",
       "      <th>C Return</th>\n",
       "      <th>GS Return</th>\n",
       "      <th>JPM Return</th>\n",
       "      <th>MS Return</th>\n",
       "      <th>WFC Return</th>\n",
       "    </tr>\n",
       "    <tr>\n",
       "      <th>Date</th>\n",
       "      <th></th>\n",
       "      <th></th>\n",
       "      <th></th>\n",
       "      <th></th>\n",
       "      <th></th>\n",
       "      <th></th>\n",
       "    </tr>\n",
       "  </thead>\n",
       "  <tbody>\n",
       "    <tr>\n",
       "      <th>2020-06-22</th>\n",
       "      <td>NaN</td>\n",
       "      <td>NaN</td>\n",
       "      <td>NaN</td>\n",
       "      <td>NaN</td>\n",
       "      <td>NaN</td>\n",
       "      <td>NaN</td>\n",
       "    </tr>\n",
       "    <tr>\n",
       "      <th>2020-06-19</th>\n",
       "      <td>0.025589</td>\n",
       "      <td>0.016519</td>\n",
       "      <td>-0.008800</td>\n",
       "      <td>0.010956</td>\n",
       "      <td>-0.009498</td>\n",
       "      <td>0.009141</td>\n",
       "    </tr>\n",
       "    <tr>\n",
       "      <th>2020-06-18</th>\n",
       "      <td>-0.008317</td>\n",
       "      <td>0.002268</td>\n",
       "      <td>0.010961</td>\n",
       "      <td>0.011553</td>\n",
       "      <td>0.013850</td>\n",
       "      <td>-0.001812</td>\n",
       "    </tr>\n",
       "    <tr>\n",
       "      <th>2020-06-17</th>\n",
       "      <td>-0.001597</td>\n",
       "      <td>-0.000754</td>\n",
       "      <td>0.011529</td>\n",
       "      <td>0.005458</td>\n",
       "      <td>0.003783</td>\n",
       "      <td>-0.003630</td>\n",
       "    </tr>\n",
       "    <tr>\n",
       "      <th>2020-06-16</th>\n",
       "      <td>0.032000</td>\n",
       "      <td>0.027358</td>\n",
       "      <td>0.016490</td>\n",
       "      <td>0.025935</td>\n",
       "      <td>0.016750</td>\n",
       "      <td>0.038980</td>\n",
       "    </tr>\n",
       "    <tr>\n",
       "      <th>...</th>\n",
       "      <td>...</td>\n",
       "      <td>...</td>\n",
       "      <td>...</td>\n",
       "      <td>...</td>\n",
       "      <td>...</td>\n",
       "      <td>...</td>\n",
       "    </tr>\n",
       "    <tr>\n",
       "      <th>2015-07-01</th>\n",
       "      <td>0.011065</td>\n",
       "      <td>0.005567</td>\n",
       "      <td>0.003473</td>\n",
       "      <td>0.008189</td>\n",
       "      <td>0.009289</td>\n",
       "      <td>0.002951</td>\n",
       "    </tr>\n",
       "    <tr>\n",
       "      <th>2015-06-30</th>\n",
       "      <td>-0.011516</td>\n",
       "      <td>-0.007920</td>\n",
       "      <td>-0.005424</td>\n",
       "      <td>-0.011047</td>\n",
       "      <td>-0.014463</td>\n",
       "      <td>-0.011686</td>\n",
       "    </tr>\n",
       "    <tr>\n",
       "      <th>2015-06-29</th>\n",
       "      <td>-0.007660</td>\n",
       "      <td>-0.006494</td>\n",
       "      <td>-0.005558</td>\n",
       "      <td>-0.008280</td>\n",
       "      <td>-0.012413</td>\n",
       "      <td>-0.003252</td>\n",
       "    </tr>\n",
       "    <tr>\n",
       "      <th>2015-06-26</th>\n",
       "      <td>0.030680</td>\n",
       "      <td>0.026623</td>\n",
       "      <td>0.026482</td>\n",
       "      <td>0.026020</td>\n",
       "      <td>0.031099</td>\n",
       "      <td>0.024593</td>\n",
       "    </tr>\n",
       "    <tr>\n",
       "      <th>2015-06-25</th>\n",
       "      <td>-0.002203</td>\n",
       "      <td>-0.002706</td>\n",
       "      <td>-0.001577</td>\n",
       "      <td>-0.004318</td>\n",
       "      <td>-0.007120</td>\n",
       "      <td>-0.004652</td>\n",
       "    </tr>\n",
       "  </tbody>\n",
       "</table>\n",
       "<p>1257 rows × 6 columns</p>\n",
       "</div>"
      ],
      "text/plain": [
       "            BAC Return  C Return  GS Return  JPM Return  MS Return  WFC Return\n",
       "Date                                                                          \n",
       "2020-06-22         NaN       NaN        NaN         NaN        NaN         NaN\n",
       "2020-06-19    0.025589  0.016519  -0.008800    0.010956  -0.009498    0.009141\n",
       "2020-06-18   -0.008317  0.002268   0.010961    0.011553   0.013850   -0.001812\n",
       "2020-06-17   -0.001597 -0.000754   0.011529    0.005458   0.003783   -0.003630\n",
       "2020-06-16    0.032000  0.027358   0.016490    0.025935   0.016750    0.038980\n",
       "...                ...       ...        ...         ...        ...         ...\n",
       "2015-07-01    0.011065  0.005567   0.003473    0.008189   0.009289    0.002951\n",
       "2015-06-30   -0.011516 -0.007920  -0.005424   -0.011047  -0.014463   -0.011686\n",
       "2015-06-29   -0.007660 -0.006494  -0.005558   -0.008280  -0.012413   -0.003252\n",
       "2015-06-26    0.030680  0.026623   0.026482    0.026020   0.031099    0.024593\n",
       "2015-06-25   -0.002203 -0.002706  -0.001577   -0.004318  -0.007120   -0.004652\n",
       "\n",
       "[1257 rows x 6 columns]"
      ]
     },
     "execution_count": 28,
     "metadata": {},
     "output_type": "execute_result"
    }
   ],
   "source": [
    "returns"
   ]
  },
  {
   "cell_type": "markdown",
   "metadata": {},
   "source": [
    "# Comparision of Returns of Stocks."
   ]
  },
  {
   "cell_type": "markdown",
   "metadata": {},
   "source": [
    "** Create a pairplot using seaborn of the returns dataframe. What stock stands out to you? Can you figure out why?**"
   ]
  },
  {
   "cell_type": "markdown",
   "metadata": {},
   "source": [
    "### Line Plot Comparision"
   ]
  },
  {
   "cell_type": "code",
   "execution_count": 29,
   "metadata": {},
   "outputs": [
    {
     "data": {
      "application/vnd.plotly.v1+json": {
       "config": {
        "linkText": "Export to plot.ly",
        "plotlyServerURL": "https://plot.ly",
        "showLink": true
       },
       "data": [
        {
         "line": {
          "color": "rgba(255, 153, 51, 1.0)",
          "dash": "solid",
          "shape": "linear",
          "width": 1.3
         },
         "mode": "lines",
         "name": "BAC Return",
         "text": "",
         "type": "scatter",
         "x": [
          "2020-06-19",
          "2020-06-18",
          "2020-06-17",
          "2020-06-16",
          "2020-06-15",
          "2020-06-12",
          "2020-06-11",
          "2020-06-10",
          "2020-06-09",
          "2020-06-08",
          "2020-06-05",
          "2020-06-04",
          "2020-06-03",
          "2020-06-02",
          "2020-06-01",
          "2020-05-29",
          "2020-05-28",
          "2020-05-27",
          "2020-05-26",
          "2020-05-22",
          "2020-05-21",
          "2020-05-20",
          "2020-05-19",
          "2020-05-18",
          "2020-05-15",
          "2020-05-14",
          "2020-05-13",
          "2020-05-12",
          "2020-05-11",
          "2020-05-08",
          "2020-05-07",
          "2020-05-06",
          "2020-05-05",
          "2020-05-04",
          "2020-05-01",
          "2020-04-30",
          "2020-04-29",
          "2020-04-28",
          "2020-04-27",
          "2020-04-24",
          "2020-04-23",
          "2020-04-22",
          "2020-04-21",
          "2020-04-20",
          "2020-04-17",
          "2020-04-16",
          "2020-04-15",
          "2020-04-14",
          "2020-04-13",
          "2020-04-09",
          "2020-04-08",
          "2020-04-07",
          "2020-04-06",
          "2020-04-03",
          "2020-04-02",
          "2020-04-01",
          "2020-03-31",
          "2020-03-30",
          "2020-03-27",
          "2020-03-26",
          "2020-03-25",
          "2020-03-24",
          "2020-03-23",
          "2020-03-20",
          "2020-03-19",
          "2020-03-18",
          "2020-03-17",
          "2020-03-16",
          "2020-03-13",
          "2020-03-12",
          "2020-03-11",
          "2020-03-10",
          "2020-03-09",
          "2020-03-06",
          "2020-03-05",
          "2020-03-04",
          "2020-03-03",
          "2020-03-02",
          "2020-02-28",
          "2020-02-27",
          "2020-02-26",
          "2020-02-25",
          "2020-02-24",
          "2020-02-21",
          "2020-02-20",
          "2020-02-19",
          "2020-02-18",
          "2020-02-14",
          "2020-02-13",
          "2020-02-12",
          "2020-02-11",
          "2020-02-10",
          "2020-02-07",
          "2020-02-06",
          "2020-02-05",
          "2020-02-04",
          "2020-02-03",
          "2020-01-31",
          "2020-01-30",
          "2020-01-29",
          "2020-01-28",
          "2020-01-27",
          "2020-01-24",
          "2020-01-23",
          "2020-01-22",
          "2020-01-21",
          "2020-01-17",
          "2020-01-16",
          "2020-01-15",
          "2020-01-14",
          "2020-01-13",
          "2020-01-10",
          "2020-01-09",
          "2020-01-08",
          "2020-01-07",
          "2020-01-06",
          "2020-01-03",
          "2020-01-02"
         ],
         "y": [
          0.02558895207148648,
          -0.008316831683168324,
          -0.0015974440894568342,
          0.03200000000000003,
          -0.025193798449612448,
          -0.0147117296222663,
          -0.034301856335754666,
          0.1115754283326369,
          0.06090225563909768,
          0.011339475549255962,
          -0.015066573230553604,
          -0.047314123087868976,
          -0.03622106049290519,
          -0.04424641611778368,
          -0.009242743635479278,
          -0.019926350245499158,
          0.03068509163779054,
          0.04504212572909916,
          -0.06542635658914742,
          -0.06673025879230254,
          0.01057636759543179,
          0.0004397344004221093,
          -0.030548107775482447,
          0.0324174827711281,
          -0.06495103421017978,
          0.012586887093744226,
          -0.038729128014842185,
          0.04796139927623644,
          0.03246005801372065,
          0.043836960399571856,
          -0.030973640363993638,
          -0.021470769773388465,
          0.013876999324172079,
          0.011909523174687742,
          0.006543410478239808,
          0.04201570680628275,
          0.03035632039526015,
          -0.03588263979193751,
          -0.017618545837724042,
          -0.054962028575106125,
          -0.013938073186234412,
          -0.0032229844836318966,
          -0.007344450090073562,
          0.03973941368078182,
          0.03468492660221978,
          -0.07989099874562056,
          0.0359157578036855,
          0.06943183880922144,
          0.007977594840023805,
          0.03931969352530107,
          -0.05670771224886595,
          -0.055865681896255626,
          -0.033883658525492355,
          -0.06360041427360885,
          0.026997134382384047,
          -0.03891717250832194,
          0.07385524372230434,
          0.03813499027652578,
          -0.019966189975784587,
          0.05188811188811204,
          -0.07131143908168247,
          -0.0033406509496993753,
          -0.14025090978739718,
          0.08794207741576177,
          0.07776185113136069,
          -0.019332161687170446,
          0.057250799186283174,
          -0.07009345794392541,
          0.1820376391762737,
          -0.15108573333889064,
          0.10531225451688941,
          0.04144272198285415,
          -0.07114219909579445,
          0.17237579208375386,
          0.04163402788657389,
          0.053393495017860504,
          -0.02255934320899511,
          0.058393894021838255,
          -0.029639086329445785,
          0.022117128329125713,
          0.05148721516785537,
          0.014689826302729525,
          0.053082917604095226,
          0.049818868625568946,
          0.014245266324544481,
          -0.0037221204454914725,
          -0.012959341525349388,
          0.01691456959517401,
          0.0017447439588238467,
          0.00029028418822041324,
          -0.00429495922690748,
          -0.0023316137681792526,
          -0.0022786363238000984,
          0.0016982402717184986,
          0.0011692145801058818,
          -0.03138594493591418,
          -0.01935133831685565,
          -0.004241716358271308,
          0.01981726139029516,
          -0.014044433682426471,
          0.0069380487505372734,
          -0.011707317073170742,
          0.020977295162882603,
          0.017313270485859622,
          0.007039116100864051,
          -0.002919837196956432,
          0.013133374744875415,
          0.000291962278473612,
          -0.0014593853069087004,
          0.018765894010698503,
          -0.007345135282472048,
          -0.009133739919646278,
          0.008342813803564608,
          -0.0017357595394451586,
          -0.009968991798765314,
          0.0066153440857066315,
          0.0014539532990198722,
          0.021196898864659364
         ]
        },
        {
         "line": {
          "color": "rgba(55, 128, 191, 1.0)",
          "dash": "solid",
          "shape": "linear",
          "width": 1.3
         },
         "mode": "lines",
         "name": "C Return",
         "text": "",
         "type": "scatter",
         "x": [
          "2020-06-19",
          "2020-06-18",
          "2020-06-17",
          "2020-06-16",
          "2020-06-15",
          "2020-06-12",
          "2020-06-11",
          "2020-06-10",
          "2020-06-09",
          "2020-06-08",
          "2020-06-05",
          "2020-06-04",
          "2020-06-03",
          "2020-06-02",
          "2020-06-01",
          "2020-05-29",
          "2020-05-28",
          "2020-05-27",
          "2020-05-26",
          "2020-05-22",
          "2020-05-21",
          "2020-05-20",
          "2020-05-19",
          "2020-05-18",
          "2020-05-15",
          "2020-05-14",
          "2020-05-13",
          "2020-05-12",
          "2020-05-11",
          "2020-05-08",
          "2020-05-07",
          "2020-05-06",
          "2020-05-05",
          "2020-05-04",
          "2020-05-01",
          "2020-04-30",
          "2020-04-29",
          "2020-04-28",
          "2020-04-27",
          "2020-04-24",
          "2020-04-23",
          "2020-04-22",
          "2020-04-21",
          "2020-04-20",
          "2020-04-17",
          "2020-04-16",
          "2020-04-15",
          "2020-04-14",
          "2020-04-13",
          "2020-04-09",
          "2020-04-08",
          "2020-04-07",
          "2020-04-06",
          "2020-04-03",
          "2020-04-02",
          "2020-04-01",
          "2020-03-31",
          "2020-03-30",
          "2020-03-27",
          "2020-03-26",
          "2020-03-25",
          "2020-03-24",
          "2020-03-23",
          "2020-03-20",
          "2020-03-19",
          "2020-03-18",
          "2020-03-17",
          "2020-03-16",
          "2020-03-13",
          "2020-03-12",
          "2020-03-11",
          "2020-03-10",
          "2020-03-09",
          "2020-03-06",
          "2020-03-05",
          "2020-03-04",
          "2020-03-03",
          "2020-03-02",
          "2020-02-28",
          "2020-02-27",
          "2020-02-26",
          "2020-02-25",
          "2020-02-24",
          "2020-02-21",
          "2020-02-20",
          "2020-02-19",
          "2020-02-18",
          "2020-02-14",
          "2020-02-13",
          "2020-02-12",
          "2020-02-11",
          "2020-02-10",
          "2020-02-07",
          "2020-02-06",
          "2020-02-05",
          "2020-02-04",
          "2020-02-03",
          "2020-01-31",
          "2020-01-30",
          "2020-01-29",
          "2020-01-28",
          "2020-01-27",
          "2020-01-24",
          "2020-01-23",
          "2020-01-22",
          "2020-01-21",
          "2020-01-17",
          "2020-01-16",
          "2020-01-15",
          "2020-01-14",
          "2020-01-13",
          "2020-01-10",
          "2020-01-09",
          "2020-01-08",
          "2020-01-07",
          "2020-01-06",
          "2020-01-03",
          "2020-01-02"
         ],
         "y": [
          0.0165194006915097,
          0.0022675736961450532,
          -0.0007541478129713397,
          0.027358490566037785,
          -0.026997245179063434,
          -0.013778784446961012,
          -0.07387559808612443,
          0.15437073775573462,
          0.06516290726817053,
          0.02924369747899158,
          -0.0388634879163946,
          -0.05453618756371048,
          -0.04150943396226403,
          -0.046869141357330335,
          -0.02734067663257278,
          -0.03114256825075845,
          0.02609058651638496,
          0.06305939788445891,
          -0.07826253348641399,
          -0.08449242266971146,
          0.020408163265306145,
          0.010444444444444478,
          -0.02287222344402906,
          0.0279090704478957,
          -0.08211079483249395,
          0.0033396946564885344,
          -0.03471231573941991,
          0.0431034482758621,
          0.040613931523022506,
          0.051055139550714834,
          -0.03626943005181349,
          -0.03785842293906805,
          0.02328288707799775,
          0.02662116040955609,
          0.00886524822695045,
          0.055579964850615005,
          0.03500520291363163,
          -0.06068527306362104,
          -0.013764610181101866,
          -0.07432007119446082,
          -0.014842779093488523,
          -0.005188746608273176,
          -0.01586276198679304,
          0.058711983079279495,
          0.0327225130890052,
          -0.10848731461098882,
          0.05776425400309271,
          0.05972647960386723,
          0.0277462563691786,
          0.015631088980298857,
          -0.06644355388813095,
          -0.06799862998059147,
          -0.003160447852610382,
          -0.08828155721588693,
          0.046420099202070464,
          -0.018342006285743784,
          0.09373851886841966,
          0.04652334564998295,
          -0.006350734805236402,
          0.05069220119981521,
          -0.09040999626677204,
          -0.028657653307580855,
          -0.1296199637113813,
          0.07544691301616302,
          0.04152947424322906,
          -0.08099632877829921,
          0.1048630954032237,
          0.023350993044919166,
          0.2391491032215325,
          -0.15242357041026444,
          0.1740643834976403,
          0.09429532204469049,
          -0.0757509637064514,
          0.19291756836513874,
          0.036067682564812964,
          0.06142654760199284,
          -0.03471701508653002,
          0.03904174499355251,
          -0.06109449760765551,
          0.015590661528171568,
          0.057877158044940646,
          0.01833570496857595,
          0.044642727180099095,
          0.05390982053282789,
          0.023282256038711147,
          -0.002170598723481132,
          -0.0060209763045449005,
          0.015606070474825762,
          0.002655105627028087,
          0.0041831904822822175,
          -0.0030319630049555624,
          -0.0077051840682860195,
          0.0026784794478209584,
          0.003557484845371661,
          -0.0015228881125147753,
          -0.02979928738048232,
          -0.017913523653513286,
          -0.009577487523708572,
          0.03372312539895961,
          -0.012271389531217092,
          0.009936417568969569,
          -0.006848864010536637,
          0.02227968967575089,
          0.017590971006032463,
          0.003760788363228462,
          -0.0024893314366998265,
          0.015278838808250317,
          -0.0014923501379481285,
          0.002964042149683932,
          0.00823972851471999,
          -0.015363596845308303,
          -0.01736925754938312,
          0.010474833442446041,
          -0.008994245207515461,
          -0.0075632298837313705,
          0.008770456864593879,
          0.003137084176291438,
          0.019210395312918793
         ]
        },
        {
         "line": {
          "color": "rgba(50, 171, 96, 1.0)",
          "dash": "solid",
          "shape": "linear",
          "width": 1.3
         },
         "mode": "lines",
         "name": "GS Return",
         "text": "",
         "type": "scatter",
         "x": [
          "2020-06-19",
          "2020-06-18",
          "2020-06-17",
          "2020-06-16",
          "2020-06-15",
          "2020-06-12",
          "2020-06-11",
          "2020-06-10",
          "2020-06-09",
          "2020-06-08",
          "2020-06-05",
          "2020-06-04",
          "2020-06-03",
          "2020-06-02",
          "2020-06-01",
          "2020-05-29",
          "2020-05-28",
          "2020-05-27",
          "2020-05-26",
          "2020-05-22",
          "2020-05-21",
          "2020-05-20",
          "2020-05-19",
          "2020-05-18",
          "2020-05-15",
          "2020-05-14",
          "2020-05-13",
          "2020-05-12",
          "2020-05-11",
          "2020-05-08",
          "2020-05-07",
          "2020-05-06",
          "2020-05-05",
          "2020-05-04",
          "2020-05-01",
          "2020-04-30",
          "2020-04-29",
          "2020-04-28",
          "2020-04-27",
          "2020-04-24",
          "2020-04-23",
          "2020-04-22",
          "2020-04-21",
          "2020-04-20",
          "2020-04-17",
          "2020-04-16",
          "2020-04-15",
          "2020-04-14",
          "2020-04-13",
          "2020-04-09",
          "2020-04-08",
          "2020-04-07",
          "2020-04-06",
          "2020-04-03",
          "2020-04-02",
          "2020-04-01",
          "2020-03-31",
          "2020-03-30",
          "2020-03-27",
          "2020-03-26",
          "2020-03-25",
          "2020-03-24",
          "2020-03-23",
          "2020-03-20",
          "2020-03-19",
          "2020-03-18",
          "2020-03-17",
          "2020-03-16",
          "2020-03-13",
          "2020-03-12",
          "2020-03-11",
          "2020-03-10",
          "2020-03-09",
          "2020-03-06",
          "2020-03-05",
          "2020-03-04",
          "2020-03-03",
          "2020-03-02",
          "2020-02-28",
          "2020-02-27",
          "2020-02-26",
          "2020-02-25",
          "2020-02-24",
          "2020-02-21",
          "2020-02-20",
          "2020-02-19",
          "2020-02-18",
          "2020-02-14",
          "2020-02-13",
          "2020-02-12",
          "2020-02-11",
          "2020-02-10",
          "2020-02-07",
          "2020-02-06",
          "2020-02-05",
          "2020-02-04",
          "2020-02-03",
          "2020-01-31",
          "2020-01-30",
          "2020-01-29",
          "2020-01-28",
          "2020-01-27",
          "2020-01-24",
          "2020-01-23",
          "2020-01-22",
          "2020-01-21",
          "2020-01-17",
          "2020-01-16",
          "2020-01-15",
          "2020-01-14",
          "2020-01-13",
          "2020-01-10",
          "2020-01-09",
          "2020-01-08",
          "2020-01-07",
          "2020-01-06",
          "2020-01-03",
          "2020-01-02"
         ],
         "y": [
          -0.008799528070002949,
          0.010960670535138606,
          0.01152864992150704,
          0.01648964547262244,
          -0.015649601603129892,
          -0.021957248800348994,
          -0.03791257805530779,
          0.09988152269098038,
          0.02144998126639175,
          0.01242549289316841,
          -0.013088175354377118,
          -0.014225403817914817,
          -0.0197840052136673,
          -0.03053616374602275,
          -0.020623101792887177,
          -0.017206022107737695,
          0.0177108249783704,
          0.041956293444016746,
          -0.06488769437511999,
          -0.08227263395606654,
          0.000950729824953811,
          0.007430997876857859,
          -0.01985469469247414,
          0.02274656255304719,
          -0.055048409405255794,
          0.015046838407494212,
          -0.01522754801868842,
          0.03151174368886567,
          0.033558571347453325,
          0.01219646192726076,
          -0.016554494138080855,
          -0.02963739720735148,
          0.00779206006142652,
          -0.012698233534623848,
          0.006059220304104329,
          0.03568181818181815,
          0.03604344963791961,
          -0.015885623510722757,
          -0.018563357546408366,
          -0.035635964912280715,
          -0.011028993746446836,
          0.005346056564727419,
          -0.012350620389959377,
          0.03792045388757037,
          0.017124051762605896,
          -0.03515217987386887,
          0.00835512106399916,
          -0.0016346316442139575,
          0.00536359530261965,
          0.028359633851856136,
          -0.039646133682830875,
          -0.06181053110428747,
          -0.04691193405660954,
          -0.07141494435612072,
          0.020408163265306145,
          -0.030939597315436385,
          0.06399335134012052,
          0.03254572674607825,
          -0.008006051818697513,
          0.04702592780884585,
          -0.0642753095411508,
          -0.009859246286566647,
          -0.12132328856862107,
          0.025497651532095933,
          0.08004362050163571,
          -0.0633414108777598,
          0.13316564858066826,
          -0.02524099441907668,
          0.14554326610279777,
          -0.1495427954790708,
          0.14077734740216363,
          0.07247394918627803,
          -0.0625545851528383,
          0.11593105857691866,
          0.030837464127315473,
          0.05001012350678269,
          -0.02540493636714236,
          0.029677993767621258,
          -0.04155257722054084,
          0.01829390537289477,
          0.049072205542156855,
          0.008492070939288832,
          0.03182135380321016,
          0.027097705036295716,
          0.009130816505706685,
          0.019749434487558615,
          -0.017361999829366037,
          0.0166268721510745,
          0.005337774361602099,
          0.0012742641124749987,
          -0.009205446909599901,
          0.0038105840041102734,
          0.0026871401151633556,
          0.01607963246554367,
          0.010257054341455296,
          -0.009655629687953304,
          -0.01213490668675199,
          -0.005252456794307081,
          0.026826775677056602,
          -0.01642199552127388,
          0.010245383253225437,
          -0.0183214390050499,
          0.015900008502678364,
          0.015107130900569032,
          0.005977655934369608,
          -0.005450372920252522,
          0.015286991635419689,
          0.0010551948051946702,
          -0.018041028135895476,
          0.0018166054250443597,
          -0.0018133113538018053,
          -0.012633665001445027,
          0.0020071085093036345,
          -0.019947418937528716,
          -0.009538002980625904,
          -0.006534542796956311,
          -0.010169198147907732,
          0.01184751245956095
         ]
        },
        {
         "line": {
          "color": "rgba(128, 0, 128, 1.0)",
          "dash": "solid",
          "shape": "linear",
          "width": 1.3
         },
         "mode": "lines",
         "name": "JPM Return",
         "text": "",
         "type": "scatter",
         "x": [
          "2020-06-19",
          "2020-06-18",
          "2020-06-17",
          "2020-06-16",
          "2020-06-15",
          "2020-06-12",
          "2020-06-11",
          "2020-06-10",
          "2020-06-09",
          "2020-06-08",
          "2020-06-05",
          "2020-06-04",
          "2020-06-03",
          "2020-06-02",
          "2020-06-01",
          "2020-05-29",
          "2020-05-28",
          "2020-05-27",
          "2020-05-26",
          "2020-05-22",
          "2020-05-21",
          "2020-05-20",
          "2020-05-19",
          "2020-05-18",
          "2020-05-15",
          "2020-05-14",
          "2020-05-13",
          "2020-05-12",
          "2020-05-11",
          "2020-05-08",
          "2020-05-07",
          "2020-05-06",
          "2020-05-05",
          "2020-05-04",
          "2020-05-01",
          "2020-04-30",
          "2020-04-29",
          "2020-04-28",
          "2020-04-27",
          "2020-04-24",
          "2020-04-23",
          "2020-04-22",
          "2020-04-21",
          "2020-04-20",
          "2020-04-17",
          "2020-04-16",
          "2020-04-15",
          "2020-04-14",
          "2020-04-13",
          "2020-04-09",
          "2020-04-08",
          "2020-04-07",
          "2020-04-06",
          "2020-04-03",
          "2020-04-02",
          "2020-04-01",
          "2020-03-31",
          "2020-03-30",
          "2020-03-27",
          "2020-03-26",
          "2020-03-25",
          "2020-03-24",
          "2020-03-23",
          "2020-03-20",
          "2020-03-19",
          "2020-03-18",
          "2020-03-17",
          "2020-03-16",
          "2020-03-13",
          "2020-03-12",
          "2020-03-11",
          "2020-03-10",
          "2020-03-09",
          "2020-03-06",
          "2020-03-05",
          "2020-03-04",
          "2020-03-03",
          "2020-03-02",
          "2020-02-28",
          "2020-02-27",
          "2020-02-26",
          "2020-02-25",
          "2020-02-24",
          "2020-02-21",
          "2020-02-20",
          "2020-02-19",
          "2020-02-18",
          "2020-02-14",
          "2020-02-13",
          "2020-02-12",
          "2020-02-11",
          "2020-02-10",
          "2020-02-07",
          "2020-02-06",
          "2020-02-05",
          "2020-02-04",
          "2020-02-03",
          "2020-01-31",
          "2020-01-30",
          "2020-01-29",
          "2020-01-28",
          "2020-01-27",
          "2020-01-24",
          "2020-01-23",
          "2020-01-22",
          "2020-01-21",
          "2020-01-17",
          "2020-01-16",
          "2020-01-15",
          "2020-01-14",
          "2020-01-13",
          "2020-01-10",
          "2020-01-09",
          "2020-01-08",
          "2020-01-07",
          "2020-01-06",
          "2020-01-03",
          "2020-01-02"
         ],
         "y": [
          0.010956072351421264,
          0.011553010939576724,
          0.00545785324439052,
          0.02593486127864897,
          -0.007936507936507908,
          -0.013629629629629547,
          -0.026634625012516344,
          0.091040016459212,
          0.042240241372807796,
          0.026325312104215737,
          -0.01956809167033935,
          -0.04306392160388395,
          -0.020387072529124417,
          -0.051213196509062864,
          -0.0033356919033661336,
          -0.013083164300202732,
          0.026204912136471137,
          0.015121169637492438,
          -0.054749926013613615,
          -0.06627008975161752,
          0.007823851570358809,
          0.012864589109459867,
          -0.02912515055293985,
          0.020074433291981553,
          -0.05030403537866224,
          0.018859138533178,
          -0.03987659963436918,
          0.035701535166012155,
          0.03378145467080307,
          0.030343447815938784,
          -0.016073354908306414,
          -0.010305887512334189,
          0.01916472803810798,
          0.0015217391304347405,
          0.012046885174734179,
          0.02691689008042908,
          0.021929824561403466,
          -0.026262006948702177,
          -0.0070311680134327315,
          -0.041323187486789426,
          -0.01455186859221691,
          -0.0005593466830741134,
          -0.003246026415939185,
          0.029870859067939293,
          0.037836659033911424,
          -0.08247530993906294,
          0.039619832818046596,
          0.05187796012776724,
          0.028167539267015762,
          0.046542417761482824,
          -0.08232775398987935,
          -0.038812301166489926,
          -0.013018534863195153,
          -0.060473954840151944,
          0.030458060678167698,
          -0.03600046184043404,
          0.06721602069659371,
          0.03853923505117618,
          -0.02534094101882467,
          0.07670218309624932,
          -0.06512135597409152,
          -0.035974313503034594,
          -0.10630591515179222,
          0.056560594244218,
          0.02156314662213643,
          -0.016535778164717962,
          0.11766052007178396,
          -0.05759946549420236,
          0.1759728304993653,
          -0.1526254375729289,
          0.08983980537960168,
          0.049350868141471826,
          -0.07205498695564916,
          0.15669503346705738,
          0.05450126203608496,
          0.05159574468085104,
          -0.024110605294216825,
          0.0389599170697994,
          -0.04448324602976628,
          0.045248868778280604,
          0.043456543456543484,
          -0.0030317536301260883,
          0.04673495518565951,
          0.027599388379204726,
          0.012424670783423908,
          0,
          -0.01344797178130519,
          0.013407821229050265,
          0.0030135979419330106,
          0.0008793785724754422,
          0,
          -0.0019036462146728717,
          -0.004107981220657253,
          0.0031673541543901784,
          -0.00014685366032751723,
          -0.01667033854740385,
          -0.014189693801344383,
          -0.007575757575757569,
          0.026641221374045898,
          -0.012194215183285118,
          0.0015054572826498358,
          -0.017888012025554456,
          0.008494681258131243,
          0.025497040522082237,
          0.0009619653692469754,
          0.0011828195460930058,
          0.009968249280070784,
          -0.006872349758736629,
          -0.0039016489988221714,
          0.015224299756115611,
          -0.011501783504404228,
          -0.008248030046395183,
          0.010098759931684853,
          -0.0036756597809306513,
          -0.0077473622076293935,
          0.01732599643069621,
          0.000804034792778241,
          0.013365468886941345
         ]
        },
        {
         "line": {
          "color": "rgba(219, 64, 82, 1.0)",
          "dash": "solid",
          "shape": "linear",
          "width": 1.3
         },
         "mode": "lines",
         "name": "MS Return",
         "text": "",
         "type": "scatter",
         "x": [
          "2020-06-19",
          "2020-06-18",
          "2020-06-17",
          "2020-06-16",
          "2020-06-15",
          "2020-06-12",
          "2020-06-11",
          "2020-06-10",
          "2020-06-09",
          "2020-06-08",
          "2020-06-05",
          "2020-06-04",
          "2020-06-03",
          "2020-06-02",
          "2020-06-01",
          "2020-05-29",
          "2020-05-28",
          "2020-05-27",
          "2020-05-26",
          "2020-05-22",
          "2020-05-21",
          "2020-05-20",
          "2020-05-19",
          "2020-05-18",
          "2020-05-15",
          "2020-05-14",
          "2020-05-13",
          "2020-05-12",
          "2020-05-11",
          "2020-05-08",
          "2020-05-07",
          "2020-05-06",
          "2020-05-05",
          "2020-05-04",
          "2020-05-01",
          "2020-04-30",
          "2020-04-29",
          "2020-04-28",
          "2020-04-27",
          "2020-04-24",
          "2020-04-23",
          "2020-04-22",
          "2020-04-21",
          "2020-04-20",
          "2020-04-17",
          "2020-04-16",
          "2020-04-15",
          "2020-04-14",
          "2020-04-13",
          "2020-04-09",
          "2020-04-08",
          "2020-04-07",
          "2020-04-06",
          "2020-04-03",
          "2020-04-02",
          "2020-04-01",
          "2020-03-31",
          "2020-03-30",
          "2020-03-27",
          "2020-03-26",
          "2020-03-25",
          "2020-03-24",
          "2020-03-23",
          "2020-03-20",
          "2020-03-19",
          "2020-03-18",
          "2020-03-17",
          "2020-03-16",
          "2020-03-13",
          "2020-03-12",
          "2020-03-11",
          "2020-03-10",
          "2020-03-09",
          "2020-03-06",
          "2020-03-05",
          "2020-03-04",
          "2020-03-03",
          "2020-03-02",
          "2020-02-28",
          "2020-02-27",
          "2020-02-26",
          "2020-02-25",
          "2020-02-24",
          "2020-02-21",
          "2020-02-20",
          "2020-02-19",
          "2020-02-18",
          "2020-02-14",
          "2020-02-13",
          "2020-02-12",
          "2020-02-11",
          "2020-02-10",
          "2020-02-07",
          "2020-02-06",
          "2020-02-05",
          "2020-02-04",
          "2020-02-03",
          "2020-01-31",
          "2020-01-30",
          "2020-01-29",
          "2020-01-28",
          "2020-01-27",
          "2020-01-24",
          "2020-01-23",
          "2020-01-22",
          "2020-01-21",
          "2020-01-17",
          "2020-01-16",
          "2020-01-15",
          "2020-01-14",
          "2020-01-13",
          "2020-01-10",
          "2020-01-09",
          "2020-01-08",
          "2020-01-07",
          "2020-01-06",
          "2020-01-03",
          "2020-01-02"
         ],
         "y": [
          -0.00949767834529347,
          0.013850415512465242,
          0.003783102143757766,
          0.01675041876046901,
          -0.023887973640856708,
          -0.02362869198312234,
          -0.03694900605012963,
          0.09243886021987868,
          0.03512014787430684,
          -0.004960317460317443,
          -0.01236291126620137,
          -0.016959418534221782,
          -0.036557814746354556,
          -0.028352163717757395,
          -0.01930671347082047,
          -0.01118568232662187,
          0.004524886877828038,
          0.055405405405405395,
          -0.06764831412718741,
          -0.08148317692835882,
          0.0042362322452029755,
          0.0188585607940448,
          -0.04213346322454958,
          0.024154589371980784,
          -0.07423038728897724,
          0.013944757307589262,
          -0.02168738428987038,
          0.03865909705325765,
          0.03669963560645484,
          0.0062766758724579486,
          -0.03168662674650691,
          -0.038907498067508484,
          0.01823056300268089,
          0.0028962611901002244,
          0.0081386190601207,
          0.026822916666666696,
          0.034491503931016965,
          -0.024760970826182893,
          -0.020437405731523417,
          -0.03408011907511477,
          -0.013177820877281587,
          0.009073042026761291,
          -0.022732123799359627,
          0.038140220596265095,
          0.019040105193951495,
          -0.018684353144597377,
          0.0010519395134780396,
          0.03801392355181932,
          -0.007010528447054076,
          0.03789983433159172,
          -0.041623692353027875,
          -0.061726497040510364,
          0.001884319187284822,
          -0.0853708398070161,
          0.0014602890776336253,
          -0.06725389834543505,
          0.07526161306789181,
          0.024715900661662182,
          -0.023830206161686407,
          0.05001038175184647,
          -0.04816520240684763,
          -0.02267466017688613,
          -0.16286061342241132,
          0.06689157325788075,
          0.04212709530447789,
          -0.005481239804241422,
          0.09884522012991259,
          -0.06332288401253905,
          0.18483457640084144,
          -0.16506604255777046,
          0.17756226439411038,
          0.07133085257743232,
          -0.05061933341846503,
          0.1157291582600275,
          0.017938517179023394,
          0.06219948364480454,
          -0.018552792953506425,
          0.04684979437893344,
          -0.03120998372219208,
          0.00844590810314294,
          0.040298573777047375,
          0.01672076535406175,
          0.034361807145407486,
          0.055150567547261886,
          0.025364201451032464,
          0.04763424109907821,
          -0.014027481681864518,
          0.005759866269350988,
          0.0016078622658211028,
          0.004473143104505528,
          -0.0071107918836416095,
          -0.007722356856078361,
          -0.005777607669455231,
          -0.0003666361136571705,
          -0.00036677058499912096,
          -0.017629792698587443,
          -0.026293674951913037,
          -0.006463243896358106,
          0.029862558875762613,
          -0.00910948248392729,
          0.006336895866830616,
          -0.01684210526315799,
          0.027091618231875447,
          0.01798179482883766,
          0.005942911478047819,
          0.0010543154220896689,
          0.028454694025785265,
          -0.018609742747673796,
          -0.062015364409981344,
          -0.0015152677612400023,
          -0.00149835756958705,
          -0.01079282017737937,
          -0.0028783694426075535,
          -0.009420713867759,
          -0.012601650028550626,
          0.001954254491794094,
          0.0035227385809533107,
          0.01642140335567821
         ]
        },
        {
         "line": {
          "color": "rgba(0, 128, 128, 1.0)",
          "dash": "solid",
          "shape": "linear",
          "width": 1.3
         },
         "mode": "lines",
         "name": "WFC Return",
         "text": "",
         "type": "scatter",
         "x": [
          "2020-06-19",
          "2020-06-18",
          "2020-06-17",
          "2020-06-16",
          "2020-06-15",
          "2020-06-12",
          "2020-06-11",
          "2020-06-10",
          "2020-06-09",
          "2020-06-08",
          "2020-06-05",
          "2020-06-04",
          "2020-06-03",
          "2020-06-02",
          "2020-06-01",
          "2020-05-29",
          "2020-05-28",
          "2020-05-27",
          "2020-05-26",
          "2020-05-22",
          "2020-05-21",
          "2020-05-20",
          "2020-05-19",
          "2020-05-18",
          "2020-05-15",
          "2020-05-14",
          "2020-05-13",
          "2020-05-12",
          "2020-05-11",
          "2020-05-08",
          "2020-05-07",
          "2020-05-06",
          "2020-05-05",
          "2020-05-04",
          "2020-05-01",
          "2020-04-30",
          "2020-04-29",
          "2020-04-28",
          "2020-04-27",
          "2020-04-24",
          "2020-04-23",
          "2020-04-22",
          "2020-04-21",
          "2020-04-20",
          "2020-04-17",
          "2020-04-16",
          "2020-04-15",
          "2020-04-14",
          "2020-04-13",
          "2020-04-09",
          "2020-04-08",
          "2020-04-07",
          "2020-04-06",
          "2020-04-03",
          "2020-04-02",
          "2020-04-01",
          "2020-03-31",
          "2020-03-30",
          "2020-03-27",
          "2020-03-26",
          "2020-03-25",
          "2020-03-24",
          "2020-03-23",
          "2020-03-20",
          "2020-03-19",
          "2020-03-18",
          "2020-03-17",
          "2020-03-16",
          "2020-03-13",
          "2020-03-12",
          "2020-03-11",
          "2020-03-10",
          "2020-03-09",
          "2020-03-06",
          "2020-03-05",
          "2020-03-04",
          "2020-03-03",
          "2020-03-02",
          "2020-02-28",
          "2020-02-27",
          "2020-02-26",
          "2020-02-25",
          "2020-02-24",
          "2020-02-21",
          "2020-02-20",
          "2020-02-19",
          "2020-02-18",
          "2020-02-14",
          "2020-02-13",
          "2020-02-12",
          "2020-02-11",
          "2020-02-10",
          "2020-02-07",
          "2020-02-06",
          "2020-02-05",
          "2020-02-04",
          "2020-02-03",
          "2020-01-31",
          "2020-01-30",
          "2020-01-29",
          "2020-01-28",
          "2020-01-27",
          "2020-01-24",
          "2020-01-23",
          "2020-01-22",
          "2020-01-21",
          "2020-01-17",
          "2020-01-16",
          "2020-01-15",
          "2020-01-14",
          "2020-01-13",
          "2020-01-10",
          "2020-01-09",
          "2020-01-08",
          "2020-01-07",
          "2020-01-06",
          "2020-01-03",
          "2020-01-02"
         ],
         "y": [
          0.009140767824497242,
          -0.0018115942028985588,
          -0.003629764065335772,
          0.03897996357012756,
          -0.010869565217391242,
          -0.008507621410847266,
          -0.04218805863425101,
          0.10899589399029486,
          0.09828340626051846,
          0.021146184492798037,
          -0.049519807923169235,
          -0.04578465424692146,
          -0.045996029119788284,
          -0.049601109954908074,
          -0.011313868613138656,
          -0.02288667404946476,
          0.028333962976955007,
          0.026818515797207843,
          -0.0604651162790697,
          -0.07958872810357953,
          0.011998345055854287,
          0.002452984464431651,
          -0.023246329526916854,
          0.060960334029227514,
          -0.0806768988587171,
          0.02996575342465757,
          -0.06359102244389014,
          0.06702174877940514,
          0.03078202995008339,
          0.02623083131557702,
          -0.007864726700747116,
          -0.005152596115735153,
          0.02772908366533855,
          0.03911459140952078,
          0.008804327550830049,
          0.0528826596649532,
          0.032735063749077975,
          -0.03768322960242154,
          -0.01593921187488956,
          -0.05243499497198678,
          -0.01447847180109163,
          0.010153065148834628,
          0.0015228812914032108,
          0.031285638257432025,
          0.025286593682037672,
          -0.052489663850440405,
          0.057636122177954885,
          0.061168113654301415,
          0.04141451705601962,
          0.05632385404492912,
          -0.08795599127201215,
          -0.04987026990598786,
          -0.004858672908465422,
          -0.08382038488952237,
          0.037731445464446844,
          -0.023877352125346696,
          0.08014285165700241,
          0.04251990898748592,
          0.012037921156731635,
          0.020487246015432836,
          -0.062473171537064554,
          -0.001725777480364843,
          -0.12690516511430994,
          0.04950094961005358,
          0.06757277067611267,
          -0.00602301006239403,
          0.053701015965166965,
          -0.10564738292011022,
          0.16567842291698764,
          -0.11947151114781163,
          0.18861129867206827,
          0.08505333585810759,
          -0.07411070067769987,
          0.14192818772971427,
          0.04880195868064163,
          0.06428852459016388,
          -0.02102227917981081,
          0.04267049316516891,
          -0.03334299097010962,
          0.03963833454054999,
          0.039328272150682464,
          0.022190887866669673,
          0.028154044458515104,
          0.028240883297409036,
          -0.007550802139037471,
          -0.005280513826324884,
          -0.0021234182700642368,
          0.026186650453815075,
          -0.002073635209479452,
          -0.0068699376616767616,
          0.004184636406336706,
          -0.004571161287579284,
          0.001452401802687131,
          0.0029432465288885545,
          -0.0037639553429027472,
          -0.02172984972677594,
          -0.002945668775910959,
          -0.003851624904256501,
          0.02067268613106621,
          -0.013344812742143719,
          0.00211605584642216,
          -0.00570346343905781,
          0.009983579638752182,
          0.013656760096247611,
          0.007035777677979471,
          0.007836058611169872,
          0.004909500832297464,
          0.0014258156504234343,
          -0.018886097152428727,
          0.02029536045072322,
          0.056976719864460845,
          0.007500049472621839,
          0.0043604651162789665,
          0.001701411976376077,
          -0.003026102575115708,
          0.008361727959895093,
          0.0060202357602003875,
          0.006196552323224358
         ]
        }
       ],
       "layout": {
        "legend": {
         "bgcolor": "#F5F6F9",
         "font": {
          "color": "#4D5663"
         }
        },
        "paper_bgcolor": "#F5F6F9",
        "plot_bgcolor": "#F5F6F9",
        "template": {
         "data": {
          "bar": [
           {
            "error_x": {
             "color": "#2a3f5f"
            },
            "error_y": {
             "color": "#2a3f5f"
            },
            "marker": {
             "line": {
              "color": "#E5ECF6",
              "width": 0.5
             }
            },
            "type": "bar"
           }
          ],
          "barpolar": [
           {
            "marker": {
             "line": {
              "color": "#E5ECF6",
              "width": 0.5
             }
            },
            "type": "barpolar"
           }
          ],
          "carpet": [
           {
            "aaxis": {
             "endlinecolor": "#2a3f5f",
             "gridcolor": "white",
             "linecolor": "white",
             "minorgridcolor": "white",
             "startlinecolor": "#2a3f5f"
            },
            "baxis": {
             "endlinecolor": "#2a3f5f",
             "gridcolor": "white",
             "linecolor": "white",
             "minorgridcolor": "white",
             "startlinecolor": "#2a3f5f"
            },
            "type": "carpet"
           }
          ],
          "choropleth": [
           {
            "colorbar": {
             "outlinewidth": 0,
             "ticks": ""
            },
            "type": "choropleth"
           }
          ],
          "contour": [
           {
            "colorbar": {
             "outlinewidth": 0,
             "ticks": ""
            },
            "colorscale": [
             [
              0,
              "#0d0887"
             ],
             [
              0.1111111111111111,
              "#46039f"
             ],
             [
              0.2222222222222222,
              "#7201a8"
             ],
             [
              0.3333333333333333,
              "#9c179e"
             ],
             [
              0.4444444444444444,
              "#bd3786"
             ],
             [
              0.5555555555555556,
              "#d8576b"
             ],
             [
              0.6666666666666666,
              "#ed7953"
             ],
             [
              0.7777777777777778,
              "#fb9f3a"
             ],
             [
              0.8888888888888888,
              "#fdca26"
             ],
             [
              1,
              "#f0f921"
             ]
            ],
            "type": "contour"
           }
          ],
          "contourcarpet": [
           {
            "colorbar": {
             "outlinewidth": 0,
             "ticks": ""
            },
            "type": "contourcarpet"
           }
          ],
          "heatmap": [
           {
            "colorbar": {
             "outlinewidth": 0,
             "ticks": ""
            },
            "colorscale": [
             [
              0,
              "#0d0887"
             ],
             [
              0.1111111111111111,
              "#46039f"
             ],
             [
              0.2222222222222222,
              "#7201a8"
             ],
             [
              0.3333333333333333,
              "#9c179e"
             ],
             [
              0.4444444444444444,
              "#bd3786"
             ],
             [
              0.5555555555555556,
              "#d8576b"
             ],
             [
              0.6666666666666666,
              "#ed7953"
             ],
             [
              0.7777777777777778,
              "#fb9f3a"
             ],
             [
              0.8888888888888888,
              "#fdca26"
             ],
             [
              1,
              "#f0f921"
             ]
            ],
            "type": "heatmap"
           }
          ],
          "heatmapgl": [
           {
            "colorbar": {
             "outlinewidth": 0,
             "ticks": ""
            },
            "colorscale": [
             [
              0,
              "#0d0887"
             ],
             [
              0.1111111111111111,
              "#46039f"
             ],
             [
              0.2222222222222222,
              "#7201a8"
             ],
             [
              0.3333333333333333,
              "#9c179e"
             ],
             [
              0.4444444444444444,
              "#bd3786"
             ],
             [
              0.5555555555555556,
              "#d8576b"
             ],
             [
              0.6666666666666666,
              "#ed7953"
             ],
             [
              0.7777777777777778,
              "#fb9f3a"
             ],
             [
              0.8888888888888888,
              "#fdca26"
             ],
             [
              1,
              "#f0f921"
             ]
            ],
            "type": "heatmapgl"
           }
          ],
          "histogram": [
           {
            "marker": {
             "colorbar": {
              "outlinewidth": 0,
              "ticks": ""
             }
            },
            "type": "histogram"
           }
          ],
          "histogram2d": [
           {
            "colorbar": {
             "outlinewidth": 0,
             "ticks": ""
            },
            "colorscale": [
             [
              0,
              "#0d0887"
             ],
             [
              0.1111111111111111,
              "#46039f"
             ],
             [
              0.2222222222222222,
              "#7201a8"
             ],
             [
              0.3333333333333333,
              "#9c179e"
             ],
             [
              0.4444444444444444,
              "#bd3786"
             ],
             [
              0.5555555555555556,
              "#d8576b"
             ],
             [
              0.6666666666666666,
              "#ed7953"
             ],
             [
              0.7777777777777778,
              "#fb9f3a"
             ],
             [
              0.8888888888888888,
              "#fdca26"
             ],
             [
              1,
              "#f0f921"
             ]
            ],
            "type": "histogram2d"
           }
          ],
          "histogram2dcontour": [
           {
            "colorbar": {
             "outlinewidth": 0,
             "ticks": ""
            },
            "colorscale": [
             [
              0,
              "#0d0887"
             ],
             [
              0.1111111111111111,
              "#46039f"
             ],
             [
              0.2222222222222222,
              "#7201a8"
             ],
             [
              0.3333333333333333,
              "#9c179e"
             ],
             [
              0.4444444444444444,
              "#bd3786"
             ],
             [
              0.5555555555555556,
              "#d8576b"
             ],
             [
              0.6666666666666666,
              "#ed7953"
             ],
             [
              0.7777777777777778,
              "#fb9f3a"
             ],
             [
              0.8888888888888888,
              "#fdca26"
             ],
             [
              1,
              "#f0f921"
             ]
            ],
            "type": "histogram2dcontour"
           }
          ],
          "mesh3d": [
           {
            "colorbar": {
             "outlinewidth": 0,
             "ticks": ""
            },
            "type": "mesh3d"
           }
          ],
          "parcoords": [
           {
            "line": {
             "colorbar": {
              "outlinewidth": 0,
              "ticks": ""
             }
            },
            "type": "parcoords"
           }
          ],
          "pie": [
           {
            "automargin": true,
            "type": "pie"
           }
          ],
          "scatter": [
           {
            "marker": {
             "colorbar": {
              "outlinewidth": 0,
              "ticks": ""
             }
            },
            "type": "scatter"
           }
          ],
          "scatter3d": [
           {
            "line": {
             "colorbar": {
              "outlinewidth": 0,
              "ticks": ""
             }
            },
            "marker": {
             "colorbar": {
              "outlinewidth": 0,
              "ticks": ""
             }
            },
            "type": "scatter3d"
           }
          ],
          "scattercarpet": [
           {
            "marker": {
             "colorbar": {
              "outlinewidth": 0,
              "ticks": ""
             }
            },
            "type": "scattercarpet"
           }
          ],
          "scattergeo": [
           {
            "marker": {
             "colorbar": {
              "outlinewidth": 0,
              "ticks": ""
             }
            },
            "type": "scattergeo"
           }
          ],
          "scattergl": [
           {
            "marker": {
             "colorbar": {
              "outlinewidth": 0,
              "ticks": ""
             }
            },
            "type": "scattergl"
           }
          ],
          "scattermapbox": [
           {
            "marker": {
             "colorbar": {
              "outlinewidth": 0,
              "ticks": ""
             }
            },
            "type": "scattermapbox"
           }
          ],
          "scatterpolar": [
           {
            "marker": {
             "colorbar": {
              "outlinewidth": 0,
              "ticks": ""
             }
            },
            "type": "scatterpolar"
           }
          ],
          "scatterpolargl": [
           {
            "marker": {
             "colorbar": {
              "outlinewidth": 0,
              "ticks": ""
             }
            },
            "type": "scatterpolargl"
           }
          ],
          "scatterternary": [
           {
            "marker": {
             "colorbar": {
              "outlinewidth": 0,
              "ticks": ""
             }
            },
            "type": "scatterternary"
           }
          ],
          "surface": [
           {
            "colorbar": {
             "outlinewidth": 0,
             "ticks": ""
            },
            "colorscale": [
             [
              0,
              "#0d0887"
             ],
             [
              0.1111111111111111,
              "#46039f"
             ],
             [
              0.2222222222222222,
              "#7201a8"
             ],
             [
              0.3333333333333333,
              "#9c179e"
             ],
             [
              0.4444444444444444,
              "#bd3786"
             ],
             [
              0.5555555555555556,
              "#d8576b"
             ],
             [
              0.6666666666666666,
              "#ed7953"
             ],
             [
              0.7777777777777778,
              "#fb9f3a"
             ],
             [
              0.8888888888888888,
              "#fdca26"
             ],
             [
              1,
              "#f0f921"
             ]
            ],
            "type": "surface"
           }
          ],
          "table": [
           {
            "cells": {
             "fill": {
              "color": "#EBF0F8"
             },
             "line": {
              "color": "white"
             }
            },
            "header": {
             "fill": {
              "color": "#C8D4E3"
             },
             "line": {
              "color": "white"
             }
            },
            "type": "table"
           }
          ]
         },
         "layout": {
          "annotationdefaults": {
           "arrowcolor": "#2a3f5f",
           "arrowhead": 0,
           "arrowwidth": 1
          },
          "coloraxis": {
           "colorbar": {
            "outlinewidth": 0,
            "ticks": ""
           }
          },
          "colorscale": {
           "diverging": [
            [
             0,
             "#8e0152"
            ],
            [
             0.1,
             "#c51b7d"
            ],
            [
             0.2,
             "#de77ae"
            ],
            [
             0.3,
             "#f1b6da"
            ],
            [
             0.4,
             "#fde0ef"
            ],
            [
             0.5,
             "#f7f7f7"
            ],
            [
             0.6,
             "#e6f5d0"
            ],
            [
             0.7,
             "#b8e186"
            ],
            [
             0.8,
             "#7fbc41"
            ],
            [
             0.9,
             "#4d9221"
            ],
            [
             1,
             "#276419"
            ]
           ],
           "sequential": [
            [
             0,
             "#0d0887"
            ],
            [
             0.1111111111111111,
             "#46039f"
            ],
            [
             0.2222222222222222,
             "#7201a8"
            ],
            [
             0.3333333333333333,
             "#9c179e"
            ],
            [
             0.4444444444444444,
             "#bd3786"
            ],
            [
             0.5555555555555556,
             "#d8576b"
            ],
            [
             0.6666666666666666,
             "#ed7953"
            ],
            [
             0.7777777777777778,
             "#fb9f3a"
            ],
            [
             0.8888888888888888,
             "#fdca26"
            ],
            [
             1,
             "#f0f921"
            ]
           ],
           "sequentialminus": [
            [
             0,
             "#0d0887"
            ],
            [
             0.1111111111111111,
             "#46039f"
            ],
            [
             0.2222222222222222,
             "#7201a8"
            ],
            [
             0.3333333333333333,
             "#9c179e"
            ],
            [
             0.4444444444444444,
             "#bd3786"
            ],
            [
             0.5555555555555556,
             "#d8576b"
            ],
            [
             0.6666666666666666,
             "#ed7953"
            ],
            [
             0.7777777777777778,
             "#fb9f3a"
            ],
            [
             0.8888888888888888,
             "#fdca26"
            ],
            [
             1,
             "#f0f921"
            ]
           ]
          },
          "colorway": [
           "#636efa",
           "#EF553B",
           "#00cc96",
           "#ab63fa",
           "#FFA15A",
           "#19d3f3",
           "#FF6692",
           "#B6E880",
           "#FF97FF",
           "#FECB52"
          ],
          "font": {
           "color": "#2a3f5f"
          },
          "geo": {
           "bgcolor": "white",
           "lakecolor": "white",
           "landcolor": "#E5ECF6",
           "showlakes": true,
           "showland": true,
           "subunitcolor": "white"
          },
          "hoverlabel": {
           "align": "left"
          },
          "hovermode": "closest",
          "mapbox": {
           "style": "light"
          },
          "paper_bgcolor": "white",
          "plot_bgcolor": "#E5ECF6",
          "polar": {
           "angularaxis": {
            "gridcolor": "white",
            "linecolor": "white",
            "ticks": ""
           },
           "bgcolor": "#E5ECF6",
           "radialaxis": {
            "gridcolor": "white",
            "linecolor": "white",
            "ticks": ""
           }
          },
          "scene": {
           "xaxis": {
            "backgroundcolor": "#E5ECF6",
            "gridcolor": "white",
            "gridwidth": 2,
            "linecolor": "white",
            "showbackground": true,
            "ticks": "",
            "zerolinecolor": "white"
           },
           "yaxis": {
            "backgroundcolor": "#E5ECF6",
            "gridcolor": "white",
            "gridwidth": 2,
            "linecolor": "white",
            "showbackground": true,
            "ticks": "",
            "zerolinecolor": "white"
           },
           "zaxis": {
            "backgroundcolor": "#E5ECF6",
            "gridcolor": "white",
            "gridwidth": 2,
            "linecolor": "white",
            "showbackground": true,
            "ticks": "",
            "zerolinecolor": "white"
           }
          },
          "shapedefaults": {
           "line": {
            "color": "#2a3f5f"
           }
          },
          "ternary": {
           "aaxis": {
            "gridcolor": "white",
            "linecolor": "white",
            "ticks": ""
           },
           "baxis": {
            "gridcolor": "white",
            "linecolor": "white",
            "ticks": ""
           },
           "bgcolor": "#E5ECF6",
           "caxis": {
            "gridcolor": "white",
            "linecolor": "white",
            "ticks": ""
           }
          },
          "title": {
           "x": 0.05
          },
          "xaxis": {
           "automargin": true,
           "gridcolor": "white",
           "linecolor": "white",
           "ticks": "",
           "title": {
            "standoff": 15
           },
           "zerolinecolor": "white",
           "zerolinewidth": 2
          },
          "yaxis": {
           "automargin": true,
           "gridcolor": "white",
           "linecolor": "white",
           "ticks": "",
           "title": {
            "standoff": 15
           },
           "zerolinecolor": "white",
           "zerolinewidth": 2
          }
         }
        },
        "title": {
         "font": {
          "color": "#4D5663"
         }
        },
        "xaxis": {
         "gridcolor": "#E1E5ED",
         "showgrid": true,
         "tickfont": {
          "color": "#4D5663"
         },
         "title": {
          "font": {
           "color": "#4D5663"
          },
          "text": ""
         },
         "zerolinecolor": "#E1E5ED"
        },
        "yaxis": {
         "gridcolor": "#E1E5ED",
         "showgrid": true,
         "tickfont": {
          "color": "#4D5663"
         },
         "title": {
          "font": {
           "color": "#4D5663"
          },
          "text": ""
         },
         "zerolinecolor": "#E1E5ED"
        }
       }
      },
      "text/html": [
       "<div>\n",
       "        \n",
       "        \n",
       "            <div id=\"049f0560-f594-4a30-8bb1-3188cadd7906\" class=\"plotly-graph-div\" style=\"height:525px; width:100%;\"></div>\n",
       "            <script type=\"text/javascript\">\n",
       "                require([\"plotly\"], function(Plotly) {\n",
       "                    window.PLOTLYENV=window.PLOTLYENV || {};\n",
       "                    window.PLOTLYENV.BASE_URL='https://plot.ly';\n",
       "                    \n",
       "                if (document.getElementById(\"049f0560-f594-4a30-8bb1-3188cadd7906\")) {\n",
       "                    Plotly.newPlot(\n",
       "                        '049f0560-f594-4a30-8bb1-3188cadd7906',\n",
       "                        [{\"line\": {\"color\": \"rgba(255, 153, 51, 1.0)\", \"dash\": \"solid\", \"shape\": \"linear\", \"width\": 1.3}, \"mode\": \"lines\", \"name\": \"BAC Return\", \"text\": \"\", \"type\": \"scatter\", \"x\": [\"2020-06-19\", \"2020-06-18\", \"2020-06-17\", \"2020-06-16\", \"2020-06-15\", \"2020-06-12\", \"2020-06-11\", \"2020-06-10\", \"2020-06-09\", \"2020-06-08\", \"2020-06-05\", \"2020-06-04\", \"2020-06-03\", \"2020-06-02\", \"2020-06-01\", \"2020-05-29\", \"2020-05-28\", \"2020-05-27\", \"2020-05-26\", \"2020-05-22\", \"2020-05-21\", \"2020-05-20\", \"2020-05-19\", \"2020-05-18\", \"2020-05-15\", \"2020-05-14\", \"2020-05-13\", \"2020-05-12\", \"2020-05-11\", \"2020-05-08\", \"2020-05-07\", \"2020-05-06\", \"2020-05-05\", \"2020-05-04\", \"2020-05-01\", \"2020-04-30\", \"2020-04-29\", \"2020-04-28\", \"2020-04-27\", \"2020-04-24\", \"2020-04-23\", \"2020-04-22\", \"2020-04-21\", \"2020-04-20\", \"2020-04-17\", \"2020-04-16\", \"2020-04-15\", \"2020-04-14\", \"2020-04-13\", \"2020-04-09\", \"2020-04-08\", \"2020-04-07\", \"2020-04-06\", \"2020-04-03\", \"2020-04-02\", \"2020-04-01\", \"2020-03-31\", \"2020-03-30\", \"2020-03-27\", \"2020-03-26\", \"2020-03-25\", \"2020-03-24\", \"2020-03-23\", \"2020-03-20\", \"2020-03-19\", \"2020-03-18\", \"2020-03-17\", \"2020-03-16\", \"2020-03-13\", \"2020-03-12\", \"2020-03-11\", \"2020-03-10\", \"2020-03-09\", \"2020-03-06\", \"2020-03-05\", \"2020-03-04\", \"2020-03-03\", \"2020-03-02\", \"2020-02-28\", \"2020-02-27\", \"2020-02-26\", \"2020-02-25\", \"2020-02-24\", \"2020-02-21\", \"2020-02-20\", \"2020-02-19\", \"2020-02-18\", \"2020-02-14\", \"2020-02-13\", \"2020-02-12\", \"2020-02-11\", \"2020-02-10\", \"2020-02-07\", \"2020-02-06\", \"2020-02-05\", \"2020-02-04\", \"2020-02-03\", \"2020-01-31\", \"2020-01-30\", \"2020-01-29\", \"2020-01-28\", \"2020-01-27\", \"2020-01-24\", \"2020-01-23\", \"2020-01-22\", \"2020-01-21\", \"2020-01-17\", \"2020-01-16\", \"2020-01-15\", \"2020-01-14\", \"2020-01-13\", \"2020-01-10\", \"2020-01-09\", \"2020-01-08\", \"2020-01-07\", \"2020-01-06\", \"2020-01-03\", \"2020-01-02\"], \"y\": [0.02558895207148648, -0.008316831683168324, -0.0015974440894568342, 0.03200000000000003, -0.025193798449612448, -0.0147117296222663, -0.034301856335754666, 0.1115754283326369, 0.06090225563909768, 0.011339475549255962, -0.015066573230553604, -0.047314123087868976, -0.03622106049290519, -0.04424641611778368, -0.009242743635479278, -0.019926350245499158, 0.03068509163779054, 0.04504212572909916, -0.06542635658914742, -0.06673025879230254, 0.01057636759543179, 0.0004397344004221093, -0.030548107775482447, 0.0324174827711281, -0.06495103421017978, 0.012586887093744226, -0.038729128014842185, 0.04796139927623644, 0.03246005801372065, 0.043836960399571856, -0.030973640363993638, -0.021470769773388465, 0.013876999324172079, 0.011909523174687742, 0.006543410478239808, 0.04201570680628275, 0.03035632039526015, -0.03588263979193751, -0.017618545837724042, -0.054962028575106125, -0.013938073186234412, -0.0032229844836318966, -0.007344450090073562, 0.03973941368078182, 0.03468492660221978, -0.07989099874562056, 0.0359157578036855, 0.06943183880922144, 0.007977594840023805, 0.03931969352530107, -0.05670771224886595, -0.055865681896255626, -0.033883658525492355, -0.06360041427360885, 0.026997134382384047, -0.03891717250832194, 0.07385524372230434, 0.03813499027652578, -0.019966189975784587, 0.05188811188811204, -0.07131143908168247, -0.0033406509496993753, -0.14025090978739718, 0.08794207741576177, 0.07776185113136069, -0.019332161687170446, 0.057250799186283174, -0.07009345794392541, 0.1820376391762737, -0.15108573333889064, 0.10531225451688941, 0.04144272198285415, -0.07114219909579445, 0.17237579208375386, 0.04163402788657389, 0.053393495017860504, -0.02255934320899511, 0.058393894021838255, -0.029639086329445785, 0.022117128329125713, 0.05148721516785537, 0.014689826302729525, 0.053082917604095226, 0.049818868625568946, 0.014245266324544481, -0.0037221204454914725, -0.012959341525349388, 0.01691456959517401, 0.0017447439588238467, 0.00029028418822041324, -0.00429495922690748, -0.0023316137681792526, -0.0022786363238000984, 0.0016982402717184986, 0.0011692145801058818, -0.03138594493591418, -0.01935133831685565, -0.004241716358271308, 0.01981726139029516, -0.014044433682426471, 0.0069380487505372734, -0.011707317073170742, 0.020977295162882603, 0.017313270485859622, 0.007039116100864051, -0.002919837196956432, 0.013133374744875415, 0.000291962278473612, -0.0014593853069087004, 0.018765894010698503, -0.007345135282472048, -0.009133739919646278, 0.008342813803564608, -0.0017357595394451586, -0.009968991798765314, 0.0066153440857066315, 0.0014539532990198722, 0.021196898864659364]}, {\"line\": {\"color\": \"rgba(55, 128, 191, 1.0)\", \"dash\": \"solid\", \"shape\": \"linear\", \"width\": 1.3}, \"mode\": \"lines\", \"name\": \"C Return\", \"text\": \"\", \"type\": \"scatter\", \"x\": [\"2020-06-19\", \"2020-06-18\", \"2020-06-17\", \"2020-06-16\", \"2020-06-15\", \"2020-06-12\", \"2020-06-11\", \"2020-06-10\", \"2020-06-09\", \"2020-06-08\", \"2020-06-05\", \"2020-06-04\", \"2020-06-03\", \"2020-06-02\", \"2020-06-01\", \"2020-05-29\", \"2020-05-28\", \"2020-05-27\", \"2020-05-26\", \"2020-05-22\", \"2020-05-21\", \"2020-05-20\", \"2020-05-19\", \"2020-05-18\", \"2020-05-15\", \"2020-05-14\", \"2020-05-13\", \"2020-05-12\", \"2020-05-11\", \"2020-05-08\", \"2020-05-07\", \"2020-05-06\", \"2020-05-05\", \"2020-05-04\", \"2020-05-01\", \"2020-04-30\", \"2020-04-29\", \"2020-04-28\", \"2020-04-27\", \"2020-04-24\", \"2020-04-23\", \"2020-04-22\", \"2020-04-21\", \"2020-04-20\", \"2020-04-17\", \"2020-04-16\", \"2020-04-15\", \"2020-04-14\", \"2020-04-13\", \"2020-04-09\", \"2020-04-08\", \"2020-04-07\", \"2020-04-06\", \"2020-04-03\", \"2020-04-02\", \"2020-04-01\", \"2020-03-31\", \"2020-03-30\", \"2020-03-27\", \"2020-03-26\", \"2020-03-25\", \"2020-03-24\", \"2020-03-23\", \"2020-03-20\", \"2020-03-19\", \"2020-03-18\", \"2020-03-17\", \"2020-03-16\", \"2020-03-13\", \"2020-03-12\", \"2020-03-11\", \"2020-03-10\", \"2020-03-09\", \"2020-03-06\", \"2020-03-05\", \"2020-03-04\", \"2020-03-03\", \"2020-03-02\", \"2020-02-28\", \"2020-02-27\", \"2020-02-26\", \"2020-02-25\", \"2020-02-24\", \"2020-02-21\", \"2020-02-20\", \"2020-02-19\", \"2020-02-18\", \"2020-02-14\", \"2020-02-13\", \"2020-02-12\", \"2020-02-11\", \"2020-02-10\", \"2020-02-07\", \"2020-02-06\", \"2020-02-05\", \"2020-02-04\", \"2020-02-03\", \"2020-01-31\", \"2020-01-30\", \"2020-01-29\", \"2020-01-28\", \"2020-01-27\", \"2020-01-24\", \"2020-01-23\", \"2020-01-22\", \"2020-01-21\", \"2020-01-17\", \"2020-01-16\", \"2020-01-15\", \"2020-01-14\", \"2020-01-13\", \"2020-01-10\", \"2020-01-09\", \"2020-01-08\", \"2020-01-07\", \"2020-01-06\", \"2020-01-03\", \"2020-01-02\"], \"y\": [0.0165194006915097, 0.0022675736961450532, -0.0007541478129713397, 0.027358490566037785, -0.026997245179063434, -0.013778784446961012, -0.07387559808612443, 0.15437073775573462, 0.06516290726817053, 0.02924369747899158, -0.0388634879163946, -0.05453618756371048, -0.04150943396226403, -0.046869141357330335, -0.02734067663257278, -0.03114256825075845, 0.02609058651638496, 0.06305939788445891, -0.07826253348641399, -0.08449242266971146, 0.020408163265306145, 0.010444444444444478, -0.02287222344402906, 0.0279090704478957, -0.08211079483249395, 0.0033396946564885344, -0.03471231573941991, 0.0431034482758621, 0.040613931523022506, 0.051055139550714834, -0.03626943005181349, -0.03785842293906805, 0.02328288707799775, 0.02662116040955609, 0.00886524822695045, 0.055579964850615005, 0.03500520291363163, -0.06068527306362104, -0.013764610181101866, -0.07432007119446082, -0.014842779093488523, -0.005188746608273176, -0.01586276198679304, 0.058711983079279495, 0.0327225130890052, -0.10848731461098882, 0.05776425400309271, 0.05972647960386723, 0.0277462563691786, 0.015631088980298857, -0.06644355388813095, -0.06799862998059147, -0.003160447852610382, -0.08828155721588693, 0.046420099202070464, -0.018342006285743784, 0.09373851886841966, 0.04652334564998295, -0.006350734805236402, 0.05069220119981521, -0.09040999626677204, -0.028657653307580855, -0.1296199637113813, 0.07544691301616302, 0.04152947424322906, -0.08099632877829921, 0.1048630954032237, 0.023350993044919166, 0.2391491032215325, -0.15242357041026444, 0.1740643834976403, 0.09429532204469049, -0.0757509637064514, 0.19291756836513874, 0.036067682564812964, 0.06142654760199284, -0.03471701508653002, 0.03904174499355251, -0.06109449760765551, 0.015590661528171568, 0.057877158044940646, 0.01833570496857595, 0.044642727180099095, 0.05390982053282789, 0.023282256038711147, -0.002170598723481132, -0.0060209763045449005, 0.015606070474825762, 0.002655105627028087, 0.0041831904822822175, -0.0030319630049555624, -0.0077051840682860195, 0.0026784794478209584, 0.003557484845371661, -0.0015228881125147753, -0.02979928738048232, -0.017913523653513286, -0.009577487523708572, 0.03372312539895961, -0.012271389531217092, 0.009936417568969569, -0.006848864010536637, 0.02227968967575089, 0.017590971006032463, 0.003760788363228462, -0.0024893314366998265, 0.015278838808250317, -0.0014923501379481285, 0.002964042149683932, 0.00823972851471999, -0.015363596845308303, -0.01736925754938312, 0.010474833442446041, -0.008994245207515461, -0.0075632298837313705, 0.008770456864593879, 0.003137084176291438, 0.019210395312918793]}, {\"line\": {\"color\": \"rgba(50, 171, 96, 1.0)\", \"dash\": \"solid\", \"shape\": \"linear\", \"width\": 1.3}, \"mode\": \"lines\", \"name\": \"GS Return\", \"text\": \"\", \"type\": \"scatter\", \"x\": [\"2020-06-19\", \"2020-06-18\", \"2020-06-17\", \"2020-06-16\", \"2020-06-15\", \"2020-06-12\", \"2020-06-11\", \"2020-06-10\", \"2020-06-09\", \"2020-06-08\", \"2020-06-05\", \"2020-06-04\", \"2020-06-03\", \"2020-06-02\", \"2020-06-01\", \"2020-05-29\", \"2020-05-28\", \"2020-05-27\", \"2020-05-26\", \"2020-05-22\", \"2020-05-21\", \"2020-05-20\", \"2020-05-19\", \"2020-05-18\", \"2020-05-15\", \"2020-05-14\", \"2020-05-13\", \"2020-05-12\", \"2020-05-11\", \"2020-05-08\", \"2020-05-07\", \"2020-05-06\", \"2020-05-05\", \"2020-05-04\", \"2020-05-01\", \"2020-04-30\", \"2020-04-29\", \"2020-04-28\", \"2020-04-27\", \"2020-04-24\", \"2020-04-23\", \"2020-04-22\", \"2020-04-21\", \"2020-04-20\", \"2020-04-17\", \"2020-04-16\", \"2020-04-15\", \"2020-04-14\", \"2020-04-13\", \"2020-04-09\", \"2020-04-08\", \"2020-04-07\", \"2020-04-06\", \"2020-04-03\", \"2020-04-02\", \"2020-04-01\", \"2020-03-31\", \"2020-03-30\", \"2020-03-27\", \"2020-03-26\", \"2020-03-25\", \"2020-03-24\", \"2020-03-23\", \"2020-03-20\", \"2020-03-19\", \"2020-03-18\", \"2020-03-17\", \"2020-03-16\", \"2020-03-13\", \"2020-03-12\", \"2020-03-11\", \"2020-03-10\", \"2020-03-09\", \"2020-03-06\", \"2020-03-05\", \"2020-03-04\", \"2020-03-03\", \"2020-03-02\", \"2020-02-28\", \"2020-02-27\", \"2020-02-26\", \"2020-02-25\", \"2020-02-24\", \"2020-02-21\", \"2020-02-20\", \"2020-02-19\", \"2020-02-18\", \"2020-02-14\", \"2020-02-13\", \"2020-02-12\", \"2020-02-11\", \"2020-02-10\", \"2020-02-07\", \"2020-02-06\", \"2020-02-05\", \"2020-02-04\", \"2020-02-03\", \"2020-01-31\", \"2020-01-30\", \"2020-01-29\", \"2020-01-28\", \"2020-01-27\", \"2020-01-24\", \"2020-01-23\", \"2020-01-22\", \"2020-01-21\", \"2020-01-17\", \"2020-01-16\", \"2020-01-15\", \"2020-01-14\", \"2020-01-13\", \"2020-01-10\", \"2020-01-09\", \"2020-01-08\", \"2020-01-07\", \"2020-01-06\", \"2020-01-03\", \"2020-01-02\"], \"y\": [-0.008799528070002949, 0.010960670535138606, 0.01152864992150704, 0.01648964547262244, -0.015649601603129892, -0.021957248800348994, -0.03791257805530779, 0.09988152269098038, 0.02144998126639175, 0.01242549289316841, -0.013088175354377118, -0.014225403817914817, -0.0197840052136673, -0.03053616374602275, -0.020623101792887177, -0.017206022107737695, 0.0177108249783704, 0.041956293444016746, -0.06488769437511999, -0.08227263395606654, 0.000950729824953811, 0.007430997876857859, -0.01985469469247414, 0.02274656255304719, -0.055048409405255794, 0.015046838407494212, -0.01522754801868842, 0.03151174368886567, 0.033558571347453325, 0.01219646192726076, -0.016554494138080855, -0.02963739720735148, 0.00779206006142652, -0.012698233534623848, 0.006059220304104329, 0.03568181818181815, 0.03604344963791961, -0.015885623510722757, -0.018563357546408366, -0.035635964912280715, -0.011028993746446836, 0.005346056564727419, -0.012350620389959377, 0.03792045388757037, 0.017124051762605896, -0.03515217987386887, 0.00835512106399916, -0.0016346316442139575, 0.00536359530261965, 0.028359633851856136, -0.039646133682830875, -0.06181053110428747, -0.04691193405660954, -0.07141494435612072, 0.020408163265306145, -0.030939597315436385, 0.06399335134012052, 0.03254572674607825, -0.008006051818697513, 0.04702592780884585, -0.0642753095411508, -0.009859246286566647, -0.12132328856862107, 0.025497651532095933, 0.08004362050163571, -0.0633414108777598, 0.13316564858066826, -0.02524099441907668, 0.14554326610279777, -0.1495427954790708, 0.14077734740216363, 0.07247394918627803, -0.0625545851528383, 0.11593105857691866, 0.030837464127315473, 0.05001012350678269, -0.02540493636714236, 0.029677993767621258, -0.04155257722054084, 0.01829390537289477, 0.049072205542156855, 0.008492070939288832, 0.03182135380321016, 0.027097705036295716, 0.009130816505706685, 0.019749434487558615, -0.017361999829366037, 0.0166268721510745, 0.005337774361602099, 0.0012742641124749987, -0.009205446909599901, 0.0038105840041102734, 0.0026871401151633556, 0.01607963246554367, 0.010257054341455296, -0.009655629687953304, -0.01213490668675199, -0.005252456794307081, 0.026826775677056602, -0.01642199552127388, 0.010245383253225437, -0.0183214390050499, 0.015900008502678364, 0.015107130900569032, 0.005977655934369608, -0.005450372920252522, 0.015286991635419689, 0.0010551948051946702, -0.018041028135895476, 0.0018166054250443597, -0.0018133113538018053, -0.012633665001445027, 0.0020071085093036345, -0.019947418937528716, -0.009538002980625904, -0.006534542796956311, -0.010169198147907732, 0.01184751245956095]}, {\"line\": {\"color\": \"rgba(128, 0, 128, 1.0)\", \"dash\": \"solid\", \"shape\": \"linear\", \"width\": 1.3}, \"mode\": \"lines\", \"name\": \"JPM Return\", \"text\": \"\", \"type\": \"scatter\", \"x\": [\"2020-06-19\", \"2020-06-18\", \"2020-06-17\", \"2020-06-16\", \"2020-06-15\", \"2020-06-12\", \"2020-06-11\", \"2020-06-10\", \"2020-06-09\", \"2020-06-08\", \"2020-06-05\", \"2020-06-04\", \"2020-06-03\", \"2020-06-02\", \"2020-06-01\", \"2020-05-29\", \"2020-05-28\", \"2020-05-27\", \"2020-05-26\", \"2020-05-22\", \"2020-05-21\", \"2020-05-20\", \"2020-05-19\", \"2020-05-18\", \"2020-05-15\", \"2020-05-14\", \"2020-05-13\", \"2020-05-12\", \"2020-05-11\", \"2020-05-08\", \"2020-05-07\", \"2020-05-06\", \"2020-05-05\", \"2020-05-04\", \"2020-05-01\", \"2020-04-30\", \"2020-04-29\", \"2020-04-28\", \"2020-04-27\", \"2020-04-24\", \"2020-04-23\", \"2020-04-22\", \"2020-04-21\", \"2020-04-20\", \"2020-04-17\", \"2020-04-16\", \"2020-04-15\", \"2020-04-14\", \"2020-04-13\", \"2020-04-09\", \"2020-04-08\", \"2020-04-07\", \"2020-04-06\", \"2020-04-03\", \"2020-04-02\", \"2020-04-01\", \"2020-03-31\", \"2020-03-30\", \"2020-03-27\", \"2020-03-26\", \"2020-03-25\", \"2020-03-24\", \"2020-03-23\", \"2020-03-20\", \"2020-03-19\", \"2020-03-18\", \"2020-03-17\", \"2020-03-16\", \"2020-03-13\", \"2020-03-12\", \"2020-03-11\", \"2020-03-10\", \"2020-03-09\", \"2020-03-06\", \"2020-03-05\", \"2020-03-04\", \"2020-03-03\", \"2020-03-02\", \"2020-02-28\", \"2020-02-27\", \"2020-02-26\", \"2020-02-25\", \"2020-02-24\", \"2020-02-21\", \"2020-02-20\", \"2020-02-19\", \"2020-02-18\", \"2020-02-14\", \"2020-02-13\", \"2020-02-12\", \"2020-02-11\", \"2020-02-10\", \"2020-02-07\", \"2020-02-06\", \"2020-02-05\", \"2020-02-04\", \"2020-02-03\", \"2020-01-31\", \"2020-01-30\", \"2020-01-29\", \"2020-01-28\", \"2020-01-27\", \"2020-01-24\", \"2020-01-23\", \"2020-01-22\", \"2020-01-21\", \"2020-01-17\", \"2020-01-16\", \"2020-01-15\", \"2020-01-14\", \"2020-01-13\", \"2020-01-10\", \"2020-01-09\", \"2020-01-08\", \"2020-01-07\", \"2020-01-06\", \"2020-01-03\", \"2020-01-02\"], \"y\": [0.010956072351421264, 0.011553010939576724, 0.00545785324439052, 0.02593486127864897, -0.007936507936507908, -0.013629629629629547, -0.026634625012516344, 0.091040016459212, 0.042240241372807796, 0.026325312104215737, -0.01956809167033935, -0.04306392160388395, -0.020387072529124417, -0.051213196509062864, -0.0033356919033661336, -0.013083164300202732, 0.026204912136471137, 0.015121169637492438, -0.054749926013613615, -0.06627008975161752, 0.007823851570358809, 0.012864589109459867, -0.02912515055293985, 0.020074433291981553, -0.05030403537866224, 0.018859138533178, -0.03987659963436918, 0.035701535166012155, 0.03378145467080307, 0.030343447815938784, -0.016073354908306414, -0.010305887512334189, 0.01916472803810798, 0.0015217391304347405, 0.012046885174734179, 0.02691689008042908, 0.021929824561403466, -0.026262006948702177, -0.0070311680134327315, -0.041323187486789426, -0.01455186859221691, -0.0005593466830741134, -0.003246026415939185, 0.029870859067939293, 0.037836659033911424, -0.08247530993906294, 0.039619832818046596, 0.05187796012776724, 0.028167539267015762, 0.046542417761482824, -0.08232775398987935, -0.038812301166489926, -0.013018534863195153, -0.060473954840151944, 0.030458060678167698, -0.03600046184043404, 0.06721602069659371, 0.03853923505117618, -0.02534094101882467, 0.07670218309624932, -0.06512135597409152, -0.035974313503034594, -0.10630591515179222, 0.056560594244218, 0.02156314662213643, -0.016535778164717962, 0.11766052007178396, -0.05759946549420236, 0.1759728304993653, -0.1526254375729289, 0.08983980537960168, 0.049350868141471826, -0.07205498695564916, 0.15669503346705738, 0.05450126203608496, 0.05159574468085104, -0.024110605294216825, 0.0389599170697994, -0.04448324602976628, 0.045248868778280604, 0.043456543456543484, -0.0030317536301260883, 0.04673495518565951, 0.027599388379204726, 0.012424670783423908, 0.0, -0.01344797178130519, 0.013407821229050265, 0.0030135979419330106, 0.0008793785724754422, 0.0, -0.0019036462146728717, -0.004107981220657253, 0.0031673541543901784, -0.00014685366032751723, -0.01667033854740385, -0.014189693801344383, -0.007575757575757569, 0.026641221374045898, -0.012194215183285118, 0.0015054572826498358, -0.017888012025554456, 0.008494681258131243, 0.025497040522082237, 0.0009619653692469754, 0.0011828195460930058, 0.009968249280070784, -0.006872349758736629, -0.0039016489988221714, 0.015224299756115611, -0.011501783504404228, -0.008248030046395183, 0.010098759931684853, -0.0036756597809306513, -0.0077473622076293935, 0.01732599643069621, 0.000804034792778241, 0.013365468886941345]}, {\"line\": {\"color\": \"rgba(219, 64, 82, 1.0)\", \"dash\": \"solid\", \"shape\": \"linear\", \"width\": 1.3}, \"mode\": \"lines\", \"name\": \"MS Return\", \"text\": \"\", \"type\": \"scatter\", \"x\": [\"2020-06-19\", \"2020-06-18\", \"2020-06-17\", \"2020-06-16\", \"2020-06-15\", \"2020-06-12\", \"2020-06-11\", \"2020-06-10\", \"2020-06-09\", \"2020-06-08\", \"2020-06-05\", \"2020-06-04\", \"2020-06-03\", \"2020-06-02\", \"2020-06-01\", \"2020-05-29\", \"2020-05-28\", \"2020-05-27\", \"2020-05-26\", \"2020-05-22\", \"2020-05-21\", \"2020-05-20\", \"2020-05-19\", \"2020-05-18\", \"2020-05-15\", \"2020-05-14\", \"2020-05-13\", \"2020-05-12\", \"2020-05-11\", \"2020-05-08\", \"2020-05-07\", \"2020-05-06\", \"2020-05-05\", \"2020-05-04\", \"2020-05-01\", \"2020-04-30\", \"2020-04-29\", \"2020-04-28\", \"2020-04-27\", \"2020-04-24\", \"2020-04-23\", \"2020-04-22\", \"2020-04-21\", \"2020-04-20\", \"2020-04-17\", \"2020-04-16\", \"2020-04-15\", \"2020-04-14\", \"2020-04-13\", \"2020-04-09\", \"2020-04-08\", \"2020-04-07\", \"2020-04-06\", \"2020-04-03\", \"2020-04-02\", \"2020-04-01\", \"2020-03-31\", \"2020-03-30\", \"2020-03-27\", \"2020-03-26\", \"2020-03-25\", \"2020-03-24\", \"2020-03-23\", \"2020-03-20\", \"2020-03-19\", \"2020-03-18\", \"2020-03-17\", \"2020-03-16\", \"2020-03-13\", \"2020-03-12\", \"2020-03-11\", \"2020-03-10\", \"2020-03-09\", \"2020-03-06\", \"2020-03-05\", \"2020-03-04\", \"2020-03-03\", \"2020-03-02\", \"2020-02-28\", \"2020-02-27\", \"2020-02-26\", \"2020-02-25\", \"2020-02-24\", \"2020-02-21\", \"2020-02-20\", \"2020-02-19\", \"2020-02-18\", \"2020-02-14\", \"2020-02-13\", \"2020-02-12\", \"2020-02-11\", \"2020-02-10\", \"2020-02-07\", \"2020-02-06\", \"2020-02-05\", \"2020-02-04\", \"2020-02-03\", \"2020-01-31\", \"2020-01-30\", \"2020-01-29\", \"2020-01-28\", \"2020-01-27\", \"2020-01-24\", \"2020-01-23\", \"2020-01-22\", \"2020-01-21\", \"2020-01-17\", \"2020-01-16\", \"2020-01-15\", \"2020-01-14\", \"2020-01-13\", \"2020-01-10\", \"2020-01-09\", \"2020-01-08\", \"2020-01-07\", \"2020-01-06\", \"2020-01-03\", \"2020-01-02\"], \"y\": [-0.00949767834529347, 0.013850415512465242, 0.003783102143757766, 0.01675041876046901, -0.023887973640856708, -0.02362869198312234, -0.03694900605012963, 0.09243886021987868, 0.03512014787430684, -0.004960317460317443, -0.01236291126620137, -0.016959418534221782, -0.036557814746354556, -0.028352163717757395, -0.01930671347082047, -0.01118568232662187, 0.004524886877828038, 0.055405405405405395, -0.06764831412718741, -0.08148317692835882, 0.0042362322452029755, 0.0188585607940448, -0.04213346322454958, 0.024154589371980784, -0.07423038728897724, 0.013944757307589262, -0.02168738428987038, 0.03865909705325765, 0.03669963560645484, 0.0062766758724579486, -0.03168662674650691, -0.038907498067508484, 0.01823056300268089, 0.0028962611901002244, 0.0081386190601207, 0.026822916666666696, 0.034491503931016965, -0.024760970826182893, -0.020437405731523417, -0.03408011907511477, -0.013177820877281587, 0.009073042026761291, -0.022732123799359627, 0.038140220596265095, 0.019040105193951495, -0.018684353144597377, 0.0010519395134780396, 0.03801392355181932, -0.007010528447054076, 0.03789983433159172, -0.041623692353027875, -0.061726497040510364, 0.001884319187284822, -0.0853708398070161, 0.0014602890776336253, -0.06725389834543505, 0.07526161306789181, 0.024715900661662182, -0.023830206161686407, 0.05001038175184647, -0.04816520240684763, -0.02267466017688613, -0.16286061342241132, 0.06689157325788075, 0.04212709530447789, -0.005481239804241422, 0.09884522012991259, -0.06332288401253905, 0.18483457640084144, -0.16506604255777046, 0.17756226439411038, 0.07133085257743232, -0.05061933341846503, 0.1157291582600275, 0.017938517179023394, 0.06219948364480454, -0.018552792953506425, 0.04684979437893344, -0.03120998372219208, 0.00844590810314294, 0.040298573777047375, 0.01672076535406175, 0.034361807145407486, 0.055150567547261886, 0.025364201451032464, 0.04763424109907821, -0.014027481681864518, 0.005759866269350988, 0.0016078622658211028, 0.004473143104505528, -0.0071107918836416095, -0.007722356856078361, -0.005777607669455231, -0.0003666361136571705, -0.00036677058499912096, -0.017629792698587443, -0.026293674951913037, -0.006463243896358106, 0.029862558875762613, -0.00910948248392729, 0.006336895866830616, -0.01684210526315799, 0.027091618231875447, 0.01798179482883766, 0.005942911478047819, 0.0010543154220896689, 0.028454694025785265, -0.018609742747673796, -0.062015364409981344, -0.0015152677612400023, -0.00149835756958705, -0.01079282017737937, -0.0028783694426075535, -0.009420713867759, -0.012601650028550626, 0.001954254491794094, 0.0035227385809533107, 0.01642140335567821]}, {\"line\": {\"color\": \"rgba(0, 128, 128, 1.0)\", \"dash\": \"solid\", \"shape\": \"linear\", \"width\": 1.3}, \"mode\": \"lines\", \"name\": \"WFC Return\", \"text\": \"\", \"type\": \"scatter\", \"x\": [\"2020-06-19\", \"2020-06-18\", \"2020-06-17\", \"2020-06-16\", \"2020-06-15\", \"2020-06-12\", \"2020-06-11\", \"2020-06-10\", \"2020-06-09\", \"2020-06-08\", \"2020-06-05\", \"2020-06-04\", \"2020-06-03\", \"2020-06-02\", \"2020-06-01\", \"2020-05-29\", \"2020-05-28\", \"2020-05-27\", \"2020-05-26\", \"2020-05-22\", \"2020-05-21\", \"2020-05-20\", \"2020-05-19\", \"2020-05-18\", \"2020-05-15\", \"2020-05-14\", \"2020-05-13\", \"2020-05-12\", \"2020-05-11\", \"2020-05-08\", \"2020-05-07\", \"2020-05-06\", \"2020-05-05\", \"2020-05-04\", \"2020-05-01\", \"2020-04-30\", \"2020-04-29\", \"2020-04-28\", \"2020-04-27\", \"2020-04-24\", \"2020-04-23\", \"2020-04-22\", \"2020-04-21\", \"2020-04-20\", \"2020-04-17\", \"2020-04-16\", \"2020-04-15\", \"2020-04-14\", \"2020-04-13\", \"2020-04-09\", \"2020-04-08\", \"2020-04-07\", \"2020-04-06\", \"2020-04-03\", \"2020-04-02\", \"2020-04-01\", \"2020-03-31\", \"2020-03-30\", \"2020-03-27\", \"2020-03-26\", \"2020-03-25\", \"2020-03-24\", \"2020-03-23\", \"2020-03-20\", \"2020-03-19\", \"2020-03-18\", \"2020-03-17\", \"2020-03-16\", \"2020-03-13\", \"2020-03-12\", \"2020-03-11\", \"2020-03-10\", \"2020-03-09\", \"2020-03-06\", \"2020-03-05\", \"2020-03-04\", \"2020-03-03\", \"2020-03-02\", \"2020-02-28\", \"2020-02-27\", \"2020-02-26\", \"2020-02-25\", \"2020-02-24\", \"2020-02-21\", \"2020-02-20\", \"2020-02-19\", \"2020-02-18\", \"2020-02-14\", \"2020-02-13\", \"2020-02-12\", \"2020-02-11\", \"2020-02-10\", \"2020-02-07\", \"2020-02-06\", \"2020-02-05\", \"2020-02-04\", \"2020-02-03\", \"2020-01-31\", \"2020-01-30\", \"2020-01-29\", \"2020-01-28\", \"2020-01-27\", \"2020-01-24\", \"2020-01-23\", \"2020-01-22\", \"2020-01-21\", \"2020-01-17\", \"2020-01-16\", \"2020-01-15\", \"2020-01-14\", \"2020-01-13\", \"2020-01-10\", \"2020-01-09\", \"2020-01-08\", \"2020-01-07\", \"2020-01-06\", \"2020-01-03\", \"2020-01-02\"], \"y\": [0.009140767824497242, -0.0018115942028985588, -0.003629764065335772, 0.03897996357012756, -0.010869565217391242, -0.008507621410847266, -0.04218805863425101, 0.10899589399029486, 0.09828340626051846, 0.021146184492798037, -0.049519807923169235, -0.04578465424692146, -0.045996029119788284, -0.049601109954908074, -0.011313868613138656, -0.02288667404946476, 0.028333962976955007, 0.026818515797207843, -0.0604651162790697, -0.07958872810357953, 0.011998345055854287, 0.002452984464431651, -0.023246329526916854, 0.060960334029227514, -0.0806768988587171, 0.02996575342465757, -0.06359102244389014, 0.06702174877940514, 0.03078202995008339, 0.02623083131557702, -0.007864726700747116, -0.005152596115735153, 0.02772908366533855, 0.03911459140952078, 0.008804327550830049, 0.0528826596649532, 0.032735063749077975, -0.03768322960242154, -0.01593921187488956, -0.05243499497198678, -0.01447847180109163, 0.010153065148834628, 0.0015228812914032108, 0.031285638257432025, 0.025286593682037672, -0.052489663850440405, 0.057636122177954885, 0.061168113654301415, 0.04141451705601962, 0.05632385404492912, -0.08795599127201215, -0.04987026990598786, -0.004858672908465422, -0.08382038488952237, 0.037731445464446844, -0.023877352125346696, 0.08014285165700241, 0.04251990898748592, 0.012037921156731635, 0.020487246015432836, -0.062473171537064554, -0.001725777480364843, -0.12690516511430994, 0.04950094961005358, 0.06757277067611267, -0.00602301006239403, 0.053701015965166965, -0.10564738292011022, 0.16567842291698764, -0.11947151114781163, 0.18861129867206827, 0.08505333585810759, -0.07411070067769987, 0.14192818772971427, 0.04880195868064163, 0.06428852459016388, -0.02102227917981081, 0.04267049316516891, -0.03334299097010962, 0.03963833454054999, 0.039328272150682464, 0.022190887866669673, 0.028154044458515104, 0.028240883297409036, -0.007550802139037471, -0.005280513826324884, -0.0021234182700642368, 0.026186650453815075, -0.002073635209479452, -0.0068699376616767616, 0.004184636406336706, -0.004571161287579284, 0.001452401802687131, 0.0029432465288885545, -0.0037639553429027472, -0.02172984972677594, -0.002945668775910959, -0.003851624904256501, 0.02067268613106621, -0.013344812742143719, 0.00211605584642216, -0.00570346343905781, 0.009983579638752182, 0.013656760096247611, 0.007035777677979471, 0.007836058611169872, 0.004909500832297464, 0.0014258156504234343, -0.018886097152428727, 0.02029536045072322, 0.056976719864460845, 0.007500049472621839, 0.0043604651162789665, 0.001701411976376077, -0.003026102575115708, 0.008361727959895093, 0.0060202357602003875, 0.006196552323224358]}],\n",
       "                        {\"legend\": {\"bgcolor\": \"#F5F6F9\", \"font\": {\"color\": \"#4D5663\"}}, \"paper_bgcolor\": \"#F5F6F9\", \"plot_bgcolor\": \"#F5F6F9\", \"template\": {\"data\": {\"bar\": [{\"error_x\": {\"color\": \"#2a3f5f\"}, \"error_y\": {\"color\": \"#2a3f5f\"}, \"marker\": {\"line\": {\"color\": \"#E5ECF6\", \"width\": 0.5}}, \"type\": \"bar\"}], \"barpolar\": [{\"marker\": {\"line\": {\"color\": \"#E5ECF6\", \"width\": 0.5}}, \"type\": \"barpolar\"}], \"carpet\": [{\"aaxis\": {\"endlinecolor\": \"#2a3f5f\", \"gridcolor\": \"white\", \"linecolor\": \"white\", \"minorgridcolor\": \"white\", \"startlinecolor\": \"#2a3f5f\"}, \"baxis\": {\"endlinecolor\": \"#2a3f5f\", \"gridcolor\": \"white\", \"linecolor\": \"white\", \"minorgridcolor\": \"white\", \"startlinecolor\": \"#2a3f5f\"}, \"type\": \"carpet\"}], \"choropleth\": [{\"colorbar\": {\"outlinewidth\": 0, \"ticks\": \"\"}, \"type\": \"choropleth\"}], \"contour\": [{\"colorbar\": {\"outlinewidth\": 0, \"ticks\": \"\"}, \"colorscale\": [[0.0, \"#0d0887\"], [0.1111111111111111, \"#46039f\"], [0.2222222222222222, \"#7201a8\"], [0.3333333333333333, \"#9c179e\"], [0.4444444444444444, \"#bd3786\"], [0.5555555555555556, \"#d8576b\"], [0.6666666666666666, \"#ed7953\"], [0.7777777777777778, \"#fb9f3a\"], [0.8888888888888888, \"#fdca26\"], [1.0, \"#f0f921\"]], \"type\": \"contour\"}], \"contourcarpet\": [{\"colorbar\": {\"outlinewidth\": 0, \"ticks\": \"\"}, \"type\": \"contourcarpet\"}], \"heatmap\": [{\"colorbar\": {\"outlinewidth\": 0, \"ticks\": \"\"}, \"colorscale\": [[0.0, \"#0d0887\"], [0.1111111111111111, \"#46039f\"], [0.2222222222222222, \"#7201a8\"], [0.3333333333333333, \"#9c179e\"], [0.4444444444444444, \"#bd3786\"], [0.5555555555555556, \"#d8576b\"], [0.6666666666666666, \"#ed7953\"], [0.7777777777777778, \"#fb9f3a\"], [0.8888888888888888, \"#fdca26\"], [1.0, \"#f0f921\"]], \"type\": \"heatmap\"}], \"heatmapgl\": [{\"colorbar\": {\"outlinewidth\": 0, \"ticks\": \"\"}, \"colorscale\": [[0.0, \"#0d0887\"], [0.1111111111111111, \"#46039f\"], [0.2222222222222222, \"#7201a8\"], [0.3333333333333333, \"#9c179e\"], [0.4444444444444444, \"#bd3786\"], [0.5555555555555556, \"#d8576b\"], [0.6666666666666666, \"#ed7953\"], [0.7777777777777778, \"#fb9f3a\"], [0.8888888888888888, \"#fdca26\"], [1.0, \"#f0f921\"]], \"type\": \"heatmapgl\"}], \"histogram\": [{\"marker\": {\"colorbar\": {\"outlinewidth\": 0, \"ticks\": \"\"}}, \"type\": \"histogram\"}], \"histogram2d\": [{\"colorbar\": {\"outlinewidth\": 0, \"ticks\": \"\"}, \"colorscale\": [[0.0, \"#0d0887\"], [0.1111111111111111, \"#46039f\"], [0.2222222222222222, \"#7201a8\"], [0.3333333333333333, \"#9c179e\"], [0.4444444444444444, \"#bd3786\"], [0.5555555555555556, \"#d8576b\"], [0.6666666666666666, \"#ed7953\"], [0.7777777777777778, \"#fb9f3a\"], [0.8888888888888888, \"#fdca26\"], [1.0, \"#f0f921\"]], \"type\": \"histogram2d\"}], \"histogram2dcontour\": [{\"colorbar\": {\"outlinewidth\": 0, \"ticks\": \"\"}, \"colorscale\": [[0.0, \"#0d0887\"], [0.1111111111111111, \"#46039f\"], [0.2222222222222222, \"#7201a8\"], [0.3333333333333333, \"#9c179e\"], [0.4444444444444444, \"#bd3786\"], [0.5555555555555556, \"#d8576b\"], [0.6666666666666666, \"#ed7953\"], [0.7777777777777778, \"#fb9f3a\"], [0.8888888888888888, \"#fdca26\"], [1.0, \"#f0f921\"]], \"type\": \"histogram2dcontour\"}], \"mesh3d\": [{\"colorbar\": {\"outlinewidth\": 0, \"ticks\": \"\"}, \"type\": \"mesh3d\"}], \"parcoords\": [{\"line\": {\"colorbar\": {\"outlinewidth\": 0, \"ticks\": \"\"}}, \"type\": \"parcoords\"}], \"pie\": [{\"automargin\": true, \"type\": \"pie\"}], \"scatter\": [{\"marker\": {\"colorbar\": {\"outlinewidth\": 0, \"ticks\": \"\"}}, \"type\": \"scatter\"}], \"scatter3d\": [{\"line\": {\"colorbar\": {\"outlinewidth\": 0, \"ticks\": \"\"}}, \"marker\": {\"colorbar\": {\"outlinewidth\": 0, \"ticks\": \"\"}}, \"type\": \"scatter3d\"}], \"scattercarpet\": [{\"marker\": {\"colorbar\": {\"outlinewidth\": 0, \"ticks\": \"\"}}, \"type\": \"scattercarpet\"}], \"scattergeo\": [{\"marker\": {\"colorbar\": {\"outlinewidth\": 0, \"ticks\": \"\"}}, \"type\": \"scattergeo\"}], \"scattergl\": [{\"marker\": {\"colorbar\": {\"outlinewidth\": 0, \"ticks\": \"\"}}, \"type\": \"scattergl\"}], \"scattermapbox\": [{\"marker\": {\"colorbar\": {\"outlinewidth\": 0, \"ticks\": \"\"}}, \"type\": \"scattermapbox\"}], \"scatterpolar\": [{\"marker\": {\"colorbar\": {\"outlinewidth\": 0, \"ticks\": \"\"}}, \"type\": \"scatterpolar\"}], \"scatterpolargl\": [{\"marker\": {\"colorbar\": {\"outlinewidth\": 0, \"ticks\": \"\"}}, \"type\": \"scatterpolargl\"}], \"scatterternary\": [{\"marker\": {\"colorbar\": {\"outlinewidth\": 0, \"ticks\": \"\"}}, \"type\": \"scatterternary\"}], \"surface\": [{\"colorbar\": {\"outlinewidth\": 0, \"ticks\": \"\"}, \"colorscale\": [[0.0, \"#0d0887\"], [0.1111111111111111, \"#46039f\"], [0.2222222222222222, \"#7201a8\"], [0.3333333333333333, \"#9c179e\"], [0.4444444444444444, \"#bd3786\"], [0.5555555555555556, \"#d8576b\"], [0.6666666666666666, \"#ed7953\"], [0.7777777777777778, \"#fb9f3a\"], [0.8888888888888888, \"#fdca26\"], [1.0, \"#f0f921\"]], \"type\": \"surface\"}], \"table\": [{\"cells\": {\"fill\": {\"color\": \"#EBF0F8\"}, \"line\": {\"color\": \"white\"}}, \"header\": {\"fill\": {\"color\": \"#C8D4E3\"}, \"line\": {\"color\": \"white\"}}, \"type\": \"table\"}]}, \"layout\": {\"annotationdefaults\": {\"arrowcolor\": \"#2a3f5f\", \"arrowhead\": 0, \"arrowwidth\": 1}, \"coloraxis\": {\"colorbar\": {\"outlinewidth\": 0, \"ticks\": \"\"}}, \"colorscale\": {\"diverging\": [[0, \"#8e0152\"], [0.1, \"#c51b7d\"], [0.2, \"#de77ae\"], [0.3, \"#f1b6da\"], [0.4, \"#fde0ef\"], [0.5, \"#f7f7f7\"], [0.6, \"#e6f5d0\"], [0.7, \"#b8e186\"], [0.8, \"#7fbc41\"], [0.9, \"#4d9221\"], [1, \"#276419\"]], \"sequential\": [[0.0, \"#0d0887\"], [0.1111111111111111, \"#46039f\"], [0.2222222222222222, \"#7201a8\"], [0.3333333333333333, \"#9c179e\"], [0.4444444444444444, \"#bd3786\"], [0.5555555555555556, \"#d8576b\"], [0.6666666666666666, \"#ed7953\"], [0.7777777777777778, \"#fb9f3a\"], [0.8888888888888888, \"#fdca26\"], [1.0, \"#f0f921\"]], \"sequentialminus\": [[0.0, \"#0d0887\"], [0.1111111111111111, \"#46039f\"], [0.2222222222222222, \"#7201a8\"], [0.3333333333333333, \"#9c179e\"], [0.4444444444444444, \"#bd3786\"], [0.5555555555555556, \"#d8576b\"], [0.6666666666666666, \"#ed7953\"], [0.7777777777777778, \"#fb9f3a\"], [0.8888888888888888, \"#fdca26\"], [1.0, \"#f0f921\"]]}, \"colorway\": [\"#636efa\", \"#EF553B\", \"#00cc96\", \"#ab63fa\", \"#FFA15A\", \"#19d3f3\", \"#FF6692\", \"#B6E880\", \"#FF97FF\", \"#FECB52\"], \"font\": {\"color\": \"#2a3f5f\"}, \"geo\": {\"bgcolor\": \"white\", \"lakecolor\": \"white\", \"landcolor\": \"#E5ECF6\", \"showlakes\": true, \"showland\": true, \"subunitcolor\": \"white\"}, \"hoverlabel\": {\"align\": \"left\"}, \"hovermode\": \"closest\", \"mapbox\": {\"style\": \"light\"}, \"paper_bgcolor\": \"white\", \"plot_bgcolor\": \"#E5ECF6\", \"polar\": {\"angularaxis\": {\"gridcolor\": \"white\", \"linecolor\": \"white\", \"ticks\": \"\"}, \"bgcolor\": \"#E5ECF6\", \"radialaxis\": {\"gridcolor\": \"white\", \"linecolor\": \"white\", \"ticks\": \"\"}}, \"scene\": {\"xaxis\": {\"backgroundcolor\": \"#E5ECF6\", \"gridcolor\": \"white\", \"gridwidth\": 2, \"linecolor\": \"white\", \"showbackground\": true, \"ticks\": \"\", \"zerolinecolor\": \"white\"}, \"yaxis\": {\"backgroundcolor\": \"#E5ECF6\", \"gridcolor\": \"white\", \"gridwidth\": 2, \"linecolor\": \"white\", \"showbackground\": true, \"ticks\": \"\", \"zerolinecolor\": \"white\"}, \"zaxis\": {\"backgroundcolor\": \"#E5ECF6\", \"gridcolor\": \"white\", \"gridwidth\": 2, \"linecolor\": \"white\", \"showbackground\": true, \"ticks\": \"\", \"zerolinecolor\": \"white\"}}, \"shapedefaults\": {\"line\": {\"color\": \"#2a3f5f\"}}, \"ternary\": {\"aaxis\": {\"gridcolor\": \"white\", \"linecolor\": \"white\", \"ticks\": \"\"}, \"baxis\": {\"gridcolor\": \"white\", \"linecolor\": \"white\", \"ticks\": \"\"}, \"bgcolor\": \"#E5ECF6\", \"caxis\": {\"gridcolor\": \"white\", \"linecolor\": \"white\", \"ticks\": \"\"}}, \"title\": {\"x\": 0.05}, \"xaxis\": {\"automargin\": true, \"gridcolor\": \"white\", \"linecolor\": \"white\", \"ticks\": \"\", \"title\": {\"standoff\": 15}, \"zerolinecolor\": \"white\", \"zerolinewidth\": 2}, \"yaxis\": {\"automargin\": true, \"gridcolor\": \"white\", \"linecolor\": \"white\", \"ticks\": \"\", \"title\": {\"standoff\": 15}, \"zerolinecolor\": \"white\", \"zerolinewidth\": 2}}}, \"title\": {\"font\": {\"color\": \"#4D5663\"}}, \"xaxis\": {\"gridcolor\": \"#E1E5ED\", \"showgrid\": true, \"tickfont\": {\"color\": \"#4D5663\"}, \"title\": {\"font\": {\"color\": \"#4D5663\"}, \"text\": \"\"}, \"zerolinecolor\": \"#E1E5ED\"}, \"yaxis\": {\"gridcolor\": \"#E1E5ED\", \"showgrid\": true, \"tickfont\": {\"color\": \"#4D5663\"}, \"title\": {\"font\": {\"color\": \"#4D5663\"}, \"text\": \"\"}, \"zerolinecolor\": \"#E1E5ED\"}},\n",
       "                        {\"showLink\": true, \"linkText\": \"Export to plot.ly\", \"plotlyServerURL\": \"https://plot.ly\", \"responsive\": true}\n",
       "                    ).then(function(){\n",
       "                            \n",
       "var gd = document.getElementById('049f0560-f594-4a30-8bb1-3188cadd7906');\n",
       "var x = new MutationObserver(function (mutations, observer) {{\n",
       "        var display = window.getComputedStyle(gd).display;\n",
       "        if (!display || display === 'none') {{\n",
       "            console.log([gd, 'removed!']);\n",
       "            Plotly.purge(gd);\n",
       "            observer.disconnect();\n",
       "        }}\n",
       "}});\n",
       "\n",
       "// Listen for the removal of the full notebook cells\n",
       "var notebookContainer = gd.closest('#notebook-container');\n",
       "if (notebookContainer) {{\n",
       "    x.observe(notebookContainer, {childList: true});\n",
       "}}\n",
       "\n",
       "// Listen for the clearing of the current output cell\n",
       "var outputEl = gd.closest('.output');\n",
       "if (outputEl) {{\n",
       "    x.observe(outputEl, {childList: true});\n",
       "}}\n",
       "\n",
       "                        })\n",
       "                };\n",
       "                });\n",
       "            </script>\n",
       "        </div>"
      ]
     },
     "metadata": {},
     "output_type": "display_data"
    }
   ],
   "source": [
    "returns.loc['2020-06-19':'2020-01-01'].iplot()"
   ]
  },
  {
   "cell_type": "markdown",
   "metadata": {},
   "source": [
    "### Bar plot"
   ]
  },
  {
   "cell_type": "code",
   "execution_count": 30,
   "metadata": {},
   "outputs": [
    {
     "data": {
      "application/vnd.plotly.v1+json": {
       "config": {
        "linkText": "Export to plot.ly",
        "plotlyServerURL": "https://plot.ly",
        "showLink": true
       },
       "data": [
        {
         "marker": {
          "color": "rgba(255, 153, 51, 0.6)",
          "line": {
           "color": "rgba(255, 153, 51, 1.0)",
           "width": 1
          }
         },
         "name": "None",
         "orientation": "v",
         "text": "",
         "type": "bar",
         "x": [
          "BAC Return",
          "C Return",
          "GS Return",
          "JPM Return",
          "MS Return",
          "WFC Return"
         ],
         "y": [
          0.4923429197917689,
          0.6200376826075351,
          0.2371028637639384,
          0.4775010606668745,
          0.2134742142709557,
          0.7907162385318827
         ]
        }
       ],
       "layout": {
        "legend": {
         "bgcolor": "#F5F6F9",
         "font": {
          "color": "#4D5663"
         }
        },
        "paper_bgcolor": "#F5F6F9",
        "plot_bgcolor": "#F5F6F9",
        "template": {
         "data": {
          "bar": [
           {
            "error_x": {
             "color": "#2a3f5f"
            },
            "error_y": {
             "color": "#2a3f5f"
            },
            "marker": {
             "line": {
              "color": "#E5ECF6",
              "width": 0.5
             }
            },
            "type": "bar"
           }
          ],
          "barpolar": [
           {
            "marker": {
             "line": {
              "color": "#E5ECF6",
              "width": 0.5
             }
            },
            "type": "barpolar"
           }
          ],
          "carpet": [
           {
            "aaxis": {
             "endlinecolor": "#2a3f5f",
             "gridcolor": "white",
             "linecolor": "white",
             "minorgridcolor": "white",
             "startlinecolor": "#2a3f5f"
            },
            "baxis": {
             "endlinecolor": "#2a3f5f",
             "gridcolor": "white",
             "linecolor": "white",
             "minorgridcolor": "white",
             "startlinecolor": "#2a3f5f"
            },
            "type": "carpet"
           }
          ],
          "choropleth": [
           {
            "colorbar": {
             "outlinewidth": 0,
             "ticks": ""
            },
            "type": "choropleth"
           }
          ],
          "contour": [
           {
            "colorbar": {
             "outlinewidth": 0,
             "ticks": ""
            },
            "colorscale": [
             [
              0,
              "#0d0887"
             ],
             [
              0.1111111111111111,
              "#46039f"
             ],
             [
              0.2222222222222222,
              "#7201a8"
             ],
             [
              0.3333333333333333,
              "#9c179e"
             ],
             [
              0.4444444444444444,
              "#bd3786"
             ],
             [
              0.5555555555555556,
              "#d8576b"
             ],
             [
              0.6666666666666666,
              "#ed7953"
             ],
             [
              0.7777777777777778,
              "#fb9f3a"
             ],
             [
              0.8888888888888888,
              "#fdca26"
             ],
             [
              1,
              "#f0f921"
             ]
            ],
            "type": "contour"
           }
          ],
          "contourcarpet": [
           {
            "colorbar": {
             "outlinewidth": 0,
             "ticks": ""
            },
            "type": "contourcarpet"
           }
          ],
          "heatmap": [
           {
            "colorbar": {
             "outlinewidth": 0,
             "ticks": ""
            },
            "colorscale": [
             [
              0,
              "#0d0887"
             ],
             [
              0.1111111111111111,
              "#46039f"
             ],
             [
              0.2222222222222222,
              "#7201a8"
             ],
             [
              0.3333333333333333,
              "#9c179e"
             ],
             [
              0.4444444444444444,
              "#bd3786"
             ],
             [
              0.5555555555555556,
              "#d8576b"
             ],
             [
              0.6666666666666666,
              "#ed7953"
             ],
             [
              0.7777777777777778,
              "#fb9f3a"
             ],
             [
              0.8888888888888888,
              "#fdca26"
             ],
             [
              1,
              "#f0f921"
             ]
            ],
            "type": "heatmap"
           }
          ],
          "heatmapgl": [
           {
            "colorbar": {
             "outlinewidth": 0,
             "ticks": ""
            },
            "colorscale": [
             [
              0,
              "#0d0887"
             ],
             [
              0.1111111111111111,
              "#46039f"
             ],
             [
              0.2222222222222222,
              "#7201a8"
             ],
             [
              0.3333333333333333,
              "#9c179e"
             ],
             [
              0.4444444444444444,
              "#bd3786"
             ],
             [
              0.5555555555555556,
              "#d8576b"
             ],
             [
              0.6666666666666666,
              "#ed7953"
             ],
             [
              0.7777777777777778,
              "#fb9f3a"
             ],
             [
              0.8888888888888888,
              "#fdca26"
             ],
             [
              1,
              "#f0f921"
             ]
            ],
            "type": "heatmapgl"
           }
          ],
          "histogram": [
           {
            "marker": {
             "colorbar": {
              "outlinewidth": 0,
              "ticks": ""
             }
            },
            "type": "histogram"
           }
          ],
          "histogram2d": [
           {
            "colorbar": {
             "outlinewidth": 0,
             "ticks": ""
            },
            "colorscale": [
             [
              0,
              "#0d0887"
             ],
             [
              0.1111111111111111,
              "#46039f"
             ],
             [
              0.2222222222222222,
              "#7201a8"
             ],
             [
              0.3333333333333333,
              "#9c179e"
             ],
             [
              0.4444444444444444,
              "#bd3786"
             ],
             [
              0.5555555555555556,
              "#d8576b"
             ],
             [
              0.6666666666666666,
              "#ed7953"
             ],
             [
              0.7777777777777778,
              "#fb9f3a"
             ],
             [
              0.8888888888888888,
              "#fdca26"
             ],
             [
              1,
              "#f0f921"
             ]
            ],
            "type": "histogram2d"
           }
          ],
          "histogram2dcontour": [
           {
            "colorbar": {
             "outlinewidth": 0,
             "ticks": ""
            },
            "colorscale": [
             [
              0,
              "#0d0887"
             ],
             [
              0.1111111111111111,
              "#46039f"
             ],
             [
              0.2222222222222222,
              "#7201a8"
             ],
             [
              0.3333333333333333,
              "#9c179e"
             ],
             [
              0.4444444444444444,
              "#bd3786"
             ],
             [
              0.5555555555555556,
              "#d8576b"
             ],
             [
              0.6666666666666666,
              "#ed7953"
             ],
             [
              0.7777777777777778,
              "#fb9f3a"
             ],
             [
              0.8888888888888888,
              "#fdca26"
             ],
             [
              1,
              "#f0f921"
             ]
            ],
            "type": "histogram2dcontour"
           }
          ],
          "mesh3d": [
           {
            "colorbar": {
             "outlinewidth": 0,
             "ticks": ""
            },
            "type": "mesh3d"
           }
          ],
          "parcoords": [
           {
            "line": {
             "colorbar": {
              "outlinewidth": 0,
              "ticks": ""
             }
            },
            "type": "parcoords"
           }
          ],
          "pie": [
           {
            "automargin": true,
            "type": "pie"
           }
          ],
          "scatter": [
           {
            "marker": {
             "colorbar": {
              "outlinewidth": 0,
              "ticks": ""
             }
            },
            "type": "scatter"
           }
          ],
          "scatter3d": [
           {
            "line": {
             "colorbar": {
              "outlinewidth": 0,
              "ticks": ""
             }
            },
            "marker": {
             "colorbar": {
              "outlinewidth": 0,
              "ticks": ""
             }
            },
            "type": "scatter3d"
           }
          ],
          "scattercarpet": [
           {
            "marker": {
             "colorbar": {
              "outlinewidth": 0,
              "ticks": ""
             }
            },
            "type": "scattercarpet"
           }
          ],
          "scattergeo": [
           {
            "marker": {
             "colorbar": {
              "outlinewidth": 0,
              "ticks": ""
             }
            },
            "type": "scattergeo"
           }
          ],
          "scattergl": [
           {
            "marker": {
             "colorbar": {
              "outlinewidth": 0,
              "ticks": ""
             }
            },
            "type": "scattergl"
           }
          ],
          "scattermapbox": [
           {
            "marker": {
             "colorbar": {
              "outlinewidth": 0,
              "ticks": ""
             }
            },
            "type": "scattermapbox"
           }
          ],
          "scatterpolar": [
           {
            "marker": {
             "colorbar": {
              "outlinewidth": 0,
              "ticks": ""
             }
            },
            "type": "scatterpolar"
           }
          ],
          "scatterpolargl": [
           {
            "marker": {
             "colorbar": {
              "outlinewidth": 0,
              "ticks": ""
             }
            },
            "type": "scatterpolargl"
           }
          ],
          "scatterternary": [
           {
            "marker": {
             "colorbar": {
              "outlinewidth": 0,
              "ticks": ""
             }
            },
            "type": "scatterternary"
           }
          ],
          "surface": [
           {
            "colorbar": {
             "outlinewidth": 0,
             "ticks": ""
            },
            "colorscale": [
             [
              0,
              "#0d0887"
             ],
             [
              0.1111111111111111,
              "#46039f"
             ],
             [
              0.2222222222222222,
              "#7201a8"
             ],
             [
              0.3333333333333333,
              "#9c179e"
             ],
             [
              0.4444444444444444,
              "#bd3786"
             ],
             [
              0.5555555555555556,
              "#d8576b"
             ],
             [
              0.6666666666666666,
              "#ed7953"
             ],
             [
              0.7777777777777778,
              "#fb9f3a"
             ],
             [
              0.8888888888888888,
              "#fdca26"
             ],
             [
              1,
              "#f0f921"
             ]
            ],
            "type": "surface"
           }
          ],
          "table": [
           {
            "cells": {
             "fill": {
              "color": "#EBF0F8"
             },
             "line": {
              "color": "white"
             }
            },
            "header": {
             "fill": {
              "color": "#C8D4E3"
             },
             "line": {
              "color": "white"
             }
            },
            "type": "table"
           }
          ]
         },
         "layout": {
          "annotationdefaults": {
           "arrowcolor": "#2a3f5f",
           "arrowhead": 0,
           "arrowwidth": 1
          },
          "coloraxis": {
           "colorbar": {
            "outlinewidth": 0,
            "ticks": ""
           }
          },
          "colorscale": {
           "diverging": [
            [
             0,
             "#8e0152"
            ],
            [
             0.1,
             "#c51b7d"
            ],
            [
             0.2,
             "#de77ae"
            ],
            [
             0.3,
             "#f1b6da"
            ],
            [
             0.4,
             "#fde0ef"
            ],
            [
             0.5,
             "#f7f7f7"
            ],
            [
             0.6,
             "#e6f5d0"
            ],
            [
             0.7,
             "#b8e186"
            ],
            [
             0.8,
             "#7fbc41"
            ],
            [
             0.9,
             "#4d9221"
            ],
            [
             1,
             "#276419"
            ]
           ],
           "sequential": [
            [
             0,
             "#0d0887"
            ],
            [
             0.1111111111111111,
             "#46039f"
            ],
            [
             0.2222222222222222,
             "#7201a8"
            ],
            [
             0.3333333333333333,
             "#9c179e"
            ],
            [
             0.4444444444444444,
             "#bd3786"
            ],
            [
             0.5555555555555556,
             "#d8576b"
            ],
            [
             0.6666666666666666,
             "#ed7953"
            ],
            [
             0.7777777777777778,
             "#fb9f3a"
            ],
            [
             0.8888888888888888,
             "#fdca26"
            ],
            [
             1,
             "#f0f921"
            ]
           ],
           "sequentialminus": [
            [
             0,
             "#0d0887"
            ],
            [
             0.1111111111111111,
             "#46039f"
            ],
            [
             0.2222222222222222,
             "#7201a8"
            ],
            [
             0.3333333333333333,
             "#9c179e"
            ],
            [
             0.4444444444444444,
             "#bd3786"
            ],
            [
             0.5555555555555556,
             "#d8576b"
            ],
            [
             0.6666666666666666,
             "#ed7953"
            ],
            [
             0.7777777777777778,
             "#fb9f3a"
            ],
            [
             0.8888888888888888,
             "#fdca26"
            ],
            [
             1,
             "#f0f921"
            ]
           ]
          },
          "colorway": [
           "#636efa",
           "#EF553B",
           "#00cc96",
           "#ab63fa",
           "#FFA15A",
           "#19d3f3",
           "#FF6692",
           "#B6E880",
           "#FF97FF",
           "#FECB52"
          ],
          "font": {
           "color": "#2a3f5f"
          },
          "geo": {
           "bgcolor": "white",
           "lakecolor": "white",
           "landcolor": "#E5ECF6",
           "showlakes": true,
           "showland": true,
           "subunitcolor": "white"
          },
          "hoverlabel": {
           "align": "left"
          },
          "hovermode": "closest",
          "mapbox": {
           "style": "light"
          },
          "paper_bgcolor": "white",
          "plot_bgcolor": "#E5ECF6",
          "polar": {
           "angularaxis": {
            "gridcolor": "white",
            "linecolor": "white",
            "ticks": ""
           },
           "bgcolor": "#E5ECF6",
           "radialaxis": {
            "gridcolor": "white",
            "linecolor": "white",
            "ticks": ""
           }
          },
          "scene": {
           "xaxis": {
            "backgroundcolor": "#E5ECF6",
            "gridcolor": "white",
            "gridwidth": 2,
            "linecolor": "white",
            "showbackground": true,
            "ticks": "",
            "zerolinecolor": "white"
           },
           "yaxis": {
            "backgroundcolor": "#E5ECF6",
            "gridcolor": "white",
            "gridwidth": 2,
            "linecolor": "white",
            "showbackground": true,
            "ticks": "",
            "zerolinecolor": "white"
           },
           "zaxis": {
            "backgroundcolor": "#E5ECF6",
            "gridcolor": "white",
            "gridwidth": 2,
            "linecolor": "white",
            "showbackground": true,
            "ticks": "",
            "zerolinecolor": "white"
           }
          },
          "shapedefaults": {
           "line": {
            "color": "#2a3f5f"
           }
          },
          "ternary": {
           "aaxis": {
            "gridcolor": "white",
            "linecolor": "white",
            "ticks": ""
           },
           "baxis": {
            "gridcolor": "white",
            "linecolor": "white",
            "ticks": ""
           },
           "bgcolor": "#E5ECF6",
           "caxis": {
            "gridcolor": "white",
            "linecolor": "white",
            "ticks": ""
           }
          },
          "title": {
           "x": 0.05
          },
          "xaxis": {
           "automargin": true,
           "gridcolor": "white",
           "linecolor": "white",
           "ticks": "",
           "title": {
            "standoff": 15
           },
           "zerolinecolor": "white",
           "zerolinewidth": 2
          },
          "yaxis": {
           "automargin": true,
           "gridcolor": "white",
           "linecolor": "white",
           "ticks": "",
           "title": {
            "standoff": 15
           },
           "zerolinecolor": "white",
           "zerolinewidth": 2
          }
         }
        },
        "title": {
         "font": {
          "color": "#4D5663"
         }
        },
        "xaxis": {
         "gridcolor": "#E1E5ED",
         "showgrid": true,
         "tickfont": {
          "color": "#4D5663"
         },
         "title": {
          "font": {
           "color": "#4D5663"
          },
          "text": ""
         },
         "zerolinecolor": "#E1E5ED"
        },
        "yaxis": {
         "gridcolor": "#E1E5ED",
         "showgrid": true,
         "tickfont": {
          "color": "#4D5663"
         },
         "title": {
          "font": {
           "color": "#4D5663"
          },
          "text": ""
         },
         "zerolinecolor": "#E1E5ED"
        }
       }
      },
      "text/html": [
       "<div>\n",
       "        \n",
       "        \n",
       "            <div id=\"f89018f8-1c39-4d58-bd17-529e35d236b2\" class=\"plotly-graph-div\" style=\"height:525px; width:100%;\"></div>\n",
       "            <script type=\"text/javascript\">\n",
       "                require([\"plotly\"], function(Plotly) {\n",
       "                    window.PLOTLYENV=window.PLOTLYENV || {};\n",
       "                    window.PLOTLYENV.BASE_URL='https://plot.ly';\n",
       "                    \n",
       "                if (document.getElementById(\"f89018f8-1c39-4d58-bd17-529e35d236b2\")) {\n",
       "                    Plotly.newPlot(\n",
       "                        'f89018f8-1c39-4d58-bd17-529e35d236b2',\n",
       "                        [{\"marker\": {\"color\": \"rgba(255, 153, 51, 0.6)\", \"line\": {\"color\": \"rgba(255, 153, 51, 1.0)\", \"width\": 1}}, \"name\": \"None\", \"orientation\": \"v\", \"text\": \"\", \"type\": \"bar\", \"x\": [\"BAC Return\", \"C Return\", \"GS Return\", \"JPM Return\", \"MS Return\", \"WFC Return\"], \"y\": [0.4923429197917689, 0.6200376826075351, 0.2371028637639384, 0.4775010606668745, 0.2134742142709557, 0.7907162385318827]}],\n",
       "                        {\"legend\": {\"bgcolor\": \"#F5F6F9\", \"font\": {\"color\": \"#4D5663\"}}, \"paper_bgcolor\": \"#F5F6F9\", \"plot_bgcolor\": \"#F5F6F9\", \"template\": {\"data\": {\"bar\": [{\"error_x\": {\"color\": \"#2a3f5f\"}, \"error_y\": {\"color\": \"#2a3f5f\"}, \"marker\": {\"line\": {\"color\": \"#E5ECF6\", \"width\": 0.5}}, \"type\": \"bar\"}], \"barpolar\": [{\"marker\": {\"line\": {\"color\": \"#E5ECF6\", \"width\": 0.5}}, \"type\": \"barpolar\"}], \"carpet\": [{\"aaxis\": {\"endlinecolor\": \"#2a3f5f\", \"gridcolor\": \"white\", \"linecolor\": \"white\", \"minorgridcolor\": \"white\", \"startlinecolor\": \"#2a3f5f\"}, \"baxis\": {\"endlinecolor\": \"#2a3f5f\", \"gridcolor\": \"white\", \"linecolor\": \"white\", \"minorgridcolor\": \"white\", \"startlinecolor\": \"#2a3f5f\"}, \"type\": \"carpet\"}], \"choropleth\": [{\"colorbar\": {\"outlinewidth\": 0, \"ticks\": \"\"}, \"type\": \"choropleth\"}], \"contour\": [{\"colorbar\": {\"outlinewidth\": 0, \"ticks\": \"\"}, \"colorscale\": [[0.0, \"#0d0887\"], [0.1111111111111111, \"#46039f\"], [0.2222222222222222, \"#7201a8\"], [0.3333333333333333, \"#9c179e\"], [0.4444444444444444, \"#bd3786\"], [0.5555555555555556, \"#d8576b\"], [0.6666666666666666, \"#ed7953\"], [0.7777777777777778, \"#fb9f3a\"], [0.8888888888888888, \"#fdca26\"], [1.0, \"#f0f921\"]], \"type\": \"contour\"}], \"contourcarpet\": [{\"colorbar\": {\"outlinewidth\": 0, \"ticks\": \"\"}, \"type\": \"contourcarpet\"}], \"heatmap\": [{\"colorbar\": {\"outlinewidth\": 0, \"ticks\": \"\"}, \"colorscale\": [[0.0, \"#0d0887\"], [0.1111111111111111, \"#46039f\"], [0.2222222222222222, \"#7201a8\"], [0.3333333333333333, \"#9c179e\"], [0.4444444444444444, \"#bd3786\"], [0.5555555555555556, \"#d8576b\"], [0.6666666666666666, \"#ed7953\"], [0.7777777777777778, \"#fb9f3a\"], [0.8888888888888888, \"#fdca26\"], [1.0, \"#f0f921\"]], \"type\": \"heatmap\"}], \"heatmapgl\": [{\"colorbar\": {\"outlinewidth\": 0, \"ticks\": \"\"}, \"colorscale\": [[0.0, \"#0d0887\"], [0.1111111111111111, \"#46039f\"], [0.2222222222222222, \"#7201a8\"], [0.3333333333333333, \"#9c179e\"], [0.4444444444444444, \"#bd3786\"], [0.5555555555555556, \"#d8576b\"], [0.6666666666666666, \"#ed7953\"], [0.7777777777777778, \"#fb9f3a\"], [0.8888888888888888, \"#fdca26\"], [1.0, \"#f0f921\"]], \"type\": \"heatmapgl\"}], \"histogram\": [{\"marker\": {\"colorbar\": {\"outlinewidth\": 0, \"ticks\": \"\"}}, \"type\": \"histogram\"}], \"histogram2d\": [{\"colorbar\": {\"outlinewidth\": 0, \"ticks\": \"\"}, \"colorscale\": [[0.0, \"#0d0887\"], [0.1111111111111111, \"#46039f\"], [0.2222222222222222, \"#7201a8\"], [0.3333333333333333, \"#9c179e\"], [0.4444444444444444, \"#bd3786\"], [0.5555555555555556, \"#d8576b\"], [0.6666666666666666, \"#ed7953\"], [0.7777777777777778, \"#fb9f3a\"], [0.8888888888888888, \"#fdca26\"], [1.0, \"#f0f921\"]], \"type\": \"histogram2d\"}], \"histogram2dcontour\": [{\"colorbar\": {\"outlinewidth\": 0, \"ticks\": \"\"}, \"colorscale\": [[0.0, \"#0d0887\"], [0.1111111111111111, \"#46039f\"], [0.2222222222222222, \"#7201a8\"], [0.3333333333333333, \"#9c179e\"], [0.4444444444444444, \"#bd3786\"], [0.5555555555555556, \"#d8576b\"], [0.6666666666666666, \"#ed7953\"], [0.7777777777777778, \"#fb9f3a\"], [0.8888888888888888, \"#fdca26\"], [1.0, \"#f0f921\"]], \"type\": \"histogram2dcontour\"}], \"mesh3d\": [{\"colorbar\": {\"outlinewidth\": 0, \"ticks\": \"\"}, \"type\": \"mesh3d\"}], \"parcoords\": [{\"line\": {\"colorbar\": {\"outlinewidth\": 0, \"ticks\": \"\"}}, \"type\": \"parcoords\"}], \"pie\": [{\"automargin\": true, \"type\": \"pie\"}], \"scatter\": [{\"marker\": {\"colorbar\": {\"outlinewidth\": 0, \"ticks\": \"\"}}, \"type\": \"scatter\"}], \"scatter3d\": [{\"line\": {\"colorbar\": {\"outlinewidth\": 0, \"ticks\": \"\"}}, \"marker\": {\"colorbar\": {\"outlinewidth\": 0, \"ticks\": \"\"}}, \"type\": \"scatter3d\"}], \"scattercarpet\": [{\"marker\": {\"colorbar\": {\"outlinewidth\": 0, \"ticks\": \"\"}}, \"type\": \"scattercarpet\"}], \"scattergeo\": [{\"marker\": {\"colorbar\": {\"outlinewidth\": 0, \"ticks\": \"\"}}, \"type\": \"scattergeo\"}], \"scattergl\": [{\"marker\": {\"colorbar\": {\"outlinewidth\": 0, \"ticks\": \"\"}}, \"type\": \"scattergl\"}], \"scattermapbox\": [{\"marker\": {\"colorbar\": {\"outlinewidth\": 0, \"ticks\": \"\"}}, \"type\": \"scattermapbox\"}], \"scatterpolar\": [{\"marker\": {\"colorbar\": {\"outlinewidth\": 0, \"ticks\": \"\"}}, \"type\": \"scatterpolar\"}], \"scatterpolargl\": [{\"marker\": {\"colorbar\": {\"outlinewidth\": 0, \"ticks\": \"\"}}, \"type\": \"scatterpolargl\"}], \"scatterternary\": [{\"marker\": {\"colorbar\": {\"outlinewidth\": 0, \"ticks\": \"\"}}, \"type\": \"scatterternary\"}], \"surface\": [{\"colorbar\": {\"outlinewidth\": 0, \"ticks\": \"\"}, \"colorscale\": [[0.0, \"#0d0887\"], [0.1111111111111111, \"#46039f\"], [0.2222222222222222, \"#7201a8\"], [0.3333333333333333, \"#9c179e\"], [0.4444444444444444, \"#bd3786\"], [0.5555555555555556, \"#d8576b\"], [0.6666666666666666, \"#ed7953\"], [0.7777777777777778, \"#fb9f3a\"], [0.8888888888888888, \"#fdca26\"], [1.0, \"#f0f921\"]], \"type\": \"surface\"}], \"table\": [{\"cells\": {\"fill\": {\"color\": \"#EBF0F8\"}, \"line\": {\"color\": \"white\"}}, \"header\": {\"fill\": {\"color\": \"#C8D4E3\"}, \"line\": {\"color\": \"white\"}}, \"type\": \"table\"}]}, \"layout\": {\"annotationdefaults\": {\"arrowcolor\": \"#2a3f5f\", \"arrowhead\": 0, \"arrowwidth\": 1}, \"coloraxis\": {\"colorbar\": {\"outlinewidth\": 0, \"ticks\": \"\"}}, \"colorscale\": {\"diverging\": [[0, \"#8e0152\"], [0.1, \"#c51b7d\"], [0.2, \"#de77ae\"], [0.3, \"#f1b6da\"], [0.4, \"#fde0ef\"], [0.5, \"#f7f7f7\"], [0.6, \"#e6f5d0\"], [0.7, \"#b8e186\"], [0.8, \"#7fbc41\"], [0.9, \"#4d9221\"], [1, \"#276419\"]], \"sequential\": [[0.0, \"#0d0887\"], [0.1111111111111111, \"#46039f\"], [0.2222222222222222, \"#7201a8\"], [0.3333333333333333, \"#9c179e\"], [0.4444444444444444, \"#bd3786\"], [0.5555555555555556, \"#d8576b\"], [0.6666666666666666, \"#ed7953\"], [0.7777777777777778, \"#fb9f3a\"], [0.8888888888888888, \"#fdca26\"], [1.0, \"#f0f921\"]], \"sequentialminus\": [[0.0, \"#0d0887\"], [0.1111111111111111, \"#46039f\"], [0.2222222222222222, \"#7201a8\"], [0.3333333333333333, \"#9c179e\"], [0.4444444444444444, \"#bd3786\"], [0.5555555555555556, \"#d8576b\"], [0.6666666666666666, \"#ed7953\"], [0.7777777777777778, \"#fb9f3a\"], [0.8888888888888888, \"#fdca26\"], [1.0, \"#f0f921\"]]}, \"colorway\": [\"#636efa\", \"#EF553B\", \"#00cc96\", \"#ab63fa\", \"#FFA15A\", \"#19d3f3\", \"#FF6692\", \"#B6E880\", \"#FF97FF\", \"#FECB52\"], \"font\": {\"color\": \"#2a3f5f\"}, \"geo\": {\"bgcolor\": \"white\", \"lakecolor\": \"white\", \"landcolor\": \"#E5ECF6\", \"showlakes\": true, \"showland\": true, \"subunitcolor\": \"white\"}, \"hoverlabel\": {\"align\": \"left\"}, \"hovermode\": \"closest\", \"mapbox\": {\"style\": \"light\"}, \"paper_bgcolor\": \"white\", \"plot_bgcolor\": \"#E5ECF6\", \"polar\": {\"angularaxis\": {\"gridcolor\": \"white\", \"linecolor\": \"white\", \"ticks\": \"\"}, \"bgcolor\": \"#E5ECF6\", \"radialaxis\": {\"gridcolor\": \"white\", \"linecolor\": \"white\", \"ticks\": \"\"}}, \"scene\": {\"xaxis\": {\"backgroundcolor\": \"#E5ECF6\", \"gridcolor\": \"white\", \"gridwidth\": 2, \"linecolor\": \"white\", \"showbackground\": true, \"ticks\": \"\", \"zerolinecolor\": \"white\"}, \"yaxis\": {\"backgroundcolor\": \"#E5ECF6\", \"gridcolor\": \"white\", \"gridwidth\": 2, \"linecolor\": \"white\", \"showbackground\": true, \"ticks\": \"\", \"zerolinecolor\": \"white\"}, \"zaxis\": {\"backgroundcolor\": \"#E5ECF6\", \"gridcolor\": \"white\", \"gridwidth\": 2, \"linecolor\": \"white\", \"showbackground\": true, \"ticks\": \"\", \"zerolinecolor\": \"white\"}}, \"shapedefaults\": {\"line\": {\"color\": \"#2a3f5f\"}}, \"ternary\": {\"aaxis\": {\"gridcolor\": \"white\", \"linecolor\": \"white\", \"ticks\": \"\"}, \"baxis\": {\"gridcolor\": \"white\", \"linecolor\": \"white\", \"ticks\": \"\"}, \"bgcolor\": \"#E5ECF6\", \"caxis\": {\"gridcolor\": \"white\", \"linecolor\": \"white\", \"ticks\": \"\"}}, \"title\": {\"x\": 0.05}, \"xaxis\": {\"automargin\": true, \"gridcolor\": \"white\", \"linecolor\": \"white\", \"ticks\": \"\", \"title\": {\"standoff\": 15}, \"zerolinecolor\": \"white\", \"zerolinewidth\": 2}, \"yaxis\": {\"automargin\": true, \"gridcolor\": \"white\", \"linecolor\": \"white\", \"ticks\": \"\", \"title\": {\"standoff\": 15}, \"zerolinecolor\": \"white\", \"zerolinewidth\": 2}}}, \"title\": {\"font\": {\"color\": \"#4D5663\"}}, \"xaxis\": {\"gridcolor\": \"#E1E5ED\", \"showgrid\": true, \"tickfont\": {\"color\": \"#4D5663\"}, \"title\": {\"font\": {\"color\": \"#4D5663\"}, \"text\": \"\"}, \"zerolinecolor\": \"#E1E5ED\"}, \"yaxis\": {\"gridcolor\": \"#E1E5ED\", \"showgrid\": true, \"tickfont\": {\"color\": \"#4D5663\"}, \"title\": {\"font\": {\"color\": \"#4D5663\"}, \"text\": \"\"}, \"zerolinecolor\": \"#E1E5ED\"}},\n",
       "                        {\"showLink\": true, \"linkText\": \"Export to plot.ly\", \"plotlyServerURL\": \"https://plot.ly\", \"responsive\": true}\n",
       "                    ).then(function(){\n",
       "                            \n",
       "var gd = document.getElementById('f89018f8-1c39-4d58-bd17-529e35d236b2');\n",
       "var x = new MutationObserver(function (mutations, observer) {{\n",
       "        var display = window.getComputedStyle(gd).display;\n",
       "        if (!display || display === 'none') {{\n",
       "            console.log([gd, 'removed!']);\n",
       "            Plotly.purge(gd);\n",
       "            observer.disconnect();\n",
       "        }}\n",
       "}});\n",
       "\n",
       "// Listen for the removal of the full notebook cells\n",
       "var notebookContainer = gd.closest('#notebook-container');\n",
       "if (notebookContainer) {{\n",
       "    x.observe(notebookContainer, {childList: true});\n",
       "}}\n",
       "\n",
       "// Listen for the clearing of the current output cell\n",
       "var outputEl = gd.closest('.output');\n",
       "if (outputEl) {{\n",
       "    x.observe(outputEl, {childList: true});\n",
       "}}\n",
       "\n",
       "                        })\n",
       "                };\n",
       "                });\n",
       "            </script>\n",
       "        </div>"
      ]
     },
     "metadata": {},
     "output_type": "display_data"
    }
   ],
   "source": [
    "returns.loc['2020-06-19':'2020-01-01'].sum().iplot(kind='bar')"
   ]
  },
  {
   "cell_type": "markdown",
   "metadata": {},
   "source": [
    "### Histogram plot"
   ]
  },
  {
   "cell_type": "code",
   "execution_count": 31,
   "metadata": {},
   "outputs": [
    {
     "data": {
      "application/vnd.plotly.v1+json": {
       "config": {
        "linkText": "Export to plot.ly",
        "plotlyServerURL": "https://plot.ly",
        "showLink": true
       },
       "data": [
        {
         "histfunc": "count",
         "histnorm": "",
         "marker": {
          "color": "rgba(255, 153, 51, 1.0)",
          "line": {
           "color": "#4D5663",
           "width": 1.3
          }
         },
         "name": "BAC Return",
         "opacity": 0.8,
         "orientation": "v",
         "type": "histogram",
         "x": [
          0.02558895207148648,
          -0.008316831683168324,
          -0.0015974440894568342,
          0.03200000000000003,
          -0.025193798449612448,
          -0.0147117296222663,
          -0.034301856335754666,
          0.1115754283326369,
          0.06090225563909768,
          0.011339475549255962,
          -0.015066573230553604,
          -0.047314123087868976,
          -0.03622106049290519,
          -0.04424641611778368,
          -0.009242743635479278,
          -0.019926350245499158,
          0.03068509163779054,
          0.04504212572909916,
          -0.06542635658914742,
          -0.06673025879230254,
          0.01057636759543179,
          0.0004397344004221093,
          -0.030548107775482447,
          0.0324174827711281,
          -0.06495103421017978,
          0.012586887093744226,
          -0.038729128014842185,
          0.04796139927623644,
          0.03246005801372065,
          0.043836960399571856,
          -0.030973640363993638,
          -0.021470769773388465,
          0.013876999324172079,
          0.011909523174687742,
          0.006543410478239808,
          0.04201570680628275,
          0.03035632039526015,
          -0.03588263979193751,
          -0.017618545837724042,
          -0.054962028575106125,
          -0.013938073186234412,
          -0.0032229844836318966,
          -0.007344450090073562,
          0.03973941368078182,
          0.03468492660221978,
          -0.07989099874562056,
          0.0359157578036855,
          0.06943183880922144,
          0.007977594840023805,
          0.03931969352530107,
          -0.05670771224886595,
          -0.055865681896255626,
          -0.033883658525492355,
          -0.06360041427360885,
          0.026997134382384047,
          -0.03891717250832194,
          0.07385524372230434,
          0.03813499027652578,
          -0.019966189975784587,
          0.05188811188811204,
          -0.07131143908168247,
          -0.0033406509496993753,
          -0.14025090978739718,
          0.08794207741576177,
          0.07776185113136069,
          -0.019332161687170446,
          0.057250799186283174,
          -0.07009345794392541,
          0.1820376391762737,
          -0.15108573333889064,
          0.10531225451688941,
          0.04144272198285415,
          -0.07114219909579445,
          0.17237579208375386,
          0.04163402788657389,
          0.053393495017860504,
          -0.02255934320899511,
          0.058393894021838255,
          -0.029639086329445785,
          0.022117128329125713,
          0.05148721516785537,
          0.014689826302729525,
          0.053082917604095226,
          0.049818868625568946,
          0.014245266324544481,
          -0.0037221204454914725,
          -0.012959341525349388,
          0.01691456959517401,
          0.0017447439588238467,
          0.00029028418822041324,
          -0.00429495922690748,
          -0.0023316137681792526,
          -0.0022786363238000984,
          0.0016982402717184986,
          0.0011692145801058818,
          -0.03138594493591418,
          -0.01935133831685565,
          -0.004241716358271308,
          0.01981726139029516,
          -0.014044433682426471,
          0.0069380487505372734,
          -0.011707317073170742,
          0.020977295162882603,
          0.017313270485859622,
          0.007039116100864051,
          -0.002919837196956432,
          0.013133374744875415,
          0.000291962278473612,
          -0.0014593853069087004,
          0.018765894010698503,
          -0.007345135282472048,
          -0.009133739919646278,
          0.008342813803564608,
          -0.0017357595394451586,
          -0.009968991798765314,
          0.0066153440857066315,
          0.0014539532990198722,
          0.021196898864659364
         ]
        },
        {
         "histfunc": "count",
         "histnorm": "",
         "marker": {
          "color": "rgba(55, 128, 191, 1.0)",
          "line": {
           "color": "#4D5663",
           "width": 1.3
          }
         },
         "name": "C Return",
         "opacity": 0.8,
         "orientation": "v",
         "type": "histogram",
         "x": [
          0.0165194006915097,
          0.0022675736961450532,
          -0.0007541478129713397,
          0.027358490566037785,
          -0.026997245179063434,
          -0.013778784446961012,
          -0.07387559808612443,
          0.15437073775573462,
          0.06516290726817053,
          0.02924369747899158,
          -0.0388634879163946,
          -0.05453618756371048,
          -0.04150943396226403,
          -0.046869141357330335,
          -0.02734067663257278,
          -0.03114256825075845,
          0.02609058651638496,
          0.06305939788445891,
          -0.07826253348641399,
          -0.08449242266971146,
          0.020408163265306145,
          0.010444444444444478,
          -0.02287222344402906,
          0.0279090704478957,
          -0.08211079483249395,
          0.0033396946564885344,
          -0.03471231573941991,
          0.0431034482758621,
          0.040613931523022506,
          0.051055139550714834,
          -0.03626943005181349,
          -0.03785842293906805,
          0.02328288707799775,
          0.02662116040955609,
          0.00886524822695045,
          0.055579964850615005,
          0.03500520291363163,
          -0.06068527306362104,
          -0.013764610181101866,
          -0.07432007119446082,
          -0.014842779093488523,
          -0.005188746608273176,
          -0.01586276198679304,
          0.058711983079279495,
          0.0327225130890052,
          -0.10848731461098882,
          0.05776425400309271,
          0.05972647960386723,
          0.0277462563691786,
          0.015631088980298857,
          -0.06644355388813095,
          -0.06799862998059147,
          -0.003160447852610382,
          -0.08828155721588693,
          0.046420099202070464,
          -0.018342006285743784,
          0.09373851886841966,
          0.04652334564998295,
          -0.006350734805236402,
          0.05069220119981521,
          -0.09040999626677204,
          -0.028657653307580855,
          -0.1296199637113813,
          0.07544691301616302,
          0.04152947424322906,
          -0.08099632877829921,
          0.1048630954032237,
          0.023350993044919166,
          0.2391491032215325,
          -0.15242357041026444,
          0.1740643834976403,
          0.09429532204469049,
          -0.0757509637064514,
          0.19291756836513874,
          0.036067682564812964,
          0.06142654760199284,
          -0.03471701508653002,
          0.03904174499355251,
          -0.06109449760765551,
          0.015590661528171568,
          0.057877158044940646,
          0.01833570496857595,
          0.044642727180099095,
          0.05390982053282789,
          0.023282256038711147,
          -0.002170598723481132,
          -0.0060209763045449005,
          0.015606070474825762,
          0.002655105627028087,
          0.0041831904822822175,
          -0.0030319630049555624,
          -0.0077051840682860195,
          0.0026784794478209584,
          0.003557484845371661,
          -0.0015228881125147753,
          -0.02979928738048232,
          -0.017913523653513286,
          -0.009577487523708572,
          0.03372312539895961,
          -0.012271389531217092,
          0.009936417568969569,
          -0.006848864010536637,
          0.02227968967575089,
          0.017590971006032463,
          0.003760788363228462,
          -0.0024893314366998265,
          0.015278838808250317,
          -0.0014923501379481285,
          0.002964042149683932,
          0.00823972851471999,
          -0.015363596845308303,
          -0.01736925754938312,
          0.010474833442446041,
          -0.008994245207515461,
          -0.0075632298837313705,
          0.008770456864593879,
          0.003137084176291438,
          0.019210395312918793
         ]
        },
        {
         "histfunc": "count",
         "histnorm": "",
         "marker": {
          "color": "rgba(50, 171, 96, 1.0)",
          "line": {
           "color": "#4D5663",
           "width": 1.3
          }
         },
         "name": "GS Return",
         "opacity": 0.8,
         "orientation": "v",
         "type": "histogram",
         "x": [
          -0.008799528070002949,
          0.010960670535138606,
          0.01152864992150704,
          0.01648964547262244,
          -0.015649601603129892,
          -0.021957248800348994,
          -0.03791257805530779,
          0.09988152269098038,
          0.02144998126639175,
          0.01242549289316841,
          -0.013088175354377118,
          -0.014225403817914817,
          -0.0197840052136673,
          -0.03053616374602275,
          -0.020623101792887177,
          -0.017206022107737695,
          0.0177108249783704,
          0.041956293444016746,
          -0.06488769437511999,
          -0.08227263395606654,
          0.000950729824953811,
          0.007430997876857859,
          -0.01985469469247414,
          0.02274656255304719,
          -0.055048409405255794,
          0.015046838407494212,
          -0.01522754801868842,
          0.03151174368886567,
          0.033558571347453325,
          0.01219646192726076,
          -0.016554494138080855,
          -0.02963739720735148,
          0.00779206006142652,
          -0.012698233534623848,
          0.006059220304104329,
          0.03568181818181815,
          0.03604344963791961,
          -0.015885623510722757,
          -0.018563357546408366,
          -0.035635964912280715,
          -0.011028993746446836,
          0.005346056564727419,
          -0.012350620389959377,
          0.03792045388757037,
          0.017124051762605896,
          -0.03515217987386887,
          0.00835512106399916,
          -0.0016346316442139575,
          0.00536359530261965,
          0.028359633851856136,
          -0.039646133682830875,
          -0.06181053110428747,
          -0.04691193405660954,
          -0.07141494435612072,
          0.020408163265306145,
          -0.030939597315436385,
          0.06399335134012052,
          0.03254572674607825,
          -0.008006051818697513,
          0.04702592780884585,
          -0.0642753095411508,
          -0.009859246286566647,
          -0.12132328856862107,
          0.025497651532095933,
          0.08004362050163571,
          -0.0633414108777598,
          0.13316564858066826,
          -0.02524099441907668,
          0.14554326610279777,
          -0.1495427954790708,
          0.14077734740216363,
          0.07247394918627803,
          -0.0625545851528383,
          0.11593105857691866,
          0.030837464127315473,
          0.05001012350678269,
          -0.02540493636714236,
          0.029677993767621258,
          -0.04155257722054084,
          0.01829390537289477,
          0.049072205542156855,
          0.008492070939288832,
          0.03182135380321016,
          0.027097705036295716,
          0.009130816505706685,
          0.019749434487558615,
          -0.017361999829366037,
          0.0166268721510745,
          0.005337774361602099,
          0.0012742641124749987,
          -0.009205446909599901,
          0.0038105840041102734,
          0.0026871401151633556,
          0.01607963246554367,
          0.010257054341455296,
          -0.009655629687953304,
          -0.01213490668675199,
          -0.005252456794307081,
          0.026826775677056602,
          -0.01642199552127388,
          0.010245383253225437,
          -0.0183214390050499,
          0.015900008502678364,
          0.015107130900569032,
          0.005977655934369608,
          -0.005450372920252522,
          0.015286991635419689,
          0.0010551948051946702,
          -0.018041028135895476,
          0.0018166054250443597,
          -0.0018133113538018053,
          -0.012633665001445027,
          0.0020071085093036345,
          -0.019947418937528716,
          -0.009538002980625904,
          -0.006534542796956311,
          -0.010169198147907732,
          0.01184751245956095
         ]
        },
        {
         "histfunc": "count",
         "histnorm": "",
         "marker": {
          "color": "rgba(128, 0, 128, 1.0)",
          "line": {
           "color": "#4D5663",
           "width": 1.3
          }
         },
         "name": "JPM Return",
         "opacity": 0.8,
         "orientation": "v",
         "type": "histogram",
         "x": [
          0.010956072351421264,
          0.011553010939576724,
          0.00545785324439052,
          0.02593486127864897,
          -0.007936507936507908,
          -0.013629629629629547,
          -0.026634625012516344,
          0.091040016459212,
          0.042240241372807796,
          0.026325312104215737,
          -0.01956809167033935,
          -0.04306392160388395,
          -0.020387072529124417,
          -0.051213196509062864,
          -0.0033356919033661336,
          -0.013083164300202732,
          0.026204912136471137,
          0.015121169637492438,
          -0.054749926013613615,
          -0.06627008975161752,
          0.007823851570358809,
          0.012864589109459867,
          -0.02912515055293985,
          0.020074433291981553,
          -0.05030403537866224,
          0.018859138533178,
          -0.03987659963436918,
          0.035701535166012155,
          0.03378145467080307,
          0.030343447815938784,
          -0.016073354908306414,
          -0.010305887512334189,
          0.01916472803810798,
          0.0015217391304347405,
          0.012046885174734179,
          0.02691689008042908,
          0.021929824561403466,
          -0.026262006948702177,
          -0.0070311680134327315,
          -0.041323187486789426,
          -0.01455186859221691,
          -0.0005593466830741134,
          -0.003246026415939185,
          0.029870859067939293,
          0.037836659033911424,
          -0.08247530993906294,
          0.039619832818046596,
          0.05187796012776724,
          0.028167539267015762,
          0.046542417761482824,
          -0.08232775398987935,
          -0.038812301166489926,
          -0.013018534863195153,
          -0.060473954840151944,
          0.030458060678167698,
          -0.03600046184043404,
          0.06721602069659371,
          0.03853923505117618,
          -0.02534094101882467,
          0.07670218309624932,
          -0.06512135597409152,
          -0.035974313503034594,
          -0.10630591515179222,
          0.056560594244218,
          0.02156314662213643,
          -0.016535778164717962,
          0.11766052007178396,
          -0.05759946549420236,
          0.1759728304993653,
          -0.1526254375729289,
          0.08983980537960168,
          0.049350868141471826,
          -0.07205498695564916,
          0.15669503346705738,
          0.05450126203608496,
          0.05159574468085104,
          -0.024110605294216825,
          0.0389599170697994,
          -0.04448324602976628,
          0.045248868778280604,
          0.043456543456543484,
          -0.0030317536301260883,
          0.04673495518565951,
          0.027599388379204726,
          0.012424670783423908,
          0,
          -0.01344797178130519,
          0.013407821229050265,
          0.0030135979419330106,
          0.0008793785724754422,
          0,
          -0.0019036462146728717,
          -0.004107981220657253,
          0.0031673541543901784,
          -0.00014685366032751723,
          -0.01667033854740385,
          -0.014189693801344383,
          -0.007575757575757569,
          0.026641221374045898,
          -0.012194215183285118,
          0.0015054572826498358,
          -0.017888012025554456,
          0.008494681258131243,
          0.025497040522082237,
          0.0009619653692469754,
          0.0011828195460930058,
          0.009968249280070784,
          -0.006872349758736629,
          -0.0039016489988221714,
          0.015224299756115611,
          -0.011501783504404228,
          -0.008248030046395183,
          0.010098759931684853,
          -0.0036756597809306513,
          -0.0077473622076293935,
          0.01732599643069621,
          0.000804034792778241,
          0.013365468886941345
         ]
        },
        {
         "histfunc": "count",
         "histnorm": "",
         "marker": {
          "color": "rgba(219, 64, 82, 1.0)",
          "line": {
           "color": "#4D5663",
           "width": 1.3
          }
         },
         "name": "MS Return",
         "opacity": 0.8,
         "orientation": "v",
         "type": "histogram",
         "x": [
          -0.00949767834529347,
          0.013850415512465242,
          0.003783102143757766,
          0.01675041876046901,
          -0.023887973640856708,
          -0.02362869198312234,
          -0.03694900605012963,
          0.09243886021987868,
          0.03512014787430684,
          -0.004960317460317443,
          -0.01236291126620137,
          -0.016959418534221782,
          -0.036557814746354556,
          -0.028352163717757395,
          -0.01930671347082047,
          -0.01118568232662187,
          0.004524886877828038,
          0.055405405405405395,
          -0.06764831412718741,
          -0.08148317692835882,
          0.0042362322452029755,
          0.0188585607940448,
          -0.04213346322454958,
          0.024154589371980784,
          -0.07423038728897724,
          0.013944757307589262,
          -0.02168738428987038,
          0.03865909705325765,
          0.03669963560645484,
          0.0062766758724579486,
          -0.03168662674650691,
          -0.038907498067508484,
          0.01823056300268089,
          0.0028962611901002244,
          0.0081386190601207,
          0.026822916666666696,
          0.034491503931016965,
          -0.024760970826182893,
          -0.020437405731523417,
          -0.03408011907511477,
          -0.013177820877281587,
          0.009073042026761291,
          -0.022732123799359627,
          0.038140220596265095,
          0.019040105193951495,
          -0.018684353144597377,
          0.0010519395134780396,
          0.03801392355181932,
          -0.007010528447054076,
          0.03789983433159172,
          -0.041623692353027875,
          -0.061726497040510364,
          0.001884319187284822,
          -0.0853708398070161,
          0.0014602890776336253,
          -0.06725389834543505,
          0.07526161306789181,
          0.024715900661662182,
          -0.023830206161686407,
          0.05001038175184647,
          -0.04816520240684763,
          -0.02267466017688613,
          -0.16286061342241132,
          0.06689157325788075,
          0.04212709530447789,
          -0.005481239804241422,
          0.09884522012991259,
          -0.06332288401253905,
          0.18483457640084144,
          -0.16506604255777046,
          0.17756226439411038,
          0.07133085257743232,
          -0.05061933341846503,
          0.1157291582600275,
          0.017938517179023394,
          0.06219948364480454,
          -0.018552792953506425,
          0.04684979437893344,
          -0.03120998372219208,
          0.00844590810314294,
          0.040298573777047375,
          0.01672076535406175,
          0.034361807145407486,
          0.055150567547261886,
          0.025364201451032464,
          0.04763424109907821,
          -0.014027481681864518,
          0.005759866269350988,
          0.0016078622658211028,
          0.004473143104505528,
          -0.0071107918836416095,
          -0.007722356856078361,
          -0.005777607669455231,
          -0.0003666361136571705,
          -0.00036677058499912096,
          -0.017629792698587443,
          -0.026293674951913037,
          -0.006463243896358106,
          0.029862558875762613,
          -0.00910948248392729,
          0.006336895866830616,
          -0.01684210526315799,
          0.027091618231875447,
          0.01798179482883766,
          0.005942911478047819,
          0.0010543154220896689,
          0.028454694025785265,
          -0.018609742747673796,
          -0.062015364409981344,
          -0.0015152677612400023,
          -0.00149835756958705,
          -0.01079282017737937,
          -0.0028783694426075535,
          -0.009420713867759,
          -0.012601650028550626,
          0.001954254491794094,
          0.0035227385809533107,
          0.01642140335567821
         ]
        },
        {
         "histfunc": "count",
         "histnorm": "",
         "marker": {
          "color": "rgba(0, 128, 128, 1.0)",
          "line": {
           "color": "#4D5663",
           "width": 1.3
          }
         },
         "name": "WFC Return",
         "opacity": 0.8,
         "orientation": "v",
         "type": "histogram",
         "x": [
          0.009140767824497242,
          -0.0018115942028985588,
          -0.003629764065335772,
          0.03897996357012756,
          -0.010869565217391242,
          -0.008507621410847266,
          -0.04218805863425101,
          0.10899589399029486,
          0.09828340626051846,
          0.021146184492798037,
          -0.049519807923169235,
          -0.04578465424692146,
          -0.045996029119788284,
          -0.049601109954908074,
          -0.011313868613138656,
          -0.02288667404946476,
          0.028333962976955007,
          0.026818515797207843,
          -0.0604651162790697,
          -0.07958872810357953,
          0.011998345055854287,
          0.002452984464431651,
          -0.023246329526916854,
          0.060960334029227514,
          -0.0806768988587171,
          0.02996575342465757,
          -0.06359102244389014,
          0.06702174877940514,
          0.03078202995008339,
          0.02623083131557702,
          -0.007864726700747116,
          -0.005152596115735153,
          0.02772908366533855,
          0.03911459140952078,
          0.008804327550830049,
          0.0528826596649532,
          0.032735063749077975,
          -0.03768322960242154,
          -0.01593921187488956,
          -0.05243499497198678,
          -0.01447847180109163,
          0.010153065148834628,
          0.0015228812914032108,
          0.031285638257432025,
          0.025286593682037672,
          -0.052489663850440405,
          0.057636122177954885,
          0.061168113654301415,
          0.04141451705601962,
          0.05632385404492912,
          -0.08795599127201215,
          -0.04987026990598786,
          -0.004858672908465422,
          -0.08382038488952237,
          0.037731445464446844,
          -0.023877352125346696,
          0.08014285165700241,
          0.04251990898748592,
          0.012037921156731635,
          0.020487246015432836,
          -0.062473171537064554,
          -0.001725777480364843,
          -0.12690516511430994,
          0.04950094961005358,
          0.06757277067611267,
          -0.00602301006239403,
          0.053701015965166965,
          -0.10564738292011022,
          0.16567842291698764,
          -0.11947151114781163,
          0.18861129867206827,
          0.08505333585810759,
          -0.07411070067769987,
          0.14192818772971427,
          0.04880195868064163,
          0.06428852459016388,
          -0.02102227917981081,
          0.04267049316516891,
          -0.03334299097010962,
          0.03963833454054999,
          0.039328272150682464,
          0.022190887866669673,
          0.028154044458515104,
          0.028240883297409036,
          -0.007550802139037471,
          -0.005280513826324884,
          -0.0021234182700642368,
          0.026186650453815075,
          -0.002073635209479452,
          -0.0068699376616767616,
          0.004184636406336706,
          -0.004571161287579284,
          0.001452401802687131,
          0.0029432465288885545,
          -0.0037639553429027472,
          -0.02172984972677594,
          -0.002945668775910959,
          -0.003851624904256501,
          0.02067268613106621,
          -0.013344812742143719,
          0.00211605584642216,
          -0.00570346343905781,
          0.009983579638752182,
          0.013656760096247611,
          0.007035777677979471,
          0.007836058611169872,
          0.004909500832297464,
          0.0014258156504234343,
          -0.018886097152428727,
          0.02029536045072322,
          0.056976719864460845,
          0.007500049472621839,
          0.0043604651162789665,
          0.001701411976376077,
          -0.003026102575115708,
          0.008361727959895093,
          0.0060202357602003875,
          0.006196552323224358
         ]
        }
       ],
       "layout": {
        "barmode": "overlay",
        "legend": {
         "bgcolor": "#F5F6F9",
         "font": {
          "color": "#4D5663"
         }
        },
        "paper_bgcolor": "#F5F6F9",
        "plot_bgcolor": "#F5F6F9",
        "template": {
         "data": {
          "bar": [
           {
            "error_x": {
             "color": "#2a3f5f"
            },
            "error_y": {
             "color": "#2a3f5f"
            },
            "marker": {
             "line": {
              "color": "#E5ECF6",
              "width": 0.5
             }
            },
            "type": "bar"
           }
          ],
          "barpolar": [
           {
            "marker": {
             "line": {
              "color": "#E5ECF6",
              "width": 0.5
             }
            },
            "type": "barpolar"
           }
          ],
          "carpet": [
           {
            "aaxis": {
             "endlinecolor": "#2a3f5f",
             "gridcolor": "white",
             "linecolor": "white",
             "minorgridcolor": "white",
             "startlinecolor": "#2a3f5f"
            },
            "baxis": {
             "endlinecolor": "#2a3f5f",
             "gridcolor": "white",
             "linecolor": "white",
             "minorgridcolor": "white",
             "startlinecolor": "#2a3f5f"
            },
            "type": "carpet"
           }
          ],
          "choropleth": [
           {
            "colorbar": {
             "outlinewidth": 0,
             "ticks": ""
            },
            "type": "choropleth"
           }
          ],
          "contour": [
           {
            "colorbar": {
             "outlinewidth": 0,
             "ticks": ""
            },
            "colorscale": [
             [
              0,
              "#0d0887"
             ],
             [
              0.1111111111111111,
              "#46039f"
             ],
             [
              0.2222222222222222,
              "#7201a8"
             ],
             [
              0.3333333333333333,
              "#9c179e"
             ],
             [
              0.4444444444444444,
              "#bd3786"
             ],
             [
              0.5555555555555556,
              "#d8576b"
             ],
             [
              0.6666666666666666,
              "#ed7953"
             ],
             [
              0.7777777777777778,
              "#fb9f3a"
             ],
             [
              0.8888888888888888,
              "#fdca26"
             ],
             [
              1,
              "#f0f921"
             ]
            ],
            "type": "contour"
           }
          ],
          "contourcarpet": [
           {
            "colorbar": {
             "outlinewidth": 0,
             "ticks": ""
            },
            "type": "contourcarpet"
           }
          ],
          "heatmap": [
           {
            "colorbar": {
             "outlinewidth": 0,
             "ticks": ""
            },
            "colorscale": [
             [
              0,
              "#0d0887"
             ],
             [
              0.1111111111111111,
              "#46039f"
             ],
             [
              0.2222222222222222,
              "#7201a8"
             ],
             [
              0.3333333333333333,
              "#9c179e"
             ],
             [
              0.4444444444444444,
              "#bd3786"
             ],
             [
              0.5555555555555556,
              "#d8576b"
             ],
             [
              0.6666666666666666,
              "#ed7953"
             ],
             [
              0.7777777777777778,
              "#fb9f3a"
             ],
             [
              0.8888888888888888,
              "#fdca26"
             ],
             [
              1,
              "#f0f921"
             ]
            ],
            "type": "heatmap"
           }
          ],
          "heatmapgl": [
           {
            "colorbar": {
             "outlinewidth": 0,
             "ticks": ""
            },
            "colorscale": [
             [
              0,
              "#0d0887"
             ],
             [
              0.1111111111111111,
              "#46039f"
             ],
             [
              0.2222222222222222,
              "#7201a8"
             ],
             [
              0.3333333333333333,
              "#9c179e"
             ],
             [
              0.4444444444444444,
              "#bd3786"
             ],
             [
              0.5555555555555556,
              "#d8576b"
             ],
             [
              0.6666666666666666,
              "#ed7953"
             ],
             [
              0.7777777777777778,
              "#fb9f3a"
             ],
             [
              0.8888888888888888,
              "#fdca26"
             ],
             [
              1,
              "#f0f921"
             ]
            ],
            "type": "heatmapgl"
           }
          ],
          "histogram": [
           {
            "marker": {
             "colorbar": {
              "outlinewidth": 0,
              "ticks": ""
             }
            },
            "type": "histogram"
           }
          ],
          "histogram2d": [
           {
            "colorbar": {
             "outlinewidth": 0,
             "ticks": ""
            },
            "colorscale": [
             [
              0,
              "#0d0887"
             ],
             [
              0.1111111111111111,
              "#46039f"
             ],
             [
              0.2222222222222222,
              "#7201a8"
             ],
             [
              0.3333333333333333,
              "#9c179e"
             ],
             [
              0.4444444444444444,
              "#bd3786"
             ],
             [
              0.5555555555555556,
              "#d8576b"
             ],
             [
              0.6666666666666666,
              "#ed7953"
             ],
             [
              0.7777777777777778,
              "#fb9f3a"
             ],
             [
              0.8888888888888888,
              "#fdca26"
             ],
             [
              1,
              "#f0f921"
             ]
            ],
            "type": "histogram2d"
           }
          ],
          "histogram2dcontour": [
           {
            "colorbar": {
             "outlinewidth": 0,
             "ticks": ""
            },
            "colorscale": [
             [
              0,
              "#0d0887"
             ],
             [
              0.1111111111111111,
              "#46039f"
             ],
             [
              0.2222222222222222,
              "#7201a8"
             ],
             [
              0.3333333333333333,
              "#9c179e"
             ],
             [
              0.4444444444444444,
              "#bd3786"
             ],
             [
              0.5555555555555556,
              "#d8576b"
             ],
             [
              0.6666666666666666,
              "#ed7953"
             ],
             [
              0.7777777777777778,
              "#fb9f3a"
             ],
             [
              0.8888888888888888,
              "#fdca26"
             ],
             [
              1,
              "#f0f921"
             ]
            ],
            "type": "histogram2dcontour"
           }
          ],
          "mesh3d": [
           {
            "colorbar": {
             "outlinewidth": 0,
             "ticks": ""
            },
            "type": "mesh3d"
           }
          ],
          "parcoords": [
           {
            "line": {
             "colorbar": {
              "outlinewidth": 0,
              "ticks": ""
             }
            },
            "type": "parcoords"
           }
          ],
          "pie": [
           {
            "automargin": true,
            "type": "pie"
           }
          ],
          "scatter": [
           {
            "marker": {
             "colorbar": {
              "outlinewidth": 0,
              "ticks": ""
             }
            },
            "type": "scatter"
           }
          ],
          "scatter3d": [
           {
            "line": {
             "colorbar": {
              "outlinewidth": 0,
              "ticks": ""
             }
            },
            "marker": {
             "colorbar": {
              "outlinewidth": 0,
              "ticks": ""
             }
            },
            "type": "scatter3d"
           }
          ],
          "scattercarpet": [
           {
            "marker": {
             "colorbar": {
              "outlinewidth": 0,
              "ticks": ""
             }
            },
            "type": "scattercarpet"
           }
          ],
          "scattergeo": [
           {
            "marker": {
             "colorbar": {
              "outlinewidth": 0,
              "ticks": ""
             }
            },
            "type": "scattergeo"
           }
          ],
          "scattergl": [
           {
            "marker": {
             "colorbar": {
              "outlinewidth": 0,
              "ticks": ""
             }
            },
            "type": "scattergl"
           }
          ],
          "scattermapbox": [
           {
            "marker": {
             "colorbar": {
              "outlinewidth": 0,
              "ticks": ""
             }
            },
            "type": "scattermapbox"
           }
          ],
          "scatterpolar": [
           {
            "marker": {
             "colorbar": {
              "outlinewidth": 0,
              "ticks": ""
             }
            },
            "type": "scatterpolar"
           }
          ],
          "scatterpolargl": [
           {
            "marker": {
             "colorbar": {
              "outlinewidth": 0,
              "ticks": ""
             }
            },
            "type": "scatterpolargl"
           }
          ],
          "scatterternary": [
           {
            "marker": {
             "colorbar": {
              "outlinewidth": 0,
              "ticks": ""
             }
            },
            "type": "scatterternary"
           }
          ],
          "surface": [
           {
            "colorbar": {
             "outlinewidth": 0,
             "ticks": ""
            },
            "colorscale": [
             [
              0,
              "#0d0887"
             ],
             [
              0.1111111111111111,
              "#46039f"
             ],
             [
              0.2222222222222222,
              "#7201a8"
             ],
             [
              0.3333333333333333,
              "#9c179e"
             ],
             [
              0.4444444444444444,
              "#bd3786"
             ],
             [
              0.5555555555555556,
              "#d8576b"
             ],
             [
              0.6666666666666666,
              "#ed7953"
             ],
             [
              0.7777777777777778,
              "#fb9f3a"
             ],
             [
              0.8888888888888888,
              "#fdca26"
             ],
             [
              1,
              "#f0f921"
             ]
            ],
            "type": "surface"
           }
          ],
          "table": [
           {
            "cells": {
             "fill": {
              "color": "#EBF0F8"
             },
             "line": {
              "color": "white"
             }
            },
            "header": {
             "fill": {
              "color": "#C8D4E3"
             },
             "line": {
              "color": "white"
             }
            },
            "type": "table"
           }
          ]
         },
         "layout": {
          "annotationdefaults": {
           "arrowcolor": "#2a3f5f",
           "arrowhead": 0,
           "arrowwidth": 1
          },
          "coloraxis": {
           "colorbar": {
            "outlinewidth": 0,
            "ticks": ""
           }
          },
          "colorscale": {
           "diverging": [
            [
             0,
             "#8e0152"
            ],
            [
             0.1,
             "#c51b7d"
            ],
            [
             0.2,
             "#de77ae"
            ],
            [
             0.3,
             "#f1b6da"
            ],
            [
             0.4,
             "#fde0ef"
            ],
            [
             0.5,
             "#f7f7f7"
            ],
            [
             0.6,
             "#e6f5d0"
            ],
            [
             0.7,
             "#b8e186"
            ],
            [
             0.8,
             "#7fbc41"
            ],
            [
             0.9,
             "#4d9221"
            ],
            [
             1,
             "#276419"
            ]
           ],
           "sequential": [
            [
             0,
             "#0d0887"
            ],
            [
             0.1111111111111111,
             "#46039f"
            ],
            [
             0.2222222222222222,
             "#7201a8"
            ],
            [
             0.3333333333333333,
             "#9c179e"
            ],
            [
             0.4444444444444444,
             "#bd3786"
            ],
            [
             0.5555555555555556,
             "#d8576b"
            ],
            [
             0.6666666666666666,
             "#ed7953"
            ],
            [
             0.7777777777777778,
             "#fb9f3a"
            ],
            [
             0.8888888888888888,
             "#fdca26"
            ],
            [
             1,
             "#f0f921"
            ]
           ],
           "sequentialminus": [
            [
             0,
             "#0d0887"
            ],
            [
             0.1111111111111111,
             "#46039f"
            ],
            [
             0.2222222222222222,
             "#7201a8"
            ],
            [
             0.3333333333333333,
             "#9c179e"
            ],
            [
             0.4444444444444444,
             "#bd3786"
            ],
            [
             0.5555555555555556,
             "#d8576b"
            ],
            [
             0.6666666666666666,
             "#ed7953"
            ],
            [
             0.7777777777777778,
             "#fb9f3a"
            ],
            [
             0.8888888888888888,
             "#fdca26"
            ],
            [
             1,
             "#f0f921"
            ]
           ]
          },
          "colorway": [
           "#636efa",
           "#EF553B",
           "#00cc96",
           "#ab63fa",
           "#FFA15A",
           "#19d3f3",
           "#FF6692",
           "#B6E880",
           "#FF97FF",
           "#FECB52"
          ],
          "font": {
           "color": "#2a3f5f"
          },
          "geo": {
           "bgcolor": "white",
           "lakecolor": "white",
           "landcolor": "#E5ECF6",
           "showlakes": true,
           "showland": true,
           "subunitcolor": "white"
          },
          "hoverlabel": {
           "align": "left"
          },
          "hovermode": "closest",
          "mapbox": {
           "style": "light"
          },
          "paper_bgcolor": "white",
          "plot_bgcolor": "#E5ECF6",
          "polar": {
           "angularaxis": {
            "gridcolor": "white",
            "linecolor": "white",
            "ticks": ""
           },
           "bgcolor": "#E5ECF6",
           "radialaxis": {
            "gridcolor": "white",
            "linecolor": "white",
            "ticks": ""
           }
          },
          "scene": {
           "xaxis": {
            "backgroundcolor": "#E5ECF6",
            "gridcolor": "white",
            "gridwidth": 2,
            "linecolor": "white",
            "showbackground": true,
            "ticks": "",
            "zerolinecolor": "white"
           },
           "yaxis": {
            "backgroundcolor": "#E5ECF6",
            "gridcolor": "white",
            "gridwidth": 2,
            "linecolor": "white",
            "showbackground": true,
            "ticks": "",
            "zerolinecolor": "white"
           },
           "zaxis": {
            "backgroundcolor": "#E5ECF6",
            "gridcolor": "white",
            "gridwidth": 2,
            "linecolor": "white",
            "showbackground": true,
            "ticks": "",
            "zerolinecolor": "white"
           }
          },
          "shapedefaults": {
           "line": {
            "color": "#2a3f5f"
           }
          },
          "ternary": {
           "aaxis": {
            "gridcolor": "white",
            "linecolor": "white",
            "ticks": ""
           },
           "baxis": {
            "gridcolor": "white",
            "linecolor": "white",
            "ticks": ""
           },
           "bgcolor": "#E5ECF6",
           "caxis": {
            "gridcolor": "white",
            "linecolor": "white",
            "ticks": ""
           }
          },
          "title": {
           "x": 0.05
          },
          "xaxis": {
           "automargin": true,
           "gridcolor": "white",
           "linecolor": "white",
           "ticks": "",
           "title": {
            "standoff": 15
           },
           "zerolinecolor": "white",
           "zerolinewidth": 2
          },
          "yaxis": {
           "automargin": true,
           "gridcolor": "white",
           "linecolor": "white",
           "ticks": "",
           "title": {
            "standoff": 15
           },
           "zerolinecolor": "white",
           "zerolinewidth": 2
          }
         }
        },
        "title": {
         "font": {
          "color": "#4D5663"
         }
        },
        "xaxis": {
         "gridcolor": "#E1E5ED",
         "showgrid": true,
         "tickfont": {
          "color": "#4D5663"
         },
         "title": {
          "font": {
           "color": "#4D5663"
          },
          "text": ""
         },
         "zerolinecolor": "#E1E5ED"
        },
        "yaxis": {
         "gridcolor": "#E1E5ED",
         "showgrid": true,
         "tickfont": {
          "color": "#4D5663"
         },
         "title": {
          "font": {
           "color": "#4D5663"
          },
          "text": ""
         },
         "zerolinecolor": "#E1E5ED"
        }
       }
      },
      "text/html": [
       "<div>\n",
       "        \n",
       "        \n",
       "            <div id=\"c833175a-5d9f-46e3-8227-cb21e5e57cd4\" class=\"plotly-graph-div\" style=\"height:525px; width:100%;\"></div>\n",
       "            <script type=\"text/javascript\">\n",
       "                require([\"plotly\"], function(Plotly) {\n",
       "                    window.PLOTLYENV=window.PLOTLYENV || {};\n",
       "                    window.PLOTLYENV.BASE_URL='https://plot.ly';\n",
       "                    \n",
       "                if (document.getElementById(\"c833175a-5d9f-46e3-8227-cb21e5e57cd4\")) {\n",
       "                    Plotly.newPlot(\n",
       "                        'c833175a-5d9f-46e3-8227-cb21e5e57cd4',\n",
       "                        [{\"histfunc\": \"count\", \"histnorm\": \"\", \"marker\": {\"color\": \"rgba(255, 153, 51, 1.0)\", \"line\": {\"color\": \"#4D5663\", \"width\": 1.3}}, \"name\": \"BAC Return\", \"opacity\": 0.8, \"orientation\": \"v\", \"type\": \"histogram\", \"x\": [0.02558895207148648, -0.008316831683168324, -0.0015974440894568342, 0.03200000000000003, -0.025193798449612448, -0.0147117296222663, -0.034301856335754666, 0.1115754283326369, 0.06090225563909768, 0.011339475549255962, -0.015066573230553604, -0.047314123087868976, -0.03622106049290519, -0.04424641611778368, -0.009242743635479278, -0.019926350245499158, 0.03068509163779054, 0.04504212572909916, -0.06542635658914742, -0.06673025879230254, 0.01057636759543179, 0.0004397344004221093, -0.030548107775482447, 0.0324174827711281, -0.06495103421017978, 0.012586887093744226, -0.038729128014842185, 0.04796139927623644, 0.03246005801372065, 0.043836960399571856, -0.030973640363993638, -0.021470769773388465, 0.013876999324172079, 0.011909523174687742, 0.006543410478239808, 0.04201570680628275, 0.03035632039526015, -0.03588263979193751, -0.017618545837724042, -0.054962028575106125, -0.013938073186234412, -0.0032229844836318966, -0.007344450090073562, 0.03973941368078182, 0.03468492660221978, -0.07989099874562056, 0.0359157578036855, 0.06943183880922144, 0.007977594840023805, 0.03931969352530107, -0.05670771224886595, -0.055865681896255626, -0.033883658525492355, -0.06360041427360885, 0.026997134382384047, -0.03891717250832194, 0.07385524372230434, 0.03813499027652578, -0.019966189975784587, 0.05188811188811204, -0.07131143908168247, -0.0033406509496993753, -0.14025090978739718, 0.08794207741576177, 0.07776185113136069, -0.019332161687170446, 0.057250799186283174, -0.07009345794392541, 0.1820376391762737, -0.15108573333889064, 0.10531225451688941, 0.04144272198285415, -0.07114219909579445, 0.17237579208375386, 0.04163402788657389, 0.053393495017860504, -0.02255934320899511, 0.058393894021838255, -0.029639086329445785, 0.022117128329125713, 0.05148721516785537, 0.014689826302729525, 0.053082917604095226, 0.049818868625568946, 0.014245266324544481, -0.0037221204454914725, -0.012959341525349388, 0.01691456959517401, 0.0017447439588238467, 0.00029028418822041324, -0.00429495922690748, -0.0023316137681792526, -0.0022786363238000984, 0.0016982402717184986, 0.0011692145801058818, -0.03138594493591418, -0.01935133831685565, -0.004241716358271308, 0.01981726139029516, -0.014044433682426471, 0.0069380487505372734, -0.011707317073170742, 0.020977295162882603, 0.017313270485859622, 0.007039116100864051, -0.002919837196956432, 0.013133374744875415, 0.000291962278473612, -0.0014593853069087004, 0.018765894010698503, -0.007345135282472048, -0.009133739919646278, 0.008342813803564608, -0.0017357595394451586, -0.009968991798765314, 0.0066153440857066315, 0.0014539532990198722, 0.021196898864659364]}, {\"histfunc\": \"count\", \"histnorm\": \"\", \"marker\": {\"color\": \"rgba(55, 128, 191, 1.0)\", \"line\": {\"color\": \"#4D5663\", \"width\": 1.3}}, \"name\": \"C Return\", \"opacity\": 0.8, \"orientation\": \"v\", \"type\": \"histogram\", \"x\": [0.0165194006915097, 0.0022675736961450532, -0.0007541478129713397, 0.027358490566037785, -0.026997245179063434, -0.013778784446961012, -0.07387559808612443, 0.15437073775573462, 0.06516290726817053, 0.02924369747899158, -0.0388634879163946, -0.05453618756371048, -0.04150943396226403, -0.046869141357330335, -0.02734067663257278, -0.03114256825075845, 0.02609058651638496, 0.06305939788445891, -0.07826253348641399, -0.08449242266971146, 0.020408163265306145, 0.010444444444444478, -0.02287222344402906, 0.0279090704478957, -0.08211079483249395, 0.0033396946564885344, -0.03471231573941991, 0.0431034482758621, 0.040613931523022506, 0.051055139550714834, -0.03626943005181349, -0.03785842293906805, 0.02328288707799775, 0.02662116040955609, 0.00886524822695045, 0.055579964850615005, 0.03500520291363163, -0.06068527306362104, -0.013764610181101866, -0.07432007119446082, -0.014842779093488523, -0.005188746608273176, -0.01586276198679304, 0.058711983079279495, 0.0327225130890052, -0.10848731461098882, 0.05776425400309271, 0.05972647960386723, 0.0277462563691786, 0.015631088980298857, -0.06644355388813095, -0.06799862998059147, -0.003160447852610382, -0.08828155721588693, 0.046420099202070464, -0.018342006285743784, 0.09373851886841966, 0.04652334564998295, -0.006350734805236402, 0.05069220119981521, -0.09040999626677204, -0.028657653307580855, -0.1296199637113813, 0.07544691301616302, 0.04152947424322906, -0.08099632877829921, 0.1048630954032237, 0.023350993044919166, 0.2391491032215325, -0.15242357041026444, 0.1740643834976403, 0.09429532204469049, -0.0757509637064514, 0.19291756836513874, 0.036067682564812964, 0.06142654760199284, -0.03471701508653002, 0.03904174499355251, -0.06109449760765551, 0.015590661528171568, 0.057877158044940646, 0.01833570496857595, 0.044642727180099095, 0.05390982053282789, 0.023282256038711147, -0.002170598723481132, -0.0060209763045449005, 0.015606070474825762, 0.002655105627028087, 0.0041831904822822175, -0.0030319630049555624, -0.0077051840682860195, 0.0026784794478209584, 0.003557484845371661, -0.0015228881125147753, -0.02979928738048232, -0.017913523653513286, -0.009577487523708572, 0.03372312539895961, -0.012271389531217092, 0.009936417568969569, -0.006848864010536637, 0.02227968967575089, 0.017590971006032463, 0.003760788363228462, -0.0024893314366998265, 0.015278838808250317, -0.0014923501379481285, 0.002964042149683932, 0.00823972851471999, -0.015363596845308303, -0.01736925754938312, 0.010474833442446041, -0.008994245207515461, -0.0075632298837313705, 0.008770456864593879, 0.003137084176291438, 0.019210395312918793]}, {\"histfunc\": \"count\", \"histnorm\": \"\", \"marker\": {\"color\": \"rgba(50, 171, 96, 1.0)\", \"line\": {\"color\": \"#4D5663\", \"width\": 1.3}}, \"name\": \"GS Return\", \"opacity\": 0.8, \"orientation\": \"v\", \"type\": \"histogram\", \"x\": [-0.008799528070002949, 0.010960670535138606, 0.01152864992150704, 0.01648964547262244, -0.015649601603129892, -0.021957248800348994, -0.03791257805530779, 0.09988152269098038, 0.02144998126639175, 0.01242549289316841, -0.013088175354377118, -0.014225403817914817, -0.0197840052136673, -0.03053616374602275, -0.020623101792887177, -0.017206022107737695, 0.0177108249783704, 0.041956293444016746, -0.06488769437511999, -0.08227263395606654, 0.000950729824953811, 0.007430997876857859, -0.01985469469247414, 0.02274656255304719, -0.055048409405255794, 0.015046838407494212, -0.01522754801868842, 0.03151174368886567, 0.033558571347453325, 0.01219646192726076, -0.016554494138080855, -0.02963739720735148, 0.00779206006142652, -0.012698233534623848, 0.006059220304104329, 0.03568181818181815, 0.03604344963791961, -0.015885623510722757, -0.018563357546408366, -0.035635964912280715, -0.011028993746446836, 0.005346056564727419, -0.012350620389959377, 0.03792045388757037, 0.017124051762605896, -0.03515217987386887, 0.00835512106399916, -0.0016346316442139575, 0.00536359530261965, 0.028359633851856136, -0.039646133682830875, -0.06181053110428747, -0.04691193405660954, -0.07141494435612072, 0.020408163265306145, -0.030939597315436385, 0.06399335134012052, 0.03254572674607825, -0.008006051818697513, 0.04702592780884585, -0.0642753095411508, -0.009859246286566647, -0.12132328856862107, 0.025497651532095933, 0.08004362050163571, -0.0633414108777598, 0.13316564858066826, -0.02524099441907668, 0.14554326610279777, -0.1495427954790708, 0.14077734740216363, 0.07247394918627803, -0.0625545851528383, 0.11593105857691866, 0.030837464127315473, 0.05001012350678269, -0.02540493636714236, 0.029677993767621258, -0.04155257722054084, 0.01829390537289477, 0.049072205542156855, 0.008492070939288832, 0.03182135380321016, 0.027097705036295716, 0.009130816505706685, 0.019749434487558615, -0.017361999829366037, 0.0166268721510745, 0.005337774361602099, 0.0012742641124749987, -0.009205446909599901, 0.0038105840041102734, 0.0026871401151633556, 0.01607963246554367, 0.010257054341455296, -0.009655629687953304, -0.01213490668675199, -0.005252456794307081, 0.026826775677056602, -0.01642199552127388, 0.010245383253225437, -0.0183214390050499, 0.015900008502678364, 0.015107130900569032, 0.005977655934369608, -0.005450372920252522, 0.015286991635419689, 0.0010551948051946702, -0.018041028135895476, 0.0018166054250443597, -0.0018133113538018053, -0.012633665001445027, 0.0020071085093036345, -0.019947418937528716, -0.009538002980625904, -0.006534542796956311, -0.010169198147907732, 0.01184751245956095]}, {\"histfunc\": \"count\", \"histnorm\": \"\", \"marker\": {\"color\": \"rgba(128, 0, 128, 1.0)\", \"line\": {\"color\": \"#4D5663\", \"width\": 1.3}}, \"name\": \"JPM Return\", \"opacity\": 0.8, \"orientation\": \"v\", \"type\": \"histogram\", \"x\": [0.010956072351421264, 0.011553010939576724, 0.00545785324439052, 0.02593486127864897, -0.007936507936507908, -0.013629629629629547, -0.026634625012516344, 0.091040016459212, 0.042240241372807796, 0.026325312104215737, -0.01956809167033935, -0.04306392160388395, -0.020387072529124417, -0.051213196509062864, -0.0033356919033661336, -0.013083164300202732, 0.026204912136471137, 0.015121169637492438, -0.054749926013613615, -0.06627008975161752, 0.007823851570358809, 0.012864589109459867, -0.02912515055293985, 0.020074433291981553, -0.05030403537866224, 0.018859138533178, -0.03987659963436918, 0.035701535166012155, 0.03378145467080307, 0.030343447815938784, -0.016073354908306414, -0.010305887512334189, 0.01916472803810798, 0.0015217391304347405, 0.012046885174734179, 0.02691689008042908, 0.021929824561403466, -0.026262006948702177, -0.0070311680134327315, -0.041323187486789426, -0.01455186859221691, -0.0005593466830741134, -0.003246026415939185, 0.029870859067939293, 0.037836659033911424, -0.08247530993906294, 0.039619832818046596, 0.05187796012776724, 0.028167539267015762, 0.046542417761482824, -0.08232775398987935, -0.038812301166489926, -0.013018534863195153, -0.060473954840151944, 0.030458060678167698, -0.03600046184043404, 0.06721602069659371, 0.03853923505117618, -0.02534094101882467, 0.07670218309624932, -0.06512135597409152, -0.035974313503034594, -0.10630591515179222, 0.056560594244218, 0.02156314662213643, -0.016535778164717962, 0.11766052007178396, -0.05759946549420236, 0.1759728304993653, -0.1526254375729289, 0.08983980537960168, 0.049350868141471826, -0.07205498695564916, 0.15669503346705738, 0.05450126203608496, 0.05159574468085104, -0.024110605294216825, 0.0389599170697994, -0.04448324602976628, 0.045248868778280604, 0.043456543456543484, -0.0030317536301260883, 0.04673495518565951, 0.027599388379204726, 0.012424670783423908, 0.0, -0.01344797178130519, 0.013407821229050265, 0.0030135979419330106, 0.0008793785724754422, 0.0, -0.0019036462146728717, -0.004107981220657253, 0.0031673541543901784, -0.00014685366032751723, -0.01667033854740385, -0.014189693801344383, -0.007575757575757569, 0.026641221374045898, -0.012194215183285118, 0.0015054572826498358, -0.017888012025554456, 0.008494681258131243, 0.025497040522082237, 0.0009619653692469754, 0.0011828195460930058, 0.009968249280070784, -0.006872349758736629, -0.0039016489988221714, 0.015224299756115611, -0.011501783504404228, -0.008248030046395183, 0.010098759931684853, -0.0036756597809306513, -0.0077473622076293935, 0.01732599643069621, 0.000804034792778241, 0.013365468886941345]}, {\"histfunc\": \"count\", \"histnorm\": \"\", \"marker\": {\"color\": \"rgba(219, 64, 82, 1.0)\", \"line\": {\"color\": \"#4D5663\", \"width\": 1.3}}, \"name\": \"MS Return\", \"opacity\": 0.8, \"orientation\": \"v\", \"type\": \"histogram\", \"x\": [-0.00949767834529347, 0.013850415512465242, 0.003783102143757766, 0.01675041876046901, -0.023887973640856708, -0.02362869198312234, -0.03694900605012963, 0.09243886021987868, 0.03512014787430684, -0.004960317460317443, -0.01236291126620137, -0.016959418534221782, -0.036557814746354556, -0.028352163717757395, -0.01930671347082047, -0.01118568232662187, 0.004524886877828038, 0.055405405405405395, -0.06764831412718741, -0.08148317692835882, 0.0042362322452029755, 0.0188585607940448, -0.04213346322454958, 0.024154589371980784, -0.07423038728897724, 0.013944757307589262, -0.02168738428987038, 0.03865909705325765, 0.03669963560645484, 0.0062766758724579486, -0.03168662674650691, -0.038907498067508484, 0.01823056300268089, 0.0028962611901002244, 0.0081386190601207, 0.026822916666666696, 0.034491503931016965, -0.024760970826182893, -0.020437405731523417, -0.03408011907511477, -0.013177820877281587, 0.009073042026761291, -0.022732123799359627, 0.038140220596265095, 0.019040105193951495, -0.018684353144597377, 0.0010519395134780396, 0.03801392355181932, -0.007010528447054076, 0.03789983433159172, -0.041623692353027875, -0.061726497040510364, 0.001884319187284822, -0.0853708398070161, 0.0014602890776336253, -0.06725389834543505, 0.07526161306789181, 0.024715900661662182, -0.023830206161686407, 0.05001038175184647, -0.04816520240684763, -0.02267466017688613, -0.16286061342241132, 0.06689157325788075, 0.04212709530447789, -0.005481239804241422, 0.09884522012991259, -0.06332288401253905, 0.18483457640084144, -0.16506604255777046, 0.17756226439411038, 0.07133085257743232, -0.05061933341846503, 0.1157291582600275, 0.017938517179023394, 0.06219948364480454, -0.018552792953506425, 0.04684979437893344, -0.03120998372219208, 0.00844590810314294, 0.040298573777047375, 0.01672076535406175, 0.034361807145407486, 0.055150567547261886, 0.025364201451032464, 0.04763424109907821, -0.014027481681864518, 0.005759866269350988, 0.0016078622658211028, 0.004473143104505528, -0.0071107918836416095, -0.007722356856078361, -0.005777607669455231, -0.0003666361136571705, -0.00036677058499912096, -0.017629792698587443, -0.026293674951913037, -0.006463243896358106, 0.029862558875762613, -0.00910948248392729, 0.006336895866830616, -0.01684210526315799, 0.027091618231875447, 0.01798179482883766, 0.005942911478047819, 0.0010543154220896689, 0.028454694025785265, -0.018609742747673796, -0.062015364409981344, -0.0015152677612400023, -0.00149835756958705, -0.01079282017737937, -0.0028783694426075535, -0.009420713867759, -0.012601650028550626, 0.001954254491794094, 0.0035227385809533107, 0.01642140335567821]}, {\"histfunc\": \"count\", \"histnorm\": \"\", \"marker\": {\"color\": \"rgba(0, 128, 128, 1.0)\", \"line\": {\"color\": \"#4D5663\", \"width\": 1.3}}, \"name\": \"WFC Return\", \"opacity\": 0.8, \"orientation\": \"v\", \"type\": \"histogram\", \"x\": [0.009140767824497242, -0.0018115942028985588, -0.003629764065335772, 0.03897996357012756, -0.010869565217391242, -0.008507621410847266, -0.04218805863425101, 0.10899589399029486, 0.09828340626051846, 0.021146184492798037, -0.049519807923169235, -0.04578465424692146, -0.045996029119788284, -0.049601109954908074, -0.011313868613138656, -0.02288667404946476, 0.028333962976955007, 0.026818515797207843, -0.0604651162790697, -0.07958872810357953, 0.011998345055854287, 0.002452984464431651, -0.023246329526916854, 0.060960334029227514, -0.0806768988587171, 0.02996575342465757, -0.06359102244389014, 0.06702174877940514, 0.03078202995008339, 0.02623083131557702, -0.007864726700747116, -0.005152596115735153, 0.02772908366533855, 0.03911459140952078, 0.008804327550830049, 0.0528826596649532, 0.032735063749077975, -0.03768322960242154, -0.01593921187488956, -0.05243499497198678, -0.01447847180109163, 0.010153065148834628, 0.0015228812914032108, 0.031285638257432025, 0.025286593682037672, -0.052489663850440405, 0.057636122177954885, 0.061168113654301415, 0.04141451705601962, 0.05632385404492912, -0.08795599127201215, -0.04987026990598786, -0.004858672908465422, -0.08382038488952237, 0.037731445464446844, -0.023877352125346696, 0.08014285165700241, 0.04251990898748592, 0.012037921156731635, 0.020487246015432836, -0.062473171537064554, -0.001725777480364843, -0.12690516511430994, 0.04950094961005358, 0.06757277067611267, -0.00602301006239403, 0.053701015965166965, -0.10564738292011022, 0.16567842291698764, -0.11947151114781163, 0.18861129867206827, 0.08505333585810759, -0.07411070067769987, 0.14192818772971427, 0.04880195868064163, 0.06428852459016388, -0.02102227917981081, 0.04267049316516891, -0.03334299097010962, 0.03963833454054999, 0.039328272150682464, 0.022190887866669673, 0.028154044458515104, 0.028240883297409036, -0.007550802139037471, -0.005280513826324884, -0.0021234182700642368, 0.026186650453815075, -0.002073635209479452, -0.0068699376616767616, 0.004184636406336706, -0.004571161287579284, 0.001452401802687131, 0.0029432465288885545, -0.0037639553429027472, -0.02172984972677594, -0.002945668775910959, -0.003851624904256501, 0.02067268613106621, -0.013344812742143719, 0.00211605584642216, -0.00570346343905781, 0.009983579638752182, 0.013656760096247611, 0.007035777677979471, 0.007836058611169872, 0.004909500832297464, 0.0014258156504234343, -0.018886097152428727, 0.02029536045072322, 0.056976719864460845, 0.007500049472621839, 0.0043604651162789665, 0.001701411976376077, -0.003026102575115708, 0.008361727959895093, 0.0060202357602003875, 0.006196552323224358]}],\n",
       "                        {\"barmode\": \"overlay\", \"legend\": {\"bgcolor\": \"#F5F6F9\", \"font\": {\"color\": \"#4D5663\"}}, \"paper_bgcolor\": \"#F5F6F9\", \"plot_bgcolor\": \"#F5F6F9\", \"template\": {\"data\": {\"bar\": [{\"error_x\": {\"color\": \"#2a3f5f\"}, \"error_y\": {\"color\": \"#2a3f5f\"}, \"marker\": {\"line\": {\"color\": \"#E5ECF6\", \"width\": 0.5}}, \"type\": \"bar\"}], \"barpolar\": [{\"marker\": {\"line\": {\"color\": \"#E5ECF6\", \"width\": 0.5}}, \"type\": \"barpolar\"}], \"carpet\": [{\"aaxis\": {\"endlinecolor\": \"#2a3f5f\", \"gridcolor\": \"white\", \"linecolor\": \"white\", \"minorgridcolor\": \"white\", \"startlinecolor\": \"#2a3f5f\"}, \"baxis\": {\"endlinecolor\": \"#2a3f5f\", \"gridcolor\": \"white\", \"linecolor\": \"white\", \"minorgridcolor\": \"white\", \"startlinecolor\": \"#2a3f5f\"}, \"type\": \"carpet\"}], \"choropleth\": [{\"colorbar\": {\"outlinewidth\": 0, \"ticks\": \"\"}, \"type\": \"choropleth\"}], \"contour\": [{\"colorbar\": {\"outlinewidth\": 0, \"ticks\": \"\"}, \"colorscale\": [[0.0, \"#0d0887\"], [0.1111111111111111, \"#46039f\"], [0.2222222222222222, \"#7201a8\"], [0.3333333333333333, \"#9c179e\"], [0.4444444444444444, \"#bd3786\"], [0.5555555555555556, \"#d8576b\"], [0.6666666666666666, \"#ed7953\"], [0.7777777777777778, \"#fb9f3a\"], [0.8888888888888888, \"#fdca26\"], [1.0, \"#f0f921\"]], \"type\": \"contour\"}], \"contourcarpet\": [{\"colorbar\": {\"outlinewidth\": 0, \"ticks\": \"\"}, \"type\": \"contourcarpet\"}], \"heatmap\": [{\"colorbar\": {\"outlinewidth\": 0, \"ticks\": \"\"}, \"colorscale\": [[0.0, \"#0d0887\"], [0.1111111111111111, \"#46039f\"], [0.2222222222222222, \"#7201a8\"], [0.3333333333333333, \"#9c179e\"], [0.4444444444444444, \"#bd3786\"], [0.5555555555555556, \"#d8576b\"], [0.6666666666666666, \"#ed7953\"], [0.7777777777777778, \"#fb9f3a\"], [0.8888888888888888, \"#fdca26\"], [1.0, \"#f0f921\"]], \"type\": \"heatmap\"}], \"heatmapgl\": [{\"colorbar\": {\"outlinewidth\": 0, \"ticks\": \"\"}, \"colorscale\": [[0.0, \"#0d0887\"], [0.1111111111111111, \"#46039f\"], [0.2222222222222222, \"#7201a8\"], [0.3333333333333333, \"#9c179e\"], [0.4444444444444444, \"#bd3786\"], [0.5555555555555556, \"#d8576b\"], [0.6666666666666666, \"#ed7953\"], [0.7777777777777778, \"#fb9f3a\"], [0.8888888888888888, \"#fdca26\"], [1.0, \"#f0f921\"]], \"type\": \"heatmapgl\"}], \"histogram\": [{\"marker\": {\"colorbar\": {\"outlinewidth\": 0, \"ticks\": \"\"}}, \"type\": \"histogram\"}], \"histogram2d\": [{\"colorbar\": {\"outlinewidth\": 0, \"ticks\": \"\"}, \"colorscale\": [[0.0, \"#0d0887\"], [0.1111111111111111, \"#46039f\"], [0.2222222222222222, \"#7201a8\"], [0.3333333333333333, \"#9c179e\"], [0.4444444444444444, \"#bd3786\"], [0.5555555555555556, \"#d8576b\"], [0.6666666666666666, \"#ed7953\"], [0.7777777777777778, \"#fb9f3a\"], [0.8888888888888888, \"#fdca26\"], [1.0, \"#f0f921\"]], \"type\": \"histogram2d\"}], \"histogram2dcontour\": [{\"colorbar\": {\"outlinewidth\": 0, \"ticks\": \"\"}, \"colorscale\": [[0.0, \"#0d0887\"], [0.1111111111111111, \"#46039f\"], [0.2222222222222222, \"#7201a8\"], [0.3333333333333333, \"#9c179e\"], [0.4444444444444444, \"#bd3786\"], [0.5555555555555556, \"#d8576b\"], [0.6666666666666666, \"#ed7953\"], [0.7777777777777778, \"#fb9f3a\"], [0.8888888888888888, \"#fdca26\"], [1.0, \"#f0f921\"]], \"type\": \"histogram2dcontour\"}], \"mesh3d\": [{\"colorbar\": {\"outlinewidth\": 0, \"ticks\": \"\"}, \"type\": \"mesh3d\"}], \"parcoords\": [{\"line\": {\"colorbar\": {\"outlinewidth\": 0, \"ticks\": \"\"}}, \"type\": \"parcoords\"}], \"pie\": [{\"automargin\": true, \"type\": \"pie\"}], \"scatter\": [{\"marker\": {\"colorbar\": {\"outlinewidth\": 0, \"ticks\": \"\"}}, \"type\": \"scatter\"}], \"scatter3d\": [{\"line\": {\"colorbar\": {\"outlinewidth\": 0, \"ticks\": \"\"}}, \"marker\": {\"colorbar\": {\"outlinewidth\": 0, \"ticks\": \"\"}}, \"type\": \"scatter3d\"}], \"scattercarpet\": [{\"marker\": {\"colorbar\": {\"outlinewidth\": 0, \"ticks\": \"\"}}, \"type\": \"scattercarpet\"}], \"scattergeo\": [{\"marker\": {\"colorbar\": {\"outlinewidth\": 0, \"ticks\": \"\"}}, \"type\": \"scattergeo\"}], \"scattergl\": [{\"marker\": {\"colorbar\": {\"outlinewidth\": 0, \"ticks\": \"\"}}, \"type\": \"scattergl\"}], \"scattermapbox\": [{\"marker\": {\"colorbar\": {\"outlinewidth\": 0, \"ticks\": \"\"}}, \"type\": \"scattermapbox\"}], \"scatterpolar\": [{\"marker\": {\"colorbar\": {\"outlinewidth\": 0, \"ticks\": \"\"}}, \"type\": \"scatterpolar\"}], \"scatterpolargl\": [{\"marker\": {\"colorbar\": {\"outlinewidth\": 0, \"ticks\": \"\"}}, \"type\": \"scatterpolargl\"}], \"scatterternary\": [{\"marker\": {\"colorbar\": {\"outlinewidth\": 0, \"ticks\": \"\"}}, \"type\": \"scatterternary\"}], \"surface\": [{\"colorbar\": {\"outlinewidth\": 0, \"ticks\": \"\"}, \"colorscale\": [[0.0, \"#0d0887\"], [0.1111111111111111, \"#46039f\"], [0.2222222222222222, \"#7201a8\"], [0.3333333333333333, \"#9c179e\"], [0.4444444444444444, \"#bd3786\"], [0.5555555555555556, \"#d8576b\"], [0.6666666666666666, \"#ed7953\"], [0.7777777777777778, \"#fb9f3a\"], [0.8888888888888888, \"#fdca26\"], [1.0, \"#f0f921\"]], \"type\": \"surface\"}], \"table\": [{\"cells\": {\"fill\": {\"color\": \"#EBF0F8\"}, \"line\": {\"color\": \"white\"}}, \"header\": {\"fill\": {\"color\": \"#C8D4E3\"}, \"line\": {\"color\": \"white\"}}, \"type\": \"table\"}]}, \"layout\": {\"annotationdefaults\": {\"arrowcolor\": \"#2a3f5f\", \"arrowhead\": 0, \"arrowwidth\": 1}, \"coloraxis\": {\"colorbar\": {\"outlinewidth\": 0, \"ticks\": \"\"}}, \"colorscale\": {\"diverging\": [[0, \"#8e0152\"], [0.1, \"#c51b7d\"], [0.2, \"#de77ae\"], [0.3, \"#f1b6da\"], [0.4, \"#fde0ef\"], [0.5, \"#f7f7f7\"], [0.6, \"#e6f5d0\"], [0.7, \"#b8e186\"], [0.8, \"#7fbc41\"], [0.9, \"#4d9221\"], [1, \"#276419\"]], \"sequential\": [[0.0, \"#0d0887\"], [0.1111111111111111, \"#46039f\"], [0.2222222222222222, \"#7201a8\"], [0.3333333333333333, \"#9c179e\"], [0.4444444444444444, \"#bd3786\"], [0.5555555555555556, \"#d8576b\"], [0.6666666666666666, \"#ed7953\"], [0.7777777777777778, \"#fb9f3a\"], [0.8888888888888888, \"#fdca26\"], [1.0, \"#f0f921\"]], \"sequentialminus\": [[0.0, \"#0d0887\"], [0.1111111111111111, \"#46039f\"], [0.2222222222222222, \"#7201a8\"], [0.3333333333333333, \"#9c179e\"], [0.4444444444444444, \"#bd3786\"], [0.5555555555555556, \"#d8576b\"], [0.6666666666666666, \"#ed7953\"], [0.7777777777777778, \"#fb9f3a\"], [0.8888888888888888, \"#fdca26\"], [1.0, \"#f0f921\"]]}, \"colorway\": [\"#636efa\", \"#EF553B\", \"#00cc96\", \"#ab63fa\", \"#FFA15A\", \"#19d3f3\", \"#FF6692\", \"#B6E880\", \"#FF97FF\", \"#FECB52\"], \"font\": {\"color\": \"#2a3f5f\"}, \"geo\": {\"bgcolor\": \"white\", \"lakecolor\": \"white\", \"landcolor\": \"#E5ECF6\", \"showlakes\": true, \"showland\": true, \"subunitcolor\": \"white\"}, \"hoverlabel\": {\"align\": \"left\"}, \"hovermode\": \"closest\", \"mapbox\": {\"style\": \"light\"}, \"paper_bgcolor\": \"white\", \"plot_bgcolor\": \"#E5ECF6\", \"polar\": {\"angularaxis\": {\"gridcolor\": \"white\", \"linecolor\": \"white\", \"ticks\": \"\"}, \"bgcolor\": \"#E5ECF6\", \"radialaxis\": {\"gridcolor\": \"white\", \"linecolor\": \"white\", \"ticks\": \"\"}}, \"scene\": {\"xaxis\": {\"backgroundcolor\": \"#E5ECF6\", \"gridcolor\": \"white\", \"gridwidth\": 2, \"linecolor\": \"white\", \"showbackground\": true, \"ticks\": \"\", \"zerolinecolor\": \"white\"}, \"yaxis\": {\"backgroundcolor\": \"#E5ECF6\", \"gridcolor\": \"white\", \"gridwidth\": 2, \"linecolor\": \"white\", \"showbackground\": true, \"ticks\": \"\", \"zerolinecolor\": \"white\"}, \"zaxis\": {\"backgroundcolor\": \"#E5ECF6\", \"gridcolor\": \"white\", \"gridwidth\": 2, \"linecolor\": \"white\", \"showbackground\": true, \"ticks\": \"\", \"zerolinecolor\": \"white\"}}, \"shapedefaults\": {\"line\": {\"color\": \"#2a3f5f\"}}, \"ternary\": {\"aaxis\": {\"gridcolor\": \"white\", \"linecolor\": \"white\", \"ticks\": \"\"}, \"baxis\": {\"gridcolor\": \"white\", \"linecolor\": \"white\", \"ticks\": \"\"}, \"bgcolor\": \"#E5ECF6\", \"caxis\": {\"gridcolor\": \"white\", \"linecolor\": \"white\", \"ticks\": \"\"}}, \"title\": {\"x\": 0.05}, \"xaxis\": {\"automargin\": true, \"gridcolor\": \"white\", \"linecolor\": \"white\", \"ticks\": \"\", \"title\": {\"standoff\": 15}, \"zerolinecolor\": \"white\", \"zerolinewidth\": 2}, \"yaxis\": {\"automargin\": true, \"gridcolor\": \"white\", \"linecolor\": \"white\", \"ticks\": \"\", \"title\": {\"standoff\": 15}, \"zerolinecolor\": \"white\", \"zerolinewidth\": 2}}}, \"title\": {\"font\": {\"color\": \"#4D5663\"}}, \"xaxis\": {\"gridcolor\": \"#E1E5ED\", \"showgrid\": true, \"tickfont\": {\"color\": \"#4D5663\"}, \"title\": {\"font\": {\"color\": \"#4D5663\"}, \"text\": \"\"}, \"zerolinecolor\": \"#E1E5ED\"}, \"yaxis\": {\"gridcolor\": \"#E1E5ED\", \"showgrid\": true, \"tickfont\": {\"color\": \"#4D5663\"}, \"title\": {\"font\": {\"color\": \"#4D5663\"}, \"text\": \"\"}, \"zerolinecolor\": \"#E1E5ED\"}},\n",
       "                        {\"showLink\": true, \"linkText\": \"Export to plot.ly\", \"plotlyServerURL\": \"https://plot.ly\", \"responsive\": true}\n",
       "                    ).then(function(){\n",
       "                            \n",
       "var gd = document.getElementById('c833175a-5d9f-46e3-8227-cb21e5e57cd4');\n",
       "var x = new MutationObserver(function (mutations, observer) {{\n",
       "        var display = window.getComputedStyle(gd).display;\n",
       "        if (!display || display === 'none') {{\n",
       "            console.log([gd, 'removed!']);\n",
       "            Plotly.purge(gd);\n",
       "            observer.disconnect();\n",
       "        }}\n",
       "}});\n",
       "\n",
       "// Listen for the removal of the full notebook cells\n",
       "var notebookContainer = gd.closest('#notebook-container');\n",
       "if (notebookContainer) {{\n",
       "    x.observe(notebookContainer, {childList: true});\n",
       "}}\n",
       "\n",
       "// Listen for the clearing of the current output cell\n",
       "var outputEl = gd.closest('.output');\n",
       "if (outputEl) {{\n",
       "    x.observe(outputEl, {childList: true});\n",
       "}}\n",
       "\n",
       "                        })\n",
       "                };\n",
       "                });\n",
       "            </script>\n",
       "        </div>"
      ]
     },
     "metadata": {},
     "output_type": "display_data"
    }
   ],
   "source": [
    "returns.loc['2020-06-19':'2020-01-01'].iplot(kind='hist')"
   ]
  },
  {
   "cell_type": "markdown",
   "metadata": {},
   "source": [
    "# PAIRPLOT, Take a lot of time"
   ]
  },
  {
   "cell_type": "code",
   "execution_count": 32,
   "metadata": {},
   "outputs": [
    {
     "data": {
      "text/plain": [
       "<seaborn.axisgrid.PairGrid at 0x26350699888>"
      ]
     },
     "execution_count": 32,
     "metadata": {},
     "output_type": "execute_result"
    },
    {
     "data": {
      "image/png": "[encoded data removed]",
      "text/plain": [
       "<Figure size 1080x1080 with 42 Axes>"
      ]
     },
     "metadata": {
      "needs_background": "light"
     },
     "output_type": "display_data"
    }
   ],
   "source": [
    "sns.pairplot(returns)"
   ]
  },
  {
   "cell_type": "markdown",
   "metadata": {},
   "source": [
    "** Using this returns DataFrame, figure out on what dates each bank stock had the best and worst single day returns. You should notice that All of the banks share the same day for the worst drop, did anything significant happen that day?**"
   ]
  },
  {
   "cell_type": "markdown",
   "metadata": {},
   "source": [
    "# Corona Crisis"
   ]
  },
  {
   "cell_type": "markdown",
   "metadata": {},
   "source": [
    "### Dates of Minimum Closing Price"
   ]
  },
  {
   "cell_type": "code",
   "execution_count": 33,
   "metadata": {},
   "outputs": [
    {
     "data": {
      "text/plain": [
       "BAC Return   2020-03-12\n",
       "C Return     2020-03-12\n",
       "GS Return    2020-03-12\n",
       "JPM Return   2020-03-12\n",
       "MS Return    2020-03-12\n",
       "WFC Return   2020-03-23\n",
       "dtype: datetime64[ns]"
      ]
     },
     "execution_count": 33,
     "metadata": {},
     "output_type": "execute_result"
    }
   ],
   "source": [
    "returns.idxmin()"
   ]
  },
  {
   "cell_type": "markdown",
   "metadata": {},
   "source": [
    "** You should have noticed that Each group's largest drop and biggest gain were very close to one another, did anythign significant happen in that time frame? **"
   ]
  },
  {
   "cell_type": "markdown",
   "metadata": {},
   "source": [
    "### Dates of Maximun Closing Price"
   ]
  },
  {
   "cell_type": "code",
   "execution_count": 34,
   "metadata": {},
   "outputs": [
    {
     "data": {
      "text/plain": [
       "BAC Return   2020-03-13\n",
       "C Return     2020-03-13\n",
       "GS Return    2020-03-13\n",
       "JPM Return   2020-03-13\n",
       "MS Return    2020-03-13\n",
       "WFC Return   2020-03-11\n",
       "dtype: datetime64[ns]"
      ]
     },
     "execution_count": 34,
     "metadata": {},
     "output_type": "execute_result"
    }
   ],
   "source": [
    "returns.idxmax()"
   ]
  },
  {
   "cell_type": "markdown",
   "metadata": {},
   "source": [
    "** Take a look at the standard deviation of the returns, which stock would you classify as the riskiest over the entire time period? Which would you classify as the riskiest for the year 2019 - 2020?**"
   ]
  },
  {
   "cell_type": "markdown",
   "metadata": {},
   "source": [
    "# Riskiest Stock All Time"
   ]
  },
  {
   "cell_type": "code",
   "execution_count": 35,
   "metadata": {},
   "outputs": [
    {
     "data": {
      "text/plain": [
       "BAC Return    0.021538\n",
       "C Return      0.023390\n",
       "GS Return     0.019674\n",
       "JPM Return    0.018699\n",
       "MS Return     0.021848\n",
       "WFC Return    0.020092\n",
       "dtype: float64"
      ]
     },
     "execution_count": 35,
     "metadata": {},
     "output_type": "execute_result"
    }
   ],
   "source": [
    "returns.std()"
   ]
  },
  {
   "cell_type": "markdown",
   "metadata": {},
   "source": [
    "# Riskiest From 2019 - 2020"
   ]
  },
  {
   "cell_type": "code",
   "execution_count": 36,
   "metadata": {},
   "outputs": [
    {
     "data": {
      "text/plain": [
       "BAC Return    0.029834\n",
       "C Return      0.035130\n",
       "GS Return     0.027173\n",
       "JPM Return    0.027146\n",
       "MS Return     0.029722\n",
       "WFC Return    0.030143\n",
       "dtype: float64"
      ]
     },
     "execution_count": 36,
     "metadata": {},
     "output_type": "execute_result"
    }
   ],
   "source": [
    "returns.loc['2020-06-19':'2019-01-01'].std()     # 1 January 2019  to 19 june 2020"
   ]
  },
  {
   "cell_type": "markdown",
   "metadata": {},
   "source": [
    "### WFC Distplot"
   ]
  },
  {
   "cell_type": "markdown",
   "metadata": {},
   "source": [
    "** Create a distplot using seaborn of the 2019 - 2020 returns for Wells Fargo **"
   ]
  },
  {
   "cell_type": "code",
   "execution_count": 37,
   "metadata": {},
   "outputs": [
    {
     "data": {
      "text/plain": [
       "<matplotlib.axes._subplots.AxesSubplot at 0x26352089188>"
      ]
     },
     "execution_count": 37,
     "metadata": {},
     "output_type": "execute_result"
    },
    {
     "data": {
      "image/png": "[encoded data removed]",
      "text/plain": [
       "<Figure size 432x288 with 1 Axes>"
      ]
     },
     "metadata": {
      "needs_background": "light"
     },
     "output_type": "display_data"
    }
   ],
   "source": [
    "WFC19_20 = returns['WFC Return'].loc['2020-06-19':'2019-01-01']\n",
    "sns.distplot(WFC19_20, bins=100, color='green')"
   ]
  },
  {
   "cell_type": "markdown",
   "metadata": {},
   "source": [
    "____\n",
    "# More Visualization\n",
    "\n",
    "A lot of this project will focus on visualizations. Feel free to use any of your preferred visualization libraries to try to recreate the described plots below, seaborn, matplotlib, plotly and cufflinks, or just pandas.\n"
   ]
  },
  {
   "cell_type": "markdown",
   "metadata": {},
   "source": [
    "** Create a line plot showing Close price for each bank for the entire index of time. (Hint: Try using a for loop, or use [.xs](http://pandas.pydata.org/pandas-docs/stable/generated/pandas.DataFrame.xs.html) to get a cross section of the data.)**"
   ]
  },
  {
   "cell_type": "markdown",
   "metadata": {},
   "source": [
    "### Line Chart of Stock Market Crisis"
   ]
  },
  {
   "cell_type": "code",
   "execution_count": 38,
   "metadata": {},
   "outputs": [
    {
     "data": {
      "application/vnd.plotly.v1+json": {
       "config": {
        "linkText": "Export to plot.ly",
        "plotlyServerURL": "https://plot.ly",
        "showLink": true
       },
       "data": [
        {
         "line": {
          "color": "rgba(255, 153, 51, 1.0)",
          "dash": "solid",
          "shape": "linear",
          "width": 1.3
         },
         "mode": "lines",
         "name": "BAC",
         "text": "",
         "type": "scatter",
         "x": [
          "2020-06-19",
          "2020-06-18",
          "2020-06-17",
          "2020-06-16",
          "2020-06-15",
          "2020-06-12",
          "2020-06-11",
          "2020-06-10",
          "2020-06-09",
          "2020-06-08",
          "2020-06-05",
          "2020-06-04",
          "2020-06-03",
          "2020-06-02",
          "2020-06-01",
          "2020-05-29",
          "2020-05-28",
          "2020-05-27",
          "2020-05-26",
          "2020-05-22",
          "2020-05-21",
          "2020-05-20",
          "2020-05-19",
          "2020-05-18",
          "2020-05-15",
          "2020-05-14",
          "2020-05-13",
          "2020-05-12",
          "2020-05-11",
          "2020-05-08",
          "2020-05-07",
          "2020-05-06",
          "2020-05-05",
          "2020-05-04",
          "2020-05-01",
          "2020-04-30",
          "2020-04-29",
          "2020-04-28",
          "2020-04-27",
          "2020-04-24",
          "2020-04-23",
          "2020-04-22",
          "2020-04-21",
          "2020-04-20",
          "2020-04-17",
          "2020-04-16",
          "2020-04-15",
          "2020-04-14",
          "2020-04-13",
          "2020-04-09",
          "2020-04-08",
          "2020-04-07",
          "2020-04-06",
          "2020-04-03",
          "2020-04-02",
          "2020-04-01",
          "2020-03-31",
          "2020-03-30",
          "2020-03-27",
          "2020-03-26",
          "2020-03-25",
          "2020-03-24",
          "2020-03-23",
          "2020-03-20",
          "2020-03-19",
          "2020-03-18",
          "2020-03-17",
          "2020-03-16",
          "2020-03-13",
          "2020-03-12",
          "2020-03-11",
          "2020-03-10",
          "2020-03-09",
          "2020-03-06",
          "2020-03-05",
          "2020-03-04",
          "2020-03-03",
          "2020-03-02",
          "2020-02-28",
          "2020-02-27",
          "2020-02-26",
          "2020-02-25",
          "2020-02-24",
          "2020-02-21",
          "2020-02-20",
          "2020-02-19",
          "2020-02-18",
          "2020-02-14",
          "2020-02-13",
          "2020-02-12",
          "2020-02-11",
          "2020-02-10",
          "2020-02-07",
          "2020-02-06",
          "2020-02-05",
          "2020-02-04",
          "2020-02-03",
          "2020-01-31",
          "2020-01-30",
          "2020-01-29",
          "2020-01-28",
          "2020-01-27",
          "2020-01-24",
          "2020-01-23",
          "2020-01-22",
          "2020-01-21",
          "2020-01-17",
          "2020-01-16",
          "2020-01-15",
          "2020-01-14",
          "2020-01-13",
          "2020-01-10",
          "2020-01-09",
          "2020-01-08",
          "2020-01-07",
          "2020-01-06",
          "2020-01-03",
          "2020-01-02",
          "2019-12-31",
          "2019-12-30",
          "2019-12-27",
          "2019-12-26",
          "2019-12-24",
          "2019-12-23",
          "2019-12-20",
          "2019-12-19",
          "2019-12-18",
          "2019-12-17",
          "2019-12-16",
          "2019-12-13",
          "2019-12-12",
          "2019-12-11",
          "2019-12-10",
          "2019-12-09",
          "2019-12-06",
          "2019-12-05",
          "2019-12-04",
          "2019-12-03",
          "2019-12-02",
          "2019-11-29",
          "2019-11-27",
          "2019-11-26",
          "2019-11-25",
          "2019-11-22",
          "2019-11-21",
          "2019-11-20",
          "2019-11-19",
          "2019-11-18",
          "2019-11-15",
          "2019-11-14",
          "2019-11-13",
          "2019-11-12",
          "2019-11-11",
          "2019-11-08",
          "2019-11-07",
          "2019-11-06",
          "2019-11-05",
          "2019-11-04",
          "2019-11-01",
          "2019-10-31",
          "2019-10-30",
          "2019-10-29",
          "2019-10-28",
          "2019-10-25",
          "2019-10-24",
          "2019-10-23",
          "2019-10-22",
          "2019-10-21",
          "2019-10-18",
          "2019-10-17",
          "2019-10-16",
          "2019-10-15",
          "2019-10-14",
          "2019-10-11",
          "2019-10-10",
          "2019-10-09",
          "2019-10-08",
          "2019-10-07",
          "2019-10-04",
          "2019-10-03",
          "2019-10-02",
          "2019-10-01",
          "2019-09-30",
          "2019-09-27",
          "2019-09-26",
          "2019-09-25",
          "2019-09-24",
          "2019-09-23",
          "2019-09-20",
          "2019-09-19",
          "2019-09-18",
          "2019-09-17",
          "2019-09-16",
          "2019-09-13",
          "2019-09-12",
          "2019-09-11",
          "2019-09-10",
          "2019-09-09",
          "2019-09-06",
          "2019-09-05",
          "2019-09-04",
          "2019-09-03",
          "2019-08-30",
          "2019-08-29",
          "2019-08-28",
          "2019-08-27",
          "2019-08-26",
          "2019-08-23",
          "2019-08-22",
          "2019-08-21",
          "2019-08-20",
          "2019-08-19",
          "2019-08-16",
          "2019-08-15",
          "2019-08-14",
          "2019-08-13",
          "2019-08-12",
          "2019-08-09",
          "2019-08-08",
          "2019-08-07",
          "2019-08-06",
          "2019-08-05",
          "2019-08-02",
          "2019-08-01",
          "2019-07-31",
          "2019-07-30",
          "2019-07-29",
          "2019-07-26",
          "2019-07-25",
          "2019-07-24",
          "2019-07-23",
          "2019-07-22",
          "2019-07-19",
          "2019-07-18",
          "2019-07-17",
          "2019-07-16",
          "2019-07-15",
          "2019-07-12",
          "2019-07-11",
          "2019-07-10",
          "2019-07-09",
          "2019-07-08",
          "2019-07-05",
          "2019-07-03",
          "2019-07-02",
          "2019-07-01",
          "2019-06-28",
          "2019-06-27",
          "2019-06-26",
          "2019-06-25",
          "2019-06-24",
          "2019-06-21",
          "2019-06-20",
          "2019-06-19",
          "2019-06-18",
          "2019-06-17",
          "2019-06-14",
          "2019-06-13",
          "2019-06-12",
          "2019-06-11",
          "2019-06-10",
          "2019-06-07",
          "2019-06-06",
          "2019-06-05",
          "2019-06-04",
          "2019-06-03",
          "2019-05-31",
          "2019-05-30",
          "2019-05-29",
          "2019-05-28",
          "2019-05-24",
          "2019-05-23",
          "2019-05-22",
          "2019-05-21",
          "2019-05-20",
          "2019-05-17",
          "2019-05-16",
          "2019-05-15",
          "2019-05-14",
          "2019-05-13",
          "2019-05-10",
          "2019-05-09",
          "2019-05-08",
          "2019-05-07",
          "2019-05-06",
          "2019-05-03",
          "2019-05-02",
          "2019-05-01",
          "2019-04-30",
          "2019-04-29",
          "2019-04-26",
          "2019-04-25",
          "2019-04-24",
          "2019-04-23",
          "2019-04-22",
          "2019-04-18",
          "2019-04-17",
          "2019-04-16",
          "2019-04-15",
          "2019-04-12",
          "2019-04-11",
          "2019-04-10",
          "2019-04-09",
          "2019-04-08",
          "2019-04-05",
          "2019-04-04",
          "2019-04-03",
          "2019-04-02",
          "2019-04-01",
          "2019-03-29",
          "2019-03-28",
          "2019-03-27",
          "2019-03-26",
          "2019-03-25",
          "2019-03-22",
          "2019-03-21",
          "2019-03-20",
          "2019-03-19",
          "2019-03-18",
          "2019-03-15",
          "2019-03-14",
          "2019-03-13",
          "2019-03-12",
          "2019-03-11",
          "2019-03-08",
          "2019-03-07",
          "2019-03-06",
          "2019-03-05",
          "2019-03-04",
          "2019-03-01",
          "2019-02-28",
          "2019-02-27",
          "2019-02-26",
          "2019-02-25",
          "2019-02-22",
          "2019-02-21",
          "2019-02-20",
          "2019-02-19",
          "2019-02-15",
          "2019-02-14",
          "2019-02-13",
          "2019-02-12",
          "2019-02-11",
          "2019-02-08",
          "2019-02-07",
          "2019-02-06",
          "2019-02-05",
          "2019-02-04",
          "2019-02-01",
          "2019-01-31",
          "2019-01-30",
          "2019-01-29",
          "2019-01-28",
          "2019-01-25",
          "2019-01-24",
          "2019-01-23",
          "2019-01-22",
          "2019-01-18",
          "2019-01-17",
          "2019-01-16",
          "2019-01-15",
          "2019-01-14",
          "2019-01-11",
          "2019-01-10",
          "2019-01-09",
          "2019-01-08",
          "2019-01-07",
          "2019-01-04",
          "2019-01-03",
          "2019-01-02"
         ],
         "y": [
          25.25,
          25.04,
          25,
          25.8,
          25.15,
          24.78,
          23.93,
          26.6,
          28.22,
          28.54,
          28.11,
          26.78,
          25.81,
          24.668000000000003,
          24.44,
          23.953000000000003,
          24.688000000000002,
          25.8,
          24.112,
          22.503,
          22.741,
          22.750999999999998,
          22.055999999999997,
          22.771,
          21.291999999999998,
          21.56,
          20.725,
          21.719,
          22.424,
          23.406999999999996,
          22.682,
          22.195,
          22.503,
          22.771,
          22.92,
          23.883000000000003,
          24.608,
          23.725,
          23.307,
          22.026,
          21.719,
          21.649,
          21.49,
          22.344,
          23.119,
          21.272,
          22.035999999999998,
          23.566,
          23.754,
          24.688000000000002,
          23.288,
          21.987,
          21.241999999999997,
          19.891,
          20.428,
          19.633,
          21.083000000000002,
          21.886999999999997,
          21.45,
          22.563000000000002,
          20.954,
          20.884,
          17.955,
          19.534000000000002,
          21.053,
          20.646,
          21.828000000000003,
          20.298,
          23.993000000000002,
          20.368,
          22.513,
          23.445999999999998,
          21.778000000000002,
          25.531999999999996,
          26.595,
          28.015,
          27.383000000000003,
          28.982,
          28.123,
          28.745,
          30.225,
          30.669,
          32.297,
          33.906,
          34.389,
          34.260999999999996,
          33.817,
          34.389,
          34.449,
          34.459,
          34.311,
          34.231,
          34.153,
          34.211,
          34.251,
          33.176,
          32.534,
          32.396,
          33.038000000000004,
          32.574,
          32.8,
          32.416,
          33.096,
          33.669000000000004,
          33.906,
          33.806999999999995,
          34.251,
          34.260999999999996,
          34.211,
          34.853,
          34.597,
          34.281,
          34.567,
          34.507,
          34.163000000000004,
          34.389,
          34.439,
          35.169000000000004,
          34.755,
          34.685,
          34.883,
          35.051,
          34.755,
          34.705,
          34.497,
          34.486999999999995,
          34.645,
          34.577,
          34.241,
          33.985,
          34.221,
          33.195,
          33.086,
          33.067,
          33.225,
          32.652,
          32.534,
          32.23,
          32.808,
          32.701,
          32.799,
          32.731,
          32.848,
          32.564,
          32.23,
          32.082,
          32.328,
          32.347,
          32.318000000000005,
          32.092,
          32.181,
          32.475,
          32.564,
          32.641,
          32.613,
          32.181,
          32.21,
          31.798000000000002,
          31.208000000000002,
          30.689,
          31.033,
          31.474,
          31.248,
          31.131,
          30.776999999999997,
          30.836,
          30.62,
          30.444000000000003,
          29.785999999999998,
          29.698,
          29.61,
          29.179000000000002,
          28.599,
          28.373,
          27.921999999999997,
          27.372,
          27.116999999999997,
          27.783,
          27.843000000000004,
          27.294,
          27.322,
          27.912,
          28.628,
          28.805,
          28.589000000000002,
          28.706999999999997,
          28.403000000000002,
          28.971999999999998,
          29.039,
          29.266,
          29.443,
          29.383000000000003,
          29.57,
          29.61,
          29.119,
          28.912,
          28.805,
          28.098000000000003,
          27.214000000000002,
          27.598000000000003,
          26.803,
          26.374000000000002,
          26.823,
          26.647,
          26.178,
          25.808000000000003,
          26.111,
          25.808000000000003,
          26.51,
          26.256999999999998,
          26.052,
          26.588,
          26.354,
          25.594,
          25.758000000000003,
          27.026,
          26.949,
          27.621,
          27.67,
          27.191999999999997,
          27.71,
          27.378,
          28.646,
          28.752,
          29.913,
          30.116999999999997,
          29.756,
          30.000999999999998,
          29.581,
          29.903000000000002,
          29.493000000000002,
          28.83,
          28.664,
          28.743000000000002,
          28.461,
          28.265,
          28.489,
          28.714000000000002,
          28.625999999999998,
          28.294,
          28.616,
          28.469,
          28.528000000000002,
          28.323,
          28.421,
          28.684,
          28.275,
          27.504,
          27.211,
          27.065,
          27.281,
          27.416999999999998,
          27.564,
          27.612,
          27.905,
          27.230999999999998,
          27.338,
          27.241,
          27.250999999999998,
          27.534000000000002,
          27.368000000000002,
          26.842,
          27.182,
          27.065,
          27.075,
          25.874000000000002,
          25.795,
          26.338,
          26.91,
          27.055,
          27.326999999999998,
          26.92,
          27.627,
          27.822,
          27.541,
          27.541,
          27.726,
          27.435,
          27.754,
          27.395,
          28.685,
          28.811999999999998,
          28.898000000000003,
          29.015,
          29.549,
          29.781,
          29.576999999999998,
          29.344,
          29.655,
          29.84,
          29.432,
          29.171,
          29.112,
          29.160999999999998,
          29.141,
          29.122,
          29.122,
          28.976,
          28.938000000000002,
          29.258000000000003,
          28.191,
          28.191,
          28.017,
          28.287,
          28.201,
          28.268,
          27.967,
          27.997,
          27.677,
          26.755,
          26.503,
          26.213,
          26.386999999999997,
          26.028000000000002,
          26.193,
          27.326999999999998,
          27.773000000000003,
          28.753,
          28.918000000000003,
          28.414,
          28.569000000000003,
          28.404,
          28.065,
          28.065,
          27.781999999999996,
          27.686999999999998,
          27.967,
          28.201,
          28.151999999999997,
          28.423000000000002,
          28.201,
          28.491,
          28.259,
          28.24,
          28.058000000000003,
          28.259,
          28.375999999999998,
          28.105,
          28.086,
          27.391,
          27.691,
          27.680999999999997,
          27.410999999999998,
          27.296,
          27.247,
          27.72,
          27.768,
          27.865,
          27.381999999999998,
          27.469,
          28.048000000000002,
          28.357,
          28.588,
          28.54,
          28.058000000000003,
          27.903000000000002,
          28.066999999999997,
          28.269000000000002,
          27.97,
          27.45,
          25.615,
          25.443,
          25.115,
          24.824,
          24.853,
          24.613000000000003,
          24.660999999999998,
          24.679000000000002,
          23.697,
          24.081999999999997
         ]
        },
        {
         "line": {
          "color": "rgba(55, 128, 191, 1.0)",
          "dash": "solid",
          "shape": "linear",
          "width": 1.3
         },
         "mode": "lines",
         "name": "C",
         "text": "",
         "type": "scatter",
         "x": [
          "2020-06-19",
          "2020-06-18",
          "2020-06-17",
          "2020-06-16",
          "2020-06-15",
          "2020-06-12",
          "2020-06-11",
          "2020-06-10",
          "2020-06-09",
          "2020-06-08",
          "2020-06-05",
          "2020-06-04",
          "2020-06-03",
          "2020-06-02",
          "2020-06-01",
          "2020-05-29",
          "2020-05-28",
          "2020-05-27",
          "2020-05-26",
          "2020-05-22",
          "2020-05-21",
          "2020-05-20",
          "2020-05-19",
          "2020-05-18",
          "2020-05-15",
          "2020-05-14",
          "2020-05-13",
          "2020-05-12",
          "2020-05-11",
          "2020-05-08",
          "2020-05-07",
          "2020-05-06",
          "2020-05-05",
          "2020-05-04",
          "2020-05-01",
          "2020-04-30",
          "2020-04-29",
          "2020-04-28",
          "2020-04-27",
          "2020-04-24",
          "2020-04-23",
          "2020-04-22",
          "2020-04-21",
          "2020-04-20",
          "2020-04-17",
          "2020-04-16",
          "2020-04-15",
          "2020-04-14",
          "2020-04-13",
          "2020-04-09",
          "2020-04-08",
          "2020-04-07",
          "2020-04-06",
          "2020-04-03",
          "2020-04-02",
          "2020-04-01",
          "2020-03-31",
          "2020-03-30",
          "2020-03-27",
          "2020-03-26",
          "2020-03-25",
          "2020-03-24",
          "2020-03-23",
          "2020-03-20",
          "2020-03-19",
          "2020-03-18",
          "2020-03-17",
          "2020-03-16",
          "2020-03-13",
          "2020-03-12",
          "2020-03-11",
          "2020-03-10",
          "2020-03-09",
          "2020-03-06",
          "2020-03-05",
          "2020-03-04",
          "2020-03-03",
          "2020-03-02",
          "2020-02-28",
          "2020-02-27",
          "2020-02-26",
          "2020-02-25",
          "2020-02-24",
          "2020-02-21",
          "2020-02-20",
          "2020-02-19",
          "2020-02-18",
          "2020-02-14",
          "2020-02-13",
          "2020-02-12",
          "2020-02-11",
          "2020-02-10",
          "2020-02-07",
          "2020-02-06",
          "2020-02-05",
          "2020-02-04",
          "2020-02-03",
          "2020-01-31",
          "2020-01-30",
          "2020-01-29",
          "2020-01-28",
          "2020-01-27",
          "2020-01-24",
          "2020-01-23",
          "2020-01-22",
          "2020-01-21",
          "2020-01-17",
          "2020-01-16",
          "2020-01-15",
          "2020-01-14",
          "2020-01-13",
          "2020-01-10",
          "2020-01-09",
          "2020-01-08",
          "2020-01-07",
          "2020-01-06",
          "2020-01-03",
          "2020-01-02",
          "2019-12-31",
          "2019-12-30",
          "2019-12-27",
          "2019-12-26",
          "2019-12-24",
          "2019-12-23",
          "2019-12-20",
          "2019-12-19",
          "2019-12-18",
          "2019-12-17",
          "2019-12-16",
          "2019-12-13",
          "2019-12-12",
          "2019-12-11",
          "2019-12-10",
          "2019-12-09",
          "2019-12-06",
          "2019-12-05",
          "2019-12-04",
          "2019-12-03",
          "2019-12-02",
          "2019-11-29",
          "2019-11-27",
          "2019-11-26",
          "2019-11-25",
          "2019-11-22",
          "2019-11-21",
          "2019-11-20",
          "2019-11-19",
          "2019-11-18",
          "2019-11-15",
          "2019-11-14",
          "2019-11-13",
          "2019-11-12",
          "2019-11-11",
          "2019-11-08",
          "2019-11-07",
          "2019-11-06",
          "2019-11-05",
          "2019-11-04",
          "2019-11-01",
          "2019-10-31",
          "2019-10-30",
          "2019-10-29",
          "2019-10-28",
          "2019-10-25",
          "2019-10-24",
          "2019-10-23",
          "2019-10-22",
          "2019-10-21",
          "2019-10-18",
          "2019-10-17",
          "2019-10-16",
          "2019-10-15",
          "2019-10-14",
          "2019-10-11",
          "2019-10-10",
          "2019-10-09",
          "2019-10-08",
          "2019-10-07",
          "2019-10-04",
          "2019-10-03",
          "2019-10-02",
          "2019-10-01",
          "2019-09-30",
          "2019-09-27",
          "2019-09-26",
          "2019-09-25",
          "2019-09-24",
          "2019-09-23",
          "2019-09-20",
          "2019-09-19",
          "2019-09-18",
          "2019-09-17",
          "2019-09-16",
          "2019-09-13",
          "2019-09-12",
          "2019-09-11",
          "2019-09-10",
          "2019-09-09",
          "2019-09-06",
          "2019-09-05",
          "2019-09-04",
          "2019-09-03",
          "2019-08-30",
          "2019-08-29",
          "2019-08-28",
          "2019-08-27",
          "2019-08-26",
          "2019-08-23",
          "2019-08-22",
          "2019-08-21",
          "2019-08-20",
          "2019-08-19",
          "2019-08-16",
          "2019-08-15",
          "2019-08-14",
          "2019-08-13",
          "2019-08-12",
          "2019-08-09",
          "2019-08-08",
          "2019-08-07",
          "2019-08-06",
          "2019-08-05",
          "2019-08-02",
          "2019-08-01",
          "2019-07-31",
          "2019-07-30",
          "2019-07-29",
          "2019-07-26",
          "2019-07-25",
          "2019-07-24",
          "2019-07-23",
          "2019-07-22",
          "2019-07-19",
          "2019-07-18",
          "2019-07-17",
          "2019-07-16",
          "2019-07-15",
          "2019-07-12",
          "2019-07-11",
          "2019-07-10",
          "2019-07-09",
          "2019-07-08",
          "2019-07-05",
          "2019-07-03",
          "2019-07-02",
          "2019-07-01",
          "2019-06-28",
          "2019-06-27",
          "2019-06-26",
          "2019-06-25",
          "2019-06-24",
          "2019-06-21",
          "2019-06-20",
          "2019-06-19",
          "2019-06-18",
          "2019-06-17",
          "2019-06-14",
          "2019-06-13",
          "2019-06-12",
          "2019-06-11",
          "2019-06-10",
          "2019-06-07",
          "2019-06-06",
          "2019-06-05",
          "2019-06-04",
          "2019-06-03",
          "2019-05-31",
          "2019-05-30",
          "2019-05-29",
          "2019-05-28",
          "2019-05-24",
          "2019-05-23",
          "2019-05-22",
          "2019-05-21",
          "2019-05-20",
          "2019-05-17",
          "2019-05-16",
          "2019-05-15",
          "2019-05-14",
          "2019-05-13",
          "2019-05-10",
          "2019-05-09",
          "2019-05-08",
          "2019-05-07",
          "2019-05-06",
          "2019-05-03",
          "2019-05-02",
          "2019-05-01",
          "2019-04-30",
          "2019-04-29",
          "2019-04-26",
          "2019-04-25",
          "2019-04-24",
          "2019-04-23",
          "2019-04-22",
          "2019-04-18",
          "2019-04-17",
          "2019-04-16",
          "2019-04-15",
          "2019-04-12",
          "2019-04-11",
          "2019-04-10",
          "2019-04-09",
          "2019-04-08",
          "2019-04-05",
          "2019-04-04",
          "2019-04-03",
          "2019-04-02",
          "2019-04-01",
          "2019-03-29",
          "2019-03-28",
          "2019-03-27",
          "2019-03-26",
          "2019-03-25",
          "2019-03-22",
          "2019-03-21",
          "2019-03-20",
          "2019-03-19",
          "2019-03-18",
          "2019-03-15",
          "2019-03-14",
          "2019-03-13",
          "2019-03-12",
          "2019-03-11",
          "2019-03-08",
          "2019-03-07",
          "2019-03-06",
          "2019-03-05",
          "2019-03-04",
          "2019-03-01",
          "2019-02-28",
          "2019-02-27",
          "2019-02-26",
          "2019-02-25",
          "2019-02-22",
          "2019-02-21",
          "2019-02-20",
          "2019-02-19",
          "2019-02-15",
          "2019-02-14",
          "2019-02-13",
          "2019-02-12",
          "2019-02-11",
          "2019-02-08",
          "2019-02-07",
          "2019-02-06",
          "2019-02-05",
          "2019-02-04",
          "2019-02-01",
          "2019-01-31",
          "2019-01-30",
          "2019-01-29",
          "2019-01-28",
          "2019-01-25",
          "2019-01-24",
          "2019-01-23",
          "2019-01-22",
          "2019-01-18",
          "2019-01-17",
          "2019-01-16",
          "2019-01-15",
          "2019-01-14",
          "2019-01-11",
          "2019-01-10",
          "2019-01-09",
          "2019-01-08",
          "2019-01-07",
          "2019-01-04",
          "2019-01-03",
          "2019-01-02"
         ],
         "y": [
          52.92,
          53.04,
          53,
          54.45,
          52.98,
          52.25,
          48.39,
          55.86,
          59.5,
          61.24,
          58.86,
          55.65,
          53.34,
          50.84,
          49.45,
          47.91,
          49.16,
          52.26,
          48.17,
          44.1,
          45,
          45.47,
          44.43,
          45.67,
          41.92,
          42.06,
          40.6,
          42.35,
          44.07,
          46.32,
          44.64,
          42.95,
          43.95,
          45.12,
          45.52,
          48.05,
          49.732,
          46.714,
          46.071000000000005,
          42.647,
          42.013999999999996,
          41.79600000000001,
          41.133,
          43.548,
          44.973,
          40.094,
          42.41,
          44.943000000000005,
          46.19,
          46.912,
          43.795,
          40.817,
          40.688,
          37.096,
          38.818000000000005,
          38.106,
          41.678000000000004,
          43.617,
          43.34,
          45.537,
          41.42,
          40.233000000000004,
          35.018,
          37.66,
          39.224000000000004,
          36.047,
          39.827,
          40.757,
          50.504,
          42.806000000000004,
          50.257,
          54.996,
          50.83,
          60.636,
          62.823,
          66.682,
          64.367,
          66.88,
          62.794,
          63.773,
          67.464,
          68.70100000000001,
          71.768,
          75.637,
          77.398,
          77.23,
          76.765,
          77.96300000000001,
          78.17,
          78.497,
          78.259,
          77.656,
          77.86399999999999,
          78.141,
          78.02199999999999,
          75.697,
          74.34100000000001,
          73.62899999999999,
          76.112,
          75.178,
          75.925,
          75.405,
          77.085,
          78.441,
          78.736,
          78.54,
          79.74,
          79.62100000000001,
          79.857,
          80.515,
          79.278,
          77.90100000000001,
          78.717,
          78.009,
          77.419,
          78.098,
          78.343,
          79.848,
          78.53,
          78.156,
          78.314,
          78.471,
          77.252,
          77.419,
          77.17399999999999,
          76.869,
          76.594,
          76.417,
          75.601,
          75.09,
          75.73899999999999,
          74.264,
          74.49,
          74.048,
          74.52,
          73.439,
          72.967,
          72.082,
          73.252,
          73.84100000000001,
          74.431,
          74.176,
          74.392,
          73.596,
          72.642,
          72.652,
          73.546,
          73.134,
          73.134,
          72.584,
          72.652,
          73.793,
          74.313,
          74.825,
          74.52,
          73.154,
          73.556,
          73.87100000000001,
          72.584,
          70.13600000000001,
          71.219,
          71.336,
          71.825,
          71.414,
          70.565,
          70.711,
          70.332,
          70.086,
          68.067,
          67.93,
          67.832,
          69.51100000000001,
          68.554,
          68.418,
          66.973,
          65.811,
          64.807,
          66.514,
          66.544,
          65.1,
          64.671,
          66.514,
          67.422,
          67.793,
          67.452,
          67.715,
          66.271,
          67.881,
          67.686,
          68.057,
          68.40899999999999,
          67.813,
          68.154,
          68.70100000000001,
          67.637,
          67.24600000000001,
          67.324,
          67.139,
          64.388,
          64.748,
          62.738,
          61.898,
          62.805,
          62.36600000000001,
          60.863,
          60.18,
          61.215,
          60.463,
          62.376000000000005,
          61.732,
          61.898,
          62.766999999999996,
          61.956,
          59.849,
          59.93600000000001,
          63.273999999999994,
          62.718,
          64.465,
          65.139,
          63.577,
          64.661,
          63.61600000000001,
          65.988,
          66.212,
          68.934,
          69.468,
          69.516,
          69.904,
          69.157,
          70.726,
          69.73899999999999,
          68.885,
          68.702,
          69.544,
          68.605,
          69.09,
          69.468,
          69.524,
          69.37100000000001,
          68.905,
          69.322,
          68.905,
          69.167,
          68.634,
          68.237,
          68.528,
          67.839,
          66.018,
          65.117,
          64.459,
          65.301,
          65.844,
          65.97,
          65.476,
          65.854,
          64.459,
          65.369,
          64.98100000000001,
          64.719,
          65.757,
          65.02,
          63.636,
          64.392,
          63.723,
          63.818999999999996,
          60.652,
          60.206,
          61.62,
          61.717,
          61.795,
          62.376000000000005,
          61.901,
          62.638000000000005,
          64.014,
          62.927,
          63.035,
          63.917,
          62.841,
          63.218,
          62.36600000000001,
          65.77600000000001,
          65.515,
          66.086,
          66.028,
          68.208,
          68.459,
          67.723,
          67.33800000000001,
          68.051,
          68.368,
          66.905,
          66.154,
          66.251,
          66.607,
          66.5,
          67.058,
          67.71300000000001,
          66.71300000000001,
          64.854,
          64.893,
          63.44,
          63.06399999999999,
          62.757,
          63.593999999999994,
          63.093,
          63.353,
          62.622,
          62.006,
          61.948,
          59.888999999999996,
          59.657,
          58.455,
          58.926,
          58.07,
          58.695,
          61.515,
          61.89,
          63.17100000000001,
          63.458999999999996,
          62.748000000000005,
          61.708,
          61.265,
          60.455,
          59.974,
          59.735,
          59.581,
          60.167,
          60.571999999999996,
          61.361000000000004,
          62.053999999999995,
          61.582,
          61.986999999999995,
          61.717,
          62.111999999999995,
          61.736000000000004,
          61.91,
          62.218999999999994,
          61.967,
          61.861000000000004,
          60.08,
          60.678000000000004,
          60.321000000000005,
          59.302,
          59.68600000000001,
          60.455,
          61.495,
          61.418,
          61.66,
          61.284,
          61.611000000000004,
          61.382,
          60.418,
          61.027,
          61.191,
          59.938,
          59.38399999999999,
          59.117,
          60.33,
          59.708999999999996,
          59.442,
          58.667,
          56.326,
          54.185,
          53.946000000000005,
          53.888000000000005,
          53.01,
          53.153,
          52.693999999999996,
          50.236999999999995,
          51.163999999999994
         ]
        },
        {
         "line": {
          "color": "rgba(50, 171, 96, 1.0)",
          "dash": "solid",
          "shape": "linear",
          "width": 1.3
         },
         "mode": "lines",
         "name": "GS",
         "text": "",
         "type": "scatter",
         "x": [
          "2020-06-19",
          "2020-06-18",
          "2020-06-17",
          "2020-06-16",
          "2020-06-15",
          "2020-06-12",
          "2020-06-11",
          "2020-06-10",
          "2020-06-09",
          "2020-06-08",
          "2020-06-05",
          "2020-06-04",
          "2020-06-03",
          "2020-06-02",
          "2020-06-01",
          "2020-05-29",
          "2020-05-28",
          "2020-05-27",
          "2020-05-26",
          "2020-05-22",
          "2020-05-21",
          "2020-05-20",
          "2020-05-19",
          "2020-05-18",
          "2020-05-15",
          "2020-05-14",
          "2020-05-13",
          "2020-05-12",
          "2020-05-11",
          "2020-05-08",
          "2020-05-07",
          "2020-05-06",
          "2020-05-05",
          "2020-05-04",
          "2020-05-01",
          "2020-04-30",
          "2020-04-29",
          "2020-04-28",
          "2020-04-27",
          "2020-04-24",
          "2020-04-23",
          "2020-04-22",
          "2020-04-21",
          "2020-04-20",
          "2020-04-17",
          "2020-04-16",
          "2020-04-15",
          "2020-04-14",
          "2020-04-13",
          "2020-04-09",
          "2020-04-08",
          "2020-04-07",
          "2020-04-06",
          "2020-04-03",
          "2020-04-02",
          "2020-04-01",
          "2020-03-31",
          "2020-03-30",
          "2020-03-27",
          "2020-03-26",
          "2020-03-25",
          "2020-03-24",
          "2020-03-23",
          "2020-03-20",
          "2020-03-19",
          "2020-03-18",
          "2020-03-17",
          "2020-03-16",
          "2020-03-13",
          "2020-03-12",
          "2020-03-11",
          "2020-03-10",
          "2020-03-09",
          "2020-03-06",
          "2020-03-05",
          "2020-03-04",
          "2020-03-03",
          "2020-03-02",
          "2020-02-28",
          "2020-02-27",
          "2020-02-26",
          "2020-02-25",
          "2020-02-24",
          "2020-02-21",
          "2020-02-20",
          "2020-02-19",
          "2020-02-18",
          "2020-02-14",
          "2020-02-13",
          "2020-02-12",
          "2020-02-11",
          "2020-02-10",
          "2020-02-07",
          "2020-02-06",
          "2020-02-05",
          "2020-02-04",
          "2020-02-03",
          "2020-01-31",
          "2020-01-30",
          "2020-01-29",
          "2020-01-28",
          "2020-01-27",
          "2020-01-24",
          "2020-01-23",
          "2020-01-22",
          "2020-01-21",
          "2020-01-17",
          "2020-01-16",
          "2020-01-15",
          "2020-01-14",
          "2020-01-13",
          "2020-01-10",
          "2020-01-09",
          "2020-01-08",
          "2020-01-07",
          "2020-01-06",
          "2020-01-03",
          "2020-01-02",
          "2019-12-31",
          "2019-12-30",
          "2019-12-27",
          "2019-12-26",
          "2019-12-24",
          "2019-12-23",
          "2019-12-20",
          "2019-12-19",
          "2019-12-18",
          "2019-12-17",
          "2019-12-16",
          "2019-12-13",
          "2019-12-12",
          "2019-12-11",
          "2019-12-10",
          "2019-12-09",
          "2019-12-06",
          "2019-12-05",
          "2019-12-04",
          "2019-12-03",
          "2019-12-02",
          "2019-11-29",
          "2019-11-27",
          "2019-11-26",
          "2019-11-25",
          "2019-11-22",
          "2019-11-21",
          "2019-11-20",
          "2019-11-19",
          "2019-11-18",
          "2019-11-15",
          "2019-11-14",
          "2019-11-13",
          "2019-11-12",
          "2019-11-11",
          "2019-11-08",
          "2019-11-07",
          "2019-11-06",
          "2019-11-05",
          "2019-11-04",
          "2019-11-01",
          "2019-10-31",
          "2019-10-30",
          "2019-10-29",
          "2019-10-28",
          "2019-10-25",
          "2019-10-24",
          "2019-10-23",
          "2019-10-22",
          "2019-10-21",
          "2019-10-18",
          "2019-10-17",
          "2019-10-16",
          "2019-10-15",
          "2019-10-14",
          "2019-10-11",
          "2019-10-10",
          "2019-10-09",
          "2019-10-08",
          "2019-10-07",
          "2019-10-04",
          "2019-10-03",
          "2019-10-02",
          "2019-10-01",
          "2019-09-30",
          "2019-09-27",
          "2019-09-26",
          "2019-09-25",
          "2019-09-24",
          "2019-09-23",
          "2019-09-20",
          "2019-09-19",
          "2019-09-18",
          "2019-09-17",
          "2019-09-16",
          "2019-09-13",
          "2019-09-12",
          "2019-09-11",
          "2019-09-10",
          "2019-09-09",
          "2019-09-06",
          "2019-09-05",
          "2019-09-04",
          "2019-09-03",
          "2019-08-30",
          "2019-08-29",
          "2019-08-28",
          "2019-08-27",
          "2019-08-26",
          "2019-08-23",
          "2019-08-22",
          "2019-08-21",
          "2019-08-20",
          "2019-08-19",
          "2019-08-16",
          "2019-08-15",
          "2019-08-14",
          "2019-08-13",
          "2019-08-12",
          "2019-08-09",
          "2019-08-08",
          "2019-08-07",
          "2019-08-06",
          "2019-08-05",
          "2019-08-02",
          "2019-08-01",
          "2019-07-31",
          "2019-07-30",
          "2019-07-29",
          "2019-07-26",
          "2019-07-25",
          "2019-07-24",
          "2019-07-23",
          "2019-07-22",
          "2019-07-19",
          "2019-07-18",
          "2019-07-17",
          "2019-07-16",
          "2019-07-15",
          "2019-07-12",
          "2019-07-11",
          "2019-07-10",
          "2019-07-09",
          "2019-07-08",
          "2019-07-05",
          "2019-07-03",
          "2019-07-02",
          "2019-07-01",
          "2019-06-28",
          "2019-06-27",
          "2019-06-26",
          "2019-06-25",
          "2019-06-24",
          "2019-06-21",
          "2019-06-20",
          "2019-06-19",
          "2019-06-18",
          "2019-06-17",
          "2019-06-14",
          "2019-06-13",
          "2019-06-12",
          "2019-06-11",
          "2019-06-10",
          "2019-06-07",
          "2019-06-06",
          "2019-06-05",
          "2019-06-04",
          "2019-06-03",
          "2019-05-31",
          "2019-05-30",
          "2019-05-29",
          "2019-05-28",
          "2019-05-24",
          "2019-05-23",
          "2019-05-22",
          "2019-05-21",
          "2019-05-20",
          "2019-05-17",
          "2019-05-16",
          "2019-05-15",
          "2019-05-14",
          "2019-05-13",
          "2019-05-10",
          "2019-05-09",
          "2019-05-08",
          "2019-05-07",
          "2019-05-06",
          "2019-05-03",
          "2019-05-02",
          "2019-05-01",
          "2019-04-30",
          "2019-04-29",
          "2019-04-26",
          "2019-04-25",
          "2019-04-24",
          "2019-04-23",
          "2019-04-22",
          "2019-04-18",
          "2019-04-17",
          "2019-04-16",
          "2019-04-15",
          "2019-04-12",
          "2019-04-11",
          "2019-04-10",
          "2019-04-09",
          "2019-04-08",
          "2019-04-05",
          "2019-04-04",
          "2019-04-03",
          "2019-04-02",
          "2019-04-01",
          "2019-03-29",
          "2019-03-28",
          "2019-03-27",
          "2019-03-26",
          "2019-03-25",
          "2019-03-22",
          "2019-03-21",
          "2019-03-20",
          "2019-03-19",
          "2019-03-18",
          "2019-03-15",
          "2019-03-14",
          "2019-03-13",
          "2019-03-12",
          "2019-03-11",
          "2019-03-08",
          "2019-03-07",
          "2019-03-06",
          "2019-03-05",
          "2019-03-04",
          "2019-03-01",
          "2019-02-28",
          "2019-02-27",
          "2019-02-26",
          "2019-02-25",
          "2019-02-22",
          "2019-02-21",
          "2019-02-20",
          "2019-02-19",
          "2019-02-15",
          "2019-02-14",
          "2019-02-13",
          "2019-02-12",
          "2019-02-11",
          "2019-02-08",
          "2019-02-07",
          "2019-02-06",
          "2019-02-05",
          "2019-02-04",
          "2019-02-01",
          "2019-01-31",
          "2019-01-30",
          "2019-01-29",
          "2019-01-28",
          "2019-01-25",
          "2019-01-24",
          "2019-01-23",
          "2019-01-22",
          "2019-01-18",
          "2019-01-17",
          "2019-01-16",
          "2019-01-15",
          "2019-01-14",
          "2019-01-11",
          "2019-01-10",
          "2019-01-09",
          "2019-01-08",
          "2019-01-07",
          "2019-01-04",
          "2019-01-03",
          "2019-01-02"
         ],
         "y": [
          201.63,
          203.84,
          206.19,
          209.59,
          206.31,
          201.78,
          194.13,
          213.52,
          218.1,
          220.81,
          217.92,
          214.82,
          210.57,
          204.14,
          199.93,
          196.49,
          199.97,
          208.36,
          194.84,
          178.81,
          178.98,
          180.31,
          176.73,
          180.75,
          170.8,
          173.37,
          170.73,
          176.11,
          182.02,
          184.24,
          181.19,
          175.82,
          177.19,
          174.94,
          176,
          182.28,
          188.85,
          185.85,
          182.4,
          175.9,
          173.96,
          174.89,
          172.73,
          179.28,
          182.35,
          175.94,
          177.41,
          177.12,
          178.07,
          183.12,
          175.86,
          164.99,
          157.25,
          146.02,
          149,
          144.39,
          153.63,
          158.63,
          157.36,
          164.76,
          154.17,
          152.65,
          134.13,
          137.55,
          148.56,
          139.15,
          157.68,
          153.7,
          176.07,
          149.74,
          170.82,
          183.2,
          171.74,
          191.65,
          197.56,
          207.44,
          202.17,
          208.17,
          199.52,
          203.17,
          213.14,
          214.95,
          221.79,
          227.8,
          229.88,
          234.42,
          230.35,
          234.18,
          235.43,
          235.73,
          233.56,
          234.45,
          235.08,
          238.86,
          241.31,
          238.98,
          236.08,
          234.84,
          241.14,
          237.18,
          239.61,
          235.22,
          238.96,
          242.57,
          244.02,
          242.69,
          246.4,
          246.66,
          242.21,
          242.65,
          242.21,
          239.15,
          239.63,
          234.85,
          232.61,
          231.09,
          228.74,
          231.45,
          227.11,
          226.98,
          227.84,
          228.37,
          227.09,
          226.29,
          226.13,
          227.12,
          227.63,
          228.32,
          225.24,
          222.24,
          223.28,
          218.48,
          219.16,
          219.09,
          221.86,
          214.48,
          213.3,
          209.64,
          214.98,
          218.63,
          218.98,
          218.49,
          218.78,
          216.36,
          214.35,
          214.03,
          216.13,
          215.82,
          216.34,
          215.52,
          215.41,
          216.49,
          215.14,
          218.94,
          219.32,
          214.54,
          214.75,
          215.96,
          213.53,
          209.58,
          211.97,
          213.76,
          213.87,
          210.42,
          207.29,
          207.56,
          205.86,
          205.54,
          202.84,
          202.78,
          203.74,
          202.78,
          202.17,
          201.03,
          196.31,
          193.35,
          193.86,
          196.84,
          197.23,
          193.73,
          194.72,
          199.09,
          203.55,
          205.26,
          204.51,
          206.29,
          204.05,
          209.66,
          209.94,
          211.4,
          213.22,
          212.07,
          213.36,
          215.99,
          214.85,
          212.94,
          211.8,
          208.21,
          203.53,
          203.37,
          198.14,
          195.43,
          200.29,
          199.82,
          195.63,
          193.33,
          194.87,
          191.51,
          197.57,
          195.88,
          195.2,
          197.37,
          194.65,
          191.49,
          190.89,
          199.22,
          196.7,
          201.96,
          202.06,
          200.81,
          201.08,
          196.86,
          204.35,
          206.54,
          214.87,
          216.11,
          215.06,
          216.82,
          214.72,
          216.73,
          214.18,
          208.88,
          208.42,
          209.38,
          208.2,
          210.37,
          206.52,
          208.83,
          206.29,
          201.04,
          202.79,
          200.82,
          202.92,
          201.1,
          201.05,
          201.92,
          199.7,
          194.55,
          192.3,
          191.37,
          192.77,
          191.25,
          191.02,
          190.97,
          190.31,
          186.27,
          187.07,
          186.87,
          185.67,
          190.08,
          189.48,
          185.27,
          185.27,
          183.93,
          185.34,
          178.81,
          178.12,
          182.89,
          183.55,
          184.08,
          187.54,
          186.54,
          189.99,
          193.48,
          191.67,
          191.83,
          193.51,
          190.85,
          190.73,
          189.46,
          196.33,
          195.93,
          195.27,
          196.9,
          200.6,
          201.65,
          199.18,
          198.94,
          200.1,
          201.06,
          197.34,
          195.71,
          194.86,
          198.36,
          198.82,
          200.09,
          202.03,
          196.12,
          194.25,
          201.97,
          197.09,
          197.24,
          194.94,
          196.81,
          196.65,
          196.5,
          195.18,
          191.9,
          191.17,
          186.56,
          185.77,
          184.66,
          185.29,
          183.17,
          183.61,
          189.08,
          188.82,
          195.43,
          196.74,
          192.65,
          191.87,
          191.67,
          191.07,
          190.42,
          189.71,
          187.32,
          189.24,
          190.45,
          190.43,
          192.6,
          191.14,
          192.5,
          192.5,
          192.25,
          189.68,
          190.04,
          192.2,
          192.27,
          192.1,
          186.34,
          188.42,
          188.23,
          185.16,
          185.49,
          186.85,
          190.28,
          191.64,
          191.35,
          190.2,
          191.64,
          195.97,
          194.04,
          193.29,
          194.27,
          191.43,
          190.56,
          191.31,
          196.01,
          192.68,
          190.74,
          174.13,
          172.96,
          171.24,
          170.33,
          170.79,
          169.73,
          170.35,
          169.42,
          164.04,
          166.5
         ]
        },
        {
         "line": {
          "color": "rgba(128, 0, 128, 1.0)",
          "dash": "solid",
          "shape": "linear",
          "width": 1.3
         },
         "mode": "lines",
         "name": "JPM",
         "text": "",
         "type": "scatter",
         "x": [
          "2020-06-19",
          "2020-06-18",
          "2020-06-17",
          "2020-06-16",
          "2020-06-15",
          "2020-06-12",
          "2020-06-11",
          "2020-06-10",
          "2020-06-09",
          "2020-06-08",
          "2020-06-05",
          "2020-06-04",
          "2020-06-03",
          "2020-06-02",
          "2020-06-01",
          "2020-05-29",
          "2020-05-28",
          "2020-05-27",
          "2020-05-26",
          "2020-05-22",
          "2020-05-21",
          "2020-05-20",
          "2020-05-19",
          "2020-05-18",
          "2020-05-15",
          "2020-05-14",
          "2020-05-13",
          "2020-05-12",
          "2020-05-11",
          "2020-05-08",
          "2020-05-07",
          "2020-05-06",
          "2020-05-05",
          "2020-05-04",
          "2020-05-01",
          "2020-04-30",
          "2020-04-29",
          "2020-04-28",
          "2020-04-27",
          "2020-04-24",
          "2020-04-23",
          "2020-04-22",
          "2020-04-21",
          "2020-04-20",
          "2020-04-17",
          "2020-04-16",
          "2020-04-15",
          "2020-04-14",
          "2020-04-13",
          "2020-04-09",
          "2020-04-08",
          "2020-04-07",
          "2020-04-06",
          "2020-04-03",
          "2020-04-02",
          "2020-04-01",
          "2020-03-31",
          "2020-03-30",
          "2020-03-27",
          "2020-03-26",
          "2020-03-25",
          "2020-03-24",
          "2020-03-23",
          "2020-03-20",
          "2020-03-19",
          "2020-03-18",
          "2020-03-17",
          "2020-03-16",
          "2020-03-13",
          "2020-03-12",
          "2020-03-11",
          "2020-03-10",
          "2020-03-09",
          "2020-03-06",
          "2020-03-05",
          "2020-03-04",
          "2020-03-03",
          "2020-03-02",
          "2020-02-28",
          "2020-02-27",
          "2020-02-26",
          "2020-02-25",
          "2020-02-24",
          "2020-02-21",
          "2020-02-20",
          "2020-02-19",
          "2020-02-18",
          "2020-02-14",
          "2020-02-13",
          "2020-02-12",
          "2020-02-11",
          "2020-02-10",
          "2020-02-07",
          "2020-02-06",
          "2020-02-05",
          "2020-02-04",
          "2020-02-03",
          "2020-01-31",
          "2020-01-30",
          "2020-01-29",
          "2020-01-28",
          "2020-01-27",
          "2020-01-24",
          "2020-01-23",
          "2020-01-22",
          "2020-01-21",
          "2020-01-17",
          "2020-01-16",
          "2020-01-15",
          "2020-01-14",
          "2020-01-13",
          "2020-01-10",
          "2020-01-09",
          "2020-01-08",
          "2020-01-07",
          "2020-01-06",
          "2020-01-03",
          "2020-01-02",
          "2019-12-31",
          "2019-12-30",
          "2019-12-27",
          "2019-12-26",
          "2019-12-24",
          "2019-12-23",
          "2019-12-20",
          "2019-12-19",
          "2019-12-18",
          "2019-12-17",
          "2019-12-16",
          "2019-12-13",
          "2019-12-12",
          "2019-12-11",
          "2019-12-10",
          "2019-12-09",
          "2019-12-06",
          "2019-12-05",
          "2019-12-04",
          "2019-12-03",
          "2019-12-02",
          "2019-11-29",
          "2019-11-27",
          "2019-11-26",
          "2019-11-25",
          "2019-11-22",
          "2019-11-21",
          "2019-11-20",
          "2019-11-19",
          "2019-11-18",
          "2019-11-15",
          "2019-11-14",
          "2019-11-13",
          "2019-11-12",
          "2019-11-11",
          "2019-11-08",
          "2019-11-07",
          "2019-11-06",
          "2019-11-05",
          "2019-11-04",
          "2019-11-01",
          "2019-10-31",
          "2019-10-30",
          "2019-10-29",
          "2019-10-28",
          "2019-10-25",
          "2019-10-24",
          "2019-10-23",
          "2019-10-22",
          "2019-10-21",
          "2019-10-18",
          "2019-10-17",
          "2019-10-16",
          "2019-10-15",
          "2019-10-14",
          "2019-10-11",
          "2019-10-10",
          "2019-10-09",
          "2019-10-08",
          "2019-10-07",
          "2019-10-04",
          "2019-10-03",
          "2019-10-02",
          "2019-10-01",
          "2019-09-30",
          "2019-09-27",
          "2019-09-26",
          "2019-09-25",
          "2019-09-24",
          "2019-09-23",
          "2019-09-20",
          "2019-09-19",
          "2019-09-18",
          "2019-09-17",
          "2019-09-16",
          "2019-09-13",
          "2019-09-12",
          "2019-09-11",
          "2019-09-10",
          "2019-09-09",
          "2019-09-06",
          "2019-09-05",
          "2019-09-04",
          "2019-09-03",
          "2019-08-30",
          "2019-08-29",
          "2019-08-28",
          "2019-08-27",
          "2019-08-26",
          "2019-08-23",
          "2019-08-22",
          "2019-08-21",
          "2019-08-20",
          "2019-08-19",
          "2019-08-16",
          "2019-08-15",
          "2019-08-14",
          "2019-08-13",
          "2019-08-12",
          "2019-08-09",
          "2019-08-08",
          "2019-08-07",
          "2019-08-06",
          "2019-08-05",
          "2019-08-02",
          "2019-08-01",
          "2019-07-31",
          "2019-07-30",
          "2019-07-29",
          "2019-07-26",
          "2019-07-25",
          "2019-07-24",
          "2019-07-23",
          "2019-07-22",
          "2019-07-19",
          "2019-07-18",
          "2019-07-17",
          "2019-07-16",
          "2019-07-15",
          "2019-07-12",
          "2019-07-11",
          "2019-07-10",
          "2019-07-09",
          "2019-07-08",
          "2019-07-05",
          "2019-07-03",
          "2019-07-02",
          "2019-07-01",
          "2019-06-28",
          "2019-06-27",
          "2019-06-26",
          "2019-06-25",
          "2019-06-24",
          "2019-06-21",
          "2019-06-20",
          "2019-06-19",
          "2019-06-18",
          "2019-06-17",
          "2019-06-14",
          "2019-06-13",
          "2019-06-12",
          "2019-06-11",
          "2019-06-10",
          "2019-06-07",
          "2019-06-06",
          "2019-06-05",
          "2019-06-04",
          "2019-06-03",
          "2019-05-31",
          "2019-05-30",
          "2019-05-29",
          "2019-05-28",
          "2019-05-24",
          "2019-05-23",
          "2019-05-22",
          "2019-05-21",
          "2019-05-20",
          "2019-05-17",
          "2019-05-16",
          "2019-05-15",
          "2019-05-14",
          "2019-05-13",
          "2019-05-10",
          "2019-05-09",
          "2019-05-08",
          "2019-05-07",
          "2019-05-06",
          "2019-05-03",
          "2019-05-02",
          "2019-05-01",
          "2019-04-30",
          "2019-04-29",
          "2019-04-26",
          "2019-04-25",
          "2019-04-24",
          "2019-04-23",
          "2019-04-22",
          "2019-04-18",
          "2019-04-17",
          "2019-04-16",
          "2019-04-15",
          "2019-04-12",
          "2019-04-11",
          "2019-04-10",
          "2019-04-09",
          "2019-04-08",
          "2019-04-05",
          "2019-04-04",
          "2019-04-03",
          "2019-04-02",
          "2019-04-01",
          "2019-03-29",
          "2019-03-28",
          "2019-03-27",
          "2019-03-26",
          "2019-03-25",
          "2019-03-22",
          "2019-03-21",
          "2019-03-20",
          "2019-03-19",
          "2019-03-18",
          "2019-03-15",
          "2019-03-14",
          "2019-03-13",
          "2019-03-12",
          "2019-03-11",
          "2019-03-08",
          "2019-03-07",
          "2019-03-06",
          "2019-03-05",
          "2019-03-04",
          "2019-03-01",
          "2019-02-28",
          "2019-02-27",
          "2019-02-26",
          "2019-02-25",
          "2019-02-22",
          "2019-02-21",
          "2019-02-20",
          "2019-02-19",
          "2019-02-15",
          "2019-02-14",
          "2019-02-13",
          "2019-02-12",
          "2019-02-11",
          "2019-02-08",
          "2019-02-07",
          "2019-02-06",
          "2019-02-05",
          "2019-02-04",
          "2019-02-01",
          "2019-01-31",
          "2019-01-30",
          "2019-01-29",
          "2019-01-28",
          "2019-01-25",
          "2019-01-24",
          "2019-01-23",
          "2019-01-22",
          "2019-01-18",
          "2019-01-17",
          "2019-01-16",
          "2019-01-15",
          "2019-01-14",
          "2019-01-11",
          "2019-01-10",
          "2019-01-09",
          "2019-01-08",
          "2019-01-07",
          "2019-01-04",
          "2019-01-03",
          "2019-01-02"
         ],
         "y": [
          97.81,
          98.94,
          99.48,
          102.06,
          101.25,
          99.87,
          97.21,
          106.06,
          110.54,
          113.45,
          111.23,
          106.44,
          104.27,
          98.93,
          98.6,
          97.31,
          99.86,
          101.37,
          95.82,
          89.47,
          90.17,
          91.33,
          88.67,
          90.45,
          85.9,
          87.52,
          84.03,
          87.03,
          89.97,
          92.7,
          91.21,
          90.27,
          92,
          92.14,
          93.25,
          95.76,
          97.86,
          95.29,
          94.62,
          90.71,
          89.39,
          89.34,
          89.05,
          91.71,
          95.18,
          87.33,
          90.79,
          95.5,
          98.19,
          102.76,
          94.3,
          90.64,
          89.46,
          84.05,
          86.61,
          83.492,
          89.104,
          92.538,
          90.193,
          97.111,
          90.787,
          87.521,
          78.217,
          82.641,
          84.42299999999999,
          83.027,
          92.796,
          87.45100000000001,
          102.84,
          87.14399999999999,
          94.973,
          99.66,
          92.479,
          106.97,
          112.8,
          118.62,
          115.76,
          120.27,
          114.92,
          120.12,
          125.34,
          124.96,
          130.8,
          134.41,
          136.08,
          136.08,
          134.25,
          136.05,
          136.46,
          136.58,
          136.58,
          136.32,
          135.76,
          136.19,
          136.17,
          133.9,
          132,
          131,
          134.49,
          132.85,
          133.05,
          130.67,
          131.78,
          135.14,
          135.27,
          135.43,
          136.78,
          135.84,
          135.31,
          137.37,
          135.79,
          134.67,
          136.03,
          135.53,
          134.48,
          136.81,
          136.92,
          138.75,
          137.09,
          136.33,
          136.83,
          136.73,
          135.29,
          134.92,
          134.96,
          135.07,
          135.75,
          135.89,
          135.06,
          134.54,
          135.73,
          131.95,
          132.27,
          132.18,
          132.8,
          130.85,
          130.15,
          127.62,
          129.29,
          129.57,
          129.87,
          129.48,
          129.31,
          128.62,
          127.77,
          127.48,
          128.42,
          128.46,
          127.38,
          126.47,
          126.35,
          127.02,
          127.76,
          128.22,
          127.84,
          127.16,
          126.96,
          126.68,
          125.67,
          122.84,
          123.65,
          124.33,
          124.41,
          123.94,
          122.95,
          123.04,
          122.71,
          121.5,
          118.56,
          118.35,
          117.7,
          117.96,
          114.52,
          114.21,
          112.31,
          110.76,
          109.97,
          112.47,
          112.72,
          110.32,
          110.48,
          112.73,
          114.82,
          114.85,
          114.17,
          115.11,
          114.47,
          115.98,
          116,
          116.46,
          116.84,
          115.68,
          116.25,
          117.29,
          115.02,
          114.33,
          114.02,
          112.58,
          109.87,
          109.63,
          107.19,
          105.91,
          107.18,
          106.55,
          104.19,
          103.16,
          104.26,
          103.44,
          106.07,
          104.98,
          104.69,
          106.04,
          105.09,
          102.62,
          102.25,
          106.67,
          105.12,
          107.07,
          107.18,
          105.39,
          107.73,
          106.9,
          110.18,
          110.19,
          113.17,
          112.77,
          113.03,
          113.38,
          112.89,
          113.98,
          113.52,
          111.48,
          110.77,
          111.87,
          111.2,
          112.31,
          111.12,
          112.48,
          111.31,
          110.25,
          110.58,
          110.12,
          110.72,
          110.07,
          110.23,
          110.13,
          108.3,
          105.43,
          105.09,
          104.39,
          105.27,
          106.02,
          106.75,
          106.47,
          107.25,
          105.8,
          106.38,
          106.12,
          105.85,
          107.22,
          106.89,
          105.74,
          106.92,
          106.69,
          106.31,
          103.13,
          102.64,
          103.72,
          104.84,
          105.13,
          106.28,
          105.25,
          107.35,
          108.24,
          107.87,
          107.3,
          107.83,
          106.46,
          106.87,
          106.03,
          108.99,
          109,
          109.09,
          109.67,
          111.49,
          112.48,
          111.8,
          111.56,
          112.41,
          112.48,
          110.9,
          110.06,
          110,
          110.19,
          110.05,
          109.91,
          110.73,
          107.62,
          106.5,
          107.73,
          102.9,
          102.05,
          101.58,
          102.36,
          102.02,
          102.27,
          101.28,
          101.08,
          100.6,
          97.315,
          96.824,
          95.73299999999999,
          96.061,
          95.109,
          95.906,
          98.89200000000001,
          100.49,
          102.66,
          103.05,
          102.45,
          101.28,
          100.36,
          100.02,
          100.32,
          99.031,
          98.991,
          99.71,
          100.08,
          100.16,
          100.4,
          100.33,
          101.1,
          101.23,
          102,
          100.95,
          101.39,
          101.6,
          101.12,
          101.47,
          98.46799999999999,
          99.11,
          98.635,
          96.979,
          97.441,
          98.429,
          99.73,
          99.78,
          100.22,
          99.87,
          99.49600000000001,
          100.38,
          100.14,
          99.87,
          99.397,
          98.774,
          98.714,
          98.962,
          100.56,
          98.94200000000001,
          98.536,
          97.75399999999999,
          97.039,
          96.051,
          96.515,
          96.525,
          96.68799999999999,
          96.863,
          96.805,
          93.36,
          94.706
         ]
        },
        {
         "line": {
          "color": "rgba(219, 64, 82, 1.0)",
          "dash": "solid",
          "shape": "linear",
          "width": 1.3
         },
         "mode": "lines",
         "name": "MS",
         "text": "",
         "type": "scatter",
         "x": [
          "2020-06-19",
          "2020-06-18",
          "2020-06-17",
          "2020-06-16",
          "2020-06-15",
          "2020-06-12",
          "2020-06-11",
          "2020-06-10",
          "2020-06-09",
          "2020-06-08",
          "2020-06-05",
          "2020-06-04",
          "2020-06-03",
          "2020-06-02",
          "2020-06-01",
          "2020-05-29",
          "2020-05-28",
          "2020-05-27",
          "2020-05-26",
          "2020-05-22",
          "2020-05-21",
          "2020-05-20",
          "2020-05-19",
          "2020-05-18",
          "2020-05-15",
          "2020-05-14",
          "2020-05-13",
          "2020-05-12",
          "2020-05-11",
          "2020-05-08",
          "2020-05-07",
          "2020-05-06",
          "2020-05-05",
          "2020-05-04",
          "2020-05-01",
          "2020-04-30",
          "2020-04-29",
          "2020-04-28",
          "2020-04-27",
          "2020-04-24",
          "2020-04-23",
          "2020-04-22",
          "2020-04-21",
          "2020-04-20",
          "2020-04-17",
          "2020-04-16",
          "2020-04-15",
          "2020-04-14",
          "2020-04-13",
          "2020-04-09",
          "2020-04-08",
          "2020-04-07",
          "2020-04-06",
          "2020-04-03",
          "2020-04-02",
          "2020-04-01",
          "2020-03-31",
          "2020-03-30",
          "2020-03-27",
          "2020-03-26",
          "2020-03-25",
          "2020-03-24",
          "2020-03-23",
          "2020-03-20",
          "2020-03-19",
          "2020-03-18",
          "2020-03-17",
          "2020-03-16",
          "2020-03-13",
          "2020-03-12",
          "2020-03-11",
          "2020-03-10",
          "2020-03-09",
          "2020-03-06",
          "2020-03-05",
          "2020-03-04",
          "2020-03-03",
          "2020-03-02",
          "2020-02-28",
          "2020-02-27",
          "2020-02-26",
          "2020-02-25",
          "2020-02-24",
          "2020-02-21",
          "2020-02-20",
          "2020-02-19",
          "2020-02-18",
          "2020-02-14",
          "2020-02-13",
          "2020-02-12",
          "2020-02-11",
          "2020-02-10",
          "2020-02-07",
          "2020-02-06",
          "2020-02-05",
          "2020-02-04",
          "2020-02-03",
          "2020-01-31",
          "2020-01-30",
          "2020-01-29",
          "2020-01-28",
          "2020-01-27",
          "2020-01-24",
          "2020-01-23",
          "2020-01-22",
          "2020-01-21",
          "2020-01-17",
          "2020-01-16",
          "2020-01-15",
          "2020-01-14",
          "2020-01-13",
          "2020-01-10",
          "2020-01-09",
          "2020-01-08",
          "2020-01-07",
          "2020-01-06",
          "2020-01-03",
          "2020-01-02",
          "2019-12-31",
          "2019-12-30",
          "2019-12-27",
          "2019-12-26",
          "2019-12-24",
          "2019-12-23",
          "2019-12-20",
          "2019-12-19",
          "2019-12-18",
          "2019-12-17",
          "2019-12-16",
          "2019-12-13",
          "2019-12-12",
          "2019-12-11",
          "2019-12-10",
          "2019-12-09",
          "2019-12-06",
          "2019-12-05",
          "2019-12-04",
          "2019-12-03",
          "2019-12-02",
          "2019-11-29",
          "2019-11-27",
          "2019-11-26",
          "2019-11-25",
          "2019-11-22",
          "2019-11-21",
          "2019-11-20",
          "2019-11-19",
          "2019-11-18",
          "2019-11-15",
          "2019-11-14",
          "2019-11-13",
          "2019-11-12",
          "2019-11-11",
          "2019-11-08",
          "2019-11-07",
          "2019-11-06",
          "2019-11-05",
          "2019-11-04",
          "2019-11-01",
          "2019-10-31",
          "2019-10-30",
          "2019-10-29",
          "2019-10-28",
          "2019-10-25",
          "2019-10-24",
          "2019-10-23",
          "2019-10-22",
          "2019-10-21",
          "2019-10-18",
          "2019-10-17",
          "2019-10-16",
          "2019-10-15",
          "2019-10-14",
          "2019-10-11",
          "2019-10-10",
          "2019-10-09",
          "2019-10-08",
          "2019-10-07",
          "2019-10-04",
          "2019-10-03",
          "2019-10-02",
          "2019-10-01",
          "2019-09-30",
          "2019-09-27",
          "2019-09-26",
          "2019-09-25",
          "2019-09-24",
          "2019-09-23",
          "2019-09-20",
          "2019-09-19",
          "2019-09-18",
          "2019-09-17",
          "2019-09-16",
          "2019-09-13",
          "2019-09-12",
          "2019-09-11",
          "2019-09-10",
          "2019-09-09",
          "2019-09-06",
          "2019-09-05",
          "2019-09-04",
          "2019-09-03",
          "2019-08-30",
          "2019-08-29",
          "2019-08-28",
          "2019-08-27",
          "2019-08-26",
          "2019-08-23",
          "2019-08-22",
          "2019-08-21",
          "2019-08-20",
          "2019-08-19",
          "2019-08-16",
          "2019-08-15",
          "2019-08-14",
          "2019-08-13",
          "2019-08-12",
          "2019-08-09",
          "2019-08-08",
          "2019-08-07",
          "2019-08-06",
          "2019-08-05",
          "2019-08-02",
          "2019-08-01",
          "2019-07-31",
          "2019-07-30",
          "2019-07-29",
          "2019-07-26",
          "2019-07-25",
          "2019-07-24",
          "2019-07-23",
          "2019-07-22",
          "2019-07-19",
          "2019-07-18",
          "2019-07-17",
          "2019-07-16",
          "2019-07-15",
          "2019-07-12",
          "2019-07-11",
          "2019-07-10",
          "2019-07-09",
          "2019-07-08",
          "2019-07-05",
          "2019-07-03",
          "2019-07-02",
          "2019-07-01",
          "2019-06-28",
          "2019-06-27",
          "2019-06-26",
          "2019-06-25",
          "2019-06-24",
          "2019-06-21",
          "2019-06-20",
          "2019-06-19",
          "2019-06-18",
          "2019-06-17",
          "2019-06-14",
          "2019-06-13",
          "2019-06-12",
          "2019-06-11",
          "2019-06-10",
          "2019-06-07",
          "2019-06-06",
          "2019-06-05",
          "2019-06-04",
          "2019-06-03",
          "2019-05-31",
          "2019-05-30",
          "2019-05-29",
          "2019-05-28",
          "2019-05-24",
          "2019-05-23",
          "2019-05-22",
          "2019-05-21",
          "2019-05-20",
          "2019-05-17",
          "2019-05-16",
          "2019-05-15",
          "2019-05-14",
          "2019-05-13",
          "2019-05-10",
          "2019-05-09",
          "2019-05-08",
          "2019-05-07",
          "2019-05-06",
          "2019-05-03",
          "2019-05-02",
          "2019-05-01",
          "2019-04-30",
          "2019-04-29",
          "2019-04-26",
          "2019-04-25",
          "2019-04-24",
          "2019-04-23",
          "2019-04-22",
          "2019-04-18",
          "2019-04-17",
          "2019-04-16",
          "2019-04-15",
          "2019-04-12",
          "2019-04-11",
          "2019-04-10",
          "2019-04-09",
          "2019-04-08",
          "2019-04-05",
          "2019-04-04",
          "2019-04-03",
          "2019-04-02",
          "2019-04-01",
          "2019-03-29",
          "2019-03-28",
          "2019-03-27",
          "2019-03-26",
          "2019-03-25",
          "2019-03-22",
          "2019-03-21",
          "2019-03-20",
          "2019-03-19",
          "2019-03-18",
          "2019-03-15",
          "2019-03-14",
          "2019-03-13",
          "2019-03-12",
          "2019-03-11",
          "2019-03-08",
          "2019-03-07",
          "2019-03-06",
          "2019-03-05",
          "2019-03-04",
          "2019-03-01",
          "2019-02-28",
          "2019-02-27",
          "2019-02-26",
          "2019-02-25",
          "2019-02-22",
          "2019-02-21",
          "2019-02-20",
          "2019-02-19",
          "2019-02-15",
          "2019-02-14",
          "2019-02-13",
          "2019-02-12",
          "2019-02-11",
          "2019-02-08",
          "2019-02-07",
          "2019-02-06",
          "2019-02-05",
          "2019-02-04",
          "2019-02-01",
          "2019-01-31",
          "2019-01-30",
          "2019-01-29",
          "2019-01-28",
          "2019-01-25",
          "2019-01-24",
          "2019-01-23",
          "2019-01-22",
          "2019-01-18",
          "2019-01-17",
          "2019-01-16",
          "2019-01-15",
          "2019-01-14",
          "2019-01-11",
          "2019-01-10",
          "2019-01-09",
          "2019-01-08",
          "2019-01-07",
          "2019-01-04",
          "2019-01-03",
          "2019-01-02"
         ],
         "y": [
          46.93,
          47.58,
          47.76,
          48.56,
          47.4,
          46.28,
          44.57,
          48.69,
          50.4,
          50.15,
          49.53,
          48.69,
          46.91,
          45.58,
          44.7,
          44.2,
          44.4,
          46.86,
          43.69,
          40.13,
          40.3,
          41.06,
          39.33,
          40.28,
          37.29,
          37.81,
          36.99,
          38.42,
          39.83,
          40.08,
          38.81,
          37.3,
          37.98,
          38.09,
          38.4,
          39.43,
          40.79,
          39.78,
          38.967,
          37.639,
          37.143,
          37.48,
          36.628,
          38.025,
          38.749,
          38.025,
          38.065,
          39.512,
          39.235,
          40.722,
          39.027,
          36.618,
          36.687,
          33.555,
          33.604,
          31.344,
          33.703,
          34.536,
          33.713,
          35.399,
          33.694,
          32.93,
          27.566999999999997,
          29.410999999999998,
          30.65,
          30.482,
          33.495,
          31.374000000000002,
          37.173,
          31.037,
          36.548,
          39.155,
          37.173,
          41.475,
          42.218999999999994,
          44.845,
          44.013000000000005,
          46.075,
          44.637,
          45.013999999999996,
          46.828,
          47.611000000000004,
          49.247,
          51.963,
          53.281000000000006,
          55.818999999999996,
          55.036,
          55.353,
          55.442,
          55.69,
          55.294,
          54.867,
          54.55,
          54.53,
          54.51,
          53.549,
          52.141000000000005,
          51.803999999999995,
          53.351000000000006,
          52.865,
          53.2,
          52.303999999999995,
          53.721000000000004,
          54.687,
          55.012,
          55.07,
          56.637,
          55.583,
          52.136,
          52.056999999999995,
          51.979,
          51.418,
          51.27,
          50.787,
          50.147,
          50.245,
          50.422,
          51.25,
          50.343999999999994,
          50.18600000000001,
          50.31399999999999,
          50.333999999999996,
          49.92,
          49.95,
          49.92,
          50.086999999999996,
          49.891000000000005,
          50.126999999999995,
          49.95,
          49.477,
          49.92,
          48.7,
          48.916000000000004,
          48.847,
          49.043,
          48.325,
          48.099,
          47.379,
          48.335,
          48.728,
          49.023999999999994,
          48.66,
          49.201,
          48.501999999999995,
          48.099,
          48.355,
          48.581,
          48.285,
          48.247,
          47.872,
          47.655,
          48.265,
          48.345,
          48.403999999999996,
          47.92100000000001,
          47.821999999999996,
          48.01,
          48.089,
          46.611000000000004,
          45.351000000000006,
          45.556999999999995,
          45.773999999999994,
          45.784,
          45.324,
          44.728,
          44.875,
          44.357,
          43.966,
          42.676,
          42.46,
          41.825,
          41.571000000000005,
          41.298,
          40.985,
          40.124,
          39.528,
          38.922,
          39.763000000000005,
          39.86,
          39.343,
          39.323,
          40.446999999999996,
          41.708,
          41.875,
          41.658,
          42.068999999999996,
          41.581,
          42.577,
          42.685,
          43.027,
          43.36,
          43.214,
          43.74100000000001,
          44.141999999999996,
          43.321000000000005,
          42.95,
          42.597,
          42.138000000000005,
          41.229,
          41.513000000000005,
          40.594,
          40.066,
          40.555,
          40.359,
          39.47,
          38.894,
          39.255,
          38.443000000000005,
          39.361999999999995,
          39.04,
          39.001,
          39.46,
          39.04,
          38.219,
          38.443000000000005,
          39.773,
          39.45,
          40.564,
          40.34,
          39.646,
          40.291,
          39.577,
          41.17,
          41.961999999999996,
          43.556000000000004,
          43.663000000000004,
          43.869,
          44.363,
          43.519,
          44.131,
          43.742,
          43.16,
          43.053999999999995,
          43.093,
          42.451,
          43.093,
          43.093,
          43.519,
          42.849,
          42.006,
          42.461000000000006,
          42.18,
          42.879,
          42.667,
          42.511,
          42.626999999999995,
          42.49100000000001,
          42.18,
          41.695,
          41.376000000000005,
          41.773,
          42.268,
          42.152,
          41.841,
          42.036,
          41.23,
          41.531000000000006,
          41.656000000000006,
          41.336000000000006,
          42.355,
          41.986999999999995,
          41.415,
          41.522,
          41.153,
          41.201,
          39.503,
          39.465,
          40.57,
          40.92,
          40.9,
          41.666000000000004,
          41.425,
          42.18,
          43.053999999999995,
          42.55,
          42.559,
          42.946999999999996,
          42.577,
          42.684,
          42.849,
          44.943999999999996,
          45.053000000000004,
          45.129,
          45.303999999999995,
          46.273999999999994,
          46.613,
          46.37,
          46.138000000000005,
          46.797,
          47.001000000000005,
          46.157,
          45.578,
          45.666000000000004,
          45.636,
          45.578,
          45.83,
          46.513999999999996,
          45.317,
          44.412,
          45.001000000000005,
          43.178999999999995,
          42.841,
          42.66,
          43.353,
          43.275,
          43.303999999999995,
          42.775,
          42.118,
          41.95399999999999,
          40.673,
          40.412,
          39.873000000000005,
          40.365,
          39.758,
          40.211,
          41.568999999999996,
          41.472,
          42.36,
          42.437,
          41.763999999999996,
          41.146,
          40.874,
          40.51,
          40.336,
          39.863,
          39.68,
          40.113,
          40.385,
          40.48,
          40.963,
          40.461,
          41.019,
          40.874,
          40.664,
          40.278,
          40.441,
          40.884,
          40.634,
          40.471,
          39.247,
          39.699,
          39.661,
          38.755,
          39.333,
          39.978,
          40.848,
          40.914,
          40.923,
          40.306,
          40.769,
          41.242,
          40.664,
          40.817,
          41.133,
          40.242,
          40.338,
          40.586999999999996,
          41.81100000000001,
          40.702,
          42.576,
          41.036,
          40.654,
          39.946,
          39.869,
          39.946,
          39.668,
          39.919000000000004,
          39.524,
          37.975,
          38.664
         ]
        },
        {
         "line": {
          "color": "rgba(0, 128, 128, 1.0)",
          "dash": "solid",
          "shape": "linear",
          "width": 1.3
         },
         "mode": "lines",
         "name": "WFC",
         "text": "",
         "type": "scatter",
         "x": [
          "2020-06-19",
          "2020-06-18",
          "2020-06-17",
          "2020-06-16",
          "2020-06-15",
          "2020-06-12",
          "2020-06-11",
          "2020-06-10",
          "2020-06-09",
          "2020-06-08",
          "2020-06-05",
          "2020-06-04",
          "2020-06-03",
          "2020-06-02",
          "2020-06-01",
          "2020-05-29",
          "2020-05-28",
          "2020-05-27",
          "2020-05-26",
          "2020-05-22",
          "2020-05-21",
          "2020-05-20",
          "2020-05-19",
          "2020-05-18",
          "2020-05-15",
          "2020-05-14",
          "2020-05-13",
          "2020-05-12",
          "2020-05-11",
          "2020-05-08",
          "2020-05-07",
          "2020-05-06",
          "2020-05-05",
          "2020-05-04",
          "2020-05-01",
          "2020-04-30",
          "2020-04-29",
          "2020-04-28",
          "2020-04-27",
          "2020-04-24",
          "2020-04-23",
          "2020-04-22",
          "2020-04-21",
          "2020-04-20",
          "2020-04-17",
          "2020-04-16",
          "2020-04-15",
          "2020-04-14",
          "2020-04-13",
          "2020-04-09",
          "2020-04-08",
          "2020-04-07",
          "2020-04-06",
          "2020-04-03",
          "2020-04-02",
          "2020-04-01",
          "2020-03-31",
          "2020-03-30",
          "2020-03-27",
          "2020-03-26",
          "2020-03-25",
          "2020-03-24",
          "2020-03-23",
          "2020-03-20",
          "2020-03-19",
          "2020-03-18",
          "2020-03-17",
          "2020-03-16",
          "2020-03-13",
          "2020-03-12",
          "2020-03-11",
          "2020-03-10",
          "2020-03-09",
          "2020-03-06",
          "2020-03-05",
          "2020-03-04",
          "2020-03-03",
          "2020-03-02",
          "2020-02-28",
          "2020-02-27",
          "2020-02-26",
          "2020-02-25",
          "2020-02-24",
          "2020-02-21",
          "2020-02-20",
          "2020-02-19",
          "2020-02-18",
          "2020-02-14",
          "2020-02-13",
          "2020-02-12",
          "2020-02-11",
          "2020-02-10",
          "2020-02-07",
          "2020-02-06",
          "2020-02-05",
          "2020-02-04",
          "2020-02-03",
          "2020-01-31",
          "2020-01-30",
          "2020-01-29",
          "2020-01-28",
          "2020-01-27",
          "2020-01-24",
          "2020-01-23",
          "2020-01-22",
          "2020-01-21",
          "2020-01-17",
          "2020-01-16",
          "2020-01-15",
          "2020-01-14",
          "2020-01-13",
          "2020-01-10",
          "2020-01-09",
          "2020-01-08",
          "2020-01-07",
          "2020-01-06",
          "2020-01-03",
          "2020-01-02",
          "2019-12-31",
          "2019-12-30",
          "2019-12-27",
          "2019-12-26",
          "2019-12-24",
          "2019-12-23",
          "2019-12-20",
          "2019-12-19",
          "2019-12-18",
          "2019-12-17",
          "2019-12-16",
          "2019-12-13",
          "2019-12-12",
          "2019-12-11",
          "2019-12-10",
          "2019-12-09",
          "2019-12-06",
          "2019-12-05",
          "2019-12-04",
          "2019-12-03",
          "2019-12-02",
          "2019-11-29",
          "2019-11-27",
          "2019-11-26",
          "2019-11-25",
          "2019-11-22",
          "2019-11-21",
          "2019-11-20",
          "2019-11-19",
          "2019-11-18",
          "2019-11-15",
          "2019-11-14",
          "2019-11-13",
          "2019-11-12",
          "2019-11-11",
          "2019-11-08",
          "2019-11-07",
          "2019-11-06",
          "2019-11-05",
          "2019-11-04",
          "2019-11-01",
          "2019-10-31",
          "2019-10-30",
          "2019-10-29",
          "2019-10-28",
          "2019-10-25",
          "2019-10-24",
          "2019-10-23",
          "2019-10-22",
          "2019-10-21",
          "2019-10-18",
          "2019-10-17",
          "2019-10-16",
          "2019-10-15",
          "2019-10-14",
          "2019-10-11",
          "2019-10-10",
          "2019-10-09",
          "2019-10-08",
          "2019-10-07",
          "2019-10-04",
          "2019-10-03",
          "2019-10-02",
          "2019-10-01",
          "2019-09-30",
          "2019-09-27",
          "2019-09-26",
          "2019-09-25",
          "2019-09-24",
          "2019-09-23",
          "2019-09-20",
          "2019-09-19",
          "2019-09-18",
          "2019-09-17",
          "2019-09-16",
          "2019-09-13",
          "2019-09-12",
          "2019-09-11",
          "2019-09-10",
          "2019-09-09",
          "2019-09-06",
          "2019-09-05",
          "2019-09-04",
          "2019-09-03",
          "2019-08-30",
          "2019-08-29",
          "2019-08-28",
          "2019-08-27",
          "2019-08-26",
          "2019-08-23",
          "2019-08-22",
          "2019-08-21",
          "2019-08-20",
          "2019-08-19",
          "2019-08-16",
          "2019-08-15",
          "2019-08-14",
          "2019-08-13",
          "2019-08-12",
          "2019-08-09",
          "2019-08-08",
          "2019-08-07",
          "2019-08-06",
          "2019-08-05",
          "2019-08-02",
          "2019-08-01",
          "2019-07-31",
          "2019-07-30",
          "2019-07-29",
          "2019-07-26",
          "2019-07-25",
          "2019-07-24",
          "2019-07-23",
          "2019-07-22",
          "2019-07-19",
          "2019-07-18",
          "2019-07-17",
          "2019-07-16",
          "2019-07-15",
          "2019-07-12",
          "2019-07-11",
          "2019-07-10",
          "2019-07-09",
          "2019-07-08",
          "2019-07-05",
          "2019-07-03",
          "2019-07-02",
          "2019-07-01",
          "2019-06-28",
          "2019-06-27",
          "2019-06-26",
          "2019-06-25",
          "2019-06-24",
          "2019-06-21",
          "2019-06-20",
          "2019-06-19",
          "2019-06-18",
          "2019-06-17",
          "2019-06-14",
          "2019-06-13",
          "2019-06-12",
          "2019-06-11",
          "2019-06-10",
          "2019-06-07",
          "2019-06-06",
          "2019-06-05",
          "2019-06-04",
          "2019-06-03",
          "2019-05-31",
          "2019-05-30",
          "2019-05-29",
          "2019-05-28",
          "2019-05-24",
          "2019-05-23",
          "2019-05-22",
          "2019-05-21",
          "2019-05-20",
          "2019-05-17",
          "2019-05-16",
          "2019-05-15",
          "2019-05-14",
          "2019-05-13",
          "2019-05-10",
          "2019-05-09",
          "2019-05-08",
          "2019-05-07",
          "2019-05-06",
          "2019-05-03",
          "2019-05-02",
          "2019-05-01",
          "2019-04-30",
          "2019-04-29",
          "2019-04-26",
          "2019-04-25",
          "2019-04-24",
          "2019-04-23",
          "2019-04-22",
          "2019-04-18",
          "2019-04-17",
          "2019-04-16",
          "2019-04-15",
          "2019-04-12",
          "2019-04-11",
          "2019-04-10",
          "2019-04-09",
          "2019-04-08",
          "2019-04-05",
          "2019-04-04",
          "2019-04-03",
          "2019-04-02",
          "2019-04-01",
          "2019-03-29",
          "2019-03-28",
          "2019-03-27",
          "2019-03-26",
          "2019-03-25",
          "2019-03-22",
          "2019-03-21",
          "2019-03-20",
          "2019-03-19",
          "2019-03-18",
          "2019-03-15",
          "2019-03-14",
          "2019-03-13",
          "2019-03-12",
          "2019-03-11",
          "2019-03-08",
          "2019-03-07",
          "2019-03-06",
          "2019-03-05",
          "2019-03-04",
          "2019-03-01",
          "2019-02-28",
          "2019-02-27",
          "2019-02-26",
          "2019-02-25",
          "2019-02-22",
          "2019-02-21",
          "2019-02-20",
          "2019-02-19",
          "2019-02-15",
          "2019-02-14",
          "2019-02-13",
          "2019-02-12",
          "2019-02-11",
          "2019-02-08",
          "2019-02-07",
          "2019-02-06",
          "2019-02-05",
          "2019-02-04",
          "2019-02-01",
          "2019-01-31",
          "2019-01-30",
          "2019-01-29",
          "2019-01-28",
          "2019-01-25",
          "2019-01-24",
          "2019-01-23",
          "2019-01-22",
          "2019-01-18",
          "2019-01-17",
          "2019-01-16",
          "2019-01-15",
          "2019-01-14",
          "2019-01-11",
          "2019-01-10",
          "2019-01-09",
          "2019-01-08",
          "2019-01-07",
          "2019-01-04",
          "2019-01-03",
          "2019-01-02"
         ],
         "y": [
          27.6,
          27.55,
          27.45,
          28.52,
          28.21,
          27.97,
          26.79,
          29.71,
          32.63,
          33.32,
          31.67,
          30.22,
          28.83,
          27.4,
          27.09,
          26.47,
          27.22,
          27.95,
          26.26,
          24.17,
          24.46,
          24.52,
          23.95,
          25.41,
          23.36,
          24.06,
          22.53,
          24.04,
          24.78,
          25.43,
          25.23,
          25.1,
          25.796,
          26.805,
          27.041,
          28.471,
          29.403000000000002,
          28.295,
          27.844,
          26.384,
          26.002,
          26.266,
          26.305999999999997,
          27.129,
          27.815,
          26.355,
          27.874000000000002,
          29.579,
          30.804000000000002,
          32.539,
          29.677,
          28.197,
          28.06,
          25.708000000000002,
          26.678,
          26.041,
          28.128,
          29.324,
          29.677,
          30.285,
          28.393,
          28.344,
          24.747,
          25.971999999999998,
          27.726999999999997,
          27.56,
          29.04,
          25.971999999999998,
          30.275,
          26.658,
          31.686,
          34.381,
          31.833000000000002,
          36.351,
          38.125,
          40.576,
          39.723,
          41.418,
          40.037,
          41.623999999999995,
          43.261,
          44.221000000000004,
          45.466,
          46.75,
          46.397,
          46.152,
          46.053999999999995,
          47.26,
          47.162,
          46.838,
          47.034,
          46.818999999999996,
          46.887,
          47.025,
          46.848,
          45.83,
          45.695,
          45.519,
          46.46,
          45.84,
          45.937,
          45.675,
          46.131,
          46.761,
          47.09,
          47.458999999999996,
          47.692,
          47.76,
          46.858000000000004,
          47.809,
          50.533,
          50.912,
          51.13399999999999,
          51.221000000000004,
          51.066,
          51.493,
          51.803000000000004,
          52.123999999999995,
          52.172,
          51.978,
          52.288999999999994,
          52.511,
          52.192,
          52.181999999999995,
          51.716,
          52.007,
          52.04600000000001,
          52.695,
          52.58,
          52.162,
          52.715,
          51.56100000000001,
          52.065,
          52.288999999999994,
          52.725,
          51.619,
          51.629,
          50.989,
          51.997,
          52.812,
          52.695,
          52.181999999999995,
          52.57,
          52.637,
          51.94,
          51.92,
          52.395,
          52.36600000000001,
          52.172,
          51.871,
          51.677,
          52.58,
          52.413999999999994,
          52.463,
          52.36600000000001,
          51.677,
          51.198,
          50.64,
          50.121,
          49.593,
          49.978,
          50.111000000000004,
          49.611999999999995,
          49.536,
          49.085,
          48.92,
          48.623000000000005,
          48.468999999999994,
          47.998000000000005,
          47.653,
          47.633,
          48.133,
          47.326,
          47.269,
          46.73,
          46.251000000000005,
          45.934,
          46.88399999999999,
          47.269,
          46.567,
          46.558,
          47.123999999999995,
          48.451,
          48.708999999999996,
          46.942,
          47.317,
          46.73,
          47.028,
          46.711000000000006,
          46.98,
          46.998999999999995,
          46.836000000000006,
          47.048,
          46.989,
          46.73,
          46.923,
          46.403999999999996,
          46.5,
          45.29,
          45.742,
          44.665,
          44.271,
          44.733000000000004,
          44.368,
          43.677,
          42.985,
          43.206,
          42.668,
          43.821000000000005,
          43.224,
          42.917,
          43.465,
          42.638999999999996,
          41.668,
          42.235,
          44.146,
          43.637,
          44.473,
          44.568999999999996,
          43.513000000000005,
          44.577,
          43.826,
          45.06,
          44.7,
          45.982,
          46.115,
          45.858999999999995,
          46.828,
          45.678999999999995,
          46.021,
          44.833999999999996,
          44.148999999999994,
          43.723,
          43.522,
          42.943000000000005,
          43.028999999999996,
          44.368,
          44.985,
          44.776,
          44.785,
          45.431999999999995,
          45.147,
          45.373999999999995,
          45.269,
          44.861000000000004,
          45.299,
          44.946999999999996,
          43.968999999999994,
          43.503,
          43.826,
          43.95,
          44.538000000000004,
          43.56,
          43.361000000000004,
          43.788000000000004,
          43,
          43.303999999999995,
          43.019,
          42.658,
          43.94,
          43.95,
          43.341,
          43.618,
          43.56,
          43.388999999999996,
          42.288000000000004,
          42.145,
          42.791000000000004,
          43.2,
          43.303999999999995,
          43.855,
          43.276,
          43.788000000000004,
          44.007,
          43.17100000000001,
          43.408,
          43.598,
          43.541000000000004,
          44.158,
          44.007,
          44.785,
          44.397,
          44.217,
          44.375,
          45.56,
          45.768,
          45.43899999999999,
          45.372,
          45.543,
          45.411,
          45.119,
          44.695,
          44.666000000000004,
          44.545,
          44.461000000000006,
          44.761,
          44.733999999999995,
          44.828,
          43.998999999999995,
          43.735,
          44.912,
          44.958999999999996,
          45.288000000000004,
          45.983999999999995,
          45.89,
          46.256,
          45.965,
          45.352,
          45.919,
          45.456,
          46.181999999999995,
          45.881,
          46.107,
          45.233000000000004,
          45.446999999999996,
          46.906000000000006,
          47.413999999999994,
          48.364,
          48.666000000000004,
          47.659,
          47.368,
          46.964,
          46.71,
          46.812,
          46.85,
          46.736000000000004,
          46.869,
          46.934,
          47.141000000000005,
          47.067,
          46.934,
          46.943999999999996,
          46.652,
          46.718,
          46.11600000000001,
          46.623999999999995,
          46.86,
          46.455,
          46.303999999999995,
          45.646,
          46.11600000000001,
          46.144,
          44.828,
          44.828,
          45.233000000000004,
          46.303999999999995,
          46.351000000000006,
          46.153999999999996,
          46.013000000000005,
          46.013000000000005,
          46.7,
          46.475,
          46.446999999999996,
          46.736000000000004,
          46.597,
          46.727,
          46.483999999999995,
          46.625,
          45.897,
          45.626999999999995,
          44.443000000000005,
          45.143,
          44.63,
          44.516999999999996,
          44.565,
          44.321999999999996,
          44.415,
          44.70399999999999,
          43.418,
          43.763000000000005
         ]
        }
       ],
       "layout": {
        "legend": {
         "bgcolor": "#F5F6F9",
         "font": {
          "color": "#4D5663"
         }
        },
        "paper_bgcolor": "#F5F6F9",
        "plot_bgcolor": "#F5F6F9",
        "template": {
         "data": {
          "bar": [
           {
            "error_x": {
             "color": "#2a3f5f"
            },
            "error_y": {
             "color": "#2a3f5f"
            },
            "marker": {
             "line": {
              "color": "#E5ECF6",
              "width": 0.5
             }
            },
            "type": "bar"
           }
          ],
          "barpolar": [
           {
            "marker": {
             "line": {
              "color": "#E5ECF6",
              "width": 0.5
             }
            },
            "type": "barpolar"
           }
          ],
          "carpet": [
           {
            "aaxis": {
             "endlinecolor": "#2a3f5f",
             "gridcolor": "white",
             "linecolor": "white",
             "minorgridcolor": "white",
             "startlinecolor": "#2a3f5f"
            },
            "baxis": {
             "endlinecolor": "#2a3f5f",
             "gridcolor": "white",
             "linecolor": "white",
             "minorgridcolor": "white",
             "startlinecolor": "#2a3f5f"
            },
            "type": "carpet"
           }
          ],
          "choropleth": [
           {
            "colorbar": {
             "outlinewidth": 0,
             "ticks": ""
            },
            "type": "choropleth"
           }
          ],
          "contour": [
           {
            "colorbar": {
             "outlinewidth": 0,
             "ticks": ""
            },
            "colorscale": [
             [
              0,
              "#0d0887"
             ],
             [
              0.1111111111111111,
              "#46039f"
             ],
             [
              0.2222222222222222,
              "#7201a8"
             ],
             [
              0.3333333333333333,
              "#9c179e"
             ],
             [
              0.4444444444444444,
              "#bd3786"
             ],
             [
              0.5555555555555556,
              "#d8576b"
             ],
             [
              0.6666666666666666,
              "#ed7953"
             ],
             [
              0.7777777777777778,
              "#fb9f3a"
             ],
             [
              0.8888888888888888,
              "#fdca26"
             ],
             [
              1,
              "#f0f921"
             ]
            ],
            "type": "contour"
           }
          ],
          "contourcarpet": [
           {
            "colorbar": {
             "outlinewidth": 0,
             "ticks": ""
            },
            "type": "contourcarpet"
           }
          ],
          "heatmap": [
           {
            "colorbar": {
             "outlinewidth": 0,
             "ticks": ""
            },
            "colorscale": [
             [
              0,
              "#0d0887"
             ],
             [
              0.1111111111111111,
              "#46039f"
             ],
             [
              0.2222222222222222,
              "#7201a8"
             ],
             [
              0.3333333333333333,
              "#9c179e"
             ],
             [
              0.4444444444444444,
              "#bd3786"
             ],
             [
              0.5555555555555556,
              "#d8576b"
             ],
             [
              0.6666666666666666,
              "#ed7953"
             ],
             [
              0.7777777777777778,
              "#fb9f3a"
             ],
             [
              0.8888888888888888,
              "#fdca26"
             ],
             [
              1,
              "#f0f921"
             ]
            ],
            "type": "heatmap"
           }
          ],
          "heatmapgl": [
           {
            "colorbar": {
             "outlinewidth": 0,
             "ticks": ""
            },
            "colorscale": [
             [
              0,
              "#0d0887"
             ],
             [
              0.1111111111111111,
              "#46039f"
             ],
             [
              0.2222222222222222,
              "#7201a8"
             ],
             [
              0.3333333333333333,
              "#9c179e"
             ],
             [
              0.4444444444444444,
              "#bd3786"
             ],
             [
              0.5555555555555556,
              "#d8576b"
             ],
             [
              0.6666666666666666,
              "#ed7953"
             ],
             [
              0.7777777777777778,
              "#fb9f3a"
             ],
             [
              0.8888888888888888,
              "#fdca26"
             ],
             [
              1,
              "#f0f921"
             ]
            ],
            "type": "heatmapgl"
           }
          ],
          "histogram": [
           {
            "marker": {
             "colorbar": {
              "outlinewidth": 0,
              "ticks": ""
             }
            },
            "type": "histogram"
           }
          ],
          "histogram2d": [
           {
            "colorbar": {
             "outlinewidth": 0,
             "ticks": ""
            },
            "colorscale": [
             [
              0,
              "#0d0887"
             ],
             [
              0.1111111111111111,
              "#46039f"
             ],
             [
              0.2222222222222222,
              "#7201a8"
             ],
             [
              0.3333333333333333,
              "#9c179e"
             ],
             [
              0.4444444444444444,
              "#bd3786"
             ],
             [
              0.5555555555555556,
              "#d8576b"
             ],
             [
              0.6666666666666666,
              "#ed7953"
             ],
             [
              0.7777777777777778,
              "#fb9f3a"
             ],
             [
              0.8888888888888888,
              "#fdca26"
             ],
             [
              1,
              "#f0f921"
             ]
            ],
            "type": "histogram2d"
           }
          ],
          "histogram2dcontour": [
           {
            "colorbar": {
             "outlinewidth": 0,
             "ticks": ""
            },
            "colorscale": [
             [
              0,
              "#0d0887"
             ],
             [
              0.1111111111111111,
              "#46039f"
             ],
             [
              0.2222222222222222,
              "#7201a8"
             ],
             [
              0.3333333333333333,
              "#9c179e"
             ],
             [
              0.4444444444444444,
              "#bd3786"
             ],
             [
              0.5555555555555556,
              "#d8576b"
             ],
             [
              0.6666666666666666,
              "#ed7953"
             ],
             [
              0.7777777777777778,
              "#fb9f3a"
             ],
             [
              0.8888888888888888,
              "#fdca26"
             ],
             [
              1,
              "#f0f921"
             ]
            ],
            "type": "histogram2dcontour"
           }
          ],
          "mesh3d": [
           {
            "colorbar": {
             "outlinewidth": 0,
             "ticks": ""
            },
            "type": "mesh3d"
           }
          ],
          "parcoords": [
           {
            "line": {
             "colorbar": {
              "outlinewidth": 0,
              "ticks": ""
             }
            },
            "type": "parcoords"
           }
          ],
          "pie": [
           {
            "automargin": true,
            "type": "pie"
           }
          ],
          "scatter": [
           {
            "marker": {
             "colorbar": {
              "outlinewidth": 0,
              "ticks": ""
             }
            },
            "type": "scatter"
           }
          ],
          "scatter3d": [
           {
            "line": {
             "colorbar": {
              "outlinewidth": 0,
              "ticks": ""
             }
            },
            "marker": {
             "colorbar": {
              "outlinewidth": 0,
              "ticks": ""
             }
            },
            "type": "scatter3d"
           }
          ],
          "scattercarpet": [
           {
            "marker": {
             "colorbar": {
              "outlinewidth": 0,
              "ticks": ""
             }
            },
            "type": "scattercarpet"
           }
          ],
          "scattergeo": [
           {
            "marker": {
             "colorbar": {
              "outlinewidth": 0,
              "ticks": ""
             }
            },
            "type": "scattergeo"
           }
          ],
          "scattergl": [
           {
            "marker": {
             "colorbar": {
              "outlinewidth": 0,
              "ticks": ""
             }
            },
            "type": "scattergl"
           }
          ],
          "scattermapbox": [
           {
            "marker": {
             "colorbar": {
              "outlinewidth": 0,
              "ticks": ""
             }
            },
            "type": "scattermapbox"
           }
          ],
          "scatterpolar": [
           {
            "marker": {
             "colorbar": {
              "outlinewidth": 0,
              "ticks": ""
             }
            },
            "type": "scatterpolar"
           }
          ],
          "scatterpolargl": [
           {
            "marker": {
             "colorbar": {
              "outlinewidth": 0,
              "ticks": ""
             }
            },
            "type": "scatterpolargl"
           }
          ],
          "scatterternary": [
           {
            "marker": {
             "colorbar": {
              "outlinewidth": 0,
              "ticks": ""
             }
            },
            "type": "scatterternary"
           }
          ],
          "surface": [
           {
            "colorbar": {
             "outlinewidth": 0,
             "ticks": ""
            },
            "colorscale": [
             [
              0,
              "#0d0887"
             ],
             [
              0.1111111111111111,
              "#46039f"
             ],
             [
              0.2222222222222222,
              "#7201a8"
             ],
             [
              0.3333333333333333,
              "#9c179e"
             ],
             [
              0.4444444444444444,
              "#bd3786"
             ],
             [
              0.5555555555555556,
              "#d8576b"
             ],
             [
              0.6666666666666666,
              "#ed7953"
             ],
             [
              0.7777777777777778,
              "#fb9f3a"
             ],
             [
              0.8888888888888888,
              "#fdca26"
             ],
             [
              1,
              "#f0f921"
             ]
            ],
            "type": "surface"
           }
          ],
          "table": [
           {
            "cells": {
             "fill": {
              "color": "#EBF0F8"
             },
             "line": {
              "color": "white"
             }
            },
            "header": {
             "fill": {
              "color": "#C8D4E3"
             },
             "line": {
              "color": "white"
             }
            },
            "type": "table"
           }
          ]
         },
         "layout": {
          "annotationdefaults": {
           "arrowcolor": "#2a3f5f",
           "arrowhead": 0,
           "arrowwidth": 1
          },
          "coloraxis": {
           "colorbar": {
            "outlinewidth": 0,
            "ticks": ""
           }
          },
          "colorscale": {
           "diverging": [
            [
             0,
             "#8e0152"
            ],
            [
             0.1,
             "#c51b7d"
            ],
            [
             0.2,
             "#de77ae"
            ],
            [
             0.3,
             "#f1b6da"
            ],
            [
             0.4,
             "#fde0ef"
            ],
            [
             0.5,
             "#f7f7f7"
            ],
            [
             0.6,
             "#e6f5d0"
            ],
            [
             0.7,
             "#b8e186"
            ],
            [
             0.8,
             "#7fbc41"
            ],
            [
             0.9,
             "#4d9221"
            ],
            [
             1,
             "#276419"
            ]
           ],
           "sequential": [
            [
             0,
             "#0d0887"
            ],
            [
             0.1111111111111111,
             "#46039f"
            ],
            [
             0.2222222222222222,
             "#7201a8"
            ],
            [
             0.3333333333333333,
             "#9c179e"
            ],
            [
             0.4444444444444444,
             "#bd3786"
            ],
            [
             0.5555555555555556,
             "#d8576b"
            ],
            [
             0.6666666666666666,
             "#ed7953"
            ],
            [
             0.7777777777777778,
             "#fb9f3a"
            ],
            [
             0.8888888888888888,
             "#fdca26"
            ],
            [
             1,
             "#f0f921"
            ]
           ],
           "sequentialminus": [
            [
             0,
             "#0d0887"
            ],
            [
             0.1111111111111111,
             "#46039f"
            ],
            [
             0.2222222222222222,
             "#7201a8"
            ],
            [
             0.3333333333333333,
             "#9c179e"
            ],
            [
             0.4444444444444444,
             "#bd3786"
            ],
            [
             0.5555555555555556,
             "#d8576b"
            ],
            [
             0.6666666666666666,
             "#ed7953"
            ],
            [
             0.7777777777777778,
             "#fb9f3a"
            ],
            [
             0.8888888888888888,
             "#fdca26"
            ],
            [
             1,
             "#f0f921"
            ]
           ]
          },
          "colorway": [
           "#636efa",
           "#EF553B",
           "#00cc96",
           "#ab63fa",
           "#FFA15A",
           "#19d3f3",
           "#FF6692",
           "#B6E880",
           "#FF97FF",
           "#FECB52"
          ],
          "font": {
           "color": "#2a3f5f"
          },
          "geo": {
           "bgcolor": "white",
           "lakecolor": "white",
           "landcolor": "#E5ECF6",
           "showlakes": true,
           "showland": true,
           "subunitcolor": "white"
          },
          "hoverlabel": {
           "align": "left"
          },
          "hovermode": "closest",
          "mapbox": {
           "style": "light"
          },
          "paper_bgcolor": "white",
          "plot_bgcolor": "#E5ECF6",
          "polar": {
           "angularaxis": {
            "gridcolor": "white",
            "linecolor": "white",
            "ticks": ""
           },
           "bgcolor": "#E5ECF6",
           "radialaxis": {
            "gridcolor": "white",
            "linecolor": "white",
            "ticks": ""
           }
          },
          "scene": {
           "xaxis": {
            "backgroundcolor": "#E5ECF6",
            "gridcolor": "white",
            "gridwidth": 2,
            "linecolor": "white",
            "showbackground": true,
            "ticks": "",
            "zerolinecolor": "white"
           },
           "yaxis": {
            "backgroundcolor": "#E5ECF6",
            "gridcolor": "white",
            "gridwidth": 2,
            "linecolor": "white",
            "showbackground": true,
            "ticks": "",
            "zerolinecolor": "white"
           },
           "zaxis": {
            "backgroundcolor": "#E5ECF6",
            "gridcolor": "white",
            "gridwidth": 2,
            "linecolor": "white",
            "showbackground": true,
            "ticks": "",
            "zerolinecolor": "white"
           }
          },
          "shapedefaults": {
           "line": {
            "color": "#2a3f5f"
           }
          },
          "ternary": {
           "aaxis": {
            "gridcolor": "white",
            "linecolor": "white",
            "ticks": ""
           },
           "baxis": {
            "gridcolor": "white",
            "linecolor": "white",
            "ticks": ""
           },
           "bgcolor": "#E5ECF6",
           "caxis": {
            "gridcolor": "white",
            "linecolor": "white",
            "ticks": ""
           }
          },
          "title": {
           "x": 0.05
          },
          "xaxis": {
           "automargin": true,
           "gridcolor": "white",
           "linecolor": "white",
           "ticks": "",
           "title": {
            "standoff": 15
           },
           "zerolinecolor": "white",
           "zerolinewidth": 2
          },
          "yaxis": {
           "automargin": true,
           "gridcolor": "white",
           "linecolor": "white",
           "ticks": "",
           "title": {
            "standoff": 15
           },
           "zerolinecolor": "white",
           "zerolinewidth": 2
          }
         }
        },
        "title": {
         "font": {
          "color": "#4D5663"
         }
        },
        "xaxis": {
         "gridcolor": "#E1E5ED",
         "showgrid": true,
         "tickfont": {
          "color": "#4D5663"
         },
         "title": {
          "font": {
           "color": "#4D5663"
          },
          "text": ""
         },
         "zerolinecolor": "#E1E5ED"
        },
        "yaxis": {
         "gridcolor": "#E1E5ED",
         "showgrid": true,
         "tickfont": {
          "color": "#4D5663"
         },
         "title": {
          "font": {
           "color": "#4D5663"
          },
          "text": ""
         },
         "zerolinecolor": "#E1E5ED"
        }
       }
      },
      "text/html": [
       "<div>\n",
       "        \n",
       "        \n",
       "            <div id=\"a546e52e-bfe2-45cb-814c-e22e17d4d094\" class=\"plotly-graph-div\" style=\"height:525px; width:100%;\"></div>\n",
       "            <script type=\"text/javascript\">\n",
       "                require([\"plotly\"], function(Plotly) {\n",
       "                    window.PLOTLYENV=window.PLOTLYENV || {};\n",
       "                    window.PLOTLYENV.BASE_URL='https://plot.ly';\n",
       "                    \n",
       "                if (document.getElementById(\"a546e52e-bfe2-45cb-814c-e22e17d4d094\")) {\n",
       "                    Plotly.newPlot(\n",
       "                        'a546e52e-bfe2-45cb-814c-e22e17d4d094',\n",
       "                        [{\"line\": {\"color\": \"rgba(255, 153, 51, 1.0)\", \"dash\": \"solid\", \"shape\": \"linear\", \"width\": 1.3}, \"mode\": \"lines\", \"name\": \"BAC\", \"text\": \"\", \"type\": \"scatter\", \"x\": [\"2020-06-19\", \"2020-06-18\", \"2020-06-17\", \"2020-06-16\", \"2020-06-15\", \"2020-06-12\", \"2020-06-11\", \"2020-06-10\", \"2020-06-09\", \"2020-06-08\", \"2020-06-05\", \"2020-06-04\", \"2020-06-03\", \"2020-06-02\", \"2020-06-01\", \"2020-05-29\", \"2020-05-28\", \"2020-05-27\", \"2020-05-26\", \"2020-05-22\", \"2020-05-21\", \"2020-05-20\", \"2020-05-19\", \"2020-05-18\", \"2020-05-15\", \"2020-05-14\", \"2020-05-13\", \"2020-05-12\", \"2020-05-11\", \"2020-05-08\", \"2020-05-07\", \"2020-05-06\", \"2020-05-05\", \"2020-05-04\", \"2020-05-01\", \"2020-04-30\", \"2020-04-29\", \"2020-04-28\", \"2020-04-27\", \"2020-04-24\", \"2020-04-23\", \"2020-04-22\", \"2020-04-21\", \"2020-04-20\", \"2020-04-17\", \"2020-04-16\", \"2020-04-15\", \"2020-04-14\", \"2020-04-13\", \"2020-04-09\", \"2020-04-08\", \"2020-04-07\", \"2020-04-06\", \"2020-04-03\", \"2020-04-02\", \"2020-04-01\", \"2020-03-31\", \"2020-03-30\", \"2020-03-27\", \"2020-03-26\", \"2020-03-25\", \"2020-03-24\", \"2020-03-23\", \"2020-03-20\", \"2020-03-19\", \"2020-03-18\", \"2020-03-17\", \"2020-03-16\", \"2020-03-13\", \"2020-03-12\", \"2020-03-11\", \"2020-03-10\", \"2020-03-09\", \"2020-03-06\", \"2020-03-05\", \"2020-03-04\", \"2020-03-03\", \"2020-03-02\", \"2020-02-28\", \"2020-02-27\", \"2020-02-26\", \"2020-02-25\", \"2020-02-24\", \"2020-02-21\", \"2020-02-20\", \"2020-02-19\", \"2020-02-18\", \"2020-02-14\", \"2020-02-13\", \"2020-02-12\", \"2020-02-11\", \"2020-02-10\", \"2020-02-07\", \"2020-02-06\", \"2020-02-05\", \"2020-02-04\", \"2020-02-03\", \"2020-01-31\", \"2020-01-30\", \"2020-01-29\", \"2020-01-28\", \"2020-01-27\", \"2020-01-24\", \"2020-01-23\", \"2020-01-22\", \"2020-01-21\", \"2020-01-17\", \"2020-01-16\", \"2020-01-15\", \"2020-01-14\", \"2020-01-13\", \"2020-01-10\", \"2020-01-09\", \"2020-01-08\", \"2020-01-07\", \"2020-01-06\", \"2020-01-03\", \"2020-01-02\", \"2019-12-31\", \"2019-12-30\", \"2019-12-27\", \"2019-12-26\", \"2019-12-24\", \"2019-12-23\", \"2019-12-20\", \"2019-12-19\", \"2019-12-18\", \"2019-12-17\", \"2019-12-16\", \"2019-12-13\", \"2019-12-12\", \"2019-12-11\", \"2019-12-10\", \"2019-12-09\", \"2019-12-06\", \"2019-12-05\", \"2019-12-04\", \"2019-12-03\", \"2019-12-02\", \"2019-11-29\", \"2019-11-27\", \"2019-11-26\", \"2019-11-25\", \"2019-11-22\", \"2019-11-21\", \"2019-11-20\", \"2019-11-19\", \"2019-11-18\", \"2019-11-15\", \"2019-11-14\", \"2019-11-13\", \"2019-11-12\", \"2019-11-11\", \"2019-11-08\", \"2019-11-07\", \"2019-11-06\", \"2019-11-05\", \"2019-11-04\", \"2019-11-01\", \"2019-10-31\", \"2019-10-30\", \"2019-10-29\", \"2019-10-28\", \"2019-10-25\", \"2019-10-24\", \"2019-10-23\", \"2019-10-22\", \"2019-10-21\", \"2019-10-18\", \"2019-10-17\", \"2019-10-16\", \"2019-10-15\", \"2019-10-14\", \"2019-10-11\", \"2019-10-10\", \"2019-10-09\", \"2019-10-08\", \"2019-10-07\", \"2019-10-04\", \"2019-10-03\", \"2019-10-02\", \"2019-10-01\", \"2019-09-30\", \"2019-09-27\", \"2019-09-26\", \"2019-09-25\", \"2019-09-24\", \"2019-09-23\", \"2019-09-20\", \"2019-09-19\", \"2019-09-18\", \"2019-09-17\", \"2019-09-16\", \"2019-09-13\", \"2019-09-12\", \"2019-09-11\", \"2019-09-10\", \"2019-09-09\", \"2019-09-06\", \"2019-09-05\", \"2019-09-04\", \"2019-09-03\", \"2019-08-30\", \"2019-08-29\", \"2019-08-28\", \"2019-08-27\", \"2019-08-26\", \"2019-08-23\", \"2019-08-22\", \"2019-08-21\", \"2019-08-20\", \"2019-08-19\", \"2019-08-16\", \"2019-08-15\", \"2019-08-14\", \"2019-08-13\", \"2019-08-12\", \"2019-08-09\", \"2019-08-08\", \"2019-08-07\", \"2019-08-06\", \"2019-08-05\", \"2019-08-02\", \"2019-08-01\", \"2019-07-31\", \"2019-07-30\", \"2019-07-29\", \"2019-07-26\", \"2019-07-25\", \"2019-07-24\", \"2019-07-23\", \"2019-07-22\", \"2019-07-19\", \"2019-07-18\", \"2019-07-17\", \"2019-07-16\", \"2019-07-15\", \"2019-07-12\", \"2019-07-11\", \"2019-07-10\", \"2019-07-09\", \"2019-07-08\", \"2019-07-05\", \"2019-07-03\", \"2019-07-02\", \"2019-07-01\", \"2019-06-28\", \"2019-06-27\", \"2019-06-26\", \"2019-06-25\", \"2019-06-24\", \"2019-06-21\", \"2019-06-20\", \"2019-06-19\", \"2019-06-18\", \"2019-06-17\", \"2019-06-14\", \"2019-06-13\", \"2019-06-12\", \"2019-06-11\", \"2019-06-10\", \"2019-06-07\", \"2019-06-06\", \"2019-06-05\", \"2019-06-04\", \"2019-06-03\", \"2019-05-31\", \"2019-05-30\", \"2019-05-29\", \"2019-05-28\", \"2019-05-24\", \"2019-05-23\", \"2019-05-22\", \"2019-05-21\", \"2019-05-20\", \"2019-05-17\", \"2019-05-16\", \"2019-05-15\", \"2019-05-14\", \"2019-05-13\", \"2019-05-10\", \"2019-05-09\", \"2019-05-08\", \"2019-05-07\", \"2019-05-06\", \"2019-05-03\", \"2019-05-02\", \"2019-05-01\", \"2019-04-30\", \"2019-04-29\", \"2019-04-26\", \"2019-04-25\", \"2019-04-24\", \"2019-04-23\", \"2019-04-22\", \"2019-04-18\", \"2019-04-17\", \"2019-04-16\", \"2019-04-15\", \"2019-04-12\", \"2019-04-11\", \"2019-04-10\", \"2019-04-09\", \"2019-04-08\", \"2019-04-05\", \"2019-04-04\", \"2019-04-03\", \"2019-04-02\", \"2019-04-01\", \"2019-03-29\", \"2019-03-28\", \"2019-03-27\", \"2019-03-26\", \"2019-03-25\", \"2019-03-22\", \"2019-03-21\", \"2019-03-20\", \"2019-03-19\", \"2019-03-18\", \"2019-03-15\", \"2019-03-14\", \"2019-03-13\", \"2019-03-12\", \"2019-03-11\", \"2019-03-08\", \"2019-03-07\", \"2019-03-06\", \"2019-03-05\", \"2019-03-04\", \"2019-03-01\", \"2019-02-28\", \"2019-02-27\", \"2019-02-26\", \"2019-02-25\", \"2019-02-22\", \"2019-02-21\", \"2019-02-20\", \"2019-02-19\", \"2019-02-15\", \"2019-02-14\", \"2019-02-13\", \"2019-02-12\", \"2019-02-11\", \"2019-02-08\", \"2019-02-07\", \"2019-02-06\", \"2019-02-05\", \"2019-02-04\", \"2019-02-01\", \"2019-01-31\", \"2019-01-30\", \"2019-01-29\", \"2019-01-28\", \"2019-01-25\", \"2019-01-24\", \"2019-01-23\", \"2019-01-22\", \"2019-01-18\", \"2019-01-17\", \"2019-01-16\", \"2019-01-15\", \"2019-01-14\", \"2019-01-11\", \"2019-01-10\", \"2019-01-09\", \"2019-01-08\", \"2019-01-07\", \"2019-01-04\", \"2019-01-03\", \"2019-01-02\"], \"y\": [25.25, 25.04, 25.0, 25.8, 25.15, 24.78, 23.93, 26.6, 28.22, 28.54, 28.11, 26.78, 25.81, 24.668000000000003, 24.44, 23.953000000000003, 24.688000000000002, 25.8, 24.112, 22.503, 22.741, 22.750999999999998, 22.055999999999997, 22.771, 21.291999999999998, 21.56, 20.725, 21.719, 22.424, 23.406999999999996, 22.682, 22.195, 22.503, 22.771, 22.92, 23.883000000000003, 24.608, 23.725, 23.307, 22.026, 21.719, 21.649, 21.49, 22.344, 23.119, 21.272, 22.035999999999998, 23.566, 23.754, 24.688000000000002, 23.288, 21.987, 21.241999999999997, 19.891, 20.428, 19.633, 21.083000000000002, 21.886999999999997, 21.45, 22.563000000000002, 20.954, 20.884, 17.955, 19.534000000000002, 21.053, 20.646, 21.828000000000003, 20.298, 23.993000000000002, 20.368, 22.513, 23.445999999999998, 21.778000000000002, 25.531999999999996, 26.595, 28.015, 27.383000000000003, 28.982, 28.123, 28.745, 30.225, 30.669, 32.297, 33.906, 34.389, 34.260999999999996, 33.817, 34.389, 34.449, 34.459, 34.311, 34.231, 34.153, 34.211, 34.251, 33.176, 32.534, 32.396, 33.038000000000004, 32.574, 32.8, 32.416, 33.096, 33.669000000000004, 33.906, 33.806999999999995, 34.251, 34.260999999999996, 34.211, 34.853, 34.597, 34.281, 34.567, 34.507, 34.163000000000004, 34.389, 34.439, 35.169000000000004, 34.755, 34.685, 34.883, 35.051, 34.755, 34.705, 34.497, 34.486999999999995, 34.645, 34.577, 34.241, 33.985, 34.221, 33.195, 33.086, 33.067, 33.225, 32.652, 32.534, 32.23, 32.808, 32.701, 32.799, 32.731, 32.848, 32.564, 32.23, 32.082, 32.328, 32.347, 32.318000000000005, 32.092, 32.181, 32.475, 32.564, 32.641, 32.613, 32.181, 32.21, 31.798000000000002, 31.208000000000002, 30.689, 31.033, 31.474, 31.248, 31.131, 30.776999999999997, 30.836, 30.62, 30.444000000000003, 29.785999999999998, 29.698, 29.61, 29.179000000000002, 28.599, 28.373, 27.921999999999997, 27.372, 27.116999999999997, 27.783, 27.843000000000004, 27.294, 27.322, 27.912, 28.628, 28.805, 28.589000000000002, 28.706999999999997, 28.403000000000002, 28.971999999999998, 29.039, 29.266, 29.443, 29.383000000000003, 29.57, 29.61, 29.119, 28.912, 28.805, 28.098000000000003, 27.214000000000002, 27.598000000000003, 26.803, 26.374000000000002, 26.823, 26.647, 26.178, 25.808000000000003, 26.111, 25.808000000000003, 26.51, 26.256999999999998, 26.052, 26.588, 26.354, 25.594, 25.758000000000003, 27.026, 26.949, 27.621, 27.67, 27.191999999999997, 27.71, 27.378, 28.646, 28.752, 29.913, 30.116999999999997, 29.756, 30.000999999999998, 29.581, 29.903000000000002, 29.493000000000002, 28.83, 28.664, 28.743000000000002, 28.461, 28.265, 28.489, 28.714000000000002, 28.625999999999998, 28.294, 28.616, 28.469, 28.528000000000002, 28.323, 28.421, 28.684, 28.275, 27.504, 27.211, 27.065, 27.281, 27.416999999999998, 27.564, 27.612, 27.905, 27.230999999999998, 27.338, 27.241, 27.250999999999998, 27.534000000000002, 27.368000000000002, 26.842, 27.182, 27.065, 27.075, 25.874000000000002, 25.795, 26.338, 26.91, 27.055, 27.326999999999998, 26.92, 27.627, 27.822, 27.541, 27.541, 27.726, 27.435, 27.754, 27.395, 28.685, 28.811999999999998, 28.898000000000003, 29.015, 29.549, 29.781, 29.576999999999998, 29.344, 29.655, 29.84, 29.432, 29.171, 29.112, 29.160999999999998, 29.141, 29.122, 29.122, 28.976, 28.938000000000002, 29.258000000000003, 28.191, 28.191, 28.017, 28.287, 28.201, 28.268, 27.967, 27.997, 27.677, 26.755, 26.503, 26.213, 26.386999999999997, 26.028000000000002, 26.193, 27.326999999999998, 27.773000000000003, 28.753, 28.918000000000003, 28.414, 28.569000000000003, 28.404, 28.065, 28.065, 27.781999999999996, 27.686999999999998, 27.967, 28.201, 28.151999999999997, 28.423000000000002, 28.201, 28.491, 28.259, 28.24, 28.058000000000003, 28.259, 28.375999999999998, 28.105, 28.086, 27.391, 27.691, 27.680999999999997, 27.410999999999998, 27.296, 27.247, 27.72, 27.768, 27.865, 27.381999999999998, 27.469, 28.048000000000002, 28.357, 28.588, 28.54, 28.058000000000003, 27.903000000000002, 28.066999999999997, 28.269000000000002, 27.97, 27.45, 25.615, 25.443, 25.115, 24.824, 24.853, 24.613000000000003, 24.660999999999998, 24.679000000000002, 23.697, 24.081999999999997]}, {\"line\": {\"color\": \"rgba(55, 128, 191, 1.0)\", \"dash\": \"solid\", \"shape\": \"linear\", \"width\": 1.3}, \"mode\": \"lines\", \"name\": \"C\", \"text\": \"\", \"type\": \"scatter\", \"x\": [\"2020-06-19\", \"2020-06-18\", \"2020-06-17\", \"2020-06-16\", \"2020-06-15\", \"2020-06-12\", \"2020-06-11\", \"2020-06-10\", \"2020-06-09\", \"2020-06-08\", \"2020-06-05\", \"2020-06-04\", \"2020-06-03\", \"2020-06-02\", \"2020-06-01\", \"2020-05-29\", \"2020-05-28\", \"2020-05-27\", \"2020-05-26\", \"2020-05-22\", \"2020-05-21\", \"2020-05-20\", \"2020-05-19\", \"2020-05-18\", \"2020-05-15\", \"2020-05-14\", \"2020-05-13\", \"2020-05-12\", \"2020-05-11\", \"2020-05-08\", \"2020-05-07\", \"2020-05-06\", \"2020-05-05\", \"2020-05-04\", \"2020-05-01\", \"2020-04-30\", \"2020-04-29\", \"2020-04-28\", \"2020-04-27\", \"2020-04-24\", \"2020-04-23\", \"2020-04-22\", \"2020-04-21\", \"2020-04-20\", \"2020-04-17\", \"2020-04-16\", \"2020-04-15\", \"2020-04-14\", \"2020-04-13\", \"2020-04-09\", \"2020-04-08\", \"2020-04-07\", \"2020-04-06\", \"2020-04-03\", \"2020-04-02\", \"2020-04-01\", \"2020-03-31\", \"2020-03-30\", \"2020-03-27\", \"2020-03-26\", \"2020-03-25\", \"2020-03-24\", \"2020-03-23\", \"2020-03-20\", \"2020-03-19\", \"2020-03-18\", \"2020-03-17\", \"2020-03-16\", \"2020-03-13\", \"2020-03-12\", \"2020-03-11\", \"2020-03-10\", \"2020-03-09\", \"2020-03-06\", \"2020-03-05\", \"2020-03-04\", \"2020-03-03\", \"2020-03-02\", \"2020-02-28\", \"2020-02-27\", \"2020-02-26\", \"2020-02-25\", \"2020-02-24\", \"2020-02-21\", \"2020-02-20\", \"2020-02-19\", \"2020-02-18\", \"2020-02-14\", \"2020-02-13\", \"2020-02-12\", \"2020-02-11\", \"2020-02-10\", \"2020-02-07\", \"2020-02-06\", \"2020-02-05\", \"2020-02-04\", \"2020-02-03\", \"2020-01-31\", \"2020-01-30\", \"2020-01-29\", \"2020-01-28\", \"2020-01-27\", \"2020-01-24\", \"2020-01-23\", \"2020-01-22\", \"2020-01-21\", \"2020-01-17\", \"2020-01-16\", \"2020-01-15\", \"2020-01-14\", \"2020-01-13\", \"2020-01-10\", \"2020-01-09\", \"2020-01-08\", \"2020-01-07\", \"2020-01-06\", \"2020-01-03\", \"2020-01-02\", \"2019-12-31\", \"2019-12-30\", \"2019-12-27\", \"2019-12-26\", \"2019-12-24\", \"2019-12-23\", \"2019-12-20\", \"2019-12-19\", \"2019-12-18\", \"2019-12-17\", \"2019-12-16\", \"2019-12-13\", \"2019-12-12\", \"2019-12-11\", \"2019-12-10\", \"2019-12-09\", \"2019-12-06\", \"2019-12-05\", \"2019-12-04\", \"2019-12-03\", \"2019-12-02\", \"2019-11-29\", \"2019-11-27\", \"2019-11-26\", \"2019-11-25\", \"2019-11-22\", \"2019-11-21\", \"2019-11-20\", \"2019-11-19\", \"2019-11-18\", \"2019-11-15\", \"2019-11-14\", \"2019-11-13\", \"2019-11-12\", \"2019-11-11\", \"2019-11-08\", \"2019-11-07\", \"2019-11-06\", \"2019-11-05\", \"2019-11-04\", \"2019-11-01\", \"2019-10-31\", \"2019-10-30\", \"2019-10-29\", \"2019-10-28\", \"2019-10-25\", \"2019-10-24\", \"2019-10-23\", \"2019-10-22\", \"2019-10-21\", \"2019-10-18\", \"2019-10-17\", \"2019-10-16\", \"2019-10-15\", \"2019-10-14\", \"2019-10-11\", \"2019-10-10\", \"2019-10-09\", \"2019-10-08\", \"2019-10-07\", \"2019-10-04\", \"2019-10-03\", \"2019-10-02\", \"2019-10-01\", \"2019-09-30\", \"2019-09-27\", \"2019-09-26\", \"2019-09-25\", \"2019-09-24\", \"2019-09-23\", \"2019-09-20\", \"2019-09-19\", \"2019-09-18\", \"2019-09-17\", \"2019-09-16\", \"2019-09-13\", \"2019-09-12\", \"2019-09-11\", \"2019-09-10\", \"2019-09-09\", \"2019-09-06\", \"2019-09-05\", \"2019-09-04\", \"2019-09-03\", \"2019-08-30\", \"2019-08-29\", \"2019-08-28\", \"2019-08-27\", \"2019-08-26\", \"2019-08-23\", \"2019-08-22\", \"2019-08-21\", \"2019-08-20\", \"2019-08-19\", \"2019-08-16\", \"2019-08-15\", \"2019-08-14\", \"2019-08-13\", \"2019-08-12\", \"2019-08-09\", \"2019-08-08\", \"2019-08-07\", \"2019-08-06\", \"2019-08-05\", \"2019-08-02\", \"2019-08-01\", \"2019-07-31\", \"2019-07-30\", \"2019-07-29\", \"2019-07-26\", \"2019-07-25\", \"2019-07-24\", \"2019-07-23\", \"2019-07-22\", \"2019-07-19\", \"2019-07-18\", \"2019-07-17\", \"2019-07-16\", \"2019-07-15\", \"2019-07-12\", \"2019-07-11\", \"2019-07-10\", \"2019-07-09\", \"2019-07-08\", \"2019-07-05\", \"2019-07-03\", \"2019-07-02\", \"2019-07-01\", \"2019-06-28\", \"2019-06-27\", \"2019-06-26\", \"2019-06-25\", \"2019-06-24\", \"2019-06-21\", \"2019-06-20\", \"2019-06-19\", \"2019-06-18\", \"2019-06-17\", \"2019-06-14\", \"2019-06-13\", \"2019-06-12\", \"2019-06-11\", \"2019-06-10\", \"2019-06-07\", \"2019-06-06\", \"2019-06-05\", \"2019-06-04\", \"2019-06-03\", \"2019-05-31\", \"2019-05-30\", \"2019-05-29\", \"2019-05-28\", \"2019-05-24\", \"2019-05-23\", \"2019-05-22\", \"2019-05-21\", \"2019-05-20\", \"2019-05-17\", \"2019-05-16\", \"2019-05-15\", \"2019-05-14\", \"2019-05-13\", \"2019-05-10\", \"2019-05-09\", \"2019-05-08\", \"2019-05-07\", \"2019-05-06\", \"2019-05-03\", \"2019-05-02\", \"2019-05-01\", \"2019-04-30\", \"2019-04-29\", \"2019-04-26\", \"2019-04-25\", \"2019-04-24\", \"2019-04-23\", \"2019-04-22\", \"2019-04-18\", \"2019-04-17\", \"2019-04-16\", \"2019-04-15\", \"2019-04-12\", \"2019-04-11\", \"2019-04-10\", \"2019-04-09\", \"2019-04-08\", \"2019-04-05\", \"2019-04-04\", \"2019-04-03\", \"2019-04-02\", \"2019-04-01\", \"2019-03-29\", \"2019-03-28\", \"2019-03-27\", \"2019-03-26\", \"2019-03-25\", \"2019-03-22\", \"2019-03-21\", \"2019-03-20\", \"2019-03-19\", \"2019-03-18\", \"2019-03-15\", \"2019-03-14\", \"2019-03-13\", \"2019-03-12\", \"2019-03-11\", \"2019-03-08\", \"2019-03-07\", \"2019-03-06\", \"2019-03-05\", \"2019-03-04\", \"2019-03-01\", \"2019-02-28\", \"2019-02-27\", \"2019-02-26\", \"2019-02-25\", \"2019-02-22\", \"2019-02-21\", \"2019-02-20\", \"2019-02-19\", \"2019-02-15\", \"2019-02-14\", \"2019-02-13\", \"2019-02-12\", \"2019-02-11\", \"2019-02-08\", \"2019-02-07\", \"2019-02-06\", \"2019-02-05\", \"2019-02-04\", \"2019-02-01\", \"2019-01-31\", \"2019-01-30\", \"2019-01-29\", \"2019-01-28\", \"2019-01-25\", \"2019-01-24\", \"2019-01-23\", \"2019-01-22\", \"2019-01-18\", \"2019-01-17\", \"2019-01-16\", \"2019-01-15\", \"2019-01-14\", \"2019-01-11\", \"2019-01-10\", \"2019-01-09\", \"2019-01-08\", \"2019-01-07\", \"2019-01-04\", \"2019-01-03\", \"2019-01-02\"], \"y\": [52.92, 53.04, 53.0, 54.45, 52.98, 52.25, 48.39, 55.86, 59.5, 61.24, 58.86, 55.65, 53.34, 50.84, 49.45, 47.91, 49.16, 52.26, 48.17, 44.1, 45.0, 45.47, 44.43, 45.67, 41.92, 42.06, 40.6, 42.35, 44.07, 46.32, 44.64, 42.95, 43.95, 45.12, 45.52, 48.05, 49.732, 46.714, 46.071000000000005, 42.647, 42.013999999999996, 41.79600000000001, 41.133, 43.548, 44.973, 40.094, 42.41, 44.943000000000005, 46.19, 46.912, 43.795, 40.817, 40.688, 37.096, 38.818000000000005, 38.106, 41.678000000000004, 43.617, 43.34, 45.537, 41.42, 40.233000000000004, 35.018, 37.66, 39.224000000000004, 36.047, 39.827, 40.757, 50.504, 42.806000000000004, 50.257, 54.996, 50.83, 60.636, 62.823, 66.682, 64.367, 66.88, 62.794, 63.773, 67.464, 68.70100000000001, 71.768, 75.637, 77.398, 77.23, 76.765, 77.96300000000001, 78.17, 78.497, 78.259, 77.656, 77.86399999999999, 78.141, 78.02199999999999, 75.697, 74.34100000000001, 73.62899999999999, 76.112, 75.178, 75.925, 75.405, 77.085, 78.441, 78.736, 78.54, 79.74, 79.62100000000001, 79.857, 80.515, 79.278, 77.90100000000001, 78.717, 78.009, 77.419, 78.098, 78.343, 79.848, 78.53, 78.156, 78.314, 78.471, 77.252, 77.419, 77.17399999999999, 76.869, 76.594, 76.417, 75.601, 75.09, 75.73899999999999, 74.264, 74.49, 74.048, 74.52, 73.439, 72.967, 72.082, 73.252, 73.84100000000001, 74.431, 74.176, 74.392, 73.596, 72.642, 72.652, 73.546, 73.134, 73.134, 72.584, 72.652, 73.793, 74.313, 74.825, 74.52, 73.154, 73.556, 73.87100000000001, 72.584, 70.13600000000001, 71.219, 71.336, 71.825, 71.414, 70.565, 70.711, 70.332, 70.086, 68.067, 67.93, 67.832, 69.51100000000001, 68.554, 68.418, 66.973, 65.811, 64.807, 66.514, 66.544, 65.1, 64.671, 66.514, 67.422, 67.793, 67.452, 67.715, 66.271, 67.881, 67.686, 68.057, 68.40899999999999, 67.813, 68.154, 68.70100000000001, 67.637, 67.24600000000001, 67.324, 67.139, 64.388, 64.748, 62.738, 61.898, 62.805, 62.36600000000001, 60.863, 60.18, 61.215, 60.463, 62.376000000000005, 61.732, 61.898, 62.766999999999996, 61.956, 59.849, 59.93600000000001, 63.273999999999994, 62.718, 64.465, 65.139, 63.577, 64.661, 63.61600000000001, 65.988, 66.212, 68.934, 69.468, 69.516, 69.904, 69.157, 70.726, 69.73899999999999, 68.885, 68.702, 69.544, 68.605, 69.09, 69.468, 69.524, 69.37100000000001, 68.905, 69.322, 68.905, 69.167, 68.634, 68.237, 68.528, 67.839, 66.018, 65.117, 64.459, 65.301, 65.844, 65.97, 65.476, 65.854, 64.459, 65.369, 64.98100000000001, 64.719, 65.757, 65.02, 63.636, 64.392, 63.723, 63.818999999999996, 60.652, 60.206, 61.62, 61.717, 61.795, 62.376000000000005, 61.901, 62.638000000000005, 64.014, 62.927, 63.035, 63.917, 62.841, 63.218, 62.36600000000001, 65.77600000000001, 65.515, 66.086, 66.028, 68.208, 68.459, 67.723, 67.33800000000001, 68.051, 68.368, 66.905, 66.154, 66.251, 66.607, 66.5, 67.058, 67.71300000000001, 66.71300000000001, 64.854, 64.893, 63.44, 63.06399999999999, 62.757, 63.593999999999994, 63.093, 63.353, 62.622, 62.006, 61.948, 59.888999999999996, 59.657, 58.455, 58.926, 58.07, 58.695, 61.515, 61.89, 63.17100000000001, 63.458999999999996, 62.748000000000005, 61.708, 61.265, 60.455, 59.974, 59.735, 59.581, 60.167, 60.571999999999996, 61.361000000000004, 62.053999999999995, 61.582, 61.986999999999995, 61.717, 62.111999999999995, 61.736000000000004, 61.91, 62.218999999999994, 61.967, 61.861000000000004, 60.08, 60.678000000000004, 60.321000000000005, 59.302, 59.68600000000001, 60.455, 61.495, 61.418, 61.66, 61.284, 61.611000000000004, 61.382, 60.418, 61.027, 61.191, 59.938, 59.38399999999999, 59.117, 60.33, 59.708999999999996, 59.442, 58.667, 56.326, 54.185, 53.946000000000005, 53.888000000000005, 53.01, 53.153, 52.693999999999996, 50.236999999999995, 51.163999999999994]}, {\"line\": {\"color\": \"rgba(50, 171, 96, 1.0)\", \"dash\": \"solid\", \"shape\": \"linear\", \"width\": 1.3}, \"mode\": \"lines\", \"name\": \"GS\", \"text\": \"\", \"type\": \"scatter\", \"x\": [\"2020-06-19\", \"2020-06-18\", \"2020-06-17\", \"2020-06-16\", \"2020-06-15\", \"2020-06-12\", \"2020-06-11\", \"2020-06-10\", \"2020-06-09\", \"2020-06-08\", \"2020-06-05\", \"2020-06-04\", \"2020-06-03\", \"2020-06-02\", \"2020-06-01\", \"2020-05-29\", \"2020-05-28\", \"2020-05-27\", \"2020-05-26\", \"2020-05-22\", \"2020-05-21\", \"2020-05-20\", \"2020-05-19\", \"2020-05-18\", \"2020-05-15\", \"2020-05-14\", \"2020-05-13\", \"2020-05-12\", \"2020-05-11\", \"2020-05-08\", \"2020-05-07\", \"2020-05-06\", \"2020-05-05\", \"2020-05-04\", \"2020-05-01\", \"2020-04-30\", \"2020-04-29\", \"2020-04-28\", \"2020-04-27\", \"2020-04-24\", \"2020-04-23\", \"2020-04-22\", \"2020-04-21\", \"2020-04-20\", \"2020-04-17\", \"2020-04-16\", \"2020-04-15\", \"2020-04-14\", \"2020-04-13\", \"2020-04-09\", \"2020-04-08\", \"2020-04-07\", \"2020-04-06\", \"2020-04-03\", \"2020-04-02\", \"2020-04-01\", \"2020-03-31\", \"2020-03-30\", \"2020-03-27\", \"2020-03-26\", \"2020-03-25\", \"2020-03-24\", \"2020-03-23\", \"2020-03-20\", \"2020-03-19\", \"2020-03-18\", \"2020-03-17\", \"2020-03-16\", \"2020-03-13\", \"2020-03-12\", \"2020-03-11\", \"2020-03-10\", \"2020-03-09\", \"2020-03-06\", \"2020-03-05\", \"2020-03-04\", \"2020-03-03\", \"2020-03-02\", \"2020-02-28\", \"2020-02-27\", \"2020-02-26\", \"2020-02-25\", \"2020-02-24\", \"2020-02-21\", \"2020-02-20\", \"2020-02-19\", \"2020-02-18\", \"2020-02-14\", \"2020-02-13\", \"2020-02-12\", \"2020-02-11\", \"2020-02-10\", \"2020-02-07\", \"2020-02-06\", \"2020-02-05\", \"2020-02-04\", \"2020-02-03\", \"2020-01-31\", \"2020-01-30\", \"2020-01-29\", \"2020-01-28\", \"2020-01-27\", \"2020-01-24\", \"2020-01-23\", \"2020-01-22\", \"2020-01-21\", \"2020-01-17\", \"2020-01-16\", \"2020-01-15\", \"2020-01-14\", \"2020-01-13\", \"2020-01-10\", \"2020-01-09\", \"2020-01-08\", \"2020-01-07\", \"2020-01-06\", \"2020-01-03\", \"2020-01-02\", \"2019-12-31\", \"2019-12-30\", \"2019-12-27\", \"2019-12-26\", \"2019-12-24\", \"2019-12-23\", \"2019-12-20\", \"2019-12-19\", \"2019-12-18\", \"2019-12-17\", \"2019-12-16\", \"2019-12-13\", \"2019-12-12\", \"2019-12-11\", \"2019-12-10\", \"2019-12-09\", \"2019-12-06\", \"2019-12-05\", \"2019-12-04\", \"2019-12-03\", \"2019-12-02\", \"2019-11-29\", \"2019-11-27\", \"2019-11-26\", \"2019-11-25\", \"2019-11-22\", \"2019-11-21\", \"2019-11-20\", \"2019-11-19\", \"2019-11-18\", \"2019-11-15\", \"2019-11-14\", \"2019-11-13\", \"2019-11-12\", \"2019-11-11\", \"2019-11-08\", \"2019-11-07\", \"2019-11-06\", \"2019-11-05\", \"2019-11-04\", \"2019-11-01\", \"2019-10-31\", \"2019-10-30\", \"2019-10-29\", \"2019-10-28\", \"2019-10-25\", \"2019-10-24\", \"2019-10-23\", \"2019-10-22\", \"2019-10-21\", \"2019-10-18\", \"2019-10-17\", \"2019-10-16\", \"2019-10-15\", \"2019-10-14\", \"2019-10-11\", \"2019-10-10\", \"2019-10-09\", \"2019-10-08\", \"2019-10-07\", \"2019-10-04\", \"2019-10-03\", \"2019-10-02\", \"2019-10-01\", \"2019-09-30\", \"2019-09-27\", \"2019-09-26\", \"2019-09-25\", \"2019-09-24\", \"2019-09-23\", \"2019-09-20\", \"2019-09-19\", \"2019-09-18\", \"2019-09-17\", \"2019-09-16\", \"2019-09-13\", \"2019-09-12\", \"2019-09-11\", \"2019-09-10\", \"2019-09-09\", \"2019-09-06\", \"2019-09-05\", \"2019-09-04\", \"2019-09-03\", \"2019-08-30\", \"2019-08-29\", \"2019-08-28\", \"2019-08-27\", \"2019-08-26\", \"2019-08-23\", \"2019-08-22\", \"2019-08-21\", \"2019-08-20\", \"2019-08-19\", \"2019-08-16\", \"2019-08-15\", \"2019-08-14\", \"2019-08-13\", \"2019-08-12\", \"2019-08-09\", \"2019-08-08\", \"2019-08-07\", \"2019-08-06\", \"2019-08-05\", \"2019-08-02\", \"2019-08-01\", \"2019-07-31\", \"2019-07-30\", \"2019-07-29\", \"2019-07-26\", \"2019-07-25\", \"2019-07-24\", \"2019-07-23\", \"2019-07-22\", \"2019-07-19\", \"2019-07-18\", \"2019-07-17\", \"2019-07-16\", \"2019-07-15\", \"2019-07-12\", \"2019-07-11\", \"2019-07-10\", \"2019-07-09\", \"2019-07-08\", \"2019-07-05\", \"2019-07-03\", \"2019-07-02\", \"2019-07-01\", \"2019-06-28\", \"2019-06-27\", \"2019-06-26\", \"2019-06-25\", \"2019-06-24\", \"2019-06-21\", \"2019-06-20\", \"2019-06-19\", \"2019-06-18\", \"2019-06-17\", \"2019-06-14\", \"2019-06-13\", \"2019-06-12\", \"2019-06-11\", \"2019-06-10\", \"2019-06-07\", \"2019-06-06\", \"2019-06-05\", \"2019-06-04\", \"2019-06-03\", \"2019-05-31\", \"2019-05-30\", \"2019-05-29\", \"2019-05-28\", \"2019-05-24\", \"2019-05-23\", \"2019-05-22\", \"2019-05-21\", \"2019-05-20\", \"2019-05-17\", \"2019-05-16\", \"2019-05-15\", \"2019-05-14\", \"2019-05-13\", \"2019-05-10\", \"2019-05-09\", \"2019-05-08\", \"2019-05-07\", \"2019-05-06\", \"2019-05-03\", \"2019-05-02\", \"2019-05-01\", \"2019-04-30\", \"2019-04-29\", \"2019-04-26\", \"2019-04-25\", \"2019-04-24\", \"2019-04-23\", \"2019-04-22\", \"2019-04-18\", \"2019-04-17\", \"2019-04-16\", \"2019-04-15\", \"2019-04-12\", \"2019-04-11\", \"2019-04-10\", \"2019-04-09\", \"2019-04-08\", \"2019-04-05\", \"2019-04-04\", \"2019-04-03\", \"2019-04-02\", \"2019-04-01\", \"2019-03-29\", \"2019-03-28\", \"2019-03-27\", \"2019-03-26\", \"2019-03-25\", \"2019-03-22\", \"2019-03-21\", \"2019-03-20\", \"2019-03-19\", \"2019-03-18\", \"2019-03-15\", \"2019-03-14\", \"2019-03-13\", \"2019-03-12\", \"2019-03-11\", \"2019-03-08\", \"2019-03-07\", \"2019-03-06\", \"2019-03-05\", \"2019-03-04\", \"2019-03-01\", \"2019-02-28\", \"2019-02-27\", \"2019-02-26\", \"2019-02-25\", \"2019-02-22\", \"2019-02-21\", \"2019-02-20\", \"2019-02-19\", \"2019-02-15\", \"2019-02-14\", \"2019-02-13\", \"2019-02-12\", \"2019-02-11\", \"2019-02-08\", \"2019-02-07\", \"2019-02-06\", \"2019-02-05\", \"2019-02-04\", \"2019-02-01\", \"2019-01-31\", \"2019-01-30\", \"2019-01-29\", \"2019-01-28\", \"2019-01-25\", \"2019-01-24\", \"2019-01-23\", \"2019-01-22\", \"2019-01-18\", \"2019-01-17\", \"2019-01-16\", \"2019-01-15\", \"2019-01-14\", \"2019-01-11\", \"2019-01-10\", \"2019-01-09\", \"2019-01-08\", \"2019-01-07\", \"2019-01-04\", \"2019-01-03\", \"2019-01-02\"], \"y\": [201.63, 203.84, 206.19, 209.59, 206.31, 201.78, 194.13, 213.52, 218.1, 220.81, 217.92, 214.82, 210.57, 204.14, 199.93, 196.49, 199.97, 208.36, 194.84, 178.81, 178.98, 180.31, 176.73, 180.75, 170.8, 173.37, 170.73, 176.11, 182.02, 184.24, 181.19, 175.82, 177.19, 174.94, 176.0, 182.28, 188.85, 185.85, 182.4, 175.9, 173.96, 174.89, 172.73, 179.28, 182.35, 175.94, 177.41, 177.12, 178.07, 183.12, 175.86, 164.99, 157.25, 146.02, 149.0, 144.39, 153.63, 158.63, 157.36, 164.76, 154.17, 152.65, 134.13, 137.55, 148.56, 139.15, 157.68, 153.7, 176.07, 149.74, 170.82, 183.2, 171.74, 191.65, 197.56, 207.44, 202.17, 208.17, 199.52, 203.17, 213.14, 214.95, 221.79, 227.8, 229.88, 234.42, 230.35, 234.18, 235.43, 235.73, 233.56, 234.45, 235.08, 238.86, 241.31, 238.98, 236.08, 234.84, 241.14, 237.18, 239.61, 235.22, 238.96, 242.57, 244.02, 242.69, 246.4, 246.66, 242.21, 242.65, 242.21, 239.15, 239.63, 234.85, 232.61, 231.09, 228.74, 231.45, 227.11, 226.98, 227.84, 228.37, 227.09, 226.29, 226.13, 227.12, 227.63, 228.32, 225.24, 222.24, 223.28, 218.48, 219.16, 219.09, 221.86, 214.48, 213.3, 209.64, 214.98, 218.63, 218.98, 218.49, 218.78, 216.36, 214.35, 214.03, 216.13, 215.82, 216.34, 215.52, 215.41, 216.49, 215.14, 218.94, 219.32, 214.54, 214.75, 215.96, 213.53, 209.58, 211.97, 213.76, 213.87, 210.42, 207.29, 207.56, 205.86, 205.54, 202.84, 202.78, 203.74, 202.78, 202.17, 201.03, 196.31, 193.35, 193.86, 196.84, 197.23, 193.73, 194.72, 199.09, 203.55, 205.26, 204.51, 206.29, 204.05, 209.66, 209.94, 211.4, 213.22, 212.07, 213.36, 215.99, 214.85, 212.94, 211.8, 208.21, 203.53, 203.37, 198.14, 195.43, 200.29, 199.82, 195.63, 193.33, 194.87, 191.51, 197.57, 195.88, 195.2, 197.37, 194.65, 191.49, 190.89, 199.22, 196.7, 201.96, 202.06, 200.81, 201.08, 196.86, 204.35, 206.54, 214.87, 216.11, 215.06, 216.82, 214.72, 216.73, 214.18, 208.88, 208.42, 209.38, 208.2, 210.37, 206.52, 208.83, 206.29, 201.04, 202.79, 200.82, 202.92, 201.1, 201.05, 201.92, 199.7, 194.55, 192.3, 191.37, 192.77, 191.25, 191.02, 190.97, 190.31, 186.27, 187.07, 186.87, 185.67, 190.08, 189.48, 185.27, 185.27, 183.93, 185.34, 178.81, 178.12, 182.89, 183.55, 184.08, 187.54, 186.54, 189.99, 193.48, 191.67, 191.83, 193.51, 190.85, 190.73, 189.46, 196.33, 195.93, 195.27, 196.9, 200.6, 201.65, 199.18, 198.94, 200.1, 201.06, 197.34, 195.71, 194.86, 198.36, 198.82, 200.09, 202.03, 196.12, 194.25, 201.97, 197.09, 197.24, 194.94, 196.81, 196.65, 196.5, 195.18, 191.9, 191.17, 186.56, 185.77, 184.66, 185.29, 183.17, 183.61, 189.08, 188.82, 195.43, 196.74, 192.65, 191.87, 191.67, 191.07, 190.42, 189.71, 187.32, 189.24, 190.45, 190.43, 192.6, 191.14, 192.5, 192.5, 192.25, 189.68, 190.04, 192.2, 192.27, 192.1, 186.34, 188.42, 188.23, 185.16, 185.49, 186.85, 190.28, 191.64, 191.35, 190.2, 191.64, 195.97, 194.04, 193.29, 194.27, 191.43, 190.56, 191.31, 196.01, 192.68, 190.74, 174.13, 172.96, 171.24, 170.33, 170.79, 169.73, 170.35, 169.42, 164.04, 166.5]}, {\"line\": {\"color\": \"rgba(128, 0, 128, 1.0)\", \"dash\": \"solid\", \"shape\": \"linear\", \"width\": 1.3}, \"mode\": \"lines\", \"name\": \"JPM\", \"text\": \"\", \"type\": \"scatter\", \"x\": [\"2020-06-19\", \"2020-06-18\", \"2020-06-17\", \"2020-06-16\", \"2020-06-15\", \"2020-06-12\", \"2020-06-11\", \"2020-06-10\", \"2020-06-09\", \"2020-06-08\", \"2020-06-05\", \"2020-06-04\", \"2020-06-03\", \"2020-06-02\", \"2020-06-01\", \"2020-05-29\", \"2020-05-28\", \"2020-05-27\", \"2020-05-26\", \"2020-05-22\", \"2020-05-21\", \"2020-05-20\", \"2020-05-19\", \"2020-05-18\", \"2020-05-15\", \"2020-05-14\", \"2020-05-13\", \"2020-05-12\", \"2020-05-11\", \"2020-05-08\", \"2020-05-07\", \"2020-05-06\", \"2020-05-05\", \"2020-05-04\", \"2020-05-01\", \"2020-04-30\", \"2020-04-29\", \"2020-04-28\", \"2020-04-27\", \"2020-04-24\", \"2020-04-23\", \"2020-04-22\", \"2020-04-21\", \"2020-04-20\", \"2020-04-17\", \"2020-04-16\", \"2020-04-15\", \"2020-04-14\", \"2020-04-13\", \"2020-04-09\", \"2020-04-08\", \"2020-04-07\", \"2020-04-06\", \"2020-04-03\", \"2020-04-02\", \"2020-04-01\", \"2020-03-31\", \"2020-03-30\", \"2020-03-27\", \"2020-03-26\", \"2020-03-25\", \"2020-03-24\", \"2020-03-23\", \"2020-03-20\", \"2020-03-19\", \"2020-03-18\", \"2020-03-17\", \"2020-03-16\", \"2020-03-13\", \"2020-03-12\", \"2020-03-11\", \"2020-03-10\", \"2020-03-09\", \"2020-03-06\", \"2020-03-05\", \"2020-03-04\", \"2020-03-03\", \"2020-03-02\", \"2020-02-28\", \"2020-02-27\", \"2020-02-26\", \"2020-02-25\", \"2020-02-24\", \"2020-02-21\", \"2020-02-20\", \"2020-02-19\", \"2020-02-18\", \"2020-02-14\", \"2020-02-13\", \"2020-02-12\", \"2020-02-11\", \"2020-02-10\", \"2020-02-07\", \"2020-02-06\", \"2020-02-05\", \"2020-02-04\", \"2020-02-03\", \"2020-01-31\", \"2020-01-30\", \"2020-01-29\", \"2020-01-28\", \"2020-01-27\", \"2020-01-24\", \"2020-01-23\", \"2020-01-22\", \"2020-01-21\", \"2020-01-17\", \"2020-01-16\", \"2020-01-15\", \"2020-01-14\", \"2020-01-13\", \"2020-01-10\", \"2020-01-09\", \"2020-01-08\", \"2020-01-07\", \"2020-01-06\", \"2020-01-03\", \"2020-01-02\", \"2019-12-31\", \"2019-12-30\", \"2019-12-27\", \"2019-12-26\", \"2019-12-24\", \"2019-12-23\", \"2019-12-20\", \"2019-12-19\", \"2019-12-18\", \"2019-12-17\", \"2019-12-16\", \"2019-12-13\", \"2019-12-12\", \"2019-12-11\", \"2019-12-10\", \"2019-12-09\", \"2019-12-06\", \"2019-12-05\", \"2019-12-04\", \"2019-12-03\", \"2019-12-02\", \"2019-11-29\", \"2019-11-27\", \"2019-11-26\", \"2019-11-25\", \"2019-11-22\", \"2019-11-21\", \"2019-11-20\", \"2019-11-19\", \"2019-11-18\", \"2019-11-15\", \"2019-11-14\", \"2019-11-13\", \"2019-11-12\", \"2019-11-11\", \"2019-11-08\", \"2019-11-07\", \"2019-11-06\", \"2019-11-05\", \"2019-11-04\", \"2019-11-01\", \"2019-10-31\", \"2019-10-30\", \"2019-10-29\", \"2019-10-28\", \"2019-10-25\", \"2019-10-24\", \"2019-10-23\", \"2019-10-22\", \"2019-10-21\", \"2019-10-18\", \"2019-10-17\", \"2019-10-16\", \"2019-10-15\", \"2019-10-14\", \"2019-10-11\", \"2019-10-10\", \"2019-10-09\", \"2019-10-08\", \"2019-10-07\", \"2019-10-04\", \"2019-10-03\", \"2019-10-02\", \"2019-10-01\", \"2019-09-30\", \"2019-09-27\", \"2019-09-26\", \"2019-09-25\", \"2019-09-24\", \"2019-09-23\", \"2019-09-20\", \"2019-09-19\", \"2019-09-18\", \"2019-09-17\", \"2019-09-16\", \"2019-09-13\", \"2019-09-12\", \"2019-09-11\", \"2019-09-10\", \"2019-09-09\", \"2019-09-06\", \"2019-09-05\", \"2019-09-04\", \"2019-09-03\", \"2019-08-30\", \"2019-08-29\", \"2019-08-28\", \"2019-08-27\", \"2019-08-26\", \"2019-08-23\", \"2019-08-22\", \"2019-08-21\", \"2019-08-20\", \"2019-08-19\", \"2019-08-16\", \"2019-08-15\", \"2019-08-14\", \"2019-08-13\", \"2019-08-12\", \"2019-08-09\", \"2019-08-08\", \"2019-08-07\", \"2019-08-06\", \"2019-08-05\", \"2019-08-02\", \"2019-08-01\", \"2019-07-31\", \"2019-07-30\", \"2019-07-29\", \"2019-07-26\", \"2019-07-25\", \"2019-07-24\", \"2019-07-23\", \"2019-07-22\", \"2019-07-19\", \"2019-07-18\", \"2019-07-17\", \"2019-07-16\", \"2019-07-15\", \"2019-07-12\", \"2019-07-11\", \"2019-07-10\", \"2019-07-09\", \"2019-07-08\", \"2019-07-05\", \"2019-07-03\", \"2019-07-02\", \"2019-07-01\", \"2019-06-28\", \"2019-06-27\", \"2019-06-26\", \"2019-06-25\", \"2019-06-24\", \"2019-06-21\", \"2019-06-20\", \"2019-06-19\", \"2019-06-18\", \"2019-06-17\", \"2019-06-14\", \"2019-06-13\", \"2019-06-12\", \"2019-06-11\", \"2019-06-10\", \"2019-06-07\", \"2019-06-06\", \"2019-06-05\", \"2019-06-04\", \"2019-06-03\", \"2019-05-31\", \"2019-05-30\", \"2019-05-29\", \"2019-05-28\", \"2019-05-24\", \"2019-05-23\", \"2019-05-22\", \"2019-05-21\", \"2019-05-20\", \"2019-05-17\", \"2019-05-16\", \"2019-05-15\", \"2019-05-14\", \"2019-05-13\", \"2019-05-10\", \"2019-05-09\", \"2019-05-08\", \"2019-05-07\", \"2019-05-06\", \"2019-05-03\", \"2019-05-02\", \"2019-05-01\", \"2019-04-30\", \"2019-04-29\", \"2019-04-26\", \"2019-04-25\", \"2019-04-24\", \"2019-04-23\", \"2019-04-22\", \"2019-04-18\", \"2019-04-17\", \"2019-04-16\", \"2019-04-15\", \"2019-04-12\", \"2019-04-11\", \"2019-04-10\", \"2019-04-09\", \"2019-04-08\", \"2019-04-05\", \"2019-04-04\", \"2019-04-03\", \"2019-04-02\", \"2019-04-01\", \"2019-03-29\", \"2019-03-28\", \"2019-03-27\", \"2019-03-26\", \"2019-03-25\", \"2019-03-22\", \"2019-03-21\", \"2019-03-20\", \"2019-03-19\", \"2019-03-18\", \"2019-03-15\", \"2019-03-14\", \"2019-03-13\", \"2019-03-12\", \"2019-03-11\", \"2019-03-08\", \"2019-03-07\", \"2019-03-06\", \"2019-03-05\", \"2019-03-04\", \"2019-03-01\", \"2019-02-28\", \"2019-02-27\", \"2019-02-26\", \"2019-02-25\", \"2019-02-22\", \"2019-02-21\", \"2019-02-20\", \"2019-02-19\", \"2019-02-15\", \"2019-02-14\", \"2019-02-13\", \"2019-02-12\", \"2019-02-11\", \"2019-02-08\", \"2019-02-07\", \"2019-02-06\", \"2019-02-05\", \"2019-02-04\", \"2019-02-01\", \"2019-01-31\", \"2019-01-30\", \"2019-01-29\", \"2019-01-28\", \"2019-01-25\", \"2019-01-24\", \"2019-01-23\", \"2019-01-22\", \"2019-01-18\", \"2019-01-17\", \"2019-01-16\", \"2019-01-15\", \"2019-01-14\", \"2019-01-11\", \"2019-01-10\", \"2019-01-09\", \"2019-01-08\", \"2019-01-07\", \"2019-01-04\", \"2019-01-03\", \"2019-01-02\"], \"y\": [97.81, 98.94, 99.48, 102.06, 101.25, 99.87, 97.21, 106.06, 110.54, 113.45, 111.23, 106.44, 104.27, 98.93, 98.6, 97.31, 99.86, 101.37, 95.82, 89.47, 90.17, 91.33, 88.67, 90.45, 85.9, 87.52, 84.03, 87.03, 89.97, 92.7, 91.21, 90.27, 92.0, 92.14, 93.25, 95.76, 97.86, 95.29, 94.62, 90.71, 89.39, 89.34, 89.05, 91.71, 95.18, 87.33, 90.79, 95.5, 98.19, 102.76, 94.3, 90.64, 89.46, 84.05, 86.61, 83.492, 89.104, 92.538, 90.193, 97.111, 90.787, 87.521, 78.217, 82.641, 84.42299999999999, 83.027, 92.796, 87.45100000000001, 102.84, 87.14399999999999, 94.973, 99.66, 92.479, 106.97, 112.8, 118.62, 115.76, 120.27, 114.92, 120.12, 125.34, 124.96, 130.8, 134.41, 136.08, 136.08, 134.25, 136.05, 136.46, 136.58, 136.58, 136.32, 135.76, 136.19, 136.17, 133.9, 132.0, 131.0, 134.49, 132.85, 133.05, 130.67, 131.78, 135.14, 135.27, 135.43, 136.78, 135.84, 135.31, 137.37, 135.79, 134.67, 136.03, 135.53, 134.48, 136.81, 136.92, 138.75, 137.09, 136.33, 136.83, 136.73, 135.29, 134.92, 134.96, 135.07, 135.75, 135.89, 135.06, 134.54, 135.73, 131.95, 132.27, 132.18, 132.8, 130.85, 130.15, 127.62, 129.29, 129.57, 129.87, 129.48, 129.31, 128.62, 127.77, 127.48, 128.42, 128.46, 127.38, 126.47, 126.35, 127.02, 127.76, 128.22, 127.84, 127.16, 126.96, 126.68, 125.67, 122.84, 123.65, 124.33, 124.41, 123.94, 122.95, 123.04, 122.71, 121.5, 118.56, 118.35, 117.7, 117.96, 114.52, 114.21, 112.31, 110.76, 109.97, 112.47, 112.72, 110.32, 110.48, 112.73, 114.82, 114.85, 114.17, 115.11, 114.47, 115.98, 116.0, 116.46, 116.84, 115.68, 116.25, 117.29, 115.02, 114.33, 114.02, 112.58, 109.87, 109.63, 107.19, 105.91, 107.18, 106.55, 104.19, 103.16, 104.26, 103.44, 106.07, 104.98, 104.69, 106.04, 105.09, 102.62, 102.25, 106.67, 105.12, 107.07, 107.18, 105.39, 107.73, 106.9, 110.18, 110.19, 113.17, 112.77, 113.03, 113.38, 112.89, 113.98, 113.52, 111.48, 110.77, 111.87, 111.2, 112.31, 111.12, 112.48, 111.31, 110.25, 110.58, 110.12, 110.72, 110.07, 110.23, 110.13, 108.3, 105.43, 105.09, 104.39, 105.27, 106.02, 106.75, 106.47, 107.25, 105.8, 106.38, 106.12, 105.85, 107.22, 106.89, 105.74, 106.92, 106.69, 106.31, 103.13, 102.64, 103.72, 104.84, 105.13, 106.28, 105.25, 107.35, 108.24, 107.87, 107.3, 107.83, 106.46, 106.87, 106.03, 108.99, 109.0, 109.09, 109.67, 111.49, 112.48, 111.8, 111.56, 112.41, 112.48, 110.9, 110.06, 110.0, 110.19, 110.05, 109.91, 110.73, 107.62, 106.5, 107.73, 102.9, 102.05, 101.58, 102.36, 102.02, 102.27, 101.28, 101.08, 100.6, 97.315, 96.824, 95.73299999999999, 96.061, 95.109, 95.906, 98.89200000000001, 100.49, 102.66, 103.05, 102.45, 101.28, 100.36, 100.02, 100.32, 99.031, 98.991, 99.71, 100.08, 100.16, 100.4, 100.33, 101.1, 101.23, 102.0, 100.95, 101.39, 101.6, 101.12, 101.47, 98.46799999999999, 99.11, 98.635, 96.979, 97.441, 98.429, 99.73, 99.78, 100.22, 99.87, 99.49600000000001, 100.38, 100.14, 99.87, 99.397, 98.774, 98.714, 98.962, 100.56, 98.94200000000001, 98.536, 97.75399999999999, 97.039, 96.051, 96.515, 96.525, 96.68799999999999, 96.863, 96.805, 93.36, 94.706]}, {\"line\": {\"color\": \"rgba(219, 64, 82, 1.0)\", \"dash\": \"solid\", \"shape\": \"linear\", \"width\": 1.3}, \"mode\": \"lines\", \"name\": \"MS\", \"text\": \"\", \"type\": \"scatter\", \"x\": [\"2020-06-19\", \"2020-06-18\", \"2020-06-17\", \"2020-06-16\", \"2020-06-15\", \"2020-06-12\", \"2020-06-11\", \"2020-06-10\", \"2020-06-09\", \"2020-06-08\", \"2020-06-05\", \"2020-06-04\", \"2020-06-03\", \"2020-06-02\", \"2020-06-01\", \"2020-05-29\", \"2020-05-28\", \"2020-05-27\", \"2020-05-26\", \"2020-05-22\", \"2020-05-21\", \"2020-05-20\", \"2020-05-19\", \"2020-05-18\", \"2020-05-15\", \"2020-05-14\", \"2020-05-13\", \"2020-05-12\", \"2020-05-11\", \"2020-05-08\", \"2020-05-07\", \"2020-05-06\", \"2020-05-05\", \"2020-05-04\", \"2020-05-01\", \"2020-04-30\", \"2020-04-29\", \"2020-04-28\", \"2020-04-27\", \"2020-04-24\", \"2020-04-23\", \"2020-04-22\", \"2020-04-21\", \"2020-04-20\", \"2020-04-17\", \"2020-04-16\", \"2020-04-15\", \"2020-04-14\", \"2020-04-13\", \"2020-04-09\", \"2020-04-08\", \"2020-04-07\", \"2020-04-06\", \"2020-04-03\", \"2020-04-02\", \"2020-04-01\", \"2020-03-31\", \"2020-03-30\", \"2020-03-27\", \"2020-03-26\", \"2020-03-25\", \"2020-03-24\", \"2020-03-23\", \"2020-03-20\", \"2020-03-19\", \"2020-03-18\", \"2020-03-17\", \"2020-03-16\", \"2020-03-13\", \"2020-03-12\", \"2020-03-11\", \"2020-03-10\", \"2020-03-09\", \"2020-03-06\", \"2020-03-05\", \"2020-03-04\", \"2020-03-03\", \"2020-03-02\", \"2020-02-28\", \"2020-02-27\", \"2020-02-26\", \"2020-02-25\", \"2020-02-24\", \"2020-02-21\", \"2020-02-20\", \"2020-02-19\", \"2020-02-18\", \"2020-02-14\", \"2020-02-13\", \"2020-02-12\", \"2020-02-11\", \"2020-02-10\", \"2020-02-07\", \"2020-02-06\", \"2020-02-05\", \"2020-02-04\", \"2020-02-03\", \"2020-01-31\", \"2020-01-30\", \"2020-01-29\", \"2020-01-28\", \"2020-01-27\", \"2020-01-24\", \"2020-01-23\", \"2020-01-22\", \"2020-01-21\", \"2020-01-17\", \"2020-01-16\", \"2020-01-15\", \"2020-01-14\", \"2020-01-13\", \"2020-01-10\", \"2020-01-09\", \"2020-01-08\", \"2020-01-07\", \"2020-01-06\", \"2020-01-03\", \"2020-01-02\", \"2019-12-31\", \"2019-12-30\", \"2019-12-27\", \"2019-12-26\", \"2019-12-24\", \"2019-12-23\", \"2019-12-20\", \"2019-12-19\", \"2019-12-18\", \"2019-12-17\", \"2019-12-16\", \"2019-12-13\", \"2019-12-12\", \"2019-12-11\", \"2019-12-10\", \"2019-12-09\", \"2019-12-06\", \"2019-12-05\", \"2019-12-04\", \"2019-12-03\", \"2019-12-02\", \"2019-11-29\", \"2019-11-27\", \"2019-11-26\", \"2019-11-25\", \"2019-11-22\", \"2019-11-21\", \"2019-11-20\", \"2019-11-19\", \"2019-11-18\", \"2019-11-15\", \"2019-11-14\", \"2019-11-13\", \"2019-11-12\", \"2019-11-11\", \"2019-11-08\", \"2019-11-07\", \"2019-11-06\", \"2019-11-05\", \"2019-11-04\", \"2019-11-01\", \"2019-10-31\", \"2019-10-30\", \"2019-10-29\", \"2019-10-28\", \"2019-10-25\", \"2019-10-24\", \"2019-10-23\", \"2019-10-22\", \"2019-10-21\", \"2019-10-18\", \"2019-10-17\", \"2019-10-16\", \"2019-10-15\", \"2019-10-14\", \"2019-10-11\", \"2019-10-10\", \"2019-10-09\", \"2019-10-08\", \"2019-10-07\", \"2019-10-04\", \"2019-10-03\", \"2019-10-02\", \"2019-10-01\", \"2019-09-30\", \"2019-09-27\", \"2019-09-26\", \"2019-09-25\", \"2019-09-24\", \"2019-09-23\", \"2019-09-20\", \"2019-09-19\", \"2019-09-18\", \"2019-09-17\", \"2019-09-16\", \"2019-09-13\", \"2019-09-12\", \"2019-09-11\", \"2019-09-10\", \"2019-09-09\", \"2019-09-06\", \"2019-09-05\", \"2019-09-04\", \"2019-09-03\", \"2019-08-30\", \"2019-08-29\", \"2019-08-28\", \"2019-08-27\", \"2019-08-26\", \"2019-08-23\", \"2019-08-22\", \"2019-08-21\", \"2019-08-20\", \"2019-08-19\", \"2019-08-16\", \"2019-08-15\", \"2019-08-14\", \"2019-08-13\", \"2019-08-12\", \"2019-08-09\", \"2019-08-08\", \"2019-08-07\", \"2019-08-06\", \"2019-08-05\", \"2019-08-02\", \"2019-08-01\", \"2019-07-31\", \"2019-07-30\", \"2019-07-29\", \"2019-07-26\", \"2019-07-25\", \"2019-07-24\", \"2019-07-23\", \"2019-07-22\", \"2019-07-19\", \"2019-07-18\", \"2019-07-17\", \"2019-07-16\", \"2019-07-15\", \"2019-07-12\", \"2019-07-11\", \"2019-07-10\", \"2019-07-09\", \"2019-07-08\", \"2019-07-05\", \"2019-07-03\", \"2019-07-02\", \"2019-07-01\", \"2019-06-28\", \"2019-06-27\", \"2019-06-26\", \"2019-06-25\", \"2019-06-24\", \"2019-06-21\", \"2019-06-20\", \"2019-06-19\", \"2019-06-18\", \"2019-06-17\", \"2019-06-14\", \"2019-06-13\", \"2019-06-12\", \"2019-06-11\", \"2019-06-10\", \"2019-06-07\", \"2019-06-06\", \"2019-06-05\", \"2019-06-04\", \"2019-06-03\", \"2019-05-31\", \"2019-05-30\", \"2019-05-29\", \"2019-05-28\", \"2019-05-24\", \"2019-05-23\", \"2019-05-22\", \"2019-05-21\", \"2019-05-20\", \"2019-05-17\", \"2019-05-16\", \"2019-05-15\", \"2019-05-14\", \"2019-05-13\", \"2019-05-10\", \"2019-05-09\", \"2019-05-08\", \"2019-05-07\", \"2019-05-06\", \"2019-05-03\", \"2019-05-02\", \"2019-05-01\", \"2019-04-30\", \"2019-04-29\", \"2019-04-26\", \"2019-04-25\", \"2019-04-24\", \"2019-04-23\", \"2019-04-22\", \"2019-04-18\", \"2019-04-17\", \"2019-04-16\", \"2019-04-15\", \"2019-04-12\", \"2019-04-11\", \"2019-04-10\", \"2019-04-09\", \"2019-04-08\", \"2019-04-05\", \"2019-04-04\", \"2019-04-03\", \"2019-04-02\", \"2019-04-01\", \"2019-03-29\", \"2019-03-28\", \"2019-03-27\", \"2019-03-26\", \"2019-03-25\", \"2019-03-22\", \"2019-03-21\", \"2019-03-20\", \"2019-03-19\", \"2019-03-18\", \"2019-03-15\", \"2019-03-14\", \"2019-03-13\", \"2019-03-12\", \"2019-03-11\", \"2019-03-08\", \"2019-03-07\", \"2019-03-06\", \"2019-03-05\", \"2019-03-04\", \"2019-03-01\", \"2019-02-28\", \"2019-02-27\", \"2019-02-26\", \"2019-02-25\", \"2019-02-22\", \"2019-02-21\", \"2019-02-20\", \"2019-02-19\", \"2019-02-15\", \"2019-02-14\", \"2019-02-13\", \"2019-02-12\", \"2019-02-11\", \"2019-02-08\", \"2019-02-07\", \"2019-02-06\", \"2019-02-05\", \"2019-02-04\", \"2019-02-01\", \"2019-01-31\", \"2019-01-30\", \"2019-01-29\", \"2019-01-28\", \"2019-01-25\", \"2019-01-24\", \"2019-01-23\", \"2019-01-22\", \"2019-01-18\", \"2019-01-17\", \"2019-01-16\", \"2019-01-15\", \"2019-01-14\", \"2019-01-11\", \"2019-01-10\", \"2019-01-09\", \"2019-01-08\", \"2019-01-07\", \"2019-01-04\", \"2019-01-03\", \"2019-01-02\"], \"y\": [46.93, 47.58, 47.76, 48.56, 47.4, 46.28, 44.57, 48.69, 50.4, 50.15, 49.53, 48.69, 46.91, 45.58, 44.7, 44.2, 44.4, 46.86, 43.69, 40.13, 40.3, 41.06, 39.33, 40.28, 37.29, 37.81, 36.99, 38.42, 39.83, 40.08, 38.81, 37.3, 37.98, 38.09, 38.4, 39.43, 40.79, 39.78, 38.967, 37.639, 37.143, 37.48, 36.628, 38.025, 38.749, 38.025, 38.065, 39.512, 39.235, 40.722, 39.027, 36.618, 36.687, 33.555, 33.604, 31.344, 33.703, 34.536, 33.713, 35.399, 33.694, 32.93, 27.566999999999997, 29.410999999999998, 30.65, 30.482, 33.495, 31.374000000000002, 37.173, 31.037, 36.548, 39.155, 37.173, 41.475, 42.218999999999994, 44.845, 44.013000000000005, 46.075, 44.637, 45.013999999999996, 46.828, 47.611000000000004, 49.247, 51.963, 53.281000000000006, 55.818999999999996, 55.036, 55.353, 55.442, 55.69, 55.294, 54.867, 54.55, 54.53, 54.51, 53.549, 52.141000000000005, 51.803999999999995, 53.351000000000006, 52.865, 53.2, 52.303999999999995, 53.721000000000004, 54.687, 55.012, 55.07, 56.637, 55.583, 52.136, 52.056999999999995, 51.979, 51.418, 51.27, 50.787, 50.147, 50.245, 50.422, 51.25, 50.343999999999994, 50.18600000000001, 50.31399999999999, 50.333999999999996, 49.92, 49.95, 49.92, 50.086999999999996, 49.891000000000005, 50.126999999999995, 49.95, 49.477, 49.92, 48.7, 48.916000000000004, 48.847, 49.043, 48.325, 48.099, 47.379, 48.335, 48.728, 49.023999999999994, 48.66, 49.201, 48.501999999999995, 48.099, 48.355, 48.581, 48.285, 48.247, 47.872, 47.655, 48.265, 48.345, 48.403999999999996, 47.92100000000001, 47.821999999999996, 48.01, 48.089, 46.611000000000004, 45.351000000000006, 45.556999999999995, 45.773999999999994, 45.784, 45.324, 44.728, 44.875, 44.357, 43.966, 42.676, 42.46, 41.825, 41.571000000000005, 41.298, 40.985, 40.124, 39.528, 38.922, 39.763000000000005, 39.86, 39.343, 39.323, 40.446999999999996, 41.708, 41.875, 41.658, 42.068999999999996, 41.581, 42.577, 42.685, 43.027, 43.36, 43.214, 43.74100000000001, 44.141999999999996, 43.321000000000005, 42.95, 42.597, 42.138000000000005, 41.229, 41.513000000000005, 40.594, 40.066, 40.555, 40.359, 39.47, 38.894, 39.255, 38.443000000000005, 39.361999999999995, 39.04, 39.001, 39.46, 39.04, 38.219, 38.443000000000005, 39.773, 39.45, 40.564, 40.34, 39.646, 40.291, 39.577, 41.17, 41.961999999999996, 43.556000000000004, 43.663000000000004, 43.869, 44.363, 43.519, 44.131, 43.742, 43.16, 43.053999999999995, 43.093, 42.451, 43.093, 43.093, 43.519, 42.849, 42.006, 42.461000000000006, 42.18, 42.879, 42.667, 42.511, 42.626999999999995, 42.49100000000001, 42.18, 41.695, 41.376000000000005, 41.773, 42.268, 42.152, 41.841, 42.036, 41.23, 41.531000000000006, 41.656000000000006, 41.336000000000006, 42.355, 41.986999999999995, 41.415, 41.522, 41.153, 41.201, 39.503, 39.465, 40.57, 40.92, 40.9, 41.666000000000004, 41.425, 42.18, 43.053999999999995, 42.55, 42.559, 42.946999999999996, 42.577, 42.684, 42.849, 44.943999999999996, 45.053000000000004, 45.129, 45.303999999999995, 46.273999999999994, 46.613, 46.37, 46.138000000000005, 46.797, 47.001000000000005, 46.157, 45.578, 45.666000000000004, 45.636, 45.578, 45.83, 46.513999999999996, 45.317, 44.412, 45.001000000000005, 43.178999999999995, 42.841, 42.66, 43.353, 43.275, 43.303999999999995, 42.775, 42.118, 41.95399999999999, 40.673, 40.412, 39.873000000000005, 40.365, 39.758, 40.211, 41.568999999999996, 41.472, 42.36, 42.437, 41.763999999999996, 41.146, 40.874, 40.51, 40.336, 39.863, 39.68, 40.113, 40.385, 40.48, 40.963, 40.461, 41.019, 40.874, 40.664, 40.278, 40.441, 40.884, 40.634, 40.471, 39.247, 39.699, 39.661, 38.755, 39.333, 39.978, 40.848, 40.914, 40.923, 40.306, 40.769, 41.242, 40.664, 40.817, 41.133, 40.242, 40.338, 40.586999999999996, 41.81100000000001, 40.702, 42.576, 41.036, 40.654, 39.946, 39.869, 39.946, 39.668, 39.919000000000004, 39.524, 37.975, 38.664]}, {\"line\": {\"color\": \"rgba(0, 128, 128, 1.0)\", \"dash\": \"solid\", \"shape\": \"linear\", \"width\": 1.3}, \"mode\": \"lines\", \"name\": \"WFC\", \"text\": \"\", \"type\": \"scatter\", \"x\": [\"2020-06-19\", \"2020-06-18\", \"2020-06-17\", \"2020-06-16\", \"2020-06-15\", \"2020-06-12\", \"2020-06-11\", \"2020-06-10\", \"2020-06-09\", \"2020-06-08\", \"2020-06-05\", \"2020-06-04\", \"2020-06-03\", \"2020-06-02\", \"2020-06-01\", \"2020-05-29\", \"2020-05-28\", \"2020-05-27\", \"2020-05-26\", \"2020-05-22\", \"2020-05-21\", \"2020-05-20\", \"2020-05-19\", \"2020-05-18\", \"2020-05-15\", \"2020-05-14\", \"2020-05-13\", \"2020-05-12\", \"2020-05-11\", \"2020-05-08\", \"2020-05-07\", \"2020-05-06\", \"2020-05-05\", \"2020-05-04\", \"2020-05-01\", \"2020-04-30\", \"2020-04-29\", \"2020-04-28\", \"2020-04-27\", \"2020-04-24\", \"2020-04-23\", \"2020-04-22\", \"2020-04-21\", \"2020-04-20\", \"2020-04-17\", \"2020-04-16\", \"2020-04-15\", \"2020-04-14\", \"2020-04-13\", \"2020-04-09\", \"2020-04-08\", \"2020-04-07\", \"2020-04-06\", \"2020-04-03\", \"2020-04-02\", \"2020-04-01\", \"2020-03-31\", \"2020-03-30\", \"2020-03-27\", \"2020-03-26\", \"2020-03-25\", \"2020-03-24\", \"2020-03-23\", \"2020-03-20\", \"2020-03-19\", \"2020-03-18\", \"2020-03-17\", \"2020-03-16\", \"2020-03-13\", \"2020-03-12\", \"2020-03-11\", \"2020-03-10\", \"2020-03-09\", \"2020-03-06\", \"2020-03-05\", \"2020-03-04\", \"2020-03-03\", \"2020-03-02\", \"2020-02-28\", \"2020-02-27\", \"2020-02-26\", \"2020-02-25\", \"2020-02-24\", \"2020-02-21\", \"2020-02-20\", \"2020-02-19\", \"2020-02-18\", \"2020-02-14\", \"2020-02-13\", \"2020-02-12\", \"2020-02-11\", \"2020-02-10\", \"2020-02-07\", \"2020-02-06\", \"2020-02-05\", \"2020-02-04\", \"2020-02-03\", \"2020-01-31\", \"2020-01-30\", \"2020-01-29\", \"2020-01-28\", \"2020-01-27\", \"2020-01-24\", \"2020-01-23\", \"2020-01-22\", \"2020-01-21\", \"2020-01-17\", \"2020-01-16\", \"2020-01-15\", \"2020-01-14\", \"2020-01-13\", \"2020-01-10\", \"2020-01-09\", \"2020-01-08\", \"2020-01-07\", \"2020-01-06\", \"2020-01-03\", \"2020-01-02\", \"2019-12-31\", \"2019-12-30\", \"2019-12-27\", \"2019-12-26\", \"2019-12-24\", \"2019-12-23\", \"2019-12-20\", \"2019-12-19\", \"2019-12-18\", \"2019-12-17\", \"2019-12-16\", \"2019-12-13\", \"2019-12-12\", \"2019-12-11\", \"2019-12-10\", \"2019-12-09\", \"2019-12-06\", \"2019-12-05\", \"2019-12-04\", \"2019-12-03\", \"2019-12-02\", \"2019-11-29\", \"2019-11-27\", \"2019-11-26\", \"2019-11-25\", \"2019-11-22\", \"2019-11-21\", \"2019-11-20\", \"2019-11-19\", \"2019-11-18\", \"2019-11-15\", \"2019-11-14\", \"2019-11-13\", \"2019-11-12\", \"2019-11-11\", \"2019-11-08\", \"2019-11-07\", \"2019-11-06\", \"2019-11-05\", \"2019-11-04\", \"2019-11-01\", \"2019-10-31\", \"2019-10-30\", \"2019-10-29\", \"2019-10-28\", \"2019-10-25\", \"2019-10-24\", \"2019-10-23\", \"2019-10-22\", \"2019-10-21\", \"2019-10-18\", \"2019-10-17\", \"2019-10-16\", \"2019-10-15\", \"2019-10-14\", \"2019-10-11\", \"2019-10-10\", \"2019-10-09\", \"2019-10-08\", \"2019-10-07\", \"2019-10-04\", \"2019-10-03\", \"2019-10-02\", \"2019-10-01\", \"2019-09-30\", \"2019-09-27\", \"2019-09-26\", \"2019-09-25\", \"2019-09-24\", \"2019-09-23\", \"2019-09-20\", \"2019-09-19\", \"2019-09-18\", \"2019-09-17\", \"2019-09-16\", \"2019-09-13\", \"2019-09-12\", \"2019-09-11\", \"2019-09-10\", \"2019-09-09\", \"2019-09-06\", \"2019-09-05\", \"2019-09-04\", \"2019-09-03\", \"2019-08-30\", \"2019-08-29\", \"2019-08-28\", \"2019-08-27\", \"2019-08-26\", \"2019-08-23\", \"2019-08-22\", \"2019-08-21\", \"2019-08-20\", \"2019-08-19\", \"2019-08-16\", \"2019-08-15\", \"2019-08-14\", \"2019-08-13\", \"2019-08-12\", \"2019-08-09\", \"2019-08-08\", \"2019-08-07\", \"2019-08-06\", \"2019-08-05\", \"2019-08-02\", \"2019-08-01\", \"2019-07-31\", \"2019-07-30\", \"2019-07-29\", \"2019-07-26\", \"2019-07-25\", \"2019-07-24\", \"2019-07-23\", \"2019-07-22\", \"2019-07-19\", \"2019-07-18\", \"2019-07-17\", \"2019-07-16\", \"2019-07-15\", \"2019-07-12\", \"2019-07-11\", \"2019-07-10\", \"2019-07-09\", \"2019-07-08\", \"2019-07-05\", \"2019-07-03\", \"2019-07-02\", \"2019-07-01\", \"2019-06-28\", \"2019-06-27\", \"2019-06-26\", \"2019-06-25\", \"2019-06-24\", \"2019-06-21\", \"2019-06-20\", \"2019-06-19\", \"2019-06-18\", \"2019-06-17\", \"2019-06-14\", \"2019-06-13\", \"2019-06-12\", \"2019-06-11\", \"2019-06-10\", \"2019-06-07\", \"2019-06-06\", \"2019-06-05\", \"2019-06-04\", \"2019-06-03\", \"2019-05-31\", \"2019-05-30\", \"2019-05-29\", \"2019-05-28\", \"2019-05-24\", \"2019-05-23\", \"2019-05-22\", \"2019-05-21\", \"2019-05-20\", \"2019-05-17\", \"2019-05-16\", \"2019-05-15\", \"2019-05-14\", \"2019-05-13\", \"2019-05-10\", \"2019-05-09\", \"2019-05-08\", \"2019-05-07\", \"2019-05-06\", \"2019-05-03\", \"2019-05-02\", \"2019-05-01\", \"2019-04-30\", \"2019-04-29\", \"2019-04-26\", \"2019-04-25\", \"2019-04-24\", \"2019-04-23\", \"2019-04-22\", \"2019-04-18\", \"2019-04-17\", \"2019-04-16\", \"2019-04-15\", \"2019-04-12\", \"2019-04-11\", \"2019-04-10\", \"2019-04-09\", \"2019-04-08\", \"2019-04-05\", \"2019-04-04\", \"2019-04-03\", \"2019-04-02\", \"2019-04-01\", \"2019-03-29\", \"2019-03-28\", \"2019-03-27\", \"2019-03-26\", \"2019-03-25\", \"2019-03-22\", \"2019-03-21\", \"2019-03-20\", \"2019-03-19\", \"2019-03-18\", \"2019-03-15\", \"2019-03-14\", \"2019-03-13\", \"2019-03-12\", \"2019-03-11\", \"2019-03-08\", \"2019-03-07\", \"2019-03-06\", \"2019-03-05\", \"2019-03-04\", \"2019-03-01\", \"2019-02-28\", \"2019-02-27\", \"2019-02-26\", \"2019-02-25\", \"2019-02-22\", \"2019-02-21\", \"2019-02-20\", \"2019-02-19\", \"2019-02-15\", \"2019-02-14\", \"2019-02-13\", \"2019-02-12\", \"2019-02-11\", \"2019-02-08\", \"2019-02-07\", \"2019-02-06\", \"2019-02-05\", \"2019-02-04\", \"2019-02-01\", \"2019-01-31\", \"2019-01-30\", \"2019-01-29\", \"2019-01-28\", \"2019-01-25\", \"2019-01-24\", \"2019-01-23\", \"2019-01-22\", \"2019-01-18\", \"2019-01-17\", \"2019-01-16\", \"2019-01-15\", \"2019-01-14\", \"2019-01-11\", \"2019-01-10\", \"2019-01-09\", \"2019-01-08\", \"2019-01-07\", \"2019-01-04\", \"2019-01-03\", \"2019-01-02\"], \"y\": [27.6, 27.55, 27.45, 28.52, 28.21, 27.97, 26.79, 29.71, 32.63, 33.32, 31.67, 30.22, 28.83, 27.4, 27.09, 26.47, 27.22, 27.95, 26.26, 24.17, 24.46, 24.52, 23.95, 25.41, 23.36, 24.06, 22.53, 24.04, 24.78, 25.43, 25.23, 25.1, 25.796, 26.805, 27.041, 28.471, 29.403000000000002, 28.295, 27.844, 26.384, 26.002, 26.266, 26.305999999999997, 27.129, 27.815, 26.355, 27.874000000000002, 29.579, 30.804000000000002, 32.539, 29.677, 28.197, 28.06, 25.708000000000002, 26.678, 26.041, 28.128, 29.324, 29.677, 30.285, 28.393, 28.344, 24.747, 25.971999999999998, 27.726999999999997, 27.56, 29.04, 25.971999999999998, 30.275, 26.658, 31.686, 34.381, 31.833000000000002, 36.351, 38.125, 40.576, 39.723, 41.418, 40.037, 41.623999999999995, 43.261, 44.221000000000004, 45.466, 46.75, 46.397, 46.152, 46.053999999999995, 47.26, 47.162, 46.838, 47.034, 46.818999999999996, 46.887, 47.025, 46.848, 45.83, 45.695, 45.519, 46.46, 45.84, 45.937, 45.675, 46.131, 46.761, 47.09, 47.458999999999996, 47.692, 47.76, 46.858000000000004, 47.809, 50.533, 50.912, 51.13399999999999, 51.221000000000004, 51.066, 51.493, 51.803000000000004, 52.123999999999995, 52.172, 51.978, 52.288999999999994, 52.511, 52.192, 52.181999999999995, 51.716, 52.007, 52.04600000000001, 52.695, 52.58, 52.162, 52.715, 51.56100000000001, 52.065, 52.288999999999994, 52.725, 51.619, 51.629, 50.989, 51.997, 52.812, 52.695, 52.181999999999995, 52.57, 52.637, 51.94, 51.92, 52.395, 52.36600000000001, 52.172, 51.871, 51.677, 52.58, 52.413999999999994, 52.463, 52.36600000000001, 51.677, 51.198, 50.64, 50.121, 49.593, 49.978, 50.111000000000004, 49.611999999999995, 49.536, 49.085, 48.92, 48.623000000000005, 48.468999999999994, 47.998000000000005, 47.653, 47.633, 48.133, 47.326, 47.269, 46.73, 46.251000000000005, 45.934, 46.88399999999999, 47.269, 46.567, 46.558, 47.123999999999995, 48.451, 48.708999999999996, 46.942, 47.317, 46.73, 47.028, 46.711000000000006, 46.98, 46.998999999999995, 46.836000000000006, 47.048, 46.989, 46.73, 46.923, 46.403999999999996, 46.5, 45.29, 45.742, 44.665, 44.271, 44.733000000000004, 44.368, 43.677, 42.985, 43.206, 42.668, 43.821000000000005, 43.224, 42.917, 43.465, 42.638999999999996, 41.668, 42.235, 44.146, 43.637, 44.473, 44.568999999999996, 43.513000000000005, 44.577, 43.826, 45.06, 44.7, 45.982, 46.115, 45.858999999999995, 46.828, 45.678999999999995, 46.021, 44.833999999999996, 44.148999999999994, 43.723, 43.522, 42.943000000000005, 43.028999999999996, 44.368, 44.985, 44.776, 44.785, 45.431999999999995, 45.147, 45.373999999999995, 45.269, 44.861000000000004, 45.299, 44.946999999999996, 43.968999999999994, 43.503, 43.826, 43.95, 44.538000000000004, 43.56, 43.361000000000004, 43.788000000000004, 43.0, 43.303999999999995, 43.019, 42.658, 43.94, 43.95, 43.341, 43.618, 43.56, 43.388999999999996, 42.288000000000004, 42.145, 42.791000000000004, 43.2, 43.303999999999995, 43.855, 43.276, 43.788000000000004, 44.007, 43.17100000000001, 43.408, 43.598, 43.541000000000004, 44.158, 44.007, 44.785, 44.397, 44.217, 44.375, 45.56, 45.768, 45.43899999999999, 45.372, 45.543, 45.411, 45.119, 44.695, 44.666000000000004, 44.545, 44.461000000000006, 44.761, 44.733999999999995, 44.828, 43.998999999999995, 43.735, 44.912, 44.958999999999996, 45.288000000000004, 45.983999999999995, 45.89, 46.256, 45.965, 45.352, 45.919, 45.456, 46.181999999999995, 45.881, 46.107, 45.233000000000004, 45.446999999999996, 46.906000000000006, 47.413999999999994, 48.364, 48.666000000000004, 47.659, 47.368, 46.964, 46.71, 46.812, 46.85, 46.736000000000004, 46.869, 46.934, 47.141000000000005, 47.067, 46.934, 46.943999999999996, 46.652, 46.718, 46.11600000000001, 46.623999999999995, 46.86, 46.455, 46.303999999999995, 45.646, 46.11600000000001, 46.144, 44.828, 44.828, 45.233000000000004, 46.303999999999995, 46.351000000000006, 46.153999999999996, 46.013000000000005, 46.013000000000005, 46.7, 46.475, 46.446999999999996, 46.736000000000004, 46.597, 46.727, 46.483999999999995, 46.625, 45.897, 45.626999999999995, 44.443000000000005, 45.143, 44.63, 44.516999999999996, 44.565, 44.321999999999996, 44.415, 44.70399999999999, 43.418, 43.763000000000005]}],\n",
       "                        {\"legend\": {\"bgcolor\": \"#F5F6F9\", \"font\": {\"color\": \"#4D5663\"}}, \"paper_bgcolor\": \"#F5F6F9\", \"plot_bgcolor\": \"#F5F6F9\", \"template\": {\"data\": {\"bar\": [{\"error_x\": {\"color\": \"#2a3f5f\"}, \"error_y\": {\"color\": \"#2a3f5f\"}, \"marker\": {\"line\": {\"color\": \"#E5ECF6\", \"width\": 0.5}}, \"type\": \"bar\"}], \"barpolar\": [{\"marker\": {\"line\": {\"color\": \"#E5ECF6\", \"width\": 0.5}}, \"type\": \"barpolar\"}], \"carpet\": [{\"aaxis\": {\"endlinecolor\": \"#2a3f5f\", \"gridcolor\": \"white\", \"linecolor\": \"white\", \"minorgridcolor\": \"white\", \"startlinecolor\": \"#2a3f5f\"}, \"baxis\": {\"endlinecolor\": \"#2a3f5f\", \"gridcolor\": \"white\", \"linecolor\": \"white\", \"minorgridcolor\": \"white\", \"startlinecolor\": \"#2a3f5f\"}, \"type\": \"carpet\"}], \"choropleth\": [{\"colorbar\": {\"outlinewidth\": 0, \"ticks\": \"\"}, \"type\": \"choropleth\"}], \"contour\": [{\"colorbar\": {\"outlinewidth\": 0, \"ticks\": \"\"}, \"colorscale\": [[0.0, \"#0d0887\"], [0.1111111111111111, \"#46039f\"], [0.2222222222222222, \"#7201a8\"], [0.3333333333333333, \"#9c179e\"], [0.4444444444444444, \"#bd3786\"], [0.5555555555555556, \"#d8576b\"], [0.6666666666666666, \"#ed7953\"], [0.7777777777777778, \"#fb9f3a\"], [0.8888888888888888, \"#fdca26\"], [1.0, \"#f0f921\"]], \"type\": \"contour\"}], \"contourcarpet\": [{\"colorbar\": {\"outlinewidth\": 0, \"ticks\": \"\"}, \"type\": \"contourcarpet\"}], \"heatmap\": [{\"colorbar\": {\"outlinewidth\": 0, \"ticks\": \"\"}, \"colorscale\": [[0.0, \"#0d0887\"], [0.1111111111111111, \"#46039f\"], [0.2222222222222222, \"#7201a8\"], [0.3333333333333333, \"#9c179e\"], [0.4444444444444444, \"#bd3786\"], [0.5555555555555556, \"#d8576b\"], [0.6666666666666666, \"#ed7953\"], [0.7777777777777778, \"#fb9f3a\"], [0.8888888888888888, \"#fdca26\"], [1.0, \"#f0f921\"]], \"type\": \"heatmap\"}], \"heatmapgl\": [{\"colorbar\": {\"outlinewidth\": 0, \"ticks\": \"\"}, \"colorscale\": [[0.0, \"#0d0887\"], [0.1111111111111111, \"#46039f\"], [0.2222222222222222, \"#7201a8\"], [0.3333333333333333, \"#9c179e\"], [0.4444444444444444, \"#bd3786\"], [0.5555555555555556, \"#d8576b\"], [0.6666666666666666, \"#ed7953\"], [0.7777777777777778, \"#fb9f3a\"], [0.8888888888888888, \"#fdca26\"], [1.0, \"#f0f921\"]], \"type\": \"heatmapgl\"}], \"histogram\": [{\"marker\": {\"colorbar\": {\"outlinewidth\": 0, \"ticks\": \"\"}}, \"type\": \"histogram\"}], \"histogram2d\": [{\"colorbar\": {\"outlinewidth\": 0, \"ticks\": \"\"}, \"colorscale\": [[0.0, \"#0d0887\"], [0.1111111111111111, \"#46039f\"], [0.2222222222222222, \"#7201a8\"], [0.3333333333333333, \"#9c179e\"], [0.4444444444444444, \"#bd3786\"], [0.5555555555555556, \"#d8576b\"], [0.6666666666666666, \"#ed7953\"], [0.7777777777777778, \"#fb9f3a\"], [0.8888888888888888, \"#fdca26\"], [1.0, \"#f0f921\"]], \"type\": \"histogram2d\"}], \"histogram2dcontour\": [{\"colorbar\": {\"outlinewidth\": 0, \"ticks\": \"\"}, \"colorscale\": [[0.0, \"#0d0887\"], [0.1111111111111111, \"#46039f\"], [0.2222222222222222, \"#7201a8\"], [0.3333333333333333, \"#9c179e\"], [0.4444444444444444, \"#bd3786\"], [0.5555555555555556, \"#d8576b\"], [0.6666666666666666, \"#ed7953\"], [0.7777777777777778, \"#fb9f3a\"], [0.8888888888888888, \"#fdca26\"], [1.0, \"#f0f921\"]], \"type\": \"histogram2dcontour\"}], \"mesh3d\": [{\"colorbar\": {\"outlinewidth\": 0, \"ticks\": \"\"}, \"type\": \"mesh3d\"}], \"parcoords\": [{\"line\": {\"colorbar\": {\"outlinewidth\": 0, \"ticks\": \"\"}}, \"type\": \"parcoords\"}], \"pie\": [{\"automargin\": true, \"type\": \"pie\"}], \"scatter\": [{\"marker\": {\"colorbar\": {\"outlinewidth\": 0, \"ticks\": \"\"}}, \"type\": \"scatter\"}], \"scatter3d\": [{\"line\": {\"colorbar\": {\"outlinewidth\": 0, \"ticks\": \"\"}}, \"marker\": {\"colorbar\": {\"outlinewidth\": 0, \"ticks\": \"\"}}, \"type\": \"scatter3d\"}], \"scattercarpet\": [{\"marker\": {\"colorbar\": {\"outlinewidth\": 0, \"ticks\": \"\"}}, \"type\": \"scattercarpet\"}], \"scattergeo\": [{\"marker\": {\"colorbar\": {\"outlinewidth\": 0, \"ticks\": \"\"}}, \"type\": \"scattergeo\"}], \"scattergl\": [{\"marker\": {\"colorbar\": {\"outlinewidth\": 0, \"ticks\": \"\"}}, \"type\": \"scattergl\"}], \"scattermapbox\": [{\"marker\": {\"colorbar\": {\"outlinewidth\": 0, \"ticks\": \"\"}}, \"type\": \"scattermapbox\"}], \"scatterpolar\": [{\"marker\": {\"colorbar\": {\"outlinewidth\": 0, \"ticks\": \"\"}}, \"type\": \"scatterpolar\"}], \"scatterpolargl\": [{\"marker\": {\"colorbar\": {\"outlinewidth\": 0, \"ticks\": \"\"}}, \"type\": \"scatterpolargl\"}], \"scatterternary\": [{\"marker\": {\"colorbar\": {\"outlinewidth\": 0, \"ticks\": \"\"}}, \"type\": \"scatterternary\"}], \"surface\": [{\"colorbar\": {\"outlinewidth\": 0, \"ticks\": \"\"}, \"colorscale\": [[0.0, \"#0d0887\"], [0.1111111111111111, \"#46039f\"], [0.2222222222222222, \"#7201a8\"], [0.3333333333333333, \"#9c179e\"], [0.4444444444444444, \"#bd3786\"], [0.5555555555555556, \"#d8576b\"], [0.6666666666666666, \"#ed7953\"], [0.7777777777777778, \"#fb9f3a\"], [0.8888888888888888, \"#fdca26\"], [1.0, \"#f0f921\"]], \"type\": \"surface\"}], \"table\": [{\"cells\": {\"fill\": {\"color\": \"#EBF0F8\"}, \"line\": {\"color\": \"white\"}}, \"header\": {\"fill\": {\"color\": \"#C8D4E3\"}, \"line\": {\"color\": \"white\"}}, \"type\": \"table\"}]}, \"layout\": {\"annotationdefaults\": {\"arrowcolor\": \"#2a3f5f\", \"arrowhead\": 0, \"arrowwidth\": 1}, \"coloraxis\": {\"colorbar\": {\"outlinewidth\": 0, \"ticks\": \"\"}}, \"colorscale\": {\"diverging\": [[0, \"#8e0152\"], [0.1, \"#c51b7d\"], [0.2, \"#de77ae\"], [0.3, \"#f1b6da\"], [0.4, \"#fde0ef\"], [0.5, \"#f7f7f7\"], [0.6, \"#e6f5d0\"], [0.7, \"#b8e186\"], [0.8, \"#7fbc41\"], [0.9, \"#4d9221\"], [1, \"#276419\"]], \"sequential\": [[0.0, \"#0d0887\"], [0.1111111111111111, \"#46039f\"], [0.2222222222222222, \"#7201a8\"], [0.3333333333333333, \"#9c179e\"], [0.4444444444444444, \"#bd3786\"], [0.5555555555555556, \"#d8576b\"], [0.6666666666666666, \"#ed7953\"], [0.7777777777777778, \"#fb9f3a\"], [0.8888888888888888, \"#fdca26\"], [1.0, \"#f0f921\"]], \"sequentialminus\": [[0.0, \"#0d0887\"], [0.1111111111111111, \"#46039f\"], [0.2222222222222222, \"#7201a8\"], [0.3333333333333333, \"#9c179e\"], [0.4444444444444444, \"#bd3786\"], [0.5555555555555556, \"#d8576b\"], [0.6666666666666666, \"#ed7953\"], [0.7777777777777778, \"#fb9f3a\"], [0.8888888888888888, \"#fdca26\"], [1.0, \"#f0f921\"]]}, \"colorway\": [\"#636efa\", \"#EF553B\", \"#00cc96\", \"#ab63fa\", \"#FFA15A\", \"#19d3f3\", \"#FF6692\", \"#B6E880\", \"#FF97FF\", \"#FECB52\"], \"font\": {\"color\": \"#2a3f5f\"}, \"geo\": {\"bgcolor\": \"white\", \"lakecolor\": \"white\", \"landcolor\": \"#E5ECF6\", \"showlakes\": true, \"showland\": true, \"subunitcolor\": \"white\"}, \"hoverlabel\": {\"align\": \"left\"}, \"hovermode\": \"closest\", \"mapbox\": {\"style\": \"light\"}, \"paper_bgcolor\": \"white\", \"plot_bgcolor\": \"#E5ECF6\", \"polar\": {\"angularaxis\": {\"gridcolor\": \"white\", \"linecolor\": \"white\", \"ticks\": \"\"}, \"bgcolor\": \"#E5ECF6\", \"radialaxis\": {\"gridcolor\": \"white\", \"linecolor\": \"white\", \"ticks\": \"\"}}, \"scene\": {\"xaxis\": {\"backgroundcolor\": \"#E5ECF6\", \"gridcolor\": \"white\", \"gridwidth\": 2, \"linecolor\": \"white\", \"showbackground\": true, \"ticks\": \"\", \"zerolinecolor\": \"white\"}, \"yaxis\": {\"backgroundcolor\": \"#E5ECF6\", \"gridcolor\": \"white\", \"gridwidth\": 2, \"linecolor\": \"white\", \"showbackground\": true, \"ticks\": \"\", \"zerolinecolor\": \"white\"}, \"zaxis\": {\"backgroundcolor\": \"#E5ECF6\", \"gridcolor\": \"white\", \"gridwidth\": 2, \"linecolor\": \"white\", \"showbackground\": true, \"ticks\": \"\", \"zerolinecolor\": \"white\"}}, \"shapedefaults\": {\"line\": {\"color\": \"#2a3f5f\"}}, \"ternary\": {\"aaxis\": {\"gridcolor\": \"white\", \"linecolor\": \"white\", \"ticks\": \"\"}, \"baxis\": {\"gridcolor\": \"white\", \"linecolor\": \"white\", \"ticks\": \"\"}, \"bgcolor\": \"#E5ECF6\", \"caxis\": {\"gridcolor\": \"white\", \"linecolor\": \"white\", \"ticks\": \"\"}}, \"title\": {\"x\": 0.05}, \"xaxis\": {\"automargin\": true, \"gridcolor\": \"white\", \"linecolor\": \"white\", \"ticks\": \"\", \"title\": {\"standoff\": 15}, \"zerolinecolor\": \"white\", \"zerolinewidth\": 2}, \"yaxis\": {\"automargin\": true, \"gridcolor\": \"white\", \"linecolor\": \"white\", \"ticks\": \"\", \"title\": {\"standoff\": 15}, \"zerolinecolor\": \"white\", \"zerolinewidth\": 2}}}, \"title\": {\"font\": {\"color\": \"#4D5663\"}}, \"xaxis\": {\"gridcolor\": \"#E1E5ED\", \"showgrid\": true, \"tickfont\": {\"color\": \"#4D5663\"}, \"title\": {\"font\": {\"color\": \"#4D5663\"}, \"text\": \"\"}, \"zerolinecolor\": \"#E1E5ED\"}, \"yaxis\": {\"gridcolor\": \"#E1E5ED\", \"showgrid\": true, \"tickfont\": {\"color\": \"#4D5663\"}, \"title\": {\"font\": {\"color\": \"#4D5663\"}, \"text\": \"\"}, \"zerolinecolor\": \"#E1E5ED\"}},\n",
       "                        {\"showLink\": true, \"linkText\": \"Export to plot.ly\", \"plotlyServerURL\": \"https://plot.ly\", \"responsive\": true}\n",
       "                    ).then(function(){\n",
       "                            \n",
       "var gd = document.getElementById('a546e52e-bfe2-45cb-814c-e22e17d4d094');\n",
       "var x = new MutationObserver(function (mutations, observer) {{\n",
       "        var display = window.getComputedStyle(gd).display;\n",
       "        if (!display || display === 'none') {{\n",
       "            console.log([gd, 'removed!']);\n",
       "            Plotly.purge(gd);\n",
       "            observer.disconnect();\n",
       "        }}\n",
       "}});\n",
       "\n",
       "// Listen for the removal of the full notebook cells\n",
       "var notebookContainer = gd.closest('#notebook-container');\n",
       "if (notebookContainer) {{\n",
       "    x.observe(notebookContainer, {childList: true});\n",
       "}}\n",
       "\n",
       "// Listen for the clearing of the current output cell\n",
       "var outputEl = gd.closest('.output');\n",
       "if (outputEl) {{\n",
       "    x.observe(outputEl, {childList: true});\n",
       "}}\n",
       "\n",
       "                        })\n",
       "                };\n",
       "                });\n",
       "            </script>\n",
       "        </div>"
      ]
     },
     "metadata": {},
     "output_type": "display_data"
    }
   ],
   "source": [
    "d_2019_2020 = bank_stocks.xs(key='Close', axis=1, level='Stock Info').loc['2020-06-19':'2019-01-01' ]\n",
    "d_2019_2020.iplot()"
   ]
  },
  {
   "cell_type": "markdown",
   "metadata": {},
   "source": [
    "### Who has lost the Race"
   ]
  },
  {
   "cell_type": "code",
   "execution_count": 39,
   "metadata": {},
   "outputs": [
    {
     "data": {
      "application/vnd.plotly.v1+json": {
       "config": {
        "linkText": "Export to plot.ly",
        "plotlyServerURL": "https://plot.ly",
        "showLink": true
       },
       "data": [
        {
         "histfunc": "count",
         "histnorm": "",
         "marker": {
          "color": "rgba(255, 153, 51, 1.0)",
          "line": {
           "color": "#4D5663",
           "width": 1.3
          }
         },
         "name": "BAC",
         "opacity": 0.8,
         "orientation": "v",
         "type": "histogram",
         "x": [
          25.25,
          25.04,
          25,
          25.8,
          25.15,
          24.78,
          23.93,
          26.6,
          28.22,
          28.54,
          28.11,
          26.78,
          25.81,
          24.668000000000003,
          24.44,
          23.953000000000003,
          24.688000000000002,
          25.8,
          24.112,
          22.503,
          22.741,
          22.750999999999998,
          22.055999999999997,
          22.771,
          21.291999999999998,
          21.56,
          20.725,
          21.719,
          22.424,
          23.406999999999996,
          22.682,
          22.195,
          22.503,
          22.771,
          22.92,
          23.883000000000003,
          24.608,
          23.725,
          23.307,
          22.026,
          21.719,
          21.649,
          21.49,
          22.344,
          23.119,
          21.272,
          22.035999999999998,
          23.566,
          23.754,
          24.688000000000002,
          23.288,
          21.987,
          21.241999999999997,
          19.891,
          20.428,
          19.633,
          21.083000000000002,
          21.886999999999997,
          21.45,
          22.563000000000002,
          20.954,
          20.884,
          17.955,
          19.534000000000002,
          21.053,
          20.646,
          21.828000000000003,
          20.298,
          23.993000000000002,
          20.368,
          22.513,
          23.445999999999998,
          21.778000000000002,
          25.531999999999996,
          26.595,
          28.015,
          27.383000000000003,
          28.982,
          28.123,
          28.745,
          30.225,
          30.669,
          32.297,
          33.906,
          34.389,
          34.260999999999996,
          33.817,
          34.389,
          34.449,
          34.459,
          34.311,
          34.231,
          34.153,
          34.211,
          34.251,
          33.176,
          32.534,
          32.396,
          33.038000000000004,
          32.574,
          32.8,
          32.416,
          33.096,
          33.669000000000004,
          33.906,
          33.806999999999995,
          34.251,
          34.260999999999996,
          34.211,
          34.853,
          34.597,
          34.281,
          34.567,
          34.507,
          34.163000000000004,
          34.389,
          34.439,
          35.169000000000004,
          34.755,
          34.685,
          34.883,
          35.051,
          34.755,
          34.705,
          34.497,
          34.486999999999995,
          34.645,
          34.577,
          34.241,
          33.985,
          34.221,
          33.195,
          33.086,
          33.067,
          33.225,
          32.652,
          32.534,
          32.23,
          32.808,
          32.701,
          32.799,
          32.731,
          32.848,
          32.564,
          32.23,
          32.082,
          32.328,
          32.347,
          32.318000000000005,
          32.092,
          32.181,
          32.475,
          32.564,
          32.641,
          32.613,
          32.181,
          32.21,
          31.798000000000002,
          31.208000000000002,
          30.689,
          31.033,
          31.474,
          31.248,
          31.131,
          30.776999999999997,
          30.836,
          30.62,
          30.444000000000003,
          29.785999999999998,
          29.698,
          29.61,
          29.179000000000002,
          28.599,
          28.373,
          27.921999999999997,
          27.372,
          27.116999999999997,
          27.783,
          27.843000000000004,
          27.294,
          27.322,
          27.912,
          28.628,
          28.805,
          28.589000000000002,
          28.706999999999997,
          28.403000000000002,
          28.971999999999998,
          29.039,
          29.266,
          29.443,
          29.383000000000003,
          29.57,
          29.61,
          29.119,
          28.912,
          28.805,
          28.098000000000003,
          27.214000000000002,
          27.598000000000003,
          26.803,
          26.374000000000002,
          26.823,
          26.647,
          26.178,
          25.808000000000003,
          26.111,
          25.808000000000003,
          26.51,
          26.256999999999998,
          26.052,
          26.588,
          26.354,
          25.594,
          25.758000000000003,
          27.026,
          26.949,
          27.621,
          27.67,
          27.191999999999997,
          27.71,
          27.378,
          28.646,
          28.752,
          29.913,
          30.116999999999997,
          29.756,
          30.000999999999998,
          29.581,
          29.903000000000002,
          29.493000000000002,
          28.83,
          28.664,
          28.743000000000002,
          28.461,
          28.265,
          28.489,
          28.714000000000002,
          28.625999999999998,
          28.294,
          28.616,
          28.469,
          28.528000000000002,
          28.323,
          28.421,
          28.684,
          28.275,
          27.504,
          27.211,
          27.065,
          27.281,
          27.416999999999998,
          27.564,
          27.612,
          27.905,
          27.230999999999998,
          27.338,
          27.241,
          27.250999999999998,
          27.534000000000002,
          27.368000000000002,
          26.842,
          27.182,
          27.065,
          27.075,
          25.874000000000002,
          25.795,
          26.338,
          26.91,
          27.055,
          27.326999999999998,
          26.92,
          27.627,
          27.822,
          27.541,
          27.541,
          27.726,
          27.435,
          27.754,
          27.395,
          28.685,
          28.811999999999998,
          28.898000000000003,
          29.015,
          29.549,
          29.781,
          29.576999999999998,
          29.344,
          29.655,
          29.84,
          29.432,
          29.171,
          29.112,
          29.160999999999998,
          29.141,
          29.122,
          29.122,
          28.976,
          28.938000000000002,
          29.258000000000003,
          28.191,
          28.191,
          28.017,
          28.287,
          28.201,
          28.268,
          27.967,
          27.997,
          27.677,
          26.755,
          26.503,
          26.213,
          26.386999999999997,
          26.028000000000002,
          26.193,
          27.326999999999998,
          27.773000000000003,
          28.753,
          28.918000000000003,
          28.414,
          28.569000000000003,
          28.404,
          28.065,
          28.065,
          27.781999999999996,
          27.686999999999998,
          27.967,
          28.201,
          28.151999999999997,
          28.423000000000002,
          28.201,
          28.491,
          28.259,
          28.24,
          28.058000000000003,
          28.259,
          28.375999999999998,
          28.105,
          28.086,
          27.391,
          27.691,
          27.680999999999997,
          27.410999999999998,
          27.296,
          27.247,
          27.72,
          27.768,
          27.865,
          27.381999999999998,
          27.469,
          28.048000000000002,
          28.357,
          28.588,
          28.54,
          28.058000000000003,
          27.903000000000002,
          28.066999999999997,
          28.269000000000002,
          27.97,
          27.45,
          25.615,
          25.443,
          25.115,
          24.824,
          24.853,
          24.613000000000003,
          24.660999999999998,
          24.679000000000002,
          23.697,
          24.081999999999997
         ]
        },
        {
         "histfunc": "count",
         "histnorm": "",
         "marker": {
          "color": "rgba(55, 128, 191, 1.0)",
          "line": {
           "color": "#4D5663",
           "width": 1.3
          }
         },
         "name": "C",
         "opacity": 0.8,
         "orientation": "v",
         "type": "histogram",
         "x": [
          52.92,
          53.04,
          53,
          54.45,
          52.98,
          52.25,
          48.39,
          55.86,
          59.5,
          61.24,
          58.86,
          55.65,
          53.34,
          50.84,
          49.45,
          47.91,
          49.16,
          52.26,
          48.17,
          44.1,
          45,
          45.47,
          44.43,
          45.67,
          41.92,
          42.06,
          40.6,
          42.35,
          44.07,
          46.32,
          44.64,
          42.95,
          43.95,
          45.12,
          45.52,
          48.05,
          49.732,
          46.714,
          46.071000000000005,
          42.647,
          42.013999999999996,
          41.79600000000001,
          41.133,
          43.548,
          44.973,
          40.094,
          42.41,
          44.943000000000005,
          46.19,
          46.912,
          43.795,
          40.817,
          40.688,
          37.096,
          38.818000000000005,
          38.106,
          41.678000000000004,
          43.617,
          43.34,
          45.537,
          41.42,
          40.233000000000004,
          35.018,
          37.66,
          39.224000000000004,
          36.047,
          39.827,
          40.757,
          50.504,
          42.806000000000004,
          50.257,
          54.996,
          50.83,
          60.636,
          62.823,
          66.682,
          64.367,
          66.88,
          62.794,
          63.773,
          67.464,
          68.70100000000001,
          71.768,
          75.637,
          77.398,
          77.23,
          76.765,
          77.96300000000001,
          78.17,
          78.497,
          78.259,
          77.656,
          77.86399999999999,
          78.141,
          78.02199999999999,
          75.697,
          74.34100000000001,
          73.62899999999999,
          76.112,
          75.178,
          75.925,
          75.405,
          77.085,
          78.441,
          78.736,
          78.54,
          79.74,
          79.62100000000001,
          79.857,
          80.515,
          79.278,
          77.90100000000001,
          78.717,
          78.009,
          77.419,
          78.098,
          78.343,
          79.848,
          78.53,
          78.156,
          78.314,
          78.471,
          77.252,
          77.419,
          77.17399999999999,
          76.869,
          76.594,
          76.417,
          75.601,
          75.09,
          75.73899999999999,
          74.264,
          74.49,
          74.048,
          74.52,
          73.439,
          72.967,
          72.082,
          73.252,
          73.84100000000001,
          74.431,
          74.176,
          74.392,
          73.596,
          72.642,
          72.652,
          73.546,
          73.134,
          73.134,
          72.584,
          72.652,
          73.793,
          74.313,
          74.825,
          74.52,
          73.154,
          73.556,
          73.87100000000001,
          72.584,
          70.13600000000001,
          71.219,
          71.336,
          71.825,
          71.414,
          70.565,
          70.711,
          70.332,
          70.086,
          68.067,
          67.93,
          67.832,
          69.51100000000001,
          68.554,
          68.418,
          66.973,
          65.811,
          64.807,
          66.514,
          66.544,
          65.1,
          64.671,
          66.514,
          67.422,
          67.793,
          67.452,
          67.715,
          66.271,
          67.881,
          67.686,
          68.057,
          68.40899999999999,
          67.813,
          68.154,
          68.70100000000001,
          67.637,
          67.24600000000001,
          67.324,
          67.139,
          64.388,
          64.748,
          62.738,
          61.898,
          62.805,
          62.36600000000001,
          60.863,
          60.18,
          61.215,
          60.463,
          62.376000000000005,
          61.732,
          61.898,
          62.766999999999996,
          61.956,
          59.849,
          59.93600000000001,
          63.273999999999994,
          62.718,
          64.465,
          65.139,
          63.577,
          64.661,
          63.61600000000001,
          65.988,
          66.212,
          68.934,
          69.468,
          69.516,
          69.904,
          69.157,
          70.726,
          69.73899999999999,
          68.885,
          68.702,
          69.544,
          68.605,
          69.09,
          69.468,
          69.524,
          69.37100000000001,
          68.905,
          69.322,
          68.905,
          69.167,
          68.634,
          68.237,
          68.528,
          67.839,
          66.018,
          65.117,
          64.459,
          65.301,
          65.844,
          65.97,
          65.476,
          65.854,
          64.459,
          65.369,
          64.98100000000001,
          64.719,
          65.757,
          65.02,
          63.636,
          64.392,
          63.723,
          63.818999999999996,
          60.652,
          60.206,
          61.62,
          61.717,
          61.795,
          62.376000000000005,
          61.901,
          62.638000000000005,
          64.014,
          62.927,
          63.035,
          63.917,
          62.841,
          63.218,
          62.36600000000001,
          65.77600000000001,
          65.515,
          66.086,
          66.028,
          68.208,
          68.459,
          67.723,
          67.33800000000001,
          68.051,
          68.368,
          66.905,
          66.154,
          66.251,
          66.607,
          66.5,
          67.058,
          67.71300000000001,
          66.71300000000001,
          64.854,
          64.893,
          63.44,
          63.06399999999999,
          62.757,
          63.593999999999994,
          63.093,
          63.353,
          62.622,
          62.006,
          61.948,
          59.888999999999996,
          59.657,
          58.455,
          58.926,
          58.07,
          58.695,
          61.515,
          61.89,
          63.17100000000001,
          63.458999999999996,
          62.748000000000005,
          61.708,
          61.265,
          60.455,
          59.974,
          59.735,
          59.581,
          60.167,
          60.571999999999996,
          61.361000000000004,
          62.053999999999995,
          61.582,
          61.986999999999995,
          61.717,
          62.111999999999995,
          61.736000000000004,
          61.91,
          62.218999999999994,
          61.967,
          61.861000000000004,
          60.08,
          60.678000000000004,
          60.321000000000005,
          59.302,
          59.68600000000001,
          60.455,
          61.495,
          61.418,
          61.66,
          61.284,
          61.611000000000004,
          61.382,
          60.418,
          61.027,
          61.191,
          59.938,
          59.38399999999999,
          59.117,
          60.33,
          59.708999999999996,
          59.442,
          58.667,
          56.326,
          54.185,
          53.946000000000005,
          53.888000000000005,
          53.01,
          53.153,
          52.693999999999996,
          50.236999999999995,
          51.163999999999994
         ]
        },
        {
         "histfunc": "count",
         "histnorm": "",
         "marker": {
          "color": "rgba(50, 171, 96, 1.0)",
          "line": {
           "color": "#4D5663",
           "width": 1.3
          }
         },
         "name": "GS",
         "opacity": 0.8,
         "orientation": "v",
         "type": "histogram",
         "x": [
          201.63,
          203.84,
          206.19,
          209.59,
          206.31,
          201.78,
          194.13,
          213.52,
          218.1,
          220.81,
          217.92,
          214.82,
          210.57,
          204.14,
          199.93,
          196.49,
          199.97,
          208.36,
          194.84,
          178.81,
          178.98,
          180.31,
          176.73,
          180.75,
          170.8,
          173.37,
          170.73,
          176.11,
          182.02,
          184.24,
          181.19,
          175.82,
          177.19,
          174.94,
          176,
          182.28,
          188.85,
          185.85,
          182.4,
          175.9,
          173.96,
          174.89,
          172.73,
          179.28,
          182.35,
          175.94,
          177.41,
          177.12,
          178.07,
          183.12,
          175.86,
          164.99,
          157.25,
          146.02,
          149,
          144.39,
          153.63,
          158.63,
          157.36,
          164.76,
          154.17,
          152.65,
          134.13,
          137.55,
          148.56,
          139.15,
          157.68,
          153.7,
          176.07,
          149.74,
          170.82,
          183.2,
          171.74,
          191.65,
          197.56,
          207.44,
          202.17,
          208.17,
          199.52,
          203.17,
          213.14,
          214.95,
          221.79,
          227.8,
          229.88,
          234.42,
          230.35,
          234.18,
          235.43,
          235.73,
          233.56,
          234.45,
          235.08,
          238.86,
          241.31,
          238.98,
          236.08,
          234.84,
          241.14,
          237.18,
          239.61,
          235.22,
          238.96,
          242.57,
          244.02,
          242.69,
          246.4,
          246.66,
          242.21,
          242.65,
          242.21,
          239.15,
          239.63,
          234.85,
          232.61,
          231.09,
          228.74,
          231.45,
          227.11,
          226.98,
          227.84,
          228.37,
          227.09,
          226.29,
          226.13,
          227.12,
          227.63,
          228.32,
          225.24,
          222.24,
          223.28,
          218.48,
          219.16,
          219.09,
          221.86,
          214.48,
          213.3,
          209.64,
          214.98,
          218.63,
          218.98,
          218.49,
          218.78,
          216.36,
          214.35,
          214.03,
          216.13,
          215.82,
          216.34,
          215.52,
          215.41,
          216.49,
          215.14,
          218.94,
          219.32,
          214.54,
          214.75,
          215.96,
          213.53,
          209.58,
          211.97,
          213.76,
          213.87,
          210.42,
          207.29,
          207.56,
          205.86,
          205.54,
          202.84,
          202.78,
          203.74,
          202.78,
          202.17,
          201.03,
          196.31,
          193.35,
          193.86,
          196.84,
          197.23,
          193.73,
          194.72,
          199.09,
          203.55,
          205.26,
          204.51,
          206.29,
          204.05,
          209.66,
          209.94,
          211.4,
          213.22,
          212.07,
          213.36,
          215.99,
          214.85,
          212.94,
          211.8,
          208.21,
          203.53,
          203.37,
          198.14,
          195.43,
          200.29,
          199.82,
          195.63,
          193.33,
          194.87,
          191.51,
          197.57,
          195.88,
          195.2,
          197.37,
          194.65,
          191.49,
          190.89,
          199.22,
          196.7,
          201.96,
          202.06,
          200.81,
          201.08,
          196.86,
          204.35,
          206.54,
          214.87,
          216.11,
          215.06,
          216.82,
          214.72,
          216.73,
          214.18,
          208.88,
          208.42,
          209.38,
          208.2,
          210.37,
          206.52,
          208.83,
          206.29,
          201.04,
          202.79,
          200.82,
          202.92,
          201.1,
          201.05,
          201.92,
          199.7,
          194.55,
          192.3,
          191.37,
          192.77,
          191.25,
          191.02,
          190.97,
          190.31,
          186.27,
          187.07,
          186.87,
          185.67,
          190.08,
          189.48,
          185.27,
          185.27,
          183.93,
          185.34,
          178.81,
          178.12,
          182.89,
          183.55,
          184.08,
          187.54,
          186.54,
          189.99,
          193.48,
          191.67,
          191.83,
          193.51,
          190.85,
          190.73,
          189.46,
          196.33,
          195.93,
          195.27,
          196.9,
          200.6,
          201.65,
          199.18,
          198.94,
          200.1,
          201.06,
          197.34,
          195.71,
          194.86,
          198.36,
          198.82,
          200.09,
          202.03,
          196.12,
          194.25,
          201.97,
          197.09,
          197.24,
          194.94,
          196.81,
          196.65,
          196.5,
          195.18,
          191.9,
          191.17,
          186.56,
          185.77,
          184.66,
          185.29,
          183.17,
          183.61,
          189.08,
          188.82,
          195.43,
          196.74,
          192.65,
          191.87,
          191.67,
          191.07,
          190.42,
          189.71,
          187.32,
          189.24,
          190.45,
          190.43,
          192.6,
          191.14,
          192.5,
          192.5,
          192.25,
          189.68,
          190.04,
          192.2,
          192.27,
          192.1,
          186.34,
          188.42,
          188.23,
          185.16,
          185.49,
          186.85,
          190.28,
          191.64,
          191.35,
          190.2,
          191.64,
          195.97,
          194.04,
          193.29,
          194.27,
          191.43,
          190.56,
          191.31,
          196.01,
          192.68,
          190.74,
          174.13,
          172.96,
          171.24,
          170.33,
          170.79,
          169.73,
          170.35,
          169.42,
          164.04,
          166.5
         ]
        },
        {
         "histfunc": "count",
         "histnorm": "",
         "marker": {
          "color": "rgba(128, 0, 128, 1.0)",
          "line": {
           "color": "#4D5663",
           "width": 1.3
          }
         },
         "name": "JPM",
         "opacity": 0.8,
         "orientation": "v",
         "type": "histogram",
         "x": [
          97.81,
          98.94,
          99.48,
          102.06,
          101.25,
          99.87,
          97.21,
          106.06,
          110.54,
          113.45,
          111.23,
          106.44,
          104.27,
          98.93,
          98.6,
          97.31,
          99.86,
          101.37,
          95.82,
          89.47,
          90.17,
          91.33,
          88.67,
          90.45,
          85.9,
          87.52,
          84.03,
          87.03,
          89.97,
          92.7,
          91.21,
          90.27,
          92,
          92.14,
          93.25,
          95.76,
          97.86,
          95.29,
          94.62,
          90.71,
          89.39,
          89.34,
          89.05,
          91.71,
          95.18,
          87.33,
          90.79,
          95.5,
          98.19,
          102.76,
          94.3,
          90.64,
          89.46,
          84.05,
          86.61,
          83.492,
          89.104,
          92.538,
          90.193,
          97.111,
          90.787,
          87.521,
          78.217,
          82.641,
          84.42299999999999,
          83.027,
          92.796,
          87.45100000000001,
          102.84,
          87.14399999999999,
          94.973,
          99.66,
          92.479,
          106.97,
          112.8,
          118.62,
          115.76,
          120.27,
          114.92,
          120.12,
          125.34,
          124.96,
          130.8,
          134.41,
          136.08,
          136.08,
          134.25,
          136.05,
          136.46,
          136.58,
          136.58,
          136.32,
          135.76,
          136.19,
          136.17,
          133.9,
          132,
          131,
          134.49,
          132.85,
          133.05,
          130.67,
          131.78,
          135.14,
          135.27,
          135.43,
          136.78,
          135.84,
          135.31,
          137.37,
          135.79,
          134.67,
          136.03,
          135.53,
          134.48,
          136.81,
          136.92,
          138.75,
          137.09,
          136.33,
          136.83,
          136.73,
          135.29,
          134.92,
          134.96,
          135.07,
          135.75,
          135.89,
          135.06,
          134.54,
          135.73,
          131.95,
          132.27,
          132.18,
          132.8,
          130.85,
          130.15,
          127.62,
          129.29,
          129.57,
          129.87,
          129.48,
          129.31,
          128.62,
          127.77,
          127.48,
          128.42,
          128.46,
          127.38,
          126.47,
          126.35,
          127.02,
          127.76,
          128.22,
          127.84,
          127.16,
          126.96,
          126.68,
          125.67,
          122.84,
          123.65,
          124.33,
          124.41,
          123.94,
          122.95,
          123.04,
          122.71,
          121.5,
          118.56,
          118.35,
          117.7,
          117.96,
          114.52,
          114.21,
          112.31,
          110.76,
          109.97,
          112.47,
          112.72,
          110.32,
          110.48,
          112.73,
          114.82,
          114.85,
          114.17,
          115.11,
          114.47,
          115.98,
          116,
          116.46,
          116.84,
          115.68,
          116.25,
          117.29,
          115.02,
          114.33,
          114.02,
          112.58,
          109.87,
          109.63,
          107.19,
          105.91,
          107.18,
          106.55,
          104.19,
          103.16,
          104.26,
          103.44,
          106.07,
          104.98,
          104.69,
          106.04,
          105.09,
          102.62,
          102.25,
          106.67,
          105.12,
          107.07,
          107.18,
          105.39,
          107.73,
          106.9,
          110.18,
          110.19,
          113.17,
          112.77,
          113.03,
          113.38,
          112.89,
          113.98,
          113.52,
          111.48,
          110.77,
          111.87,
          111.2,
          112.31,
          111.12,
          112.48,
          111.31,
          110.25,
          110.58,
          110.12,
          110.72,
          110.07,
          110.23,
          110.13,
          108.3,
          105.43,
          105.09,
          104.39,
          105.27,
          106.02,
          106.75,
          106.47,
          107.25,
          105.8,
          106.38,
          106.12,
          105.85,
          107.22,
          106.89,
          105.74,
          106.92,
          106.69,
          106.31,
          103.13,
          102.64,
          103.72,
          104.84,
          105.13,
          106.28,
          105.25,
          107.35,
          108.24,
          107.87,
          107.3,
          107.83,
          106.46,
          106.87,
          106.03,
          108.99,
          109,
          109.09,
          109.67,
          111.49,
          112.48,
          111.8,
          111.56,
          112.41,
          112.48,
          110.9,
          110.06,
          110,
          110.19,
          110.05,
          109.91,
          110.73,
          107.62,
          106.5,
          107.73,
          102.9,
          102.05,
          101.58,
          102.36,
          102.02,
          102.27,
          101.28,
          101.08,
          100.6,
          97.315,
          96.824,
          95.73299999999999,
          96.061,
          95.109,
          95.906,
          98.89200000000001,
          100.49,
          102.66,
          103.05,
          102.45,
          101.28,
          100.36,
          100.02,
          100.32,
          99.031,
          98.991,
          99.71,
          100.08,
          100.16,
          100.4,
          100.33,
          101.1,
          101.23,
          102,
          100.95,
          101.39,
          101.6,
          101.12,
          101.47,
          98.46799999999999,
          99.11,
          98.635,
          96.979,
          97.441,
          98.429,
          99.73,
          99.78,
          100.22,
          99.87,
          99.49600000000001,
          100.38,
          100.14,
          99.87,
          99.397,
          98.774,
          98.714,
          98.962,
          100.56,
          98.94200000000001,
          98.536,
          97.75399999999999,
          97.039,
          96.051,
          96.515,
          96.525,
          96.68799999999999,
          96.863,
          96.805,
          93.36,
          94.706
         ]
        },
        {
         "histfunc": "count",
         "histnorm": "",
         "marker": {
          "color": "rgba(219, 64, 82, 1.0)",
          "line": {
           "color": "#4D5663",
           "width": 1.3
          }
         },
         "name": "MS",
         "opacity": 0.8,
         "orientation": "v",
         "type": "histogram",
         "x": [
          46.93,
          47.58,
          47.76,
          48.56,
          47.4,
          46.28,
          44.57,
          48.69,
          50.4,
          50.15,
          49.53,
          48.69,
          46.91,
          45.58,
          44.7,
          44.2,
          44.4,
          46.86,
          43.69,
          40.13,
          40.3,
          41.06,
          39.33,
          40.28,
          37.29,
          37.81,
          36.99,
          38.42,
          39.83,
          40.08,
          38.81,
          37.3,
          37.98,
          38.09,
          38.4,
          39.43,
          40.79,
          39.78,
          38.967,
          37.639,
          37.143,
          37.48,
          36.628,
          38.025,
          38.749,
          38.025,
          38.065,
          39.512,
          39.235,
          40.722,
          39.027,
          36.618,
          36.687,
          33.555,
          33.604,
          31.344,
          33.703,
          34.536,
          33.713,
          35.399,
          33.694,
          32.93,
          27.566999999999997,
          29.410999999999998,
          30.65,
          30.482,
          33.495,
          31.374000000000002,
          37.173,
          31.037,
          36.548,
          39.155,
          37.173,
          41.475,
          42.218999999999994,
          44.845,
          44.013000000000005,
          46.075,
          44.637,
          45.013999999999996,
          46.828,
          47.611000000000004,
          49.247,
          51.963,
          53.281000000000006,
          55.818999999999996,
          55.036,
          55.353,
          55.442,
          55.69,
          55.294,
          54.867,
          54.55,
          54.53,
          54.51,
          53.549,
          52.141000000000005,
          51.803999999999995,
          53.351000000000006,
          52.865,
          53.2,
          52.303999999999995,
          53.721000000000004,
          54.687,
          55.012,
          55.07,
          56.637,
          55.583,
          52.136,
          52.056999999999995,
          51.979,
          51.418,
          51.27,
          50.787,
          50.147,
          50.245,
          50.422,
          51.25,
          50.343999999999994,
          50.18600000000001,
          50.31399999999999,
          50.333999999999996,
          49.92,
          49.95,
          49.92,
          50.086999999999996,
          49.891000000000005,
          50.126999999999995,
          49.95,
          49.477,
          49.92,
          48.7,
          48.916000000000004,
          48.847,
          49.043,
          48.325,
          48.099,
          47.379,
          48.335,
          48.728,
          49.023999999999994,
          48.66,
          49.201,
          48.501999999999995,
          48.099,
          48.355,
          48.581,
          48.285,
          48.247,
          47.872,
          47.655,
          48.265,
          48.345,
          48.403999999999996,
          47.92100000000001,
          47.821999999999996,
          48.01,
          48.089,
          46.611000000000004,
          45.351000000000006,
          45.556999999999995,
          45.773999999999994,
          45.784,
          45.324,
          44.728,
          44.875,
          44.357,
          43.966,
          42.676,
          42.46,
          41.825,
          41.571000000000005,
          41.298,
          40.985,
          40.124,
          39.528,
          38.922,
          39.763000000000005,
          39.86,
          39.343,
          39.323,
          40.446999999999996,
          41.708,
          41.875,
          41.658,
          42.068999999999996,
          41.581,
          42.577,
          42.685,
          43.027,
          43.36,
          43.214,
          43.74100000000001,
          44.141999999999996,
          43.321000000000005,
          42.95,
          42.597,
          42.138000000000005,
          41.229,
          41.513000000000005,
          40.594,
          40.066,
          40.555,
          40.359,
          39.47,
          38.894,
          39.255,
          38.443000000000005,
          39.361999999999995,
          39.04,
          39.001,
          39.46,
          39.04,
          38.219,
          38.443000000000005,
          39.773,
          39.45,
          40.564,
          40.34,
          39.646,
          40.291,
          39.577,
          41.17,
          41.961999999999996,
          43.556000000000004,
          43.663000000000004,
          43.869,
          44.363,
          43.519,
          44.131,
          43.742,
          43.16,
          43.053999999999995,
          43.093,
          42.451,
          43.093,
          43.093,
          43.519,
          42.849,
          42.006,
          42.461000000000006,
          42.18,
          42.879,
          42.667,
          42.511,
          42.626999999999995,
          42.49100000000001,
          42.18,
          41.695,
          41.376000000000005,
          41.773,
          42.268,
          42.152,
          41.841,
          42.036,
          41.23,
          41.531000000000006,
          41.656000000000006,
          41.336000000000006,
          42.355,
          41.986999999999995,
          41.415,
          41.522,
          41.153,
          41.201,
          39.503,
          39.465,
          40.57,
          40.92,
          40.9,
          41.666000000000004,
          41.425,
          42.18,
          43.053999999999995,
          42.55,
          42.559,
          42.946999999999996,
          42.577,
          42.684,
          42.849,
          44.943999999999996,
          45.053000000000004,
          45.129,
          45.303999999999995,
          46.273999999999994,
          46.613,
          46.37,
          46.138000000000005,
          46.797,
          47.001000000000005,
          46.157,
          45.578,
          45.666000000000004,
          45.636,
          45.578,
          45.83,
          46.513999999999996,
          45.317,
          44.412,
          45.001000000000005,
          43.178999999999995,
          42.841,
          42.66,
          43.353,
          43.275,
          43.303999999999995,
          42.775,
          42.118,
          41.95399999999999,
          40.673,
          40.412,
          39.873000000000005,
          40.365,
          39.758,
          40.211,
          41.568999999999996,
          41.472,
          42.36,
          42.437,
          41.763999999999996,
          41.146,
          40.874,
          40.51,
          40.336,
          39.863,
          39.68,
          40.113,
          40.385,
          40.48,
          40.963,
          40.461,
          41.019,
          40.874,
          40.664,
          40.278,
          40.441,
          40.884,
          40.634,
          40.471,
          39.247,
          39.699,
          39.661,
          38.755,
          39.333,
          39.978,
          40.848,
          40.914,
          40.923,
          40.306,
          40.769,
          41.242,
          40.664,
          40.817,
          41.133,
          40.242,
          40.338,
          40.586999999999996,
          41.81100000000001,
          40.702,
          42.576,
          41.036,
          40.654,
          39.946,
          39.869,
          39.946,
          39.668,
          39.919000000000004,
          39.524,
          37.975,
          38.664
         ]
        },
        {
         "histfunc": "count",
         "histnorm": "",
         "marker": {
          "color": "rgba(0, 128, 128, 1.0)",
          "line": {
           "color": "#4D5663",
           "width": 1.3
          }
         },
         "name": "WFC",
         "opacity": 0.8,
         "orientation": "v",
         "type": "histogram",
         "x": [
          27.6,
          27.55,
          27.45,
          28.52,
          28.21,
          27.97,
          26.79,
          29.71,
          32.63,
          33.32,
          31.67,
          30.22,
          28.83,
          27.4,
          27.09,
          26.47,
          27.22,
          27.95,
          26.26,
          24.17,
          24.46,
          24.52,
          23.95,
          25.41,
          23.36,
          24.06,
          22.53,
          24.04,
          24.78,
          25.43,
          25.23,
          25.1,
          25.796,
          26.805,
          27.041,
          28.471,
          29.403000000000002,
          28.295,
          27.844,
          26.384,
          26.002,
          26.266,
          26.305999999999997,
          27.129,
          27.815,
          26.355,
          27.874000000000002,
          29.579,
          30.804000000000002,
          32.539,
          29.677,
          28.197,
          28.06,
          25.708000000000002,
          26.678,
          26.041,
          28.128,
          29.324,
          29.677,
          30.285,
          28.393,
          28.344,
          24.747,
          25.971999999999998,
          27.726999999999997,
          27.56,
          29.04,
          25.971999999999998,
          30.275,
          26.658,
          31.686,
          34.381,
          31.833000000000002,
          36.351,
          38.125,
          40.576,
          39.723,
          41.418,
          40.037,
          41.623999999999995,
          43.261,
          44.221000000000004,
          45.466,
          46.75,
          46.397,
          46.152,
          46.053999999999995,
          47.26,
          47.162,
          46.838,
          47.034,
          46.818999999999996,
          46.887,
          47.025,
          46.848,
          45.83,
          45.695,
          45.519,
          46.46,
          45.84,
          45.937,
          45.675,
          46.131,
          46.761,
          47.09,
          47.458999999999996,
          47.692,
          47.76,
          46.858000000000004,
          47.809,
          50.533,
          50.912,
          51.13399999999999,
          51.221000000000004,
          51.066,
          51.493,
          51.803000000000004,
          52.123999999999995,
          52.172,
          51.978,
          52.288999999999994,
          52.511,
          52.192,
          52.181999999999995,
          51.716,
          52.007,
          52.04600000000001,
          52.695,
          52.58,
          52.162,
          52.715,
          51.56100000000001,
          52.065,
          52.288999999999994,
          52.725,
          51.619,
          51.629,
          50.989,
          51.997,
          52.812,
          52.695,
          52.181999999999995,
          52.57,
          52.637,
          51.94,
          51.92,
          52.395,
          52.36600000000001,
          52.172,
          51.871,
          51.677,
          52.58,
          52.413999999999994,
          52.463,
          52.36600000000001,
          51.677,
          51.198,
          50.64,
          50.121,
          49.593,
          49.978,
          50.111000000000004,
          49.611999999999995,
          49.536,
          49.085,
          48.92,
          48.623000000000005,
          48.468999999999994,
          47.998000000000005,
          47.653,
          47.633,
          48.133,
          47.326,
          47.269,
          46.73,
          46.251000000000005,
          45.934,
          46.88399999999999,
          47.269,
          46.567,
          46.558,
          47.123999999999995,
          48.451,
          48.708999999999996,
          46.942,
          47.317,
          46.73,
          47.028,
          46.711000000000006,
          46.98,
          46.998999999999995,
          46.836000000000006,
          47.048,
          46.989,
          46.73,
          46.923,
          46.403999999999996,
          46.5,
          45.29,
          45.742,
          44.665,
          44.271,
          44.733000000000004,
          44.368,
          43.677,
          42.985,
          43.206,
          42.668,
          43.821000000000005,
          43.224,
          42.917,
          43.465,
          42.638999999999996,
          41.668,
          42.235,
          44.146,
          43.637,
          44.473,
          44.568999999999996,
          43.513000000000005,
          44.577,
          43.826,
          45.06,
          44.7,
          45.982,
          46.115,
          45.858999999999995,
          46.828,
          45.678999999999995,
          46.021,
          44.833999999999996,
          44.148999999999994,
          43.723,
          43.522,
          42.943000000000005,
          43.028999999999996,
          44.368,
          44.985,
          44.776,
          44.785,
          45.431999999999995,
          45.147,
          45.373999999999995,
          45.269,
          44.861000000000004,
          45.299,
          44.946999999999996,
          43.968999999999994,
          43.503,
          43.826,
          43.95,
          44.538000000000004,
          43.56,
          43.361000000000004,
          43.788000000000004,
          43,
          43.303999999999995,
          43.019,
          42.658,
          43.94,
          43.95,
          43.341,
          43.618,
          43.56,
          43.388999999999996,
          42.288000000000004,
          42.145,
          42.791000000000004,
          43.2,
          43.303999999999995,
          43.855,
          43.276,
          43.788000000000004,
          44.007,
          43.17100000000001,
          43.408,
          43.598,
          43.541000000000004,
          44.158,
          44.007,
          44.785,
          44.397,
          44.217,
          44.375,
          45.56,
          45.768,
          45.43899999999999,
          45.372,
          45.543,
          45.411,
          45.119,
          44.695,
          44.666000000000004,
          44.545,
          44.461000000000006,
          44.761,
          44.733999999999995,
          44.828,
          43.998999999999995,
          43.735,
          44.912,
          44.958999999999996,
          45.288000000000004,
          45.983999999999995,
          45.89,
          46.256,
          45.965,
          45.352,
          45.919,
          45.456,
          46.181999999999995,
          45.881,
          46.107,
          45.233000000000004,
          45.446999999999996,
          46.906000000000006,
          47.413999999999994,
          48.364,
          48.666000000000004,
          47.659,
          47.368,
          46.964,
          46.71,
          46.812,
          46.85,
          46.736000000000004,
          46.869,
          46.934,
          47.141000000000005,
          47.067,
          46.934,
          46.943999999999996,
          46.652,
          46.718,
          46.11600000000001,
          46.623999999999995,
          46.86,
          46.455,
          46.303999999999995,
          45.646,
          46.11600000000001,
          46.144,
          44.828,
          44.828,
          45.233000000000004,
          46.303999999999995,
          46.351000000000006,
          46.153999999999996,
          46.013000000000005,
          46.013000000000005,
          46.7,
          46.475,
          46.446999999999996,
          46.736000000000004,
          46.597,
          46.727,
          46.483999999999995,
          46.625,
          45.897,
          45.626999999999995,
          44.443000000000005,
          45.143,
          44.63,
          44.516999999999996,
          44.565,
          44.321999999999996,
          44.415,
          44.70399999999999,
          43.418,
          43.763000000000005
         ]
        }
       ],
       "layout": {
        "barmode": "overlay",
        "legend": {
         "bgcolor": "#F5F6F9",
         "font": {
          "color": "#4D5663"
         }
        },
        "paper_bgcolor": "#F5F6F9",
        "plot_bgcolor": "#F5F6F9",
        "template": {
         "data": {
          "bar": [
           {
            "error_x": {
             "color": "#2a3f5f"
            },
            "error_y": {
             "color": "#2a3f5f"
            },
            "marker": {
             "line": {
              "color": "#E5ECF6",
              "width": 0.5
             }
            },
            "type": "bar"
           }
          ],
          "barpolar": [
           {
            "marker": {
             "line": {
              "color": "#E5ECF6",
              "width": 0.5
             }
            },
            "type": "barpolar"
           }
          ],
          "carpet": [
           {
            "aaxis": {
             "endlinecolor": "#2a3f5f",
             "gridcolor": "white",
             "linecolor": "white",
             "minorgridcolor": "white",
             "startlinecolor": "#2a3f5f"
            },
            "baxis": {
             "endlinecolor": "#2a3f5f",
             "gridcolor": "white",
             "linecolor": "white",
             "minorgridcolor": "white",
             "startlinecolor": "#2a3f5f"
            },
            "type": "carpet"
           }
          ],
          "choropleth": [
           {
            "colorbar": {
             "outlinewidth": 0,
             "ticks": ""
            },
            "type": "choropleth"
           }
          ],
          "contour": [
           {
            "colorbar": {
             "outlinewidth": 0,
             "ticks": ""
            },
            "colorscale": [
             [
              0,
              "#0d0887"
             ],
             [
              0.1111111111111111,
              "#46039f"
             ],
             [
              0.2222222222222222,
              "#7201a8"
             ],
             [
              0.3333333333333333,
              "#9c179e"
             ],
             [
              0.4444444444444444,
              "#bd3786"
             ],
             [
              0.5555555555555556,
              "#d8576b"
             ],
             [
              0.6666666666666666,
              "#ed7953"
             ],
             [
              0.7777777777777778,
              "#fb9f3a"
             ],
             [
              0.8888888888888888,
              "#fdca26"
             ],
             [
              1,
              "#f0f921"
             ]
            ],
            "type": "contour"
           }
          ],
          "contourcarpet": [
           {
            "colorbar": {
             "outlinewidth": 0,
             "ticks": ""
            },
            "type": "contourcarpet"
           }
          ],
          "heatmap": [
           {
            "colorbar": {
             "outlinewidth": 0,
             "ticks": ""
            },
            "colorscale": [
             [
              0,
              "#0d0887"
             ],
             [
              0.1111111111111111,
              "#46039f"
             ],
             [
              0.2222222222222222,
              "#7201a8"
             ],
             [
              0.3333333333333333,
              "#9c179e"
             ],
             [
              0.4444444444444444,
              "#bd3786"
             ],
             [
              0.5555555555555556,
              "#d8576b"
             ],
             [
              0.6666666666666666,
              "#ed7953"
             ],
             [
              0.7777777777777778,
              "#fb9f3a"
             ],
             [
              0.8888888888888888,
              "#fdca26"
             ],
             [
              1,
              "#f0f921"
             ]
            ],
            "type": "heatmap"
           }
          ],
          "heatmapgl": [
           {
            "colorbar": {
             "outlinewidth": 0,
             "ticks": ""
            },
            "colorscale": [
             [
              0,
              "#0d0887"
             ],
             [
              0.1111111111111111,
              "#46039f"
             ],
             [
              0.2222222222222222,
              "#7201a8"
             ],
             [
              0.3333333333333333,
              "#9c179e"
             ],
             [
              0.4444444444444444,
              "#bd3786"
             ],
             [
              0.5555555555555556,
              "#d8576b"
             ],
             [
              0.6666666666666666,
              "#ed7953"
             ],
             [
              0.7777777777777778,
              "#fb9f3a"
             ],
             [
              0.8888888888888888,
              "#fdca26"
             ],
             [
              1,
              "#f0f921"
             ]
            ],
            "type": "heatmapgl"
           }
          ],
          "histogram": [
           {
            "marker": {
             "colorbar": {
              "outlinewidth": 0,
              "ticks": ""
             }
            },
            "type": "histogram"
           }
          ],
          "histogram2d": [
           {
            "colorbar": {
             "outlinewidth": 0,
             "ticks": ""
            },
            "colorscale": [
             [
              0,
              "#0d0887"
             ],
             [
              0.1111111111111111,
              "#46039f"
             ],
             [
              0.2222222222222222,
              "#7201a8"
             ],
             [
              0.3333333333333333,
              "#9c179e"
             ],
             [
              0.4444444444444444,
              "#bd3786"
             ],
             [
              0.5555555555555556,
              "#d8576b"
             ],
             [
              0.6666666666666666,
              "#ed7953"
             ],
             [
              0.7777777777777778,
              "#fb9f3a"
             ],
             [
              0.8888888888888888,
              "#fdca26"
             ],
             [
              1,
              "#f0f921"
             ]
            ],
            "type": "histogram2d"
           }
          ],
          "histogram2dcontour": [
           {
            "colorbar": {
             "outlinewidth": 0,
             "ticks": ""
            },
            "colorscale": [
             [
              0,
              "#0d0887"
             ],
             [
              0.1111111111111111,
              "#46039f"
             ],
             [
              0.2222222222222222,
              "#7201a8"
             ],
             [
              0.3333333333333333,
              "#9c179e"
             ],
             [
              0.4444444444444444,
              "#bd3786"
             ],
             [
              0.5555555555555556,
              "#d8576b"
             ],
             [
              0.6666666666666666,
              "#ed7953"
             ],
             [
              0.7777777777777778,
              "#fb9f3a"
             ],
             [
              0.8888888888888888,
              "#fdca26"
             ],
             [
              1,
              "#f0f921"
             ]
            ],
            "type": "histogram2dcontour"
           }
          ],
          "mesh3d": [
           {
            "colorbar": {
             "outlinewidth": 0,
             "ticks": ""
            },
            "type": "mesh3d"
           }
          ],
          "parcoords": [
           {
            "line": {
             "colorbar": {
              "outlinewidth": 0,
              "ticks": ""
             }
            },
            "type": "parcoords"
           }
          ],
          "pie": [
           {
            "automargin": true,
            "type": "pie"
           }
          ],
          "scatter": [
           {
            "marker": {
             "colorbar": {
              "outlinewidth": 0,
              "ticks": ""
             }
            },
            "type": "scatter"
           }
          ],
          "scatter3d": [
           {
            "line": {
             "colorbar": {
              "outlinewidth": 0,
              "ticks": ""
             }
            },
            "marker": {
             "colorbar": {
              "outlinewidth": 0,
              "ticks": ""
             }
            },
            "type": "scatter3d"
           }
          ],
          "scattercarpet": [
           {
            "marker": {
             "colorbar": {
              "outlinewidth": 0,
              "ticks": ""
             }
            },
            "type": "scattercarpet"
           }
          ],
          "scattergeo": [
           {
            "marker": {
             "colorbar": {
              "outlinewidth": 0,
              "ticks": ""
             }
            },
            "type": "scattergeo"
           }
          ],
          "scattergl": [
           {
            "marker": {
             "colorbar": {
              "outlinewidth": 0,
              "ticks": ""
             }
            },
            "type": "scattergl"
           }
          ],
          "scattermapbox": [
           {
            "marker": {
             "colorbar": {
              "outlinewidth": 0,
              "ticks": ""
             }
            },
            "type": "scattermapbox"
           }
          ],
          "scatterpolar": [
           {
            "marker": {
             "colorbar": {
              "outlinewidth": 0,
              "ticks": ""
             }
            },
            "type": "scatterpolar"
           }
          ],
          "scatterpolargl": [
           {
            "marker": {
             "colorbar": {
              "outlinewidth": 0,
              "ticks": ""
             }
            },
            "type": "scatterpolargl"
           }
          ],
          "scatterternary": [
           {
            "marker": {
             "colorbar": {
              "outlinewidth": 0,
              "ticks": ""
             }
            },
            "type": "scatterternary"
           }
          ],
          "surface": [
           {
            "colorbar": {
             "outlinewidth": 0,
             "ticks": ""
            },
            "colorscale": [
             [
              0,
              "#0d0887"
             ],
             [
              0.1111111111111111,
              "#46039f"
             ],
             [
              0.2222222222222222,
              "#7201a8"
             ],
             [
              0.3333333333333333,
              "#9c179e"
             ],
             [
              0.4444444444444444,
              "#bd3786"
             ],
             [
              0.5555555555555556,
              "#d8576b"
             ],
             [
              0.6666666666666666,
              "#ed7953"
             ],
             [
              0.7777777777777778,
              "#fb9f3a"
             ],
             [
              0.8888888888888888,
              "#fdca26"
             ],
             [
              1,
              "#f0f921"
             ]
            ],
            "type": "surface"
           }
          ],
          "table": [
           {
            "cells": {
             "fill": {
              "color": "#EBF0F8"
             },
             "line": {
              "color": "white"
             }
            },
            "header": {
             "fill": {
              "color": "#C8D4E3"
             },
             "line": {
              "color": "white"
             }
            },
            "type": "table"
           }
          ]
         },
         "layout": {
          "annotationdefaults": {
           "arrowcolor": "#2a3f5f",
           "arrowhead": 0,
           "arrowwidth": 1
          },
          "coloraxis": {
           "colorbar": {
            "outlinewidth": 0,
            "ticks": ""
           }
          },
          "colorscale": {
           "diverging": [
            [
             0,
             "#8e0152"
            ],
            [
             0.1,
             "#c51b7d"
            ],
            [
             0.2,
             "#de77ae"
            ],
            [
             0.3,
             "#f1b6da"
            ],
            [
             0.4,
             "#fde0ef"
            ],
            [
             0.5,
             "#f7f7f7"
            ],
            [
             0.6,
             "#e6f5d0"
            ],
            [
             0.7,
             "#b8e186"
            ],
            [
             0.8,
             "#7fbc41"
            ],
            [
             0.9,
             "#4d9221"
            ],
            [
             1,
             "#276419"
            ]
           ],
           "sequential": [
            [
             0,
             "#0d0887"
            ],
            [
             0.1111111111111111,
             "#46039f"
            ],
            [
             0.2222222222222222,
             "#7201a8"
            ],
            [
             0.3333333333333333,
             "#9c179e"
            ],
            [
             0.4444444444444444,
             "#bd3786"
            ],
            [
             0.5555555555555556,
             "#d8576b"
            ],
            [
             0.6666666666666666,
             "#ed7953"
            ],
            [
             0.7777777777777778,
             "#fb9f3a"
            ],
            [
             0.8888888888888888,
             "#fdca26"
            ],
            [
             1,
             "#f0f921"
            ]
           ],
           "sequentialminus": [
            [
             0,
             "#0d0887"
            ],
            [
             0.1111111111111111,
             "#46039f"
            ],
            [
             0.2222222222222222,
             "#7201a8"
            ],
            [
             0.3333333333333333,
             "#9c179e"
            ],
            [
             0.4444444444444444,
             "#bd3786"
            ],
            [
             0.5555555555555556,
             "#d8576b"
            ],
            [
             0.6666666666666666,
             "#ed7953"
            ],
            [
             0.7777777777777778,
             "#fb9f3a"
            ],
            [
             0.8888888888888888,
             "#fdca26"
            ],
            [
             1,
             "#f0f921"
            ]
           ]
          },
          "colorway": [
           "#636efa",
           "#EF553B",
           "#00cc96",
           "#ab63fa",
           "#FFA15A",
           "#19d3f3",
           "#FF6692",
           "#B6E880",
           "#FF97FF",
           "#FECB52"
          ],
          "font": {
           "color": "#2a3f5f"
          },
          "geo": {
           "bgcolor": "white",
           "lakecolor": "white",
           "landcolor": "#E5ECF6",
           "showlakes": true,
           "showland": true,
           "subunitcolor": "white"
          },
          "hoverlabel": {
           "align": "left"
          },
          "hovermode": "closest",
          "mapbox": {
           "style": "light"
          },
          "paper_bgcolor": "white",
          "plot_bgcolor": "#E5ECF6",
          "polar": {
           "angularaxis": {
            "gridcolor": "white",
            "linecolor": "white",
            "ticks": ""
           },
           "bgcolor": "#E5ECF6",
           "radialaxis": {
            "gridcolor": "white",
            "linecolor": "white",
            "ticks": ""
           }
          },
          "scene": {
           "xaxis": {
            "backgroundcolor": "#E5ECF6",
            "gridcolor": "white",
            "gridwidth": 2,
            "linecolor": "white",
            "showbackground": true,
            "ticks": "",
            "zerolinecolor": "white"
           },
           "yaxis": {
            "backgroundcolor": "#E5ECF6",
            "gridcolor": "white",
            "gridwidth": 2,
            "linecolor": "white",
            "showbackground": true,
            "ticks": "",
            "zerolinecolor": "white"
           },
           "zaxis": {
            "backgroundcolor": "#E5ECF6",
            "gridcolor": "white",
            "gridwidth": 2,
            "linecolor": "white",
            "showbackground": true,
            "ticks": "",
            "zerolinecolor": "white"
           }
          },
          "shapedefaults": {
           "line": {
            "color": "#2a3f5f"
           }
          },
          "ternary": {
           "aaxis": {
            "gridcolor": "white",
            "linecolor": "white",
            "ticks": ""
           },
           "baxis": {
            "gridcolor": "white",
            "linecolor": "white",
            "ticks": ""
           },
           "bgcolor": "#E5ECF6",
           "caxis": {
            "gridcolor": "white",
            "linecolor": "white",
            "ticks": ""
           }
          },
          "title": {
           "x": 0.05
          },
          "xaxis": {
           "automargin": true,
           "gridcolor": "white",
           "linecolor": "white",
           "ticks": "",
           "title": {
            "standoff": 15
           },
           "zerolinecolor": "white",
           "zerolinewidth": 2
          },
          "yaxis": {
           "automargin": true,
           "gridcolor": "white",
           "linecolor": "white",
           "ticks": "",
           "title": {
            "standoff": 15
           },
           "zerolinecolor": "white",
           "zerolinewidth": 2
          }
         }
        },
        "title": {
         "font": {
          "color": "#4D5663"
         }
        },
        "xaxis": {
         "gridcolor": "#E1E5ED",
         "showgrid": true,
         "tickfont": {
          "color": "#4D5663"
         },
         "title": {
          "font": {
           "color": "#4D5663"
          },
          "text": ""
         },
         "zerolinecolor": "#E1E5ED"
        },
        "yaxis": {
         "gridcolor": "#E1E5ED",
         "showgrid": true,
         "tickfont": {
          "color": "#4D5663"
         },
         "title": {
          "font": {
           "color": "#4D5663"
          },
          "text": ""
         },
         "zerolinecolor": "#E1E5ED"
        }
       }
      },
      "text/html": [
       "<div>\n",
       "        \n",
       "        \n",
       "            <div id=\"9a584abf-29b5-48b8-a262-d3c52f6fbe85\" class=\"plotly-graph-div\" style=\"height:525px; width:100%;\"></div>\n",
       "            <script type=\"text/javascript\">\n",
       "                require([\"plotly\"], function(Plotly) {\n",
       "                    window.PLOTLYENV=window.PLOTLYENV || {};\n",
       "                    window.PLOTLYENV.BASE_URL='https://plot.ly';\n",
       "                    \n",
       "                if (document.getElementById(\"9a584abf-29b5-48b8-a262-d3c52f6fbe85\")) {\n",
       "                    Plotly.newPlot(\n",
       "                        '9a584abf-29b5-48b8-a262-d3c52f6fbe85',\n",
       "                        [{\"histfunc\": \"count\", \"histnorm\": \"\", \"marker\": {\"color\": \"rgba(255, 153, 51, 1.0)\", \"line\": {\"color\": \"#4D5663\", \"width\": 1.3}}, \"name\": \"BAC\", \"opacity\": 0.8, \"orientation\": \"v\", \"type\": \"histogram\", \"x\": [25.25, 25.04, 25.0, 25.8, 25.15, 24.78, 23.93, 26.6, 28.22, 28.54, 28.11, 26.78, 25.81, 24.668000000000003, 24.44, 23.953000000000003, 24.688000000000002, 25.8, 24.112, 22.503, 22.741, 22.750999999999998, 22.055999999999997, 22.771, 21.291999999999998, 21.56, 20.725, 21.719, 22.424, 23.406999999999996, 22.682, 22.195, 22.503, 22.771, 22.92, 23.883000000000003, 24.608, 23.725, 23.307, 22.026, 21.719, 21.649, 21.49, 22.344, 23.119, 21.272, 22.035999999999998, 23.566, 23.754, 24.688000000000002, 23.288, 21.987, 21.241999999999997, 19.891, 20.428, 19.633, 21.083000000000002, 21.886999999999997, 21.45, 22.563000000000002, 20.954, 20.884, 17.955, 19.534000000000002, 21.053, 20.646, 21.828000000000003, 20.298, 23.993000000000002, 20.368, 22.513, 23.445999999999998, 21.778000000000002, 25.531999999999996, 26.595, 28.015, 27.383000000000003, 28.982, 28.123, 28.745, 30.225, 30.669, 32.297, 33.906, 34.389, 34.260999999999996, 33.817, 34.389, 34.449, 34.459, 34.311, 34.231, 34.153, 34.211, 34.251, 33.176, 32.534, 32.396, 33.038000000000004, 32.574, 32.8, 32.416, 33.096, 33.669000000000004, 33.906, 33.806999999999995, 34.251, 34.260999999999996, 34.211, 34.853, 34.597, 34.281, 34.567, 34.507, 34.163000000000004, 34.389, 34.439, 35.169000000000004, 34.755, 34.685, 34.883, 35.051, 34.755, 34.705, 34.497, 34.486999999999995, 34.645, 34.577, 34.241, 33.985, 34.221, 33.195, 33.086, 33.067, 33.225, 32.652, 32.534, 32.23, 32.808, 32.701, 32.799, 32.731, 32.848, 32.564, 32.23, 32.082, 32.328, 32.347, 32.318000000000005, 32.092, 32.181, 32.475, 32.564, 32.641, 32.613, 32.181, 32.21, 31.798000000000002, 31.208000000000002, 30.689, 31.033, 31.474, 31.248, 31.131, 30.776999999999997, 30.836, 30.62, 30.444000000000003, 29.785999999999998, 29.698, 29.61, 29.179000000000002, 28.599, 28.373, 27.921999999999997, 27.372, 27.116999999999997, 27.783, 27.843000000000004, 27.294, 27.322, 27.912, 28.628, 28.805, 28.589000000000002, 28.706999999999997, 28.403000000000002, 28.971999999999998, 29.039, 29.266, 29.443, 29.383000000000003, 29.57, 29.61, 29.119, 28.912, 28.805, 28.098000000000003, 27.214000000000002, 27.598000000000003, 26.803, 26.374000000000002, 26.823, 26.647, 26.178, 25.808000000000003, 26.111, 25.808000000000003, 26.51, 26.256999999999998, 26.052, 26.588, 26.354, 25.594, 25.758000000000003, 27.026, 26.949, 27.621, 27.67, 27.191999999999997, 27.71, 27.378, 28.646, 28.752, 29.913, 30.116999999999997, 29.756, 30.000999999999998, 29.581, 29.903000000000002, 29.493000000000002, 28.83, 28.664, 28.743000000000002, 28.461, 28.265, 28.489, 28.714000000000002, 28.625999999999998, 28.294, 28.616, 28.469, 28.528000000000002, 28.323, 28.421, 28.684, 28.275, 27.504, 27.211, 27.065, 27.281, 27.416999999999998, 27.564, 27.612, 27.905, 27.230999999999998, 27.338, 27.241, 27.250999999999998, 27.534000000000002, 27.368000000000002, 26.842, 27.182, 27.065, 27.075, 25.874000000000002, 25.795, 26.338, 26.91, 27.055, 27.326999999999998, 26.92, 27.627, 27.822, 27.541, 27.541, 27.726, 27.435, 27.754, 27.395, 28.685, 28.811999999999998, 28.898000000000003, 29.015, 29.549, 29.781, 29.576999999999998, 29.344, 29.655, 29.84, 29.432, 29.171, 29.112, 29.160999999999998, 29.141, 29.122, 29.122, 28.976, 28.938000000000002, 29.258000000000003, 28.191, 28.191, 28.017, 28.287, 28.201, 28.268, 27.967, 27.997, 27.677, 26.755, 26.503, 26.213, 26.386999999999997, 26.028000000000002, 26.193, 27.326999999999998, 27.773000000000003, 28.753, 28.918000000000003, 28.414, 28.569000000000003, 28.404, 28.065, 28.065, 27.781999999999996, 27.686999999999998, 27.967, 28.201, 28.151999999999997, 28.423000000000002, 28.201, 28.491, 28.259, 28.24, 28.058000000000003, 28.259, 28.375999999999998, 28.105, 28.086, 27.391, 27.691, 27.680999999999997, 27.410999999999998, 27.296, 27.247, 27.72, 27.768, 27.865, 27.381999999999998, 27.469, 28.048000000000002, 28.357, 28.588, 28.54, 28.058000000000003, 27.903000000000002, 28.066999999999997, 28.269000000000002, 27.97, 27.45, 25.615, 25.443, 25.115, 24.824, 24.853, 24.613000000000003, 24.660999999999998, 24.679000000000002, 23.697, 24.081999999999997]}, {\"histfunc\": \"count\", \"histnorm\": \"\", \"marker\": {\"color\": \"rgba(55, 128, 191, 1.0)\", \"line\": {\"color\": \"#4D5663\", \"width\": 1.3}}, \"name\": \"C\", \"opacity\": 0.8, \"orientation\": \"v\", \"type\": \"histogram\", \"x\": [52.92, 53.04, 53.0, 54.45, 52.98, 52.25, 48.39, 55.86, 59.5, 61.24, 58.86, 55.65, 53.34, 50.84, 49.45, 47.91, 49.16, 52.26, 48.17, 44.1, 45.0, 45.47, 44.43, 45.67, 41.92, 42.06, 40.6, 42.35, 44.07, 46.32, 44.64, 42.95, 43.95, 45.12, 45.52, 48.05, 49.732, 46.714, 46.071000000000005, 42.647, 42.013999999999996, 41.79600000000001, 41.133, 43.548, 44.973, 40.094, 42.41, 44.943000000000005, 46.19, 46.912, 43.795, 40.817, 40.688, 37.096, 38.818000000000005, 38.106, 41.678000000000004, 43.617, 43.34, 45.537, 41.42, 40.233000000000004, 35.018, 37.66, 39.224000000000004, 36.047, 39.827, 40.757, 50.504, 42.806000000000004, 50.257, 54.996, 50.83, 60.636, 62.823, 66.682, 64.367, 66.88, 62.794, 63.773, 67.464, 68.70100000000001, 71.768, 75.637, 77.398, 77.23, 76.765, 77.96300000000001, 78.17, 78.497, 78.259, 77.656, 77.86399999999999, 78.141, 78.02199999999999, 75.697, 74.34100000000001, 73.62899999999999, 76.112, 75.178, 75.925, 75.405, 77.085, 78.441, 78.736, 78.54, 79.74, 79.62100000000001, 79.857, 80.515, 79.278, 77.90100000000001, 78.717, 78.009, 77.419, 78.098, 78.343, 79.848, 78.53, 78.156, 78.314, 78.471, 77.252, 77.419, 77.17399999999999, 76.869, 76.594, 76.417, 75.601, 75.09, 75.73899999999999, 74.264, 74.49, 74.048, 74.52, 73.439, 72.967, 72.082, 73.252, 73.84100000000001, 74.431, 74.176, 74.392, 73.596, 72.642, 72.652, 73.546, 73.134, 73.134, 72.584, 72.652, 73.793, 74.313, 74.825, 74.52, 73.154, 73.556, 73.87100000000001, 72.584, 70.13600000000001, 71.219, 71.336, 71.825, 71.414, 70.565, 70.711, 70.332, 70.086, 68.067, 67.93, 67.832, 69.51100000000001, 68.554, 68.418, 66.973, 65.811, 64.807, 66.514, 66.544, 65.1, 64.671, 66.514, 67.422, 67.793, 67.452, 67.715, 66.271, 67.881, 67.686, 68.057, 68.40899999999999, 67.813, 68.154, 68.70100000000001, 67.637, 67.24600000000001, 67.324, 67.139, 64.388, 64.748, 62.738, 61.898, 62.805, 62.36600000000001, 60.863, 60.18, 61.215, 60.463, 62.376000000000005, 61.732, 61.898, 62.766999999999996, 61.956, 59.849, 59.93600000000001, 63.273999999999994, 62.718, 64.465, 65.139, 63.577, 64.661, 63.61600000000001, 65.988, 66.212, 68.934, 69.468, 69.516, 69.904, 69.157, 70.726, 69.73899999999999, 68.885, 68.702, 69.544, 68.605, 69.09, 69.468, 69.524, 69.37100000000001, 68.905, 69.322, 68.905, 69.167, 68.634, 68.237, 68.528, 67.839, 66.018, 65.117, 64.459, 65.301, 65.844, 65.97, 65.476, 65.854, 64.459, 65.369, 64.98100000000001, 64.719, 65.757, 65.02, 63.636, 64.392, 63.723, 63.818999999999996, 60.652, 60.206, 61.62, 61.717, 61.795, 62.376000000000005, 61.901, 62.638000000000005, 64.014, 62.927, 63.035, 63.917, 62.841, 63.218, 62.36600000000001, 65.77600000000001, 65.515, 66.086, 66.028, 68.208, 68.459, 67.723, 67.33800000000001, 68.051, 68.368, 66.905, 66.154, 66.251, 66.607, 66.5, 67.058, 67.71300000000001, 66.71300000000001, 64.854, 64.893, 63.44, 63.06399999999999, 62.757, 63.593999999999994, 63.093, 63.353, 62.622, 62.006, 61.948, 59.888999999999996, 59.657, 58.455, 58.926, 58.07, 58.695, 61.515, 61.89, 63.17100000000001, 63.458999999999996, 62.748000000000005, 61.708, 61.265, 60.455, 59.974, 59.735, 59.581, 60.167, 60.571999999999996, 61.361000000000004, 62.053999999999995, 61.582, 61.986999999999995, 61.717, 62.111999999999995, 61.736000000000004, 61.91, 62.218999999999994, 61.967, 61.861000000000004, 60.08, 60.678000000000004, 60.321000000000005, 59.302, 59.68600000000001, 60.455, 61.495, 61.418, 61.66, 61.284, 61.611000000000004, 61.382, 60.418, 61.027, 61.191, 59.938, 59.38399999999999, 59.117, 60.33, 59.708999999999996, 59.442, 58.667, 56.326, 54.185, 53.946000000000005, 53.888000000000005, 53.01, 53.153, 52.693999999999996, 50.236999999999995, 51.163999999999994]}, {\"histfunc\": \"count\", \"histnorm\": \"\", \"marker\": {\"color\": \"rgba(50, 171, 96, 1.0)\", \"line\": {\"color\": \"#4D5663\", \"width\": 1.3}}, \"name\": \"GS\", \"opacity\": 0.8, \"orientation\": \"v\", \"type\": \"histogram\", \"x\": [201.63, 203.84, 206.19, 209.59, 206.31, 201.78, 194.13, 213.52, 218.1, 220.81, 217.92, 214.82, 210.57, 204.14, 199.93, 196.49, 199.97, 208.36, 194.84, 178.81, 178.98, 180.31, 176.73, 180.75, 170.8, 173.37, 170.73, 176.11, 182.02, 184.24, 181.19, 175.82, 177.19, 174.94, 176.0, 182.28, 188.85, 185.85, 182.4, 175.9, 173.96, 174.89, 172.73, 179.28, 182.35, 175.94, 177.41, 177.12, 178.07, 183.12, 175.86, 164.99, 157.25, 146.02, 149.0, 144.39, 153.63, 158.63, 157.36, 164.76, 154.17, 152.65, 134.13, 137.55, 148.56, 139.15, 157.68, 153.7, 176.07, 149.74, 170.82, 183.2, 171.74, 191.65, 197.56, 207.44, 202.17, 208.17, 199.52, 203.17, 213.14, 214.95, 221.79, 227.8, 229.88, 234.42, 230.35, 234.18, 235.43, 235.73, 233.56, 234.45, 235.08, 238.86, 241.31, 238.98, 236.08, 234.84, 241.14, 237.18, 239.61, 235.22, 238.96, 242.57, 244.02, 242.69, 246.4, 246.66, 242.21, 242.65, 242.21, 239.15, 239.63, 234.85, 232.61, 231.09, 228.74, 231.45, 227.11, 226.98, 227.84, 228.37, 227.09, 226.29, 226.13, 227.12, 227.63, 228.32, 225.24, 222.24, 223.28, 218.48, 219.16, 219.09, 221.86, 214.48, 213.3, 209.64, 214.98, 218.63, 218.98, 218.49, 218.78, 216.36, 214.35, 214.03, 216.13, 215.82, 216.34, 215.52, 215.41, 216.49, 215.14, 218.94, 219.32, 214.54, 214.75, 215.96, 213.53, 209.58, 211.97, 213.76, 213.87, 210.42, 207.29, 207.56, 205.86, 205.54, 202.84, 202.78, 203.74, 202.78, 202.17, 201.03, 196.31, 193.35, 193.86, 196.84, 197.23, 193.73, 194.72, 199.09, 203.55, 205.26, 204.51, 206.29, 204.05, 209.66, 209.94, 211.4, 213.22, 212.07, 213.36, 215.99, 214.85, 212.94, 211.8, 208.21, 203.53, 203.37, 198.14, 195.43, 200.29, 199.82, 195.63, 193.33, 194.87, 191.51, 197.57, 195.88, 195.2, 197.37, 194.65, 191.49, 190.89, 199.22, 196.7, 201.96, 202.06, 200.81, 201.08, 196.86, 204.35, 206.54, 214.87, 216.11, 215.06, 216.82, 214.72, 216.73, 214.18, 208.88, 208.42, 209.38, 208.2, 210.37, 206.52, 208.83, 206.29, 201.04, 202.79, 200.82, 202.92, 201.1, 201.05, 201.92, 199.7, 194.55, 192.3, 191.37, 192.77, 191.25, 191.02, 190.97, 190.31, 186.27, 187.07, 186.87, 185.67, 190.08, 189.48, 185.27, 185.27, 183.93, 185.34, 178.81, 178.12, 182.89, 183.55, 184.08, 187.54, 186.54, 189.99, 193.48, 191.67, 191.83, 193.51, 190.85, 190.73, 189.46, 196.33, 195.93, 195.27, 196.9, 200.6, 201.65, 199.18, 198.94, 200.1, 201.06, 197.34, 195.71, 194.86, 198.36, 198.82, 200.09, 202.03, 196.12, 194.25, 201.97, 197.09, 197.24, 194.94, 196.81, 196.65, 196.5, 195.18, 191.9, 191.17, 186.56, 185.77, 184.66, 185.29, 183.17, 183.61, 189.08, 188.82, 195.43, 196.74, 192.65, 191.87, 191.67, 191.07, 190.42, 189.71, 187.32, 189.24, 190.45, 190.43, 192.6, 191.14, 192.5, 192.5, 192.25, 189.68, 190.04, 192.2, 192.27, 192.1, 186.34, 188.42, 188.23, 185.16, 185.49, 186.85, 190.28, 191.64, 191.35, 190.2, 191.64, 195.97, 194.04, 193.29, 194.27, 191.43, 190.56, 191.31, 196.01, 192.68, 190.74, 174.13, 172.96, 171.24, 170.33, 170.79, 169.73, 170.35, 169.42, 164.04, 166.5]}, {\"histfunc\": \"count\", \"histnorm\": \"\", \"marker\": {\"color\": \"rgba(128, 0, 128, 1.0)\", \"line\": {\"color\": \"#4D5663\", \"width\": 1.3}}, \"name\": \"JPM\", \"opacity\": 0.8, \"orientation\": \"v\", \"type\": \"histogram\", \"x\": [97.81, 98.94, 99.48, 102.06, 101.25, 99.87, 97.21, 106.06, 110.54, 113.45, 111.23, 106.44, 104.27, 98.93, 98.6, 97.31, 99.86, 101.37, 95.82, 89.47, 90.17, 91.33, 88.67, 90.45, 85.9, 87.52, 84.03, 87.03, 89.97, 92.7, 91.21, 90.27, 92.0, 92.14, 93.25, 95.76, 97.86, 95.29, 94.62, 90.71, 89.39, 89.34, 89.05, 91.71, 95.18, 87.33, 90.79, 95.5, 98.19, 102.76, 94.3, 90.64, 89.46, 84.05, 86.61, 83.492, 89.104, 92.538, 90.193, 97.111, 90.787, 87.521, 78.217, 82.641, 84.42299999999999, 83.027, 92.796, 87.45100000000001, 102.84, 87.14399999999999, 94.973, 99.66, 92.479, 106.97, 112.8, 118.62, 115.76, 120.27, 114.92, 120.12, 125.34, 124.96, 130.8, 134.41, 136.08, 136.08, 134.25, 136.05, 136.46, 136.58, 136.58, 136.32, 135.76, 136.19, 136.17, 133.9, 132.0, 131.0, 134.49, 132.85, 133.05, 130.67, 131.78, 135.14, 135.27, 135.43, 136.78, 135.84, 135.31, 137.37, 135.79, 134.67, 136.03, 135.53, 134.48, 136.81, 136.92, 138.75, 137.09, 136.33, 136.83, 136.73, 135.29, 134.92, 134.96, 135.07, 135.75, 135.89, 135.06, 134.54, 135.73, 131.95, 132.27, 132.18, 132.8, 130.85, 130.15, 127.62, 129.29, 129.57, 129.87, 129.48, 129.31, 128.62, 127.77, 127.48, 128.42, 128.46, 127.38, 126.47, 126.35, 127.02, 127.76, 128.22, 127.84, 127.16, 126.96, 126.68, 125.67, 122.84, 123.65, 124.33, 124.41, 123.94, 122.95, 123.04, 122.71, 121.5, 118.56, 118.35, 117.7, 117.96, 114.52, 114.21, 112.31, 110.76, 109.97, 112.47, 112.72, 110.32, 110.48, 112.73, 114.82, 114.85, 114.17, 115.11, 114.47, 115.98, 116.0, 116.46, 116.84, 115.68, 116.25, 117.29, 115.02, 114.33, 114.02, 112.58, 109.87, 109.63, 107.19, 105.91, 107.18, 106.55, 104.19, 103.16, 104.26, 103.44, 106.07, 104.98, 104.69, 106.04, 105.09, 102.62, 102.25, 106.67, 105.12, 107.07, 107.18, 105.39, 107.73, 106.9, 110.18, 110.19, 113.17, 112.77, 113.03, 113.38, 112.89, 113.98, 113.52, 111.48, 110.77, 111.87, 111.2, 112.31, 111.12, 112.48, 111.31, 110.25, 110.58, 110.12, 110.72, 110.07, 110.23, 110.13, 108.3, 105.43, 105.09, 104.39, 105.27, 106.02, 106.75, 106.47, 107.25, 105.8, 106.38, 106.12, 105.85, 107.22, 106.89, 105.74, 106.92, 106.69, 106.31, 103.13, 102.64, 103.72, 104.84, 105.13, 106.28, 105.25, 107.35, 108.24, 107.87, 107.3, 107.83, 106.46, 106.87, 106.03, 108.99, 109.0, 109.09, 109.67, 111.49, 112.48, 111.8, 111.56, 112.41, 112.48, 110.9, 110.06, 110.0, 110.19, 110.05, 109.91, 110.73, 107.62, 106.5, 107.73, 102.9, 102.05, 101.58, 102.36, 102.02, 102.27, 101.28, 101.08, 100.6, 97.315, 96.824, 95.73299999999999, 96.061, 95.109, 95.906, 98.89200000000001, 100.49, 102.66, 103.05, 102.45, 101.28, 100.36, 100.02, 100.32, 99.031, 98.991, 99.71, 100.08, 100.16, 100.4, 100.33, 101.1, 101.23, 102.0, 100.95, 101.39, 101.6, 101.12, 101.47, 98.46799999999999, 99.11, 98.635, 96.979, 97.441, 98.429, 99.73, 99.78, 100.22, 99.87, 99.49600000000001, 100.38, 100.14, 99.87, 99.397, 98.774, 98.714, 98.962, 100.56, 98.94200000000001, 98.536, 97.75399999999999, 97.039, 96.051, 96.515, 96.525, 96.68799999999999, 96.863, 96.805, 93.36, 94.706]}, {\"histfunc\": \"count\", \"histnorm\": \"\", \"marker\": {\"color\": \"rgba(219, 64, 82, 1.0)\", \"line\": {\"color\": \"#4D5663\", \"width\": 1.3}}, \"name\": \"MS\", \"opacity\": 0.8, \"orientation\": \"v\", \"type\": \"histogram\", \"x\": [46.93, 47.58, 47.76, 48.56, 47.4, 46.28, 44.57, 48.69, 50.4, 50.15, 49.53, 48.69, 46.91, 45.58, 44.7, 44.2, 44.4, 46.86, 43.69, 40.13, 40.3, 41.06, 39.33, 40.28, 37.29, 37.81, 36.99, 38.42, 39.83, 40.08, 38.81, 37.3, 37.98, 38.09, 38.4, 39.43, 40.79, 39.78, 38.967, 37.639, 37.143, 37.48, 36.628, 38.025, 38.749, 38.025, 38.065, 39.512, 39.235, 40.722, 39.027, 36.618, 36.687, 33.555, 33.604, 31.344, 33.703, 34.536, 33.713, 35.399, 33.694, 32.93, 27.566999999999997, 29.410999999999998, 30.65, 30.482, 33.495, 31.374000000000002, 37.173, 31.037, 36.548, 39.155, 37.173, 41.475, 42.218999999999994, 44.845, 44.013000000000005, 46.075, 44.637, 45.013999999999996, 46.828, 47.611000000000004, 49.247, 51.963, 53.281000000000006, 55.818999999999996, 55.036, 55.353, 55.442, 55.69, 55.294, 54.867, 54.55, 54.53, 54.51, 53.549, 52.141000000000005, 51.803999999999995, 53.351000000000006, 52.865, 53.2, 52.303999999999995, 53.721000000000004, 54.687, 55.012, 55.07, 56.637, 55.583, 52.136, 52.056999999999995, 51.979, 51.418, 51.27, 50.787, 50.147, 50.245, 50.422, 51.25, 50.343999999999994, 50.18600000000001, 50.31399999999999, 50.333999999999996, 49.92, 49.95, 49.92, 50.086999999999996, 49.891000000000005, 50.126999999999995, 49.95, 49.477, 49.92, 48.7, 48.916000000000004, 48.847, 49.043, 48.325, 48.099, 47.379, 48.335, 48.728, 49.023999999999994, 48.66, 49.201, 48.501999999999995, 48.099, 48.355, 48.581, 48.285, 48.247, 47.872, 47.655, 48.265, 48.345, 48.403999999999996, 47.92100000000001, 47.821999999999996, 48.01, 48.089, 46.611000000000004, 45.351000000000006, 45.556999999999995, 45.773999999999994, 45.784, 45.324, 44.728, 44.875, 44.357, 43.966, 42.676, 42.46, 41.825, 41.571000000000005, 41.298, 40.985, 40.124, 39.528, 38.922, 39.763000000000005, 39.86, 39.343, 39.323, 40.446999999999996, 41.708, 41.875, 41.658, 42.068999999999996, 41.581, 42.577, 42.685, 43.027, 43.36, 43.214, 43.74100000000001, 44.141999999999996, 43.321000000000005, 42.95, 42.597, 42.138000000000005, 41.229, 41.513000000000005, 40.594, 40.066, 40.555, 40.359, 39.47, 38.894, 39.255, 38.443000000000005, 39.361999999999995, 39.04, 39.001, 39.46, 39.04, 38.219, 38.443000000000005, 39.773, 39.45, 40.564, 40.34, 39.646, 40.291, 39.577, 41.17, 41.961999999999996, 43.556000000000004, 43.663000000000004, 43.869, 44.363, 43.519, 44.131, 43.742, 43.16, 43.053999999999995, 43.093, 42.451, 43.093, 43.093, 43.519, 42.849, 42.006, 42.461000000000006, 42.18, 42.879, 42.667, 42.511, 42.626999999999995, 42.49100000000001, 42.18, 41.695, 41.376000000000005, 41.773, 42.268, 42.152, 41.841, 42.036, 41.23, 41.531000000000006, 41.656000000000006, 41.336000000000006, 42.355, 41.986999999999995, 41.415, 41.522, 41.153, 41.201, 39.503, 39.465, 40.57, 40.92, 40.9, 41.666000000000004, 41.425, 42.18, 43.053999999999995, 42.55, 42.559, 42.946999999999996, 42.577, 42.684, 42.849, 44.943999999999996, 45.053000000000004, 45.129, 45.303999999999995, 46.273999999999994, 46.613, 46.37, 46.138000000000005, 46.797, 47.001000000000005, 46.157, 45.578, 45.666000000000004, 45.636, 45.578, 45.83, 46.513999999999996, 45.317, 44.412, 45.001000000000005, 43.178999999999995, 42.841, 42.66, 43.353, 43.275, 43.303999999999995, 42.775, 42.118, 41.95399999999999, 40.673, 40.412, 39.873000000000005, 40.365, 39.758, 40.211, 41.568999999999996, 41.472, 42.36, 42.437, 41.763999999999996, 41.146, 40.874, 40.51, 40.336, 39.863, 39.68, 40.113, 40.385, 40.48, 40.963, 40.461, 41.019, 40.874, 40.664, 40.278, 40.441, 40.884, 40.634, 40.471, 39.247, 39.699, 39.661, 38.755, 39.333, 39.978, 40.848, 40.914, 40.923, 40.306, 40.769, 41.242, 40.664, 40.817, 41.133, 40.242, 40.338, 40.586999999999996, 41.81100000000001, 40.702, 42.576, 41.036, 40.654, 39.946, 39.869, 39.946, 39.668, 39.919000000000004, 39.524, 37.975, 38.664]}, {\"histfunc\": \"count\", \"histnorm\": \"\", \"marker\": {\"color\": \"rgba(0, 128, 128, 1.0)\", \"line\": {\"color\": \"#4D5663\", \"width\": 1.3}}, \"name\": \"WFC\", \"opacity\": 0.8, \"orientation\": \"v\", \"type\": \"histogram\", \"x\": [27.6, 27.55, 27.45, 28.52, 28.21, 27.97, 26.79, 29.71, 32.63, 33.32, 31.67, 30.22, 28.83, 27.4, 27.09, 26.47, 27.22, 27.95, 26.26, 24.17, 24.46, 24.52, 23.95, 25.41, 23.36, 24.06, 22.53, 24.04, 24.78, 25.43, 25.23, 25.1, 25.796, 26.805, 27.041, 28.471, 29.403000000000002, 28.295, 27.844, 26.384, 26.002, 26.266, 26.305999999999997, 27.129, 27.815, 26.355, 27.874000000000002, 29.579, 30.804000000000002, 32.539, 29.677, 28.197, 28.06, 25.708000000000002, 26.678, 26.041, 28.128, 29.324, 29.677, 30.285, 28.393, 28.344, 24.747, 25.971999999999998, 27.726999999999997, 27.56, 29.04, 25.971999999999998, 30.275, 26.658, 31.686, 34.381, 31.833000000000002, 36.351, 38.125, 40.576, 39.723, 41.418, 40.037, 41.623999999999995, 43.261, 44.221000000000004, 45.466, 46.75, 46.397, 46.152, 46.053999999999995, 47.26, 47.162, 46.838, 47.034, 46.818999999999996, 46.887, 47.025, 46.848, 45.83, 45.695, 45.519, 46.46, 45.84, 45.937, 45.675, 46.131, 46.761, 47.09, 47.458999999999996, 47.692, 47.76, 46.858000000000004, 47.809, 50.533, 50.912, 51.13399999999999, 51.221000000000004, 51.066, 51.493, 51.803000000000004, 52.123999999999995, 52.172, 51.978, 52.288999999999994, 52.511, 52.192, 52.181999999999995, 51.716, 52.007, 52.04600000000001, 52.695, 52.58, 52.162, 52.715, 51.56100000000001, 52.065, 52.288999999999994, 52.725, 51.619, 51.629, 50.989, 51.997, 52.812, 52.695, 52.181999999999995, 52.57, 52.637, 51.94, 51.92, 52.395, 52.36600000000001, 52.172, 51.871, 51.677, 52.58, 52.413999999999994, 52.463, 52.36600000000001, 51.677, 51.198, 50.64, 50.121, 49.593, 49.978, 50.111000000000004, 49.611999999999995, 49.536, 49.085, 48.92, 48.623000000000005, 48.468999999999994, 47.998000000000005, 47.653, 47.633, 48.133, 47.326, 47.269, 46.73, 46.251000000000005, 45.934, 46.88399999999999, 47.269, 46.567, 46.558, 47.123999999999995, 48.451, 48.708999999999996, 46.942, 47.317, 46.73, 47.028, 46.711000000000006, 46.98, 46.998999999999995, 46.836000000000006, 47.048, 46.989, 46.73, 46.923, 46.403999999999996, 46.5, 45.29, 45.742, 44.665, 44.271, 44.733000000000004, 44.368, 43.677, 42.985, 43.206, 42.668, 43.821000000000005, 43.224, 42.917, 43.465, 42.638999999999996, 41.668, 42.235, 44.146, 43.637, 44.473, 44.568999999999996, 43.513000000000005, 44.577, 43.826, 45.06, 44.7, 45.982, 46.115, 45.858999999999995, 46.828, 45.678999999999995, 46.021, 44.833999999999996, 44.148999999999994, 43.723, 43.522, 42.943000000000005, 43.028999999999996, 44.368, 44.985, 44.776, 44.785, 45.431999999999995, 45.147, 45.373999999999995, 45.269, 44.861000000000004, 45.299, 44.946999999999996, 43.968999999999994, 43.503, 43.826, 43.95, 44.538000000000004, 43.56, 43.361000000000004, 43.788000000000004, 43.0, 43.303999999999995, 43.019, 42.658, 43.94, 43.95, 43.341, 43.618, 43.56, 43.388999999999996, 42.288000000000004, 42.145, 42.791000000000004, 43.2, 43.303999999999995, 43.855, 43.276, 43.788000000000004, 44.007, 43.17100000000001, 43.408, 43.598, 43.541000000000004, 44.158, 44.007, 44.785, 44.397, 44.217, 44.375, 45.56, 45.768, 45.43899999999999, 45.372, 45.543, 45.411, 45.119, 44.695, 44.666000000000004, 44.545, 44.461000000000006, 44.761, 44.733999999999995, 44.828, 43.998999999999995, 43.735, 44.912, 44.958999999999996, 45.288000000000004, 45.983999999999995, 45.89, 46.256, 45.965, 45.352, 45.919, 45.456, 46.181999999999995, 45.881, 46.107, 45.233000000000004, 45.446999999999996, 46.906000000000006, 47.413999999999994, 48.364, 48.666000000000004, 47.659, 47.368, 46.964, 46.71, 46.812, 46.85, 46.736000000000004, 46.869, 46.934, 47.141000000000005, 47.067, 46.934, 46.943999999999996, 46.652, 46.718, 46.11600000000001, 46.623999999999995, 46.86, 46.455, 46.303999999999995, 45.646, 46.11600000000001, 46.144, 44.828, 44.828, 45.233000000000004, 46.303999999999995, 46.351000000000006, 46.153999999999996, 46.013000000000005, 46.013000000000005, 46.7, 46.475, 46.446999999999996, 46.736000000000004, 46.597, 46.727, 46.483999999999995, 46.625, 45.897, 45.626999999999995, 44.443000000000005, 45.143, 44.63, 44.516999999999996, 44.565, 44.321999999999996, 44.415, 44.70399999999999, 43.418, 43.763000000000005]}],\n",
       "                        {\"barmode\": \"overlay\", \"legend\": {\"bgcolor\": \"#F5F6F9\", \"font\": {\"color\": \"#4D5663\"}}, \"paper_bgcolor\": \"#F5F6F9\", \"plot_bgcolor\": \"#F5F6F9\", \"template\": {\"data\": {\"bar\": [{\"error_x\": {\"color\": \"#2a3f5f\"}, \"error_y\": {\"color\": \"#2a3f5f\"}, \"marker\": {\"line\": {\"color\": \"#E5ECF6\", \"width\": 0.5}}, \"type\": \"bar\"}], \"barpolar\": [{\"marker\": {\"line\": {\"color\": \"#E5ECF6\", \"width\": 0.5}}, \"type\": \"barpolar\"}], \"carpet\": [{\"aaxis\": {\"endlinecolor\": \"#2a3f5f\", \"gridcolor\": \"white\", \"linecolor\": \"white\", \"minorgridcolor\": \"white\", \"startlinecolor\": \"#2a3f5f\"}, \"baxis\": {\"endlinecolor\": \"#2a3f5f\", \"gridcolor\": \"white\", \"linecolor\": \"white\", \"minorgridcolor\": \"white\", \"startlinecolor\": \"#2a3f5f\"}, \"type\": \"carpet\"}], \"choropleth\": [{\"colorbar\": {\"outlinewidth\": 0, \"ticks\": \"\"}, \"type\": \"choropleth\"}], \"contour\": [{\"colorbar\": {\"outlinewidth\": 0, \"ticks\": \"\"}, \"colorscale\": [[0.0, \"#0d0887\"], [0.1111111111111111, \"#46039f\"], [0.2222222222222222, \"#7201a8\"], [0.3333333333333333, \"#9c179e\"], [0.4444444444444444, \"#bd3786\"], [0.5555555555555556, \"#d8576b\"], [0.6666666666666666, \"#ed7953\"], [0.7777777777777778, \"#fb9f3a\"], [0.8888888888888888, \"#fdca26\"], [1.0, \"#f0f921\"]], \"type\": \"contour\"}], \"contourcarpet\": [{\"colorbar\": {\"outlinewidth\": 0, \"ticks\": \"\"}, \"type\": \"contourcarpet\"}], \"heatmap\": [{\"colorbar\": {\"outlinewidth\": 0, \"ticks\": \"\"}, \"colorscale\": [[0.0, \"#0d0887\"], [0.1111111111111111, \"#46039f\"], [0.2222222222222222, \"#7201a8\"], [0.3333333333333333, \"#9c179e\"], [0.4444444444444444, \"#bd3786\"], [0.5555555555555556, \"#d8576b\"], [0.6666666666666666, \"#ed7953\"], [0.7777777777777778, \"#fb9f3a\"], [0.8888888888888888, \"#fdca26\"], [1.0, \"#f0f921\"]], \"type\": \"heatmap\"}], \"heatmapgl\": [{\"colorbar\": {\"outlinewidth\": 0, \"ticks\": \"\"}, \"colorscale\": [[0.0, \"#0d0887\"], [0.1111111111111111, \"#46039f\"], [0.2222222222222222, \"#7201a8\"], [0.3333333333333333, \"#9c179e\"], [0.4444444444444444, \"#bd3786\"], [0.5555555555555556, \"#d8576b\"], [0.6666666666666666, \"#ed7953\"], [0.7777777777777778, \"#fb9f3a\"], [0.8888888888888888, \"#fdca26\"], [1.0, \"#f0f921\"]], \"type\": \"heatmapgl\"}], \"histogram\": [{\"marker\": {\"colorbar\": {\"outlinewidth\": 0, \"ticks\": \"\"}}, \"type\": \"histogram\"}], \"histogram2d\": [{\"colorbar\": {\"outlinewidth\": 0, \"ticks\": \"\"}, \"colorscale\": [[0.0, \"#0d0887\"], [0.1111111111111111, \"#46039f\"], [0.2222222222222222, \"#7201a8\"], [0.3333333333333333, \"#9c179e\"], [0.4444444444444444, \"#bd3786\"], [0.5555555555555556, \"#d8576b\"], [0.6666666666666666, \"#ed7953\"], [0.7777777777777778, \"#fb9f3a\"], [0.8888888888888888, \"#fdca26\"], [1.0, \"#f0f921\"]], \"type\": \"histogram2d\"}], \"histogram2dcontour\": [{\"colorbar\": {\"outlinewidth\": 0, \"ticks\": \"\"}, \"colorscale\": [[0.0, \"#0d0887\"], [0.1111111111111111, \"#46039f\"], [0.2222222222222222, \"#7201a8\"], [0.3333333333333333, \"#9c179e\"], [0.4444444444444444, \"#bd3786\"], [0.5555555555555556, \"#d8576b\"], [0.6666666666666666, \"#ed7953\"], [0.7777777777777778, \"#fb9f3a\"], [0.8888888888888888, \"#fdca26\"], [1.0, \"#f0f921\"]], \"type\": \"histogram2dcontour\"}], \"mesh3d\": [{\"colorbar\": {\"outlinewidth\": 0, \"ticks\": \"\"}, \"type\": \"mesh3d\"}], \"parcoords\": [{\"line\": {\"colorbar\": {\"outlinewidth\": 0, \"ticks\": \"\"}}, \"type\": \"parcoords\"}], \"pie\": [{\"automargin\": true, \"type\": \"pie\"}], \"scatter\": [{\"marker\": {\"colorbar\": {\"outlinewidth\": 0, \"ticks\": \"\"}}, \"type\": \"scatter\"}], \"scatter3d\": [{\"line\": {\"colorbar\": {\"outlinewidth\": 0, \"ticks\": \"\"}}, \"marker\": {\"colorbar\": {\"outlinewidth\": 0, \"ticks\": \"\"}}, \"type\": \"scatter3d\"}], \"scattercarpet\": [{\"marker\": {\"colorbar\": {\"outlinewidth\": 0, \"ticks\": \"\"}}, \"type\": \"scattercarpet\"}], \"scattergeo\": [{\"marker\": {\"colorbar\": {\"outlinewidth\": 0, \"ticks\": \"\"}}, \"type\": \"scattergeo\"}], \"scattergl\": [{\"marker\": {\"colorbar\": {\"outlinewidth\": 0, \"ticks\": \"\"}}, \"type\": \"scattergl\"}], \"scattermapbox\": [{\"marker\": {\"colorbar\": {\"outlinewidth\": 0, \"ticks\": \"\"}}, \"type\": \"scattermapbox\"}], \"scatterpolar\": [{\"marker\": {\"colorbar\": {\"outlinewidth\": 0, \"ticks\": \"\"}}, \"type\": \"scatterpolar\"}], \"scatterpolargl\": [{\"marker\": {\"colorbar\": {\"outlinewidth\": 0, \"ticks\": \"\"}}, \"type\": \"scatterpolargl\"}], \"scatterternary\": [{\"marker\": {\"colorbar\": {\"outlinewidth\": 0, \"ticks\": \"\"}}, \"type\": \"scatterternary\"}], \"surface\": [{\"colorbar\": {\"outlinewidth\": 0, \"ticks\": \"\"}, \"colorscale\": [[0.0, \"#0d0887\"], [0.1111111111111111, \"#46039f\"], [0.2222222222222222, \"#7201a8\"], [0.3333333333333333, \"#9c179e\"], [0.4444444444444444, \"#bd3786\"], [0.5555555555555556, \"#d8576b\"], [0.6666666666666666, \"#ed7953\"], [0.7777777777777778, \"#fb9f3a\"], [0.8888888888888888, \"#fdca26\"], [1.0, \"#f0f921\"]], \"type\": \"surface\"}], \"table\": [{\"cells\": {\"fill\": {\"color\": \"#EBF0F8\"}, \"line\": {\"color\": \"white\"}}, \"header\": {\"fill\": {\"color\": \"#C8D4E3\"}, \"line\": {\"color\": \"white\"}}, \"type\": \"table\"}]}, \"layout\": {\"annotationdefaults\": {\"arrowcolor\": \"#2a3f5f\", \"arrowhead\": 0, \"arrowwidth\": 1}, \"coloraxis\": {\"colorbar\": {\"outlinewidth\": 0, \"ticks\": \"\"}}, \"colorscale\": {\"diverging\": [[0, \"#8e0152\"], [0.1, \"#c51b7d\"], [0.2, \"#de77ae\"], [0.3, \"#f1b6da\"], [0.4, \"#fde0ef\"], [0.5, \"#f7f7f7\"], [0.6, \"#e6f5d0\"], [0.7, \"#b8e186\"], [0.8, \"#7fbc41\"], [0.9, \"#4d9221\"], [1, \"#276419\"]], \"sequential\": [[0.0, \"#0d0887\"], [0.1111111111111111, \"#46039f\"], [0.2222222222222222, \"#7201a8\"], [0.3333333333333333, \"#9c179e\"], [0.4444444444444444, \"#bd3786\"], [0.5555555555555556, \"#d8576b\"], [0.6666666666666666, \"#ed7953\"], [0.7777777777777778, \"#fb9f3a\"], [0.8888888888888888, \"#fdca26\"], [1.0, \"#f0f921\"]], \"sequentialminus\": [[0.0, \"#0d0887\"], [0.1111111111111111, \"#46039f\"], [0.2222222222222222, \"#7201a8\"], [0.3333333333333333, \"#9c179e\"], [0.4444444444444444, \"#bd3786\"], [0.5555555555555556, \"#d8576b\"], [0.6666666666666666, \"#ed7953\"], [0.7777777777777778, \"#fb9f3a\"], [0.8888888888888888, \"#fdca26\"], [1.0, \"#f0f921\"]]}, \"colorway\": [\"#636efa\", \"#EF553B\", \"#00cc96\", \"#ab63fa\", \"#FFA15A\", \"#19d3f3\", \"#FF6692\", \"#B6E880\", \"#FF97FF\", \"#FECB52\"], \"font\": {\"color\": \"#2a3f5f\"}, \"geo\": {\"bgcolor\": \"white\", \"lakecolor\": \"white\", \"landcolor\": \"#E5ECF6\", \"showlakes\": true, \"showland\": true, \"subunitcolor\": \"white\"}, \"hoverlabel\": {\"align\": \"left\"}, \"hovermode\": \"closest\", \"mapbox\": {\"style\": \"light\"}, \"paper_bgcolor\": \"white\", \"plot_bgcolor\": \"#E5ECF6\", \"polar\": {\"angularaxis\": {\"gridcolor\": \"white\", \"linecolor\": \"white\", \"ticks\": \"\"}, \"bgcolor\": \"#E5ECF6\", \"radialaxis\": {\"gridcolor\": \"white\", \"linecolor\": \"white\", \"ticks\": \"\"}}, \"scene\": {\"xaxis\": {\"backgroundcolor\": \"#E5ECF6\", \"gridcolor\": \"white\", \"gridwidth\": 2, \"linecolor\": \"white\", \"showbackground\": true, \"ticks\": \"\", \"zerolinecolor\": \"white\"}, \"yaxis\": {\"backgroundcolor\": \"#E5ECF6\", \"gridcolor\": \"white\", \"gridwidth\": 2, \"linecolor\": \"white\", \"showbackground\": true, \"ticks\": \"\", \"zerolinecolor\": \"white\"}, \"zaxis\": {\"backgroundcolor\": \"#E5ECF6\", \"gridcolor\": \"white\", \"gridwidth\": 2, \"linecolor\": \"white\", \"showbackground\": true, \"ticks\": \"\", \"zerolinecolor\": \"white\"}}, \"shapedefaults\": {\"line\": {\"color\": \"#2a3f5f\"}}, \"ternary\": {\"aaxis\": {\"gridcolor\": \"white\", \"linecolor\": \"white\", \"ticks\": \"\"}, \"baxis\": {\"gridcolor\": \"white\", \"linecolor\": \"white\", \"ticks\": \"\"}, \"bgcolor\": \"#E5ECF6\", \"caxis\": {\"gridcolor\": \"white\", \"linecolor\": \"white\", \"ticks\": \"\"}}, \"title\": {\"x\": 0.05}, \"xaxis\": {\"automargin\": true, \"gridcolor\": \"white\", \"linecolor\": \"white\", \"ticks\": \"\", \"title\": {\"standoff\": 15}, \"zerolinecolor\": \"white\", \"zerolinewidth\": 2}, \"yaxis\": {\"automargin\": true, \"gridcolor\": \"white\", \"linecolor\": \"white\", \"ticks\": \"\", \"title\": {\"standoff\": 15}, \"zerolinecolor\": \"white\", \"zerolinewidth\": 2}}}, \"title\": {\"font\": {\"color\": \"#4D5663\"}}, \"xaxis\": {\"gridcolor\": \"#E1E5ED\", \"showgrid\": true, \"tickfont\": {\"color\": \"#4D5663\"}, \"title\": {\"font\": {\"color\": \"#4D5663\"}, \"text\": \"\"}, \"zerolinecolor\": \"#E1E5ED\"}, \"yaxis\": {\"gridcolor\": \"#E1E5ED\", \"showgrid\": true, \"tickfont\": {\"color\": \"#4D5663\"}, \"title\": {\"font\": {\"color\": \"#4D5663\"}, \"text\": \"\"}, \"zerolinecolor\": \"#E1E5ED\"}},\n",
       "                        {\"showLink\": true, \"linkText\": \"Export to plot.ly\", \"plotlyServerURL\": \"https://plot.ly\", \"responsive\": true}\n",
       "                    ).then(function(){\n",
       "                            \n",
       "var gd = document.getElementById('9a584abf-29b5-48b8-a262-d3c52f6fbe85');\n",
       "var x = new MutationObserver(function (mutations, observer) {{\n",
       "        var display = window.getComputedStyle(gd).display;\n",
       "        if (!display || display === 'none') {{\n",
       "            console.log([gd, 'removed!']);\n",
       "            Plotly.purge(gd);\n",
       "            observer.disconnect();\n",
       "        }}\n",
       "}});\n",
       "\n",
       "// Listen for the removal of the full notebook cells\n",
       "var notebookContainer = gd.closest('#notebook-container');\n",
       "if (notebookContainer) {{\n",
       "    x.observe(notebookContainer, {childList: true});\n",
       "}}\n",
       "\n",
       "// Listen for the clearing of the current output cell\n",
       "var outputEl = gd.closest('.output');\n",
       "if (outputEl) {{\n",
       "    x.observe(outputEl, {childList: true});\n",
       "}}\n",
       "\n",
       "                        })\n",
       "                };\n",
       "                });\n",
       "            </script>\n",
       "        </div>"
      ]
     },
     "metadata": {},
     "output_type": "display_data"
    }
   ],
   "source": [
    "d_2019_2020.iplot(kind='hist')"
   ]
  },
  {
   "cell_type": "markdown",
   "metadata": {},
   "source": [
    "** Create a heatmap of the correlation between the stocks Close Price.**"
   ]
  },
  {
   "cell_type": "markdown",
   "metadata": {},
   "source": [
    "### HeatMap Both Types"
   ]
  },
  {
   "cell_type": "code",
   "execution_count": 40,
   "metadata": {},
   "outputs": [],
   "source": [
    "march_close_data = bank_stocks.xs(key='Close', axis=1, level='Stock Info').loc['2020-03-31':'2020-03-01' ]"
   ]
  },
  {
   "cell_type": "code",
   "execution_count": 41,
   "metadata": {},
   "outputs": [
    {
     "data": {
      "image/png": "[encoded data removed]",
      "text/plain": [
       "<Figure size 864x504 with 2 Axes>"
      ]
     },
     "metadata": {
      "needs_background": "light"
     },
     "output_type": "display_data"
    }
   ],
   "source": [
    "plt.figure(figsize=(12,7))\n",
    "sns.heatmap(march_close_data)\n",
    "plt.tight_layout()\n",
    "\n",
    "# Only March"
   ]
  },
  {
   "cell_type": "code",
   "execution_count": 42,
   "metadata": {},
   "outputs": [
    {
     "data": {
      "application/vnd.plotly.v1+json": {
       "config": {
        "linkText": "Export to plot.ly",
        "plotlyServerURL": "https://plot.ly",
        "showLink": true
       },
       "data": [
        {
         "colorscale": [
          [
           0,
           "rgb(165,0,38)"
          ],
          [
           0.1,
           "rgb(215,48,39)"
          ],
          [
           0.2,
           "rgb(244,109,67)"
          ],
          [
           0.3,
           "rgb(253,174,97)"
          ],
          [
           0.4,
           "rgb(254,224,144)"
          ],
          [
           0.5,
           "rgb(255,255,191)"
          ],
          [
           0.6,
           "rgb(224,243,248)"
          ],
          [
           0.7,
           "rgb(171,217,233)"
          ],
          [
           0.8,
           "rgb(116,173,209)"
          ],
          [
           0.9,
           "rgb(69,117,180)"
          ],
          [
           1,
           "rgb(49,54,149)"
          ]
         ],
         "type": "heatmap",
         "x": [
          "2020-04-30",
          "2020-04-29",
          "2020-04-28",
          "2020-04-27",
          "2020-04-24",
          "2020-04-23",
          "2020-04-22",
          "2020-04-21",
          "2020-04-20",
          "2020-04-17",
          "2020-04-16",
          "2020-04-15",
          "2020-04-14",
          "2020-04-13",
          "2020-04-09",
          "2020-04-08",
          "2020-04-07",
          "2020-04-06",
          "2020-04-03",
          "2020-04-02",
          "2020-04-01",
          "2020-03-31",
          "2020-03-30",
          "2020-03-27",
          "2020-03-26",
          "2020-03-25",
          "2020-03-24",
          "2020-03-23",
          "2020-03-20",
          "2020-03-19",
          "2020-03-18",
          "2020-03-17",
          "2020-03-16",
          "2020-03-13",
          "2020-03-12",
          "2020-03-11",
          "2020-03-10",
          "2020-03-09",
          "2020-03-06",
          "2020-03-05",
          "2020-03-04",
          "2020-03-03",
          "2020-03-02",
          "2020-02-28",
          "2020-02-27",
          "2020-02-26",
          "2020-02-25",
          "2020-02-24",
          "2020-02-21",
          "2020-02-20",
          "2020-02-19",
          "2020-02-18",
          "2020-02-14",
          "2020-02-13",
          "2020-02-12",
          "2020-02-11",
          "2020-02-10",
          "2020-02-07",
          "2020-02-06",
          "2020-02-05",
          "2020-02-04",
          "2020-02-03"
         ],
         "y": [
          "BAC",
          "C",
          "GS",
          "JPM",
          "MS",
          "WFC"
         ],
         "z": [
          [
           23.883000000000003,
           24.608,
           23.725,
           23.307,
           22.026,
           21.719,
           21.649,
           21.49,
           22.344,
           23.119,
           21.272,
           22.035999999999998,
           23.566,
           23.754,
           24.688000000000002,
           23.288,
           21.987,
           21.241999999999997,
           19.891,
           20.428,
           19.633,
           21.083000000000002,
           21.886999999999997,
           21.45,
           22.563000000000002,
           20.954,
           20.884,
           17.955,
           19.534000000000002,
           21.053,
           20.646,
           21.828000000000003,
           20.298,
           23.993000000000002,
           20.368,
           22.513,
           23.445999999999998,
           21.778000000000002,
           25.531999999999996,
           26.595,
           28.015,
           27.383000000000003,
           28.982,
           28.123,
           28.745,
           30.225,
           30.669,
           32.297,
           33.906,
           34.389,
           34.260999999999996,
           33.817,
           34.389,
           34.449,
           34.459,
           34.311,
           34.231,
           34.153,
           34.211,
           34.251,
           33.176,
           32.534
          ],
          [
           48.05,
           49.732,
           46.714,
           46.071000000000005,
           42.647,
           42.013999999999996,
           41.79600000000001,
           41.133,
           43.548,
           44.973,
           40.094,
           42.41,
           44.943000000000005,
           46.19,
           46.912,
           43.795,
           40.817,
           40.688,
           37.096,
           38.818000000000005,
           38.106,
           41.678000000000004,
           43.617,
           43.34,
           45.537,
           41.42,
           40.233000000000004,
           35.018,
           37.66,
           39.224000000000004,
           36.047,
           39.827,
           40.757,
           50.504,
           42.806000000000004,
           50.257,
           54.996,
           50.83,
           60.636,
           62.823,
           66.682,
           64.367,
           66.88,
           62.794,
           63.773,
           67.464,
           68.70100000000001,
           71.768,
           75.637,
           77.398,
           77.23,
           76.765,
           77.96300000000001,
           78.17,
           78.497,
           78.259,
           77.656,
           77.86399999999999,
           78.141,
           78.02199999999999,
           75.697,
           74.34100000000001
          ],
          [
           182.28,
           188.85,
           185.85,
           182.4,
           175.9,
           173.96,
           174.89,
           172.73,
           179.28,
           182.35,
           175.94,
           177.41,
           177.12,
           178.07,
           183.12,
           175.86,
           164.99,
           157.25,
           146.02,
           149,
           144.39,
           153.63,
           158.63,
           157.36,
           164.76,
           154.17,
           152.65,
           134.13,
           137.55,
           148.56,
           139.15,
           157.68,
           153.7,
           176.07,
           149.74,
           170.82,
           183.2,
           171.74,
           191.65,
           197.56,
           207.44,
           202.17,
           208.17,
           199.52,
           203.17,
           213.14,
           214.95,
           221.79,
           227.8,
           229.88,
           234.42,
           230.35,
           234.18,
           235.43,
           235.73,
           233.56,
           234.45,
           235.08,
           238.86,
           241.31,
           238.98,
           236.08
          ],
          [
           95.76,
           97.86,
           95.29,
           94.62,
           90.71,
           89.39,
           89.34,
           89.05,
           91.71,
           95.18,
           87.33,
           90.79,
           95.5,
           98.19,
           102.76,
           94.3,
           90.64,
           89.46,
           84.05,
           86.61,
           83.492,
           89.104,
           92.538,
           90.193,
           97.111,
           90.787,
           87.521,
           78.217,
           82.641,
           84.42299999999999,
           83.027,
           92.796,
           87.45100000000001,
           102.84,
           87.14399999999999,
           94.973,
           99.66,
           92.479,
           106.97,
           112.8,
           118.62,
           115.76,
           120.27,
           114.92,
           120.12,
           125.34,
           124.96,
           130.8,
           134.41,
           136.08,
           136.08,
           134.25,
           136.05,
           136.46,
           136.58,
           136.58,
           136.32,
           135.76,
           136.19,
           136.17,
           133.9,
           132
          ],
          [
           39.43,
           40.79,
           39.78,
           38.967,
           37.639,
           37.143,
           37.48,
           36.628,
           38.025,
           38.749,
           38.025,
           38.065,
           39.512,
           39.235,
           40.722,
           39.027,
           36.618,
           36.687,
           33.555,
           33.604,
           31.344,
           33.703,
           34.536,
           33.713,
           35.399,
           33.694,
           32.93,
           27.566999999999997,
           29.410999999999998,
           30.65,
           30.482,
           33.495,
           31.374000000000002,
           37.173,
           31.037,
           36.548,
           39.155,
           37.173,
           41.475,
           42.218999999999994,
           44.845,
           44.013000000000005,
           46.075,
           44.637,
           45.013999999999996,
           46.828,
           47.611000000000004,
           49.247,
           51.963,
           53.281000000000006,
           55.818999999999996,
           55.036,
           55.353,
           55.442,
           55.69,
           55.294,
           54.867,
           54.55,
           54.53,
           54.51,
           53.549,
           52.141000000000005
          ],
          [
           28.471,
           29.403000000000002,
           28.295,
           27.844,
           26.384,
           26.002,
           26.266,
           26.305999999999997,
           27.129,
           27.815,
           26.355,
           27.874000000000002,
           29.579,
           30.804000000000002,
           32.539,
           29.677,
           28.197,
           28.06,
           25.708000000000002,
           26.678,
           26.041,
           28.128,
           29.324,
           29.677,
           30.285,
           28.393,
           28.344,
           24.747,
           25.971999999999998,
           27.726999999999997,
           27.56,
           29.04,
           25.971999999999998,
           30.275,
           26.658,
           31.686,
           34.381,
           31.833000000000002,
           36.351,
           38.125,
           40.576,
           39.723,
           41.418,
           40.037,
           41.623999999999995,
           43.261,
           44.221000000000004,
           45.466,
           46.75,
           46.397,
           46.152,
           46.053999999999995,
           47.26,
           47.162,
           46.838,
           47.034,
           46.818999999999996,
           46.887,
           47.025,
           46.848,
           45.83,
           45.695
          ]
         ],
         "zmax": 241.31,
         "zmin": 17.955
        }
       ],
       "layout": {
        "legend": {
         "bgcolor": "#F5F6F9",
         "font": {
          "color": "#4D5663"
         }
        },
        "paper_bgcolor": "#F5F6F9",
        "plot_bgcolor": "#F5F6F9",
        "template": {
         "data": {
          "bar": [
           {
            "error_x": {
             "color": "#2a3f5f"
            },
            "error_y": {
             "color": "#2a3f5f"
            },
            "marker": {
             "line": {
              "color": "#E5ECF6",
              "width": 0.5
             }
            },
            "type": "bar"
           }
          ],
          "barpolar": [
           {
            "marker": {
             "line": {
              "color": "#E5ECF6",
              "width": 0.5
             }
            },
            "type": "barpolar"
           }
          ],
          "carpet": [
           {
            "aaxis": {
             "endlinecolor": "#2a3f5f",
             "gridcolor": "white",
             "linecolor": "white",
             "minorgridcolor": "white",
             "startlinecolor": "#2a3f5f"
            },
            "baxis": {
             "endlinecolor": "#2a3f5f",
             "gridcolor": "white",
             "linecolor": "white",
             "minorgridcolor": "white",
             "startlinecolor": "#2a3f5f"
            },
            "type": "carpet"
           }
          ],
          "choropleth": [
           {
            "colorbar": {
             "outlinewidth": 0,
             "ticks": ""
            },
            "type": "choropleth"
           }
          ],
          "contour": [
           {
            "colorbar": {
             "outlinewidth": 0,
             "ticks": ""
            },
            "colorscale": [
             [
              0,
              "#0d0887"
             ],
             [
              0.1111111111111111,
              "#46039f"
             ],
             [
              0.2222222222222222,
              "#7201a8"
             ],
             [
              0.3333333333333333,
              "#9c179e"
             ],
             [
              0.4444444444444444,
              "#bd3786"
             ],
             [
              0.5555555555555556,
              "#d8576b"
             ],
             [
              0.6666666666666666,
              "#ed7953"
             ],
             [
              0.7777777777777778,
              "#fb9f3a"
             ],
             [
              0.8888888888888888,
              "#fdca26"
             ],
             [
              1,
              "#f0f921"
             ]
            ],
            "type": "contour"
           }
          ],
          "contourcarpet": [
           {
            "colorbar": {
             "outlinewidth": 0,
             "ticks": ""
            },
            "type": "contourcarpet"
           }
          ],
          "heatmap": [
           {
            "colorbar": {
             "outlinewidth": 0,
             "ticks": ""
            },
            "colorscale": [
             [
              0,
              "#0d0887"
             ],
             [
              0.1111111111111111,
              "#46039f"
             ],
             [
              0.2222222222222222,
              "#7201a8"
             ],
             [
              0.3333333333333333,
              "#9c179e"
             ],
             [
              0.4444444444444444,
              "#bd3786"
             ],
             [
              0.5555555555555556,
              "#d8576b"
             ],
             [
              0.6666666666666666,
              "#ed7953"
             ],
             [
              0.7777777777777778,
              "#fb9f3a"
             ],
             [
              0.8888888888888888,
              "#fdca26"
             ],
             [
              1,
              "#f0f921"
             ]
            ],
            "type": "heatmap"
           }
          ],
          "heatmapgl": [
           {
            "colorbar": {
             "outlinewidth": 0,
             "ticks": ""
            },
            "colorscale": [
             [
              0,
              "#0d0887"
             ],
             [
              0.1111111111111111,
              "#46039f"
             ],
             [
              0.2222222222222222,
              "#7201a8"
             ],
             [
              0.3333333333333333,
              "#9c179e"
             ],
             [
              0.4444444444444444,
              "#bd3786"
             ],
             [
              0.5555555555555556,
              "#d8576b"
             ],
             [
              0.6666666666666666,
              "#ed7953"
             ],
             [
              0.7777777777777778,
              "#fb9f3a"
             ],
             [
              0.8888888888888888,
              "#fdca26"
             ],
             [
              1,
              "#f0f921"
             ]
            ],
            "type": "heatmapgl"
           }
          ],
          "histogram": [
           {
            "marker": {
             "colorbar": {
              "outlinewidth": 0,
              "ticks": ""
             }
            },
            "type": "histogram"
           }
          ],
          "histogram2d": [
           {
            "colorbar": {
             "outlinewidth": 0,
             "ticks": ""
            },
            "colorscale": [
             [
              0,
              "#0d0887"
             ],
             [
              0.1111111111111111,
              "#46039f"
             ],
             [
              0.2222222222222222,
              "#7201a8"
             ],
             [
              0.3333333333333333,
              "#9c179e"
             ],
             [
              0.4444444444444444,
              "#bd3786"
             ],
             [
              0.5555555555555556,
              "#d8576b"
             ],
             [
              0.6666666666666666,
              "#ed7953"
             ],
             [
              0.7777777777777778,
              "#fb9f3a"
             ],
             [
              0.8888888888888888,
              "#fdca26"
             ],
             [
              1,
              "#f0f921"
             ]
            ],
            "type": "histogram2d"
           }
          ],
          "histogram2dcontour": [
           {
            "colorbar": {
             "outlinewidth": 0,
             "ticks": ""
            },
            "colorscale": [
             [
              0,
              "#0d0887"
             ],
             [
              0.1111111111111111,
              "#46039f"
             ],
             [
              0.2222222222222222,
              "#7201a8"
             ],
             [
              0.3333333333333333,
              "#9c179e"
             ],
             [
              0.4444444444444444,
              "#bd3786"
             ],
             [
              0.5555555555555556,
              "#d8576b"
             ],
             [
              0.6666666666666666,
              "#ed7953"
             ],
             [
              0.7777777777777778,
              "#fb9f3a"
             ],
             [
              0.8888888888888888,
              "#fdca26"
             ],
             [
              1,
              "#f0f921"
             ]
            ],
            "type": "histogram2dcontour"
           }
          ],
          "mesh3d": [
           {
            "colorbar": {
             "outlinewidth": 0,
             "ticks": ""
            },
            "type": "mesh3d"
           }
          ],
          "parcoords": [
           {
            "line": {
             "colorbar": {
              "outlinewidth": 0,
              "ticks": ""
             }
            },
            "type": "parcoords"
           }
          ],
          "pie": [
           {
            "automargin": true,
            "type": "pie"
           }
          ],
          "scatter": [
           {
            "marker": {
             "colorbar": {
              "outlinewidth": 0,
              "ticks": ""
             }
            },
            "type": "scatter"
           }
          ],
          "scatter3d": [
           {
            "line": {
             "colorbar": {
              "outlinewidth": 0,
              "ticks": ""
             }
            },
            "marker": {
             "colorbar": {
              "outlinewidth": 0,
              "ticks": ""
             }
            },
            "type": "scatter3d"
           }
          ],
          "scattercarpet": [
           {
            "marker": {
             "colorbar": {
              "outlinewidth": 0,
              "ticks": ""
             }
            },
            "type": "scattercarpet"
           }
          ],
          "scattergeo": [
           {
            "marker": {
             "colorbar": {
              "outlinewidth": 0,
              "ticks": ""
             }
            },
            "type": "scattergeo"
           }
          ],
          "scattergl": [
           {
            "marker": {
             "colorbar": {
              "outlinewidth": 0,
              "ticks": ""
             }
            },
            "type": "scattergl"
           }
          ],
          "scattermapbox": [
           {
            "marker": {
             "colorbar": {
              "outlinewidth": 0,
              "ticks": ""
             }
            },
            "type": "scattermapbox"
           }
          ],
          "scatterpolar": [
           {
            "marker": {
             "colorbar": {
              "outlinewidth": 0,
              "ticks": ""
             }
            },
            "type": "scatterpolar"
           }
          ],
          "scatterpolargl": [
           {
            "marker": {
             "colorbar": {
              "outlinewidth": 0,
              "ticks": ""
             }
            },
            "type": "scatterpolargl"
           }
          ],
          "scatterternary": [
           {
            "marker": {
             "colorbar": {
              "outlinewidth": 0,
              "ticks": ""
             }
            },
            "type": "scatterternary"
           }
          ],
          "surface": [
           {
            "colorbar": {
             "outlinewidth": 0,
             "ticks": ""
            },
            "colorscale": [
             [
              0,
              "#0d0887"
             ],
             [
              0.1111111111111111,
              "#46039f"
             ],
             [
              0.2222222222222222,
              "#7201a8"
             ],
             [
              0.3333333333333333,
              "#9c179e"
             ],
             [
              0.4444444444444444,
              "#bd3786"
             ],
             [
              0.5555555555555556,
              "#d8576b"
             ],
             [
              0.6666666666666666,
              "#ed7953"
             ],
             [
              0.7777777777777778,
              "#fb9f3a"
             ],
             [
              0.8888888888888888,
              "#fdca26"
             ],
             [
              1,
              "#f0f921"
             ]
            ],
            "type": "surface"
           }
          ],
          "table": [
           {
            "cells": {
             "fill": {
              "color": "#EBF0F8"
             },
             "line": {
              "color": "white"
             }
            },
            "header": {
             "fill": {
              "color": "#C8D4E3"
             },
             "line": {
              "color": "white"
             }
            },
            "type": "table"
           }
          ]
         },
         "layout": {
          "annotationdefaults": {
           "arrowcolor": "#2a3f5f",
           "arrowhead": 0,
           "arrowwidth": 1
          },
          "coloraxis": {
           "colorbar": {
            "outlinewidth": 0,
            "ticks": ""
           }
          },
          "colorscale": {
           "diverging": [
            [
             0,
             "#8e0152"
            ],
            [
             0.1,
             "#c51b7d"
            ],
            [
             0.2,
             "#de77ae"
            ],
            [
             0.3,
             "#f1b6da"
            ],
            [
             0.4,
             "#fde0ef"
            ],
            [
             0.5,
             "#f7f7f7"
            ],
            [
             0.6,
             "#e6f5d0"
            ],
            [
             0.7,
             "#b8e186"
            ],
            [
             0.8,
             "#7fbc41"
            ],
            [
             0.9,
             "#4d9221"
            ],
            [
             1,
             "#276419"
            ]
           ],
           "sequential": [
            [
             0,
             "#0d0887"
            ],
            [
             0.1111111111111111,
             "#46039f"
            ],
            [
             0.2222222222222222,
             "#7201a8"
            ],
            [
             0.3333333333333333,
             "#9c179e"
            ],
            [
             0.4444444444444444,
             "#bd3786"
            ],
            [
             0.5555555555555556,
             "#d8576b"
            ],
            [
             0.6666666666666666,
             "#ed7953"
            ],
            [
             0.7777777777777778,
             "#fb9f3a"
            ],
            [
             0.8888888888888888,
             "#fdca26"
            ],
            [
             1,
             "#f0f921"
            ]
           ],
           "sequentialminus": [
            [
             0,
             "#0d0887"
            ],
            [
             0.1111111111111111,
             "#46039f"
            ],
            [
             0.2222222222222222,
             "#7201a8"
            ],
            [
             0.3333333333333333,
             "#9c179e"
            ],
            [
             0.4444444444444444,
             "#bd3786"
            ],
            [
             0.5555555555555556,
             "#d8576b"
            ],
            [
             0.6666666666666666,
             "#ed7953"
            ],
            [
             0.7777777777777778,
             "#fb9f3a"
            ],
            [
             0.8888888888888888,
             "#fdca26"
            ],
            [
             1,
             "#f0f921"
            ]
           ]
          },
          "colorway": [
           "#636efa",
           "#EF553B",
           "#00cc96",
           "#ab63fa",
           "#FFA15A",
           "#19d3f3",
           "#FF6692",
           "#B6E880",
           "#FF97FF",
           "#FECB52"
          ],
          "font": {
           "color": "#2a3f5f"
          },
          "geo": {
           "bgcolor": "white",
           "lakecolor": "white",
           "landcolor": "#E5ECF6",
           "showlakes": true,
           "showland": true,
           "subunitcolor": "white"
          },
          "hoverlabel": {
           "align": "left"
          },
          "hovermode": "closest",
          "mapbox": {
           "style": "light"
          },
          "paper_bgcolor": "white",
          "plot_bgcolor": "#E5ECF6",
          "polar": {
           "angularaxis": {
            "gridcolor": "white",
            "linecolor": "white",
            "ticks": ""
           },
           "bgcolor": "#E5ECF6",
           "radialaxis": {
            "gridcolor": "white",
            "linecolor": "white",
            "ticks": ""
           }
          },
          "scene": {
           "xaxis": {
            "backgroundcolor": "#E5ECF6",
            "gridcolor": "white",
            "gridwidth": 2,
            "linecolor": "white",
            "showbackground": true,
            "ticks": "",
            "zerolinecolor": "white"
           },
           "yaxis": {
            "backgroundcolor": "#E5ECF6",
            "gridcolor": "white",
            "gridwidth": 2,
            "linecolor": "white",
            "showbackground": true,
            "ticks": "",
            "zerolinecolor": "white"
           },
           "zaxis": {
            "backgroundcolor": "#E5ECF6",
            "gridcolor": "white",
            "gridwidth": 2,
            "linecolor": "white",
            "showbackground": true,
            "ticks": "",
            "zerolinecolor": "white"
           }
          },
          "shapedefaults": {
           "line": {
            "color": "#2a3f5f"
           }
          },
          "ternary": {
           "aaxis": {
            "gridcolor": "white",
            "linecolor": "white",
            "ticks": ""
           },
           "baxis": {
            "gridcolor": "white",
            "linecolor": "white",
            "ticks": ""
           },
           "bgcolor": "#E5ECF6",
           "caxis": {
            "gridcolor": "white",
            "linecolor": "white",
            "ticks": ""
           }
          },
          "title": {
           "x": 0.05
          },
          "xaxis": {
           "automargin": true,
           "gridcolor": "white",
           "linecolor": "white",
           "ticks": "",
           "title": {
            "standoff": 15
           },
           "zerolinecolor": "white",
           "zerolinewidth": 2
          },
          "yaxis": {
           "automargin": true,
           "gridcolor": "white",
           "linecolor": "white",
           "ticks": "",
           "title": {
            "standoff": 15
           },
           "zerolinecolor": "white",
           "zerolinewidth": 2
          }
         }
        },
        "title": {
         "font": {
          "color": "#4D5663"
         }
        },
        "xaxis": {
         "gridcolor": "#E1E5ED",
         "showgrid": true,
         "tickfont": {
          "color": "#4D5663"
         },
         "title": {
          "font": {
           "color": "#4D5663"
          },
          "text": ""
         },
         "zerolinecolor": "#E1E5ED"
        },
        "yaxis": {
         "gridcolor": "#E1E5ED",
         "showgrid": true,
         "tickfont": {
          "color": "#4D5663"
         },
         "title": {
          "font": {
           "color": "#4D5663"
          },
          "text": ""
         },
         "zerolinecolor": "#E1E5ED"
        }
       }
      },
      "text/html": [
       "<div>\n",
       "        \n",
       "        \n",
       "            <div id=\"c46bba84-323b-47fd-800c-50775b276418\" class=\"plotly-graph-div\" style=\"height:525px; width:100%;\"></div>\n",
       "            <script type=\"text/javascript\">\n",
       "                require([\"plotly\"], function(Plotly) {\n",
       "                    window.PLOTLYENV=window.PLOTLYENV || {};\n",
       "                    window.PLOTLYENV.BASE_URL='https://plot.ly';\n",
       "                    \n",
       "                if (document.getElementById(\"c46bba84-323b-47fd-800c-50775b276418\")) {\n",
       "                    Plotly.newPlot(\n",
       "                        'c46bba84-323b-47fd-800c-50775b276418',\n",
       "                        [{\"colorscale\": [[0.0, \"rgb(165,0,38)\"], [0.1, \"rgb(215,48,39)\"], [0.2, \"rgb(244,109,67)\"], [0.3, \"rgb(253,174,97)\"], [0.4, \"rgb(254,224,144)\"], [0.5, \"rgb(255,255,191)\"], [0.6, \"rgb(224,243,248)\"], [0.7, \"rgb(171,217,233)\"], [0.8, \"rgb(116,173,209)\"], [0.9, \"rgb(69,117,180)\"], [1.0, \"rgb(49,54,149)\"]], \"type\": \"heatmap\", \"x\": [\"2020-04-30\", \"2020-04-29\", \"2020-04-28\", \"2020-04-27\", \"2020-04-24\", \"2020-04-23\", \"2020-04-22\", \"2020-04-21\", \"2020-04-20\", \"2020-04-17\", \"2020-04-16\", \"2020-04-15\", \"2020-04-14\", \"2020-04-13\", \"2020-04-09\", \"2020-04-08\", \"2020-04-07\", \"2020-04-06\", \"2020-04-03\", \"2020-04-02\", \"2020-04-01\", \"2020-03-31\", \"2020-03-30\", \"2020-03-27\", \"2020-03-26\", \"2020-03-25\", \"2020-03-24\", \"2020-03-23\", \"2020-03-20\", \"2020-03-19\", \"2020-03-18\", \"2020-03-17\", \"2020-03-16\", \"2020-03-13\", \"2020-03-12\", \"2020-03-11\", \"2020-03-10\", \"2020-03-09\", \"2020-03-06\", \"2020-03-05\", \"2020-03-04\", \"2020-03-03\", \"2020-03-02\", \"2020-02-28\", \"2020-02-27\", \"2020-02-26\", \"2020-02-25\", \"2020-02-24\", \"2020-02-21\", \"2020-02-20\", \"2020-02-19\", \"2020-02-18\", \"2020-02-14\", \"2020-02-13\", \"2020-02-12\", \"2020-02-11\", \"2020-02-10\", \"2020-02-07\", \"2020-02-06\", \"2020-02-05\", \"2020-02-04\", \"2020-02-03\"], \"y\": [\"BAC\", \"C\", \"GS\", \"JPM\", \"MS\", \"WFC\"], \"z\": [[23.883000000000003, 24.608, 23.725, 23.307, 22.026, 21.719, 21.649, 21.49, 22.344, 23.119, 21.272, 22.035999999999998, 23.566, 23.754, 24.688000000000002, 23.288, 21.987, 21.241999999999997, 19.891, 20.428, 19.633, 21.083000000000002, 21.886999999999997, 21.45, 22.563000000000002, 20.954, 20.884, 17.955, 19.534000000000002, 21.053, 20.646, 21.828000000000003, 20.298, 23.993000000000002, 20.368, 22.513, 23.445999999999998, 21.778000000000002, 25.531999999999996, 26.595, 28.015, 27.383000000000003, 28.982, 28.123, 28.745, 30.225, 30.669, 32.297, 33.906, 34.389, 34.260999999999996, 33.817, 34.389, 34.449, 34.459, 34.311, 34.231, 34.153, 34.211, 34.251, 33.176, 32.534], [48.05, 49.732, 46.714, 46.071000000000005, 42.647, 42.013999999999996, 41.79600000000001, 41.133, 43.548, 44.973, 40.094, 42.41, 44.943000000000005, 46.19, 46.912, 43.795, 40.817, 40.688, 37.096, 38.818000000000005, 38.106, 41.678000000000004, 43.617, 43.34, 45.537, 41.42, 40.233000000000004, 35.018, 37.66, 39.224000000000004, 36.047, 39.827, 40.757, 50.504, 42.806000000000004, 50.257, 54.996, 50.83, 60.636, 62.823, 66.682, 64.367, 66.88, 62.794, 63.773, 67.464, 68.70100000000001, 71.768, 75.637, 77.398, 77.23, 76.765, 77.96300000000001, 78.17, 78.497, 78.259, 77.656, 77.86399999999999, 78.141, 78.02199999999999, 75.697, 74.34100000000001], [182.28, 188.85, 185.85, 182.4, 175.9, 173.96, 174.89, 172.73, 179.28, 182.35, 175.94, 177.41, 177.12, 178.07, 183.12, 175.86, 164.99, 157.25, 146.02, 149.0, 144.39, 153.63, 158.63, 157.36, 164.76, 154.17, 152.65, 134.13, 137.55, 148.56, 139.15, 157.68, 153.7, 176.07, 149.74, 170.82, 183.2, 171.74, 191.65, 197.56, 207.44, 202.17, 208.17, 199.52, 203.17, 213.14, 214.95, 221.79, 227.8, 229.88, 234.42, 230.35, 234.18, 235.43, 235.73, 233.56, 234.45, 235.08, 238.86, 241.31, 238.98, 236.08], [95.76, 97.86, 95.29, 94.62, 90.71, 89.39, 89.34, 89.05, 91.71, 95.18, 87.33, 90.79, 95.5, 98.19, 102.76, 94.3, 90.64, 89.46, 84.05, 86.61, 83.492, 89.104, 92.538, 90.193, 97.111, 90.787, 87.521, 78.217, 82.641, 84.42299999999999, 83.027, 92.796, 87.45100000000001, 102.84, 87.14399999999999, 94.973, 99.66, 92.479, 106.97, 112.8, 118.62, 115.76, 120.27, 114.92, 120.12, 125.34, 124.96, 130.8, 134.41, 136.08, 136.08, 134.25, 136.05, 136.46, 136.58, 136.58, 136.32, 135.76, 136.19, 136.17, 133.9, 132.0], [39.43, 40.79, 39.78, 38.967, 37.639, 37.143, 37.48, 36.628, 38.025, 38.749, 38.025, 38.065, 39.512, 39.235, 40.722, 39.027, 36.618, 36.687, 33.555, 33.604, 31.344, 33.703, 34.536, 33.713, 35.399, 33.694, 32.93, 27.566999999999997, 29.410999999999998, 30.65, 30.482, 33.495, 31.374000000000002, 37.173, 31.037, 36.548, 39.155, 37.173, 41.475, 42.218999999999994, 44.845, 44.013000000000005, 46.075, 44.637, 45.013999999999996, 46.828, 47.611000000000004, 49.247, 51.963, 53.281000000000006, 55.818999999999996, 55.036, 55.353, 55.442, 55.69, 55.294, 54.867, 54.55, 54.53, 54.51, 53.549, 52.141000000000005], [28.471, 29.403000000000002, 28.295, 27.844, 26.384, 26.002, 26.266, 26.305999999999997, 27.129, 27.815, 26.355, 27.874000000000002, 29.579, 30.804000000000002, 32.539, 29.677, 28.197, 28.06, 25.708000000000002, 26.678, 26.041, 28.128, 29.324, 29.677, 30.285, 28.393, 28.344, 24.747, 25.971999999999998, 27.726999999999997, 27.56, 29.04, 25.971999999999998, 30.275, 26.658, 31.686, 34.381, 31.833000000000002, 36.351, 38.125, 40.576, 39.723, 41.418, 40.037, 41.623999999999995, 43.261, 44.221000000000004, 45.466, 46.75, 46.397, 46.152, 46.053999999999995, 47.26, 47.162, 46.838, 47.034, 46.818999999999996, 46.887, 47.025, 46.848, 45.83, 45.695]], \"zmax\": 241.31, \"zmin\": 17.955}],\n",
       "                        {\"legend\": {\"bgcolor\": \"#F5F6F9\", \"font\": {\"color\": \"#4D5663\"}}, \"paper_bgcolor\": \"#F5F6F9\", \"plot_bgcolor\": \"#F5F6F9\", \"template\": {\"data\": {\"bar\": [{\"error_x\": {\"color\": \"#2a3f5f\"}, \"error_y\": {\"color\": \"#2a3f5f\"}, \"marker\": {\"line\": {\"color\": \"#E5ECF6\", \"width\": 0.5}}, \"type\": \"bar\"}], \"barpolar\": [{\"marker\": {\"line\": {\"color\": \"#E5ECF6\", \"width\": 0.5}}, \"type\": \"barpolar\"}], \"carpet\": [{\"aaxis\": {\"endlinecolor\": \"#2a3f5f\", \"gridcolor\": \"white\", \"linecolor\": \"white\", \"minorgridcolor\": \"white\", \"startlinecolor\": \"#2a3f5f\"}, \"baxis\": {\"endlinecolor\": \"#2a3f5f\", \"gridcolor\": \"white\", \"linecolor\": \"white\", \"minorgridcolor\": \"white\", \"startlinecolor\": \"#2a3f5f\"}, \"type\": \"carpet\"}], \"choropleth\": [{\"colorbar\": {\"outlinewidth\": 0, \"ticks\": \"\"}, \"type\": \"choropleth\"}], \"contour\": [{\"colorbar\": {\"outlinewidth\": 0, \"ticks\": \"\"}, \"colorscale\": [[0.0, \"#0d0887\"], [0.1111111111111111, \"#46039f\"], [0.2222222222222222, \"#7201a8\"], [0.3333333333333333, \"#9c179e\"], [0.4444444444444444, \"#bd3786\"], [0.5555555555555556, \"#d8576b\"], [0.6666666666666666, \"#ed7953\"], [0.7777777777777778, \"#fb9f3a\"], [0.8888888888888888, \"#fdca26\"], [1.0, \"#f0f921\"]], \"type\": \"contour\"}], \"contourcarpet\": [{\"colorbar\": {\"outlinewidth\": 0, \"ticks\": \"\"}, \"type\": \"contourcarpet\"}], \"heatmap\": [{\"colorbar\": {\"outlinewidth\": 0, \"ticks\": \"\"}, \"colorscale\": [[0.0, \"#0d0887\"], [0.1111111111111111, \"#46039f\"], [0.2222222222222222, \"#7201a8\"], [0.3333333333333333, \"#9c179e\"], [0.4444444444444444, \"#bd3786\"], [0.5555555555555556, \"#d8576b\"], [0.6666666666666666, \"#ed7953\"], [0.7777777777777778, \"#fb9f3a\"], [0.8888888888888888, \"#fdca26\"], [1.0, \"#f0f921\"]], \"type\": \"heatmap\"}], \"heatmapgl\": [{\"colorbar\": {\"outlinewidth\": 0, \"ticks\": \"\"}, \"colorscale\": [[0.0, \"#0d0887\"], [0.1111111111111111, \"#46039f\"], [0.2222222222222222, \"#7201a8\"], [0.3333333333333333, \"#9c179e\"], [0.4444444444444444, \"#bd3786\"], [0.5555555555555556, \"#d8576b\"], [0.6666666666666666, \"#ed7953\"], [0.7777777777777778, \"#fb9f3a\"], [0.8888888888888888, \"#fdca26\"], [1.0, \"#f0f921\"]], \"type\": \"heatmapgl\"}], \"histogram\": [{\"marker\": {\"colorbar\": {\"outlinewidth\": 0, \"ticks\": \"\"}}, \"type\": \"histogram\"}], \"histogram2d\": [{\"colorbar\": {\"outlinewidth\": 0, \"ticks\": \"\"}, \"colorscale\": [[0.0, \"#0d0887\"], [0.1111111111111111, \"#46039f\"], [0.2222222222222222, \"#7201a8\"], [0.3333333333333333, \"#9c179e\"], [0.4444444444444444, \"#bd3786\"], [0.5555555555555556, \"#d8576b\"], [0.6666666666666666, \"#ed7953\"], [0.7777777777777778, \"#fb9f3a\"], [0.8888888888888888, \"#fdca26\"], [1.0, \"#f0f921\"]], \"type\": \"histogram2d\"}], \"histogram2dcontour\": [{\"colorbar\": {\"outlinewidth\": 0, \"ticks\": \"\"}, \"colorscale\": [[0.0, \"#0d0887\"], [0.1111111111111111, \"#46039f\"], [0.2222222222222222, \"#7201a8\"], [0.3333333333333333, \"#9c179e\"], [0.4444444444444444, \"#bd3786\"], [0.5555555555555556, \"#d8576b\"], [0.6666666666666666, \"#ed7953\"], [0.7777777777777778, \"#fb9f3a\"], [0.8888888888888888, \"#fdca26\"], [1.0, \"#f0f921\"]], \"type\": \"histogram2dcontour\"}], \"mesh3d\": [{\"colorbar\": {\"outlinewidth\": 0, \"ticks\": \"\"}, \"type\": \"mesh3d\"}], \"parcoords\": [{\"line\": {\"colorbar\": {\"outlinewidth\": 0, \"ticks\": \"\"}}, \"type\": \"parcoords\"}], \"pie\": [{\"automargin\": true, \"type\": \"pie\"}], \"scatter\": [{\"marker\": {\"colorbar\": {\"outlinewidth\": 0, \"ticks\": \"\"}}, \"type\": \"scatter\"}], \"scatter3d\": [{\"line\": {\"colorbar\": {\"outlinewidth\": 0, \"ticks\": \"\"}}, \"marker\": {\"colorbar\": {\"outlinewidth\": 0, \"ticks\": \"\"}}, \"type\": \"scatter3d\"}], \"scattercarpet\": [{\"marker\": {\"colorbar\": {\"outlinewidth\": 0, \"ticks\": \"\"}}, \"type\": \"scattercarpet\"}], \"scattergeo\": [{\"marker\": {\"colorbar\": {\"outlinewidth\": 0, \"ticks\": \"\"}}, \"type\": \"scattergeo\"}], \"scattergl\": [{\"marker\": {\"colorbar\": {\"outlinewidth\": 0, \"ticks\": \"\"}}, \"type\": \"scattergl\"}], \"scattermapbox\": [{\"marker\": {\"colorbar\": {\"outlinewidth\": 0, \"ticks\": \"\"}}, \"type\": \"scattermapbox\"}], \"scatterpolar\": [{\"marker\": {\"colorbar\": {\"outlinewidth\": 0, \"ticks\": \"\"}}, \"type\": \"scatterpolar\"}], \"scatterpolargl\": [{\"marker\": {\"colorbar\": {\"outlinewidth\": 0, \"ticks\": \"\"}}, \"type\": \"scatterpolargl\"}], \"scatterternary\": [{\"marker\": {\"colorbar\": {\"outlinewidth\": 0, \"ticks\": \"\"}}, \"type\": \"scatterternary\"}], \"surface\": [{\"colorbar\": {\"outlinewidth\": 0, \"ticks\": \"\"}, \"colorscale\": [[0.0, \"#0d0887\"], [0.1111111111111111, \"#46039f\"], [0.2222222222222222, \"#7201a8\"], [0.3333333333333333, \"#9c179e\"], [0.4444444444444444, \"#bd3786\"], [0.5555555555555556, \"#d8576b\"], [0.6666666666666666, \"#ed7953\"], [0.7777777777777778, \"#fb9f3a\"], [0.8888888888888888, \"#fdca26\"], [1.0, \"#f0f921\"]], \"type\": \"surface\"}], \"table\": [{\"cells\": {\"fill\": {\"color\": \"#EBF0F8\"}, \"line\": {\"color\": \"white\"}}, \"header\": {\"fill\": {\"color\": \"#C8D4E3\"}, \"line\": {\"color\": \"white\"}}, \"type\": \"table\"}]}, \"layout\": {\"annotationdefaults\": {\"arrowcolor\": \"#2a3f5f\", \"arrowhead\": 0, \"arrowwidth\": 1}, \"coloraxis\": {\"colorbar\": {\"outlinewidth\": 0, \"ticks\": \"\"}}, \"colorscale\": {\"diverging\": [[0, \"#8e0152\"], [0.1, \"#c51b7d\"], [0.2, \"#de77ae\"], [0.3, \"#f1b6da\"], [0.4, \"#fde0ef\"], [0.5, \"#f7f7f7\"], [0.6, \"#e6f5d0\"], [0.7, \"#b8e186\"], [0.8, \"#7fbc41\"], [0.9, \"#4d9221\"], [1, \"#276419\"]], \"sequential\": [[0.0, \"#0d0887\"], [0.1111111111111111, \"#46039f\"], [0.2222222222222222, \"#7201a8\"], [0.3333333333333333, \"#9c179e\"], [0.4444444444444444, \"#bd3786\"], [0.5555555555555556, \"#d8576b\"], [0.6666666666666666, \"#ed7953\"], [0.7777777777777778, \"#fb9f3a\"], [0.8888888888888888, \"#fdca26\"], [1.0, \"#f0f921\"]], \"sequentialminus\": [[0.0, \"#0d0887\"], [0.1111111111111111, \"#46039f\"], [0.2222222222222222, \"#7201a8\"], [0.3333333333333333, \"#9c179e\"], [0.4444444444444444, \"#bd3786\"], [0.5555555555555556, \"#d8576b\"], [0.6666666666666666, \"#ed7953\"], [0.7777777777777778, \"#fb9f3a\"], [0.8888888888888888, \"#fdca26\"], [1.0, \"#f0f921\"]]}, \"colorway\": [\"#636efa\", \"#EF553B\", \"#00cc96\", \"#ab63fa\", \"#FFA15A\", \"#19d3f3\", \"#FF6692\", \"#B6E880\", \"#FF97FF\", \"#FECB52\"], \"font\": {\"color\": \"#2a3f5f\"}, \"geo\": {\"bgcolor\": \"white\", \"lakecolor\": \"white\", \"landcolor\": \"#E5ECF6\", \"showlakes\": true, \"showland\": true, \"subunitcolor\": \"white\"}, \"hoverlabel\": {\"align\": \"left\"}, \"hovermode\": \"closest\", \"mapbox\": {\"style\": \"light\"}, \"paper_bgcolor\": \"white\", \"plot_bgcolor\": \"#E5ECF6\", \"polar\": {\"angularaxis\": {\"gridcolor\": \"white\", \"linecolor\": \"white\", \"ticks\": \"\"}, \"bgcolor\": \"#E5ECF6\", \"radialaxis\": {\"gridcolor\": \"white\", \"linecolor\": \"white\", \"ticks\": \"\"}}, \"scene\": {\"xaxis\": {\"backgroundcolor\": \"#E5ECF6\", \"gridcolor\": \"white\", \"gridwidth\": 2, \"linecolor\": \"white\", \"showbackground\": true, \"ticks\": \"\", \"zerolinecolor\": \"white\"}, \"yaxis\": {\"backgroundcolor\": \"#E5ECF6\", \"gridcolor\": \"white\", \"gridwidth\": 2, \"linecolor\": \"white\", \"showbackground\": true, \"ticks\": \"\", \"zerolinecolor\": \"white\"}, \"zaxis\": {\"backgroundcolor\": \"#E5ECF6\", \"gridcolor\": \"white\", \"gridwidth\": 2, \"linecolor\": \"white\", \"showbackground\": true, \"ticks\": \"\", \"zerolinecolor\": \"white\"}}, \"shapedefaults\": {\"line\": {\"color\": \"#2a3f5f\"}}, \"ternary\": {\"aaxis\": {\"gridcolor\": \"white\", \"linecolor\": \"white\", \"ticks\": \"\"}, \"baxis\": {\"gridcolor\": \"white\", \"linecolor\": \"white\", \"ticks\": \"\"}, \"bgcolor\": \"#E5ECF6\", \"caxis\": {\"gridcolor\": \"white\", \"linecolor\": \"white\", \"ticks\": \"\"}}, \"title\": {\"x\": 0.05}, \"xaxis\": {\"automargin\": true, \"gridcolor\": \"white\", \"linecolor\": \"white\", \"ticks\": \"\", \"title\": {\"standoff\": 15}, \"zerolinecolor\": \"white\", \"zerolinewidth\": 2}, \"yaxis\": {\"automargin\": true, \"gridcolor\": \"white\", \"linecolor\": \"white\", \"ticks\": \"\", \"title\": {\"standoff\": 15}, \"zerolinecolor\": \"white\", \"zerolinewidth\": 2}}}, \"title\": {\"font\": {\"color\": \"#4D5663\"}}, \"xaxis\": {\"gridcolor\": \"#E1E5ED\", \"showgrid\": true, \"tickfont\": {\"color\": \"#4D5663\"}, \"title\": {\"font\": {\"color\": \"#4D5663\"}, \"text\": \"\"}, \"zerolinecolor\": \"#E1E5ED\"}, \"yaxis\": {\"gridcolor\": \"#E1E5ED\", \"showgrid\": true, \"tickfont\": {\"color\": \"#4D5663\"}, \"title\": {\"font\": {\"color\": \"#4D5663\"}, \"text\": \"\"}, \"zerolinecolor\": \"#E1E5ED\"}},\n",
       "                        {\"showLink\": true, \"linkText\": \"Export to plot.ly\", \"plotlyServerURL\": \"https://plot.ly\", \"responsive\": true}\n",
       "                    ).then(function(){\n",
       "                            \n",
       "var gd = document.getElementById('c46bba84-323b-47fd-800c-50775b276418');\n",
       "var x = new MutationObserver(function (mutations, observer) {{\n",
       "        var display = window.getComputedStyle(gd).display;\n",
       "        if (!display || display === 'none') {{\n",
       "            console.log([gd, 'removed!']);\n",
       "            Plotly.purge(gd);\n",
       "            observer.disconnect();\n",
       "        }}\n",
       "}});\n",
       "\n",
       "// Listen for the removal of the full notebook cells\n",
       "var notebookContainer = gd.closest('#notebook-container');\n",
       "if (notebookContainer) {{\n",
       "    x.observe(notebookContainer, {childList: true});\n",
       "}}\n",
       "\n",
       "// Listen for the clearing of the current output cell\n",
       "var outputEl = gd.closest('.output');\n",
       "if (outputEl) {{\n",
       "    x.observe(outputEl, {childList: true});\n",
       "}}\n",
       "\n",
       "                        })\n",
       "                };\n",
       "                });\n",
       "            </script>\n",
       "        </div>"
      ]
     },
     "metadata": {},
     "output_type": "display_data"
    }
   ],
   "source": [
    "close_2020 = bank_stocks.xs(key='Close', axis=1, level='Stock Info').loc['2020-04-30':'2020-02-01' ]\n",
    "close_2020.iplot(kind='heatmap', colorscale='rdylbu')"
   ]
  },
  {
   "cell_type": "markdown",
   "metadata": {},
   "source": [
    "** Optional: Use seaborn's clustermap to cluster the correlations together:**"
   ]
  },
  {
   "cell_type": "markdown",
   "metadata": {},
   "source": [
    "### Clustermap"
   ]
  },
  {
   "cell_type": "code",
   "execution_count": 43,
   "metadata": {},
   "outputs": [
    {
     "data": {
      "text/plain": [
       "<seaborn.matrix.ClusterGrid at 0x2635270d288>"
      ]
     },
     "execution_count": 43,
     "metadata": {},
     "output_type": "execute_result"
    },
    {
     "data": {
      "image/png": "[encoded data removed]",
      "text/plain": [
       "<Figure size 720x720 with 4 Axes>"
      ]
     },
     "metadata": {
      "needs_background": "light"
     },
     "output_type": "display_data"
    }
   ],
   "source": [
    "sns.clustermap(march_close_data)"
   ]
  },
  {
   "cell_type": "code",
   "execution_count": null,
   "metadata": {},
   "outputs": [],
   "source": []
  },
  {
   "cell_type": "markdown",
   "metadata": {},
   "source": [
    "# Great Job!\n",
    "\n",
    "Definitely a lot of more specific finance topics here, so don't worry if you didn't understand them all! The only thing you should be concerned with understanding are the basic pandas and visualization oeprations."
   ]
  },
  {
   "cell_type": "markdown",
   "metadata": {},
   "source": [
    "# Linear Regression"
   ]
  },
  {
   "cell_type": "code",
   "execution_count": 44,
   "metadata": {},
   "outputs": [
    {
     "data": {
      "text/html": [
       "<div>\n",
       "<style scoped>\n",
       "    .dataframe tbody tr th:only-of-type {\n",
       "        vertical-align: middle;\n",
       "    }\n",
       "\n",
       "    .dataframe tbody tr th {\n",
       "        vertical-align: top;\n",
       "    }\n",
       "\n",
       "    .dataframe thead th {\n",
       "        text-align: right;\n",
       "    }\n",
       "</style>\n",
       "<table border=\"1\" class=\"dataframe\">\n",
       "  <thead>\n",
       "    <tr style=\"text-align: right;\">\n",
       "      <th></th>\n",
       "      <th>Open</th>\n",
       "      <th>High</th>\n",
       "      <th>Low</th>\n",
       "      <th>Close</th>\n",
       "      <th>Volume</th>\n",
       "    </tr>\n",
       "    <tr>\n",
       "      <th>Date</th>\n",
       "      <th></th>\n",
       "      <th></th>\n",
       "      <th></th>\n",
       "      <th></th>\n",
       "      <th></th>\n",
       "    </tr>\n",
       "  </thead>\n",
       "  <tbody>\n",
       "    <tr>\n",
       "      <th>2020-06-22</th>\n",
       "      <td>24.89</td>\n",
       "      <td>25.025</td>\n",
       "      <td>24.61</td>\n",
       "      <td>24.62</td>\n",
       "      <td>55484307</td>\n",
       "    </tr>\n",
       "    <tr>\n",
       "      <th>2020-06-19</th>\n",
       "      <td>25.44</td>\n",
       "      <td>25.490</td>\n",
       "      <td>24.49</td>\n",
       "      <td>25.25</td>\n",
       "      <td>127563637</td>\n",
       "    </tr>\n",
       "    <tr>\n",
       "      <th>2020-06-18</th>\n",
       "      <td>24.70</td>\n",
       "      <td>25.490</td>\n",
       "      <td>24.58</td>\n",
       "      <td>25.04</td>\n",
       "      <td>53419011</td>\n",
       "    </tr>\n",
       "    <tr>\n",
       "      <th>2020-06-17</th>\n",
       "      <td>25.90</td>\n",
       "      <td>25.900</td>\n",
       "      <td>24.92</td>\n",
       "      <td>25.00</td>\n",
       "      <td>58349482</td>\n",
       "    </tr>\n",
       "    <tr>\n",
       "      <th>2020-06-16</th>\n",
       "      <td>26.18</td>\n",
       "      <td>26.240</td>\n",
       "      <td>24.86</td>\n",
       "      <td>25.80</td>\n",
       "      <td>96796548</td>\n",
       "    </tr>\n",
       "  </tbody>\n",
       "</table>\n",
       "</div>"
      ],
      "text/plain": [
       "             Open    High    Low  Close     Volume\n",
       "Date                                              \n",
       "2020-06-22  24.89  25.025  24.61  24.62   55484307\n",
       "2020-06-19  25.44  25.490  24.49  25.25  127563637\n",
       "2020-06-18  24.70  25.490  24.58  25.04   53419011\n",
       "2020-06-17  25.90  25.900  24.92  25.00   58349482\n",
       "2020-06-16  26.18  26.240  24.86  25.80   96796548"
      ]
     },
     "execution_count": 44,
     "metadata": {},
     "output_type": "execute_result"
    }
   ],
   "source": [
    "BAC.head()"
   ]
  },
  {
   "cell_type": "code",
   "execution_count": 45,
   "metadata": {},
   "outputs": [],
   "source": [
    "bac_lm = BAC.copy()"
   ]
  },
  {
   "cell_type": "code",
   "execution_count": 46,
   "metadata": {},
   "outputs": [
    {
     "data": {
      "text/html": [
       "<div>\n",
       "<style scoped>\n",
       "    .dataframe tbody tr th:only-of-type {\n",
       "        vertical-align: middle;\n",
       "    }\n",
       "\n",
       "    .dataframe tbody tr th {\n",
       "        vertical-align: top;\n",
       "    }\n",
       "\n",
       "    .dataframe thead th {\n",
       "        text-align: right;\n",
       "    }\n",
       "</style>\n",
       "<table border=\"1\" class=\"dataframe\">\n",
       "  <thead>\n",
       "    <tr style=\"text-align: right;\">\n",
       "      <th></th>\n",
       "      <th>Open</th>\n",
       "      <th>High</th>\n",
       "      <th>Low</th>\n",
       "      <th>Close</th>\n",
       "      <th>Volume</th>\n",
       "    </tr>\n",
       "    <tr>\n",
       "      <th>Date</th>\n",
       "      <th></th>\n",
       "      <th></th>\n",
       "      <th></th>\n",
       "      <th></th>\n",
       "      <th></th>\n",
       "    </tr>\n",
       "  </thead>\n",
       "  <tbody>\n",
       "    <tr>\n",
       "      <th>2020-06-22</th>\n",
       "      <td>24.890</td>\n",
       "      <td>25.025</td>\n",
       "      <td>24.610</td>\n",
       "      <td>24.620</td>\n",
       "      <td>55484307</td>\n",
       "    </tr>\n",
       "    <tr>\n",
       "      <th>2020-06-19</th>\n",
       "      <td>25.440</td>\n",
       "      <td>25.490</td>\n",
       "      <td>24.490</td>\n",
       "      <td>25.250</td>\n",
       "      <td>127563637</td>\n",
       "    </tr>\n",
       "    <tr>\n",
       "      <th>2020-06-18</th>\n",
       "      <td>24.700</td>\n",
       "      <td>25.490</td>\n",
       "      <td>24.580</td>\n",
       "      <td>25.040</td>\n",
       "      <td>53419011</td>\n",
       "    </tr>\n",
       "    <tr>\n",
       "      <th>2020-06-17</th>\n",
       "      <td>25.900</td>\n",
       "      <td>25.900</td>\n",
       "      <td>24.920</td>\n",
       "      <td>25.000</td>\n",
       "      <td>58349482</td>\n",
       "    </tr>\n",
       "    <tr>\n",
       "      <th>2020-06-16</th>\n",
       "      <td>26.180</td>\n",
       "      <td>26.240</td>\n",
       "      <td>24.860</td>\n",
       "      <td>25.800</td>\n",
       "      <td>96796548</td>\n",
       "    </tr>\n",
       "    <tr>\n",
       "      <th>...</th>\n",
       "      <td>...</td>\n",
       "      <td>...</td>\n",
       "      <td>...</td>\n",
       "      <td>...</td>\n",
       "      <td>...</td>\n",
       "    </tr>\n",
       "    <tr>\n",
       "      <th>2015-07-01</th>\n",
       "      <td>15.747</td>\n",
       "      <td>15.800</td>\n",
       "      <td>15.599</td>\n",
       "      <td>15.717</td>\n",
       "      <td>68271790</td>\n",
       "    </tr>\n",
       "    <tr>\n",
       "      <th>2015-06-30</th>\n",
       "      <td>15.589</td>\n",
       "      <td>15.635</td>\n",
       "      <td>15.383</td>\n",
       "      <td>15.536</td>\n",
       "      <td>97547603</td>\n",
       "    </tr>\n",
       "    <tr>\n",
       "      <th>2015-06-29</th>\n",
       "      <td>15.635</td>\n",
       "      <td>15.747</td>\n",
       "      <td>15.391</td>\n",
       "      <td>15.417</td>\n",
       "      <td>108025838</td>\n",
       "    </tr>\n",
       "    <tr>\n",
       "      <th>2015-06-26</th>\n",
       "      <td>15.956</td>\n",
       "      <td>15.991</td>\n",
       "      <td>15.837</td>\n",
       "      <td>15.890</td>\n",
       "      <td>69108135</td>\n",
       "    </tr>\n",
       "    <tr>\n",
       "      <th>2015-06-25</th>\n",
       "      <td>16.038</td>\n",
       "      <td>16.085</td>\n",
       "      <td>15.837</td>\n",
       "      <td>15.855</td>\n",
       "      <td>65483394</td>\n",
       "    </tr>\n",
       "  </tbody>\n",
       "</table>\n",
       "<p>1257 rows × 5 columns</p>\n",
       "</div>"
      ],
      "text/plain": [
       "              Open    High     Low   Close     Volume\n",
       "Date                                                 \n",
       "2020-06-22  24.890  25.025  24.610  24.620   55484307\n",
       "2020-06-19  25.440  25.490  24.490  25.250  127563637\n",
       "2020-06-18  24.700  25.490  24.580  25.040   53419011\n",
       "2020-06-17  25.900  25.900  24.920  25.000   58349482\n",
       "2020-06-16  26.180  26.240  24.860  25.800   96796548\n",
       "...            ...     ...     ...     ...        ...\n",
       "2015-07-01  15.747  15.800  15.599  15.717   68271790\n",
       "2015-06-30  15.589  15.635  15.383  15.536   97547603\n",
       "2015-06-29  15.635  15.747  15.391  15.417  108025838\n",
       "2015-06-26  15.956  15.991  15.837  15.890   69108135\n",
       "2015-06-25  16.038  16.085  15.837  15.855   65483394\n",
       "\n",
       "[1257 rows x 5 columns]"
      ]
     },
     "execution_count": 46,
     "metadata": {},
     "output_type": "execute_result"
    }
   ],
   "source": [
    "bac_lm"
   ]
  },
  {
   "cell_type": "code",
   "execution_count": null,
   "metadata": {},
   "outputs": [],
   "source": []
  },
  {
   "cell_type": "code",
   "execution_count": 47,
   "metadata": {},
   "outputs": [],
   "source": [
    "bac_lm.reset_index(drop=True, inplace=True)"
   ]
  },
  {
   "cell_type": "code",
   "execution_count": 48,
   "metadata": {},
   "outputs": [
    {
     "data": {
      "text/html": [
       "<div>\n",
       "<style scoped>\n",
       "    .dataframe tbody tr th:only-of-type {\n",
       "        vertical-align: middle;\n",
       "    }\n",
       "\n",
       "    .dataframe tbody tr th {\n",
       "        vertical-align: top;\n",
       "    }\n",
       "\n",
       "    .dataframe thead th {\n",
       "        text-align: right;\n",
       "    }\n",
       "</style>\n",
       "<table border=\"1\" class=\"dataframe\">\n",
       "  <thead>\n",
       "    <tr style=\"text-align: right;\">\n",
       "      <th></th>\n",
       "      <th>Open</th>\n",
       "      <th>High</th>\n",
       "      <th>Low</th>\n",
       "      <th>Close</th>\n",
       "      <th>Volume</th>\n",
       "    </tr>\n",
       "  </thead>\n",
       "  <tbody>\n",
       "    <tr>\n",
       "      <th>0</th>\n",
       "      <td>24.890</td>\n",
       "      <td>25.025</td>\n",
       "      <td>24.610</td>\n",
       "      <td>24.620</td>\n",
       "      <td>55484307</td>\n",
       "    </tr>\n",
       "    <tr>\n",
       "      <th>1</th>\n",
       "      <td>25.440</td>\n",
       "      <td>25.490</td>\n",
       "      <td>24.490</td>\n",
       "      <td>25.250</td>\n",
       "      <td>127563637</td>\n",
       "    </tr>\n",
       "    <tr>\n",
       "      <th>2</th>\n",
       "      <td>24.700</td>\n",
       "      <td>25.490</td>\n",
       "      <td>24.580</td>\n",
       "      <td>25.040</td>\n",
       "      <td>53419011</td>\n",
       "    </tr>\n",
       "    <tr>\n",
       "      <th>3</th>\n",
       "      <td>25.900</td>\n",
       "      <td>25.900</td>\n",
       "      <td>24.920</td>\n",
       "      <td>25.000</td>\n",
       "      <td>58349482</td>\n",
       "    </tr>\n",
       "    <tr>\n",
       "      <th>4</th>\n",
       "      <td>26.180</td>\n",
       "      <td>26.240</td>\n",
       "      <td>24.860</td>\n",
       "      <td>25.800</td>\n",
       "      <td>96796548</td>\n",
       "    </tr>\n",
       "    <tr>\n",
       "      <th>...</th>\n",
       "      <td>...</td>\n",
       "      <td>...</td>\n",
       "      <td>...</td>\n",
       "      <td>...</td>\n",
       "      <td>...</td>\n",
       "    </tr>\n",
       "    <tr>\n",
       "      <th>1252</th>\n",
       "      <td>15.747</td>\n",
       "      <td>15.800</td>\n",
       "      <td>15.599</td>\n",
       "      <td>15.717</td>\n",
       "      <td>68271790</td>\n",
       "    </tr>\n",
       "    <tr>\n",
       "      <th>1253</th>\n",
       "      <td>15.589</td>\n",
       "      <td>15.635</td>\n",
       "      <td>15.383</td>\n",
       "      <td>15.536</td>\n",
       "      <td>97547603</td>\n",
       "    </tr>\n",
       "    <tr>\n",
       "      <th>1254</th>\n",
       "      <td>15.635</td>\n",
       "      <td>15.747</td>\n",
       "      <td>15.391</td>\n",
       "      <td>15.417</td>\n",
       "      <td>108025838</td>\n",
       "    </tr>\n",
       "    <tr>\n",
       "      <th>1255</th>\n",
       "      <td>15.956</td>\n",
       "      <td>15.991</td>\n",
       "      <td>15.837</td>\n",
       "      <td>15.890</td>\n",
       "      <td>69108135</td>\n",
       "    </tr>\n",
       "    <tr>\n",
       "      <th>1256</th>\n",
       "      <td>16.038</td>\n",
       "      <td>16.085</td>\n",
       "      <td>15.837</td>\n",
       "      <td>15.855</td>\n",
       "      <td>65483394</td>\n",
       "    </tr>\n",
       "  </tbody>\n",
       "</table>\n",
       "<p>1257 rows × 5 columns</p>\n",
       "</div>"
      ],
      "text/plain": [
       "        Open    High     Low   Close     Volume\n",
       "0     24.890  25.025  24.610  24.620   55484307\n",
       "1     25.440  25.490  24.490  25.250  127563637\n",
       "2     24.700  25.490  24.580  25.040   53419011\n",
       "3     25.900  25.900  24.920  25.000   58349482\n",
       "4     26.180  26.240  24.860  25.800   96796548\n",
       "...      ...     ...     ...     ...        ...\n",
       "1252  15.747  15.800  15.599  15.717   68271790\n",
       "1253  15.589  15.635  15.383  15.536   97547603\n",
       "1254  15.635  15.747  15.391  15.417  108025838\n",
       "1255  15.956  15.991  15.837  15.890   69108135\n",
       "1256  16.038  16.085  15.837  15.855   65483394\n",
       "\n",
       "[1257 rows x 5 columns]"
      ]
     },
     "execution_count": 48,
     "metadata": {},
     "output_type": "execute_result"
    }
   ],
   "source": [
    "bac_lm"
   ]
  },
  {
   "cell_type": "code",
   "execution_count": 49,
   "metadata": {},
   "outputs": [],
   "source": [
    "X = bac_lm[['Open', 'High', 'Low']]"
   ]
  },
  {
   "cell_type": "code",
   "execution_count": 50,
   "metadata": {},
   "outputs": [
    {
     "data": {
      "text/html": [
       "<div>\n",
       "<style scoped>\n",
       "    .dataframe tbody tr th:only-of-type {\n",
       "        vertical-align: middle;\n",
       "    }\n",
       "\n",
       "    .dataframe tbody tr th {\n",
       "        vertical-align: top;\n",
       "    }\n",
       "\n",
       "    .dataframe thead th {\n",
       "        text-align: right;\n",
       "    }\n",
       "</style>\n",
       "<table border=\"1\" class=\"dataframe\">\n",
       "  <thead>\n",
       "    <tr style=\"text-align: right;\">\n",
       "      <th></th>\n",
       "      <th>Open</th>\n",
       "      <th>High</th>\n",
       "      <th>Low</th>\n",
       "    </tr>\n",
       "  </thead>\n",
       "  <tbody>\n",
       "    <tr>\n",
       "      <th>0</th>\n",
       "      <td>24.890</td>\n",
       "      <td>25.025</td>\n",
       "      <td>24.610</td>\n",
       "    </tr>\n",
       "    <tr>\n",
       "      <th>1</th>\n",
       "      <td>25.440</td>\n",
       "      <td>25.490</td>\n",
       "      <td>24.490</td>\n",
       "    </tr>\n",
       "    <tr>\n",
       "      <th>2</th>\n",
       "      <td>24.700</td>\n",
       "      <td>25.490</td>\n",
       "      <td>24.580</td>\n",
       "    </tr>\n",
       "    <tr>\n",
       "      <th>3</th>\n",
       "      <td>25.900</td>\n",
       "      <td>25.900</td>\n",
       "      <td>24.920</td>\n",
       "    </tr>\n",
       "    <tr>\n",
       "      <th>4</th>\n",
       "      <td>26.180</td>\n",
       "      <td>26.240</td>\n",
       "      <td>24.860</td>\n",
       "    </tr>\n",
       "    <tr>\n",
       "      <th>...</th>\n",
       "      <td>...</td>\n",
       "      <td>...</td>\n",
       "      <td>...</td>\n",
       "    </tr>\n",
       "    <tr>\n",
       "      <th>1252</th>\n",
       "      <td>15.747</td>\n",
       "      <td>15.800</td>\n",
       "      <td>15.599</td>\n",
       "    </tr>\n",
       "    <tr>\n",
       "      <th>1253</th>\n",
       "      <td>15.589</td>\n",
       "      <td>15.635</td>\n",
       "      <td>15.383</td>\n",
       "    </tr>\n",
       "    <tr>\n",
       "      <th>1254</th>\n",
       "      <td>15.635</td>\n",
       "      <td>15.747</td>\n",
       "      <td>15.391</td>\n",
       "    </tr>\n",
       "    <tr>\n",
       "      <th>1255</th>\n",
       "      <td>15.956</td>\n",
       "      <td>15.991</td>\n",
       "      <td>15.837</td>\n",
       "    </tr>\n",
       "    <tr>\n",
       "      <th>1256</th>\n",
       "      <td>16.038</td>\n",
       "      <td>16.085</td>\n",
       "      <td>15.837</td>\n",
       "    </tr>\n",
       "  </tbody>\n",
       "</table>\n",
       "<p>1257 rows × 3 columns</p>\n",
       "</div>"
      ],
      "text/plain": [
       "        Open    High     Low\n",
       "0     24.890  25.025  24.610\n",
       "1     25.440  25.490  24.490\n",
       "2     24.700  25.490  24.580\n",
       "3     25.900  25.900  24.920\n",
       "4     26.180  26.240  24.860\n",
       "...      ...     ...     ...\n",
       "1252  15.747  15.800  15.599\n",
       "1253  15.589  15.635  15.383\n",
       "1254  15.635  15.747  15.391\n",
       "1255  15.956  15.991  15.837\n",
       "1256  16.038  16.085  15.837\n",
       "\n",
       "[1257 rows x 3 columns]"
      ]
     },
     "execution_count": 50,
     "metadata": {},
     "output_type": "execute_result"
    }
   ],
   "source": [
    "X"
   ]
  },
  {
   "cell_type": "code",
   "execution_count": 51,
   "metadata": {},
   "outputs": [],
   "source": [
    "y = bac_lm['Close']"
   ]
  },
  {
   "cell_type": "code",
   "execution_count": 52,
   "metadata": {},
   "outputs": [
    {
     "data": {
      "text/plain": [
       "0       24.620\n",
       "1       25.250\n",
       "2       25.040\n",
       "3       25.000\n",
       "4       25.800\n",
       "         ...  \n",
       "1252    15.717\n",
       "1253    15.536\n",
       "1254    15.417\n",
       "1255    15.890\n",
       "1256    15.855\n",
       "Name: Close, Length: 1257, dtype: float64"
      ]
     },
     "execution_count": 52,
     "metadata": {},
     "output_type": "execute_result"
    }
   ],
   "source": [
    "y"
   ]
  },
  {
   "cell_type": "code",
   "execution_count": 53,
   "metadata": {},
   "outputs": [],
   "source": [
    "# Split\n",
    "from sklearn.model_selection import train_test_split\n",
    "\n",
    "X_train, X_test, y_train, y_test = train_test_split(X, y, test_size=0.4, random_state=101)"
   ]
  },
  {
   "cell_type": "code",
   "execution_count": 54,
   "metadata": {},
   "outputs": [
    {
     "data": {
      "text/plain": [
       "LinearRegression(copy_X=True, fit_intercept=True, n_jobs=None, normalize=False)"
      ]
     },
     "execution_count": 54,
     "metadata": {},
     "output_type": "execute_result"
    }
   ],
   "source": [
    "# LR Model\n",
    "\n",
    "from sklearn.linear_model import LinearRegression\n",
    "lm = LinearRegression()\n",
    "lm.fit(X_train, y_train)"
   ]
  },
  {
   "cell_type": "code",
   "execution_count": 55,
   "metadata": {},
   "outputs": [
    {
     "data": {
      "text/plain": [
       "array([-0.53213174,  0.76193055,  0.77027083])"
      ]
     },
     "execution_count": 55,
     "metadata": {},
     "output_type": "execute_result"
    }
   ],
   "source": [
    "lm.coef_"
   ]
  },
  {
   "cell_type": "code",
   "execution_count": null,
   "metadata": {},
   "outputs": [],
   "source": []
  },
  {
   "cell_type": "code",
   "execution_count": null,
   "metadata": {},
   "outputs": [],
   "source": []
  },
  {
   "cell_type": "code",
   "execution_count": 56,
   "metadata": {},
   "outputs": [],
   "source": [
    "predicted_y = lm.predict(X_test)"
   ]
  },
  {
   "cell_type": "code",
   "execution_count": 57,
   "metadata": {},
   "outputs": [
    {
     "data": {
      "text/plain": [
       "<matplotlib.axes._subplots.AxesSubplot at 0x263531b1748>"
      ]
     },
     "execution_count": 57,
     "metadata": {},
     "output_type": "execute_result"
    },
    {
     "data": {
      "image/png": "[encoded data removed]",
      "text/plain": [
       "<Figure size 432x288 with 1 Axes>"
      ]
     },
     "metadata": {
      "needs_background": "light"
     },
     "output_type": "display_data"
    }
   ],
   "source": [
    "sns.scatterplot(y_test, predicted_y)"
   ]
  },
  {
   "cell_type": "code",
   "execution_count": 58,
   "metadata": {},
   "outputs": [
    {
     "data": {
      "text/plain": [
       "<matplotlib.axes._subplots.AxesSubplot at 0x2635322c3c8>"
      ]
     },
     "execution_count": 58,
     "metadata": {},
     "output_type": "execute_result"
    },
    {
     "data": {
      "image/png": "[encoded data removed]",
      "text/plain": [
       "<Figure size 432x288 with 1 Axes>"
      ]
     },
     "metadata": {
      "needs_background": "light"
     },
     "output_type": "display_data"
    }
   ],
   "source": [
    "sns.distplot((y_test - predicted_y))   # If the distribution is NORMAL then, model is good."
   ]
  },
  {
   "cell_type": "code",
   "execution_count": null,
   "metadata": {},
   "outputs": [],
   "source": []
  }
 ],
 "metadata": {
  "kernelspec": {
   "display_name": "Python 3",
   "language": "python",
   "name": "python3"
  },
  "language_info": {
   "codemirror_mode": {
    "name": "ipython",
    "version": 3
   },
   "file_extension": ".py",
   "mimetype": "text/x-python",
   "name": "python",
   "nbconvert_exporter": "python",
   "pygments_lexer": "ipython3",
   "version": "3.7.6"
  }
 },
 "nbformat": 4,
 "nbformat_minor": 1
}
