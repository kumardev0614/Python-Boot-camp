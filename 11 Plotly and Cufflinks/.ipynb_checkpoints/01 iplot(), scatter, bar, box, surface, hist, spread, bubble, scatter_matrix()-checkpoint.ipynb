{
 "cells": [
  {
   "cell_type": "code",
   "execution_count": 1,
   "metadata": {},
   "outputs": [],
   "source": [
    "import pandas as pd\n",
    "import numpy as np\n",
    "%matplotlib inline"
   ]
  },
  {
   "cell_type": "code",
   "execution_count": 7,
   "metadata": {},
   "outputs": [
    {
     "data": {
      "text/html": [
       "        <script type=\"text/javascript\">\n",
       "        window.PlotlyConfig = {MathJaxConfig: 'local'};\n",
       "        if (window.MathJax) {MathJax.Hub.Config({SVG: {font: \"STIX-Web\"}});}\n",
       "        if (typeof require !== 'undefined') {\n",
       "        require.undef(\"plotly\");\n",
       "        requirejs.config({\n",
       "            paths: {\n",
       "                'plotly': ['https://cdn.plot.ly/plotly-latest.min']\n",
       "            }\n",
       "        });\n",
       "        require(['plotly'], function(Plotly) {\n",
       "            window._Plotly = Plotly;\n",
       "        });\n",
       "        }\n",
       "        </script>\n",
       "        "
      ]
     },
     "metadata": {},
     "output_type": "display_data"
    },
    {
     "data": {
      "text/html": [
       "        <script type=\"text/javascript\">\n",
       "        window.PlotlyConfig = {MathJaxConfig: 'local'};\n",
       "        if (window.MathJax) {MathJax.Hub.Config({SVG: {font: \"STIX-Web\"}});}\n",
       "        if (typeof require !== 'undefined') {\n",
       "        require.undef(\"plotly\");\n",
       "        requirejs.config({\n",
       "            paths: {\n",
       "                'plotly': ['https://cdn.plot.ly/plotly-latest.min']\n",
       "            }\n",
       "        });\n",
       "        require(['plotly'], function(Plotly) {\n",
       "            window._Plotly = Plotly;\n",
       "        });\n",
       "        }\n",
       "        </script>\n",
       "        "
      ]
     },
     "metadata": {},
     "output_type": "display_data"
    }
   ],
   "source": [
    "from plotly.offline import download_plotlyjs, init_notebook_mode, plot, iplot\n",
    "import cufflinks as cf\n",
    "init_notebook_mode(connected=True)\n",
    "cf.go_offline()"
   ]
  },
  {
   "cell_type": "code",
   "execution_count": 8,
   "metadata": {},
   "outputs": [],
   "source": [
    "# DATA\n",
    "df = pd.DataFrame(np.random.randn(100,4), columns='A B C D'.split())"
   ]
  },
  {
   "cell_type": "code",
   "execution_count": 9,
   "metadata": {},
   "outputs": [
    {
     "data": {
      "text/html": [
       "<div>\n",
       "<style scoped>\n",
       "    .dataframe tbody tr th:only-of-type {\n",
       "        vertical-align: middle;\n",
       "    }\n",
       "\n",
       "    .dataframe tbody tr th {\n",
       "        vertical-align: top;\n",
       "    }\n",
       "\n",
       "    .dataframe thead th {\n",
       "        text-align: right;\n",
       "    }\n",
       "</style>\n",
       "<table border=\"1\" class=\"dataframe\">\n",
       "  <thead>\n",
       "    <tr style=\"text-align: right;\">\n",
       "      <th></th>\n",
       "      <th>A</th>\n",
       "      <th>B</th>\n",
       "      <th>C</th>\n",
       "      <th>D</th>\n",
       "    </tr>\n",
       "  </thead>\n",
       "  <tbody>\n",
       "    <tr>\n",
       "      <th>0</th>\n",
       "      <td>0.341061</td>\n",
       "      <td>1.607817</td>\n",
       "      <td>-0.408937</td>\n",
       "      <td>-0.282537</td>\n",
       "    </tr>\n",
       "    <tr>\n",
       "      <th>1</th>\n",
       "      <td>-1.103552</td>\n",
       "      <td>0.515251</td>\n",
       "      <td>0.528470</td>\n",
       "      <td>-0.339044</td>\n",
       "    </tr>\n",
       "    <tr>\n",
       "      <th>2</th>\n",
       "      <td>0.014978</td>\n",
       "      <td>-1.732949</td>\n",
       "      <td>-1.349982</td>\n",
       "      <td>-0.604768</td>\n",
       "    </tr>\n",
       "    <tr>\n",
       "      <th>3</th>\n",
       "      <td>-0.492341</td>\n",
       "      <td>-0.036946</td>\n",
       "      <td>0.209473</td>\n",
       "      <td>0.631951</td>\n",
       "    </tr>\n",
       "    <tr>\n",
       "      <th>4</th>\n",
       "      <td>-0.711741</td>\n",
       "      <td>-1.355193</td>\n",
       "      <td>0.063138</td>\n",
       "      <td>0.080211</td>\n",
       "    </tr>\n",
       "  </tbody>\n",
       "</table>\n",
       "</div>"
      ],
      "text/plain": [
       "          A         B         C         D\n",
       "0  0.341061  1.607817 -0.408937 -0.282537\n",
       "1 -1.103552  0.515251  0.528470 -0.339044\n",
       "2  0.014978 -1.732949 -1.349982 -0.604768\n",
       "3 -0.492341 -0.036946  0.209473  0.631951\n",
       "4 -0.711741 -1.355193  0.063138  0.080211"
      ]
     },
     "execution_count": 9,
     "metadata": {},
     "output_type": "execute_result"
    }
   ],
   "source": [
    "df.head()"
   ]
  },
  {
   "cell_type": "code",
   "execution_count": 10,
   "metadata": {},
   "outputs": [],
   "source": [
    "df2 = pd.DataFrame({'category':['A', 'B', 'C'], 'values':[32,43,50]})"
   ]
  },
  {
   "cell_type": "code",
   "execution_count": 11,
   "metadata": {},
   "outputs": [
    {
     "data": {
      "text/html": [
       "<div>\n",
       "<style scoped>\n",
       "    .dataframe tbody tr th:only-of-type {\n",
       "        vertical-align: middle;\n",
       "    }\n",
       "\n",
       "    .dataframe tbody tr th {\n",
       "        vertical-align: top;\n",
       "    }\n",
       "\n",
       "    .dataframe thead th {\n",
       "        text-align: right;\n",
       "    }\n",
       "</style>\n",
       "<table border=\"1\" class=\"dataframe\">\n",
       "  <thead>\n",
       "    <tr style=\"text-align: right;\">\n",
       "      <th></th>\n",
       "      <th>category</th>\n",
       "      <th>values</th>\n",
       "    </tr>\n",
       "  </thead>\n",
       "  <tbody>\n",
       "    <tr>\n",
       "      <th>0</th>\n",
       "      <td>A</td>\n",
       "      <td>32</td>\n",
       "    </tr>\n",
       "    <tr>\n",
       "      <th>1</th>\n",
       "      <td>B</td>\n",
       "      <td>43</td>\n",
       "    </tr>\n",
       "    <tr>\n",
       "      <th>2</th>\n",
       "      <td>C</td>\n",
       "      <td>50</td>\n",
       "    </tr>\n",
       "  </tbody>\n",
       "</table>\n",
       "</div>"
      ],
      "text/plain": [
       "  category  values\n",
       "0        A      32\n",
       "1        B      43\n",
       "2        C      50"
      ]
     },
     "execution_count": 11,
     "metadata": {},
     "output_type": "execute_result"
    }
   ],
   "source": [
    "df2.head()"
   ]
  },
  {
   "cell_type": "markdown",
   "metadata": {},
   "source": [
    "# plotly.offline.plot()"
   ]
  },
  {
   "cell_type": "code",
   "execution_count": 12,
   "metadata": {},
   "outputs": [
    {
     "data": {
      "text/plain": [
       "<matplotlib.axes._subplots.AxesSubplot at 0x24f1bdb0d88>"
      ]
     },
     "execution_count": 12,
     "metadata": {},
     "output_type": "execute_result"
    },
    {
     "data": {
      "image/png": "[encoded data removed]",
      "text/plain": [
       "<Figure size 432x288 with 1 Axes>"
      ]
     },
     "metadata": {
      "needs_background": "light"
     },
     "output_type": "display_data"
    }
   ],
   "source": [
    "df.plot()"
   ]
  },
  {
   "cell_type": "markdown",
   "metadata": {},
   "source": [
    "# iplot()"
   ]
  },
  {
   "cell_type": "code",
   "execution_count": 13,
   "metadata": {},
   "outputs": [
    {
     "data": {
      "application/vnd.plotly.v1+json": {
       "config": {
        "linkText": "Export to plot.ly",
        "plotlyServerURL": "https://plot.ly",
        "showLink": true
       },
       "data": [
        {
         "line": {
          "color": "rgba(255, 153, 51, 1.0)",
          "dash": "solid",
          "shape": "linear",
          "width": 1.3
         },
         "mode": "lines",
         "name": "A",
         "text": "",
         "type": "scatter",
         "x": [
          0,
          1,
          2,
          3,
          4,
          5,
          6,
          7,
          8,
          9,
          10,
          11,
          12,
          13,
          14,
          15,
          16,
          17,
          18,
          19,
          20,
          21,
          22,
          23,
          24,
          25,
          26,
          27,
          28,
          29,
          30,
          31,
          32,
          33,
          34,
          35,
          36,
          37,
          38,
          39,
          40,
          41,
          42,
          43,
          44,
          45,
          46,
          47,
          48,
          49,
          50,
          51,
          52,
          53,
          54,
          55,
          56,
          57,
          58,
          59,
          60,
          61,
          62,
          63,
          64,
          65,
          66,
          67,
          68,
          69,
          70,
          71,
          72,
          73,
          74,
          75,
          76,
          77,
          78,
          79,
          80,
          81,
          82,
          83,
          84,
          85,
          86,
          87,
          88,
          89,
          90,
          91,
          92,
          93,
          94,
          95,
          96,
          97,
          98,
          99
         ],
         "y": [
          0.3410614466753071,
          -1.1035524050054597,
          0.01497802970479452,
          -0.4923405339752979,
          -0.711740649467883,
          0.7611113231300444,
          -0.32899989496145043,
          -1.0003056778373516,
          -1.144108410930388,
          -0.7187659800223282,
          -0.8827891809503372,
          0.16527534978219205,
          0.33791501376902755,
          0.2845952287777885,
          -2.031762480119184,
          0.009561136766891088,
          -0.37499414498681033,
          0.7436276548650762,
          -0.08613852640362644,
          -1.788868487410151,
          0.6091820625025955,
          -0.540546683835764,
          -1.3830705697321766,
          -0.22776248598870943,
          0.04791488496871383,
          0.14734661797990722,
          0.6837492096990183,
          0.4909535703078963,
          -0.5763766572692686,
          1.7556808706923992,
          -0.21643572049270607,
          -0.08138650173686049,
          -0.41988696887517796,
          0.5896403672067946,
          -0.15796893354889477,
          0.03098947180102704,
          -1.1741362797157253,
          -0.5288212423479839,
          -1.0461934563699007,
          -1.8047730897321894,
          -0.18922230488345462,
          0.4448399483986472,
          0.09802387104390282,
          0.3675012254291077,
          -2.199418690052648,
          0.9672627288932981,
          -1.6104735507037404,
          1.0793883903440407,
          -1.7442712770335072,
          -0.2006977228942966,
          1.1604057740322227,
          0.8380871794918501,
          0.3434621276866279,
          -1.4104992622520467,
          1.311238947350882,
          0.9412950281879889,
          -0.3350723872072907,
          0.6951180795417036,
          -0.9121582740527129,
          0.18765291170273096,
          -0.690685295257295,
          0.8852386085818393,
          0.4317636746726903,
          -0.7504024305600105,
          -0.39335965300494274,
          0.3694506068850978,
          -0.10252111873440109,
          0.49884624438508196,
          0.055394235359639964,
          0.011792637052425847,
          -0.8082790203993668,
          -1.3615811568324008,
          -0.4873899268497068,
          0.38309544271604257,
          0.4242660099135097,
          2.2187119574585603,
          -0.01959273839618212,
          -0.8646247657702009,
          0.08787197959542621,
          -0.1154797457890154,
          0.33140686940164854,
          -0.6196352065642001,
          0.3227781557323908,
          0.2447772792318997,
          -0.9529620548470774,
          -1.1779499157234683,
          0.362052923601659,
          0.36545821597693284,
          0.5563628463658707,
          0.09204794996115445,
          0.5305702320652781,
          1.2972359829146172,
          -0.463871893327936,
          -2.1652174380047438,
          1.3950847840966412,
          1.25889143735063,
          1.5414336680370502,
          -0.028970197857147585,
          -1.3978466191671446,
          -0.4684792022305753
         ]
        },
        {
         "line": {
          "color": "rgba(55, 128, 191, 1.0)",
          "dash": "solid",
          "shape": "linear",
          "width": 1.3
         },
         "mode": "lines",
         "name": "B",
         "text": "",
         "type": "scatter",
         "x": [
          0,
          1,
          2,
          3,
          4,
          5,
          6,
          7,
          8,
          9,
          10,
          11,
          12,
          13,
          14,
          15,
          16,
          17,
          18,
          19,
          20,
          21,
          22,
          23,
          24,
          25,
          26,
          27,
          28,
          29,
          30,
          31,
          32,
          33,
          34,
          35,
          36,
          37,
          38,
          39,
          40,
          41,
          42,
          43,
          44,
          45,
          46,
          47,
          48,
          49,
          50,
          51,
          52,
          53,
          54,
          55,
          56,
          57,
          58,
          59,
          60,
          61,
          62,
          63,
          64,
          65,
          66,
          67,
          68,
          69,
          70,
          71,
          72,
          73,
          74,
          75,
          76,
          77,
          78,
          79,
          80,
          81,
          82,
          83,
          84,
          85,
          86,
          87,
          88,
          89,
          90,
          91,
          92,
          93,
          94,
          95,
          96,
          97,
          98,
          99
         ],
         "y": [
          1.6078167885510994,
          0.5152505787154171,
          -1.732949449951613,
          -0.036945780938364245,
          -1.3551933367335174,
          0.5319072842514352,
          1.0697347319830688,
          -0.6363260721476971,
          -0.20643662573362598,
          -1.7853998237979154,
          -0.43298489994161915,
          -0.8220605061383672,
          -1.0416535261667546,
          -0.4436110742323203,
          -0.8849717239394095,
          0.82462023527033,
          -0.4511224528127728,
          -2.1521002255906314,
          0.6885075559620766,
          0.9619774031436268,
          -1.601282319516909,
          -1.0187221532576956,
          -0.37185922386743625,
          0.6327713965426722,
          0.6958040276700553,
          0.29576441234029416,
          0.1870375683798816,
          0.21216307603497175,
          -0.46826979686342507,
          0.5265808883122749,
          1.655233754967969,
          0.7847270184177594,
          -0.06524297551623097,
          -0.9050608073638097,
          -0.7568972725338796,
          1.8504073752072894,
          -1.3319273680622228,
          1.025323553637435,
          -1.1929053119674793,
          0.37609355139190637,
          -0.6931871349019727,
          -0.26788738816063384,
          0.6452730391434862,
          -0.6410794715938621,
          0.33601850854039045,
          1.062834980137413,
          -0.13797130277316041,
          -0.3472728358101834,
          -1.9295221797591842,
          0.688887327408491,
          -1.0059879927275013,
          -0.050838321432649304,
          2.810881273367778,
          1.5703602950010316,
          0.6688810634008149,
          -1.6495902709058397,
          0.6370014643522423,
          -0.6926906557976084,
          -1.7365465452273703,
          -1.3391600076707793,
          -2.403423131134129,
          -1.8354091651813158,
          0.6708773143428056,
          0.879946117968798,
          0.8808745167598088,
          0.9741666663770794,
          -0.8874965115923111,
          -0.12403926065668726,
          1.4859109330104527,
          0.02280886808632988,
          -1.1667746795991663,
          -0.978686343644049,
          -1.4082136206191738,
          -1.2271331376969463,
          -1.2464437921438107,
          -0.4073132003975011,
          1.3898802816681095,
          0.9273059334446105,
          0.39645412550268183,
          0.3916040681168114,
          1.7819762431059742,
          2.7889896150765257,
          -0.010367608731995102,
          -0.8704789634274461,
          2.2738070570513167,
          -0.723458871193624,
          -0.8191102049372018,
          0.46412661059334726,
          0.11437839854593614,
          0.8480965711153516,
          -0.4528516451940342,
          1.4002905273470163,
          -0.6214770108332643,
          0.25299312347365505,
          -2.538120488901347,
          -0.7338163679908073,
          -0.8294853006575363,
          -0.7021157089248629,
          1.258967519250579,
          -0.7460926635527159
         ]
        },
        {
         "line": {
          "color": "rgba(50, 171, 96, 1.0)",
          "dash": "solid",
          "shape": "linear",
          "width": 1.3
         },
         "mode": "lines",
         "name": "C",
         "text": "",
         "type": "scatter",
         "x": [
          0,
          1,
          2,
          3,
          4,
          5,
          6,
          7,
          8,
          9,
          10,
          11,
          12,
          13,
          14,
          15,
          16,
          17,
          18,
          19,
          20,
          21,
          22,
          23,
          24,
          25,
          26,
          27,
          28,
          29,
          30,
          31,
          32,
          33,
          34,
          35,
          36,
          37,
          38,
          39,
          40,
          41,
          42,
          43,
          44,
          45,
          46,
          47,
          48,
          49,
          50,
          51,
          52,
          53,
          54,
          55,
          56,
          57,
          58,
          59,
          60,
          61,
          62,
          63,
          64,
          65,
          66,
          67,
          68,
          69,
          70,
          71,
          72,
          73,
          74,
          75,
          76,
          77,
          78,
          79,
          80,
          81,
          82,
          83,
          84,
          85,
          86,
          87,
          88,
          89,
          90,
          91,
          92,
          93,
          94,
          95,
          96,
          97,
          98,
          99
         ],
         "y": [
          -0.40893659238493957,
          0.5284695897665097,
          -1.3499824366425284,
          0.20947320867091684,
          0.06313788697464681,
          0.2240257478807152,
          1.3084846093844364,
          -0.09769227025138068,
          3.0269187001332876,
          -0.5550378168902134,
          0.32298539684628774,
          -0.9811850106703884,
          0.1877224155419993,
          -0.4476847275857444,
          -0.043444973539220784,
          -0.8568041222728902,
          0.6678292272658113,
          -0.5541880396613528,
          0.17231564672572366,
          -2.347037685253554,
          1.7901696378077814,
          -0.13873703056336914,
          1.3703117808680336,
          -1.09557404652743,
          -0.840483658635545,
          -0.0782207435962417,
          -2.4901813063590845,
          0.7954577690986171,
          0.7563678500304583,
          0.8282810592239327,
          1.3736171084097888,
          -0.23051949047893924,
          -0.7500511202208137,
          0.4657791581196217,
          -0.694317760791448,
          0.5323281945892034,
          1.0744949799025156,
          -0.5757996261723936,
          0.6175531749144147,
          -1.3308095173861523,
          -0.3041411470782431,
          -0.32321262916407295,
          1.3451360503158794,
          -0.22258765641468636,
          0.46276086443159536,
          1.305473094444253,
          -1.2557224375752478,
          -0.10735439230579584,
          0.15539669136081516,
          0.2454287275781737,
          0.709062744071629,
          -1.0189306817494845,
          -2.8313600195386575,
          -1.2898923383254388,
          -0.3335219739601589,
          -0.4645270990903758,
          -0.8103778869906966,
          1.777486986773079,
          -1.3100053866097574,
          -0.0061975588456562435,
          -0.3169815636267048,
          0.9884135602991152,
          -1.311183355018789,
          1.3503314844721983,
          -1.176715892945502,
          0.5248186280331063,
          0.7445747839308063,
          1.6061207522399603,
          0.8945753050864336,
          -1.9802230667354683,
          0.9670175266026474,
          -0.38313088682029106,
          0.11504863104212563,
          0.2578355137559848,
          -1.0821243444171453,
          -0.09448353023062106,
          2.280294479006378,
          -0.17323267358745653,
          1.576825520990779,
          -1.1218075790792321,
          0.963955846773198,
          -0.534160103149209,
          -0.47914281610558834,
          -0.632605606970785,
          1.6854458923256828,
          -0.7524602936912916,
          -0.1503760974022031,
          0.32477971265012107,
          0.8838810141917546,
          -0.4830171405408817,
          0.4633496042189074,
          0.6629779705259863,
          -1.3091493510560799,
          0.4445862882224116,
          1.476563650171718,
          0.5203636349511526,
          -0.10072918007507821,
          0.6815092069551677,
          -1.6553484152033242,
          -0.5437242883934308
         ]
        },
        {
         "line": {
          "color": "rgba(128, 0, 128, 1.0)",
          "dash": "solid",
          "shape": "linear",
          "width": 1.3
         },
         "mode": "lines",
         "name": "D",
         "text": "",
         "type": "scatter",
         "x": [
          0,
          1,
          2,
          3,
          4,
          5,
          6,
          7,
          8,
          9,
          10,
          11,
          12,
          13,
          14,
          15,
          16,
          17,
          18,
          19,
          20,
          21,
          22,
          23,
          24,
          25,
          26,
          27,
          28,
          29,
          30,
          31,
          32,
          33,
          34,
          35,
          36,
          37,
          38,
          39,
          40,
          41,
          42,
          43,
          44,
          45,
          46,
          47,
          48,
          49,
          50,
          51,
          52,
          53,
          54,
          55,
          56,
          57,
          58,
          59,
          60,
          61,
          62,
          63,
          64,
          65,
          66,
          67,
          68,
          69,
          70,
          71,
          72,
          73,
          74,
          75,
          76,
          77,
          78,
          79,
          80,
          81,
          82,
          83,
          84,
          85,
          86,
          87,
          88,
          89,
          90,
          91,
          92,
          93,
          94,
          95,
          96,
          97,
          98,
          99
         ],
         "y": [
          -0.28253664986165766,
          -0.33904390394274625,
          -0.6047680721327735,
          0.6319507291868012,
          0.08021080511288874,
          -0.97896691342991,
          0.4369547333665759,
          -0.7985562934630596,
          0.32355756348101233,
          0.17854988139187036,
          -0.39085134916630543,
          -1.5321370768705596,
          0.5861424543076836,
          2.715835390300358,
          -1.3640206736326035,
          0.053510413565636135,
          0.23066249339653072,
          -0.9000073817487739,
          0.9819838235425686,
          -1.744346769757433,
          -1.476470196762409,
          0.21746980135314714,
          -0.34197060462713014,
          0.30613483379581946,
          0.1580369293672214,
          1.6409417618581168,
          -0.6236935701276197,
          -0.4991547268115103,
          0.7647031685804507,
          -2.057966117769427,
          0.07245698303131398,
          -1.997422627118517,
          -1.3578103866767408,
          -0.4588976279778724,
          -0.2454192395594232,
          0.6101007402398854,
          -0.40256956678416195,
          -0.45482856969035035,
          0.5081886564616441,
          -0.025645677346603758,
          1.0873209343675125,
          -0.4837540231899125,
          -1.3658193840021244,
          0.8709806074409643,
          0.5227006631101526,
          0.49932167167711755,
          -0.1584601394811962,
          -1.272619741579752,
          0.08812063144630929,
          -2.4919502989164677,
          0.4615886663651887,
          1.5964300278251782,
          -0.2333403880597775,
          -1.4766687191490893,
          -0.829216493997643,
          2.0719915614687685,
          0.598632674767342,
          0.13311083910793248,
          -0.32805792901128833,
          0.6355408144030831,
          0.046021443643492484,
          1.2005067852810665,
          0.1586335546924041,
          -0.15157832821376174,
          -0.46904019426122073,
          0.3682667349324615,
          1.0455848008493762,
          0.6853331966485996,
          -2.3955059365107045,
          -0.4746208167669859,
          -1.4442781106443496,
          -1.235846616259877,
          0.7634956216937328,
          0.36410298923273937,
          0.2819504634022776,
          0.6214448156567906,
          0.5799914555970304,
          -0.6312564703999389,
          -0.39107502929744736,
          1.3765104283778724,
          0.1453355977174186,
          0.4025782781105333,
          -1.0490846276753765,
          0.08067141982119372,
          0.042136280705729286,
          0.9800814899045366,
          0.09139322288024926,
          0.5173223544429093,
          -0.4522899727238104,
          1.0364086713401168,
          1.4337379459739363,
          -0.3459998925737082,
          0.6517389335619018,
          -0.7458190969260151,
          -1.3743874310232795,
          -1.2824336424269147,
          -0.4871339431225125,
          -1.725912694868446,
          0.13081866800058184,
          -2.6935481159733787
         ]
        }
       ],
       "layout": {
        "legend": {
         "bgcolor": "#F5F6F9",
         "font": {
          "color": "#4D5663"
         }
        },
        "paper_bgcolor": "#F5F6F9",
        "plot_bgcolor": "#F5F6F9",
        "template": {
         "data": {
          "bar": [
           {
            "error_x": {
             "color": "#2a3f5f"
            },
            "error_y": {
             "color": "#2a3f5f"
            },
            "marker": {
             "line": {
              "color": "#E5ECF6",
              "width": 0.5
             }
            },
            "type": "bar"
           }
          ],
          "barpolar": [
           {
            "marker": {
             "line": {
              "color": "#E5ECF6",
              "width": 0.5
             }
            },
            "type": "barpolar"
           }
          ],
          "carpet": [
           {
            "aaxis": {
             "endlinecolor": "#2a3f5f",
             "gridcolor": "white",
             "linecolor": "white",
             "minorgridcolor": "white",
             "startlinecolor": "#2a3f5f"
            },
            "baxis": {
             "endlinecolor": "#2a3f5f",
             "gridcolor": "white",
             "linecolor": "white",
             "minorgridcolor": "white",
             "startlinecolor": "#2a3f5f"
            },
            "type": "carpet"
           }
          ],
          "choropleth": [
           {
            "colorbar": {
             "outlinewidth": 0,
             "ticks": ""
            },
            "type": "choropleth"
           }
          ],
          "contour": [
           {
            "colorbar": {
             "outlinewidth": 0,
             "ticks": ""
            },
            "colorscale": [
             [
              0,
              "#0d0887"
             ],
             [
              0.1111111111111111,
              "#46039f"
             ],
             [
              0.2222222222222222,
              "#7201a8"
             ],
             [
              0.3333333333333333,
              "#9c179e"
             ],
             [
              0.4444444444444444,
              "#bd3786"
             ],
             [
              0.5555555555555556,
              "#d8576b"
             ],
             [
              0.6666666666666666,
              "#ed7953"
             ],
             [
              0.7777777777777778,
              "#fb9f3a"
             ],
             [
              0.8888888888888888,
              "#fdca26"
             ],
             [
              1,
              "#f0f921"
             ]
            ],
            "type": "contour"
           }
          ],
          "contourcarpet": [
           {
            "colorbar": {
             "outlinewidth": 0,
             "ticks": ""
            },
            "type": "contourcarpet"
           }
          ],
          "heatmap": [
           {
            "colorbar": {
             "outlinewidth": 0,
             "ticks": ""
            },
            "colorscale": [
             [
              0,
              "#0d0887"
             ],
             [
              0.1111111111111111,
              "#46039f"
             ],
             [
              0.2222222222222222,
              "#7201a8"
             ],
             [
              0.3333333333333333,
              "#9c179e"
             ],
             [
              0.4444444444444444,
              "#bd3786"
             ],
             [
              0.5555555555555556,
              "#d8576b"
             ],
             [
              0.6666666666666666,
              "#ed7953"
             ],
             [
              0.7777777777777778,
              "#fb9f3a"
             ],
             [
              0.8888888888888888,
              "#fdca26"
             ],
             [
              1,
              "#f0f921"
             ]
            ],
            "type": "heatmap"
           }
          ],
          "heatmapgl": [
           {
            "colorbar": {
             "outlinewidth": 0,
             "ticks": ""
            },
            "colorscale": [
             [
              0,
              "#0d0887"
             ],
             [
              0.1111111111111111,
              "#46039f"
             ],
             [
              0.2222222222222222,
              "#7201a8"
             ],
             [
              0.3333333333333333,
              "#9c179e"
             ],
             [
              0.4444444444444444,
              "#bd3786"
             ],
             [
              0.5555555555555556,
              "#d8576b"
             ],
             [
              0.6666666666666666,
              "#ed7953"
             ],
             [
              0.7777777777777778,
              "#fb9f3a"
             ],
             [
              0.8888888888888888,
              "#fdca26"
             ],
             [
              1,
              "#f0f921"
             ]
            ],
            "type": "heatmapgl"
           }
          ],
          "histogram": [
           {
            "marker": {
             "colorbar": {
              "outlinewidth": 0,
              "ticks": ""
             }
            },
            "type": "histogram"
           }
          ],
          "histogram2d": [
           {
            "colorbar": {
             "outlinewidth": 0,
             "ticks": ""
            },
            "colorscale": [
             [
              0,
              "#0d0887"
             ],
             [
              0.1111111111111111,
              "#46039f"
             ],
             [
              0.2222222222222222,
              "#7201a8"
             ],
             [
              0.3333333333333333,
              "#9c179e"
             ],
             [
              0.4444444444444444,
              "#bd3786"
             ],
             [
              0.5555555555555556,
              "#d8576b"
             ],
             [
              0.6666666666666666,
              "#ed7953"
             ],
             [
              0.7777777777777778,
              "#fb9f3a"
             ],
             [
              0.8888888888888888,
              "#fdca26"
             ],
             [
              1,
              "#f0f921"
             ]
            ],
            "type": "histogram2d"
           }
          ],
          "histogram2dcontour": [
           {
            "colorbar": {
             "outlinewidth": 0,
             "ticks": ""
            },
            "colorscale": [
             [
              0,
              "#0d0887"
             ],
             [
              0.1111111111111111,
              "#46039f"
             ],
             [
              0.2222222222222222,
              "#7201a8"
             ],
             [
              0.3333333333333333,
              "#9c179e"
             ],
             [
              0.4444444444444444,
              "#bd3786"
             ],
             [
              0.5555555555555556,
              "#d8576b"
             ],
             [
              0.6666666666666666,
              "#ed7953"
             ],
             [
              0.7777777777777778,
              "#fb9f3a"
             ],
             [
              0.8888888888888888,
              "#fdca26"
             ],
             [
              1,
              "#f0f921"
             ]
            ],
            "type": "histogram2dcontour"
           }
          ],
          "mesh3d": [
           {
            "colorbar": {
             "outlinewidth": 0,
             "ticks": ""
            },
            "type": "mesh3d"
           }
          ],
          "parcoords": [
           {
            "line": {
             "colorbar": {
              "outlinewidth": 0,
              "ticks": ""
             }
            },
            "type": "parcoords"
           }
          ],
          "pie": [
           {
            "automargin": true,
            "type": "pie"
           }
          ],
          "scatter": [
           {
            "marker": {
             "colorbar": {
              "outlinewidth": 0,
              "ticks": ""
             }
            },
            "type": "scatter"
           }
          ],
          "scatter3d": [
           {
            "line": {
             "colorbar": {
              "outlinewidth": 0,
              "ticks": ""
             }
            },
            "marker": {
             "colorbar": {
              "outlinewidth": 0,
              "ticks": ""
             }
            },
            "type": "scatter3d"
           }
          ],
          "scattercarpet": [
           {
            "marker": {
             "colorbar": {
              "outlinewidth": 0,
              "ticks": ""
             }
            },
            "type": "scattercarpet"
           }
          ],
          "scattergeo": [
           {
            "marker": {
             "colorbar": {
              "outlinewidth": 0,
              "ticks": ""
             }
            },
            "type": "scattergeo"
           }
          ],
          "scattergl": [
           {
            "marker": {
             "colorbar": {
              "outlinewidth": 0,
              "ticks": ""
             }
            },
            "type": "scattergl"
           }
          ],
          "scattermapbox": [
           {
            "marker": {
             "colorbar": {
              "outlinewidth": 0,
              "ticks": ""
             }
            },
            "type": "scattermapbox"
           }
          ],
          "scatterpolar": [
           {
            "marker": {
             "colorbar": {
              "outlinewidth": 0,
              "ticks": ""
             }
            },
            "type": "scatterpolar"
           }
          ],
          "scatterpolargl": [
           {
            "marker": {
             "colorbar": {
              "outlinewidth": 0,
              "ticks": ""
             }
            },
            "type": "scatterpolargl"
           }
          ],
          "scatterternary": [
           {
            "marker": {
             "colorbar": {
              "outlinewidth": 0,
              "ticks": ""
             }
            },
            "type": "scatterternary"
           }
          ],
          "surface": [
           {
            "colorbar": {
             "outlinewidth": 0,
             "ticks": ""
            },
            "colorscale": [
             [
              0,
              "#0d0887"
             ],
             [
              0.1111111111111111,
              "#46039f"
             ],
             [
              0.2222222222222222,
              "#7201a8"
             ],
             [
              0.3333333333333333,
              "#9c179e"
             ],
             [
              0.4444444444444444,
              "#bd3786"
             ],
             [
              0.5555555555555556,
              "#d8576b"
             ],
             [
              0.6666666666666666,
              "#ed7953"
             ],
             [
              0.7777777777777778,
              "#fb9f3a"
             ],
             [
              0.8888888888888888,
              "#fdca26"
             ],
             [
              1,
              "#f0f921"
             ]
            ],
            "type": "surface"
           }
          ],
          "table": [
           {
            "cells": {
             "fill": {
              "color": "#EBF0F8"
             },
             "line": {
              "color": "white"
             }
            },
            "header": {
             "fill": {
              "color": "#C8D4E3"
             },
             "line": {
              "color": "white"
             }
            },
            "type": "table"
           }
          ]
         },
         "layout": {
          "annotationdefaults": {
           "arrowcolor": "#2a3f5f",
           "arrowhead": 0,
           "arrowwidth": 1
          },
          "coloraxis": {
           "colorbar": {
            "outlinewidth": 0,
            "ticks": ""
           }
          },
          "colorscale": {
           "diverging": [
            [
             0,
             "#8e0152"
            ],
            [
             0.1,
             "#c51b7d"
            ],
            [
             0.2,
             "#de77ae"
            ],
            [
             0.3,
             "#f1b6da"
            ],
            [
             0.4,
             "#fde0ef"
            ],
            [
             0.5,
             "#f7f7f7"
            ],
            [
             0.6,
             "#e6f5d0"
            ],
            [
             0.7,
             "#b8e186"
            ],
            [
             0.8,
             "#7fbc41"
            ],
            [
             0.9,
             "#4d9221"
            ],
            [
             1,
             "#276419"
            ]
           ],
           "sequential": [
            [
             0,
             "#0d0887"
            ],
            [
             0.1111111111111111,
             "#46039f"
            ],
            [
             0.2222222222222222,
             "#7201a8"
            ],
            [
             0.3333333333333333,
             "#9c179e"
            ],
            [
             0.4444444444444444,
             "#bd3786"
            ],
            [
             0.5555555555555556,
             "#d8576b"
            ],
            [
             0.6666666666666666,
             "#ed7953"
            ],
            [
             0.7777777777777778,
             "#fb9f3a"
            ],
            [
             0.8888888888888888,
             "#fdca26"
            ],
            [
             1,
             "#f0f921"
            ]
           ],
           "sequentialminus": [
            [
             0,
             "#0d0887"
            ],
            [
             0.1111111111111111,
             "#46039f"
            ],
            [
             0.2222222222222222,
             "#7201a8"
            ],
            [
             0.3333333333333333,
             "#9c179e"
            ],
            [
             0.4444444444444444,
             "#bd3786"
            ],
            [
             0.5555555555555556,
             "#d8576b"
            ],
            [
             0.6666666666666666,
             "#ed7953"
            ],
            [
             0.7777777777777778,
             "#fb9f3a"
            ],
            [
             0.8888888888888888,
             "#fdca26"
            ],
            [
             1,
             "#f0f921"
            ]
           ]
          },
          "colorway": [
           "#636efa",
           "#EF553B",
           "#00cc96",
           "#ab63fa",
           "#FFA15A",
           "#19d3f3",
           "#FF6692",
           "#B6E880",
           "#FF97FF",
           "#FECB52"
          ],
          "font": {
           "color": "#2a3f5f"
          },
          "geo": {
           "bgcolor": "white",
           "lakecolor": "white",
           "landcolor": "#E5ECF6",
           "showlakes": true,
           "showland": true,
           "subunitcolor": "white"
          },
          "hoverlabel": {
           "align": "left"
          },
          "hovermode": "closest",
          "mapbox": {
           "style": "light"
          },
          "paper_bgcolor": "white",
          "plot_bgcolor": "#E5ECF6",
          "polar": {
           "angularaxis": {
            "gridcolor": "white",
            "linecolor": "white",
            "ticks": ""
           },
           "bgcolor": "#E5ECF6",
           "radialaxis": {
            "gridcolor": "white",
            "linecolor": "white",
            "ticks": ""
           }
          },
          "scene": {
           "xaxis": {
            "backgroundcolor": "#E5ECF6",
            "gridcolor": "white",
            "gridwidth": 2,
            "linecolor": "white",
            "showbackground": true,
            "ticks": "",
            "zerolinecolor": "white"
           },
           "yaxis": {
            "backgroundcolor": "#E5ECF6",
            "gridcolor": "white",
            "gridwidth": 2,
            "linecolor": "white",
            "showbackground": true,
            "ticks": "",
            "zerolinecolor": "white"
           },
           "zaxis": {
            "backgroundcolor": "#E5ECF6",
            "gridcolor": "white",
            "gridwidth": 2,
            "linecolor": "white",
            "showbackground": true,
            "ticks": "",
            "zerolinecolor": "white"
           }
          },
          "shapedefaults": {
           "line": {
            "color": "#2a3f5f"
           }
          },
          "ternary": {
           "aaxis": {
            "gridcolor": "white",
            "linecolor": "white",
            "ticks": ""
           },
           "baxis": {
            "gridcolor": "white",
            "linecolor": "white",
            "ticks": ""
           },
           "bgcolor": "#E5ECF6",
           "caxis": {
            "gridcolor": "white",
            "linecolor": "white",
            "ticks": ""
           }
          },
          "title": {
           "x": 0.05
          },
          "xaxis": {
           "automargin": true,
           "gridcolor": "white",
           "linecolor": "white",
           "ticks": "",
           "title": {
            "standoff": 15
           },
           "zerolinecolor": "white",
           "zerolinewidth": 2
          },
          "yaxis": {
           "automargin": true,
           "gridcolor": "white",
           "linecolor": "white",
           "ticks": "",
           "title": {
            "standoff": 15
           },
           "zerolinecolor": "white",
           "zerolinewidth": 2
          }
         }
        },
        "title": {
         "font": {
          "color": "#4D5663"
         }
        },
        "xaxis": {
         "gridcolor": "#E1E5ED",
         "showgrid": true,
         "tickfont": {
          "color": "#4D5663"
         },
         "title": {
          "font": {
           "color": "#4D5663"
          },
          "text": ""
         },
         "zerolinecolor": "#E1E5ED"
        },
        "yaxis": {
         "gridcolor": "#E1E5ED",
         "showgrid": true,
         "tickfont": {
          "color": "#4D5663"
         },
         "title": {
          "font": {
           "color": "#4D5663"
          },
          "text": ""
         },
         "zerolinecolor": "#E1E5ED"
        }
       }
      },
      "text/html": [
       "<div>\n",
       "        \n",
       "        \n",
       "            <div id=\"1767caac-8372-44ef-b082-7ac9182bbdfb\" class=\"plotly-graph-div\" style=\"height:525px; width:100%;\"></div>\n",
       "            <script type=\"text/javascript\">\n",
       "                require([\"plotly\"], function(Plotly) {\n",
       "                    window.PLOTLYENV=window.PLOTLYENV || {};\n",
       "                    window.PLOTLYENV.BASE_URL='https://plot.ly';\n",
       "                    \n",
       "                if (document.getElementById(\"1767caac-8372-44ef-b082-7ac9182bbdfb\")) {\n",
       "                    Plotly.newPlot(\n",
       "                        '1767caac-8372-44ef-b082-7ac9182bbdfb',\n",
       "                        [{\"line\": {\"color\": \"rgba(255, 153, 51, 1.0)\", \"dash\": \"solid\", \"shape\": \"linear\", \"width\": 1.3}, \"mode\": \"lines\", \"name\": \"A\", \"text\": \"\", \"type\": \"scatter\", \"x\": [0, 1, 2, 3, 4, 5, 6, 7, 8, 9, 10, 11, 12, 13, 14, 15, 16, 17, 18, 19, 20, 21, 22, 23, 24, 25, 26, 27, 28, 29, 30, 31, 32, 33, 34, 35, 36, 37, 38, 39, 40, 41, 42, 43, 44, 45, 46, 47, 48, 49, 50, 51, 52, 53, 54, 55, 56, 57, 58, 59, 60, 61, 62, 63, 64, 65, 66, 67, 68, 69, 70, 71, 72, 73, 74, 75, 76, 77, 78, 79, 80, 81, 82, 83, 84, 85, 86, 87, 88, 89, 90, 91, 92, 93, 94, 95, 96, 97, 98, 99], \"y\": [0.3410614466753071, -1.1035524050054597, 0.01497802970479452, -0.4923405339752979, -0.711740649467883, 0.7611113231300444, -0.32899989496145043, -1.0003056778373516, -1.144108410930388, -0.7187659800223282, -0.8827891809503372, 0.16527534978219205, 0.33791501376902755, 0.2845952287777885, -2.031762480119184, 0.009561136766891088, -0.37499414498681033, 0.7436276548650762, -0.08613852640362644, -1.788868487410151, 0.6091820625025955, -0.540546683835764, -1.3830705697321766, -0.22776248598870943, 0.04791488496871383, 0.14734661797990722, 0.6837492096990183, 0.4909535703078963, -0.5763766572692686, 1.7556808706923992, -0.21643572049270607, -0.08138650173686049, -0.41988696887517796, 0.5896403672067946, -0.15796893354889477, 0.03098947180102704, -1.1741362797157253, -0.5288212423479839, -1.0461934563699007, -1.8047730897321894, -0.18922230488345462, 0.4448399483986472, 0.09802387104390282, 0.3675012254291077, -2.199418690052648, 0.9672627288932981, -1.6104735507037404, 1.0793883903440407, -1.7442712770335072, -0.2006977228942966, 1.1604057740322227, 0.8380871794918501, 0.3434621276866279, -1.4104992622520467, 1.311238947350882, 0.9412950281879889, -0.3350723872072907, 0.6951180795417036, -0.9121582740527129, 0.18765291170273096, -0.690685295257295, 0.8852386085818393, 0.4317636746726903, -0.7504024305600105, -0.39335965300494274, 0.3694506068850978, -0.10252111873440109, 0.49884624438508196, 0.055394235359639964, 0.011792637052425847, -0.8082790203993668, -1.3615811568324008, -0.4873899268497068, 0.38309544271604257, 0.4242660099135097, 2.2187119574585603, -0.01959273839618212, -0.8646247657702009, 0.08787197959542621, -0.1154797457890154, 0.33140686940164854, -0.6196352065642001, 0.3227781557323908, 0.2447772792318997, -0.9529620548470774, -1.1779499157234683, 0.362052923601659, 0.36545821597693284, 0.5563628463658707, 0.09204794996115445, 0.5305702320652781, 1.2972359829146172, -0.463871893327936, -2.1652174380047438, 1.3950847840966412, 1.25889143735063, 1.5414336680370502, -0.028970197857147585, -1.3978466191671446, -0.4684792022305753]}, {\"line\": {\"color\": \"rgba(55, 128, 191, 1.0)\", \"dash\": \"solid\", \"shape\": \"linear\", \"width\": 1.3}, \"mode\": \"lines\", \"name\": \"B\", \"text\": \"\", \"type\": \"scatter\", \"x\": [0, 1, 2, 3, 4, 5, 6, 7, 8, 9, 10, 11, 12, 13, 14, 15, 16, 17, 18, 19, 20, 21, 22, 23, 24, 25, 26, 27, 28, 29, 30, 31, 32, 33, 34, 35, 36, 37, 38, 39, 40, 41, 42, 43, 44, 45, 46, 47, 48, 49, 50, 51, 52, 53, 54, 55, 56, 57, 58, 59, 60, 61, 62, 63, 64, 65, 66, 67, 68, 69, 70, 71, 72, 73, 74, 75, 76, 77, 78, 79, 80, 81, 82, 83, 84, 85, 86, 87, 88, 89, 90, 91, 92, 93, 94, 95, 96, 97, 98, 99], \"y\": [1.6078167885510994, 0.5152505787154171, -1.732949449951613, -0.036945780938364245, -1.3551933367335174, 0.5319072842514352, 1.0697347319830688, -0.6363260721476971, -0.20643662573362598, -1.7853998237979154, -0.43298489994161915, -0.8220605061383672, -1.0416535261667546, -0.4436110742323203, -0.8849717239394095, 0.82462023527033, -0.4511224528127728, -2.1521002255906314, 0.6885075559620766, 0.9619774031436268, -1.601282319516909, -1.0187221532576956, -0.37185922386743625, 0.6327713965426722, 0.6958040276700553, 0.29576441234029416, 0.1870375683798816, 0.21216307603497175, -0.46826979686342507, 0.5265808883122749, 1.655233754967969, 0.7847270184177594, -0.06524297551623097, -0.9050608073638097, -0.7568972725338796, 1.8504073752072894, -1.3319273680622228, 1.025323553637435, -1.1929053119674793, 0.37609355139190637, -0.6931871349019727, -0.26788738816063384, 0.6452730391434862, -0.6410794715938621, 0.33601850854039045, 1.062834980137413, -0.13797130277316041, -0.3472728358101834, -1.9295221797591842, 0.688887327408491, -1.0059879927275013, -0.050838321432649304, 2.810881273367778, 1.5703602950010316, 0.6688810634008149, -1.6495902709058397, 0.6370014643522423, -0.6926906557976084, -1.7365465452273703, -1.3391600076707793, -2.403423131134129, -1.8354091651813158, 0.6708773143428056, 0.879946117968798, 0.8808745167598088, 0.9741666663770794, -0.8874965115923111, -0.12403926065668726, 1.4859109330104527, 0.02280886808632988, -1.1667746795991663, -0.978686343644049, -1.4082136206191738, -1.2271331376969463, -1.2464437921438107, -0.4073132003975011, 1.3898802816681095, 0.9273059334446105, 0.39645412550268183, 0.3916040681168114, 1.7819762431059742, 2.7889896150765257, -0.010367608731995102, -0.8704789634274461, 2.2738070570513167, -0.723458871193624, -0.8191102049372018, 0.46412661059334726, 0.11437839854593614, 0.8480965711153516, -0.4528516451940342, 1.4002905273470163, -0.6214770108332643, 0.25299312347365505, -2.538120488901347, -0.7338163679908073, -0.8294853006575363, -0.7021157089248629, 1.258967519250579, -0.7460926635527159]}, {\"line\": {\"color\": \"rgba(50, 171, 96, 1.0)\", \"dash\": \"solid\", \"shape\": \"linear\", \"width\": 1.3}, \"mode\": \"lines\", \"name\": \"C\", \"text\": \"\", \"type\": \"scatter\", \"x\": [0, 1, 2, 3, 4, 5, 6, 7, 8, 9, 10, 11, 12, 13, 14, 15, 16, 17, 18, 19, 20, 21, 22, 23, 24, 25, 26, 27, 28, 29, 30, 31, 32, 33, 34, 35, 36, 37, 38, 39, 40, 41, 42, 43, 44, 45, 46, 47, 48, 49, 50, 51, 52, 53, 54, 55, 56, 57, 58, 59, 60, 61, 62, 63, 64, 65, 66, 67, 68, 69, 70, 71, 72, 73, 74, 75, 76, 77, 78, 79, 80, 81, 82, 83, 84, 85, 86, 87, 88, 89, 90, 91, 92, 93, 94, 95, 96, 97, 98, 99], \"y\": [-0.40893659238493957, 0.5284695897665097, -1.3499824366425284, 0.20947320867091684, 0.06313788697464681, 0.2240257478807152, 1.3084846093844364, -0.09769227025138068, 3.0269187001332876, -0.5550378168902134, 0.32298539684628774, -0.9811850106703884, 0.1877224155419993, -0.4476847275857444, -0.043444973539220784, -0.8568041222728902, 0.6678292272658113, -0.5541880396613528, 0.17231564672572366, -2.347037685253554, 1.7901696378077814, -0.13873703056336914, 1.3703117808680336, -1.09557404652743, -0.840483658635545, -0.0782207435962417, -2.4901813063590845, 0.7954577690986171, 0.7563678500304583, 0.8282810592239327, 1.3736171084097888, -0.23051949047893924, -0.7500511202208137, 0.4657791581196217, -0.694317760791448, 0.5323281945892034, 1.0744949799025156, -0.5757996261723936, 0.6175531749144147, -1.3308095173861523, -0.3041411470782431, -0.32321262916407295, 1.3451360503158794, -0.22258765641468636, 0.46276086443159536, 1.305473094444253, -1.2557224375752478, -0.10735439230579584, 0.15539669136081516, 0.2454287275781737, 0.709062744071629, -1.0189306817494845, -2.8313600195386575, -1.2898923383254388, -0.3335219739601589, -0.4645270990903758, -0.8103778869906966, 1.777486986773079, -1.3100053866097574, -0.0061975588456562435, -0.3169815636267048, 0.9884135602991152, -1.311183355018789, 1.3503314844721983, -1.176715892945502, 0.5248186280331063, 0.7445747839308063, 1.6061207522399603, 0.8945753050864336, -1.9802230667354683, 0.9670175266026474, -0.38313088682029106, 0.11504863104212563, 0.2578355137559848, -1.0821243444171453, -0.09448353023062106, 2.280294479006378, -0.17323267358745653, 1.576825520990779, -1.1218075790792321, 0.963955846773198, -0.534160103149209, -0.47914281610558834, -0.632605606970785, 1.6854458923256828, -0.7524602936912916, -0.1503760974022031, 0.32477971265012107, 0.8838810141917546, -0.4830171405408817, 0.4633496042189074, 0.6629779705259863, -1.3091493510560799, 0.4445862882224116, 1.476563650171718, 0.5203636349511526, -0.10072918007507821, 0.6815092069551677, -1.6553484152033242, -0.5437242883934308]}, {\"line\": {\"color\": \"rgba(128, 0, 128, 1.0)\", \"dash\": \"solid\", \"shape\": \"linear\", \"width\": 1.3}, \"mode\": \"lines\", \"name\": \"D\", \"text\": \"\", \"type\": \"scatter\", \"x\": [0, 1, 2, 3, 4, 5, 6, 7, 8, 9, 10, 11, 12, 13, 14, 15, 16, 17, 18, 19, 20, 21, 22, 23, 24, 25, 26, 27, 28, 29, 30, 31, 32, 33, 34, 35, 36, 37, 38, 39, 40, 41, 42, 43, 44, 45, 46, 47, 48, 49, 50, 51, 52, 53, 54, 55, 56, 57, 58, 59, 60, 61, 62, 63, 64, 65, 66, 67, 68, 69, 70, 71, 72, 73, 74, 75, 76, 77, 78, 79, 80, 81, 82, 83, 84, 85, 86, 87, 88, 89, 90, 91, 92, 93, 94, 95, 96, 97, 98, 99], \"y\": [-0.28253664986165766, -0.33904390394274625, -0.6047680721327735, 0.6319507291868012, 0.08021080511288874, -0.97896691342991, 0.4369547333665759, -0.7985562934630596, 0.32355756348101233, 0.17854988139187036, -0.39085134916630543, -1.5321370768705596, 0.5861424543076836, 2.715835390300358, -1.3640206736326035, 0.053510413565636135, 0.23066249339653072, -0.9000073817487739, 0.9819838235425686, -1.744346769757433, -1.476470196762409, 0.21746980135314714, -0.34197060462713014, 0.30613483379581946, 0.1580369293672214, 1.6409417618581168, -0.6236935701276197, -0.4991547268115103, 0.7647031685804507, -2.057966117769427, 0.07245698303131398, -1.997422627118517, -1.3578103866767408, -0.4588976279778724, -0.2454192395594232, 0.6101007402398854, -0.40256956678416195, -0.45482856969035035, 0.5081886564616441, -0.025645677346603758, 1.0873209343675125, -0.4837540231899125, -1.3658193840021244, 0.8709806074409643, 0.5227006631101526, 0.49932167167711755, -0.1584601394811962, -1.272619741579752, 0.08812063144630929, -2.4919502989164677, 0.4615886663651887, 1.5964300278251782, -0.2333403880597775, -1.4766687191490893, -0.829216493997643, 2.0719915614687685, 0.598632674767342, 0.13311083910793248, -0.32805792901128833, 0.6355408144030831, 0.046021443643492484, 1.2005067852810665, 0.1586335546924041, -0.15157832821376174, -0.46904019426122073, 0.3682667349324615, 1.0455848008493762, 0.6853331966485996, -2.3955059365107045, -0.4746208167669859, -1.4442781106443496, -1.235846616259877, 0.7634956216937328, 0.36410298923273937, 0.2819504634022776, 0.6214448156567906, 0.5799914555970304, -0.6312564703999389, -0.39107502929744736, 1.3765104283778724, 0.1453355977174186, 0.4025782781105333, -1.0490846276753765, 0.08067141982119372, 0.042136280705729286, 0.9800814899045366, 0.09139322288024926, 0.5173223544429093, -0.4522899727238104, 1.0364086713401168, 1.4337379459739363, -0.3459998925737082, 0.6517389335619018, -0.7458190969260151, -1.3743874310232795, -1.2824336424269147, -0.4871339431225125, -1.725912694868446, 0.13081866800058184, -2.6935481159733787]}],\n",
       "                        {\"legend\": {\"bgcolor\": \"#F5F6F9\", \"font\": {\"color\": \"#4D5663\"}}, \"paper_bgcolor\": \"#F5F6F9\", \"plot_bgcolor\": \"#F5F6F9\", \"template\": {\"data\": {\"bar\": [{\"error_x\": {\"color\": \"#2a3f5f\"}, \"error_y\": {\"color\": \"#2a3f5f\"}, \"marker\": {\"line\": {\"color\": \"#E5ECF6\", \"width\": 0.5}}, \"type\": \"bar\"}], \"barpolar\": [{\"marker\": {\"line\": {\"color\": \"#E5ECF6\", \"width\": 0.5}}, \"type\": \"barpolar\"}], \"carpet\": [{\"aaxis\": {\"endlinecolor\": \"#2a3f5f\", \"gridcolor\": \"white\", \"linecolor\": \"white\", \"minorgridcolor\": \"white\", \"startlinecolor\": \"#2a3f5f\"}, \"baxis\": {\"endlinecolor\": \"#2a3f5f\", \"gridcolor\": \"white\", \"linecolor\": \"white\", \"minorgridcolor\": \"white\", \"startlinecolor\": \"#2a3f5f\"}, \"type\": \"carpet\"}], \"choropleth\": [{\"colorbar\": {\"outlinewidth\": 0, \"ticks\": \"\"}, \"type\": \"choropleth\"}], \"contour\": [{\"colorbar\": {\"outlinewidth\": 0, \"ticks\": \"\"}, \"colorscale\": [[0.0, \"#0d0887\"], [0.1111111111111111, \"#46039f\"], [0.2222222222222222, \"#7201a8\"], [0.3333333333333333, \"#9c179e\"], [0.4444444444444444, \"#bd3786\"], [0.5555555555555556, \"#d8576b\"], [0.6666666666666666, \"#ed7953\"], [0.7777777777777778, \"#fb9f3a\"], [0.8888888888888888, \"#fdca26\"], [1.0, \"#f0f921\"]], \"type\": \"contour\"}], \"contourcarpet\": [{\"colorbar\": {\"outlinewidth\": 0, \"ticks\": \"\"}, \"type\": \"contourcarpet\"}], \"heatmap\": [{\"colorbar\": {\"outlinewidth\": 0, \"ticks\": \"\"}, \"colorscale\": [[0.0, \"#0d0887\"], [0.1111111111111111, \"#46039f\"], [0.2222222222222222, \"#7201a8\"], [0.3333333333333333, \"#9c179e\"], [0.4444444444444444, \"#bd3786\"], [0.5555555555555556, \"#d8576b\"], [0.6666666666666666, \"#ed7953\"], [0.7777777777777778, \"#fb9f3a\"], [0.8888888888888888, \"#fdca26\"], [1.0, \"#f0f921\"]], \"type\": \"heatmap\"}], \"heatmapgl\": [{\"colorbar\": {\"outlinewidth\": 0, \"ticks\": \"\"}, \"colorscale\": [[0.0, \"#0d0887\"], [0.1111111111111111, \"#46039f\"], [0.2222222222222222, \"#7201a8\"], [0.3333333333333333, \"#9c179e\"], [0.4444444444444444, \"#bd3786\"], [0.5555555555555556, \"#d8576b\"], [0.6666666666666666, \"#ed7953\"], [0.7777777777777778, \"#fb9f3a\"], [0.8888888888888888, \"#fdca26\"], [1.0, \"#f0f921\"]], \"type\": \"heatmapgl\"}], \"histogram\": [{\"marker\": {\"colorbar\": {\"outlinewidth\": 0, \"ticks\": \"\"}}, \"type\": \"histogram\"}], \"histogram2d\": [{\"colorbar\": {\"outlinewidth\": 0, \"ticks\": \"\"}, \"colorscale\": [[0.0, \"#0d0887\"], [0.1111111111111111, \"#46039f\"], [0.2222222222222222, \"#7201a8\"], [0.3333333333333333, \"#9c179e\"], [0.4444444444444444, \"#bd3786\"], [0.5555555555555556, \"#d8576b\"], [0.6666666666666666, \"#ed7953\"], [0.7777777777777778, \"#fb9f3a\"], [0.8888888888888888, \"#fdca26\"], [1.0, \"#f0f921\"]], \"type\": \"histogram2d\"}], \"histogram2dcontour\": [{\"colorbar\": {\"outlinewidth\": 0, \"ticks\": \"\"}, \"colorscale\": [[0.0, \"#0d0887\"], [0.1111111111111111, \"#46039f\"], [0.2222222222222222, \"#7201a8\"], [0.3333333333333333, \"#9c179e\"], [0.4444444444444444, \"#bd3786\"], [0.5555555555555556, \"#d8576b\"], [0.6666666666666666, \"#ed7953\"], [0.7777777777777778, \"#fb9f3a\"], [0.8888888888888888, \"#fdca26\"], [1.0, \"#f0f921\"]], \"type\": \"histogram2dcontour\"}], \"mesh3d\": [{\"colorbar\": {\"outlinewidth\": 0, \"ticks\": \"\"}, \"type\": \"mesh3d\"}], \"parcoords\": [{\"line\": {\"colorbar\": {\"outlinewidth\": 0, \"ticks\": \"\"}}, \"type\": \"parcoords\"}], \"pie\": [{\"automargin\": true, \"type\": \"pie\"}], \"scatter\": [{\"marker\": {\"colorbar\": {\"outlinewidth\": 0, \"ticks\": \"\"}}, \"type\": \"scatter\"}], \"scatter3d\": [{\"line\": {\"colorbar\": {\"outlinewidth\": 0, \"ticks\": \"\"}}, \"marker\": {\"colorbar\": {\"outlinewidth\": 0, \"ticks\": \"\"}}, \"type\": \"scatter3d\"}], \"scattercarpet\": [{\"marker\": {\"colorbar\": {\"outlinewidth\": 0, \"ticks\": \"\"}}, \"type\": \"scattercarpet\"}], \"scattergeo\": [{\"marker\": {\"colorbar\": {\"outlinewidth\": 0, \"ticks\": \"\"}}, \"type\": \"scattergeo\"}], \"scattergl\": [{\"marker\": {\"colorbar\": {\"outlinewidth\": 0, \"ticks\": \"\"}}, \"type\": \"scattergl\"}], \"scattermapbox\": [{\"marker\": {\"colorbar\": {\"outlinewidth\": 0, \"ticks\": \"\"}}, \"type\": \"scattermapbox\"}], \"scatterpolar\": [{\"marker\": {\"colorbar\": {\"outlinewidth\": 0, \"ticks\": \"\"}}, \"type\": \"scatterpolar\"}], \"scatterpolargl\": [{\"marker\": {\"colorbar\": {\"outlinewidth\": 0, \"ticks\": \"\"}}, \"type\": \"scatterpolargl\"}], \"scatterternary\": [{\"marker\": {\"colorbar\": {\"outlinewidth\": 0, \"ticks\": \"\"}}, \"type\": \"scatterternary\"}], \"surface\": [{\"colorbar\": {\"outlinewidth\": 0, \"ticks\": \"\"}, \"colorscale\": [[0.0, \"#0d0887\"], [0.1111111111111111, \"#46039f\"], [0.2222222222222222, \"#7201a8\"], [0.3333333333333333, \"#9c179e\"], [0.4444444444444444, \"#bd3786\"], [0.5555555555555556, \"#d8576b\"], [0.6666666666666666, \"#ed7953\"], [0.7777777777777778, \"#fb9f3a\"], [0.8888888888888888, \"#fdca26\"], [1.0, \"#f0f921\"]], \"type\": \"surface\"}], \"table\": [{\"cells\": {\"fill\": {\"color\": \"#EBF0F8\"}, \"line\": {\"color\": \"white\"}}, \"header\": {\"fill\": {\"color\": \"#C8D4E3\"}, \"line\": {\"color\": \"white\"}}, \"type\": \"table\"}]}, \"layout\": {\"annotationdefaults\": {\"arrowcolor\": \"#2a3f5f\", \"arrowhead\": 0, \"arrowwidth\": 1}, \"coloraxis\": {\"colorbar\": {\"outlinewidth\": 0, \"ticks\": \"\"}}, \"colorscale\": {\"diverging\": [[0, \"#8e0152\"], [0.1, \"#c51b7d\"], [0.2, \"#de77ae\"], [0.3, \"#f1b6da\"], [0.4, \"#fde0ef\"], [0.5, \"#f7f7f7\"], [0.6, \"#e6f5d0\"], [0.7, \"#b8e186\"], [0.8, \"#7fbc41\"], [0.9, \"#4d9221\"], [1, \"#276419\"]], \"sequential\": [[0.0, \"#0d0887\"], [0.1111111111111111, \"#46039f\"], [0.2222222222222222, \"#7201a8\"], [0.3333333333333333, \"#9c179e\"], [0.4444444444444444, \"#bd3786\"], [0.5555555555555556, \"#d8576b\"], [0.6666666666666666, \"#ed7953\"], [0.7777777777777778, \"#fb9f3a\"], [0.8888888888888888, \"#fdca26\"], [1.0, \"#f0f921\"]], \"sequentialminus\": [[0.0, \"#0d0887\"], [0.1111111111111111, \"#46039f\"], [0.2222222222222222, \"#7201a8\"], [0.3333333333333333, \"#9c179e\"], [0.4444444444444444, \"#bd3786\"], [0.5555555555555556, \"#d8576b\"], [0.6666666666666666, \"#ed7953\"], [0.7777777777777778, \"#fb9f3a\"], [0.8888888888888888, \"#fdca26\"], [1.0, \"#f0f921\"]]}, \"colorway\": [\"#636efa\", \"#EF553B\", \"#00cc96\", \"#ab63fa\", \"#FFA15A\", \"#19d3f3\", \"#FF6692\", \"#B6E880\", \"#FF97FF\", \"#FECB52\"], \"font\": {\"color\": \"#2a3f5f\"}, \"geo\": {\"bgcolor\": \"white\", \"lakecolor\": \"white\", \"landcolor\": \"#E5ECF6\", \"showlakes\": true, \"showland\": true, \"subunitcolor\": \"white\"}, \"hoverlabel\": {\"align\": \"left\"}, \"hovermode\": \"closest\", \"mapbox\": {\"style\": \"light\"}, \"paper_bgcolor\": \"white\", \"plot_bgcolor\": \"#E5ECF6\", \"polar\": {\"angularaxis\": {\"gridcolor\": \"white\", \"linecolor\": \"white\", \"ticks\": \"\"}, \"bgcolor\": \"#E5ECF6\", \"radialaxis\": {\"gridcolor\": \"white\", \"linecolor\": \"white\", \"ticks\": \"\"}}, \"scene\": {\"xaxis\": {\"backgroundcolor\": \"#E5ECF6\", \"gridcolor\": \"white\", \"gridwidth\": 2, \"linecolor\": \"white\", \"showbackground\": true, \"ticks\": \"\", \"zerolinecolor\": \"white\"}, \"yaxis\": {\"backgroundcolor\": \"#E5ECF6\", \"gridcolor\": \"white\", \"gridwidth\": 2, \"linecolor\": \"white\", \"showbackground\": true, \"ticks\": \"\", \"zerolinecolor\": \"white\"}, \"zaxis\": {\"backgroundcolor\": \"#E5ECF6\", \"gridcolor\": \"white\", \"gridwidth\": 2, \"linecolor\": \"white\", \"showbackground\": true, \"ticks\": \"\", \"zerolinecolor\": \"white\"}}, \"shapedefaults\": {\"line\": {\"color\": \"#2a3f5f\"}}, \"ternary\": {\"aaxis\": {\"gridcolor\": \"white\", \"linecolor\": \"white\", \"ticks\": \"\"}, \"baxis\": {\"gridcolor\": \"white\", \"linecolor\": \"white\", \"ticks\": \"\"}, \"bgcolor\": \"#E5ECF6\", \"caxis\": {\"gridcolor\": \"white\", \"linecolor\": \"white\", \"ticks\": \"\"}}, \"title\": {\"x\": 0.05}, \"xaxis\": {\"automargin\": true, \"gridcolor\": \"white\", \"linecolor\": \"white\", \"ticks\": \"\", \"title\": {\"standoff\": 15}, \"zerolinecolor\": \"white\", \"zerolinewidth\": 2}, \"yaxis\": {\"automargin\": true, \"gridcolor\": \"white\", \"linecolor\": \"white\", \"ticks\": \"\", \"title\": {\"standoff\": 15}, \"zerolinecolor\": \"white\", \"zerolinewidth\": 2}}}, \"title\": {\"font\": {\"color\": \"#4D5663\"}}, \"xaxis\": {\"gridcolor\": \"#E1E5ED\", \"showgrid\": true, \"tickfont\": {\"color\": \"#4D5663\"}, \"title\": {\"font\": {\"color\": \"#4D5663\"}, \"text\": \"\"}, \"zerolinecolor\": \"#E1E5ED\"}, \"yaxis\": {\"gridcolor\": \"#E1E5ED\", \"showgrid\": true, \"tickfont\": {\"color\": \"#4D5663\"}, \"title\": {\"font\": {\"color\": \"#4D5663\"}, \"text\": \"\"}, \"zerolinecolor\": \"#E1E5ED\"}},\n",
       "                        {\"showLink\": true, \"linkText\": \"Export to plot.ly\", \"plotlyServerURL\": \"https://plot.ly\", \"responsive\": true}\n",
       "                    ).then(function(){\n",
       "                            \n",
       "var gd = document.getElementById('1767caac-8372-44ef-b082-7ac9182bbdfb');\n",
       "var x = new MutationObserver(function (mutations, observer) {{\n",
       "        var display = window.getComputedStyle(gd).display;\n",
       "        if (!display || display === 'none') {{\n",
       "            console.log([gd, 'removed!']);\n",
       "            Plotly.purge(gd);\n",
       "            observer.disconnect();\n",
       "        }}\n",
       "}});\n",
       "\n",
       "// Listen for the removal of the full notebook cells\n",
       "var notebookContainer = gd.closest('#notebook-container');\n",
       "if (notebookContainer) {{\n",
       "    x.observe(notebookContainer, {childList: true});\n",
       "}}\n",
       "\n",
       "// Listen for the clearing of the current output cell\n",
       "var outputEl = gd.closest('.output');\n",
       "if (outputEl) {{\n",
       "    x.observe(outputEl, {childList: true});\n",
       "}}\n",
       "\n",
       "                        })\n",
       "                };\n",
       "                });\n",
       "            </script>\n",
       "        </div>"
      ]
     },
     "metadata": {},
     "output_type": "display_data"
    }
   ],
   "source": [
    "df.iplot()"
   ]
  },
  {
   "cell_type": "markdown",
   "metadata": {},
   "source": [
    "# iplot(kind='scatter')"
   ]
  },
  {
   "cell_type": "code",
   "execution_count": 14,
   "metadata": {},
   "outputs": [
    {
     "data": {
      "application/vnd.plotly.v1+json": {
       "config": {
        "linkText": "Export to plot.ly",
        "plotlyServerURL": "https://plot.ly",
        "showLink": true
       },
       "data": [
        {
         "line": {
          "color": "rgba(255, 153, 51, 1.0)",
          "dash": "solid",
          "shape": "linear",
          "width": 1.3
         },
         "mode": "lines",
         "name": "B",
         "text": "",
         "type": "scatter",
         "x": [
          0.3410614466753071,
          -1.1035524050054597,
          0.01497802970479452,
          -0.4923405339752979,
          -0.711740649467883,
          0.7611113231300444,
          -0.32899989496145043,
          -1.0003056778373516,
          -1.144108410930388,
          -0.7187659800223282,
          -0.8827891809503372,
          0.16527534978219205,
          0.33791501376902755,
          0.2845952287777885,
          -2.031762480119184,
          0.009561136766891088,
          -0.37499414498681033,
          0.7436276548650762,
          -0.08613852640362644,
          -1.788868487410151,
          0.6091820625025955,
          -0.540546683835764,
          -1.3830705697321766,
          -0.22776248598870943,
          0.04791488496871383,
          0.14734661797990722,
          0.6837492096990183,
          0.4909535703078963,
          -0.5763766572692686,
          1.7556808706923992,
          -0.21643572049270607,
          -0.08138650173686049,
          -0.41988696887517796,
          0.5896403672067946,
          -0.15796893354889477,
          0.03098947180102704,
          -1.1741362797157253,
          -0.5288212423479839,
          -1.0461934563699007,
          -1.8047730897321894,
          -0.18922230488345462,
          0.4448399483986472,
          0.09802387104390282,
          0.3675012254291077,
          -2.199418690052648,
          0.9672627288932981,
          -1.6104735507037404,
          1.0793883903440407,
          -1.7442712770335072,
          -0.2006977228942966,
          1.1604057740322227,
          0.8380871794918501,
          0.3434621276866279,
          -1.4104992622520467,
          1.311238947350882,
          0.9412950281879889,
          -0.3350723872072907,
          0.6951180795417036,
          -0.9121582740527129,
          0.18765291170273096,
          -0.690685295257295,
          0.8852386085818393,
          0.4317636746726903,
          -0.7504024305600105,
          -0.39335965300494274,
          0.3694506068850978,
          -0.10252111873440109,
          0.49884624438508196,
          0.055394235359639964,
          0.011792637052425847,
          -0.8082790203993668,
          -1.3615811568324008,
          -0.4873899268497068,
          0.38309544271604257,
          0.4242660099135097,
          2.2187119574585603,
          -0.01959273839618212,
          -0.8646247657702009,
          0.08787197959542621,
          -0.1154797457890154,
          0.33140686940164854,
          -0.6196352065642001,
          0.3227781557323908,
          0.2447772792318997,
          -0.9529620548470774,
          -1.1779499157234683,
          0.362052923601659,
          0.36545821597693284,
          0.5563628463658707,
          0.09204794996115445,
          0.5305702320652781,
          1.2972359829146172,
          -0.463871893327936,
          -2.1652174380047438,
          1.3950847840966412,
          1.25889143735063,
          1.5414336680370502,
          -0.028970197857147585,
          -1.3978466191671446,
          -0.4684792022305753
         ],
         "y": [
          1.6078167885510994,
          0.5152505787154171,
          -1.732949449951613,
          -0.036945780938364245,
          -1.3551933367335174,
          0.5319072842514352,
          1.0697347319830688,
          -0.6363260721476971,
          -0.20643662573362598,
          -1.7853998237979154,
          -0.43298489994161915,
          -0.8220605061383672,
          -1.0416535261667546,
          -0.4436110742323203,
          -0.8849717239394095,
          0.82462023527033,
          -0.4511224528127728,
          -2.1521002255906314,
          0.6885075559620766,
          0.9619774031436268,
          -1.601282319516909,
          -1.0187221532576956,
          -0.37185922386743625,
          0.6327713965426722,
          0.6958040276700553,
          0.29576441234029416,
          0.1870375683798816,
          0.21216307603497175,
          -0.46826979686342507,
          0.5265808883122749,
          1.655233754967969,
          0.7847270184177594,
          -0.06524297551623097,
          -0.9050608073638097,
          -0.7568972725338796,
          1.8504073752072894,
          -1.3319273680622228,
          1.025323553637435,
          -1.1929053119674793,
          0.37609355139190637,
          -0.6931871349019727,
          -0.26788738816063384,
          0.6452730391434862,
          -0.6410794715938621,
          0.33601850854039045,
          1.062834980137413,
          -0.13797130277316041,
          -0.3472728358101834,
          -1.9295221797591842,
          0.688887327408491,
          -1.0059879927275013,
          -0.050838321432649304,
          2.810881273367778,
          1.5703602950010316,
          0.6688810634008149,
          -1.6495902709058397,
          0.6370014643522423,
          -0.6926906557976084,
          -1.7365465452273703,
          -1.3391600076707793,
          -2.403423131134129,
          -1.8354091651813158,
          0.6708773143428056,
          0.879946117968798,
          0.8808745167598088,
          0.9741666663770794,
          -0.8874965115923111,
          -0.12403926065668726,
          1.4859109330104527,
          0.02280886808632988,
          -1.1667746795991663,
          -0.978686343644049,
          -1.4082136206191738,
          -1.2271331376969463,
          -1.2464437921438107,
          -0.4073132003975011,
          1.3898802816681095,
          0.9273059334446105,
          0.39645412550268183,
          0.3916040681168114,
          1.7819762431059742,
          2.7889896150765257,
          -0.010367608731995102,
          -0.8704789634274461,
          2.2738070570513167,
          -0.723458871193624,
          -0.8191102049372018,
          0.46412661059334726,
          0.11437839854593614,
          0.8480965711153516,
          -0.4528516451940342,
          1.4002905273470163,
          -0.6214770108332643,
          0.25299312347365505,
          -2.538120488901347,
          -0.7338163679908073,
          -0.8294853006575363,
          -0.7021157089248629,
          1.258967519250579,
          -0.7460926635527159
         ]
        }
       ],
       "layout": {
        "legend": {
         "bgcolor": "#F5F6F9",
         "font": {
          "color": "#4D5663"
         }
        },
        "paper_bgcolor": "#F5F6F9",
        "plot_bgcolor": "#F5F6F9",
        "template": {
         "data": {
          "bar": [
           {
            "error_x": {
             "color": "#2a3f5f"
            },
            "error_y": {
             "color": "#2a3f5f"
            },
            "marker": {
             "line": {
              "color": "#E5ECF6",
              "width": 0.5
             }
            },
            "type": "bar"
           }
          ],
          "barpolar": [
           {
            "marker": {
             "line": {
              "color": "#E5ECF6",
              "width": 0.5
             }
            },
            "type": "barpolar"
           }
          ],
          "carpet": [
           {
            "aaxis": {
             "endlinecolor": "#2a3f5f",
             "gridcolor": "white",
             "linecolor": "white",
             "minorgridcolor": "white",
             "startlinecolor": "#2a3f5f"
            },
            "baxis": {
             "endlinecolor": "#2a3f5f",
             "gridcolor": "white",
             "linecolor": "white",
             "minorgridcolor": "white",
             "startlinecolor": "#2a3f5f"
            },
            "type": "carpet"
           }
          ],
          "choropleth": [
           {
            "colorbar": {
             "outlinewidth": 0,
             "ticks": ""
            },
            "type": "choropleth"
           }
          ],
          "contour": [
           {
            "colorbar": {
             "outlinewidth": 0,
             "ticks": ""
            },
            "colorscale": [
             [
              0,
              "#0d0887"
             ],
             [
              0.1111111111111111,
              "#46039f"
             ],
             [
              0.2222222222222222,
              "#7201a8"
             ],
             [
              0.3333333333333333,
              "#9c179e"
             ],
             [
              0.4444444444444444,
              "#bd3786"
             ],
             [
              0.5555555555555556,
              "#d8576b"
             ],
             [
              0.6666666666666666,
              "#ed7953"
             ],
             [
              0.7777777777777778,
              "#fb9f3a"
             ],
             [
              0.8888888888888888,
              "#fdca26"
             ],
             [
              1,
              "#f0f921"
             ]
            ],
            "type": "contour"
           }
          ],
          "contourcarpet": [
           {
            "colorbar": {
             "outlinewidth": 0,
             "ticks": ""
            },
            "type": "contourcarpet"
           }
          ],
          "heatmap": [
           {
            "colorbar": {
             "outlinewidth": 0,
             "ticks": ""
            },
            "colorscale": [
             [
              0,
              "#0d0887"
             ],
             [
              0.1111111111111111,
              "#46039f"
             ],
             [
              0.2222222222222222,
              "#7201a8"
             ],
             [
              0.3333333333333333,
              "#9c179e"
             ],
             [
              0.4444444444444444,
              "#bd3786"
             ],
             [
              0.5555555555555556,
              "#d8576b"
             ],
             [
              0.6666666666666666,
              "#ed7953"
             ],
             [
              0.7777777777777778,
              "#fb9f3a"
             ],
             [
              0.8888888888888888,
              "#fdca26"
             ],
             [
              1,
              "#f0f921"
             ]
            ],
            "type": "heatmap"
           }
          ],
          "heatmapgl": [
           {
            "colorbar": {
             "outlinewidth": 0,
             "ticks": ""
            },
            "colorscale": [
             [
              0,
              "#0d0887"
             ],
             [
              0.1111111111111111,
              "#46039f"
             ],
             [
              0.2222222222222222,
              "#7201a8"
             ],
             [
              0.3333333333333333,
              "#9c179e"
             ],
             [
              0.4444444444444444,
              "#bd3786"
             ],
             [
              0.5555555555555556,
              "#d8576b"
             ],
             [
              0.6666666666666666,
              "#ed7953"
             ],
             [
              0.7777777777777778,
              "#fb9f3a"
             ],
             [
              0.8888888888888888,
              "#fdca26"
             ],
             [
              1,
              "#f0f921"
             ]
            ],
            "type": "heatmapgl"
           }
          ],
          "histogram": [
           {
            "marker": {
             "colorbar": {
              "outlinewidth": 0,
              "ticks": ""
             }
            },
            "type": "histogram"
           }
          ],
          "histogram2d": [
           {
            "colorbar": {
             "outlinewidth": 0,
             "ticks": ""
            },
            "colorscale": [
             [
              0,
              "#0d0887"
             ],
             [
              0.1111111111111111,
              "#46039f"
             ],
             [
              0.2222222222222222,
              "#7201a8"
             ],
             [
              0.3333333333333333,
              "#9c179e"
             ],
             [
              0.4444444444444444,
              "#bd3786"
             ],
             [
              0.5555555555555556,
              "#d8576b"
             ],
             [
              0.6666666666666666,
              "#ed7953"
             ],
             [
              0.7777777777777778,
              "#fb9f3a"
             ],
             [
              0.8888888888888888,
              "#fdca26"
             ],
             [
              1,
              "#f0f921"
             ]
            ],
            "type": "histogram2d"
           }
          ],
          "histogram2dcontour": [
           {
            "colorbar": {
             "outlinewidth": 0,
             "ticks": ""
            },
            "colorscale": [
             [
              0,
              "#0d0887"
             ],
             [
              0.1111111111111111,
              "#46039f"
             ],
             [
              0.2222222222222222,
              "#7201a8"
             ],
             [
              0.3333333333333333,
              "#9c179e"
             ],
             [
              0.4444444444444444,
              "#bd3786"
             ],
             [
              0.5555555555555556,
              "#d8576b"
             ],
             [
              0.6666666666666666,
              "#ed7953"
             ],
             [
              0.7777777777777778,
              "#fb9f3a"
             ],
             [
              0.8888888888888888,
              "#fdca26"
             ],
             [
              1,
              "#f0f921"
             ]
            ],
            "type": "histogram2dcontour"
           }
          ],
          "mesh3d": [
           {
            "colorbar": {
             "outlinewidth": 0,
             "ticks": ""
            },
            "type": "mesh3d"
           }
          ],
          "parcoords": [
           {
            "line": {
             "colorbar": {
              "outlinewidth": 0,
              "ticks": ""
             }
            },
            "type": "parcoords"
           }
          ],
          "pie": [
           {
            "automargin": true,
            "type": "pie"
           }
          ],
          "scatter": [
           {
            "marker": {
             "colorbar": {
              "outlinewidth": 0,
              "ticks": ""
             }
            },
            "type": "scatter"
           }
          ],
          "scatter3d": [
           {
            "line": {
             "colorbar": {
              "outlinewidth": 0,
              "ticks": ""
             }
            },
            "marker": {
             "colorbar": {
              "outlinewidth": 0,
              "ticks": ""
             }
            },
            "type": "scatter3d"
           }
          ],
          "scattercarpet": [
           {
            "marker": {
             "colorbar": {
              "outlinewidth": 0,
              "ticks": ""
             }
            },
            "type": "scattercarpet"
           }
          ],
          "scattergeo": [
           {
            "marker": {
             "colorbar": {
              "outlinewidth": 0,
              "ticks": ""
             }
            },
            "type": "scattergeo"
           }
          ],
          "scattergl": [
           {
            "marker": {
             "colorbar": {
              "outlinewidth": 0,
              "ticks": ""
             }
            },
            "type": "scattergl"
           }
          ],
          "scattermapbox": [
           {
            "marker": {
             "colorbar": {
              "outlinewidth": 0,
              "ticks": ""
             }
            },
            "type": "scattermapbox"
           }
          ],
          "scatterpolar": [
           {
            "marker": {
             "colorbar": {
              "outlinewidth": 0,
              "ticks": ""
             }
            },
            "type": "scatterpolar"
           }
          ],
          "scatterpolargl": [
           {
            "marker": {
             "colorbar": {
              "outlinewidth": 0,
              "ticks": ""
             }
            },
            "type": "scatterpolargl"
           }
          ],
          "scatterternary": [
           {
            "marker": {
             "colorbar": {
              "outlinewidth": 0,
              "ticks": ""
             }
            },
            "type": "scatterternary"
           }
          ],
          "surface": [
           {
            "colorbar": {
             "outlinewidth": 0,
             "ticks": ""
            },
            "colorscale": [
             [
              0,
              "#0d0887"
             ],
             [
              0.1111111111111111,
              "#46039f"
             ],
             [
              0.2222222222222222,
              "#7201a8"
             ],
             [
              0.3333333333333333,
              "#9c179e"
             ],
             [
              0.4444444444444444,
              "#bd3786"
             ],
             [
              0.5555555555555556,
              "#d8576b"
             ],
             [
              0.6666666666666666,
              "#ed7953"
             ],
             [
              0.7777777777777778,
              "#fb9f3a"
             ],
             [
              0.8888888888888888,
              "#fdca26"
             ],
             [
              1,
              "#f0f921"
             ]
            ],
            "type": "surface"
           }
          ],
          "table": [
           {
            "cells": {
             "fill": {
              "color": "#EBF0F8"
             },
             "line": {
              "color": "white"
             }
            },
            "header": {
             "fill": {
              "color": "#C8D4E3"
             },
             "line": {
              "color": "white"
             }
            },
            "type": "table"
           }
          ]
         },
         "layout": {
          "annotationdefaults": {
           "arrowcolor": "#2a3f5f",
           "arrowhead": 0,
           "arrowwidth": 1
          },
          "coloraxis": {
           "colorbar": {
            "outlinewidth": 0,
            "ticks": ""
           }
          },
          "colorscale": {
           "diverging": [
            [
             0,
             "#8e0152"
            ],
            [
             0.1,
             "#c51b7d"
            ],
            [
             0.2,
             "#de77ae"
            ],
            [
             0.3,
             "#f1b6da"
            ],
            [
             0.4,
             "#fde0ef"
            ],
            [
             0.5,
             "#f7f7f7"
            ],
            [
             0.6,
             "#e6f5d0"
            ],
            [
             0.7,
             "#b8e186"
            ],
            [
             0.8,
             "#7fbc41"
            ],
            [
             0.9,
             "#4d9221"
            ],
            [
             1,
             "#276419"
            ]
           ],
           "sequential": [
            [
             0,
             "#0d0887"
            ],
            [
             0.1111111111111111,
             "#46039f"
            ],
            [
             0.2222222222222222,
             "#7201a8"
            ],
            [
             0.3333333333333333,
             "#9c179e"
            ],
            [
             0.4444444444444444,
             "#bd3786"
            ],
            [
             0.5555555555555556,
             "#d8576b"
            ],
            [
             0.6666666666666666,
             "#ed7953"
            ],
            [
             0.7777777777777778,
             "#fb9f3a"
            ],
            [
             0.8888888888888888,
             "#fdca26"
            ],
            [
             1,
             "#f0f921"
            ]
           ],
           "sequentialminus": [
            [
             0,
             "#0d0887"
            ],
            [
             0.1111111111111111,
             "#46039f"
            ],
            [
             0.2222222222222222,
             "#7201a8"
            ],
            [
             0.3333333333333333,
             "#9c179e"
            ],
            [
             0.4444444444444444,
             "#bd3786"
            ],
            [
             0.5555555555555556,
             "#d8576b"
            ],
            [
             0.6666666666666666,
             "#ed7953"
            ],
            [
             0.7777777777777778,
             "#fb9f3a"
            ],
            [
             0.8888888888888888,
             "#fdca26"
            ],
            [
             1,
             "#f0f921"
            ]
           ]
          },
          "colorway": [
           "#636efa",
           "#EF553B",
           "#00cc96",
           "#ab63fa",
           "#FFA15A",
           "#19d3f3",
           "#FF6692",
           "#B6E880",
           "#FF97FF",
           "#FECB52"
          ],
          "font": {
           "color": "#2a3f5f"
          },
          "geo": {
           "bgcolor": "white",
           "lakecolor": "white",
           "landcolor": "#E5ECF6",
           "showlakes": true,
           "showland": true,
           "subunitcolor": "white"
          },
          "hoverlabel": {
           "align": "left"
          },
          "hovermode": "closest",
          "mapbox": {
           "style": "light"
          },
          "paper_bgcolor": "white",
          "plot_bgcolor": "#E5ECF6",
          "polar": {
           "angularaxis": {
            "gridcolor": "white",
            "linecolor": "white",
            "ticks": ""
           },
           "bgcolor": "#E5ECF6",
           "radialaxis": {
            "gridcolor": "white",
            "linecolor": "white",
            "ticks": ""
           }
          },
          "scene": {
           "xaxis": {
            "backgroundcolor": "#E5ECF6",
            "gridcolor": "white",
            "gridwidth": 2,
            "linecolor": "white",
            "showbackground": true,
            "ticks": "",
            "zerolinecolor": "white"
           },
           "yaxis": {
            "backgroundcolor": "#E5ECF6",
            "gridcolor": "white",
            "gridwidth": 2,
            "linecolor": "white",
            "showbackground": true,
            "ticks": "",
            "zerolinecolor": "white"
           },
           "zaxis": {
            "backgroundcolor": "#E5ECF6",
            "gridcolor": "white",
            "gridwidth": 2,
            "linecolor": "white",
            "showbackground": true,
            "ticks": "",
            "zerolinecolor": "white"
           }
          },
          "shapedefaults": {
           "line": {
            "color": "#2a3f5f"
           }
          },
          "ternary": {
           "aaxis": {
            "gridcolor": "white",
            "linecolor": "white",
            "ticks": ""
           },
           "baxis": {
            "gridcolor": "white",
            "linecolor": "white",
            "ticks": ""
           },
           "bgcolor": "#E5ECF6",
           "caxis": {
            "gridcolor": "white",
            "linecolor": "white",
            "ticks": ""
           }
          },
          "title": {
           "x": 0.05
          },
          "xaxis": {
           "automargin": true,
           "gridcolor": "white",
           "linecolor": "white",
           "ticks": "",
           "title": {
            "standoff": 15
           },
           "zerolinecolor": "white",
           "zerolinewidth": 2
          },
          "yaxis": {
           "automargin": true,
           "gridcolor": "white",
           "linecolor": "white",
           "ticks": "",
           "title": {
            "standoff": 15
           },
           "zerolinecolor": "white",
           "zerolinewidth": 2
          }
         }
        },
        "title": {
         "font": {
          "color": "#4D5663"
         }
        },
        "xaxis": {
         "gridcolor": "#E1E5ED",
         "showgrid": true,
         "tickfont": {
          "color": "#4D5663"
         },
         "title": {
          "font": {
           "color": "#4D5663"
          },
          "text": ""
         },
         "zerolinecolor": "#E1E5ED"
        },
        "yaxis": {
         "gridcolor": "#E1E5ED",
         "showgrid": true,
         "tickfont": {
          "color": "#4D5663"
         },
         "title": {
          "font": {
           "color": "#4D5663"
          },
          "text": ""
         },
         "zerolinecolor": "#E1E5ED"
        }
       }
      },
      "text/html": [
       "<div>\n",
       "        \n",
       "        \n",
       "            <div id=\"ad401f12-665c-461f-8b87-ce54c405877a\" class=\"plotly-graph-div\" style=\"height:525px; width:100%;\"></div>\n",
       "            <script type=\"text/javascript\">\n",
       "                require([\"plotly\"], function(Plotly) {\n",
       "                    window.PLOTLYENV=window.PLOTLYENV || {};\n",
       "                    window.PLOTLYENV.BASE_URL='https://plot.ly';\n",
       "                    \n",
       "                if (document.getElementById(\"ad401f12-665c-461f-8b87-ce54c405877a\")) {\n",
       "                    Plotly.newPlot(\n",
       "                        'ad401f12-665c-461f-8b87-ce54c405877a',\n",
       "                        [{\"line\": {\"color\": \"rgba(255, 153, 51, 1.0)\", \"dash\": \"solid\", \"shape\": \"linear\", \"width\": 1.3}, \"mode\": \"lines\", \"name\": \"B\", \"text\": \"\", \"type\": \"scatter\", \"x\": [0.3410614466753071, -1.1035524050054597, 0.01497802970479452, -0.4923405339752979, -0.711740649467883, 0.7611113231300444, -0.32899989496145043, -1.0003056778373516, -1.144108410930388, -0.7187659800223282, -0.8827891809503372, 0.16527534978219205, 0.33791501376902755, 0.2845952287777885, -2.031762480119184, 0.009561136766891088, -0.37499414498681033, 0.7436276548650762, -0.08613852640362644, -1.788868487410151, 0.6091820625025955, -0.540546683835764, -1.3830705697321766, -0.22776248598870943, 0.04791488496871383, 0.14734661797990722, 0.6837492096990183, 0.4909535703078963, -0.5763766572692686, 1.7556808706923992, -0.21643572049270607, -0.08138650173686049, -0.41988696887517796, 0.5896403672067946, -0.15796893354889477, 0.03098947180102704, -1.1741362797157253, -0.5288212423479839, -1.0461934563699007, -1.8047730897321894, -0.18922230488345462, 0.4448399483986472, 0.09802387104390282, 0.3675012254291077, -2.199418690052648, 0.9672627288932981, -1.6104735507037404, 1.0793883903440407, -1.7442712770335072, -0.2006977228942966, 1.1604057740322227, 0.8380871794918501, 0.3434621276866279, -1.4104992622520467, 1.311238947350882, 0.9412950281879889, -0.3350723872072907, 0.6951180795417036, -0.9121582740527129, 0.18765291170273096, -0.690685295257295, 0.8852386085818393, 0.4317636746726903, -0.7504024305600105, -0.39335965300494274, 0.3694506068850978, -0.10252111873440109, 0.49884624438508196, 0.055394235359639964, 0.011792637052425847, -0.8082790203993668, -1.3615811568324008, -0.4873899268497068, 0.38309544271604257, 0.4242660099135097, 2.2187119574585603, -0.01959273839618212, -0.8646247657702009, 0.08787197959542621, -0.1154797457890154, 0.33140686940164854, -0.6196352065642001, 0.3227781557323908, 0.2447772792318997, -0.9529620548470774, -1.1779499157234683, 0.362052923601659, 0.36545821597693284, 0.5563628463658707, 0.09204794996115445, 0.5305702320652781, 1.2972359829146172, -0.463871893327936, -2.1652174380047438, 1.3950847840966412, 1.25889143735063, 1.5414336680370502, -0.028970197857147585, -1.3978466191671446, -0.4684792022305753], \"y\": [1.6078167885510994, 0.5152505787154171, -1.732949449951613, -0.036945780938364245, -1.3551933367335174, 0.5319072842514352, 1.0697347319830688, -0.6363260721476971, -0.20643662573362598, -1.7853998237979154, -0.43298489994161915, -0.8220605061383672, -1.0416535261667546, -0.4436110742323203, -0.8849717239394095, 0.82462023527033, -0.4511224528127728, -2.1521002255906314, 0.6885075559620766, 0.9619774031436268, -1.601282319516909, -1.0187221532576956, -0.37185922386743625, 0.6327713965426722, 0.6958040276700553, 0.29576441234029416, 0.1870375683798816, 0.21216307603497175, -0.46826979686342507, 0.5265808883122749, 1.655233754967969, 0.7847270184177594, -0.06524297551623097, -0.9050608073638097, -0.7568972725338796, 1.8504073752072894, -1.3319273680622228, 1.025323553637435, -1.1929053119674793, 0.37609355139190637, -0.6931871349019727, -0.26788738816063384, 0.6452730391434862, -0.6410794715938621, 0.33601850854039045, 1.062834980137413, -0.13797130277316041, -0.3472728358101834, -1.9295221797591842, 0.688887327408491, -1.0059879927275013, -0.050838321432649304, 2.810881273367778, 1.5703602950010316, 0.6688810634008149, -1.6495902709058397, 0.6370014643522423, -0.6926906557976084, -1.7365465452273703, -1.3391600076707793, -2.403423131134129, -1.8354091651813158, 0.6708773143428056, 0.879946117968798, 0.8808745167598088, 0.9741666663770794, -0.8874965115923111, -0.12403926065668726, 1.4859109330104527, 0.02280886808632988, -1.1667746795991663, -0.978686343644049, -1.4082136206191738, -1.2271331376969463, -1.2464437921438107, -0.4073132003975011, 1.3898802816681095, 0.9273059334446105, 0.39645412550268183, 0.3916040681168114, 1.7819762431059742, 2.7889896150765257, -0.010367608731995102, -0.8704789634274461, 2.2738070570513167, -0.723458871193624, -0.8191102049372018, 0.46412661059334726, 0.11437839854593614, 0.8480965711153516, -0.4528516451940342, 1.4002905273470163, -0.6214770108332643, 0.25299312347365505, -2.538120488901347, -0.7338163679908073, -0.8294853006575363, -0.7021157089248629, 1.258967519250579, -0.7460926635527159]}],\n",
       "                        {\"legend\": {\"bgcolor\": \"#F5F6F9\", \"font\": {\"color\": \"#4D5663\"}}, \"paper_bgcolor\": \"#F5F6F9\", \"plot_bgcolor\": \"#F5F6F9\", \"template\": {\"data\": {\"bar\": [{\"error_x\": {\"color\": \"#2a3f5f\"}, \"error_y\": {\"color\": \"#2a3f5f\"}, \"marker\": {\"line\": {\"color\": \"#E5ECF6\", \"width\": 0.5}}, \"type\": \"bar\"}], \"barpolar\": [{\"marker\": {\"line\": {\"color\": \"#E5ECF6\", \"width\": 0.5}}, \"type\": \"barpolar\"}], \"carpet\": [{\"aaxis\": {\"endlinecolor\": \"#2a3f5f\", \"gridcolor\": \"white\", \"linecolor\": \"white\", \"minorgridcolor\": \"white\", \"startlinecolor\": \"#2a3f5f\"}, \"baxis\": {\"endlinecolor\": \"#2a3f5f\", \"gridcolor\": \"white\", \"linecolor\": \"white\", \"minorgridcolor\": \"white\", \"startlinecolor\": \"#2a3f5f\"}, \"type\": \"carpet\"}], \"choropleth\": [{\"colorbar\": {\"outlinewidth\": 0, \"ticks\": \"\"}, \"type\": \"choropleth\"}], \"contour\": [{\"colorbar\": {\"outlinewidth\": 0, \"ticks\": \"\"}, \"colorscale\": [[0.0, \"#0d0887\"], [0.1111111111111111, \"#46039f\"], [0.2222222222222222, \"#7201a8\"], [0.3333333333333333, \"#9c179e\"], [0.4444444444444444, \"#bd3786\"], [0.5555555555555556, \"#d8576b\"], [0.6666666666666666, \"#ed7953\"], [0.7777777777777778, \"#fb9f3a\"], [0.8888888888888888, \"#fdca26\"], [1.0, \"#f0f921\"]], \"type\": \"contour\"}], \"contourcarpet\": [{\"colorbar\": {\"outlinewidth\": 0, \"ticks\": \"\"}, \"type\": \"contourcarpet\"}], \"heatmap\": [{\"colorbar\": {\"outlinewidth\": 0, \"ticks\": \"\"}, \"colorscale\": [[0.0, \"#0d0887\"], [0.1111111111111111, \"#46039f\"], [0.2222222222222222, \"#7201a8\"], [0.3333333333333333, \"#9c179e\"], [0.4444444444444444, \"#bd3786\"], [0.5555555555555556, \"#d8576b\"], [0.6666666666666666, \"#ed7953\"], [0.7777777777777778, \"#fb9f3a\"], [0.8888888888888888, \"#fdca26\"], [1.0, \"#f0f921\"]], \"type\": \"heatmap\"}], \"heatmapgl\": [{\"colorbar\": {\"outlinewidth\": 0, \"ticks\": \"\"}, \"colorscale\": [[0.0, \"#0d0887\"], [0.1111111111111111, \"#46039f\"], [0.2222222222222222, \"#7201a8\"], [0.3333333333333333, \"#9c179e\"], [0.4444444444444444, \"#bd3786\"], [0.5555555555555556, \"#d8576b\"], [0.6666666666666666, \"#ed7953\"], [0.7777777777777778, \"#fb9f3a\"], [0.8888888888888888, \"#fdca26\"], [1.0, \"#f0f921\"]], \"type\": \"heatmapgl\"}], \"histogram\": [{\"marker\": {\"colorbar\": {\"outlinewidth\": 0, \"ticks\": \"\"}}, \"type\": \"histogram\"}], \"histogram2d\": [{\"colorbar\": {\"outlinewidth\": 0, \"ticks\": \"\"}, \"colorscale\": [[0.0, \"#0d0887\"], [0.1111111111111111, \"#46039f\"], [0.2222222222222222, \"#7201a8\"], [0.3333333333333333, \"#9c179e\"], [0.4444444444444444, \"#bd3786\"], [0.5555555555555556, \"#d8576b\"], [0.6666666666666666, \"#ed7953\"], [0.7777777777777778, \"#fb9f3a\"], [0.8888888888888888, \"#fdca26\"], [1.0, \"#f0f921\"]], \"type\": \"histogram2d\"}], \"histogram2dcontour\": [{\"colorbar\": {\"outlinewidth\": 0, \"ticks\": \"\"}, \"colorscale\": [[0.0, \"#0d0887\"], [0.1111111111111111, \"#46039f\"], [0.2222222222222222, \"#7201a8\"], [0.3333333333333333, \"#9c179e\"], [0.4444444444444444, \"#bd3786\"], [0.5555555555555556, \"#d8576b\"], [0.6666666666666666, \"#ed7953\"], [0.7777777777777778, \"#fb9f3a\"], [0.8888888888888888, \"#fdca26\"], [1.0, \"#f0f921\"]], \"type\": \"histogram2dcontour\"}], \"mesh3d\": [{\"colorbar\": {\"outlinewidth\": 0, \"ticks\": \"\"}, \"type\": \"mesh3d\"}], \"parcoords\": [{\"line\": {\"colorbar\": {\"outlinewidth\": 0, \"ticks\": \"\"}}, \"type\": \"parcoords\"}], \"pie\": [{\"automargin\": true, \"type\": \"pie\"}], \"scatter\": [{\"marker\": {\"colorbar\": {\"outlinewidth\": 0, \"ticks\": \"\"}}, \"type\": \"scatter\"}], \"scatter3d\": [{\"line\": {\"colorbar\": {\"outlinewidth\": 0, \"ticks\": \"\"}}, \"marker\": {\"colorbar\": {\"outlinewidth\": 0, \"ticks\": \"\"}}, \"type\": \"scatter3d\"}], \"scattercarpet\": [{\"marker\": {\"colorbar\": {\"outlinewidth\": 0, \"ticks\": \"\"}}, \"type\": \"scattercarpet\"}], \"scattergeo\": [{\"marker\": {\"colorbar\": {\"outlinewidth\": 0, \"ticks\": \"\"}}, \"type\": \"scattergeo\"}], \"scattergl\": [{\"marker\": {\"colorbar\": {\"outlinewidth\": 0, \"ticks\": \"\"}}, \"type\": \"scattergl\"}], \"scattermapbox\": [{\"marker\": {\"colorbar\": {\"outlinewidth\": 0, \"ticks\": \"\"}}, \"type\": \"scattermapbox\"}], \"scatterpolar\": [{\"marker\": {\"colorbar\": {\"outlinewidth\": 0, \"ticks\": \"\"}}, \"type\": \"scatterpolar\"}], \"scatterpolargl\": [{\"marker\": {\"colorbar\": {\"outlinewidth\": 0, \"ticks\": \"\"}}, \"type\": \"scatterpolargl\"}], \"scatterternary\": [{\"marker\": {\"colorbar\": {\"outlinewidth\": 0, \"ticks\": \"\"}}, \"type\": \"scatterternary\"}], \"surface\": [{\"colorbar\": {\"outlinewidth\": 0, \"ticks\": \"\"}, \"colorscale\": [[0.0, \"#0d0887\"], [0.1111111111111111, \"#46039f\"], [0.2222222222222222, \"#7201a8\"], [0.3333333333333333, \"#9c179e\"], [0.4444444444444444, \"#bd3786\"], [0.5555555555555556, \"#d8576b\"], [0.6666666666666666, \"#ed7953\"], [0.7777777777777778, \"#fb9f3a\"], [0.8888888888888888, \"#fdca26\"], [1.0, \"#f0f921\"]], \"type\": \"surface\"}], \"table\": [{\"cells\": {\"fill\": {\"color\": \"#EBF0F8\"}, \"line\": {\"color\": \"white\"}}, \"header\": {\"fill\": {\"color\": \"#C8D4E3\"}, \"line\": {\"color\": \"white\"}}, \"type\": \"table\"}]}, \"layout\": {\"annotationdefaults\": {\"arrowcolor\": \"#2a3f5f\", \"arrowhead\": 0, \"arrowwidth\": 1}, \"coloraxis\": {\"colorbar\": {\"outlinewidth\": 0, \"ticks\": \"\"}}, \"colorscale\": {\"diverging\": [[0, \"#8e0152\"], [0.1, \"#c51b7d\"], [0.2, \"#de77ae\"], [0.3, \"#f1b6da\"], [0.4, \"#fde0ef\"], [0.5, \"#f7f7f7\"], [0.6, \"#e6f5d0\"], [0.7, \"#b8e186\"], [0.8, \"#7fbc41\"], [0.9, \"#4d9221\"], [1, \"#276419\"]], \"sequential\": [[0.0, \"#0d0887\"], [0.1111111111111111, \"#46039f\"], [0.2222222222222222, \"#7201a8\"], [0.3333333333333333, \"#9c179e\"], [0.4444444444444444, \"#bd3786\"], [0.5555555555555556, \"#d8576b\"], [0.6666666666666666, \"#ed7953\"], [0.7777777777777778, \"#fb9f3a\"], [0.8888888888888888, \"#fdca26\"], [1.0, \"#f0f921\"]], \"sequentialminus\": [[0.0, \"#0d0887\"], [0.1111111111111111, \"#46039f\"], [0.2222222222222222, \"#7201a8\"], [0.3333333333333333, \"#9c179e\"], [0.4444444444444444, \"#bd3786\"], [0.5555555555555556, \"#d8576b\"], [0.6666666666666666, \"#ed7953\"], [0.7777777777777778, \"#fb9f3a\"], [0.8888888888888888, \"#fdca26\"], [1.0, \"#f0f921\"]]}, \"colorway\": [\"#636efa\", \"#EF553B\", \"#00cc96\", \"#ab63fa\", \"#FFA15A\", \"#19d3f3\", \"#FF6692\", \"#B6E880\", \"#FF97FF\", \"#FECB52\"], \"font\": {\"color\": \"#2a3f5f\"}, \"geo\": {\"bgcolor\": \"white\", \"lakecolor\": \"white\", \"landcolor\": \"#E5ECF6\", \"showlakes\": true, \"showland\": true, \"subunitcolor\": \"white\"}, \"hoverlabel\": {\"align\": \"left\"}, \"hovermode\": \"closest\", \"mapbox\": {\"style\": \"light\"}, \"paper_bgcolor\": \"white\", \"plot_bgcolor\": \"#E5ECF6\", \"polar\": {\"angularaxis\": {\"gridcolor\": \"white\", \"linecolor\": \"white\", \"ticks\": \"\"}, \"bgcolor\": \"#E5ECF6\", \"radialaxis\": {\"gridcolor\": \"white\", \"linecolor\": \"white\", \"ticks\": \"\"}}, \"scene\": {\"xaxis\": {\"backgroundcolor\": \"#E5ECF6\", \"gridcolor\": \"white\", \"gridwidth\": 2, \"linecolor\": \"white\", \"showbackground\": true, \"ticks\": \"\", \"zerolinecolor\": \"white\"}, \"yaxis\": {\"backgroundcolor\": \"#E5ECF6\", \"gridcolor\": \"white\", \"gridwidth\": 2, \"linecolor\": \"white\", \"showbackground\": true, \"ticks\": \"\", \"zerolinecolor\": \"white\"}, \"zaxis\": {\"backgroundcolor\": \"#E5ECF6\", \"gridcolor\": \"white\", \"gridwidth\": 2, \"linecolor\": \"white\", \"showbackground\": true, \"ticks\": \"\", \"zerolinecolor\": \"white\"}}, \"shapedefaults\": {\"line\": {\"color\": \"#2a3f5f\"}}, \"ternary\": {\"aaxis\": {\"gridcolor\": \"white\", \"linecolor\": \"white\", \"ticks\": \"\"}, \"baxis\": {\"gridcolor\": \"white\", \"linecolor\": \"white\", \"ticks\": \"\"}, \"bgcolor\": \"#E5ECF6\", \"caxis\": {\"gridcolor\": \"white\", \"linecolor\": \"white\", \"ticks\": \"\"}}, \"title\": {\"x\": 0.05}, \"xaxis\": {\"automargin\": true, \"gridcolor\": \"white\", \"linecolor\": \"white\", \"ticks\": \"\", \"title\": {\"standoff\": 15}, \"zerolinecolor\": \"white\", \"zerolinewidth\": 2}, \"yaxis\": {\"automargin\": true, \"gridcolor\": \"white\", \"linecolor\": \"white\", \"ticks\": \"\", \"title\": {\"standoff\": 15}, \"zerolinecolor\": \"white\", \"zerolinewidth\": 2}}}, \"title\": {\"font\": {\"color\": \"#4D5663\"}}, \"xaxis\": {\"gridcolor\": \"#E1E5ED\", \"showgrid\": true, \"tickfont\": {\"color\": \"#4D5663\"}, \"title\": {\"font\": {\"color\": \"#4D5663\"}, \"text\": \"\"}, \"zerolinecolor\": \"#E1E5ED\"}, \"yaxis\": {\"gridcolor\": \"#E1E5ED\", \"showgrid\": true, \"tickfont\": {\"color\": \"#4D5663\"}, \"title\": {\"font\": {\"color\": \"#4D5663\"}, \"text\": \"\"}, \"zerolinecolor\": \"#E1E5ED\"}},\n",
       "                        {\"showLink\": true, \"linkText\": \"Export to plot.ly\", \"plotlyServerURL\": \"https://plot.ly\", \"responsive\": true}\n",
       "                    ).then(function(){\n",
       "                            \n",
       "var gd = document.getElementById('ad401f12-665c-461f-8b87-ce54c405877a');\n",
       "var x = new MutationObserver(function (mutations, observer) {{\n",
       "        var display = window.getComputedStyle(gd).display;\n",
       "        if (!display || display === 'none') {{\n",
       "            console.log([gd, 'removed!']);\n",
       "            Plotly.purge(gd);\n",
       "            observer.disconnect();\n",
       "        }}\n",
       "}});\n",
       "\n",
       "// Listen for the removal of the full notebook cells\n",
       "var notebookContainer = gd.closest('#notebook-container');\n",
       "if (notebookContainer) {{\n",
       "    x.observe(notebookContainer, {childList: true});\n",
       "}}\n",
       "\n",
       "// Listen for the clearing of the current output cell\n",
       "var outputEl = gd.closest('.output');\n",
       "if (outputEl) {{\n",
       "    x.observe(outputEl, {childList: true});\n",
       "}}\n",
       "\n",
       "                        })\n",
       "                };\n",
       "                });\n",
       "            </script>\n",
       "        </div>"
      ]
     },
     "metadata": {},
     "output_type": "display_data"
    }
   ],
   "source": [
    "df.iplot(kind='scatter', x='A', y='B')"
   ]
  },
  {
   "cell_type": "markdown",
   "metadata": {},
   "source": [
    "### mode='markers'"
   ]
  },
  {
   "cell_type": "code",
   "execution_count": 28,
   "metadata": {},
   "outputs": [
    {
     "data": {
      "application/vnd.plotly.v1+json": {
       "config": {
        "linkText": "Export to plot.ly",
        "plotlyServerURL": "https://plot.ly",
        "showLink": true
       },
       "data": [
        {
         "line": {
          "color": "rgba(255, 153, 51, 1.0)",
          "dash": "solid",
          "shape": "linear",
          "width": 1.3
         },
         "marker": {
          "size": 20,
          "symbol": "circle"
         },
         "mode": "markers",
         "name": "B",
         "text": "",
         "type": "scatter",
         "x": [
          0.3410614466753071,
          -1.1035524050054597,
          0.01497802970479452,
          -0.4923405339752979,
          -0.711740649467883,
          0.7611113231300444,
          -0.32899989496145043,
          -1.0003056778373516,
          -1.144108410930388,
          -0.7187659800223282,
          -0.8827891809503372,
          0.16527534978219205,
          0.33791501376902755,
          0.2845952287777885,
          -2.031762480119184,
          0.009561136766891088,
          -0.37499414498681033,
          0.7436276548650762,
          -0.08613852640362644,
          -1.788868487410151,
          0.6091820625025955,
          -0.540546683835764,
          -1.3830705697321766,
          -0.22776248598870943,
          0.04791488496871383,
          0.14734661797990722,
          0.6837492096990183,
          0.4909535703078963,
          -0.5763766572692686,
          1.7556808706923992,
          -0.21643572049270607,
          -0.08138650173686049,
          -0.41988696887517796,
          0.5896403672067946,
          -0.15796893354889477,
          0.03098947180102704,
          -1.1741362797157253,
          -0.5288212423479839,
          -1.0461934563699007,
          -1.8047730897321894,
          -0.18922230488345462,
          0.4448399483986472,
          0.09802387104390282,
          0.3675012254291077,
          -2.199418690052648,
          0.9672627288932981,
          -1.6104735507037404,
          1.0793883903440407,
          -1.7442712770335072,
          -0.2006977228942966,
          1.1604057740322227,
          0.8380871794918501,
          0.3434621276866279,
          -1.4104992622520467,
          1.311238947350882,
          0.9412950281879889,
          -0.3350723872072907,
          0.6951180795417036,
          -0.9121582740527129,
          0.18765291170273096,
          -0.690685295257295,
          0.8852386085818393,
          0.4317636746726903,
          -0.7504024305600105,
          -0.39335965300494274,
          0.3694506068850978,
          -0.10252111873440109,
          0.49884624438508196,
          0.055394235359639964,
          0.011792637052425847,
          -0.8082790203993668,
          -1.3615811568324008,
          -0.4873899268497068,
          0.38309544271604257,
          0.4242660099135097,
          2.2187119574585603,
          -0.01959273839618212,
          -0.8646247657702009,
          0.08787197959542621,
          -0.1154797457890154,
          0.33140686940164854,
          -0.6196352065642001,
          0.3227781557323908,
          0.2447772792318997,
          -0.9529620548470774,
          -1.1779499157234683,
          0.362052923601659,
          0.36545821597693284,
          0.5563628463658707,
          0.09204794996115445,
          0.5305702320652781,
          1.2972359829146172,
          -0.463871893327936,
          -2.1652174380047438,
          1.3950847840966412,
          1.25889143735063,
          1.5414336680370502,
          -0.028970197857147585,
          -1.3978466191671446,
          -0.4684792022305753
         ],
         "y": [
          1.6078167885510994,
          0.5152505787154171,
          -1.732949449951613,
          -0.036945780938364245,
          -1.3551933367335174,
          0.5319072842514352,
          1.0697347319830688,
          -0.6363260721476971,
          -0.20643662573362598,
          -1.7853998237979154,
          -0.43298489994161915,
          -0.8220605061383672,
          -1.0416535261667546,
          -0.4436110742323203,
          -0.8849717239394095,
          0.82462023527033,
          -0.4511224528127728,
          -2.1521002255906314,
          0.6885075559620766,
          0.9619774031436268,
          -1.601282319516909,
          -1.0187221532576956,
          -0.37185922386743625,
          0.6327713965426722,
          0.6958040276700553,
          0.29576441234029416,
          0.1870375683798816,
          0.21216307603497175,
          -0.46826979686342507,
          0.5265808883122749,
          1.655233754967969,
          0.7847270184177594,
          -0.06524297551623097,
          -0.9050608073638097,
          -0.7568972725338796,
          1.8504073752072894,
          -1.3319273680622228,
          1.025323553637435,
          -1.1929053119674793,
          0.37609355139190637,
          -0.6931871349019727,
          -0.26788738816063384,
          0.6452730391434862,
          -0.6410794715938621,
          0.33601850854039045,
          1.062834980137413,
          -0.13797130277316041,
          -0.3472728358101834,
          -1.9295221797591842,
          0.688887327408491,
          -1.0059879927275013,
          -0.050838321432649304,
          2.810881273367778,
          1.5703602950010316,
          0.6688810634008149,
          -1.6495902709058397,
          0.6370014643522423,
          -0.6926906557976084,
          -1.7365465452273703,
          -1.3391600076707793,
          -2.403423131134129,
          -1.8354091651813158,
          0.6708773143428056,
          0.879946117968798,
          0.8808745167598088,
          0.9741666663770794,
          -0.8874965115923111,
          -0.12403926065668726,
          1.4859109330104527,
          0.02280886808632988,
          -1.1667746795991663,
          -0.978686343644049,
          -1.4082136206191738,
          -1.2271331376969463,
          -1.2464437921438107,
          -0.4073132003975011,
          1.3898802816681095,
          0.9273059334446105,
          0.39645412550268183,
          0.3916040681168114,
          1.7819762431059742,
          2.7889896150765257,
          -0.010367608731995102,
          -0.8704789634274461,
          2.2738070570513167,
          -0.723458871193624,
          -0.8191102049372018,
          0.46412661059334726,
          0.11437839854593614,
          0.8480965711153516,
          -0.4528516451940342,
          1.4002905273470163,
          -0.6214770108332643,
          0.25299312347365505,
          -2.538120488901347,
          -0.7338163679908073,
          -0.8294853006575363,
          -0.7021157089248629,
          1.258967519250579,
          -0.7460926635527159
         ]
        }
       ],
       "layout": {
        "legend": {
         "bgcolor": "#F5F6F9",
         "font": {
          "color": "#4D5663"
         }
        },
        "paper_bgcolor": "#F5F6F9",
        "plot_bgcolor": "#F5F6F9",
        "template": {
         "data": {
          "bar": [
           {
            "error_x": {
             "color": "#2a3f5f"
            },
            "error_y": {
             "color": "#2a3f5f"
            },
            "marker": {
             "line": {
              "color": "#E5ECF6",
              "width": 0.5
             }
            },
            "type": "bar"
           }
          ],
          "barpolar": [
           {
            "marker": {
             "line": {
              "color": "#E5ECF6",
              "width": 0.5
             }
            },
            "type": "barpolar"
           }
          ],
          "carpet": [
           {
            "aaxis": {
             "endlinecolor": "#2a3f5f",
             "gridcolor": "white",
             "linecolor": "white",
             "minorgridcolor": "white",
             "startlinecolor": "#2a3f5f"
            },
            "baxis": {
             "endlinecolor": "#2a3f5f",
             "gridcolor": "white",
             "linecolor": "white",
             "minorgridcolor": "white",
             "startlinecolor": "#2a3f5f"
            },
            "type": "carpet"
           }
          ],
          "choropleth": [
           {
            "colorbar": {
             "outlinewidth": 0,
             "ticks": ""
            },
            "type": "choropleth"
           }
          ],
          "contour": [
           {
            "colorbar": {
             "outlinewidth": 0,
             "ticks": ""
            },
            "colorscale": [
             [
              0,
              "#0d0887"
             ],
             [
              0.1111111111111111,
              "#46039f"
             ],
             [
              0.2222222222222222,
              "#7201a8"
             ],
             [
              0.3333333333333333,
              "#9c179e"
             ],
             [
              0.4444444444444444,
              "#bd3786"
             ],
             [
              0.5555555555555556,
              "#d8576b"
             ],
             [
              0.6666666666666666,
              "#ed7953"
             ],
             [
              0.7777777777777778,
              "#fb9f3a"
             ],
             [
              0.8888888888888888,
              "#fdca26"
             ],
             [
              1,
              "#f0f921"
             ]
            ],
            "type": "contour"
           }
          ],
          "contourcarpet": [
           {
            "colorbar": {
             "outlinewidth": 0,
             "ticks": ""
            },
            "type": "contourcarpet"
           }
          ],
          "heatmap": [
           {
            "colorbar": {
             "outlinewidth": 0,
             "ticks": ""
            },
            "colorscale": [
             [
              0,
              "#0d0887"
             ],
             [
              0.1111111111111111,
              "#46039f"
             ],
             [
              0.2222222222222222,
              "#7201a8"
             ],
             [
              0.3333333333333333,
              "#9c179e"
             ],
             [
              0.4444444444444444,
              "#bd3786"
             ],
             [
              0.5555555555555556,
              "#d8576b"
             ],
             [
              0.6666666666666666,
              "#ed7953"
             ],
             [
              0.7777777777777778,
              "#fb9f3a"
             ],
             [
              0.8888888888888888,
              "#fdca26"
             ],
             [
              1,
              "#f0f921"
             ]
            ],
            "type": "heatmap"
           }
          ],
          "heatmapgl": [
           {
            "colorbar": {
             "outlinewidth": 0,
             "ticks": ""
            },
            "colorscale": [
             [
              0,
              "#0d0887"
             ],
             [
              0.1111111111111111,
              "#46039f"
             ],
             [
              0.2222222222222222,
              "#7201a8"
             ],
             [
              0.3333333333333333,
              "#9c179e"
             ],
             [
              0.4444444444444444,
              "#bd3786"
             ],
             [
              0.5555555555555556,
              "#d8576b"
             ],
             [
              0.6666666666666666,
              "#ed7953"
             ],
             [
              0.7777777777777778,
              "#fb9f3a"
             ],
             [
              0.8888888888888888,
              "#fdca26"
             ],
             [
              1,
              "#f0f921"
             ]
            ],
            "type": "heatmapgl"
           }
          ],
          "histogram": [
           {
            "marker": {
             "colorbar": {
              "outlinewidth": 0,
              "ticks": ""
             }
            },
            "type": "histogram"
           }
          ],
          "histogram2d": [
           {
            "colorbar": {
             "outlinewidth": 0,
             "ticks": ""
            },
            "colorscale": [
             [
              0,
              "#0d0887"
             ],
             [
              0.1111111111111111,
              "#46039f"
             ],
             [
              0.2222222222222222,
              "#7201a8"
             ],
             [
              0.3333333333333333,
              "#9c179e"
             ],
             [
              0.4444444444444444,
              "#bd3786"
             ],
             [
              0.5555555555555556,
              "#d8576b"
             ],
             [
              0.6666666666666666,
              "#ed7953"
             ],
             [
              0.7777777777777778,
              "#fb9f3a"
             ],
             [
              0.8888888888888888,
              "#fdca26"
             ],
             [
              1,
              "#f0f921"
             ]
            ],
            "type": "histogram2d"
           }
          ],
          "histogram2dcontour": [
           {
            "colorbar": {
             "outlinewidth": 0,
             "ticks": ""
            },
            "colorscale": [
             [
              0,
              "#0d0887"
             ],
             [
              0.1111111111111111,
              "#46039f"
             ],
             [
              0.2222222222222222,
              "#7201a8"
             ],
             [
              0.3333333333333333,
              "#9c179e"
             ],
             [
              0.4444444444444444,
              "#bd3786"
             ],
             [
              0.5555555555555556,
              "#d8576b"
             ],
             [
              0.6666666666666666,
              "#ed7953"
             ],
             [
              0.7777777777777778,
              "#fb9f3a"
             ],
             [
              0.8888888888888888,
              "#fdca26"
             ],
             [
              1,
              "#f0f921"
             ]
            ],
            "type": "histogram2dcontour"
           }
          ],
          "mesh3d": [
           {
            "colorbar": {
             "outlinewidth": 0,
             "ticks": ""
            },
            "type": "mesh3d"
           }
          ],
          "parcoords": [
           {
            "line": {
             "colorbar": {
              "outlinewidth": 0,
              "ticks": ""
             }
            },
            "type": "parcoords"
           }
          ],
          "pie": [
           {
            "automargin": true,
            "type": "pie"
           }
          ],
          "scatter": [
           {
            "marker": {
             "colorbar": {
              "outlinewidth": 0,
              "ticks": ""
             }
            },
            "type": "scatter"
           }
          ],
          "scatter3d": [
           {
            "line": {
             "colorbar": {
              "outlinewidth": 0,
              "ticks": ""
             }
            },
            "marker": {
             "colorbar": {
              "outlinewidth": 0,
              "ticks": ""
             }
            },
            "type": "scatter3d"
           }
          ],
          "scattercarpet": [
           {
            "marker": {
             "colorbar": {
              "outlinewidth": 0,
              "ticks": ""
             }
            },
            "type": "scattercarpet"
           }
          ],
          "scattergeo": [
           {
            "marker": {
             "colorbar": {
              "outlinewidth": 0,
              "ticks": ""
             }
            },
            "type": "scattergeo"
           }
          ],
          "scattergl": [
           {
            "marker": {
             "colorbar": {
              "outlinewidth": 0,
              "ticks": ""
             }
            },
            "type": "scattergl"
           }
          ],
          "scattermapbox": [
           {
            "marker": {
             "colorbar": {
              "outlinewidth": 0,
              "ticks": ""
             }
            },
            "type": "scattermapbox"
           }
          ],
          "scatterpolar": [
           {
            "marker": {
             "colorbar": {
              "outlinewidth": 0,
              "ticks": ""
             }
            },
            "type": "scatterpolar"
           }
          ],
          "scatterpolargl": [
           {
            "marker": {
             "colorbar": {
              "outlinewidth": 0,
              "ticks": ""
             }
            },
            "type": "scatterpolargl"
           }
          ],
          "scatterternary": [
           {
            "marker": {
             "colorbar": {
              "outlinewidth": 0,
              "ticks": ""
             }
            },
            "type": "scatterternary"
           }
          ],
          "surface": [
           {
            "colorbar": {
             "outlinewidth": 0,
             "ticks": ""
            },
            "colorscale": [
             [
              0,
              "#0d0887"
             ],
             [
              0.1111111111111111,
              "#46039f"
             ],
             [
              0.2222222222222222,
              "#7201a8"
             ],
             [
              0.3333333333333333,
              "#9c179e"
             ],
             [
              0.4444444444444444,
              "#bd3786"
             ],
             [
              0.5555555555555556,
              "#d8576b"
             ],
             [
              0.6666666666666666,
              "#ed7953"
             ],
             [
              0.7777777777777778,
              "#fb9f3a"
             ],
             [
              0.8888888888888888,
              "#fdca26"
             ],
             [
              1,
              "#f0f921"
             ]
            ],
            "type": "surface"
           }
          ],
          "table": [
           {
            "cells": {
             "fill": {
              "color": "#EBF0F8"
             },
             "line": {
              "color": "white"
             }
            },
            "header": {
             "fill": {
              "color": "#C8D4E3"
             },
             "line": {
              "color": "white"
             }
            },
            "type": "table"
           }
          ]
         },
         "layout": {
          "annotationdefaults": {
           "arrowcolor": "#2a3f5f",
           "arrowhead": 0,
           "arrowwidth": 1
          },
          "coloraxis": {
           "colorbar": {
            "outlinewidth": 0,
            "ticks": ""
           }
          },
          "colorscale": {
           "diverging": [
            [
             0,
             "#8e0152"
            ],
            [
             0.1,
             "#c51b7d"
            ],
            [
             0.2,
             "#de77ae"
            ],
            [
             0.3,
             "#f1b6da"
            ],
            [
             0.4,
             "#fde0ef"
            ],
            [
             0.5,
             "#f7f7f7"
            ],
            [
             0.6,
             "#e6f5d0"
            ],
            [
             0.7,
             "#b8e186"
            ],
            [
             0.8,
             "#7fbc41"
            ],
            [
             0.9,
             "#4d9221"
            ],
            [
             1,
             "#276419"
            ]
           ],
           "sequential": [
            [
             0,
             "#0d0887"
            ],
            [
             0.1111111111111111,
             "#46039f"
            ],
            [
             0.2222222222222222,
             "#7201a8"
            ],
            [
             0.3333333333333333,
             "#9c179e"
            ],
            [
             0.4444444444444444,
             "#bd3786"
            ],
            [
             0.5555555555555556,
             "#d8576b"
            ],
            [
             0.6666666666666666,
             "#ed7953"
            ],
            [
             0.7777777777777778,
             "#fb9f3a"
            ],
            [
             0.8888888888888888,
             "#fdca26"
            ],
            [
             1,
             "#f0f921"
            ]
           ],
           "sequentialminus": [
            [
             0,
             "#0d0887"
            ],
            [
             0.1111111111111111,
             "#46039f"
            ],
            [
             0.2222222222222222,
             "#7201a8"
            ],
            [
             0.3333333333333333,
             "#9c179e"
            ],
            [
             0.4444444444444444,
             "#bd3786"
            ],
            [
             0.5555555555555556,
             "#d8576b"
            ],
            [
             0.6666666666666666,
             "#ed7953"
            ],
            [
             0.7777777777777778,
             "#fb9f3a"
            ],
            [
             0.8888888888888888,
             "#fdca26"
            ],
            [
             1,
             "#f0f921"
            ]
           ]
          },
          "colorway": [
           "#636efa",
           "#EF553B",
           "#00cc96",
           "#ab63fa",
           "#FFA15A",
           "#19d3f3",
           "#FF6692",
           "#B6E880",
           "#FF97FF",
           "#FECB52"
          ],
          "font": {
           "color": "#2a3f5f"
          },
          "geo": {
           "bgcolor": "white",
           "lakecolor": "white",
           "landcolor": "#E5ECF6",
           "showlakes": true,
           "showland": true,
           "subunitcolor": "white"
          },
          "hoverlabel": {
           "align": "left"
          },
          "hovermode": "closest",
          "mapbox": {
           "style": "light"
          },
          "paper_bgcolor": "white",
          "plot_bgcolor": "#E5ECF6",
          "polar": {
           "angularaxis": {
            "gridcolor": "white",
            "linecolor": "white",
            "ticks": ""
           },
           "bgcolor": "#E5ECF6",
           "radialaxis": {
            "gridcolor": "white",
            "linecolor": "white",
            "ticks": ""
           }
          },
          "scene": {
           "xaxis": {
            "backgroundcolor": "#E5ECF6",
            "gridcolor": "white",
            "gridwidth": 2,
            "linecolor": "white",
            "showbackground": true,
            "ticks": "",
            "zerolinecolor": "white"
           },
           "yaxis": {
            "backgroundcolor": "#E5ECF6",
            "gridcolor": "white",
            "gridwidth": 2,
            "linecolor": "white",
            "showbackground": true,
            "ticks": "",
            "zerolinecolor": "white"
           },
           "zaxis": {
            "backgroundcolor": "#E5ECF6",
            "gridcolor": "white",
            "gridwidth": 2,
            "linecolor": "white",
            "showbackground": true,
            "ticks": "",
            "zerolinecolor": "white"
           }
          },
          "shapedefaults": {
           "line": {
            "color": "#2a3f5f"
           }
          },
          "ternary": {
           "aaxis": {
            "gridcolor": "white",
            "linecolor": "white",
            "ticks": ""
           },
           "baxis": {
            "gridcolor": "white",
            "linecolor": "white",
            "ticks": ""
           },
           "bgcolor": "#E5ECF6",
           "caxis": {
            "gridcolor": "white",
            "linecolor": "white",
            "ticks": ""
           }
          },
          "title": {
           "x": 0.05
          },
          "xaxis": {
           "automargin": true,
           "gridcolor": "white",
           "linecolor": "white",
           "ticks": "",
           "title": {
            "standoff": 15
           },
           "zerolinecolor": "white",
           "zerolinewidth": 2
          },
          "yaxis": {
           "automargin": true,
           "gridcolor": "white",
           "linecolor": "white",
           "ticks": "",
           "title": {
            "standoff": 15
           },
           "zerolinecolor": "white",
           "zerolinewidth": 2
          }
         }
        },
        "title": {
         "font": {
          "color": "#4D5663"
         }
        },
        "xaxis": {
         "gridcolor": "#E1E5ED",
         "showgrid": true,
         "tickfont": {
          "color": "#4D5663"
         },
         "title": {
          "font": {
           "color": "#4D5663"
          },
          "text": ""
         },
         "zerolinecolor": "#E1E5ED"
        },
        "yaxis": {
         "gridcolor": "#E1E5ED",
         "showgrid": true,
         "tickfont": {
          "color": "#4D5663"
         },
         "title": {
          "font": {
           "color": "#4D5663"
          },
          "text": ""
         },
         "zerolinecolor": "#E1E5ED"
        }
       }
      },
      "text/html": [
       "<div>\n",
       "        \n",
       "        \n",
       "            <div id=\"06a32336-372c-4088-b843-444415a13a7e\" class=\"plotly-graph-div\" style=\"height:525px; width:100%;\"></div>\n",
       "            <script type=\"text/javascript\">\n",
       "                require([\"plotly\"], function(Plotly) {\n",
       "                    window.PLOTLYENV=window.PLOTLYENV || {};\n",
       "                    window.PLOTLYENV.BASE_URL='https://plot.ly';\n",
       "                    \n",
       "                if (document.getElementById(\"06a32336-372c-4088-b843-444415a13a7e\")) {\n",
       "                    Plotly.newPlot(\n",
       "                        '06a32336-372c-4088-b843-444415a13a7e',\n",
       "                        [{\"line\": {\"color\": \"rgba(255, 153, 51, 1.0)\", \"dash\": \"solid\", \"shape\": \"linear\", \"width\": 1.3}, \"marker\": {\"size\": 20, \"symbol\": \"circle\"}, \"mode\": \"markers\", \"name\": \"B\", \"text\": \"\", \"type\": \"scatter\", \"x\": [0.3410614466753071, -1.1035524050054597, 0.01497802970479452, -0.4923405339752979, -0.711740649467883, 0.7611113231300444, -0.32899989496145043, -1.0003056778373516, -1.144108410930388, -0.7187659800223282, -0.8827891809503372, 0.16527534978219205, 0.33791501376902755, 0.2845952287777885, -2.031762480119184, 0.009561136766891088, -0.37499414498681033, 0.7436276548650762, -0.08613852640362644, -1.788868487410151, 0.6091820625025955, -0.540546683835764, -1.3830705697321766, -0.22776248598870943, 0.04791488496871383, 0.14734661797990722, 0.6837492096990183, 0.4909535703078963, -0.5763766572692686, 1.7556808706923992, -0.21643572049270607, -0.08138650173686049, -0.41988696887517796, 0.5896403672067946, -0.15796893354889477, 0.03098947180102704, -1.1741362797157253, -0.5288212423479839, -1.0461934563699007, -1.8047730897321894, -0.18922230488345462, 0.4448399483986472, 0.09802387104390282, 0.3675012254291077, -2.199418690052648, 0.9672627288932981, -1.6104735507037404, 1.0793883903440407, -1.7442712770335072, -0.2006977228942966, 1.1604057740322227, 0.8380871794918501, 0.3434621276866279, -1.4104992622520467, 1.311238947350882, 0.9412950281879889, -0.3350723872072907, 0.6951180795417036, -0.9121582740527129, 0.18765291170273096, -0.690685295257295, 0.8852386085818393, 0.4317636746726903, -0.7504024305600105, -0.39335965300494274, 0.3694506068850978, -0.10252111873440109, 0.49884624438508196, 0.055394235359639964, 0.011792637052425847, -0.8082790203993668, -1.3615811568324008, -0.4873899268497068, 0.38309544271604257, 0.4242660099135097, 2.2187119574585603, -0.01959273839618212, -0.8646247657702009, 0.08787197959542621, -0.1154797457890154, 0.33140686940164854, -0.6196352065642001, 0.3227781557323908, 0.2447772792318997, -0.9529620548470774, -1.1779499157234683, 0.362052923601659, 0.36545821597693284, 0.5563628463658707, 0.09204794996115445, 0.5305702320652781, 1.2972359829146172, -0.463871893327936, -2.1652174380047438, 1.3950847840966412, 1.25889143735063, 1.5414336680370502, -0.028970197857147585, -1.3978466191671446, -0.4684792022305753], \"y\": [1.6078167885510994, 0.5152505787154171, -1.732949449951613, -0.036945780938364245, -1.3551933367335174, 0.5319072842514352, 1.0697347319830688, -0.6363260721476971, -0.20643662573362598, -1.7853998237979154, -0.43298489994161915, -0.8220605061383672, -1.0416535261667546, -0.4436110742323203, -0.8849717239394095, 0.82462023527033, -0.4511224528127728, -2.1521002255906314, 0.6885075559620766, 0.9619774031436268, -1.601282319516909, -1.0187221532576956, -0.37185922386743625, 0.6327713965426722, 0.6958040276700553, 0.29576441234029416, 0.1870375683798816, 0.21216307603497175, -0.46826979686342507, 0.5265808883122749, 1.655233754967969, 0.7847270184177594, -0.06524297551623097, -0.9050608073638097, -0.7568972725338796, 1.8504073752072894, -1.3319273680622228, 1.025323553637435, -1.1929053119674793, 0.37609355139190637, -0.6931871349019727, -0.26788738816063384, 0.6452730391434862, -0.6410794715938621, 0.33601850854039045, 1.062834980137413, -0.13797130277316041, -0.3472728358101834, -1.9295221797591842, 0.688887327408491, -1.0059879927275013, -0.050838321432649304, 2.810881273367778, 1.5703602950010316, 0.6688810634008149, -1.6495902709058397, 0.6370014643522423, -0.6926906557976084, -1.7365465452273703, -1.3391600076707793, -2.403423131134129, -1.8354091651813158, 0.6708773143428056, 0.879946117968798, 0.8808745167598088, 0.9741666663770794, -0.8874965115923111, -0.12403926065668726, 1.4859109330104527, 0.02280886808632988, -1.1667746795991663, -0.978686343644049, -1.4082136206191738, -1.2271331376969463, -1.2464437921438107, -0.4073132003975011, 1.3898802816681095, 0.9273059334446105, 0.39645412550268183, 0.3916040681168114, 1.7819762431059742, 2.7889896150765257, -0.010367608731995102, -0.8704789634274461, 2.2738070570513167, -0.723458871193624, -0.8191102049372018, 0.46412661059334726, 0.11437839854593614, 0.8480965711153516, -0.4528516451940342, 1.4002905273470163, -0.6214770108332643, 0.25299312347365505, -2.538120488901347, -0.7338163679908073, -0.8294853006575363, -0.7021157089248629, 1.258967519250579, -0.7460926635527159]}],\n",
       "                        {\"legend\": {\"bgcolor\": \"#F5F6F9\", \"font\": {\"color\": \"#4D5663\"}}, \"paper_bgcolor\": \"#F5F6F9\", \"plot_bgcolor\": \"#F5F6F9\", \"template\": {\"data\": {\"bar\": [{\"error_x\": {\"color\": \"#2a3f5f\"}, \"error_y\": {\"color\": \"#2a3f5f\"}, \"marker\": {\"line\": {\"color\": \"#E5ECF6\", \"width\": 0.5}}, \"type\": \"bar\"}], \"barpolar\": [{\"marker\": {\"line\": {\"color\": \"#E5ECF6\", \"width\": 0.5}}, \"type\": \"barpolar\"}], \"carpet\": [{\"aaxis\": {\"endlinecolor\": \"#2a3f5f\", \"gridcolor\": \"white\", \"linecolor\": \"white\", \"minorgridcolor\": \"white\", \"startlinecolor\": \"#2a3f5f\"}, \"baxis\": {\"endlinecolor\": \"#2a3f5f\", \"gridcolor\": \"white\", \"linecolor\": \"white\", \"minorgridcolor\": \"white\", \"startlinecolor\": \"#2a3f5f\"}, \"type\": \"carpet\"}], \"choropleth\": [{\"colorbar\": {\"outlinewidth\": 0, \"ticks\": \"\"}, \"type\": \"choropleth\"}], \"contour\": [{\"colorbar\": {\"outlinewidth\": 0, \"ticks\": \"\"}, \"colorscale\": [[0.0, \"#0d0887\"], [0.1111111111111111, \"#46039f\"], [0.2222222222222222, \"#7201a8\"], [0.3333333333333333, \"#9c179e\"], [0.4444444444444444, \"#bd3786\"], [0.5555555555555556, \"#d8576b\"], [0.6666666666666666, \"#ed7953\"], [0.7777777777777778, \"#fb9f3a\"], [0.8888888888888888, \"#fdca26\"], [1.0, \"#f0f921\"]], \"type\": \"contour\"}], \"contourcarpet\": [{\"colorbar\": {\"outlinewidth\": 0, \"ticks\": \"\"}, \"type\": \"contourcarpet\"}], \"heatmap\": [{\"colorbar\": {\"outlinewidth\": 0, \"ticks\": \"\"}, \"colorscale\": [[0.0, \"#0d0887\"], [0.1111111111111111, \"#46039f\"], [0.2222222222222222, \"#7201a8\"], [0.3333333333333333, \"#9c179e\"], [0.4444444444444444, \"#bd3786\"], [0.5555555555555556, \"#d8576b\"], [0.6666666666666666, \"#ed7953\"], [0.7777777777777778, \"#fb9f3a\"], [0.8888888888888888, \"#fdca26\"], [1.0, \"#f0f921\"]], \"type\": \"heatmap\"}], \"heatmapgl\": [{\"colorbar\": {\"outlinewidth\": 0, \"ticks\": \"\"}, \"colorscale\": [[0.0, \"#0d0887\"], [0.1111111111111111, \"#46039f\"], [0.2222222222222222, \"#7201a8\"], [0.3333333333333333, \"#9c179e\"], [0.4444444444444444, \"#bd3786\"], [0.5555555555555556, \"#d8576b\"], [0.6666666666666666, \"#ed7953\"], [0.7777777777777778, \"#fb9f3a\"], [0.8888888888888888, \"#fdca26\"], [1.0, \"#f0f921\"]], \"type\": \"heatmapgl\"}], \"histogram\": [{\"marker\": {\"colorbar\": {\"outlinewidth\": 0, \"ticks\": \"\"}}, \"type\": \"histogram\"}], \"histogram2d\": [{\"colorbar\": {\"outlinewidth\": 0, \"ticks\": \"\"}, \"colorscale\": [[0.0, \"#0d0887\"], [0.1111111111111111, \"#46039f\"], [0.2222222222222222, \"#7201a8\"], [0.3333333333333333, \"#9c179e\"], [0.4444444444444444, \"#bd3786\"], [0.5555555555555556, \"#d8576b\"], [0.6666666666666666, \"#ed7953\"], [0.7777777777777778, \"#fb9f3a\"], [0.8888888888888888, \"#fdca26\"], [1.0, \"#f0f921\"]], \"type\": \"histogram2d\"}], \"histogram2dcontour\": [{\"colorbar\": {\"outlinewidth\": 0, \"ticks\": \"\"}, \"colorscale\": [[0.0, \"#0d0887\"], [0.1111111111111111, \"#46039f\"], [0.2222222222222222, \"#7201a8\"], [0.3333333333333333, \"#9c179e\"], [0.4444444444444444, \"#bd3786\"], [0.5555555555555556, \"#d8576b\"], [0.6666666666666666, \"#ed7953\"], [0.7777777777777778, \"#fb9f3a\"], [0.8888888888888888, \"#fdca26\"], [1.0, \"#f0f921\"]], \"type\": \"histogram2dcontour\"}], \"mesh3d\": [{\"colorbar\": {\"outlinewidth\": 0, \"ticks\": \"\"}, \"type\": \"mesh3d\"}], \"parcoords\": [{\"line\": {\"colorbar\": {\"outlinewidth\": 0, \"ticks\": \"\"}}, \"type\": \"parcoords\"}], \"pie\": [{\"automargin\": true, \"type\": \"pie\"}], \"scatter\": [{\"marker\": {\"colorbar\": {\"outlinewidth\": 0, \"ticks\": \"\"}}, \"type\": \"scatter\"}], \"scatter3d\": [{\"line\": {\"colorbar\": {\"outlinewidth\": 0, \"ticks\": \"\"}}, \"marker\": {\"colorbar\": {\"outlinewidth\": 0, \"ticks\": \"\"}}, \"type\": \"scatter3d\"}], \"scattercarpet\": [{\"marker\": {\"colorbar\": {\"outlinewidth\": 0, \"ticks\": \"\"}}, \"type\": \"scattercarpet\"}], \"scattergeo\": [{\"marker\": {\"colorbar\": {\"outlinewidth\": 0, \"ticks\": \"\"}}, \"type\": \"scattergeo\"}], \"scattergl\": [{\"marker\": {\"colorbar\": {\"outlinewidth\": 0, \"ticks\": \"\"}}, \"type\": \"scattergl\"}], \"scattermapbox\": [{\"marker\": {\"colorbar\": {\"outlinewidth\": 0, \"ticks\": \"\"}}, \"type\": \"scattermapbox\"}], \"scatterpolar\": [{\"marker\": {\"colorbar\": {\"outlinewidth\": 0, \"ticks\": \"\"}}, \"type\": \"scatterpolar\"}], \"scatterpolargl\": [{\"marker\": {\"colorbar\": {\"outlinewidth\": 0, \"ticks\": \"\"}}, \"type\": \"scatterpolargl\"}], \"scatterternary\": [{\"marker\": {\"colorbar\": {\"outlinewidth\": 0, \"ticks\": \"\"}}, \"type\": \"scatterternary\"}], \"surface\": [{\"colorbar\": {\"outlinewidth\": 0, \"ticks\": \"\"}, \"colorscale\": [[0.0, \"#0d0887\"], [0.1111111111111111, \"#46039f\"], [0.2222222222222222, \"#7201a8\"], [0.3333333333333333, \"#9c179e\"], [0.4444444444444444, \"#bd3786\"], [0.5555555555555556, \"#d8576b\"], [0.6666666666666666, \"#ed7953\"], [0.7777777777777778, \"#fb9f3a\"], [0.8888888888888888, \"#fdca26\"], [1.0, \"#f0f921\"]], \"type\": \"surface\"}], \"table\": [{\"cells\": {\"fill\": {\"color\": \"#EBF0F8\"}, \"line\": {\"color\": \"white\"}}, \"header\": {\"fill\": {\"color\": \"#C8D4E3\"}, \"line\": {\"color\": \"white\"}}, \"type\": \"table\"}]}, \"layout\": {\"annotationdefaults\": {\"arrowcolor\": \"#2a3f5f\", \"arrowhead\": 0, \"arrowwidth\": 1}, \"coloraxis\": {\"colorbar\": {\"outlinewidth\": 0, \"ticks\": \"\"}}, \"colorscale\": {\"diverging\": [[0, \"#8e0152\"], [0.1, \"#c51b7d\"], [0.2, \"#de77ae\"], [0.3, \"#f1b6da\"], [0.4, \"#fde0ef\"], [0.5, \"#f7f7f7\"], [0.6, \"#e6f5d0\"], [0.7, \"#b8e186\"], [0.8, \"#7fbc41\"], [0.9, \"#4d9221\"], [1, \"#276419\"]], \"sequential\": [[0.0, \"#0d0887\"], [0.1111111111111111, \"#46039f\"], [0.2222222222222222, \"#7201a8\"], [0.3333333333333333, \"#9c179e\"], [0.4444444444444444, \"#bd3786\"], [0.5555555555555556, \"#d8576b\"], [0.6666666666666666, \"#ed7953\"], [0.7777777777777778, \"#fb9f3a\"], [0.8888888888888888, \"#fdca26\"], [1.0, \"#f0f921\"]], \"sequentialminus\": [[0.0, \"#0d0887\"], [0.1111111111111111, \"#46039f\"], [0.2222222222222222, \"#7201a8\"], [0.3333333333333333, \"#9c179e\"], [0.4444444444444444, \"#bd3786\"], [0.5555555555555556, \"#d8576b\"], [0.6666666666666666, \"#ed7953\"], [0.7777777777777778, \"#fb9f3a\"], [0.8888888888888888, \"#fdca26\"], [1.0, \"#f0f921\"]]}, \"colorway\": [\"#636efa\", \"#EF553B\", \"#00cc96\", \"#ab63fa\", \"#FFA15A\", \"#19d3f3\", \"#FF6692\", \"#B6E880\", \"#FF97FF\", \"#FECB52\"], \"font\": {\"color\": \"#2a3f5f\"}, \"geo\": {\"bgcolor\": \"white\", \"lakecolor\": \"white\", \"landcolor\": \"#E5ECF6\", \"showlakes\": true, \"showland\": true, \"subunitcolor\": \"white\"}, \"hoverlabel\": {\"align\": \"left\"}, \"hovermode\": \"closest\", \"mapbox\": {\"style\": \"light\"}, \"paper_bgcolor\": \"white\", \"plot_bgcolor\": \"#E5ECF6\", \"polar\": {\"angularaxis\": {\"gridcolor\": \"white\", \"linecolor\": \"white\", \"ticks\": \"\"}, \"bgcolor\": \"#E5ECF6\", \"radialaxis\": {\"gridcolor\": \"white\", \"linecolor\": \"white\", \"ticks\": \"\"}}, \"scene\": {\"xaxis\": {\"backgroundcolor\": \"#E5ECF6\", \"gridcolor\": \"white\", \"gridwidth\": 2, \"linecolor\": \"white\", \"showbackground\": true, \"ticks\": \"\", \"zerolinecolor\": \"white\"}, \"yaxis\": {\"backgroundcolor\": \"#E5ECF6\", \"gridcolor\": \"white\", \"gridwidth\": 2, \"linecolor\": \"white\", \"showbackground\": true, \"ticks\": \"\", \"zerolinecolor\": \"white\"}, \"zaxis\": {\"backgroundcolor\": \"#E5ECF6\", \"gridcolor\": \"white\", \"gridwidth\": 2, \"linecolor\": \"white\", \"showbackground\": true, \"ticks\": \"\", \"zerolinecolor\": \"white\"}}, \"shapedefaults\": {\"line\": {\"color\": \"#2a3f5f\"}}, \"ternary\": {\"aaxis\": {\"gridcolor\": \"white\", \"linecolor\": \"white\", \"ticks\": \"\"}, \"baxis\": {\"gridcolor\": \"white\", \"linecolor\": \"white\", \"ticks\": \"\"}, \"bgcolor\": \"#E5ECF6\", \"caxis\": {\"gridcolor\": \"white\", \"linecolor\": \"white\", \"ticks\": \"\"}}, \"title\": {\"x\": 0.05}, \"xaxis\": {\"automargin\": true, \"gridcolor\": \"white\", \"linecolor\": \"white\", \"ticks\": \"\", \"title\": {\"standoff\": 15}, \"zerolinecolor\": \"white\", \"zerolinewidth\": 2}, \"yaxis\": {\"automargin\": true, \"gridcolor\": \"white\", \"linecolor\": \"white\", \"ticks\": \"\", \"title\": {\"standoff\": 15}, \"zerolinecolor\": \"white\", \"zerolinewidth\": 2}}}, \"title\": {\"font\": {\"color\": \"#4D5663\"}}, \"xaxis\": {\"gridcolor\": \"#E1E5ED\", \"showgrid\": true, \"tickfont\": {\"color\": \"#4D5663\"}, \"title\": {\"font\": {\"color\": \"#4D5663\"}, \"text\": \"\"}, \"zerolinecolor\": \"#E1E5ED\"}, \"yaxis\": {\"gridcolor\": \"#E1E5ED\", \"showgrid\": true, \"tickfont\": {\"color\": \"#4D5663\"}, \"title\": {\"font\": {\"color\": \"#4D5663\"}, \"text\": \"\"}, \"zerolinecolor\": \"#E1E5ED\"}},\n",
       "                        {\"showLink\": true, \"linkText\": \"Export to plot.ly\", \"plotlyServerURL\": \"https://plot.ly\", \"responsive\": true}\n",
       "                    ).then(function(){\n",
       "                            \n",
       "var gd = document.getElementById('06a32336-372c-4088-b843-444415a13a7e');\n",
       "var x = new MutationObserver(function (mutations, observer) {{\n",
       "        var display = window.getComputedStyle(gd).display;\n",
       "        if (!display || display === 'none') {{\n",
       "            console.log([gd, 'removed!']);\n",
       "            Plotly.purge(gd);\n",
       "            observer.disconnect();\n",
       "        }}\n",
       "}});\n",
       "\n",
       "// Listen for the removal of the full notebook cells\n",
       "var notebookContainer = gd.closest('#notebook-container');\n",
       "if (notebookContainer) {{\n",
       "    x.observe(notebookContainer, {childList: true});\n",
       "}}\n",
       "\n",
       "// Listen for the clearing of the current output cell\n",
       "var outputEl = gd.closest('.output');\n",
       "if (outputEl) {{\n",
       "    x.observe(outputEl, {childList: true});\n",
       "}}\n",
       "\n",
       "                        })\n",
       "                };\n",
       "                });\n",
       "            </script>\n",
       "        </div>"
      ]
     },
     "metadata": {},
     "output_type": "display_data"
    }
   ],
   "source": [
    "df.iplot(kind='scatter', x='A', y='B', mode='markers', size=20)"
   ]
  },
  {
   "cell_type": "markdown",
   "metadata": {},
   "source": [
    "# iplot + barplot"
   ]
  },
  {
   "cell_type": "code",
   "execution_count": 29,
   "metadata": {},
   "outputs": [
    {
     "data": {
      "application/vnd.plotly.v1+json": {
       "config": {
        "linkText": "Export to plot.ly",
        "plotlyServerURL": "https://plot.ly",
        "showLink": true
       },
       "data": [
        {
         "marker": {
          "color": "rgba(255, 153, 51, 0.6)",
          "line": {
           "color": "rgba(255, 153, 51, 1.0)",
           "width": 1
          }
         },
         "name": "values",
         "orientation": "v",
         "text": "",
         "type": "bar",
         "x": [
          "A",
          "B",
          "C"
         ],
         "y": [
          32,
          43,
          50
         ]
        }
       ],
       "layout": {
        "legend": {
         "bgcolor": "#F5F6F9",
         "font": {
          "color": "#4D5663"
         }
        },
        "paper_bgcolor": "#F5F6F9",
        "plot_bgcolor": "#F5F6F9",
        "template": {
         "data": {
          "bar": [
           {
            "error_x": {
             "color": "#2a3f5f"
            },
            "error_y": {
             "color": "#2a3f5f"
            },
            "marker": {
             "line": {
              "color": "#E5ECF6",
              "width": 0.5
             }
            },
            "type": "bar"
           }
          ],
          "barpolar": [
           {
            "marker": {
             "line": {
              "color": "#E5ECF6",
              "width": 0.5
             }
            },
            "type": "barpolar"
           }
          ],
          "carpet": [
           {
            "aaxis": {
             "endlinecolor": "#2a3f5f",
             "gridcolor": "white",
             "linecolor": "white",
             "minorgridcolor": "white",
             "startlinecolor": "#2a3f5f"
            },
            "baxis": {
             "endlinecolor": "#2a3f5f",
             "gridcolor": "white",
             "linecolor": "white",
             "minorgridcolor": "white",
             "startlinecolor": "#2a3f5f"
            },
            "type": "carpet"
           }
          ],
          "choropleth": [
           {
            "colorbar": {
             "outlinewidth": 0,
             "ticks": ""
            },
            "type": "choropleth"
           }
          ],
          "contour": [
           {
            "colorbar": {
             "outlinewidth": 0,
             "ticks": ""
            },
            "colorscale": [
             [
              0,
              "#0d0887"
             ],
             [
              0.1111111111111111,
              "#46039f"
             ],
             [
              0.2222222222222222,
              "#7201a8"
             ],
             [
              0.3333333333333333,
              "#9c179e"
             ],
             [
              0.4444444444444444,
              "#bd3786"
             ],
             [
              0.5555555555555556,
              "#d8576b"
             ],
             [
              0.6666666666666666,
              "#ed7953"
             ],
             [
              0.7777777777777778,
              "#fb9f3a"
             ],
             [
              0.8888888888888888,
              "#fdca26"
             ],
             [
              1,
              "#f0f921"
             ]
            ],
            "type": "contour"
           }
          ],
          "contourcarpet": [
           {
            "colorbar": {
             "outlinewidth": 0,
             "ticks": ""
            },
            "type": "contourcarpet"
           }
          ],
          "heatmap": [
           {
            "colorbar": {
             "outlinewidth": 0,
             "ticks": ""
            },
            "colorscale": [
             [
              0,
              "#0d0887"
             ],
             [
              0.1111111111111111,
              "#46039f"
             ],
             [
              0.2222222222222222,
              "#7201a8"
             ],
             [
              0.3333333333333333,
              "#9c179e"
             ],
             [
              0.4444444444444444,
              "#bd3786"
             ],
             [
              0.5555555555555556,
              "#d8576b"
             ],
             [
              0.6666666666666666,
              "#ed7953"
             ],
             [
              0.7777777777777778,
              "#fb9f3a"
             ],
             [
              0.8888888888888888,
              "#fdca26"
             ],
             [
              1,
              "#f0f921"
             ]
            ],
            "type": "heatmap"
           }
          ],
          "heatmapgl": [
           {
            "colorbar": {
             "outlinewidth": 0,
             "ticks": ""
            },
            "colorscale": [
             [
              0,
              "#0d0887"
             ],
             [
              0.1111111111111111,
              "#46039f"
             ],
             [
              0.2222222222222222,
              "#7201a8"
             ],
             [
              0.3333333333333333,
              "#9c179e"
             ],
             [
              0.4444444444444444,
              "#bd3786"
             ],
             [
              0.5555555555555556,
              "#d8576b"
             ],
             [
              0.6666666666666666,
              "#ed7953"
             ],
             [
              0.7777777777777778,
              "#fb9f3a"
             ],
             [
              0.8888888888888888,
              "#fdca26"
             ],
             [
              1,
              "#f0f921"
             ]
            ],
            "type": "heatmapgl"
           }
          ],
          "histogram": [
           {
            "marker": {
             "colorbar": {
              "outlinewidth": 0,
              "ticks": ""
             }
            },
            "type": "histogram"
           }
          ],
          "histogram2d": [
           {
            "colorbar": {
             "outlinewidth": 0,
             "ticks": ""
            },
            "colorscale": [
             [
              0,
              "#0d0887"
             ],
             [
              0.1111111111111111,
              "#46039f"
             ],
             [
              0.2222222222222222,
              "#7201a8"
             ],
             [
              0.3333333333333333,
              "#9c179e"
             ],
             [
              0.4444444444444444,
              "#bd3786"
             ],
             [
              0.5555555555555556,
              "#d8576b"
             ],
             [
              0.6666666666666666,
              "#ed7953"
             ],
             [
              0.7777777777777778,
              "#fb9f3a"
             ],
             [
              0.8888888888888888,
              "#fdca26"
             ],
             [
              1,
              "#f0f921"
             ]
            ],
            "type": "histogram2d"
           }
          ],
          "histogram2dcontour": [
           {
            "colorbar": {
             "outlinewidth": 0,
             "ticks": ""
            },
            "colorscale": [
             [
              0,
              "#0d0887"
             ],
             [
              0.1111111111111111,
              "#46039f"
             ],
             [
              0.2222222222222222,
              "#7201a8"
             ],
             [
              0.3333333333333333,
              "#9c179e"
             ],
             [
              0.4444444444444444,
              "#bd3786"
             ],
             [
              0.5555555555555556,
              "#d8576b"
             ],
             [
              0.6666666666666666,
              "#ed7953"
             ],
             [
              0.7777777777777778,
              "#fb9f3a"
             ],
             [
              0.8888888888888888,
              "#fdca26"
             ],
             [
              1,
              "#f0f921"
             ]
            ],
            "type": "histogram2dcontour"
           }
          ],
          "mesh3d": [
           {
            "colorbar": {
             "outlinewidth": 0,
             "ticks": ""
            },
            "type": "mesh3d"
           }
          ],
          "parcoords": [
           {
            "line": {
             "colorbar": {
              "outlinewidth": 0,
              "ticks": ""
             }
            },
            "type": "parcoords"
           }
          ],
          "pie": [
           {
            "automargin": true,
            "type": "pie"
           }
          ],
          "scatter": [
           {
            "marker": {
             "colorbar": {
              "outlinewidth": 0,
              "ticks": ""
             }
            },
            "type": "scatter"
           }
          ],
          "scatter3d": [
           {
            "line": {
             "colorbar": {
              "outlinewidth": 0,
              "ticks": ""
             }
            },
            "marker": {
             "colorbar": {
              "outlinewidth": 0,
              "ticks": ""
             }
            },
            "type": "scatter3d"
           }
          ],
          "scattercarpet": [
           {
            "marker": {
             "colorbar": {
              "outlinewidth": 0,
              "ticks": ""
             }
            },
            "type": "scattercarpet"
           }
          ],
          "scattergeo": [
           {
            "marker": {
             "colorbar": {
              "outlinewidth": 0,
              "ticks": ""
             }
            },
            "type": "scattergeo"
           }
          ],
          "scattergl": [
           {
            "marker": {
             "colorbar": {
              "outlinewidth": 0,
              "ticks": ""
             }
            },
            "type": "scattergl"
           }
          ],
          "scattermapbox": [
           {
            "marker": {
             "colorbar": {
              "outlinewidth": 0,
              "ticks": ""
             }
            },
            "type": "scattermapbox"
           }
          ],
          "scatterpolar": [
           {
            "marker": {
             "colorbar": {
              "outlinewidth": 0,
              "ticks": ""
             }
            },
            "type": "scatterpolar"
           }
          ],
          "scatterpolargl": [
           {
            "marker": {
             "colorbar": {
              "outlinewidth": 0,
              "ticks": ""
             }
            },
            "type": "scatterpolargl"
           }
          ],
          "scatterternary": [
           {
            "marker": {
             "colorbar": {
              "outlinewidth": 0,
              "ticks": ""
             }
            },
            "type": "scatterternary"
           }
          ],
          "surface": [
           {
            "colorbar": {
             "outlinewidth": 0,
             "ticks": ""
            },
            "colorscale": [
             [
              0,
              "#0d0887"
             ],
             [
              0.1111111111111111,
              "#46039f"
             ],
             [
              0.2222222222222222,
              "#7201a8"
             ],
             [
              0.3333333333333333,
              "#9c179e"
             ],
             [
              0.4444444444444444,
              "#bd3786"
             ],
             [
              0.5555555555555556,
              "#d8576b"
             ],
             [
              0.6666666666666666,
              "#ed7953"
             ],
             [
              0.7777777777777778,
              "#fb9f3a"
             ],
             [
              0.8888888888888888,
              "#fdca26"
             ],
             [
              1,
              "#f0f921"
             ]
            ],
            "type": "surface"
           }
          ],
          "table": [
           {
            "cells": {
             "fill": {
              "color": "#EBF0F8"
             },
             "line": {
              "color": "white"
             }
            },
            "header": {
             "fill": {
              "color": "#C8D4E3"
             },
             "line": {
              "color": "white"
             }
            },
            "type": "table"
           }
          ]
         },
         "layout": {
          "annotationdefaults": {
           "arrowcolor": "#2a3f5f",
           "arrowhead": 0,
           "arrowwidth": 1
          },
          "coloraxis": {
           "colorbar": {
            "outlinewidth": 0,
            "ticks": ""
           }
          },
          "colorscale": {
           "diverging": [
            [
             0,
             "#8e0152"
            ],
            [
             0.1,
             "#c51b7d"
            ],
            [
             0.2,
             "#de77ae"
            ],
            [
             0.3,
             "#f1b6da"
            ],
            [
             0.4,
             "#fde0ef"
            ],
            [
             0.5,
             "#f7f7f7"
            ],
            [
             0.6,
             "#e6f5d0"
            ],
            [
             0.7,
             "#b8e186"
            ],
            [
             0.8,
             "#7fbc41"
            ],
            [
             0.9,
             "#4d9221"
            ],
            [
             1,
             "#276419"
            ]
           ],
           "sequential": [
            [
             0,
             "#0d0887"
            ],
            [
             0.1111111111111111,
             "#46039f"
            ],
            [
             0.2222222222222222,
             "#7201a8"
            ],
            [
             0.3333333333333333,
             "#9c179e"
            ],
            [
             0.4444444444444444,
             "#bd3786"
            ],
            [
             0.5555555555555556,
             "#d8576b"
            ],
            [
             0.6666666666666666,
             "#ed7953"
            ],
            [
             0.7777777777777778,
             "#fb9f3a"
            ],
            [
             0.8888888888888888,
             "#fdca26"
            ],
            [
             1,
             "#f0f921"
            ]
           ],
           "sequentialminus": [
            [
             0,
             "#0d0887"
            ],
            [
             0.1111111111111111,
             "#46039f"
            ],
            [
             0.2222222222222222,
             "#7201a8"
            ],
            [
             0.3333333333333333,
             "#9c179e"
            ],
            [
             0.4444444444444444,
             "#bd3786"
            ],
            [
             0.5555555555555556,
             "#d8576b"
            ],
            [
             0.6666666666666666,
             "#ed7953"
            ],
            [
             0.7777777777777778,
             "#fb9f3a"
            ],
            [
             0.8888888888888888,
             "#fdca26"
            ],
            [
             1,
             "#f0f921"
            ]
           ]
          },
          "colorway": [
           "#636efa",
           "#EF553B",
           "#00cc96",
           "#ab63fa",
           "#FFA15A",
           "#19d3f3",
           "#FF6692",
           "#B6E880",
           "#FF97FF",
           "#FECB52"
          ],
          "font": {
           "color": "#2a3f5f"
          },
          "geo": {
           "bgcolor": "white",
           "lakecolor": "white",
           "landcolor": "#E5ECF6",
           "showlakes": true,
           "showland": true,
           "subunitcolor": "white"
          },
          "hoverlabel": {
           "align": "left"
          },
          "hovermode": "closest",
          "mapbox": {
           "style": "light"
          },
          "paper_bgcolor": "white",
          "plot_bgcolor": "#E5ECF6",
          "polar": {
           "angularaxis": {
            "gridcolor": "white",
            "linecolor": "white",
            "ticks": ""
           },
           "bgcolor": "#E5ECF6",
           "radialaxis": {
            "gridcolor": "white",
            "linecolor": "white",
            "ticks": ""
           }
          },
          "scene": {
           "xaxis": {
            "backgroundcolor": "#E5ECF6",
            "gridcolor": "white",
            "gridwidth": 2,
            "linecolor": "white",
            "showbackground": true,
            "ticks": "",
            "zerolinecolor": "white"
           },
           "yaxis": {
            "backgroundcolor": "#E5ECF6",
            "gridcolor": "white",
            "gridwidth": 2,
            "linecolor": "white",
            "showbackground": true,
            "ticks": "",
            "zerolinecolor": "white"
           },
           "zaxis": {
            "backgroundcolor": "#E5ECF6",
            "gridcolor": "white",
            "gridwidth": 2,
            "linecolor": "white",
            "showbackground": true,
            "ticks": "",
            "zerolinecolor": "white"
           }
          },
          "shapedefaults": {
           "line": {
            "color": "#2a3f5f"
           }
          },
          "ternary": {
           "aaxis": {
            "gridcolor": "white",
            "linecolor": "white",
            "ticks": ""
           },
           "baxis": {
            "gridcolor": "white",
            "linecolor": "white",
            "ticks": ""
           },
           "bgcolor": "#E5ECF6",
           "caxis": {
            "gridcolor": "white",
            "linecolor": "white",
            "ticks": ""
           }
          },
          "title": {
           "x": 0.05
          },
          "xaxis": {
           "automargin": true,
           "gridcolor": "white",
           "linecolor": "white",
           "ticks": "",
           "title": {
            "standoff": 15
           },
           "zerolinecolor": "white",
           "zerolinewidth": 2
          },
          "yaxis": {
           "automargin": true,
           "gridcolor": "white",
           "linecolor": "white",
           "ticks": "",
           "title": {
            "standoff": 15
           },
           "zerolinecolor": "white",
           "zerolinewidth": 2
          }
         }
        },
        "title": {
         "font": {
          "color": "#4D5663"
         }
        },
        "xaxis": {
         "gridcolor": "#E1E5ED",
         "showgrid": true,
         "tickfont": {
          "color": "#4D5663"
         },
         "title": {
          "font": {
           "color": "#4D5663"
          },
          "text": ""
         },
         "zerolinecolor": "#E1E5ED"
        },
        "yaxis": {
         "gridcolor": "#E1E5ED",
         "showgrid": true,
         "tickfont": {
          "color": "#4D5663"
         },
         "title": {
          "font": {
           "color": "#4D5663"
          },
          "text": ""
         },
         "zerolinecolor": "#E1E5ED"
        }
       }
      },
      "text/html": [
       "<div>\n",
       "        \n",
       "        \n",
       "            <div id=\"9d18365f-3356-49ab-bd80-af4203728a76\" class=\"plotly-graph-div\" style=\"height:525px; width:100%;\"></div>\n",
       "            <script type=\"text/javascript\">\n",
       "                require([\"plotly\"], function(Plotly) {\n",
       "                    window.PLOTLYENV=window.PLOTLYENV || {};\n",
       "                    window.PLOTLYENV.BASE_URL='https://plot.ly';\n",
       "                    \n",
       "                if (document.getElementById(\"9d18365f-3356-49ab-bd80-af4203728a76\")) {\n",
       "                    Plotly.newPlot(\n",
       "                        '9d18365f-3356-49ab-bd80-af4203728a76',\n",
       "                        [{\"marker\": {\"color\": \"rgba(255, 153, 51, 0.6)\", \"line\": {\"color\": \"rgba(255, 153, 51, 1.0)\", \"width\": 1}}, \"name\": \"values\", \"orientation\": \"v\", \"text\": \"\", \"type\": \"bar\", \"x\": [\"A\", \"B\", \"C\"], \"y\": [32, 43, 50]}],\n",
       "                        {\"legend\": {\"bgcolor\": \"#F5F6F9\", \"font\": {\"color\": \"#4D5663\"}}, \"paper_bgcolor\": \"#F5F6F9\", \"plot_bgcolor\": \"#F5F6F9\", \"template\": {\"data\": {\"bar\": [{\"error_x\": {\"color\": \"#2a3f5f\"}, \"error_y\": {\"color\": \"#2a3f5f\"}, \"marker\": {\"line\": {\"color\": \"#E5ECF6\", \"width\": 0.5}}, \"type\": \"bar\"}], \"barpolar\": [{\"marker\": {\"line\": {\"color\": \"#E5ECF6\", \"width\": 0.5}}, \"type\": \"barpolar\"}], \"carpet\": [{\"aaxis\": {\"endlinecolor\": \"#2a3f5f\", \"gridcolor\": \"white\", \"linecolor\": \"white\", \"minorgridcolor\": \"white\", \"startlinecolor\": \"#2a3f5f\"}, \"baxis\": {\"endlinecolor\": \"#2a3f5f\", \"gridcolor\": \"white\", \"linecolor\": \"white\", \"minorgridcolor\": \"white\", \"startlinecolor\": \"#2a3f5f\"}, \"type\": \"carpet\"}], \"choropleth\": [{\"colorbar\": {\"outlinewidth\": 0, \"ticks\": \"\"}, \"type\": \"choropleth\"}], \"contour\": [{\"colorbar\": {\"outlinewidth\": 0, \"ticks\": \"\"}, \"colorscale\": [[0.0, \"#0d0887\"], [0.1111111111111111, \"#46039f\"], [0.2222222222222222, \"#7201a8\"], [0.3333333333333333, \"#9c179e\"], [0.4444444444444444, \"#bd3786\"], [0.5555555555555556, \"#d8576b\"], [0.6666666666666666, \"#ed7953\"], [0.7777777777777778, \"#fb9f3a\"], [0.8888888888888888, \"#fdca26\"], [1.0, \"#f0f921\"]], \"type\": \"contour\"}], \"contourcarpet\": [{\"colorbar\": {\"outlinewidth\": 0, \"ticks\": \"\"}, \"type\": \"contourcarpet\"}], \"heatmap\": [{\"colorbar\": {\"outlinewidth\": 0, \"ticks\": \"\"}, \"colorscale\": [[0.0, \"#0d0887\"], [0.1111111111111111, \"#46039f\"], [0.2222222222222222, \"#7201a8\"], [0.3333333333333333, \"#9c179e\"], [0.4444444444444444, \"#bd3786\"], [0.5555555555555556, \"#d8576b\"], [0.6666666666666666, \"#ed7953\"], [0.7777777777777778, \"#fb9f3a\"], [0.8888888888888888, \"#fdca26\"], [1.0, \"#f0f921\"]], \"type\": \"heatmap\"}], \"heatmapgl\": [{\"colorbar\": {\"outlinewidth\": 0, \"ticks\": \"\"}, \"colorscale\": [[0.0, \"#0d0887\"], [0.1111111111111111, \"#46039f\"], [0.2222222222222222, \"#7201a8\"], [0.3333333333333333, \"#9c179e\"], [0.4444444444444444, \"#bd3786\"], [0.5555555555555556, \"#d8576b\"], [0.6666666666666666, \"#ed7953\"], [0.7777777777777778, \"#fb9f3a\"], [0.8888888888888888, \"#fdca26\"], [1.0, \"#f0f921\"]], \"type\": \"heatmapgl\"}], \"histogram\": [{\"marker\": {\"colorbar\": {\"outlinewidth\": 0, \"ticks\": \"\"}}, \"type\": \"histogram\"}], \"histogram2d\": [{\"colorbar\": {\"outlinewidth\": 0, \"ticks\": \"\"}, \"colorscale\": [[0.0, \"#0d0887\"], [0.1111111111111111, \"#46039f\"], [0.2222222222222222, \"#7201a8\"], [0.3333333333333333, \"#9c179e\"], [0.4444444444444444, \"#bd3786\"], [0.5555555555555556, \"#d8576b\"], [0.6666666666666666, \"#ed7953\"], [0.7777777777777778, \"#fb9f3a\"], [0.8888888888888888, \"#fdca26\"], [1.0, \"#f0f921\"]], \"type\": \"histogram2d\"}], \"histogram2dcontour\": [{\"colorbar\": {\"outlinewidth\": 0, \"ticks\": \"\"}, \"colorscale\": [[0.0, \"#0d0887\"], [0.1111111111111111, \"#46039f\"], [0.2222222222222222, \"#7201a8\"], [0.3333333333333333, \"#9c179e\"], [0.4444444444444444, \"#bd3786\"], [0.5555555555555556, \"#d8576b\"], [0.6666666666666666, \"#ed7953\"], [0.7777777777777778, \"#fb9f3a\"], [0.8888888888888888, \"#fdca26\"], [1.0, \"#f0f921\"]], \"type\": \"histogram2dcontour\"}], \"mesh3d\": [{\"colorbar\": {\"outlinewidth\": 0, \"ticks\": \"\"}, \"type\": \"mesh3d\"}], \"parcoords\": [{\"line\": {\"colorbar\": {\"outlinewidth\": 0, \"ticks\": \"\"}}, \"type\": \"parcoords\"}], \"pie\": [{\"automargin\": true, \"type\": \"pie\"}], \"scatter\": [{\"marker\": {\"colorbar\": {\"outlinewidth\": 0, \"ticks\": \"\"}}, \"type\": \"scatter\"}], \"scatter3d\": [{\"line\": {\"colorbar\": {\"outlinewidth\": 0, \"ticks\": \"\"}}, \"marker\": {\"colorbar\": {\"outlinewidth\": 0, \"ticks\": \"\"}}, \"type\": \"scatter3d\"}], \"scattercarpet\": [{\"marker\": {\"colorbar\": {\"outlinewidth\": 0, \"ticks\": \"\"}}, \"type\": \"scattercarpet\"}], \"scattergeo\": [{\"marker\": {\"colorbar\": {\"outlinewidth\": 0, \"ticks\": \"\"}}, \"type\": \"scattergeo\"}], \"scattergl\": [{\"marker\": {\"colorbar\": {\"outlinewidth\": 0, \"ticks\": \"\"}}, \"type\": \"scattergl\"}], \"scattermapbox\": [{\"marker\": {\"colorbar\": {\"outlinewidth\": 0, \"ticks\": \"\"}}, \"type\": \"scattermapbox\"}], \"scatterpolar\": [{\"marker\": {\"colorbar\": {\"outlinewidth\": 0, \"ticks\": \"\"}}, \"type\": \"scatterpolar\"}], \"scatterpolargl\": [{\"marker\": {\"colorbar\": {\"outlinewidth\": 0, \"ticks\": \"\"}}, \"type\": \"scatterpolargl\"}], \"scatterternary\": [{\"marker\": {\"colorbar\": {\"outlinewidth\": 0, \"ticks\": \"\"}}, \"type\": \"scatterternary\"}], \"surface\": [{\"colorbar\": {\"outlinewidth\": 0, \"ticks\": \"\"}, \"colorscale\": [[0.0, \"#0d0887\"], [0.1111111111111111, \"#46039f\"], [0.2222222222222222, \"#7201a8\"], [0.3333333333333333, \"#9c179e\"], [0.4444444444444444, \"#bd3786\"], [0.5555555555555556, \"#d8576b\"], [0.6666666666666666, \"#ed7953\"], [0.7777777777777778, \"#fb9f3a\"], [0.8888888888888888, \"#fdca26\"], [1.0, \"#f0f921\"]], \"type\": \"surface\"}], \"table\": [{\"cells\": {\"fill\": {\"color\": \"#EBF0F8\"}, \"line\": {\"color\": \"white\"}}, \"header\": {\"fill\": {\"color\": \"#C8D4E3\"}, \"line\": {\"color\": \"white\"}}, \"type\": \"table\"}]}, \"layout\": {\"annotationdefaults\": {\"arrowcolor\": \"#2a3f5f\", \"arrowhead\": 0, \"arrowwidth\": 1}, \"coloraxis\": {\"colorbar\": {\"outlinewidth\": 0, \"ticks\": \"\"}}, \"colorscale\": {\"diverging\": [[0, \"#8e0152\"], [0.1, \"#c51b7d\"], [0.2, \"#de77ae\"], [0.3, \"#f1b6da\"], [0.4, \"#fde0ef\"], [0.5, \"#f7f7f7\"], [0.6, \"#e6f5d0\"], [0.7, \"#b8e186\"], [0.8, \"#7fbc41\"], [0.9, \"#4d9221\"], [1, \"#276419\"]], \"sequential\": [[0.0, \"#0d0887\"], [0.1111111111111111, \"#46039f\"], [0.2222222222222222, \"#7201a8\"], [0.3333333333333333, \"#9c179e\"], [0.4444444444444444, \"#bd3786\"], [0.5555555555555556, \"#d8576b\"], [0.6666666666666666, \"#ed7953\"], [0.7777777777777778, \"#fb9f3a\"], [0.8888888888888888, \"#fdca26\"], [1.0, \"#f0f921\"]], \"sequentialminus\": [[0.0, \"#0d0887\"], [0.1111111111111111, \"#46039f\"], [0.2222222222222222, \"#7201a8\"], [0.3333333333333333, \"#9c179e\"], [0.4444444444444444, \"#bd3786\"], [0.5555555555555556, \"#d8576b\"], [0.6666666666666666, \"#ed7953\"], [0.7777777777777778, \"#fb9f3a\"], [0.8888888888888888, \"#fdca26\"], [1.0, \"#f0f921\"]]}, \"colorway\": [\"#636efa\", \"#EF553B\", \"#00cc96\", \"#ab63fa\", \"#FFA15A\", \"#19d3f3\", \"#FF6692\", \"#B6E880\", \"#FF97FF\", \"#FECB52\"], \"font\": {\"color\": \"#2a3f5f\"}, \"geo\": {\"bgcolor\": \"white\", \"lakecolor\": \"white\", \"landcolor\": \"#E5ECF6\", \"showlakes\": true, \"showland\": true, \"subunitcolor\": \"white\"}, \"hoverlabel\": {\"align\": \"left\"}, \"hovermode\": \"closest\", \"mapbox\": {\"style\": \"light\"}, \"paper_bgcolor\": \"white\", \"plot_bgcolor\": \"#E5ECF6\", \"polar\": {\"angularaxis\": {\"gridcolor\": \"white\", \"linecolor\": \"white\", \"ticks\": \"\"}, \"bgcolor\": \"#E5ECF6\", \"radialaxis\": {\"gridcolor\": \"white\", \"linecolor\": \"white\", \"ticks\": \"\"}}, \"scene\": {\"xaxis\": {\"backgroundcolor\": \"#E5ECF6\", \"gridcolor\": \"white\", \"gridwidth\": 2, \"linecolor\": \"white\", \"showbackground\": true, \"ticks\": \"\", \"zerolinecolor\": \"white\"}, \"yaxis\": {\"backgroundcolor\": \"#E5ECF6\", \"gridcolor\": \"white\", \"gridwidth\": 2, \"linecolor\": \"white\", \"showbackground\": true, \"ticks\": \"\", \"zerolinecolor\": \"white\"}, \"zaxis\": {\"backgroundcolor\": \"#E5ECF6\", \"gridcolor\": \"white\", \"gridwidth\": 2, \"linecolor\": \"white\", \"showbackground\": true, \"ticks\": \"\", \"zerolinecolor\": \"white\"}}, \"shapedefaults\": {\"line\": {\"color\": \"#2a3f5f\"}}, \"ternary\": {\"aaxis\": {\"gridcolor\": \"white\", \"linecolor\": \"white\", \"ticks\": \"\"}, \"baxis\": {\"gridcolor\": \"white\", \"linecolor\": \"white\", \"ticks\": \"\"}, \"bgcolor\": \"#E5ECF6\", \"caxis\": {\"gridcolor\": \"white\", \"linecolor\": \"white\", \"ticks\": \"\"}}, \"title\": {\"x\": 0.05}, \"xaxis\": {\"automargin\": true, \"gridcolor\": \"white\", \"linecolor\": \"white\", \"ticks\": \"\", \"title\": {\"standoff\": 15}, \"zerolinecolor\": \"white\", \"zerolinewidth\": 2}, \"yaxis\": {\"automargin\": true, \"gridcolor\": \"white\", \"linecolor\": \"white\", \"ticks\": \"\", \"title\": {\"standoff\": 15}, \"zerolinecolor\": \"white\", \"zerolinewidth\": 2}}}, \"title\": {\"font\": {\"color\": \"#4D5663\"}}, \"xaxis\": {\"gridcolor\": \"#E1E5ED\", \"showgrid\": true, \"tickfont\": {\"color\": \"#4D5663\"}, \"title\": {\"font\": {\"color\": \"#4D5663\"}, \"text\": \"\"}, \"zerolinecolor\": \"#E1E5ED\"}, \"yaxis\": {\"gridcolor\": \"#E1E5ED\", \"showgrid\": true, \"tickfont\": {\"color\": \"#4D5663\"}, \"title\": {\"font\": {\"color\": \"#4D5663\"}, \"text\": \"\"}, \"zerolinecolor\": \"#E1E5ED\"}},\n",
       "                        {\"showLink\": true, \"linkText\": \"Export to plot.ly\", \"plotlyServerURL\": \"https://plot.ly\", \"responsive\": true}\n",
       "                    ).then(function(){\n",
       "                            \n",
       "var gd = document.getElementById('9d18365f-3356-49ab-bd80-af4203728a76');\n",
       "var x = new MutationObserver(function (mutations, observer) {{\n",
       "        var display = window.getComputedStyle(gd).display;\n",
       "        if (!display || display === 'none') {{\n",
       "            console.log([gd, 'removed!']);\n",
       "            Plotly.purge(gd);\n",
       "            observer.disconnect();\n",
       "        }}\n",
       "}});\n",
       "\n",
       "// Listen for the removal of the full notebook cells\n",
       "var notebookContainer = gd.closest('#notebook-container');\n",
       "if (notebookContainer) {{\n",
       "    x.observe(notebookContainer, {childList: true});\n",
       "}}\n",
       "\n",
       "// Listen for the clearing of the current output cell\n",
       "var outputEl = gd.closest('.output');\n",
       "if (outputEl) {{\n",
       "    x.observe(outputEl, {childList: true});\n",
       "}}\n",
       "\n",
       "                        })\n",
       "                };\n",
       "                });\n",
       "            </script>\n",
       "        </div>"
      ]
     },
     "metadata": {},
     "output_type": "display_data"
    }
   ],
   "source": [
    "df2.iplot(kind='bar', x='category', y='values')"
   ]
  },
  {
   "cell_type": "code",
   "execution_count": 30,
   "metadata": {},
   "outputs": [
    {
     "data": {
      "text/html": [
       "<div>\n",
       "<style scoped>\n",
       "    .dataframe tbody tr th:only-of-type {\n",
       "        vertical-align: middle;\n",
       "    }\n",
       "\n",
       "    .dataframe tbody tr th {\n",
       "        vertical-align: top;\n",
       "    }\n",
       "\n",
       "    .dataframe thead th {\n",
       "        text-align: right;\n",
       "    }\n",
       "</style>\n",
       "<table border=\"1\" class=\"dataframe\">\n",
       "  <thead>\n",
       "    <tr style=\"text-align: right;\">\n",
       "      <th></th>\n",
       "      <th>A</th>\n",
       "      <th>B</th>\n",
       "      <th>C</th>\n",
       "      <th>D</th>\n",
       "    </tr>\n",
       "  </thead>\n",
       "  <tbody>\n",
       "    <tr>\n",
       "      <th>0</th>\n",
       "      <td>0.341061</td>\n",
       "      <td>1.607817</td>\n",
       "      <td>-0.408937</td>\n",
       "      <td>-0.282537</td>\n",
       "    </tr>\n",
       "    <tr>\n",
       "      <th>1</th>\n",
       "      <td>-1.103552</td>\n",
       "      <td>0.515251</td>\n",
       "      <td>0.528470</td>\n",
       "      <td>-0.339044</td>\n",
       "    </tr>\n",
       "    <tr>\n",
       "      <th>2</th>\n",
       "      <td>0.014978</td>\n",
       "      <td>-1.732949</td>\n",
       "      <td>-1.349982</td>\n",
       "      <td>-0.604768</td>\n",
       "    </tr>\n",
       "    <tr>\n",
       "      <th>3</th>\n",
       "      <td>-0.492341</td>\n",
       "      <td>-0.036946</td>\n",
       "      <td>0.209473</td>\n",
       "      <td>0.631951</td>\n",
       "    </tr>\n",
       "    <tr>\n",
       "      <th>4</th>\n",
       "      <td>-0.711741</td>\n",
       "      <td>-1.355193</td>\n",
       "      <td>0.063138</td>\n",
       "      <td>0.080211</td>\n",
       "    </tr>\n",
       "  </tbody>\n",
       "</table>\n",
       "</div>"
      ],
      "text/plain": [
       "          A         B         C         D\n",
       "0  0.341061  1.607817 -0.408937 -0.282537\n",
       "1 -1.103552  0.515251  0.528470 -0.339044\n",
       "2  0.014978 -1.732949 -1.349982 -0.604768\n",
       "3 -0.492341 -0.036946  0.209473  0.631951\n",
       "4 -0.711741 -1.355193  0.063138  0.080211"
      ]
     },
     "execution_count": 30,
     "metadata": {},
     "output_type": "execute_result"
    }
   ],
   "source": [
    "# But we will not work with categorical data always, so we will aplly some aggrigate functions on continuous data to\n",
    "# create a bar plot with it.\n",
    "\n",
    "df.head()"
   ]
  },
  {
   "cell_type": "code",
   "execution_count": 32,
   "metadata": {},
   "outputs": [
    {
     "data": {
      "application/vnd.plotly.v1+json": {
       "config": {
        "linkText": "Export to plot.ly",
        "plotlyServerURL": "https://plot.ly",
        "showLink": true
       },
       "data": [
        {
         "marker": {
          "color": "rgba(255, 153, 51, 0.6)",
          "line": {
           "color": "rgba(255, 153, 51, 1.0)",
           "width": 1
          }
         },
         "name": "B",
         "orientation": "v",
         "text": "",
         "type": "bar",
         "x": [
          0.3410614466753071,
          -1.1035524050054597,
          0.01497802970479452,
          -0.4923405339752979,
          -0.711740649467883,
          0.7611113231300444,
          -0.32899989496145043,
          -1.0003056778373516,
          -1.144108410930388,
          -0.7187659800223282,
          -0.8827891809503372,
          0.16527534978219205,
          0.33791501376902755,
          0.2845952287777885,
          -2.031762480119184,
          0.009561136766891088,
          -0.37499414498681033,
          0.7436276548650762,
          -0.08613852640362644,
          -1.788868487410151,
          0.6091820625025955,
          -0.540546683835764,
          -1.3830705697321766,
          -0.22776248598870943,
          0.04791488496871383,
          0.14734661797990722,
          0.6837492096990183,
          0.4909535703078963,
          -0.5763766572692686,
          1.7556808706923992,
          -0.21643572049270607,
          -0.08138650173686049,
          -0.41988696887517796,
          0.5896403672067946,
          -0.15796893354889477,
          0.03098947180102704,
          -1.1741362797157253,
          -0.5288212423479839,
          -1.0461934563699007,
          -1.8047730897321894,
          -0.18922230488345462,
          0.4448399483986472,
          0.09802387104390282,
          0.3675012254291077,
          -2.199418690052648,
          0.9672627288932981,
          -1.6104735507037404,
          1.0793883903440407,
          -1.7442712770335072,
          -0.2006977228942966,
          1.1604057740322227,
          0.8380871794918501,
          0.3434621276866279,
          -1.4104992622520467,
          1.311238947350882,
          0.9412950281879889,
          -0.3350723872072907,
          0.6951180795417036,
          -0.9121582740527129,
          0.18765291170273096,
          -0.690685295257295,
          0.8852386085818393,
          0.4317636746726903,
          -0.7504024305600105,
          -0.39335965300494274,
          0.3694506068850978,
          -0.10252111873440109,
          0.49884624438508196,
          0.055394235359639964,
          0.011792637052425847,
          -0.8082790203993668,
          -1.3615811568324008,
          -0.4873899268497068,
          0.38309544271604257,
          0.4242660099135097,
          2.2187119574585603,
          -0.01959273839618212,
          -0.8646247657702009,
          0.08787197959542621,
          -0.1154797457890154,
          0.33140686940164854,
          -0.6196352065642001,
          0.3227781557323908,
          0.2447772792318997,
          -0.9529620548470774,
          -1.1779499157234683,
          0.362052923601659,
          0.36545821597693284,
          0.5563628463658707,
          0.09204794996115445,
          0.5305702320652781,
          1.2972359829146172,
          -0.463871893327936,
          -2.1652174380047438,
          1.3950847840966412,
          1.25889143735063,
          1.5414336680370502,
          -0.028970197857147585,
          -1.3978466191671446,
          -0.4684792022305753
         ],
         "y": [
          1.6078167885510994,
          0.5152505787154171,
          -1.732949449951613,
          -0.036945780938364245,
          -1.3551933367335174,
          0.5319072842514352,
          1.0697347319830688,
          -0.6363260721476971,
          -0.20643662573362598,
          -1.7853998237979154,
          -0.43298489994161915,
          -0.8220605061383672,
          -1.0416535261667546,
          -0.4436110742323203,
          -0.8849717239394095,
          0.82462023527033,
          -0.4511224528127728,
          -2.1521002255906314,
          0.6885075559620766,
          0.9619774031436268,
          -1.601282319516909,
          -1.0187221532576956,
          -0.37185922386743625,
          0.6327713965426722,
          0.6958040276700553,
          0.29576441234029416,
          0.1870375683798816,
          0.21216307603497175,
          -0.46826979686342507,
          0.5265808883122749,
          1.655233754967969,
          0.7847270184177594,
          -0.06524297551623097,
          -0.9050608073638097,
          -0.7568972725338796,
          1.8504073752072894,
          -1.3319273680622228,
          1.025323553637435,
          -1.1929053119674793,
          0.37609355139190637,
          -0.6931871349019727,
          -0.26788738816063384,
          0.6452730391434862,
          -0.6410794715938621,
          0.33601850854039045,
          1.062834980137413,
          -0.13797130277316041,
          -0.3472728358101834,
          -1.9295221797591842,
          0.688887327408491,
          -1.0059879927275013,
          -0.050838321432649304,
          2.810881273367778,
          1.5703602950010316,
          0.6688810634008149,
          -1.6495902709058397,
          0.6370014643522423,
          -0.6926906557976084,
          -1.7365465452273703,
          -1.3391600076707793,
          -2.403423131134129,
          -1.8354091651813158,
          0.6708773143428056,
          0.879946117968798,
          0.8808745167598088,
          0.9741666663770794,
          -0.8874965115923111,
          -0.12403926065668726,
          1.4859109330104527,
          0.02280886808632988,
          -1.1667746795991663,
          -0.978686343644049,
          -1.4082136206191738,
          -1.2271331376969463,
          -1.2464437921438107,
          -0.4073132003975011,
          1.3898802816681095,
          0.9273059334446105,
          0.39645412550268183,
          0.3916040681168114,
          1.7819762431059742,
          2.7889896150765257,
          -0.010367608731995102,
          -0.8704789634274461,
          2.2738070570513167,
          -0.723458871193624,
          -0.8191102049372018,
          0.46412661059334726,
          0.11437839854593614,
          0.8480965711153516,
          -0.4528516451940342,
          1.4002905273470163,
          -0.6214770108332643,
          0.25299312347365505,
          -2.538120488901347,
          -0.7338163679908073,
          -0.8294853006575363,
          -0.7021157089248629,
          1.258967519250579,
          -0.7460926635527159
         ]
        }
       ],
       "layout": {
        "legend": {
         "bgcolor": "#F5F6F9",
         "font": {
          "color": "#4D5663"
         }
        },
        "paper_bgcolor": "#F5F6F9",
        "plot_bgcolor": "#F5F6F9",
        "template": {
         "data": {
          "bar": [
           {
            "error_x": {
             "color": "#2a3f5f"
            },
            "error_y": {
             "color": "#2a3f5f"
            },
            "marker": {
             "line": {
              "color": "#E5ECF6",
              "width": 0.5
             }
            },
            "type": "bar"
           }
          ],
          "barpolar": [
           {
            "marker": {
             "line": {
              "color": "#E5ECF6",
              "width": 0.5
             }
            },
            "type": "barpolar"
           }
          ],
          "carpet": [
           {
            "aaxis": {
             "endlinecolor": "#2a3f5f",
             "gridcolor": "white",
             "linecolor": "white",
             "minorgridcolor": "white",
             "startlinecolor": "#2a3f5f"
            },
            "baxis": {
             "endlinecolor": "#2a3f5f",
             "gridcolor": "white",
             "linecolor": "white",
             "minorgridcolor": "white",
             "startlinecolor": "#2a3f5f"
            },
            "type": "carpet"
           }
          ],
          "choropleth": [
           {
            "colorbar": {
             "outlinewidth": 0,
             "ticks": ""
            },
            "type": "choropleth"
           }
          ],
          "contour": [
           {
            "colorbar": {
             "outlinewidth": 0,
             "ticks": ""
            },
            "colorscale": [
             [
              0,
              "#0d0887"
             ],
             [
              0.1111111111111111,
              "#46039f"
             ],
             [
              0.2222222222222222,
              "#7201a8"
             ],
             [
              0.3333333333333333,
              "#9c179e"
             ],
             [
              0.4444444444444444,
              "#bd3786"
             ],
             [
              0.5555555555555556,
              "#d8576b"
             ],
             [
              0.6666666666666666,
              "#ed7953"
             ],
             [
              0.7777777777777778,
              "#fb9f3a"
             ],
             [
              0.8888888888888888,
              "#fdca26"
             ],
             [
              1,
              "#f0f921"
             ]
            ],
            "type": "contour"
           }
          ],
          "contourcarpet": [
           {
            "colorbar": {
             "outlinewidth": 0,
             "ticks": ""
            },
            "type": "contourcarpet"
           }
          ],
          "heatmap": [
           {
            "colorbar": {
             "outlinewidth": 0,
             "ticks": ""
            },
            "colorscale": [
             [
              0,
              "#0d0887"
             ],
             [
              0.1111111111111111,
              "#46039f"
             ],
             [
              0.2222222222222222,
              "#7201a8"
             ],
             [
              0.3333333333333333,
              "#9c179e"
             ],
             [
              0.4444444444444444,
              "#bd3786"
             ],
             [
              0.5555555555555556,
              "#d8576b"
             ],
             [
              0.6666666666666666,
              "#ed7953"
             ],
             [
              0.7777777777777778,
              "#fb9f3a"
             ],
             [
              0.8888888888888888,
              "#fdca26"
             ],
             [
              1,
              "#f0f921"
             ]
            ],
            "type": "heatmap"
           }
          ],
          "heatmapgl": [
           {
            "colorbar": {
             "outlinewidth": 0,
             "ticks": ""
            },
            "colorscale": [
             [
              0,
              "#0d0887"
             ],
             [
              0.1111111111111111,
              "#46039f"
             ],
             [
              0.2222222222222222,
              "#7201a8"
             ],
             [
              0.3333333333333333,
              "#9c179e"
             ],
             [
              0.4444444444444444,
              "#bd3786"
             ],
             [
              0.5555555555555556,
              "#d8576b"
             ],
             [
              0.6666666666666666,
              "#ed7953"
             ],
             [
              0.7777777777777778,
              "#fb9f3a"
             ],
             [
              0.8888888888888888,
              "#fdca26"
             ],
             [
              1,
              "#f0f921"
             ]
            ],
            "type": "heatmapgl"
           }
          ],
          "histogram": [
           {
            "marker": {
             "colorbar": {
              "outlinewidth": 0,
              "ticks": ""
             }
            },
            "type": "histogram"
           }
          ],
          "histogram2d": [
           {
            "colorbar": {
             "outlinewidth": 0,
             "ticks": ""
            },
            "colorscale": [
             [
              0,
              "#0d0887"
             ],
             [
              0.1111111111111111,
              "#46039f"
             ],
             [
              0.2222222222222222,
              "#7201a8"
             ],
             [
              0.3333333333333333,
              "#9c179e"
             ],
             [
              0.4444444444444444,
              "#bd3786"
             ],
             [
              0.5555555555555556,
              "#d8576b"
             ],
             [
              0.6666666666666666,
              "#ed7953"
             ],
             [
              0.7777777777777778,
              "#fb9f3a"
             ],
             [
              0.8888888888888888,
              "#fdca26"
             ],
             [
              1,
              "#f0f921"
             ]
            ],
            "type": "histogram2d"
           }
          ],
          "histogram2dcontour": [
           {
            "colorbar": {
             "outlinewidth": 0,
             "ticks": ""
            },
            "colorscale": [
             [
              0,
              "#0d0887"
             ],
             [
              0.1111111111111111,
              "#46039f"
             ],
             [
              0.2222222222222222,
              "#7201a8"
             ],
             [
              0.3333333333333333,
              "#9c179e"
             ],
             [
              0.4444444444444444,
              "#bd3786"
             ],
             [
              0.5555555555555556,
              "#d8576b"
             ],
             [
              0.6666666666666666,
              "#ed7953"
             ],
             [
              0.7777777777777778,
              "#fb9f3a"
             ],
             [
              0.8888888888888888,
              "#fdca26"
             ],
             [
              1,
              "#f0f921"
             ]
            ],
            "type": "histogram2dcontour"
           }
          ],
          "mesh3d": [
           {
            "colorbar": {
             "outlinewidth": 0,
             "ticks": ""
            },
            "type": "mesh3d"
           }
          ],
          "parcoords": [
           {
            "line": {
             "colorbar": {
              "outlinewidth": 0,
              "ticks": ""
             }
            },
            "type": "parcoords"
           }
          ],
          "pie": [
           {
            "automargin": true,
            "type": "pie"
           }
          ],
          "scatter": [
           {
            "marker": {
             "colorbar": {
              "outlinewidth": 0,
              "ticks": ""
             }
            },
            "type": "scatter"
           }
          ],
          "scatter3d": [
           {
            "line": {
             "colorbar": {
              "outlinewidth": 0,
              "ticks": ""
             }
            },
            "marker": {
             "colorbar": {
              "outlinewidth": 0,
              "ticks": ""
             }
            },
            "type": "scatter3d"
           }
          ],
          "scattercarpet": [
           {
            "marker": {
             "colorbar": {
              "outlinewidth": 0,
              "ticks": ""
             }
            },
            "type": "scattercarpet"
           }
          ],
          "scattergeo": [
           {
            "marker": {
             "colorbar": {
              "outlinewidth": 0,
              "ticks": ""
             }
            },
            "type": "scattergeo"
           }
          ],
          "scattergl": [
           {
            "marker": {
             "colorbar": {
              "outlinewidth": 0,
              "ticks": ""
             }
            },
            "type": "scattergl"
           }
          ],
          "scattermapbox": [
           {
            "marker": {
             "colorbar": {
              "outlinewidth": 0,
              "ticks": ""
             }
            },
            "type": "scattermapbox"
           }
          ],
          "scatterpolar": [
           {
            "marker": {
             "colorbar": {
              "outlinewidth": 0,
              "ticks": ""
             }
            },
            "type": "scatterpolar"
           }
          ],
          "scatterpolargl": [
           {
            "marker": {
             "colorbar": {
              "outlinewidth": 0,
              "ticks": ""
             }
            },
            "type": "scatterpolargl"
           }
          ],
          "scatterternary": [
           {
            "marker": {
             "colorbar": {
              "outlinewidth": 0,
              "ticks": ""
             }
            },
            "type": "scatterternary"
           }
          ],
          "surface": [
           {
            "colorbar": {
             "outlinewidth": 0,
             "ticks": ""
            },
            "colorscale": [
             [
              0,
              "#0d0887"
             ],
             [
              0.1111111111111111,
              "#46039f"
             ],
             [
              0.2222222222222222,
              "#7201a8"
             ],
             [
              0.3333333333333333,
              "#9c179e"
             ],
             [
              0.4444444444444444,
              "#bd3786"
             ],
             [
              0.5555555555555556,
              "#d8576b"
             ],
             [
              0.6666666666666666,
              "#ed7953"
             ],
             [
              0.7777777777777778,
              "#fb9f3a"
             ],
             [
              0.8888888888888888,
              "#fdca26"
             ],
             [
              1,
              "#f0f921"
             ]
            ],
            "type": "surface"
           }
          ],
          "table": [
           {
            "cells": {
             "fill": {
              "color": "#EBF0F8"
             },
             "line": {
              "color": "white"
             }
            },
            "header": {
             "fill": {
              "color": "#C8D4E3"
             },
             "line": {
              "color": "white"
             }
            },
            "type": "table"
           }
          ]
         },
         "layout": {
          "annotationdefaults": {
           "arrowcolor": "#2a3f5f",
           "arrowhead": 0,
           "arrowwidth": 1
          },
          "coloraxis": {
           "colorbar": {
            "outlinewidth": 0,
            "ticks": ""
           }
          },
          "colorscale": {
           "diverging": [
            [
             0,
             "#8e0152"
            ],
            [
             0.1,
             "#c51b7d"
            ],
            [
             0.2,
             "#de77ae"
            ],
            [
             0.3,
             "#f1b6da"
            ],
            [
             0.4,
             "#fde0ef"
            ],
            [
             0.5,
             "#f7f7f7"
            ],
            [
             0.6,
             "#e6f5d0"
            ],
            [
             0.7,
             "#b8e186"
            ],
            [
             0.8,
             "#7fbc41"
            ],
            [
             0.9,
             "#4d9221"
            ],
            [
             1,
             "#276419"
            ]
           ],
           "sequential": [
            [
             0,
             "#0d0887"
            ],
            [
             0.1111111111111111,
             "#46039f"
            ],
            [
             0.2222222222222222,
             "#7201a8"
            ],
            [
             0.3333333333333333,
             "#9c179e"
            ],
            [
             0.4444444444444444,
             "#bd3786"
            ],
            [
             0.5555555555555556,
             "#d8576b"
            ],
            [
             0.6666666666666666,
             "#ed7953"
            ],
            [
             0.7777777777777778,
             "#fb9f3a"
            ],
            [
             0.8888888888888888,
             "#fdca26"
            ],
            [
             1,
             "#f0f921"
            ]
           ],
           "sequentialminus": [
            [
             0,
             "#0d0887"
            ],
            [
             0.1111111111111111,
             "#46039f"
            ],
            [
             0.2222222222222222,
             "#7201a8"
            ],
            [
             0.3333333333333333,
             "#9c179e"
            ],
            [
             0.4444444444444444,
             "#bd3786"
            ],
            [
             0.5555555555555556,
             "#d8576b"
            ],
            [
             0.6666666666666666,
             "#ed7953"
            ],
            [
             0.7777777777777778,
             "#fb9f3a"
            ],
            [
             0.8888888888888888,
             "#fdca26"
            ],
            [
             1,
             "#f0f921"
            ]
           ]
          },
          "colorway": [
           "#636efa",
           "#EF553B",
           "#00cc96",
           "#ab63fa",
           "#FFA15A",
           "#19d3f3",
           "#FF6692",
           "#B6E880",
           "#FF97FF",
           "#FECB52"
          ],
          "font": {
           "color": "#2a3f5f"
          },
          "geo": {
           "bgcolor": "white",
           "lakecolor": "white",
           "landcolor": "#E5ECF6",
           "showlakes": true,
           "showland": true,
           "subunitcolor": "white"
          },
          "hoverlabel": {
           "align": "left"
          },
          "hovermode": "closest",
          "mapbox": {
           "style": "light"
          },
          "paper_bgcolor": "white",
          "plot_bgcolor": "#E5ECF6",
          "polar": {
           "angularaxis": {
            "gridcolor": "white",
            "linecolor": "white",
            "ticks": ""
           },
           "bgcolor": "#E5ECF6",
           "radialaxis": {
            "gridcolor": "white",
            "linecolor": "white",
            "ticks": ""
           }
          },
          "scene": {
           "xaxis": {
            "backgroundcolor": "#E5ECF6",
            "gridcolor": "white",
            "gridwidth": 2,
            "linecolor": "white",
            "showbackground": true,
            "ticks": "",
            "zerolinecolor": "white"
           },
           "yaxis": {
            "backgroundcolor": "#E5ECF6",
            "gridcolor": "white",
            "gridwidth": 2,
            "linecolor": "white",
            "showbackground": true,
            "ticks": "",
            "zerolinecolor": "white"
           },
           "zaxis": {
            "backgroundcolor": "#E5ECF6",
            "gridcolor": "white",
            "gridwidth": 2,
            "linecolor": "white",
            "showbackground": true,
            "ticks": "",
            "zerolinecolor": "white"
           }
          },
          "shapedefaults": {
           "line": {
            "color": "#2a3f5f"
           }
          },
          "ternary": {
           "aaxis": {
            "gridcolor": "white",
            "linecolor": "white",
            "ticks": ""
           },
           "baxis": {
            "gridcolor": "white",
            "linecolor": "white",
            "ticks": ""
           },
           "bgcolor": "#E5ECF6",
           "caxis": {
            "gridcolor": "white",
            "linecolor": "white",
            "ticks": ""
           }
          },
          "title": {
           "x": 0.05
          },
          "xaxis": {
           "automargin": true,
           "gridcolor": "white",
           "linecolor": "white",
           "ticks": "",
           "title": {
            "standoff": 15
           },
           "zerolinecolor": "white",
           "zerolinewidth": 2
          },
          "yaxis": {
           "automargin": true,
           "gridcolor": "white",
           "linecolor": "white",
           "ticks": "",
           "title": {
            "standoff": 15
           },
           "zerolinecolor": "white",
           "zerolinewidth": 2
          }
         }
        },
        "title": {
         "font": {
          "color": "#4D5663"
         }
        },
        "xaxis": {
         "gridcolor": "#E1E5ED",
         "showgrid": true,
         "tickfont": {
          "color": "#4D5663"
         },
         "title": {
          "font": {
           "color": "#4D5663"
          },
          "text": ""
         },
         "zerolinecolor": "#E1E5ED"
        },
        "yaxis": {
         "gridcolor": "#E1E5ED",
         "showgrid": true,
         "tickfont": {
          "color": "#4D5663"
         },
         "title": {
          "font": {
           "color": "#4D5663"
          },
          "text": ""
         },
         "zerolinecolor": "#E1E5ED"
        }
       }
      },
      "text/html": [
       "<div>\n",
       "        \n",
       "        \n",
       "            <div id=\"aa549c58-9ab5-4361-968b-06f40bf888f4\" class=\"plotly-graph-div\" style=\"height:525px; width:100%;\"></div>\n",
       "            <script type=\"text/javascript\">\n",
       "                require([\"plotly\"], function(Plotly) {\n",
       "                    window.PLOTLYENV=window.PLOTLYENV || {};\n",
       "                    window.PLOTLYENV.BASE_URL='https://plot.ly';\n",
       "                    \n",
       "                if (document.getElementById(\"aa549c58-9ab5-4361-968b-06f40bf888f4\")) {\n",
       "                    Plotly.newPlot(\n",
       "                        'aa549c58-9ab5-4361-968b-06f40bf888f4',\n",
       "                        [{\"marker\": {\"color\": \"rgba(255, 153, 51, 0.6)\", \"line\": {\"color\": \"rgba(255, 153, 51, 1.0)\", \"width\": 1}}, \"name\": \"B\", \"orientation\": \"v\", \"text\": \"\", \"type\": \"bar\", \"x\": [0.3410614466753071, -1.1035524050054597, 0.01497802970479452, -0.4923405339752979, -0.711740649467883, 0.7611113231300444, -0.32899989496145043, -1.0003056778373516, -1.144108410930388, -0.7187659800223282, -0.8827891809503372, 0.16527534978219205, 0.33791501376902755, 0.2845952287777885, -2.031762480119184, 0.009561136766891088, -0.37499414498681033, 0.7436276548650762, -0.08613852640362644, -1.788868487410151, 0.6091820625025955, -0.540546683835764, -1.3830705697321766, -0.22776248598870943, 0.04791488496871383, 0.14734661797990722, 0.6837492096990183, 0.4909535703078963, -0.5763766572692686, 1.7556808706923992, -0.21643572049270607, -0.08138650173686049, -0.41988696887517796, 0.5896403672067946, -0.15796893354889477, 0.03098947180102704, -1.1741362797157253, -0.5288212423479839, -1.0461934563699007, -1.8047730897321894, -0.18922230488345462, 0.4448399483986472, 0.09802387104390282, 0.3675012254291077, -2.199418690052648, 0.9672627288932981, -1.6104735507037404, 1.0793883903440407, -1.7442712770335072, -0.2006977228942966, 1.1604057740322227, 0.8380871794918501, 0.3434621276866279, -1.4104992622520467, 1.311238947350882, 0.9412950281879889, -0.3350723872072907, 0.6951180795417036, -0.9121582740527129, 0.18765291170273096, -0.690685295257295, 0.8852386085818393, 0.4317636746726903, -0.7504024305600105, -0.39335965300494274, 0.3694506068850978, -0.10252111873440109, 0.49884624438508196, 0.055394235359639964, 0.011792637052425847, -0.8082790203993668, -1.3615811568324008, -0.4873899268497068, 0.38309544271604257, 0.4242660099135097, 2.2187119574585603, -0.01959273839618212, -0.8646247657702009, 0.08787197959542621, -0.1154797457890154, 0.33140686940164854, -0.6196352065642001, 0.3227781557323908, 0.2447772792318997, -0.9529620548470774, -1.1779499157234683, 0.362052923601659, 0.36545821597693284, 0.5563628463658707, 0.09204794996115445, 0.5305702320652781, 1.2972359829146172, -0.463871893327936, -2.1652174380047438, 1.3950847840966412, 1.25889143735063, 1.5414336680370502, -0.028970197857147585, -1.3978466191671446, -0.4684792022305753], \"y\": [1.6078167885510994, 0.5152505787154171, -1.732949449951613, -0.036945780938364245, -1.3551933367335174, 0.5319072842514352, 1.0697347319830688, -0.6363260721476971, -0.20643662573362598, -1.7853998237979154, -0.43298489994161915, -0.8220605061383672, -1.0416535261667546, -0.4436110742323203, -0.8849717239394095, 0.82462023527033, -0.4511224528127728, -2.1521002255906314, 0.6885075559620766, 0.9619774031436268, -1.601282319516909, -1.0187221532576956, -0.37185922386743625, 0.6327713965426722, 0.6958040276700553, 0.29576441234029416, 0.1870375683798816, 0.21216307603497175, -0.46826979686342507, 0.5265808883122749, 1.655233754967969, 0.7847270184177594, -0.06524297551623097, -0.9050608073638097, -0.7568972725338796, 1.8504073752072894, -1.3319273680622228, 1.025323553637435, -1.1929053119674793, 0.37609355139190637, -0.6931871349019727, -0.26788738816063384, 0.6452730391434862, -0.6410794715938621, 0.33601850854039045, 1.062834980137413, -0.13797130277316041, -0.3472728358101834, -1.9295221797591842, 0.688887327408491, -1.0059879927275013, -0.050838321432649304, 2.810881273367778, 1.5703602950010316, 0.6688810634008149, -1.6495902709058397, 0.6370014643522423, -0.6926906557976084, -1.7365465452273703, -1.3391600076707793, -2.403423131134129, -1.8354091651813158, 0.6708773143428056, 0.879946117968798, 0.8808745167598088, 0.9741666663770794, -0.8874965115923111, -0.12403926065668726, 1.4859109330104527, 0.02280886808632988, -1.1667746795991663, -0.978686343644049, -1.4082136206191738, -1.2271331376969463, -1.2464437921438107, -0.4073132003975011, 1.3898802816681095, 0.9273059334446105, 0.39645412550268183, 0.3916040681168114, 1.7819762431059742, 2.7889896150765257, -0.010367608731995102, -0.8704789634274461, 2.2738070570513167, -0.723458871193624, -0.8191102049372018, 0.46412661059334726, 0.11437839854593614, 0.8480965711153516, -0.4528516451940342, 1.4002905273470163, -0.6214770108332643, 0.25299312347365505, -2.538120488901347, -0.7338163679908073, -0.8294853006575363, -0.7021157089248629, 1.258967519250579, -0.7460926635527159]}],\n",
       "                        {\"legend\": {\"bgcolor\": \"#F5F6F9\", \"font\": {\"color\": \"#4D5663\"}}, \"paper_bgcolor\": \"#F5F6F9\", \"plot_bgcolor\": \"#F5F6F9\", \"template\": {\"data\": {\"bar\": [{\"error_x\": {\"color\": \"#2a3f5f\"}, \"error_y\": {\"color\": \"#2a3f5f\"}, \"marker\": {\"line\": {\"color\": \"#E5ECF6\", \"width\": 0.5}}, \"type\": \"bar\"}], \"barpolar\": [{\"marker\": {\"line\": {\"color\": \"#E5ECF6\", \"width\": 0.5}}, \"type\": \"barpolar\"}], \"carpet\": [{\"aaxis\": {\"endlinecolor\": \"#2a3f5f\", \"gridcolor\": \"white\", \"linecolor\": \"white\", \"minorgridcolor\": \"white\", \"startlinecolor\": \"#2a3f5f\"}, \"baxis\": {\"endlinecolor\": \"#2a3f5f\", \"gridcolor\": \"white\", \"linecolor\": \"white\", \"minorgridcolor\": \"white\", \"startlinecolor\": \"#2a3f5f\"}, \"type\": \"carpet\"}], \"choropleth\": [{\"colorbar\": {\"outlinewidth\": 0, \"ticks\": \"\"}, \"type\": \"choropleth\"}], \"contour\": [{\"colorbar\": {\"outlinewidth\": 0, \"ticks\": \"\"}, \"colorscale\": [[0.0, \"#0d0887\"], [0.1111111111111111, \"#46039f\"], [0.2222222222222222, \"#7201a8\"], [0.3333333333333333, \"#9c179e\"], [0.4444444444444444, \"#bd3786\"], [0.5555555555555556, \"#d8576b\"], [0.6666666666666666, \"#ed7953\"], [0.7777777777777778, \"#fb9f3a\"], [0.8888888888888888, \"#fdca26\"], [1.0, \"#f0f921\"]], \"type\": \"contour\"}], \"contourcarpet\": [{\"colorbar\": {\"outlinewidth\": 0, \"ticks\": \"\"}, \"type\": \"contourcarpet\"}], \"heatmap\": [{\"colorbar\": {\"outlinewidth\": 0, \"ticks\": \"\"}, \"colorscale\": [[0.0, \"#0d0887\"], [0.1111111111111111, \"#46039f\"], [0.2222222222222222, \"#7201a8\"], [0.3333333333333333, \"#9c179e\"], [0.4444444444444444, \"#bd3786\"], [0.5555555555555556, \"#d8576b\"], [0.6666666666666666, \"#ed7953\"], [0.7777777777777778, \"#fb9f3a\"], [0.8888888888888888, \"#fdca26\"], [1.0, \"#f0f921\"]], \"type\": \"heatmap\"}], \"heatmapgl\": [{\"colorbar\": {\"outlinewidth\": 0, \"ticks\": \"\"}, \"colorscale\": [[0.0, \"#0d0887\"], [0.1111111111111111, \"#46039f\"], [0.2222222222222222, \"#7201a8\"], [0.3333333333333333, \"#9c179e\"], [0.4444444444444444, \"#bd3786\"], [0.5555555555555556, \"#d8576b\"], [0.6666666666666666, \"#ed7953\"], [0.7777777777777778, \"#fb9f3a\"], [0.8888888888888888, \"#fdca26\"], [1.0, \"#f0f921\"]], \"type\": \"heatmapgl\"}], \"histogram\": [{\"marker\": {\"colorbar\": {\"outlinewidth\": 0, \"ticks\": \"\"}}, \"type\": \"histogram\"}], \"histogram2d\": [{\"colorbar\": {\"outlinewidth\": 0, \"ticks\": \"\"}, \"colorscale\": [[0.0, \"#0d0887\"], [0.1111111111111111, \"#46039f\"], [0.2222222222222222, \"#7201a8\"], [0.3333333333333333, \"#9c179e\"], [0.4444444444444444, \"#bd3786\"], [0.5555555555555556, \"#d8576b\"], [0.6666666666666666, \"#ed7953\"], [0.7777777777777778, \"#fb9f3a\"], [0.8888888888888888, \"#fdca26\"], [1.0, \"#f0f921\"]], \"type\": \"histogram2d\"}], \"histogram2dcontour\": [{\"colorbar\": {\"outlinewidth\": 0, \"ticks\": \"\"}, \"colorscale\": [[0.0, \"#0d0887\"], [0.1111111111111111, \"#46039f\"], [0.2222222222222222, \"#7201a8\"], [0.3333333333333333, \"#9c179e\"], [0.4444444444444444, \"#bd3786\"], [0.5555555555555556, \"#d8576b\"], [0.6666666666666666, \"#ed7953\"], [0.7777777777777778, \"#fb9f3a\"], [0.8888888888888888, \"#fdca26\"], [1.0, \"#f0f921\"]], \"type\": \"histogram2dcontour\"}], \"mesh3d\": [{\"colorbar\": {\"outlinewidth\": 0, \"ticks\": \"\"}, \"type\": \"mesh3d\"}], \"parcoords\": [{\"line\": {\"colorbar\": {\"outlinewidth\": 0, \"ticks\": \"\"}}, \"type\": \"parcoords\"}], \"pie\": [{\"automargin\": true, \"type\": \"pie\"}], \"scatter\": [{\"marker\": {\"colorbar\": {\"outlinewidth\": 0, \"ticks\": \"\"}}, \"type\": \"scatter\"}], \"scatter3d\": [{\"line\": {\"colorbar\": {\"outlinewidth\": 0, \"ticks\": \"\"}}, \"marker\": {\"colorbar\": {\"outlinewidth\": 0, \"ticks\": \"\"}}, \"type\": \"scatter3d\"}], \"scattercarpet\": [{\"marker\": {\"colorbar\": {\"outlinewidth\": 0, \"ticks\": \"\"}}, \"type\": \"scattercarpet\"}], \"scattergeo\": [{\"marker\": {\"colorbar\": {\"outlinewidth\": 0, \"ticks\": \"\"}}, \"type\": \"scattergeo\"}], \"scattergl\": [{\"marker\": {\"colorbar\": {\"outlinewidth\": 0, \"ticks\": \"\"}}, \"type\": \"scattergl\"}], \"scattermapbox\": [{\"marker\": {\"colorbar\": {\"outlinewidth\": 0, \"ticks\": \"\"}}, \"type\": \"scattermapbox\"}], \"scatterpolar\": [{\"marker\": {\"colorbar\": {\"outlinewidth\": 0, \"ticks\": \"\"}}, \"type\": \"scatterpolar\"}], \"scatterpolargl\": [{\"marker\": {\"colorbar\": {\"outlinewidth\": 0, \"ticks\": \"\"}}, \"type\": \"scatterpolargl\"}], \"scatterternary\": [{\"marker\": {\"colorbar\": {\"outlinewidth\": 0, \"ticks\": \"\"}}, \"type\": \"scatterternary\"}], \"surface\": [{\"colorbar\": {\"outlinewidth\": 0, \"ticks\": \"\"}, \"colorscale\": [[0.0, \"#0d0887\"], [0.1111111111111111, \"#46039f\"], [0.2222222222222222, \"#7201a8\"], [0.3333333333333333, \"#9c179e\"], [0.4444444444444444, \"#bd3786\"], [0.5555555555555556, \"#d8576b\"], [0.6666666666666666, \"#ed7953\"], [0.7777777777777778, \"#fb9f3a\"], [0.8888888888888888, \"#fdca26\"], [1.0, \"#f0f921\"]], \"type\": \"surface\"}], \"table\": [{\"cells\": {\"fill\": {\"color\": \"#EBF0F8\"}, \"line\": {\"color\": \"white\"}}, \"header\": {\"fill\": {\"color\": \"#C8D4E3\"}, \"line\": {\"color\": \"white\"}}, \"type\": \"table\"}]}, \"layout\": {\"annotationdefaults\": {\"arrowcolor\": \"#2a3f5f\", \"arrowhead\": 0, \"arrowwidth\": 1}, \"coloraxis\": {\"colorbar\": {\"outlinewidth\": 0, \"ticks\": \"\"}}, \"colorscale\": {\"diverging\": [[0, \"#8e0152\"], [0.1, \"#c51b7d\"], [0.2, \"#de77ae\"], [0.3, \"#f1b6da\"], [0.4, \"#fde0ef\"], [0.5, \"#f7f7f7\"], [0.6, \"#e6f5d0\"], [0.7, \"#b8e186\"], [0.8, \"#7fbc41\"], [0.9, \"#4d9221\"], [1, \"#276419\"]], \"sequential\": [[0.0, \"#0d0887\"], [0.1111111111111111, \"#46039f\"], [0.2222222222222222, \"#7201a8\"], [0.3333333333333333, \"#9c179e\"], [0.4444444444444444, \"#bd3786\"], [0.5555555555555556, \"#d8576b\"], [0.6666666666666666, \"#ed7953\"], [0.7777777777777778, \"#fb9f3a\"], [0.8888888888888888, \"#fdca26\"], [1.0, \"#f0f921\"]], \"sequentialminus\": [[0.0, \"#0d0887\"], [0.1111111111111111, \"#46039f\"], [0.2222222222222222, \"#7201a8\"], [0.3333333333333333, \"#9c179e\"], [0.4444444444444444, \"#bd3786\"], [0.5555555555555556, \"#d8576b\"], [0.6666666666666666, \"#ed7953\"], [0.7777777777777778, \"#fb9f3a\"], [0.8888888888888888, \"#fdca26\"], [1.0, \"#f0f921\"]]}, \"colorway\": [\"#636efa\", \"#EF553B\", \"#00cc96\", \"#ab63fa\", \"#FFA15A\", \"#19d3f3\", \"#FF6692\", \"#B6E880\", \"#FF97FF\", \"#FECB52\"], \"font\": {\"color\": \"#2a3f5f\"}, \"geo\": {\"bgcolor\": \"white\", \"lakecolor\": \"white\", \"landcolor\": \"#E5ECF6\", \"showlakes\": true, \"showland\": true, \"subunitcolor\": \"white\"}, \"hoverlabel\": {\"align\": \"left\"}, \"hovermode\": \"closest\", \"mapbox\": {\"style\": \"light\"}, \"paper_bgcolor\": \"white\", \"plot_bgcolor\": \"#E5ECF6\", \"polar\": {\"angularaxis\": {\"gridcolor\": \"white\", \"linecolor\": \"white\", \"ticks\": \"\"}, \"bgcolor\": \"#E5ECF6\", \"radialaxis\": {\"gridcolor\": \"white\", \"linecolor\": \"white\", \"ticks\": \"\"}}, \"scene\": {\"xaxis\": {\"backgroundcolor\": \"#E5ECF6\", \"gridcolor\": \"white\", \"gridwidth\": 2, \"linecolor\": \"white\", \"showbackground\": true, \"ticks\": \"\", \"zerolinecolor\": \"white\"}, \"yaxis\": {\"backgroundcolor\": \"#E5ECF6\", \"gridcolor\": \"white\", \"gridwidth\": 2, \"linecolor\": \"white\", \"showbackground\": true, \"ticks\": \"\", \"zerolinecolor\": \"white\"}, \"zaxis\": {\"backgroundcolor\": \"#E5ECF6\", \"gridcolor\": \"white\", \"gridwidth\": 2, \"linecolor\": \"white\", \"showbackground\": true, \"ticks\": \"\", \"zerolinecolor\": \"white\"}}, \"shapedefaults\": {\"line\": {\"color\": \"#2a3f5f\"}}, \"ternary\": {\"aaxis\": {\"gridcolor\": \"white\", \"linecolor\": \"white\", \"ticks\": \"\"}, \"baxis\": {\"gridcolor\": \"white\", \"linecolor\": \"white\", \"ticks\": \"\"}, \"bgcolor\": \"#E5ECF6\", \"caxis\": {\"gridcolor\": \"white\", \"linecolor\": \"white\", \"ticks\": \"\"}}, \"title\": {\"x\": 0.05}, \"xaxis\": {\"automargin\": true, \"gridcolor\": \"white\", \"linecolor\": \"white\", \"ticks\": \"\", \"title\": {\"standoff\": 15}, \"zerolinecolor\": \"white\", \"zerolinewidth\": 2}, \"yaxis\": {\"automargin\": true, \"gridcolor\": \"white\", \"linecolor\": \"white\", \"ticks\": \"\", \"title\": {\"standoff\": 15}, \"zerolinecolor\": \"white\", \"zerolinewidth\": 2}}}, \"title\": {\"font\": {\"color\": \"#4D5663\"}}, \"xaxis\": {\"gridcolor\": \"#E1E5ED\", \"showgrid\": true, \"tickfont\": {\"color\": \"#4D5663\"}, \"title\": {\"font\": {\"color\": \"#4D5663\"}, \"text\": \"\"}, \"zerolinecolor\": \"#E1E5ED\"}, \"yaxis\": {\"gridcolor\": \"#E1E5ED\", \"showgrid\": true, \"tickfont\": {\"color\": \"#4D5663\"}, \"title\": {\"font\": {\"color\": \"#4D5663\"}, \"text\": \"\"}, \"zerolinecolor\": \"#E1E5ED\"}},\n",
       "                        {\"showLink\": true, \"linkText\": \"Export to plot.ly\", \"plotlyServerURL\": \"https://plot.ly\", \"responsive\": true}\n",
       "                    ).then(function(){\n",
       "                            \n",
       "var gd = document.getElementById('aa549c58-9ab5-4361-968b-06f40bf888f4');\n",
       "var x = new MutationObserver(function (mutations, observer) {{\n",
       "        var display = window.getComputedStyle(gd).display;\n",
       "        if (!display || display === 'none') {{\n",
       "            console.log([gd, 'removed!']);\n",
       "            Plotly.purge(gd);\n",
       "            observer.disconnect();\n",
       "        }}\n",
       "}});\n",
       "\n",
       "// Listen for the removal of the full notebook cells\n",
       "var notebookContainer = gd.closest('#notebook-container');\n",
       "if (notebookContainer) {{\n",
       "    x.observe(notebookContainer, {childList: true});\n",
       "}}\n",
       "\n",
       "// Listen for the clearing of the current output cell\n",
       "var outputEl = gd.closest('.output');\n",
       "if (outputEl) {{\n",
       "    x.observe(outputEl, {childList: true});\n",
       "}}\n",
       "\n",
       "                        })\n",
       "                };\n",
       "                });\n",
       "            </script>\n",
       "        </div>"
      ]
     },
     "metadata": {},
     "output_type": "display_data"
    }
   ],
   "source": [
    "df.iplot(kind='bar', x='A', y='B')"
   ]
  },
  {
   "cell_type": "code",
   "execution_count": 36,
   "metadata": {},
   "outputs": [
    {
     "data": {
      "application/vnd.plotly.v1+json": {
       "config": {
        "linkText": "Export to plot.ly",
        "plotlyServerURL": "https://plot.ly",
        "showLink": true
       },
       "data": [
        {
         "marker": {
          "color": "rgba(255, 153, 51, 0.6)",
          "line": {
           "color": "rgba(255, 153, 51, 1.0)",
           "width": 1
          }
         },
         "name": "None",
         "orientation": "v",
         "text": "",
         "type": "bar",
         "x": [
          "A",
          "B",
          "C",
          "D"
         ],
         "y": [
          100,
          100,
          100,
          100
         ]
        }
       ],
       "layout": {
        "legend": {
         "bgcolor": "#F5F6F9",
         "font": {
          "color": "#4D5663"
         }
        },
        "paper_bgcolor": "#F5F6F9",
        "plot_bgcolor": "#F5F6F9",
        "template": {
         "data": {
          "bar": [
           {
            "error_x": {
             "color": "#2a3f5f"
            },
            "error_y": {
             "color": "#2a3f5f"
            },
            "marker": {
             "line": {
              "color": "#E5ECF6",
              "width": 0.5
             }
            },
            "type": "bar"
           }
          ],
          "barpolar": [
           {
            "marker": {
             "line": {
              "color": "#E5ECF6",
              "width": 0.5
             }
            },
            "type": "barpolar"
           }
          ],
          "carpet": [
           {
            "aaxis": {
             "endlinecolor": "#2a3f5f",
             "gridcolor": "white",
             "linecolor": "white",
             "minorgridcolor": "white",
             "startlinecolor": "#2a3f5f"
            },
            "baxis": {
             "endlinecolor": "#2a3f5f",
             "gridcolor": "white",
             "linecolor": "white",
             "minorgridcolor": "white",
             "startlinecolor": "#2a3f5f"
            },
            "type": "carpet"
           }
          ],
          "choropleth": [
           {
            "colorbar": {
             "outlinewidth": 0,
             "ticks": ""
            },
            "type": "choropleth"
           }
          ],
          "contour": [
           {
            "colorbar": {
             "outlinewidth": 0,
             "ticks": ""
            },
            "colorscale": [
             [
              0,
              "#0d0887"
             ],
             [
              0.1111111111111111,
              "#46039f"
             ],
             [
              0.2222222222222222,
              "#7201a8"
             ],
             [
              0.3333333333333333,
              "#9c179e"
             ],
             [
              0.4444444444444444,
              "#bd3786"
             ],
             [
              0.5555555555555556,
              "#d8576b"
             ],
             [
              0.6666666666666666,
              "#ed7953"
             ],
             [
              0.7777777777777778,
              "#fb9f3a"
             ],
             [
              0.8888888888888888,
              "#fdca26"
             ],
             [
              1,
              "#f0f921"
             ]
            ],
            "type": "contour"
           }
          ],
          "contourcarpet": [
           {
            "colorbar": {
             "outlinewidth": 0,
             "ticks": ""
            },
            "type": "contourcarpet"
           }
          ],
          "heatmap": [
           {
            "colorbar": {
             "outlinewidth": 0,
             "ticks": ""
            },
            "colorscale": [
             [
              0,
              "#0d0887"
             ],
             [
              0.1111111111111111,
              "#46039f"
             ],
             [
              0.2222222222222222,
              "#7201a8"
             ],
             [
              0.3333333333333333,
              "#9c179e"
             ],
             [
              0.4444444444444444,
              "#bd3786"
             ],
             [
              0.5555555555555556,
              "#d8576b"
             ],
             [
              0.6666666666666666,
              "#ed7953"
             ],
             [
              0.7777777777777778,
              "#fb9f3a"
             ],
             [
              0.8888888888888888,
              "#fdca26"
             ],
             [
              1,
              "#f0f921"
             ]
            ],
            "type": "heatmap"
           }
          ],
          "heatmapgl": [
           {
            "colorbar": {
             "outlinewidth": 0,
             "ticks": ""
            },
            "colorscale": [
             [
              0,
              "#0d0887"
             ],
             [
              0.1111111111111111,
              "#46039f"
             ],
             [
              0.2222222222222222,
              "#7201a8"
             ],
             [
              0.3333333333333333,
              "#9c179e"
             ],
             [
              0.4444444444444444,
              "#bd3786"
             ],
             [
              0.5555555555555556,
              "#d8576b"
             ],
             [
              0.6666666666666666,
              "#ed7953"
             ],
             [
              0.7777777777777778,
              "#fb9f3a"
             ],
             [
              0.8888888888888888,
              "#fdca26"
             ],
             [
              1,
              "#f0f921"
             ]
            ],
            "type": "heatmapgl"
           }
          ],
          "histogram": [
           {
            "marker": {
             "colorbar": {
              "outlinewidth": 0,
              "ticks": ""
             }
            },
            "type": "histogram"
           }
          ],
          "histogram2d": [
           {
            "colorbar": {
             "outlinewidth": 0,
             "ticks": ""
            },
            "colorscale": [
             [
              0,
              "#0d0887"
             ],
             [
              0.1111111111111111,
              "#46039f"
             ],
             [
              0.2222222222222222,
              "#7201a8"
             ],
             [
              0.3333333333333333,
              "#9c179e"
             ],
             [
              0.4444444444444444,
              "#bd3786"
             ],
             [
              0.5555555555555556,
              "#d8576b"
             ],
             [
              0.6666666666666666,
              "#ed7953"
             ],
             [
              0.7777777777777778,
              "#fb9f3a"
             ],
             [
              0.8888888888888888,
              "#fdca26"
             ],
             [
              1,
              "#f0f921"
             ]
            ],
            "type": "histogram2d"
           }
          ],
          "histogram2dcontour": [
           {
            "colorbar": {
             "outlinewidth": 0,
             "ticks": ""
            },
            "colorscale": [
             [
              0,
              "#0d0887"
             ],
             [
              0.1111111111111111,
              "#46039f"
             ],
             [
              0.2222222222222222,
              "#7201a8"
             ],
             [
              0.3333333333333333,
              "#9c179e"
             ],
             [
              0.4444444444444444,
              "#bd3786"
             ],
             [
              0.5555555555555556,
              "#d8576b"
             ],
             [
              0.6666666666666666,
              "#ed7953"
             ],
             [
              0.7777777777777778,
              "#fb9f3a"
             ],
             [
              0.8888888888888888,
              "#fdca26"
             ],
             [
              1,
              "#f0f921"
             ]
            ],
            "type": "histogram2dcontour"
           }
          ],
          "mesh3d": [
           {
            "colorbar": {
             "outlinewidth": 0,
             "ticks": ""
            },
            "type": "mesh3d"
           }
          ],
          "parcoords": [
           {
            "line": {
             "colorbar": {
              "outlinewidth": 0,
              "ticks": ""
             }
            },
            "type": "parcoords"
           }
          ],
          "pie": [
           {
            "automargin": true,
            "type": "pie"
           }
          ],
          "scatter": [
           {
            "marker": {
             "colorbar": {
              "outlinewidth": 0,
              "ticks": ""
             }
            },
            "type": "scatter"
           }
          ],
          "scatter3d": [
           {
            "line": {
             "colorbar": {
              "outlinewidth": 0,
              "ticks": ""
             }
            },
            "marker": {
             "colorbar": {
              "outlinewidth": 0,
              "ticks": ""
             }
            },
            "type": "scatter3d"
           }
          ],
          "scattercarpet": [
           {
            "marker": {
             "colorbar": {
              "outlinewidth": 0,
              "ticks": ""
             }
            },
            "type": "scattercarpet"
           }
          ],
          "scattergeo": [
           {
            "marker": {
             "colorbar": {
              "outlinewidth": 0,
              "ticks": ""
             }
            },
            "type": "scattergeo"
           }
          ],
          "scattergl": [
           {
            "marker": {
             "colorbar": {
              "outlinewidth": 0,
              "ticks": ""
             }
            },
            "type": "scattergl"
           }
          ],
          "scattermapbox": [
           {
            "marker": {
             "colorbar": {
              "outlinewidth": 0,
              "ticks": ""
             }
            },
            "type": "scattermapbox"
           }
          ],
          "scatterpolar": [
           {
            "marker": {
             "colorbar": {
              "outlinewidth": 0,
              "ticks": ""
             }
            },
            "type": "scatterpolar"
           }
          ],
          "scatterpolargl": [
           {
            "marker": {
             "colorbar": {
              "outlinewidth": 0,
              "ticks": ""
             }
            },
            "type": "scatterpolargl"
           }
          ],
          "scatterternary": [
           {
            "marker": {
             "colorbar": {
              "outlinewidth": 0,
              "ticks": ""
             }
            },
            "type": "scatterternary"
           }
          ],
          "surface": [
           {
            "colorbar": {
             "outlinewidth": 0,
             "ticks": ""
            },
            "colorscale": [
             [
              0,
              "#0d0887"
             ],
             [
              0.1111111111111111,
              "#46039f"
             ],
             [
              0.2222222222222222,
              "#7201a8"
             ],
             [
              0.3333333333333333,
              "#9c179e"
             ],
             [
              0.4444444444444444,
              "#bd3786"
             ],
             [
              0.5555555555555556,
              "#d8576b"
             ],
             [
              0.6666666666666666,
              "#ed7953"
             ],
             [
              0.7777777777777778,
              "#fb9f3a"
             ],
             [
              0.8888888888888888,
              "#fdca26"
             ],
             [
              1,
              "#f0f921"
             ]
            ],
            "type": "surface"
           }
          ],
          "table": [
           {
            "cells": {
             "fill": {
              "color": "#EBF0F8"
             },
             "line": {
              "color": "white"
             }
            },
            "header": {
             "fill": {
              "color": "#C8D4E3"
             },
             "line": {
              "color": "white"
             }
            },
            "type": "table"
           }
          ]
         },
         "layout": {
          "annotationdefaults": {
           "arrowcolor": "#2a3f5f",
           "arrowhead": 0,
           "arrowwidth": 1
          },
          "coloraxis": {
           "colorbar": {
            "outlinewidth": 0,
            "ticks": ""
           }
          },
          "colorscale": {
           "diverging": [
            [
             0,
             "#8e0152"
            ],
            [
             0.1,
             "#c51b7d"
            ],
            [
             0.2,
             "#de77ae"
            ],
            [
             0.3,
             "#f1b6da"
            ],
            [
             0.4,
             "#fde0ef"
            ],
            [
             0.5,
             "#f7f7f7"
            ],
            [
             0.6,
             "#e6f5d0"
            ],
            [
             0.7,
             "#b8e186"
            ],
            [
             0.8,
             "#7fbc41"
            ],
            [
             0.9,
             "#4d9221"
            ],
            [
             1,
             "#276419"
            ]
           ],
           "sequential": [
            [
             0,
             "#0d0887"
            ],
            [
             0.1111111111111111,
             "#46039f"
            ],
            [
             0.2222222222222222,
             "#7201a8"
            ],
            [
             0.3333333333333333,
             "#9c179e"
            ],
            [
             0.4444444444444444,
             "#bd3786"
            ],
            [
             0.5555555555555556,
             "#d8576b"
            ],
            [
             0.6666666666666666,
             "#ed7953"
            ],
            [
             0.7777777777777778,
             "#fb9f3a"
            ],
            [
             0.8888888888888888,
             "#fdca26"
            ],
            [
             1,
             "#f0f921"
            ]
           ],
           "sequentialminus": [
            [
             0,
             "#0d0887"
            ],
            [
             0.1111111111111111,
             "#46039f"
            ],
            [
             0.2222222222222222,
             "#7201a8"
            ],
            [
             0.3333333333333333,
             "#9c179e"
            ],
            [
             0.4444444444444444,
             "#bd3786"
            ],
            [
             0.5555555555555556,
             "#d8576b"
            ],
            [
             0.6666666666666666,
             "#ed7953"
            ],
            [
             0.7777777777777778,
             "#fb9f3a"
            ],
            [
             0.8888888888888888,
             "#fdca26"
            ],
            [
             1,
             "#f0f921"
            ]
           ]
          },
          "colorway": [
           "#636efa",
           "#EF553B",
           "#00cc96",
           "#ab63fa",
           "#FFA15A",
           "#19d3f3",
           "#FF6692",
           "#B6E880",
           "#FF97FF",
           "#FECB52"
          ],
          "font": {
           "color": "#2a3f5f"
          },
          "geo": {
           "bgcolor": "white",
           "lakecolor": "white",
           "landcolor": "#E5ECF6",
           "showlakes": true,
           "showland": true,
           "subunitcolor": "white"
          },
          "hoverlabel": {
           "align": "left"
          },
          "hovermode": "closest",
          "mapbox": {
           "style": "light"
          },
          "paper_bgcolor": "white",
          "plot_bgcolor": "#E5ECF6",
          "polar": {
           "angularaxis": {
            "gridcolor": "white",
            "linecolor": "white",
            "ticks": ""
           },
           "bgcolor": "#E5ECF6",
           "radialaxis": {
            "gridcolor": "white",
            "linecolor": "white",
            "ticks": ""
           }
          },
          "scene": {
           "xaxis": {
            "backgroundcolor": "#E5ECF6",
            "gridcolor": "white",
            "gridwidth": 2,
            "linecolor": "white",
            "showbackground": true,
            "ticks": "",
            "zerolinecolor": "white"
           },
           "yaxis": {
            "backgroundcolor": "#E5ECF6",
            "gridcolor": "white",
            "gridwidth": 2,
            "linecolor": "white",
            "showbackground": true,
            "ticks": "",
            "zerolinecolor": "white"
           },
           "zaxis": {
            "backgroundcolor": "#E5ECF6",
            "gridcolor": "white",
            "gridwidth": 2,
            "linecolor": "white",
            "showbackground": true,
            "ticks": "",
            "zerolinecolor": "white"
           }
          },
          "shapedefaults": {
           "line": {
            "color": "#2a3f5f"
           }
          },
          "ternary": {
           "aaxis": {
            "gridcolor": "white",
            "linecolor": "white",
            "ticks": ""
           },
           "baxis": {
            "gridcolor": "white",
            "linecolor": "white",
            "ticks": ""
           },
           "bgcolor": "#E5ECF6",
           "caxis": {
            "gridcolor": "white",
            "linecolor": "white",
            "ticks": ""
           }
          },
          "title": {
           "x": 0.05
          },
          "xaxis": {
           "automargin": true,
           "gridcolor": "white",
           "linecolor": "white",
           "ticks": "",
           "title": {
            "standoff": 15
           },
           "zerolinecolor": "white",
           "zerolinewidth": 2
          },
          "yaxis": {
           "automargin": true,
           "gridcolor": "white",
           "linecolor": "white",
           "ticks": "",
           "title": {
            "standoff": 15
           },
           "zerolinecolor": "white",
           "zerolinewidth": 2
          }
         }
        },
        "title": {
         "font": {
          "color": "#4D5663"
         }
        },
        "xaxis": {
         "gridcolor": "#E1E5ED",
         "showgrid": true,
         "tickfont": {
          "color": "#4D5663"
         },
         "title": {
          "font": {
           "color": "#4D5663"
          },
          "text": ""
         },
         "zerolinecolor": "#E1E5ED"
        },
        "yaxis": {
         "gridcolor": "#E1E5ED",
         "showgrid": true,
         "tickfont": {
          "color": "#4D5663"
         },
         "title": {
          "font": {
           "color": "#4D5663"
          },
          "text": ""
         },
         "zerolinecolor": "#E1E5ED"
        }
       }
      },
      "text/html": [
       "<div>\n",
       "        \n",
       "        \n",
       "            <div id=\"a05e20d5-219f-4392-a601-86891448a730\" class=\"plotly-graph-div\" style=\"height:525px; width:100%;\"></div>\n",
       "            <script type=\"text/javascript\">\n",
       "                require([\"plotly\"], function(Plotly) {\n",
       "                    window.PLOTLYENV=window.PLOTLYENV || {};\n",
       "                    window.PLOTLYENV.BASE_URL='https://plot.ly';\n",
       "                    \n",
       "                if (document.getElementById(\"a05e20d5-219f-4392-a601-86891448a730\")) {\n",
       "                    Plotly.newPlot(\n",
       "                        'a05e20d5-219f-4392-a601-86891448a730',\n",
       "                        [{\"marker\": {\"color\": \"rgba(255, 153, 51, 0.6)\", \"line\": {\"color\": \"rgba(255, 153, 51, 1.0)\", \"width\": 1}}, \"name\": \"None\", \"orientation\": \"v\", \"text\": \"\", \"type\": \"bar\", \"x\": [\"A\", \"B\", \"C\", \"D\"], \"y\": [100, 100, 100, 100]}],\n",
       "                        {\"legend\": {\"bgcolor\": \"#F5F6F9\", \"font\": {\"color\": \"#4D5663\"}}, \"paper_bgcolor\": \"#F5F6F9\", \"plot_bgcolor\": \"#F5F6F9\", \"template\": {\"data\": {\"bar\": [{\"error_x\": {\"color\": \"#2a3f5f\"}, \"error_y\": {\"color\": \"#2a3f5f\"}, \"marker\": {\"line\": {\"color\": \"#E5ECF6\", \"width\": 0.5}}, \"type\": \"bar\"}], \"barpolar\": [{\"marker\": {\"line\": {\"color\": \"#E5ECF6\", \"width\": 0.5}}, \"type\": \"barpolar\"}], \"carpet\": [{\"aaxis\": {\"endlinecolor\": \"#2a3f5f\", \"gridcolor\": \"white\", \"linecolor\": \"white\", \"minorgridcolor\": \"white\", \"startlinecolor\": \"#2a3f5f\"}, \"baxis\": {\"endlinecolor\": \"#2a3f5f\", \"gridcolor\": \"white\", \"linecolor\": \"white\", \"minorgridcolor\": \"white\", \"startlinecolor\": \"#2a3f5f\"}, \"type\": \"carpet\"}], \"choropleth\": [{\"colorbar\": {\"outlinewidth\": 0, \"ticks\": \"\"}, \"type\": \"choropleth\"}], \"contour\": [{\"colorbar\": {\"outlinewidth\": 0, \"ticks\": \"\"}, \"colorscale\": [[0.0, \"#0d0887\"], [0.1111111111111111, \"#46039f\"], [0.2222222222222222, \"#7201a8\"], [0.3333333333333333, \"#9c179e\"], [0.4444444444444444, \"#bd3786\"], [0.5555555555555556, \"#d8576b\"], [0.6666666666666666, \"#ed7953\"], [0.7777777777777778, \"#fb9f3a\"], [0.8888888888888888, \"#fdca26\"], [1.0, \"#f0f921\"]], \"type\": \"contour\"}], \"contourcarpet\": [{\"colorbar\": {\"outlinewidth\": 0, \"ticks\": \"\"}, \"type\": \"contourcarpet\"}], \"heatmap\": [{\"colorbar\": {\"outlinewidth\": 0, \"ticks\": \"\"}, \"colorscale\": [[0.0, \"#0d0887\"], [0.1111111111111111, \"#46039f\"], [0.2222222222222222, \"#7201a8\"], [0.3333333333333333, \"#9c179e\"], [0.4444444444444444, \"#bd3786\"], [0.5555555555555556, \"#d8576b\"], [0.6666666666666666, \"#ed7953\"], [0.7777777777777778, \"#fb9f3a\"], [0.8888888888888888, \"#fdca26\"], [1.0, \"#f0f921\"]], \"type\": \"heatmap\"}], \"heatmapgl\": [{\"colorbar\": {\"outlinewidth\": 0, \"ticks\": \"\"}, \"colorscale\": [[0.0, \"#0d0887\"], [0.1111111111111111, \"#46039f\"], [0.2222222222222222, \"#7201a8\"], [0.3333333333333333, \"#9c179e\"], [0.4444444444444444, \"#bd3786\"], [0.5555555555555556, \"#d8576b\"], [0.6666666666666666, \"#ed7953\"], [0.7777777777777778, \"#fb9f3a\"], [0.8888888888888888, \"#fdca26\"], [1.0, \"#f0f921\"]], \"type\": \"heatmapgl\"}], \"histogram\": [{\"marker\": {\"colorbar\": {\"outlinewidth\": 0, \"ticks\": \"\"}}, \"type\": \"histogram\"}], \"histogram2d\": [{\"colorbar\": {\"outlinewidth\": 0, \"ticks\": \"\"}, \"colorscale\": [[0.0, \"#0d0887\"], [0.1111111111111111, \"#46039f\"], [0.2222222222222222, \"#7201a8\"], [0.3333333333333333, \"#9c179e\"], [0.4444444444444444, \"#bd3786\"], [0.5555555555555556, \"#d8576b\"], [0.6666666666666666, \"#ed7953\"], [0.7777777777777778, \"#fb9f3a\"], [0.8888888888888888, \"#fdca26\"], [1.0, \"#f0f921\"]], \"type\": \"histogram2d\"}], \"histogram2dcontour\": [{\"colorbar\": {\"outlinewidth\": 0, \"ticks\": \"\"}, \"colorscale\": [[0.0, \"#0d0887\"], [0.1111111111111111, \"#46039f\"], [0.2222222222222222, \"#7201a8\"], [0.3333333333333333, \"#9c179e\"], [0.4444444444444444, \"#bd3786\"], [0.5555555555555556, \"#d8576b\"], [0.6666666666666666, \"#ed7953\"], [0.7777777777777778, \"#fb9f3a\"], [0.8888888888888888, \"#fdca26\"], [1.0, \"#f0f921\"]], \"type\": \"histogram2dcontour\"}], \"mesh3d\": [{\"colorbar\": {\"outlinewidth\": 0, \"ticks\": \"\"}, \"type\": \"mesh3d\"}], \"parcoords\": [{\"line\": {\"colorbar\": {\"outlinewidth\": 0, \"ticks\": \"\"}}, \"type\": \"parcoords\"}], \"pie\": [{\"automargin\": true, \"type\": \"pie\"}], \"scatter\": [{\"marker\": {\"colorbar\": {\"outlinewidth\": 0, \"ticks\": \"\"}}, \"type\": \"scatter\"}], \"scatter3d\": [{\"line\": {\"colorbar\": {\"outlinewidth\": 0, \"ticks\": \"\"}}, \"marker\": {\"colorbar\": {\"outlinewidth\": 0, \"ticks\": \"\"}}, \"type\": \"scatter3d\"}], \"scattercarpet\": [{\"marker\": {\"colorbar\": {\"outlinewidth\": 0, \"ticks\": \"\"}}, \"type\": \"scattercarpet\"}], \"scattergeo\": [{\"marker\": {\"colorbar\": {\"outlinewidth\": 0, \"ticks\": \"\"}}, \"type\": \"scattergeo\"}], \"scattergl\": [{\"marker\": {\"colorbar\": {\"outlinewidth\": 0, \"ticks\": \"\"}}, \"type\": \"scattergl\"}], \"scattermapbox\": [{\"marker\": {\"colorbar\": {\"outlinewidth\": 0, \"ticks\": \"\"}}, \"type\": \"scattermapbox\"}], \"scatterpolar\": [{\"marker\": {\"colorbar\": {\"outlinewidth\": 0, \"ticks\": \"\"}}, \"type\": \"scatterpolar\"}], \"scatterpolargl\": [{\"marker\": {\"colorbar\": {\"outlinewidth\": 0, \"ticks\": \"\"}}, \"type\": \"scatterpolargl\"}], \"scatterternary\": [{\"marker\": {\"colorbar\": {\"outlinewidth\": 0, \"ticks\": \"\"}}, \"type\": \"scatterternary\"}], \"surface\": [{\"colorbar\": {\"outlinewidth\": 0, \"ticks\": \"\"}, \"colorscale\": [[0.0, \"#0d0887\"], [0.1111111111111111, \"#46039f\"], [0.2222222222222222, \"#7201a8\"], [0.3333333333333333, \"#9c179e\"], [0.4444444444444444, \"#bd3786\"], [0.5555555555555556, \"#d8576b\"], [0.6666666666666666, \"#ed7953\"], [0.7777777777777778, \"#fb9f3a\"], [0.8888888888888888, \"#fdca26\"], [1.0, \"#f0f921\"]], \"type\": \"surface\"}], \"table\": [{\"cells\": {\"fill\": {\"color\": \"#EBF0F8\"}, \"line\": {\"color\": \"white\"}}, \"header\": {\"fill\": {\"color\": \"#C8D4E3\"}, \"line\": {\"color\": \"white\"}}, \"type\": \"table\"}]}, \"layout\": {\"annotationdefaults\": {\"arrowcolor\": \"#2a3f5f\", \"arrowhead\": 0, \"arrowwidth\": 1}, \"coloraxis\": {\"colorbar\": {\"outlinewidth\": 0, \"ticks\": \"\"}}, \"colorscale\": {\"diverging\": [[0, \"#8e0152\"], [0.1, \"#c51b7d\"], [0.2, \"#de77ae\"], [0.3, \"#f1b6da\"], [0.4, \"#fde0ef\"], [0.5, \"#f7f7f7\"], [0.6, \"#e6f5d0\"], [0.7, \"#b8e186\"], [0.8, \"#7fbc41\"], [0.9, \"#4d9221\"], [1, \"#276419\"]], \"sequential\": [[0.0, \"#0d0887\"], [0.1111111111111111, \"#46039f\"], [0.2222222222222222, \"#7201a8\"], [0.3333333333333333, \"#9c179e\"], [0.4444444444444444, \"#bd3786\"], [0.5555555555555556, \"#d8576b\"], [0.6666666666666666, \"#ed7953\"], [0.7777777777777778, \"#fb9f3a\"], [0.8888888888888888, \"#fdca26\"], [1.0, \"#f0f921\"]], \"sequentialminus\": [[0.0, \"#0d0887\"], [0.1111111111111111, \"#46039f\"], [0.2222222222222222, \"#7201a8\"], [0.3333333333333333, \"#9c179e\"], [0.4444444444444444, \"#bd3786\"], [0.5555555555555556, \"#d8576b\"], [0.6666666666666666, \"#ed7953\"], [0.7777777777777778, \"#fb9f3a\"], [0.8888888888888888, \"#fdca26\"], [1.0, \"#f0f921\"]]}, \"colorway\": [\"#636efa\", \"#EF553B\", \"#00cc96\", \"#ab63fa\", \"#FFA15A\", \"#19d3f3\", \"#FF6692\", \"#B6E880\", \"#FF97FF\", \"#FECB52\"], \"font\": {\"color\": \"#2a3f5f\"}, \"geo\": {\"bgcolor\": \"white\", \"lakecolor\": \"white\", \"landcolor\": \"#E5ECF6\", \"showlakes\": true, \"showland\": true, \"subunitcolor\": \"white\"}, \"hoverlabel\": {\"align\": \"left\"}, \"hovermode\": \"closest\", \"mapbox\": {\"style\": \"light\"}, \"paper_bgcolor\": \"white\", \"plot_bgcolor\": \"#E5ECF6\", \"polar\": {\"angularaxis\": {\"gridcolor\": \"white\", \"linecolor\": \"white\", \"ticks\": \"\"}, \"bgcolor\": \"#E5ECF6\", \"radialaxis\": {\"gridcolor\": \"white\", \"linecolor\": \"white\", \"ticks\": \"\"}}, \"scene\": {\"xaxis\": {\"backgroundcolor\": \"#E5ECF6\", \"gridcolor\": \"white\", \"gridwidth\": 2, \"linecolor\": \"white\", \"showbackground\": true, \"ticks\": \"\", \"zerolinecolor\": \"white\"}, \"yaxis\": {\"backgroundcolor\": \"#E5ECF6\", \"gridcolor\": \"white\", \"gridwidth\": 2, \"linecolor\": \"white\", \"showbackground\": true, \"ticks\": \"\", \"zerolinecolor\": \"white\"}, \"zaxis\": {\"backgroundcolor\": \"#E5ECF6\", \"gridcolor\": \"white\", \"gridwidth\": 2, \"linecolor\": \"white\", \"showbackground\": true, \"ticks\": \"\", \"zerolinecolor\": \"white\"}}, \"shapedefaults\": {\"line\": {\"color\": \"#2a3f5f\"}}, \"ternary\": {\"aaxis\": {\"gridcolor\": \"white\", \"linecolor\": \"white\", \"ticks\": \"\"}, \"baxis\": {\"gridcolor\": \"white\", \"linecolor\": \"white\", \"ticks\": \"\"}, \"bgcolor\": \"#E5ECF6\", \"caxis\": {\"gridcolor\": \"white\", \"linecolor\": \"white\", \"ticks\": \"\"}}, \"title\": {\"x\": 0.05}, \"xaxis\": {\"automargin\": true, \"gridcolor\": \"white\", \"linecolor\": \"white\", \"ticks\": \"\", \"title\": {\"standoff\": 15}, \"zerolinecolor\": \"white\", \"zerolinewidth\": 2}, \"yaxis\": {\"automargin\": true, \"gridcolor\": \"white\", \"linecolor\": \"white\", \"ticks\": \"\", \"title\": {\"standoff\": 15}, \"zerolinecolor\": \"white\", \"zerolinewidth\": 2}}}, \"title\": {\"font\": {\"color\": \"#4D5663\"}}, \"xaxis\": {\"gridcolor\": \"#E1E5ED\", \"showgrid\": true, \"tickfont\": {\"color\": \"#4D5663\"}, \"title\": {\"font\": {\"color\": \"#4D5663\"}, \"text\": \"\"}, \"zerolinecolor\": \"#E1E5ED\"}, \"yaxis\": {\"gridcolor\": \"#E1E5ED\", \"showgrid\": true, \"tickfont\": {\"color\": \"#4D5663\"}, \"title\": {\"font\": {\"color\": \"#4D5663\"}, \"text\": \"\"}, \"zerolinecolor\": \"#E1E5ED\"}},\n",
       "                        {\"showLink\": true, \"linkText\": \"Export to plot.ly\", \"plotlyServerURL\": \"https://plot.ly\", \"responsive\": true}\n",
       "                    ).then(function(){\n",
       "                            \n",
       "var gd = document.getElementById('a05e20d5-219f-4392-a601-86891448a730');\n",
       "var x = new MutationObserver(function (mutations, observer) {{\n",
       "        var display = window.getComputedStyle(gd).display;\n",
       "        if (!display || display === 'none') {{\n",
       "            console.log([gd, 'removed!']);\n",
       "            Plotly.purge(gd);\n",
       "            observer.disconnect();\n",
       "        }}\n",
       "}});\n",
       "\n",
       "// Listen for the removal of the full notebook cells\n",
       "var notebookContainer = gd.closest('#notebook-container');\n",
       "if (notebookContainer) {{\n",
       "    x.observe(notebookContainer, {childList: true});\n",
       "}}\n",
       "\n",
       "// Listen for the clearing of the current output cell\n",
       "var outputEl = gd.closest('.output');\n",
       "if (outputEl) {{\n",
       "    x.observe(outputEl, {childList: true});\n",
       "}}\n",
       "\n",
       "                        })\n",
       "                };\n",
       "                });\n",
       "            </script>\n",
       "        </div>"
      ]
     },
     "metadata": {},
     "output_type": "display_data"
    }
   ],
   "source": [
    "# It will create a bar for each value\n",
    "\n",
    "df.count().iplot(kind='bar')\n",
    "\n",
    "# for every column value count is 100"
   ]
  },
  {
   "cell_type": "code",
   "execution_count": 40,
   "metadata": {},
   "outputs": [
    {
     "data": {
      "application/vnd.plotly.v1+json": {
       "config": {
        "linkText": "Export to plot.ly",
        "plotlyServerURL": "https://plot.ly",
        "showLink": true
       },
       "data": [
        {
         "marker": {
          "color": "rgba(255, 153, 51, 0.6)",
          "line": {
           "color": "rgba(255, 153, 51, 1.0)",
           "width": 1
          }
         },
         "name": "None",
         "orientation": "v",
         "text": "",
         "type": "bar",
         "x": [
          "A",
          "B",
          "C",
          "D"
         ],
         "y": [
          -11.179996618022574,
          -8.852650867875967,
          1.3046219389947782,
          -12.799586625526542
         ]
        }
       ],
       "layout": {
        "legend": {
         "bgcolor": "#F5F6F9",
         "font": {
          "color": "#4D5663"
         }
        },
        "paper_bgcolor": "#F5F6F9",
        "plot_bgcolor": "#F5F6F9",
        "template": {
         "data": {
          "bar": [
           {
            "error_x": {
             "color": "#2a3f5f"
            },
            "error_y": {
             "color": "#2a3f5f"
            },
            "marker": {
             "line": {
              "color": "#E5ECF6",
              "width": 0.5
             }
            },
            "type": "bar"
           }
          ],
          "barpolar": [
           {
            "marker": {
             "line": {
              "color": "#E5ECF6",
              "width": 0.5
             }
            },
            "type": "barpolar"
           }
          ],
          "carpet": [
           {
            "aaxis": {
             "endlinecolor": "#2a3f5f",
             "gridcolor": "white",
             "linecolor": "white",
             "minorgridcolor": "white",
             "startlinecolor": "#2a3f5f"
            },
            "baxis": {
             "endlinecolor": "#2a3f5f",
             "gridcolor": "white",
             "linecolor": "white",
             "minorgridcolor": "white",
             "startlinecolor": "#2a3f5f"
            },
            "type": "carpet"
           }
          ],
          "choropleth": [
           {
            "colorbar": {
             "outlinewidth": 0,
             "ticks": ""
            },
            "type": "choropleth"
           }
          ],
          "contour": [
           {
            "colorbar": {
             "outlinewidth": 0,
             "ticks": ""
            },
            "colorscale": [
             [
              0,
              "#0d0887"
             ],
             [
              0.1111111111111111,
              "#46039f"
             ],
             [
              0.2222222222222222,
              "#7201a8"
             ],
             [
              0.3333333333333333,
              "#9c179e"
             ],
             [
              0.4444444444444444,
              "#bd3786"
             ],
             [
              0.5555555555555556,
              "#d8576b"
             ],
             [
              0.6666666666666666,
              "#ed7953"
             ],
             [
              0.7777777777777778,
              "#fb9f3a"
             ],
             [
              0.8888888888888888,
              "#fdca26"
             ],
             [
              1,
              "#f0f921"
             ]
            ],
            "type": "contour"
           }
          ],
          "contourcarpet": [
           {
            "colorbar": {
             "outlinewidth": 0,
             "ticks": ""
            },
            "type": "contourcarpet"
           }
          ],
          "heatmap": [
           {
            "colorbar": {
             "outlinewidth": 0,
             "ticks": ""
            },
            "colorscale": [
             [
              0,
              "#0d0887"
             ],
             [
              0.1111111111111111,
              "#46039f"
             ],
             [
              0.2222222222222222,
              "#7201a8"
             ],
             [
              0.3333333333333333,
              "#9c179e"
             ],
             [
              0.4444444444444444,
              "#bd3786"
             ],
             [
              0.5555555555555556,
              "#d8576b"
             ],
             [
              0.6666666666666666,
              "#ed7953"
             ],
             [
              0.7777777777777778,
              "#fb9f3a"
             ],
             [
              0.8888888888888888,
              "#fdca26"
             ],
             [
              1,
              "#f0f921"
             ]
            ],
            "type": "heatmap"
           }
          ],
          "heatmapgl": [
           {
            "colorbar": {
             "outlinewidth": 0,
             "ticks": ""
            },
            "colorscale": [
             [
              0,
              "#0d0887"
             ],
             [
              0.1111111111111111,
              "#46039f"
             ],
             [
              0.2222222222222222,
              "#7201a8"
             ],
             [
              0.3333333333333333,
              "#9c179e"
             ],
             [
              0.4444444444444444,
              "#bd3786"
             ],
             [
              0.5555555555555556,
              "#d8576b"
             ],
             [
              0.6666666666666666,
              "#ed7953"
             ],
             [
              0.7777777777777778,
              "#fb9f3a"
             ],
             [
              0.8888888888888888,
              "#fdca26"
             ],
             [
              1,
              "#f0f921"
             ]
            ],
            "type": "heatmapgl"
           }
          ],
          "histogram": [
           {
            "marker": {
             "colorbar": {
              "outlinewidth": 0,
              "ticks": ""
             }
            },
            "type": "histogram"
           }
          ],
          "histogram2d": [
           {
            "colorbar": {
             "outlinewidth": 0,
             "ticks": ""
            },
            "colorscale": [
             [
              0,
              "#0d0887"
             ],
             [
              0.1111111111111111,
              "#46039f"
             ],
             [
              0.2222222222222222,
              "#7201a8"
             ],
             [
              0.3333333333333333,
              "#9c179e"
             ],
             [
              0.4444444444444444,
              "#bd3786"
             ],
             [
              0.5555555555555556,
              "#d8576b"
             ],
             [
              0.6666666666666666,
              "#ed7953"
             ],
             [
              0.7777777777777778,
              "#fb9f3a"
             ],
             [
              0.8888888888888888,
              "#fdca26"
             ],
             [
              1,
              "#f0f921"
             ]
            ],
            "type": "histogram2d"
           }
          ],
          "histogram2dcontour": [
           {
            "colorbar": {
             "outlinewidth": 0,
             "ticks": ""
            },
            "colorscale": [
             [
              0,
              "#0d0887"
             ],
             [
              0.1111111111111111,
              "#46039f"
             ],
             [
              0.2222222222222222,
              "#7201a8"
             ],
             [
              0.3333333333333333,
              "#9c179e"
             ],
             [
              0.4444444444444444,
              "#bd3786"
             ],
             [
              0.5555555555555556,
              "#d8576b"
             ],
             [
              0.6666666666666666,
              "#ed7953"
             ],
             [
              0.7777777777777778,
              "#fb9f3a"
             ],
             [
              0.8888888888888888,
              "#fdca26"
             ],
             [
              1,
              "#f0f921"
             ]
            ],
            "type": "histogram2dcontour"
           }
          ],
          "mesh3d": [
           {
            "colorbar": {
             "outlinewidth": 0,
             "ticks": ""
            },
            "type": "mesh3d"
           }
          ],
          "parcoords": [
           {
            "line": {
             "colorbar": {
              "outlinewidth": 0,
              "ticks": ""
             }
            },
            "type": "parcoords"
           }
          ],
          "pie": [
           {
            "automargin": true,
            "type": "pie"
           }
          ],
          "scatter": [
           {
            "marker": {
             "colorbar": {
              "outlinewidth": 0,
              "ticks": ""
             }
            },
            "type": "scatter"
           }
          ],
          "scatter3d": [
           {
            "line": {
             "colorbar": {
              "outlinewidth": 0,
              "ticks": ""
             }
            },
            "marker": {
             "colorbar": {
              "outlinewidth": 0,
              "ticks": ""
             }
            },
            "type": "scatter3d"
           }
          ],
          "scattercarpet": [
           {
            "marker": {
             "colorbar": {
              "outlinewidth": 0,
              "ticks": ""
             }
            },
            "type": "scattercarpet"
           }
          ],
          "scattergeo": [
           {
            "marker": {
             "colorbar": {
              "outlinewidth": 0,
              "ticks": ""
             }
            },
            "type": "scattergeo"
           }
          ],
          "scattergl": [
           {
            "marker": {
             "colorbar": {
              "outlinewidth": 0,
              "ticks": ""
             }
            },
            "type": "scattergl"
           }
          ],
          "scattermapbox": [
           {
            "marker": {
             "colorbar": {
              "outlinewidth": 0,
              "ticks": ""
             }
            },
            "type": "scattermapbox"
           }
          ],
          "scatterpolar": [
           {
            "marker": {
             "colorbar": {
              "outlinewidth": 0,
              "ticks": ""
             }
            },
            "type": "scatterpolar"
           }
          ],
          "scatterpolargl": [
           {
            "marker": {
             "colorbar": {
              "outlinewidth": 0,
              "ticks": ""
             }
            },
            "type": "scatterpolargl"
           }
          ],
          "scatterternary": [
           {
            "marker": {
             "colorbar": {
              "outlinewidth": 0,
              "ticks": ""
             }
            },
            "type": "scatterternary"
           }
          ],
          "surface": [
           {
            "colorbar": {
             "outlinewidth": 0,
             "ticks": ""
            },
            "colorscale": [
             [
              0,
              "#0d0887"
             ],
             [
              0.1111111111111111,
              "#46039f"
             ],
             [
              0.2222222222222222,
              "#7201a8"
             ],
             [
              0.3333333333333333,
              "#9c179e"
             ],
             [
              0.4444444444444444,
              "#bd3786"
             ],
             [
              0.5555555555555556,
              "#d8576b"
             ],
             [
              0.6666666666666666,
              "#ed7953"
             ],
             [
              0.7777777777777778,
              "#fb9f3a"
             ],
             [
              0.8888888888888888,
              "#fdca26"
             ],
             [
              1,
              "#f0f921"
             ]
            ],
            "type": "surface"
           }
          ],
          "table": [
           {
            "cells": {
             "fill": {
              "color": "#EBF0F8"
             },
             "line": {
              "color": "white"
             }
            },
            "header": {
             "fill": {
              "color": "#C8D4E3"
             },
             "line": {
              "color": "white"
             }
            },
            "type": "table"
           }
          ]
         },
         "layout": {
          "annotationdefaults": {
           "arrowcolor": "#2a3f5f",
           "arrowhead": 0,
           "arrowwidth": 1
          },
          "coloraxis": {
           "colorbar": {
            "outlinewidth": 0,
            "ticks": ""
           }
          },
          "colorscale": {
           "diverging": [
            [
             0,
             "#8e0152"
            ],
            [
             0.1,
             "#c51b7d"
            ],
            [
             0.2,
             "#de77ae"
            ],
            [
             0.3,
             "#f1b6da"
            ],
            [
             0.4,
             "#fde0ef"
            ],
            [
             0.5,
             "#f7f7f7"
            ],
            [
             0.6,
             "#e6f5d0"
            ],
            [
             0.7,
             "#b8e186"
            ],
            [
             0.8,
             "#7fbc41"
            ],
            [
             0.9,
             "#4d9221"
            ],
            [
             1,
             "#276419"
            ]
           ],
           "sequential": [
            [
             0,
             "#0d0887"
            ],
            [
             0.1111111111111111,
             "#46039f"
            ],
            [
             0.2222222222222222,
             "#7201a8"
            ],
            [
             0.3333333333333333,
             "#9c179e"
            ],
            [
             0.4444444444444444,
             "#bd3786"
            ],
            [
             0.5555555555555556,
             "#d8576b"
            ],
            [
             0.6666666666666666,
             "#ed7953"
            ],
            [
             0.7777777777777778,
             "#fb9f3a"
            ],
            [
             0.8888888888888888,
             "#fdca26"
            ],
            [
             1,
             "#f0f921"
            ]
           ],
           "sequentialminus": [
            [
             0,
             "#0d0887"
            ],
            [
             0.1111111111111111,
             "#46039f"
            ],
            [
             0.2222222222222222,
             "#7201a8"
            ],
            [
             0.3333333333333333,
             "#9c179e"
            ],
            [
             0.4444444444444444,
             "#bd3786"
            ],
            [
             0.5555555555555556,
             "#d8576b"
            ],
            [
             0.6666666666666666,
             "#ed7953"
            ],
            [
             0.7777777777777778,
             "#fb9f3a"
            ],
            [
             0.8888888888888888,
             "#fdca26"
            ],
            [
             1,
             "#f0f921"
            ]
           ]
          },
          "colorway": [
           "#636efa",
           "#EF553B",
           "#00cc96",
           "#ab63fa",
           "#FFA15A",
           "#19d3f3",
           "#FF6692",
           "#B6E880",
           "#FF97FF",
           "#FECB52"
          ],
          "font": {
           "color": "#2a3f5f"
          },
          "geo": {
           "bgcolor": "white",
           "lakecolor": "white",
           "landcolor": "#E5ECF6",
           "showlakes": true,
           "showland": true,
           "subunitcolor": "white"
          },
          "hoverlabel": {
           "align": "left"
          },
          "hovermode": "closest",
          "mapbox": {
           "style": "light"
          },
          "paper_bgcolor": "white",
          "plot_bgcolor": "#E5ECF6",
          "polar": {
           "angularaxis": {
            "gridcolor": "white",
            "linecolor": "white",
            "ticks": ""
           },
           "bgcolor": "#E5ECF6",
           "radialaxis": {
            "gridcolor": "white",
            "linecolor": "white",
            "ticks": ""
           }
          },
          "scene": {
           "xaxis": {
            "backgroundcolor": "#E5ECF6",
            "gridcolor": "white",
            "gridwidth": 2,
            "linecolor": "white",
            "showbackground": true,
            "ticks": "",
            "zerolinecolor": "white"
           },
           "yaxis": {
            "backgroundcolor": "#E5ECF6",
            "gridcolor": "white",
            "gridwidth": 2,
            "linecolor": "white",
            "showbackground": true,
            "ticks": "",
            "zerolinecolor": "white"
           },
           "zaxis": {
            "backgroundcolor": "#E5ECF6",
            "gridcolor": "white",
            "gridwidth": 2,
            "linecolor": "white",
            "showbackground": true,
            "ticks": "",
            "zerolinecolor": "white"
           }
          },
          "shapedefaults": {
           "line": {
            "color": "#2a3f5f"
           }
          },
          "ternary": {
           "aaxis": {
            "gridcolor": "white",
            "linecolor": "white",
            "ticks": ""
           },
           "baxis": {
            "gridcolor": "white",
            "linecolor": "white",
            "ticks": ""
           },
           "bgcolor": "#E5ECF6",
           "caxis": {
            "gridcolor": "white",
            "linecolor": "white",
            "ticks": ""
           }
          },
          "title": {
           "x": 0.05
          },
          "xaxis": {
           "automargin": true,
           "gridcolor": "white",
           "linecolor": "white",
           "ticks": "",
           "title": {
            "standoff": 15
           },
           "zerolinecolor": "white",
           "zerolinewidth": 2
          },
          "yaxis": {
           "automargin": true,
           "gridcolor": "white",
           "linecolor": "white",
           "ticks": "",
           "title": {
            "standoff": 15
           },
           "zerolinecolor": "white",
           "zerolinewidth": 2
          }
         }
        },
        "title": {
         "font": {
          "color": "#4D5663"
         }
        },
        "xaxis": {
         "gridcolor": "#E1E5ED",
         "showgrid": true,
         "tickfont": {
          "color": "#4D5663"
         },
         "title": {
          "font": {
           "color": "#4D5663"
          },
          "text": ""
         },
         "zerolinecolor": "#E1E5ED"
        },
        "yaxis": {
         "gridcolor": "#E1E5ED",
         "showgrid": true,
         "tickfont": {
          "color": "#4D5663"
         },
         "title": {
          "font": {
           "color": "#4D5663"
          },
          "text": ""
         },
         "zerolinecolor": "#E1E5ED"
        }
       }
      },
      "text/html": [
       "<div>\n",
       "        \n",
       "        \n",
       "            <div id=\"ac73e26a-38c3-4ab1-bc2c-9ec5be49e685\" class=\"plotly-graph-div\" style=\"height:525px; width:100%;\"></div>\n",
       "            <script type=\"text/javascript\">\n",
       "                require([\"plotly\"], function(Plotly) {\n",
       "                    window.PLOTLYENV=window.PLOTLYENV || {};\n",
       "                    window.PLOTLYENV.BASE_URL='https://plot.ly';\n",
       "                    \n",
       "                if (document.getElementById(\"ac73e26a-38c3-4ab1-bc2c-9ec5be49e685\")) {\n",
       "                    Plotly.newPlot(\n",
       "                        'ac73e26a-38c3-4ab1-bc2c-9ec5be49e685',\n",
       "                        [{\"marker\": {\"color\": \"rgba(255, 153, 51, 0.6)\", \"line\": {\"color\": \"rgba(255, 153, 51, 1.0)\", \"width\": 1}}, \"name\": \"None\", \"orientation\": \"v\", \"text\": \"\", \"type\": \"bar\", \"x\": [\"A\", \"B\", \"C\", \"D\"], \"y\": [-11.179996618022574, -8.852650867875967, 1.3046219389947782, -12.799586625526542]}],\n",
       "                        {\"legend\": {\"bgcolor\": \"#F5F6F9\", \"font\": {\"color\": \"#4D5663\"}}, \"paper_bgcolor\": \"#F5F6F9\", \"plot_bgcolor\": \"#F5F6F9\", \"template\": {\"data\": {\"bar\": [{\"error_x\": {\"color\": \"#2a3f5f\"}, \"error_y\": {\"color\": \"#2a3f5f\"}, \"marker\": {\"line\": {\"color\": \"#E5ECF6\", \"width\": 0.5}}, \"type\": \"bar\"}], \"barpolar\": [{\"marker\": {\"line\": {\"color\": \"#E5ECF6\", \"width\": 0.5}}, \"type\": \"barpolar\"}], \"carpet\": [{\"aaxis\": {\"endlinecolor\": \"#2a3f5f\", \"gridcolor\": \"white\", \"linecolor\": \"white\", \"minorgridcolor\": \"white\", \"startlinecolor\": \"#2a3f5f\"}, \"baxis\": {\"endlinecolor\": \"#2a3f5f\", \"gridcolor\": \"white\", \"linecolor\": \"white\", \"minorgridcolor\": \"white\", \"startlinecolor\": \"#2a3f5f\"}, \"type\": \"carpet\"}], \"choropleth\": [{\"colorbar\": {\"outlinewidth\": 0, \"ticks\": \"\"}, \"type\": \"choropleth\"}], \"contour\": [{\"colorbar\": {\"outlinewidth\": 0, \"ticks\": \"\"}, \"colorscale\": [[0.0, \"#0d0887\"], [0.1111111111111111, \"#46039f\"], [0.2222222222222222, \"#7201a8\"], [0.3333333333333333, \"#9c179e\"], [0.4444444444444444, \"#bd3786\"], [0.5555555555555556, \"#d8576b\"], [0.6666666666666666, \"#ed7953\"], [0.7777777777777778, \"#fb9f3a\"], [0.8888888888888888, \"#fdca26\"], [1.0, \"#f0f921\"]], \"type\": \"contour\"}], \"contourcarpet\": [{\"colorbar\": {\"outlinewidth\": 0, \"ticks\": \"\"}, \"type\": \"contourcarpet\"}], \"heatmap\": [{\"colorbar\": {\"outlinewidth\": 0, \"ticks\": \"\"}, \"colorscale\": [[0.0, \"#0d0887\"], [0.1111111111111111, \"#46039f\"], [0.2222222222222222, \"#7201a8\"], [0.3333333333333333, \"#9c179e\"], [0.4444444444444444, \"#bd3786\"], [0.5555555555555556, \"#d8576b\"], [0.6666666666666666, \"#ed7953\"], [0.7777777777777778, \"#fb9f3a\"], [0.8888888888888888, \"#fdca26\"], [1.0, \"#f0f921\"]], \"type\": \"heatmap\"}], \"heatmapgl\": [{\"colorbar\": {\"outlinewidth\": 0, \"ticks\": \"\"}, \"colorscale\": [[0.0, \"#0d0887\"], [0.1111111111111111, \"#46039f\"], [0.2222222222222222, \"#7201a8\"], [0.3333333333333333, \"#9c179e\"], [0.4444444444444444, \"#bd3786\"], [0.5555555555555556, \"#d8576b\"], [0.6666666666666666, \"#ed7953\"], [0.7777777777777778, \"#fb9f3a\"], [0.8888888888888888, \"#fdca26\"], [1.0, \"#f0f921\"]], \"type\": \"heatmapgl\"}], \"histogram\": [{\"marker\": {\"colorbar\": {\"outlinewidth\": 0, \"ticks\": \"\"}}, \"type\": \"histogram\"}], \"histogram2d\": [{\"colorbar\": {\"outlinewidth\": 0, \"ticks\": \"\"}, \"colorscale\": [[0.0, \"#0d0887\"], [0.1111111111111111, \"#46039f\"], [0.2222222222222222, \"#7201a8\"], [0.3333333333333333, \"#9c179e\"], [0.4444444444444444, \"#bd3786\"], [0.5555555555555556, \"#d8576b\"], [0.6666666666666666, \"#ed7953\"], [0.7777777777777778, \"#fb9f3a\"], [0.8888888888888888, \"#fdca26\"], [1.0, \"#f0f921\"]], \"type\": \"histogram2d\"}], \"histogram2dcontour\": [{\"colorbar\": {\"outlinewidth\": 0, \"ticks\": \"\"}, \"colorscale\": [[0.0, \"#0d0887\"], [0.1111111111111111, \"#46039f\"], [0.2222222222222222, \"#7201a8\"], [0.3333333333333333, \"#9c179e\"], [0.4444444444444444, \"#bd3786\"], [0.5555555555555556, \"#d8576b\"], [0.6666666666666666, \"#ed7953\"], [0.7777777777777778, \"#fb9f3a\"], [0.8888888888888888, \"#fdca26\"], [1.0, \"#f0f921\"]], \"type\": \"histogram2dcontour\"}], \"mesh3d\": [{\"colorbar\": {\"outlinewidth\": 0, \"ticks\": \"\"}, \"type\": \"mesh3d\"}], \"parcoords\": [{\"line\": {\"colorbar\": {\"outlinewidth\": 0, \"ticks\": \"\"}}, \"type\": \"parcoords\"}], \"pie\": [{\"automargin\": true, \"type\": \"pie\"}], \"scatter\": [{\"marker\": {\"colorbar\": {\"outlinewidth\": 0, \"ticks\": \"\"}}, \"type\": \"scatter\"}], \"scatter3d\": [{\"line\": {\"colorbar\": {\"outlinewidth\": 0, \"ticks\": \"\"}}, \"marker\": {\"colorbar\": {\"outlinewidth\": 0, \"ticks\": \"\"}}, \"type\": \"scatter3d\"}], \"scattercarpet\": [{\"marker\": {\"colorbar\": {\"outlinewidth\": 0, \"ticks\": \"\"}}, \"type\": \"scattercarpet\"}], \"scattergeo\": [{\"marker\": {\"colorbar\": {\"outlinewidth\": 0, \"ticks\": \"\"}}, \"type\": \"scattergeo\"}], \"scattergl\": [{\"marker\": {\"colorbar\": {\"outlinewidth\": 0, \"ticks\": \"\"}}, \"type\": \"scattergl\"}], \"scattermapbox\": [{\"marker\": {\"colorbar\": {\"outlinewidth\": 0, \"ticks\": \"\"}}, \"type\": \"scattermapbox\"}], \"scatterpolar\": [{\"marker\": {\"colorbar\": {\"outlinewidth\": 0, \"ticks\": \"\"}}, \"type\": \"scatterpolar\"}], \"scatterpolargl\": [{\"marker\": {\"colorbar\": {\"outlinewidth\": 0, \"ticks\": \"\"}}, \"type\": \"scatterpolargl\"}], \"scatterternary\": [{\"marker\": {\"colorbar\": {\"outlinewidth\": 0, \"ticks\": \"\"}}, \"type\": \"scatterternary\"}], \"surface\": [{\"colorbar\": {\"outlinewidth\": 0, \"ticks\": \"\"}, \"colorscale\": [[0.0, \"#0d0887\"], [0.1111111111111111, \"#46039f\"], [0.2222222222222222, \"#7201a8\"], [0.3333333333333333, \"#9c179e\"], [0.4444444444444444, \"#bd3786\"], [0.5555555555555556, \"#d8576b\"], [0.6666666666666666, \"#ed7953\"], [0.7777777777777778, \"#fb9f3a\"], [0.8888888888888888, \"#fdca26\"], [1.0, \"#f0f921\"]], \"type\": \"surface\"}], \"table\": [{\"cells\": {\"fill\": {\"color\": \"#EBF0F8\"}, \"line\": {\"color\": \"white\"}}, \"header\": {\"fill\": {\"color\": \"#C8D4E3\"}, \"line\": {\"color\": \"white\"}}, \"type\": \"table\"}]}, \"layout\": {\"annotationdefaults\": {\"arrowcolor\": \"#2a3f5f\", \"arrowhead\": 0, \"arrowwidth\": 1}, \"coloraxis\": {\"colorbar\": {\"outlinewidth\": 0, \"ticks\": \"\"}}, \"colorscale\": {\"diverging\": [[0, \"#8e0152\"], [0.1, \"#c51b7d\"], [0.2, \"#de77ae\"], [0.3, \"#f1b6da\"], [0.4, \"#fde0ef\"], [0.5, \"#f7f7f7\"], [0.6, \"#e6f5d0\"], [0.7, \"#b8e186\"], [0.8, \"#7fbc41\"], [0.9, \"#4d9221\"], [1, \"#276419\"]], \"sequential\": [[0.0, \"#0d0887\"], [0.1111111111111111, \"#46039f\"], [0.2222222222222222, \"#7201a8\"], [0.3333333333333333, \"#9c179e\"], [0.4444444444444444, \"#bd3786\"], [0.5555555555555556, \"#d8576b\"], [0.6666666666666666, \"#ed7953\"], [0.7777777777777778, \"#fb9f3a\"], [0.8888888888888888, \"#fdca26\"], [1.0, \"#f0f921\"]], \"sequentialminus\": [[0.0, \"#0d0887\"], [0.1111111111111111, \"#46039f\"], [0.2222222222222222, \"#7201a8\"], [0.3333333333333333, \"#9c179e\"], [0.4444444444444444, \"#bd3786\"], [0.5555555555555556, \"#d8576b\"], [0.6666666666666666, \"#ed7953\"], [0.7777777777777778, \"#fb9f3a\"], [0.8888888888888888, \"#fdca26\"], [1.0, \"#f0f921\"]]}, \"colorway\": [\"#636efa\", \"#EF553B\", \"#00cc96\", \"#ab63fa\", \"#FFA15A\", \"#19d3f3\", \"#FF6692\", \"#B6E880\", \"#FF97FF\", \"#FECB52\"], \"font\": {\"color\": \"#2a3f5f\"}, \"geo\": {\"bgcolor\": \"white\", \"lakecolor\": \"white\", \"landcolor\": \"#E5ECF6\", \"showlakes\": true, \"showland\": true, \"subunitcolor\": \"white\"}, \"hoverlabel\": {\"align\": \"left\"}, \"hovermode\": \"closest\", \"mapbox\": {\"style\": \"light\"}, \"paper_bgcolor\": \"white\", \"plot_bgcolor\": \"#E5ECF6\", \"polar\": {\"angularaxis\": {\"gridcolor\": \"white\", \"linecolor\": \"white\", \"ticks\": \"\"}, \"bgcolor\": \"#E5ECF6\", \"radialaxis\": {\"gridcolor\": \"white\", \"linecolor\": \"white\", \"ticks\": \"\"}}, \"scene\": {\"xaxis\": {\"backgroundcolor\": \"#E5ECF6\", \"gridcolor\": \"white\", \"gridwidth\": 2, \"linecolor\": \"white\", \"showbackground\": true, \"ticks\": \"\", \"zerolinecolor\": \"white\"}, \"yaxis\": {\"backgroundcolor\": \"#E5ECF6\", \"gridcolor\": \"white\", \"gridwidth\": 2, \"linecolor\": \"white\", \"showbackground\": true, \"ticks\": \"\", \"zerolinecolor\": \"white\"}, \"zaxis\": {\"backgroundcolor\": \"#E5ECF6\", \"gridcolor\": \"white\", \"gridwidth\": 2, \"linecolor\": \"white\", \"showbackground\": true, \"ticks\": \"\", \"zerolinecolor\": \"white\"}}, \"shapedefaults\": {\"line\": {\"color\": \"#2a3f5f\"}}, \"ternary\": {\"aaxis\": {\"gridcolor\": \"white\", \"linecolor\": \"white\", \"ticks\": \"\"}, \"baxis\": {\"gridcolor\": \"white\", \"linecolor\": \"white\", \"ticks\": \"\"}, \"bgcolor\": \"#E5ECF6\", \"caxis\": {\"gridcolor\": \"white\", \"linecolor\": \"white\", \"ticks\": \"\"}}, \"title\": {\"x\": 0.05}, \"xaxis\": {\"automargin\": true, \"gridcolor\": \"white\", \"linecolor\": \"white\", \"ticks\": \"\", \"title\": {\"standoff\": 15}, \"zerolinecolor\": \"white\", \"zerolinewidth\": 2}, \"yaxis\": {\"automargin\": true, \"gridcolor\": \"white\", \"linecolor\": \"white\", \"ticks\": \"\", \"title\": {\"standoff\": 15}, \"zerolinecolor\": \"white\", \"zerolinewidth\": 2}}}, \"title\": {\"font\": {\"color\": \"#4D5663\"}}, \"xaxis\": {\"gridcolor\": \"#E1E5ED\", \"showgrid\": true, \"tickfont\": {\"color\": \"#4D5663\"}, \"title\": {\"font\": {\"color\": \"#4D5663\"}, \"text\": \"\"}, \"zerolinecolor\": \"#E1E5ED\"}, \"yaxis\": {\"gridcolor\": \"#E1E5ED\", \"showgrid\": true, \"tickfont\": {\"color\": \"#4D5663\"}, \"title\": {\"font\": {\"color\": \"#4D5663\"}, \"text\": \"\"}, \"zerolinecolor\": \"#E1E5ED\"}},\n",
       "                        {\"showLink\": true, \"linkText\": \"Export to plot.ly\", \"plotlyServerURL\": \"https://plot.ly\", \"responsive\": true}\n",
       "                    ).then(function(){\n",
       "                            \n",
       "var gd = document.getElementById('ac73e26a-38c3-4ab1-bc2c-9ec5be49e685');\n",
       "var x = new MutationObserver(function (mutations, observer) {{\n",
       "        var display = window.getComputedStyle(gd).display;\n",
       "        if (!display || display === 'none') {{\n",
       "            console.log([gd, 'removed!']);\n",
       "            Plotly.purge(gd);\n",
       "            observer.disconnect();\n",
       "        }}\n",
       "}});\n",
       "\n",
       "// Listen for the removal of the full notebook cells\n",
       "var notebookContainer = gd.closest('#notebook-container');\n",
       "if (notebookContainer) {{\n",
       "    x.observe(notebookContainer, {childList: true});\n",
       "}}\n",
       "\n",
       "// Listen for the clearing of the current output cell\n",
       "var outputEl = gd.closest('.output');\n",
       "if (outputEl) {{\n",
       "    x.observe(outputEl, {childList: true});\n",
       "}}\n",
       "\n",
       "                        })\n",
       "                };\n",
       "                });\n",
       "            </script>\n",
       "        </div>"
      ]
     },
     "metadata": {},
     "output_type": "display_data"
    }
   ],
   "source": [
    "df.sum().iplot(kind='bar')"
   ]
  },
  {
   "cell_type": "code",
   "execution_count": 42,
   "metadata": {},
   "outputs": [
    {
     "data": {
      "application/vnd.plotly.v1+json": {
       "config": {
        "linkText": "Export to plot.ly",
        "plotlyServerURL": "https://plot.ly",
        "showLink": true
       },
       "data": [
        {
         "boxpoints": false,
         "line": {
          "width": 1.3
         },
         "marker": {
          "color": "rgba(255, 153, 51, 1.0)"
         },
         "name": "A",
         "orientation": "v",
         "type": "box",
         "y": [
          0.3410614466753071,
          -1.1035524050054597,
          0.01497802970479452,
          -0.4923405339752979,
          -0.711740649467883,
          0.7611113231300444,
          -0.32899989496145043,
          -1.0003056778373516,
          -1.144108410930388,
          -0.7187659800223282,
          -0.8827891809503372,
          0.16527534978219205,
          0.33791501376902755,
          0.2845952287777885,
          -2.031762480119184,
          0.009561136766891088,
          -0.37499414498681033,
          0.7436276548650762,
          -0.08613852640362644,
          -1.788868487410151,
          0.6091820625025955,
          -0.540546683835764,
          -1.3830705697321766,
          -0.22776248598870943,
          0.04791488496871383,
          0.14734661797990722,
          0.6837492096990183,
          0.4909535703078963,
          -0.5763766572692686,
          1.7556808706923992,
          -0.21643572049270607,
          -0.08138650173686049,
          -0.41988696887517796,
          0.5896403672067946,
          -0.15796893354889477,
          0.03098947180102704,
          -1.1741362797157253,
          -0.5288212423479839,
          -1.0461934563699007,
          -1.8047730897321894,
          -0.18922230488345462,
          0.4448399483986472,
          0.09802387104390282,
          0.3675012254291077,
          -2.199418690052648,
          0.9672627288932981,
          -1.6104735507037404,
          1.0793883903440407,
          -1.7442712770335072,
          -0.2006977228942966,
          1.1604057740322227,
          0.8380871794918501,
          0.3434621276866279,
          -1.4104992622520467,
          1.311238947350882,
          0.9412950281879889,
          -0.3350723872072907,
          0.6951180795417036,
          -0.9121582740527129,
          0.18765291170273096,
          -0.690685295257295,
          0.8852386085818393,
          0.4317636746726903,
          -0.7504024305600105,
          -0.39335965300494274,
          0.3694506068850978,
          -0.10252111873440109,
          0.49884624438508196,
          0.055394235359639964,
          0.011792637052425847,
          -0.8082790203993668,
          -1.3615811568324008,
          -0.4873899268497068,
          0.38309544271604257,
          0.4242660099135097,
          2.2187119574585603,
          -0.01959273839618212,
          -0.8646247657702009,
          0.08787197959542621,
          -0.1154797457890154,
          0.33140686940164854,
          -0.6196352065642001,
          0.3227781557323908,
          0.2447772792318997,
          -0.9529620548470774,
          -1.1779499157234683,
          0.362052923601659,
          0.36545821597693284,
          0.5563628463658707,
          0.09204794996115445,
          0.5305702320652781,
          1.2972359829146172,
          -0.463871893327936,
          -2.1652174380047438,
          1.3950847840966412,
          1.25889143735063,
          1.5414336680370502,
          -0.028970197857147585,
          -1.3978466191671446,
          -0.4684792022305753
         ]
        },
        {
         "boxpoints": false,
         "line": {
          "width": 1.3
         },
         "marker": {
          "color": "rgba(55, 128, 191, 1.0)"
         },
         "name": "B",
         "orientation": "v",
         "type": "box",
         "y": [
          1.6078167885510994,
          0.5152505787154171,
          -1.732949449951613,
          -0.036945780938364245,
          -1.3551933367335174,
          0.5319072842514352,
          1.0697347319830688,
          -0.6363260721476971,
          -0.20643662573362598,
          -1.7853998237979154,
          -0.43298489994161915,
          -0.8220605061383672,
          -1.0416535261667546,
          -0.4436110742323203,
          -0.8849717239394095,
          0.82462023527033,
          -0.4511224528127728,
          -2.1521002255906314,
          0.6885075559620766,
          0.9619774031436268,
          -1.601282319516909,
          -1.0187221532576956,
          -0.37185922386743625,
          0.6327713965426722,
          0.6958040276700553,
          0.29576441234029416,
          0.1870375683798816,
          0.21216307603497175,
          -0.46826979686342507,
          0.5265808883122749,
          1.655233754967969,
          0.7847270184177594,
          -0.06524297551623097,
          -0.9050608073638097,
          -0.7568972725338796,
          1.8504073752072894,
          -1.3319273680622228,
          1.025323553637435,
          -1.1929053119674793,
          0.37609355139190637,
          -0.6931871349019727,
          -0.26788738816063384,
          0.6452730391434862,
          -0.6410794715938621,
          0.33601850854039045,
          1.062834980137413,
          -0.13797130277316041,
          -0.3472728358101834,
          -1.9295221797591842,
          0.688887327408491,
          -1.0059879927275013,
          -0.050838321432649304,
          2.810881273367778,
          1.5703602950010316,
          0.6688810634008149,
          -1.6495902709058397,
          0.6370014643522423,
          -0.6926906557976084,
          -1.7365465452273703,
          -1.3391600076707793,
          -2.403423131134129,
          -1.8354091651813158,
          0.6708773143428056,
          0.879946117968798,
          0.8808745167598088,
          0.9741666663770794,
          -0.8874965115923111,
          -0.12403926065668726,
          1.4859109330104527,
          0.02280886808632988,
          -1.1667746795991663,
          -0.978686343644049,
          -1.4082136206191738,
          -1.2271331376969463,
          -1.2464437921438107,
          -0.4073132003975011,
          1.3898802816681095,
          0.9273059334446105,
          0.39645412550268183,
          0.3916040681168114,
          1.7819762431059742,
          2.7889896150765257,
          -0.010367608731995102,
          -0.8704789634274461,
          2.2738070570513167,
          -0.723458871193624,
          -0.8191102049372018,
          0.46412661059334726,
          0.11437839854593614,
          0.8480965711153516,
          -0.4528516451940342,
          1.4002905273470163,
          -0.6214770108332643,
          0.25299312347365505,
          -2.538120488901347,
          -0.7338163679908073,
          -0.8294853006575363,
          -0.7021157089248629,
          1.258967519250579,
          -0.7460926635527159
         ]
        },
        {
         "boxpoints": false,
         "line": {
          "width": 1.3
         },
         "marker": {
          "color": "rgba(50, 171, 96, 1.0)"
         },
         "name": "C",
         "orientation": "v",
         "type": "box",
         "y": [
          -0.40893659238493957,
          0.5284695897665097,
          -1.3499824366425284,
          0.20947320867091684,
          0.06313788697464681,
          0.2240257478807152,
          1.3084846093844364,
          -0.09769227025138068,
          3.0269187001332876,
          -0.5550378168902134,
          0.32298539684628774,
          -0.9811850106703884,
          0.1877224155419993,
          -0.4476847275857444,
          -0.043444973539220784,
          -0.8568041222728902,
          0.6678292272658113,
          -0.5541880396613528,
          0.17231564672572366,
          -2.347037685253554,
          1.7901696378077814,
          -0.13873703056336914,
          1.3703117808680336,
          -1.09557404652743,
          -0.840483658635545,
          -0.0782207435962417,
          -2.4901813063590845,
          0.7954577690986171,
          0.7563678500304583,
          0.8282810592239327,
          1.3736171084097888,
          -0.23051949047893924,
          -0.7500511202208137,
          0.4657791581196217,
          -0.694317760791448,
          0.5323281945892034,
          1.0744949799025156,
          -0.5757996261723936,
          0.6175531749144147,
          -1.3308095173861523,
          -0.3041411470782431,
          -0.32321262916407295,
          1.3451360503158794,
          -0.22258765641468636,
          0.46276086443159536,
          1.305473094444253,
          -1.2557224375752478,
          -0.10735439230579584,
          0.15539669136081516,
          0.2454287275781737,
          0.709062744071629,
          -1.0189306817494845,
          -2.8313600195386575,
          -1.2898923383254388,
          -0.3335219739601589,
          -0.4645270990903758,
          -0.8103778869906966,
          1.777486986773079,
          -1.3100053866097574,
          -0.0061975588456562435,
          -0.3169815636267048,
          0.9884135602991152,
          -1.311183355018789,
          1.3503314844721983,
          -1.176715892945502,
          0.5248186280331063,
          0.7445747839308063,
          1.6061207522399603,
          0.8945753050864336,
          -1.9802230667354683,
          0.9670175266026474,
          -0.38313088682029106,
          0.11504863104212563,
          0.2578355137559848,
          -1.0821243444171453,
          -0.09448353023062106,
          2.280294479006378,
          -0.17323267358745653,
          1.576825520990779,
          -1.1218075790792321,
          0.963955846773198,
          -0.534160103149209,
          -0.47914281610558834,
          -0.632605606970785,
          1.6854458923256828,
          -0.7524602936912916,
          -0.1503760974022031,
          0.32477971265012107,
          0.8838810141917546,
          -0.4830171405408817,
          0.4633496042189074,
          0.6629779705259863,
          -1.3091493510560799,
          0.4445862882224116,
          1.476563650171718,
          0.5203636349511526,
          -0.10072918007507821,
          0.6815092069551677,
          -1.6553484152033242,
          -0.5437242883934308
         ]
        },
        {
         "boxpoints": false,
         "line": {
          "width": 1.3
         },
         "marker": {
          "color": "rgba(128, 0, 128, 1.0)"
         },
         "name": "D",
         "orientation": "v",
         "type": "box",
         "y": [
          -0.28253664986165766,
          -0.33904390394274625,
          -0.6047680721327735,
          0.6319507291868012,
          0.08021080511288874,
          -0.97896691342991,
          0.4369547333665759,
          -0.7985562934630596,
          0.32355756348101233,
          0.17854988139187036,
          -0.39085134916630543,
          -1.5321370768705596,
          0.5861424543076836,
          2.715835390300358,
          -1.3640206736326035,
          0.053510413565636135,
          0.23066249339653072,
          -0.9000073817487739,
          0.9819838235425686,
          -1.744346769757433,
          -1.476470196762409,
          0.21746980135314714,
          -0.34197060462713014,
          0.30613483379581946,
          0.1580369293672214,
          1.6409417618581168,
          -0.6236935701276197,
          -0.4991547268115103,
          0.7647031685804507,
          -2.057966117769427,
          0.07245698303131398,
          -1.997422627118517,
          -1.3578103866767408,
          -0.4588976279778724,
          -0.2454192395594232,
          0.6101007402398854,
          -0.40256956678416195,
          -0.45482856969035035,
          0.5081886564616441,
          -0.025645677346603758,
          1.0873209343675125,
          -0.4837540231899125,
          -1.3658193840021244,
          0.8709806074409643,
          0.5227006631101526,
          0.49932167167711755,
          -0.1584601394811962,
          -1.272619741579752,
          0.08812063144630929,
          -2.4919502989164677,
          0.4615886663651887,
          1.5964300278251782,
          -0.2333403880597775,
          -1.4766687191490893,
          -0.829216493997643,
          2.0719915614687685,
          0.598632674767342,
          0.13311083910793248,
          -0.32805792901128833,
          0.6355408144030831,
          0.046021443643492484,
          1.2005067852810665,
          0.1586335546924041,
          -0.15157832821376174,
          -0.46904019426122073,
          0.3682667349324615,
          1.0455848008493762,
          0.6853331966485996,
          -2.3955059365107045,
          -0.4746208167669859,
          -1.4442781106443496,
          -1.235846616259877,
          0.7634956216937328,
          0.36410298923273937,
          0.2819504634022776,
          0.6214448156567906,
          0.5799914555970304,
          -0.6312564703999389,
          -0.39107502929744736,
          1.3765104283778724,
          0.1453355977174186,
          0.4025782781105333,
          -1.0490846276753765,
          0.08067141982119372,
          0.042136280705729286,
          0.9800814899045366,
          0.09139322288024926,
          0.5173223544429093,
          -0.4522899727238104,
          1.0364086713401168,
          1.4337379459739363,
          -0.3459998925737082,
          0.6517389335619018,
          -0.7458190969260151,
          -1.3743874310232795,
          -1.2824336424269147,
          -0.4871339431225125,
          -1.725912694868446,
          0.13081866800058184,
          -2.6935481159733787
         ]
        }
       ],
       "layout": {
        "legend": {
         "bgcolor": "#F5F6F9",
         "font": {
          "color": "#4D5663"
         }
        },
        "paper_bgcolor": "#F5F6F9",
        "plot_bgcolor": "#F5F6F9",
        "template": {
         "data": {
          "bar": [
           {
            "error_x": {
             "color": "#2a3f5f"
            },
            "error_y": {
             "color": "#2a3f5f"
            },
            "marker": {
             "line": {
              "color": "#E5ECF6",
              "width": 0.5
             }
            },
            "type": "bar"
           }
          ],
          "barpolar": [
           {
            "marker": {
             "line": {
              "color": "#E5ECF6",
              "width": 0.5
             }
            },
            "type": "barpolar"
           }
          ],
          "carpet": [
           {
            "aaxis": {
             "endlinecolor": "#2a3f5f",
             "gridcolor": "white",
             "linecolor": "white",
             "minorgridcolor": "white",
             "startlinecolor": "#2a3f5f"
            },
            "baxis": {
             "endlinecolor": "#2a3f5f",
             "gridcolor": "white",
             "linecolor": "white",
             "minorgridcolor": "white",
             "startlinecolor": "#2a3f5f"
            },
            "type": "carpet"
           }
          ],
          "choropleth": [
           {
            "colorbar": {
             "outlinewidth": 0,
             "ticks": ""
            },
            "type": "choropleth"
           }
          ],
          "contour": [
           {
            "colorbar": {
             "outlinewidth": 0,
             "ticks": ""
            },
            "colorscale": [
             [
              0,
              "#0d0887"
             ],
             [
              0.1111111111111111,
              "#46039f"
             ],
             [
              0.2222222222222222,
              "#7201a8"
             ],
             [
              0.3333333333333333,
              "#9c179e"
             ],
             [
              0.4444444444444444,
              "#bd3786"
             ],
             [
              0.5555555555555556,
              "#d8576b"
             ],
             [
              0.6666666666666666,
              "#ed7953"
             ],
             [
              0.7777777777777778,
              "#fb9f3a"
             ],
             [
              0.8888888888888888,
              "#fdca26"
             ],
             [
              1,
              "#f0f921"
             ]
            ],
            "type": "contour"
           }
          ],
          "contourcarpet": [
           {
            "colorbar": {
             "outlinewidth": 0,
             "ticks": ""
            },
            "type": "contourcarpet"
           }
          ],
          "heatmap": [
           {
            "colorbar": {
             "outlinewidth": 0,
             "ticks": ""
            },
            "colorscale": [
             [
              0,
              "#0d0887"
             ],
             [
              0.1111111111111111,
              "#46039f"
             ],
             [
              0.2222222222222222,
              "#7201a8"
             ],
             [
              0.3333333333333333,
              "#9c179e"
             ],
             [
              0.4444444444444444,
              "#bd3786"
             ],
             [
              0.5555555555555556,
              "#d8576b"
             ],
             [
              0.6666666666666666,
              "#ed7953"
             ],
             [
              0.7777777777777778,
              "#fb9f3a"
             ],
             [
              0.8888888888888888,
              "#fdca26"
             ],
             [
              1,
              "#f0f921"
             ]
            ],
            "type": "heatmap"
           }
          ],
          "heatmapgl": [
           {
            "colorbar": {
             "outlinewidth": 0,
             "ticks": ""
            },
            "colorscale": [
             [
              0,
              "#0d0887"
             ],
             [
              0.1111111111111111,
              "#46039f"
             ],
             [
              0.2222222222222222,
              "#7201a8"
             ],
             [
              0.3333333333333333,
              "#9c179e"
             ],
             [
              0.4444444444444444,
              "#bd3786"
             ],
             [
              0.5555555555555556,
              "#d8576b"
             ],
             [
              0.6666666666666666,
              "#ed7953"
             ],
             [
              0.7777777777777778,
              "#fb9f3a"
             ],
             [
              0.8888888888888888,
              "#fdca26"
             ],
             [
              1,
              "#f0f921"
             ]
            ],
            "type": "heatmapgl"
           }
          ],
          "histogram": [
           {
            "marker": {
             "colorbar": {
              "outlinewidth": 0,
              "ticks": ""
             }
            },
            "type": "histogram"
           }
          ],
          "histogram2d": [
           {
            "colorbar": {
             "outlinewidth": 0,
             "ticks": ""
            },
            "colorscale": [
             [
              0,
              "#0d0887"
             ],
             [
              0.1111111111111111,
              "#46039f"
             ],
             [
              0.2222222222222222,
              "#7201a8"
             ],
             [
              0.3333333333333333,
              "#9c179e"
             ],
             [
              0.4444444444444444,
              "#bd3786"
             ],
             [
              0.5555555555555556,
              "#d8576b"
             ],
             [
              0.6666666666666666,
              "#ed7953"
             ],
             [
              0.7777777777777778,
              "#fb9f3a"
             ],
             [
              0.8888888888888888,
              "#fdca26"
             ],
             [
              1,
              "#f0f921"
             ]
            ],
            "type": "histogram2d"
           }
          ],
          "histogram2dcontour": [
           {
            "colorbar": {
             "outlinewidth": 0,
             "ticks": ""
            },
            "colorscale": [
             [
              0,
              "#0d0887"
             ],
             [
              0.1111111111111111,
              "#46039f"
             ],
             [
              0.2222222222222222,
              "#7201a8"
             ],
             [
              0.3333333333333333,
              "#9c179e"
             ],
             [
              0.4444444444444444,
              "#bd3786"
             ],
             [
              0.5555555555555556,
              "#d8576b"
             ],
             [
              0.6666666666666666,
              "#ed7953"
             ],
             [
              0.7777777777777778,
              "#fb9f3a"
             ],
             [
              0.8888888888888888,
              "#fdca26"
             ],
             [
              1,
              "#f0f921"
             ]
            ],
            "type": "histogram2dcontour"
           }
          ],
          "mesh3d": [
           {
            "colorbar": {
             "outlinewidth": 0,
             "ticks": ""
            },
            "type": "mesh3d"
           }
          ],
          "parcoords": [
           {
            "line": {
             "colorbar": {
              "outlinewidth": 0,
              "ticks": ""
             }
            },
            "type": "parcoords"
           }
          ],
          "pie": [
           {
            "automargin": true,
            "type": "pie"
           }
          ],
          "scatter": [
           {
            "marker": {
             "colorbar": {
              "outlinewidth": 0,
              "ticks": ""
             }
            },
            "type": "scatter"
           }
          ],
          "scatter3d": [
           {
            "line": {
             "colorbar": {
              "outlinewidth": 0,
              "ticks": ""
             }
            },
            "marker": {
             "colorbar": {
              "outlinewidth": 0,
              "ticks": ""
             }
            },
            "type": "scatter3d"
           }
          ],
          "scattercarpet": [
           {
            "marker": {
             "colorbar": {
              "outlinewidth": 0,
              "ticks": ""
             }
            },
            "type": "scattercarpet"
           }
          ],
          "scattergeo": [
           {
            "marker": {
             "colorbar": {
              "outlinewidth": 0,
              "ticks": ""
             }
            },
            "type": "scattergeo"
           }
          ],
          "scattergl": [
           {
            "marker": {
             "colorbar": {
              "outlinewidth": 0,
              "ticks": ""
             }
            },
            "type": "scattergl"
           }
          ],
          "scattermapbox": [
           {
            "marker": {
             "colorbar": {
              "outlinewidth": 0,
              "ticks": ""
             }
            },
            "type": "scattermapbox"
           }
          ],
          "scatterpolar": [
           {
            "marker": {
             "colorbar": {
              "outlinewidth": 0,
              "ticks": ""
             }
            },
            "type": "scatterpolar"
           }
          ],
          "scatterpolargl": [
           {
            "marker": {
             "colorbar": {
              "outlinewidth": 0,
              "ticks": ""
             }
            },
            "type": "scatterpolargl"
           }
          ],
          "scatterternary": [
           {
            "marker": {
             "colorbar": {
              "outlinewidth": 0,
              "ticks": ""
             }
            },
            "type": "scatterternary"
           }
          ],
          "surface": [
           {
            "colorbar": {
             "outlinewidth": 0,
             "ticks": ""
            },
            "colorscale": [
             [
              0,
              "#0d0887"
             ],
             [
              0.1111111111111111,
              "#46039f"
             ],
             [
              0.2222222222222222,
              "#7201a8"
             ],
             [
              0.3333333333333333,
              "#9c179e"
             ],
             [
              0.4444444444444444,
              "#bd3786"
             ],
             [
              0.5555555555555556,
              "#d8576b"
             ],
             [
              0.6666666666666666,
              "#ed7953"
             ],
             [
              0.7777777777777778,
              "#fb9f3a"
             ],
             [
              0.8888888888888888,
              "#fdca26"
             ],
             [
              1,
              "#f0f921"
             ]
            ],
            "type": "surface"
           }
          ],
          "table": [
           {
            "cells": {
             "fill": {
              "color": "#EBF0F8"
             },
             "line": {
              "color": "white"
             }
            },
            "header": {
             "fill": {
              "color": "#C8D4E3"
             },
             "line": {
              "color": "white"
             }
            },
            "type": "table"
           }
          ]
         },
         "layout": {
          "annotationdefaults": {
           "arrowcolor": "#2a3f5f",
           "arrowhead": 0,
           "arrowwidth": 1
          },
          "coloraxis": {
           "colorbar": {
            "outlinewidth": 0,
            "ticks": ""
           }
          },
          "colorscale": {
           "diverging": [
            [
             0,
             "#8e0152"
            ],
            [
             0.1,
             "#c51b7d"
            ],
            [
             0.2,
             "#de77ae"
            ],
            [
             0.3,
             "#f1b6da"
            ],
            [
             0.4,
             "#fde0ef"
            ],
            [
             0.5,
             "#f7f7f7"
            ],
            [
             0.6,
             "#e6f5d0"
            ],
            [
             0.7,
             "#b8e186"
            ],
            [
             0.8,
             "#7fbc41"
            ],
            [
             0.9,
             "#4d9221"
            ],
            [
             1,
             "#276419"
            ]
           ],
           "sequential": [
            [
             0,
             "#0d0887"
            ],
            [
             0.1111111111111111,
             "#46039f"
            ],
            [
             0.2222222222222222,
             "#7201a8"
            ],
            [
             0.3333333333333333,
             "#9c179e"
            ],
            [
             0.4444444444444444,
             "#bd3786"
            ],
            [
             0.5555555555555556,
             "#d8576b"
            ],
            [
             0.6666666666666666,
             "#ed7953"
            ],
            [
             0.7777777777777778,
             "#fb9f3a"
            ],
            [
             0.8888888888888888,
             "#fdca26"
            ],
            [
             1,
             "#f0f921"
            ]
           ],
           "sequentialminus": [
            [
             0,
             "#0d0887"
            ],
            [
             0.1111111111111111,
             "#46039f"
            ],
            [
             0.2222222222222222,
             "#7201a8"
            ],
            [
             0.3333333333333333,
             "#9c179e"
            ],
            [
             0.4444444444444444,
             "#bd3786"
            ],
            [
             0.5555555555555556,
             "#d8576b"
            ],
            [
             0.6666666666666666,
             "#ed7953"
            ],
            [
             0.7777777777777778,
             "#fb9f3a"
            ],
            [
             0.8888888888888888,
             "#fdca26"
            ],
            [
             1,
             "#f0f921"
            ]
           ]
          },
          "colorway": [
           "#636efa",
           "#EF553B",
           "#00cc96",
           "#ab63fa",
           "#FFA15A",
           "#19d3f3",
           "#FF6692",
           "#B6E880",
           "#FF97FF",
           "#FECB52"
          ],
          "font": {
           "color": "#2a3f5f"
          },
          "geo": {
           "bgcolor": "white",
           "lakecolor": "white",
           "landcolor": "#E5ECF6",
           "showlakes": true,
           "showland": true,
           "subunitcolor": "white"
          },
          "hoverlabel": {
           "align": "left"
          },
          "hovermode": "closest",
          "mapbox": {
           "style": "light"
          },
          "paper_bgcolor": "white",
          "plot_bgcolor": "#E5ECF6",
          "polar": {
           "angularaxis": {
            "gridcolor": "white",
            "linecolor": "white",
            "ticks": ""
           },
           "bgcolor": "#E5ECF6",
           "radialaxis": {
            "gridcolor": "white",
            "linecolor": "white",
            "ticks": ""
           }
          },
          "scene": {
           "xaxis": {
            "backgroundcolor": "#E5ECF6",
            "gridcolor": "white",
            "gridwidth": 2,
            "linecolor": "white",
            "showbackground": true,
            "ticks": "",
            "zerolinecolor": "white"
           },
           "yaxis": {
            "backgroundcolor": "#E5ECF6",
            "gridcolor": "white",
            "gridwidth": 2,
            "linecolor": "white",
            "showbackground": true,
            "ticks": "",
            "zerolinecolor": "white"
           },
           "zaxis": {
            "backgroundcolor": "#E5ECF6",
            "gridcolor": "white",
            "gridwidth": 2,
            "linecolor": "white",
            "showbackground": true,
            "ticks": "",
            "zerolinecolor": "white"
           }
          },
          "shapedefaults": {
           "line": {
            "color": "#2a3f5f"
           }
          },
          "ternary": {
           "aaxis": {
            "gridcolor": "white",
            "linecolor": "white",
            "ticks": ""
           },
           "baxis": {
            "gridcolor": "white",
            "linecolor": "white",
            "ticks": ""
           },
           "bgcolor": "#E5ECF6",
           "caxis": {
            "gridcolor": "white",
            "linecolor": "white",
            "ticks": ""
           }
          },
          "title": {
           "x": 0.05
          },
          "xaxis": {
           "automargin": true,
           "gridcolor": "white",
           "linecolor": "white",
           "ticks": "",
           "title": {
            "standoff": 15
           },
           "zerolinecolor": "white",
           "zerolinewidth": 2
          },
          "yaxis": {
           "automargin": true,
           "gridcolor": "white",
           "linecolor": "white",
           "ticks": "",
           "title": {
            "standoff": 15
           },
           "zerolinecolor": "white",
           "zerolinewidth": 2
          }
         }
        },
        "title": {
         "font": {
          "color": "#4D5663"
         }
        },
        "xaxis": {
         "gridcolor": "#E1E5ED",
         "showgrid": true,
         "tickfont": {
          "color": "#4D5663"
         },
         "title": {
          "font": {
           "color": "#4D5663"
          },
          "text": ""
         },
         "zerolinecolor": "#E1E5ED"
        },
        "yaxis": {
         "gridcolor": "#E1E5ED",
         "showgrid": true,
         "tickfont": {
          "color": "#4D5663"
         },
         "title": {
          "font": {
           "color": "#4D5663"
          },
          "text": ""
         },
         "zerolinecolor": "#E1E5ED"
        }
       }
      },
      "text/html": [
       "<div>\n",
       "        \n",
       "        \n",
       "            <div id=\"63d74290-fda3-490f-a2e7-59f1734d3086\" class=\"plotly-graph-div\" style=\"height:525px; width:100%;\"></div>\n",
       "            <script type=\"text/javascript\">\n",
       "                require([\"plotly\"], function(Plotly) {\n",
       "                    window.PLOTLYENV=window.PLOTLYENV || {};\n",
       "                    window.PLOTLYENV.BASE_URL='https://plot.ly';\n",
       "                    \n",
       "                if (document.getElementById(\"63d74290-fda3-490f-a2e7-59f1734d3086\")) {\n",
       "                    Plotly.newPlot(\n",
       "                        '63d74290-fda3-490f-a2e7-59f1734d3086',\n",
       "                        [{\"boxpoints\": false, \"line\": {\"width\": 1.3}, \"marker\": {\"color\": \"rgba(255, 153, 51, 1.0)\"}, \"name\": \"A\", \"orientation\": \"v\", \"type\": \"box\", \"y\": [0.3410614466753071, -1.1035524050054597, 0.01497802970479452, -0.4923405339752979, -0.711740649467883, 0.7611113231300444, -0.32899989496145043, -1.0003056778373516, -1.144108410930388, -0.7187659800223282, -0.8827891809503372, 0.16527534978219205, 0.33791501376902755, 0.2845952287777885, -2.031762480119184, 0.009561136766891088, -0.37499414498681033, 0.7436276548650762, -0.08613852640362644, -1.788868487410151, 0.6091820625025955, -0.540546683835764, -1.3830705697321766, -0.22776248598870943, 0.04791488496871383, 0.14734661797990722, 0.6837492096990183, 0.4909535703078963, -0.5763766572692686, 1.7556808706923992, -0.21643572049270607, -0.08138650173686049, -0.41988696887517796, 0.5896403672067946, -0.15796893354889477, 0.03098947180102704, -1.1741362797157253, -0.5288212423479839, -1.0461934563699007, -1.8047730897321894, -0.18922230488345462, 0.4448399483986472, 0.09802387104390282, 0.3675012254291077, -2.199418690052648, 0.9672627288932981, -1.6104735507037404, 1.0793883903440407, -1.7442712770335072, -0.2006977228942966, 1.1604057740322227, 0.8380871794918501, 0.3434621276866279, -1.4104992622520467, 1.311238947350882, 0.9412950281879889, -0.3350723872072907, 0.6951180795417036, -0.9121582740527129, 0.18765291170273096, -0.690685295257295, 0.8852386085818393, 0.4317636746726903, -0.7504024305600105, -0.39335965300494274, 0.3694506068850978, -0.10252111873440109, 0.49884624438508196, 0.055394235359639964, 0.011792637052425847, -0.8082790203993668, -1.3615811568324008, -0.4873899268497068, 0.38309544271604257, 0.4242660099135097, 2.2187119574585603, -0.01959273839618212, -0.8646247657702009, 0.08787197959542621, -0.1154797457890154, 0.33140686940164854, -0.6196352065642001, 0.3227781557323908, 0.2447772792318997, -0.9529620548470774, -1.1779499157234683, 0.362052923601659, 0.36545821597693284, 0.5563628463658707, 0.09204794996115445, 0.5305702320652781, 1.2972359829146172, -0.463871893327936, -2.1652174380047438, 1.3950847840966412, 1.25889143735063, 1.5414336680370502, -0.028970197857147585, -1.3978466191671446, -0.4684792022305753]}, {\"boxpoints\": false, \"line\": {\"width\": 1.3}, \"marker\": {\"color\": \"rgba(55, 128, 191, 1.0)\"}, \"name\": \"B\", \"orientation\": \"v\", \"type\": \"box\", \"y\": [1.6078167885510994, 0.5152505787154171, -1.732949449951613, -0.036945780938364245, -1.3551933367335174, 0.5319072842514352, 1.0697347319830688, -0.6363260721476971, -0.20643662573362598, -1.7853998237979154, -0.43298489994161915, -0.8220605061383672, -1.0416535261667546, -0.4436110742323203, -0.8849717239394095, 0.82462023527033, -0.4511224528127728, -2.1521002255906314, 0.6885075559620766, 0.9619774031436268, -1.601282319516909, -1.0187221532576956, -0.37185922386743625, 0.6327713965426722, 0.6958040276700553, 0.29576441234029416, 0.1870375683798816, 0.21216307603497175, -0.46826979686342507, 0.5265808883122749, 1.655233754967969, 0.7847270184177594, -0.06524297551623097, -0.9050608073638097, -0.7568972725338796, 1.8504073752072894, -1.3319273680622228, 1.025323553637435, -1.1929053119674793, 0.37609355139190637, -0.6931871349019727, -0.26788738816063384, 0.6452730391434862, -0.6410794715938621, 0.33601850854039045, 1.062834980137413, -0.13797130277316041, -0.3472728358101834, -1.9295221797591842, 0.688887327408491, -1.0059879927275013, -0.050838321432649304, 2.810881273367778, 1.5703602950010316, 0.6688810634008149, -1.6495902709058397, 0.6370014643522423, -0.6926906557976084, -1.7365465452273703, -1.3391600076707793, -2.403423131134129, -1.8354091651813158, 0.6708773143428056, 0.879946117968798, 0.8808745167598088, 0.9741666663770794, -0.8874965115923111, -0.12403926065668726, 1.4859109330104527, 0.02280886808632988, -1.1667746795991663, -0.978686343644049, -1.4082136206191738, -1.2271331376969463, -1.2464437921438107, -0.4073132003975011, 1.3898802816681095, 0.9273059334446105, 0.39645412550268183, 0.3916040681168114, 1.7819762431059742, 2.7889896150765257, -0.010367608731995102, -0.8704789634274461, 2.2738070570513167, -0.723458871193624, -0.8191102049372018, 0.46412661059334726, 0.11437839854593614, 0.8480965711153516, -0.4528516451940342, 1.4002905273470163, -0.6214770108332643, 0.25299312347365505, -2.538120488901347, -0.7338163679908073, -0.8294853006575363, -0.7021157089248629, 1.258967519250579, -0.7460926635527159]}, {\"boxpoints\": false, \"line\": {\"width\": 1.3}, \"marker\": {\"color\": \"rgba(50, 171, 96, 1.0)\"}, \"name\": \"C\", \"orientation\": \"v\", \"type\": \"box\", \"y\": [-0.40893659238493957, 0.5284695897665097, -1.3499824366425284, 0.20947320867091684, 0.06313788697464681, 0.2240257478807152, 1.3084846093844364, -0.09769227025138068, 3.0269187001332876, -0.5550378168902134, 0.32298539684628774, -0.9811850106703884, 0.1877224155419993, -0.4476847275857444, -0.043444973539220784, -0.8568041222728902, 0.6678292272658113, -0.5541880396613528, 0.17231564672572366, -2.347037685253554, 1.7901696378077814, -0.13873703056336914, 1.3703117808680336, -1.09557404652743, -0.840483658635545, -0.0782207435962417, -2.4901813063590845, 0.7954577690986171, 0.7563678500304583, 0.8282810592239327, 1.3736171084097888, -0.23051949047893924, -0.7500511202208137, 0.4657791581196217, -0.694317760791448, 0.5323281945892034, 1.0744949799025156, -0.5757996261723936, 0.6175531749144147, -1.3308095173861523, -0.3041411470782431, -0.32321262916407295, 1.3451360503158794, -0.22258765641468636, 0.46276086443159536, 1.305473094444253, -1.2557224375752478, -0.10735439230579584, 0.15539669136081516, 0.2454287275781737, 0.709062744071629, -1.0189306817494845, -2.8313600195386575, -1.2898923383254388, -0.3335219739601589, -0.4645270990903758, -0.8103778869906966, 1.777486986773079, -1.3100053866097574, -0.0061975588456562435, -0.3169815636267048, 0.9884135602991152, -1.311183355018789, 1.3503314844721983, -1.176715892945502, 0.5248186280331063, 0.7445747839308063, 1.6061207522399603, 0.8945753050864336, -1.9802230667354683, 0.9670175266026474, -0.38313088682029106, 0.11504863104212563, 0.2578355137559848, -1.0821243444171453, -0.09448353023062106, 2.280294479006378, -0.17323267358745653, 1.576825520990779, -1.1218075790792321, 0.963955846773198, -0.534160103149209, -0.47914281610558834, -0.632605606970785, 1.6854458923256828, -0.7524602936912916, -0.1503760974022031, 0.32477971265012107, 0.8838810141917546, -0.4830171405408817, 0.4633496042189074, 0.6629779705259863, -1.3091493510560799, 0.4445862882224116, 1.476563650171718, 0.5203636349511526, -0.10072918007507821, 0.6815092069551677, -1.6553484152033242, -0.5437242883934308]}, {\"boxpoints\": false, \"line\": {\"width\": 1.3}, \"marker\": {\"color\": \"rgba(128, 0, 128, 1.0)\"}, \"name\": \"D\", \"orientation\": \"v\", \"type\": \"box\", \"y\": [-0.28253664986165766, -0.33904390394274625, -0.6047680721327735, 0.6319507291868012, 0.08021080511288874, -0.97896691342991, 0.4369547333665759, -0.7985562934630596, 0.32355756348101233, 0.17854988139187036, -0.39085134916630543, -1.5321370768705596, 0.5861424543076836, 2.715835390300358, -1.3640206736326035, 0.053510413565636135, 0.23066249339653072, -0.9000073817487739, 0.9819838235425686, -1.744346769757433, -1.476470196762409, 0.21746980135314714, -0.34197060462713014, 0.30613483379581946, 0.1580369293672214, 1.6409417618581168, -0.6236935701276197, -0.4991547268115103, 0.7647031685804507, -2.057966117769427, 0.07245698303131398, -1.997422627118517, -1.3578103866767408, -0.4588976279778724, -0.2454192395594232, 0.6101007402398854, -0.40256956678416195, -0.45482856969035035, 0.5081886564616441, -0.025645677346603758, 1.0873209343675125, -0.4837540231899125, -1.3658193840021244, 0.8709806074409643, 0.5227006631101526, 0.49932167167711755, -0.1584601394811962, -1.272619741579752, 0.08812063144630929, -2.4919502989164677, 0.4615886663651887, 1.5964300278251782, -0.2333403880597775, -1.4766687191490893, -0.829216493997643, 2.0719915614687685, 0.598632674767342, 0.13311083910793248, -0.32805792901128833, 0.6355408144030831, 0.046021443643492484, 1.2005067852810665, 0.1586335546924041, -0.15157832821376174, -0.46904019426122073, 0.3682667349324615, 1.0455848008493762, 0.6853331966485996, -2.3955059365107045, -0.4746208167669859, -1.4442781106443496, -1.235846616259877, 0.7634956216937328, 0.36410298923273937, 0.2819504634022776, 0.6214448156567906, 0.5799914555970304, -0.6312564703999389, -0.39107502929744736, 1.3765104283778724, 0.1453355977174186, 0.4025782781105333, -1.0490846276753765, 0.08067141982119372, 0.042136280705729286, 0.9800814899045366, 0.09139322288024926, 0.5173223544429093, -0.4522899727238104, 1.0364086713401168, 1.4337379459739363, -0.3459998925737082, 0.6517389335619018, -0.7458190969260151, -1.3743874310232795, -1.2824336424269147, -0.4871339431225125, -1.725912694868446, 0.13081866800058184, -2.6935481159733787]}],\n",
       "                        {\"legend\": {\"bgcolor\": \"#F5F6F9\", \"font\": {\"color\": \"#4D5663\"}}, \"paper_bgcolor\": \"#F5F6F9\", \"plot_bgcolor\": \"#F5F6F9\", \"template\": {\"data\": {\"bar\": [{\"error_x\": {\"color\": \"#2a3f5f\"}, \"error_y\": {\"color\": \"#2a3f5f\"}, \"marker\": {\"line\": {\"color\": \"#E5ECF6\", \"width\": 0.5}}, \"type\": \"bar\"}], \"barpolar\": [{\"marker\": {\"line\": {\"color\": \"#E5ECF6\", \"width\": 0.5}}, \"type\": \"barpolar\"}], \"carpet\": [{\"aaxis\": {\"endlinecolor\": \"#2a3f5f\", \"gridcolor\": \"white\", \"linecolor\": \"white\", \"minorgridcolor\": \"white\", \"startlinecolor\": \"#2a3f5f\"}, \"baxis\": {\"endlinecolor\": \"#2a3f5f\", \"gridcolor\": \"white\", \"linecolor\": \"white\", \"minorgridcolor\": \"white\", \"startlinecolor\": \"#2a3f5f\"}, \"type\": \"carpet\"}], \"choropleth\": [{\"colorbar\": {\"outlinewidth\": 0, \"ticks\": \"\"}, \"type\": \"choropleth\"}], \"contour\": [{\"colorbar\": {\"outlinewidth\": 0, \"ticks\": \"\"}, \"colorscale\": [[0.0, \"#0d0887\"], [0.1111111111111111, \"#46039f\"], [0.2222222222222222, \"#7201a8\"], [0.3333333333333333, \"#9c179e\"], [0.4444444444444444, \"#bd3786\"], [0.5555555555555556, \"#d8576b\"], [0.6666666666666666, \"#ed7953\"], [0.7777777777777778, \"#fb9f3a\"], [0.8888888888888888, \"#fdca26\"], [1.0, \"#f0f921\"]], \"type\": \"contour\"}], \"contourcarpet\": [{\"colorbar\": {\"outlinewidth\": 0, \"ticks\": \"\"}, \"type\": \"contourcarpet\"}], \"heatmap\": [{\"colorbar\": {\"outlinewidth\": 0, \"ticks\": \"\"}, \"colorscale\": [[0.0, \"#0d0887\"], [0.1111111111111111, \"#46039f\"], [0.2222222222222222, \"#7201a8\"], [0.3333333333333333, \"#9c179e\"], [0.4444444444444444, \"#bd3786\"], [0.5555555555555556, \"#d8576b\"], [0.6666666666666666, \"#ed7953\"], [0.7777777777777778, \"#fb9f3a\"], [0.8888888888888888, \"#fdca26\"], [1.0, \"#f0f921\"]], \"type\": \"heatmap\"}], \"heatmapgl\": [{\"colorbar\": {\"outlinewidth\": 0, \"ticks\": \"\"}, \"colorscale\": [[0.0, \"#0d0887\"], [0.1111111111111111, \"#46039f\"], [0.2222222222222222, \"#7201a8\"], [0.3333333333333333, \"#9c179e\"], [0.4444444444444444, \"#bd3786\"], [0.5555555555555556, \"#d8576b\"], [0.6666666666666666, \"#ed7953\"], [0.7777777777777778, \"#fb9f3a\"], [0.8888888888888888, \"#fdca26\"], [1.0, \"#f0f921\"]], \"type\": \"heatmapgl\"}], \"histogram\": [{\"marker\": {\"colorbar\": {\"outlinewidth\": 0, \"ticks\": \"\"}}, \"type\": \"histogram\"}], \"histogram2d\": [{\"colorbar\": {\"outlinewidth\": 0, \"ticks\": \"\"}, \"colorscale\": [[0.0, \"#0d0887\"], [0.1111111111111111, \"#46039f\"], [0.2222222222222222, \"#7201a8\"], [0.3333333333333333, \"#9c179e\"], [0.4444444444444444, \"#bd3786\"], [0.5555555555555556, \"#d8576b\"], [0.6666666666666666, \"#ed7953\"], [0.7777777777777778, \"#fb9f3a\"], [0.8888888888888888, \"#fdca26\"], [1.0, \"#f0f921\"]], \"type\": \"histogram2d\"}], \"histogram2dcontour\": [{\"colorbar\": {\"outlinewidth\": 0, \"ticks\": \"\"}, \"colorscale\": [[0.0, \"#0d0887\"], [0.1111111111111111, \"#46039f\"], [0.2222222222222222, \"#7201a8\"], [0.3333333333333333, \"#9c179e\"], [0.4444444444444444, \"#bd3786\"], [0.5555555555555556, \"#d8576b\"], [0.6666666666666666, \"#ed7953\"], [0.7777777777777778, \"#fb9f3a\"], [0.8888888888888888, \"#fdca26\"], [1.0, \"#f0f921\"]], \"type\": \"histogram2dcontour\"}], \"mesh3d\": [{\"colorbar\": {\"outlinewidth\": 0, \"ticks\": \"\"}, \"type\": \"mesh3d\"}], \"parcoords\": [{\"line\": {\"colorbar\": {\"outlinewidth\": 0, \"ticks\": \"\"}}, \"type\": \"parcoords\"}], \"pie\": [{\"automargin\": true, \"type\": \"pie\"}], \"scatter\": [{\"marker\": {\"colorbar\": {\"outlinewidth\": 0, \"ticks\": \"\"}}, \"type\": \"scatter\"}], \"scatter3d\": [{\"line\": {\"colorbar\": {\"outlinewidth\": 0, \"ticks\": \"\"}}, \"marker\": {\"colorbar\": {\"outlinewidth\": 0, \"ticks\": \"\"}}, \"type\": \"scatter3d\"}], \"scattercarpet\": [{\"marker\": {\"colorbar\": {\"outlinewidth\": 0, \"ticks\": \"\"}}, \"type\": \"scattercarpet\"}], \"scattergeo\": [{\"marker\": {\"colorbar\": {\"outlinewidth\": 0, \"ticks\": \"\"}}, \"type\": \"scattergeo\"}], \"scattergl\": [{\"marker\": {\"colorbar\": {\"outlinewidth\": 0, \"ticks\": \"\"}}, \"type\": \"scattergl\"}], \"scattermapbox\": [{\"marker\": {\"colorbar\": {\"outlinewidth\": 0, \"ticks\": \"\"}}, \"type\": \"scattermapbox\"}], \"scatterpolar\": [{\"marker\": {\"colorbar\": {\"outlinewidth\": 0, \"ticks\": \"\"}}, \"type\": \"scatterpolar\"}], \"scatterpolargl\": [{\"marker\": {\"colorbar\": {\"outlinewidth\": 0, \"ticks\": \"\"}}, \"type\": \"scatterpolargl\"}], \"scatterternary\": [{\"marker\": {\"colorbar\": {\"outlinewidth\": 0, \"ticks\": \"\"}}, \"type\": \"scatterternary\"}], \"surface\": [{\"colorbar\": {\"outlinewidth\": 0, \"ticks\": \"\"}, \"colorscale\": [[0.0, \"#0d0887\"], [0.1111111111111111, \"#46039f\"], [0.2222222222222222, \"#7201a8\"], [0.3333333333333333, \"#9c179e\"], [0.4444444444444444, \"#bd3786\"], [0.5555555555555556, \"#d8576b\"], [0.6666666666666666, \"#ed7953\"], [0.7777777777777778, \"#fb9f3a\"], [0.8888888888888888, \"#fdca26\"], [1.0, \"#f0f921\"]], \"type\": \"surface\"}], \"table\": [{\"cells\": {\"fill\": {\"color\": \"#EBF0F8\"}, \"line\": {\"color\": \"white\"}}, \"header\": {\"fill\": {\"color\": \"#C8D4E3\"}, \"line\": {\"color\": \"white\"}}, \"type\": \"table\"}]}, \"layout\": {\"annotationdefaults\": {\"arrowcolor\": \"#2a3f5f\", \"arrowhead\": 0, \"arrowwidth\": 1}, \"coloraxis\": {\"colorbar\": {\"outlinewidth\": 0, \"ticks\": \"\"}}, \"colorscale\": {\"diverging\": [[0, \"#8e0152\"], [0.1, \"#c51b7d\"], [0.2, \"#de77ae\"], [0.3, \"#f1b6da\"], [0.4, \"#fde0ef\"], [0.5, \"#f7f7f7\"], [0.6, \"#e6f5d0\"], [0.7, \"#b8e186\"], [0.8, \"#7fbc41\"], [0.9, \"#4d9221\"], [1, \"#276419\"]], \"sequential\": [[0.0, \"#0d0887\"], [0.1111111111111111, \"#46039f\"], [0.2222222222222222, \"#7201a8\"], [0.3333333333333333, \"#9c179e\"], [0.4444444444444444, \"#bd3786\"], [0.5555555555555556, \"#d8576b\"], [0.6666666666666666, \"#ed7953\"], [0.7777777777777778, \"#fb9f3a\"], [0.8888888888888888, \"#fdca26\"], [1.0, \"#f0f921\"]], \"sequentialminus\": [[0.0, \"#0d0887\"], [0.1111111111111111, \"#46039f\"], [0.2222222222222222, \"#7201a8\"], [0.3333333333333333, \"#9c179e\"], [0.4444444444444444, \"#bd3786\"], [0.5555555555555556, \"#d8576b\"], [0.6666666666666666, \"#ed7953\"], [0.7777777777777778, \"#fb9f3a\"], [0.8888888888888888, \"#fdca26\"], [1.0, \"#f0f921\"]]}, \"colorway\": [\"#636efa\", \"#EF553B\", \"#00cc96\", \"#ab63fa\", \"#FFA15A\", \"#19d3f3\", \"#FF6692\", \"#B6E880\", \"#FF97FF\", \"#FECB52\"], \"font\": {\"color\": \"#2a3f5f\"}, \"geo\": {\"bgcolor\": \"white\", \"lakecolor\": \"white\", \"landcolor\": \"#E5ECF6\", \"showlakes\": true, \"showland\": true, \"subunitcolor\": \"white\"}, \"hoverlabel\": {\"align\": \"left\"}, \"hovermode\": \"closest\", \"mapbox\": {\"style\": \"light\"}, \"paper_bgcolor\": \"white\", \"plot_bgcolor\": \"#E5ECF6\", \"polar\": {\"angularaxis\": {\"gridcolor\": \"white\", \"linecolor\": \"white\", \"ticks\": \"\"}, \"bgcolor\": \"#E5ECF6\", \"radialaxis\": {\"gridcolor\": \"white\", \"linecolor\": \"white\", \"ticks\": \"\"}}, \"scene\": {\"xaxis\": {\"backgroundcolor\": \"#E5ECF6\", \"gridcolor\": \"white\", \"gridwidth\": 2, \"linecolor\": \"white\", \"showbackground\": true, \"ticks\": \"\", \"zerolinecolor\": \"white\"}, \"yaxis\": {\"backgroundcolor\": \"#E5ECF6\", \"gridcolor\": \"white\", \"gridwidth\": 2, \"linecolor\": \"white\", \"showbackground\": true, \"ticks\": \"\", \"zerolinecolor\": \"white\"}, \"zaxis\": {\"backgroundcolor\": \"#E5ECF6\", \"gridcolor\": \"white\", \"gridwidth\": 2, \"linecolor\": \"white\", \"showbackground\": true, \"ticks\": \"\", \"zerolinecolor\": \"white\"}}, \"shapedefaults\": {\"line\": {\"color\": \"#2a3f5f\"}}, \"ternary\": {\"aaxis\": {\"gridcolor\": \"white\", \"linecolor\": \"white\", \"ticks\": \"\"}, \"baxis\": {\"gridcolor\": \"white\", \"linecolor\": \"white\", \"ticks\": \"\"}, \"bgcolor\": \"#E5ECF6\", \"caxis\": {\"gridcolor\": \"white\", \"linecolor\": \"white\", \"ticks\": \"\"}}, \"title\": {\"x\": 0.05}, \"xaxis\": {\"automargin\": true, \"gridcolor\": \"white\", \"linecolor\": \"white\", \"ticks\": \"\", \"title\": {\"standoff\": 15}, \"zerolinecolor\": \"white\", \"zerolinewidth\": 2}, \"yaxis\": {\"automargin\": true, \"gridcolor\": \"white\", \"linecolor\": \"white\", \"ticks\": \"\", \"title\": {\"standoff\": 15}, \"zerolinecolor\": \"white\", \"zerolinewidth\": 2}}}, \"title\": {\"font\": {\"color\": \"#4D5663\"}}, \"xaxis\": {\"gridcolor\": \"#E1E5ED\", \"showgrid\": true, \"tickfont\": {\"color\": \"#4D5663\"}, \"title\": {\"font\": {\"color\": \"#4D5663\"}, \"text\": \"\"}, \"zerolinecolor\": \"#E1E5ED\"}, \"yaxis\": {\"gridcolor\": \"#E1E5ED\", \"showgrid\": true, \"tickfont\": {\"color\": \"#4D5663\"}, \"title\": {\"font\": {\"color\": \"#4D5663\"}, \"text\": \"\"}, \"zerolinecolor\": \"#E1E5ED\"}},\n",
       "                        {\"showLink\": true, \"linkText\": \"Export to plot.ly\", \"plotlyServerURL\": \"https://plot.ly\", \"responsive\": true}\n",
       "                    ).then(function(){\n",
       "                            \n",
       "var gd = document.getElementById('63d74290-fda3-490f-a2e7-59f1734d3086');\n",
       "var x = new MutationObserver(function (mutations, observer) {{\n",
       "        var display = window.getComputedStyle(gd).display;\n",
       "        if (!display || display === 'none') {{\n",
       "            console.log([gd, 'removed!']);\n",
       "            Plotly.purge(gd);\n",
       "            observer.disconnect();\n",
       "        }}\n",
       "}});\n",
       "\n",
       "// Listen for the removal of the full notebook cells\n",
       "var notebookContainer = gd.closest('#notebook-container');\n",
       "if (notebookContainer) {{\n",
       "    x.observe(notebookContainer, {childList: true});\n",
       "}}\n",
       "\n",
       "// Listen for the clearing of the current output cell\n",
       "var outputEl = gd.closest('.output');\n",
       "if (outputEl) {{\n",
       "    x.observe(outputEl, {childList: true});\n",
       "}}\n",
       "\n",
       "                        })\n",
       "                };\n",
       "                });\n",
       "            </script>\n",
       "        </div>"
      ]
     },
     "metadata": {},
     "output_type": "display_data"
    }
   ],
   "source": [
    "df.iplot(kind='box')\n",
    "# We can on/off the each column's box plot"
   ]
  },
  {
   "cell_type": "markdown",
   "metadata": {},
   "source": [
    "# 3d surface plot"
   ]
  },
  {
   "cell_type": "code",
   "execution_count": 43,
   "metadata": {},
   "outputs": [
    {
     "data": {
      "text/html": [
       "<div>\n",
       "<style scoped>\n",
       "    .dataframe tbody tr th:only-of-type {\n",
       "        vertical-align: middle;\n",
       "    }\n",
       "\n",
       "    .dataframe tbody tr th {\n",
       "        vertical-align: top;\n",
       "    }\n",
       "\n",
       "    .dataframe thead th {\n",
       "        text-align: right;\n",
       "    }\n",
       "</style>\n",
       "<table border=\"1\" class=\"dataframe\">\n",
       "  <thead>\n",
       "    <tr style=\"text-align: right;\">\n",
       "      <th></th>\n",
       "      <th>x</th>\n",
       "      <th>y</th>\n",
       "      <th>z</th>\n",
       "    </tr>\n",
       "  </thead>\n",
       "  <tbody>\n",
       "    <tr>\n",
       "      <th>0</th>\n",
       "      <td>1</td>\n",
       "      <td>10</td>\n",
       "      <td>5</td>\n",
       "    </tr>\n",
       "    <tr>\n",
       "      <th>1</th>\n",
       "      <td>2</td>\n",
       "      <td>20</td>\n",
       "      <td>4</td>\n",
       "    </tr>\n",
       "    <tr>\n",
       "      <th>2</th>\n",
       "      <td>3</td>\n",
       "      <td>30</td>\n",
       "      <td>3</td>\n",
       "    </tr>\n",
       "    <tr>\n",
       "      <th>3</th>\n",
       "      <td>4</td>\n",
       "      <td>20</td>\n",
       "      <td>2</td>\n",
       "    </tr>\n",
       "    <tr>\n",
       "      <th>4</th>\n",
       "      <td>5</td>\n",
       "      <td>10</td>\n",
       "      <td>1</td>\n",
       "    </tr>\n",
       "  </tbody>\n",
       "</table>\n",
       "</div>"
      ],
      "text/plain": [
       "   x   y  z\n",
       "0  1  10  5\n",
       "1  2  20  4\n",
       "2  3  30  3\n",
       "3  4  20  2\n",
       "4  5  10  1"
      ]
     },
     "execution_count": 43,
     "metadata": {},
     "output_type": "execute_result"
    }
   ],
   "source": [
    "df3 = pd.DataFrame({\n",
    "    'x':[1,2,3,4,5],\n",
    "    'y':[10,20,30,20,10],\n",
    "    'z':[5,4,3,2,1]\n",
    "})\n",
    "\n",
    "df3"
   ]
  },
  {
   "cell_type": "code",
   "execution_count": 44,
   "metadata": {},
   "outputs": [
    {
     "data": {
      "application/vnd.plotly.v1+json": {
       "config": {
        "linkText": "Export to plot.ly",
        "plotlyServerURL": "https://plot.ly",
        "showLink": true
       },
       "data": [
        {
         "colorscale": [
          [
           0,
           "rgb(255, 153, 51)"
          ],
          [
           0.1111111111111111,
           "rgb(55, 128, 191)"
          ],
          [
           0.2222222222222222,
           "rgb(50, 171, 96)"
          ],
          [
           0.3333333333333333,
           "rgb(128, 0, 128)"
          ],
          [
           0.4444444444444444,
           "rgb(219, 64, 82)"
          ],
          [
           0.5555555555555556,
           "rgb(0, 128, 128)"
          ],
          [
           0.6666666666666666,
           "rgb(255, 255, 51)"
          ],
          [
           0.7777777777777778,
           "rgb(128, 128, 0)"
          ],
          [
           0.8888888888888888,
           "rgb(251, 128, 114)"
          ],
          [
           1,
           "rgb(128, 177, 211)"
          ]
         ],
         "type": "surface",
         "x": [
          0,
          1,
          2,
          3,
          4
         ],
         "y": [
          "x",
          "y",
          "z"
         ],
         "z": [
          [
           1,
           2,
           3,
           4,
           5
          ],
          [
           10,
           20,
           30,
           20,
           10
          ],
          [
           5,
           4,
           3,
           2,
           1
          ]
         ]
        }
       ],
       "layout": {
        "legend": {
         "bgcolor": "#F5F6F9",
         "font": {
          "color": "#4D5663"
         }
        },
        "paper_bgcolor": "#F5F6F9",
        "plot_bgcolor": "#F5F6F9",
        "template": {
         "data": {
          "bar": [
           {
            "error_x": {
             "color": "#2a3f5f"
            },
            "error_y": {
             "color": "#2a3f5f"
            },
            "marker": {
             "line": {
              "color": "#E5ECF6",
              "width": 0.5
             }
            },
            "type": "bar"
           }
          ],
          "barpolar": [
           {
            "marker": {
             "line": {
              "color": "#E5ECF6",
              "width": 0.5
             }
            },
            "type": "barpolar"
           }
          ],
          "carpet": [
           {
            "aaxis": {
             "endlinecolor": "#2a3f5f",
             "gridcolor": "white",
             "linecolor": "white",
             "minorgridcolor": "white",
             "startlinecolor": "#2a3f5f"
            },
            "baxis": {
             "endlinecolor": "#2a3f5f",
             "gridcolor": "white",
             "linecolor": "white",
             "minorgridcolor": "white",
             "startlinecolor": "#2a3f5f"
            },
            "type": "carpet"
           }
          ],
          "choropleth": [
           {
            "colorbar": {
             "outlinewidth": 0,
             "ticks": ""
            },
            "type": "choropleth"
           }
          ],
          "contour": [
           {
            "colorbar": {
             "outlinewidth": 0,
             "ticks": ""
            },
            "colorscale": [
             [
              0,
              "#0d0887"
             ],
             [
              0.1111111111111111,
              "#46039f"
             ],
             [
              0.2222222222222222,
              "#7201a8"
             ],
             [
              0.3333333333333333,
              "#9c179e"
             ],
             [
              0.4444444444444444,
              "#bd3786"
             ],
             [
              0.5555555555555556,
              "#d8576b"
             ],
             [
              0.6666666666666666,
              "#ed7953"
             ],
             [
              0.7777777777777778,
              "#fb9f3a"
             ],
             [
              0.8888888888888888,
              "#fdca26"
             ],
             [
              1,
              "#f0f921"
             ]
            ],
            "type": "contour"
           }
          ],
          "contourcarpet": [
           {
            "colorbar": {
             "outlinewidth": 0,
             "ticks": ""
            },
            "type": "contourcarpet"
           }
          ],
          "heatmap": [
           {
            "colorbar": {
             "outlinewidth": 0,
             "ticks": ""
            },
            "colorscale": [
             [
              0,
              "#0d0887"
             ],
             [
              0.1111111111111111,
              "#46039f"
             ],
             [
              0.2222222222222222,
              "#7201a8"
             ],
             [
              0.3333333333333333,
              "#9c179e"
             ],
             [
              0.4444444444444444,
              "#bd3786"
             ],
             [
              0.5555555555555556,
              "#d8576b"
             ],
             [
              0.6666666666666666,
              "#ed7953"
             ],
             [
              0.7777777777777778,
              "#fb9f3a"
             ],
             [
              0.8888888888888888,
              "#fdca26"
             ],
             [
              1,
              "#f0f921"
             ]
            ],
            "type": "heatmap"
           }
          ],
          "heatmapgl": [
           {
            "colorbar": {
             "outlinewidth": 0,
             "ticks": ""
            },
            "colorscale": [
             [
              0,
              "#0d0887"
             ],
             [
              0.1111111111111111,
              "#46039f"
             ],
             [
              0.2222222222222222,
              "#7201a8"
             ],
             [
              0.3333333333333333,
              "#9c179e"
             ],
             [
              0.4444444444444444,
              "#bd3786"
             ],
             [
              0.5555555555555556,
              "#d8576b"
             ],
             [
              0.6666666666666666,
              "#ed7953"
             ],
             [
              0.7777777777777778,
              "#fb9f3a"
             ],
             [
              0.8888888888888888,
              "#fdca26"
             ],
             [
              1,
              "#f0f921"
             ]
            ],
            "type": "heatmapgl"
           }
          ],
          "histogram": [
           {
            "marker": {
             "colorbar": {
              "outlinewidth": 0,
              "ticks": ""
             }
            },
            "type": "histogram"
           }
          ],
          "histogram2d": [
           {
            "colorbar": {
             "outlinewidth": 0,
             "ticks": ""
            },
            "colorscale": [
             [
              0,
              "#0d0887"
             ],
             [
              0.1111111111111111,
              "#46039f"
             ],
             [
              0.2222222222222222,
              "#7201a8"
             ],
             [
              0.3333333333333333,
              "#9c179e"
             ],
             [
              0.4444444444444444,
              "#bd3786"
             ],
             [
              0.5555555555555556,
              "#d8576b"
             ],
             [
              0.6666666666666666,
              "#ed7953"
             ],
             [
              0.7777777777777778,
              "#fb9f3a"
             ],
             [
              0.8888888888888888,
              "#fdca26"
             ],
             [
              1,
              "#f0f921"
             ]
            ],
            "type": "histogram2d"
           }
          ],
          "histogram2dcontour": [
           {
            "colorbar": {
             "outlinewidth": 0,
             "ticks": ""
            },
            "colorscale": [
             [
              0,
              "#0d0887"
             ],
             [
              0.1111111111111111,
              "#46039f"
             ],
             [
              0.2222222222222222,
              "#7201a8"
             ],
             [
              0.3333333333333333,
              "#9c179e"
             ],
             [
              0.4444444444444444,
              "#bd3786"
             ],
             [
              0.5555555555555556,
              "#d8576b"
             ],
             [
              0.6666666666666666,
              "#ed7953"
             ],
             [
              0.7777777777777778,
              "#fb9f3a"
             ],
             [
              0.8888888888888888,
              "#fdca26"
             ],
             [
              1,
              "#f0f921"
             ]
            ],
            "type": "histogram2dcontour"
           }
          ],
          "mesh3d": [
           {
            "colorbar": {
             "outlinewidth": 0,
             "ticks": ""
            },
            "type": "mesh3d"
           }
          ],
          "parcoords": [
           {
            "line": {
             "colorbar": {
              "outlinewidth": 0,
              "ticks": ""
             }
            },
            "type": "parcoords"
           }
          ],
          "pie": [
           {
            "automargin": true,
            "type": "pie"
           }
          ],
          "scatter": [
           {
            "marker": {
             "colorbar": {
              "outlinewidth": 0,
              "ticks": ""
             }
            },
            "type": "scatter"
           }
          ],
          "scatter3d": [
           {
            "line": {
             "colorbar": {
              "outlinewidth": 0,
              "ticks": ""
             }
            },
            "marker": {
             "colorbar": {
              "outlinewidth": 0,
              "ticks": ""
             }
            },
            "type": "scatter3d"
           }
          ],
          "scattercarpet": [
           {
            "marker": {
             "colorbar": {
              "outlinewidth": 0,
              "ticks": ""
             }
            },
            "type": "scattercarpet"
           }
          ],
          "scattergeo": [
           {
            "marker": {
             "colorbar": {
              "outlinewidth": 0,
              "ticks": ""
             }
            },
            "type": "scattergeo"
           }
          ],
          "scattergl": [
           {
            "marker": {
             "colorbar": {
              "outlinewidth": 0,
              "ticks": ""
             }
            },
            "type": "scattergl"
           }
          ],
          "scattermapbox": [
           {
            "marker": {
             "colorbar": {
              "outlinewidth": 0,
              "ticks": ""
             }
            },
            "type": "scattermapbox"
           }
          ],
          "scatterpolar": [
           {
            "marker": {
             "colorbar": {
              "outlinewidth": 0,
              "ticks": ""
             }
            },
            "type": "scatterpolar"
           }
          ],
          "scatterpolargl": [
           {
            "marker": {
             "colorbar": {
              "outlinewidth": 0,
              "ticks": ""
             }
            },
            "type": "scatterpolargl"
           }
          ],
          "scatterternary": [
           {
            "marker": {
             "colorbar": {
              "outlinewidth": 0,
              "ticks": ""
             }
            },
            "type": "scatterternary"
           }
          ],
          "surface": [
           {
            "colorbar": {
             "outlinewidth": 0,
             "ticks": ""
            },
            "colorscale": [
             [
              0,
              "#0d0887"
             ],
             [
              0.1111111111111111,
              "#46039f"
             ],
             [
              0.2222222222222222,
              "#7201a8"
             ],
             [
              0.3333333333333333,
              "#9c179e"
             ],
             [
              0.4444444444444444,
              "#bd3786"
             ],
             [
              0.5555555555555556,
              "#d8576b"
             ],
             [
              0.6666666666666666,
              "#ed7953"
             ],
             [
              0.7777777777777778,
              "#fb9f3a"
             ],
             [
              0.8888888888888888,
              "#fdca26"
             ],
             [
              1,
              "#f0f921"
             ]
            ],
            "type": "surface"
           }
          ],
          "table": [
           {
            "cells": {
             "fill": {
              "color": "#EBF0F8"
             },
             "line": {
              "color": "white"
             }
            },
            "header": {
             "fill": {
              "color": "#C8D4E3"
             },
             "line": {
              "color": "white"
             }
            },
            "type": "table"
           }
          ]
         },
         "layout": {
          "annotationdefaults": {
           "arrowcolor": "#2a3f5f",
           "arrowhead": 0,
           "arrowwidth": 1
          },
          "coloraxis": {
           "colorbar": {
            "outlinewidth": 0,
            "ticks": ""
           }
          },
          "colorscale": {
           "diverging": [
            [
             0,
             "#8e0152"
            ],
            [
             0.1,
             "#c51b7d"
            ],
            [
             0.2,
             "#de77ae"
            ],
            [
             0.3,
             "#f1b6da"
            ],
            [
             0.4,
             "#fde0ef"
            ],
            [
             0.5,
             "#f7f7f7"
            ],
            [
             0.6,
             "#e6f5d0"
            ],
            [
             0.7,
             "#b8e186"
            ],
            [
             0.8,
             "#7fbc41"
            ],
            [
             0.9,
             "#4d9221"
            ],
            [
             1,
             "#276419"
            ]
           ],
           "sequential": [
            [
             0,
             "#0d0887"
            ],
            [
             0.1111111111111111,
             "#46039f"
            ],
            [
             0.2222222222222222,
             "#7201a8"
            ],
            [
             0.3333333333333333,
             "#9c179e"
            ],
            [
             0.4444444444444444,
             "#bd3786"
            ],
            [
             0.5555555555555556,
             "#d8576b"
            ],
            [
             0.6666666666666666,
             "#ed7953"
            ],
            [
             0.7777777777777778,
             "#fb9f3a"
            ],
            [
             0.8888888888888888,
             "#fdca26"
            ],
            [
             1,
             "#f0f921"
            ]
           ],
           "sequentialminus": [
            [
             0,
             "#0d0887"
            ],
            [
             0.1111111111111111,
             "#46039f"
            ],
            [
             0.2222222222222222,
             "#7201a8"
            ],
            [
             0.3333333333333333,
             "#9c179e"
            ],
            [
             0.4444444444444444,
             "#bd3786"
            ],
            [
             0.5555555555555556,
             "#d8576b"
            ],
            [
             0.6666666666666666,
             "#ed7953"
            ],
            [
             0.7777777777777778,
             "#fb9f3a"
            ],
            [
             0.8888888888888888,
             "#fdca26"
            ],
            [
             1,
             "#f0f921"
            ]
           ]
          },
          "colorway": [
           "#636efa",
           "#EF553B",
           "#00cc96",
           "#ab63fa",
           "#FFA15A",
           "#19d3f3",
           "#FF6692",
           "#B6E880",
           "#FF97FF",
           "#FECB52"
          ],
          "font": {
           "color": "#2a3f5f"
          },
          "geo": {
           "bgcolor": "white",
           "lakecolor": "white",
           "landcolor": "#E5ECF6",
           "showlakes": true,
           "showland": true,
           "subunitcolor": "white"
          },
          "hoverlabel": {
           "align": "left"
          },
          "hovermode": "closest",
          "mapbox": {
           "style": "light"
          },
          "paper_bgcolor": "white",
          "plot_bgcolor": "#E5ECF6",
          "polar": {
           "angularaxis": {
            "gridcolor": "white",
            "linecolor": "white",
            "ticks": ""
           },
           "bgcolor": "#E5ECF6",
           "radialaxis": {
            "gridcolor": "white",
            "linecolor": "white",
            "ticks": ""
           }
          },
          "scene": {
           "xaxis": {
            "backgroundcolor": "#E5ECF6",
            "gridcolor": "white",
            "gridwidth": 2,
            "linecolor": "white",
            "showbackground": true,
            "ticks": "",
            "zerolinecolor": "white"
           },
           "yaxis": {
            "backgroundcolor": "#E5ECF6",
            "gridcolor": "white",
            "gridwidth": 2,
            "linecolor": "white",
            "showbackground": true,
            "ticks": "",
            "zerolinecolor": "white"
           },
           "zaxis": {
            "backgroundcolor": "#E5ECF6",
            "gridcolor": "white",
            "gridwidth": 2,
            "linecolor": "white",
            "showbackground": true,
            "ticks": "",
            "zerolinecolor": "white"
           }
          },
          "shapedefaults": {
           "line": {
            "color": "#2a3f5f"
           }
          },
          "ternary": {
           "aaxis": {
            "gridcolor": "white",
            "linecolor": "white",
            "ticks": ""
           },
           "baxis": {
            "gridcolor": "white",
            "linecolor": "white",
            "ticks": ""
           },
           "bgcolor": "#E5ECF6",
           "caxis": {
            "gridcolor": "white",
            "linecolor": "white",
            "ticks": ""
           }
          },
          "title": {
           "x": 0.05
          },
          "xaxis": {
           "automargin": true,
           "gridcolor": "white",
           "linecolor": "white",
           "ticks": "",
           "title": {
            "standoff": 15
           },
           "zerolinecolor": "white",
           "zerolinewidth": 2
          },
          "yaxis": {
           "automargin": true,
           "gridcolor": "white",
           "linecolor": "white",
           "ticks": "",
           "title": {
            "standoff": 15
           },
           "zerolinecolor": "white",
           "zerolinewidth": 2
          }
         }
        },
        "title": {
         "font": {
          "color": "#4D5663"
         }
        },
        "xaxis": {
         "gridcolor": "#E1E5ED",
         "showgrid": true,
         "tickfont": {
          "color": "#4D5663"
         },
         "title": {
          "font": {
           "color": "#4D5663"
          },
          "text": ""
         },
         "zerolinecolor": "#E1E5ED"
        },
        "yaxis": {
         "gridcolor": "#E1E5ED",
         "showgrid": true,
         "tickfont": {
          "color": "#4D5663"
         },
         "title": {
          "font": {
           "color": "#4D5663"
          },
          "text": ""
         },
         "zerolinecolor": "#E1E5ED"
        }
       }
      },
      "text/html": [
       "<div>\n",
       "        \n",
       "        \n",
       "            <div id=\"64568f9c-e4ab-4557-859e-232f8aab87a8\" class=\"plotly-graph-div\" style=\"height:525px; width:100%;\"></div>\n",
       "            <script type=\"text/javascript\">\n",
       "                require([\"plotly\"], function(Plotly) {\n",
       "                    window.PLOTLYENV=window.PLOTLYENV || {};\n",
       "                    window.PLOTLYENV.BASE_URL='https://plot.ly';\n",
       "                    \n",
       "                if (document.getElementById(\"64568f9c-e4ab-4557-859e-232f8aab87a8\")) {\n",
       "                    Plotly.newPlot(\n",
       "                        '64568f9c-e4ab-4557-859e-232f8aab87a8',\n",
       "                        [{\"colorscale\": [[0.0, \"rgb(255, 153, 51)\"], [0.1111111111111111, \"rgb(55, 128, 191)\"], [0.2222222222222222, \"rgb(50, 171, 96)\"], [0.3333333333333333, \"rgb(128, 0, 128)\"], [0.4444444444444444, \"rgb(219, 64, 82)\"], [0.5555555555555556, \"rgb(0, 128, 128)\"], [0.6666666666666666, \"rgb(255, 255, 51)\"], [0.7777777777777778, \"rgb(128, 128, 0)\"], [0.8888888888888888, \"rgb(251, 128, 114)\"], [1.0, \"rgb(128, 177, 211)\"]], \"type\": \"surface\", \"x\": [0, 1, 2, 3, 4], \"y\": [\"x\", \"y\", \"z\"], \"z\": [[1, 2, 3, 4, 5], [10, 20, 30, 20, 10], [5, 4, 3, 2, 1]]}],\n",
       "                        {\"legend\": {\"bgcolor\": \"#F5F6F9\", \"font\": {\"color\": \"#4D5663\"}}, \"paper_bgcolor\": \"#F5F6F9\", \"plot_bgcolor\": \"#F5F6F9\", \"template\": {\"data\": {\"bar\": [{\"error_x\": {\"color\": \"#2a3f5f\"}, \"error_y\": {\"color\": \"#2a3f5f\"}, \"marker\": {\"line\": {\"color\": \"#E5ECF6\", \"width\": 0.5}}, \"type\": \"bar\"}], \"barpolar\": [{\"marker\": {\"line\": {\"color\": \"#E5ECF6\", \"width\": 0.5}}, \"type\": \"barpolar\"}], \"carpet\": [{\"aaxis\": {\"endlinecolor\": \"#2a3f5f\", \"gridcolor\": \"white\", \"linecolor\": \"white\", \"minorgridcolor\": \"white\", \"startlinecolor\": \"#2a3f5f\"}, \"baxis\": {\"endlinecolor\": \"#2a3f5f\", \"gridcolor\": \"white\", \"linecolor\": \"white\", \"minorgridcolor\": \"white\", \"startlinecolor\": \"#2a3f5f\"}, \"type\": \"carpet\"}], \"choropleth\": [{\"colorbar\": {\"outlinewidth\": 0, \"ticks\": \"\"}, \"type\": \"choropleth\"}], \"contour\": [{\"colorbar\": {\"outlinewidth\": 0, \"ticks\": \"\"}, \"colorscale\": [[0.0, \"#0d0887\"], [0.1111111111111111, \"#46039f\"], [0.2222222222222222, \"#7201a8\"], [0.3333333333333333, \"#9c179e\"], [0.4444444444444444, \"#bd3786\"], [0.5555555555555556, \"#d8576b\"], [0.6666666666666666, \"#ed7953\"], [0.7777777777777778, \"#fb9f3a\"], [0.8888888888888888, \"#fdca26\"], [1.0, \"#f0f921\"]], \"type\": \"contour\"}], \"contourcarpet\": [{\"colorbar\": {\"outlinewidth\": 0, \"ticks\": \"\"}, \"type\": \"contourcarpet\"}], \"heatmap\": [{\"colorbar\": {\"outlinewidth\": 0, \"ticks\": \"\"}, \"colorscale\": [[0.0, \"#0d0887\"], [0.1111111111111111, \"#46039f\"], [0.2222222222222222, \"#7201a8\"], [0.3333333333333333, \"#9c179e\"], [0.4444444444444444, \"#bd3786\"], [0.5555555555555556, \"#d8576b\"], [0.6666666666666666, \"#ed7953\"], [0.7777777777777778, \"#fb9f3a\"], [0.8888888888888888, \"#fdca26\"], [1.0, \"#f0f921\"]], \"type\": \"heatmap\"}], \"heatmapgl\": [{\"colorbar\": {\"outlinewidth\": 0, \"ticks\": \"\"}, \"colorscale\": [[0.0, \"#0d0887\"], [0.1111111111111111, \"#46039f\"], [0.2222222222222222, \"#7201a8\"], [0.3333333333333333, \"#9c179e\"], [0.4444444444444444, \"#bd3786\"], [0.5555555555555556, \"#d8576b\"], [0.6666666666666666, \"#ed7953\"], [0.7777777777777778, \"#fb9f3a\"], [0.8888888888888888, \"#fdca26\"], [1.0, \"#f0f921\"]], \"type\": \"heatmapgl\"}], \"histogram\": [{\"marker\": {\"colorbar\": {\"outlinewidth\": 0, \"ticks\": \"\"}}, \"type\": \"histogram\"}], \"histogram2d\": [{\"colorbar\": {\"outlinewidth\": 0, \"ticks\": \"\"}, \"colorscale\": [[0.0, \"#0d0887\"], [0.1111111111111111, \"#46039f\"], [0.2222222222222222, \"#7201a8\"], [0.3333333333333333, \"#9c179e\"], [0.4444444444444444, \"#bd3786\"], [0.5555555555555556, \"#d8576b\"], [0.6666666666666666, \"#ed7953\"], [0.7777777777777778, \"#fb9f3a\"], [0.8888888888888888, \"#fdca26\"], [1.0, \"#f0f921\"]], \"type\": \"histogram2d\"}], \"histogram2dcontour\": [{\"colorbar\": {\"outlinewidth\": 0, \"ticks\": \"\"}, \"colorscale\": [[0.0, \"#0d0887\"], [0.1111111111111111, \"#46039f\"], [0.2222222222222222, \"#7201a8\"], [0.3333333333333333, \"#9c179e\"], [0.4444444444444444, \"#bd3786\"], [0.5555555555555556, \"#d8576b\"], [0.6666666666666666, \"#ed7953\"], [0.7777777777777778, \"#fb9f3a\"], [0.8888888888888888, \"#fdca26\"], [1.0, \"#f0f921\"]], \"type\": \"histogram2dcontour\"}], \"mesh3d\": [{\"colorbar\": {\"outlinewidth\": 0, \"ticks\": \"\"}, \"type\": \"mesh3d\"}], \"parcoords\": [{\"line\": {\"colorbar\": {\"outlinewidth\": 0, \"ticks\": \"\"}}, \"type\": \"parcoords\"}], \"pie\": [{\"automargin\": true, \"type\": \"pie\"}], \"scatter\": [{\"marker\": {\"colorbar\": {\"outlinewidth\": 0, \"ticks\": \"\"}}, \"type\": \"scatter\"}], \"scatter3d\": [{\"line\": {\"colorbar\": {\"outlinewidth\": 0, \"ticks\": \"\"}}, \"marker\": {\"colorbar\": {\"outlinewidth\": 0, \"ticks\": \"\"}}, \"type\": \"scatter3d\"}], \"scattercarpet\": [{\"marker\": {\"colorbar\": {\"outlinewidth\": 0, \"ticks\": \"\"}}, \"type\": \"scattercarpet\"}], \"scattergeo\": [{\"marker\": {\"colorbar\": {\"outlinewidth\": 0, \"ticks\": \"\"}}, \"type\": \"scattergeo\"}], \"scattergl\": [{\"marker\": {\"colorbar\": {\"outlinewidth\": 0, \"ticks\": \"\"}}, \"type\": \"scattergl\"}], \"scattermapbox\": [{\"marker\": {\"colorbar\": {\"outlinewidth\": 0, \"ticks\": \"\"}}, \"type\": \"scattermapbox\"}], \"scatterpolar\": [{\"marker\": {\"colorbar\": {\"outlinewidth\": 0, \"ticks\": \"\"}}, \"type\": \"scatterpolar\"}], \"scatterpolargl\": [{\"marker\": {\"colorbar\": {\"outlinewidth\": 0, \"ticks\": \"\"}}, \"type\": \"scatterpolargl\"}], \"scatterternary\": [{\"marker\": {\"colorbar\": {\"outlinewidth\": 0, \"ticks\": \"\"}}, \"type\": \"scatterternary\"}], \"surface\": [{\"colorbar\": {\"outlinewidth\": 0, \"ticks\": \"\"}, \"colorscale\": [[0.0, \"#0d0887\"], [0.1111111111111111, \"#46039f\"], [0.2222222222222222, \"#7201a8\"], [0.3333333333333333, \"#9c179e\"], [0.4444444444444444, \"#bd3786\"], [0.5555555555555556, \"#d8576b\"], [0.6666666666666666, \"#ed7953\"], [0.7777777777777778, \"#fb9f3a\"], [0.8888888888888888, \"#fdca26\"], [1.0, \"#f0f921\"]], \"type\": \"surface\"}], \"table\": [{\"cells\": {\"fill\": {\"color\": \"#EBF0F8\"}, \"line\": {\"color\": \"white\"}}, \"header\": {\"fill\": {\"color\": \"#C8D4E3\"}, \"line\": {\"color\": \"white\"}}, \"type\": \"table\"}]}, \"layout\": {\"annotationdefaults\": {\"arrowcolor\": \"#2a3f5f\", \"arrowhead\": 0, \"arrowwidth\": 1}, \"coloraxis\": {\"colorbar\": {\"outlinewidth\": 0, \"ticks\": \"\"}}, \"colorscale\": {\"diverging\": [[0, \"#8e0152\"], [0.1, \"#c51b7d\"], [0.2, \"#de77ae\"], [0.3, \"#f1b6da\"], [0.4, \"#fde0ef\"], [0.5, \"#f7f7f7\"], [0.6, \"#e6f5d0\"], [0.7, \"#b8e186\"], [0.8, \"#7fbc41\"], [0.9, \"#4d9221\"], [1, \"#276419\"]], \"sequential\": [[0.0, \"#0d0887\"], [0.1111111111111111, \"#46039f\"], [0.2222222222222222, \"#7201a8\"], [0.3333333333333333, \"#9c179e\"], [0.4444444444444444, \"#bd3786\"], [0.5555555555555556, \"#d8576b\"], [0.6666666666666666, \"#ed7953\"], [0.7777777777777778, \"#fb9f3a\"], [0.8888888888888888, \"#fdca26\"], [1.0, \"#f0f921\"]], \"sequentialminus\": [[0.0, \"#0d0887\"], [0.1111111111111111, \"#46039f\"], [0.2222222222222222, \"#7201a8\"], [0.3333333333333333, \"#9c179e\"], [0.4444444444444444, \"#bd3786\"], [0.5555555555555556, \"#d8576b\"], [0.6666666666666666, \"#ed7953\"], [0.7777777777777778, \"#fb9f3a\"], [0.8888888888888888, \"#fdca26\"], [1.0, \"#f0f921\"]]}, \"colorway\": [\"#636efa\", \"#EF553B\", \"#00cc96\", \"#ab63fa\", \"#FFA15A\", \"#19d3f3\", \"#FF6692\", \"#B6E880\", \"#FF97FF\", \"#FECB52\"], \"font\": {\"color\": \"#2a3f5f\"}, \"geo\": {\"bgcolor\": \"white\", \"lakecolor\": \"white\", \"landcolor\": \"#E5ECF6\", \"showlakes\": true, \"showland\": true, \"subunitcolor\": \"white\"}, \"hoverlabel\": {\"align\": \"left\"}, \"hovermode\": \"closest\", \"mapbox\": {\"style\": \"light\"}, \"paper_bgcolor\": \"white\", \"plot_bgcolor\": \"#E5ECF6\", \"polar\": {\"angularaxis\": {\"gridcolor\": \"white\", \"linecolor\": \"white\", \"ticks\": \"\"}, \"bgcolor\": \"#E5ECF6\", \"radialaxis\": {\"gridcolor\": \"white\", \"linecolor\": \"white\", \"ticks\": \"\"}}, \"scene\": {\"xaxis\": {\"backgroundcolor\": \"#E5ECF6\", \"gridcolor\": \"white\", \"gridwidth\": 2, \"linecolor\": \"white\", \"showbackground\": true, \"ticks\": \"\", \"zerolinecolor\": \"white\"}, \"yaxis\": {\"backgroundcolor\": \"#E5ECF6\", \"gridcolor\": \"white\", \"gridwidth\": 2, \"linecolor\": \"white\", \"showbackground\": true, \"ticks\": \"\", \"zerolinecolor\": \"white\"}, \"zaxis\": {\"backgroundcolor\": \"#E5ECF6\", \"gridcolor\": \"white\", \"gridwidth\": 2, \"linecolor\": \"white\", \"showbackground\": true, \"ticks\": \"\", \"zerolinecolor\": \"white\"}}, \"shapedefaults\": {\"line\": {\"color\": \"#2a3f5f\"}}, \"ternary\": {\"aaxis\": {\"gridcolor\": \"white\", \"linecolor\": \"white\", \"ticks\": \"\"}, \"baxis\": {\"gridcolor\": \"white\", \"linecolor\": \"white\", \"ticks\": \"\"}, \"bgcolor\": \"#E5ECF6\", \"caxis\": {\"gridcolor\": \"white\", \"linecolor\": \"white\", \"ticks\": \"\"}}, \"title\": {\"x\": 0.05}, \"xaxis\": {\"automargin\": true, \"gridcolor\": \"white\", \"linecolor\": \"white\", \"ticks\": \"\", \"title\": {\"standoff\": 15}, \"zerolinecolor\": \"white\", \"zerolinewidth\": 2}, \"yaxis\": {\"automargin\": true, \"gridcolor\": \"white\", \"linecolor\": \"white\", \"ticks\": \"\", \"title\": {\"standoff\": 15}, \"zerolinecolor\": \"white\", \"zerolinewidth\": 2}}}, \"title\": {\"font\": {\"color\": \"#4D5663\"}}, \"xaxis\": {\"gridcolor\": \"#E1E5ED\", \"showgrid\": true, \"tickfont\": {\"color\": \"#4D5663\"}, \"title\": {\"font\": {\"color\": \"#4D5663\"}, \"text\": \"\"}, \"zerolinecolor\": \"#E1E5ED\"}, \"yaxis\": {\"gridcolor\": \"#E1E5ED\", \"showgrid\": true, \"tickfont\": {\"color\": \"#4D5663\"}, \"title\": {\"font\": {\"color\": \"#4D5663\"}, \"text\": \"\"}, \"zerolinecolor\": \"#E1E5ED\"}},\n",
       "                        {\"showLink\": true, \"linkText\": \"Export to plot.ly\", \"plotlyServerURL\": \"https://plot.ly\", \"responsive\": true}\n",
       "                    ).then(function(){\n",
       "                            \n",
       "var gd = document.getElementById('64568f9c-e4ab-4557-859e-232f8aab87a8');\n",
       "var x = new MutationObserver(function (mutations, observer) {{\n",
       "        var display = window.getComputedStyle(gd).display;\n",
       "        if (!display || display === 'none') {{\n",
       "            console.log([gd, 'removed!']);\n",
       "            Plotly.purge(gd);\n",
       "            observer.disconnect();\n",
       "        }}\n",
       "}});\n",
       "\n",
       "// Listen for the removal of the full notebook cells\n",
       "var notebookContainer = gd.closest('#notebook-container');\n",
       "if (notebookContainer) {{\n",
       "    x.observe(notebookContainer, {childList: true});\n",
       "}}\n",
       "\n",
       "// Listen for the clearing of the current output cell\n",
       "var outputEl = gd.closest('.output');\n",
       "if (outputEl) {{\n",
       "    x.observe(outputEl, {childList: true});\n",
       "}}\n",
       "\n",
       "                        })\n",
       "                };\n",
       "                });\n",
       "            </script>\n",
       "        </div>"
      ]
     },
     "metadata": {},
     "output_type": "display_data"
    }
   ],
   "source": [
    "df3.iplot(kind='surface')\n",
    "# colorscale='rdylbu'"
   ]
  },
  {
   "cell_type": "markdown",
   "metadata": {},
   "source": [
    "# iplot + histogram"
   ]
  },
  {
   "cell_type": "code",
   "execution_count": 46,
   "metadata": {},
   "outputs": [
    {
     "data": {
      "application/vnd.plotly.v1+json": {
       "config": {
        "linkText": "Export to plot.ly",
        "plotlyServerURL": "https://plot.ly",
        "showLink": true
       },
       "data": [
        {
         "histfunc": "count",
         "histnorm": "",
         "marker": {
          "color": "rgba(255, 153, 51, 1.0)",
          "line": {
           "color": "#4D5663",
           "width": 1.3
          }
         },
         "name": "A",
         "nbinsx": 25,
         "opacity": 0.8,
         "orientation": "v",
         "type": "histogram",
         "x": [
          0.3410614466753071,
          -1.1035524050054597,
          0.01497802970479452,
          -0.4923405339752979,
          -0.711740649467883,
          0.7611113231300444,
          -0.32899989496145043,
          -1.0003056778373516,
          -1.144108410930388,
          -0.7187659800223282,
          -0.8827891809503372,
          0.16527534978219205,
          0.33791501376902755,
          0.2845952287777885,
          -2.031762480119184,
          0.009561136766891088,
          -0.37499414498681033,
          0.7436276548650762,
          -0.08613852640362644,
          -1.788868487410151,
          0.6091820625025955,
          -0.540546683835764,
          -1.3830705697321766,
          -0.22776248598870943,
          0.04791488496871383,
          0.14734661797990722,
          0.6837492096990183,
          0.4909535703078963,
          -0.5763766572692686,
          1.7556808706923992,
          -0.21643572049270607,
          -0.08138650173686049,
          -0.41988696887517796,
          0.5896403672067946,
          -0.15796893354889477,
          0.03098947180102704,
          -1.1741362797157253,
          -0.5288212423479839,
          -1.0461934563699007,
          -1.8047730897321894,
          -0.18922230488345462,
          0.4448399483986472,
          0.09802387104390282,
          0.3675012254291077,
          -2.199418690052648,
          0.9672627288932981,
          -1.6104735507037404,
          1.0793883903440407,
          -1.7442712770335072,
          -0.2006977228942966,
          1.1604057740322227,
          0.8380871794918501,
          0.3434621276866279,
          -1.4104992622520467,
          1.311238947350882,
          0.9412950281879889,
          -0.3350723872072907,
          0.6951180795417036,
          -0.9121582740527129,
          0.18765291170273096,
          -0.690685295257295,
          0.8852386085818393,
          0.4317636746726903,
          -0.7504024305600105,
          -0.39335965300494274,
          0.3694506068850978,
          -0.10252111873440109,
          0.49884624438508196,
          0.055394235359639964,
          0.011792637052425847,
          -0.8082790203993668,
          -1.3615811568324008,
          -0.4873899268497068,
          0.38309544271604257,
          0.4242660099135097,
          2.2187119574585603,
          -0.01959273839618212,
          -0.8646247657702009,
          0.08787197959542621,
          -0.1154797457890154,
          0.33140686940164854,
          -0.6196352065642001,
          0.3227781557323908,
          0.2447772792318997,
          -0.9529620548470774,
          -1.1779499157234683,
          0.362052923601659,
          0.36545821597693284,
          0.5563628463658707,
          0.09204794996115445,
          0.5305702320652781,
          1.2972359829146172,
          -0.463871893327936,
          -2.1652174380047438,
          1.3950847840966412,
          1.25889143735063,
          1.5414336680370502,
          -0.028970197857147585,
          -1.3978466191671446,
          -0.4684792022305753
         ]
        }
       ],
       "layout": {
        "barmode": "overlay",
        "legend": {
         "bgcolor": "#F5F6F9",
         "font": {
          "color": "#4D5663"
         }
        },
        "paper_bgcolor": "#F5F6F9",
        "plot_bgcolor": "#F5F6F9",
        "template": {
         "data": {
          "bar": [
           {
            "error_x": {
             "color": "#2a3f5f"
            },
            "error_y": {
             "color": "#2a3f5f"
            },
            "marker": {
             "line": {
              "color": "#E5ECF6",
              "width": 0.5
             }
            },
            "type": "bar"
           }
          ],
          "barpolar": [
           {
            "marker": {
             "line": {
              "color": "#E5ECF6",
              "width": 0.5
             }
            },
            "type": "barpolar"
           }
          ],
          "carpet": [
           {
            "aaxis": {
             "endlinecolor": "#2a3f5f",
             "gridcolor": "white",
             "linecolor": "white",
             "minorgridcolor": "white",
             "startlinecolor": "#2a3f5f"
            },
            "baxis": {
             "endlinecolor": "#2a3f5f",
             "gridcolor": "white",
             "linecolor": "white",
             "minorgridcolor": "white",
             "startlinecolor": "#2a3f5f"
            },
            "type": "carpet"
           }
          ],
          "choropleth": [
           {
            "colorbar": {
             "outlinewidth": 0,
             "ticks": ""
            },
            "type": "choropleth"
           }
          ],
          "contour": [
           {
            "colorbar": {
             "outlinewidth": 0,
             "ticks": ""
            },
            "colorscale": [
             [
              0,
              "#0d0887"
             ],
             [
              0.1111111111111111,
              "#46039f"
             ],
             [
              0.2222222222222222,
              "#7201a8"
             ],
             [
              0.3333333333333333,
              "#9c179e"
             ],
             [
              0.4444444444444444,
              "#bd3786"
             ],
             [
              0.5555555555555556,
              "#d8576b"
             ],
             [
              0.6666666666666666,
              "#ed7953"
             ],
             [
              0.7777777777777778,
              "#fb9f3a"
             ],
             [
              0.8888888888888888,
              "#fdca26"
             ],
             [
              1,
              "#f0f921"
             ]
            ],
            "type": "contour"
           }
          ],
          "contourcarpet": [
           {
            "colorbar": {
             "outlinewidth": 0,
             "ticks": ""
            },
            "type": "contourcarpet"
           }
          ],
          "heatmap": [
           {
            "colorbar": {
             "outlinewidth": 0,
             "ticks": ""
            },
            "colorscale": [
             [
              0,
              "#0d0887"
             ],
             [
              0.1111111111111111,
              "#46039f"
             ],
             [
              0.2222222222222222,
              "#7201a8"
             ],
             [
              0.3333333333333333,
              "#9c179e"
             ],
             [
              0.4444444444444444,
              "#bd3786"
             ],
             [
              0.5555555555555556,
              "#d8576b"
             ],
             [
              0.6666666666666666,
              "#ed7953"
             ],
             [
              0.7777777777777778,
              "#fb9f3a"
             ],
             [
              0.8888888888888888,
              "#fdca26"
             ],
             [
              1,
              "#f0f921"
             ]
            ],
            "type": "heatmap"
           }
          ],
          "heatmapgl": [
           {
            "colorbar": {
             "outlinewidth": 0,
             "ticks": ""
            },
            "colorscale": [
             [
              0,
              "#0d0887"
             ],
             [
              0.1111111111111111,
              "#46039f"
             ],
             [
              0.2222222222222222,
              "#7201a8"
             ],
             [
              0.3333333333333333,
              "#9c179e"
             ],
             [
              0.4444444444444444,
              "#bd3786"
             ],
             [
              0.5555555555555556,
              "#d8576b"
             ],
             [
              0.6666666666666666,
              "#ed7953"
             ],
             [
              0.7777777777777778,
              "#fb9f3a"
             ],
             [
              0.8888888888888888,
              "#fdca26"
             ],
             [
              1,
              "#f0f921"
             ]
            ],
            "type": "heatmapgl"
           }
          ],
          "histogram": [
           {
            "marker": {
             "colorbar": {
              "outlinewidth": 0,
              "ticks": ""
             }
            },
            "type": "histogram"
           }
          ],
          "histogram2d": [
           {
            "colorbar": {
             "outlinewidth": 0,
             "ticks": ""
            },
            "colorscale": [
             [
              0,
              "#0d0887"
             ],
             [
              0.1111111111111111,
              "#46039f"
             ],
             [
              0.2222222222222222,
              "#7201a8"
             ],
             [
              0.3333333333333333,
              "#9c179e"
             ],
             [
              0.4444444444444444,
              "#bd3786"
             ],
             [
              0.5555555555555556,
              "#d8576b"
             ],
             [
              0.6666666666666666,
              "#ed7953"
             ],
             [
              0.7777777777777778,
              "#fb9f3a"
             ],
             [
              0.8888888888888888,
              "#fdca26"
             ],
             [
              1,
              "#f0f921"
             ]
            ],
            "type": "histogram2d"
           }
          ],
          "histogram2dcontour": [
           {
            "colorbar": {
             "outlinewidth": 0,
             "ticks": ""
            },
            "colorscale": [
             [
              0,
              "#0d0887"
             ],
             [
              0.1111111111111111,
              "#46039f"
             ],
             [
              0.2222222222222222,
              "#7201a8"
             ],
             [
              0.3333333333333333,
              "#9c179e"
             ],
             [
              0.4444444444444444,
              "#bd3786"
             ],
             [
              0.5555555555555556,
              "#d8576b"
             ],
             [
              0.6666666666666666,
              "#ed7953"
             ],
             [
              0.7777777777777778,
              "#fb9f3a"
             ],
             [
              0.8888888888888888,
              "#fdca26"
             ],
             [
              1,
              "#f0f921"
             ]
            ],
            "type": "histogram2dcontour"
           }
          ],
          "mesh3d": [
           {
            "colorbar": {
             "outlinewidth": 0,
             "ticks": ""
            },
            "type": "mesh3d"
           }
          ],
          "parcoords": [
           {
            "line": {
             "colorbar": {
              "outlinewidth": 0,
              "ticks": ""
             }
            },
            "type": "parcoords"
           }
          ],
          "pie": [
           {
            "automargin": true,
            "type": "pie"
           }
          ],
          "scatter": [
           {
            "marker": {
             "colorbar": {
              "outlinewidth": 0,
              "ticks": ""
             }
            },
            "type": "scatter"
           }
          ],
          "scatter3d": [
           {
            "line": {
             "colorbar": {
              "outlinewidth": 0,
              "ticks": ""
             }
            },
            "marker": {
             "colorbar": {
              "outlinewidth": 0,
              "ticks": ""
             }
            },
            "type": "scatter3d"
           }
          ],
          "scattercarpet": [
           {
            "marker": {
             "colorbar": {
              "outlinewidth": 0,
              "ticks": ""
             }
            },
            "type": "scattercarpet"
           }
          ],
          "scattergeo": [
           {
            "marker": {
             "colorbar": {
              "outlinewidth": 0,
              "ticks": ""
             }
            },
            "type": "scattergeo"
           }
          ],
          "scattergl": [
           {
            "marker": {
             "colorbar": {
              "outlinewidth": 0,
              "ticks": ""
             }
            },
            "type": "scattergl"
           }
          ],
          "scattermapbox": [
           {
            "marker": {
             "colorbar": {
              "outlinewidth": 0,
              "ticks": ""
             }
            },
            "type": "scattermapbox"
           }
          ],
          "scatterpolar": [
           {
            "marker": {
             "colorbar": {
              "outlinewidth": 0,
              "ticks": ""
             }
            },
            "type": "scatterpolar"
           }
          ],
          "scatterpolargl": [
           {
            "marker": {
             "colorbar": {
              "outlinewidth": 0,
              "ticks": ""
             }
            },
            "type": "scatterpolargl"
           }
          ],
          "scatterternary": [
           {
            "marker": {
             "colorbar": {
              "outlinewidth": 0,
              "ticks": ""
             }
            },
            "type": "scatterternary"
           }
          ],
          "surface": [
           {
            "colorbar": {
             "outlinewidth": 0,
             "ticks": ""
            },
            "colorscale": [
             [
              0,
              "#0d0887"
             ],
             [
              0.1111111111111111,
              "#46039f"
             ],
             [
              0.2222222222222222,
              "#7201a8"
             ],
             [
              0.3333333333333333,
              "#9c179e"
             ],
             [
              0.4444444444444444,
              "#bd3786"
             ],
             [
              0.5555555555555556,
              "#d8576b"
             ],
             [
              0.6666666666666666,
              "#ed7953"
             ],
             [
              0.7777777777777778,
              "#fb9f3a"
             ],
             [
              0.8888888888888888,
              "#fdca26"
             ],
             [
              1,
              "#f0f921"
             ]
            ],
            "type": "surface"
           }
          ],
          "table": [
           {
            "cells": {
             "fill": {
              "color": "#EBF0F8"
             },
             "line": {
              "color": "white"
             }
            },
            "header": {
             "fill": {
              "color": "#C8D4E3"
             },
             "line": {
              "color": "white"
             }
            },
            "type": "table"
           }
          ]
         },
         "layout": {
          "annotationdefaults": {
           "arrowcolor": "#2a3f5f",
           "arrowhead": 0,
           "arrowwidth": 1
          },
          "coloraxis": {
           "colorbar": {
            "outlinewidth": 0,
            "ticks": ""
           }
          },
          "colorscale": {
           "diverging": [
            [
             0,
             "#8e0152"
            ],
            [
             0.1,
             "#c51b7d"
            ],
            [
             0.2,
             "#de77ae"
            ],
            [
             0.3,
             "#f1b6da"
            ],
            [
             0.4,
             "#fde0ef"
            ],
            [
             0.5,
             "#f7f7f7"
            ],
            [
             0.6,
             "#e6f5d0"
            ],
            [
             0.7,
             "#b8e186"
            ],
            [
             0.8,
             "#7fbc41"
            ],
            [
             0.9,
             "#4d9221"
            ],
            [
             1,
             "#276419"
            ]
           ],
           "sequential": [
            [
             0,
             "#0d0887"
            ],
            [
             0.1111111111111111,
             "#46039f"
            ],
            [
             0.2222222222222222,
             "#7201a8"
            ],
            [
             0.3333333333333333,
             "#9c179e"
            ],
            [
             0.4444444444444444,
             "#bd3786"
            ],
            [
             0.5555555555555556,
             "#d8576b"
            ],
            [
             0.6666666666666666,
             "#ed7953"
            ],
            [
             0.7777777777777778,
             "#fb9f3a"
            ],
            [
             0.8888888888888888,
             "#fdca26"
            ],
            [
             1,
             "#f0f921"
            ]
           ],
           "sequentialminus": [
            [
             0,
             "#0d0887"
            ],
            [
             0.1111111111111111,
             "#46039f"
            ],
            [
             0.2222222222222222,
             "#7201a8"
            ],
            [
             0.3333333333333333,
             "#9c179e"
            ],
            [
             0.4444444444444444,
             "#bd3786"
            ],
            [
             0.5555555555555556,
             "#d8576b"
            ],
            [
             0.6666666666666666,
             "#ed7953"
            ],
            [
             0.7777777777777778,
             "#fb9f3a"
            ],
            [
             0.8888888888888888,
             "#fdca26"
            ],
            [
             1,
             "#f0f921"
            ]
           ]
          },
          "colorway": [
           "#636efa",
           "#EF553B",
           "#00cc96",
           "#ab63fa",
           "#FFA15A",
           "#19d3f3",
           "#FF6692",
           "#B6E880",
           "#FF97FF",
           "#FECB52"
          ],
          "font": {
           "color": "#2a3f5f"
          },
          "geo": {
           "bgcolor": "white",
           "lakecolor": "white",
           "landcolor": "#E5ECF6",
           "showlakes": true,
           "showland": true,
           "subunitcolor": "white"
          },
          "hoverlabel": {
           "align": "left"
          },
          "hovermode": "closest",
          "mapbox": {
           "style": "light"
          },
          "paper_bgcolor": "white",
          "plot_bgcolor": "#E5ECF6",
          "polar": {
           "angularaxis": {
            "gridcolor": "white",
            "linecolor": "white",
            "ticks": ""
           },
           "bgcolor": "#E5ECF6",
           "radialaxis": {
            "gridcolor": "white",
            "linecolor": "white",
            "ticks": ""
           }
          },
          "scene": {
           "xaxis": {
            "backgroundcolor": "#E5ECF6",
            "gridcolor": "white",
            "gridwidth": 2,
            "linecolor": "white",
            "showbackground": true,
            "ticks": "",
            "zerolinecolor": "white"
           },
           "yaxis": {
            "backgroundcolor": "#E5ECF6",
            "gridcolor": "white",
            "gridwidth": 2,
            "linecolor": "white",
            "showbackground": true,
            "ticks": "",
            "zerolinecolor": "white"
           },
           "zaxis": {
            "backgroundcolor": "#E5ECF6",
            "gridcolor": "white",
            "gridwidth": 2,
            "linecolor": "white",
            "showbackground": true,
            "ticks": "",
            "zerolinecolor": "white"
           }
          },
          "shapedefaults": {
           "line": {
            "color": "#2a3f5f"
           }
          },
          "ternary": {
           "aaxis": {
            "gridcolor": "white",
            "linecolor": "white",
            "ticks": ""
           },
           "baxis": {
            "gridcolor": "white",
            "linecolor": "white",
            "ticks": ""
           },
           "bgcolor": "#E5ECF6",
           "caxis": {
            "gridcolor": "white",
            "linecolor": "white",
            "ticks": ""
           }
          },
          "title": {
           "x": 0.05
          },
          "xaxis": {
           "automargin": true,
           "gridcolor": "white",
           "linecolor": "white",
           "ticks": "",
           "title": {
            "standoff": 15
           },
           "zerolinecolor": "white",
           "zerolinewidth": 2
          },
          "yaxis": {
           "automargin": true,
           "gridcolor": "white",
           "linecolor": "white",
           "ticks": "",
           "title": {
            "standoff": 15
           },
           "zerolinecolor": "white",
           "zerolinewidth": 2
          }
         }
        },
        "title": {
         "font": {
          "color": "#4D5663"
         }
        },
        "xaxis": {
         "gridcolor": "#E1E5ED",
         "showgrid": true,
         "tickfont": {
          "color": "#4D5663"
         },
         "title": {
          "font": {
           "color": "#4D5663"
          },
          "text": ""
         },
         "zerolinecolor": "#E1E5ED"
        },
        "yaxis": {
         "gridcolor": "#E1E5ED",
         "showgrid": true,
         "tickfont": {
          "color": "#4D5663"
         },
         "title": {
          "font": {
           "color": "#4D5663"
          },
          "text": ""
         },
         "zerolinecolor": "#E1E5ED"
        }
       }
      },
      "text/html": [
       "<div>\n",
       "        \n",
       "        \n",
       "            <div id=\"bd06198c-49e8-471e-a9ad-751ce13ec7c8\" class=\"plotly-graph-div\" style=\"height:525px; width:100%;\"></div>\n",
       "            <script type=\"text/javascript\">\n",
       "                require([\"plotly\"], function(Plotly) {\n",
       "                    window.PLOTLYENV=window.PLOTLYENV || {};\n",
       "                    window.PLOTLYENV.BASE_URL='https://plot.ly';\n",
       "                    \n",
       "                if (document.getElementById(\"bd06198c-49e8-471e-a9ad-751ce13ec7c8\")) {\n",
       "                    Plotly.newPlot(\n",
       "                        'bd06198c-49e8-471e-a9ad-751ce13ec7c8',\n",
       "                        [{\"histfunc\": \"count\", \"histnorm\": \"\", \"marker\": {\"color\": \"rgba(255, 153, 51, 1.0)\", \"line\": {\"color\": \"#4D5663\", \"width\": 1.3}}, \"name\": \"A\", \"nbinsx\": 25, \"opacity\": 0.8, \"orientation\": \"v\", \"type\": \"histogram\", \"x\": [0.3410614466753071, -1.1035524050054597, 0.01497802970479452, -0.4923405339752979, -0.711740649467883, 0.7611113231300444, -0.32899989496145043, -1.0003056778373516, -1.144108410930388, -0.7187659800223282, -0.8827891809503372, 0.16527534978219205, 0.33791501376902755, 0.2845952287777885, -2.031762480119184, 0.009561136766891088, -0.37499414498681033, 0.7436276548650762, -0.08613852640362644, -1.788868487410151, 0.6091820625025955, -0.540546683835764, -1.3830705697321766, -0.22776248598870943, 0.04791488496871383, 0.14734661797990722, 0.6837492096990183, 0.4909535703078963, -0.5763766572692686, 1.7556808706923992, -0.21643572049270607, -0.08138650173686049, -0.41988696887517796, 0.5896403672067946, -0.15796893354889477, 0.03098947180102704, -1.1741362797157253, -0.5288212423479839, -1.0461934563699007, -1.8047730897321894, -0.18922230488345462, 0.4448399483986472, 0.09802387104390282, 0.3675012254291077, -2.199418690052648, 0.9672627288932981, -1.6104735507037404, 1.0793883903440407, -1.7442712770335072, -0.2006977228942966, 1.1604057740322227, 0.8380871794918501, 0.3434621276866279, -1.4104992622520467, 1.311238947350882, 0.9412950281879889, -0.3350723872072907, 0.6951180795417036, -0.9121582740527129, 0.18765291170273096, -0.690685295257295, 0.8852386085818393, 0.4317636746726903, -0.7504024305600105, -0.39335965300494274, 0.3694506068850978, -0.10252111873440109, 0.49884624438508196, 0.055394235359639964, 0.011792637052425847, -0.8082790203993668, -1.3615811568324008, -0.4873899268497068, 0.38309544271604257, 0.4242660099135097, 2.2187119574585603, -0.01959273839618212, -0.8646247657702009, 0.08787197959542621, -0.1154797457890154, 0.33140686940164854, -0.6196352065642001, 0.3227781557323908, 0.2447772792318997, -0.9529620548470774, -1.1779499157234683, 0.362052923601659, 0.36545821597693284, 0.5563628463658707, 0.09204794996115445, 0.5305702320652781, 1.2972359829146172, -0.463871893327936, -2.1652174380047438, 1.3950847840966412, 1.25889143735063, 1.5414336680370502, -0.028970197857147585, -1.3978466191671446, -0.4684792022305753]}],\n",
       "                        {\"barmode\": \"overlay\", \"legend\": {\"bgcolor\": \"#F5F6F9\", \"font\": {\"color\": \"#4D5663\"}}, \"paper_bgcolor\": \"#F5F6F9\", \"plot_bgcolor\": \"#F5F6F9\", \"template\": {\"data\": {\"bar\": [{\"error_x\": {\"color\": \"#2a3f5f\"}, \"error_y\": {\"color\": \"#2a3f5f\"}, \"marker\": {\"line\": {\"color\": \"#E5ECF6\", \"width\": 0.5}}, \"type\": \"bar\"}], \"barpolar\": [{\"marker\": {\"line\": {\"color\": \"#E5ECF6\", \"width\": 0.5}}, \"type\": \"barpolar\"}], \"carpet\": [{\"aaxis\": {\"endlinecolor\": \"#2a3f5f\", \"gridcolor\": \"white\", \"linecolor\": \"white\", \"minorgridcolor\": \"white\", \"startlinecolor\": \"#2a3f5f\"}, \"baxis\": {\"endlinecolor\": \"#2a3f5f\", \"gridcolor\": \"white\", \"linecolor\": \"white\", \"minorgridcolor\": \"white\", \"startlinecolor\": \"#2a3f5f\"}, \"type\": \"carpet\"}], \"choropleth\": [{\"colorbar\": {\"outlinewidth\": 0, \"ticks\": \"\"}, \"type\": \"choropleth\"}], \"contour\": [{\"colorbar\": {\"outlinewidth\": 0, \"ticks\": \"\"}, \"colorscale\": [[0.0, \"#0d0887\"], [0.1111111111111111, \"#46039f\"], [0.2222222222222222, \"#7201a8\"], [0.3333333333333333, \"#9c179e\"], [0.4444444444444444, \"#bd3786\"], [0.5555555555555556, \"#d8576b\"], [0.6666666666666666, \"#ed7953\"], [0.7777777777777778, \"#fb9f3a\"], [0.8888888888888888, \"#fdca26\"], [1.0, \"#f0f921\"]], \"type\": \"contour\"}], \"contourcarpet\": [{\"colorbar\": {\"outlinewidth\": 0, \"ticks\": \"\"}, \"type\": \"contourcarpet\"}], \"heatmap\": [{\"colorbar\": {\"outlinewidth\": 0, \"ticks\": \"\"}, \"colorscale\": [[0.0, \"#0d0887\"], [0.1111111111111111, \"#46039f\"], [0.2222222222222222, \"#7201a8\"], [0.3333333333333333, \"#9c179e\"], [0.4444444444444444, \"#bd3786\"], [0.5555555555555556, \"#d8576b\"], [0.6666666666666666, \"#ed7953\"], [0.7777777777777778, \"#fb9f3a\"], [0.8888888888888888, \"#fdca26\"], [1.0, \"#f0f921\"]], \"type\": \"heatmap\"}], \"heatmapgl\": [{\"colorbar\": {\"outlinewidth\": 0, \"ticks\": \"\"}, \"colorscale\": [[0.0, \"#0d0887\"], [0.1111111111111111, \"#46039f\"], [0.2222222222222222, \"#7201a8\"], [0.3333333333333333, \"#9c179e\"], [0.4444444444444444, \"#bd3786\"], [0.5555555555555556, \"#d8576b\"], [0.6666666666666666, \"#ed7953\"], [0.7777777777777778, \"#fb9f3a\"], [0.8888888888888888, \"#fdca26\"], [1.0, \"#f0f921\"]], \"type\": \"heatmapgl\"}], \"histogram\": [{\"marker\": {\"colorbar\": {\"outlinewidth\": 0, \"ticks\": \"\"}}, \"type\": \"histogram\"}], \"histogram2d\": [{\"colorbar\": {\"outlinewidth\": 0, \"ticks\": \"\"}, \"colorscale\": [[0.0, \"#0d0887\"], [0.1111111111111111, \"#46039f\"], [0.2222222222222222, \"#7201a8\"], [0.3333333333333333, \"#9c179e\"], [0.4444444444444444, \"#bd3786\"], [0.5555555555555556, \"#d8576b\"], [0.6666666666666666, \"#ed7953\"], [0.7777777777777778, \"#fb9f3a\"], [0.8888888888888888, \"#fdca26\"], [1.0, \"#f0f921\"]], \"type\": \"histogram2d\"}], \"histogram2dcontour\": [{\"colorbar\": {\"outlinewidth\": 0, \"ticks\": \"\"}, \"colorscale\": [[0.0, \"#0d0887\"], [0.1111111111111111, \"#46039f\"], [0.2222222222222222, \"#7201a8\"], [0.3333333333333333, \"#9c179e\"], [0.4444444444444444, \"#bd3786\"], [0.5555555555555556, \"#d8576b\"], [0.6666666666666666, \"#ed7953\"], [0.7777777777777778, \"#fb9f3a\"], [0.8888888888888888, \"#fdca26\"], [1.0, \"#f0f921\"]], \"type\": \"histogram2dcontour\"}], \"mesh3d\": [{\"colorbar\": {\"outlinewidth\": 0, \"ticks\": \"\"}, \"type\": \"mesh3d\"}], \"parcoords\": [{\"line\": {\"colorbar\": {\"outlinewidth\": 0, \"ticks\": \"\"}}, \"type\": \"parcoords\"}], \"pie\": [{\"automargin\": true, \"type\": \"pie\"}], \"scatter\": [{\"marker\": {\"colorbar\": {\"outlinewidth\": 0, \"ticks\": \"\"}}, \"type\": \"scatter\"}], \"scatter3d\": [{\"line\": {\"colorbar\": {\"outlinewidth\": 0, \"ticks\": \"\"}}, \"marker\": {\"colorbar\": {\"outlinewidth\": 0, \"ticks\": \"\"}}, \"type\": \"scatter3d\"}], \"scattercarpet\": [{\"marker\": {\"colorbar\": {\"outlinewidth\": 0, \"ticks\": \"\"}}, \"type\": \"scattercarpet\"}], \"scattergeo\": [{\"marker\": {\"colorbar\": {\"outlinewidth\": 0, \"ticks\": \"\"}}, \"type\": \"scattergeo\"}], \"scattergl\": [{\"marker\": {\"colorbar\": {\"outlinewidth\": 0, \"ticks\": \"\"}}, \"type\": \"scattergl\"}], \"scattermapbox\": [{\"marker\": {\"colorbar\": {\"outlinewidth\": 0, \"ticks\": \"\"}}, \"type\": \"scattermapbox\"}], \"scatterpolar\": [{\"marker\": {\"colorbar\": {\"outlinewidth\": 0, \"ticks\": \"\"}}, \"type\": \"scatterpolar\"}], \"scatterpolargl\": [{\"marker\": {\"colorbar\": {\"outlinewidth\": 0, \"ticks\": \"\"}}, \"type\": \"scatterpolargl\"}], \"scatterternary\": [{\"marker\": {\"colorbar\": {\"outlinewidth\": 0, \"ticks\": \"\"}}, \"type\": \"scatterternary\"}], \"surface\": [{\"colorbar\": {\"outlinewidth\": 0, \"ticks\": \"\"}, \"colorscale\": [[0.0, \"#0d0887\"], [0.1111111111111111, \"#46039f\"], [0.2222222222222222, \"#7201a8\"], [0.3333333333333333, \"#9c179e\"], [0.4444444444444444, \"#bd3786\"], [0.5555555555555556, \"#d8576b\"], [0.6666666666666666, \"#ed7953\"], [0.7777777777777778, \"#fb9f3a\"], [0.8888888888888888, \"#fdca26\"], [1.0, \"#f0f921\"]], \"type\": \"surface\"}], \"table\": [{\"cells\": {\"fill\": {\"color\": \"#EBF0F8\"}, \"line\": {\"color\": \"white\"}}, \"header\": {\"fill\": {\"color\": \"#C8D4E3\"}, \"line\": {\"color\": \"white\"}}, \"type\": \"table\"}]}, \"layout\": {\"annotationdefaults\": {\"arrowcolor\": \"#2a3f5f\", \"arrowhead\": 0, \"arrowwidth\": 1}, \"coloraxis\": {\"colorbar\": {\"outlinewidth\": 0, \"ticks\": \"\"}}, \"colorscale\": {\"diverging\": [[0, \"#8e0152\"], [0.1, \"#c51b7d\"], [0.2, \"#de77ae\"], [0.3, \"#f1b6da\"], [0.4, \"#fde0ef\"], [0.5, \"#f7f7f7\"], [0.6, \"#e6f5d0\"], [0.7, \"#b8e186\"], [0.8, \"#7fbc41\"], [0.9, \"#4d9221\"], [1, \"#276419\"]], \"sequential\": [[0.0, \"#0d0887\"], [0.1111111111111111, \"#46039f\"], [0.2222222222222222, \"#7201a8\"], [0.3333333333333333, \"#9c179e\"], [0.4444444444444444, \"#bd3786\"], [0.5555555555555556, \"#d8576b\"], [0.6666666666666666, \"#ed7953\"], [0.7777777777777778, \"#fb9f3a\"], [0.8888888888888888, \"#fdca26\"], [1.0, \"#f0f921\"]], \"sequentialminus\": [[0.0, \"#0d0887\"], [0.1111111111111111, \"#46039f\"], [0.2222222222222222, \"#7201a8\"], [0.3333333333333333, \"#9c179e\"], [0.4444444444444444, \"#bd3786\"], [0.5555555555555556, \"#d8576b\"], [0.6666666666666666, \"#ed7953\"], [0.7777777777777778, \"#fb9f3a\"], [0.8888888888888888, \"#fdca26\"], [1.0, \"#f0f921\"]]}, \"colorway\": [\"#636efa\", \"#EF553B\", \"#00cc96\", \"#ab63fa\", \"#FFA15A\", \"#19d3f3\", \"#FF6692\", \"#B6E880\", \"#FF97FF\", \"#FECB52\"], \"font\": {\"color\": \"#2a3f5f\"}, \"geo\": {\"bgcolor\": \"white\", \"lakecolor\": \"white\", \"landcolor\": \"#E5ECF6\", \"showlakes\": true, \"showland\": true, \"subunitcolor\": \"white\"}, \"hoverlabel\": {\"align\": \"left\"}, \"hovermode\": \"closest\", \"mapbox\": {\"style\": \"light\"}, \"paper_bgcolor\": \"white\", \"plot_bgcolor\": \"#E5ECF6\", \"polar\": {\"angularaxis\": {\"gridcolor\": \"white\", \"linecolor\": \"white\", \"ticks\": \"\"}, \"bgcolor\": \"#E5ECF6\", \"radialaxis\": {\"gridcolor\": \"white\", \"linecolor\": \"white\", \"ticks\": \"\"}}, \"scene\": {\"xaxis\": {\"backgroundcolor\": \"#E5ECF6\", \"gridcolor\": \"white\", \"gridwidth\": 2, \"linecolor\": \"white\", \"showbackground\": true, \"ticks\": \"\", \"zerolinecolor\": \"white\"}, \"yaxis\": {\"backgroundcolor\": \"#E5ECF6\", \"gridcolor\": \"white\", \"gridwidth\": 2, \"linecolor\": \"white\", \"showbackground\": true, \"ticks\": \"\", \"zerolinecolor\": \"white\"}, \"zaxis\": {\"backgroundcolor\": \"#E5ECF6\", \"gridcolor\": \"white\", \"gridwidth\": 2, \"linecolor\": \"white\", \"showbackground\": true, \"ticks\": \"\", \"zerolinecolor\": \"white\"}}, \"shapedefaults\": {\"line\": {\"color\": \"#2a3f5f\"}}, \"ternary\": {\"aaxis\": {\"gridcolor\": \"white\", \"linecolor\": \"white\", \"ticks\": \"\"}, \"baxis\": {\"gridcolor\": \"white\", \"linecolor\": \"white\", \"ticks\": \"\"}, \"bgcolor\": \"#E5ECF6\", \"caxis\": {\"gridcolor\": \"white\", \"linecolor\": \"white\", \"ticks\": \"\"}}, \"title\": {\"x\": 0.05}, \"xaxis\": {\"automargin\": true, \"gridcolor\": \"white\", \"linecolor\": \"white\", \"ticks\": \"\", \"title\": {\"standoff\": 15}, \"zerolinecolor\": \"white\", \"zerolinewidth\": 2}, \"yaxis\": {\"automargin\": true, \"gridcolor\": \"white\", \"linecolor\": \"white\", \"ticks\": \"\", \"title\": {\"standoff\": 15}, \"zerolinecolor\": \"white\", \"zerolinewidth\": 2}}}, \"title\": {\"font\": {\"color\": \"#4D5663\"}}, \"xaxis\": {\"gridcolor\": \"#E1E5ED\", \"showgrid\": true, \"tickfont\": {\"color\": \"#4D5663\"}, \"title\": {\"font\": {\"color\": \"#4D5663\"}, \"text\": \"\"}, \"zerolinecolor\": \"#E1E5ED\"}, \"yaxis\": {\"gridcolor\": \"#E1E5ED\", \"showgrid\": true, \"tickfont\": {\"color\": \"#4D5663\"}, \"title\": {\"font\": {\"color\": \"#4D5663\"}, \"text\": \"\"}, \"zerolinecolor\": \"#E1E5ED\"}},\n",
       "                        {\"showLink\": true, \"linkText\": \"Export to plot.ly\", \"plotlyServerURL\": \"https://plot.ly\", \"responsive\": true}\n",
       "                    ).then(function(){\n",
       "                            \n",
       "var gd = document.getElementById('bd06198c-49e8-471e-a9ad-751ce13ec7c8');\n",
       "var x = new MutationObserver(function (mutations, observer) {{\n",
       "        var display = window.getComputedStyle(gd).display;\n",
       "        if (!display || display === 'none') {{\n",
       "            console.log([gd, 'removed!']);\n",
       "            Plotly.purge(gd);\n",
       "            observer.disconnect();\n",
       "        }}\n",
       "}});\n",
       "\n",
       "// Listen for the removal of the full notebook cells\n",
       "var notebookContainer = gd.closest('#notebook-container');\n",
       "if (notebookContainer) {{\n",
       "    x.observe(notebookContainer, {childList: true});\n",
       "}}\n",
       "\n",
       "// Listen for the clearing of the current output cell\n",
       "var outputEl = gd.closest('.output');\n",
       "if (outputEl) {{\n",
       "    x.observe(outputEl, {childList: true});\n",
       "}}\n",
       "\n",
       "                        })\n",
       "                };\n",
       "                });\n",
       "            </script>\n",
       "        </div>"
      ]
     },
     "metadata": {},
     "output_type": "display_data"
    }
   ],
   "source": [
    "df['A'].iplot(kind='hist', bins=25)"
   ]
  },
  {
   "cell_type": "code",
   "execution_count": 49,
   "metadata": {},
   "outputs": [
    {
     "data": {
      "application/vnd.plotly.v1+json": {
       "config": {
        "linkText": "Export to plot.ly",
        "plotlyServerURL": "https://plot.ly",
        "showLink": true
       },
       "data": [
        {
         "histfunc": "count",
         "histnorm": "",
         "marker": {
          "color": "rgba(255, 153, 51, 1.0)",
          "line": {
           "color": "#4D5663",
           "width": 1.3
          }
         },
         "name": "A",
         "opacity": 0.8,
         "orientation": "v",
         "type": "histogram",
         "x": [
          0.3410614466753071,
          -1.1035524050054597,
          0.01497802970479452,
          -0.4923405339752979,
          -0.711740649467883,
          0.7611113231300444,
          -0.32899989496145043,
          -1.0003056778373516,
          -1.144108410930388,
          -0.7187659800223282,
          -0.8827891809503372,
          0.16527534978219205,
          0.33791501376902755,
          0.2845952287777885,
          -2.031762480119184,
          0.009561136766891088,
          -0.37499414498681033,
          0.7436276548650762,
          -0.08613852640362644,
          -1.788868487410151,
          0.6091820625025955,
          -0.540546683835764,
          -1.3830705697321766,
          -0.22776248598870943,
          0.04791488496871383,
          0.14734661797990722,
          0.6837492096990183,
          0.4909535703078963,
          -0.5763766572692686,
          1.7556808706923992,
          -0.21643572049270607,
          -0.08138650173686049,
          -0.41988696887517796,
          0.5896403672067946,
          -0.15796893354889477,
          0.03098947180102704,
          -1.1741362797157253,
          -0.5288212423479839,
          -1.0461934563699007,
          -1.8047730897321894,
          -0.18922230488345462,
          0.4448399483986472,
          0.09802387104390282,
          0.3675012254291077,
          -2.199418690052648,
          0.9672627288932981,
          -1.6104735507037404,
          1.0793883903440407,
          -1.7442712770335072,
          -0.2006977228942966,
          1.1604057740322227,
          0.8380871794918501,
          0.3434621276866279,
          -1.4104992622520467,
          1.311238947350882,
          0.9412950281879889,
          -0.3350723872072907,
          0.6951180795417036,
          -0.9121582740527129,
          0.18765291170273096,
          -0.690685295257295,
          0.8852386085818393,
          0.4317636746726903,
          -0.7504024305600105,
          -0.39335965300494274,
          0.3694506068850978,
          -0.10252111873440109,
          0.49884624438508196,
          0.055394235359639964,
          0.011792637052425847,
          -0.8082790203993668,
          -1.3615811568324008,
          -0.4873899268497068,
          0.38309544271604257,
          0.4242660099135097,
          2.2187119574585603,
          -0.01959273839618212,
          -0.8646247657702009,
          0.08787197959542621,
          -0.1154797457890154,
          0.33140686940164854,
          -0.6196352065642001,
          0.3227781557323908,
          0.2447772792318997,
          -0.9529620548470774,
          -1.1779499157234683,
          0.362052923601659,
          0.36545821597693284,
          0.5563628463658707,
          0.09204794996115445,
          0.5305702320652781,
          1.2972359829146172,
          -0.463871893327936,
          -2.1652174380047438,
          1.3950847840966412,
          1.25889143735063,
          1.5414336680370502,
          -0.028970197857147585,
          -1.3978466191671446,
          -0.4684792022305753
         ]
        },
        {
         "histfunc": "count",
         "histnorm": "",
         "marker": {
          "color": "rgba(55, 128, 191, 1.0)",
          "line": {
           "color": "#4D5663",
           "width": 1.3
          }
         },
         "name": "B",
         "opacity": 0.8,
         "orientation": "v",
         "type": "histogram",
         "x": [
          1.6078167885510994,
          0.5152505787154171,
          -1.732949449951613,
          -0.036945780938364245,
          -1.3551933367335174,
          0.5319072842514352,
          1.0697347319830688,
          -0.6363260721476971,
          -0.20643662573362598,
          -1.7853998237979154,
          -0.43298489994161915,
          -0.8220605061383672,
          -1.0416535261667546,
          -0.4436110742323203,
          -0.8849717239394095,
          0.82462023527033,
          -0.4511224528127728,
          -2.1521002255906314,
          0.6885075559620766,
          0.9619774031436268,
          -1.601282319516909,
          -1.0187221532576956,
          -0.37185922386743625,
          0.6327713965426722,
          0.6958040276700553,
          0.29576441234029416,
          0.1870375683798816,
          0.21216307603497175,
          -0.46826979686342507,
          0.5265808883122749,
          1.655233754967969,
          0.7847270184177594,
          -0.06524297551623097,
          -0.9050608073638097,
          -0.7568972725338796,
          1.8504073752072894,
          -1.3319273680622228,
          1.025323553637435,
          -1.1929053119674793,
          0.37609355139190637,
          -0.6931871349019727,
          -0.26788738816063384,
          0.6452730391434862,
          -0.6410794715938621,
          0.33601850854039045,
          1.062834980137413,
          -0.13797130277316041,
          -0.3472728358101834,
          -1.9295221797591842,
          0.688887327408491,
          -1.0059879927275013,
          -0.050838321432649304,
          2.810881273367778,
          1.5703602950010316,
          0.6688810634008149,
          -1.6495902709058397,
          0.6370014643522423,
          -0.6926906557976084,
          -1.7365465452273703,
          -1.3391600076707793,
          -2.403423131134129,
          -1.8354091651813158,
          0.6708773143428056,
          0.879946117968798,
          0.8808745167598088,
          0.9741666663770794,
          -0.8874965115923111,
          -0.12403926065668726,
          1.4859109330104527,
          0.02280886808632988,
          -1.1667746795991663,
          -0.978686343644049,
          -1.4082136206191738,
          -1.2271331376969463,
          -1.2464437921438107,
          -0.4073132003975011,
          1.3898802816681095,
          0.9273059334446105,
          0.39645412550268183,
          0.3916040681168114,
          1.7819762431059742,
          2.7889896150765257,
          -0.010367608731995102,
          -0.8704789634274461,
          2.2738070570513167,
          -0.723458871193624,
          -0.8191102049372018,
          0.46412661059334726,
          0.11437839854593614,
          0.8480965711153516,
          -0.4528516451940342,
          1.4002905273470163,
          -0.6214770108332643,
          0.25299312347365505,
          -2.538120488901347,
          -0.7338163679908073,
          -0.8294853006575363,
          -0.7021157089248629,
          1.258967519250579,
          -0.7460926635527159
         ]
        },
        {
         "histfunc": "count",
         "histnorm": "",
         "marker": {
          "color": "rgba(50, 171, 96, 1.0)",
          "line": {
           "color": "#4D5663",
           "width": 1.3
          }
         },
         "name": "C",
         "opacity": 0.8,
         "orientation": "v",
         "type": "histogram",
         "x": [
          -0.40893659238493957,
          0.5284695897665097,
          -1.3499824366425284,
          0.20947320867091684,
          0.06313788697464681,
          0.2240257478807152,
          1.3084846093844364,
          -0.09769227025138068,
          3.0269187001332876,
          -0.5550378168902134,
          0.32298539684628774,
          -0.9811850106703884,
          0.1877224155419993,
          -0.4476847275857444,
          -0.043444973539220784,
          -0.8568041222728902,
          0.6678292272658113,
          -0.5541880396613528,
          0.17231564672572366,
          -2.347037685253554,
          1.7901696378077814,
          -0.13873703056336914,
          1.3703117808680336,
          -1.09557404652743,
          -0.840483658635545,
          -0.0782207435962417,
          -2.4901813063590845,
          0.7954577690986171,
          0.7563678500304583,
          0.8282810592239327,
          1.3736171084097888,
          -0.23051949047893924,
          -0.7500511202208137,
          0.4657791581196217,
          -0.694317760791448,
          0.5323281945892034,
          1.0744949799025156,
          -0.5757996261723936,
          0.6175531749144147,
          -1.3308095173861523,
          -0.3041411470782431,
          -0.32321262916407295,
          1.3451360503158794,
          -0.22258765641468636,
          0.46276086443159536,
          1.305473094444253,
          -1.2557224375752478,
          -0.10735439230579584,
          0.15539669136081516,
          0.2454287275781737,
          0.709062744071629,
          -1.0189306817494845,
          -2.8313600195386575,
          -1.2898923383254388,
          -0.3335219739601589,
          -0.4645270990903758,
          -0.8103778869906966,
          1.777486986773079,
          -1.3100053866097574,
          -0.0061975588456562435,
          -0.3169815636267048,
          0.9884135602991152,
          -1.311183355018789,
          1.3503314844721983,
          -1.176715892945502,
          0.5248186280331063,
          0.7445747839308063,
          1.6061207522399603,
          0.8945753050864336,
          -1.9802230667354683,
          0.9670175266026474,
          -0.38313088682029106,
          0.11504863104212563,
          0.2578355137559848,
          -1.0821243444171453,
          -0.09448353023062106,
          2.280294479006378,
          -0.17323267358745653,
          1.576825520990779,
          -1.1218075790792321,
          0.963955846773198,
          -0.534160103149209,
          -0.47914281610558834,
          -0.632605606970785,
          1.6854458923256828,
          -0.7524602936912916,
          -0.1503760974022031,
          0.32477971265012107,
          0.8838810141917546,
          -0.4830171405408817,
          0.4633496042189074,
          0.6629779705259863,
          -1.3091493510560799,
          0.4445862882224116,
          1.476563650171718,
          0.5203636349511526,
          -0.10072918007507821,
          0.6815092069551677,
          -1.6553484152033242,
          -0.5437242883934308
         ]
        },
        {
         "histfunc": "count",
         "histnorm": "",
         "marker": {
          "color": "rgba(128, 0, 128, 1.0)",
          "line": {
           "color": "#4D5663",
           "width": 1.3
          }
         },
         "name": "D",
         "opacity": 0.8,
         "orientation": "v",
         "type": "histogram",
         "x": [
          -0.28253664986165766,
          -0.33904390394274625,
          -0.6047680721327735,
          0.6319507291868012,
          0.08021080511288874,
          -0.97896691342991,
          0.4369547333665759,
          -0.7985562934630596,
          0.32355756348101233,
          0.17854988139187036,
          -0.39085134916630543,
          -1.5321370768705596,
          0.5861424543076836,
          2.715835390300358,
          -1.3640206736326035,
          0.053510413565636135,
          0.23066249339653072,
          -0.9000073817487739,
          0.9819838235425686,
          -1.744346769757433,
          -1.476470196762409,
          0.21746980135314714,
          -0.34197060462713014,
          0.30613483379581946,
          0.1580369293672214,
          1.6409417618581168,
          -0.6236935701276197,
          -0.4991547268115103,
          0.7647031685804507,
          -2.057966117769427,
          0.07245698303131398,
          -1.997422627118517,
          -1.3578103866767408,
          -0.4588976279778724,
          -0.2454192395594232,
          0.6101007402398854,
          -0.40256956678416195,
          -0.45482856969035035,
          0.5081886564616441,
          -0.025645677346603758,
          1.0873209343675125,
          -0.4837540231899125,
          -1.3658193840021244,
          0.8709806074409643,
          0.5227006631101526,
          0.49932167167711755,
          -0.1584601394811962,
          -1.272619741579752,
          0.08812063144630929,
          -2.4919502989164677,
          0.4615886663651887,
          1.5964300278251782,
          -0.2333403880597775,
          -1.4766687191490893,
          -0.829216493997643,
          2.0719915614687685,
          0.598632674767342,
          0.13311083910793248,
          -0.32805792901128833,
          0.6355408144030831,
          0.046021443643492484,
          1.2005067852810665,
          0.1586335546924041,
          -0.15157832821376174,
          -0.46904019426122073,
          0.3682667349324615,
          1.0455848008493762,
          0.6853331966485996,
          -2.3955059365107045,
          -0.4746208167669859,
          -1.4442781106443496,
          -1.235846616259877,
          0.7634956216937328,
          0.36410298923273937,
          0.2819504634022776,
          0.6214448156567906,
          0.5799914555970304,
          -0.6312564703999389,
          -0.39107502929744736,
          1.3765104283778724,
          0.1453355977174186,
          0.4025782781105333,
          -1.0490846276753765,
          0.08067141982119372,
          0.042136280705729286,
          0.9800814899045366,
          0.09139322288024926,
          0.5173223544429093,
          -0.4522899727238104,
          1.0364086713401168,
          1.4337379459739363,
          -0.3459998925737082,
          0.6517389335619018,
          -0.7458190969260151,
          -1.3743874310232795,
          -1.2824336424269147,
          -0.4871339431225125,
          -1.725912694868446,
          0.13081866800058184,
          -2.6935481159733787
         ]
        }
       ],
       "layout": {
        "barmode": "overlay",
        "legend": {
         "bgcolor": "#F5F6F9",
         "font": {
          "color": "#4D5663"
         }
        },
        "paper_bgcolor": "#F5F6F9",
        "plot_bgcolor": "#F5F6F9",
        "template": {
         "data": {
          "bar": [
           {
            "error_x": {
             "color": "#2a3f5f"
            },
            "error_y": {
             "color": "#2a3f5f"
            },
            "marker": {
             "line": {
              "color": "#E5ECF6",
              "width": 0.5
             }
            },
            "type": "bar"
           }
          ],
          "barpolar": [
           {
            "marker": {
             "line": {
              "color": "#E5ECF6",
              "width": 0.5
             }
            },
            "type": "barpolar"
           }
          ],
          "carpet": [
           {
            "aaxis": {
             "endlinecolor": "#2a3f5f",
             "gridcolor": "white",
             "linecolor": "white",
             "minorgridcolor": "white",
             "startlinecolor": "#2a3f5f"
            },
            "baxis": {
             "endlinecolor": "#2a3f5f",
             "gridcolor": "white",
             "linecolor": "white",
             "minorgridcolor": "white",
             "startlinecolor": "#2a3f5f"
            },
            "type": "carpet"
           }
          ],
          "choropleth": [
           {
            "colorbar": {
             "outlinewidth": 0,
             "ticks": ""
            },
            "type": "choropleth"
           }
          ],
          "contour": [
           {
            "colorbar": {
             "outlinewidth": 0,
             "ticks": ""
            },
            "colorscale": [
             [
              0,
              "#0d0887"
             ],
             [
              0.1111111111111111,
              "#46039f"
             ],
             [
              0.2222222222222222,
              "#7201a8"
             ],
             [
              0.3333333333333333,
              "#9c179e"
             ],
             [
              0.4444444444444444,
              "#bd3786"
             ],
             [
              0.5555555555555556,
              "#d8576b"
             ],
             [
              0.6666666666666666,
              "#ed7953"
             ],
             [
              0.7777777777777778,
              "#fb9f3a"
             ],
             [
              0.8888888888888888,
              "#fdca26"
             ],
             [
              1,
              "#f0f921"
             ]
            ],
            "type": "contour"
           }
          ],
          "contourcarpet": [
           {
            "colorbar": {
             "outlinewidth": 0,
             "ticks": ""
            },
            "type": "contourcarpet"
           }
          ],
          "heatmap": [
           {
            "colorbar": {
             "outlinewidth": 0,
             "ticks": ""
            },
            "colorscale": [
             [
              0,
              "#0d0887"
             ],
             [
              0.1111111111111111,
              "#46039f"
             ],
             [
              0.2222222222222222,
              "#7201a8"
             ],
             [
              0.3333333333333333,
              "#9c179e"
             ],
             [
              0.4444444444444444,
              "#bd3786"
             ],
             [
              0.5555555555555556,
              "#d8576b"
             ],
             [
              0.6666666666666666,
              "#ed7953"
             ],
             [
              0.7777777777777778,
              "#fb9f3a"
             ],
             [
              0.8888888888888888,
              "#fdca26"
             ],
             [
              1,
              "#f0f921"
             ]
            ],
            "type": "heatmap"
           }
          ],
          "heatmapgl": [
           {
            "colorbar": {
             "outlinewidth": 0,
             "ticks": ""
            },
            "colorscale": [
             [
              0,
              "#0d0887"
             ],
             [
              0.1111111111111111,
              "#46039f"
             ],
             [
              0.2222222222222222,
              "#7201a8"
             ],
             [
              0.3333333333333333,
              "#9c179e"
             ],
             [
              0.4444444444444444,
              "#bd3786"
             ],
             [
              0.5555555555555556,
              "#d8576b"
             ],
             [
              0.6666666666666666,
              "#ed7953"
             ],
             [
              0.7777777777777778,
              "#fb9f3a"
             ],
             [
              0.8888888888888888,
              "#fdca26"
             ],
             [
              1,
              "#f0f921"
             ]
            ],
            "type": "heatmapgl"
           }
          ],
          "histogram": [
           {
            "marker": {
             "colorbar": {
              "outlinewidth": 0,
              "ticks": ""
             }
            },
            "type": "histogram"
           }
          ],
          "histogram2d": [
           {
            "colorbar": {
             "outlinewidth": 0,
             "ticks": ""
            },
            "colorscale": [
             [
              0,
              "#0d0887"
             ],
             [
              0.1111111111111111,
              "#46039f"
             ],
             [
              0.2222222222222222,
              "#7201a8"
             ],
             [
              0.3333333333333333,
              "#9c179e"
             ],
             [
              0.4444444444444444,
              "#bd3786"
             ],
             [
              0.5555555555555556,
              "#d8576b"
             ],
             [
              0.6666666666666666,
              "#ed7953"
             ],
             [
              0.7777777777777778,
              "#fb9f3a"
             ],
             [
              0.8888888888888888,
              "#fdca26"
             ],
             [
              1,
              "#f0f921"
             ]
            ],
            "type": "histogram2d"
           }
          ],
          "histogram2dcontour": [
           {
            "colorbar": {
             "outlinewidth": 0,
             "ticks": ""
            },
            "colorscale": [
             [
              0,
              "#0d0887"
             ],
             [
              0.1111111111111111,
              "#46039f"
             ],
             [
              0.2222222222222222,
              "#7201a8"
             ],
             [
              0.3333333333333333,
              "#9c179e"
             ],
             [
              0.4444444444444444,
              "#bd3786"
             ],
             [
              0.5555555555555556,
              "#d8576b"
             ],
             [
              0.6666666666666666,
              "#ed7953"
             ],
             [
              0.7777777777777778,
              "#fb9f3a"
             ],
             [
              0.8888888888888888,
              "#fdca26"
             ],
             [
              1,
              "#f0f921"
             ]
            ],
            "type": "histogram2dcontour"
           }
          ],
          "mesh3d": [
           {
            "colorbar": {
             "outlinewidth": 0,
             "ticks": ""
            },
            "type": "mesh3d"
           }
          ],
          "parcoords": [
           {
            "line": {
             "colorbar": {
              "outlinewidth": 0,
              "ticks": ""
             }
            },
            "type": "parcoords"
           }
          ],
          "pie": [
           {
            "automargin": true,
            "type": "pie"
           }
          ],
          "scatter": [
           {
            "marker": {
             "colorbar": {
              "outlinewidth": 0,
              "ticks": ""
             }
            },
            "type": "scatter"
           }
          ],
          "scatter3d": [
           {
            "line": {
             "colorbar": {
              "outlinewidth": 0,
              "ticks": ""
             }
            },
            "marker": {
             "colorbar": {
              "outlinewidth": 0,
              "ticks": ""
             }
            },
            "type": "scatter3d"
           }
          ],
          "scattercarpet": [
           {
            "marker": {
             "colorbar": {
              "outlinewidth": 0,
              "ticks": ""
             }
            },
            "type": "scattercarpet"
           }
          ],
          "scattergeo": [
           {
            "marker": {
             "colorbar": {
              "outlinewidth": 0,
              "ticks": ""
             }
            },
            "type": "scattergeo"
           }
          ],
          "scattergl": [
           {
            "marker": {
             "colorbar": {
              "outlinewidth": 0,
              "ticks": ""
             }
            },
            "type": "scattergl"
           }
          ],
          "scattermapbox": [
           {
            "marker": {
             "colorbar": {
              "outlinewidth": 0,
              "ticks": ""
             }
            },
            "type": "scattermapbox"
           }
          ],
          "scatterpolar": [
           {
            "marker": {
             "colorbar": {
              "outlinewidth": 0,
              "ticks": ""
             }
            },
            "type": "scatterpolar"
           }
          ],
          "scatterpolargl": [
           {
            "marker": {
             "colorbar": {
              "outlinewidth": 0,
              "ticks": ""
             }
            },
            "type": "scatterpolargl"
           }
          ],
          "scatterternary": [
           {
            "marker": {
             "colorbar": {
              "outlinewidth": 0,
              "ticks": ""
             }
            },
            "type": "scatterternary"
           }
          ],
          "surface": [
           {
            "colorbar": {
             "outlinewidth": 0,
             "ticks": ""
            },
            "colorscale": [
             [
              0,
              "#0d0887"
             ],
             [
              0.1111111111111111,
              "#46039f"
             ],
             [
              0.2222222222222222,
              "#7201a8"
             ],
             [
              0.3333333333333333,
              "#9c179e"
             ],
             [
              0.4444444444444444,
              "#bd3786"
             ],
             [
              0.5555555555555556,
              "#d8576b"
             ],
             [
              0.6666666666666666,
              "#ed7953"
             ],
             [
              0.7777777777777778,
              "#fb9f3a"
             ],
             [
              0.8888888888888888,
              "#fdca26"
             ],
             [
              1,
              "#f0f921"
             ]
            ],
            "type": "surface"
           }
          ],
          "table": [
           {
            "cells": {
             "fill": {
              "color": "#EBF0F8"
             },
             "line": {
              "color": "white"
             }
            },
            "header": {
             "fill": {
              "color": "#C8D4E3"
             },
             "line": {
              "color": "white"
             }
            },
            "type": "table"
           }
          ]
         },
         "layout": {
          "annotationdefaults": {
           "arrowcolor": "#2a3f5f",
           "arrowhead": 0,
           "arrowwidth": 1
          },
          "coloraxis": {
           "colorbar": {
            "outlinewidth": 0,
            "ticks": ""
           }
          },
          "colorscale": {
           "diverging": [
            [
             0,
             "#8e0152"
            ],
            [
             0.1,
             "#c51b7d"
            ],
            [
             0.2,
             "#de77ae"
            ],
            [
             0.3,
             "#f1b6da"
            ],
            [
             0.4,
             "#fde0ef"
            ],
            [
             0.5,
             "#f7f7f7"
            ],
            [
             0.6,
             "#e6f5d0"
            ],
            [
             0.7,
             "#b8e186"
            ],
            [
             0.8,
             "#7fbc41"
            ],
            [
             0.9,
             "#4d9221"
            ],
            [
             1,
             "#276419"
            ]
           ],
           "sequential": [
            [
             0,
             "#0d0887"
            ],
            [
             0.1111111111111111,
             "#46039f"
            ],
            [
             0.2222222222222222,
             "#7201a8"
            ],
            [
             0.3333333333333333,
             "#9c179e"
            ],
            [
             0.4444444444444444,
             "#bd3786"
            ],
            [
             0.5555555555555556,
             "#d8576b"
            ],
            [
             0.6666666666666666,
             "#ed7953"
            ],
            [
             0.7777777777777778,
             "#fb9f3a"
            ],
            [
             0.8888888888888888,
             "#fdca26"
            ],
            [
             1,
             "#f0f921"
            ]
           ],
           "sequentialminus": [
            [
             0,
             "#0d0887"
            ],
            [
             0.1111111111111111,
             "#46039f"
            ],
            [
             0.2222222222222222,
             "#7201a8"
            ],
            [
             0.3333333333333333,
             "#9c179e"
            ],
            [
             0.4444444444444444,
             "#bd3786"
            ],
            [
             0.5555555555555556,
             "#d8576b"
            ],
            [
             0.6666666666666666,
             "#ed7953"
            ],
            [
             0.7777777777777778,
             "#fb9f3a"
            ],
            [
             0.8888888888888888,
             "#fdca26"
            ],
            [
             1,
             "#f0f921"
            ]
           ]
          },
          "colorway": [
           "#636efa",
           "#EF553B",
           "#00cc96",
           "#ab63fa",
           "#FFA15A",
           "#19d3f3",
           "#FF6692",
           "#B6E880",
           "#FF97FF",
           "#FECB52"
          ],
          "font": {
           "color": "#2a3f5f"
          },
          "geo": {
           "bgcolor": "white",
           "lakecolor": "white",
           "landcolor": "#E5ECF6",
           "showlakes": true,
           "showland": true,
           "subunitcolor": "white"
          },
          "hoverlabel": {
           "align": "left"
          },
          "hovermode": "closest",
          "mapbox": {
           "style": "light"
          },
          "paper_bgcolor": "white",
          "plot_bgcolor": "#E5ECF6",
          "polar": {
           "angularaxis": {
            "gridcolor": "white",
            "linecolor": "white",
            "ticks": ""
           },
           "bgcolor": "#E5ECF6",
           "radialaxis": {
            "gridcolor": "white",
            "linecolor": "white",
            "ticks": ""
           }
          },
          "scene": {
           "xaxis": {
            "backgroundcolor": "#E5ECF6",
            "gridcolor": "white",
            "gridwidth": 2,
            "linecolor": "white",
            "showbackground": true,
            "ticks": "",
            "zerolinecolor": "white"
           },
           "yaxis": {
            "backgroundcolor": "#E5ECF6",
            "gridcolor": "white",
            "gridwidth": 2,
            "linecolor": "white",
            "showbackground": true,
            "ticks": "",
            "zerolinecolor": "white"
           },
           "zaxis": {
            "backgroundcolor": "#E5ECF6",
            "gridcolor": "white",
            "gridwidth": 2,
            "linecolor": "white",
            "showbackground": true,
            "ticks": "",
            "zerolinecolor": "white"
           }
          },
          "shapedefaults": {
           "line": {
            "color": "#2a3f5f"
           }
          },
          "ternary": {
           "aaxis": {
            "gridcolor": "white",
            "linecolor": "white",
            "ticks": ""
           },
           "baxis": {
            "gridcolor": "white",
            "linecolor": "white",
            "ticks": ""
           },
           "bgcolor": "#E5ECF6",
           "caxis": {
            "gridcolor": "white",
            "linecolor": "white",
            "ticks": ""
           }
          },
          "title": {
           "x": 0.05
          },
          "xaxis": {
           "automargin": true,
           "gridcolor": "white",
           "linecolor": "white",
           "ticks": "",
           "title": {
            "standoff": 15
           },
           "zerolinecolor": "white",
           "zerolinewidth": 2
          },
          "yaxis": {
           "automargin": true,
           "gridcolor": "white",
           "linecolor": "white",
           "ticks": "",
           "title": {
            "standoff": 15
           },
           "zerolinecolor": "white",
           "zerolinewidth": 2
          }
         }
        },
        "title": {
         "font": {
          "color": "#4D5663"
         }
        },
        "xaxis": {
         "gridcolor": "#E1E5ED",
         "showgrid": true,
         "tickfont": {
          "color": "#4D5663"
         },
         "title": {
          "font": {
           "color": "#4D5663"
          },
          "text": ""
         },
         "zerolinecolor": "#E1E5ED"
        },
        "yaxis": {
         "gridcolor": "#E1E5ED",
         "showgrid": true,
         "tickfont": {
          "color": "#4D5663"
         },
         "title": {
          "font": {
           "color": "#4D5663"
          },
          "text": ""
         },
         "zerolinecolor": "#E1E5ED"
        }
       }
      },
      "text/html": [
       "<div>\n",
       "        \n",
       "        \n",
       "            <div id=\"790072e3-f7a6-42de-999b-ffa6b98420d3\" class=\"plotly-graph-div\" style=\"height:525px; width:100%;\"></div>\n",
       "            <script type=\"text/javascript\">\n",
       "                require([\"plotly\"], function(Plotly) {\n",
       "                    window.PLOTLYENV=window.PLOTLYENV || {};\n",
       "                    window.PLOTLYENV.BASE_URL='https://plot.ly';\n",
       "                    \n",
       "                if (document.getElementById(\"790072e3-f7a6-42de-999b-ffa6b98420d3\")) {\n",
       "                    Plotly.newPlot(\n",
       "                        '790072e3-f7a6-42de-999b-ffa6b98420d3',\n",
       "                        [{\"histfunc\": \"count\", \"histnorm\": \"\", \"marker\": {\"color\": \"rgba(255, 153, 51, 1.0)\", \"line\": {\"color\": \"#4D5663\", \"width\": 1.3}}, \"name\": \"A\", \"opacity\": 0.8, \"orientation\": \"v\", \"type\": \"histogram\", \"x\": [0.3410614466753071, -1.1035524050054597, 0.01497802970479452, -0.4923405339752979, -0.711740649467883, 0.7611113231300444, -0.32899989496145043, -1.0003056778373516, -1.144108410930388, -0.7187659800223282, -0.8827891809503372, 0.16527534978219205, 0.33791501376902755, 0.2845952287777885, -2.031762480119184, 0.009561136766891088, -0.37499414498681033, 0.7436276548650762, -0.08613852640362644, -1.788868487410151, 0.6091820625025955, -0.540546683835764, -1.3830705697321766, -0.22776248598870943, 0.04791488496871383, 0.14734661797990722, 0.6837492096990183, 0.4909535703078963, -0.5763766572692686, 1.7556808706923992, -0.21643572049270607, -0.08138650173686049, -0.41988696887517796, 0.5896403672067946, -0.15796893354889477, 0.03098947180102704, -1.1741362797157253, -0.5288212423479839, -1.0461934563699007, -1.8047730897321894, -0.18922230488345462, 0.4448399483986472, 0.09802387104390282, 0.3675012254291077, -2.199418690052648, 0.9672627288932981, -1.6104735507037404, 1.0793883903440407, -1.7442712770335072, -0.2006977228942966, 1.1604057740322227, 0.8380871794918501, 0.3434621276866279, -1.4104992622520467, 1.311238947350882, 0.9412950281879889, -0.3350723872072907, 0.6951180795417036, -0.9121582740527129, 0.18765291170273096, -0.690685295257295, 0.8852386085818393, 0.4317636746726903, -0.7504024305600105, -0.39335965300494274, 0.3694506068850978, -0.10252111873440109, 0.49884624438508196, 0.055394235359639964, 0.011792637052425847, -0.8082790203993668, -1.3615811568324008, -0.4873899268497068, 0.38309544271604257, 0.4242660099135097, 2.2187119574585603, -0.01959273839618212, -0.8646247657702009, 0.08787197959542621, -0.1154797457890154, 0.33140686940164854, -0.6196352065642001, 0.3227781557323908, 0.2447772792318997, -0.9529620548470774, -1.1779499157234683, 0.362052923601659, 0.36545821597693284, 0.5563628463658707, 0.09204794996115445, 0.5305702320652781, 1.2972359829146172, -0.463871893327936, -2.1652174380047438, 1.3950847840966412, 1.25889143735063, 1.5414336680370502, -0.028970197857147585, -1.3978466191671446, -0.4684792022305753]}, {\"histfunc\": \"count\", \"histnorm\": \"\", \"marker\": {\"color\": \"rgba(55, 128, 191, 1.0)\", \"line\": {\"color\": \"#4D5663\", \"width\": 1.3}}, \"name\": \"B\", \"opacity\": 0.8, \"orientation\": \"v\", \"type\": \"histogram\", \"x\": [1.6078167885510994, 0.5152505787154171, -1.732949449951613, -0.036945780938364245, -1.3551933367335174, 0.5319072842514352, 1.0697347319830688, -0.6363260721476971, -0.20643662573362598, -1.7853998237979154, -0.43298489994161915, -0.8220605061383672, -1.0416535261667546, -0.4436110742323203, -0.8849717239394095, 0.82462023527033, -0.4511224528127728, -2.1521002255906314, 0.6885075559620766, 0.9619774031436268, -1.601282319516909, -1.0187221532576956, -0.37185922386743625, 0.6327713965426722, 0.6958040276700553, 0.29576441234029416, 0.1870375683798816, 0.21216307603497175, -0.46826979686342507, 0.5265808883122749, 1.655233754967969, 0.7847270184177594, -0.06524297551623097, -0.9050608073638097, -0.7568972725338796, 1.8504073752072894, -1.3319273680622228, 1.025323553637435, -1.1929053119674793, 0.37609355139190637, -0.6931871349019727, -0.26788738816063384, 0.6452730391434862, -0.6410794715938621, 0.33601850854039045, 1.062834980137413, -0.13797130277316041, -0.3472728358101834, -1.9295221797591842, 0.688887327408491, -1.0059879927275013, -0.050838321432649304, 2.810881273367778, 1.5703602950010316, 0.6688810634008149, -1.6495902709058397, 0.6370014643522423, -0.6926906557976084, -1.7365465452273703, -1.3391600076707793, -2.403423131134129, -1.8354091651813158, 0.6708773143428056, 0.879946117968798, 0.8808745167598088, 0.9741666663770794, -0.8874965115923111, -0.12403926065668726, 1.4859109330104527, 0.02280886808632988, -1.1667746795991663, -0.978686343644049, -1.4082136206191738, -1.2271331376969463, -1.2464437921438107, -0.4073132003975011, 1.3898802816681095, 0.9273059334446105, 0.39645412550268183, 0.3916040681168114, 1.7819762431059742, 2.7889896150765257, -0.010367608731995102, -0.8704789634274461, 2.2738070570513167, -0.723458871193624, -0.8191102049372018, 0.46412661059334726, 0.11437839854593614, 0.8480965711153516, -0.4528516451940342, 1.4002905273470163, -0.6214770108332643, 0.25299312347365505, -2.538120488901347, -0.7338163679908073, -0.8294853006575363, -0.7021157089248629, 1.258967519250579, -0.7460926635527159]}, {\"histfunc\": \"count\", \"histnorm\": \"\", \"marker\": {\"color\": \"rgba(50, 171, 96, 1.0)\", \"line\": {\"color\": \"#4D5663\", \"width\": 1.3}}, \"name\": \"C\", \"opacity\": 0.8, \"orientation\": \"v\", \"type\": \"histogram\", \"x\": [-0.40893659238493957, 0.5284695897665097, -1.3499824366425284, 0.20947320867091684, 0.06313788697464681, 0.2240257478807152, 1.3084846093844364, -0.09769227025138068, 3.0269187001332876, -0.5550378168902134, 0.32298539684628774, -0.9811850106703884, 0.1877224155419993, -0.4476847275857444, -0.043444973539220784, -0.8568041222728902, 0.6678292272658113, -0.5541880396613528, 0.17231564672572366, -2.347037685253554, 1.7901696378077814, -0.13873703056336914, 1.3703117808680336, -1.09557404652743, -0.840483658635545, -0.0782207435962417, -2.4901813063590845, 0.7954577690986171, 0.7563678500304583, 0.8282810592239327, 1.3736171084097888, -0.23051949047893924, -0.7500511202208137, 0.4657791581196217, -0.694317760791448, 0.5323281945892034, 1.0744949799025156, -0.5757996261723936, 0.6175531749144147, -1.3308095173861523, -0.3041411470782431, -0.32321262916407295, 1.3451360503158794, -0.22258765641468636, 0.46276086443159536, 1.305473094444253, -1.2557224375752478, -0.10735439230579584, 0.15539669136081516, 0.2454287275781737, 0.709062744071629, -1.0189306817494845, -2.8313600195386575, -1.2898923383254388, -0.3335219739601589, -0.4645270990903758, -0.8103778869906966, 1.777486986773079, -1.3100053866097574, -0.0061975588456562435, -0.3169815636267048, 0.9884135602991152, -1.311183355018789, 1.3503314844721983, -1.176715892945502, 0.5248186280331063, 0.7445747839308063, 1.6061207522399603, 0.8945753050864336, -1.9802230667354683, 0.9670175266026474, -0.38313088682029106, 0.11504863104212563, 0.2578355137559848, -1.0821243444171453, -0.09448353023062106, 2.280294479006378, -0.17323267358745653, 1.576825520990779, -1.1218075790792321, 0.963955846773198, -0.534160103149209, -0.47914281610558834, -0.632605606970785, 1.6854458923256828, -0.7524602936912916, -0.1503760974022031, 0.32477971265012107, 0.8838810141917546, -0.4830171405408817, 0.4633496042189074, 0.6629779705259863, -1.3091493510560799, 0.4445862882224116, 1.476563650171718, 0.5203636349511526, -0.10072918007507821, 0.6815092069551677, -1.6553484152033242, -0.5437242883934308]}, {\"histfunc\": \"count\", \"histnorm\": \"\", \"marker\": {\"color\": \"rgba(128, 0, 128, 1.0)\", \"line\": {\"color\": \"#4D5663\", \"width\": 1.3}}, \"name\": \"D\", \"opacity\": 0.8, \"orientation\": \"v\", \"type\": \"histogram\", \"x\": [-0.28253664986165766, -0.33904390394274625, -0.6047680721327735, 0.6319507291868012, 0.08021080511288874, -0.97896691342991, 0.4369547333665759, -0.7985562934630596, 0.32355756348101233, 0.17854988139187036, -0.39085134916630543, -1.5321370768705596, 0.5861424543076836, 2.715835390300358, -1.3640206736326035, 0.053510413565636135, 0.23066249339653072, -0.9000073817487739, 0.9819838235425686, -1.744346769757433, -1.476470196762409, 0.21746980135314714, -0.34197060462713014, 0.30613483379581946, 0.1580369293672214, 1.6409417618581168, -0.6236935701276197, -0.4991547268115103, 0.7647031685804507, -2.057966117769427, 0.07245698303131398, -1.997422627118517, -1.3578103866767408, -0.4588976279778724, -0.2454192395594232, 0.6101007402398854, -0.40256956678416195, -0.45482856969035035, 0.5081886564616441, -0.025645677346603758, 1.0873209343675125, -0.4837540231899125, -1.3658193840021244, 0.8709806074409643, 0.5227006631101526, 0.49932167167711755, -0.1584601394811962, -1.272619741579752, 0.08812063144630929, -2.4919502989164677, 0.4615886663651887, 1.5964300278251782, -0.2333403880597775, -1.4766687191490893, -0.829216493997643, 2.0719915614687685, 0.598632674767342, 0.13311083910793248, -0.32805792901128833, 0.6355408144030831, 0.046021443643492484, 1.2005067852810665, 0.1586335546924041, -0.15157832821376174, -0.46904019426122073, 0.3682667349324615, 1.0455848008493762, 0.6853331966485996, -2.3955059365107045, -0.4746208167669859, -1.4442781106443496, -1.235846616259877, 0.7634956216937328, 0.36410298923273937, 0.2819504634022776, 0.6214448156567906, 0.5799914555970304, -0.6312564703999389, -0.39107502929744736, 1.3765104283778724, 0.1453355977174186, 0.4025782781105333, -1.0490846276753765, 0.08067141982119372, 0.042136280705729286, 0.9800814899045366, 0.09139322288024926, 0.5173223544429093, -0.4522899727238104, 1.0364086713401168, 1.4337379459739363, -0.3459998925737082, 0.6517389335619018, -0.7458190969260151, -1.3743874310232795, -1.2824336424269147, -0.4871339431225125, -1.725912694868446, 0.13081866800058184, -2.6935481159733787]}],\n",
       "                        {\"barmode\": \"overlay\", \"legend\": {\"bgcolor\": \"#F5F6F9\", \"font\": {\"color\": \"#4D5663\"}}, \"paper_bgcolor\": \"#F5F6F9\", \"plot_bgcolor\": \"#F5F6F9\", \"template\": {\"data\": {\"bar\": [{\"error_x\": {\"color\": \"#2a3f5f\"}, \"error_y\": {\"color\": \"#2a3f5f\"}, \"marker\": {\"line\": {\"color\": \"#E5ECF6\", \"width\": 0.5}}, \"type\": \"bar\"}], \"barpolar\": [{\"marker\": {\"line\": {\"color\": \"#E5ECF6\", \"width\": 0.5}}, \"type\": \"barpolar\"}], \"carpet\": [{\"aaxis\": {\"endlinecolor\": \"#2a3f5f\", \"gridcolor\": \"white\", \"linecolor\": \"white\", \"minorgridcolor\": \"white\", \"startlinecolor\": \"#2a3f5f\"}, \"baxis\": {\"endlinecolor\": \"#2a3f5f\", \"gridcolor\": \"white\", \"linecolor\": \"white\", \"minorgridcolor\": \"white\", \"startlinecolor\": \"#2a3f5f\"}, \"type\": \"carpet\"}], \"choropleth\": [{\"colorbar\": {\"outlinewidth\": 0, \"ticks\": \"\"}, \"type\": \"choropleth\"}], \"contour\": [{\"colorbar\": {\"outlinewidth\": 0, \"ticks\": \"\"}, \"colorscale\": [[0.0, \"#0d0887\"], [0.1111111111111111, \"#46039f\"], [0.2222222222222222, \"#7201a8\"], [0.3333333333333333, \"#9c179e\"], [0.4444444444444444, \"#bd3786\"], [0.5555555555555556, \"#d8576b\"], [0.6666666666666666, \"#ed7953\"], [0.7777777777777778, \"#fb9f3a\"], [0.8888888888888888, \"#fdca26\"], [1.0, \"#f0f921\"]], \"type\": \"contour\"}], \"contourcarpet\": [{\"colorbar\": {\"outlinewidth\": 0, \"ticks\": \"\"}, \"type\": \"contourcarpet\"}], \"heatmap\": [{\"colorbar\": {\"outlinewidth\": 0, \"ticks\": \"\"}, \"colorscale\": [[0.0, \"#0d0887\"], [0.1111111111111111, \"#46039f\"], [0.2222222222222222, \"#7201a8\"], [0.3333333333333333, \"#9c179e\"], [0.4444444444444444, \"#bd3786\"], [0.5555555555555556, \"#d8576b\"], [0.6666666666666666, \"#ed7953\"], [0.7777777777777778, \"#fb9f3a\"], [0.8888888888888888, \"#fdca26\"], [1.0, \"#f0f921\"]], \"type\": \"heatmap\"}], \"heatmapgl\": [{\"colorbar\": {\"outlinewidth\": 0, \"ticks\": \"\"}, \"colorscale\": [[0.0, \"#0d0887\"], [0.1111111111111111, \"#46039f\"], [0.2222222222222222, \"#7201a8\"], [0.3333333333333333, \"#9c179e\"], [0.4444444444444444, \"#bd3786\"], [0.5555555555555556, \"#d8576b\"], [0.6666666666666666, \"#ed7953\"], [0.7777777777777778, \"#fb9f3a\"], [0.8888888888888888, \"#fdca26\"], [1.0, \"#f0f921\"]], \"type\": \"heatmapgl\"}], \"histogram\": [{\"marker\": {\"colorbar\": {\"outlinewidth\": 0, \"ticks\": \"\"}}, \"type\": \"histogram\"}], \"histogram2d\": [{\"colorbar\": {\"outlinewidth\": 0, \"ticks\": \"\"}, \"colorscale\": [[0.0, \"#0d0887\"], [0.1111111111111111, \"#46039f\"], [0.2222222222222222, \"#7201a8\"], [0.3333333333333333, \"#9c179e\"], [0.4444444444444444, \"#bd3786\"], [0.5555555555555556, \"#d8576b\"], [0.6666666666666666, \"#ed7953\"], [0.7777777777777778, \"#fb9f3a\"], [0.8888888888888888, \"#fdca26\"], [1.0, \"#f0f921\"]], \"type\": \"histogram2d\"}], \"histogram2dcontour\": [{\"colorbar\": {\"outlinewidth\": 0, \"ticks\": \"\"}, \"colorscale\": [[0.0, \"#0d0887\"], [0.1111111111111111, \"#46039f\"], [0.2222222222222222, \"#7201a8\"], [0.3333333333333333, \"#9c179e\"], [0.4444444444444444, \"#bd3786\"], [0.5555555555555556, \"#d8576b\"], [0.6666666666666666, \"#ed7953\"], [0.7777777777777778, \"#fb9f3a\"], [0.8888888888888888, \"#fdca26\"], [1.0, \"#f0f921\"]], \"type\": \"histogram2dcontour\"}], \"mesh3d\": [{\"colorbar\": {\"outlinewidth\": 0, \"ticks\": \"\"}, \"type\": \"mesh3d\"}], \"parcoords\": [{\"line\": {\"colorbar\": {\"outlinewidth\": 0, \"ticks\": \"\"}}, \"type\": \"parcoords\"}], \"pie\": [{\"automargin\": true, \"type\": \"pie\"}], \"scatter\": [{\"marker\": {\"colorbar\": {\"outlinewidth\": 0, \"ticks\": \"\"}}, \"type\": \"scatter\"}], \"scatter3d\": [{\"line\": {\"colorbar\": {\"outlinewidth\": 0, \"ticks\": \"\"}}, \"marker\": {\"colorbar\": {\"outlinewidth\": 0, \"ticks\": \"\"}}, \"type\": \"scatter3d\"}], \"scattercarpet\": [{\"marker\": {\"colorbar\": {\"outlinewidth\": 0, \"ticks\": \"\"}}, \"type\": \"scattercarpet\"}], \"scattergeo\": [{\"marker\": {\"colorbar\": {\"outlinewidth\": 0, \"ticks\": \"\"}}, \"type\": \"scattergeo\"}], \"scattergl\": [{\"marker\": {\"colorbar\": {\"outlinewidth\": 0, \"ticks\": \"\"}}, \"type\": \"scattergl\"}], \"scattermapbox\": [{\"marker\": {\"colorbar\": {\"outlinewidth\": 0, \"ticks\": \"\"}}, \"type\": \"scattermapbox\"}], \"scatterpolar\": [{\"marker\": {\"colorbar\": {\"outlinewidth\": 0, \"ticks\": \"\"}}, \"type\": \"scatterpolar\"}], \"scatterpolargl\": [{\"marker\": {\"colorbar\": {\"outlinewidth\": 0, \"ticks\": \"\"}}, \"type\": \"scatterpolargl\"}], \"scatterternary\": [{\"marker\": {\"colorbar\": {\"outlinewidth\": 0, \"ticks\": \"\"}}, \"type\": \"scatterternary\"}], \"surface\": [{\"colorbar\": {\"outlinewidth\": 0, \"ticks\": \"\"}, \"colorscale\": [[0.0, \"#0d0887\"], [0.1111111111111111, \"#46039f\"], [0.2222222222222222, \"#7201a8\"], [0.3333333333333333, \"#9c179e\"], [0.4444444444444444, \"#bd3786\"], [0.5555555555555556, \"#d8576b\"], [0.6666666666666666, \"#ed7953\"], [0.7777777777777778, \"#fb9f3a\"], [0.8888888888888888, \"#fdca26\"], [1.0, \"#f0f921\"]], \"type\": \"surface\"}], \"table\": [{\"cells\": {\"fill\": {\"color\": \"#EBF0F8\"}, \"line\": {\"color\": \"white\"}}, \"header\": {\"fill\": {\"color\": \"#C8D4E3\"}, \"line\": {\"color\": \"white\"}}, \"type\": \"table\"}]}, \"layout\": {\"annotationdefaults\": {\"arrowcolor\": \"#2a3f5f\", \"arrowhead\": 0, \"arrowwidth\": 1}, \"coloraxis\": {\"colorbar\": {\"outlinewidth\": 0, \"ticks\": \"\"}}, \"colorscale\": {\"diverging\": [[0, \"#8e0152\"], [0.1, \"#c51b7d\"], [0.2, \"#de77ae\"], [0.3, \"#f1b6da\"], [0.4, \"#fde0ef\"], [0.5, \"#f7f7f7\"], [0.6, \"#e6f5d0\"], [0.7, \"#b8e186\"], [0.8, \"#7fbc41\"], [0.9, \"#4d9221\"], [1, \"#276419\"]], \"sequential\": [[0.0, \"#0d0887\"], [0.1111111111111111, \"#46039f\"], [0.2222222222222222, \"#7201a8\"], [0.3333333333333333, \"#9c179e\"], [0.4444444444444444, \"#bd3786\"], [0.5555555555555556, \"#d8576b\"], [0.6666666666666666, \"#ed7953\"], [0.7777777777777778, \"#fb9f3a\"], [0.8888888888888888, \"#fdca26\"], [1.0, \"#f0f921\"]], \"sequentialminus\": [[0.0, \"#0d0887\"], [0.1111111111111111, \"#46039f\"], [0.2222222222222222, \"#7201a8\"], [0.3333333333333333, \"#9c179e\"], [0.4444444444444444, \"#bd3786\"], [0.5555555555555556, \"#d8576b\"], [0.6666666666666666, \"#ed7953\"], [0.7777777777777778, \"#fb9f3a\"], [0.8888888888888888, \"#fdca26\"], [1.0, \"#f0f921\"]]}, \"colorway\": [\"#636efa\", \"#EF553B\", \"#00cc96\", \"#ab63fa\", \"#FFA15A\", \"#19d3f3\", \"#FF6692\", \"#B6E880\", \"#FF97FF\", \"#FECB52\"], \"font\": {\"color\": \"#2a3f5f\"}, \"geo\": {\"bgcolor\": \"white\", \"lakecolor\": \"white\", \"landcolor\": \"#E5ECF6\", \"showlakes\": true, \"showland\": true, \"subunitcolor\": \"white\"}, \"hoverlabel\": {\"align\": \"left\"}, \"hovermode\": \"closest\", \"mapbox\": {\"style\": \"light\"}, \"paper_bgcolor\": \"white\", \"plot_bgcolor\": \"#E5ECF6\", \"polar\": {\"angularaxis\": {\"gridcolor\": \"white\", \"linecolor\": \"white\", \"ticks\": \"\"}, \"bgcolor\": \"#E5ECF6\", \"radialaxis\": {\"gridcolor\": \"white\", \"linecolor\": \"white\", \"ticks\": \"\"}}, \"scene\": {\"xaxis\": {\"backgroundcolor\": \"#E5ECF6\", \"gridcolor\": \"white\", \"gridwidth\": 2, \"linecolor\": \"white\", \"showbackground\": true, \"ticks\": \"\", \"zerolinecolor\": \"white\"}, \"yaxis\": {\"backgroundcolor\": \"#E5ECF6\", \"gridcolor\": \"white\", \"gridwidth\": 2, \"linecolor\": \"white\", \"showbackground\": true, \"ticks\": \"\", \"zerolinecolor\": \"white\"}, \"zaxis\": {\"backgroundcolor\": \"#E5ECF6\", \"gridcolor\": \"white\", \"gridwidth\": 2, \"linecolor\": \"white\", \"showbackground\": true, \"ticks\": \"\", \"zerolinecolor\": \"white\"}}, \"shapedefaults\": {\"line\": {\"color\": \"#2a3f5f\"}}, \"ternary\": {\"aaxis\": {\"gridcolor\": \"white\", \"linecolor\": \"white\", \"ticks\": \"\"}, \"baxis\": {\"gridcolor\": \"white\", \"linecolor\": \"white\", \"ticks\": \"\"}, \"bgcolor\": \"#E5ECF6\", \"caxis\": {\"gridcolor\": \"white\", \"linecolor\": \"white\", \"ticks\": \"\"}}, \"title\": {\"x\": 0.05}, \"xaxis\": {\"automargin\": true, \"gridcolor\": \"white\", \"linecolor\": \"white\", \"ticks\": \"\", \"title\": {\"standoff\": 15}, \"zerolinecolor\": \"white\", \"zerolinewidth\": 2}, \"yaxis\": {\"automargin\": true, \"gridcolor\": \"white\", \"linecolor\": \"white\", \"ticks\": \"\", \"title\": {\"standoff\": 15}, \"zerolinecolor\": \"white\", \"zerolinewidth\": 2}}}, \"title\": {\"font\": {\"color\": \"#4D5663\"}}, \"xaxis\": {\"gridcolor\": \"#E1E5ED\", \"showgrid\": true, \"tickfont\": {\"color\": \"#4D5663\"}, \"title\": {\"font\": {\"color\": \"#4D5663\"}, \"text\": \"\"}, \"zerolinecolor\": \"#E1E5ED\"}, \"yaxis\": {\"gridcolor\": \"#E1E5ED\", \"showgrid\": true, \"tickfont\": {\"color\": \"#4D5663\"}, \"title\": {\"font\": {\"color\": \"#4D5663\"}, \"text\": \"\"}, \"zerolinecolor\": \"#E1E5ED\"}},\n",
       "                        {\"showLink\": true, \"linkText\": \"Export to plot.ly\", \"plotlyServerURL\": \"https://plot.ly\", \"responsive\": true}\n",
       "                    ).then(function(){\n",
       "                            \n",
       "var gd = document.getElementById('790072e3-f7a6-42de-999b-ffa6b98420d3');\n",
       "var x = new MutationObserver(function (mutations, observer) {{\n",
       "        var display = window.getComputedStyle(gd).display;\n",
       "        if (!display || display === 'none') {{\n",
       "            console.log([gd, 'removed!']);\n",
       "            Plotly.purge(gd);\n",
       "            observer.disconnect();\n",
       "        }}\n",
       "}});\n",
       "\n",
       "// Listen for the removal of the full notebook cells\n",
       "var notebookContainer = gd.closest('#notebook-container');\n",
       "if (notebookContainer) {{\n",
       "    x.observe(notebookContainer, {childList: true});\n",
       "}}\n",
       "\n",
       "// Listen for the clearing of the current output cell\n",
       "var outputEl = gd.closest('.output');\n",
       "if (outputEl) {{\n",
       "    x.observe(outputEl, {childList: true});\n",
       "}}\n",
       "\n",
       "                        })\n",
       "                };\n",
       "                });\n",
       "            </script>\n",
       "        </div>"
      ]
     },
     "metadata": {},
     "output_type": "display_data"
    }
   ],
   "source": [
    "# Or we can make hist for whole dataframe\n",
    "\n",
    "df.iplot(kind='hist')\n",
    "\n",
    "# We can on/off columns"
   ]
  },
  {
   "cell_type": "markdown",
   "metadata": {},
   "source": [
    "# iplot + spread"
   ]
  },
  {
   "cell_type": "code",
   "execution_count": 54,
   "metadata": {},
   "outputs": [
    {
     "name": "stderr",
     "output_type": "stream",
     "text": [
      "C:\\Users\\BabaJi\\anaconda3\\lib\\site-packages\\cufflinks\\plotlytools.py:849: FutureWarning:\n",
      "\n",
      "The pandas.np module is deprecated and will be removed from pandas in a future version. Import numpy directly instead\n",
      "\n",
      "C:\\Users\\BabaJi\\anaconda3\\lib\\site-packages\\cufflinks\\plotlytools.py:850: FutureWarning:\n",
      "\n",
      "The pandas.np module is deprecated and will be removed from pandas in a future version. Import numpy directly instead\n",
      "\n"
     ]
    },
    {
     "data": {
      "application/vnd.plotly.v1+json": {
       "config": {
        "linkText": "Export to plot.ly",
        "plotlyServerURL": "https://plot.ly",
        "showLink": true
       },
       "data": [
        {
         "line": {
          "color": "rgba(255, 153, 51, 1.0)",
          "dash": "solid",
          "shape": "linear",
          "width": 1.3
         },
         "mode": "lines",
         "name": "B",
         "text": "",
         "type": "scatter",
         "x": [
          0.3410614466753071,
          -1.1035524050054597,
          0.01497802970479452,
          -0.4923405339752979,
          -0.711740649467883,
          0.7611113231300444,
          -0.32899989496145043,
          -1.0003056778373516,
          -1.144108410930388,
          -0.7187659800223282,
          -0.8827891809503372,
          0.16527534978219205,
          0.33791501376902755,
          0.2845952287777885,
          -2.031762480119184,
          0.009561136766891088,
          -0.37499414498681033,
          0.7436276548650762,
          -0.08613852640362644,
          -1.788868487410151,
          0.6091820625025955,
          -0.540546683835764,
          -1.3830705697321766,
          -0.22776248598870943,
          0.04791488496871383,
          0.14734661797990722,
          0.6837492096990183,
          0.4909535703078963,
          -0.5763766572692686,
          1.7556808706923992,
          -0.21643572049270607,
          -0.08138650173686049,
          -0.41988696887517796,
          0.5896403672067946,
          -0.15796893354889477,
          0.03098947180102704,
          -1.1741362797157253,
          -0.5288212423479839,
          -1.0461934563699007,
          -1.8047730897321894,
          -0.18922230488345462,
          0.4448399483986472,
          0.09802387104390282,
          0.3675012254291077,
          -2.199418690052648,
          0.9672627288932981,
          -1.6104735507037404,
          1.0793883903440407,
          -1.7442712770335072,
          -0.2006977228942966,
          1.1604057740322227,
          0.8380871794918501,
          0.3434621276866279,
          -1.4104992622520467,
          1.311238947350882,
          0.9412950281879889,
          -0.3350723872072907,
          0.6951180795417036,
          -0.9121582740527129,
          0.18765291170273096,
          -0.690685295257295,
          0.8852386085818393,
          0.4317636746726903,
          -0.7504024305600105,
          -0.39335965300494274,
          0.3694506068850978,
          -0.10252111873440109,
          0.49884624438508196,
          0.055394235359639964,
          0.011792637052425847,
          -0.8082790203993668,
          -1.3615811568324008,
          -0.4873899268497068,
          0.38309544271604257,
          0.4242660099135097,
          2.2187119574585603,
          -0.01959273839618212,
          -0.8646247657702009,
          0.08787197959542621,
          -0.1154797457890154,
          0.33140686940164854,
          -0.6196352065642001,
          0.3227781557323908,
          0.2447772792318997,
          -0.9529620548470774,
          -1.1779499157234683,
          0.362052923601659,
          0.36545821597693284,
          0.5563628463658707,
          0.09204794996115445,
          0.5305702320652781,
          1.2972359829146172,
          -0.463871893327936,
          -2.1652174380047438,
          1.3950847840966412,
          1.25889143735063,
          1.5414336680370502,
          -0.028970197857147585,
          -1.3978466191671446,
          -0.4684792022305753
         ],
         "y": [
          1.6078167885510994,
          0.5152505787154171,
          -1.732949449951613,
          -0.036945780938364245,
          -1.3551933367335174,
          0.5319072842514352,
          1.0697347319830688,
          -0.6363260721476971,
          -0.20643662573362598,
          -1.7853998237979154,
          -0.43298489994161915,
          -0.8220605061383672,
          -1.0416535261667546,
          -0.4436110742323203,
          -0.8849717239394095,
          0.82462023527033,
          -0.4511224528127728,
          -2.1521002255906314,
          0.6885075559620766,
          0.9619774031436268,
          -1.601282319516909,
          -1.0187221532576956,
          -0.37185922386743625,
          0.6327713965426722,
          0.6958040276700553,
          0.29576441234029416,
          0.1870375683798816,
          0.21216307603497175,
          -0.46826979686342507,
          0.5265808883122749,
          1.655233754967969,
          0.7847270184177594,
          -0.06524297551623097,
          -0.9050608073638097,
          -0.7568972725338796,
          1.8504073752072894,
          -1.3319273680622228,
          1.025323553637435,
          -1.1929053119674793,
          0.37609355139190637,
          -0.6931871349019727,
          -0.26788738816063384,
          0.6452730391434862,
          -0.6410794715938621,
          0.33601850854039045,
          1.062834980137413,
          -0.13797130277316041,
          -0.3472728358101834,
          -1.9295221797591842,
          0.688887327408491,
          -1.0059879927275013,
          -0.050838321432649304,
          2.810881273367778,
          1.5703602950010316,
          0.6688810634008149,
          -1.6495902709058397,
          0.6370014643522423,
          -0.6926906557976084,
          -1.7365465452273703,
          -1.3391600076707793,
          -2.403423131134129,
          -1.8354091651813158,
          0.6708773143428056,
          0.879946117968798,
          0.8808745167598088,
          0.9741666663770794,
          -0.8874965115923111,
          -0.12403926065668726,
          1.4859109330104527,
          0.02280886808632988,
          -1.1667746795991663,
          -0.978686343644049,
          -1.4082136206191738,
          -1.2271331376969463,
          -1.2464437921438107,
          -0.4073132003975011,
          1.3898802816681095,
          0.9273059334446105,
          0.39645412550268183,
          0.3916040681168114,
          1.7819762431059742,
          2.7889896150765257,
          -0.010367608731995102,
          -0.8704789634274461,
          2.2738070570513167,
          -0.723458871193624,
          -0.8191102049372018,
          0.46412661059334726,
          0.11437839854593614,
          0.8480965711153516,
          -0.4528516451940342,
          1.4002905273470163,
          -0.6214770108332643,
          0.25299312347365505,
          -2.538120488901347,
          -0.7338163679908073,
          -0.8294853006575363,
          -0.7021157089248629,
          1.258967519250579,
          -0.7460926635527159
         ]
        },
        {
         "connectgaps": false,
         "fill": "tozeroy",
         "line": {
          "color": "green",
          "dash": "solid",
          "shape": "linear",
          "width": 0.5
         },
         "mode": "lines",
         "name": "Spread",
         "showlegend": false,
         "type": "scatter",
         "x": [
          0,
          1,
          2,
          3,
          4,
          5,
          6,
          7,
          8,
          9,
          10,
          11,
          12,
          13,
          14,
          15,
          16,
          17,
          18,
          19,
          20,
          21,
          22,
          23,
          24,
          25,
          26,
          27,
          28,
          29,
          30,
          31,
          32,
          33,
          34,
          35,
          36,
          37,
          38,
          39,
          40,
          41,
          42,
          43,
          44,
          45,
          46,
          47,
          48,
          49,
          50,
          51,
          52,
          53,
          54,
          55,
          56,
          57,
          58,
          59,
          60,
          61,
          62,
          63,
          64,
          65,
          66,
          67,
          68,
          69,
          70,
          71,
          72,
          73,
          74,
          75,
          76,
          77,
          78,
          79,
          80,
          81,
          82,
          83,
          84,
          85,
          86,
          87,
          88,
          89,
          90,
          91,
          92,
          93,
          94,
          95,
          96,
          97,
          98,
          99
         ],
         "xaxis": "x2",
         "y": [
          "",
          "",
          1.7479274796564075,
          "",
          0.6434526872656344,
          0.22920403887860918,
          "",
          "",
          "",
          1.0666338437755871,
          "",
          0.9873358559205593,
          1.3795685399357822,
          0.7282063030101088,
          "",
          "",
          0.07612830782596247,
          2.8957278804557074,
          "",
          "",
          2.2104643820195045,
          0.47817546942193156,
          "",
          "",
          "",
          "",
          0.4967116413191367,
          0.27879049427292457,
          "",
          1.2290999823801243,
          "",
          "",
          "",
          1.4947011745706043,
          0.5989283389849849,
          "",
          0.15779108834649747,
          "",
          0.1467118555975786,
          "",
          0.5039648300185181,
          0.712727336559281,
          "",
          1.0085806970229698,
          "",
          "",
          "",
          1.426661226154224,
          0.185250902725677,
          "",
          2.166393766759724,
          0.8889255009244994,
          "",
          "",
          0.6423578839500672,
          2.5908852990938285,
          "",
          1.3878087353393118,
          0.8243882711746574,
          1.5268129193735103,
          1.712737835876834,
          2.7206477737631554,
          "",
          "",
          "",
          "",
          0.7849753928579101,
          0.6228855050417692,
          "",
          "",
          0.3584956591997994,
          "",
          0.9208236937694669,
          1.610228580412989,
          1.6707098020573206,
          2.6260251578560614,
          "",
          "",
          "",
          "",
          "",
          "",
          0.33314576446438593,
          1.1152562426593458,
          "",
          "",
          1.1811631285388609,
          "",
          0.4419844478199346,
          "",
          0.9834218772593123,
          "",
          0.15760511750532835,
          "",
          3.9332052729979883,
          1.9927078053414373,
          2.3709189686945864,
          0.6731455110677153,
          "",
          0.27761346132214054
         ],
         "yaxis": "y2"
        },
        {
         "connectgaps": false,
         "fill": "tozeroy",
         "line": {
          "color": "red",
          "dash": "solid",
          "shape": "linear",
          "width": 0.5
         },
         "mode": "lines",
         "name": "Spread",
         "showlegend": false,
         "type": "scatter",
         "x": [
          0,
          1,
          2,
          3,
          4,
          5,
          6,
          7,
          8,
          9,
          10,
          11,
          12,
          13,
          14,
          15,
          16,
          17,
          18,
          19,
          20,
          21,
          22,
          23,
          24,
          25,
          26,
          27,
          28,
          29,
          30,
          31,
          32,
          33,
          34,
          35,
          36,
          37,
          38,
          39,
          40,
          41,
          42,
          43,
          44,
          45,
          46,
          47,
          48,
          49,
          50,
          51,
          52,
          53,
          54,
          55,
          56,
          57,
          58,
          59,
          60,
          61,
          62,
          63,
          64,
          65,
          66,
          67,
          68,
          69,
          70,
          71,
          72,
          73,
          74,
          75,
          76,
          77,
          78,
          79,
          80,
          81,
          82,
          83,
          84,
          85,
          86,
          87,
          88,
          89,
          90,
          91,
          92,
          93,
          94,
          95,
          96,
          97,
          98,
          99
         ],
         "xaxis": "x2",
         "y": [
          -1.2667553418757924,
          -1.6188029837208768,
          "",
          -0.45539475303693366,
          "",
          "",
          -1.398734626944519,
          -0.3639796056896545,
          -0.9376717851967621,
          "",
          -0.44980428100871805,
          "",
          "",
          "",
          -1.1467907561797746,
          -0.8150590985034389,
          "",
          "",
          -0.774646082365703,
          -2.750845890553778,
          "",
          "",
          -1.0112113458647403,
          -0.8605338825313816,
          -0.6478891427013415,
          -0.14841779436038693,
          "",
          "",
          -0.1081068604058435,
          "",
          -1.871669475460675,
          -0.8661135201546198,
          -0.354643993358947,
          "",
          "",
          -1.8194179034062623,
          "",
          -1.5541447959854189,
          "",
          -2.180866641124096,
          "",
          "",
          -0.5472491680995833,
          "",
          -2.5354371985930384,
          -0.09557225124411495,
          -1.47250224793058,
          "",
          "",
          -0.8895850503027876,
          "",
          "",
          -2.46741914568115,
          -2.980859557253078,
          "",
          "",
          -0.972073851559533,
          "",
          "",
          "",
          "",
          "",
          -0.23911363967011534,
          -1.6303485485288085,
          -1.2742341697647515,
          -0.6047160594919816,
          "",
          "",
          -1.4305166976508128,
          -0.011016231033904034,
          "",
          -0.3828948131883517,
          "",
          "",
          "",
          "",
          -1.4094730200642915,
          -1.7919306992148114,
          -0.30858214590725563,
          -0.5070838139058268,
          -1.4505693737043257,
          -3.4086248216407258,
          "",
          "",
          -3.226769111898394,
          -0.45449104452984435,
          "",
          -0.09866839461641441,
          "",
          -0.7560486211541972,
          "",
          -0.10305454443239914,
          "",
          -2.4182105614783986,
          "",
          "",
          "",
          "",
          -2.6568141384177233,
          ""
         ],
         "yaxis": "y2"
        }
       ],
       "layout": {
        "hovermode": "x",
        "legend": {
         "bgcolor": "#F5F6F9",
         "font": {
          "color": "#4D5663"
         }
        },
        "paper_bgcolor": "#F5F6F9",
        "plot_bgcolor": "#F5F6F9",
        "template": {
         "data": {
          "bar": [
           {
            "error_x": {
             "color": "#2a3f5f"
            },
            "error_y": {
             "color": "#2a3f5f"
            },
            "marker": {
             "line": {
              "color": "#E5ECF6",
              "width": 0.5
             }
            },
            "type": "bar"
           }
          ],
          "barpolar": [
           {
            "marker": {
             "line": {
              "color": "#E5ECF6",
              "width": 0.5
             }
            },
            "type": "barpolar"
           }
          ],
          "carpet": [
           {
            "aaxis": {
             "endlinecolor": "#2a3f5f",
             "gridcolor": "white",
             "linecolor": "white",
             "minorgridcolor": "white",
             "startlinecolor": "#2a3f5f"
            },
            "baxis": {
             "endlinecolor": "#2a3f5f",
             "gridcolor": "white",
             "linecolor": "white",
             "minorgridcolor": "white",
             "startlinecolor": "#2a3f5f"
            },
            "type": "carpet"
           }
          ],
          "choropleth": [
           {
            "colorbar": {
             "outlinewidth": 0,
             "ticks": ""
            },
            "type": "choropleth"
           }
          ],
          "contour": [
           {
            "colorbar": {
             "outlinewidth": 0,
             "ticks": ""
            },
            "colorscale": [
             [
              0,
              "#0d0887"
             ],
             [
              0.1111111111111111,
              "#46039f"
             ],
             [
              0.2222222222222222,
              "#7201a8"
             ],
             [
              0.3333333333333333,
              "#9c179e"
             ],
             [
              0.4444444444444444,
              "#bd3786"
             ],
             [
              0.5555555555555556,
              "#d8576b"
             ],
             [
              0.6666666666666666,
              "#ed7953"
             ],
             [
              0.7777777777777778,
              "#fb9f3a"
             ],
             [
              0.8888888888888888,
              "#fdca26"
             ],
             [
              1,
              "#f0f921"
             ]
            ],
            "type": "contour"
           }
          ],
          "contourcarpet": [
           {
            "colorbar": {
             "outlinewidth": 0,
             "ticks": ""
            },
            "type": "contourcarpet"
           }
          ],
          "heatmap": [
           {
            "colorbar": {
             "outlinewidth": 0,
             "ticks": ""
            },
            "colorscale": [
             [
              0,
              "#0d0887"
             ],
             [
              0.1111111111111111,
              "#46039f"
             ],
             [
              0.2222222222222222,
              "#7201a8"
             ],
             [
              0.3333333333333333,
              "#9c179e"
             ],
             [
              0.4444444444444444,
              "#bd3786"
             ],
             [
              0.5555555555555556,
              "#d8576b"
             ],
             [
              0.6666666666666666,
              "#ed7953"
             ],
             [
              0.7777777777777778,
              "#fb9f3a"
             ],
             [
              0.8888888888888888,
              "#fdca26"
             ],
             [
              1,
              "#f0f921"
             ]
            ],
            "type": "heatmap"
           }
          ],
          "heatmapgl": [
           {
            "colorbar": {
             "outlinewidth": 0,
             "ticks": ""
            },
            "colorscale": [
             [
              0,
              "#0d0887"
             ],
             [
              0.1111111111111111,
              "#46039f"
             ],
             [
              0.2222222222222222,
              "#7201a8"
             ],
             [
              0.3333333333333333,
              "#9c179e"
             ],
             [
              0.4444444444444444,
              "#bd3786"
             ],
             [
              0.5555555555555556,
              "#d8576b"
             ],
             [
              0.6666666666666666,
              "#ed7953"
             ],
             [
              0.7777777777777778,
              "#fb9f3a"
             ],
             [
              0.8888888888888888,
              "#fdca26"
             ],
             [
              1,
              "#f0f921"
             ]
            ],
            "type": "heatmapgl"
           }
          ],
          "histogram": [
           {
            "marker": {
             "colorbar": {
              "outlinewidth": 0,
              "ticks": ""
             }
            },
            "type": "histogram"
           }
          ],
          "histogram2d": [
           {
            "colorbar": {
             "outlinewidth": 0,
             "ticks": ""
            },
            "colorscale": [
             [
              0,
              "#0d0887"
             ],
             [
              0.1111111111111111,
              "#46039f"
             ],
             [
              0.2222222222222222,
              "#7201a8"
             ],
             [
              0.3333333333333333,
              "#9c179e"
             ],
             [
              0.4444444444444444,
              "#bd3786"
             ],
             [
              0.5555555555555556,
              "#d8576b"
             ],
             [
              0.6666666666666666,
              "#ed7953"
             ],
             [
              0.7777777777777778,
              "#fb9f3a"
             ],
             [
              0.8888888888888888,
              "#fdca26"
             ],
             [
              1,
              "#f0f921"
             ]
            ],
            "type": "histogram2d"
           }
          ],
          "histogram2dcontour": [
           {
            "colorbar": {
             "outlinewidth": 0,
             "ticks": ""
            },
            "colorscale": [
             [
              0,
              "#0d0887"
             ],
             [
              0.1111111111111111,
              "#46039f"
             ],
             [
              0.2222222222222222,
              "#7201a8"
             ],
             [
              0.3333333333333333,
              "#9c179e"
             ],
             [
              0.4444444444444444,
              "#bd3786"
             ],
             [
              0.5555555555555556,
              "#d8576b"
             ],
             [
              0.6666666666666666,
              "#ed7953"
             ],
             [
              0.7777777777777778,
              "#fb9f3a"
             ],
             [
              0.8888888888888888,
              "#fdca26"
             ],
             [
              1,
              "#f0f921"
             ]
            ],
            "type": "histogram2dcontour"
           }
          ],
          "mesh3d": [
           {
            "colorbar": {
             "outlinewidth": 0,
             "ticks": ""
            },
            "type": "mesh3d"
           }
          ],
          "parcoords": [
           {
            "line": {
             "colorbar": {
              "outlinewidth": 0,
              "ticks": ""
             }
            },
            "type": "parcoords"
           }
          ],
          "pie": [
           {
            "automargin": true,
            "type": "pie"
           }
          ],
          "scatter": [
           {
            "marker": {
             "colorbar": {
              "outlinewidth": 0,
              "ticks": ""
             }
            },
            "type": "scatter"
           }
          ],
          "scatter3d": [
           {
            "line": {
             "colorbar": {
              "outlinewidth": 0,
              "ticks": ""
             }
            },
            "marker": {
             "colorbar": {
              "outlinewidth": 0,
              "ticks": ""
             }
            },
            "type": "scatter3d"
           }
          ],
          "scattercarpet": [
           {
            "marker": {
             "colorbar": {
              "outlinewidth": 0,
              "ticks": ""
             }
            },
            "type": "scattercarpet"
           }
          ],
          "scattergeo": [
           {
            "marker": {
             "colorbar": {
              "outlinewidth": 0,
              "ticks": ""
             }
            },
            "type": "scattergeo"
           }
          ],
          "scattergl": [
           {
            "marker": {
             "colorbar": {
              "outlinewidth": 0,
              "ticks": ""
             }
            },
            "type": "scattergl"
           }
          ],
          "scattermapbox": [
           {
            "marker": {
             "colorbar": {
              "outlinewidth": 0,
              "ticks": ""
             }
            },
            "type": "scattermapbox"
           }
          ],
          "scatterpolar": [
           {
            "marker": {
             "colorbar": {
              "outlinewidth": 0,
              "ticks": ""
             }
            },
            "type": "scatterpolar"
           }
          ],
          "scatterpolargl": [
           {
            "marker": {
             "colorbar": {
              "outlinewidth": 0,
              "ticks": ""
             }
            },
            "type": "scatterpolargl"
           }
          ],
          "scatterternary": [
           {
            "marker": {
             "colorbar": {
              "outlinewidth": 0,
              "ticks": ""
             }
            },
            "type": "scatterternary"
           }
          ],
          "surface": [
           {
            "colorbar": {
             "outlinewidth": 0,
             "ticks": ""
            },
            "colorscale": [
             [
              0,
              "#0d0887"
             ],
             [
              0.1111111111111111,
              "#46039f"
             ],
             [
              0.2222222222222222,
              "#7201a8"
             ],
             [
              0.3333333333333333,
              "#9c179e"
             ],
             [
              0.4444444444444444,
              "#bd3786"
             ],
             [
              0.5555555555555556,
              "#d8576b"
             ],
             [
              0.6666666666666666,
              "#ed7953"
             ],
             [
              0.7777777777777778,
              "#fb9f3a"
             ],
             [
              0.8888888888888888,
              "#fdca26"
             ],
             [
              1,
              "#f0f921"
             ]
            ],
            "type": "surface"
           }
          ],
          "table": [
           {
            "cells": {
             "fill": {
              "color": "#EBF0F8"
             },
             "line": {
              "color": "white"
             }
            },
            "header": {
             "fill": {
              "color": "#C8D4E3"
             },
             "line": {
              "color": "white"
             }
            },
            "type": "table"
           }
          ]
         },
         "layout": {
          "annotationdefaults": {
           "arrowcolor": "#2a3f5f",
           "arrowhead": 0,
           "arrowwidth": 1
          },
          "coloraxis": {
           "colorbar": {
            "outlinewidth": 0,
            "ticks": ""
           }
          },
          "colorscale": {
           "diverging": [
            [
             0,
             "#8e0152"
            ],
            [
             0.1,
             "#c51b7d"
            ],
            [
             0.2,
             "#de77ae"
            ],
            [
             0.3,
             "#f1b6da"
            ],
            [
             0.4,
             "#fde0ef"
            ],
            [
             0.5,
             "#f7f7f7"
            ],
            [
             0.6,
             "#e6f5d0"
            ],
            [
             0.7,
             "#b8e186"
            ],
            [
             0.8,
             "#7fbc41"
            ],
            [
             0.9,
             "#4d9221"
            ],
            [
             1,
             "#276419"
            ]
           ],
           "sequential": [
            [
             0,
             "#0d0887"
            ],
            [
             0.1111111111111111,
             "#46039f"
            ],
            [
             0.2222222222222222,
             "#7201a8"
            ],
            [
             0.3333333333333333,
             "#9c179e"
            ],
            [
             0.4444444444444444,
             "#bd3786"
            ],
            [
             0.5555555555555556,
             "#d8576b"
            ],
            [
             0.6666666666666666,
             "#ed7953"
            ],
            [
             0.7777777777777778,
             "#fb9f3a"
            ],
            [
             0.8888888888888888,
             "#fdca26"
            ],
            [
             1,
             "#f0f921"
            ]
           ],
           "sequentialminus": [
            [
             0,
             "#0d0887"
            ],
            [
             0.1111111111111111,
             "#46039f"
            ],
            [
             0.2222222222222222,
             "#7201a8"
            ],
            [
             0.3333333333333333,
             "#9c179e"
            ],
            [
             0.4444444444444444,
             "#bd3786"
            ],
            [
             0.5555555555555556,
             "#d8576b"
            ],
            [
             0.6666666666666666,
             "#ed7953"
            ],
            [
             0.7777777777777778,
             "#fb9f3a"
            ],
            [
             0.8888888888888888,
             "#fdca26"
            ],
            [
             1,
             "#f0f921"
            ]
           ]
          },
          "colorway": [
           "#636efa",
           "#EF553B",
           "#00cc96",
           "#ab63fa",
           "#FFA15A",
           "#19d3f3",
           "#FF6692",
           "#B6E880",
           "#FF97FF",
           "#FECB52"
          ],
          "font": {
           "color": "#2a3f5f"
          },
          "geo": {
           "bgcolor": "white",
           "lakecolor": "white",
           "landcolor": "#E5ECF6",
           "showlakes": true,
           "showland": true,
           "subunitcolor": "white"
          },
          "hoverlabel": {
           "align": "left"
          },
          "hovermode": "closest",
          "mapbox": {
           "style": "light"
          },
          "paper_bgcolor": "white",
          "plot_bgcolor": "#E5ECF6",
          "polar": {
           "angularaxis": {
            "gridcolor": "white",
            "linecolor": "white",
            "ticks": ""
           },
           "bgcolor": "#E5ECF6",
           "radialaxis": {
            "gridcolor": "white",
            "linecolor": "white",
            "ticks": ""
           }
          },
          "scene": {
           "xaxis": {
            "backgroundcolor": "#E5ECF6",
            "gridcolor": "white",
            "gridwidth": 2,
            "linecolor": "white",
            "showbackground": true,
            "ticks": "",
            "zerolinecolor": "white"
           },
           "yaxis": {
            "backgroundcolor": "#E5ECF6",
            "gridcolor": "white",
            "gridwidth": 2,
            "linecolor": "white",
            "showbackground": true,
            "ticks": "",
            "zerolinecolor": "white"
           },
           "zaxis": {
            "backgroundcolor": "#E5ECF6",
            "gridcolor": "white",
            "gridwidth": 2,
            "linecolor": "white",
            "showbackground": true,
            "ticks": "",
            "zerolinecolor": "white"
           }
          },
          "shapedefaults": {
           "line": {
            "color": "#2a3f5f"
           }
          },
          "ternary": {
           "aaxis": {
            "gridcolor": "white",
            "linecolor": "white",
            "ticks": ""
           },
           "baxis": {
            "gridcolor": "white",
            "linecolor": "white",
            "ticks": ""
           },
           "bgcolor": "#E5ECF6",
           "caxis": {
            "gridcolor": "white",
            "linecolor": "white",
            "ticks": ""
           }
          },
          "title": {
           "x": 0.05
          },
          "xaxis": {
           "automargin": true,
           "gridcolor": "white",
           "linecolor": "white",
           "ticks": "",
           "title": {
            "standoff": 15
           },
           "zerolinecolor": "white",
           "zerolinewidth": 2
          },
          "yaxis": {
           "automargin": true,
           "gridcolor": "white",
           "linecolor": "white",
           "ticks": "",
           "title": {
            "standoff": 15
           },
           "zerolinecolor": "white",
           "zerolinewidth": 2
          }
         }
        },
        "title": {
         "font": {
          "color": "#4D5663"
         }
        },
        "xaxis": {
         "gridcolor": "#E1E5ED",
         "showgrid": true,
         "tickfont": {
          "color": "#4D5663"
         },
         "title": {
          "font": {
           "color": "#4D5663"
          },
          "text": ""
         },
         "zerolinecolor": "#E1E5ED"
        },
        "xaxis2": {
         "anchor": "y2",
         "gridcolor": "#E1E5ED",
         "showgrid": true,
         "showticklabels": false,
         "tickfont": {
          "color": "#4D5663"
         },
         "title": {
          "font": {
           "color": "#4D5663"
          },
          "text": ""
         },
         "zerolinecolor": "#E1E5ED"
        },
        "yaxis": {
         "domain": [
          0.3,
          1
         ],
         "gridcolor": "#E1E5ED",
         "showgrid": true,
         "tickfont": {
          "color": "#4D5663"
         },
         "title": {
          "font": {
           "color": "#4D5663"
          },
          "text": ""
         },
         "zerolinecolor": "#E1E5ED"
        },
        "yaxis2": {
         "domain": [
          0,
          0.25
         ],
         "gridcolor": "#E1E5ED",
         "showgrid": true,
         "tickfont": {
          "color": "#4D5663"
         },
         "title": {
          "font": {
           "color": "#4D5663"
          },
          "text": "Spread"
         },
         "zerolinecolor": "#E1E5ED"
        }
       }
      },
      "text/html": [
       "<div>\n",
       "        \n",
       "        \n",
       "            <div id=\"39fc9aa6-b361-4070-a9b8-620ffd0a7bfd\" class=\"plotly-graph-div\" style=\"height:525px; width:100%;\"></div>\n",
       "            <script type=\"text/javascript\">\n",
       "                require([\"plotly\"], function(Plotly) {\n",
       "                    window.PLOTLYENV=window.PLOTLYENV || {};\n",
       "                    window.PLOTLYENV.BASE_URL='https://plot.ly';\n",
       "                    \n",
       "                if (document.getElementById(\"39fc9aa6-b361-4070-a9b8-620ffd0a7bfd\")) {\n",
       "                    Plotly.newPlot(\n",
       "                        '39fc9aa6-b361-4070-a9b8-620ffd0a7bfd',\n",
       "                        [{\"line\": {\"color\": \"rgba(255, 153, 51, 1.0)\", \"dash\": \"solid\", \"shape\": \"linear\", \"width\": 1.3}, \"mode\": \"lines\", \"name\": \"B\", \"text\": \"\", \"type\": \"scatter\", \"x\": [0.3410614466753071, -1.1035524050054597, 0.01497802970479452, -0.4923405339752979, -0.711740649467883, 0.7611113231300444, -0.32899989496145043, -1.0003056778373516, -1.144108410930388, -0.7187659800223282, -0.8827891809503372, 0.16527534978219205, 0.33791501376902755, 0.2845952287777885, -2.031762480119184, 0.009561136766891088, -0.37499414498681033, 0.7436276548650762, -0.08613852640362644, -1.788868487410151, 0.6091820625025955, -0.540546683835764, -1.3830705697321766, -0.22776248598870943, 0.04791488496871383, 0.14734661797990722, 0.6837492096990183, 0.4909535703078963, -0.5763766572692686, 1.7556808706923992, -0.21643572049270607, -0.08138650173686049, -0.41988696887517796, 0.5896403672067946, -0.15796893354889477, 0.03098947180102704, -1.1741362797157253, -0.5288212423479839, -1.0461934563699007, -1.8047730897321894, -0.18922230488345462, 0.4448399483986472, 0.09802387104390282, 0.3675012254291077, -2.199418690052648, 0.9672627288932981, -1.6104735507037404, 1.0793883903440407, -1.7442712770335072, -0.2006977228942966, 1.1604057740322227, 0.8380871794918501, 0.3434621276866279, -1.4104992622520467, 1.311238947350882, 0.9412950281879889, -0.3350723872072907, 0.6951180795417036, -0.9121582740527129, 0.18765291170273096, -0.690685295257295, 0.8852386085818393, 0.4317636746726903, -0.7504024305600105, -0.39335965300494274, 0.3694506068850978, -0.10252111873440109, 0.49884624438508196, 0.055394235359639964, 0.011792637052425847, -0.8082790203993668, -1.3615811568324008, -0.4873899268497068, 0.38309544271604257, 0.4242660099135097, 2.2187119574585603, -0.01959273839618212, -0.8646247657702009, 0.08787197959542621, -0.1154797457890154, 0.33140686940164854, -0.6196352065642001, 0.3227781557323908, 0.2447772792318997, -0.9529620548470774, -1.1779499157234683, 0.362052923601659, 0.36545821597693284, 0.5563628463658707, 0.09204794996115445, 0.5305702320652781, 1.2972359829146172, -0.463871893327936, -2.1652174380047438, 1.3950847840966412, 1.25889143735063, 1.5414336680370502, -0.028970197857147585, -1.3978466191671446, -0.4684792022305753], \"y\": [1.6078167885510994, 0.5152505787154171, -1.732949449951613, -0.036945780938364245, -1.3551933367335174, 0.5319072842514352, 1.0697347319830688, -0.6363260721476971, -0.20643662573362598, -1.7853998237979154, -0.43298489994161915, -0.8220605061383672, -1.0416535261667546, -0.4436110742323203, -0.8849717239394095, 0.82462023527033, -0.4511224528127728, -2.1521002255906314, 0.6885075559620766, 0.9619774031436268, -1.601282319516909, -1.0187221532576956, -0.37185922386743625, 0.6327713965426722, 0.6958040276700553, 0.29576441234029416, 0.1870375683798816, 0.21216307603497175, -0.46826979686342507, 0.5265808883122749, 1.655233754967969, 0.7847270184177594, -0.06524297551623097, -0.9050608073638097, -0.7568972725338796, 1.8504073752072894, -1.3319273680622228, 1.025323553637435, -1.1929053119674793, 0.37609355139190637, -0.6931871349019727, -0.26788738816063384, 0.6452730391434862, -0.6410794715938621, 0.33601850854039045, 1.062834980137413, -0.13797130277316041, -0.3472728358101834, -1.9295221797591842, 0.688887327408491, -1.0059879927275013, -0.050838321432649304, 2.810881273367778, 1.5703602950010316, 0.6688810634008149, -1.6495902709058397, 0.6370014643522423, -0.6926906557976084, -1.7365465452273703, -1.3391600076707793, -2.403423131134129, -1.8354091651813158, 0.6708773143428056, 0.879946117968798, 0.8808745167598088, 0.9741666663770794, -0.8874965115923111, -0.12403926065668726, 1.4859109330104527, 0.02280886808632988, -1.1667746795991663, -0.978686343644049, -1.4082136206191738, -1.2271331376969463, -1.2464437921438107, -0.4073132003975011, 1.3898802816681095, 0.9273059334446105, 0.39645412550268183, 0.3916040681168114, 1.7819762431059742, 2.7889896150765257, -0.010367608731995102, -0.8704789634274461, 2.2738070570513167, -0.723458871193624, -0.8191102049372018, 0.46412661059334726, 0.11437839854593614, 0.8480965711153516, -0.4528516451940342, 1.4002905273470163, -0.6214770108332643, 0.25299312347365505, -2.538120488901347, -0.7338163679908073, -0.8294853006575363, -0.7021157089248629, 1.258967519250579, -0.7460926635527159]}, {\"connectgaps\": false, \"fill\": \"tozeroy\", \"line\": {\"color\": \"green\", \"dash\": \"solid\", \"shape\": \"linear\", \"width\": 0.5}, \"mode\": \"lines\", \"name\": \"Spread\", \"showlegend\": false, \"type\": \"scatter\", \"x\": [0, 1, 2, 3, 4, 5, 6, 7, 8, 9, 10, 11, 12, 13, 14, 15, 16, 17, 18, 19, 20, 21, 22, 23, 24, 25, 26, 27, 28, 29, 30, 31, 32, 33, 34, 35, 36, 37, 38, 39, 40, 41, 42, 43, 44, 45, 46, 47, 48, 49, 50, 51, 52, 53, 54, 55, 56, 57, 58, 59, 60, 61, 62, 63, 64, 65, 66, 67, 68, 69, 70, 71, 72, 73, 74, 75, 76, 77, 78, 79, 80, 81, 82, 83, 84, 85, 86, 87, 88, 89, 90, 91, 92, 93, 94, 95, 96, 97, 98, 99], \"xaxis\": \"x2\", \"y\": [\"\", \"\", 1.7479274796564075, \"\", 0.6434526872656344, 0.22920403887860918, \"\", \"\", \"\", 1.0666338437755871, \"\", 0.9873358559205593, 1.3795685399357822, 0.7282063030101088, \"\", \"\", 0.07612830782596247, 2.8957278804557074, \"\", \"\", 2.2104643820195045, 0.47817546942193156, \"\", \"\", \"\", \"\", 0.4967116413191367, 0.27879049427292457, \"\", 1.2290999823801243, \"\", \"\", \"\", 1.4947011745706043, 0.5989283389849849, \"\", 0.15779108834649747, \"\", 0.1467118555975786, \"\", 0.5039648300185181, 0.712727336559281, \"\", 1.0085806970229698, \"\", \"\", \"\", 1.426661226154224, 0.185250902725677, \"\", 2.166393766759724, 0.8889255009244994, \"\", \"\", 0.6423578839500672, 2.5908852990938285, \"\", 1.3878087353393118, 0.8243882711746574, 1.5268129193735103, 1.712737835876834, 2.7206477737631554, \"\", \"\", \"\", \"\", 0.7849753928579101, 0.6228855050417692, \"\", \"\", 0.3584956591997994, \"\", 0.9208236937694669, 1.610228580412989, 1.6707098020573206, 2.6260251578560614, \"\", \"\", \"\", \"\", \"\", \"\", 0.33314576446438593, 1.1152562426593458, \"\", \"\", 1.1811631285388609, \"\", 0.4419844478199346, \"\", 0.9834218772593123, \"\", 0.15760511750532835, \"\", 3.9332052729979883, 1.9927078053414373, 2.3709189686945864, 0.6731455110677153, \"\", 0.27761346132214054], \"yaxis\": \"y2\"}, {\"connectgaps\": false, \"fill\": \"tozeroy\", \"line\": {\"color\": \"red\", \"dash\": \"solid\", \"shape\": \"linear\", \"width\": 0.5}, \"mode\": \"lines\", \"name\": \"Spread\", \"showlegend\": false, \"type\": \"scatter\", \"x\": [0, 1, 2, 3, 4, 5, 6, 7, 8, 9, 10, 11, 12, 13, 14, 15, 16, 17, 18, 19, 20, 21, 22, 23, 24, 25, 26, 27, 28, 29, 30, 31, 32, 33, 34, 35, 36, 37, 38, 39, 40, 41, 42, 43, 44, 45, 46, 47, 48, 49, 50, 51, 52, 53, 54, 55, 56, 57, 58, 59, 60, 61, 62, 63, 64, 65, 66, 67, 68, 69, 70, 71, 72, 73, 74, 75, 76, 77, 78, 79, 80, 81, 82, 83, 84, 85, 86, 87, 88, 89, 90, 91, 92, 93, 94, 95, 96, 97, 98, 99], \"xaxis\": \"x2\", \"y\": [-1.2667553418757924, -1.6188029837208768, \"\", -0.45539475303693366, \"\", \"\", -1.398734626944519, -0.3639796056896545, -0.9376717851967621, \"\", -0.44980428100871805, \"\", \"\", \"\", -1.1467907561797746, -0.8150590985034389, \"\", \"\", -0.774646082365703, -2.750845890553778, \"\", \"\", -1.0112113458647403, -0.8605338825313816, -0.6478891427013415, -0.14841779436038693, \"\", \"\", -0.1081068604058435, \"\", -1.871669475460675, -0.8661135201546198, -0.354643993358947, \"\", \"\", -1.8194179034062623, \"\", -1.5541447959854189, \"\", -2.180866641124096, \"\", \"\", -0.5472491680995833, \"\", -2.5354371985930384, -0.09557225124411495, -1.47250224793058, \"\", \"\", -0.8895850503027876, \"\", \"\", -2.46741914568115, -2.980859557253078, \"\", \"\", -0.972073851559533, \"\", \"\", \"\", \"\", \"\", -0.23911363967011534, -1.6303485485288085, -1.2742341697647515, -0.6047160594919816, \"\", \"\", -1.4305166976508128, -0.011016231033904034, \"\", -0.3828948131883517, \"\", \"\", \"\", \"\", -1.4094730200642915, -1.7919306992148114, -0.30858214590725563, -0.5070838139058268, -1.4505693737043257, -3.4086248216407258, \"\", \"\", -3.226769111898394, -0.45449104452984435, \"\", -0.09866839461641441, \"\", -0.7560486211541972, \"\", -0.10305454443239914, \"\", -2.4182105614783986, \"\", \"\", \"\", \"\", -2.6568141384177233, \"\"], \"yaxis\": \"y2\"}],\n",
       "                        {\"hovermode\": \"x\", \"legend\": {\"bgcolor\": \"#F5F6F9\", \"font\": {\"color\": \"#4D5663\"}}, \"paper_bgcolor\": \"#F5F6F9\", \"plot_bgcolor\": \"#F5F6F9\", \"template\": {\"data\": {\"bar\": [{\"error_x\": {\"color\": \"#2a3f5f\"}, \"error_y\": {\"color\": \"#2a3f5f\"}, \"marker\": {\"line\": {\"color\": \"#E5ECF6\", \"width\": 0.5}}, \"type\": \"bar\"}], \"barpolar\": [{\"marker\": {\"line\": {\"color\": \"#E5ECF6\", \"width\": 0.5}}, \"type\": \"barpolar\"}], \"carpet\": [{\"aaxis\": {\"endlinecolor\": \"#2a3f5f\", \"gridcolor\": \"white\", \"linecolor\": \"white\", \"minorgridcolor\": \"white\", \"startlinecolor\": \"#2a3f5f\"}, \"baxis\": {\"endlinecolor\": \"#2a3f5f\", \"gridcolor\": \"white\", \"linecolor\": \"white\", \"minorgridcolor\": \"white\", \"startlinecolor\": \"#2a3f5f\"}, \"type\": \"carpet\"}], \"choropleth\": [{\"colorbar\": {\"outlinewidth\": 0, \"ticks\": \"\"}, \"type\": \"choropleth\"}], \"contour\": [{\"colorbar\": {\"outlinewidth\": 0, \"ticks\": \"\"}, \"colorscale\": [[0.0, \"#0d0887\"], [0.1111111111111111, \"#46039f\"], [0.2222222222222222, \"#7201a8\"], [0.3333333333333333, \"#9c179e\"], [0.4444444444444444, \"#bd3786\"], [0.5555555555555556, \"#d8576b\"], [0.6666666666666666, \"#ed7953\"], [0.7777777777777778, \"#fb9f3a\"], [0.8888888888888888, \"#fdca26\"], [1.0, \"#f0f921\"]], \"type\": \"contour\"}], \"contourcarpet\": [{\"colorbar\": {\"outlinewidth\": 0, \"ticks\": \"\"}, \"type\": \"contourcarpet\"}], \"heatmap\": [{\"colorbar\": {\"outlinewidth\": 0, \"ticks\": \"\"}, \"colorscale\": [[0.0, \"#0d0887\"], [0.1111111111111111, \"#46039f\"], [0.2222222222222222, \"#7201a8\"], [0.3333333333333333, \"#9c179e\"], [0.4444444444444444, \"#bd3786\"], [0.5555555555555556, \"#d8576b\"], [0.6666666666666666, \"#ed7953\"], [0.7777777777777778, \"#fb9f3a\"], [0.8888888888888888, \"#fdca26\"], [1.0, \"#f0f921\"]], \"type\": \"heatmap\"}], \"heatmapgl\": [{\"colorbar\": {\"outlinewidth\": 0, \"ticks\": \"\"}, \"colorscale\": [[0.0, \"#0d0887\"], [0.1111111111111111, \"#46039f\"], [0.2222222222222222, \"#7201a8\"], [0.3333333333333333, \"#9c179e\"], [0.4444444444444444, \"#bd3786\"], [0.5555555555555556, \"#d8576b\"], [0.6666666666666666, \"#ed7953\"], [0.7777777777777778, \"#fb9f3a\"], [0.8888888888888888, \"#fdca26\"], [1.0, \"#f0f921\"]], \"type\": \"heatmapgl\"}], \"histogram\": [{\"marker\": {\"colorbar\": {\"outlinewidth\": 0, \"ticks\": \"\"}}, \"type\": \"histogram\"}], \"histogram2d\": [{\"colorbar\": {\"outlinewidth\": 0, \"ticks\": \"\"}, \"colorscale\": [[0.0, \"#0d0887\"], [0.1111111111111111, \"#46039f\"], [0.2222222222222222, \"#7201a8\"], [0.3333333333333333, \"#9c179e\"], [0.4444444444444444, \"#bd3786\"], [0.5555555555555556, \"#d8576b\"], [0.6666666666666666, \"#ed7953\"], [0.7777777777777778, \"#fb9f3a\"], [0.8888888888888888, \"#fdca26\"], [1.0, \"#f0f921\"]], \"type\": \"histogram2d\"}], \"histogram2dcontour\": [{\"colorbar\": {\"outlinewidth\": 0, \"ticks\": \"\"}, \"colorscale\": [[0.0, \"#0d0887\"], [0.1111111111111111, \"#46039f\"], [0.2222222222222222, \"#7201a8\"], [0.3333333333333333, \"#9c179e\"], [0.4444444444444444, \"#bd3786\"], [0.5555555555555556, \"#d8576b\"], [0.6666666666666666, \"#ed7953\"], [0.7777777777777778, \"#fb9f3a\"], [0.8888888888888888, \"#fdca26\"], [1.0, \"#f0f921\"]], \"type\": \"histogram2dcontour\"}], \"mesh3d\": [{\"colorbar\": {\"outlinewidth\": 0, \"ticks\": \"\"}, \"type\": \"mesh3d\"}], \"parcoords\": [{\"line\": {\"colorbar\": {\"outlinewidth\": 0, \"ticks\": \"\"}}, \"type\": \"parcoords\"}], \"pie\": [{\"automargin\": true, \"type\": \"pie\"}], \"scatter\": [{\"marker\": {\"colorbar\": {\"outlinewidth\": 0, \"ticks\": \"\"}}, \"type\": \"scatter\"}], \"scatter3d\": [{\"line\": {\"colorbar\": {\"outlinewidth\": 0, \"ticks\": \"\"}}, \"marker\": {\"colorbar\": {\"outlinewidth\": 0, \"ticks\": \"\"}}, \"type\": \"scatter3d\"}], \"scattercarpet\": [{\"marker\": {\"colorbar\": {\"outlinewidth\": 0, \"ticks\": \"\"}}, \"type\": \"scattercarpet\"}], \"scattergeo\": [{\"marker\": {\"colorbar\": {\"outlinewidth\": 0, \"ticks\": \"\"}}, \"type\": \"scattergeo\"}], \"scattergl\": [{\"marker\": {\"colorbar\": {\"outlinewidth\": 0, \"ticks\": \"\"}}, \"type\": \"scattergl\"}], \"scattermapbox\": [{\"marker\": {\"colorbar\": {\"outlinewidth\": 0, \"ticks\": \"\"}}, \"type\": \"scattermapbox\"}], \"scatterpolar\": [{\"marker\": {\"colorbar\": {\"outlinewidth\": 0, \"ticks\": \"\"}}, \"type\": \"scatterpolar\"}], \"scatterpolargl\": [{\"marker\": {\"colorbar\": {\"outlinewidth\": 0, \"ticks\": \"\"}}, \"type\": \"scatterpolargl\"}], \"scatterternary\": [{\"marker\": {\"colorbar\": {\"outlinewidth\": 0, \"ticks\": \"\"}}, \"type\": \"scatterternary\"}], \"surface\": [{\"colorbar\": {\"outlinewidth\": 0, \"ticks\": \"\"}, \"colorscale\": [[0.0, \"#0d0887\"], [0.1111111111111111, \"#46039f\"], [0.2222222222222222, \"#7201a8\"], [0.3333333333333333, \"#9c179e\"], [0.4444444444444444, \"#bd3786\"], [0.5555555555555556, \"#d8576b\"], [0.6666666666666666, \"#ed7953\"], [0.7777777777777778, \"#fb9f3a\"], [0.8888888888888888, \"#fdca26\"], [1.0, \"#f0f921\"]], \"type\": \"surface\"}], \"table\": [{\"cells\": {\"fill\": {\"color\": \"#EBF0F8\"}, \"line\": {\"color\": \"white\"}}, \"header\": {\"fill\": {\"color\": \"#C8D4E3\"}, \"line\": {\"color\": \"white\"}}, \"type\": \"table\"}]}, \"layout\": {\"annotationdefaults\": {\"arrowcolor\": \"#2a3f5f\", \"arrowhead\": 0, \"arrowwidth\": 1}, \"coloraxis\": {\"colorbar\": {\"outlinewidth\": 0, \"ticks\": \"\"}}, \"colorscale\": {\"diverging\": [[0, \"#8e0152\"], [0.1, \"#c51b7d\"], [0.2, \"#de77ae\"], [0.3, \"#f1b6da\"], [0.4, \"#fde0ef\"], [0.5, \"#f7f7f7\"], [0.6, \"#e6f5d0\"], [0.7, \"#b8e186\"], [0.8, \"#7fbc41\"], [0.9, \"#4d9221\"], [1, \"#276419\"]], \"sequential\": [[0.0, \"#0d0887\"], [0.1111111111111111, \"#46039f\"], [0.2222222222222222, \"#7201a8\"], [0.3333333333333333, \"#9c179e\"], [0.4444444444444444, \"#bd3786\"], [0.5555555555555556, \"#d8576b\"], [0.6666666666666666, \"#ed7953\"], [0.7777777777777778, \"#fb9f3a\"], [0.8888888888888888, \"#fdca26\"], [1.0, \"#f0f921\"]], \"sequentialminus\": [[0.0, \"#0d0887\"], [0.1111111111111111, \"#46039f\"], [0.2222222222222222, \"#7201a8\"], [0.3333333333333333, \"#9c179e\"], [0.4444444444444444, \"#bd3786\"], [0.5555555555555556, \"#d8576b\"], [0.6666666666666666, \"#ed7953\"], [0.7777777777777778, \"#fb9f3a\"], [0.8888888888888888, \"#fdca26\"], [1.0, \"#f0f921\"]]}, \"colorway\": [\"#636efa\", \"#EF553B\", \"#00cc96\", \"#ab63fa\", \"#FFA15A\", \"#19d3f3\", \"#FF6692\", \"#B6E880\", \"#FF97FF\", \"#FECB52\"], \"font\": {\"color\": \"#2a3f5f\"}, \"geo\": {\"bgcolor\": \"white\", \"lakecolor\": \"white\", \"landcolor\": \"#E5ECF6\", \"showlakes\": true, \"showland\": true, \"subunitcolor\": \"white\"}, \"hoverlabel\": {\"align\": \"left\"}, \"hovermode\": \"closest\", \"mapbox\": {\"style\": \"light\"}, \"paper_bgcolor\": \"white\", \"plot_bgcolor\": \"#E5ECF6\", \"polar\": {\"angularaxis\": {\"gridcolor\": \"white\", \"linecolor\": \"white\", \"ticks\": \"\"}, \"bgcolor\": \"#E5ECF6\", \"radialaxis\": {\"gridcolor\": \"white\", \"linecolor\": \"white\", \"ticks\": \"\"}}, \"scene\": {\"xaxis\": {\"backgroundcolor\": \"#E5ECF6\", \"gridcolor\": \"white\", \"gridwidth\": 2, \"linecolor\": \"white\", \"showbackground\": true, \"ticks\": \"\", \"zerolinecolor\": \"white\"}, \"yaxis\": {\"backgroundcolor\": \"#E5ECF6\", \"gridcolor\": \"white\", \"gridwidth\": 2, \"linecolor\": \"white\", \"showbackground\": true, \"ticks\": \"\", \"zerolinecolor\": \"white\"}, \"zaxis\": {\"backgroundcolor\": \"#E5ECF6\", \"gridcolor\": \"white\", \"gridwidth\": 2, \"linecolor\": \"white\", \"showbackground\": true, \"ticks\": \"\", \"zerolinecolor\": \"white\"}}, \"shapedefaults\": {\"line\": {\"color\": \"#2a3f5f\"}}, \"ternary\": {\"aaxis\": {\"gridcolor\": \"white\", \"linecolor\": \"white\", \"ticks\": \"\"}, \"baxis\": {\"gridcolor\": \"white\", \"linecolor\": \"white\", \"ticks\": \"\"}, \"bgcolor\": \"#E5ECF6\", \"caxis\": {\"gridcolor\": \"white\", \"linecolor\": \"white\", \"ticks\": \"\"}}, \"title\": {\"x\": 0.05}, \"xaxis\": {\"automargin\": true, \"gridcolor\": \"white\", \"linecolor\": \"white\", \"ticks\": \"\", \"title\": {\"standoff\": 15}, \"zerolinecolor\": \"white\", \"zerolinewidth\": 2}, \"yaxis\": {\"automargin\": true, \"gridcolor\": \"white\", \"linecolor\": \"white\", \"ticks\": \"\", \"title\": {\"standoff\": 15}, \"zerolinecolor\": \"white\", \"zerolinewidth\": 2}}}, \"title\": {\"font\": {\"color\": \"#4D5663\"}}, \"xaxis\": {\"gridcolor\": \"#E1E5ED\", \"showgrid\": true, \"tickfont\": {\"color\": \"#4D5663\"}, \"title\": {\"font\": {\"color\": \"#4D5663\"}, \"text\": \"\"}, \"zerolinecolor\": \"#E1E5ED\"}, \"xaxis2\": {\"anchor\": \"y2\", \"gridcolor\": \"#E1E5ED\", \"showgrid\": true, \"showticklabels\": false, \"tickfont\": {\"color\": \"#4D5663\"}, \"title\": {\"font\": {\"color\": \"#4D5663\"}, \"text\": \"\"}, \"zerolinecolor\": \"#E1E5ED\"}, \"yaxis\": {\"domain\": [0.3, 1], \"gridcolor\": \"#E1E5ED\", \"showgrid\": true, \"tickfont\": {\"color\": \"#4D5663\"}, \"title\": {\"font\": {\"color\": \"#4D5663\"}, \"text\": \"\"}, \"zerolinecolor\": \"#E1E5ED\"}, \"yaxis2\": {\"domain\": [0, 0.25], \"gridcolor\": \"#E1E5ED\", \"showgrid\": true, \"tickfont\": {\"color\": \"#4D5663\"}, \"title\": {\"font\": {\"color\": \"#4D5663\"}, \"text\": \"Spread\"}, \"zerolinecolor\": \"#E1E5ED\"}},\n",
       "                        {\"showLink\": true, \"linkText\": \"Export to plot.ly\", \"plotlyServerURL\": \"https://plot.ly\", \"responsive\": true}\n",
       "                    ).then(function(){\n",
       "                            \n",
       "var gd = document.getElementById('39fc9aa6-b361-4070-a9b8-620ffd0a7bfd');\n",
       "var x = new MutationObserver(function (mutations, observer) {{\n",
       "        var display = window.getComputedStyle(gd).display;\n",
       "        if (!display || display === 'none') {{\n",
       "            console.log([gd, 'removed!']);\n",
       "            Plotly.purge(gd);\n",
       "            observer.disconnect();\n",
       "        }}\n",
       "}});\n",
       "\n",
       "// Listen for the removal of the full notebook cells\n",
       "var notebookContainer = gd.closest('#notebook-container');\n",
       "if (notebookContainer) {{\n",
       "    x.observe(notebookContainer, {childList: true});\n",
       "}}\n",
       "\n",
       "// Listen for the clearing of the current output cell\n",
       "var outputEl = gd.closest('.output');\n",
       "if (outputEl) {{\n",
       "    x.observe(outputEl, {childList: true});\n",
       "}}\n",
       "\n",
       "                        })\n",
       "                };\n",
       "                });\n",
       "            </script>\n",
       "        </div>"
      ]
     },
     "metadata": {},
     "output_type": "display_data"
    }
   ],
   "source": [
    "df.iplot(kind='spread', x='A', y='B', mode='lines')"
   ]
  },
  {
   "cell_type": "markdown",
   "metadata": {},
   "source": [
    "# iplot + bubble"
   ]
  },
  {
   "cell_type": "code",
   "execution_count": 56,
   "metadata": {},
   "outputs": [
    {
     "data": {
      "application/vnd.plotly.v1+json": {
       "config": {
        "linkText": "Export to plot.ly",
        "plotlyServerURL": "https://plot.ly",
        "showLink": true
       },
       "data": [
        {
         "marker": {
          "color": [
           "rgb(255, 153, 51)",
           "rgb(55, 128, 191)",
           "rgb(50, 171, 96)",
           "rgb(128, 0, 128)",
           "rgb(219, 64, 82)",
           "rgb(0, 128, 128)",
           "rgb(255, 255, 51)",
           "rgb(128, 128, 0)",
           "rgb(251, 128, 114)",
           "rgb(128, 177, 211)"
          ],
          "line": {
           "width": 1.3
          },
          "size": [
           53,
           69,
           37,
           63,
           61,
           64,
           82,
           58,
           112,
           50,
           65,
           43,
           63,
           52,
           59,
           45,
           71,
           50,
           63,
           20,
           90,
           57,
           83,
           41,
           45,
           58,
           17,
           73,
           73,
           74,
           83,
           56,
           47,
           68,
           48,
           69,
           78,
           50,
           70,
           37,
           55,
           54,
           83,
           56,
           68,
           82,
           38,
           58,
           62,
           64,
           72,
           42,
           12,
           38,
           54,
           52,
           46,
           90,
           37,
           60,
           54,
           77,
           37,
           83,
           40,
           69,
           73,
           87,
           75,
           26,
           76,
           53,
           62,
           64,
           41,
           58,
           99,
           57,
           87,
           41,
           76,
           51,
           52,
           49,
           89,
           47,
           57,
           65,
           75,
           52,
           68,
           71,
           37,
           67,
           85,
           69,
           58,
           71,
           32,
           51
          ],
          "symbol": "circle"
         },
         "mode": "markers",
         "text": "",
         "type": "scatter",
         "x": [
          0.3410614466753071,
          -1.1035524050054597,
          0.01497802970479452,
          -0.4923405339752979,
          -0.711740649467883,
          0.7611113231300444,
          -0.32899989496145043,
          -1.0003056778373516,
          -1.144108410930388,
          -0.7187659800223282,
          -0.8827891809503372,
          0.16527534978219205,
          0.33791501376902755,
          0.2845952287777885,
          -2.031762480119184,
          0.009561136766891088,
          -0.37499414498681033,
          0.7436276548650762,
          -0.08613852640362644,
          -1.788868487410151,
          0.6091820625025955,
          -0.540546683835764,
          -1.3830705697321766,
          -0.22776248598870943,
          0.04791488496871383,
          0.14734661797990722,
          0.6837492096990183,
          0.4909535703078963,
          -0.5763766572692686,
          1.7556808706923992,
          -0.21643572049270607,
          -0.08138650173686049,
          -0.41988696887517796,
          0.5896403672067946,
          -0.15796893354889477,
          0.03098947180102704,
          -1.1741362797157253,
          -0.5288212423479839,
          -1.0461934563699007,
          -1.8047730897321894,
          -0.18922230488345462,
          0.4448399483986472,
          0.09802387104390282,
          0.3675012254291077,
          -2.199418690052648,
          0.9672627288932981,
          -1.6104735507037404,
          1.0793883903440407,
          -1.7442712770335072,
          -0.2006977228942966,
          1.1604057740322227,
          0.8380871794918501,
          0.3434621276866279,
          -1.4104992622520467,
          1.311238947350882,
          0.9412950281879889,
          -0.3350723872072907,
          0.6951180795417036,
          -0.9121582740527129,
          0.18765291170273096,
          -0.690685295257295,
          0.8852386085818393,
          0.4317636746726903,
          -0.7504024305600105,
          -0.39335965300494274,
          0.3694506068850978,
          -0.10252111873440109,
          0.49884624438508196,
          0.055394235359639964,
          0.011792637052425847,
          -0.8082790203993668,
          -1.3615811568324008,
          -0.4873899268497068,
          0.38309544271604257,
          0.4242660099135097,
          2.2187119574585603,
          -0.01959273839618212,
          -0.8646247657702009,
          0.08787197959542621,
          -0.1154797457890154,
          0.33140686940164854,
          -0.6196352065642001,
          0.3227781557323908,
          0.2447772792318997,
          -0.9529620548470774,
          -1.1779499157234683,
          0.362052923601659,
          0.36545821597693284,
          0.5563628463658707,
          0.09204794996115445,
          0.5305702320652781,
          1.2972359829146172,
          -0.463871893327936,
          -2.1652174380047438,
          1.3950847840966412,
          1.25889143735063,
          1.5414336680370502,
          -0.028970197857147585,
          -1.3978466191671446,
          -0.4684792022305753
         ],
         "y": [
          1.6078167885510994,
          0.5152505787154171,
          -1.732949449951613,
          -0.036945780938364245,
          -1.3551933367335174,
          0.5319072842514352,
          1.0697347319830688,
          -0.6363260721476971,
          -0.20643662573362598,
          -1.7853998237979154,
          -0.43298489994161915,
          -0.8220605061383672,
          -1.0416535261667546,
          -0.4436110742323203,
          -0.8849717239394095,
          0.82462023527033,
          -0.4511224528127728,
          -2.1521002255906314,
          0.6885075559620766,
          0.9619774031436268,
          -1.601282319516909,
          -1.0187221532576956,
          -0.37185922386743625,
          0.6327713965426722,
          0.6958040276700553,
          0.29576441234029416,
          0.1870375683798816,
          0.21216307603497175,
          -0.46826979686342507,
          0.5265808883122749,
          1.655233754967969,
          0.7847270184177594,
          -0.06524297551623097,
          -0.9050608073638097,
          -0.7568972725338796,
          1.8504073752072894,
          -1.3319273680622228,
          1.025323553637435,
          -1.1929053119674793,
          0.37609355139190637,
          -0.6931871349019727,
          -0.26788738816063384,
          0.6452730391434862,
          -0.6410794715938621,
          0.33601850854039045,
          1.062834980137413,
          -0.13797130277316041,
          -0.3472728358101834,
          -1.9295221797591842,
          0.688887327408491,
          -1.0059879927275013,
          -0.050838321432649304,
          2.810881273367778,
          1.5703602950010316,
          0.6688810634008149,
          -1.6495902709058397,
          0.6370014643522423,
          -0.6926906557976084,
          -1.7365465452273703,
          -1.3391600076707793,
          -2.403423131134129,
          -1.8354091651813158,
          0.6708773143428056,
          0.879946117968798,
          0.8808745167598088,
          0.9741666663770794,
          -0.8874965115923111,
          -0.12403926065668726,
          1.4859109330104527,
          0.02280886808632988,
          -1.1667746795991663,
          -0.978686343644049,
          -1.4082136206191738,
          -1.2271331376969463,
          -1.2464437921438107,
          -0.4073132003975011,
          1.3898802816681095,
          0.9273059334446105,
          0.39645412550268183,
          0.3916040681168114,
          1.7819762431059742,
          2.7889896150765257,
          -0.010367608731995102,
          -0.8704789634274461,
          2.2738070570513167,
          -0.723458871193624,
          -0.8191102049372018,
          0.46412661059334726,
          0.11437839854593614,
          0.8480965711153516,
          -0.4528516451940342,
          1.4002905273470163,
          -0.6214770108332643,
          0.25299312347365505,
          -2.538120488901347,
          -0.7338163679908073,
          -0.8294853006575363,
          -0.7021157089248629,
          1.258967519250579,
          -0.7460926635527159
         ]
        }
       ],
       "layout": {
        "legend": {
         "bgcolor": "#F5F6F9",
         "font": {
          "color": "#4D5663"
         }
        },
        "paper_bgcolor": "#F5F6F9",
        "plot_bgcolor": "#F5F6F9",
        "template": {
         "data": {
          "bar": [
           {
            "error_x": {
             "color": "#2a3f5f"
            },
            "error_y": {
             "color": "#2a3f5f"
            },
            "marker": {
             "line": {
              "color": "#E5ECF6",
              "width": 0.5
             }
            },
            "type": "bar"
           }
          ],
          "barpolar": [
           {
            "marker": {
             "line": {
              "color": "#E5ECF6",
              "width": 0.5
             }
            },
            "type": "barpolar"
           }
          ],
          "carpet": [
           {
            "aaxis": {
             "endlinecolor": "#2a3f5f",
             "gridcolor": "white",
             "linecolor": "white",
             "minorgridcolor": "white",
             "startlinecolor": "#2a3f5f"
            },
            "baxis": {
             "endlinecolor": "#2a3f5f",
             "gridcolor": "white",
             "linecolor": "white",
             "minorgridcolor": "white",
             "startlinecolor": "#2a3f5f"
            },
            "type": "carpet"
           }
          ],
          "choropleth": [
           {
            "colorbar": {
             "outlinewidth": 0,
             "ticks": ""
            },
            "type": "choropleth"
           }
          ],
          "contour": [
           {
            "colorbar": {
             "outlinewidth": 0,
             "ticks": ""
            },
            "colorscale": [
             [
              0,
              "#0d0887"
             ],
             [
              0.1111111111111111,
              "#46039f"
             ],
             [
              0.2222222222222222,
              "#7201a8"
             ],
             [
              0.3333333333333333,
              "#9c179e"
             ],
             [
              0.4444444444444444,
              "#bd3786"
             ],
             [
              0.5555555555555556,
              "#d8576b"
             ],
             [
              0.6666666666666666,
              "#ed7953"
             ],
             [
              0.7777777777777778,
              "#fb9f3a"
             ],
             [
              0.8888888888888888,
              "#fdca26"
             ],
             [
              1,
              "#f0f921"
             ]
            ],
            "type": "contour"
           }
          ],
          "contourcarpet": [
           {
            "colorbar": {
             "outlinewidth": 0,
             "ticks": ""
            },
            "type": "contourcarpet"
           }
          ],
          "heatmap": [
           {
            "colorbar": {
             "outlinewidth": 0,
             "ticks": ""
            },
            "colorscale": [
             [
              0,
              "#0d0887"
             ],
             [
              0.1111111111111111,
              "#46039f"
             ],
             [
              0.2222222222222222,
              "#7201a8"
             ],
             [
              0.3333333333333333,
              "#9c179e"
             ],
             [
              0.4444444444444444,
              "#bd3786"
             ],
             [
              0.5555555555555556,
              "#d8576b"
             ],
             [
              0.6666666666666666,
              "#ed7953"
             ],
             [
              0.7777777777777778,
              "#fb9f3a"
             ],
             [
              0.8888888888888888,
              "#fdca26"
             ],
             [
              1,
              "#f0f921"
             ]
            ],
            "type": "heatmap"
           }
          ],
          "heatmapgl": [
           {
            "colorbar": {
             "outlinewidth": 0,
             "ticks": ""
            },
            "colorscale": [
             [
              0,
              "#0d0887"
             ],
             [
              0.1111111111111111,
              "#46039f"
             ],
             [
              0.2222222222222222,
              "#7201a8"
             ],
             [
              0.3333333333333333,
              "#9c179e"
             ],
             [
              0.4444444444444444,
              "#bd3786"
             ],
             [
              0.5555555555555556,
              "#d8576b"
             ],
             [
              0.6666666666666666,
              "#ed7953"
             ],
             [
              0.7777777777777778,
              "#fb9f3a"
             ],
             [
              0.8888888888888888,
              "#fdca26"
             ],
             [
              1,
              "#f0f921"
             ]
            ],
            "type": "heatmapgl"
           }
          ],
          "histogram": [
           {
            "marker": {
             "colorbar": {
              "outlinewidth": 0,
              "ticks": ""
             }
            },
            "type": "histogram"
           }
          ],
          "histogram2d": [
           {
            "colorbar": {
             "outlinewidth": 0,
             "ticks": ""
            },
            "colorscale": [
             [
              0,
              "#0d0887"
             ],
             [
              0.1111111111111111,
              "#46039f"
             ],
             [
              0.2222222222222222,
              "#7201a8"
             ],
             [
              0.3333333333333333,
              "#9c179e"
             ],
             [
              0.4444444444444444,
              "#bd3786"
             ],
             [
              0.5555555555555556,
              "#d8576b"
             ],
             [
              0.6666666666666666,
              "#ed7953"
             ],
             [
              0.7777777777777778,
              "#fb9f3a"
             ],
             [
              0.8888888888888888,
              "#fdca26"
             ],
             [
              1,
              "#f0f921"
             ]
            ],
            "type": "histogram2d"
           }
          ],
          "histogram2dcontour": [
           {
            "colorbar": {
             "outlinewidth": 0,
             "ticks": ""
            },
            "colorscale": [
             [
              0,
              "#0d0887"
             ],
             [
              0.1111111111111111,
              "#46039f"
             ],
             [
              0.2222222222222222,
              "#7201a8"
             ],
             [
              0.3333333333333333,
              "#9c179e"
             ],
             [
              0.4444444444444444,
              "#bd3786"
             ],
             [
              0.5555555555555556,
              "#d8576b"
             ],
             [
              0.6666666666666666,
              "#ed7953"
             ],
             [
              0.7777777777777778,
              "#fb9f3a"
             ],
             [
              0.8888888888888888,
              "#fdca26"
             ],
             [
              1,
              "#f0f921"
             ]
            ],
            "type": "histogram2dcontour"
           }
          ],
          "mesh3d": [
           {
            "colorbar": {
             "outlinewidth": 0,
             "ticks": ""
            },
            "type": "mesh3d"
           }
          ],
          "parcoords": [
           {
            "line": {
             "colorbar": {
              "outlinewidth": 0,
              "ticks": ""
             }
            },
            "type": "parcoords"
           }
          ],
          "pie": [
           {
            "automargin": true,
            "type": "pie"
           }
          ],
          "scatter": [
           {
            "marker": {
             "colorbar": {
              "outlinewidth": 0,
              "ticks": ""
             }
            },
            "type": "scatter"
           }
          ],
          "scatter3d": [
           {
            "line": {
             "colorbar": {
              "outlinewidth": 0,
              "ticks": ""
             }
            },
            "marker": {
             "colorbar": {
              "outlinewidth": 0,
              "ticks": ""
             }
            },
            "type": "scatter3d"
           }
          ],
          "scattercarpet": [
           {
            "marker": {
             "colorbar": {
              "outlinewidth": 0,
              "ticks": ""
             }
            },
            "type": "scattercarpet"
           }
          ],
          "scattergeo": [
           {
            "marker": {
             "colorbar": {
              "outlinewidth": 0,
              "ticks": ""
             }
            },
            "type": "scattergeo"
           }
          ],
          "scattergl": [
           {
            "marker": {
             "colorbar": {
              "outlinewidth": 0,
              "ticks": ""
             }
            },
            "type": "scattergl"
           }
          ],
          "scattermapbox": [
           {
            "marker": {
             "colorbar": {
              "outlinewidth": 0,
              "ticks": ""
             }
            },
            "type": "scattermapbox"
           }
          ],
          "scatterpolar": [
           {
            "marker": {
             "colorbar": {
              "outlinewidth": 0,
              "ticks": ""
             }
            },
            "type": "scatterpolar"
           }
          ],
          "scatterpolargl": [
           {
            "marker": {
             "colorbar": {
              "outlinewidth": 0,
              "ticks": ""
             }
            },
            "type": "scatterpolargl"
           }
          ],
          "scatterternary": [
           {
            "marker": {
             "colorbar": {
              "outlinewidth": 0,
              "ticks": ""
             }
            },
            "type": "scatterternary"
           }
          ],
          "surface": [
           {
            "colorbar": {
             "outlinewidth": 0,
             "ticks": ""
            },
            "colorscale": [
             [
              0,
              "#0d0887"
             ],
             [
              0.1111111111111111,
              "#46039f"
             ],
             [
              0.2222222222222222,
              "#7201a8"
             ],
             [
              0.3333333333333333,
              "#9c179e"
             ],
             [
              0.4444444444444444,
              "#bd3786"
             ],
             [
              0.5555555555555556,
              "#d8576b"
             ],
             [
              0.6666666666666666,
              "#ed7953"
             ],
             [
              0.7777777777777778,
              "#fb9f3a"
             ],
             [
              0.8888888888888888,
              "#fdca26"
             ],
             [
              1,
              "#f0f921"
             ]
            ],
            "type": "surface"
           }
          ],
          "table": [
           {
            "cells": {
             "fill": {
              "color": "#EBF0F8"
             },
             "line": {
              "color": "white"
             }
            },
            "header": {
             "fill": {
              "color": "#C8D4E3"
             },
             "line": {
              "color": "white"
             }
            },
            "type": "table"
           }
          ]
         },
         "layout": {
          "annotationdefaults": {
           "arrowcolor": "#2a3f5f",
           "arrowhead": 0,
           "arrowwidth": 1
          },
          "coloraxis": {
           "colorbar": {
            "outlinewidth": 0,
            "ticks": ""
           }
          },
          "colorscale": {
           "diverging": [
            [
             0,
             "#8e0152"
            ],
            [
             0.1,
             "#c51b7d"
            ],
            [
             0.2,
             "#de77ae"
            ],
            [
             0.3,
             "#f1b6da"
            ],
            [
             0.4,
             "#fde0ef"
            ],
            [
             0.5,
             "#f7f7f7"
            ],
            [
             0.6,
             "#e6f5d0"
            ],
            [
             0.7,
             "#b8e186"
            ],
            [
             0.8,
             "#7fbc41"
            ],
            [
             0.9,
             "#4d9221"
            ],
            [
             1,
             "#276419"
            ]
           ],
           "sequential": [
            [
             0,
             "#0d0887"
            ],
            [
             0.1111111111111111,
             "#46039f"
            ],
            [
             0.2222222222222222,
             "#7201a8"
            ],
            [
             0.3333333333333333,
             "#9c179e"
            ],
            [
             0.4444444444444444,
             "#bd3786"
            ],
            [
             0.5555555555555556,
             "#d8576b"
            ],
            [
             0.6666666666666666,
             "#ed7953"
            ],
            [
             0.7777777777777778,
             "#fb9f3a"
            ],
            [
             0.8888888888888888,
             "#fdca26"
            ],
            [
             1,
             "#f0f921"
            ]
           ],
           "sequentialminus": [
            [
             0,
             "#0d0887"
            ],
            [
             0.1111111111111111,
             "#46039f"
            ],
            [
             0.2222222222222222,
             "#7201a8"
            ],
            [
             0.3333333333333333,
             "#9c179e"
            ],
            [
             0.4444444444444444,
             "#bd3786"
            ],
            [
             0.5555555555555556,
             "#d8576b"
            ],
            [
             0.6666666666666666,
             "#ed7953"
            ],
            [
             0.7777777777777778,
             "#fb9f3a"
            ],
            [
             0.8888888888888888,
             "#fdca26"
            ],
            [
             1,
             "#f0f921"
            ]
           ]
          },
          "colorway": [
           "#636efa",
           "#EF553B",
           "#00cc96",
           "#ab63fa",
           "#FFA15A",
           "#19d3f3",
           "#FF6692",
           "#B6E880",
           "#FF97FF",
           "#FECB52"
          ],
          "font": {
           "color": "#2a3f5f"
          },
          "geo": {
           "bgcolor": "white",
           "lakecolor": "white",
           "landcolor": "#E5ECF6",
           "showlakes": true,
           "showland": true,
           "subunitcolor": "white"
          },
          "hoverlabel": {
           "align": "left"
          },
          "hovermode": "closest",
          "mapbox": {
           "style": "light"
          },
          "paper_bgcolor": "white",
          "plot_bgcolor": "#E5ECF6",
          "polar": {
           "angularaxis": {
            "gridcolor": "white",
            "linecolor": "white",
            "ticks": ""
           },
           "bgcolor": "#E5ECF6",
           "radialaxis": {
            "gridcolor": "white",
            "linecolor": "white",
            "ticks": ""
           }
          },
          "scene": {
           "xaxis": {
            "backgroundcolor": "#E5ECF6",
            "gridcolor": "white",
            "gridwidth": 2,
            "linecolor": "white",
            "showbackground": true,
            "ticks": "",
            "zerolinecolor": "white"
           },
           "yaxis": {
            "backgroundcolor": "#E5ECF6",
            "gridcolor": "white",
            "gridwidth": 2,
            "linecolor": "white",
            "showbackground": true,
            "ticks": "",
            "zerolinecolor": "white"
           },
           "zaxis": {
            "backgroundcolor": "#E5ECF6",
            "gridcolor": "white",
            "gridwidth": 2,
            "linecolor": "white",
            "showbackground": true,
            "ticks": "",
            "zerolinecolor": "white"
           }
          },
          "shapedefaults": {
           "line": {
            "color": "#2a3f5f"
           }
          },
          "ternary": {
           "aaxis": {
            "gridcolor": "white",
            "linecolor": "white",
            "ticks": ""
           },
           "baxis": {
            "gridcolor": "white",
            "linecolor": "white",
            "ticks": ""
           },
           "bgcolor": "#E5ECF6",
           "caxis": {
            "gridcolor": "white",
            "linecolor": "white",
            "ticks": ""
           }
          },
          "title": {
           "x": 0.05
          },
          "xaxis": {
           "automargin": true,
           "gridcolor": "white",
           "linecolor": "white",
           "ticks": "",
           "title": {
            "standoff": 15
           },
           "zerolinecolor": "white",
           "zerolinewidth": 2
          },
          "yaxis": {
           "automargin": true,
           "gridcolor": "white",
           "linecolor": "white",
           "ticks": "",
           "title": {
            "standoff": 15
           },
           "zerolinecolor": "white",
           "zerolinewidth": 2
          }
         }
        },
        "title": {
         "font": {
          "color": "#4D5663"
         }
        },
        "xaxis": {
         "gridcolor": "#E1E5ED",
         "showgrid": true,
         "tickfont": {
          "color": "#4D5663"
         },
         "title": {
          "font": {
           "color": "#4D5663"
          },
          "text": ""
         },
         "zerolinecolor": "#E1E5ED"
        },
        "yaxis": {
         "gridcolor": "#E1E5ED",
         "showgrid": true,
         "tickfont": {
          "color": "#4D5663"
         },
         "title": {
          "font": {
           "color": "#4D5663"
          },
          "text": ""
         },
         "zerolinecolor": "#E1E5ED"
        }
       }
      },
      "text/html": [
       "<div>\n",
       "        \n",
       "        \n",
       "            <div id=\"dc35d017-fdec-4731-91f2-19fbbea80230\" class=\"plotly-graph-div\" style=\"height:525px; width:100%;\"></div>\n",
       "            <script type=\"text/javascript\">\n",
       "                require([\"plotly\"], function(Plotly) {\n",
       "                    window.PLOTLYENV=window.PLOTLYENV || {};\n",
       "                    window.PLOTLYENV.BASE_URL='https://plot.ly';\n",
       "                    \n",
       "                if (document.getElementById(\"dc35d017-fdec-4731-91f2-19fbbea80230\")) {\n",
       "                    Plotly.newPlot(\n",
       "                        'dc35d017-fdec-4731-91f2-19fbbea80230',\n",
       "                        [{\"marker\": {\"color\": [\"rgb(255, 153, 51)\", \"rgb(55, 128, 191)\", \"rgb(50, 171, 96)\", \"rgb(128, 0, 128)\", \"rgb(219, 64, 82)\", \"rgb(0, 128, 128)\", \"rgb(255, 255, 51)\", \"rgb(128, 128, 0)\", \"rgb(251, 128, 114)\", \"rgb(128, 177, 211)\"], \"line\": {\"width\": 1.3}, \"size\": [53, 69, 37, 63, 61, 64, 82, 58, 112, 50, 65, 43, 63, 52, 59, 45, 71, 50, 63, 20, 90, 57, 83, 41, 45, 58, 17, 73, 73, 74, 83, 56, 47, 68, 48, 69, 78, 50, 70, 37, 55, 54, 83, 56, 68, 82, 38, 58, 62, 64, 72, 42, 12, 38, 54, 52, 46, 90, 37, 60, 54, 77, 37, 83, 40, 69, 73, 87, 75, 26, 76, 53, 62, 64, 41, 58, 99, 57, 87, 41, 76, 51, 52, 49, 89, 47, 57, 65, 75, 52, 68, 71, 37, 67, 85, 69, 58, 71, 32, 51], \"symbol\": \"circle\"}, \"mode\": \"markers\", \"text\": \"\", \"type\": \"scatter\", \"x\": [0.3410614466753071, -1.1035524050054597, 0.01497802970479452, -0.4923405339752979, -0.711740649467883, 0.7611113231300444, -0.32899989496145043, -1.0003056778373516, -1.144108410930388, -0.7187659800223282, -0.8827891809503372, 0.16527534978219205, 0.33791501376902755, 0.2845952287777885, -2.031762480119184, 0.009561136766891088, -0.37499414498681033, 0.7436276548650762, -0.08613852640362644, -1.788868487410151, 0.6091820625025955, -0.540546683835764, -1.3830705697321766, -0.22776248598870943, 0.04791488496871383, 0.14734661797990722, 0.6837492096990183, 0.4909535703078963, -0.5763766572692686, 1.7556808706923992, -0.21643572049270607, -0.08138650173686049, -0.41988696887517796, 0.5896403672067946, -0.15796893354889477, 0.03098947180102704, -1.1741362797157253, -0.5288212423479839, -1.0461934563699007, -1.8047730897321894, -0.18922230488345462, 0.4448399483986472, 0.09802387104390282, 0.3675012254291077, -2.199418690052648, 0.9672627288932981, -1.6104735507037404, 1.0793883903440407, -1.7442712770335072, -0.2006977228942966, 1.1604057740322227, 0.8380871794918501, 0.3434621276866279, -1.4104992622520467, 1.311238947350882, 0.9412950281879889, -0.3350723872072907, 0.6951180795417036, -0.9121582740527129, 0.18765291170273096, -0.690685295257295, 0.8852386085818393, 0.4317636746726903, -0.7504024305600105, -0.39335965300494274, 0.3694506068850978, -0.10252111873440109, 0.49884624438508196, 0.055394235359639964, 0.011792637052425847, -0.8082790203993668, -1.3615811568324008, -0.4873899268497068, 0.38309544271604257, 0.4242660099135097, 2.2187119574585603, -0.01959273839618212, -0.8646247657702009, 0.08787197959542621, -0.1154797457890154, 0.33140686940164854, -0.6196352065642001, 0.3227781557323908, 0.2447772792318997, -0.9529620548470774, -1.1779499157234683, 0.362052923601659, 0.36545821597693284, 0.5563628463658707, 0.09204794996115445, 0.5305702320652781, 1.2972359829146172, -0.463871893327936, -2.1652174380047438, 1.3950847840966412, 1.25889143735063, 1.5414336680370502, -0.028970197857147585, -1.3978466191671446, -0.4684792022305753], \"y\": [1.6078167885510994, 0.5152505787154171, -1.732949449951613, -0.036945780938364245, -1.3551933367335174, 0.5319072842514352, 1.0697347319830688, -0.6363260721476971, -0.20643662573362598, -1.7853998237979154, -0.43298489994161915, -0.8220605061383672, -1.0416535261667546, -0.4436110742323203, -0.8849717239394095, 0.82462023527033, -0.4511224528127728, -2.1521002255906314, 0.6885075559620766, 0.9619774031436268, -1.601282319516909, -1.0187221532576956, -0.37185922386743625, 0.6327713965426722, 0.6958040276700553, 0.29576441234029416, 0.1870375683798816, 0.21216307603497175, -0.46826979686342507, 0.5265808883122749, 1.655233754967969, 0.7847270184177594, -0.06524297551623097, -0.9050608073638097, -0.7568972725338796, 1.8504073752072894, -1.3319273680622228, 1.025323553637435, -1.1929053119674793, 0.37609355139190637, -0.6931871349019727, -0.26788738816063384, 0.6452730391434862, -0.6410794715938621, 0.33601850854039045, 1.062834980137413, -0.13797130277316041, -0.3472728358101834, -1.9295221797591842, 0.688887327408491, -1.0059879927275013, -0.050838321432649304, 2.810881273367778, 1.5703602950010316, 0.6688810634008149, -1.6495902709058397, 0.6370014643522423, -0.6926906557976084, -1.7365465452273703, -1.3391600076707793, -2.403423131134129, -1.8354091651813158, 0.6708773143428056, 0.879946117968798, 0.8808745167598088, 0.9741666663770794, -0.8874965115923111, -0.12403926065668726, 1.4859109330104527, 0.02280886808632988, -1.1667746795991663, -0.978686343644049, -1.4082136206191738, -1.2271331376969463, -1.2464437921438107, -0.4073132003975011, 1.3898802816681095, 0.9273059334446105, 0.39645412550268183, 0.3916040681168114, 1.7819762431059742, 2.7889896150765257, -0.010367608731995102, -0.8704789634274461, 2.2738070570513167, -0.723458871193624, -0.8191102049372018, 0.46412661059334726, 0.11437839854593614, 0.8480965711153516, -0.4528516451940342, 1.4002905273470163, -0.6214770108332643, 0.25299312347365505, -2.538120488901347, -0.7338163679908073, -0.8294853006575363, -0.7021157089248629, 1.258967519250579, -0.7460926635527159]}],\n",
       "                        {\"legend\": {\"bgcolor\": \"#F5F6F9\", \"font\": {\"color\": \"#4D5663\"}}, \"paper_bgcolor\": \"#F5F6F9\", \"plot_bgcolor\": \"#F5F6F9\", \"template\": {\"data\": {\"bar\": [{\"error_x\": {\"color\": \"#2a3f5f\"}, \"error_y\": {\"color\": \"#2a3f5f\"}, \"marker\": {\"line\": {\"color\": \"#E5ECF6\", \"width\": 0.5}}, \"type\": \"bar\"}], \"barpolar\": [{\"marker\": {\"line\": {\"color\": \"#E5ECF6\", \"width\": 0.5}}, \"type\": \"barpolar\"}], \"carpet\": [{\"aaxis\": {\"endlinecolor\": \"#2a3f5f\", \"gridcolor\": \"white\", \"linecolor\": \"white\", \"minorgridcolor\": \"white\", \"startlinecolor\": \"#2a3f5f\"}, \"baxis\": {\"endlinecolor\": \"#2a3f5f\", \"gridcolor\": \"white\", \"linecolor\": \"white\", \"minorgridcolor\": \"white\", \"startlinecolor\": \"#2a3f5f\"}, \"type\": \"carpet\"}], \"choropleth\": [{\"colorbar\": {\"outlinewidth\": 0, \"ticks\": \"\"}, \"type\": \"choropleth\"}], \"contour\": [{\"colorbar\": {\"outlinewidth\": 0, \"ticks\": \"\"}, \"colorscale\": [[0.0, \"#0d0887\"], [0.1111111111111111, \"#46039f\"], [0.2222222222222222, \"#7201a8\"], [0.3333333333333333, \"#9c179e\"], [0.4444444444444444, \"#bd3786\"], [0.5555555555555556, \"#d8576b\"], [0.6666666666666666, \"#ed7953\"], [0.7777777777777778, \"#fb9f3a\"], [0.8888888888888888, \"#fdca26\"], [1.0, \"#f0f921\"]], \"type\": \"contour\"}], \"contourcarpet\": [{\"colorbar\": {\"outlinewidth\": 0, \"ticks\": \"\"}, \"type\": \"contourcarpet\"}], \"heatmap\": [{\"colorbar\": {\"outlinewidth\": 0, \"ticks\": \"\"}, \"colorscale\": [[0.0, \"#0d0887\"], [0.1111111111111111, \"#46039f\"], [0.2222222222222222, \"#7201a8\"], [0.3333333333333333, \"#9c179e\"], [0.4444444444444444, \"#bd3786\"], [0.5555555555555556, \"#d8576b\"], [0.6666666666666666, \"#ed7953\"], [0.7777777777777778, \"#fb9f3a\"], [0.8888888888888888, \"#fdca26\"], [1.0, \"#f0f921\"]], \"type\": \"heatmap\"}], \"heatmapgl\": [{\"colorbar\": {\"outlinewidth\": 0, \"ticks\": \"\"}, \"colorscale\": [[0.0, \"#0d0887\"], [0.1111111111111111, \"#46039f\"], [0.2222222222222222, \"#7201a8\"], [0.3333333333333333, \"#9c179e\"], [0.4444444444444444, \"#bd3786\"], [0.5555555555555556, \"#d8576b\"], [0.6666666666666666, \"#ed7953\"], [0.7777777777777778, \"#fb9f3a\"], [0.8888888888888888, \"#fdca26\"], [1.0, \"#f0f921\"]], \"type\": \"heatmapgl\"}], \"histogram\": [{\"marker\": {\"colorbar\": {\"outlinewidth\": 0, \"ticks\": \"\"}}, \"type\": \"histogram\"}], \"histogram2d\": [{\"colorbar\": {\"outlinewidth\": 0, \"ticks\": \"\"}, \"colorscale\": [[0.0, \"#0d0887\"], [0.1111111111111111, \"#46039f\"], [0.2222222222222222, \"#7201a8\"], [0.3333333333333333, \"#9c179e\"], [0.4444444444444444, \"#bd3786\"], [0.5555555555555556, \"#d8576b\"], [0.6666666666666666, \"#ed7953\"], [0.7777777777777778, \"#fb9f3a\"], [0.8888888888888888, \"#fdca26\"], [1.0, \"#f0f921\"]], \"type\": \"histogram2d\"}], \"histogram2dcontour\": [{\"colorbar\": {\"outlinewidth\": 0, \"ticks\": \"\"}, \"colorscale\": [[0.0, \"#0d0887\"], [0.1111111111111111, \"#46039f\"], [0.2222222222222222, \"#7201a8\"], [0.3333333333333333, \"#9c179e\"], [0.4444444444444444, \"#bd3786\"], [0.5555555555555556, \"#d8576b\"], [0.6666666666666666, \"#ed7953\"], [0.7777777777777778, \"#fb9f3a\"], [0.8888888888888888, \"#fdca26\"], [1.0, \"#f0f921\"]], \"type\": \"histogram2dcontour\"}], \"mesh3d\": [{\"colorbar\": {\"outlinewidth\": 0, \"ticks\": \"\"}, \"type\": \"mesh3d\"}], \"parcoords\": [{\"line\": {\"colorbar\": {\"outlinewidth\": 0, \"ticks\": \"\"}}, \"type\": \"parcoords\"}], \"pie\": [{\"automargin\": true, \"type\": \"pie\"}], \"scatter\": [{\"marker\": {\"colorbar\": {\"outlinewidth\": 0, \"ticks\": \"\"}}, \"type\": \"scatter\"}], \"scatter3d\": [{\"line\": {\"colorbar\": {\"outlinewidth\": 0, \"ticks\": \"\"}}, \"marker\": {\"colorbar\": {\"outlinewidth\": 0, \"ticks\": \"\"}}, \"type\": \"scatter3d\"}], \"scattercarpet\": [{\"marker\": {\"colorbar\": {\"outlinewidth\": 0, \"ticks\": \"\"}}, \"type\": \"scattercarpet\"}], \"scattergeo\": [{\"marker\": {\"colorbar\": {\"outlinewidth\": 0, \"ticks\": \"\"}}, \"type\": \"scattergeo\"}], \"scattergl\": [{\"marker\": {\"colorbar\": {\"outlinewidth\": 0, \"ticks\": \"\"}}, \"type\": \"scattergl\"}], \"scattermapbox\": [{\"marker\": {\"colorbar\": {\"outlinewidth\": 0, \"ticks\": \"\"}}, \"type\": \"scattermapbox\"}], \"scatterpolar\": [{\"marker\": {\"colorbar\": {\"outlinewidth\": 0, \"ticks\": \"\"}}, \"type\": \"scatterpolar\"}], \"scatterpolargl\": [{\"marker\": {\"colorbar\": {\"outlinewidth\": 0, \"ticks\": \"\"}}, \"type\": \"scatterpolargl\"}], \"scatterternary\": [{\"marker\": {\"colorbar\": {\"outlinewidth\": 0, \"ticks\": \"\"}}, \"type\": \"scatterternary\"}], \"surface\": [{\"colorbar\": {\"outlinewidth\": 0, \"ticks\": \"\"}, \"colorscale\": [[0.0, \"#0d0887\"], [0.1111111111111111, \"#46039f\"], [0.2222222222222222, \"#7201a8\"], [0.3333333333333333, \"#9c179e\"], [0.4444444444444444, \"#bd3786\"], [0.5555555555555556, \"#d8576b\"], [0.6666666666666666, \"#ed7953\"], [0.7777777777777778, \"#fb9f3a\"], [0.8888888888888888, \"#fdca26\"], [1.0, \"#f0f921\"]], \"type\": \"surface\"}], \"table\": [{\"cells\": {\"fill\": {\"color\": \"#EBF0F8\"}, \"line\": {\"color\": \"white\"}}, \"header\": {\"fill\": {\"color\": \"#C8D4E3\"}, \"line\": {\"color\": \"white\"}}, \"type\": \"table\"}]}, \"layout\": {\"annotationdefaults\": {\"arrowcolor\": \"#2a3f5f\", \"arrowhead\": 0, \"arrowwidth\": 1}, \"coloraxis\": {\"colorbar\": {\"outlinewidth\": 0, \"ticks\": \"\"}}, \"colorscale\": {\"diverging\": [[0, \"#8e0152\"], [0.1, \"#c51b7d\"], [0.2, \"#de77ae\"], [0.3, \"#f1b6da\"], [0.4, \"#fde0ef\"], [0.5, \"#f7f7f7\"], [0.6, \"#e6f5d0\"], [0.7, \"#b8e186\"], [0.8, \"#7fbc41\"], [0.9, \"#4d9221\"], [1, \"#276419\"]], \"sequential\": [[0.0, \"#0d0887\"], [0.1111111111111111, \"#46039f\"], [0.2222222222222222, \"#7201a8\"], [0.3333333333333333, \"#9c179e\"], [0.4444444444444444, \"#bd3786\"], [0.5555555555555556, \"#d8576b\"], [0.6666666666666666, \"#ed7953\"], [0.7777777777777778, \"#fb9f3a\"], [0.8888888888888888, \"#fdca26\"], [1.0, \"#f0f921\"]], \"sequentialminus\": [[0.0, \"#0d0887\"], [0.1111111111111111, \"#46039f\"], [0.2222222222222222, \"#7201a8\"], [0.3333333333333333, \"#9c179e\"], [0.4444444444444444, \"#bd3786\"], [0.5555555555555556, \"#d8576b\"], [0.6666666666666666, \"#ed7953\"], [0.7777777777777778, \"#fb9f3a\"], [0.8888888888888888, \"#fdca26\"], [1.0, \"#f0f921\"]]}, \"colorway\": [\"#636efa\", \"#EF553B\", \"#00cc96\", \"#ab63fa\", \"#FFA15A\", \"#19d3f3\", \"#FF6692\", \"#B6E880\", \"#FF97FF\", \"#FECB52\"], \"font\": {\"color\": \"#2a3f5f\"}, \"geo\": {\"bgcolor\": \"white\", \"lakecolor\": \"white\", \"landcolor\": \"#E5ECF6\", \"showlakes\": true, \"showland\": true, \"subunitcolor\": \"white\"}, \"hoverlabel\": {\"align\": \"left\"}, \"hovermode\": \"closest\", \"mapbox\": {\"style\": \"light\"}, \"paper_bgcolor\": \"white\", \"plot_bgcolor\": \"#E5ECF6\", \"polar\": {\"angularaxis\": {\"gridcolor\": \"white\", \"linecolor\": \"white\", \"ticks\": \"\"}, \"bgcolor\": \"#E5ECF6\", \"radialaxis\": {\"gridcolor\": \"white\", \"linecolor\": \"white\", \"ticks\": \"\"}}, \"scene\": {\"xaxis\": {\"backgroundcolor\": \"#E5ECF6\", \"gridcolor\": \"white\", \"gridwidth\": 2, \"linecolor\": \"white\", \"showbackground\": true, \"ticks\": \"\", \"zerolinecolor\": \"white\"}, \"yaxis\": {\"backgroundcolor\": \"#E5ECF6\", \"gridcolor\": \"white\", \"gridwidth\": 2, \"linecolor\": \"white\", \"showbackground\": true, \"ticks\": \"\", \"zerolinecolor\": \"white\"}, \"zaxis\": {\"backgroundcolor\": \"#E5ECF6\", \"gridcolor\": \"white\", \"gridwidth\": 2, \"linecolor\": \"white\", \"showbackground\": true, \"ticks\": \"\", \"zerolinecolor\": \"white\"}}, \"shapedefaults\": {\"line\": {\"color\": \"#2a3f5f\"}}, \"ternary\": {\"aaxis\": {\"gridcolor\": \"white\", \"linecolor\": \"white\", \"ticks\": \"\"}, \"baxis\": {\"gridcolor\": \"white\", \"linecolor\": \"white\", \"ticks\": \"\"}, \"bgcolor\": \"#E5ECF6\", \"caxis\": {\"gridcolor\": \"white\", \"linecolor\": \"white\", \"ticks\": \"\"}}, \"title\": {\"x\": 0.05}, \"xaxis\": {\"automargin\": true, \"gridcolor\": \"white\", \"linecolor\": \"white\", \"ticks\": \"\", \"title\": {\"standoff\": 15}, \"zerolinecolor\": \"white\", \"zerolinewidth\": 2}, \"yaxis\": {\"automargin\": true, \"gridcolor\": \"white\", \"linecolor\": \"white\", \"ticks\": \"\", \"title\": {\"standoff\": 15}, \"zerolinecolor\": \"white\", \"zerolinewidth\": 2}}}, \"title\": {\"font\": {\"color\": \"#4D5663\"}}, \"xaxis\": {\"gridcolor\": \"#E1E5ED\", \"showgrid\": true, \"tickfont\": {\"color\": \"#4D5663\"}, \"title\": {\"font\": {\"color\": \"#4D5663\"}, \"text\": \"\"}, \"zerolinecolor\": \"#E1E5ED\"}, \"yaxis\": {\"gridcolor\": \"#E1E5ED\", \"showgrid\": true, \"tickfont\": {\"color\": \"#4D5663\"}, \"title\": {\"font\": {\"color\": \"#4D5663\"}, \"text\": \"\"}, \"zerolinecolor\": \"#E1E5ED\"}},\n",
       "                        {\"showLink\": true, \"linkText\": \"Export to plot.ly\", \"plotlyServerURL\": \"https://plot.ly\", \"responsive\": true}\n",
       "                    ).then(function(){\n",
       "                            \n",
       "var gd = document.getElementById('dc35d017-fdec-4731-91f2-19fbbea80230');\n",
       "var x = new MutationObserver(function (mutations, observer) {{\n",
       "        var display = window.getComputedStyle(gd).display;\n",
       "        if (!display || display === 'none') {{\n",
       "            console.log([gd, 'removed!']);\n",
       "            Plotly.purge(gd);\n",
       "            observer.disconnect();\n",
       "        }}\n",
       "}});\n",
       "\n",
       "// Listen for the removal of the full notebook cells\n",
       "var notebookContainer = gd.closest('#notebook-container');\n",
       "if (notebookContainer) {{\n",
       "    x.observe(notebookContainer, {childList: true});\n",
       "}}\n",
       "\n",
       "// Listen for the clearing of the current output cell\n",
       "var outputEl = gd.closest('.output');\n",
       "if (outputEl) {{\n",
       "    x.observe(outputEl, {childList: true});\n",
       "}}\n",
       "\n",
       "                        })\n",
       "                };\n",
       "                });\n",
       "            </script>\n",
       "        </div>"
      ]
     },
     "metadata": {},
     "output_type": "display_data"
    }
   ],
   "source": [
    "df.iplot(kind='bubble', x='A', y='B', size='C')"
   ]
  },
  {
   "cell_type": "markdown",
   "metadata": {},
   "source": [
    "# scatter_matrix()"
   ]
  },
  {
   "cell_type": "code",
   "execution_count": 58,
   "metadata": {},
   "outputs": [
    {
     "data": {
      "application/vnd.plotly.v1+json": {
       "config": {
        "linkText": "Export to plot.ly",
        "plotlyServerURL": "https://plot.ly",
        "showLink": true
       },
       "data": [
        {
         "histfunc": "count",
         "histnorm": "",
         "marker": {
          "color": "rgba(255, 153, 51, 1.0)",
          "line": {
           "color": "#4D5663",
           "width": 1.3
          }
         },
         "name": "A",
         "nbinsx": 10,
         "opacity": 0.8,
         "orientation": "v",
         "type": "histogram",
         "x": [
          0.3410614466753071,
          -1.1035524050054597,
          0.01497802970479452,
          -0.4923405339752979,
          -0.711740649467883,
          0.7611113231300444,
          -0.32899989496145043,
          -1.0003056778373516,
          -1.144108410930388,
          -0.7187659800223282,
          -0.8827891809503372,
          0.16527534978219205,
          0.33791501376902755,
          0.2845952287777885,
          -2.031762480119184,
          0.009561136766891088,
          -0.37499414498681033,
          0.7436276548650762,
          -0.08613852640362644,
          -1.788868487410151,
          0.6091820625025955,
          -0.540546683835764,
          -1.3830705697321766,
          -0.22776248598870943,
          0.04791488496871383,
          0.14734661797990722,
          0.6837492096990183,
          0.4909535703078963,
          -0.5763766572692686,
          1.7556808706923992,
          -0.21643572049270607,
          -0.08138650173686049,
          -0.41988696887517796,
          0.5896403672067946,
          -0.15796893354889477,
          0.03098947180102704,
          -1.1741362797157253,
          -0.5288212423479839,
          -1.0461934563699007,
          -1.8047730897321894,
          -0.18922230488345462,
          0.4448399483986472,
          0.09802387104390282,
          0.3675012254291077,
          -2.199418690052648,
          0.9672627288932981,
          -1.6104735507037404,
          1.0793883903440407,
          -1.7442712770335072,
          -0.2006977228942966,
          1.1604057740322227,
          0.8380871794918501,
          0.3434621276866279,
          -1.4104992622520467,
          1.311238947350882,
          0.9412950281879889,
          -0.3350723872072907,
          0.6951180795417036,
          -0.9121582740527129,
          0.18765291170273096,
          -0.690685295257295,
          0.8852386085818393,
          0.4317636746726903,
          -0.7504024305600105,
          -0.39335965300494274,
          0.3694506068850978,
          -0.10252111873440109,
          0.49884624438508196,
          0.055394235359639964,
          0.011792637052425847,
          -0.8082790203993668,
          -1.3615811568324008,
          -0.4873899268497068,
          0.38309544271604257,
          0.4242660099135097,
          2.2187119574585603,
          -0.01959273839618212,
          -0.8646247657702009,
          0.08787197959542621,
          -0.1154797457890154,
          0.33140686940164854,
          -0.6196352065642001,
          0.3227781557323908,
          0.2447772792318997,
          -0.9529620548470774,
          -1.1779499157234683,
          0.362052923601659,
          0.36545821597693284,
          0.5563628463658707,
          0.09204794996115445,
          0.5305702320652781,
          1.2972359829146172,
          -0.463871893327936,
          -2.1652174380047438,
          1.3950847840966412,
          1.25889143735063,
          1.5414336680370502,
          -0.028970197857147585,
          -1.3978466191671446,
          -0.4684792022305753
         ],
         "xaxis": "x",
         "yaxis": "y"
        },
        {
         "line": {
          "color": "rgba(128, 128, 128, 1.0)",
          "dash": "solid",
          "shape": "linear",
          "width": 1.3
         },
         "marker": {
          "size": 2,
          "symbol": "circle"
         },
         "mode": "markers",
         "name": "A",
         "text": "",
         "type": "scatter",
         "x": [
          1.6078167885510994,
          0.5152505787154171,
          -1.732949449951613,
          -0.036945780938364245,
          -1.3551933367335174,
          0.5319072842514352,
          1.0697347319830688,
          -0.6363260721476971,
          -0.20643662573362598,
          -1.7853998237979154,
          -0.43298489994161915,
          -0.8220605061383672,
          -1.0416535261667546,
          -0.4436110742323203,
          -0.8849717239394095,
          0.82462023527033,
          -0.4511224528127728,
          -2.1521002255906314,
          0.6885075559620766,
          0.9619774031436268,
          -1.601282319516909,
          -1.0187221532576956,
          -0.37185922386743625,
          0.6327713965426722,
          0.6958040276700553,
          0.29576441234029416,
          0.1870375683798816,
          0.21216307603497175,
          -0.46826979686342507,
          0.5265808883122749,
          1.655233754967969,
          0.7847270184177594,
          -0.06524297551623097,
          -0.9050608073638097,
          -0.7568972725338796,
          1.8504073752072894,
          -1.3319273680622228,
          1.025323553637435,
          -1.1929053119674793,
          0.37609355139190637,
          -0.6931871349019727,
          -0.26788738816063384,
          0.6452730391434862,
          -0.6410794715938621,
          0.33601850854039045,
          1.062834980137413,
          -0.13797130277316041,
          -0.3472728358101834,
          -1.9295221797591842,
          0.688887327408491,
          -1.0059879927275013,
          -0.050838321432649304,
          2.810881273367778,
          1.5703602950010316,
          0.6688810634008149,
          -1.6495902709058397,
          0.6370014643522423,
          -0.6926906557976084,
          -1.7365465452273703,
          -1.3391600076707793,
          -2.403423131134129,
          -1.8354091651813158,
          0.6708773143428056,
          0.879946117968798,
          0.8808745167598088,
          0.9741666663770794,
          -0.8874965115923111,
          -0.12403926065668726,
          1.4859109330104527,
          0.02280886808632988,
          -1.1667746795991663,
          -0.978686343644049,
          -1.4082136206191738,
          -1.2271331376969463,
          -1.2464437921438107,
          -0.4073132003975011,
          1.3898802816681095,
          0.9273059334446105,
          0.39645412550268183,
          0.3916040681168114,
          1.7819762431059742,
          2.7889896150765257,
          -0.010367608731995102,
          -0.8704789634274461,
          2.2738070570513167,
          -0.723458871193624,
          -0.8191102049372018,
          0.46412661059334726,
          0.11437839854593614,
          0.8480965711153516,
          -0.4528516451940342,
          1.4002905273470163,
          -0.6214770108332643,
          0.25299312347365505,
          -2.538120488901347,
          -0.7338163679908073,
          -0.8294853006575363,
          -0.7021157089248629,
          1.258967519250579,
          -0.7460926635527159
         ],
         "xaxis": "x2",
         "y": [
          0.3410614466753071,
          -1.1035524050054597,
          0.01497802970479452,
          -0.4923405339752979,
          -0.711740649467883,
          0.7611113231300444,
          -0.32899989496145043,
          -1.0003056778373516,
          -1.144108410930388,
          -0.7187659800223282,
          -0.8827891809503372,
          0.16527534978219205,
          0.33791501376902755,
          0.2845952287777885,
          -2.031762480119184,
          0.009561136766891088,
          -0.37499414498681033,
          0.7436276548650762,
          -0.08613852640362644,
          -1.788868487410151,
          0.6091820625025955,
          -0.540546683835764,
          -1.3830705697321766,
          -0.22776248598870943,
          0.04791488496871383,
          0.14734661797990722,
          0.6837492096990183,
          0.4909535703078963,
          -0.5763766572692686,
          1.7556808706923992,
          -0.21643572049270607,
          -0.08138650173686049,
          -0.41988696887517796,
          0.5896403672067946,
          -0.15796893354889477,
          0.03098947180102704,
          -1.1741362797157253,
          -0.5288212423479839,
          -1.0461934563699007,
          -1.8047730897321894,
          -0.18922230488345462,
          0.4448399483986472,
          0.09802387104390282,
          0.3675012254291077,
          -2.199418690052648,
          0.9672627288932981,
          -1.6104735507037404,
          1.0793883903440407,
          -1.7442712770335072,
          -0.2006977228942966,
          1.1604057740322227,
          0.8380871794918501,
          0.3434621276866279,
          -1.4104992622520467,
          1.311238947350882,
          0.9412950281879889,
          -0.3350723872072907,
          0.6951180795417036,
          -0.9121582740527129,
          0.18765291170273096,
          -0.690685295257295,
          0.8852386085818393,
          0.4317636746726903,
          -0.7504024305600105,
          -0.39335965300494274,
          0.3694506068850978,
          -0.10252111873440109,
          0.49884624438508196,
          0.055394235359639964,
          0.011792637052425847,
          -0.8082790203993668,
          -1.3615811568324008,
          -0.4873899268497068,
          0.38309544271604257,
          0.4242660099135097,
          2.2187119574585603,
          -0.01959273839618212,
          -0.8646247657702009,
          0.08787197959542621,
          -0.1154797457890154,
          0.33140686940164854,
          -0.6196352065642001,
          0.3227781557323908,
          0.2447772792318997,
          -0.9529620548470774,
          -1.1779499157234683,
          0.362052923601659,
          0.36545821597693284,
          0.5563628463658707,
          0.09204794996115445,
          0.5305702320652781,
          1.2972359829146172,
          -0.463871893327936,
          -2.1652174380047438,
          1.3950847840966412,
          1.25889143735063,
          1.5414336680370502,
          -0.028970197857147585,
          -1.3978466191671446,
          -0.4684792022305753
         ],
         "yaxis": "y2"
        },
        {
         "line": {
          "color": "rgba(128, 128, 128, 1.0)",
          "dash": "solid",
          "shape": "linear",
          "width": 1.3
         },
         "marker": {
          "size": 2,
          "symbol": "circle"
         },
         "mode": "markers",
         "name": "A",
         "text": "",
         "type": "scatter",
         "x": [
          -0.40893659238493957,
          0.5284695897665097,
          -1.3499824366425284,
          0.20947320867091684,
          0.06313788697464681,
          0.2240257478807152,
          1.3084846093844364,
          -0.09769227025138068,
          3.0269187001332876,
          -0.5550378168902134,
          0.32298539684628774,
          -0.9811850106703884,
          0.1877224155419993,
          -0.4476847275857444,
          -0.043444973539220784,
          -0.8568041222728902,
          0.6678292272658113,
          -0.5541880396613528,
          0.17231564672572366,
          -2.347037685253554,
          1.7901696378077814,
          -0.13873703056336914,
          1.3703117808680336,
          -1.09557404652743,
          -0.840483658635545,
          -0.0782207435962417,
          -2.4901813063590845,
          0.7954577690986171,
          0.7563678500304583,
          0.8282810592239327,
          1.3736171084097888,
          -0.23051949047893924,
          -0.7500511202208137,
          0.4657791581196217,
          -0.694317760791448,
          0.5323281945892034,
          1.0744949799025156,
          -0.5757996261723936,
          0.6175531749144147,
          -1.3308095173861523,
          -0.3041411470782431,
          -0.32321262916407295,
          1.3451360503158794,
          -0.22258765641468636,
          0.46276086443159536,
          1.305473094444253,
          -1.2557224375752478,
          -0.10735439230579584,
          0.15539669136081516,
          0.2454287275781737,
          0.709062744071629,
          -1.0189306817494845,
          -2.8313600195386575,
          -1.2898923383254388,
          -0.3335219739601589,
          -0.4645270990903758,
          -0.8103778869906966,
          1.777486986773079,
          -1.3100053866097574,
          -0.0061975588456562435,
          -0.3169815636267048,
          0.9884135602991152,
          -1.311183355018789,
          1.3503314844721983,
          -1.176715892945502,
          0.5248186280331063,
          0.7445747839308063,
          1.6061207522399603,
          0.8945753050864336,
          -1.9802230667354683,
          0.9670175266026474,
          -0.38313088682029106,
          0.11504863104212563,
          0.2578355137559848,
          -1.0821243444171453,
          -0.09448353023062106,
          2.280294479006378,
          -0.17323267358745653,
          1.576825520990779,
          -1.1218075790792321,
          0.963955846773198,
          -0.534160103149209,
          -0.47914281610558834,
          -0.632605606970785,
          1.6854458923256828,
          -0.7524602936912916,
          -0.1503760974022031,
          0.32477971265012107,
          0.8838810141917546,
          -0.4830171405408817,
          0.4633496042189074,
          0.6629779705259863,
          -1.3091493510560799,
          0.4445862882224116,
          1.476563650171718,
          0.5203636349511526,
          -0.10072918007507821,
          0.6815092069551677,
          -1.6553484152033242,
          -0.5437242883934308
         ],
         "xaxis": "x3",
         "y": [
          0.3410614466753071,
          -1.1035524050054597,
          0.01497802970479452,
          -0.4923405339752979,
          -0.711740649467883,
          0.7611113231300444,
          -0.32899989496145043,
          -1.0003056778373516,
          -1.144108410930388,
          -0.7187659800223282,
          -0.8827891809503372,
          0.16527534978219205,
          0.33791501376902755,
          0.2845952287777885,
          -2.031762480119184,
          0.009561136766891088,
          -0.37499414498681033,
          0.7436276548650762,
          -0.08613852640362644,
          -1.788868487410151,
          0.6091820625025955,
          -0.540546683835764,
          -1.3830705697321766,
          -0.22776248598870943,
          0.04791488496871383,
          0.14734661797990722,
          0.6837492096990183,
          0.4909535703078963,
          -0.5763766572692686,
          1.7556808706923992,
          -0.21643572049270607,
          -0.08138650173686049,
          -0.41988696887517796,
          0.5896403672067946,
          -0.15796893354889477,
          0.03098947180102704,
          -1.1741362797157253,
          -0.5288212423479839,
          -1.0461934563699007,
          -1.8047730897321894,
          -0.18922230488345462,
          0.4448399483986472,
          0.09802387104390282,
          0.3675012254291077,
          -2.199418690052648,
          0.9672627288932981,
          -1.6104735507037404,
          1.0793883903440407,
          -1.7442712770335072,
          -0.2006977228942966,
          1.1604057740322227,
          0.8380871794918501,
          0.3434621276866279,
          -1.4104992622520467,
          1.311238947350882,
          0.9412950281879889,
          -0.3350723872072907,
          0.6951180795417036,
          -0.9121582740527129,
          0.18765291170273096,
          -0.690685295257295,
          0.8852386085818393,
          0.4317636746726903,
          -0.7504024305600105,
          -0.39335965300494274,
          0.3694506068850978,
          -0.10252111873440109,
          0.49884624438508196,
          0.055394235359639964,
          0.011792637052425847,
          -0.8082790203993668,
          -1.3615811568324008,
          -0.4873899268497068,
          0.38309544271604257,
          0.4242660099135097,
          2.2187119574585603,
          -0.01959273839618212,
          -0.8646247657702009,
          0.08787197959542621,
          -0.1154797457890154,
          0.33140686940164854,
          -0.6196352065642001,
          0.3227781557323908,
          0.2447772792318997,
          -0.9529620548470774,
          -1.1779499157234683,
          0.362052923601659,
          0.36545821597693284,
          0.5563628463658707,
          0.09204794996115445,
          0.5305702320652781,
          1.2972359829146172,
          -0.463871893327936,
          -2.1652174380047438,
          1.3950847840966412,
          1.25889143735063,
          1.5414336680370502,
          -0.028970197857147585,
          -1.3978466191671446,
          -0.4684792022305753
         ],
         "yaxis": "y3"
        },
        {
         "line": {
          "color": "rgba(128, 128, 128, 1.0)",
          "dash": "solid",
          "shape": "linear",
          "width": 1.3
         },
         "marker": {
          "size": 2,
          "symbol": "circle"
         },
         "mode": "markers",
         "name": "A",
         "text": "",
         "type": "scatter",
         "x": [
          -0.28253664986165766,
          -0.33904390394274625,
          -0.6047680721327735,
          0.6319507291868012,
          0.08021080511288874,
          -0.97896691342991,
          0.4369547333665759,
          -0.7985562934630596,
          0.32355756348101233,
          0.17854988139187036,
          -0.39085134916630543,
          -1.5321370768705596,
          0.5861424543076836,
          2.715835390300358,
          -1.3640206736326035,
          0.053510413565636135,
          0.23066249339653072,
          -0.9000073817487739,
          0.9819838235425686,
          -1.744346769757433,
          -1.476470196762409,
          0.21746980135314714,
          -0.34197060462713014,
          0.30613483379581946,
          0.1580369293672214,
          1.6409417618581168,
          -0.6236935701276197,
          -0.4991547268115103,
          0.7647031685804507,
          -2.057966117769427,
          0.07245698303131398,
          -1.997422627118517,
          -1.3578103866767408,
          -0.4588976279778724,
          -0.2454192395594232,
          0.6101007402398854,
          -0.40256956678416195,
          -0.45482856969035035,
          0.5081886564616441,
          -0.025645677346603758,
          1.0873209343675125,
          -0.4837540231899125,
          -1.3658193840021244,
          0.8709806074409643,
          0.5227006631101526,
          0.49932167167711755,
          -0.1584601394811962,
          -1.272619741579752,
          0.08812063144630929,
          -2.4919502989164677,
          0.4615886663651887,
          1.5964300278251782,
          -0.2333403880597775,
          -1.4766687191490893,
          -0.829216493997643,
          2.0719915614687685,
          0.598632674767342,
          0.13311083910793248,
          -0.32805792901128833,
          0.6355408144030831,
          0.046021443643492484,
          1.2005067852810665,
          0.1586335546924041,
          -0.15157832821376174,
          -0.46904019426122073,
          0.3682667349324615,
          1.0455848008493762,
          0.6853331966485996,
          -2.3955059365107045,
          -0.4746208167669859,
          -1.4442781106443496,
          -1.235846616259877,
          0.7634956216937328,
          0.36410298923273937,
          0.2819504634022776,
          0.6214448156567906,
          0.5799914555970304,
          -0.6312564703999389,
          -0.39107502929744736,
          1.3765104283778724,
          0.1453355977174186,
          0.4025782781105333,
          -1.0490846276753765,
          0.08067141982119372,
          0.042136280705729286,
          0.9800814899045366,
          0.09139322288024926,
          0.5173223544429093,
          -0.4522899727238104,
          1.0364086713401168,
          1.4337379459739363,
          -0.3459998925737082,
          0.6517389335619018,
          -0.7458190969260151,
          -1.3743874310232795,
          -1.2824336424269147,
          -0.4871339431225125,
          -1.725912694868446,
          0.13081866800058184,
          -2.6935481159733787
         ],
         "xaxis": "x4",
         "y": [
          0.3410614466753071,
          -1.1035524050054597,
          0.01497802970479452,
          -0.4923405339752979,
          -0.711740649467883,
          0.7611113231300444,
          -0.32899989496145043,
          -1.0003056778373516,
          -1.144108410930388,
          -0.7187659800223282,
          -0.8827891809503372,
          0.16527534978219205,
          0.33791501376902755,
          0.2845952287777885,
          -2.031762480119184,
          0.009561136766891088,
          -0.37499414498681033,
          0.7436276548650762,
          -0.08613852640362644,
          -1.788868487410151,
          0.6091820625025955,
          -0.540546683835764,
          -1.3830705697321766,
          -0.22776248598870943,
          0.04791488496871383,
          0.14734661797990722,
          0.6837492096990183,
          0.4909535703078963,
          -0.5763766572692686,
          1.7556808706923992,
          -0.21643572049270607,
          -0.08138650173686049,
          -0.41988696887517796,
          0.5896403672067946,
          -0.15796893354889477,
          0.03098947180102704,
          -1.1741362797157253,
          -0.5288212423479839,
          -1.0461934563699007,
          -1.8047730897321894,
          -0.18922230488345462,
          0.4448399483986472,
          0.09802387104390282,
          0.3675012254291077,
          -2.199418690052648,
          0.9672627288932981,
          -1.6104735507037404,
          1.0793883903440407,
          -1.7442712770335072,
          -0.2006977228942966,
          1.1604057740322227,
          0.8380871794918501,
          0.3434621276866279,
          -1.4104992622520467,
          1.311238947350882,
          0.9412950281879889,
          -0.3350723872072907,
          0.6951180795417036,
          -0.9121582740527129,
          0.18765291170273096,
          -0.690685295257295,
          0.8852386085818393,
          0.4317636746726903,
          -0.7504024305600105,
          -0.39335965300494274,
          0.3694506068850978,
          -0.10252111873440109,
          0.49884624438508196,
          0.055394235359639964,
          0.011792637052425847,
          -0.8082790203993668,
          -1.3615811568324008,
          -0.4873899268497068,
          0.38309544271604257,
          0.4242660099135097,
          2.2187119574585603,
          -0.01959273839618212,
          -0.8646247657702009,
          0.08787197959542621,
          -0.1154797457890154,
          0.33140686940164854,
          -0.6196352065642001,
          0.3227781557323908,
          0.2447772792318997,
          -0.9529620548470774,
          -1.1779499157234683,
          0.362052923601659,
          0.36545821597693284,
          0.5563628463658707,
          0.09204794996115445,
          0.5305702320652781,
          1.2972359829146172,
          -0.463871893327936,
          -2.1652174380047438,
          1.3950847840966412,
          1.25889143735063,
          1.5414336680370502,
          -0.028970197857147585,
          -1.3978466191671446,
          -0.4684792022305753
         ],
         "yaxis": "y4"
        },
        {
         "line": {
          "color": "rgba(128, 128, 128, 1.0)",
          "dash": "solid",
          "shape": "linear",
          "width": 1.3
         },
         "marker": {
          "size": 2,
          "symbol": "circle"
         },
         "mode": "markers",
         "name": "B",
         "text": "",
         "type": "scatter",
         "x": [
          0.3410614466753071,
          -1.1035524050054597,
          0.01497802970479452,
          -0.4923405339752979,
          -0.711740649467883,
          0.7611113231300444,
          -0.32899989496145043,
          -1.0003056778373516,
          -1.144108410930388,
          -0.7187659800223282,
          -0.8827891809503372,
          0.16527534978219205,
          0.33791501376902755,
          0.2845952287777885,
          -2.031762480119184,
          0.009561136766891088,
          -0.37499414498681033,
          0.7436276548650762,
          -0.08613852640362644,
          -1.788868487410151,
          0.6091820625025955,
          -0.540546683835764,
          -1.3830705697321766,
          -0.22776248598870943,
          0.04791488496871383,
          0.14734661797990722,
          0.6837492096990183,
          0.4909535703078963,
          -0.5763766572692686,
          1.7556808706923992,
          -0.21643572049270607,
          -0.08138650173686049,
          -0.41988696887517796,
          0.5896403672067946,
          -0.15796893354889477,
          0.03098947180102704,
          -1.1741362797157253,
          -0.5288212423479839,
          -1.0461934563699007,
          -1.8047730897321894,
          -0.18922230488345462,
          0.4448399483986472,
          0.09802387104390282,
          0.3675012254291077,
          -2.199418690052648,
          0.9672627288932981,
          -1.6104735507037404,
          1.0793883903440407,
          -1.7442712770335072,
          -0.2006977228942966,
          1.1604057740322227,
          0.8380871794918501,
          0.3434621276866279,
          -1.4104992622520467,
          1.311238947350882,
          0.9412950281879889,
          -0.3350723872072907,
          0.6951180795417036,
          -0.9121582740527129,
          0.18765291170273096,
          -0.690685295257295,
          0.8852386085818393,
          0.4317636746726903,
          -0.7504024305600105,
          -0.39335965300494274,
          0.3694506068850978,
          -0.10252111873440109,
          0.49884624438508196,
          0.055394235359639964,
          0.011792637052425847,
          -0.8082790203993668,
          -1.3615811568324008,
          -0.4873899268497068,
          0.38309544271604257,
          0.4242660099135097,
          2.2187119574585603,
          -0.01959273839618212,
          -0.8646247657702009,
          0.08787197959542621,
          -0.1154797457890154,
          0.33140686940164854,
          -0.6196352065642001,
          0.3227781557323908,
          0.2447772792318997,
          -0.9529620548470774,
          -1.1779499157234683,
          0.362052923601659,
          0.36545821597693284,
          0.5563628463658707,
          0.09204794996115445,
          0.5305702320652781,
          1.2972359829146172,
          -0.463871893327936,
          -2.1652174380047438,
          1.3950847840966412,
          1.25889143735063,
          1.5414336680370502,
          -0.028970197857147585,
          -1.3978466191671446,
          -0.4684792022305753
         ],
         "xaxis": "x5",
         "y": [
          1.6078167885510994,
          0.5152505787154171,
          -1.732949449951613,
          -0.036945780938364245,
          -1.3551933367335174,
          0.5319072842514352,
          1.0697347319830688,
          -0.6363260721476971,
          -0.20643662573362598,
          -1.7853998237979154,
          -0.43298489994161915,
          -0.8220605061383672,
          -1.0416535261667546,
          -0.4436110742323203,
          -0.8849717239394095,
          0.82462023527033,
          -0.4511224528127728,
          -2.1521002255906314,
          0.6885075559620766,
          0.9619774031436268,
          -1.601282319516909,
          -1.0187221532576956,
          -0.37185922386743625,
          0.6327713965426722,
          0.6958040276700553,
          0.29576441234029416,
          0.1870375683798816,
          0.21216307603497175,
          -0.46826979686342507,
          0.5265808883122749,
          1.655233754967969,
          0.7847270184177594,
          -0.06524297551623097,
          -0.9050608073638097,
          -0.7568972725338796,
          1.8504073752072894,
          -1.3319273680622228,
          1.025323553637435,
          -1.1929053119674793,
          0.37609355139190637,
          -0.6931871349019727,
          -0.26788738816063384,
          0.6452730391434862,
          -0.6410794715938621,
          0.33601850854039045,
          1.062834980137413,
          -0.13797130277316041,
          -0.3472728358101834,
          -1.9295221797591842,
          0.688887327408491,
          -1.0059879927275013,
          -0.050838321432649304,
          2.810881273367778,
          1.5703602950010316,
          0.6688810634008149,
          -1.6495902709058397,
          0.6370014643522423,
          -0.6926906557976084,
          -1.7365465452273703,
          -1.3391600076707793,
          -2.403423131134129,
          -1.8354091651813158,
          0.6708773143428056,
          0.879946117968798,
          0.8808745167598088,
          0.9741666663770794,
          -0.8874965115923111,
          -0.12403926065668726,
          1.4859109330104527,
          0.02280886808632988,
          -1.1667746795991663,
          -0.978686343644049,
          -1.4082136206191738,
          -1.2271331376969463,
          -1.2464437921438107,
          -0.4073132003975011,
          1.3898802816681095,
          0.9273059334446105,
          0.39645412550268183,
          0.3916040681168114,
          1.7819762431059742,
          2.7889896150765257,
          -0.010367608731995102,
          -0.8704789634274461,
          2.2738070570513167,
          -0.723458871193624,
          -0.8191102049372018,
          0.46412661059334726,
          0.11437839854593614,
          0.8480965711153516,
          -0.4528516451940342,
          1.4002905273470163,
          -0.6214770108332643,
          0.25299312347365505,
          -2.538120488901347,
          -0.7338163679908073,
          -0.8294853006575363,
          -0.7021157089248629,
          1.258967519250579,
          -0.7460926635527159
         ],
         "yaxis": "y5"
        },
        {
         "histfunc": "count",
         "histnorm": "",
         "marker": {
          "color": "rgba(55, 128, 191, 1.0)",
          "line": {
           "color": "#4D5663",
           "width": 1.3
          }
         },
         "name": "B",
         "nbinsx": 10,
         "opacity": 0.8,
         "orientation": "v",
         "type": "histogram",
         "x": [
          1.6078167885510994,
          0.5152505787154171,
          -1.732949449951613,
          -0.036945780938364245,
          -1.3551933367335174,
          0.5319072842514352,
          1.0697347319830688,
          -0.6363260721476971,
          -0.20643662573362598,
          -1.7853998237979154,
          -0.43298489994161915,
          -0.8220605061383672,
          -1.0416535261667546,
          -0.4436110742323203,
          -0.8849717239394095,
          0.82462023527033,
          -0.4511224528127728,
          -2.1521002255906314,
          0.6885075559620766,
          0.9619774031436268,
          -1.601282319516909,
          -1.0187221532576956,
          -0.37185922386743625,
          0.6327713965426722,
          0.6958040276700553,
          0.29576441234029416,
          0.1870375683798816,
          0.21216307603497175,
          -0.46826979686342507,
          0.5265808883122749,
          1.655233754967969,
          0.7847270184177594,
          -0.06524297551623097,
          -0.9050608073638097,
          -0.7568972725338796,
          1.8504073752072894,
          -1.3319273680622228,
          1.025323553637435,
          -1.1929053119674793,
          0.37609355139190637,
          -0.6931871349019727,
          -0.26788738816063384,
          0.6452730391434862,
          -0.6410794715938621,
          0.33601850854039045,
          1.062834980137413,
          -0.13797130277316041,
          -0.3472728358101834,
          -1.9295221797591842,
          0.688887327408491,
          -1.0059879927275013,
          -0.050838321432649304,
          2.810881273367778,
          1.5703602950010316,
          0.6688810634008149,
          -1.6495902709058397,
          0.6370014643522423,
          -0.6926906557976084,
          -1.7365465452273703,
          -1.3391600076707793,
          -2.403423131134129,
          -1.8354091651813158,
          0.6708773143428056,
          0.879946117968798,
          0.8808745167598088,
          0.9741666663770794,
          -0.8874965115923111,
          -0.12403926065668726,
          1.4859109330104527,
          0.02280886808632988,
          -1.1667746795991663,
          -0.978686343644049,
          -1.4082136206191738,
          -1.2271331376969463,
          -1.2464437921438107,
          -0.4073132003975011,
          1.3898802816681095,
          0.9273059334446105,
          0.39645412550268183,
          0.3916040681168114,
          1.7819762431059742,
          2.7889896150765257,
          -0.010367608731995102,
          -0.8704789634274461,
          2.2738070570513167,
          -0.723458871193624,
          -0.8191102049372018,
          0.46412661059334726,
          0.11437839854593614,
          0.8480965711153516,
          -0.4528516451940342,
          1.4002905273470163,
          -0.6214770108332643,
          0.25299312347365505,
          -2.538120488901347,
          -0.7338163679908073,
          -0.8294853006575363,
          -0.7021157089248629,
          1.258967519250579,
          -0.7460926635527159
         ],
         "xaxis": "x6",
         "yaxis": "y6"
        },
        {
         "line": {
          "color": "rgba(128, 128, 128, 1.0)",
          "dash": "solid",
          "shape": "linear",
          "width": 1.3
         },
         "marker": {
          "size": 2,
          "symbol": "circle"
         },
         "mode": "markers",
         "name": "B",
         "text": "",
         "type": "scatter",
         "x": [
          -0.40893659238493957,
          0.5284695897665097,
          -1.3499824366425284,
          0.20947320867091684,
          0.06313788697464681,
          0.2240257478807152,
          1.3084846093844364,
          -0.09769227025138068,
          3.0269187001332876,
          -0.5550378168902134,
          0.32298539684628774,
          -0.9811850106703884,
          0.1877224155419993,
          -0.4476847275857444,
          -0.043444973539220784,
          -0.8568041222728902,
          0.6678292272658113,
          -0.5541880396613528,
          0.17231564672572366,
          -2.347037685253554,
          1.7901696378077814,
          -0.13873703056336914,
          1.3703117808680336,
          -1.09557404652743,
          -0.840483658635545,
          -0.0782207435962417,
          -2.4901813063590845,
          0.7954577690986171,
          0.7563678500304583,
          0.8282810592239327,
          1.3736171084097888,
          -0.23051949047893924,
          -0.7500511202208137,
          0.4657791581196217,
          -0.694317760791448,
          0.5323281945892034,
          1.0744949799025156,
          -0.5757996261723936,
          0.6175531749144147,
          -1.3308095173861523,
          -0.3041411470782431,
          -0.32321262916407295,
          1.3451360503158794,
          -0.22258765641468636,
          0.46276086443159536,
          1.305473094444253,
          -1.2557224375752478,
          -0.10735439230579584,
          0.15539669136081516,
          0.2454287275781737,
          0.709062744071629,
          -1.0189306817494845,
          -2.8313600195386575,
          -1.2898923383254388,
          -0.3335219739601589,
          -0.4645270990903758,
          -0.8103778869906966,
          1.777486986773079,
          -1.3100053866097574,
          -0.0061975588456562435,
          -0.3169815636267048,
          0.9884135602991152,
          -1.311183355018789,
          1.3503314844721983,
          -1.176715892945502,
          0.5248186280331063,
          0.7445747839308063,
          1.6061207522399603,
          0.8945753050864336,
          -1.9802230667354683,
          0.9670175266026474,
          -0.38313088682029106,
          0.11504863104212563,
          0.2578355137559848,
          -1.0821243444171453,
          -0.09448353023062106,
          2.280294479006378,
          -0.17323267358745653,
          1.576825520990779,
          -1.1218075790792321,
          0.963955846773198,
          -0.534160103149209,
          -0.47914281610558834,
          -0.632605606970785,
          1.6854458923256828,
          -0.7524602936912916,
          -0.1503760974022031,
          0.32477971265012107,
          0.8838810141917546,
          -0.4830171405408817,
          0.4633496042189074,
          0.6629779705259863,
          -1.3091493510560799,
          0.4445862882224116,
          1.476563650171718,
          0.5203636349511526,
          -0.10072918007507821,
          0.6815092069551677,
          -1.6553484152033242,
          -0.5437242883934308
         ],
         "xaxis": "x7",
         "y": [
          1.6078167885510994,
          0.5152505787154171,
          -1.732949449951613,
          -0.036945780938364245,
          -1.3551933367335174,
          0.5319072842514352,
          1.0697347319830688,
          -0.6363260721476971,
          -0.20643662573362598,
          -1.7853998237979154,
          -0.43298489994161915,
          -0.8220605061383672,
          -1.0416535261667546,
          -0.4436110742323203,
          -0.8849717239394095,
          0.82462023527033,
          -0.4511224528127728,
          -2.1521002255906314,
          0.6885075559620766,
          0.9619774031436268,
          -1.601282319516909,
          -1.0187221532576956,
          -0.37185922386743625,
          0.6327713965426722,
          0.6958040276700553,
          0.29576441234029416,
          0.1870375683798816,
          0.21216307603497175,
          -0.46826979686342507,
          0.5265808883122749,
          1.655233754967969,
          0.7847270184177594,
          -0.06524297551623097,
          -0.9050608073638097,
          -0.7568972725338796,
          1.8504073752072894,
          -1.3319273680622228,
          1.025323553637435,
          -1.1929053119674793,
          0.37609355139190637,
          -0.6931871349019727,
          -0.26788738816063384,
          0.6452730391434862,
          -0.6410794715938621,
          0.33601850854039045,
          1.062834980137413,
          -0.13797130277316041,
          -0.3472728358101834,
          -1.9295221797591842,
          0.688887327408491,
          -1.0059879927275013,
          -0.050838321432649304,
          2.810881273367778,
          1.5703602950010316,
          0.6688810634008149,
          -1.6495902709058397,
          0.6370014643522423,
          -0.6926906557976084,
          -1.7365465452273703,
          -1.3391600076707793,
          -2.403423131134129,
          -1.8354091651813158,
          0.6708773143428056,
          0.879946117968798,
          0.8808745167598088,
          0.9741666663770794,
          -0.8874965115923111,
          -0.12403926065668726,
          1.4859109330104527,
          0.02280886808632988,
          -1.1667746795991663,
          -0.978686343644049,
          -1.4082136206191738,
          -1.2271331376969463,
          -1.2464437921438107,
          -0.4073132003975011,
          1.3898802816681095,
          0.9273059334446105,
          0.39645412550268183,
          0.3916040681168114,
          1.7819762431059742,
          2.7889896150765257,
          -0.010367608731995102,
          -0.8704789634274461,
          2.2738070570513167,
          -0.723458871193624,
          -0.8191102049372018,
          0.46412661059334726,
          0.11437839854593614,
          0.8480965711153516,
          -0.4528516451940342,
          1.4002905273470163,
          -0.6214770108332643,
          0.25299312347365505,
          -2.538120488901347,
          -0.7338163679908073,
          -0.8294853006575363,
          -0.7021157089248629,
          1.258967519250579,
          -0.7460926635527159
         ],
         "yaxis": "y7"
        },
        {
         "line": {
          "color": "rgba(128, 128, 128, 1.0)",
          "dash": "solid",
          "shape": "linear",
          "width": 1.3
         },
         "marker": {
          "size": 2,
          "symbol": "circle"
         },
         "mode": "markers",
         "name": "B",
         "text": "",
         "type": "scatter",
         "x": [
          -0.28253664986165766,
          -0.33904390394274625,
          -0.6047680721327735,
          0.6319507291868012,
          0.08021080511288874,
          -0.97896691342991,
          0.4369547333665759,
          -0.7985562934630596,
          0.32355756348101233,
          0.17854988139187036,
          -0.39085134916630543,
          -1.5321370768705596,
          0.5861424543076836,
          2.715835390300358,
          -1.3640206736326035,
          0.053510413565636135,
          0.23066249339653072,
          -0.9000073817487739,
          0.9819838235425686,
          -1.744346769757433,
          -1.476470196762409,
          0.21746980135314714,
          -0.34197060462713014,
          0.30613483379581946,
          0.1580369293672214,
          1.6409417618581168,
          -0.6236935701276197,
          -0.4991547268115103,
          0.7647031685804507,
          -2.057966117769427,
          0.07245698303131398,
          -1.997422627118517,
          -1.3578103866767408,
          -0.4588976279778724,
          -0.2454192395594232,
          0.6101007402398854,
          -0.40256956678416195,
          -0.45482856969035035,
          0.5081886564616441,
          -0.025645677346603758,
          1.0873209343675125,
          -0.4837540231899125,
          -1.3658193840021244,
          0.8709806074409643,
          0.5227006631101526,
          0.49932167167711755,
          -0.1584601394811962,
          -1.272619741579752,
          0.08812063144630929,
          -2.4919502989164677,
          0.4615886663651887,
          1.5964300278251782,
          -0.2333403880597775,
          -1.4766687191490893,
          -0.829216493997643,
          2.0719915614687685,
          0.598632674767342,
          0.13311083910793248,
          -0.32805792901128833,
          0.6355408144030831,
          0.046021443643492484,
          1.2005067852810665,
          0.1586335546924041,
          -0.15157832821376174,
          -0.46904019426122073,
          0.3682667349324615,
          1.0455848008493762,
          0.6853331966485996,
          -2.3955059365107045,
          -0.4746208167669859,
          -1.4442781106443496,
          -1.235846616259877,
          0.7634956216937328,
          0.36410298923273937,
          0.2819504634022776,
          0.6214448156567906,
          0.5799914555970304,
          -0.6312564703999389,
          -0.39107502929744736,
          1.3765104283778724,
          0.1453355977174186,
          0.4025782781105333,
          -1.0490846276753765,
          0.08067141982119372,
          0.042136280705729286,
          0.9800814899045366,
          0.09139322288024926,
          0.5173223544429093,
          -0.4522899727238104,
          1.0364086713401168,
          1.4337379459739363,
          -0.3459998925737082,
          0.6517389335619018,
          -0.7458190969260151,
          -1.3743874310232795,
          -1.2824336424269147,
          -0.4871339431225125,
          -1.725912694868446,
          0.13081866800058184,
          -2.6935481159733787
         ],
         "xaxis": "x8",
         "y": [
          1.6078167885510994,
          0.5152505787154171,
          -1.732949449951613,
          -0.036945780938364245,
          -1.3551933367335174,
          0.5319072842514352,
          1.0697347319830688,
          -0.6363260721476971,
          -0.20643662573362598,
          -1.7853998237979154,
          -0.43298489994161915,
          -0.8220605061383672,
          -1.0416535261667546,
          -0.4436110742323203,
          -0.8849717239394095,
          0.82462023527033,
          -0.4511224528127728,
          -2.1521002255906314,
          0.6885075559620766,
          0.9619774031436268,
          -1.601282319516909,
          -1.0187221532576956,
          -0.37185922386743625,
          0.6327713965426722,
          0.6958040276700553,
          0.29576441234029416,
          0.1870375683798816,
          0.21216307603497175,
          -0.46826979686342507,
          0.5265808883122749,
          1.655233754967969,
          0.7847270184177594,
          -0.06524297551623097,
          -0.9050608073638097,
          -0.7568972725338796,
          1.8504073752072894,
          -1.3319273680622228,
          1.025323553637435,
          -1.1929053119674793,
          0.37609355139190637,
          -0.6931871349019727,
          -0.26788738816063384,
          0.6452730391434862,
          -0.6410794715938621,
          0.33601850854039045,
          1.062834980137413,
          -0.13797130277316041,
          -0.3472728358101834,
          -1.9295221797591842,
          0.688887327408491,
          -1.0059879927275013,
          -0.050838321432649304,
          2.810881273367778,
          1.5703602950010316,
          0.6688810634008149,
          -1.6495902709058397,
          0.6370014643522423,
          -0.6926906557976084,
          -1.7365465452273703,
          -1.3391600076707793,
          -2.403423131134129,
          -1.8354091651813158,
          0.6708773143428056,
          0.879946117968798,
          0.8808745167598088,
          0.9741666663770794,
          -0.8874965115923111,
          -0.12403926065668726,
          1.4859109330104527,
          0.02280886808632988,
          -1.1667746795991663,
          -0.978686343644049,
          -1.4082136206191738,
          -1.2271331376969463,
          -1.2464437921438107,
          -0.4073132003975011,
          1.3898802816681095,
          0.9273059334446105,
          0.39645412550268183,
          0.3916040681168114,
          1.7819762431059742,
          2.7889896150765257,
          -0.010367608731995102,
          -0.8704789634274461,
          2.2738070570513167,
          -0.723458871193624,
          -0.8191102049372018,
          0.46412661059334726,
          0.11437839854593614,
          0.8480965711153516,
          -0.4528516451940342,
          1.4002905273470163,
          -0.6214770108332643,
          0.25299312347365505,
          -2.538120488901347,
          -0.7338163679908073,
          -0.8294853006575363,
          -0.7021157089248629,
          1.258967519250579,
          -0.7460926635527159
         ],
         "yaxis": "y8"
        },
        {
         "line": {
          "color": "rgba(128, 128, 128, 1.0)",
          "dash": "solid",
          "shape": "linear",
          "width": 1.3
         },
         "marker": {
          "size": 2,
          "symbol": "circle"
         },
         "mode": "markers",
         "name": "C",
         "text": "",
         "type": "scatter",
         "x": [
          0.3410614466753071,
          -1.1035524050054597,
          0.01497802970479452,
          -0.4923405339752979,
          -0.711740649467883,
          0.7611113231300444,
          -0.32899989496145043,
          -1.0003056778373516,
          -1.144108410930388,
          -0.7187659800223282,
          -0.8827891809503372,
          0.16527534978219205,
          0.33791501376902755,
          0.2845952287777885,
          -2.031762480119184,
          0.009561136766891088,
          -0.37499414498681033,
          0.7436276548650762,
          -0.08613852640362644,
          -1.788868487410151,
          0.6091820625025955,
          -0.540546683835764,
          -1.3830705697321766,
          -0.22776248598870943,
          0.04791488496871383,
          0.14734661797990722,
          0.6837492096990183,
          0.4909535703078963,
          -0.5763766572692686,
          1.7556808706923992,
          -0.21643572049270607,
          -0.08138650173686049,
          -0.41988696887517796,
          0.5896403672067946,
          -0.15796893354889477,
          0.03098947180102704,
          -1.1741362797157253,
          -0.5288212423479839,
          -1.0461934563699007,
          -1.8047730897321894,
          -0.18922230488345462,
          0.4448399483986472,
          0.09802387104390282,
          0.3675012254291077,
          -2.199418690052648,
          0.9672627288932981,
          -1.6104735507037404,
          1.0793883903440407,
          -1.7442712770335072,
          -0.2006977228942966,
          1.1604057740322227,
          0.8380871794918501,
          0.3434621276866279,
          -1.4104992622520467,
          1.311238947350882,
          0.9412950281879889,
          -0.3350723872072907,
          0.6951180795417036,
          -0.9121582740527129,
          0.18765291170273096,
          -0.690685295257295,
          0.8852386085818393,
          0.4317636746726903,
          -0.7504024305600105,
          -0.39335965300494274,
          0.3694506068850978,
          -0.10252111873440109,
          0.49884624438508196,
          0.055394235359639964,
          0.011792637052425847,
          -0.8082790203993668,
          -1.3615811568324008,
          -0.4873899268497068,
          0.38309544271604257,
          0.4242660099135097,
          2.2187119574585603,
          -0.01959273839618212,
          -0.8646247657702009,
          0.08787197959542621,
          -0.1154797457890154,
          0.33140686940164854,
          -0.6196352065642001,
          0.3227781557323908,
          0.2447772792318997,
          -0.9529620548470774,
          -1.1779499157234683,
          0.362052923601659,
          0.36545821597693284,
          0.5563628463658707,
          0.09204794996115445,
          0.5305702320652781,
          1.2972359829146172,
          -0.463871893327936,
          -2.1652174380047438,
          1.3950847840966412,
          1.25889143735063,
          1.5414336680370502,
          -0.028970197857147585,
          -1.3978466191671446,
          -0.4684792022305753
         ],
         "xaxis": "x9",
         "y": [
          -0.40893659238493957,
          0.5284695897665097,
          -1.3499824366425284,
          0.20947320867091684,
          0.06313788697464681,
          0.2240257478807152,
          1.3084846093844364,
          -0.09769227025138068,
          3.0269187001332876,
          -0.5550378168902134,
          0.32298539684628774,
          -0.9811850106703884,
          0.1877224155419993,
          -0.4476847275857444,
          -0.043444973539220784,
          -0.8568041222728902,
          0.6678292272658113,
          -0.5541880396613528,
          0.17231564672572366,
          -2.347037685253554,
          1.7901696378077814,
          -0.13873703056336914,
          1.3703117808680336,
          -1.09557404652743,
          -0.840483658635545,
          -0.0782207435962417,
          -2.4901813063590845,
          0.7954577690986171,
          0.7563678500304583,
          0.8282810592239327,
          1.3736171084097888,
          -0.23051949047893924,
          -0.7500511202208137,
          0.4657791581196217,
          -0.694317760791448,
          0.5323281945892034,
          1.0744949799025156,
          -0.5757996261723936,
          0.6175531749144147,
          -1.3308095173861523,
          -0.3041411470782431,
          -0.32321262916407295,
          1.3451360503158794,
          -0.22258765641468636,
          0.46276086443159536,
          1.305473094444253,
          -1.2557224375752478,
          -0.10735439230579584,
          0.15539669136081516,
          0.2454287275781737,
          0.709062744071629,
          -1.0189306817494845,
          -2.8313600195386575,
          -1.2898923383254388,
          -0.3335219739601589,
          -0.4645270990903758,
          -0.8103778869906966,
          1.777486986773079,
          -1.3100053866097574,
          -0.0061975588456562435,
          -0.3169815636267048,
          0.9884135602991152,
          -1.311183355018789,
          1.3503314844721983,
          -1.176715892945502,
          0.5248186280331063,
          0.7445747839308063,
          1.6061207522399603,
          0.8945753050864336,
          -1.9802230667354683,
          0.9670175266026474,
          -0.38313088682029106,
          0.11504863104212563,
          0.2578355137559848,
          -1.0821243444171453,
          -0.09448353023062106,
          2.280294479006378,
          -0.17323267358745653,
          1.576825520990779,
          -1.1218075790792321,
          0.963955846773198,
          -0.534160103149209,
          -0.47914281610558834,
          -0.632605606970785,
          1.6854458923256828,
          -0.7524602936912916,
          -0.1503760974022031,
          0.32477971265012107,
          0.8838810141917546,
          -0.4830171405408817,
          0.4633496042189074,
          0.6629779705259863,
          -1.3091493510560799,
          0.4445862882224116,
          1.476563650171718,
          0.5203636349511526,
          -0.10072918007507821,
          0.6815092069551677,
          -1.6553484152033242,
          -0.5437242883934308
         ],
         "yaxis": "y9"
        },
        {
         "line": {
          "color": "rgba(128, 128, 128, 1.0)",
          "dash": "solid",
          "shape": "linear",
          "width": 1.3
         },
         "marker": {
          "size": 2,
          "symbol": "circle"
         },
         "mode": "markers",
         "name": "C",
         "text": "",
         "type": "scatter",
         "x": [
          1.6078167885510994,
          0.5152505787154171,
          -1.732949449951613,
          -0.036945780938364245,
          -1.3551933367335174,
          0.5319072842514352,
          1.0697347319830688,
          -0.6363260721476971,
          -0.20643662573362598,
          -1.7853998237979154,
          -0.43298489994161915,
          -0.8220605061383672,
          -1.0416535261667546,
          -0.4436110742323203,
          -0.8849717239394095,
          0.82462023527033,
          -0.4511224528127728,
          -2.1521002255906314,
          0.6885075559620766,
          0.9619774031436268,
          -1.601282319516909,
          -1.0187221532576956,
          -0.37185922386743625,
          0.6327713965426722,
          0.6958040276700553,
          0.29576441234029416,
          0.1870375683798816,
          0.21216307603497175,
          -0.46826979686342507,
          0.5265808883122749,
          1.655233754967969,
          0.7847270184177594,
          -0.06524297551623097,
          -0.9050608073638097,
          -0.7568972725338796,
          1.8504073752072894,
          -1.3319273680622228,
          1.025323553637435,
          -1.1929053119674793,
          0.37609355139190637,
          -0.6931871349019727,
          -0.26788738816063384,
          0.6452730391434862,
          -0.6410794715938621,
          0.33601850854039045,
          1.062834980137413,
          -0.13797130277316041,
          -0.3472728358101834,
          -1.9295221797591842,
          0.688887327408491,
          -1.0059879927275013,
          -0.050838321432649304,
          2.810881273367778,
          1.5703602950010316,
          0.6688810634008149,
          -1.6495902709058397,
          0.6370014643522423,
          -0.6926906557976084,
          -1.7365465452273703,
          -1.3391600076707793,
          -2.403423131134129,
          -1.8354091651813158,
          0.6708773143428056,
          0.879946117968798,
          0.8808745167598088,
          0.9741666663770794,
          -0.8874965115923111,
          -0.12403926065668726,
          1.4859109330104527,
          0.02280886808632988,
          -1.1667746795991663,
          -0.978686343644049,
          -1.4082136206191738,
          -1.2271331376969463,
          -1.2464437921438107,
          -0.4073132003975011,
          1.3898802816681095,
          0.9273059334446105,
          0.39645412550268183,
          0.3916040681168114,
          1.7819762431059742,
          2.7889896150765257,
          -0.010367608731995102,
          -0.8704789634274461,
          2.2738070570513167,
          -0.723458871193624,
          -0.8191102049372018,
          0.46412661059334726,
          0.11437839854593614,
          0.8480965711153516,
          -0.4528516451940342,
          1.4002905273470163,
          -0.6214770108332643,
          0.25299312347365505,
          -2.538120488901347,
          -0.7338163679908073,
          -0.8294853006575363,
          -0.7021157089248629,
          1.258967519250579,
          -0.7460926635527159
         ],
         "xaxis": "x10",
         "y": [
          -0.40893659238493957,
          0.5284695897665097,
          -1.3499824366425284,
          0.20947320867091684,
          0.06313788697464681,
          0.2240257478807152,
          1.3084846093844364,
          -0.09769227025138068,
          3.0269187001332876,
          -0.5550378168902134,
          0.32298539684628774,
          -0.9811850106703884,
          0.1877224155419993,
          -0.4476847275857444,
          -0.043444973539220784,
          -0.8568041222728902,
          0.6678292272658113,
          -0.5541880396613528,
          0.17231564672572366,
          -2.347037685253554,
          1.7901696378077814,
          -0.13873703056336914,
          1.3703117808680336,
          -1.09557404652743,
          -0.840483658635545,
          -0.0782207435962417,
          -2.4901813063590845,
          0.7954577690986171,
          0.7563678500304583,
          0.8282810592239327,
          1.3736171084097888,
          -0.23051949047893924,
          -0.7500511202208137,
          0.4657791581196217,
          -0.694317760791448,
          0.5323281945892034,
          1.0744949799025156,
          -0.5757996261723936,
          0.6175531749144147,
          -1.3308095173861523,
          -0.3041411470782431,
          -0.32321262916407295,
          1.3451360503158794,
          -0.22258765641468636,
          0.46276086443159536,
          1.305473094444253,
          -1.2557224375752478,
          -0.10735439230579584,
          0.15539669136081516,
          0.2454287275781737,
          0.709062744071629,
          -1.0189306817494845,
          -2.8313600195386575,
          -1.2898923383254388,
          -0.3335219739601589,
          -0.4645270990903758,
          -0.8103778869906966,
          1.777486986773079,
          -1.3100053866097574,
          -0.0061975588456562435,
          -0.3169815636267048,
          0.9884135602991152,
          -1.311183355018789,
          1.3503314844721983,
          -1.176715892945502,
          0.5248186280331063,
          0.7445747839308063,
          1.6061207522399603,
          0.8945753050864336,
          -1.9802230667354683,
          0.9670175266026474,
          -0.38313088682029106,
          0.11504863104212563,
          0.2578355137559848,
          -1.0821243444171453,
          -0.09448353023062106,
          2.280294479006378,
          -0.17323267358745653,
          1.576825520990779,
          -1.1218075790792321,
          0.963955846773198,
          -0.534160103149209,
          -0.47914281610558834,
          -0.632605606970785,
          1.6854458923256828,
          -0.7524602936912916,
          -0.1503760974022031,
          0.32477971265012107,
          0.8838810141917546,
          -0.4830171405408817,
          0.4633496042189074,
          0.6629779705259863,
          -1.3091493510560799,
          0.4445862882224116,
          1.476563650171718,
          0.5203636349511526,
          -0.10072918007507821,
          0.6815092069551677,
          -1.6553484152033242,
          -0.5437242883934308
         ],
         "yaxis": "y10"
        },
        {
         "histfunc": "count",
         "histnorm": "",
         "marker": {
          "color": "rgba(50, 171, 96, 1.0)",
          "line": {
           "color": "#4D5663",
           "width": 1.3
          }
         },
         "name": "C",
         "nbinsx": 10,
         "opacity": 0.8,
         "orientation": "v",
         "type": "histogram",
         "x": [
          -0.40893659238493957,
          0.5284695897665097,
          -1.3499824366425284,
          0.20947320867091684,
          0.06313788697464681,
          0.2240257478807152,
          1.3084846093844364,
          -0.09769227025138068,
          3.0269187001332876,
          -0.5550378168902134,
          0.32298539684628774,
          -0.9811850106703884,
          0.1877224155419993,
          -0.4476847275857444,
          -0.043444973539220784,
          -0.8568041222728902,
          0.6678292272658113,
          -0.5541880396613528,
          0.17231564672572366,
          -2.347037685253554,
          1.7901696378077814,
          -0.13873703056336914,
          1.3703117808680336,
          -1.09557404652743,
          -0.840483658635545,
          -0.0782207435962417,
          -2.4901813063590845,
          0.7954577690986171,
          0.7563678500304583,
          0.8282810592239327,
          1.3736171084097888,
          -0.23051949047893924,
          -0.7500511202208137,
          0.4657791581196217,
          -0.694317760791448,
          0.5323281945892034,
          1.0744949799025156,
          -0.5757996261723936,
          0.6175531749144147,
          -1.3308095173861523,
          -0.3041411470782431,
          -0.32321262916407295,
          1.3451360503158794,
          -0.22258765641468636,
          0.46276086443159536,
          1.305473094444253,
          -1.2557224375752478,
          -0.10735439230579584,
          0.15539669136081516,
          0.2454287275781737,
          0.709062744071629,
          -1.0189306817494845,
          -2.8313600195386575,
          -1.2898923383254388,
          -0.3335219739601589,
          -0.4645270990903758,
          -0.8103778869906966,
          1.777486986773079,
          -1.3100053866097574,
          -0.0061975588456562435,
          -0.3169815636267048,
          0.9884135602991152,
          -1.311183355018789,
          1.3503314844721983,
          -1.176715892945502,
          0.5248186280331063,
          0.7445747839308063,
          1.6061207522399603,
          0.8945753050864336,
          -1.9802230667354683,
          0.9670175266026474,
          -0.38313088682029106,
          0.11504863104212563,
          0.2578355137559848,
          -1.0821243444171453,
          -0.09448353023062106,
          2.280294479006378,
          -0.17323267358745653,
          1.576825520990779,
          -1.1218075790792321,
          0.963955846773198,
          -0.534160103149209,
          -0.47914281610558834,
          -0.632605606970785,
          1.6854458923256828,
          -0.7524602936912916,
          -0.1503760974022031,
          0.32477971265012107,
          0.8838810141917546,
          -0.4830171405408817,
          0.4633496042189074,
          0.6629779705259863,
          -1.3091493510560799,
          0.4445862882224116,
          1.476563650171718,
          0.5203636349511526,
          -0.10072918007507821,
          0.6815092069551677,
          -1.6553484152033242,
          -0.5437242883934308
         ],
         "xaxis": "x11",
         "yaxis": "y11"
        },
        {
         "line": {
          "color": "rgba(128, 128, 128, 1.0)",
          "dash": "solid",
          "shape": "linear",
          "width": 1.3
         },
         "marker": {
          "size": 2,
          "symbol": "circle"
         },
         "mode": "markers",
         "name": "C",
         "text": "",
         "type": "scatter",
         "x": [
          -0.28253664986165766,
          -0.33904390394274625,
          -0.6047680721327735,
          0.6319507291868012,
          0.08021080511288874,
          -0.97896691342991,
          0.4369547333665759,
          -0.7985562934630596,
          0.32355756348101233,
          0.17854988139187036,
          -0.39085134916630543,
          -1.5321370768705596,
          0.5861424543076836,
          2.715835390300358,
          -1.3640206736326035,
          0.053510413565636135,
          0.23066249339653072,
          -0.9000073817487739,
          0.9819838235425686,
          -1.744346769757433,
          -1.476470196762409,
          0.21746980135314714,
          -0.34197060462713014,
          0.30613483379581946,
          0.1580369293672214,
          1.6409417618581168,
          -0.6236935701276197,
          -0.4991547268115103,
          0.7647031685804507,
          -2.057966117769427,
          0.07245698303131398,
          -1.997422627118517,
          -1.3578103866767408,
          -0.4588976279778724,
          -0.2454192395594232,
          0.6101007402398854,
          -0.40256956678416195,
          -0.45482856969035035,
          0.5081886564616441,
          -0.025645677346603758,
          1.0873209343675125,
          -0.4837540231899125,
          -1.3658193840021244,
          0.8709806074409643,
          0.5227006631101526,
          0.49932167167711755,
          -0.1584601394811962,
          -1.272619741579752,
          0.08812063144630929,
          -2.4919502989164677,
          0.4615886663651887,
          1.5964300278251782,
          -0.2333403880597775,
          -1.4766687191490893,
          -0.829216493997643,
          2.0719915614687685,
          0.598632674767342,
          0.13311083910793248,
          -0.32805792901128833,
          0.6355408144030831,
          0.046021443643492484,
          1.2005067852810665,
          0.1586335546924041,
          -0.15157832821376174,
          -0.46904019426122073,
          0.3682667349324615,
          1.0455848008493762,
          0.6853331966485996,
          -2.3955059365107045,
          -0.4746208167669859,
          -1.4442781106443496,
          -1.235846616259877,
          0.7634956216937328,
          0.36410298923273937,
          0.2819504634022776,
          0.6214448156567906,
          0.5799914555970304,
          -0.6312564703999389,
          -0.39107502929744736,
          1.3765104283778724,
          0.1453355977174186,
          0.4025782781105333,
          -1.0490846276753765,
          0.08067141982119372,
          0.042136280705729286,
          0.9800814899045366,
          0.09139322288024926,
          0.5173223544429093,
          -0.4522899727238104,
          1.0364086713401168,
          1.4337379459739363,
          -0.3459998925737082,
          0.6517389335619018,
          -0.7458190969260151,
          -1.3743874310232795,
          -1.2824336424269147,
          -0.4871339431225125,
          -1.725912694868446,
          0.13081866800058184,
          -2.6935481159733787
         ],
         "xaxis": "x12",
         "y": [
          -0.40893659238493957,
          0.5284695897665097,
          -1.3499824366425284,
          0.20947320867091684,
          0.06313788697464681,
          0.2240257478807152,
          1.3084846093844364,
          -0.09769227025138068,
          3.0269187001332876,
          -0.5550378168902134,
          0.32298539684628774,
          -0.9811850106703884,
          0.1877224155419993,
          -0.4476847275857444,
          -0.043444973539220784,
          -0.8568041222728902,
          0.6678292272658113,
          -0.5541880396613528,
          0.17231564672572366,
          -2.347037685253554,
          1.7901696378077814,
          -0.13873703056336914,
          1.3703117808680336,
          -1.09557404652743,
          -0.840483658635545,
          -0.0782207435962417,
          -2.4901813063590845,
          0.7954577690986171,
          0.7563678500304583,
          0.8282810592239327,
          1.3736171084097888,
          -0.23051949047893924,
          -0.7500511202208137,
          0.4657791581196217,
          -0.694317760791448,
          0.5323281945892034,
          1.0744949799025156,
          -0.5757996261723936,
          0.6175531749144147,
          -1.3308095173861523,
          -0.3041411470782431,
          -0.32321262916407295,
          1.3451360503158794,
          -0.22258765641468636,
          0.46276086443159536,
          1.305473094444253,
          -1.2557224375752478,
          -0.10735439230579584,
          0.15539669136081516,
          0.2454287275781737,
          0.709062744071629,
          -1.0189306817494845,
          -2.8313600195386575,
          -1.2898923383254388,
          -0.3335219739601589,
          -0.4645270990903758,
          -0.8103778869906966,
          1.777486986773079,
          -1.3100053866097574,
          -0.0061975588456562435,
          -0.3169815636267048,
          0.9884135602991152,
          -1.311183355018789,
          1.3503314844721983,
          -1.176715892945502,
          0.5248186280331063,
          0.7445747839308063,
          1.6061207522399603,
          0.8945753050864336,
          -1.9802230667354683,
          0.9670175266026474,
          -0.38313088682029106,
          0.11504863104212563,
          0.2578355137559848,
          -1.0821243444171453,
          -0.09448353023062106,
          2.280294479006378,
          -0.17323267358745653,
          1.576825520990779,
          -1.1218075790792321,
          0.963955846773198,
          -0.534160103149209,
          -0.47914281610558834,
          -0.632605606970785,
          1.6854458923256828,
          -0.7524602936912916,
          -0.1503760974022031,
          0.32477971265012107,
          0.8838810141917546,
          -0.4830171405408817,
          0.4633496042189074,
          0.6629779705259863,
          -1.3091493510560799,
          0.4445862882224116,
          1.476563650171718,
          0.5203636349511526,
          -0.10072918007507821,
          0.6815092069551677,
          -1.6553484152033242,
          -0.5437242883934308
         ],
         "yaxis": "y12"
        },
        {
         "line": {
          "color": "rgba(128, 128, 128, 1.0)",
          "dash": "solid",
          "shape": "linear",
          "width": 1.3
         },
         "marker": {
          "size": 2,
          "symbol": "circle"
         },
         "mode": "markers",
         "name": "D",
         "text": "",
         "type": "scatter",
         "x": [
          0.3410614466753071,
          -1.1035524050054597,
          0.01497802970479452,
          -0.4923405339752979,
          -0.711740649467883,
          0.7611113231300444,
          -0.32899989496145043,
          -1.0003056778373516,
          -1.144108410930388,
          -0.7187659800223282,
          -0.8827891809503372,
          0.16527534978219205,
          0.33791501376902755,
          0.2845952287777885,
          -2.031762480119184,
          0.009561136766891088,
          -0.37499414498681033,
          0.7436276548650762,
          -0.08613852640362644,
          -1.788868487410151,
          0.6091820625025955,
          -0.540546683835764,
          -1.3830705697321766,
          -0.22776248598870943,
          0.04791488496871383,
          0.14734661797990722,
          0.6837492096990183,
          0.4909535703078963,
          -0.5763766572692686,
          1.7556808706923992,
          -0.21643572049270607,
          -0.08138650173686049,
          -0.41988696887517796,
          0.5896403672067946,
          -0.15796893354889477,
          0.03098947180102704,
          -1.1741362797157253,
          -0.5288212423479839,
          -1.0461934563699007,
          -1.8047730897321894,
          -0.18922230488345462,
          0.4448399483986472,
          0.09802387104390282,
          0.3675012254291077,
          -2.199418690052648,
          0.9672627288932981,
          -1.6104735507037404,
          1.0793883903440407,
          -1.7442712770335072,
          -0.2006977228942966,
          1.1604057740322227,
          0.8380871794918501,
          0.3434621276866279,
          -1.4104992622520467,
          1.311238947350882,
          0.9412950281879889,
          -0.3350723872072907,
          0.6951180795417036,
          -0.9121582740527129,
          0.18765291170273096,
          -0.690685295257295,
          0.8852386085818393,
          0.4317636746726903,
          -0.7504024305600105,
          -0.39335965300494274,
          0.3694506068850978,
          -0.10252111873440109,
          0.49884624438508196,
          0.055394235359639964,
          0.011792637052425847,
          -0.8082790203993668,
          -1.3615811568324008,
          -0.4873899268497068,
          0.38309544271604257,
          0.4242660099135097,
          2.2187119574585603,
          -0.01959273839618212,
          -0.8646247657702009,
          0.08787197959542621,
          -0.1154797457890154,
          0.33140686940164854,
          -0.6196352065642001,
          0.3227781557323908,
          0.2447772792318997,
          -0.9529620548470774,
          -1.1779499157234683,
          0.362052923601659,
          0.36545821597693284,
          0.5563628463658707,
          0.09204794996115445,
          0.5305702320652781,
          1.2972359829146172,
          -0.463871893327936,
          -2.1652174380047438,
          1.3950847840966412,
          1.25889143735063,
          1.5414336680370502,
          -0.028970197857147585,
          -1.3978466191671446,
          -0.4684792022305753
         ],
         "xaxis": "x13",
         "y": [
          -0.28253664986165766,
          -0.33904390394274625,
          -0.6047680721327735,
          0.6319507291868012,
          0.08021080511288874,
          -0.97896691342991,
          0.4369547333665759,
          -0.7985562934630596,
          0.32355756348101233,
          0.17854988139187036,
          -0.39085134916630543,
          -1.5321370768705596,
          0.5861424543076836,
          2.715835390300358,
          -1.3640206736326035,
          0.053510413565636135,
          0.23066249339653072,
          -0.9000073817487739,
          0.9819838235425686,
          -1.744346769757433,
          -1.476470196762409,
          0.21746980135314714,
          -0.34197060462713014,
          0.30613483379581946,
          0.1580369293672214,
          1.6409417618581168,
          -0.6236935701276197,
          -0.4991547268115103,
          0.7647031685804507,
          -2.057966117769427,
          0.07245698303131398,
          -1.997422627118517,
          -1.3578103866767408,
          -0.4588976279778724,
          -0.2454192395594232,
          0.6101007402398854,
          -0.40256956678416195,
          -0.45482856969035035,
          0.5081886564616441,
          -0.025645677346603758,
          1.0873209343675125,
          -0.4837540231899125,
          -1.3658193840021244,
          0.8709806074409643,
          0.5227006631101526,
          0.49932167167711755,
          -0.1584601394811962,
          -1.272619741579752,
          0.08812063144630929,
          -2.4919502989164677,
          0.4615886663651887,
          1.5964300278251782,
          -0.2333403880597775,
          -1.4766687191490893,
          -0.829216493997643,
          2.0719915614687685,
          0.598632674767342,
          0.13311083910793248,
          -0.32805792901128833,
          0.6355408144030831,
          0.046021443643492484,
          1.2005067852810665,
          0.1586335546924041,
          -0.15157832821376174,
          -0.46904019426122073,
          0.3682667349324615,
          1.0455848008493762,
          0.6853331966485996,
          -2.3955059365107045,
          -0.4746208167669859,
          -1.4442781106443496,
          -1.235846616259877,
          0.7634956216937328,
          0.36410298923273937,
          0.2819504634022776,
          0.6214448156567906,
          0.5799914555970304,
          -0.6312564703999389,
          -0.39107502929744736,
          1.3765104283778724,
          0.1453355977174186,
          0.4025782781105333,
          -1.0490846276753765,
          0.08067141982119372,
          0.042136280705729286,
          0.9800814899045366,
          0.09139322288024926,
          0.5173223544429093,
          -0.4522899727238104,
          1.0364086713401168,
          1.4337379459739363,
          -0.3459998925737082,
          0.6517389335619018,
          -0.7458190969260151,
          -1.3743874310232795,
          -1.2824336424269147,
          -0.4871339431225125,
          -1.725912694868446,
          0.13081866800058184,
          -2.6935481159733787
         ],
         "yaxis": "y13"
        },
        {
         "line": {
          "color": "rgba(128, 128, 128, 1.0)",
          "dash": "solid",
          "shape": "linear",
          "width": 1.3
         },
         "marker": {
          "size": 2,
          "symbol": "circle"
         },
         "mode": "markers",
         "name": "D",
         "text": "",
         "type": "scatter",
         "x": [
          1.6078167885510994,
          0.5152505787154171,
          -1.732949449951613,
          -0.036945780938364245,
          -1.3551933367335174,
          0.5319072842514352,
          1.0697347319830688,
          -0.6363260721476971,
          -0.20643662573362598,
          -1.7853998237979154,
          -0.43298489994161915,
          -0.8220605061383672,
          -1.0416535261667546,
          -0.4436110742323203,
          -0.8849717239394095,
          0.82462023527033,
          -0.4511224528127728,
          -2.1521002255906314,
          0.6885075559620766,
          0.9619774031436268,
          -1.601282319516909,
          -1.0187221532576956,
          -0.37185922386743625,
          0.6327713965426722,
          0.6958040276700553,
          0.29576441234029416,
          0.1870375683798816,
          0.21216307603497175,
          -0.46826979686342507,
          0.5265808883122749,
          1.655233754967969,
          0.7847270184177594,
          -0.06524297551623097,
          -0.9050608073638097,
          -0.7568972725338796,
          1.8504073752072894,
          -1.3319273680622228,
          1.025323553637435,
          -1.1929053119674793,
          0.37609355139190637,
          -0.6931871349019727,
          -0.26788738816063384,
          0.6452730391434862,
          -0.6410794715938621,
          0.33601850854039045,
          1.062834980137413,
          -0.13797130277316041,
          -0.3472728358101834,
          -1.9295221797591842,
          0.688887327408491,
          -1.0059879927275013,
          -0.050838321432649304,
          2.810881273367778,
          1.5703602950010316,
          0.6688810634008149,
          -1.6495902709058397,
          0.6370014643522423,
          -0.6926906557976084,
          -1.7365465452273703,
          -1.3391600076707793,
          -2.403423131134129,
          -1.8354091651813158,
          0.6708773143428056,
          0.879946117968798,
          0.8808745167598088,
          0.9741666663770794,
          -0.8874965115923111,
          -0.12403926065668726,
          1.4859109330104527,
          0.02280886808632988,
          -1.1667746795991663,
          -0.978686343644049,
          -1.4082136206191738,
          -1.2271331376969463,
          -1.2464437921438107,
          -0.4073132003975011,
          1.3898802816681095,
          0.9273059334446105,
          0.39645412550268183,
          0.3916040681168114,
          1.7819762431059742,
          2.7889896150765257,
          -0.010367608731995102,
          -0.8704789634274461,
          2.2738070570513167,
          -0.723458871193624,
          -0.8191102049372018,
          0.46412661059334726,
          0.11437839854593614,
          0.8480965711153516,
          -0.4528516451940342,
          1.4002905273470163,
          -0.6214770108332643,
          0.25299312347365505,
          -2.538120488901347,
          -0.7338163679908073,
          -0.8294853006575363,
          -0.7021157089248629,
          1.258967519250579,
          -0.7460926635527159
         ],
         "xaxis": "x14",
         "y": [
          -0.28253664986165766,
          -0.33904390394274625,
          -0.6047680721327735,
          0.6319507291868012,
          0.08021080511288874,
          -0.97896691342991,
          0.4369547333665759,
          -0.7985562934630596,
          0.32355756348101233,
          0.17854988139187036,
          -0.39085134916630543,
          -1.5321370768705596,
          0.5861424543076836,
          2.715835390300358,
          -1.3640206736326035,
          0.053510413565636135,
          0.23066249339653072,
          -0.9000073817487739,
          0.9819838235425686,
          -1.744346769757433,
          -1.476470196762409,
          0.21746980135314714,
          -0.34197060462713014,
          0.30613483379581946,
          0.1580369293672214,
          1.6409417618581168,
          -0.6236935701276197,
          -0.4991547268115103,
          0.7647031685804507,
          -2.057966117769427,
          0.07245698303131398,
          -1.997422627118517,
          -1.3578103866767408,
          -0.4588976279778724,
          -0.2454192395594232,
          0.6101007402398854,
          -0.40256956678416195,
          -0.45482856969035035,
          0.5081886564616441,
          -0.025645677346603758,
          1.0873209343675125,
          -0.4837540231899125,
          -1.3658193840021244,
          0.8709806074409643,
          0.5227006631101526,
          0.49932167167711755,
          -0.1584601394811962,
          -1.272619741579752,
          0.08812063144630929,
          -2.4919502989164677,
          0.4615886663651887,
          1.5964300278251782,
          -0.2333403880597775,
          -1.4766687191490893,
          -0.829216493997643,
          2.0719915614687685,
          0.598632674767342,
          0.13311083910793248,
          -0.32805792901128833,
          0.6355408144030831,
          0.046021443643492484,
          1.2005067852810665,
          0.1586335546924041,
          -0.15157832821376174,
          -0.46904019426122073,
          0.3682667349324615,
          1.0455848008493762,
          0.6853331966485996,
          -2.3955059365107045,
          -0.4746208167669859,
          -1.4442781106443496,
          -1.235846616259877,
          0.7634956216937328,
          0.36410298923273937,
          0.2819504634022776,
          0.6214448156567906,
          0.5799914555970304,
          -0.6312564703999389,
          -0.39107502929744736,
          1.3765104283778724,
          0.1453355977174186,
          0.4025782781105333,
          -1.0490846276753765,
          0.08067141982119372,
          0.042136280705729286,
          0.9800814899045366,
          0.09139322288024926,
          0.5173223544429093,
          -0.4522899727238104,
          1.0364086713401168,
          1.4337379459739363,
          -0.3459998925737082,
          0.6517389335619018,
          -0.7458190969260151,
          -1.3743874310232795,
          -1.2824336424269147,
          -0.4871339431225125,
          -1.725912694868446,
          0.13081866800058184,
          -2.6935481159733787
         ],
         "yaxis": "y14"
        },
        {
         "line": {
          "color": "rgba(128, 128, 128, 1.0)",
          "dash": "solid",
          "shape": "linear",
          "width": 1.3
         },
         "marker": {
          "size": 2,
          "symbol": "circle"
         },
         "mode": "markers",
         "name": "D",
         "text": "",
         "type": "scatter",
         "x": [
          -0.40893659238493957,
          0.5284695897665097,
          -1.3499824366425284,
          0.20947320867091684,
          0.06313788697464681,
          0.2240257478807152,
          1.3084846093844364,
          -0.09769227025138068,
          3.0269187001332876,
          -0.5550378168902134,
          0.32298539684628774,
          -0.9811850106703884,
          0.1877224155419993,
          -0.4476847275857444,
          -0.043444973539220784,
          -0.8568041222728902,
          0.6678292272658113,
          -0.5541880396613528,
          0.17231564672572366,
          -2.347037685253554,
          1.7901696378077814,
          -0.13873703056336914,
          1.3703117808680336,
          -1.09557404652743,
          -0.840483658635545,
          -0.0782207435962417,
          -2.4901813063590845,
          0.7954577690986171,
          0.7563678500304583,
          0.8282810592239327,
          1.3736171084097888,
          -0.23051949047893924,
          -0.7500511202208137,
          0.4657791581196217,
          -0.694317760791448,
          0.5323281945892034,
          1.0744949799025156,
          -0.5757996261723936,
          0.6175531749144147,
          -1.3308095173861523,
          -0.3041411470782431,
          -0.32321262916407295,
          1.3451360503158794,
          -0.22258765641468636,
          0.46276086443159536,
          1.305473094444253,
          -1.2557224375752478,
          -0.10735439230579584,
          0.15539669136081516,
          0.2454287275781737,
          0.709062744071629,
          -1.0189306817494845,
          -2.8313600195386575,
          -1.2898923383254388,
          -0.3335219739601589,
          -0.4645270990903758,
          -0.8103778869906966,
          1.777486986773079,
          -1.3100053866097574,
          -0.0061975588456562435,
          -0.3169815636267048,
          0.9884135602991152,
          -1.311183355018789,
          1.3503314844721983,
          -1.176715892945502,
          0.5248186280331063,
          0.7445747839308063,
          1.6061207522399603,
          0.8945753050864336,
          -1.9802230667354683,
          0.9670175266026474,
          -0.38313088682029106,
          0.11504863104212563,
          0.2578355137559848,
          -1.0821243444171453,
          -0.09448353023062106,
          2.280294479006378,
          -0.17323267358745653,
          1.576825520990779,
          -1.1218075790792321,
          0.963955846773198,
          -0.534160103149209,
          -0.47914281610558834,
          -0.632605606970785,
          1.6854458923256828,
          -0.7524602936912916,
          -0.1503760974022031,
          0.32477971265012107,
          0.8838810141917546,
          -0.4830171405408817,
          0.4633496042189074,
          0.6629779705259863,
          -1.3091493510560799,
          0.4445862882224116,
          1.476563650171718,
          0.5203636349511526,
          -0.10072918007507821,
          0.6815092069551677,
          -1.6553484152033242,
          -0.5437242883934308
         ],
         "xaxis": "x15",
         "y": [
          -0.28253664986165766,
          -0.33904390394274625,
          -0.6047680721327735,
          0.6319507291868012,
          0.08021080511288874,
          -0.97896691342991,
          0.4369547333665759,
          -0.7985562934630596,
          0.32355756348101233,
          0.17854988139187036,
          -0.39085134916630543,
          -1.5321370768705596,
          0.5861424543076836,
          2.715835390300358,
          -1.3640206736326035,
          0.053510413565636135,
          0.23066249339653072,
          -0.9000073817487739,
          0.9819838235425686,
          -1.744346769757433,
          -1.476470196762409,
          0.21746980135314714,
          -0.34197060462713014,
          0.30613483379581946,
          0.1580369293672214,
          1.6409417618581168,
          -0.6236935701276197,
          -0.4991547268115103,
          0.7647031685804507,
          -2.057966117769427,
          0.07245698303131398,
          -1.997422627118517,
          -1.3578103866767408,
          -0.4588976279778724,
          -0.2454192395594232,
          0.6101007402398854,
          -0.40256956678416195,
          -0.45482856969035035,
          0.5081886564616441,
          -0.025645677346603758,
          1.0873209343675125,
          -0.4837540231899125,
          -1.3658193840021244,
          0.8709806074409643,
          0.5227006631101526,
          0.49932167167711755,
          -0.1584601394811962,
          -1.272619741579752,
          0.08812063144630929,
          -2.4919502989164677,
          0.4615886663651887,
          1.5964300278251782,
          -0.2333403880597775,
          -1.4766687191490893,
          -0.829216493997643,
          2.0719915614687685,
          0.598632674767342,
          0.13311083910793248,
          -0.32805792901128833,
          0.6355408144030831,
          0.046021443643492484,
          1.2005067852810665,
          0.1586335546924041,
          -0.15157832821376174,
          -0.46904019426122073,
          0.3682667349324615,
          1.0455848008493762,
          0.6853331966485996,
          -2.3955059365107045,
          -0.4746208167669859,
          -1.4442781106443496,
          -1.235846616259877,
          0.7634956216937328,
          0.36410298923273937,
          0.2819504634022776,
          0.6214448156567906,
          0.5799914555970304,
          -0.6312564703999389,
          -0.39107502929744736,
          1.3765104283778724,
          0.1453355977174186,
          0.4025782781105333,
          -1.0490846276753765,
          0.08067141982119372,
          0.042136280705729286,
          0.9800814899045366,
          0.09139322288024926,
          0.5173223544429093,
          -0.4522899727238104,
          1.0364086713401168,
          1.4337379459739363,
          -0.3459998925737082,
          0.6517389335619018,
          -0.7458190969260151,
          -1.3743874310232795,
          -1.2824336424269147,
          -0.4871339431225125,
          -1.725912694868446,
          0.13081866800058184,
          -2.6935481159733787
         ],
         "yaxis": "y15"
        },
        {
         "histfunc": "count",
         "histnorm": "",
         "marker": {
          "color": "rgba(128, 0, 128, 1.0)",
          "line": {
           "color": "#4D5663",
           "width": 1.3
          }
         },
         "name": "D",
         "nbinsx": 10,
         "opacity": 0.8,
         "orientation": "v",
         "type": "histogram",
         "x": [
          -0.28253664986165766,
          -0.33904390394274625,
          -0.6047680721327735,
          0.6319507291868012,
          0.08021080511288874,
          -0.97896691342991,
          0.4369547333665759,
          -0.7985562934630596,
          0.32355756348101233,
          0.17854988139187036,
          -0.39085134916630543,
          -1.5321370768705596,
          0.5861424543076836,
          2.715835390300358,
          -1.3640206736326035,
          0.053510413565636135,
          0.23066249339653072,
          -0.9000073817487739,
          0.9819838235425686,
          -1.744346769757433,
          -1.476470196762409,
          0.21746980135314714,
          -0.34197060462713014,
          0.30613483379581946,
          0.1580369293672214,
          1.6409417618581168,
          -0.6236935701276197,
          -0.4991547268115103,
          0.7647031685804507,
          -2.057966117769427,
          0.07245698303131398,
          -1.997422627118517,
          -1.3578103866767408,
          -0.4588976279778724,
          -0.2454192395594232,
          0.6101007402398854,
          -0.40256956678416195,
          -0.45482856969035035,
          0.5081886564616441,
          -0.025645677346603758,
          1.0873209343675125,
          -0.4837540231899125,
          -1.3658193840021244,
          0.8709806074409643,
          0.5227006631101526,
          0.49932167167711755,
          -0.1584601394811962,
          -1.272619741579752,
          0.08812063144630929,
          -2.4919502989164677,
          0.4615886663651887,
          1.5964300278251782,
          -0.2333403880597775,
          -1.4766687191490893,
          -0.829216493997643,
          2.0719915614687685,
          0.598632674767342,
          0.13311083910793248,
          -0.32805792901128833,
          0.6355408144030831,
          0.046021443643492484,
          1.2005067852810665,
          0.1586335546924041,
          -0.15157832821376174,
          -0.46904019426122073,
          0.3682667349324615,
          1.0455848008493762,
          0.6853331966485996,
          -2.3955059365107045,
          -0.4746208167669859,
          -1.4442781106443496,
          -1.235846616259877,
          0.7634956216937328,
          0.36410298923273937,
          0.2819504634022776,
          0.6214448156567906,
          0.5799914555970304,
          -0.6312564703999389,
          -0.39107502929744736,
          1.3765104283778724,
          0.1453355977174186,
          0.4025782781105333,
          -1.0490846276753765,
          0.08067141982119372,
          0.042136280705729286,
          0.9800814899045366,
          0.09139322288024926,
          0.5173223544429093,
          -0.4522899727238104,
          1.0364086713401168,
          1.4337379459739363,
          -0.3459998925737082,
          0.6517389335619018,
          -0.7458190969260151,
          -1.3743874310232795,
          -1.2824336424269147,
          -0.4871339431225125,
          -1.725912694868446,
          0.13081866800058184,
          -2.6935481159733787
         ],
         "xaxis": "x16",
         "yaxis": "y16"
        }
       ],
       "layout": {
        "bargap": 0.02,
        "legend": {
         "bgcolor": "#F5F6F9",
         "font": {
          "color": "#4D5663"
         }
        },
        "paper_bgcolor": "#F5F6F9",
        "plot_bgcolor": "#F5F6F9",
        "showlegend": false,
        "template": {
         "data": {
          "bar": [
           {
            "error_x": {
             "color": "#2a3f5f"
            },
            "error_y": {
             "color": "#2a3f5f"
            },
            "marker": {
             "line": {
              "color": "#E5ECF6",
              "width": 0.5
             }
            },
            "type": "bar"
           }
          ],
          "barpolar": [
           {
            "marker": {
             "line": {
              "color": "#E5ECF6",
              "width": 0.5
             }
            },
            "type": "barpolar"
           }
          ],
          "carpet": [
           {
            "aaxis": {
             "endlinecolor": "#2a3f5f",
             "gridcolor": "white",
             "linecolor": "white",
             "minorgridcolor": "white",
             "startlinecolor": "#2a3f5f"
            },
            "baxis": {
             "endlinecolor": "#2a3f5f",
             "gridcolor": "white",
             "linecolor": "white",
             "minorgridcolor": "white",
             "startlinecolor": "#2a3f5f"
            },
            "type": "carpet"
           }
          ],
          "choropleth": [
           {
            "colorbar": {
             "outlinewidth": 0,
             "ticks": ""
            },
            "type": "choropleth"
           }
          ],
          "contour": [
           {
            "colorbar": {
             "outlinewidth": 0,
             "ticks": ""
            },
            "colorscale": [
             [
              0,
              "#0d0887"
             ],
             [
              0.1111111111111111,
              "#46039f"
             ],
             [
              0.2222222222222222,
              "#7201a8"
             ],
             [
              0.3333333333333333,
              "#9c179e"
             ],
             [
              0.4444444444444444,
              "#bd3786"
             ],
             [
              0.5555555555555556,
              "#d8576b"
             ],
             [
              0.6666666666666666,
              "#ed7953"
             ],
             [
              0.7777777777777778,
              "#fb9f3a"
             ],
             [
              0.8888888888888888,
              "#fdca26"
             ],
             [
              1,
              "#f0f921"
             ]
            ],
            "type": "contour"
           }
          ],
          "contourcarpet": [
           {
            "colorbar": {
             "outlinewidth": 0,
             "ticks": ""
            },
            "type": "contourcarpet"
           }
          ],
          "heatmap": [
           {
            "colorbar": {
             "outlinewidth": 0,
             "ticks": ""
            },
            "colorscale": [
             [
              0,
              "#0d0887"
             ],
             [
              0.1111111111111111,
              "#46039f"
             ],
             [
              0.2222222222222222,
              "#7201a8"
             ],
             [
              0.3333333333333333,
              "#9c179e"
             ],
             [
              0.4444444444444444,
              "#bd3786"
             ],
             [
              0.5555555555555556,
              "#d8576b"
             ],
             [
              0.6666666666666666,
              "#ed7953"
             ],
             [
              0.7777777777777778,
              "#fb9f3a"
             ],
             [
              0.8888888888888888,
              "#fdca26"
             ],
             [
              1,
              "#f0f921"
             ]
            ],
            "type": "heatmap"
           }
          ],
          "heatmapgl": [
           {
            "colorbar": {
             "outlinewidth": 0,
             "ticks": ""
            },
            "colorscale": [
             [
              0,
              "#0d0887"
             ],
             [
              0.1111111111111111,
              "#46039f"
             ],
             [
              0.2222222222222222,
              "#7201a8"
             ],
             [
              0.3333333333333333,
              "#9c179e"
             ],
             [
              0.4444444444444444,
              "#bd3786"
             ],
             [
              0.5555555555555556,
              "#d8576b"
             ],
             [
              0.6666666666666666,
              "#ed7953"
             ],
             [
              0.7777777777777778,
              "#fb9f3a"
             ],
             [
              0.8888888888888888,
              "#fdca26"
             ],
             [
              1,
              "#f0f921"
             ]
            ],
            "type": "heatmapgl"
           }
          ],
          "histogram": [
           {
            "marker": {
             "colorbar": {
              "outlinewidth": 0,
              "ticks": ""
             }
            },
            "type": "histogram"
           }
          ],
          "histogram2d": [
           {
            "colorbar": {
             "outlinewidth": 0,
             "ticks": ""
            },
            "colorscale": [
             [
              0,
              "#0d0887"
             ],
             [
              0.1111111111111111,
              "#46039f"
             ],
             [
              0.2222222222222222,
              "#7201a8"
             ],
             [
              0.3333333333333333,
              "#9c179e"
             ],
             [
              0.4444444444444444,
              "#bd3786"
             ],
             [
              0.5555555555555556,
              "#d8576b"
             ],
             [
              0.6666666666666666,
              "#ed7953"
             ],
             [
              0.7777777777777778,
              "#fb9f3a"
             ],
             [
              0.8888888888888888,
              "#fdca26"
             ],
             [
              1,
              "#f0f921"
             ]
            ],
            "type": "histogram2d"
           }
          ],
          "histogram2dcontour": [
           {
            "colorbar": {
             "outlinewidth": 0,
             "ticks": ""
            },
            "colorscale": [
             [
              0,
              "#0d0887"
             ],
             [
              0.1111111111111111,
              "#46039f"
             ],
             [
              0.2222222222222222,
              "#7201a8"
             ],
             [
              0.3333333333333333,
              "#9c179e"
             ],
             [
              0.4444444444444444,
              "#bd3786"
             ],
             [
              0.5555555555555556,
              "#d8576b"
             ],
             [
              0.6666666666666666,
              "#ed7953"
             ],
             [
              0.7777777777777778,
              "#fb9f3a"
             ],
             [
              0.8888888888888888,
              "#fdca26"
             ],
             [
              1,
              "#f0f921"
             ]
            ],
            "type": "histogram2dcontour"
           }
          ],
          "mesh3d": [
           {
            "colorbar": {
             "outlinewidth": 0,
             "ticks": ""
            },
            "type": "mesh3d"
           }
          ],
          "parcoords": [
           {
            "line": {
             "colorbar": {
              "outlinewidth": 0,
              "ticks": ""
             }
            },
            "type": "parcoords"
           }
          ],
          "pie": [
           {
            "automargin": true,
            "type": "pie"
           }
          ],
          "scatter": [
           {
            "marker": {
             "colorbar": {
              "outlinewidth": 0,
              "ticks": ""
             }
            },
            "type": "scatter"
           }
          ],
          "scatter3d": [
           {
            "line": {
             "colorbar": {
              "outlinewidth": 0,
              "ticks": ""
             }
            },
            "marker": {
             "colorbar": {
              "outlinewidth": 0,
              "ticks": ""
             }
            },
            "type": "scatter3d"
           }
          ],
          "scattercarpet": [
           {
            "marker": {
             "colorbar": {
              "outlinewidth": 0,
              "ticks": ""
             }
            },
            "type": "scattercarpet"
           }
          ],
          "scattergeo": [
           {
            "marker": {
             "colorbar": {
              "outlinewidth": 0,
              "ticks": ""
             }
            },
            "type": "scattergeo"
           }
          ],
          "scattergl": [
           {
            "marker": {
             "colorbar": {
              "outlinewidth": 0,
              "ticks": ""
             }
            },
            "type": "scattergl"
           }
          ],
          "scattermapbox": [
           {
            "marker": {
             "colorbar": {
              "outlinewidth": 0,
              "ticks": ""
             }
            },
            "type": "scattermapbox"
           }
          ],
          "scatterpolar": [
           {
            "marker": {
             "colorbar": {
              "outlinewidth": 0,
              "ticks": ""
             }
            },
            "type": "scatterpolar"
           }
          ],
          "scatterpolargl": [
           {
            "marker": {
             "colorbar": {
              "outlinewidth": 0,
              "ticks": ""
             }
            },
            "type": "scatterpolargl"
           }
          ],
          "scatterternary": [
           {
            "marker": {
             "colorbar": {
              "outlinewidth": 0,
              "ticks": ""
             }
            },
            "type": "scatterternary"
           }
          ],
          "surface": [
           {
            "colorbar": {
             "outlinewidth": 0,
             "ticks": ""
            },
            "colorscale": [
             [
              0,
              "#0d0887"
             ],
             [
              0.1111111111111111,
              "#46039f"
             ],
             [
              0.2222222222222222,
              "#7201a8"
             ],
             [
              0.3333333333333333,
              "#9c179e"
             ],
             [
              0.4444444444444444,
              "#bd3786"
             ],
             [
              0.5555555555555556,
              "#d8576b"
             ],
             [
              0.6666666666666666,
              "#ed7953"
             ],
             [
              0.7777777777777778,
              "#fb9f3a"
             ],
             [
              0.8888888888888888,
              "#fdca26"
             ],
             [
              1,
              "#f0f921"
             ]
            ],
            "type": "surface"
           }
          ],
          "table": [
           {
            "cells": {
             "fill": {
              "color": "#EBF0F8"
             },
             "line": {
              "color": "white"
             }
            },
            "header": {
             "fill": {
              "color": "#C8D4E3"
             },
             "line": {
              "color": "white"
             }
            },
            "type": "table"
           }
          ]
         },
         "layout": {
          "annotationdefaults": {
           "arrowcolor": "#2a3f5f",
           "arrowhead": 0,
           "arrowwidth": 1
          },
          "coloraxis": {
           "colorbar": {
            "outlinewidth": 0,
            "ticks": ""
           }
          },
          "colorscale": {
           "diverging": [
            [
             0,
             "#8e0152"
            ],
            [
             0.1,
             "#c51b7d"
            ],
            [
             0.2,
             "#de77ae"
            ],
            [
             0.3,
             "#f1b6da"
            ],
            [
             0.4,
             "#fde0ef"
            ],
            [
             0.5,
             "#f7f7f7"
            ],
            [
             0.6,
             "#e6f5d0"
            ],
            [
             0.7,
             "#b8e186"
            ],
            [
             0.8,
             "#7fbc41"
            ],
            [
             0.9,
             "#4d9221"
            ],
            [
             1,
             "#276419"
            ]
           ],
           "sequential": [
            [
             0,
             "#0d0887"
            ],
            [
             0.1111111111111111,
             "#46039f"
            ],
            [
             0.2222222222222222,
             "#7201a8"
            ],
            [
             0.3333333333333333,
             "#9c179e"
            ],
            [
             0.4444444444444444,
             "#bd3786"
            ],
            [
             0.5555555555555556,
             "#d8576b"
            ],
            [
             0.6666666666666666,
             "#ed7953"
            ],
            [
             0.7777777777777778,
             "#fb9f3a"
            ],
            [
             0.8888888888888888,
             "#fdca26"
            ],
            [
             1,
             "#f0f921"
            ]
           ],
           "sequentialminus": [
            [
             0,
             "#0d0887"
            ],
            [
             0.1111111111111111,
             "#46039f"
            ],
            [
             0.2222222222222222,
             "#7201a8"
            ],
            [
             0.3333333333333333,
             "#9c179e"
            ],
            [
             0.4444444444444444,
             "#bd3786"
            ],
            [
             0.5555555555555556,
             "#d8576b"
            ],
            [
             0.6666666666666666,
             "#ed7953"
            ],
            [
             0.7777777777777778,
             "#fb9f3a"
            ],
            [
             0.8888888888888888,
             "#fdca26"
            ],
            [
             1,
             "#f0f921"
            ]
           ]
          },
          "colorway": [
           "#636efa",
           "#EF553B",
           "#00cc96",
           "#ab63fa",
           "#FFA15A",
           "#19d3f3",
           "#FF6692",
           "#B6E880",
           "#FF97FF",
           "#FECB52"
          ],
          "font": {
           "color": "#2a3f5f"
          },
          "geo": {
           "bgcolor": "white",
           "lakecolor": "white",
           "landcolor": "#E5ECF6",
           "showlakes": true,
           "showland": true,
           "subunitcolor": "white"
          },
          "hoverlabel": {
           "align": "left"
          },
          "hovermode": "closest",
          "mapbox": {
           "style": "light"
          },
          "paper_bgcolor": "white",
          "plot_bgcolor": "#E5ECF6",
          "polar": {
           "angularaxis": {
            "gridcolor": "white",
            "linecolor": "white",
            "ticks": ""
           },
           "bgcolor": "#E5ECF6",
           "radialaxis": {
            "gridcolor": "white",
            "linecolor": "white",
            "ticks": ""
           }
          },
          "scene": {
           "xaxis": {
            "backgroundcolor": "#E5ECF6",
            "gridcolor": "white",
            "gridwidth": 2,
            "linecolor": "white",
            "showbackground": true,
            "ticks": "",
            "zerolinecolor": "white"
           },
           "yaxis": {
            "backgroundcolor": "#E5ECF6",
            "gridcolor": "white",
            "gridwidth": 2,
            "linecolor": "white",
            "showbackground": true,
            "ticks": "",
            "zerolinecolor": "white"
           },
           "zaxis": {
            "backgroundcolor": "#E5ECF6",
            "gridcolor": "white",
            "gridwidth": 2,
            "linecolor": "white",
            "showbackground": true,
            "ticks": "",
            "zerolinecolor": "white"
           }
          },
          "shapedefaults": {
           "line": {
            "color": "#2a3f5f"
           }
          },
          "ternary": {
           "aaxis": {
            "gridcolor": "white",
            "linecolor": "white",
            "ticks": ""
           },
           "baxis": {
            "gridcolor": "white",
            "linecolor": "white",
            "ticks": ""
           },
           "bgcolor": "#E5ECF6",
           "caxis": {
            "gridcolor": "white",
            "linecolor": "white",
            "ticks": ""
           }
          },
          "title": {
           "x": 0.05
          },
          "xaxis": {
           "automargin": true,
           "gridcolor": "white",
           "linecolor": "white",
           "ticks": "",
           "title": {
            "standoff": 15
           },
           "zerolinecolor": "white",
           "zerolinewidth": 2
          },
          "yaxis": {
           "automargin": true,
           "gridcolor": "white",
           "linecolor": "white",
           "ticks": "",
           "title": {
            "standoff": 15
           },
           "zerolinecolor": "white",
           "zerolinewidth": 2
          }
         }
        },
        "title": {
         "font": {
          "color": "#4D5663"
         }
        },
        "xaxis": {
         "anchor": "y",
         "domain": [
          0,
          0.2125
         ],
         "gridcolor": "#E1E5ED",
         "showgrid": false,
         "tickfont": {
          "color": "#4D5663"
         },
         "title": {
          "font": {
           "color": "#4D5663"
          },
          "text": ""
         },
         "zerolinecolor": "#E1E5ED"
        },
        "xaxis10": {
         "anchor": "y10",
         "domain": [
          0.2625,
          0.475
         ],
         "gridcolor": "#E1E5ED",
         "showgrid": false,
         "tickfont": {
          "color": "#4D5663"
         },
         "title": {
          "font": {
           "color": "#4D5663"
          },
          "text": ""
         },
         "zerolinecolor": "#E1E5ED"
        },
        "xaxis11": {
         "anchor": "y11",
         "domain": [
          0.525,
          0.7375
         ],
         "gridcolor": "#E1E5ED",
         "showgrid": false,
         "tickfont": {
          "color": "#4D5663"
         },
         "title": {
          "font": {
           "color": "#4D5663"
          },
          "text": ""
         },
         "zerolinecolor": "#E1E5ED"
        },
        "xaxis12": {
         "anchor": "y12",
         "domain": [
          0.7875,
          1
         ],
         "gridcolor": "#E1E5ED",
         "showgrid": false,
         "tickfont": {
          "color": "#4D5663"
         },
         "title": {
          "font": {
           "color": "#4D5663"
          },
          "text": ""
         },
         "zerolinecolor": "#E1E5ED"
        },
        "xaxis13": {
         "anchor": "y13",
         "domain": [
          0,
          0.2125
         ],
         "gridcolor": "#E1E5ED",
         "showgrid": false,
         "tickfont": {
          "color": "#4D5663"
         },
         "title": {
          "font": {
           "color": "#4D5663"
          },
          "text": ""
         },
         "zerolinecolor": "#E1E5ED"
        },
        "xaxis14": {
         "anchor": "y14",
         "domain": [
          0.2625,
          0.475
         ],
         "gridcolor": "#E1E5ED",
         "showgrid": false,
         "tickfont": {
          "color": "#4D5663"
         },
         "title": {
          "font": {
           "color": "#4D5663"
          },
          "text": ""
         },
         "zerolinecolor": "#E1E5ED"
        },
        "xaxis15": {
         "anchor": "y15",
         "domain": [
          0.525,
          0.7375
         ],
         "gridcolor": "#E1E5ED",
         "showgrid": false,
         "tickfont": {
          "color": "#4D5663"
         },
         "title": {
          "font": {
           "color": "#4D5663"
          },
          "text": ""
         },
         "zerolinecolor": "#E1E5ED"
        },
        "xaxis16": {
         "anchor": "y16",
         "domain": [
          0.7875,
          1
         ],
         "gridcolor": "#E1E5ED",
         "showgrid": false,
         "tickfont": {
          "color": "#4D5663"
         },
         "title": {
          "font": {
           "color": "#4D5663"
          },
          "text": ""
         },
         "zerolinecolor": "#E1E5ED"
        },
        "xaxis2": {
         "anchor": "y2",
         "domain": [
          0.2625,
          0.475
         ],
         "gridcolor": "#E1E5ED",
         "showgrid": false,
         "tickfont": {
          "color": "#4D5663"
         },
         "title": {
          "font": {
           "color": "#4D5663"
          },
          "text": ""
         },
         "zerolinecolor": "#E1E5ED"
        },
        "xaxis3": {
         "anchor": "y3",
         "domain": [
          0.525,
          0.7375
         ],
         "gridcolor": "#E1E5ED",
         "showgrid": false,
         "tickfont": {
          "color": "#4D5663"
         },
         "title": {
          "font": {
           "color": "#4D5663"
          },
          "text": ""
         },
         "zerolinecolor": "#E1E5ED"
        },
        "xaxis4": {
         "anchor": "y4",
         "domain": [
          0.7875,
          1
         ],
         "gridcolor": "#E1E5ED",
         "showgrid": false,
         "tickfont": {
          "color": "#4D5663"
         },
         "title": {
          "font": {
           "color": "#4D5663"
          },
          "text": ""
         },
         "zerolinecolor": "#E1E5ED"
        },
        "xaxis5": {
         "anchor": "y5",
         "domain": [
          0,
          0.2125
         ],
         "gridcolor": "#E1E5ED",
         "showgrid": false,
         "tickfont": {
          "color": "#4D5663"
         },
         "title": {
          "font": {
           "color": "#4D5663"
          },
          "text": ""
         },
         "zerolinecolor": "#E1E5ED"
        },
        "xaxis6": {
         "anchor": "y6",
         "domain": [
          0.2625,
          0.475
         ],
         "gridcolor": "#E1E5ED",
         "showgrid": false,
         "tickfont": {
          "color": "#4D5663"
         },
         "title": {
          "font": {
           "color": "#4D5663"
          },
          "text": ""
         },
         "zerolinecolor": "#E1E5ED"
        },
        "xaxis7": {
         "anchor": "y7",
         "domain": [
          0.525,
          0.7375
         ],
         "gridcolor": "#E1E5ED",
         "showgrid": false,
         "tickfont": {
          "color": "#4D5663"
         },
         "title": {
          "font": {
           "color": "#4D5663"
          },
          "text": ""
         },
         "zerolinecolor": "#E1E5ED"
        },
        "xaxis8": {
         "anchor": "y8",
         "domain": [
          0.7875,
          1
         ],
         "gridcolor": "#E1E5ED",
         "showgrid": false,
         "tickfont": {
          "color": "#4D5663"
         },
         "title": {
          "font": {
           "color": "#4D5663"
          },
          "text": ""
         },
         "zerolinecolor": "#E1E5ED"
        },
        "xaxis9": {
         "anchor": "y9",
         "domain": [
          0,
          0.2125
         ],
         "gridcolor": "#E1E5ED",
         "showgrid": false,
         "tickfont": {
          "color": "#4D5663"
         },
         "title": {
          "font": {
           "color": "#4D5663"
          },
          "text": ""
         },
         "zerolinecolor": "#E1E5ED"
        },
        "yaxis": {
         "anchor": "x",
         "domain": [
          0.8025,
          1
         ],
         "gridcolor": "#E1E5ED",
         "showgrid": false,
         "tickfont": {
          "color": "#4D5663"
         },
         "title": {
          "font": {
           "color": "#4D5663"
          },
          "text": ""
         },
         "zerolinecolor": "#E1E5ED"
        },
        "yaxis10": {
         "anchor": "x10",
         "domain": [
          0.2675,
          0.465
         ],
         "gridcolor": "#E1E5ED",
         "showgrid": false,
         "tickfont": {
          "color": "#4D5663"
         },
         "title": {
          "font": {
           "color": "#4D5663"
          },
          "text": ""
         },
         "zerolinecolor": "#E1E5ED"
        },
        "yaxis11": {
         "anchor": "x11",
         "domain": [
          0.2675,
          0.465
         ],
         "gridcolor": "#E1E5ED",
         "showgrid": false,
         "tickfont": {
          "color": "#4D5663"
         },
         "title": {
          "font": {
           "color": "#4D5663"
          },
          "text": ""
         },
         "zerolinecolor": "#E1E5ED"
        },
        "yaxis12": {
         "anchor": "x12",
         "domain": [
          0.2675,
          0.465
         ],
         "gridcolor": "#E1E5ED",
         "showgrid": false,
         "tickfont": {
          "color": "#4D5663"
         },
         "title": {
          "font": {
           "color": "#4D5663"
          },
          "text": ""
         },
         "zerolinecolor": "#E1E5ED"
        },
        "yaxis13": {
         "anchor": "x13",
         "domain": [
          0,
          0.1975
         ],
         "gridcolor": "#E1E5ED",
         "showgrid": false,
         "tickfont": {
          "color": "#4D5663"
         },
         "title": {
          "font": {
           "color": "#4D5663"
          },
          "text": ""
         },
         "zerolinecolor": "#E1E5ED"
        },
        "yaxis14": {
         "anchor": "x14",
         "domain": [
          0,
          0.1975
         ],
         "gridcolor": "#E1E5ED",
         "showgrid": false,
         "tickfont": {
          "color": "#4D5663"
         },
         "title": {
          "font": {
           "color": "#4D5663"
          },
          "text": ""
         },
         "zerolinecolor": "#E1E5ED"
        },
        "yaxis15": {
         "anchor": "x15",
         "domain": [
          0,
          0.1975
         ],
         "gridcolor": "#E1E5ED",
         "showgrid": false,
         "tickfont": {
          "color": "#4D5663"
         },
         "title": {
          "font": {
           "color": "#4D5663"
          },
          "text": ""
         },
         "zerolinecolor": "#E1E5ED"
        },
        "yaxis16": {
         "anchor": "x16",
         "domain": [
          0,
          0.1975
         ],
         "gridcolor": "#E1E5ED",
         "showgrid": false,
         "tickfont": {
          "color": "#4D5663"
         },
         "title": {
          "font": {
           "color": "#4D5663"
          },
          "text": ""
         },
         "zerolinecolor": "#E1E5ED"
        },
        "yaxis2": {
         "anchor": "x2",
         "domain": [
          0.8025,
          1
         ],
         "gridcolor": "#E1E5ED",
         "showgrid": false,
         "tickfont": {
          "color": "#4D5663"
         },
         "title": {
          "font": {
           "color": "#4D5663"
          },
          "text": ""
         },
         "zerolinecolor": "#E1E5ED"
        },
        "yaxis3": {
         "anchor": "x3",
         "domain": [
          0.8025,
          1
         ],
         "gridcolor": "#E1E5ED",
         "showgrid": false,
         "tickfont": {
          "color": "#4D5663"
         },
         "title": {
          "font": {
           "color": "#4D5663"
          },
          "text": ""
         },
         "zerolinecolor": "#E1E5ED"
        },
        "yaxis4": {
         "anchor": "x4",
         "domain": [
          0.8025,
          1
         ],
         "gridcolor": "#E1E5ED",
         "showgrid": false,
         "tickfont": {
          "color": "#4D5663"
         },
         "title": {
          "font": {
           "color": "#4D5663"
          },
          "text": ""
         },
         "zerolinecolor": "#E1E5ED"
        },
        "yaxis5": {
         "anchor": "x5",
         "domain": [
          0.535,
          0.7325
         ],
         "gridcolor": "#E1E5ED",
         "showgrid": false,
         "tickfont": {
          "color": "#4D5663"
         },
         "title": {
          "font": {
           "color": "#4D5663"
          },
          "text": ""
         },
         "zerolinecolor": "#E1E5ED"
        },
        "yaxis6": {
         "anchor": "x6",
         "domain": [
          0.535,
          0.7325
         ],
         "gridcolor": "#E1E5ED",
         "showgrid": false,
         "tickfont": {
          "color": "#4D5663"
         },
         "title": {
          "font": {
           "color": "#4D5663"
          },
          "text": ""
         },
         "zerolinecolor": "#E1E5ED"
        },
        "yaxis7": {
         "anchor": "x7",
         "domain": [
          0.535,
          0.7325
         ],
         "gridcolor": "#E1E5ED",
         "showgrid": false,
         "tickfont": {
          "color": "#4D5663"
         },
         "title": {
          "font": {
           "color": "#4D5663"
          },
          "text": ""
         },
         "zerolinecolor": "#E1E5ED"
        },
        "yaxis8": {
         "anchor": "x8",
         "domain": [
          0.535,
          0.7325
         ],
         "gridcolor": "#E1E5ED",
         "showgrid": false,
         "tickfont": {
          "color": "#4D5663"
         },
         "title": {
          "font": {
           "color": "#4D5663"
          },
          "text": ""
         },
         "zerolinecolor": "#E1E5ED"
        },
        "yaxis9": {
         "anchor": "x9",
         "domain": [
          0.2675,
          0.465
         ],
         "gridcolor": "#E1E5ED",
         "showgrid": false,
         "tickfont": {
          "color": "#4D5663"
         },
         "title": {
          "font": {
           "color": "#4D5663"
          },
          "text": ""
         },
         "zerolinecolor": "#E1E5ED"
        }
       }
      },
      "text/html": [
       "<div>\n",
       "        \n",
       "        \n",
       "            <div id=\"161d124d-ff5e-4415-b04a-398a5cfafaf6\" class=\"plotly-graph-div\" style=\"height:525px; width:100%;\"></div>\n",
       "            <script type=\"text/javascript\">\n",
       "                require([\"plotly\"], function(Plotly) {\n",
       "                    window.PLOTLYENV=window.PLOTLYENV || {};\n",
       "                    window.PLOTLYENV.BASE_URL='https://plot.ly';\n",
       "                    \n",
       "                if (document.getElementById(\"161d124d-ff5e-4415-b04a-398a5cfafaf6\")) {\n",
       "                    Plotly.newPlot(\n",
       "                        '161d124d-ff5e-4415-b04a-398a5cfafaf6',\n",
       "                        [{\"histfunc\": \"count\", \"histnorm\": \"\", \"marker\": {\"color\": \"rgba(255, 153, 51, 1.0)\", \"line\": {\"color\": \"#4D5663\", \"width\": 1.3}}, \"name\": \"A\", \"nbinsx\": 10, \"opacity\": 0.8, \"orientation\": \"v\", \"type\": \"histogram\", \"x\": [0.3410614466753071, -1.1035524050054597, 0.01497802970479452, -0.4923405339752979, -0.711740649467883, 0.7611113231300444, -0.32899989496145043, -1.0003056778373516, -1.144108410930388, -0.7187659800223282, -0.8827891809503372, 0.16527534978219205, 0.33791501376902755, 0.2845952287777885, -2.031762480119184, 0.009561136766891088, -0.37499414498681033, 0.7436276548650762, -0.08613852640362644, -1.788868487410151, 0.6091820625025955, -0.540546683835764, -1.3830705697321766, -0.22776248598870943, 0.04791488496871383, 0.14734661797990722, 0.6837492096990183, 0.4909535703078963, -0.5763766572692686, 1.7556808706923992, -0.21643572049270607, -0.08138650173686049, -0.41988696887517796, 0.5896403672067946, -0.15796893354889477, 0.03098947180102704, -1.1741362797157253, -0.5288212423479839, -1.0461934563699007, -1.8047730897321894, -0.18922230488345462, 0.4448399483986472, 0.09802387104390282, 0.3675012254291077, -2.199418690052648, 0.9672627288932981, -1.6104735507037404, 1.0793883903440407, -1.7442712770335072, -0.2006977228942966, 1.1604057740322227, 0.8380871794918501, 0.3434621276866279, -1.4104992622520467, 1.311238947350882, 0.9412950281879889, -0.3350723872072907, 0.6951180795417036, -0.9121582740527129, 0.18765291170273096, -0.690685295257295, 0.8852386085818393, 0.4317636746726903, -0.7504024305600105, -0.39335965300494274, 0.3694506068850978, -0.10252111873440109, 0.49884624438508196, 0.055394235359639964, 0.011792637052425847, -0.8082790203993668, -1.3615811568324008, -0.4873899268497068, 0.38309544271604257, 0.4242660099135097, 2.2187119574585603, -0.01959273839618212, -0.8646247657702009, 0.08787197959542621, -0.1154797457890154, 0.33140686940164854, -0.6196352065642001, 0.3227781557323908, 0.2447772792318997, -0.9529620548470774, -1.1779499157234683, 0.362052923601659, 0.36545821597693284, 0.5563628463658707, 0.09204794996115445, 0.5305702320652781, 1.2972359829146172, -0.463871893327936, -2.1652174380047438, 1.3950847840966412, 1.25889143735063, 1.5414336680370502, -0.028970197857147585, -1.3978466191671446, -0.4684792022305753], \"xaxis\": \"x\", \"yaxis\": \"y\"}, {\"line\": {\"color\": \"rgba(128, 128, 128, 1.0)\", \"dash\": \"solid\", \"shape\": \"linear\", \"width\": 1.3}, \"marker\": {\"size\": 2, \"symbol\": \"circle\"}, \"mode\": \"markers\", \"name\": \"A\", \"text\": \"\", \"type\": \"scatter\", \"x\": [1.6078167885510994, 0.5152505787154171, -1.732949449951613, -0.036945780938364245, -1.3551933367335174, 0.5319072842514352, 1.0697347319830688, -0.6363260721476971, -0.20643662573362598, -1.7853998237979154, -0.43298489994161915, -0.8220605061383672, -1.0416535261667546, -0.4436110742323203, -0.8849717239394095, 0.82462023527033, -0.4511224528127728, -2.1521002255906314, 0.6885075559620766, 0.9619774031436268, -1.601282319516909, -1.0187221532576956, -0.37185922386743625, 0.6327713965426722, 0.6958040276700553, 0.29576441234029416, 0.1870375683798816, 0.21216307603497175, -0.46826979686342507, 0.5265808883122749, 1.655233754967969, 0.7847270184177594, -0.06524297551623097, -0.9050608073638097, -0.7568972725338796, 1.8504073752072894, -1.3319273680622228, 1.025323553637435, -1.1929053119674793, 0.37609355139190637, -0.6931871349019727, -0.26788738816063384, 0.6452730391434862, -0.6410794715938621, 0.33601850854039045, 1.062834980137413, -0.13797130277316041, -0.3472728358101834, -1.9295221797591842, 0.688887327408491, -1.0059879927275013, -0.050838321432649304, 2.810881273367778, 1.5703602950010316, 0.6688810634008149, -1.6495902709058397, 0.6370014643522423, -0.6926906557976084, -1.7365465452273703, -1.3391600076707793, -2.403423131134129, -1.8354091651813158, 0.6708773143428056, 0.879946117968798, 0.8808745167598088, 0.9741666663770794, -0.8874965115923111, -0.12403926065668726, 1.4859109330104527, 0.02280886808632988, -1.1667746795991663, -0.978686343644049, -1.4082136206191738, -1.2271331376969463, -1.2464437921438107, -0.4073132003975011, 1.3898802816681095, 0.9273059334446105, 0.39645412550268183, 0.3916040681168114, 1.7819762431059742, 2.7889896150765257, -0.010367608731995102, -0.8704789634274461, 2.2738070570513167, -0.723458871193624, -0.8191102049372018, 0.46412661059334726, 0.11437839854593614, 0.8480965711153516, -0.4528516451940342, 1.4002905273470163, -0.6214770108332643, 0.25299312347365505, -2.538120488901347, -0.7338163679908073, -0.8294853006575363, -0.7021157089248629, 1.258967519250579, -0.7460926635527159], \"xaxis\": \"x2\", \"y\": [0.3410614466753071, -1.1035524050054597, 0.01497802970479452, -0.4923405339752979, -0.711740649467883, 0.7611113231300444, -0.32899989496145043, -1.0003056778373516, -1.144108410930388, -0.7187659800223282, -0.8827891809503372, 0.16527534978219205, 0.33791501376902755, 0.2845952287777885, -2.031762480119184, 0.009561136766891088, -0.37499414498681033, 0.7436276548650762, -0.08613852640362644, -1.788868487410151, 0.6091820625025955, -0.540546683835764, -1.3830705697321766, -0.22776248598870943, 0.04791488496871383, 0.14734661797990722, 0.6837492096990183, 0.4909535703078963, -0.5763766572692686, 1.7556808706923992, -0.21643572049270607, -0.08138650173686049, -0.41988696887517796, 0.5896403672067946, -0.15796893354889477, 0.03098947180102704, -1.1741362797157253, -0.5288212423479839, -1.0461934563699007, -1.8047730897321894, -0.18922230488345462, 0.4448399483986472, 0.09802387104390282, 0.3675012254291077, -2.199418690052648, 0.9672627288932981, -1.6104735507037404, 1.0793883903440407, -1.7442712770335072, -0.2006977228942966, 1.1604057740322227, 0.8380871794918501, 0.3434621276866279, -1.4104992622520467, 1.311238947350882, 0.9412950281879889, -0.3350723872072907, 0.6951180795417036, -0.9121582740527129, 0.18765291170273096, -0.690685295257295, 0.8852386085818393, 0.4317636746726903, -0.7504024305600105, -0.39335965300494274, 0.3694506068850978, -0.10252111873440109, 0.49884624438508196, 0.055394235359639964, 0.011792637052425847, -0.8082790203993668, -1.3615811568324008, -0.4873899268497068, 0.38309544271604257, 0.4242660099135097, 2.2187119574585603, -0.01959273839618212, -0.8646247657702009, 0.08787197959542621, -0.1154797457890154, 0.33140686940164854, -0.6196352065642001, 0.3227781557323908, 0.2447772792318997, -0.9529620548470774, -1.1779499157234683, 0.362052923601659, 0.36545821597693284, 0.5563628463658707, 0.09204794996115445, 0.5305702320652781, 1.2972359829146172, -0.463871893327936, -2.1652174380047438, 1.3950847840966412, 1.25889143735063, 1.5414336680370502, -0.028970197857147585, -1.3978466191671446, -0.4684792022305753], \"yaxis\": \"y2\"}, {\"line\": {\"color\": \"rgba(128, 128, 128, 1.0)\", \"dash\": \"solid\", \"shape\": \"linear\", \"width\": 1.3}, \"marker\": {\"size\": 2, \"symbol\": \"circle\"}, \"mode\": \"markers\", \"name\": \"A\", \"text\": \"\", \"type\": \"scatter\", \"x\": [-0.40893659238493957, 0.5284695897665097, -1.3499824366425284, 0.20947320867091684, 0.06313788697464681, 0.2240257478807152, 1.3084846093844364, -0.09769227025138068, 3.0269187001332876, -0.5550378168902134, 0.32298539684628774, -0.9811850106703884, 0.1877224155419993, -0.4476847275857444, -0.043444973539220784, -0.8568041222728902, 0.6678292272658113, -0.5541880396613528, 0.17231564672572366, -2.347037685253554, 1.7901696378077814, -0.13873703056336914, 1.3703117808680336, -1.09557404652743, -0.840483658635545, -0.0782207435962417, -2.4901813063590845, 0.7954577690986171, 0.7563678500304583, 0.8282810592239327, 1.3736171084097888, -0.23051949047893924, -0.7500511202208137, 0.4657791581196217, -0.694317760791448, 0.5323281945892034, 1.0744949799025156, -0.5757996261723936, 0.6175531749144147, -1.3308095173861523, -0.3041411470782431, -0.32321262916407295, 1.3451360503158794, -0.22258765641468636, 0.46276086443159536, 1.305473094444253, -1.2557224375752478, -0.10735439230579584, 0.15539669136081516, 0.2454287275781737, 0.709062744071629, -1.0189306817494845, -2.8313600195386575, -1.2898923383254388, -0.3335219739601589, -0.4645270990903758, -0.8103778869906966, 1.777486986773079, -1.3100053866097574, -0.0061975588456562435, -0.3169815636267048, 0.9884135602991152, -1.311183355018789, 1.3503314844721983, -1.176715892945502, 0.5248186280331063, 0.7445747839308063, 1.6061207522399603, 0.8945753050864336, -1.9802230667354683, 0.9670175266026474, -0.38313088682029106, 0.11504863104212563, 0.2578355137559848, -1.0821243444171453, -0.09448353023062106, 2.280294479006378, -0.17323267358745653, 1.576825520990779, -1.1218075790792321, 0.963955846773198, -0.534160103149209, -0.47914281610558834, -0.632605606970785, 1.6854458923256828, -0.7524602936912916, -0.1503760974022031, 0.32477971265012107, 0.8838810141917546, -0.4830171405408817, 0.4633496042189074, 0.6629779705259863, -1.3091493510560799, 0.4445862882224116, 1.476563650171718, 0.5203636349511526, -0.10072918007507821, 0.6815092069551677, -1.6553484152033242, -0.5437242883934308], \"xaxis\": \"x3\", \"y\": [0.3410614466753071, -1.1035524050054597, 0.01497802970479452, -0.4923405339752979, -0.711740649467883, 0.7611113231300444, -0.32899989496145043, -1.0003056778373516, -1.144108410930388, -0.7187659800223282, -0.8827891809503372, 0.16527534978219205, 0.33791501376902755, 0.2845952287777885, -2.031762480119184, 0.009561136766891088, -0.37499414498681033, 0.7436276548650762, -0.08613852640362644, -1.788868487410151, 0.6091820625025955, -0.540546683835764, -1.3830705697321766, -0.22776248598870943, 0.04791488496871383, 0.14734661797990722, 0.6837492096990183, 0.4909535703078963, -0.5763766572692686, 1.7556808706923992, -0.21643572049270607, -0.08138650173686049, -0.41988696887517796, 0.5896403672067946, -0.15796893354889477, 0.03098947180102704, -1.1741362797157253, -0.5288212423479839, -1.0461934563699007, -1.8047730897321894, -0.18922230488345462, 0.4448399483986472, 0.09802387104390282, 0.3675012254291077, -2.199418690052648, 0.9672627288932981, -1.6104735507037404, 1.0793883903440407, -1.7442712770335072, -0.2006977228942966, 1.1604057740322227, 0.8380871794918501, 0.3434621276866279, -1.4104992622520467, 1.311238947350882, 0.9412950281879889, -0.3350723872072907, 0.6951180795417036, -0.9121582740527129, 0.18765291170273096, -0.690685295257295, 0.8852386085818393, 0.4317636746726903, -0.7504024305600105, -0.39335965300494274, 0.3694506068850978, -0.10252111873440109, 0.49884624438508196, 0.055394235359639964, 0.011792637052425847, -0.8082790203993668, -1.3615811568324008, -0.4873899268497068, 0.38309544271604257, 0.4242660099135097, 2.2187119574585603, -0.01959273839618212, -0.8646247657702009, 0.08787197959542621, -0.1154797457890154, 0.33140686940164854, -0.6196352065642001, 0.3227781557323908, 0.2447772792318997, -0.9529620548470774, -1.1779499157234683, 0.362052923601659, 0.36545821597693284, 0.5563628463658707, 0.09204794996115445, 0.5305702320652781, 1.2972359829146172, -0.463871893327936, -2.1652174380047438, 1.3950847840966412, 1.25889143735063, 1.5414336680370502, -0.028970197857147585, -1.3978466191671446, -0.4684792022305753], \"yaxis\": \"y3\"}, {\"line\": {\"color\": \"rgba(128, 128, 128, 1.0)\", \"dash\": \"solid\", \"shape\": \"linear\", \"width\": 1.3}, \"marker\": {\"size\": 2, \"symbol\": \"circle\"}, \"mode\": \"markers\", \"name\": \"A\", \"text\": \"\", \"type\": \"scatter\", \"x\": [-0.28253664986165766, -0.33904390394274625, -0.6047680721327735, 0.6319507291868012, 0.08021080511288874, -0.97896691342991, 0.4369547333665759, -0.7985562934630596, 0.32355756348101233, 0.17854988139187036, -0.39085134916630543, -1.5321370768705596, 0.5861424543076836, 2.715835390300358, -1.3640206736326035, 0.053510413565636135, 0.23066249339653072, -0.9000073817487739, 0.9819838235425686, -1.744346769757433, -1.476470196762409, 0.21746980135314714, -0.34197060462713014, 0.30613483379581946, 0.1580369293672214, 1.6409417618581168, -0.6236935701276197, -0.4991547268115103, 0.7647031685804507, -2.057966117769427, 0.07245698303131398, -1.997422627118517, -1.3578103866767408, -0.4588976279778724, -0.2454192395594232, 0.6101007402398854, -0.40256956678416195, -0.45482856969035035, 0.5081886564616441, -0.025645677346603758, 1.0873209343675125, -0.4837540231899125, -1.3658193840021244, 0.8709806074409643, 0.5227006631101526, 0.49932167167711755, -0.1584601394811962, -1.272619741579752, 0.08812063144630929, -2.4919502989164677, 0.4615886663651887, 1.5964300278251782, -0.2333403880597775, -1.4766687191490893, -0.829216493997643, 2.0719915614687685, 0.598632674767342, 0.13311083910793248, -0.32805792901128833, 0.6355408144030831, 0.046021443643492484, 1.2005067852810665, 0.1586335546924041, -0.15157832821376174, -0.46904019426122073, 0.3682667349324615, 1.0455848008493762, 0.6853331966485996, -2.3955059365107045, -0.4746208167669859, -1.4442781106443496, -1.235846616259877, 0.7634956216937328, 0.36410298923273937, 0.2819504634022776, 0.6214448156567906, 0.5799914555970304, -0.6312564703999389, -0.39107502929744736, 1.3765104283778724, 0.1453355977174186, 0.4025782781105333, -1.0490846276753765, 0.08067141982119372, 0.042136280705729286, 0.9800814899045366, 0.09139322288024926, 0.5173223544429093, -0.4522899727238104, 1.0364086713401168, 1.4337379459739363, -0.3459998925737082, 0.6517389335619018, -0.7458190969260151, -1.3743874310232795, -1.2824336424269147, -0.4871339431225125, -1.725912694868446, 0.13081866800058184, -2.6935481159733787], \"xaxis\": \"x4\", \"y\": [0.3410614466753071, -1.1035524050054597, 0.01497802970479452, -0.4923405339752979, -0.711740649467883, 0.7611113231300444, -0.32899989496145043, -1.0003056778373516, -1.144108410930388, -0.7187659800223282, -0.8827891809503372, 0.16527534978219205, 0.33791501376902755, 0.2845952287777885, -2.031762480119184, 0.009561136766891088, -0.37499414498681033, 0.7436276548650762, -0.08613852640362644, -1.788868487410151, 0.6091820625025955, -0.540546683835764, -1.3830705697321766, -0.22776248598870943, 0.04791488496871383, 0.14734661797990722, 0.6837492096990183, 0.4909535703078963, -0.5763766572692686, 1.7556808706923992, -0.21643572049270607, -0.08138650173686049, -0.41988696887517796, 0.5896403672067946, -0.15796893354889477, 0.03098947180102704, -1.1741362797157253, -0.5288212423479839, -1.0461934563699007, -1.8047730897321894, -0.18922230488345462, 0.4448399483986472, 0.09802387104390282, 0.3675012254291077, -2.199418690052648, 0.9672627288932981, -1.6104735507037404, 1.0793883903440407, -1.7442712770335072, -0.2006977228942966, 1.1604057740322227, 0.8380871794918501, 0.3434621276866279, -1.4104992622520467, 1.311238947350882, 0.9412950281879889, -0.3350723872072907, 0.6951180795417036, -0.9121582740527129, 0.18765291170273096, -0.690685295257295, 0.8852386085818393, 0.4317636746726903, -0.7504024305600105, -0.39335965300494274, 0.3694506068850978, -0.10252111873440109, 0.49884624438508196, 0.055394235359639964, 0.011792637052425847, -0.8082790203993668, -1.3615811568324008, -0.4873899268497068, 0.38309544271604257, 0.4242660099135097, 2.2187119574585603, -0.01959273839618212, -0.8646247657702009, 0.08787197959542621, -0.1154797457890154, 0.33140686940164854, -0.6196352065642001, 0.3227781557323908, 0.2447772792318997, -0.9529620548470774, -1.1779499157234683, 0.362052923601659, 0.36545821597693284, 0.5563628463658707, 0.09204794996115445, 0.5305702320652781, 1.2972359829146172, -0.463871893327936, -2.1652174380047438, 1.3950847840966412, 1.25889143735063, 1.5414336680370502, -0.028970197857147585, -1.3978466191671446, -0.4684792022305753], \"yaxis\": \"y4\"}, {\"line\": {\"color\": \"rgba(128, 128, 128, 1.0)\", \"dash\": \"solid\", \"shape\": \"linear\", \"width\": 1.3}, \"marker\": {\"size\": 2, \"symbol\": \"circle\"}, \"mode\": \"markers\", \"name\": \"B\", \"text\": \"\", \"type\": \"scatter\", \"x\": [0.3410614466753071, -1.1035524050054597, 0.01497802970479452, -0.4923405339752979, -0.711740649467883, 0.7611113231300444, -0.32899989496145043, -1.0003056778373516, -1.144108410930388, -0.7187659800223282, -0.8827891809503372, 0.16527534978219205, 0.33791501376902755, 0.2845952287777885, -2.031762480119184, 0.009561136766891088, -0.37499414498681033, 0.7436276548650762, -0.08613852640362644, -1.788868487410151, 0.6091820625025955, -0.540546683835764, -1.3830705697321766, -0.22776248598870943, 0.04791488496871383, 0.14734661797990722, 0.6837492096990183, 0.4909535703078963, -0.5763766572692686, 1.7556808706923992, -0.21643572049270607, -0.08138650173686049, -0.41988696887517796, 0.5896403672067946, -0.15796893354889477, 0.03098947180102704, -1.1741362797157253, -0.5288212423479839, -1.0461934563699007, -1.8047730897321894, -0.18922230488345462, 0.4448399483986472, 0.09802387104390282, 0.3675012254291077, -2.199418690052648, 0.9672627288932981, -1.6104735507037404, 1.0793883903440407, -1.7442712770335072, -0.2006977228942966, 1.1604057740322227, 0.8380871794918501, 0.3434621276866279, -1.4104992622520467, 1.311238947350882, 0.9412950281879889, -0.3350723872072907, 0.6951180795417036, -0.9121582740527129, 0.18765291170273096, -0.690685295257295, 0.8852386085818393, 0.4317636746726903, -0.7504024305600105, -0.39335965300494274, 0.3694506068850978, -0.10252111873440109, 0.49884624438508196, 0.055394235359639964, 0.011792637052425847, -0.8082790203993668, -1.3615811568324008, -0.4873899268497068, 0.38309544271604257, 0.4242660099135097, 2.2187119574585603, -0.01959273839618212, -0.8646247657702009, 0.08787197959542621, -0.1154797457890154, 0.33140686940164854, -0.6196352065642001, 0.3227781557323908, 0.2447772792318997, -0.9529620548470774, -1.1779499157234683, 0.362052923601659, 0.36545821597693284, 0.5563628463658707, 0.09204794996115445, 0.5305702320652781, 1.2972359829146172, -0.463871893327936, -2.1652174380047438, 1.3950847840966412, 1.25889143735063, 1.5414336680370502, -0.028970197857147585, -1.3978466191671446, -0.4684792022305753], \"xaxis\": \"x5\", \"y\": [1.6078167885510994, 0.5152505787154171, -1.732949449951613, -0.036945780938364245, -1.3551933367335174, 0.5319072842514352, 1.0697347319830688, -0.6363260721476971, -0.20643662573362598, -1.7853998237979154, -0.43298489994161915, -0.8220605061383672, -1.0416535261667546, -0.4436110742323203, -0.8849717239394095, 0.82462023527033, -0.4511224528127728, -2.1521002255906314, 0.6885075559620766, 0.9619774031436268, -1.601282319516909, -1.0187221532576956, -0.37185922386743625, 0.6327713965426722, 0.6958040276700553, 0.29576441234029416, 0.1870375683798816, 0.21216307603497175, -0.46826979686342507, 0.5265808883122749, 1.655233754967969, 0.7847270184177594, -0.06524297551623097, -0.9050608073638097, -0.7568972725338796, 1.8504073752072894, -1.3319273680622228, 1.025323553637435, -1.1929053119674793, 0.37609355139190637, -0.6931871349019727, -0.26788738816063384, 0.6452730391434862, -0.6410794715938621, 0.33601850854039045, 1.062834980137413, -0.13797130277316041, -0.3472728358101834, -1.9295221797591842, 0.688887327408491, -1.0059879927275013, -0.050838321432649304, 2.810881273367778, 1.5703602950010316, 0.6688810634008149, -1.6495902709058397, 0.6370014643522423, -0.6926906557976084, -1.7365465452273703, -1.3391600076707793, -2.403423131134129, -1.8354091651813158, 0.6708773143428056, 0.879946117968798, 0.8808745167598088, 0.9741666663770794, -0.8874965115923111, -0.12403926065668726, 1.4859109330104527, 0.02280886808632988, -1.1667746795991663, -0.978686343644049, -1.4082136206191738, -1.2271331376969463, -1.2464437921438107, -0.4073132003975011, 1.3898802816681095, 0.9273059334446105, 0.39645412550268183, 0.3916040681168114, 1.7819762431059742, 2.7889896150765257, -0.010367608731995102, -0.8704789634274461, 2.2738070570513167, -0.723458871193624, -0.8191102049372018, 0.46412661059334726, 0.11437839854593614, 0.8480965711153516, -0.4528516451940342, 1.4002905273470163, -0.6214770108332643, 0.25299312347365505, -2.538120488901347, -0.7338163679908073, -0.8294853006575363, -0.7021157089248629, 1.258967519250579, -0.7460926635527159], \"yaxis\": \"y5\"}, {\"histfunc\": \"count\", \"histnorm\": \"\", \"marker\": {\"color\": \"rgba(55, 128, 191, 1.0)\", \"line\": {\"color\": \"#4D5663\", \"width\": 1.3}}, \"name\": \"B\", \"nbinsx\": 10, \"opacity\": 0.8, \"orientation\": \"v\", \"type\": \"histogram\", \"x\": [1.6078167885510994, 0.5152505787154171, -1.732949449951613, -0.036945780938364245, -1.3551933367335174, 0.5319072842514352, 1.0697347319830688, -0.6363260721476971, -0.20643662573362598, -1.7853998237979154, -0.43298489994161915, -0.8220605061383672, -1.0416535261667546, -0.4436110742323203, -0.8849717239394095, 0.82462023527033, -0.4511224528127728, -2.1521002255906314, 0.6885075559620766, 0.9619774031436268, -1.601282319516909, -1.0187221532576956, -0.37185922386743625, 0.6327713965426722, 0.6958040276700553, 0.29576441234029416, 0.1870375683798816, 0.21216307603497175, -0.46826979686342507, 0.5265808883122749, 1.655233754967969, 0.7847270184177594, -0.06524297551623097, -0.9050608073638097, -0.7568972725338796, 1.8504073752072894, -1.3319273680622228, 1.025323553637435, -1.1929053119674793, 0.37609355139190637, -0.6931871349019727, -0.26788738816063384, 0.6452730391434862, -0.6410794715938621, 0.33601850854039045, 1.062834980137413, -0.13797130277316041, -0.3472728358101834, -1.9295221797591842, 0.688887327408491, -1.0059879927275013, -0.050838321432649304, 2.810881273367778, 1.5703602950010316, 0.6688810634008149, -1.6495902709058397, 0.6370014643522423, -0.6926906557976084, -1.7365465452273703, -1.3391600076707793, -2.403423131134129, -1.8354091651813158, 0.6708773143428056, 0.879946117968798, 0.8808745167598088, 0.9741666663770794, -0.8874965115923111, -0.12403926065668726, 1.4859109330104527, 0.02280886808632988, -1.1667746795991663, -0.978686343644049, -1.4082136206191738, -1.2271331376969463, -1.2464437921438107, -0.4073132003975011, 1.3898802816681095, 0.9273059334446105, 0.39645412550268183, 0.3916040681168114, 1.7819762431059742, 2.7889896150765257, -0.010367608731995102, -0.8704789634274461, 2.2738070570513167, -0.723458871193624, -0.8191102049372018, 0.46412661059334726, 0.11437839854593614, 0.8480965711153516, -0.4528516451940342, 1.4002905273470163, -0.6214770108332643, 0.25299312347365505, -2.538120488901347, -0.7338163679908073, -0.8294853006575363, -0.7021157089248629, 1.258967519250579, -0.7460926635527159], \"xaxis\": \"x6\", \"yaxis\": \"y6\"}, {\"line\": {\"color\": \"rgba(128, 128, 128, 1.0)\", \"dash\": \"solid\", \"shape\": \"linear\", \"width\": 1.3}, \"marker\": {\"size\": 2, \"symbol\": \"circle\"}, \"mode\": \"markers\", \"name\": \"B\", \"text\": \"\", \"type\": \"scatter\", \"x\": [-0.40893659238493957, 0.5284695897665097, -1.3499824366425284, 0.20947320867091684, 0.06313788697464681, 0.2240257478807152, 1.3084846093844364, -0.09769227025138068, 3.0269187001332876, -0.5550378168902134, 0.32298539684628774, -0.9811850106703884, 0.1877224155419993, -0.4476847275857444, -0.043444973539220784, -0.8568041222728902, 0.6678292272658113, -0.5541880396613528, 0.17231564672572366, -2.347037685253554, 1.7901696378077814, -0.13873703056336914, 1.3703117808680336, -1.09557404652743, -0.840483658635545, -0.0782207435962417, -2.4901813063590845, 0.7954577690986171, 0.7563678500304583, 0.8282810592239327, 1.3736171084097888, -0.23051949047893924, -0.7500511202208137, 0.4657791581196217, -0.694317760791448, 0.5323281945892034, 1.0744949799025156, -0.5757996261723936, 0.6175531749144147, -1.3308095173861523, -0.3041411470782431, -0.32321262916407295, 1.3451360503158794, -0.22258765641468636, 0.46276086443159536, 1.305473094444253, -1.2557224375752478, -0.10735439230579584, 0.15539669136081516, 0.2454287275781737, 0.709062744071629, -1.0189306817494845, -2.8313600195386575, -1.2898923383254388, -0.3335219739601589, -0.4645270990903758, -0.8103778869906966, 1.777486986773079, -1.3100053866097574, -0.0061975588456562435, -0.3169815636267048, 0.9884135602991152, -1.311183355018789, 1.3503314844721983, -1.176715892945502, 0.5248186280331063, 0.7445747839308063, 1.6061207522399603, 0.8945753050864336, -1.9802230667354683, 0.9670175266026474, -0.38313088682029106, 0.11504863104212563, 0.2578355137559848, -1.0821243444171453, -0.09448353023062106, 2.280294479006378, -0.17323267358745653, 1.576825520990779, -1.1218075790792321, 0.963955846773198, -0.534160103149209, -0.47914281610558834, -0.632605606970785, 1.6854458923256828, -0.7524602936912916, -0.1503760974022031, 0.32477971265012107, 0.8838810141917546, -0.4830171405408817, 0.4633496042189074, 0.6629779705259863, -1.3091493510560799, 0.4445862882224116, 1.476563650171718, 0.5203636349511526, -0.10072918007507821, 0.6815092069551677, -1.6553484152033242, -0.5437242883934308], \"xaxis\": \"x7\", \"y\": [1.6078167885510994, 0.5152505787154171, -1.732949449951613, -0.036945780938364245, -1.3551933367335174, 0.5319072842514352, 1.0697347319830688, -0.6363260721476971, -0.20643662573362598, -1.7853998237979154, -0.43298489994161915, -0.8220605061383672, -1.0416535261667546, -0.4436110742323203, -0.8849717239394095, 0.82462023527033, -0.4511224528127728, -2.1521002255906314, 0.6885075559620766, 0.9619774031436268, -1.601282319516909, -1.0187221532576956, -0.37185922386743625, 0.6327713965426722, 0.6958040276700553, 0.29576441234029416, 0.1870375683798816, 0.21216307603497175, -0.46826979686342507, 0.5265808883122749, 1.655233754967969, 0.7847270184177594, -0.06524297551623097, -0.9050608073638097, -0.7568972725338796, 1.8504073752072894, -1.3319273680622228, 1.025323553637435, -1.1929053119674793, 0.37609355139190637, -0.6931871349019727, -0.26788738816063384, 0.6452730391434862, -0.6410794715938621, 0.33601850854039045, 1.062834980137413, -0.13797130277316041, -0.3472728358101834, -1.9295221797591842, 0.688887327408491, -1.0059879927275013, -0.050838321432649304, 2.810881273367778, 1.5703602950010316, 0.6688810634008149, -1.6495902709058397, 0.6370014643522423, -0.6926906557976084, -1.7365465452273703, -1.3391600076707793, -2.403423131134129, -1.8354091651813158, 0.6708773143428056, 0.879946117968798, 0.8808745167598088, 0.9741666663770794, -0.8874965115923111, -0.12403926065668726, 1.4859109330104527, 0.02280886808632988, -1.1667746795991663, -0.978686343644049, -1.4082136206191738, -1.2271331376969463, -1.2464437921438107, -0.4073132003975011, 1.3898802816681095, 0.9273059334446105, 0.39645412550268183, 0.3916040681168114, 1.7819762431059742, 2.7889896150765257, -0.010367608731995102, -0.8704789634274461, 2.2738070570513167, -0.723458871193624, -0.8191102049372018, 0.46412661059334726, 0.11437839854593614, 0.8480965711153516, -0.4528516451940342, 1.4002905273470163, -0.6214770108332643, 0.25299312347365505, -2.538120488901347, -0.7338163679908073, -0.8294853006575363, -0.7021157089248629, 1.258967519250579, -0.7460926635527159], \"yaxis\": \"y7\"}, {\"line\": {\"color\": \"rgba(128, 128, 128, 1.0)\", \"dash\": \"solid\", \"shape\": \"linear\", \"width\": 1.3}, \"marker\": {\"size\": 2, \"symbol\": \"circle\"}, \"mode\": \"markers\", \"name\": \"B\", \"text\": \"\", \"type\": \"scatter\", \"x\": [-0.28253664986165766, -0.33904390394274625, -0.6047680721327735, 0.6319507291868012, 0.08021080511288874, -0.97896691342991, 0.4369547333665759, -0.7985562934630596, 0.32355756348101233, 0.17854988139187036, -0.39085134916630543, -1.5321370768705596, 0.5861424543076836, 2.715835390300358, -1.3640206736326035, 0.053510413565636135, 0.23066249339653072, -0.9000073817487739, 0.9819838235425686, -1.744346769757433, -1.476470196762409, 0.21746980135314714, -0.34197060462713014, 0.30613483379581946, 0.1580369293672214, 1.6409417618581168, -0.6236935701276197, -0.4991547268115103, 0.7647031685804507, -2.057966117769427, 0.07245698303131398, -1.997422627118517, -1.3578103866767408, -0.4588976279778724, -0.2454192395594232, 0.6101007402398854, -0.40256956678416195, -0.45482856969035035, 0.5081886564616441, -0.025645677346603758, 1.0873209343675125, -0.4837540231899125, -1.3658193840021244, 0.8709806074409643, 0.5227006631101526, 0.49932167167711755, -0.1584601394811962, -1.272619741579752, 0.08812063144630929, -2.4919502989164677, 0.4615886663651887, 1.5964300278251782, -0.2333403880597775, -1.4766687191490893, -0.829216493997643, 2.0719915614687685, 0.598632674767342, 0.13311083910793248, -0.32805792901128833, 0.6355408144030831, 0.046021443643492484, 1.2005067852810665, 0.1586335546924041, -0.15157832821376174, -0.46904019426122073, 0.3682667349324615, 1.0455848008493762, 0.6853331966485996, -2.3955059365107045, -0.4746208167669859, -1.4442781106443496, -1.235846616259877, 0.7634956216937328, 0.36410298923273937, 0.2819504634022776, 0.6214448156567906, 0.5799914555970304, -0.6312564703999389, -0.39107502929744736, 1.3765104283778724, 0.1453355977174186, 0.4025782781105333, -1.0490846276753765, 0.08067141982119372, 0.042136280705729286, 0.9800814899045366, 0.09139322288024926, 0.5173223544429093, -0.4522899727238104, 1.0364086713401168, 1.4337379459739363, -0.3459998925737082, 0.6517389335619018, -0.7458190969260151, -1.3743874310232795, -1.2824336424269147, -0.4871339431225125, -1.725912694868446, 0.13081866800058184, -2.6935481159733787], \"xaxis\": \"x8\", \"y\": [1.6078167885510994, 0.5152505787154171, -1.732949449951613, -0.036945780938364245, -1.3551933367335174, 0.5319072842514352, 1.0697347319830688, -0.6363260721476971, -0.20643662573362598, -1.7853998237979154, -0.43298489994161915, -0.8220605061383672, -1.0416535261667546, -0.4436110742323203, -0.8849717239394095, 0.82462023527033, -0.4511224528127728, -2.1521002255906314, 0.6885075559620766, 0.9619774031436268, -1.601282319516909, -1.0187221532576956, -0.37185922386743625, 0.6327713965426722, 0.6958040276700553, 0.29576441234029416, 0.1870375683798816, 0.21216307603497175, -0.46826979686342507, 0.5265808883122749, 1.655233754967969, 0.7847270184177594, -0.06524297551623097, -0.9050608073638097, -0.7568972725338796, 1.8504073752072894, -1.3319273680622228, 1.025323553637435, -1.1929053119674793, 0.37609355139190637, -0.6931871349019727, -0.26788738816063384, 0.6452730391434862, -0.6410794715938621, 0.33601850854039045, 1.062834980137413, -0.13797130277316041, -0.3472728358101834, -1.9295221797591842, 0.688887327408491, -1.0059879927275013, -0.050838321432649304, 2.810881273367778, 1.5703602950010316, 0.6688810634008149, -1.6495902709058397, 0.6370014643522423, -0.6926906557976084, -1.7365465452273703, -1.3391600076707793, -2.403423131134129, -1.8354091651813158, 0.6708773143428056, 0.879946117968798, 0.8808745167598088, 0.9741666663770794, -0.8874965115923111, -0.12403926065668726, 1.4859109330104527, 0.02280886808632988, -1.1667746795991663, -0.978686343644049, -1.4082136206191738, -1.2271331376969463, -1.2464437921438107, -0.4073132003975011, 1.3898802816681095, 0.9273059334446105, 0.39645412550268183, 0.3916040681168114, 1.7819762431059742, 2.7889896150765257, -0.010367608731995102, -0.8704789634274461, 2.2738070570513167, -0.723458871193624, -0.8191102049372018, 0.46412661059334726, 0.11437839854593614, 0.8480965711153516, -0.4528516451940342, 1.4002905273470163, -0.6214770108332643, 0.25299312347365505, -2.538120488901347, -0.7338163679908073, -0.8294853006575363, -0.7021157089248629, 1.258967519250579, -0.7460926635527159], \"yaxis\": \"y8\"}, {\"line\": {\"color\": \"rgba(128, 128, 128, 1.0)\", \"dash\": \"solid\", \"shape\": \"linear\", \"width\": 1.3}, \"marker\": {\"size\": 2, \"symbol\": \"circle\"}, \"mode\": \"markers\", \"name\": \"C\", \"text\": \"\", \"type\": \"scatter\", \"x\": [0.3410614466753071, -1.1035524050054597, 0.01497802970479452, -0.4923405339752979, -0.711740649467883, 0.7611113231300444, -0.32899989496145043, -1.0003056778373516, -1.144108410930388, -0.7187659800223282, -0.8827891809503372, 0.16527534978219205, 0.33791501376902755, 0.2845952287777885, -2.031762480119184, 0.009561136766891088, -0.37499414498681033, 0.7436276548650762, -0.08613852640362644, -1.788868487410151, 0.6091820625025955, -0.540546683835764, -1.3830705697321766, -0.22776248598870943, 0.04791488496871383, 0.14734661797990722, 0.6837492096990183, 0.4909535703078963, -0.5763766572692686, 1.7556808706923992, -0.21643572049270607, -0.08138650173686049, -0.41988696887517796, 0.5896403672067946, -0.15796893354889477, 0.03098947180102704, -1.1741362797157253, -0.5288212423479839, -1.0461934563699007, -1.8047730897321894, -0.18922230488345462, 0.4448399483986472, 0.09802387104390282, 0.3675012254291077, -2.199418690052648, 0.9672627288932981, -1.6104735507037404, 1.0793883903440407, -1.7442712770335072, -0.2006977228942966, 1.1604057740322227, 0.8380871794918501, 0.3434621276866279, -1.4104992622520467, 1.311238947350882, 0.9412950281879889, -0.3350723872072907, 0.6951180795417036, -0.9121582740527129, 0.18765291170273096, -0.690685295257295, 0.8852386085818393, 0.4317636746726903, -0.7504024305600105, -0.39335965300494274, 0.3694506068850978, -0.10252111873440109, 0.49884624438508196, 0.055394235359639964, 0.011792637052425847, -0.8082790203993668, -1.3615811568324008, -0.4873899268497068, 0.38309544271604257, 0.4242660099135097, 2.2187119574585603, -0.01959273839618212, -0.8646247657702009, 0.08787197959542621, -0.1154797457890154, 0.33140686940164854, -0.6196352065642001, 0.3227781557323908, 0.2447772792318997, -0.9529620548470774, -1.1779499157234683, 0.362052923601659, 0.36545821597693284, 0.5563628463658707, 0.09204794996115445, 0.5305702320652781, 1.2972359829146172, -0.463871893327936, -2.1652174380047438, 1.3950847840966412, 1.25889143735063, 1.5414336680370502, -0.028970197857147585, -1.3978466191671446, -0.4684792022305753], \"xaxis\": \"x9\", \"y\": [-0.40893659238493957, 0.5284695897665097, -1.3499824366425284, 0.20947320867091684, 0.06313788697464681, 0.2240257478807152, 1.3084846093844364, -0.09769227025138068, 3.0269187001332876, -0.5550378168902134, 0.32298539684628774, -0.9811850106703884, 0.1877224155419993, -0.4476847275857444, -0.043444973539220784, -0.8568041222728902, 0.6678292272658113, -0.5541880396613528, 0.17231564672572366, -2.347037685253554, 1.7901696378077814, -0.13873703056336914, 1.3703117808680336, -1.09557404652743, -0.840483658635545, -0.0782207435962417, -2.4901813063590845, 0.7954577690986171, 0.7563678500304583, 0.8282810592239327, 1.3736171084097888, -0.23051949047893924, -0.7500511202208137, 0.4657791581196217, -0.694317760791448, 0.5323281945892034, 1.0744949799025156, -0.5757996261723936, 0.6175531749144147, -1.3308095173861523, -0.3041411470782431, -0.32321262916407295, 1.3451360503158794, -0.22258765641468636, 0.46276086443159536, 1.305473094444253, -1.2557224375752478, -0.10735439230579584, 0.15539669136081516, 0.2454287275781737, 0.709062744071629, -1.0189306817494845, -2.8313600195386575, -1.2898923383254388, -0.3335219739601589, -0.4645270990903758, -0.8103778869906966, 1.777486986773079, -1.3100053866097574, -0.0061975588456562435, -0.3169815636267048, 0.9884135602991152, -1.311183355018789, 1.3503314844721983, -1.176715892945502, 0.5248186280331063, 0.7445747839308063, 1.6061207522399603, 0.8945753050864336, -1.9802230667354683, 0.9670175266026474, -0.38313088682029106, 0.11504863104212563, 0.2578355137559848, -1.0821243444171453, -0.09448353023062106, 2.280294479006378, -0.17323267358745653, 1.576825520990779, -1.1218075790792321, 0.963955846773198, -0.534160103149209, -0.47914281610558834, -0.632605606970785, 1.6854458923256828, -0.7524602936912916, -0.1503760974022031, 0.32477971265012107, 0.8838810141917546, -0.4830171405408817, 0.4633496042189074, 0.6629779705259863, -1.3091493510560799, 0.4445862882224116, 1.476563650171718, 0.5203636349511526, -0.10072918007507821, 0.6815092069551677, -1.6553484152033242, -0.5437242883934308], \"yaxis\": \"y9\"}, {\"line\": {\"color\": \"rgba(128, 128, 128, 1.0)\", \"dash\": \"solid\", \"shape\": \"linear\", \"width\": 1.3}, \"marker\": {\"size\": 2, \"symbol\": \"circle\"}, \"mode\": \"markers\", \"name\": \"C\", \"text\": \"\", \"type\": \"scatter\", \"x\": [1.6078167885510994, 0.5152505787154171, -1.732949449951613, -0.036945780938364245, -1.3551933367335174, 0.5319072842514352, 1.0697347319830688, -0.6363260721476971, -0.20643662573362598, -1.7853998237979154, -0.43298489994161915, -0.8220605061383672, -1.0416535261667546, -0.4436110742323203, -0.8849717239394095, 0.82462023527033, -0.4511224528127728, -2.1521002255906314, 0.6885075559620766, 0.9619774031436268, -1.601282319516909, -1.0187221532576956, -0.37185922386743625, 0.6327713965426722, 0.6958040276700553, 0.29576441234029416, 0.1870375683798816, 0.21216307603497175, -0.46826979686342507, 0.5265808883122749, 1.655233754967969, 0.7847270184177594, -0.06524297551623097, -0.9050608073638097, -0.7568972725338796, 1.8504073752072894, -1.3319273680622228, 1.025323553637435, -1.1929053119674793, 0.37609355139190637, -0.6931871349019727, -0.26788738816063384, 0.6452730391434862, -0.6410794715938621, 0.33601850854039045, 1.062834980137413, -0.13797130277316041, -0.3472728358101834, -1.9295221797591842, 0.688887327408491, -1.0059879927275013, -0.050838321432649304, 2.810881273367778, 1.5703602950010316, 0.6688810634008149, -1.6495902709058397, 0.6370014643522423, -0.6926906557976084, -1.7365465452273703, -1.3391600076707793, -2.403423131134129, -1.8354091651813158, 0.6708773143428056, 0.879946117968798, 0.8808745167598088, 0.9741666663770794, -0.8874965115923111, -0.12403926065668726, 1.4859109330104527, 0.02280886808632988, -1.1667746795991663, -0.978686343644049, -1.4082136206191738, -1.2271331376969463, -1.2464437921438107, -0.4073132003975011, 1.3898802816681095, 0.9273059334446105, 0.39645412550268183, 0.3916040681168114, 1.7819762431059742, 2.7889896150765257, -0.010367608731995102, -0.8704789634274461, 2.2738070570513167, -0.723458871193624, -0.8191102049372018, 0.46412661059334726, 0.11437839854593614, 0.8480965711153516, -0.4528516451940342, 1.4002905273470163, -0.6214770108332643, 0.25299312347365505, -2.538120488901347, -0.7338163679908073, -0.8294853006575363, -0.7021157089248629, 1.258967519250579, -0.7460926635527159], \"xaxis\": \"x10\", \"y\": [-0.40893659238493957, 0.5284695897665097, -1.3499824366425284, 0.20947320867091684, 0.06313788697464681, 0.2240257478807152, 1.3084846093844364, -0.09769227025138068, 3.0269187001332876, -0.5550378168902134, 0.32298539684628774, -0.9811850106703884, 0.1877224155419993, -0.4476847275857444, -0.043444973539220784, -0.8568041222728902, 0.6678292272658113, -0.5541880396613528, 0.17231564672572366, -2.347037685253554, 1.7901696378077814, -0.13873703056336914, 1.3703117808680336, -1.09557404652743, -0.840483658635545, -0.0782207435962417, -2.4901813063590845, 0.7954577690986171, 0.7563678500304583, 0.8282810592239327, 1.3736171084097888, -0.23051949047893924, -0.7500511202208137, 0.4657791581196217, -0.694317760791448, 0.5323281945892034, 1.0744949799025156, -0.5757996261723936, 0.6175531749144147, -1.3308095173861523, -0.3041411470782431, -0.32321262916407295, 1.3451360503158794, -0.22258765641468636, 0.46276086443159536, 1.305473094444253, -1.2557224375752478, -0.10735439230579584, 0.15539669136081516, 0.2454287275781737, 0.709062744071629, -1.0189306817494845, -2.8313600195386575, -1.2898923383254388, -0.3335219739601589, -0.4645270990903758, -0.8103778869906966, 1.777486986773079, -1.3100053866097574, -0.0061975588456562435, -0.3169815636267048, 0.9884135602991152, -1.311183355018789, 1.3503314844721983, -1.176715892945502, 0.5248186280331063, 0.7445747839308063, 1.6061207522399603, 0.8945753050864336, -1.9802230667354683, 0.9670175266026474, -0.38313088682029106, 0.11504863104212563, 0.2578355137559848, -1.0821243444171453, -0.09448353023062106, 2.280294479006378, -0.17323267358745653, 1.576825520990779, -1.1218075790792321, 0.963955846773198, -0.534160103149209, -0.47914281610558834, -0.632605606970785, 1.6854458923256828, -0.7524602936912916, -0.1503760974022031, 0.32477971265012107, 0.8838810141917546, -0.4830171405408817, 0.4633496042189074, 0.6629779705259863, -1.3091493510560799, 0.4445862882224116, 1.476563650171718, 0.5203636349511526, -0.10072918007507821, 0.6815092069551677, -1.6553484152033242, -0.5437242883934308], \"yaxis\": \"y10\"}, {\"histfunc\": \"count\", \"histnorm\": \"\", \"marker\": {\"color\": \"rgba(50, 171, 96, 1.0)\", \"line\": {\"color\": \"#4D5663\", \"width\": 1.3}}, \"name\": \"C\", \"nbinsx\": 10, \"opacity\": 0.8, \"orientation\": \"v\", \"type\": \"histogram\", \"x\": [-0.40893659238493957, 0.5284695897665097, -1.3499824366425284, 0.20947320867091684, 0.06313788697464681, 0.2240257478807152, 1.3084846093844364, -0.09769227025138068, 3.0269187001332876, -0.5550378168902134, 0.32298539684628774, -0.9811850106703884, 0.1877224155419993, -0.4476847275857444, -0.043444973539220784, -0.8568041222728902, 0.6678292272658113, -0.5541880396613528, 0.17231564672572366, -2.347037685253554, 1.7901696378077814, -0.13873703056336914, 1.3703117808680336, -1.09557404652743, -0.840483658635545, -0.0782207435962417, -2.4901813063590845, 0.7954577690986171, 0.7563678500304583, 0.8282810592239327, 1.3736171084097888, -0.23051949047893924, -0.7500511202208137, 0.4657791581196217, -0.694317760791448, 0.5323281945892034, 1.0744949799025156, -0.5757996261723936, 0.6175531749144147, -1.3308095173861523, -0.3041411470782431, -0.32321262916407295, 1.3451360503158794, -0.22258765641468636, 0.46276086443159536, 1.305473094444253, -1.2557224375752478, -0.10735439230579584, 0.15539669136081516, 0.2454287275781737, 0.709062744071629, -1.0189306817494845, -2.8313600195386575, -1.2898923383254388, -0.3335219739601589, -0.4645270990903758, -0.8103778869906966, 1.777486986773079, -1.3100053866097574, -0.0061975588456562435, -0.3169815636267048, 0.9884135602991152, -1.311183355018789, 1.3503314844721983, -1.176715892945502, 0.5248186280331063, 0.7445747839308063, 1.6061207522399603, 0.8945753050864336, -1.9802230667354683, 0.9670175266026474, -0.38313088682029106, 0.11504863104212563, 0.2578355137559848, -1.0821243444171453, -0.09448353023062106, 2.280294479006378, -0.17323267358745653, 1.576825520990779, -1.1218075790792321, 0.963955846773198, -0.534160103149209, -0.47914281610558834, -0.632605606970785, 1.6854458923256828, -0.7524602936912916, -0.1503760974022031, 0.32477971265012107, 0.8838810141917546, -0.4830171405408817, 0.4633496042189074, 0.6629779705259863, -1.3091493510560799, 0.4445862882224116, 1.476563650171718, 0.5203636349511526, -0.10072918007507821, 0.6815092069551677, -1.6553484152033242, -0.5437242883934308], \"xaxis\": \"x11\", \"yaxis\": \"y11\"}, {\"line\": {\"color\": \"rgba(128, 128, 128, 1.0)\", \"dash\": \"solid\", \"shape\": \"linear\", \"width\": 1.3}, \"marker\": {\"size\": 2, \"symbol\": \"circle\"}, \"mode\": \"markers\", \"name\": \"C\", \"text\": \"\", \"type\": \"scatter\", \"x\": [-0.28253664986165766, -0.33904390394274625, -0.6047680721327735, 0.6319507291868012, 0.08021080511288874, -0.97896691342991, 0.4369547333665759, -0.7985562934630596, 0.32355756348101233, 0.17854988139187036, -0.39085134916630543, -1.5321370768705596, 0.5861424543076836, 2.715835390300358, -1.3640206736326035, 0.053510413565636135, 0.23066249339653072, -0.9000073817487739, 0.9819838235425686, -1.744346769757433, -1.476470196762409, 0.21746980135314714, -0.34197060462713014, 0.30613483379581946, 0.1580369293672214, 1.6409417618581168, -0.6236935701276197, -0.4991547268115103, 0.7647031685804507, -2.057966117769427, 0.07245698303131398, -1.997422627118517, -1.3578103866767408, -0.4588976279778724, -0.2454192395594232, 0.6101007402398854, -0.40256956678416195, -0.45482856969035035, 0.5081886564616441, -0.025645677346603758, 1.0873209343675125, -0.4837540231899125, -1.3658193840021244, 0.8709806074409643, 0.5227006631101526, 0.49932167167711755, -0.1584601394811962, -1.272619741579752, 0.08812063144630929, -2.4919502989164677, 0.4615886663651887, 1.5964300278251782, -0.2333403880597775, -1.4766687191490893, -0.829216493997643, 2.0719915614687685, 0.598632674767342, 0.13311083910793248, -0.32805792901128833, 0.6355408144030831, 0.046021443643492484, 1.2005067852810665, 0.1586335546924041, -0.15157832821376174, -0.46904019426122073, 0.3682667349324615, 1.0455848008493762, 0.6853331966485996, -2.3955059365107045, -0.4746208167669859, -1.4442781106443496, -1.235846616259877, 0.7634956216937328, 0.36410298923273937, 0.2819504634022776, 0.6214448156567906, 0.5799914555970304, -0.6312564703999389, -0.39107502929744736, 1.3765104283778724, 0.1453355977174186, 0.4025782781105333, -1.0490846276753765, 0.08067141982119372, 0.042136280705729286, 0.9800814899045366, 0.09139322288024926, 0.5173223544429093, -0.4522899727238104, 1.0364086713401168, 1.4337379459739363, -0.3459998925737082, 0.6517389335619018, -0.7458190969260151, -1.3743874310232795, -1.2824336424269147, -0.4871339431225125, -1.725912694868446, 0.13081866800058184, -2.6935481159733787], \"xaxis\": \"x12\", \"y\": [-0.40893659238493957, 0.5284695897665097, -1.3499824366425284, 0.20947320867091684, 0.06313788697464681, 0.2240257478807152, 1.3084846093844364, -0.09769227025138068, 3.0269187001332876, -0.5550378168902134, 0.32298539684628774, -0.9811850106703884, 0.1877224155419993, -0.4476847275857444, -0.043444973539220784, -0.8568041222728902, 0.6678292272658113, -0.5541880396613528, 0.17231564672572366, -2.347037685253554, 1.7901696378077814, -0.13873703056336914, 1.3703117808680336, -1.09557404652743, -0.840483658635545, -0.0782207435962417, -2.4901813063590845, 0.7954577690986171, 0.7563678500304583, 0.8282810592239327, 1.3736171084097888, -0.23051949047893924, -0.7500511202208137, 0.4657791581196217, -0.694317760791448, 0.5323281945892034, 1.0744949799025156, -0.5757996261723936, 0.6175531749144147, -1.3308095173861523, -0.3041411470782431, -0.32321262916407295, 1.3451360503158794, -0.22258765641468636, 0.46276086443159536, 1.305473094444253, -1.2557224375752478, -0.10735439230579584, 0.15539669136081516, 0.2454287275781737, 0.709062744071629, -1.0189306817494845, -2.8313600195386575, -1.2898923383254388, -0.3335219739601589, -0.4645270990903758, -0.8103778869906966, 1.777486986773079, -1.3100053866097574, -0.0061975588456562435, -0.3169815636267048, 0.9884135602991152, -1.311183355018789, 1.3503314844721983, -1.176715892945502, 0.5248186280331063, 0.7445747839308063, 1.6061207522399603, 0.8945753050864336, -1.9802230667354683, 0.9670175266026474, -0.38313088682029106, 0.11504863104212563, 0.2578355137559848, -1.0821243444171453, -0.09448353023062106, 2.280294479006378, -0.17323267358745653, 1.576825520990779, -1.1218075790792321, 0.963955846773198, -0.534160103149209, -0.47914281610558834, -0.632605606970785, 1.6854458923256828, -0.7524602936912916, -0.1503760974022031, 0.32477971265012107, 0.8838810141917546, -0.4830171405408817, 0.4633496042189074, 0.6629779705259863, -1.3091493510560799, 0.4445862882224116, 1.476563650171718, 0.5203636349511526, -0.10072918007507821, 0.6815092069551677, -1.6553484152033242, -0.5437242883934308], \"yaxis\": \"y12\"}, {\"line\": {\"color\": \"rgba(128, 128, 128, 1.0)\", \"dash\": \"solid\", \"shape\": \"linear\", \"width\": 1.3}, \"marker\": {\"size\": 2, \"symbol\": \"circle\"}, \"mode\": \"markers\", \"name\": \"D\", \"text\": \"\", \"type\": \"scatter\", \"x\": [0.3410614466753071, -1.1035524050054597, 0.01497802970479452, -0.4923405339752979, -0.711740649467883, 0.7611113231300444, -0.32899989496145043, -1.0003056778373516, -1.144108410930388, -0.7187659800223282, -0.8827891809503372, 0.16527534978219205, 0.33791501376902755, 0.2845952287777885, -2.031762480119184, 0.009561136766891088, -0.37499414498681033, 0.7436276548650762, -0.08613852640362644, -1.788868487410151, 0.6091820625025955, -0.540546683835764, -1.3830705697321766, -0.22776248598870943, 0.04791488496871383, 0.14734661797990722, 0.6837492096990183, 0.4909535703078963, -0.5763766572692686, 1.7556808706923992, -0.21643572049270607, -0.08138650173686049, -0.41988696887517796, 0.5896403672067946, -0.15796893354889477, 0.03098947180102704, -1.1741362797157253, -0.5288212423479839, -1.0461934563699007, -1.8047730897321894, -0.18922230488345462, 0.4448399483986472, 0.09802387104390282, 0.3675012254291077, -2.199418690052648, 0.9672627288932981, -1.6104735507037404, 1.0793883903440407, -1.7442712770335072, -0.2006977228942966, 1.1604057740322227, 0.8380871794918501, 0.3434621276866279, -1.4104992622520467, 1.311238947350882, 0.9412950281879889, -0.3350723872072907, 0.6951180795417036, -0.9121582740527129, 0.18765291170273096, -0.690685295257295, 0.8852386085818393, 0.4317636746726903, -0.7504024305600105, -0.39335965300494274, 0.3694506068850978, -0.10252111873440109, 0.49884624438508196, 0.055394235359639964, 0.011792637052425847, -0.8082790203993668, -1.3615811568324008, -0.4873899268497068, 0.38309544271604257, 0.4242660099135097, 2.2187119574585603, -0.01959273839618212, -0.8646247657702009, 0.08787197959542621, -0.1154797457890154, 0.33140686940164854, -0.6196352065642001, 0.3227781557323908, 0.2447772792318997, -0.9529620548470774, -1.1779499157234683, 0.362052923601659, 0.36545821597693284, 0.5563628463658707, 0.09204794996115445, 0.5305702320652781, 1.2972359829146172, -0.463871893327936, -2.1652174380047438, 1.3950847840966412, 1.25889143735063, 1.5414336680370502, -0.028970197857147585, -1.3978466191671446, -0.4684792022305753], \"xaxis\": \"x13\", \"y\": [-0.28253664986165766, -0.33904390394274625, -0.6047680721327735, 0.6319507291868012, 0.08021080511288874, -0.97896691342991, 0.4369547333665759, -0.7985562934630596, 0.32355756348101233, 0.17854988139187036, -0.39085134916630543, -1.5321370768705596, 0.5861424543076836, 2.715835390300358, -1.3640206736326035, 0.053510413565636135, 0.23066249339653072, -0.9000073817487739, 0.9819838235425686, -1.744346769757433, -1.476470196762409, 0.21746980135314714, -0.34197060462713014, 0.30613483379581946, 0.1580369293672214, 1.6409417618581168, -0.6236935701276197, -0.4991547268115103, 0.7647031685804507, -2.057966117769427, 0.07245698303131398, -1.997422627118517, -1.3578103866767408, -0.4588976279778724, -0.2454192395594232, 0.6101007402398854, -0.40256956678416195, -0.45482856969035035, 0.5081886564616441, -0.025645677346603758, 1.0873209343675125, -0.4837540231899125, -1.3658193840021244, 0.8709806074409643, 0.5227006631101526, 0.49932167167711755, -0.1584601394811962, -1.272619741579752, 0.08812063144630929, -2.4919502989164677, 0.4615886663651887, 1.5964300278251782, -0.2333403880597775, -1.4766687191490893, -0.829216493997643, 2.0719915614687685, 0.598632674767342, 0.13311083910793248, -0.32805792901128833, 0.6355408144030831, 0.046021443643492484, 1.2005067852810665, 0.1586335546924041, -0.15157832821376174, -0.46904019426122073, 0.3682667349324615, 1.0455848008493762, 0.6853331966485996, -2.3955059365107045, -0.4746208167669859, -1.4442781106443496, -1.235846616259877, 0.7634956216937328, 0.36410298923273937, 0.2819504634022776, 0.6214448156567906, 0.5799914555970304, -0.6312564703999389, -0.39107502929744736, 1.3765104283778724, 0.1453355977174186, 0.4025782781105333, -1.0490846276753765, 0.08067141982119372, 0.042136280705729286, 0.9800814899045366, 0.09139322288024926, 0.5173223544429093, -0.4522899727238104, 1.0364086713401168, 1.4337379459739363, -0.3459998925737082, 0.6517389335619018, -0.7458190969260151, -1.3743874310232795, -1.2824336424269147, -0.4871339431225125, -1.725912694868446, 0.13081866800058184, -2.6935481159733787], \"yaxis\": \"y13\"}, {\"line\": {\"color\": \"rgba(128, 128, 128, 1.0)\", \"dash\": \"solid\", \"shape\": \"linear\", \"width\": 1.3}, \"marker\": {\"size\": 2, \"symbol\": \"circle\"}, \"mode\": \"markers\", \"name\": \"D\", \"text\": \"\", \"type\": \"scatter\", \"x\": [1.6078167885510994, 0.5152505787154171, -1.732949449951613, -0.036945780938364245, -1.3551933367335174, 0.5319072842514352, 1.0697347319830688, -0.6363260721476971, -0.20643662573362598, -1.7853998237979154, -0.43298489994161915, -0.8220605061383672, -1.0416535261667546, -0.4436110742323203, -0.8849717239394095, 0.82462023527033, -0.4511224528127728, -2.1521002255906314, 0.6885075559620766, 0.9619774031436268, -1.601282319516909, -1.0187221532576956, -0.37185922386743625, 0.6327713965426722, 0.6958040276700553, 0.29576441234029416, 0.1870375683798816, 0.21216307603497175, -0.46826979686342507, 0.5265808883122749, 1.655233754967969, 0.7847270184177594, -0.06524297551623097, -0.9050608073638097, -0.7568972725338796, 1.8504073752072894, -1.3319273680622228, 1.025323553637435, -1.1929053119674793, 0.37609355139190637, -0.6931871349019727, -0.26788738816063384, 0.6452730391434862, -0.6410794715938621, 0.33601850854039045, 1.062834980137413, -0.13797130277316041, -0.3472728358101834, -1.9295221797591842, 0.688887327408491, -1.0059879927275013, -0.050838321432649304, 2.810881273367778, 1.5703602950010316, 0.6688810634008149, -1.6495902709058397, 0.6370014643522423, -0.6926906557976084, -1.7365465452273703, -1.3391600076707793, -2.403423131134129, -1.8354091651813158, 0.6708773143428056, 0.879946117968798, 0.8808745167598088, 0.9741666663770794, -0.8874965115923111, -0.12403926065668726, 1.4859109330104527, 0.02280886808632988, -1.1667746795991663, -0.978686343644049, -1.4082136206191738, -1.2271331376969463, -1.2464437921438107, -0.4073132003975011, 1.3898802816681095, 0.9273059334446105, 0.39645412550268183, 0.3916040681168114, 1.7819762431059742, 2.7889896150765257, -0.010367608731995102, -0.8704789634274461, 2.2738070570513167, -0.723458871193624, -0.8191102049372018, 0.46412661059334726, 0.11437839854593614, 0.8480965711153516, -0.4528516451940342, 1.4002905273470163, -0.6214770108332643, 0.25299312347365505, -2.538120488901347, -0.7338163679908073, -0.8294853006575363, -0.7021157089248629, 1.258967519250579, -0.7460926635527159], \"xaxis\": \"x14\", \"y\": [-0.28253664986165766, -0.33904390394274625, -0.6047680721327735, 0.6319507291868012, 0.08021080511288874, -0.97896691342991, 0.4369547333665759, -0.7985562934630596, 0.32355756348101233, 0.17854988139187036, -0.39085134916630543, -1.5321370768705596, 0.5861424543076836, 2.715835390300358, -1.3640206736326035, 0.053510413565636135, 0.23066249339653072, -0.9000073817487739, 0.9819838235425686, -1.744346769757433, -1.476470196762409, 0.21746980135314714, -0.34197060462713014, 0.30613483379581946, 0.1580369293672214, 1.6409417618581168, -0.6236935701276197, -0.4991547268115103, 0.7647031685804507, -2.057966117769427, 0.07245698303131398, -1.997422627118517, -1.3578103866767408, -0.4588976279778724, -0.2454192395594232, 0.6101007402398854, -0.40256956678416195, -0.45482856969035035, 0.5081886564616441, -0.025645677346603758, 1.0873209343675125, -0.4837540231899125, -1.3658193840021244, 0.8709806074409643, 0.5227006631101526, 0.49932167167711755, -0.1584601394811962, -1.272619741579752, 0.08812063144630929, -2.4919502989164677, 0.4615886663651887, 1.5964300278251782, -0.2333403880597775, -1.4766687191490893, -0.829216493997643, 2.0719915614687685, 0.598632674767342, 0.13311083910793248, -0.32805792901128833, 0.6355408144030831, 0.046021443643492484, 1.2005067852810665, 0.1586335546924041, -0.15157832821376174, -0.46904019426122073, 0.3682667349324615, 1.0455848008493762, 0.6853331966485996, -2.3955059365107045, -0.4746208167669859, -1.4442781106443496, -1.235846616259877, 0.7634956216937328, 0.36410298923273937, 0.2819504634022776, 0.6214448156567906, 0.5799914555970304, -0.6312564703999389, -0.39107502929744736, 1.3765104283778724, 0.1453355977174186, 0.4025782781105333, -1.0490846276753765, 0.08067141982119372, 0.042136280705729286, 0.9800814899045366, 0.09139322288024926, 0.5173223544429093, -0.4522899727238104, 1.0364086713401168, 1.4337379459739363, -0.3459998925737082, 0.6517389335619018, -0.7458190969260151, -1.3743874310232795, -1.2824336424269147, -0.4871339431225125, -1.725912694868446, 0.13081866800058184, -2.6935481159733787], \"yaxis\": \"y14\"}, {\"line\": {\"color\": \"rgba(128, 128, 128, 1.0)\", \"dash\": \"solid\", \"shape\": \"linear\", \"width\": 1.3}, \"marker\": {\"size\": 2, \"symbol\": \"circle\"}, \"mode\": \"markers\", \"name\": \"D\", \"text\": \"\", \"type\": \"scatter\", \"x\": [-0.40893659238493957, 0.5284695897665097, -1.3499824366425284, 0.20947320867091684, 0.06313788697464681, 0.2240257478807152, 1.3084846093844364, -0.09769227025138068, 3.0269187001332876, -0.5550378168902134, 0.32298539684628774, -0.9811850106703884, 0.1877224155419993, -0.4476847275857444, -0.043444973539220784, -0.8568041222728902, 0.6678292272658113, -0.5541880396613528, 0.17231564672572366, -2.347037685253554, 1.7901696378077814, -0.13873703056336914, 1.3703117808680336, -1.09557404652743, -0.840483658635545, -0.0782207435962417, -2.4901813063590845, 0.7954577690986171, 0.7563678500304583, 0.8282810592239327, 1.3736171084097888, -0.23051949047893924, -0.7500511202208137, 0.4657791581196217, -0.694317760791448, 0.5323281945892034, 1.0744949799025156, -0.5757996261723936, 0.6175531749144147, -1.3308095173861523, -0.3041411470782431, -0.32321262916407295, 1.3451360503158794, -0.22258765641468636, 0.46276086443159536, 1.305473094444253, -1.2557224375752478, -0.10735439230579584, 0.15539669136081516, 0.2454287275781737, 0.709062744071629, -1.0189306817494845, -2.8313600195386575, -1.2898923383254388, -0.3335219739601589, -0.4645270990903758, -0.8103778869906966, 1.777486986773079, -1.3100053866097574, -0.0061975588456562435, -0.3169815636267048, 0.9884135602991152, -1.311183355018789, 1.3503314844721983, -1.176715892945502, 0.5248186280331063, 0.7445747839308063, 1.6061207522399603, 0.8945753050864336, -1.9802230667354683, 0.9670175266026474, -0.38313088682029106, 0.11504863104212563, 0.2578355137559848, -1.0821243444171453, -0.09448353023062106, 2.280294479006378, -0.17323267358745653, 1.576825520990779, -1.1218075790792321, 0.963955846773198, -0.534160103149209, -0.47914281610558834, -0.632605606970785, 1.6854458923256828, -0.7524602936912916, -0.1503760974022031, 0.32477971265012107, 0.8838810141917546, -0.4830171405408817, 0.4633496042189074, 0.6629779705259863, -1.3091493510560799, 0.4445862882224116, 1.476563650171718, 0.5203636349511526, -0.10072918007507821, 0.6815092069551677, -1.6553484152033242, -0.5437242883934308], \"xaxis\": \"x15\", \"y\": [-0.28253664986165766, -0.33904390394274625, -0.6047680721327735, 0.6319507291868012, 0.08021080511288874, -0.97896691342991, 0.4369547333665759, -0.7985562934630596, 0.32355756348101233, 0.17854988139187036, -0.39085134916630543, -1.5321370768705596, 0.5861424543076836, 2.715835390300358, -1.3640206736326035, 0.053510413565636135, 0.23066249339653072, -0.9000073817487739, 0.9819838235425686, -1.744346769757433, -1.476470196762409, 0.21746980135314714, -0.34197060462713014, 0.30613483379581946, 0.1580369293672214, 1.6409417618581168, -0.6236935701276197, -0.4991547268115103, 0.7647031685804507, -2.057966117769427, 0.07245698303131398, -1.997422627118517, -1.3578103866767408, -0.4588976279778724, -0.2454192395594232, 0.6101007402398854, -0.40256956678416195, -0.45482856969035035, 0.5081886564616441, -0.025645677346603758, 1.0873209343675125, -0.4837540231899125, -1.3658193840021244, 0.8709806074409643, 0.5227006631101526, 0.49932167167711755, -0.1584601394811962, -1.272619741579752, 0.08812063144630929, -2.4919502989164677, 0.4615886663651887, 1.5964300278251782, -0.2333403880597775, -1.4766687191490893, -0.829216493997643, 2.0719915614687685, 0.598632674767342, 0.13311083910793248, -0.32805792901128833, 0.6355408144030831, 0.046021443643492484, 1.2005067852810665, 0.1586335546924041, -0.15157832821376174, -0.46904019426122073, 0.3682667349324615, 1.0455848008493762, 0.6853331966485996, -2.3955059365107045, -0.4746208167669859, -1.4442781106443496, -1.235846616259877, 0.7634956216937328, 0.36410298923273937, 0.2819504634022776, 0.6214448156567906, 0.5799914555970304, -0.6312564703999389, -0.39107502929744736, 1.3765104283778724, 0.1453355977174186, 0.4025782781105333, -1.0490846276753765, 0.08067141982119372, 0.042136280705729286, 0.9800814899045366, 0.09139322288024926, 0.5173223544429093, -0.4522899727238104, 1.0364086713401168, 1.4337379459739363, -0.3459998925737082, 0.6517389335619018, -0.7458190969260151, -1.3743874310232795, -1.2824336424269147, -0.4871339431225125, -1.725912694868446, 0.13081866800058184, -2.6935481159733787], \"yaxis\": \"y15\"}, {\"histfunc\": \"count\", \"histnorm\": \"\", \"marker\": {\"color\": \"rgba(128, 0, 128, 1.0)\", \"line\": {\"color\": \"#4D5663\", \"width\": 1.3}}, \"name\": \"D\", \"nbinsx\": 10, \"opacity\": 0.8, \"orientation\": \"v\", \"type\": \"histogram\", \"x\": [-0.28253664986165766, -0.33904390394274625, -0.6047680721327735, 0.6319507291868012, 0.08021080511288874, -0.97896691342991, 0.4369547333665759, -0.7985562934630596, 0.32355756348101233, 0.17854988139187036, -0.39085134916630543, -1.5321370768705596, 0.5861424543076836, 2.715835390300358, -1.3640206736326035, 0.053510413565636135, 0.23066249339653072, -0.9000073817487739, 0.9819838235425686, -1.744346769757433, -1.476470196762409, 0.21746980135314714, -0.34197060462713014, 0.30613483379581946, 0.1580369293672214, 1.6409417618581168, -0.6236935701276197, -0.4991547268115103, 0.7647031685804507, -2.057966117769427, 0.07245698303131398, -1.997422627118517, -1.3578103866767408, -0.4588976279778724, -0.2454192395594232, 0.6101007402398854, -0.40256956678416195, -0.45482856969035035, 0.5081886564616441, -0.025645677346603758, 1.0873209343675125, -0.4837540231899125, -1.3658193840021244, 0.8709806074409643, 0.5227006631101526, 0.49932167167711755, -0.1584601394811962, -1.272619741579752, 0.08812063144630929, -2.4919502989164677, 0.4615886663651887, 1.5964300278251782, -0.2333403880597775, -1.4766687191490893, -0.829216493997643, 2.0719915614687685, 0.598632674767342, 0.13311083910793248, -0.32805792901128833, 0.6355408144030831, 0.046021443643492484, 1.2005067852810665, 0.1586335546924041, -0.15157832821376174, -0.46904019426122073, 0.3682667349324615, 1.0455848008493762, 0.6853331966485996, -2.3955059365107045, -0.4746208167669859, -1.4442781106443496, -1.235846616259877, 0.7634956216937328, 0.36410298923273937, 0.2819504634022776, 0.6214448156567906, 0.5799914555970304, -0.6312564703999389, -0.39107502929744736, 1.3765104283778724, 0.1453355977174186, 0.4025782781105333, -1.0490846276753765, 0.08067141982119372, 0.042136280705729286, 0.9800814899045366, 0.09139322288024926, 0.5173223544429093, -0.4522899727238104, 1.0364086713401168, 1.4337379459739363, -0.3459998925737082, 0.6517389335619018, -0.7458190969260151, -1.3743874310232795, -1.2824336424269147, -0.4871339431225125, -1.725912694868446, 0.13081866800058184, -2.6935481159733787], \"xaxis\": \"x16\", \"yaxis\": \"y16\"}],\n",
       "                        {\"bargap\": 0.02, \"legend\": {\"bgcolor\": \"#F5F6F9\", \"font\": {\"color\": \"#4D5663\"}}, \"paper_bgcolor\": \"#F5F6F9\", \"plot_bgcolor\": \"#F5F6F9\", \"showlegend\": false, \"template\": {\"data\": {\"bar\": [{\"error_x\": {\"color\": \"#2a3f5f\"}, \"error_y\": {\"color\": \"#2a3f5f\"}, \"marker\": {\"line\": {\"color\": \"#E5ECF6\", \"width\": 0.5}}, \"type\": \"bar\"}], \"barpolar\": [{\"marker\": {\"line\": {\"color\": \"#E5ECF6\", \"width\": 0.5}}, \"type\": \"barpolar\"}], \"carpet\": [{\"aaxis\": {\"endlinecolor\": \"#2a3f5f\", \"gridcolor\": \"white\", \"linecolor\": \"white\", \"minorgridcolor\": \"white\", \"startlinecolor\": \"#2a3f5f\"}, \"baxis\": {\"endlinecolor\": \"#2a3f5f\", \"gridcolor\": \"white\", \"linecolor\": \"white\", \"minorgridcolor\": \"white\", \"startlinecolor\": \"#2a3f5f\"}, \"type\": \"carpet\"}], \"choropleth\": [{\"colorbar\": {\"outlinewidth\": 0, \"ticks\": \"\"}, \"type\": \"choropleth\"}], \"contour\": [{\"colorbar\": {\"outlinewidth\": 0, \"ticks\": \"\"}, \"colorscale\": [[0.0, \"#0d0887\"], [0.1111111111111111, \"#46039f\"], [0.2222222222222222, \"#7201a8\"], [0.3333333333333333, \"#9c179e\"], [0.4444444444444444, \"#bd3786\"], [0.5555555555555556, \"#d8576b\"], [0.6666666666666666, \"#ed7953\"], [0.7777777777777778, \"#fb9f3a\"], [0.8888888888888888, \"#fdca26\"], [1.0, \"#f0f921\"]], \"type\": \"contour\"}], \"contourcarpet\": [{\"colorbar\": {\"outlinewidth\": 0, \"ticks\": \"\"}, \"type\": \"contourcarpet\"}], \"heatmap\": [{\"colorbar\": {\"outlinewidth\": 0, \"ticks\": \"\"}, \"colorscale\": [[0.0, \"#0d0887\"], [0.1111111111111111, \"#46039f\"], [0.2222222222222222, \"#7201a8\"], [0.3333333333333333, \"#9c179e\"], [0.4444444444444444, \"#bd3786\"], [0.5555555555555556, \"#d8576b\"], [0.6666666666666666, \"#ed7953\"], [0.7777777777777778, \"#fb9f3a\"], [0.8888888888888888, \"#fdca26\"], [1.0, \"#f0f921\"]], \"type\": \"heatmap\"}], \"heatmapgl\": [{\"colorbar\": {\"outlinewidth\": 0, \"ticks\": \"\"}, \"colorscale\": [[0.0, \"#0d0887\"], [0.1111111111111111, \"#46039f\"], [0.2222222222222222, \"#7201a8\"], [0.3333333333333333, \"#9c179e\"], [0.4444444444444444, \"#bd3786\"], [0.5555555555555556, \"#d8576b\"], [0.6666666666666666, \"#ed7953\"], [0.7777777777777778, \"#fb9f3a\"], [0.8888888888888888, \"#fdca26\"], [1.0, \"#f0f921\"]], \"type\": \"heatmapgl\"}], \"histogram\": [{\"marker\": {\"colorbar\": {\"outlinewidth\": 0, \"ticks\": \"\"}}, \"type\": \"histogram\"}], \"histogram2d\": [{\"colorbar\": {\"outlinewidth\": 0, \"ticks\": \"\"}, \"colorscale\": [[0.0, \"#0d0887\"], [0.1111111111111111, \"#46039f\"], [0.2222222222222222, \"#7201a8\"], [0.3333333333333333, \"#9c179e\"], [0.4444444444444444, \"#bd3786\"], [0.5555555555555556, \"#d8576b\"], [0.6666666666666666, \"#ed7953\"], [0.7777777777777778, \"#fb9f3a\"], [0.8888888888888888, \"#fdca26\"], [1.0, \"#f0f921\"]], \"type\": \"histogram2d\"}], \"histogram2dcontour\": [{\"colorbar\": {\"outlinewidth\": 0, \"ticks\": \"\"}, \"colorscale\": [[0.0, \"#0d0887\"], [0.1111111111111111, \"#46039f\"], [0.2222222222222222, \"#7201a8\"], [0.3333333333333333, \"#9c179e\"], [0.4444444444444444, \"#bd3786\"], [0.5555555555555556, \"#d8576b\"], [0.6666666666666666, \"#ed7953\"], [0.7777777777777778, \"#fb9f3a\"], [0.8888888888888888, \"#fdca26\"], [1.0, \"#f0f921\"]], \"type\": \"histogram2dcontour\"}], \"mesh3d\": [{\"colorbar\": {\"outlinewidth\": 0, \"ticks\": \"\"}, \"type\": \"mesh3d\"}], \"parcoords\": [{\"line\": {\"colorbar\": {\"outlinewidth\": 0, \"ticks\": \"\"}}, \"type\": \"parcoords\"}], \"pie\": [{\"automargin\": true, \"type\": \"pie\"}], \"scatter\": [{\"marker\": {\"colorbar\": {\"outlinewidth\": 0, \"ticks\": \"\"}}, \"type\": \"scatter\"}], \"scatter3d\": [{\"line\": {\"colorbar\": {\"outlinewidth\": 0, \"ticks\": \"\"}}, \"marker\": {\"colorbar\": {\"outlinewidth\": 0, \"ticks\": \"\"}}, \"type\": \"scatter3d\"}], \"scattercarpet\": [{\"marker\": {\"colorbar\": {\"outlinewidth\": 0, \"ticks\": \"\"}}, \"type\": \"scattercarpet\"}], \"scattergeo\": [{\"marker\": {\"colorbar\": {\"outlinewidth\": 0, \"ticks\": \"\"}}, \"type\": \"scattergeo\"}], \"scattergl\": [{\"marker\": {\"colorbar\": {\"outlinewidth\": 0, \"ticks\": \"\"}}, \"type\": \"scattergl\"}], \"scattermapbox\": [{\"marker\": {\"colorbar\": {\"outlinewidth\": 0, \"ticks\": \"\"}}, \"type\": \"scattermapbox\"}], \"scatterpolar\": [{\"marker\": {\"colorbar\": {\"outlinewidth\": 0, \"ticks\": \"\"}}, \"type\": \"scatterpolar\"}], \"scatterpolargl\": [{\"marker\": {\"colorbar\": {\"outlinewidth\": 0, \"ticks\": \"\"}}, \"type\": \"scatterpolargl\"}], \"scatterternary\": [{\"marker\": {\"colorbar\": {\"outlinewidth\": 0, \"ticks\": \"\"}}, \"type\": \"scatterternary\"}], \"surface\": [{\"colorbar\": {\"outlinewidth\": 0, \"ticks\": \"\"}, \"colorscale\": [[0.0, \"#0d0887\"], [0.1111111111111111, \"#46039f\"], [0.2222222222222222, \"#7201a8\"], [0.3333333333333333, \"#9c179e\"], [0.4444444444444444, \"#bd3786\"], [0.5555555555555556, \"#d8576b\"], [0.6666666666666666, \"#ed7953\"], [0.7777777777777778, \"#fb9f3a\"], [0.8888888888888888, \"#fdca26\"], [1.0, \"#f0f921\"]], \"type\": \"surface\"}], \"table\": [{\"cells\": {\"fill\": {\"color\": \"#EBF0F8\"}, \"line\": {\"color\": \"white\"}}, \"header\": {\"fill\": {\"color\": \"#C8D4E3\"}, \"line\": {\"color\": \"white\"}}, \"type\": \"table\"}]}, \"layout\": {\"annotationdefaults\": {\"arrowcolor\": \"#2a3f5f\", \"arrowhead\": 0, \"arrowwidth\": 1}, \"coloraxis\": {\"colorbar\": {\"outlinewidth\": 0, \"ticks\": \"\"}}, \"colorscale\": {\"diverging\": [[0, \"#8e0152\"], [0.1, \"#c51b7d\"], [0.2, \"#de77ae\"], [0.3, \"#f1b6da\"], [0.4, \"#fde0ef\"], [0.5, \"#f7f7f7\"], [0.6, \"#e6f5d0\"], [0.7, \"#b8e186\"], [0.8, \"#7fbc41\"], [0.9, \"#4d9221\"], [1, \"#276419\"]], \"sequential\": [[0.0, \"#0d0887\"], [0.1111111111111111, \"#46039f\"], [0.2222222222222222, \"#7201a8\"], [0.3333333333333333, \"#9c179e\"], [0.4444444444444444, \"#bd3786\"], [0.5555555555555556, \"#d8576b\"], [0.6666666666666666, \"#ed7953\"], [0.7777777777777778, \"#fb9f3a\"], [0.8888888888888888, \"#fdca26\"], [1.0, \"#f0f921\"]], \"sequentialminus\": [[0.0, \"#0d0887\"], [0.1111111111111111, \"#46039f\"], [0.2222222222222222, \"#7201a8\"], [0.3333333333333333, \"#9c179e\"], [0.4444444444444444, \"#bd3786\"], [0.5555555555555556, \"#d8576b\"], [0.6666666666666666, \"#ed7953\"], [0.7777777777777778, \"#fb9f3a\"], [0.8888888888888888, \"#fdca26\"], [1.0, \"#f0f921\"]]}, \"colorway\": [\"#636efa\", \"#EF553B\", \"#00cc96\", \"#ab63fa\", \"#FFA15A\", \"#19d3f3\", \"#FF6692\", \"#B6E880\", \"#FF97FF\", \"#FECB52\"], \"font\": {\"color\": \"#2a3f5f\"}, \"geo\": {\"bgcolor\": \"white\", \"lakecolor\": \"white\", \"landcolor\": \"#E5ECF6\", \"showlakes\": true, \"showland\": true, \"subunitcolor\": \"white\"}, \"hoverlabel\": {\"align\": \"left\"}, \"hovermode\": \"closest\", \"mapbox\": {\"style\": \"light\"}, \"paper_bgcolor\": \"white\", \"plot_bgcolor\": \"#E5ECF6\", \"polar\": {\"angularaxis\": {\"gridcolor\": \"white\", \"linecolor\": \"white\", \"ticks\": \"\"}, \"bgcolor\": \"#E5ECF6\", \"radialaxis\": {\"gridcolor\": \"white\", \"linecolor\": \"white\", \"ticks\": \"\"}}, \"scene\": {\"xaxis\": {\"backgroundcolor\": \"#E5ECF6\", \"gridcolor\": \"white\", \"gridwidth\": 2, \"linecolor\": \"white\", \"showbackground\": true, \"ticks\": \"\", \"zerolinecolor\": \"white\"}, \"yaxis\": {\"backgroundcolor\": \"#E5ECF6\", \"gridcolor\": \"white\", \"gridwidth\": 2, \"linecolor\": \"white\", \"showbackground\": true, \"ticks\": \"\", \"zerolinecolor\": \"white\"}, \"zaxis\": {\"backgroundcolor\": \"#E5ECF6\", \"gridcolor\": \"white\", \"gridwidth\": 2, \"linecolor\": \"white\", \"showbackground\": true, \"ticks\": \"\", \"zerolinecolor\": \"white\"}}, \"shapedefaults\": {\"line\": {\"color\": \"#2a3f5f\"}}, \"ternary\": {\"aaxis\": {\"gridcolor\": \"white\", \"linecolor\": \"white\", \"ticks\": \"\"}, \"baxis\": {\"gridcolor\": \"white\", \"linecolor\": \"white\", \"ticks\": \"\"}, \"bgcolor\": \"#E5ECF6\", \"caxis\": {\"gridcolor\": \"white\", \"linecolor\": \"white\", \"ticks\": \"\"}}, \"title\": {\"x\": 0.05}, \"xaxis\": {\"automargin\": true, \"gridcolor\": \"white\", \"linecolor\": \"white\", \"ticks\": \"\", \"title\": {\"standoff\": 15}, \"zerolinecolor\": \"white\", \"zerolinewidth\": 2}, \"yaxis\": {\"automargin\": true, \"gridcolor\": \"white\", \"linecolor\": \"white\", \"ticks\": \"\", \"title\": {\"standoff\": 15}, \"zerolinecolor\": \"white\", \"zerolinewidth\": 2}}}, \"title\": {\"font\": {\"color\": \"#4D5663\"}}, \"xaxis\": {\"anchor\": \"y\", \"domain\": [0.0, 0.2125], \"gridcolor\": \"#E1E5ED\", \"showgrid\": false, \"tickfont\": {\"color\": \"#4D5663\"}, \"title\": {\"font\": {\"color\": \"#4D5663\"}, \"text\": \"\"}, \"zerolinecolor\": \"#E1E5ED\"}, \"xaxis10\": {\"anchor\": \"y10\", \"domain\": [0.2625, 0.475], \"gridcolor\": \"#E1E5ED\", \"showgrid\": false, \"tickfont\": {\"color\": \"#4D5663\"}, \"title\": {\"font\": {\"color\": \"#4D5663\"}, \"text\": \"\"}, \"zerolinecolor\": \"#E1E5ED\"}, \"xaxis11\": {\"anchor\": \"y11\", \"domain\": [0.525, 0.7375], \"gridcolor\": \"#E1E5ED\", \"showgrid\": false, \"tickfont\": {\"color\": \"#4D5663\"}, \"title\": {\"font\": {\"color\": \"#4D5663\"}, \"text\": \"\"}, \"zerolinecolor\": \"#E1E5ED\"}, \"xaxis12\": {\"anchor\": \"y12\", \"domain\": [0.7875, 1.0], \"gridcolor\": \"#E1E5ED\", \"showgrid\": false, \"tickfont\": {\"color\": \"#4D5663\"}, \"title\": {\"font\": {\"color\": \"#4D5663\"}, \"text\": \"\"}, \"zerolinecolor\": \"#E1E5ED\"}, \"xaxis13\": {\"anchor\": \"y13\", \"domain\": [0.0, 0.2125], \"gridcolor\": \"#E1E5ED\", \"showgrid\": false, \"tickfont\": {\"color\": \"#4D5663\"}, \"title\": {\"font\": {\"color\": \"#4D5663\"}, \"text\": \"\"}, \"zerolinecolor\": \"#E1E5ED\"}, \"xaxis14\": {\"anchor\": \"y14\", \"domain\": [0.2625, 0.475], \"gridcolor\": \"#E1E5ED\", \"showgrid\": false, \"tickfont\": {\"color\": \"#4D5663\"}, \"title\": {\"font\": {\"color\": \"#4D5663\"}, \"text\": \"\"}, \"zerolinecolor\": \"#E1E5ED\"}, \"xaxis15\": {\"anchor\": \"y15\", \"domain\": [0.525, 0.7375], \"gridcolor\": \"#E1E5ED\", \"showgrid\": false, \"tickfont\": {\"color\": \"#4D5663\"}, \"title\": {\"font\": {\"color\": \"#4D5663\"}, \"text\": \"\"}, \"zerolinecolor\": \"#E1E5ED\"}, \"xaxis16\": {\"anchor\": \"y16\", \"domain\": [0.7875, 1.0], \"gridcolor\": \"#E1E5ED\", \"showgrid\": false, \"tickfont\": {\"color\": \"#4D5663\"}, \"title\": {\"font\": {\"color\": \"#4D5663\"}, \"text\": \"\"}, \"zerolinecolor\": \"#E1E5ED\"}, \"xaxis2\": {\"anchor\": \"y2\", \"domain\": [0.2625, 0.475], \"gridcolor\": \"#E1E5ED\", \"showgrid\": false, \"tickfont\": {\"color\": \"#4D5663\"}, \"title\": {\"font\": {\"color\": \"#4D5663\"}, \"text\": \"\"}, \"zerolinecolor\": \"#E1E5ED\"}, \"xaxis3\": {\"anchor\": \"y3\", \"domain\": [0.525, 0.7375], \"gridcolor\": \"#E1E5ED\", \"showgrid\": false, \"tickfont\": {\"color\": \"#4D5663\"}, \"title\": {\"font\": {\"color\": \"#4D5663\"}, \"text\": \"\"}, \"zerolinecolor\": \"#E1E5ED\"}, \"xaxis4\": {\"anchor\": \"y4\", \"domain\": [0.7875, 1.0], \"gridcolor\": \"#E1E5ED\", \"showgrid\": false, \"tickfont\": {\"color\": \"#4D5663\"}, \"title\": {\"font\": {\"color\": \"#4D5663\"}, \"text\": \"\"}, \"zerolinecolor\": \"#E1E5ED\"}, \"xaxis5\": {\"anchor\": \"y5\", \"domain\": [0.0, 0.2125], \"gridcolor\": \"#E1E5ED\", \"showgrid\": false, \"tickfont\": {\"color\": \"#4D5663\"}, \"title\": {\"font\": {\"color\": \"#4D5663\"}, \"text\": \"\"}, \"zerolinecolor\": \"#E1E5ED\"}, \"xaxis6\": {\"anchor\": \"y6\", \"domain\": [0.2625, 0.475], \"gridcolor\": \"#E1E5ED\", \"showgrid\": false, \"tickfont\": {\"color\": \"#4D5663\"}, \"title\": {\"font\": {\"color\": \"#4D5663\"}, \"text\": \"\"}, \"zerolinecolor\": \"#E1E5ED\"}, \"xaxis7\": {\"anchor\": \"y7\", \"domain\": [0.525, 0.7375], \"gridcolor\": \"#E1E5ED\", \"showgrid\": false, \"tickfont\": {\"color\": \"#4D5663\"}, \"title\": {\"font\": {\"color\": \"#4D5663\"}, \"text\": \"\"}, \"zerolinecolor\": \"#E1E5ED\"}, \"xaxis8\": {\"anchor\": \"y8\", \"domain\": [0.7875, 1.0], \"gridcolor\": \"#E1E5ED\", \"showgrid\": false, \"tickfont\": {\"color\": \"#4D5663\"}, \"title\": {\"font\": {\"color\": \"#4D5663\"}, \"text\": \"\"}, \"zerolinecolor\": \"#E1E5ED\"}, \"xaxis9\": {\"anchor\": \"y9\", \"domain\": [0.0, 0.2125], \"gridcolor\": \"#E1E5ED\", \"showgrid\": false, \"tickfont\": {\"color\": \"#4D5663\"}, \"title\": {\"font\": {\"color\": \"#4D5663\"}, \"text\": \"\"}, \"zerolinecolor\": \"#E1E5ED\"}, \"yaxis\": {\"anchor\": \"x\", \"domain\": [0.8025, 1.0], \"gridcolor\": \"#E1E5ED\", \"showgrid\": false, \"tickfont\": {\"color\": \"#4D5663\"}, \"title\": {\"font\": {\"color\": \"#4D5663\"}, \"text\": \"\"}, \"zerolinecolor\": \"#E1E5ED\"}, \"yaxis10\": {\"anchor\": \"x10\", \"domain\": [0.2675, 0.465], \"gridcolor\": \"#E1E5ED\", \"showgrid\": false, \"tickfont\": {\"color\": \"#4D5663\"}, \"title\": {\"font\": {\"color\": \"#4D5663\"}, \"text\": \"\"}, \"zerolinecolor\": \"#E1E5ED\"}, \"yaxis11\": {\"anchor\": \"x11\", \"domain\": [0.2675, 0.465], \"gridcolor\": \"#E1E5ED\", \"showgrid\": false, \"tickfont\": {\"color\": \"#4D5663\"}, \"title\": {\"font\": {\"color\": \"#4D5663\"}, \"text\": \"\"}, \"zerolinecolor\": \"#E1E5ED\"}, \"yaxis12\": {\"anchor\": \"x12\", \"domain\": [0.2675, 0.465], \"gridcolor\": \"#E1E5ED\", \"showgrid\": false, \"tickfont\": {\"color\": \"#4D5663\"}, \"title\": {\"font\": {\"color\": \"#4D5663\"}, \"text\": \"\"}, \"zerolinecolor\": \"#E1E5ED\"}, \"yaxis13\": {\"anchor\": \"x13\", \"domain\": [0.0, 0.1975], \"gridcolor\": \"#E1E5ED\", \"showgrid\": false, \"tickfont\": {\"color\": \"#4D5663\"}, \"title\": {\"font\": {\"color\": \"#4D5663\"}, \"text\": \"\"}, \"zerolinecolor\": \"#E1E5ED\"}, \"yaxis14\": {\"anchor\": \"x14\", \"domain\": [0.0, 0.1975], \"gridcolor\": \"#E1E5ED\", \"showgrid\": false, \"tickfont\": {\"color\": \"#4D5663\"}, \"title\": {\"font\": {\"color\": \"#4D5663\"}, \"text\": \"\"}, \"zerolinecolor\": \"#E1E5ED\"}, \"yaxis15\": {\"anchor\": \"x15\", \"domain\": [0.0, 0.1975], \"gridcolor\": \"#E1E5ED\", \"showgrid\": false, \"tickfont\": {\"color\": \"#4D5663\"}, \"title\": {\"font\": {\"color\": \"#4D5663\"}, \"text\": \"\"}, \"zerolinecolor\": \"#E1E5ED\"}, \"yaxis16\": {\"anchor\": \"x16\", \"domain\": [0.0, 0.1975], \"gridcolor\": \"#E1E5ED\", \"showgrid\": false, \"tickfont\": {\"color\": \"#4D5663\"}, \"title\": {\"font\": {\"color\": \"#4D5663\"}, \"text\": \"\"}, \"zerolinecolor\": \"#E1E5ED\"}, \"yaxis2\": {\"anchor\": \"x2\", \"domain\": [0.8025, 1.0], \"gridcolor\": \"#E1E5ED\", \"showgrid\": false, \"tickfont\": {\"color\": \"#4D5663\"}, \"title\": {\"font\": {\"color\": \"#4D5663\"}, \"text\": \"\"}, \"zerolinecolor\": \"#E1E5ED\"}, \"yaxis3\": {\"anchor\": \"x3\", \"domain\": [0.8025, 1.0], \"gridcolor\": \"#E1E5ED\", \"showgrid\": false, \"tickfont\": {\"color\": \"#4D5663\"}, \"title\": {\"font\": {\"color\": \"#4D5663\"}, \"text\": \"\"}, \"zerolinecolor\": \"#E1E5ED\"}, \"yaxis4\": {\"anchor\": \"x4\", \"domain\": [0.8025, 1.0], \"gridcolor\": \"#E1E5ED\", \"showgrid\": false, \"tickfont\": {\"color\": \"#4D5663\"}, \"title\": {\"font\": {\"color\": \"#4D5663\"}, \"text\": \"\"}, \"zerolinecolor\": \"#E1E5ED\"}, \"yaxis5\": {\"anchor\": \"x5\", \"domain\": [0.535, 0.7325], \"gridcolor\": \"#E1E5ED\", \"showgrid\": false, \"tickfont\": {\"color\": \"#4D5663\"}, \"title\": {\"font\": {\"color\": \"#4D5663\"}, \"text\": \"\"}, \"zerolinecolor\": \"#E1E5ED\"}, \"yaxis6\": {\"anchor\": \"x6\", \"domain\": [0.535, 0.7325], \"gridcolor\": \"#E1E5ED\", \"showgrid\": false, \"tickfont\": {\"color\": \"#4D5663\"}, \"title\": {\"font\": {\"color\": \"#4D5663\"}, \"text\": \"\"}, \"zerolinecolor\": \"#E1E5ED\"}, \"yaxis7\": {\"anchor\": \"x7\", \"domain\": [0.535, 0.7325], \"gridcolor\": \"#E1E5ED\", \"showgrid\": false, \"tickfont\": {\"color\": \"#4D5663\"}, \"title\": {\"font\": {\"color\": \"#4D5663\"}, \"text\": \"\"}, \"zerolinecolor\": \"#E1E5ED\"}, \"yaxis8\": {\"anchor\": \"x8\", \"domain\": [0.535, 0.7325], \"gridcolor\": \"#E1E5ED\", \"showgrid\": false, \"tickfont\": {\"color\": \"#4D5663\"}, \"title\": {\"font\": {\"color\": \"#4D5663\"}, \"text\": \"\"}, \"zerolinecolor\": \"#E1E5ED\"}, \"yaxis9\": {\"anchor\": \"x9\", \"domain\": [0.2675, 0.465], \"gridcolor\": \"#E1E5ED\", \"showgrid\": false, \"tickfont\": {\"color\": \"#4D5663\"}, \"title\": {\"font\": {\"color\": \"#4D5663\"}, \"text\": \"\"}, \"zerolinecolor\": \"#E1E5ED\"}},\n",
       "                        {\"showLink\": true, \"linkText\": \"Export to plot.ly\", \"plotlyServerURL\": \"https://plot.ly\", \"responsive\": true}\n",
       "                    ).then(function(){\n",
       "                            \n",
       "var gd = document.getElementById('161d124d-ff5e-4415-b04a-398a5cfafaf6');\n",
       "var x = new MutationObserver(function (mutations, observer) {{\n",
       "        var display = window.getComputedStyle(gd).display;\n",
       "        if (!display || display === 'none') {{\n",
       "            console.log([gd, 'removed!']);\n",
       "            Plotly.purge(gd);\n",
       "            observer.disconnect();\n",
       "        }}\n",
       "}});\n",
       "\n",
       "// Listen for the removal of the full notebook cells\n",
       "var notebookContainer = gd.closest('#notebook-container');\n",
       "if (notebookContainer) {{\n",
       "    x.observe(notebookContainer, {childList: true});\n",
       "}}\n",
       "\n",
       "// Listen for the clearing of the current output cell\n",
       "var outputEl = gd.closest('.output');\n",
       "if (outputEl) {{\n",
       "    x.observe(outputEl, {childList: true});\n",
       "}}\n",
       "\n",
       "                        })\n",
       "                };\n",
       "                });\n",
       "            </script>\n",
       "        </div>"
      ]
     },
     "metadata": {},
     "output_type": "display_data"
    }
   ],
   "source": [
    "df.scatter_matrix()\n",
    "# all columns shoud be numerical\n",
    "# not good for huge data"
   ]
  },
  {
   "cell_type": "code",
   "execution_count": null,
   "metadata": {},
   "outputs": [],
   "source": []
  }
 ],
 "metadata": {
  "kernelspec": {
   "display_name": "Python 3",
   "language": "python",
   "name": "python3"
  },
  "language_info": {
   "codemirror_mode": {
    "name": "ipython",
    "version": 3
   },
   "file_extension": ".py",
   "mimetype": "text/x-python",
   "name": "python",
   "nbconvert_exporter": "python",
   "pygments_lexer": "ipython3",
   "version": "3.7.6"
  }
 },
 "nbformat": 4,
 "nbformat_minor": 4
}
